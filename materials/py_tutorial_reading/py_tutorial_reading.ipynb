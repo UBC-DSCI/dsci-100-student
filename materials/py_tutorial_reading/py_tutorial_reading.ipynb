{
 "cells": [
  {
   "cell_type": "markdown",
   "metadata": {
    "deletable": false,
    "editable": false,
    "nbgrader": {
     "cell_type": "markdown",
     "checksum": "e97032569e9abc8e6d34eda5a68a793a",
     "grade": false,
     "grade_id": "cell-48e0878ab9822be7",
     "locked": true,
     "schema_version": 3,
     "solution": false,
     "task": false
    }
   },
   "source": [
    "# Tutorial 2: Introduction to Reading Data\n",
    "\n",
    "Lecture and Tutorial Learning Goals:\n",
    "\n",
    "After completing this week's lecture and tutorial work, you will be able to:\n",
    "\n",
    "- define the following:\n",
    "    - absolute file path\n",
    "    - relative file path\n",
    "    - url\n",
    "- read data into Python using a relative path and a url\n",
    "- compare and contrast the following functions:\n",
    "    - `read_csv`\n",
    "    - `read_table`\n",
    "    - `read_excel`\n",
    "- match the following `pandas` `read_*` function arguments to their descriptions:\n",
    "    - `filepath_or_buffer`\n",
    "    - `sep`\n",
    "    - `names`\n",
    "    - `skiprows`\n",
    "- choose the appropriate `pandas` `read_*` function and function arguments to load a given plain text tabular data set into Python\n",
    "- use `pandas` package's `read_excel` function and arguments to load a sheet from an excel file into Python\n",
    "- Connect to a database using the `ibis` library's `connect` function.\n",
    "- List the tables in a database using the `ibis` library's `list_tables` function\n",
    "- Create a reference to a database table using the `ibis` library's `table` function\n",
    "- Execute queries to bring data from a database into Python using the `ibis` library's `execute` function\n",
    "- Use `to_csv` to save a data frame to a `.csv` file\n",
    "\n",
    "- optional: scrape data from the web\n",
    "\n",
    "- read/scrape data from an internet URL using the `BeautifulSoup` package\n",
    "- compare downloading tabular data from a plain text file (e.g. *.csv) from the web versus scraping data from a .html file\n",
    "\n",
    "Any place you see `___`, you must fill in the function, variable, or data to complete the code. Substitute the `None` and the `raise NotImplementedError # No Answer - remove if you provide an answer` with your completed code and answers then proceed to run the cell!"
   ]
  },
  {
   "cell_type": "code",
   "execution_count": null,
   "metadata": {
    "deletable": false,
    "editable": false,
    "nbgrader": {
     "cell_type": "code",
     "checksum": "e88c9eb125b678d2a08b1ad28220a7d8",
     "grade": false,
     "grade_id": "cell-b44a86895fe6acc9",
     "locked": true,
     "schema_version": 3,
     "solution": false,
     "task": false
    }
   },
   "outputs": [],
   "source": [
    "### Run this cell before continuing.\n",
    "import os\n",
    "\n",
    "import altair as alt\n",
    "import pandas as pd\n",
    "\n",
    "alt.data_transformers.disable_max_rows()"
   ]
  },
  {
   "cell_type": "code",
   "execution_count": null,
   "metadata": {
    "deletable": false,
    "editable": false,
    "nbgrader": {
     "cell_type": "code",
     "checksum": "f4653d7fdabb977c24a5117f5ee5bba3",
     "grade": false,
     "grade_id": "cell-0406ddcc6e731bc3",
     "locked": true,
     "schema_version": 3,
     "solution": false,
     "task": false
    }
   },
   "outputs": [],
   "source": [
    "### Run this cell before continuing.\n",
    "try:\n",
    "    os.remove(\"data/WHR2018Chapter2OnlineData.xls\")\n",
    "except:\n",
    "    None"
   ]
  },
  {
   "cell_type": "code",
   "execution_count": null,
   "metadata": {
    "deletable": false,
    "editable": false,
    "nbgrader": {
     "cell_type": "code",
     "checksum": "e8911b1029b99417a4077c9f550a923b",
     "grade": false,
     "grade_id": "cell-c93721c514f08a58",
     "locked": true,
     "schema_version": 3,
     "solution": false,
     "task": false
    }
   },
   "outputs": [],
   "source": [
    "### Run this cell before continuing.\n",
    "try:\n",
    "    os.remove(\"data/project_data.csv\")\n",
    "except:\n",
    "    None"
   ]
  },
  {
   "cell_type": "markdown",
   "metadata": {
    "deletable": false,
    "editable": false,
    "nbgrader": {
     "cell_type": "markdown",
     "checksum": "9317ada328d291858a5c3e6137f64310",
     "grade": false,
     "grade_id": "cell-eb886aee74edfc54",
     "locked": true,
     "schema_version": 3,
     "solution": false,
     "task": false
    }
   },
   "source": [
    "## 1. Happiness Report\n",
    "As you might remember from `worksheet_02`, we practised loading data from the *Sustainable Development Solutions Network's* [World Happiness Report](http://worldhappiness.report/). That data was the output of their analysis that calculated each country's happiness score and how much each variable contributed to it. In this tutorial, we are going to look at the data at an earlier stage of the study - the aggregated/averaged values (per country and year) for many different social and health aspects that the researchers anticipated might contribute to happiness (Table2.1 from [this Excel spreadsheet](https://s3.amazonaws.com/happiness-report/2018/WHR2018Chapter2OnlineData.xls)).\n",
    "\n",
    "The goal for today is to produce a plot of 2017's positive affect scores against healthy life expectancy at birth, with healthy life expectancy at birth on the x-axis and positive affect on the y-axis. For this study, positive affect was defined as the average of three positive affect measures: happiness, laughter and enjoyment. We would also like to convert the **positive affect score** from a scale of 0 - 1 to a scale from 0 - 10.\n",
    "\n",
    "1. use `df[] notation` to subset the rows where the year is equal to 2017\n",
    "2. use `assign` to convert the \"Positive affect\" score from a scale of 0 - 1 to a scale from 0 - 10\n",
    "3. use `.loc[]` to choose the \"Healthy life expectancy at birth\" column and the scaled \"Positive affect\" column\n",
    "4. use `altair` to create our plot of \"Healthy life expectancy at birth\" (x - axis) and scaled \"Positive affect\" (y - axis)\n",
    "\n",
    "**Tips for success:** Try going through all of the steps on your own, but don't forget to discuss with others (classmates, TAs, or an instructor) if you get stuck. If something is wrong and you can't spot the issue, be sure to **read the error message carefully**. Since there are a lot of steps involved in working with data and modifying it, feel free to look back at `worksheet_02`. "
   ]
  },
  {
   "cell_type": "markdown",
   "metadata": {
    "deletable": false,
    "editable": false,
    "nbgrader": {
     "cell_type": "markdown",
     "checksum": "191ae5fe7e82e83b302dcb7389eaac06",
     "grade": false,
     "grade_id": "cell-eaa4671c9bc261f5",
     "locked": true,
     "schema_version": 3,
     "solution": false
    }
   },
   "source": [
    "**Question 1.1** Multiple Choice: \n",
    "<br> {points: 1}\n",
    "\n",
    "What is the maximum value for the \"Positive affect\" score (in the original data file that you read into Python)?\n",
    "\n",
    "A. 100\n",
    "\n",
    "B. 10 \n",
    "\n",
    "C. 1\n",
    "\n",
    "D. 0.1\n",
    "\n",
    "E. 5\n",
    "\n",
    "*Assign your answer to an object called `answer1_1`. Make sure your answer is an uppercase letter and is surrounded by quotation marks (e.g. `\"F\"`).*"
   ]
  },
  {
   "cell_type": "code",
   "execution_count": null,
   "metadata": {
    "deletable": false,
    "nbgrader": {
     "cell_type": "code",
     "checksum": "7ec0c09b840c23de9a45df32bbf354d6",
     "grade": false,
     "grade_id": "cell-e18dc09310ee7801",
     "locked": false,
     "schema_version": 3,
     "solution": true
    }
   },
   "outputs": [],
   "source": [
    "# your code here\n",
    "raise NotImplementedError"
   ]
  },
  {
   "cell_type": "code",
   "execution_count": null,
   "metadata": {
    "deletable": false,
    "editable": false,
    "max_height": 100,
    "nbgrader": {
     "cell_type": "code",
     "checksum": "884f55ab2987fc005de9a06b20952ab1",
     "grade": true,
     "grade_id": "cell-f1313c7d1348ac8c",
     "locked": true,
     "points": 1,
     "schema_version": 3,
     "solution": false
    }
   },
   "outputs": [],
   "source": [
    "from hashlib import sha1\n",
    "assert sha1(str(type(answer1_1)).encode(\"utf-8\")+b\"e2919caba502f631\").hexdigest() == \"92f45619163094cbd8fd3a2c1850385b3278be0f\", \"type of answer1_1 is not str. answer1_1 should be an str\"\n",
    "assert sha1(str(len(answer1_1)).encode(\"utf-8\")+b\"e2919caba502f631\").hexdigest() == \"d34c7a3abc11a6ba86221d8acf03edcded029521\", \"length of answer1_1 is not correct\"\n",
    "assert sha1(str(answer1_1.lower()).encode(\"utf-8\")+b\"e2919caba502f631\").hexdigest() == \"3897e1f5dad5292e7ae050eaa6fddb01cdaf76e0\", \"value of answer1_1 is not correct\"\n",
    "assert sha1(str(answer1_1).encode(\"utf-8\")+b\"e2919caba502f631\").hexdigest() == \"202a13ed122600dbd088b7293372989b52fbdcb8\", \"correct string value of answer1_1 but incorrect case of letters\"\n",
    "\n",
    "print('Success!')"
   ]
  },
  {
   "cell_type": "markdown",
   "metadata": {
    "deletable": false,
    "editable": false,
    "nbgrader": {
     "cell_type": "markdown",
     "checksum": "44a984a2673ac06aed672dcf772c7663",
     "grade": false,
     "grade_id": "cell-27175166f20aece1",
     "locked": true,
     "schema_version": 3,
     "solution": false
    }
   },
   "source": [
    "**Question 1.2** Multiple Choice: \n",
    "<br> {points: 1}\n",
    "\n",
    "Which column's values will be used to filter the data?\n",
    "\n",
    "A. `countries`\n",
    "\n",
    "B. `generosity`\n",
    "\n",
    "C. `positive affect`\n",
    "\n",
    "D. `year`\n",
    "\n",
    "*Assign your answer to an object called `answer1_2`. Make sure your answer is an uppercase letter and is surrounded by quotation marks (e.g. `\"F\"`).*"
   ]
  },
  {
   "cell_type": "code",
   "execution_count": null,
   "metadata": {
    "deletable": false,
    "nbgrader": {
     "cell_type": "code",
     "checksum": "36fd26b826d5e291db973a4d70dff2bc",
     "grade": false,
     "grade_id": "cell-16da567171536519",
     "locked": false,
     "schema_version": 3,
     "solution": true
    }
   },
   "outputs": [],
   "source": [
    "# your code here\n",
    "raise NotImplementedError"
   ]
  },
  {
   "cell_type": "code",
   "execution_count": null,
   "metadata": {
    "deletable": false,
    "editable": false,
    "max_height": 100,
    "nbgrader": {
     "cell_type": "code",
     "checksum": "553153c43b135603d112469670f847cd",
     "grade": true,
     "grade_id": "cell-8bd586d238ebce67",
     "locked": true,
     "points": 1,
     "schema_version": 3,
     "solution": false
    }
   },
   "outputs": [],
   "source": [
    "from hashlib import sha1\n",
    "assert sha1(str(type(answer1_2)).encode(\"utf-8\")+b\"768ed34d3e78e8da\").hexdigest() == \"9f015f22f051de59f4390b5367550b88b0a1ec6b\", \"type of answer1_2 is not str. answer1_2 should be an str\"\n",
    "assert sha1(str(len(answer1_2)).encode(\"utf-8\")+b\"768ed34d3e78e8da\").hexdigest() == \"de6d1e19c0ef7049d4c209ae79f45607ec0a98db\", \"length of answer1_2 is not correct\"\n",
    "assert sha1(str(answer1_2.lower()).encode(\"utf-8\")+b\"768ed34d3e78e8da\").hexdigest() == \"be937dcbb7cb7ee48f4aff73e8b289f3c0c5ba48\", \"value of answer1_2 is not correct\"\n",
    "assert sha1(str(answer1_2).encode(\"utf-8\")+b\"768ed34d3e78e8da\").hexdigest() == \"6a9ada1a3a4320382074467c02abd78be67b1aae\", \"correct string value of answer1_2 but incorrect case of letters\"\n",
    "\n",
    "print('Success!')"
   ]
  },
  {
   "cell_type": "markdown",
   "metadata": {
    "deletable": false,
    "editable": false,
    "nbgrader": {
     "cell_type": "markdown",
     "checksum": "6c004e02fe72b6454e34820c62139763",
     "grade": false,
     "grade_id": "cell-c9e29373e8731516",
     "locked": true,
     "schema_version": 3,
     "solution": false
    }
   },
   "source": [
    "**Question 1.3.0**\n",
    "<br> {points: 1}\n",
    "\n",
    "Use the appropriate `.read_*` function to read in the `WHR2018Chapter2OnlineData` (look in the `tutorial_02` directory to ensure you use the correct relative path to read it in).\n",
    "\n",
    "_Assign the data frame to an object called `happy_df_csv`._"
   ]
  },
  {
   "cell_type": "code",
   "execution_count": null,
   "metadata": {
    "deletable": false,
    "nbgrader": {
     "cell_type": "code",
     "checksum": "039f41defc5ad4a41865af6c4f841c0f",
     "grade": false,
     "grade_id": "cell-be35369b600c489e",
     "locked": false,
     "schema_version": 3,
     "solution": true
    },
    "tags": []
   },
   "outputs": [],
   "source": [
    "# your code here\n",
    "raise NotImplementedError\n",
    "happy_df_csv"
   ]
  },
  {
   "cell_type": "code",
   "execution_count": null,
   "metadata": {
    "deletable": false,
    "editable": false,
    "max_height": 100,
    "nbgrader": {
     "cell_type": "code",
     "checksum": "5ffe31d18176dd7ee0b225d4a525d1a9",
     "grade": true,
     "grade_id": "cell-41eb2114195d336c",
     "locked": true,
     "points": 1,
     "schema_version": 3,
     "solution": false
    }
   },
   "outputs": [],
   "source": [
    "from hashlib import sha1\n",
    "assert sha1(str(type(happy_df_csv)).encode(\"utf-8\")+b\"3f1c75b83be3849c\").hexdigest() == \"31846788224f7d84dd0ca4a5e12b2b8fc2e2a898\", \"type of type(happy_df_csv) is not correct\"\n",
    "\n",
    "assert sha1(str(type(happy_df_csv.shape)).encode(\"utf-8\")+b\"203e48a12355cdde\").hexdigest() == \"e6a86c369912e14d0f9e7e56649701c1f48c7bd1\", \"type of happy_df_csv.shape is not tuple. happy_df_csv.shape should be a tuple\"\n",
    "assert sha1(str(len(happy_df_csv.shape)).encode(\"utf-8\")+b\"203e48a12355cdde\").hexdigest() == \"9444bc3e095a94af66d95e915a2408065a2c309d\", \"length of happy_df_csv.shape is not correct\"\n",
    "assert sha1(str(sorted(map(str, happy_df_csv.shape))).encode(\"utf-8\")+b\"203e48a12355cdde\").hexdigest() == \"90daae2e5ef704fc3f820227011f8cff1360f64b\", \"values of happy_df_csv.shape are not correct\"\n",
    "assert sha1(str(happy_df_csv.shape).encode(\"utf-8\")+b\"203e48a12355cdde\").hexdigest() == \"f82f0382de46157b9fc02156eb3b676cb2373049\", \"order of elements of happy_df_csv.shape is not correct\"\n",
    "\n",
    "assert sha1(str(type(sum(happy_df_csv.year))).encode(\"utf-8\")+b\"2116617d8d40d324\").hexdigest() == \"3a35edbec9ad97f458fe50562a82e3cd3815398a\", \"type of sum(happy_df_csv.year) is not int. Please make sure it is int and not np.int64, etc. You can cast your value into an int using int()\"\n",
    "assert sha1(str(sum(happy_df_csv.year)).encode(\"utf-8\")+b\"2116617d8d40d324\").hexdigest() == \"a6661d68f8bb0a36ac7ae7bc2b49337cdcfd9f49\", \"value of sum(happy_df_csv.year) is not correct\"\n",
    "\n",
    "print('Success!')"
   ]
  },
  {
   "cell_type": "markdown",
   "metadata": {
    "deletable": false,
    "editable": false,
    "nbgrader": {
     "cell_type": "markdown",
     "checksum": "b63c156b38889456e9881d1d85987931",
     "grade": false,
     "grade_id": "cell-ca7dbd5d07447573",
     "locked": true,
     "schema_version": 3,
     "solution": false
    }
   },
   "source": [
    "**Question 1.3.1**\n",
    "<br> {points: 1}\n",
    "\n",
    "Above, you loaded the data from a file we already downloaded and converted to a `.csv` for you. But you can also use the same function to directly load in Excel files into Python. Given that the data we loaded above (`WHR2018Chapter2OnlineData.csv`) was originally sourced from an Excel file on the web, let's now directly read that Excel file into Python using the `read_excel` function from `pandas` package. This Excel file has multiple sheets, the data we want is on the first one.\n",
    "\n",
    "To answer the question, fill in the blanks in the code below. If you are unsure, try reading the documentation for the new functions and ask others for help!\n",
    "\n",
    "Assign the data into an object called `happy_df`."
   ]
  },
  {
   "cell_type": "code",
   "execution_count": null,
   "metadata": {
    "deletable": false,
    "nbgrader": {
     "cell_type": "code",
     "checksum": "90fa745dd4d3a1187d938942ba8c5df8",
     "grade": false,
     "grade_id": "cell-a8a3d64de1b87550",
     "locked": false,
     "schema_version": 3,
     "solution": true
    },
    "tags": []
   },
   "outputs": [],
   "source": [
    "url = \"https://s3.amazonaws.com/happiness-report/2018/WHR2018Chapter2OnlineData.xls\"\n",
    "\n",
    "# ___ = pd.read_excel(___, sheet_name = ___)\n",
    "\n",
    "# your code here\n",
    "raise NotImplementedError\n",
    "happy_df"
   ]
  },
  {
   "cell_type": "code",
   "execution_count": null,
   "metadata": {
    "deletable": false,
    "editable": false,
    "max_height": 100,
    "nbgrader": {
     "cell_type": "code",
     "checksum": "78c2b1c965e9ee203382ba3c8d019c43",
     "grade": true,
     "grade_id": "cell-476734f8979f1d94",
     "locked": true,
     "points": 1,
     "schema_version": 3,
     "solution": false
    }
   },
   "outputs": [],
   "source": [
    "from hashlib import sha1\n",
    "assert sha1(str(type(happy_df)).encode(\"utf-8\")+b\"6ff5a0377c037c70\").hexdigest() == \"fec2bbf32b449e7598ae93cc4bfdcfa20ea5edb5\", \"type of type(happy_df) is not correct\"\n",
    "\n",
    "assert sha1(str(type(happy_df.shape)).encode(\"utf-8\")+b\"89a1efd0052fc0bd\").hexdigest() == \"23eef68a73da88c4f55515332dd46894fba5e273\", \"type of happy_df.shape is not tuple. happy_df.shape should be a tuple\"\n",
    "assert sha1(str(len(happy_df.shape)).encode(\"utf-8\")+b\"89a1efd0052fc0bd\").hexdigest() == \"ecf46487403f4ac8582708f69cc03a1290ab8f35\", \"length of happy_df.shape is not correct\"\n",
    "assert sha1(str(sorted(map(str, happy_df.shape))).encode(\"utf-8\")+b\"89a1efd0052fc0bd\").hexdigest() == \"38066562911f4c70a520a83edf401e56010fe3b2\", \"values of happy_df.shape are not correct\"\n",
    "assert sha1(str(happy_df.shape).encode(\"utf-8\")+b\"89a1efd0052fc0bd\").hexdigest() == \"49309b455c95fd8e8ca35780387ef6e1fb30cd51\", \"order of elements of happy_df.shape is not correct\"\n",
    "\n",
    "assert sha1(str(type(sum(happy_df.year))).encode(\"utf-8\")+b\"46ec628beb065fc4\").hexdigest() == \"b4dd04d79a3bdf99213e5b8bbdf398f50376ca46\", \"type of sum(happy_df.year) is not int. Please make sure it is int and not np.int64, etc. You can cast your value into an int using int()\"\n",
    "assert sha1(str(sum(happy_df.year)).encode(\"utf-8\")+b\"46ec628beb065fc4\").hexdigest() == \"4326a763388e2e63974598f9ce622cb739e45c32\", \"value of sum(happy_df.year) is not correct\"\n",
    "\n",
    "print('Success!')"
   ]
  },
  {
   "cell_type": "markdown",
   "metadata": {
    "deletable": false,
    "editable": false,
    "nbgrader": {
     "cell_type": "markdown",
     "checksum": "63879577bfcb33c4f064fe3dc2c7c24f",
     "grade": false,
     "grade_id": "cell-dd53d9426f770204",
     "locked": true,
     "schema_version": 3,
     "solution": false,
     "task": false
    }
   },
   "source": [
    "Look at the column names - they contain spaces!!! This is not a best practice for column names. Run the cell below to replace all the spaces with a `_`. The `columns` method is also needed to access the data frame's column names.\n",
    "\n",
    "*Note: Since every column name is a string, we could directly call the `replace` method on each column names. "
   ]
  },
  {
   "cell_type": "code",
   "execution_count": null,
   "metadata": {
    "deletable": false,
    "nbgrader": {
     "cell_type": "code",
     "checksum": "ee4f50dd10e71769eb4c2e2bab9a9808",
     "grade": false,
     "grade_id": "cell-9c32e67162641321",
     "locked": false,
     "schema_version": 3,
     "solution": true,
     "task": false
    }
   },
   "outputs": [],
   "source": [
    "# your code here\n",
    "raise NotImplementedError"
   ]
  },
  {
   "cell_type": "markdown",
   "metadata": {
    "deletable": false,
    "editable": false,
    "nbgrader": {
     "cell_type": "markdown",
     "checksum": "333b4bcb48e74b1932f0c96b9805a548",
     "grade": false,
     "grade_id": "cell-49c7adc814e9dd9e",
     "locked": true,
     "schema_version": 3,
     "solution": false
    }
   },
   "source": [
    "**Question 1.3.2**\n",
    "<br> {points: 1}\n",
    "\n",
    "Using the scaffolding given in the cell below, apply `[]`, `assign`, and `[]` (again!) to the `happy_df` data frame as needed to get it ready to create our desired scatterplot. Recall that we wanted to rescale the \"Positive affect\" scores so that they fall in the range 0-10 instead of 0-1. Call the new, re-scaled column `Positive_affect_scaled`.\n",
    "\n",
    "_Assign the data frame containing only the columns we need to create our plot to an object called `reduced_happy_df`._"
   ]
  },
  {
   "cell_type": "code",
   "execution_count": null,
   "metadata": {
    "deletable": false,
    "nbgrader": {
     "cell_type": "code",
     "checksum": "d076529ba577bfd89b322928a402a3bf",
     "grade": false,
     "grade_id": "cell-726859a91d715048",
     "locked": false,
     "schema_version": 3,
     "solution": true
    }
   },
   "outputs": [],
   "source": [
    "# happy_step1 = ___[___['year'] == ___]\n",
    "# happy_step2 = happy_step1.assign(Positive_affect_scaled = ___)\n",
    "# reduced_happy_df = happy_step2[[___, ___]]\n",
    "\n",
    "# your code here\n",
    "raise NotImplementedError\n",
    "reduced_happy_df"
   ]
  },
  {
   "cell_type": "code",
   "execution_count": null,
   "metadata": {
    "deletable": false,
    "editable": false,
    "max_height": 100,
    "nbgrader": {
     "cell_type": "code",
     "checksum": "c55ff4f7b90b7fe3c73632d533260423",
     "grade": true,
     "grade_id": "cell-dec4163f6664b7f2",
     "locked": true,
     "points": 1,
     "schema_version": 3,
     "solution": false
    }
   },
   "outputs": [],
   "source": [
    "from hashlib import sha1\n",
    "assert sha1(str(type(happy_step1 is None)).encode(\"utf-8\")+b\"34d7e0cb3d0f9538\").hexdigest() == \"4ce9b499c3f5c3fbcac3e4888dc195b515d3c626\", \"type of happy_step1 is None is not bool. happy_step1 is None should be a bool\"\n",
    "assert sha1(str(happy_step1 is None).encode(\"utf-8\")+b\"34d7e0cb3d0f9538\").hexdigest() == \"cce897cf61f823dbb83e291324168e0d8e51cfc2\", \"boolean value of happy_step1 is None is not correct\"\n",
    "\n",
    "assert sha1(str(type(happy_step2 is None)).encode(\"utf-8\")+b\"ce19cd629722fe20\").hexdigest() == \"72dfcb3e2a2ac6ac105c4528b70ec452987c1701\", \"type of happy_step2 is None is not bool. happy_step2 is None should be a bool\"\n",
    "assert sha1(str(happy_step2 is None).encode(\"utf-8\")+b\"ce19cd629722fe20\").hexdigest() == \"adaa563eb63c9fcdb0f6eef837b763a3bcb795d3\", \"boolean value of happy_step2 is None is not correct\"\n",
    "\n",
    "assert sha1(str(type(reduced_happy_df is None)).encode(\"utf-8\")+b\"89c4c9ec1bb60c86\").hexdigest() == \"be3a420336502eaf86610eb867497132c954df59\", \"type of reduced_happy_df is None is not bool. reduced_happy_df is None should be a bool\"\n",
    "assert sha1(str(reduced_happy_df is None).encode(\"utf-8\")+b\"89c4c9ec1bb60c86\").hexdigest() == \"be1032f14b6ffc6e008b721803140f57e87f8b4d\", \"boolean value of reduced_happy_df is None is not correct\"\n",
    "\n",
    "assert sha1(str(type(reduced_happy_df.shape)).encode(\"utf-8\")+b\"271f24a60cfe2b73\").hexdigest() == \"b0fdfd9a2ea5e7d46bf1dbd78325882afd1f50d0\", \"type of reduced_happy_df.shape is not tuple. reduced_happy_df.shape should be a tuple\"\n",
    "assert sha1(str(len(reduced_happy_df.shape)).encode(\"utf-8\")+b\"271f24a60cfe2b73\").hexdigest() == \"3a49b8e914162d8825ad5b7a7831506aaa6fdcf9\", \"length of reduced_happy_df.shape is not correct\"\n",
    "assert sha1(str(sorted(map(str, reduced_happy_df.shape))).encode(\"utf-8\")+b\"271f24a60cfe2b73\").hexdigest() == \"7a796c3365386e8d98c76008f57fb76edc3372e8\", \"values of reduced_happy_df.shape are not correct\"\n",
    "assert sha1(str(reduced_happy_df.shape).encode(\"utf-8\")+b\"271f24a60cfe2b73\").hexdigest() == \"6bcb74a183763589ebff459b61fdff6d052e8980\", \"order of elements of reduced_happy_df.shape is not correct\"\n",
    "\n",
    "assert sha1(str(type(happy_step1.year.unique())).encode(\"utf-8\")+b\"5a7e61abadc131e7\").hexdigest() == \"77888d92e226793da879205c237bc2692fbdf4b5\", \"type of happy_step1.year.unique() is not correct\"\n",
    "assert sha1(str(happy_step1.year.unique()).encode(\"utf-8\")+b\"5a7e61abadc131e7\").hexdigest() == \"78c8f74899bb8fe879d69338495c5e8d63adf841\", \"value of happy_step1.year.unique() is not correct\"\n",
    "\n",
    "assert sha1(str(type(sum(reduced_happy_df.Positive_affect_scaled.dropna()))).encode(\"utf-8\")+b\"f1b79e0174309dab\").hexdigest() == \"d1be644751ba76727ba2f000c7b3bf4611716d90\", \"type of sum(reduced_happy_df.Positive_affect_scaled.dropna()) is not float. Please make sure it is float and not np.float64, etc. You can cast your value into a float using float()\"\n",
    "assert sha1(str(round(sum(reduced_happy_df.Positive_affect_scaled.dropna()), 2)).encode(\"utf-8\")+b\"f1b79e0174309dab\").hexdigest() == \"08b438a5e5d01a1e353f47dfd799d28fddf6643d\", \"value of sum(reduced_happy_df.Positive_affect_scaled.dropna()) is not correct (rounded to 2 decimal places)\"\n",
    "\n",
    "assert sha1(str(type(sum(reduced_happy_df.Healthy_life_expectancy_at_birth.dropna()))).encode(\"utf-8\")+b\"f576e9bcd276fe43\").hexdigest() == \"5772dccc6f94c36e33547bcc8db02e7f06d2863c\", \"type of sum(reduced_happy_df.Healthy_life_expectancy_at_birth.dropna()) is not float. Please make sure it is float and not np.float64, etc. You can cast your value into a float using float()\"\n",
    "assert sha1(str(round(sum(reduced_happy_df.Healthy_life_expectancy_at_birth.dropna()), 2)).encode(\"utf-8\")+b\"f576e9bcd276fe43\").hexdigest() == \"38d43d4e03a0815fcc5fa54873628d2c965b6b5e\", \"value of sum(reduced_happy_df.Healthy_life_expectancy_at_birth.dropna()) is not correct (rounded to 2 decimal places)\"\n",
    "\n",
    "print('Success!')"
   ]
  },
  {
   "cell_type": "markdown",
   "metadata": {
    "deletable": false,
    "editable": false,
    "nbgrader": {
     "cell_type": "markdown",
     "checksum": "39b14779dd9b82d458373c4529f2835d",
     "grade": false,
     "grade_id": "cell-b10df2cccd63b024",
     "locked": true,
     "schema_version": 3,
     "solution": false
    }
   },
   "source": [
    "**Question 1.4** \n",
    "<br> {points: 1}\n",
    "\n",
    "Using the modified data set, `reduced_happy_df`, generate the scatterplot described above and make sure to label the axes in proper written English. `scale=alt.Scale(zero=False)` is included in the code so that the plot doesn't have to start with 0. \n",
    "\n",
    "_Assign your plot to an object called `happy_plot`._"
   ]
  },
  {
   "cell_type": "code",
   "execution_count": null,
   "metadata": {
    "deletable": false,
    "nbgrader": {
     "cell_type": "code",
     "checksum": "c3c6532dd818089db23403426b84425b",
     "grade": false,
     "grade_id": "cell-09cd90fd47b394d3",
     "locked": false,
     "schema_version": 3,
     "solution": true
    }
   },
   "outputs": [],
   "source": [
    "# ___ = alt.Chart(reduced_happy_df).___().encode(\n",
    "#     x=alt.X(___, title=___, scale=alt.Scale(zero=False)),\n",
    "#     y=alt.Y(___, title\"Positive affect score (out of ___)\", scale=alt.Scale(zero=False)\n",
    "# )\n",
    "\n",
    "# your code here\n",
    "raise NotImplementedError\n",
    "happy_plot"
   ]
  },
  {
   "cell_type": "code",
   "execution_count": null,
   "metadata": {
    "deletable": false,
    "editable": false,
    "max_height": 100,
    "nbgrader": {
     "cell_type": "code",
     "checksum": "69aa042f651990c7570d8e2d67b47c8f",
     "grade": true,
     "grade_id": "cell-cc81148d52ca3d36",
     "locked": true,
     "points": 1,
     "schema_version": 3,
     "solution": false
    }
   },
   "outputs": [],
   "source": [
    "from hashlib import sha1\n",
    "assert sha1(str(type(happy_plot.encoding.x.field)).encode(\"utf-8\")+b\"57d79c4270806846\").hexdigest() == \"73bf08068fac9f60dcf62804f9549364a2080008\", \"type of happy_plot.encoding.x.field is not str. happy_plot.encoding.x.field should be an str\"\n",
    "assert sha1(str(len(happy_plot.encoding.x.field)).encode(\"utf-8\")+b\"57d79c4270806846\").hexdigest() == \"e79e4e63bf0d416681b04468f7b9981d4c9b9ed4\", \"length of happy_plot.encoding.x.field is not correct\"\n",
    "assert sha1(str(happy_plot.encoding.x.field.lower()).encode(\"utf-8\")+b\"57d79c4270806846\").hexdigest() == \"408787912f9fb06d6d85b121b0e88c50fca210d5\", \"value of happy_plot.encoding.x.field is not correct\"\n",
    "assert sha1(str(happy_plot.encoding.x.field).encode(\"utf-8\")+b\"57d79c4270806846\").hexdigest() == \"320d65feaba2e23e070596272364d1bbefafff75\", \"correct string value of happy_plot.encoding.x.field but incorrect case of letters\"\n",
    "\n",
    "assert sha1(str(type(happy_plot.encoding.y.field)).encode(\"utf-8\")+b\"338bd2ac21ad0664\").hexdigest() == \"89bebbd4fdb995002a3b6f45d047e18113ca83c5\", \"type of happy_plot.encoding.y.field is not str. happy_plot.encoding.y.field should be an str\"\n",
    "assert sha1(str(len(happy_plot.encoding.y.field)).encode(\"utf-8\")+b\"338bd2ac21ad0664\").hexdigest() == \"abd68815bd4011786eb1da5f39032533eb689acd\", \"length of happy_plot.encoding.y.field is not correct\"\n",
    "assert sha1(str(happy_plot.encoding.y.field.lower()).encode(\"utf-8\")+b\"338bd2ac21ad0664\").hexdigest() == \"1012abd037fcc689940b973e270c6dc2c2490938\", \"value of happy_plot.encoding.y.field is not correct\"\n",
    "assert sha1(str(happy_plot.encoding.y.field).encode(\"utf-8\")+b\"338bd2ac21ad0664\").hexdigest() == \"281b7dbf164b71c893f066dc486dc91bcf10d23a\", \"correct string value of happy_plot.encoding.y.field but incorrect case of letters\"\n",
    "\n",
    "assert sha1(str(type(happy_plot.mark)).encode(\"utf-8\")+b\"9b00661dc7ef84f5\").hexdigest() == \"d0a699d6b00934bf5d727cb616f18e370b7da066\", \"type of happy_plot.mark is not str. happy_plot.mark should be an str\"\n",
    "assert sha1(str(len(happy_plot.mark)).encode(\"utf-8\")+b\"9b00661dc7ef84f5\").hexdigest() == \"1071299eabe5e2725f43175269945af49b43ad4a\", \"length of happy_plot.mark is not correct\"\n",
    "assert sha1(str(happy_plot.mark.lower()).encode(\"utf-8\")+b\"9b00661dc7ef84f5\").hexdigest() == \"48ce21aa5811d082f06c3fcd0299931753e27f82\", \"value of happy_plot.mark is not correct\"\n",
    "assert sha1(str(happy_plot.mark).encode(\"utf-8\")+b\"9b00661dc7ef84f5\").hexdigest() == \"48ce21aa5811d082f06c3fcd0299931753e27f82\", \"correct string value of happy_plot.mark but incorrect case of letters\"\n",
    "\n",
    "assert sha1(str(type(happy_plot.encoding.x.title != \"Healthy_life_expectancy_at_birth\")).encode(\"utf-8\")+b\"32d109c7070d1e8e\").hexdigest() == \"80fe53966c7ea57549a03084cf4c89a3e2766d43\", \"type of happy_plot.encoding.x.title != \\\"Healthy_life_expectancy_at_birth\\\" is not bool. happy_plot.encoding.x.title != \\\"Healthy_life_expectancy_at_birth\\\" should be a bool\"\n",
    "assert sha1(str(happy_plot.encoding.x.title != \"Healthy_life_expectancy_at_birth\").encode(\"utf-8\")+b\"32d109c7070d1e8e\").hexdigest() == \"e3408e7d22b91f006f88a1303d9d450ac81bb089\", \"boolean value of happy_plot.encoding.x.title != \\\"Healthy_life_expectancy_at_birth\\\" is not correct\"\n",
    "\n",
    "assert sha1(str(type(happy_plot.encoding.y.title != \"Positive_affect_scaled\")).encode(\"utf-8\")+b\"704d0c62cf7b57e2\").hexdigest() == \"d03e331486d5ebf3b96b4418e23822a06237dc6b\", \"type of happy_plot.encoding.y.title != \\\"Positive_affect_scaled\\\" is not bool. happy_plot.encoding.y.title != \\\"Positive_affect_scaled\\\" should be a bool\"\n",
    "assert sha1(str(happy_plot.encoding.y.title != \"Positive_affect_scaled\").encode(\"utf-8\")+b\"704d0c62cf7b57e2\").hexdigest() == \"1c2b9417b7105944815fc86c780e63e7418e4e66\", \"boolean value of happy_plot.encoding.y.title != \\\"Positive_affect_scaled\\\" is not correct\"\n",
    "\n",
    "print('Success!')"
   ]
  },
  {
   "cell_type": "markdown",
   "metadata": {
    "deletable": false,
    "editable": false,
    "nbgrader": {
     "cell_type": "markdown",
     "checksum": "70ab42c2c3aed4c1653f46ee472ce320",
     "grade": false,
     "grade_id": "cell-74a8b29302c03111",
     "locked": true,
     "schema_version": 3,
     "solution": false
    }
   },
   "source": [
    "**Question 1.5** \n",
    "<br> {points: 3}\n",
    "\n",
    "In one sentence or two, describe what you see in the scatterplot above. Does there appear to be a relationship between life expectancy at birth and postive affect? If so, describe it."
   ]
  },
  {
   "cell_type": "markdown",
   "metadata": {
    "deletable": false,
    "max_height": 100,
    "nbgrader": {
     "cell_type": "markdown",
     "checksum": "ab65b7b60380bfb3a1917802ab42c04a",
     "grade": true,
     "grade_id": "cell-454d6ac241520540",
     "locked": false,
     "points": 3,
     "schema_version": 3,
     "solution": true
    }
   },
   "source": [
    "DOUBLE CLICK TO EDIT **THIS CELL** AND REPLACE THIS TEXT WITH YOUR ANSWER."
   ]
  },
  {
   "cell_type": "markdown",
   "metadata": {
    "deletable": false,
    "editable": false,
    "nbgrader": {
     "cell_type": "markdown",
     "checksum": "e87296bbb0fc9254dd0e0cd9928afa5d",
     "grade": false,
     "grade_id": "cell-f2bcf671c8edd2bf",
     "locked": true,
     "schema_version": 3,
     "solution": false
    }
   },
   "source": [
    "**Question 1.6** \n",
    "<br> {points: 3}\n",
    "\n",
    "Choose any variable (column) in the data set `happy_df` other than `Positive_affect` to plot against healthy life expectancy at birth. **You should NOT scale whichever variable you choose.** Ensure that healthy life expectancy at birth is on the x-axis and that you give your axes human-readable labels.\n",
    "\n",
    "_Assign your plot to an object called `happy_plot_2`._"
   ]
  },
  {
   "cell_type": "code",
   "execution_count": null,
   "metadata": {
    "deletable": false,
    "nbgrader": {
     "cell_type": "code",
     "checksum": "b01cc415d9120b0a5ff07776990bb5f4",
     "grade": false,
     "grade_id": "cell-1a67703036cd347d",
     "locked": false,
     "schema_version": 3,
     "solution": true,
     "task": false
    }
   },
   "outputs": [],
   "source": [
    "# your code here\n",
    "raise NotImplementedError\n",
    "happy_plot_2"
   ]
  },
  {
   "cell_type": "code",
   "execution_count": null,
   "metadata": {
    "deletable": false,
    "editable": false,
    "max_height": 100,
    "nbgrader": {
     "cell_type": "code",
     "checksum": "60e713d915c147974b85994716df0aec",
     "grade": true,
     "grade_id": "cell-4770f90dc16ee481",
     "locked": true,
     "points": 3,
     "schema_version": 3,
     "solution": false,
     "task": false
    }
   },
   "outputs": [],
   "source": [
    "from hashlib import sha1\n",
    "assert sha1(str(type(happy_plot_2.mark)).encode(\"utf-8\")+b\"6b2c8620ff04ebd4\").hexdigest() == \"2b913fdc37012b8e27cc88c43c1f5352609b22b6\", \"type of happy_plot_2.mark is not str. happy_plot_2.mark should be an str\"\n",
    "assert sha1(str(len(happy_plot_2.mark)).encode(\"utf-8\")+b\"6b2c8620ff04ebd4\").hexdigest() == \"5622ebbcabf85ca7694c88bd97150c707e9d2ee0\", \"length of happy_plot_2.mark is not correct\"\n",
    "assert sha1(str(happy_plot_2.mark.lower()).encode(\"utf-8\")+b\"6b2c8620ff04ebd4\").hexdigest() == \"7c6cc3ec2359205244b2c1f84eec3b962eb8e6ee\", \"value of happy_plot_2.mark is not correct\"\n",
    "assert sha1(str(happy_plot_2.mark).encode(\"utf-8\")+b\"6b2c8620ff04ebd4\").hexdigest() == \"7c6cc3ec2359205244b2c1f84eec3b962eb8e6ee\", \"correct string value of happy_plot_2.mark but incorrect case of letters\"\n",
    "\n",
    "assert sha1(str(type(happy_plot_2.encoding.x['field'])).encode(\"utf-8\")+b\"e6b183d06f3b4ddc\").hexdigest() == \"dc577b2105505623ed072ebaefd4d1fbf5db9abc\", \"type of happy_plot_2.encoding.x['field'] is not str. happy_plot_2.encoding.x['field'] should be an str\"\n",
    "assert sha1(str(len(happy_plot_2.encoding.x['field'])).encode(\"utf-8\")+b\"e6b183d06f3b4ddc\").hexdigest() == \"f40e816e5645309e21915f0fb18134d27c04b2f1\", \"length of happy_plot_2.encoding.x['field'] is not correct\"\n",
    "assert sha1(str(happy_plot_2.encoding.x['field'].lower()).encode(\"utf-8\")+b\"e6b183d06f3b4ddc\").hexdigest() == \"30033e355fdcc089efb702bd5a6165f5875d7aa4\", \"value of happy_plot_2.encoding.x['field'] is not correct\"\n",
    "assert sha1(str(happy_plot_2.encoding.x['field']).encode(\"utf-8\")+b\"e6b183d06f3b4ddc\").hexdigest() == \"26365ffb1c116da322803a70ad3cfd6564708b6a\", \"correct string value of happy_plot_2.encoding.x['field'] but incorrect case of letters\"\n",
    "\n",
    "assert sha1(str(type(happy_plot_2.encoding.y['field'] != 'Healthy_life_expectancy_at_birth')).encode(\"utf-8\")+b\"d2d2a0eb9abbda2b\").hexdigest() == \"d5c23c160185b8fbd485c941c5f9c27b6f50c3f0\", \"type of happy_plot_2.encoding.y['field'] != 'Healthy_life_expectancy_at_birth' is not bool. happy_plot_2.encoding.y['field'] != 'Healthy_life_expectancy_at_birth' should be a bool\"\n",
    "assert sha1(str(happy_plot_2.encoding.y['field'] != 'Healthy_life_expectancy_at_birth').encode(\"utf-8\")+b\"d2d2a0eb9abbda2b\").hexdigest() == \"69a51c267d77dc6dfb2d333267ac18fe7992d1f1\", \"boolean value of happy_plot_2.encoding.y['field'] != 'Healthy_life_expectancy_at_birth' is not correct\"\n",
    "\n",
    "assert sha1(str(type(happy_plot_2.encoding.y['field'] != 'Positive_affect_scaled')).encode(\"utf-8\")+b\"4f26ed2b2da05109\").hexdigest() == \"30bc7dba48247ac8ad24d2c8d08007a1caccca48\", \"type of happy_plot_2.encoding.y['field'] != 'Positive_affect_scaled' is not bool. happy_plot_2.encoding.y['field'] != 'Positive_affect_scaled' should be a bool\"\n",
    "assert sha1(str(happy_plot_2.encoding.y['field'] != 'Positive_affect_scaled').encode(\"utf-8\")+b\"4f26ed2b2da05109\").hexdigest() == \"3844892b09cfb7218b8d4731069e42d173938b78\", \"boolean value of happy_plot_2.encoding.y['field'] != 'Positive_affect_scaled' is not correct\"\n",
    "\n",
    "assert sha1(str(type(happy_plot_2.encoding.y['field'] in happy_df.columns)).encode(\"utf-8\")+b\"e50b3b194bb81351\").hexdigest() == \"4dc4b477dfab86aaff1ec321509051d736acb54a\", \"type of happy_plot_2.encoding.y['field'] in happy_df.columns is not bool. happy_plot_2.encoding.y['field'] in happy_df.columns should be a bool\"\n",
    "assert sha1(str(happy_plot_2.encoding.y['field'] in happy_df.columns).encode(\"utf-8\")+b\"e50b3b194bb81351\").hexdigest() == \"2182f9bd458435f0208224bf3c9e3a45cccad02d\", \"boolean value of happy_plot_2.encoding.y['field'] in happy_df.columns is not correct\"\n",
    "\n",
    "print('Success!')"
   ]
  },
  {
   "cell_type": "markdown",
   "metadata": {
    "deletable": false,
    "editable": false,
    "nbgrader": {
     "cell_type": "markdown",
     "checksum": "832b16230229cdcd3a7a1e4067a4bad9",
     "grade": false,
     "grade_id": "cell-a9da33d0a45bb495",
     "locked": true,
     "schema_version": 3,
     "solution": false
    }
   },
   "source": [
    "**Question 1.7**\n",
    "<br> {points: 3}\n",
    "\n",
    "In a sentence or two, describe what you see in the scatterplot above. Does there appear to be a relationship between healthy life expectancy at birth and the other variable you plotted? If so, describe it."
   ]
  },
  {
   "cell_type": "markdown",
   "metadata": {
    "deletable": false,
    "max_height": 100,
    "nbgrader": {
     "cell_type": "markdown",
     "checksum": "e94843b2cfe557d32464460fe171f40e",
     "grade": true,
     "grade_id": "cell-f324f67cb0ef5682",
     "locked": false,
     "points": 3,
     "schema_version": 3,
     "solution": true
    }
   },
   "source": [
    "DOUBLE CLICK TO EDIT **THIS CELL** AND REPLACE THIS TEXT WITH YOUR ANSWER."
   ]
  },
  {
   "cell_type": "markdown",
   "metadata": {
    "deletable": false,
    "editable": false,
    "nbgrader": {
     "cell_type": "markdown",
     "checksum": "926ddedabd6ae8e93d0fdb816abd0e68",
     "grade": false,
     "grade_id": "cell-c5375f89b178b96d",
     "locked": true,
     "schema_version": 3,
     "solution": false,
     "task": false
    }
   },
   "source": [
    "## 2. Whistler Snow\n",
    "\n",
    "Skiing and snowboarding are huge in British Columbia. Some of the best slopes for snow sports are quite close. In fact, the famous mountain-bearing city of Whistler is just two hours north of Vancouver. With cold weather and plenty of snowfall, Whistler is an ideal destination for winter sports fanatics. \n",
    "\n",
    "One thing skiers and snowboarders want is fresh snow! When are they most likely to find this? In the `data` directory, we have two-year-long data sets from [Environment Canada from the Whistler Roundhouse Station](http://climate.weather.gc.ca/historical_data/search_historic_data_stations_e.html?StationID=348&Year=2007&Month=3&Day=1&timeframe=2&type=bar&MeasTypeID=snow&searchType=stnProx&txtRadius=25&optProxType=navLink&txtLatDecDeg=50.128889166667&txtLongDecDeg=122.95483333333&optLimit=specDate&selRowPerPage=25&station=WHISTLER) (on Whistler mountain). This weather station is located 1,835 m above sea level.\n",
    "\n",
    "To answer the question of \"When are skiers and snowboarders most likely to find fresh snow at Whistler?\" you will create a line plot with the date is on the x-axis and the total snow per day in centimetres (the column named `Total Snow cm` in the data file) on the y-axis. Given that we have data for two years (2017 & 2018), we will create one plot for each year to see if there is a trend we can observe across the two years."
   ]
  },
  {
   "cell_type": "markdown",
   "metadata": {
    "deletable": false,
    "editable": false,
    "nbgrader": {
     "cell_type": "markdown",
     "checksum": "8445133691ceaca82d1106bb47ac0312",
     "grade": false,
     "grade_id": "cell-e8f091bb368e39f1",
     "locked": true,
     "schema_version": 3,
     "solution": false
    }
   },
   "source": [
    "**Question 2.1** Multiple Choice: \n",
    "<br> {points: 1}\n",
    "\n",
    "What are we going to plot on the y-axis?\n",
    "\n",
    "A. total precipitation per day in centimetres\n",
    "\n",
    "B. total snow on the ground in centimetres\n",
    "\n",
    "C. total snow per day in centimetres\n",
    "\n",
    "D. total rain per day in centimetres\n",
    "\n",
    "*Assign your answer to an object called `answer2_1`. Make sure your answer is an uppercase letter and is surrounded by quotation marks (e.g. `\"F\"`).*"
   ]
  },
  {
   "cell_type": "code",
   "execution_count": null,
   "metadata": {
    "deletable": false,
    "nbgrader": {
     "cell_type": "code",
     "checksum": "779d7b7fc5a4c8e59afa535eb8f5d565",
     "grade": false,
     "grade_id": "cell-7c77b685f9f33b13",
     "locked": false,
     "schema_version": 3,
     "solution": true
    }
   },
   "outputs": [],
   "source": [
    "# your code here\n",
    "raise NotImplementedError"
   ]
  },
  {
   "cell_type": "code",
   "execution_count": null,
   "metadata": {
    "deletable": false,
    "editable": false,
    "max_height": 100,
    "nbgrader": {
     "cell_type": "code",
     "checksum": "e8797af12c51a68f9894e613ce8492ab",
     "grade": true,
     "grade_id": "cell-09cb9f902ccc6326",
     "locked": true,
     "points": 1,
     "schema_version": 3,
     "solution": false
    }
   },
   "outputs": [],
   "source": [
    "from hashlib import sha1\n",
    "assert sha1(str(type(answer2_1)).encode(\"utf-8\")+b\"fe2a6ecfbc7fc1a3\").hexdigest() == \"4b9e210ea70b0be57fea2810a7784f7fe3cffb56\", \"type of answer2_1 is not str. answer2_1 should be an str\"\n",
    "assert sha1(str(len(answer2_1)).encode(\"utf-8\")+b\"fe2a6ecfbc7fc1a3\").hexdigest() == \"14fc51cd27ddd6e69626b7aac9d7eb9bd11bdeb7\", \"length of answer2_1 is not correct\"\n",
    "assert sha1(str(answer2_1.lower()).encode(\"utf-8\")+b\"fe2a6ecfbc7fc1a3\").hexdigest() == \"78c6402a96042d0e614b2fe95a6c283ffede6ca6\", \"value of answer2_1 is not correct\"\n",
    "assert sha1(str(answer2_1).encode(\"utf-8\")+b\"fe2a6ecfbc7fc1a3\").hexdigest() == \"10a6b52220ad66a0aeba05ee2c965ac913ffb7b8\", \"correct string value of answer2_1 but incorrect case of letters\"\n",
    "\n",
    "print('Success!')"
   ]
  },
  {
   "cell_type": "markdown",
   "metadata": {
    "deletable": false,
    "editable": false,
    "nbgrader": {
     "cell_type": "markdown",
     "checksum": "b6bca9a5f1f2200aa2c710d0b7960e90",
     "grade": false,
     "grade_id": "cell-4f445b649edd0b2b",
     "locked": true,
     "schema_version": 3,
     "solution": false
    }
   },
   "source": [
    "**Question 2.2.0** \n",
    "<br> {points: 1}\n",
    "\n",
    "Read in the file named `eng-daily-01012018-12312018.csv` from the `data` directory. **Make sure you preview the file to choose the correct `read_*` function and argument values to get the data into Python.** \n",
    "\n",
    "_Assign your data frame to an object called `whistler_2018`._\n",
    "\n",
    "*Note: You'll see a lot of entries of the form `NaN`. This is the symbol Python uses to denote missing data."
   ]
  },
  {
   "cell_type": "code",
   "execution_count": null,
   "metadata": {
    "deletable": false,
    "nbgrader": {
     "cell_type": "code",
     "checksum": "f5cce1f662f29c37819ce74261d0b6a9",
     "grade": false,
     "grade_id": "cell-5eee09e838226892",
     "locked": false,
     "schema_version": 3,
     "solution": true
    }
   },
   "outputs": [],
   "source": [
    "# your code here\n",
    "raise NotImplementedError\n",
    "whistler_2018"
   ]
  },
  {
   "cell_type": "code",
   "execution_count": null,
   "metadata": {
    "deletable": false,
    "editable": false,
    "max_height": 100,
    "nbgrader": {
     "cell_type": "code",
     "checksum": "c87a8e1a8db6fff21655354a577e5774",
     "grade": true,
     "grade_id": "cell-37bb46c77b5a6b65",
     "locked": true,
     "points": 1,
     "schema_version": 3,
     "solution": false
    }
   },
   "outputs": [],
   "source": [
    "from hashlib import sha1\n",
    "assert sha1(str(type(whistler_2018 is None)).encode(\"utf-8\")+b\"9b806989466ed0ca\").hexdigest() == \"7871ec42b9f95bd96d1edebccb3d9bde6ef81c4a\", \"type of whistler_2018 is None is not bool. whistler_2018 is None should be a bool\"\n",
    "assert sha1(str(whistler_2018 is None).encode(\"utf-8\")+b\"9b806989466ed0ca\").hexdigest() == \"58906762069fb236185a133d33f62cf79744e718\", \"boolean value of whistler_2018 is None is not correct\"\n",
    "\n",
    "assert sha1(str(type(whistler_2018)).encode(\"utf-8\")+b\"0e75814a97e7bd67\").hexdigest() == \"cea1acd1e595e925cbe069421adc99068ac87c8b\", \"type of type(whistler_2018) is not correct\"\n",
    "\n",
    "assert sha1(str(type(whistler_2018.shape)).encode(\"utf-8\")+b\"94b420a00ba229f2\").hexdigest() == \"6f210849cbd85eaa24dc956d5d85f5d394715fd3\", \"type of whistler_2018.shape is not tuple. whistler_2018.shape should be a tuple\"\n",
    "assert sha1(str(len(whistler_2018.shape)).encode(\"utf-8\")+b\"94b420a00ba229f2\").hexdigest() == \"f8339974089c3e91f5051de7274926031f8b9ba8\", \"length of whistler_2018.shape is not correct\"\n",
    "assert sha1(str(sorted(map(str, whistler_2018.shape))).encode(\"utf-8\")+b\"94b420a00ba229f2\").hexdigest() == \"b88e4a7c645d16d6de38151844200f64f854f88b\", \"values of whistler_2018.shape are not correct\"\n",
    "assert sha1(str(whistler_2018.shape).encode(\"utf-8\")+b\"94b420a00ba229f2\").hexdigest() == \"ca85dcfc5506ef35756c9ecb1950f3d7efb9bae3\", \"order of elements of whistler_2018.shape is not correct\"\n",
    "\n",
    "assert sha1(str(type(sum(whistler_2018['Total Snow (cm)'].dropna()))).encode(\"utf-8\")+b\"6010c2ee315a5746\").hexdigest() == \"c4ac73dfe161ae7190c85f50b0d549c103a2e773\", \"type of sum(whistler_2018['Total Snow (cm)'].dropna()) is not float. Please make sure it is float and not np.float64, etc. You can cast your value into a float using float()\"\n",
    "assert sha1(str(round(sum(whistler_2018['Total Snow (cm)'].dropna()), 2)).encode(\"utf-8\")+b\"6010c2ee315a5746\").hexdigest() == \"68f1b6c5b183f98ed3050b40ae303d4e5536c8ba\", \"value of sum(whistler_2018['Total Snow (cm)'].dropna()) is not correct (rounded to 2 decimal places)\"\n",
    "\n",
    "print('Success!')"
   ]
  },
  {
   "cell_type": "markdown",
   "metadata": {
    "deletable": false,
    "editable": false,
    "nbgrader": {
     "cell_type": "markdown",
     "checksum": "a9d432b9b7af6ff567979f7da6aaff83",
     "grade": false,
     "grade_id": "cell-8a21bf6086ccf39e",
     "locked": true,
     "schema_version": 3,
     "solution": false
    }
   },
   "source": [
    "**Question 2.2.1** \n",
    "<br> {points: 1}\n",
    "\n",
    "Looking at the column names of the `whistler_2018` data frame, you can see we have white space in our column names again. Replace the white space with `_` using `replace` method."
   ]
  },
  {
   "cell_type": "code",
   "execution_count": null,
   "metadata": {
    "deletable": false,
    "nbgrader": {
     "cell_type": "code",
     "checksum": "7d8a00ec5479671a15a9d5f1ec9531da",
     "grade": false,
     "grade_id": "cell-56ec4e8dbbff86e2",
     "locked": false,
     "schema_version": 3,
     "solution": true
    }
   },
   "outputs": [],
   "source": [
    "# your code here\n",
    "raise NotImplementedError\n",
    "whistler_2018.columns"
   ]
  },
  {
   "cell_type": "code",
   "execution_count": null,
   "metadata": {
    "deletable": false,
    "editable": false,
    "max_height": 100,
    "nbgrader": {
     "cell_type": "code",
     "checksum": "d102d56673423d8cace284ba58a9c10d",
     "grade": true,
     "grade_id": "cell-a8623de117076f50",
     "locked": true,
     "points": 1,
     "schema_version": 3,
     "solution": false
    }
   },
   "outputs": [],
   "source": [
    "from hashlib import sha1\n",
    "assert sha1(str(type(whistler_2018.shape)).encode(\"utf-8\")+b\"30e46f4ed75ba2ee\").hexdigest() == \"ea15a309071f47d099ec3615826d96e083f18301\", \"type of whistler_2018.shape is not tuple. whistler_2018.shape should be a tuple\"\n",
    "assert sha1(str(len(whistler_2018.shape)).encode(\"utf-8\")+b\"30e46f4ed75ba2ee\").hexdigest() == \"0cc87e96a03dd430e1bce1f9df5b59d078c8c78e\", \"length of whistler_2018.shape is not correct\"\n",
    "assert sha1(str(sorted(map(str, whistler_2018.shape))).encode(\"utf-8\")+b\"30e46f4ed75ba2ee\").hexdigest() == \"c2c7e5eb4209c938926637e0e24c041ed507d5d7\", \"values of whistler_2018.shape are not correct\"\n",
    "assert sha1(str(whistler_2018.shape).encode(\"utf-8\")+b\"30e46f4ed75ba2ee\").hexdigest() == \"4f81ac03092d8b888bd096acb1021f26524a9b79\", \"order of elements of whistler_2018.shape is not correct\"\n",
    "\n",
    "assert sha1(str(type(sum([\" \" in st for st in whistler_2018.columns.values]))).encode(\"utf-8\")+b\"bd6230d993a9d923\").hexdigest() == \"4c7f6965165a4d26eeec606f3254e49bde2996ac\", \"type of sum([\\\" \\\" in st for st in whistler_2018.columns.values]) is not int. Please make sure it is int and not np.int64, etc. You can cast your value into an int using int()\"\n",
    "assert sha1(str(sum([\" \" in st for st in whistler_2018.columns.values])).encode(\"utf-8\")+b\"bd6230d993a9d923\").hexdigest() == \"b4568fe7036fb088910b0296ce4ec648a25cbf45\", \"value of sum([\\\" \\\" in st for st in whistler_2018.columns.values]) is not correct\"\n",
    "\n",
    "print('Success!')"
   ]
  },
  {
   "cell_type": "markdown",
   "metadata": {
    "deletable": false,
    "editable": false,
    "nbgrader": {
     "cell_type": "markdown",
     "checksum": "f072ed62b8de999d2d0a8f4192e0e1d2",
     "grade": false,
     "grade_id": "cell-ebc628786570051a",
     "locked": true,
     "schema_version": 3,
     "solution": false
    }
   },
   "source": [
    "**Question 2.3** \n",
    "<br> {points: 1}\n",
    "\n",
    "Create a line plot with the date on the x-axis and the total snow per day (in cm) on the y-axis by filling in the `___` in the code below. Ensure you give your axes human-readable labels.\n",
    "\n",
    "*Note: We need to include `:T` to the x encoding to specify the x labels to be every month.\n",
    "\n",
    "_Assign your plot to an object called `whistler_2018_plot`._"
   ]
  },
  {
   "cell_type": "code",
   "execution_count": null,
   "metadata": {
    "deletable": false,
    "nbgrader": {
     "cell_type": "code",
     "checksum": "e43ccd38c36652729c606fd11d99f885",
     "grade": false,
     "grade_id": "cell-2b5a4c01c5a8404d",
     "locked": false,
     "schema_version": 3,
     "solution": true
    }
   },
   "outputs": [],
   "source": [
    "# ___ = (\n",
    "#     alt.Chart(___)\n",
    "#     .mark_line()\n",
    "#     .encode(\n",
    "#         x=alt.X(___, title=___, axis=alt.Axis(labelAngle=90)), # labelAngle to rotate x axis labels to be vertical\n",
    "#         y=alt.Y(___, title=___),\n",
    "#     )\n",
    "#     .configure_axis(labelFontSize=20, titleFontSize=16)  # set the font size for axis titles and axis labels\n",
    "#     .properties(width=600, height=200) # set the height and the with for the plot\n",
    "# )\n",
    "\n",
    "# your code here\n",
    "raise NotImplementedError\n",
    "whistler_2018_plot"
   ]
  },
  {
   "cell_type": "code",
   "execution_count": null,
   "metadata": {
    "deletable": false,
    "editable": false,
    "max_height": 100,
    "nbgrader": {
     "cell_type": "code",
     "checksum": "2612456fa3a8e64fe5c2656e3b34850a",
     "grade": true,
     "grade_id": "cell-7ba6c116f9f01fbf",
     "locked": true,
     "points": 1,
     "schema_version": 3,
     "solution": false
    }
   },
   "outputs": [],
   "source": [
    "from hashlib import sha1\n",
    "assert sha1(str(type(whistler_2018_plot is None)).encode(\"utf-8\")+b\"0b34d9a104dc1706\").hexdigest() == \"d6b7d8c85ef6a595d64fe9ebc08a31c058a9f278\", \"type of whistler_2018_plot is None is not bool. whistler_2018_plot is None should be a bool\"\n",
    "assert sha1(str(whistler_2018_plot is None).encode(\"utf-8\")+b\"0b34d9a104dc1706\").hexdigest() == \"76eaeebe95713159aa0364adb1d633129b76f8b8\", \"boolean value of whistler_2018_plot is None is not correct\"\n",
    "\n",
    "assert sha1(str(type(whistler_2018_plot.encoding.x.field)).encode(\"utf-8\")+b\"ccf301209ab4080b\").hexdigest() == \"4b03b6717f270fed999b627b002316345cda05c2\", \"type of whistler_2018_plot.encoding.x.field is not str. whistler_2018_plot.encoding.x.field should be an str\"\n",
    "assert sha1(str(len(whistler_2018_plot.encoding.x.field)).encode(\"utf-8\")+b\"ccf301209ab4080b\").hexdigest() == \"082ed68930880959476a486621be68664216842b\", \"length of whistler_2018_plot.encoding.x.field is not correct\"\n",
    "assert sha1(str(whistler_2018_plot.encoding.x.field.lower()).encode(\"utf-8\")+b\"ccf301209ab4080b\").hexdigest() == \"063c94f62fb0963d9fa00851ba7a6ddaa310f910\", \"value of whistler_2018_plot.encoding.x.field is not correct\"\n",
    "assert sha1(str(whistler_2018_plot.encoding.x.field).encode(\"utf-8\")+b\"ccf301209ab4080b\").hexdigest() == \"e2609acf89169e3e2b50259c8150d6e5cc99f0d7\", \"correct string value of whistler_2018_plot.encoding.x.field but incorrect case of letters\"\n",
    "\n",
    "assert sha1(str(type(whistler_2018_plot.encoding.y.field)).encode(\"utf-8\")+b\"8874f3f97e863f3c\").hexdigest() == \"4314d7dde35dd7cc3bf9cf9f3479fa53dff9faf0\", \"type of whistler_2018_plot.encoding.y.field is not str. whistler_2018_plot.encoding.y.field should be an str\"\n",
    "assert sha1(str(len(whistler_2018_plot.encoding.y.field)).encode(\"utf-8\")+b\"8874f3f97e863f3c\").hexdigest() == \"bb735eb2c91ebea40c20795515bc0b60d8bf3062\", \"length of whistler_2018_plot.encoding.y.field is not correct\"\n",
    "assert sha1(str(whistler_2018_plot.encoding.y.field.lower()).encode(\"utf-8\")+b\"8874f3f97e863f3c\").hexdigest() == \"8c6d4faa86316ff6898f47d8ff37dd55fe754a90\", \"value of whistler_2018_plot.encoding.y.field is not correct\"\n",
    "assert sha1(str(whistler_2018_plot.encoding.y.field).encode(\"utf-8\")+b\"8874f3f97e863f3c\").hexdigest() == \"9833ce58de9630cde9083f77374d5393fa315ad8\", \"correct string value of whistler_2018_plot.encoding.y.field but incorrect case of letters\"\n",
    "\n",
    "assert sha1(str(type(whistler_2018_plot.mark)).encode(\"utf-8\")+b\"051ea544c5f0ba24\").hexdigest() == \"14c86cf9fdf1281fb4bb4e12dea6dcf0c67e831b\", \"type of whistler_2018_plot.mark is not str. whistler_2018_plot.mark should be an str\"\n",
    "assert sha1(str(len(whistler_2018_plot.mark)).encode(\"utf-8\")+b\"051ea544c5f0ba24\").hexdigest() == \"764fcf96b53a53bcb772c749eea8761a0c200ed6\", \"length of whistler_2018_plot.mark is not correct\"\n",
    "assert sha1(str(whistler_2018_plot.mark.lower()).encode(\"utf-8\")+b\"051ea544c5f0ba24\").hexdigest() == \"4baa5fc4ec8be3da0b5e5fc0d16f678272aa2c91\", \"value of whistler_2018_plot.mark is not correct\"\n",
    "assert sha1(str(whistler_2018_plot.mark).encode(\"utf-8\")+b\"051ea544c5f0ba24\").hexdigest() == \"4baa5fc4ec8be3da0b5e5fc0d16f678272aa2c91\", \"correct string value of whistler_2018_plot.mark but incorrect case of letters\"\n",
    "\n",
    "assert sha1(str(type(whistler_2018_plot.encoding.x.title != \"Date/Time\")).encode(\"utf-8\")+b\"22d865bcbaa93cb5\").hexdigest() == \"fc7feec3a3ccd7a17bb74e42efdc6988de666611\", \"type of whistler_2018_plot.encoding.x.title != \\\"Date/Time\\\" is not bool. whistler_2018_plot.encoding.x.title != \\\"Date/Time\\\" should be a bool\"\n",
    "assert sha1(str(whistler_2018_plot.encoding.x.title != \"Date/Time\").encode(\"utf-8\")+b\"22d865bcbaa93cb5\").hexdigest() == \"789fe479cf8ba5d6470cab827983e88d7c4ec0c3\", \"boolean value of whistler_2018_plot.encoding.x.title != \\\"Date/Time\\\" is not correct\"\n",
    "\n",
    "assert sha1(str(type(whistler_2018_plot.encoding.y.title != \"Total_Snow_(cm)\")).encode(\"utf-8\")+b\"c058cbef237277f1\").hexdigest() == \"3b6fa23b87cb06c0e856b1d7bf96d504f769a2d0\", \"type of whistler_2018_plot.encoding.y.title != \\\"Total_Snow_(cm)\\\" is not bool. whistler_2018_plot.encoding.y.title != \\\"Total_Snow_(cm)\\\" should be a bool\"\n",
    "assert sha1(str(whistler_2018_plot.encoding.y.title != \"Total_Snow_(cm)\").encode(\"utf-8\")+b\"c058cbef237277f1\").hexdigest() == \"f7646a870ef8923b133dd22b51f4577f7af05d76\", \"boolean value of whistler_2018_plot.encoding.y.title != \\\"Total_Snow_(cm)\\\" is not correct\"\n",
    "\n",
    "print('Success!')"
   ]
  },
  {
   "cell_type": "markdown",
   "metadata": {
    "deletable": false,
    "editable": false,
    "nbgrader": {
     "cell_type": "markdown",
     "checksum": "9a05d9e80771970ce9d0ac6e85609c48",
     "grade": false,
     "grade_id": "cell-5ab30aff1ade6a29",
     "locked": true,
     "schema_version": 3,
     "solution": false
    }
   },
   "source": [
    "**Question 2.4** \n",
    "<br> {points: 3}\n",
    "\n",
    "Looking at the line plot above, for 2018, of the months when it snowed, which 2 months had the **most** fresh snow?"
   ]
  },
  {
   "cell_type": "markdown",
   "metadata": {
    "deletable": false,
    "max_height": 100,
    "nbgrader": {
     "cell_type": "markdown",
     "checksum": "baffe65b398f9d5c504ef17729e78b10",
     "grade": true,
     "grade_id": "cell-44413b023d2ed1cf",
     "locked": false,
     "points": 3,
     "schema_version": 3,
     "solution": true
    }
   },
   "source": [
    "DOUBLE CLICK TO EDIT **THIS CELL** AND REPLACE THIS TEXT WITH YOUR ANSWER."
   ]
  },
  {
   "cell_type": "markdown",
   "metadata": {
    "deletable": false,
    "editable": false,
    "nbgrader": {
     "cell_type": "markdown",
     "checksum": "9ed1528fd2c56a78c12b69da4cfcdcb6",
     "grade": false,
     "grade_id": "cell-f73cf8cfc5b9f8e8",
     "locked": true,
     "schema_version": 3,
     "solution": false
    }
   },
   "source": [
    "**Question 2.5**\n",
    "<br> {points: 3}\n",
    "\n",
    "Repeat the data loading and plot creation using the file `eng-daily-01012017-12312017.csv` located in the `data` directory to visualize the same data for the year 2017. \n",
    "\n",
    "_Assign your plot to an object called `whistler_2017_plot`._"
   ]
  },
  {
   "cell_type": "code",
   "execution_count": null,
   "metadata": {
    "deletable": false,
    "nbgrader": {
     "cell_type": "code",
     "checksum": "be5081c52ae7e48829a2e5789c5be4d1",
     "grade": false,
     "grade_id": "cell-1b68857d927e3850",
     "locked": false,
     "schema_version": 3,
     "solution": true,
     "task": false
    }
   },
   "outputs": [],
   "source": [
    "# whistler_2017 = ___\n",
    "# whistler_2017.columns = [colname.replace(\" \", \"_\") for colname in whistler_2017.columns] # create a list of a new column names\n",
    "# ___ = (\n",
    "#     alt.Chart(___)\n",
    "#     .mark_line()\n",
    "#     .encode(\n",
    "#         x=alt.X(___, title=___, axis=alt.Axis(labelAngle=90)),\n",
    "#         y=alt.Y(___, title=___),\n",
    "#     )\n",
    "#     .configure_axis(labelFontSize=20, titleFontSize=16)\n",
    "#     .properties(width=600, height=200)\n",
    "# )\n",
    "\n",
    "# your code here\n",
    "raise NotImplementedError\n",
    "whistler_2017_plot"
   ]
  },
  {
   "cell_type": "code",
   "execution_count": null,
   "metadata": {
    "deletable": false,
    "editable": false,
    "max_height": 100,
    "nbgrader": {
     "cell_type": "code",
     "checksum": "72ec66e0a534d756a90015be1ac06723",
     "grade": true,
     "grade_id": "cell-7608e53d69890bf2",
     "locked": true,
     "points": 3,
     "schema_version": 3,
     "solution": false,
     "task": false
    }
   },
   "outputs": [],
   "source": [
    "from hashlib import sha1\n",
    "assert sha1(str(type(whistler_2017_plot is None)).encode(\"utf-8\")+b\"c1c2c56f7689b46d\").hexdigest() == \"27c8be7a0b738ab1cadf0c23c9764baa80e1735d\", \"type of whistler_2017_plot is None is not bool. whistler_2017_plot is None should be a bool\"\n",
    "assert sha1(str(whistler_2017_plot is None).encode(\"utf-8\")+b\"c1c2c56f7689b46d\").hexdigest() == \"6339ba1c048cc5d6f0691c66dd696a2cca73f802\", \"boolean value of whistler_2017_plot is None is not correct\"\n",
    "\n",
    "assert sha1(str(type(whistler_2017_plot.encoding.x.field)).encode(\"utf-8\")+b\"ba742393361216c1\").hexdigest() == \"7376bc3586a4b9263353f6d267348843738e3bcf\", \"type of whistler_2017_plot.encoding.x.field is not str. whistler_2017_plot.encoding.x.field should be an str\"\n",
    "assert sha1(str(len(whistler_2017_plot.encoding.x.field)).encode(\"utf-8\")+b\"ba742393361216c1\").hexdigest() == \"4d641a91f73dde79fcee3b5bbd7f262ab8a190f3\", \"length of whistler_2017_plot.encoding.x.field is not correct\"\n",
    "assert sha1(str(whistler_2017_plot.encoding.x.field.lower()).encode(\"utf-8\")+b\"ba742393361216c1\").hexdigest() == \"3878a699b9fb5318f47ac88469e05d534d973ac1\", \"value of whistler_2017_plot.encoding.x.field is not correct\"\n",
    "assert sha1(str(whistler_2017_plot.encoding.x.field).encode(\"utf-8\")+b\"ba742393361216c1\").hexdigest() == \"c08d057fd6f90501975bb8e2abce7a98e5b7196c\", \"correct string value of whistler_2017_plot.encoding.x.field but incorrect case of letters\"\n",
    "\n",
    "assert sha1(str(type(whistler_2017_plot.encoding.y.field)).encode(\"utf-8\")+b\"d641a06599a51a21\").hexdigest() == \"1f5a26817151944eeff48945cca3145a1156f0f0\", \"type of whistler_2017_plot.encoding.y.field is not str. whistler_2017_plot.encoding.y.field should be an str\"\n",
    "assert sha1(str(len(whistler_2017_plot.encoding.y.field)).encode(\"utf-8\")+b\"d641a06599a51a21\").hexdigest() == \"576514d6123852225ab533b7948931740be6ddf3\", \"length of whistler_2017_plot.encoding.y.field is not correct\"\n",
    "assert sha1(str(whistler_2017_plot.encoding.y.field.lower()).encode(\"utf-8\")+b\"d641a06599a51a21\").hexdigest() == \"13aae146e8a07404039c9621180f00d0089682bf\", \"value of whistler_2017_plot.encoding.y.field is not correct\"\n",
    "assert sha1(str(whistler_2017_plot.encoding.y.field).encode(\"utf-8\")+b\"d641a06599a51a21\").hexdigest() == \"9b46f97ab4719ba7e49c29f987c2146d63b63a0d\", \"correct string value of whistler_2017_plot.encoding.y.field but incorrect case of letters\"\n",
    "\n",
    "assert sha1(str(type(whistler_2017_plot.mark)).encode(\"utf-8\")+b\"a290e9168d5e7363\").hexdigest() == \"ff29368e2a3f45c33743ce5b47280ab693702db3\", \"type of whistler_2017_plot.mark is not str. whistler_2017_plot.mark should be an str\"\n",
    "assert sha1(str(len(whistler_2017_plot.mark)).encode(\"utf-8\")+b\"a290e9168d5e7363\").hexdigest() == \"3f1616615f803a60216b05a6eb17cfc3aae2759a\", \"length of whistler_2017_plot.mark is not correct\"\n",
    "assert sha1(str(whistler_2017_plot.mark.lower()).encode(\"utf-8\")+b\"a290e9168d5e7363\").hexdigest() == \"742b78407ce1b8a7d0db9bfa8af6b7e107a04873\", \"value of whistler_2017_plot.mark is not correct\"\n",
    "assert sha1(str(whistler_2017_plot.mark).encode(\"utf-8\")+b\"a290e9168d5e7363\").hexdigest() == \"742b78407ce1b8a7d0db9bfa8af6b7e107a04873\", \"correct string value of whistler_2017_plot.mark but incorrect case of letters\"\n",
    "\n",
    "assert sha1(str(type(whistler_2017_plot.encoding.x.title != \"Date/Time\")).encode(\"utf-8\")+b\"7c1b4135dee2f17e\").hexdigest() == \"2088bf39da3a499dee7def2bbe818f2a4d312ace\", \"type of whistler_2017_plot.encoding.x.title != \\\"Date/Time\\\" is not bool. whistler_2017_plot.encoding.x.title != \\\"Date/Time\\\" should be a bool\"\n",
    "assert sha1(str(whistler_2017_plot.encoding.x.title != \"Date/Time\").encode(\"utf-8\")+b\"7c1b4135dee2f17e\").hexdigest() == \"b68968c183a3a6aaf018099cd48c9e87114f4f95\", \"boolean value of whistler_2017_plot.encoding.x.title != \\\"Date/Time\\\" is not correct\"\n",
    "\n",
    "assert sha1(str(type(whistler_2017_plot.encoding.y.title != 'Total_Snow_(cm)')).encode(\"utf-8\")+b\"06feac26fb43ee13\").hexdigest() == \"d7b15c19cf2168def441b0ce11aced3bab8fd400\", \"type of whistler_2017_plot.encoding.y.title != 'Total_Snow_(cm)' is not bool. whistler_2017_plot.encoding.y.title != 'Total_Snow_(cm)' should be a bool\"\n",
    "assert sha1(str(whistler_2017_plot.encoding.y.title != 'Total_Snow_(cm)').encode(\"utf-8\")+b\"06feac26fb43ee13\").hexdigest() == \"99f4c22dcb14b951dbd24abf93378dcdcbbda4b6\", \"boolean value of whistler_2017_plot.encoding.y.title != 'Total_Snow_(cm)' is not correct\"\n",
    "\n",
    "print('Success!')"
   ]
  },
  {
   "cell_type": "markdown",
   "metadata": {
    "deletable": false,
    "editable": false,
    "nbgrader": {
     "cell_type": "markdown",
     "checksum": "4a00b30b14e7ea68944846a87e71a8dc",
     "grade": false,
     "grade_id": "cell-8f8fcf9c0b810526",
     "locked": true,
     "schema_version": 3,
     "solution": false
    }
   },
   "source": [
    "**Question 2.6**\n",
    "<br> {points: 3}\n",
    "\n",
    "Looking at the line plot above, for 2017, of the months when it snowed, which 2 months had the **most** fresh snow?"
   ]
  },
  {
   "cell_type": "markdown",
   "metadata": {
    "deletable": false,
    "max_height": 100,
    "nbgrader": {
     "cell_type": "markdown",
     "checksum": "32633e9d0c06d2ca9e0ee22ad8ae171a",
     "grade": true,
     "grade_id": "cell-59326d3fb00de096",
     "locked": false,
     "points": 3,
     "schema_version": 3,
     "solution": true
    }
   },
   "source": [
    "DOUBLE CLICK TO EDIT **THIS CELL** AND REPLACE THIS TEXT WITH YOUR ANSWER."
   ]
  },
  {
   "cell_type": "markdown",
   "metadata": {
    "deletable": false,
    "editable": false,
    "nbgrader": {
     "cell_type": "markdown",
     "checksum": "638ba1dcfc1b678a3d429105ca6083cc",
     "grade": false,
     "grade_id": "cell-7ebf6c3f380f6308",
     "locked": true,
     "schema_version": 3,
     "solution": false,
     "task": false
    }
   },
   "source": [
    "**Question 2.7**\n",
    "<br> {points: 3}\n",
    "\n",
    "Are the months  with the most fresh snow the same in 2017 as they were in 2018? **Hint:** you might want to add a code cell where you plot the two plots right after each other so you can easily compare them in one screen view.\n",
    "\n",
    "Is there any advantage of looking at 2 years worth of data? Why or why not?"
   ]
  },
  {
   "cell_type": "markdown",
   "metadata": {
    "deletable": false,
    "max_height": 100,
    "nbgrader": {
     "cell_type": "markdown",
     "checksum": "5dc1a5347c756d6fee899ea2fade9085",
     "grade": true,
     "grade_id": "cell-847225b6693679e1",
     "locked": false,
     "points": 3,
     "schema_version": 3,
     "solution": true,
     "task": false
    }
   },
   "source": [
    "DOUBLE CLICK TO EDIT **THIS CELL** AND REPLACE THIS TEXT WITH YOUR ANSWER."
   ]
  },
  {
   "cell_type": "markdown",
   "metadata": {
    "deletable": false,
    "editable": false,
    "nbgrader": {
     "cell_type": "markdown",
     "checksum": "306689eddd50f4066be8fdd620bca082",
     "grade": false,
     "grade_id": "cell-7298c18efd74b404",
     "locked": true,
     "schema_version": 3,
     "solution": false,
     "task": false
    }
   },
   "source": [
    "## 3. Reading from a Database\n",
    "\n",
    "In `worksheet_02`, you'll recall that we opened a database stored in a `.db` file. This involved a lot more effort than just opening a `.csv`, `.tsv`, or any of the other plaintext / Excel formats. \n",
    "\n",
    "**Why should we bother with databases at all?**\n",
    "\n",
    "Databases become really useful in a large-scale setting:\n",
    "\n",
    "- they enable storing large datasets across multiple computers with automatic redundancy and backups\n",
    "- they enable multiple users to access them simultaneously and remotely without conflicts and errors \n",
    "- they provide mechanisms for ensuring data integrity and validating input\n",
    "- they provide security to keep data safe\n",
    "\n",
    "For example: there are around [4 billion](https://www.internetlivestats.com/google-search-statistics/) Google searches conducted daily as of 2019. Can you imagine if Google stored all of the data from those queries in a single `.csv` file!? Chaos would ensue. \n",
    "\n",
    "To reap the real benefits of databases, we'll need to move to a more fully-powered one: [PostgreSQL](https://www.postgresql.org/). We'll begin by loading the `ibis` that Python uses to talk to databases."
   ]
  },
  {
   "cell_type": "code",
   "execution_count": null,
   "metadata": {
    "deletable": false,
    "editable": false,
    "nbgrader": {
     "cell_type": "code",
     "checksum": "7c69e453059ecce8f1395fdfc97e7bf4",
     "grade": false,
     "grade_id": "cell-ac4dd7f8725ebc79",
     "locked": true,
     "schema_version": 3,
     "solution": false,
     "task": false
    }
   },
   "outputs": [],
   "source": [
    "### Run this cell before continuing.\n",
    "import ibis"
   ]
  },
  {
   "cell_type": "markdown",
   "metadata": {
    "deletable": false,
    "editable": false,
    "nbgrader": {
     "cell_type": "markdown",
     "checksum": "44923787651b60ab2e44487a2b79d1aa",
     "grade": false,
     "grade_id": "cell-76ec1abec0ab4266",
     "locked": true,
     "schema_version": 3,
     "solution": false,
     "task": false
    }
   },
   "source": [
    "**Question 3.0**\n",
    "<br>{points: 1}\n",
    "\n",
    "Databases are often stored *remotely* (i.e., not on your computer or on this JupyterHub). Your first task is to load the Kickstarter data from a PostgreSQL database stored remotely on the UBC statistics network.\n",
    "\n",
    "\n",
    "URL: `\"dsci-100-student.stat.ubc.ca\"`\n",
    "\n",
    "Port: `5432`\n",
    "\n",
    "Username: `\"dsci100\"`\n",
    "\n",
    "Password: `\"dsci100\"`\n",
    "\n",
    "Database Name: `\"kickstarter\"`\n",
    "\n",
    "Table Name: `\"projects\"`\n",
    "\n",
    "We've provided the code to do this below. Replace each `___` with one of the 5 above items. \n",
    "\n",
    "*Note 1: Due to the UBC firewall, to get this to work you'll need to be connected to the UBC network or use the UBC VPN. For instructions on how to connect to UBC's VPN service, see [this webpage on UBC's IT website](https://it.ubc.ca/services/email-voice-internet/myvpn/setup-documents#setup).*\n",
    "\n",
    "*Note 2: As this database will be used by the entire class, you will only have read access (no write permissions).*\n",
    "\n",
    "*Assign the resulting database connection object to* `conn` *and the project table data to* `project_data`."
   ]
  },
  {
   "cell_type": "code",
   "execution_count": null,
   "metadata": {
    "deletable": false,
    "nbgrader": {
     "cell_type": "code",
     "checksum": "d61492254136f196f41a5913c61e84e7",
     "grade": false,
     "grade_id": "cell-3e77056f0b0ee8f6",
     "locked": false,
     "schema_version": 3,
     "solution": true,
     "task": false
    }
   },
   "outputs": [],
   "source": [
    "# conn = ibis.postgres.connect(\n",
    "#     database = \"____\", \n",
    "#     host = \"____\",\n",
    "#     port = ____,\n",
    "#     user = \"____\",\n",
    "#     password = \"____\"\n",
    "# )\n",
    "# project_data = conn.table(___)\n",
    "\n",
    "# your code here\n",
    "raise NotImplementedError"
   ]
  },
  {
   "cell_type": "code",
   "execution_count": null,
   "metadata": {
    "deletable": false,
    "editable": false,
    "nbgrader": {
     "cell_type": "code",
     "checksum": "28d548d01432dafe03d688d1d4793d1c",
     "grade": false,
     "grade_id": "cell-3723cf49c70d5d27",
     "locked": true,
     "schema_version": 3,
     "solution": false,
     "task": false
    }
   },
   "outputs": [],
   "source": [
    "project_data = project_data.execute() # execute to retrieve the data as a pandas data frame"
   ]
  },
  {
   "cell_type": "code",
   "execution_count": null,
   "metadata": {
    "deletable": false,
    "editable": false,
    "max_height": 100,
    "nbgrader": {
     "cell_type": "code",
     "checksum": "a72be3f208323fead1775c17bad2c221",
     "grade": true,
     "grade_id": "cell-43c8f02a1912363c",
     "locked": true,
     "points": 1,
     "schema_version": 3,
     "solution": false,
     "task": false
    }
   },
   "outputs": [],
   "source": [
    "from hashlib import sha1\n",
    "assert sha1(str(type(type(conn))).encode(\"utf-8\")+b\"92dc166f938ef430\").hexdigest() == \"a8bd0f24a4e0b9ac1fe787a931f89370253b8ee5\", \"type of type(conn) is not correct\"\n",
    "assert sha1(str(type(conn)).encode(\"utf-8\")+b\"92dc166f938ef430\").hexdigest() == \"c4076871d1c8768018e95e13aa654381832991ab\", \"value of type(conn) is not correct\"\n",
    "\n",
    "assert sha1(str(type(conn.list_tables())).encode(\"utf-8\")+b\"40749037fbdde7e5\").hexdigest() == \"1626d1c3c9d8c6b806a153be1669a3be962029dd\", \"type of conn.list_tables() is not list. conn.list_tables() should be a list\"\n",
    "assert sha1(str(len(conn.list_tables())).encode(\"utf-8\")+b\"40749037fbdde7e5\").hexdigest() == \"e64a27f0eca7c65caf00663fd6a17b882f512008\", \"length of conn.list_tables() is not correct\"\n",
    "assert sha1(str(sorted(map(str, conn.list_tables()))).encode(\"utf-8\")+b\"40749037fbdde7e5\").hexdigest() == \"5b4bcc11f0b45f1e1a90d53820cf5dc420a1a095\", \"values of conn.list_tables() are not correct\"\n",
    "assert sha1(str(conn.list_tables()).encode(\"utf-8\")+b\"40749037fbdde7e5\").hexdigest() == \"f276c079f631248bc0276001ff4317cfd2421de7\", \"order of elements of conn.list_tables() is not correct\"\n",
    "\n",
    "assert sha1(str(type(project_data is None)).encode(\"utf-8\")+b\"e619234b8c038617\").hexdigest() == \"cb1707a5f88496a933e5d1f8d31c119af2e8093a\", \"type of project_data is None is not bool. project_data is None should be a bool\"\n",
    "assert sha1(str(project_data is None).encode(\"utf-8\")+b\"e619234b8c038617\").hexdigest() == \"6bb3844cbc6e14469030c47b99513d983eceec9f\", \"boolean value of project_data is None is not correct\"\n",
    "\n",
    "assert sha1(str(type(project_data)).encode(\"utf-8\")+b\"1744b99316f8c85a\").hexdigest() == \"f797f605dd5d9a3299961b643fdd0f114736ee0d\", \"type of type(project_data) is not correct\"\n",
    "\n",
    "assert sha1(str(type(project_data.columns.values)).encode(\"utf-8\")+b\"9df2ced6c7bf0b14\").hexdigest() == \"3570ad9dcd1cbc6078058d2b974665854a117f49\", \"type of project_data.columns.values is not correct\"\n",
    "assert sha1(str(project_data.columns.values).encode(\"utf-8\")+b\"9df2ced6c7bf0b14\").hexdigest() == \"0e4389e608977f6d1f38427bbde36571d170e9c7\", \"value of project_data.columns.values is not correct\"\n",
    "\n",
    "print('Success!')"
   ]
  },
  {
   "cell_type": "markdown",
   "metadata": {
    "deletable": false,
    "editable": false,
    "nbgrader": {
     "cell_type": "markdown",
     "checksum": "1d87b25a08f5e60b65b57e3e67bd27aa",
     "grade": false,
     "grade_id": "cell-c5ed50cf12263f47",
     "locked": true,
     "schema_version": 3,
     "solution": false,
     "task": false
    }
   },
   "source": [
    "We can now call the `columns` attribute to see what columns are available in the `project_data` table."
   ]
  },
  {
   "cell_type": "code",
   "execution_count": null,
   "metadata": {
    "deletable": false,
    "editable": false,
    "nbgrader": {
     "cell_type": "code",
     "checksum": "cda8b33a165c76c1000bbdea3e57414d",
     "grade": false,
     "grade_id": "cell-a35dbfe198fe2c2a",
     "locked": true,
     "schema_version": 3,
     "solution": false,
     "task": false
    }
   },
   "outputs": [],
   "source": [
    "project_data.columns"
   ]
  },
  {
   "cell_type": "markdown",
   "metadata": {
    "deletable": false,
    "editable": false,
    "nbgrader": {
     "cell_type": "markdown",
     "checksum": "7b36edb268f4aa742b6e88909eddbadb",
     "grade": false,
     "grade_id": "cell-f87359c9820b0244",
     "locked": true,
     "schema_version": 3,
     "solution": false,
     "task": false
    }
   },
   "source": [
    "**Question 3.1**\n",
    "<br> {points: 1}\n",
    "\n",
    "If we want to plot compare pledged and goal amounts of funding over time for successful projects in the United States, which columns should we `select` from the table?\n",
    "\n",
    "A. `id`, `slug`, `pledged`\n",
    "\n",
    "B. `pledged`, `goal`, `deadline`, `country`\n",
    "\n",
    "C. `pledged`, `usd_pledged`, `location_id`\n",
    "\n",
    "D. `currency`, `state`, `country`, `goal`\n",
    "\n",
    "_Assign your answer to an object called `answer3_1`. Make sure your answer is an uppercase letter and is surrounded by quotation marks (e.g. `\"F\"`)._"
   ]
  },
  {
   "cell_type": "code",
   "execution_count": null,
   "metadata": {
    "deletable": false,
    "nbgrader": {
     "cell_type": "code",
     "checksum": "80049f1e87c00b054caf797f2437dd89",
     "grade": false,
     "grade_id": "cell-9eb0609ab7bd4c24",
     "locked": false,
     "schema_version": 3,
     "solution": true,
     "task": false
    }
   },
   "outputs": [],
   "source": [
    "# your code here\n",
    "raise NotImplementedError"
   ]
  },
  {
   "cell_type": "code",
   "execution_count": null,
   "metadata": {
    "deletable": false,
    "editable": false,
    "max_height": 100,
    "nbgrader": {
     "cell_type": "code",
     "checksum": "59add8c329ce303f2554af56329a6466",
     "grade": true,
     "grade_id": "cell-c984d14fba25881a",
     "locked": true,
     "points": 1,
     "schema_version": 3,
     "solution": false,
     "task": false
    }
   },
   "outputs": [],
   "source": [
    "from hashlib import sha1\n",
    "assert sha1(str(type(answer3_1)).encode(\"utf-8\")+b\"853909e6abcca096\").hexdigest() == \"e6a2c2eadecb6d6b965f464cbd053b838013685c\", \"type of answer3_1 is not str. answer3_1 should be an str\"\n",
    "assert sha1(str(len(answer3_1)).encode(\"utf-8\")+b\"853909e6abcca096\").hexdigest() == \"dc8b93f2dc8bce7f93155704bcb3c8159ea8d8e0\", \"length of answer3_1 is not correct\"\n",
    "assert sha1(str(answer3_1.lower()).encode(\"utf-8\")+b\"853909e6abcca096\").hexdigest() == \"67492bded6c37f16b0f7da7e1938345b1e27e20d\", \"value of answer3_1 is not correct\"\n",
    "assert sha1(str(answer3_1).encode(\"utf-8\")+b\"853909e6abcca096\").hexdigest() == \"2241d1f8f19c79b86876144973e28f43840d3576\", \"correct string value of answer3_1 but incorrect case of letters\"\n",
    "\n",
    "print('Success!')"
   ]
  },
  {
   "cell_type": "markdown",
   "metadata": {
    "deletable": false,
    "editable": false,
    "nbgrader": {
     "cell_type": "markdown",
     "checksum": "1136f35da560bde0419116913d196695",
     "grade": false,
     "grade_id": "cell-ffe5e8d830e11e01",
     "locked": true,
     "schema_version": 3,
     "solution": false,
     "task": false
    }
   },
   "source": [
    "**Question 3.2**\n",
    "<br> {points: 1}\n",
    "\n",
    "Now we'll visualize the data. In order to do this, we need to take the correct subset of data from the table and use `altair` to plot the result. Note that we make the scatter plot slightly transparent (using `opacity = 0.01` in the code below) because there is so much data that it would otherwise be hard to see anything (*overplotting*).\n",
    "\n",
    "In the below cell, you'll see some lines of code (currently commented out with `#` characters). **Remove the comments and rearrange these lines of code** to plot the ratio of pledged and goal funding as a function of project deadline date for all successful (where pledged funding is greater than goal funding) projects in the United States in the dataset.\n",
    "\n",
    "*Note: there is a lot of data to plot here, so give it a moment to display!*\n",
    "\n",
    "*Hint: you'll want to put all the dataframe manipulation functions first, and then the plotting functions afterward.\n"
   ]
  },
  {
   "cell_type": "code",
   "execution_count": null,
   "metadata": {
    "deletable": false,
    "nbgrader": {
     "cell_type": "code",
     "checksum": "b54fd1472853a95dbc7724e2962014ef",
     "grade": false,
     "grade_id": "cell-9ec0312afc478428",
     "locked": false,
     "schema_version": 3,
     "solution": true,
     "task": false
    }
   },
   "outputs": [],
   "source": [
    "# prj_unfiltered = project_data[[\"deadline\", \"pledged\", \"goal\", \"country\"]]\n",
    "# prj_filtered = prj_unfiltered[\n",
    "#     (prj_unfiltered[\"pledged\"] > prj_unfiltered[\"goal\"])\n",
    "#     & (prj_unfiltered[\"country\"] == \"US\")\n",
    "# ]\n",
    "# funding_over_time_plot = (\n",
    "#     .encode(\n",
    "#         x=alt.X(\"deadline\", title=\"Date\"),\n",
    "#         y=alt.Y(\n",
    "#             \"ratio\",\n",
    "#             title=\"Pledged Funding / Goal Funding\",\n",
    "#             scale=alt.Scale(type=\"log\", base=10),\n",
    "#         ),\n",
    "#     )\n",
    "#     .mark_circle(opacity=0.25)\n",
    "#     .configure_axis(labelFontSize=20, titleFontSize=16, grid=False)\n",
    "#     alt.Chart(prj)\n",
    "# )\n",
    "# prj = prj_filtered.assign(deadline=pd.to_datetime(prj_filtered[\"deadline\"], unit=\"s\"))\n",
    "# prj = prj.assign(ratio=(prj[\"pledged\"] / prj[\"goal\"]))\n",
    "\n",
    "\n",
    "# your code here\n",
    "raise NotImplementedError\n",
    "\n",
    "funding_over_time_plot"
   ]
  },
  {
   "cell_type": "code",
   "execution_count": null,
   "metadata": {
    "deletable": false,
    "editable": false,
    "max_height": 100,
    "nbgrader": {
     "cell_type": "code",
     "checksum": "e1a8a5952fa5ce3fae79bbb83fd1a60e",
     "grade": true,
     "grade_id": "cell-52e8a2b1e3010e05",
     "locked": true,
     "points": 1,
     "schema_version": 3,
     "solution": false,
     "task": false
    }
   },
   "outputs": [],
   "source": [
    "from hashlib import sha1\n",
    "assert sha1(str(type(prj.columns)).encode(\"utf-8\")+b\"66110cbff199021f\").hexdigest() == \"5d046aefe8d33656d63d584cccaacd9a30107777\", \"type of prj.columns is not correct\"\n",
    "assert sha1(str(prj.columns).encode(\"utf-8\")+b\"66110cbff199021f\").hexdigest() == \"73417306bda3e3495ffe851e766a38cdd0a3c68a\", \"value of prj.columns is not correct\"\n",
    "\n",
    "assert sha1(str(type(funding_over_time_plot is None)).encode(\"utf-8\")+b\"4e5db5c7793a2a02\").hexdigest() == \"ac8e7c9355ac0a3a71c62fa228b48ff674a5022c\", \"type of funding_over_time_plot is None is not bool. funding_over_time_plot is None should be a bool\"\n",
    "assert sha1(str(funding_over_time_plot is None).encode(\"utf-8\")+b\"4e5db5c7793a2a02\").hexdigest() == \"3adf541a0fc4b2ddf0ce4c30402e514a2008f3e4\", \"boolean value of funding_over_time_plot is None is not correct\"\n",
    "\n",
    "assert sha1(str(type(funding_over_time_plot.mark)).encode(\"utf-8\")+b\"4d1635bc6ce8067e\").hexdigest() == \"03104164bbb3304d8b9f5278d69bdd6e2475ec76\", \"type of funding_over_time_plot.mark is not correct\"\n",
    "assert sha1(str(funding_over_time_plot.mark).encode(\"utf-8\")+b\"4d1635bc6ce8067e\").hexdigest() == \"15d1ccdef0f98ebfa0eb49908951cbf1a76b94c1\", \"value of funding_over_time_plot.mark is not correct\"\n",
    "\n",
    "assert sha1(str(type(funding_over_time_plot.encoding.x.field)).encode(\"utf-8\")+b\"f280f29f64abdaa3\").hexdigest() == \"e9b5846021f58cfdae20d0a6754119edfe349ad2\", \"type of funding_over_time_plot.encoding.x.field is not str. funding_over_time_plot.encoding.x.field should be an str\"\n",
    "assert sha1(str(len(funding_over_time_plot.encoding.x.field)).encode(\"utf-8\")+b\"f280f29f64abdaa3\").hexdigest() == \"077dc02ddcec7d472062535e689e35fc74e1adb6\", \"length of funding_over_time_plot.encoding.x.field is not correct\"\n",
    "assert sha1(str(funding_over_time_plot.encoding.x.field.lower()).encode(\"utf-8\")+b\"f280f29f64abdaa3\").hexdigest() == \"7d89ce98aa823e935051c077d541cbc3b02ffc3f\", \"value of funding_over_time_plot.encoding.x.field is not correct\"\n",
    "assert sha1(str(funding_over_time_plot.encoding.x.field).encode(\"utf-8\")+b\"f280f29f64abdaa3\").hexdigest() == \"7d89ce98aa823e935051c077d541cbc3b02ffc3f\", \"correct string value of funding_over_time_plot.encoding.x.field but incorrect case of letters\"\n",
    "\n",
    "assert sha1(str(type(funding_over_time_plot.encoding.y.field)).encode(\"utf-8\")+b\"0a10716d45417302\").hexdigest() == \"50d5fb96bd72cecf4b2b55b8a623671625825b36\", \"type of funding_over_time_plot.encoding.y.field is not str. funding_over_time_plot.encoding.y.field should be an str\"\n",
    "assert sha1(str(len(funding_over_time_plot.encoding.y.field)).encode(\"utf-8\")+b\"0a10716d45417302\").hexdigest() == \"cec882c43f379d597f2b761b2301415a5ed0f573\", \"length of funding_over_time_plot.encoding.y.field is not correct\"\n",
    "assert sha1(str(funding_over_time_plot.encoding.y.field.lower()).encode(\"utf-8\")+b\"0a10716d45417302\").hexdigest() == \"ce228ff59c3e73c02f11072fba32f296ee185094\", \"value of funding_over_time_plot.encoding.y.field is not correct\"\n",
    "assert sha1(str(funding_over_time_plot.encoding.y.field).encode(\"utf-8\")+b\"0a10716d45417302\").hexdigest() == \"ce228ff59c3e73c02f11072fba32f296ee185094\", \"correct string value of funding_over_time_plot.encoding.y.field but incorrect case of letters\"\n",
    "\n",
    "assert sha1(str(type(funding_over_time_plot.encoding.x.title)).encode(\"utf-8\")+b\"f75eea882b4a8bdc\").hexdigest() == \"5ce3551893ad8f9695671e4a3892b39066f8bc44\", \"type of funding_over_time_plot.encoding.x.title is not str. funding_over_time_plot.encoding.x.title should be an str\"\n",
    "assert sha1(str(len(funding_over_time_plot.encoding.x.title)).encode(\"utf-8\")+b\"f75eea882b4a8bdc\").hexdigest() == \"b6bba50d105df3cecfdb6cdf74052a22bf4062c6\", \"length of funding_over_time_plot.encoding.x.title is not correct\"\n",
    "assert sha1(str(funding_over_time_plot.encoding.x.title.lower()).encode(\"utf-8\")+b\"f75eea882b4a8bdc\").hexdigest() == \"d7d5e684299d268b7daee3320ce508fcfaed0867\", \"value of funding_over_time_plot.encoding.x.title is not correct\"\n",
    "assert sha1(str(funding_over_time_plot.encoding.x.title).encode(\"utf-8\")+b\"f75eea882b4a8bdc\").hexdigest() == \"0bab76bcc15fac89db587c64d5d1a1ae3b59c68f\", \"correct string value of funding_over_time_plot.encoding.x.title but incorrect case of letters\"\n",
    "\n",
    "assert sha1(str(type(funding_over_time_plot.encoding.y.title)).encode(\"utf-8\")+b\"b68373173a856e37\").hexdigest() == \"6487d1dd037854f18c6e4e1775ea01b9e3202516\", \"type of funding_over_time_plot.encoding.y.title is not str. funding_over_time_plot.encoding.y.title should be an str\"\n",
    "assert sha1(str(len(funding_over_time_plot.encoding.y.title)).encode(\"utf-8\")+b\"b68373173a856e37\").hexdigest() == \"e107fcd48cebbb996d18cc1535789097640a04ae\", \"length of funding_over_time_plot.encoding.y.title is not correct\"\n",
    "assert sha1(str(funding_over_time_plot.encoding.y.title.lower()).encode(\"utf-8\")+b\"b68373173a856e37\").hexdigest() == \"1f2764281a32b4b71b8befadc8ba560b6329a828\", \"value of funding_over_time_plot.encoding.y.title is not correct\"\n",
    "assert sha1(str(funding_over_time_plot.encoding.y.title).encode(\"utf-8\")+b\"b68373173a856e37\").hexdigest() == \"978c28bb7387a86fb40a4d6c6983036e6761da76\", \"correct string value of funding_over_time_plot.encoding.y.title but incorrect case of letters\"\n",
    "\n",
    "print('Success!')"
   ]
  },
  {
   "cell_type": "markdown",
   "metadata": {
    "deletable": false,
    "editable": false,
    "nbgrader": {
     "cell_type": "markdown",
     "checksum": "7c307ae05ded7d44c276b5e75ca11395",
     "grade": false,
     "grade_id": "cell-6924d6750738281e",
     "locked": true,
     "schema_version": 3,
     "solution": false,
     "task": false
    }
   },
   "source": [
    "**Question 3.3**\n",
    "<br> {points: 3}\n",
    "\n",
    "Is there a relationship between the ratio of pledged/goal funding and time? If so, describe it. \n",
    "\n",
    "Additionally, mention a pattern in the data or a characteristic of it that you may not have expected in advance."
   ]
  },
  {
   "cell_type": "markdown",
   "metadata": {
    "deletable": false,
    "max_height": 100,
    "nbgrader": {
     "cell_type": "markdown",
     "checksum": "f8a415075c26b9ec7d44b647d57d9087",
     "grade": true,
     "grade_id": "cell-7e7c080ca369e735",
     "locked": false,
     "points": 3,
     "schema_version": 3,
     "solution": true,
     "task": false
    }
   },
   "source": [
    "DOUBLE CLICK TO EDIT **THIS CELL** AND REPLACE THIS TEXT WITH YOUR ANSWER."
   ]
  },
  {
   "cell_type": "markdown",
   "metadata": {
    "deletable": false,
    "editable": false,
    "nbgrader": {
     "cell_type": "markdown",
     "checksum": "1e870c709fc34b74590af81c2c49d456",
     "grade": false,
     "grade_id": "cell-b4092fe897ccd0f2",
     "locked": true,
     "schema_version": 3,
     "solution": false,
     "task": false
    }
   },
   "source": [
    "**Question 3.4**\n",
    "<br> {points: 1}\n",
    "\n",
    "Finally, we'll save the project data to a local file in the `data/` folder called `project_data.csv`. Recall that we don't want to try to download and save the *entire dataset* (way too much data!) from the database, but only the `DataFrame` object named `prj`. \n"
   ]
  },
  {
   "cell_type": "code",
   "execution_count": null,
   "metadata": {
    "deletable": false,
    "nbgrader": {
     "cell_type": "code",
     "checksum": "2f6d4a3ced066830d7ac5783d75f49a1",
     "grade": false,
     "grade_id": "cell-d9df612336bc209a",
     "locked": false,
     "schema_version": 3,
     "solution": true,
     "task": false
    }
   },
   "outputs": [],
   "source": [
    "# your code here\n",
    "raise NotImplementedError"
   ]
  },
  {
   "cell_type": "code",
   "execution_count": null,
   "metadata": {
    "deletable": false,
    "editable": false,
    "max_height": 100,
    "nbgrader": {
     "cell_type": "code",
     "checksum": "b85dbb4763d122391d4e55dfb6c0db20",
     "grade": true,
     "grade_id": "cell-38725218bfd3fa34",
     "locked": true,
     "points": 1,
     "schema_version": 3,
     "solution": false,
     "task": false
    }
   },
   "outputs": [],
   "source": [
    "from hashlib import sha1\n",
    "assert sha1(str(type(os.path.exists('data/project_data.csv'))).encode(\"utf-8\")+b\"ba4b93836d088b38\").hexdigest() == \"a312cdcdd0b2356616c4d48b68af3ad290394e91\", \"type of os.path.exists('data/project_data.csv') is not bool. os.path.exists('data/project_data.csv') should be a bool\"\n",
    "assert sha1(str(os.path.exists('data/project_data.csv')).encode(\"utf-8\")+b\"ba4b93836d088b38\").hexdigest() == \"9b412c487c1ce66697ace88f804de626feab253f\", \"boolean value of os.path.exists('data/project_data.csv') is not correct\"\n",
    "\n",
    "assert sha1(str(type(pd.read_csv(\"data/project_data.csv\").columns)).encode(\"utf-8\")+b\"248fdc1f457d0bd8\").hexdigest() == \"04d81ac67b8ce6796bc61da59c1aafbd56e2d69f\", \"type of pd.read_csv(\\\"data/project_data.csv\\\").columns is not correct\"\n",
    "assert sha1(str(pd.read_csv(\"data/project_data.csv\").columns).encode(\"utf-8\")+b\"248fdc1f457d0bd8\").hexdigest() == \"518c75b0d92adede69071927f8affa9775eccf7e\", \"value of pd.read_csv(\\\"data/project_data.csv\\\").columns is not correct\"\n",
    "\n",
    "print('Success!')"
   ]
  },
  {
   "cell_type": "markdown",
   "metadata": {
    "deletable": false,
    "editable": false,
    "nbgrader": {
     "cell_type": "markdown",
     "checksum": "faa61a35b049b204386eafd6b0b13b4e",
     "grade": false,
     "grade_id": "cell-c3a172ed85763db9",
     "locked": true,
     "schema_version": 3,
     "solution": false
    }
   },
   "source": [
    "## 4 (Optional). Reading Data from the Internet\n",
    "\n",
    "**Question 4.0**\n",
    "<br> {points: 0}\n",
    "\n",
    "More practice scraping! To keep ourselves out of legal hot water, we will get more practice scraping data using a website that was created for that purpose: http://books.toscrape.com/\n",
    "\n",
    "Your task here is to scrape the prices of the science fiction novels on [this page](http://books.toscrape.com/catalogue/category/books/science-fiction_16/index.html) and determine the maximum, minimum and average price of science fiction novels at this bookstore. Tidy up and nicely present your results by creating a data frame called `sci_fi_stats` that has 2 columns, one called `stats` that contains the words `max`, `min` and `mean` and once called `value` that contains the calculated value for each of these.\n",
    "\n",
    "The functions for maximum, minimum and average in Python are listed in the table below:\n",
    "\n",
    "| Calculation to perform | Function in Python |\n",
    "| ---------------------- | ------------- |\n",
    "| maximum                | `max`         |\n",
    "| minimum                | `min`         |\n",
    "| average                | `sum/len`        |\n",
    "\n",
    "*Note: Python doesn't have build in function to calculate the mean for a list, however `numpy` has a mean function. If you are interested, you could use `np.mean` instead of the function listed above.\n",
    "\n",
    "Some other helpful hints:\n",
    "- If you end up scraping some characters other than numbers you will have to use `str.replace` to remove them (similar to what we did with the commas in worksheet_02).\n",
    "- Use `float` to convert your character type numbers to numeric type numbers before you pass them into the `max`, `min` and `sum/len` functions.\n",
    "- Create a list that will go in your data frame, for example, to create a list with the values 10, 16 and 13 named ages, we would type: `ages = [10, 16, 13]`.\n",
    "- use the function `pd.DataFrame` to create the data frame from your list."
   ]
  },
  {
   "cell_type": "code",
   "execution_count": null,
   "metadata": {
    "deletable": false,
    "editable": false,
    "nbgrader": {
     "cell_type": "code",
     "checksum": "eee1d6d459eaeb5e6b2d7ca241148a00",
     "grade": false,
     "grade_id": "cell-20c0e68beb0d830e",
     "locked": true,
     "schema_version": 3,
     "solution": false,
     "task": false
    }
   },
   "outputs": [],
   "source": [
    "### Run this cell before continuing\n",
    "import requests\n",
    "from bs4 import BeautifulSoup"
   ]
  },
  {
   "cell_type": "code",
   "execution_count": null,
   "metadata": {
    "deletable": false,
    "max_height": 100,
    "nbgrader": {
     "cell_type": "code",
     "checksum": "8902c853ddec5bcdd5ad1e0739d10114",
     "grade": true,
     "grade_id": "cell-cdd2ec3a736e9ec0",
     "locked": false,
     "points": 3,
     "schema_version": 3,
     "solution": true,
     "task": false
    }
   },
   "outputs": [],
   "source": [
    "# your code here\n",
    "raise NotImplementedError\n",
    "sci_fi_stats"
   ]
  },
  {
   "cell_type": "markdown",
   "metadata": {
    "deletable": false,
    "editable": false,
    "nbgrader": {
     "cell_type": "markdown",
     "checksum": "c2c9da816b63c91f19d98f771bd404e5",
     "grade": false,
     "grade_id": "cell-13d529c24ab24f75",
     "locked": true,
     "schema_version": 3,
     "solution": false
    }
   },
   "source": [
    "**Question 4.1**\n",
    "<br> {points: 0}\n",
    "\n",
    "In `worksheet_02` you had practice scraping data from the web. Now that you have the skills, should you scrape that website you have been dreaming of harvesting data from? Maybe, maybe not... You should check the website's Terms of Service first and consider the application you have planned for the data after you scrape it.\n",
    "\n",
    "List 3 websites you might be interested in scraping data from (for fun, profit, or research/education). List their URLs as part of your answer. For each website, search for their Terms of Service page. Take note if such a page exists, and if it does, provide the link to it and tell us whether or not they allow web scraping of their website."
   ]
  },
  {
   "cell_type": "markdown",
   "metadata": {
    "deletable": false,
    "max_height": 100,
    "nbgrader": {
     "cell_type": "markdown",
     "checksum": "96d3cb9e0949186a762fc18f5415d2c4",
     "grade": true,
     "grade_id": "cell-2ac9674598efb69a",
     "locked": false,
     "points": 3,
     "schema_version": 3,
     "solution": true
    }
   },
   "source": [
    "DOUBLE CLICK TO EDIT **THIS CELL** AND REPLACE THIS TEXT WITH YOUR ANSWER."
   ]
  },
  {
   "cell_type": "markdown",
   "metadata": {
    "deletable": false,
    "editable": false,
    "nbgrader": {
     "cell_type": "markdown",
     "checksum": "14dec927f877ea01324d2d7d37cf5b1b",
     "grade": false,
     "grade_id": "cell-902d3d49c93b4eac",
     "locked": true,
     "schema_version": 3,
     "solution": false,
     "task": false
    }
   },
   "source": [
    "### Bonus/optional additional readings on legalities of web scraping:\n",
    "\n",
    "Here are two recent news stories about web scraping and their legal implications:\n",
    "\n",
    "- [D.C. Court: Accessing Public Information is Not a Computer Crime](https://www.eff.org/deeplinks/2018/04/dc-court-accessing-public-information-not-computer-crime)\n",
    "\n",
    "- [Dear Canada: Accessing Publicly Available Information on the Internet Is Not a Crime](https://www.eff.org/deeplinks/2018/04/dear-canada-accessing-publicly-available-information-internet-not-crime)"
   ]
  },
  {
   "cell_type": "code",
   "execution_count": null,
   "metadata": {
    "deletable": false,
    "editable": false,
    "nbgrader": {
     "cell_type": "code",
     "checksum": "a1edd0742fc7c35bc3c0e5134f3e417a",
     "grade": false,
     "grade_id": "cell-4d35a9e96ab52622",
     "locked": true,
     "schema_version": 3,
     "solution": false,
     "task": false
    }
   },
   "outputs": [],
   "source": [
    "try:\n",
    "    os.remove(\"data/WHR2018Chapter2OnlineData.xls\")\n",
    "except:\n",
    "    None"
   ]
  },
  {
   "cell_type": "code",
   "execution_count": null,
   "metadata": {
    "deletable": false,
    "editable": false,
    "nbgrader": {
     "cell_type": "code",
     "checksum": "9966e7e57e6fa08f4c11c42a7216db82",
     "grade": false,
     "grade_id": "cell-1073bcd0ad542d59",
     "locked": true,
     "schema_version": 3,
     "solution": false,
     "task": false
    }
   },
   "outputs": [],
   "source": [
    "try:\n",
    "    os.remove(\"data/project_data.csv\")\n",
    "except:\n",
    "    None"
   ]
  },
  {
   "cell_type": "code",
   "execution_count": null,
   "metadata": {},
   "outputs": [],
   "source": []
  }
 ],
 "metadata": {
  "jupytext": {
   "encoding": "# -*- coding: utf-8 -*-"
  },
  "kernelspec": {
   "display_name": "Python 3 (ipykernel)",
   "language": "python",
   "name": "python3"
  },
  "language_info": {
   "codemirror_mode": {
    "name": "ipython",
    "version": 3
   },
   "file_extension": ".py",
   "mimetype": "text/x-python",
   "name": "python",
   "nbconvert_exporter": "python",
   "pygments_lexer": "ipython3",
   "version": "3.10.8"
  }
 },
 "nbformat": 4,
 "nbformat_minor": 4
}
