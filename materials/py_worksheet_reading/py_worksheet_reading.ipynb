{
 "cells": [
  {
   "cell_type": "markdown",
   "metadata": {
    "deletable": false,
    "editable": false,
    "nbgrader": {
     "cell_type": "markdown",
     "checksum": "cf0c8ddc09433fe0a449ea90838f184e",
     "grade": false,
     "grade_id": "cell-b41ef16616efdfa8",
     "locked": true,
     "schema_version": 3,
     "solution": false,
     "task": false
    }
   },
   "source": [
    "# Worksheet 2: Introduction to Reading Data\n",
    "\n",
    "You can read more about course policies on the [course website](https://github.com/UBC-DSCI/dsci-100-python).\n",
    "\n",
    "### Lecture and Tutorial Learning Goals:\n",
    "\n",
    "After completing this week's lecture and tutorial work, you will be able to:\n",
    "\n",
    "* define the following:\n",
    "    - absolute file path\n",
    "    - relative file path\n",
    "    - url\n",
    "* read data into Python using a relative path and a url\n",
    "* compare and contrast the following functions:\n",
    "    - `read_csv` \n",
    "    - `read_table`\n",
    "    - `read_excel`\n",
    "* match the following `pandas` `read_*` function arguments to their descriptions:\n",
    "    - `filepath_or_buffer` \n",
    "    - `sep`\n",
    "    - `names`\n",
    "    - `skiprows`\n",
    "* Connect to a database using the `ibis` library's `connect` function.\n",
    "* List the tables in a database using the `ibis` library's `list_tables` function\n",
    "* Create a reference to a database table using the `ibis` library's `table` function\n",
    "* Execute queries to bring data from a database into Python using the `ibis` library's `execute` function\n",
    "* Use `to_csv` to save a data frame to a `.csv` file\n",
    "\n",
    "\n",
    "This worksheet covers parts of [Chapter 2](https://ubc-dsci.github.io/introduction-to-datascience-python/reading.html) of the online textbook. You should read this chapter before attempting the worksheet."
   ]
  },
  {
   "cell_type": "code",
   "execution_count": null,
   "metadata": {
    "deletable": false,
    "editable": false,
    "lines_to_next_cell": 2,
    "nbgrader": {
     "cell_type": "code",
     "checksum": "7059f774c3b3cc0749445a9d3263b3e6",
     "grade": false,
     "grade_id": "cell-f0df10f129a73fe7",
     "locked": true,
     "schema_version": 3,
     "solution": false,
     "task": false
    }
   },
   "outputs": [],
   "source": [
    "### Run this cell before continuing.\n",
    "import os\n",
    "\n",
    "import altair as alt\n",
    "import pandas as pd\n",
    "import numpy as np\n",
    "\n",
    "alt.data_transformers.disable_max_rows();"
   ]
  },
  {
   "cell_type": "code",
   "execution_count": null,
   "metadata": {
    "deletable": false,
    "editable": false,
    "lines_to_next_cell": 2,
    "nbgrader": {
     "cell_type": "code",
     "checksum": "e50874e7fa1bba842c9b93f3fe109c7e",
     "grade": false,
     "grade_id": "cell-a6632ec0f6a1911b",
     "locked": true,
     "schema_version": 3,
     "solution": false,
     "task": false
    }
   },
   "outputs": [],
   "source": [
    "### Run this cell before continuing.\n",
    "try:\n",
    "    os.remove(\"data/delay_data.csv\")\n",
    "except:\n",
    "    None"
   ]
  },
  {
   "cell_type": "markdown",
   "metadata": {
    "deletable": false,
    "editable": false,
    "nbgrader": {
     "cell_type": "markdown",
     "checksum": "e550bcec85654ce3ac3d9a3fe6a9f3f0",
     "grade": false,
     "grade_id": "cell-01937bf399a7f45d",
     "locked": true,
     "schema_version": 3,
     "solution": false,
     "task": false
    }
   },
   "source": [
    "## 1. Comparing Absolute Paths, Relative Paths, and URLs"
   ]
  },
  {
   "cell_type": "markdown",
   "metadata": {
    "deletable": false,
    "editable": false,
    "nbgrader": {
     "cell_type": "markdown",
     "checksum": "0f457118b48d36d823f12788695deec3",
     "grade": false,
     "grade_id": "cell-53313c72991fc35b",
     "locked": true,
     "schema_version": 3,
     "solution": false,
     "task": false
    }
   },
   "source": [
    "**Question 1.1** Multiple Choice:\n",
    "<br> {points: 1}\n",
    "\n",
    "If you needed to read a file using an absolute path, what would be the first symbol in your argument `(___)` when using the `pd.read_csv` function?\n",
    "\n",
    "A. `pd.read_csv(\">___\")`\n",
    "\n",
    "B. `pd.read_csv(\";___\")`\n",
    "\n",
    "C. `pd.read_csv(\"___\")`\n",
    "\n",
    "D. `pd.read_csv(\"/___\")`\n",
    "\n",
    "*Assign your answer to an object called `answer1_1`. Make sure your answer is an uppercase letter and is surrounded by quotation marks (e.g. `\"F\"`).*"
   ]
  },
  {
   "cell_type": "code",
   "execution_count": null,
   "metadata": {
    "deletable": false,
    "nbgrader": {
     "cell_type": "code",
     "checksum": "93f74cea0dc822ed646423205e60c47f",
     "grade": false,
     "grade_id": "cell-31f6bcc763a6c19f",
     "locked": false,
     "schema_version": 3,
     "solution": true,
     "task": false
    }
   },
   "outputs": [],
   "source": [
    "# your code here\n",
    "raise NotImplementedError"
   ]
  },
  {
   "cell_type": "code",
   "execution_count": null,
   "metadata": {
    "deletable": false,
    "editable": false,
    "max_height": 100,
    "nbgrader": {
     "cell_type": "code",
     "checksum": "4e3487893ad43aa8bdbddb3b2afc8ac8",
     "grade": true,
     "grade_id": "cell-0d7a29b2deaf9cfe",
     "locked": true,
     "points": 3,
     "schema_version": 3,
     "solution": false,
     "task": false
    }
   },
   "outputs": [],
   "source": [
    "from hashlib import sha1\n",
    "assert sha1(str(type(answer1_1)).encode(\"utf-8\")+b\"4efb36e60d4f221b\").hexdigest() == \"907106f63fd85113d950c27a56c908ec6f1fdc73\", \"type of answer1_1 is not str. answer1_1 should be an str\"\n",
    "assert sha1(str(len(answer1_1)).encode(\"utf-8\")+b\"4efb36e60d4f221b\").hexdigest() == \"6c0d0b7f86c7e566f2e13f374ad99e9515b3f5ba\", \"length of answer1_1 is not correct\"\n",
    "assert sha1(str(answer1_1.lower()).encode(\"utf-8\")+b\"4efb36e60d4f221b\").hexdigest() == \"d249d2c46f1d27f0e552500e94f30e552b654425\", \"value of answer1_1 is not correct\"\n",
    "assert sha1(str(answer1_1).encode(\"utf-8\")+b\"4efb36e60d4f221b\").hexdigest() == \"9dd2630baf837f3eef7ba84059c97822a199cba4\", \"correct string value of answer1_1 but incorrect case of letters\"\n",
    "\n",
    "print('Success!')"
   ]
  },
  {
   "cell_type": "markdown",
   "metadata": {
    "deletable": false,
    "editable": false,
    "nbgrader": {
     "cell_type": "markdown",
     "checksum": "e5f55656a582ab7fd1c8509055f71558",
     "grade": false,
     "grade_id": "cell-285561d2d852e675",
     "locked": true,
     "schema_version": 3,
     "solution": false,
     "task": false
    }
   },
   "source": [
    "**Question 1.2** True or False: \n",
    "<br> {points: 1}\n",
    "\n",
    "The file argument in the `pd.read_csv` function that uses an absolute path can *never* look like that of a relative path?\n",
    "\n",
    "*Assign your answer to an object called `answer1_2`. Make sure your answer is a boolean (e.g. `True` or `False`).* "
   ]
  },
  {
   "cell_type": "code",
   "execution_count": null,
   "metadata": {
    "deletable": false,
    "nbgrader": {
     "cell_type": "code",
     "checksum": "f46d68720dee0931dd0c9423ea4286cb",
     "grade": false,
     "grade_id": "cell-4e1a9125a5d354ca",
     "locked": false,
     "schema_version": 3,
     "solution": true,
     "task": false
    }
   },
   "outputs": [],
   "source": [
    "# your code here\n",
    "raise NotImplementedError"
   ]
  },
  {
   "cell_type": "code",
   "execution_count": null,
   "metadata": {
    "deletable": false,
    "editable": false,
    "max_height": 100,
    "nbgrader": {
     "cell_type": "code",
     "checksum": "f3b63a8e3be90b57f3ecbeebf851f203",
     "grade": true,
     "grade_id": "cell-3b1e215bff84eb7b",
     "locked": true,
     "points": 3,
     "schema_version": 3,
     "solution": false,
     "task": false
    }
   },
   "outputs": [],
   "source": [
    "from hashlib import sha1\n",
    "assert sha1(str(type(answer1_2)).encode(\"utf-8\")+b\"e14268ede5991e3e\").hexdigest() == \"442821d2ea13874ca93fb641f19cf025c98f0ee4\", \"type of answer1_2 is not bool. answer1_2 should be a bool\"\n",
    "assert sha1(str(answer1_2).encode(\"utf-8\")+b\"e14268ede5991e3e\").hexdigest() == \"72754e1202cc3a3f13ca3657fdbae1ba87c79316\", \"boolean value of answer1_2 is not correct\"\n",
    "\n",
    "print('Success!')"
   ]
  },
  {
   "cell_type": "markdown",
   "metadata": {
    "deletable": false,
    "editable": false,
    "nbgrader": {
     "cell_type": "markdown",
     "checksum": "5672088845dd830dabba735f872ba9e7",
     "grade": false,
     "grade_id": "cell-f57fc85cb8f2edc5",
     "locked": true,
     "schema_version": 3,
     "solution": false,
     "task": false
    }
   },
   "source": [
    "**Question 1.3** \n",
    "Match the following paths with the correct path type that they represent:\n",
    "<br> {points: 1}\n",
    "\n",
    "*Example Path*\n",
    "\n",
    "A. `/Users/my_user/Desktop/UBC/BIOL363/SciaticNerveLab/sn_trial_1.xlsx`\n",
    "\n",
    "B. `https://www.ubc.ca`\n",
    "\n",
    "C. `file_1.csv`\n",
    "\n",
    "D. `/Users/name/Documents/Course_A/homework/my_first_homework.docx`\n",
    "\n",
    "E. `homework/my_second_homework.docx`\n",
    "\n",
    "F. `https://www.random_website.com`\n",
    "\n",
    "\n",
    "*Path Type*\n",
    "\n",
    "1. absolute\n",
    "2. relative\n",
    "3. URL\n",
    "\n",
    "For every argument, create an object using the letter associated with the example path and assign it the corresponding number from the list of path types. For example: `B = 1`. "
   ]
  },
  {
   "cell_type": "code",
   "execution_count": null,
   "metadata": {
    "deletable": false,
    "nbgrader": {
     "cell_type": "code",
     "checksum": "159c291290642c9a5204daa74e0f6ea1",
     "grade": false,
     "grade_id": "cell-f0b3c00004a32ddd",
     "locked": false,
     "schema_version": 3,
     "solution": true,
     "task": false
    }
   },
   "outputs": [],
   "source": [
    "# your code here\n",
    "raise NotImplementedError"
   ]
  },
  {
   "cell_type": "code",
   "execution_count": null,
   "metadata": {
    "deletable": false,
    "editable": false,
    "max_height": 100,
    "nbgrader": {
     "cell_type": "code",
     "checksum": "93ed8349ce798eeb640a2d93410af331",
     "grade": true,
     "grade_id": "cell-81b5979634cdb51d",
     "locked": true,
     "points": 3,
     "schema_version": 3,
     "solution": false,
     "task": false
    }
   },
   "outputs": [],
   "source": [
    "from hashlib import sha1\n",
    "assert sha1(str(type(A)).encode(\"utf-8\")+b\"4a0545a64a9a9648\").hexdigest() == \"f7f8860ac3789160c6995a1edc061a8d89d3b5ba\", \"type of A is not int. Please make sure it is int and not np.int64, etc. You can cast your value into an int using int()\"\n",
    "assert sha1(str(A).encode(\"utf-8\")+b\"4a0545a64a9a9648\").hexdigest() == \"223582d57806f6b519d2f8c7415f61cef9246bf3\", \"value of A is not correct\"\n",
    "\n",
    "assert sha1(str(type(B)).encode(\"utf-8\")+b\"b8331c60ce7522bb\").hexdigest() == \"ab2d7ebdc790503df2058b9208ea0fb030014095\", \"type of B is not int. Please make sure it is int and not np.int64, etc. You can cast your value into an int using int()\"\n",
    "assert sha1(str(B).encode(\"utf-8\")+b\"b8331c60ce7522bb\").hexdigest() == \"8a3119deddd5006203b2c1638404908b3a3ddae1\", \"value of B is not correct\"\n",
    "\n",
    "assert sha1(str(type(C)).encode(\"utf-8\")+b\"3389ce60021f100e\").hexdigest() == \"f9206b8c8902cfb10334a48246d0b1b844cac3f2\", \"type of C is not int. Please make sure it is int and not np.int64, etc. You can cast your value into an int using int()\"\n",
    "assert sha1(str(C).encode(\"utf-8\")+b\"3389ce60021f100e\").hexdigest() == \"c3b5413be552835e0dee44c1f1075abc02683407\", \"value of C is not correct\"\n",
    "\n",
    "assert sha1(str(type(D)).encode(\"utf-8\")+b\"ab1662b554aad156\").hexdigest() == \"d46ead5eb0e318e83f9ea3880d3a179f4eaac10c\", \"type of D is not int. Please make sure it is int and not np.int64, etc. You can cast your value into an int using int()\"\n",
    "assert sha1(str(D).encode(\"utf-8\")+b\"ab1662b554aad156\").hexdigest() == \"8efb08cfdca925dbd42ca0c15a733bf5bf5b8a76\", \"value of D is not correct\"\n",
    "\n",
    "assert sha1(str(type(E)).encode(\"utf-8\")+b\"2f95302ba50951fe\").hexdigest() == \"4da6bf5781c66342b553fffee4db198856e00e30\", \"type of E is not int. Please make sure it is int and not np.int64, etc. You can cast your value into an int using int()\"\n",
    "assert sha1(str(E).encode(\"utf-8\")+b\"2f95302ba50951fe\").hexdigest() == \"fb3f0804ab9843f46fc1d06d723b3e5e4b79c5e4\", \"value of E is not correct\"\n",
    "\n",
    "assert sha1(str(type(F)).encode(\"utf-8\")+b\"47b206f74ab1dd50\").hexdigest() == \"ba1faa8cc9a23839ffd174231e6fac43fa57934b\", \"type of F is not int. Please make sure it is int and not np.int64, etc. You can cast your value into an int using int()\"\n",
    "assert sha1(str(F).encode(\"utf-8\")+b\"47b206f74ab1dd50\").hexdigest() == \"c448f3716cf1141a13fd6f2b37d4e6ab0a65a2ae\", \"value of F is not correct\"\n",
    "\n",
    "print('Success!')"
   ]
  },
  {
   "cell_type": "markdown",
   "metadata": {
    "deletable": false,
    "editable": false,
    "nbgrader": {
     "cell_type": "markdown",
     "checksum": "d64b9a26572215d9086ac311ed5ba1b8",
     "grade": false,
     "grade_id": "cell-f99a3b9bb2d39344",
     "locked": true,
     "schema_version": 3,
     "solution": false,
     "task": false
    }
   },
   "source": [
    "**Question 1.4** Multiple Choice:\n",
    "<br> {points: 1}\n",
    "\n",
    "If the absolute path to a data file looks like this: `/Users/my_user/Desktop/UBC/BIOL363/SciaticNerveLab/sn_trial_1.xlsx`\n",
    "\n",
    "What would the relative path look like if the working directory (i.e., where the Jupyter notebook is where you are running your Python code from) is now located in the `UBC` folder?\n",
    "\n",
    "A. `sn_trial_1.xlsx`\n",
    "\n",
    "B. `/SciaticNerveLab/sn_trial_1.xlsx`\n",
    "\n",
    "C. `BIOL363/SciaticNerveLab/sn_trial_1.xlsx`\n",
    "\n",
    "D. `UBC/BIOL363/SciaticNerveLab/sn_trial_1.xlsx`\n",
    "\n",
    "E. `/BIOL363/SciaticNerveLab/sn_trial_1.xlsx`\n",
    "\n",
    "*Assign your answer to an object called `answer1_4`. Make sure your answer is an uppercase letter and is surrounded by quotation marks (e.g. `\"F\"`).* "
   ]
  },
  {
   "cell_type": "code",
   "execution_count": null,
   "metadata": {
    "deletable": false,
    "nbgrader": {
     "cell_type": "code",
     "checksum": "57d6bc1e7faeff7d7f5ff7e2d3173445",
     "grade": false,
     "grade_id": "cell-010c531f8b38479c",
     "locked": false,
     "schema_version": 3,
     "solution": true,
     "task": false
    }
   },
   "outputs": [],
   "source": [
    "# your code here\n",
    "raise NotImplementedError"
   ]
  },
  {
   "cell_type": "code",
   "execution_count": null,
   "metadata": {
    "deletable": false,
    "editable": false,
    "max_height": 100,
    "nbgrader": {
     "cell_type": "code",
     "checksum": "c06e0788ed6de25cf479f9aafe34b7b3",
     "grade": true,
     "grade_id": "cell-496ddf4b95dcd6c9",
     "locked": true,
     "points": 3,
     "schema_version": 3,
     "solution": false,
     "task": false
    }
   },
   "outputs": [],
   "source": [
    "from hashlib import sha1\n",
    "assert sha1(str(type(answer1_4)).encode(\"utf-8\")+b\"75370adc7103c3a5\").hexdigest() == \"e429527a5964830ec888489c201b4193f10f8585\", \"type of answer1_4 is not str. answer1_4 should be an str\"\n",
    "assert sha1(str(len(answer1_4)).encode(\"utf-8\")+b\"75370adc7103c3a5\").hexdigest() == \"ccebeff3043355e6c3c11584d7ae1bb4cabd4998\", \"length of answer1_4 is not correct\"\n",
    "assert sha1(str(answer1_4.lower()).encode(\"utf-8\")+b\"75370adc7103c3a5\").hexdigest() == \"f0a21b01f8e642c22f422a4b562dc6a5abdb46bd\", \"value of answer1_4 is not correct\"\n",
    "assert sha1(str(answer1_4).encode(\"utf-8\")+b\"75370adc7103c3a5\").hexdigest() == \"4479f3b10ad3810a226120a990d767e1fa1ce67e\", \"correct string value of answer1_4 but incorrect case of letters\"\n",
    "\n",
    "print('Success!')"
   ]
  },
  {
   "cell_type": "markdown",
   "metadata": {
    "deletable": false,
    "editable": false,
    "nbgrader": {
     "cell_type": "markdown",
     "checksum": "e3a7ec8c7b6ca5b3e4600ee0f8b83c10",
     "grade": false,
     "grade_id": "cell-0092b78e05e366e8",
     "locked": true,
     "schema_version": 3,
     "solution": false,
     "task": false
    }
   },
   "source": [
    "**Question 1.5**\n",
    "<br> {points: 1}\n",
    "\n",
    "Match the following paths with the most likely kind of data format they contain. \n",
    "\n",
    "*Paths:*\n",
    "\n",
    "1. `https://www.ubc.ca/datasets/data.db`\n",
    "2. `/home/user/downloads/data.xlsx`\n",
    "3. `data.tsv`\n",
    "4. `examples/data/data.csv`\n",
    "5. `https://en.wikipedia.org/wiki/Normal_distribution`\n",
    "\n",
    "*Dataset Types:*\n",
    "\n",
    "A. Excel Spreadsheet\n",
    "\n",
    "B. Database\n",
    "\n",
    "C. HTML file\n",
    "\n",
    "D. Comma-separated values file\n",
    "\n",
    "E. Tab-separated values file\n",
    "\n",
    "For every dataset type, create an object using the letter associated with the example and assign it the corresponding number from the list of paths. For example: `F = 5`\n"
   ]
  },
  {
   "cell_type": "code",
   "execution_count": null,
   "metadata": {
    "deletable": false,
    "nbgrader": {
     "cell_type": "code",
     "checksum": "3fb4ba5bcb309cefe6bae82416006152",
     "grade": false,
     "grade_id": "cell-2b98d9f0abe41b3c",
     "locked": false,
     "schema_version": 3,
     "solution": true,
     "task": false
    }
   },
   "outputs": [],
   "source": [
    "# your code here\n",
    "raise NotImplementedError"
   ]
  },
  {
   "cell_type": "code",
   "execution_count": null,
   "metadata": {
    "deletable": false,
    "editable": false,
    "max_height": 100,
    "nbgrader": {
     "cell_type": "code",
     "checksum": "49efe37e224a5e59738636caeefdb1ff",
     "grade": true,
     "grade_id": "cell-3d1733503218cd62",
     "locked": true,
     "points": 3,
     "schema_version": 3,
     "solution": false,
     "task": false
    }
   },
   "outputs": [],
   "source": [
    "from hashlib import sha1\n",
    "assert sha1(str(type(A)).encode(\"utf-8\")+b\"e87bb22c1d6fc0aa\").hexdigest() == \"27ab671e0dc77b2de69a4b153bd57a9b266ff5a6\", \"type of A is not int. Please make sure it is int and not np.int64, etc. You can cast your value into an int using int()\"\n",
    "assert sha1(str(A).encode(\"utf-8\")+b\"e87bb22c1d6fc0aa\").hexdigest() == \"53bab5eeb6da1165d03f5ff2f1677b537fc529f2\", \"value of A is not correct\"\n",
    "\n",
    "assert sha1(str(type(B)).encode(\"utf-8\")+b\"79c6336eb15197f3\").hexdigest() == \"638db5af616eaac1b6198db747a1c3c87c4852c5\", \"type of B is not int. Please make sure it is int and not np.int64, etc. You can cast your value into an int using int()\"\n",
    "assert sha1(str(B).encode(\"utf-8\")+b\"79c6336eb15197f3\").hexdigest() == \"320bca711abcae58eb36b8eddc77bdbe7b9239d7\", \"value of B is not correct\"\n",
    "\n",
    "assert sha1(str(type(C)).encode(\"utf-8\")+b\"a5d654ad2eb7a691\").hexdigest() == \"304a67e6457c8e578f13edd1e1d4d8ecf60009f7\", \"type of C is not int. Please make sure it is int and not np.int64, etc. You can cast your value into an int using int()\"\n",
    "assert sha1(str(C).encode(\"utf-8\")+b\"a5d654ad2eb7a691\").hexdigest() == \"ad1d28d50affc2dd9db4b9fc96be8c16663b70f1\", \"value of C is not correct\"\n",
    "\n",
    "assert sha1(str(type(D)).encode(\"utf-8\")+b\"ef39fab74674932d\").hexdigest() == \"e116fb6de0d0e6e1d37c1e0498d38a63d53b5ad3\", \"type of D is not int. Please make sure it is int and not np.int64, etc. You can cast your value into an int using int()\"\n",
    "assert sha1(str(D).encode(\"utf-8\")+b\"ef39fab74674932d\").hexdigest() == \"255a03ab31e3400b40681b22bb0c9c25cf1767ed\", \"value of D is not correct\"\n",
    "\n",
    "assert sha1(str(type(E)).encode(\"utf-8\")+b\"55b2d3d3060a163b\").hexdigest() == \"fd4f1b69635bddb86bbb75075df08422e83e226c\", \"type of E is not int. Please make sure it is int and not np.int64, etc. You can cast your value into an int using int()\"\n",
    "assert sha1(str(E).encode(\"utf-8\")+b\"55b2d3d3060a163b\").hexdigest() == \"82a6d5f1cb4ee6f50aa2bb764c14c0cac0060b53\", \"value of E is not correct\"\n",
    "\n",
    "print('Success!')"
   ]
  },
  {
   "cell_type": "markdown",
   "metadata": {
    "deletable": false,
    "editable": false,
    "nbgrader": {
     "cell_type": "markdown",
     "checksum": "23b9c53ea715823c838948744c64f475",
     "grade": false,
     "grade_id": "cell-e96ecdf801ee47e8",
     "locked": true,
     "schema_version": 3,
     "solution": false,
     "task": false
    }
   },
   "source": [
    "## 2. Argument Modifications to Read Data\n",
    "Reading files is one of the first steps to wrangling data and consequently `pd.read_csv` is a crucial function in Python. However, despite how effortlessly it has worked so far, it has its limitations.\n",
    "\n",
    "Not all data sets come as perfectly organized like the ones you worked with last week. Time and effort were put into ensuring that the files were arranged with headers, columns were separated by commas, and the beginning excluded metadata. \n",
    "\n",
    "Now that you understand how to read files located outside (or inside) of your working directory, you can begin to learn the tips and tricks necessary to overcoming the setbacks of `read_csv`. "
   ]
  },
  {
   "cell_type": "code",
   "execution_count": null,
   "metadata": {
    "deletable": false,
    "editable": false,
    "nbgrader": {
     "cell_type": "code",
     "checksum": "51ad46d14ba0bbf3e72f55e12142d5b3",
     "grade": false,
     "grade_id": "cell-cc72c20a82574247",
     "locked": true,
     "schema_version": 3,
     "solution": false,
     "task": false
    },
    "tags": []
   },
   "outputs": [],
   "source": [
    "### Run this cell to learn more about the arguments used in pd.read_csv\n",
    "### Reading over the help file will assist with the next question. \n",
    "\n",
    "?pd.read_csv"
   ]
  },
  {
   "cell_type": "markdown",
   "metadata": {
    "deletable": false,
    "editable": false,
    "nbgrader": {
     "cell_type": "markdown",
     "checksum": "22453bcf71e09c64d5e36f58dd166673",
     "grade": false,
     "grade_id": "cell-bafde1ddc023cf35",
     "locked": true,
     "schema_version": 3,
     "solution": false,
     "task": false
    }
   },
   "source": [
    "**Question 2.1** \n",
    "<br> {points: 1}\n",
    "\n",
    "Match the following descriptions with the corresponding arguments used in `pd.read_csv`:\n",
    "\n",
    "*Descriptions*\n",
    "\n",
    "G. Character that separates columns in your file. \n",
    "\n",
    "H. Specifies whether or not the first row of data in your file are column labels. Also allows you to create a vector that can be used to label columns. \n",
    "\n",
    "I. This is the file name, path to a file, or URL. \n",
    "\n",
    "J. Specifies the number of lines which must be ignored because they contain metadata. \n",
    "\n",
    "\n",
    "*Arguments*\n",
    "\n",
    "1. `filepath_or_buffer`\n",
    "2. `sep`\n",
    "3. `names`\n",
    "4. `skiprows`\n",
    "\n",
    "For every description, create an object using the letter associated with the description and assign it the corresponding number from the list of functions. For example: `G = 1`"
   ]
  },
  {
   "cell_type": "code",
   "execution_count": null,
   "metadata": {
    "deletable": false,
    "nbgrader": {
     "cell_type": "code",
     "checksum": "03b23714760e989c2e020b02431763e4",
     "grade": false,
     "grade_id": "cell-c6d77501960c676f",
     "locked": false,
     "schema_version": 3,
     "solution": true,
     "task": false
    }
   },
   "outputs": [],
   "source": [
    "# your code here\n",
    "raise NotImplementedError"
   ]
  },
  {
   "cell_type": "code",
   "execution_count": null,
   "metadata": {
    "deletable": false,
    "editable": false,
    "max_height": 100,
    "nbgrader": {
     "cell_type": "code",
     "checksum": "17bef0635d8841d74a3782aaffefdd9d",
     "grade": true,
     "grade_id": "cell-b9229174ebcf7d2e",
     "locked": true,
     "points": 3,
     "schema_version": 3,
     "solution": false,
     "task": false
    }
   },
   "outputs": [],
   "source": [
    "from hashlib import sha1\n",
    "assert sha1(str(type(G)).encode(\"utf-8\")+b\"2757c26f45ec3c89\").hexdigest() == \"94e3107b5cd4ef67c3b0df0ddf59fd4776b7bdde\", \"type of G is not int. Please make sure it is int and not np.int64, etc. You can cast your value into an int using int()\"\n",
    "assert sha1(str(G).encode(\"utf-8\")+b\"2757c26f45ec3c89\").hexdigest() == \"ddd87fa1b0dcf9dcdd298cca1ee9ed236d6b432f\", \"value of G is not correct\"\n",
    "\n",
    "assert sha1(str(type(H)).encode(\"utf-8\")+b\"f118209692151d1e\").hexdigest() == \"6899c083f32d17da5598416b92961522b925843a\", \"type of H is not int. Please make sure it is int and not np.int64, etc. You can cast your value into an int using int()\"\n",
    "assert sha1(str(H).encode(\"utf-8\")+b\"f118209692151d1e\").hexdigest() == \"ff7e0ce021c4083593d7f3cdaa51394b6e91a92b\", \"value of H is not correct\"\n",
    "\n",
    "assert sha1(str(type(I)).encode(\"utf-8\")+b\"024761a09f62d1ac\").hexdigest() == \"28f4e040aa4cf9a4aba35d632c85b93156165e03\", \"type of I is not int. Please make sure it is int and not np.int64, etc. You can cast your value into an int using int()\"\n",
    "assert sha1(str(I).encode(\"utf-8\")+b\"024761a09f62d1ac\").hexdigest() == \"327b7ee24c3b873e49490e226f18c28c1afa8117\", \"value of I is not correct\"\n",
    "\n",
    "assert sha1(str(type(J)).encode(\"utf-8\")+b\"7fa07ce6eb7c1db8\").hexdigest() == \"98c80cf99cae535e738b368a544b79ab50706a4c\", \"type of J is not int. Please make sure it is int and not np.int64, etc. You can cast your value into an int using int()\"\n",
    "assert sha1(str(J).encode(\"utf-8\")+b\"7fa07ce6eb7c1db8\").hexdigest() == \"39bc2795da44eb0e504e06e59d1d378cefbf97c4\", \"value of J is not correct\"\n",
    "\n",
    "print('Success!')"
   ]
  },
  {
   "cell_type": "markdown",
   "metadata": {
    "deletable": false,
    "editable": false,
    "nbgrader": {
     "cell_type": "markdown",
     "checksum": "0cda116cee1476c87e965d01b187a554",
     "grade": false,
     "grade_id": "cell-9c4d459ff0d4eb12",
     "locked": true,
     "schema_version": 3,
     "solution": false,
     "task": false
    }
   },
   "source": [
    "**Question 2.2** True or False:\n",
    "<br> {points: 1}\n",
    "\n",
    "`pd.read_csv` and `pd.read_table` can both be used for reading files that have columns separated by `;`. \n",
    "\n",
    "*Assign your answer to an object called `answer2_2`. Make sure your answer is a boolean (e.g. `True` or `False`).*"
   ]
  },
  {
   "cell_type": "code",
   "execution_count": null,
   "metadata": {
    "deletable": false,
    "nbgrader": {
     "cell_type": "code",
     "checksum": "b4030e34743fb95e3559e78105af2e4f",
     "grade": false,
     "grade_id": "cell-c593b61a9e63214d",
     "locked": false,
     "schema_version": 3,
     "solution": true,
     "task": false
    }
   },
   "outputs": [],
   "source": [
    "# your code here\n",
    "raise NotImplementedError"
   ]
  },
  {
   "cell_type": "code",
   "execution_count": null,
   "metadata": {
    "deletable": false,
    "editable": false,
    "max_height": 100,
    "nbgrader": {
     "cell_type": "code",
     "checksum": "a922a4537d831d5cc4cedb38e1f0e593",
     "grade": true,
     "grade_id": "cell-fff66a74bda40e7f",
     "locked": true,
     "points": 3,
     "schema_version": 3,
     "solution": false,
     "task": false
    }
   },
   "outputs": [],
   "source": [
    "from hashlib import sha1\n",
    "assert sha1(str(type(answer2_2)).encode(\"utf-8\")+b\"e4fed75450d08af8\").hexdigest() == \"2c2305b825a97cf7ff124b3f28f2380379a4dac7\", \"type of answer2_2 is not bool. answer2_2 should be a bool\"\n",
    "assert sha1(str(answer2_2).encode(\"utf-8\")+b\"e4fed75450d08af8\").hexdigest() == \"9ff2354de29c19ccf94f32caffed75138df04dd9\", \"boolean value of answer2_2 is not correct\"\n",
    "\n",
    "print('Success!')"
   ]
  },
  {
   "cell_type": "markdown",
   "metadata": {
    "deletable": false,
    "editable": false,
    "nbgrader": {
     "cell_type": "markdown",
     "checksum": "01e70e21a5c8f59662c5e0cc19d3a735",
     "grade": false,
     "grade_id": "cell-80b368654abb01ac",
     "locked": true,
     "schema_version": 3,
     "solution": false,
     "task": false
    }
   },
   "source": [
    "**Question 2.3** Multiple Choice: \n",
    "<br> {points: 1}\n",
    "\n",
    "`pd.read_csv` can not be used for files that have columns separated by which of the following:\n",
    "\n",
    "A. letters\n",
    "\n",
    "B. tabs\n",
    "\n",
    "C. semicolons\n",
    "\n",
    "D. commas \n",
    "\n",
    "*Assign your answer to an object called `answer2_3`. Make sure your answer is an uppercase letter and is surrounded by quotation marks (e.g. `\"F\"`).* "
   ]
  },
  {
   "cell_type": "code",
   "execution_count": null,
   "metadata": {
    "deletable": false,
    "nbgrader": {
     "cell_type": "code",
     "checksum": "17d8f953e09660e4a3ac8c39901057a7",
     "grade": false,
     "grade_id": "cell-870bb80556aab0c3",
     "locked": false,
     "schema_version": 3,
     "solution": true,
     "task": false
    }
   },
   "outputs": [],
   "source": [
    "# your code here\n",
    "raise NotImplementedError"
   ]
  },
  {
   "cell_type": "code",
   "execution_count": null,
   "metadata": {
    "deletable": false,
    "editable": false,
    "max_height": 100,
    "nbgrader": {
     "cell_type": "code",
     "checksum": "86e4378574b6ed503b7218d3f45701e4",
     "grade": true,
     "grade_id": "cell-bc72e3bea9ddf5b5",
     "locked": true,
     "points": 3,
     "schema_version": 3,
     "solution": false,
     "task": false
    }
   },
   "outputs": [],
   "source": [
    "from hashlib import sha1\n",
    "assert sha1(str(type(answer2_3)).encode(\"utf-8\")+b\"c26097b37d8e78e6\").hexdigest() == \"197aa99a1863ce6142b4d7c103e7b346c5091ce5\", \"type of answer2_3 is not str. answer2_3 should be an str\"\n",
    "assert sha1(str(len(answer2_3)).encode(\"utf-8\")+b\"c26097b37d8e78e6\").hexdigest() == \"670d57f219d4e8957dbacad96f01a9b1fd51ca0e\", \"length of answer2_3 is not correct\"\n",
    "assert sha1(str(answer2_3.lower()).encode(\"utf-8\")+b\"c26097b37d8e78e6\").hexdigest() == \"fb08bfb0e9d7eef7d11193cc181cdfc140cf0342\", \"value of answer2_3 is not correct\"\n",
    "assert sha1(str(answer2_3).encode(\"utf-8\")+b\"c26097b37d8e78e6\").hexdigest() == \"567acfc62e70cfdfb2e38e96e772a0beed6e3071\", \"correct string value of answer2_3 but incorrect case of letters\"\n",
    "\n",
    "print('Success!')"
   ]
  },
  {
   "cell_type": "markdown",
   "metadata": {
    "deletable": false,
    "editable": false,
    "nbgrader": {
     "cell_type": "markdown",
     "checksum": "78b8a3239193bb68e4bffc00e9c40727",
     "grade": false,
     "grade_id": "cell-fa798647ffd412f8",
     "locked": true,
     "schema_version": 3,
     "solution": false,
     "task": false
    }
   },
   "source": [
    "## 3. Happiness Report (2017)\n",
    "This data was taken from [Kaggle](https://www.kaggle.com/unsdsn/world-happiness) and ranks countries on happiness based on rationalized factors like economic growth, social support, etc. The data was released by the United Nations at an event celebrating International Day of Happiness.  According to the website, the file contains the following information:\n",
    "\n",
    "* Country = Name of the country.\n",
    "* Region = Region the country belongs to.\n",
    "* Happiness Rank = Rank of the country based on the Happiness Score.\n",
    "* Happiness Score = A metric measured by asking the sampled people the question: \"How would you rate your happiness on a scale of 0 to 10 where 10 is the happiest?\"\n",
    "* Standard Error = The standard error of the happiness score.\n",
    "* Economy (GDP per Capita) = The extent to which GDP contributes to the calculation of the Happiness Score.\n",
    "* Family = The extent to which Family contributes to the calculation of the Happiness Score.\n",
    "* Health (Life Expectancy) = The extent to which Life expectancy contributed to the calculation of the Happiness Score.\n",
    "* Freedom = The extent to which Freedom contributed to the calculation of the Happiness Score.\n",
    "* Trust (Government Corruption) = The extent to which Perception of Corruption contributes to Happiness Score.\n",
    "* Generosity = The extent to which Generosity contributed to the calculation of the Happiness Score.\n",
    "* Dystopia Residual = The extent to which Dystopia Residual contributed to the calculation of the Happiness Score.\n",
    "\n",
    "To clean up the file and make it easier to read, we only kept the country name, happiness score, economy (GDP per capita), life expectancy, and freedom. The happiness scores and rankings use data from the Gallup World Poll, which surveys citizens in countries from around the world.\n",
    "\n",
    "Kaggle stores this information but it is compiled by the *Sustainable Development Solutions Network*. They survey these factors nearly every year (since 2012) and allow global comparisons to optimize political decision making. These landmark surveys are highly recognized and allow countries to learn and grow from one another. One day, they will provide a historical insight on the nature of our time.  "
   ]
  },
  {
   "cell_type": "markdown",
   "metadata": {
    "deletable": false,
    "editable": false,
    "nbgrader": {
     "cell_type": "markdown",
     "checksum": "ed7419617e14886a6f028c6c643860d6",
     "grade": false,
     "grade_id": "cell-6495dcc89ffe6f0a",
     "locked": true,
     "schema_version": 3,
     "solution": false,
     "task": false
    }
   },
   "source": [
    "**Question 3.1** Fill in the Blank: \n",
    "<br> {points: 1}\n",
    "\n",
    "Trust is the extent to which \\_\\_\\_\\_\\_\\_\\_\\_\\_\\_\\_\\_\\_\\_\\_ contributes to Happiness Score. \n",
    "\n",
    "A. Corruption \n",
    "\n",
    "B. Government Intervention \n",
    "\n",
    "C. Perception of Corruption  \n",
    "\n",
    "D. Tax Money Designation \n",
    "\n",
    "*Assign your answer to an object called `answer3_1`. Make sure your answer is an uppercase letter and is surrounded by quotation marks (e.g. `\"F\"`).* "
   ]
  },
  {
   "cell_type": "code",
   "execution_count": null,
   "metadata": {
    "deletable": false,
    "nbgrader": {
     "cell_type": "code",
     "checksum": "b1ecfd76566f61618f604998167a3358",
     "grade": false,
     "grade_id": "cell-f5e4734a364c4ac8",
     "locked": false,
     "schema_version": 3,
     "solution": true,
     "task": false
    }
   },
   "outputs": [],
   "source": [
    "# your code here\n",
    "raise NotImplementedError"
   ]
  },
  {
   "cell_type": "code",
   "execution_count": null,
   "metadata": {
    "deletable": false,
    "editable": false,
    "max_height": 100,
    "nbgrader": {
     "cell_type": "code",
     "checksum": "ae8087e4b1c3ded0beb19cf755bd574b",
     "grade": true,
     "grade_id": "cell-0bcf4e7cd22fa393",
     "locked": true,
     "points": 3,
     "schema_version": 3,
     "solution": false,
     "task": false
    }
   },
   "outputs": [],
   "source": [
    "from hashlib import sha1\n",
    "assert sha1(str(type(answer3_1)).encode(\"utf-8\")+b\"94d824ade7583003\").hexdigest() == \"267fed32da5584c40e528f0e095e3d6ec18c370e\", \"type of answer3_1 is not str. answer3_1 should be an str\"\n",
    "assert sha1(str(len(answer3_1)).encode(\"utf-8\")+b\"94d824ade7583003\").hexdigest() == \"cdfb262e6f58fd20666efb06f0a6282cce21c298\", \"length of answer3_1 is not correct\"\n",
    "assert sha1(str(answer3_1.lower()).encode(\"utf-8\")+b\"94d824ade7583003\").hexdigest() == \"ab28cf752a063f37d9c767e7f638b3517b877081\", \"value of answer3_1 is not correct\"\n",
    "assert sha1(str(answer3_1).encode(\"utf-8\")+b\"94d824ade7583003\").hexdigest() == \"fcc3f77e726e3cfd73d011930f678982bd29e097\", \"correct string value of answer3_1 but incorrect case of letters\"\n",
    "\n",
    "print('Success!')"
   ]
  },
  {
   "cell_type": "markdown",
   "metadata": {
    "deletable": false,
    "editable": false,
    "nbgrader": {
     "cell_type": "markdown",
     "checksum": "677864fdd53fbac92d55d83cd1625d58",
     "grade": false,
     "grade_id": "cell-838e271dab9da39a",
     "locked": true,
     "schema_version": 3,
     "solution": false,
     "task": false
    }
   },
   "source": [
    "**Question 3.2** Multiple Choice: \n",
    "<br> {points: 1}\n",
    "\n",
    "What is the happiness report?\n",
    "\n",
    "A. Study conducted by the governments of multiple countries. \n",
    "\n",
    "B. Independent survey of citizens from multiple countries.\n",
    "\n",
    "C. Study conducted by the UN. \n",
    "\n",
    "D. Survey given to international students by UBC's psychology department. \n",
    "\n",
    "*Assign your answer to an object called `answer3_2`. Make sure your answer is an uppercase letter and is surrounded by quotation marks (e.g. `\"F\"`).* "
   ]
  },
  {
   "cell_type": "code",
   "execution_count": null,
   "metadata": {
    "deletable": false,
    "nbgrader": {
     "cell_type": "code",
     "checksum": "be5b96bf0038bdec059376de0fe2d4e1",
     "grade": false,
     "grade_id": "cell-70bcf03b219a7e20",
     "locked": false,
     "schema_version": 3,
     "solution": true,
     "task": false
    }
   },
   "outputs": [],
   "source": [
    "# your code here\n",
    "raise NotImplementedError"
   ]
  },
  {
   "cell_type": "code",
   "execution_count": null,
   "metadata": {
    "deletable": false,
    "editable": false,
    "max_height": 100,
    "nbgrader": {
     "cell_type": "code",
     "checksum": "3e683da9db9b663947f8a3430cb44bd3",
     "grade": true,
     "grade_id": "cell-e7d4bdc58a1398fe",
     "locked": true,
     "points": 3,
     "schema_version": 3,
     "solution": false,
     "task": false
    }
   },
   "outputs": [],
   "source": [
    "from hashlib import sha1\n",
    "assert sha1(str(type(answer3_2)).encode(\"utf-8\")+b\"e14afa0669c7684d\").hexdigest() == \"56bf82a614f108a427dacb3e513fe1cc229e11a8\", \"type of answer3_2 is not str. answer3_2 should be an str\"\n",
    "assert sha1(str(len(answer3_2)).encode(\"utf-8\")+b\"e14afa0669c7684d\").hexdigest() == \"af021b4a3aab6cb102b4dfc864538719f7f402f2\", \"length of answer3_2 is not correct\"\n",
    "assert sha1(str(answer3_2.lower()).encode(\"utf-8\")+b\"e14afa0669c7684d\").hexdigest() == \"040f3ef43f2f9c506501e232df009f2aae444b4f\", \"value of answer3_2 is not correct\"\n",
    "assert sha1(str(answer3_2).encode(\"utf-8\")+b\"e14afa0669c7684d\").hexdigest() == \"331ccd1e25e72c62552b9fade721a85225c3fc34\", \"correct string value of answer3_2 but incorrect case of letters\"\n",
    "\n",
    "print('Success!')"
   ]
  },
  {
   "cell_type": "markdown",
   "metadata": {
    "deletable": false,
    "editable": false,
    "nbgrader": {
     "cell_type": "markdown",
     "checksum": "3e5fa5b9606c6ab90aeb2d8595758f62",
     "grade": false,
     "grade_id": "cell-5a8a233fd251ad76",
     "locked": true,
     "schema_version": 3,
     "solution": false,
     "task": false
    }
   },
   "source": [
    "**Question 3.3** Fill in the Blanks (of the Table):\n",
    "<br> {points: 1}\n",
    "\n",
    "It is often a good idea to try to \"inspect\" your data to see what it looks like before trying to load it into Python. This will help you figure out the right function to call and what arguments to use. When your data are stored as plain text, you can do this easily with Jupyter (or any text editor). \n",
    "\n",
    "Open all the files named `happiness_report...` in the `data` folder with the plain text editor in your working directory (the `worksheet_02` directory) using Jupyter (**Right click the file -> Open With -> Editor**). This will allow you to visualize the files and the organization of your data. Based on your findings, fill in the missing items in the table below. This table will be very useful to refer back to in the coming weeks. \n",
    "\n",
    "*You'll notice that trying to open one of the files gives you an error (`File Load Error ... is not UTF-8 encoded`). This means that this data is not stored as human-readable plain text. For this special file, just fill in the* `read_*` *function entry, the other columns will be left blank.*"
   ]
  },
  {
   "cell_type": "markdown",
   "metadata": {
    "deletable": false,
    "editable": false,
    "nbgrader": {
     "cell_type": "markdown",
     "checksum": "46d9c14d8ab74209d2df98b00f8a8ab1",
     "grade": false,
     "grade_id": "cell-f45eda526a4ab070",
     "locked": true,
     "schema_version": 3,
     "solution": false,
     "task": false
    }
   },
   "source": [
    "|File Name                       | delim      | Header | Metadata | skip               | read_*   |\n",
    "|--------------------------------|------------|--------|----------|--------------------|----------|\n",
    "|`_.csv`                         |`\";\"`, `\",\"`, `\"\\\"`, or `\"tab\"`|`\"yes\"`or `\"no\"`|`\"yes\"`or `\"no\"`|`NA` or # of lines|`pd.read_*`|\n",
    "|`happiness_report.csv`          |,           |**A**     |no        |`NA`                  |`pd.read_csv`  |\n",
    "|`happiness_report_semicolon.csv`|;           |yes     |no        |`NA`                  |**B** |\n",
    "|`happiness_report.tsv`          |**C**         |yes     |no        |`NA`                  |`pd.read_table` or `pd.read_csv`  |\n",
    "|`happiness_report_metadata.csv` |,           |yes     |**D**       |2                   |`pd.read_csv`  |\n",
    "|`happiness_report_no_header.csv`|,           |**E**      |no      |`NA`                  |`pd.read_csv`  |\n",
    "|`happiness_report.xlsx`         |            |        |          |                    |**F**|\n",
    "\n",
    "For the missing items (labelled A to F) in the table above, create an object using the letter and assign it the corresponding missing value.\n",
    "\n",
    "For example: `A = \"yes\"`. The possible options for each column are given in the first row of the table. "
   ]
  },
  {
   "cell_type": "code",
   "execution_count": null,
   "metadata": {
    "deletable": false,
    "nbgrader": {
     "cell_type": "code",
     "checksum": "260a23f836b3dabee6859a44f7c9fea2",
     "grade": false,
     "grade_id": "cell-5351cf56f2b43768",
     "locked": false,
     "schema_version": 3,
     "solution": true,
     "task": false
    }
   },
   "outputs": [],
   "source": [
    "# your code here\n",
    "raise NotImplementedError"
   ]
  },
  {
   "cell_type": "code",
   "execution_count": null,
   "metadata": {
    "deletable": false,
    "editable": false,
    "max_height": 100,
    "nbgrader": {
     "cell_type": "code",
     "checksum": "63bd3084a85a323e47cfbbefb22635bd",
     "grade": true,
     "grade_id": "cell-aa1c440804c4da54",
     "locked": true,
     "points": 3,
     "schema_version": 3,
     "solution": false,
     "task": false
    }
   },
   "outputs": [],
   "source": [
    "from hashlib import sha1\n",
    "assert sha1(str(type(A)).encode(\"utf-8\")+b\"b8ef2976ca8128a0\").hexdigest() == \"fd3b6ffc07f2b6456b36ae3a39f4cdfb4bb46c46\", \"type of A is not str. A should be an str\"\n",
    "assert sha1(str(len(A)).encode(\"utf-8\")+b\"b8ef2976ca8128a0\").hexdigest() == \"509b1aeef8f78af9ed57cfc625d5a8516ddca756\", \"length of A is not correct\"\n",
    "assert sha1(str(A.lower()).encode(\"utf-8\")+b\"b8ef2976ca8128a0\").hexdigest() == \"772a045d8bfa59fa2ee33b2d44def3816021323d\", \"value of A is not correct\"\n",
    "assert sha1(str(A).encode(\"utf-8\")+b\"b8ef2976ca8128a0\").hexdigest() == \"772a045d8bfa59fa2ee33b2d44def3816021323d\", \"correct string value of A but incorrect case of letters\"\n",
    "\n",
    "assert sha1(str(type(B)).encode(\"utf-8\")+b\"5733c50d4d081006\").hexdigest() == \"3f534fadf4f328f906cf4776bed2d926f91f8631\", \"type of B is not str. B should be an str\"\n",
    "assert sha1(str(len(B)).encode(\"utf-8\")+b\"5733c50d4d081006\").hexdigest() == \"b0e0f4c5d67711cec91b1b0529abebc80c1634b3\", \"length of B is not correct\"\n",
    "assert sha1(str(B.lower()).encode(\"utf-8\")+b\"5733c50d4d081006\").hexdigest() == \"5181cda0b27b7f4bb16b4498b428d241cf7bfa63\", \"value of B is not correct\"\n",
    "assert sha1(str(B).encode(\"utf-8\")+b\"5733c50d4d081006\").hexdigest() == \"5181cda0b27b7f4bb16b4498b428d241cf7bfa63\", \"correct string value of B but incorrect case of letters\"\n",
    "\n",
    "assert sha1(str(type(C)).encode(\"utf-8\")+b\"f9360668ed0a7747\").hexdigest() == \"b6e3f347d47ec4e4e20f8cec6c0a9c6f61bf2a61\", \"type of C is not str. C should be an str\"\n",
    "assert sha1(str(len(C)).encode(\"utf-8\")+b\"f9360668ed0a7747\").hexdigest() == \"cc14023e70d397c11f6d124917d3fa3ce2e5014f\", \"length of C is not correct\"\n",
    "assert sha1(str(C.lower()).encode(\"utf-8\")+b\"f9360668ed0a7747\").hexdigest() == \"6ca8472834f4f0b8a3c61213dc8e988048b602a9\", \"value of C is not correct\"\n",
    "assert sha1(str(C).encode(\"utf-8\")+b\"f9360668ed0a7747\").hexdigest() == \"6ca8472834f4f0b8a3c61213dc8e988048b602a9\", \"correct string value of C but incorrect case of letters\"\n",
    "\n",
    "assert sha1(str(type(D)).encode(\"utf-8\")+b\"d31294ea161bc228\").hexdigest() == \"f7e48fb3e5ac07af1d49b029146e167af144e645\", \"type of D is not str. D should be an str\"\n",
    "assert sha1(str(len(D)).encode(\"utf-8\")+b\"d31294ea161bc228\").hexdigest() == \"928ffe49186318db6be56cd541c915905c7c4a64\", \"length of D is not correct\"\n",
    "assert sha1(str(D.lower()).encode(\"utf-8\")+b\"d31294ea161bc228\").hexdigest() == \"25866374b15f2ba53395481ee51d1cacc311a038\", \"value of D is not correct\"\n",
    "assert sha1(str(D).encode(\"utf-8\")+b\"d31294ea161bc228\").hexdigest() == \"25866374b15f2ba53395481ee51d1cacc311a038\", \"correct string value of D but incorrect case of letters\"\n",
    "\n",
    "assert sha1(str(type(E)).encode(\"utf-8\")+b\"b77c05de49647a9d\").hexdigest() == \"14e8844c633d786d854717898398fe43efec1b7f\", \"type of E is not str. E should be an str\"\n",
    "assert sha1(str(len(E)).encode(\"utf-8\")+b\"b77c05de49647a9d\").hexdigest() == \"28db22eb6ffc2d7171e499610a39bea9713bce74\", \"length of E is not correct\"\n",
    "assert sha1(str(E.lower()).encode(\"utf-8\")+b\"b77c05de49647a9d\").hexdigest() == \"52a7e802dd75c51b8da0401393d14304ab68346b\", \"value of E is not correct\"\n",
    "assert sha1(str(E).encode(\"utf-8\")+b\"b77c05de49647a9d\").hexdigest() == \"52a7e802dd75c51b8da0401393d14304ab68346b\", \"correct string value of E but incorrect case of letters\"\n",
    "\n",
    "assert sha1(str(type(F)).encode(\"utf-8\")+b\"8d5f89a40b95ea93\").hexdigest() == \"f1747c48266ffe50f02f7793e40de393616ba5b2\", \"type of F is not str. F should be an str\"\n",
    "assert sha1(str(len(F)).encode(\"utf-8\")+b\"8d5f89a40b95ea93\").hexdigest() == \"865fc2aebdad4def5b0f912ef859f2bb8181963a\", \"length of F is not correct\"\n",
    "assert sha1(str(F.lower()).encode(\"utf-8\")+b\"8d5f89a40b95ea93\").hexdigest() == \"6bff5f04c4d394efd8b3567d3d809fd35411a719\", \"value of F is not correct\"\n",
    "assert sha1(str(F).encode(\"utf-8\")+b\"8d5f89a40b95ea93\").hexdigest() == \"6bff5f04c4d394efd8b3567d3d809fd35411a719\", \"correct string value of F but incorrect case of letters\"\n",
    "\n",
    "print('Success!')"
   ]
  },
  {
   "cell_type": "markdown",
   "metadata": {
    "deletable": false,
    "editable": false,
    "nbgrader": {
     "cell_type": "markdown",
     "checksum": "0288add9bbe67e362860878d4262a9f8",
     "grade": false,
     "grade_id": "cell-2bf3dca10743194a",
     "locked": true,
     "schema_version": 3,
     "solution": false,
     "task": false
    }
   },
   "source": [
    "**Question 3.4** \n",
    "<br> {points: 1}\n",
    "\n",
    "Read the file `happiness_report.csv` in the `data` folder using the shortest relative path. **Hint:** preview the data using Jupyter (as discussed above) so you know which `pd.read_*` function and arguments to use.\n",
    "\n",
    "*Assign the relative path (the string) to an object named* `happiness_report_path`, *and assign the output of the correct* `pd.read_*` *function you call to an object named* `happiness_report`. "
   ]
  },
  {
   "cell_type": "code",
   "execution_count": null,
   "metadata": {
    "deletable": false,
    "nbgrader": {
     "cell_type": "code",
     "checksum": "9086a0933d4bbbd5619314983030ea1c",
     "grade": false,
     "grade_id": "cell-2a9511095cc19de1",
     "locked": false,
     "schema_version": 3,
     "solution": true,
     "task": false
    }
   },
   "outputs": [],
   "source": [
    "# happiness_report_path = \"___\"\n",
    "# ___ = ___(happiness_report_path)\n",
    "\n",
    "# your code here\n",
    "raise NotImplementedError\n",
    "happiness_report.head(10)  #  print the top 10 lines"
   ]
  },
  {
   "cell_type": "code",
   "execution_count": null,
   "metadata": {
    "deletable": false,
    "editable": false,
    "max_height": 100,
    "nbgrader": {
     "cell_type": "code",
     "checksum": "562d6b2c56ec2d09f9a001c7d9b86ab4",
     "grade": true,
     "grade_id": "cell-266883cbf4d69fc8",
     "locked": true,
     "points": 3,
     "schema_version": 3,
     "solution": false,
     "task": false
    }
   },
   "outputs": [],
   "source": [
    "from hashlib import sha1\n",
    "assert sha1(str(type(happiness_report_path)).encode(\"utf-8\")+b\"b5b7386984392f24\").hexdigest() == \"7f63047eed90a805bc0c6c5970368fd7490703f4\", \"type of type(happiness_report_path) is not correct\"\n",
    "\n",
    "assert sha1(str(type(happiness_report_path.split(\"/\")[-2:])).encode(\"utf-8\")+b\"1de501eba44d55f2\").hexdigest() == \"fb2a66b1c819f63a3f5c63248c9cfcdb57d9705c\", \"type of happiness_report_path.split(\\\"/\\\")[-2:] is not list. happiness_report_path.split(\\\"/\\\")[-2:] should be a list\"\n",
    "assert sha1(str(len(happiness_report_path.split(\"/\")[-2:])).encode(\"utf-8\")+b\"1de501eba44d55f2\").hexdigest() == \"871a2cae17d5f75aad2f2eba5a7e17da956d12d0\", \"length of happiness_report_path.split(\\\"/\\\")[-2:] is not correct\"\n",
    "assert sha1(str(sorted(map(str, happiness_report_path.split(\"/\")[-2:]))).encode(\"utf-8\")+b\"1de501eba44d55f2\").hexdigest() == \"be5cb0d88d8641e8dbddbf4cfa1d848c3180e9ed\", \"values of happiness_report_path.split(\\\"/\\\")[-2:] are not correct\"\n",
    "assert sha1(str(happiness_report_path.split(\"/\")[-2:]).encode(\"utf-8\")+b\"1de501eba44d55f2\").hexdigest() == \"be5cb0d88d8641e8dbddbf4cfa1d848c3180e9ed\", \"order of elements of happiness_report_path.split(\\\"/\\\")[-2:] is not correct\"\n",
    "\n",
    "assert sha1(str(type(happiness_report)).encode(\"utf-8\")+b\"cc544a30ee71a70a\").hexdigest() == \"67995ccbf11b93636aa3a374835b0461b9cc667a\", \"type of type(happiness_report) is not correct\"\n",
    "\n",
    "assert sha1(str(type(happiness_report.shape)).encode(\"utf-8\")+b\"8a0dcfa29b770c0f\").hexdigest() == \"1660ed0a9efd690c48ec9dfe3c5ef7efb32f6db3\", \"type of happiness_report.shape is not tuple. happiness_report.shape should be a tuple\"\n",
    "assert sha1(str(len(happiness_report.shape)).encode(\"utf-8\")+b\"8a0dcfa29b770c0f\").hexdigest() == \"584fab804cffae8b9cb0bbd1e9cd2c2c9f5c551d\", \"length of happiness_report.shape is not correct\"\n",
    "assert sha1(str(sorted(map(str, happiness_report.shape))).encode(\"utf-8\")+b\"8a0dcfa29b770c0f\").hexdigest() == \"56420ffbd2deb8369ad723fb2d10335ebfe59dd6\", \"values of happiness_report.shape are not correct\"\n",
    "assert sha1(str(happiness_report.shape).encode(\"utf-8\")+b\"8a0dcfa29b770c0f\").hexdigest() == \"648fda37eb926637983766623c3ab4bc81af8867\", \"order of elements of happiness_report.shape is not correct\"\n",
    "\n",
    "assert sha1(str(type(happiness_report.columns.values)).encode(\"utf-8\")+b\"a8568bcd806e5285\").hexdigest() == \"db929533cb351e6007f60e04aaad8f360ebd9bd3\", \"type of happiness_report.columns.values is not correct\"\n",
    "assert sha1(str(happiness_report.columns.values).encode(\"utf-8\")+b\"a8568bcd806e5285\").hexdigest() == \"3b377919dedd0d835771d70874566a0ac26e11ae\", \"value of happiness_report.columns.values is not correct\"\n",
    "\n",
    "assert sha1(str(type(sum(happiness_report.freedom))).encode(\"utf-8\")+b\"67240c8b95937b8e\").hexdigest() == \"08625218bd85c113b9742e450107220b40286798\", \"type of sum(happiness_report.freedom) is not float. Please make sure it is float and not np.float64, etc. You can cast your value into a float using float()\"\n",
    "assert sha1(str(round(sum(happiness_report.freedom), 2)).encode(\"utf-8\")+b\"67240c8b95937b8e\").hexdigest() == \"6c8087fc74df383bd8c40895a0db26486ac7319d\", \"value of sum(happiness_report.freedom) is not correct (rounded to 2 decimal places)\"\n",
    "\n",
    "print('Success!')"
   ]
  },
  {
   "cell_type": "markdown",
   "metadata": {
    "deletable": false,
    "editable": false,
    "nbgrader": {
     "cell_type": "markdown",
     "checksum": "6d1530ba25f0656a03841ecde50244da",
     "grade": false,
     "grade_id": "cell-339c379f6f9f7a50",
     "locked": true,
     "schema_version": 3,
     "solution": false,
     "task": false
    }
   },
   "source": [
    "**Question 3.5** Multiple Choice:\n",
    "<br> {points: 1}\n",
    "\n",
    "If Norway is in \"first place\" based on the happiness score, at what position is Canada?\n",
    "\n",
    "A. 3rd\n",
    "\n",
    "B. 15th\n",
    "\n",
    "C. 7th\n",
    "\n",
    "D. 28th\n",
    "\n",
    "*Hint: create a new cell and run `happiness_report`.* \n",
    "\n",
    "*Assign your answer to an object called `answer3_5`. Make sure your answer is an uppercase letter and is surrounded by quotation marks (e.g. `\"F\"`).* "
   ]
  },
  {
   "cell_type": "code",
   "execution_count": null,
   "metadata": {
    "deletable": false,
    "nbgrader": {
     "cell_type": "code",
     "checksum": "4d72289f41cff20137de291d2dad4d1a",
     "grade": false,
     "grade_id": "cell-2024e97da21549c5",
     "locked": false,
     "schema_version": 3,
     "solution": true,
     "task": false
    }
   },
   "outputs": [],
   "source": [
    "# your code here\n",
    "raise NotImplementedError"
   ]
  },
  {
   "cell_type": "code",
   "execution_count": null,
   "metadata": {
    "deletable": false,
    "editable": false,
    "max_height": 100,
    "nbgrader": {
     "cell_type": "code",
     "checksum": "b305e7e33db3df1873086e245cbc5130",
     "grade": true,
     "grade_id": "cell-d780fec46b04aed8",
     "locked": true,
     "points": 3,
     "schema_version": 3,
     "solution": false,
     "task": false
    }
   },
   "outputs": [],
   "source": [
    "from hashlib import sha1\n",
    "assert sha1(str(type(answer3_5)).encode(\"utf-8\")+b\"399fd1102db7f2d0\").hexdigest() == \"5067b43d601861ca994d0dcb8591ede5a7bf3f10\", \"type of answer3_5 is not str. answer3_5 should be an str\"\n",
    "assert sha1(str(len(answer3_5)).encode(\"utf-8\")+b\"399fd1102db7f2d0\").hexdigest() == \"122d7056abf929b548125a286a1ab4fcf7c27d86\", \"length of answer3_5 is not correct\"\n",
    "assert sha1(str(answer3_5.lower()).encode(\"utf-8\")+b\"399fd1102db7f2d0\").hexdigest() == \"62f20d55a9eea68b44650ef83487e07773342dfa\", \"value of answer3_5 is not correct\"\n",
    "assert sha1(str(answer3_5).encode(\"utf-8\")+b\"399fd1102db7f2d0\").hexdigest() == \"41fbf73487b87c00a7efd36c157e29fbf65177d9\", \"correct string value of answer3_5 but incorrect case of letters\"\n",
    "\n",
    "print('Success!')"
   ]
  },
  {
   "cell_type": "markdown",
   "metadata": {
    "deletable": false,
    "editable": false,
    "nbgrader": {
     "cell_type": "markdown",
     "checksum": "8235d598f184eb02bc6c86738c59d69d",
     "grade": false,
     "grade_id": "cell-260c9f66f7b3dad7",
     "locked": true,
     "schema_version": 3,
     "solution": false,
     "task": false
    }
   },
   "source": [
    "**Question 3.6.1**\n",
    "<br> {points: 1}\n",
    "\n",
    "For each question in the ranges 3.6.1 to 3.6.5 and 3.7.1 to 3.7.2, fill in the `___` in the code given. Substitute the `None` and the `raise NotImplementedError # No Answer - remove if you provide an answer with your completed code and answers`. Refer to your table above and don't be afraid to ask for help. Remember you can use `?` help operator to access documentation for a function (e.g. `?pd.read_csv`).\n",
    "\n",
    "Read in the file `happiness_report_semicolon.csv` using `pd.read_csv` and name it `happy_semi_df`"
   ]
  },
  {
   "cell_type": "code",
   "execution_count": null,
   "metadata": {
    "deletable": false,
    "nbgrader": {
     "cell_type": "code",
     "checksum": "3b7938c5c2226909f1059215fe170292",
     "grade": false,
     "grade_id": "cell-0d6b7f409728cc19",
     "locked": false,
     "schema_version": 3,
     "solution": true,
     "task": false
    }
   },
   "outputs": [],
   "source": [
    "# ___ = pd.read_csv(\"data/___\", sep = \"___\")\n",
    "\n",
    "# your code here\n",
    "raise NotImplementedError\n",
    "happy_semi_df"
   ]
  },
  {
   "cell_type": "code",
   "execution_count": null,
   "metadata": {
    "deletable": false,
    "editable": false,
    "max_height": 100,
    "nbgrader": {
     "cell_type": "code",
     "checksum": "a3b00a76ab096b3c3ccebf7d90768497",
     "grade": true,
     "grade_id": "cell-6f0e14455ddb386f",
     "locked": true,
     "points": 3,
     "schema_version": 3,
     "solution": false,
     "task": false
    }
   },
   "outputs": [],
   "source": [
    "from hashlib import sha1\n",
    "assert sha1(str(type(happy_semi_df)).encode(\"utf-8\")+b\"c0182a5660b095d1\").hexdigest() == \"d28b3de1a023f7c61eeac3ac811e03c01330288e\", \"type of type(happy_semi_df) is not correct\"\n",
    "\n",
    "assert sha1(str(type(happy_semi_df.shape)).encode(\"utf-8\")+b\"d09e32c047070c5b\").hexdigest() == \"753d88f43aa5b9a749b26b19697d74379f9b6e4c\", \"type of happy_semi_df.shape is not tuple. happy_semi_df.shape should be a tuple\"\n",
    "assert sha1(str(len(happy_semi_df.shape)).encode(\"utf-8\")+b\"d09e32c047070c5b\").hexdigest() == \"bdbee4c25ad3c6a312e122fcf9f8c4c38b549594\", \"length of happy_semi_df.shape is not correct\"\n",
    "assert sha1(str(sorted(map(str, happy_semi_df.shape))).encode(\"utf-8\")+b\"d09e32c047070c5b\").hexdigest() == \"5997ccaceb387a1c6f0b0bea3b3e29b44c9626ad\", \"values of happy_semi_df.shape are not correct\"\n",
    "assert sha1(str(happy_semi_df.shape).encode(\"utf-8\")+b\"d09e32c047070c5b\").hexdigest() == \"0fed1bfb9c6be55b324fe978e4f7dc82b8d1459f\", \"order of elements of happy_semi_df.shape is not correct\"\n",
    "\n",
    "assert sha1(str(type(happy_semi_df.columns.values)).encode(\"utf-8\")+b\"f0a541a427b718e0\").hexdigest() == \"9cebe53f779827cf0e47d6fa225a747612cc0452\", \"type of happy_semi_df.columns.values is not correct\"\n",
    "assert sha1(str(happy_semi_df.columns.values).encode(\"utf-8\")+b\"f0a541a427b718e0\").hexdigest() == \"edfe22036dceac44f51d287eee825445c769a825\", \"value of happy_semi_df.columns.values is not correct\"\n",
    "\n",
    "assert sha1(str(type(sum(np.array([st.replace(\",\", \".\") for st in happy_semi_df.freedom.astype(str)]).astype(float)))).encode(\"utf-8\")+b\"48e3aed1a328e334\").hexdigest() == \"0e9d5f57097e115fd9e38bc1611fefc139b54b7b\", \"type of sum(np.array([st.replace(\\\",\\\", \\\".\\\") for st in happy_semi_df.freedom.astype(str)]).astype(float)) is not correct\"\n",
    "assert sha1(str(sum(np.array([st.replace(\",\", \".\") for st in happy_semi_df.freedom.astype(str)]).astype(float))).encode(\"utf-8\")+b\"48e3aed1a328e334\").hexdigest() == \"ebeb0a0782a923fb183e8a6fa4c698524be062f6\", \"value of sum(np.array([st.replace(\\\",\\\", \\\".\\\") for st in happy_semi_df.freedom.astype(str)]).astype(float)) is not correct\"\n",
    "\n",
    "print('Success!')"
   ]
  },
  {
   "cell_type": "markdown",
   "metadata": {
    "deletable": false,
    "editable": false,
    "nbgrader": {
     "cell_type": "markdown",
     "checksum": "d7d71edef2b0f9eb3efadc94b442a0fe",
     "grade": false,
     "grade_id": "cell-331cf74e531fdba9",
     "locked": true,
     "schema_version": 3,
     "solution": false,
     "task": false
    }
   },
   "source": [
    "**Question 3.6.2**\n",
    "<br> {points: 1}\n",
    "\n",
    "Read in the file `happiness_report_semicolon.csv` again, but this time use a different `read_*` function than `pd.read_csv`.  **Hint:** take a look at the list of `read_*` functions at the top of this worksheet under the learning goals section. Name the data frame `happy_semi_df2`."
   ]
  },
  {
   "cell_type": "code",
   "execution_count": null,
   "metadata": {
    "deletable": false,
    "nbgrader": {
     "cell_type": "code",
     "checksum": "cca5702317fc14958df4de7a52c7104c",
     "grade": false,
     "grade_id": "cell-9edc42f2fcc7c84b",
     "locked": false,
     "schema_version": 3,
     "solution": true,
     "task": false
    }
   },
   "outputs": [],
   "source": [
    "# ___ = ___(\"___\", sep=\"___\")\n",
    "\n",
    "# your code here\n",
    "raise NotImplementedError\n",
    "happy_semi_df2"
   ]
  },
  {
   "cell_type": "code",
   "execution_count": null,
   "metadata": {
    "deletable": false,
    "editable": false,
    "max_height": 100,
    "nbgrader": {
     "cell_type": "code",
     "checksum": "d1d0f218da0e9c301d04e4e20327c1df",
     "grade": true,
     "grade_id": "cell-c707e8088f55e65a",
     "locked": true,
     "points": 3,
     "schema_version": 3,
     "solution": false,
     "task": false
    }
   },
   "outputs": [],
   "source": [
    "from hashlib import sha1\n",
    "assert sha1(str(type(happy_semi_df2)).encode(\"utf-8\")+b\"9616201a6626b064\").hexdigest() == \"93e0a6036423cbc2941e0f53a6c36f1eb55c1449\", \"type of type(happy_semi_df2) is not correct\"\n",
    "\n",
    "assert sha1(str(type(happy_semi_df2.shape)).encode(\"utf-8\")+b\"671f665bacd93d0f\").hexdigest() == \"375b4f3d8a08b3719027c67229705f07b5c547a5\", \"type of happy_semi_df2.shape is not tuple. happy_semi_df2.shape should be a tuple\"\n",
    "assert sha1(str(len(happy_semi_df2.shape)).encode(\"utf-8\")+b\"671f665bacd93d0f\").hexdigest() == \"7f5aa2fd12fa91e9da6eb8e32db0be8841eed1f7\", \"length of happy_semi_df2.shape is not correct\"\n",
    "assert sha1(str(sorted(map(str, happy_semi_df2.shape))).encode(\"utf-8\")+b\"671f665bacd93d0f\").hexdigest() == \"05b36e3e1fb6543aa108fbd401828811dfc66288\", \"values of happy_semi_df2.shape are not correct\"\n",
    "assert sha1(str(happy_semi_df2.shape).encode(\"utf-8\")+b\"671f665bacd93d0f\").hexdigest() == \"2bcf1762f9ec2202e75c34140f24720ade196caa\", \"order of elements of happy_semi_df2.shape is not correct\"\n",
    "\n",
    "assert sha1(str(type(happy_semi_df2.columns.values)).encode(\"utf-8\")+b\"7ee78ed039ca0707\").hexdigest() == \"b0ff3379c4c51bc84ddc39a920ec05c804f09d58\", \"type of happy_semi_df2.columns.values is not correct\"\n",
    "assert sha1(str(happy_semi_df2.columns.values).encode(\"utf-8\")+b\"7ee78ed039ca0707\").hexdigest() == \"4e5c2c1cbf6272f07b1c247c155825b0c37aa487\", \"value of happy_semi_df2.columns.values is not correct\"\n",
    "\n",
    "assert sha1(str(type(sum(np.array([st.replace(\",\", \".\") for st in happy_semi_df2.happiness_score.astype(str)]).astype(float)))).encode(\"utf-8\")+b\"a63563a5648df62a\").hexdigest() == \"b02d80e8b097de490e25f88de6da1e417e39ce92\", \"type of sum(np.array([st.replace(\\\",\\\", \\\".\\\") for st in happy_semi_df2.happiness_score.astype(str)]).astype(float)) is not correct\"\n",
    "assert sha1(str(sum(np.array([st.replace(\",\", \".\") for st in happy_semi_df2.happiness_score.astype(str)]).astype(float))).encode(\"utf-8\")+b\"a63563a5648df62a\").hexdigest() == \"0587fc6ec43f45bd96da9490e8185e08aa495598\", \"value of sum(np.array([st.replace(\\\",\\\", \\\".\\\") for st in happy_semi_df2.happiness_score.astype(str)]).astype(float)) is not correct\"\n",
    "\n",
    "print('Success!')"
   ]
  },
  {
   "cell_type": "markdown",
   "metadata": {
    "deletable": false,
    "editable": false,
    "nbgrader": {
     "cell_type": "markdown",
     "checksum": "c35f2157a129cb52bca22c0a3b0e7597",
     "grade": false,
     "grade_id": "cell-daeb8b069b857cab",
     "locked": true,
     "schema_version": 3,
     "solution": false,
     "task": false
    }
   },
   "source": [
    "**Question 3.6.3**\n",
    "<br> {points: 1}\n",
    "\n",
    "Read in the file `happiness_report.tsv` using the appropriate `read_*` function and name it `happy_tsv`."
   ]
  },
  {
   "cell_type": "code",
   "execution_count": null,
   "metadata": {
    "deletable": false,
    "nbgrader": {
     "cell_type": "code",
     "checksum": "622756da4ce98f9fe8a4aeaf9681c82e",
     "grade": false,
     "grade_id": "cell-95b5bac9fb43253f",
     "locked": false,
     "schema_version": 3,
     "solution": true,
     "task": false
    }
   },
   "outputs": [],
   "source": [
    "# ___ = ___(\"___\")\n",
    "\n",
    "# your code here\n",
    "raise NotImplementedError\n",
    "happy_tsv"
   ]
  },
  {
   "cell_type": "code",
   "execution_count": null,
   "metadata": {
    "deletable": false,
    "editable": false,
    "max_height": 100,
    "nbgrader": {
     "cell_type": "code",
     "checksum": "3f0db368780be9d66c9fb4bfb959827c",
     "grade": true,
     "grade_id": "cell-bdb550f60c65cdb1",
     "locked": true,
     "points": 3,
     "schema_version": 3,
     "solution": false,
     "task": false
    }
   },
   "outputs": [],
   "source": [
    "from hashlib import sha1\n",
    "assert sha1(str(type(happy_tsv)).encode(\"utf-8\")+b\"94e167180b4bdb65\").hexdigest() == \"6d639cfc4e234f5a92ba7f6cbea7f34a1e6f4407\", \"type of type(happy_tsv) is not correct\"\n",
    "\n",
    "assert sha1(str(type(happy_tsv.shape)).encode(\"utf-8\")+b\"65ae64a372c8dd58\").hexdigest() == \"07656e8ab20818f315d1cbabdcaf701e30284657\", \"type of happy_tsv.shape is not tuple. happy_tsv.shape should be a tuple\"\n",
    "assert sha1(str(len(happy_tsv.shape)).encode(\"utf-8\")+b\"65ae64a372c8dd58\").hexdigest() == \"5e967145461c323cd8e7ec2e4557f0b6be062118\", \"length of happy_tsv.shape is not correct\"\n",
    "assert sha1(str(sorted(map(str, happy_tsv.shape))).encode(\"utf-8\")+b\"65ae64a372c8dd58\").hexdigest() == \"2743152781e616650755b99922255804210243b9\", \"values of happy_tsv.shape are not correct\"\n",
    "assert sha1(str(happy_tsv.shape).encode(\"utf-8\")+b\"65ae64a372c8dd58\").hexdigest() == \"94431cf6244be44f69a30e4dc0d5c5f06614fb54\", \"order of elements of happy_tsv.shape is not correct\"\n",
    "\n",
    "assert sha1(str(type(happy_tsv.columns.values)).encode(\"utf-8\")+b\"49c72aa98fa68940\").hexdigest() == \"e4230292609457828e31fd8d0ab87fab5438a8e0\", \"type of happy_tsv.columns.values is not correct\"\n",
    "assert sha1(str(happy_tsv.columns.values).encode(\"utf-8\")+b\"49c72aa98fa68940\").hexdigest() == \"812b77ea6f81e6ddb4223125bedec8122826d669\", \"value of happy_tsv.columns.values is not correct\"\n",
    "\n",
    "assert sha1(str(type(sum(happy_tsv.freedom))).encode(\"utf-8\")+b\"8374e3731b67d35c\").hexdigest() == \"0e10bd3e54fff0994250aabe7ed236185a4e2313\", \"type of sum(happy_tsv.freedom) is not float. Please make sure it is float and not np.float64, etc. You can cast your value into a float using float()\"\n",
    "assert sha1(str(round(sum(happy_tsv.freedom), 2)).encode(\"utf-8\")+b\"8374e3731b67d35c\").hexdigest() == \"291909fcc6d27be40151f5bbb1e5185bc1cff228\", \"value of sum(happy_tsv.freedom) is not correct (rounded to 2 decimal places)\"\n",
    "\n",
    "print('Success!')"
   ]
  },
  {
   "cell_type": "markdown",
   "metadata": {
    "deletable": false,
    "editable": false,
    "nbgrader": {
     "cell_type": "markdown",
     "checksum": "f2143da31921caed4340c3822adfcace",
     "grade": false,
     "grade_id": "cell-6dfce98f770d4afe",
     "locked": true,
     "schema_version": 3,
     "solution": false,
     "task": false
    }
   },
   "source": [
    "**Question 3.6.4**\n",
    "<br> {points: 1}\n",
    "\n",
    "Read in the file `happiness_report_metadata.csv` using the appropriate `read_*` function and name it `happy_metadata`."
   ]
  },
  {
   "cell_type": "code",
   "execution_count": null,
   "metadata": {
    "deletable": false,
    "nbgrader": {
     "cell_type": "code",
     "checksum": "649702e81690c7b8e2f0ed53b239cdd1",
     "grade": false,
     "grade_id": "cell-df90d3d0614c6e49",
     "locked": false,
     "schema_version": 3,
     "solution": true,
     "task": false
    }
   },
   "outputs": [],
   "source": [
    "# ___ = ___(\n",
    "#     \"data/happiness_report_metadata.csv\", skiprows=___\n",
    "# )\n",
    "\n",
    "# your code here\n",
    "raise NotImplementedError\n",
    "happy_metadata"
   ]
  },
  {
   "cell_type": "code",
   "execution_count": null,
   "metadata": {
    "deletable": false,
    "editable": false,
    "max_height": 100,
    "nbgrader": {
     "cell_type": "code",
     "checksum": "6e62aba35174a93d3745aa6502c2392e",
     "grade": true,
     "grade_id": "cell-ed89fc8570b1ff03",
     "locked": true,
     "points": 3,
     "schema_version": 3,
     "solution": false,
     "task": false
    }
   },
   "outputs": [],
   "source": [
    "from hashlib import sha1\n",
    "assert sha1(str(type(happy_metadata)).encode(\"utf-8\")+b\"81afca02df9ce916\").hexdigest() == \"7c4aface716f1e5eacb5f2da0f6bb7d2db8bd0d8\", \"type of type(happy_metadata) is not correct\"\n",
    "\n",
    "assert sha1(str(type(happy_metadata.shape)).encode(\"utf-8\")+b\"5c1a0dd2c26bd0a2\").hexdigest() == \"eefdd876082320e1c55220dabb7efbd43e071731\", \"type of happy_metadata.shape is not tuple. happy_metadata.shape should be a tuple\"\n",
    "assert sha1(str(len(happy_metadata.shape)).encode(\"utf-8\")+b\"5c1a0dd2c26bd0a2\").hexdigest() == \"2556bcdb7aac3a9a6feac827bf4dc8d333af37c9\", \"length of happy_metadata.shape is not correct\"\n",
    "assert sha1(str(sorted(map(str, happy_metadata.shape))).encode(\"utf-8\")+b\"5c1a0dd2c26bd0a2\").hexdigest() == \"e1fc3ab4a704107c2ffe77eeea1ffc971c40a8d6\", \"values of happy_metadata.shape are not correct\"\n",
    "assert sha1(str(happy_metadata.shape).encode(\"utf-8\")+b\"5c1a0dd2c26bd0a2\").hexdigest() == \"b4cd8ba41963e377f670fad719a6f42437f3bc08\", \"order of elements of happy_metadata.shape is not correct\"\n",
    "\n",
    "assert sha1(str(type(happy_metadata.columns.values)).encode(\"utf-8\")+b\"8e916a9bca189cf6\").hexdigest() == \"b23f93643ebec58ad5590cb47610d3a35581079f\", \"type of happy_metadata.columns.values is not correct\"\n",
    "assert sha1(str(happy_metadata.columns.values).encode(\"utf-8\")+b\"8e916a9bca189cf6\").hexdigest() == \"e86dd779f72701e5a57534a18e88e53fca785562\", \"value of happy_metadata.columns.values is not correct\"\n",
    "\n",
    "assert sha1(str(type(sum(happy_metadata.freedom))).encode(\"utf-8\")+b\"033be54b69dacf83\").hexdigest() == \"38d30d6a9ebe0b2a0d6348d3ebf02198b94c6476\", \"type of sum(happy_metadata.freedom) is not float. Please make sure it is float and not np.float64, etc. You can cast your value into a float using float()\"\n",
    "assert sha1(str(round(sum(happy_metadata.freedom), 2)).encode(\"utf-8\")+b\"033be54b69dacf83\").hexdigest() == \"e61a400408f3f6779b758b2ee0f81ef7850ceba4\", \"value of sum(happy_metadata.freedom) is not correct (rounded to 2 decimal places)\"\n",
    "\n",
    "print('Success!')"
   ]
  },
  {
   "cell_type": "markdown",
   "metadata": {
    "deletable": false,
    "editable": false,
    "nbgrader": {
     "cell_type": "markdown",
     "checksum": "9188755b2537cedb93cba84ffce0f222",
     "grade": false,
     "grade_id": "cell-d5c62572e23a1854",
     "locked": true,
     "schema_version": 3,
     "solution": false,
     "task": false
    }
   },
   "source": [
    "**Question 3.6.5**\n",
    "<br> {points: 1}\n",
    "\n",
    "Read in the file `happiness_report_no_header.csv` using the appropriate `read_*` function and name it `happy_header`. \n",
    "Note: If the argument `names` is a list, the values will be used as the names of the columns."
   ]
  },
  {
   "cell_type": "code",
   "execution_count": null,
   "metadata": {
    "deletable": false,
    "nbgrader": {
     "cell_type": "code",
     "checksum": "f6c4774dd295ae446d0b31bb7cfcd4a1",
     "grade": false,
     "grade_id": "cell-f3e8559ecb065da0",
     "locked": false,
     "schema_version": 3,
     "solution": true,
     "task": false
    }
   },
   "outputs": [],
   "source": [
    "# ___ = ___(\n",
    "#     \"___\",\n",
    "#     names=[\n",
    "#         \"country\",\n",
    "#         \"happiness_score\",\n",
    "#         \"GDP_per_capita\",\n",
    "#         \"life_expectancy\",\n",
    "#         \"freedom\",\n",
    "#     ],\n",
    "# )\n",
    "\n",
    "# your code here\n",
    "raise NotImplementedError\n",
    "happy_header"
   ]
  },
  {
   "cell_type": "code",
   "execution_count": null,
   "metadata": {
    "deletable": false,
    "editable": false,
    "max_height": 100,
    "nbgrader": {
     "cell_type": "code",
     "checksum": "abc717281ca11f80f616455b4ce808bc",
     "grade": true,
     "grade_id": "cell-f56c16878a516d14",
     "locked": true,
     "points": 3,
     "schema_version": 3,
     "solution": false,
     "task": false
    }
   },
   "outputs": [],
   "source": [
    "from hashlib import sha1\n",
    "assert sha1(str(type(happy_header)).encode(\"utf-8\")+b\"f35fa09194efdb12\").hexdigest() == \"11b8a69fbc88e3154d892c91d0fc70274fc1d414\", \"type of type(happy_header) is not correct\"\n",
    "\n",
    "assert sha1(str(type(happy_header.shape)).encode(\"utf-8\")+b\"67c704e8e66949e4\").hexdigest() == \"3189baf1716bd960d08976fd8cf243fd68e0e419\", \"type of happy_header.shape is not tuple. happy_header.shape should be a tuple\"\n",
    "assert sha1(str(len(happy_header.shape)).encode(\"utf-8\")+b\"67c704e8e66949e4\").hexdigest() == \"6c8b61f3bd00a849b0a91d7e2f8efb0cafc59649\", \"length of happy_header.shape is not correct\"\n",
    "assert sha1(str(sorted(map(str, happy_header.shape))).encode(\"utf-8\")+b\"67c704e8e66949e4\").hexdigest() == \"c2d13dd97bc4b8efacb2acb99dba89c269efe277\", \"values of happy_header.shape are not correct\"\n",
    "assert sha1(str(happy_header.shape).encode(\"utf-8\")+b\"67c704e8e66949e4\").hexdigest() == \"08a0deeab19f96b04e73820842f947051cb06a49\", \"order of elements of happy_header.shape is not correct\"\n",
    "\n",
    "assert sha1(str(type(happy_header.columns.values)).encode(\"utf-8\")+b\"d0d6bcbd6b83bb3c\").hexdigest() == \"2d8d3929e77fba312b424ad0673dcaa856140210\", \"type of happy_header.columns.values is not correct\"\n",
    "assert sha1(str(happy_header.columns.values).encode(\"utf-8\")+b\"d0d6bcbd6b83bb3c\").hexdigest() == \"5d8464105a87c11e3a69842702bd69b338ebb793\", \"value of happy_header.columns.values is not correct\"\n",
    "\n",
    "assert sha1(str(type(sum(happy_header.freedom))).encode(\"utf-8\")+b\"3db4da30f6243f54\").hexdigest() == \"bc1584cda428d1a74d0188d33deb9e33670bd8f7\", \"type of sum(happy_header.freedom) is not float. Please make sure it is float and not np.float64, etc. You can cast your value into a float using float()\"\n",
    "assert sha1(str(round(sum(happy_header.freedom), 2)).encode(\"utf-8\")+b\"3db4da30f6243f54\").hexdigest() == \"fef38737028252cc7fc11ad964c7e83220b28d8a\", \"value of sum(happy_header.freedom) is not correct (rounded to 2 decimal places)\"\n",
    "\n",
    "print('Success!')"
   ]
  },
  {
   "cell_type": "markdown",
   "metadata": {
    "deletable": false,
    "editable": false,
    "nbgrader": {
     "cell_type": "markdown",
     "checksum": "945f5437f99d8fd8eed6fd245e00d8f8",
     "grade": false,
     "grade_id": "cell-4050684fb738520a",
     "locked": true,
     "schema_version": 3,
     "solution": false,
     "task": false
    }
   },
   "source": [
    "**Question 3.7**\n",
    "<br> {points: 1}\n",
    "\n",
    "Earlier when you tried to open `happiness_report.xlsx` in Jupyter, you received an error message `(File Load Error ... is not UTF-8 encoded)`. This happens because Excel spreadsheet files are not stored in plain text, and so Jupyter can't open them with its default text viewing program. This makes them a bit harder to inspect before trying to open in `Python`.\n",
    "\n",
    "To inspect the data, we will just try to load `happiness_report.xlsx` using the most basic form of the appropriate `read_*` function, passing only the filename as an argument. Assign the output to a variable called `happy_xlsx`.\n",
    "\n",
    "*Note: you can also try to examine `.xlsx` files with Microsoft Excel or Google Sheets before loading into Python.*"
   ]
  },
  {
   "cell_type": "code",
   "execution_count": null,
   "metadata": {
    "deletable": false,
    "nbgrader": {
     "cell_type": "code",
     "checksum": "72bd86dde14e18f7f1d94dc752b9a20c",
     "grade": false,
     "grade_id": "cell-9c2d94b7e4040d98",
     "locked": false,
     "schema_version": 3,
     "solution": true,
     "task": false
    }
   },
   "outputs": [],
   "source": [
    "# ___ = ___(\"___\")\n",
    "\n",
    "# your code here\n",
    "raise NotImplementedError\n",
    "happy_xlsx"
   ]
  },
  {
   "cell_type": "code",
   "execution_count": null,
   "metadata": {
    "deletable": false,
    "editable": false,
    "max_height": 100,
    "nbgrader": {
     "cell_type": "code",
     "checksum": "26e1b230d86dd3f06bb46381be7fd9e8",
     "grade": true,
     "grade_id": "cell-79c203e0b46e0a51",
     "locked": true,
     "points": 3,
     "schema_version": 3,
     "solution": false,
     "task": false
    }
   },
   "outputs": [],
   "source": [
    "from hashlib import sha1\n",
    "assert sha1(str(type(happy_xlsx)).encode(\"utf-8\")+b\"c9d633510191c112\").hexdigest() == \"f889e987ea0baccb2a8ec0802deef52ac3b33f50\", \"type of type(happy_xlsx) is not correct\"\n",
    "\n",
    "assert sha1(str(type(happy_xlsx.shape)).encode(\"utf-8\")+b\"3f6819cbb6e50dbf\").hexdigest() == \"f043922592e2c28732462eea1770a8fd13f8d743\", \"type of happy_xlsx.shape is not tuple. happy_xlsx.shape should be a tuple\"\n",
    "assert sha1(str(len(happy_xlsx.shape)).encode(\"utf-8\")+b\"3f6819cbb6e50dbf\").hexdigest() == \"3f54c542c485ac67f570288fae0b060415d690bc\", \"length of happy_xlsx.shape is not correct\"\n",
    "assert sha1(str(sorted(map(str, happy_xlsx.shape))).encode(\"utf-8\")+b\"3f6819cbb6e50dbf\").hexdigest() == \"39279d0e7b3ae92aac7d9cf15cb7055643a5a9b8\", \"values of happy_xlsx.shape are not correct\"\n",
    "assert sha1(str(happy_xlsx.shape).encode(\"utf-8\")+b\"3f6819cbb6e50dbf\").hexdigest() == \"50f8edd3513cff88c48472cd6bc3fc41392b67ed\", \"order of elements of happy_xlsx.shape is not correct\"\n",
    "\n",
    "assert sha1(str(type(happy_xlsx.columns.values)).encode(\"utf-8\")+b\"4cc3852df2879680\").hexdigest() == \"fec807aa6ea21979617237c8337afb6143166d03\", \"type of happy_xlsx.columns.values is not correct\"\n",
    "assert sha1(str(happy_xlsx.columns.values).encode(\"utf-8\")+b\"4cc3852df2879680\").hexdigest() == \"e3b2578b61123c39dbe3b2796e0825629c43e1cf\", \"value of happy_xlsx.columns.values is not correct\"\n",
    "\n",
    "assert sha1(str(type(sum(happy_xlsx.freedom))).encode(\"utf-8\")+b\"e5dcfeb7ec9f3327\").hexdigest() == \"0e53b9485068a503531e804e53816bec14ee4abb\", \"type of sum(happy_xlsx.freedom) is not float. Please make sure it is float and not np.float64, etc. You can cast your value into a float using float()\"\n",
    "assert sha1(str(round(sum(happy_xlsx.freedom), 2)).encode(\"utf-8\")+b\"e5dcfeb7ec9f3327\").hexdigest() == \"5d28521948f9e600679485c41408b57a7c8644c0\", \"value of sum(happy_xlsx.freedom) is not correct (rounded to 2 decimal places)\"\n",
    "\n",
    "print('Success!')"
   ]
  },
  {
   "cell_type": "markdown",
   "metadata": {
    "deletable": false,
    "editable": false,
    "nbgrader": {
     "cell_type": "markdown",
     "checksum": "c299fcba078e6e4f161308aa39a637b6",
     "grade": false,
     "grade_id": "cell-c3d1de78c3cb2d90",
     "locked": true,
     "schema_version": 3,
     "solution": false,
     "task": false
    }
   },
   "source": [
    "**Question 3.8** \n",
    "<br> {points: 1}\n",
    "\n",
    "Opening the data on a text editor showed some clear differences. Do all the data sets look the same once reading them on your Python notebook (`\"yes\"` or `\"no\"`)? \n",
    " \n",
    "*Assign your answer to an object called `answer3_8`. Make sure your answer is in lowercase and is surrounded by quotation marks (e.g. `\"yes\"` or `\"no\"`).* "
   ]
  },
  {
   "cell_type": "code",
   "execution_count": null,
   "metadata": {
    "deletable": false,
    "nbgrader": {
     "cell_type": "code",
     "checksum": "22181ecc1415c11f70f9bf1c6eda205e",
     "grade": false,
     "grade_id": "cell-fa296337c8c6c4ff",
     "locked": false,
     "schema_version": 3,
     "solution": true,
     "task": false
    }
   },
   "outputs": [],
   "source": [
    "# your code here\n",
    "raise NotImplementedError"
   ]
  },
  {
   "cell_type": "code",
   "execution_count": null,
   "metadata": {
    "deletable": false,
    "editable": false,
    "max_height": 100,
    "nbgrader": {
     "cell_type": "code",
     "checksum": "e16802c6f1e277bad7ea50dea265d106",
     "grade": true,
     "grade_id": "cell-0b8300d53191a02e",
     "locked": true,
     "points": 0,
     "schema_version": 3,
     "solution": false,
     "task": false
    }
   },
   "outputs": [],
   "source": [
    "from hashlib import sha1\n",
    "assert sha1(str(type(answer3_8)).encode(\"utf-8\")+b\"da2d8bbc702832aa\").hexdigest() == \"0e157adfb04d863dfd68b9f0d78b32457e6ddf5b\", \"type of answer3_8 is not str. answer3_8 should be an str\"\n",
    "assert sha1(str(len(answer3_8)).encode(\"utf-8\")+b\"da2d8bbc702832aa\").hexdigest() == \"397e80417661349dc175efc67c72c2a9c60c357f\", \"length of answer3_8 is not correct\"\n",
    "assert sha1(str(answer3_8.lower()).encode(\"utf-8\")+b\"da2d8bbc702832aa\").hexdigest() == \"aaa0c0269531ca2f69add07eafd83aa63636c60b\", \"value of answer3_8 is not correct\"\n",
    "assert sha1(str(answer3_8).encode(\"utf-8\")+b\"da2d8bbc702832aa\").hexdigest() == \"aaa0c0269531ca2f69add07eafd83aa63636c60b\", \"correct string value of answer3_8 but incorrect case of letters\"\n",
    "\n",
    "print('Success!')"
   ]
  },
  {
   "cell_type": "markdown",
   "metadata": {
    "deletable": false,
    "editable": false,
    "nbgrader": {
     "cell_type": "markdown",
     "checksum": "8223d32863d1635f14407eba27f6f761",
     "grade": false,
     "grade_id": "cell-884c1bd38cf56aaf",
     "locked": true,
     "schema_version": 3,
     "solution": false,
     "task": false
    }
   },
   "source": [
    "**Question 3.9** \n",
    "<br> {points: 1}\n",
    "\n",
    "Using the `happy_header` data set that you read earlier, plot `life_expectancy` vs. `GDP_per_capita`. Note that the statement \"plot A vs. B\" usually means to plot A on the y-axis, and B on the x-axis. Be sure to use `xlab` and `ylab` to give your axes human-readable  labels.\n",
    "\n",
    "*Assign your answer to an object called `header_plot`.* "
   ]
  },
  {
   "cell_type": "code",
   "execution_count": null,
   "metadata": {
    "deletable": false,
    "nbgrader": {
     "cell_type": "code",
     "checksum": "bc6c138407c7017b81a7fce2f571384a",
     "grade": false,
     "grade_id": "cell-1789a92984f2c9fb",
     "locked": false,
     "schema_version": 3,
     "solution": true,
     "task": false
    }
   },
   "outputs": [],
   "source": [
    "# your code here\n",
    "raise NotImplementedError\n",
    "header_plot"
   ]
  },
  {
   "cell_type": "code",
   "execution_count": null,
   "metadata": {
    "deletable": false,
    "editable": false,
    "max_height": 100,
    "nbgrader": {
     "cell_type": "code",
     "checksum": "57c01966ab143499e5b0f138c5260563",
     "grade": true,
     "grade_id": "cell-56ebd948b3afe4ab",
     "locked": true,
     "points": 1,
     "schema_version": 3,
     "solution": false,
     "task": false
    }
   },
   "outputs": [],
   "source": [
    "from hashlib import sha1\n",
    "assert sha1(str(type(header_plot.encoding.x.field)).encode(\"utf-8\")+b\"fd395936a4018abe\").hexdigest() == \"3ffd2c05ff4a871b7f6eaf69442e6ebdd0df7a0c\", \"type of header_plot.encoding.x.field is not str. header_plot.encoding.x.field should be an str\"\n",
    "assert sha1(str(len(header_plot.encoding.x.field)).encode(\"utf-8\")+b\"fd395936a4018abe\").hexdigest() == \"49f04923aabc9d119f48cb208867aa15834fcd04\", \"length of header_plot.encoding.x.field is not correct\"\n",
    "assert sha1(str(header_plot.encoding.x.field.lower()).encode(\"utf-8\")+b\"fd395936a4018abe\").hexdigest() == \"8dec2fb2029ee273ed10170ac16fb2ffe34a0d58\", \"value of header_plot.encoding.x.field is not correct\"\n",
    "assert sha1(str(header_plot.encoding.x.field).encode(\"utf-8\")+b\"fd395936a4018abe\").hexdigest() == \"14f8aadb76f478ba461805d176376e499f402e76\", \"correct string value of header_plot.encoding.x.field but incorrect case of letters\"\n",
    "\n",
    "assert sha1(str(type(header_plot.encoding.y.field)).encode(\"utf-8\")+b\"f33ca8c72206b9c9\").hexdigest() == \"aae5b35815a5d4510f9a300a5ebdd21aa298fec9\", \"type of header_plot.encoding.y.field is not str. header_plot.encoding.y.field should be an str\"\n",
    "assert sha1(str(len(header_plot.encoding.y.field)).encode(\"utf-8\")+b\"f33ca8c72206b9c9\").hexdigest() == \"0801019082dc548eaba1bbea3476364a794943db\", \"length of header_plot.encoding.y.field is not correct\"\n",
    "assert sha1(str(header_plot.encoding.y.field.lower()).encode(\"utf-8\")+b\"f33ca8c72206b9c9\").hexdigest() == \"2a7c331fbb5b07688c1abe038ee8c470a477e984\", \"value of header_plot.encoding.y.field is not correct\"\n",
    "assert sha1(str(header_plot.encoding.y.field).encode(\"utf-8\")+b\"f33ca8c72206b9c9\").hexdigest() == \"2a7c331fbb5b07688c1abe038ee8c470a477e984\", \"correct string value of header_plot.encoding.y.field but incorrect case of letters\"\n",
    "\n",
    "assert sha1(str(type(header_plot.mark)).encode(\"utf-8\")+b\"d28e6043b3b21d5d\").hexdigest() == \"1495091ac59ff27540fb48621fe9177a740c0417\", \"type of header_plot.mark is not str. header_plot.mark should be an str\"\n",
    "assert sha1(str(len(header_plot.mark)).encode(\"utf-8\")+b\"d28e6043b3b21d5d\").hexdigest() == \"cb12b2938febef71575441e928c173bc5b0968e8\", \"length of header_plot.mark is not correct\"\n",
    "assert sha1(str(header_plot.mark.lower()).encode(\"utf-8\")+b\"d28e6043b3b21d5d\").hexdigest() == \"45def629a51557642cb85802ac11abea8403edf7\", \"value of header_plot.mark is not correct\"\n",
    "assert sha1(str(header_plot.mark).encode(\"utf-8\")+b\"d28e6043b3b21d5d\").hexdigest() == \"45def629a51557642cb85802ac11abea8403edf7\", \"correct string value of header_plot.mark but incorrect case of letters\"\n",
    "\n",
    "assert sha1(str(type(header_plot.encoding.x.title != 'GDP_per_capita')).encode(\"utf-8\")+b\"72c1304c7f585491\").hexdigest() == \"db6da5cae2cf694e6fdc3ae07860bc2f5373af63\", \"type of header_plot.encoding.x.title != 'GDP_per_capita' is not bool. header_plot.encoding.x.title != 'GDP_per_capita' should be a bool\"\n",
    "assert sha1(str(header_plot.encoding.x.title != 'GDP_per_capita').encode(\"utf-8\")+b\"72c1304c7f585491\").hexdigest() == \"77f74e422c47def9fab3e0aeeb34e88062fe2a8d\", \"boolean value of header_plot.encoding.x.title != 'GDP_per_capita' is not correct\"\n",
    "\n",
    "assert sha1(str(type(header_plot.encoding.y.title != 'life_expectancy')).encode(\"utf-8\")+b\"f3dd7944495386ab\").hexdigest() == \"8d03bed471db6297afca8f035ffcbfbefebce544\", \"type of header_plot.encoding.y.title != 'life_expectancy' is not bool. header_plot.encoding.y.title != 'life_expectancy' should be a bool\"\n",
    "assert sha1(str(header_plot.encoding.y.title != 'life_expectancy').encode(\"utf-8\")+b\"f3dd7944495386ab\").hexdigest() == \"a6a1d2e5b945169e3131910a94bc1557e718ac01\", \"boolean value of header_plot.encoding.y.title != 'life_expectancy' is not correct\"\n",
    "\n",
    "print('Success!')"
   ]
  },
  {
   "cell_type": "markdown",
   "metadata": {
    "deletable": false,
    "editable": false,
    "nbgrader": {
     "cell_type": "markdown",
     "checksum": "05ce16d83c1adc38404c35a339c14240",
     "grade": false,
     "grade_id": "cell-d2de7ca256a685eb",
     "locked": true,
     "schema_version": 3,
     "solution": false,
     "task": false
    }
   },
   "source": [
    "## 4. Reading Data from a Database\n",
    "\n",
    "### Investigating the reliability of flights into and out of Boston Logan International Airport\n",
    "\n",
    "Delays and cancellations seem to be an unavoidable risk of air travel. A missed connection, or hours spent waiting at the departure gate, might make you wonder though: how reliable is air travel, *really*?\n",
    "\n",
    "The US Bureau of Transportation Statistics keeps a continually-updated [Airline On-Time Performance Dataset](https://transtats.bts.gov/DatabaseInfo.asp?DB_ID=120&DB_Name=Airline%20On-Time%20Performance%20Data) that has tracked the scheduled and actual departure / arrival time of flights in the United States from 1987 to the present day. In this section we'll do some exploration of this data to try to answer some of the above questions. The actual data we'll be using was from only the year 2015, and was compiled into the [2015 Kaggle Flight Delays Dataset](https://www.kaggle.com/usdot/flight-delays) from the raw Bureau data. But even that  dataset is too large to handle in this course (5.8 million flights in just one year!), so the data have been filtered down to flights that either depart or arrive at Logan International Airport (`BOS`), resulting in around 209,000 flight records. \n",
    "\n",
    "Our data has the following variables (columns):\n",
    "\n",
    "- year\n",
    "- month\n",
    "- day\n",
    "- day of the week (from 1 - 7.999..., with fractional days based on departure time)\n",
    "- origin airport code\n",
    "- destination airport code\n",
    "- flight distance (miles)\n",
    "- scheduled departure time (local)\n",
    "- departure delay (minutes)\n",
    "- scheduled arrival time (local)\n",
    "- arrival delay (minutes)\n",
    "- diverted? (True/False)\n",
    "- cancelled? (True/False)\n",
    "\n",
    "\n"
   ]
  },
  {
   "cell_type": "markdown",
   "metadata": {
    "deletable": false,
    "editable": false,
    "nbgrader": {
     "cell_type": "markdown",
     "checksum": "56156da0dfb19d3852615383f2724375",
     "grade": false,
     "grade_id": "cell-ae6a468045492d65",
     "locked": true,
     "schema_version": 3,
     "solution": false,
     "task": false
    }
   },
   "source": [
    "**Question 4.1** True or False:\n",
    "<br> {points: 1}\n",
    "\n",
    "We can use our dataset to figure out which airline company was the least likely to experience a flight delay in 2015.\n",
    "\n",
    "*Assign your answer to an object called `answer4_1`. Make sure your answer is a boolean (e.g. `True` or `False`).*"
   ]
  },
  {
   "cell_type": "code",
   "execution_count": null,
   "metadata": {
    "deletable": false,
    "nbgrader": {
     "cell_type": "code",
     "checksum": "b429827fb88028119c4780f387a35c36",
     "grade": false,
     "grade_id": "cell-a617f1c9efd04f99",
     "locked": false,
     "schema_version": 3,
     "solution": true,
     "task": false
    }
   },
   "outputs": [],
   "source": [
    "# your code here\n",
    "raise NotImplementedError"
   ]
  },
  {
   "cell_type": "code",
   "execution_count": null,
   "metadata": {
    "deletable": false,
    "editable": false,
    "max_height": 100,
    "nbgrader": {
     "cell_type": "code",
     "checksum": "1c9b5d0119d349e6cd25ae371d3ac687",
     "grade": true,
     "grade_id": "cell-3a25845fbe2a154e",
     "locked": true,
     "points": 3,
     "schema_version": 3,
     "solution": false,
     "task": false
    }
   },
   "outputs": [],
   "source": [
    "from hashlib import sha1\n",
    "assert sha1(str(type(answer4_1)).encode(\"utf-8\")+b\"e7571f7bc296f9f4\").hexdigest() == \"94f5fd7a69f5b1184fa6bcfb5c4656c152def01c\", \"type of answer4_1 is not bool. answer4_1 should be a bool\"\n",
    "assert sha1(str(answer4_1).encode(\"utf-8\")+b\"e7571f7bc296f9f4\").hexdigest() == \"47d62183c55d4ad15877b9abb6c239ea9d47876f\", \"boolean value of answer4_1 is not correct\"\n",
    "\n",
    "print('Success!')"
   ]
  },
  {
   "cell_type": "markdown",
   "metadata": {
    "deletable": false,
    "editable": false,
    "nbgrader": {
     "cell_type": "markdown",
     "checksum": "2f9851315cc33e188aa147ede3966dbc",
     "grade": false,
     "grade_id": "cell-8e10ec43a04b5f28",
     "locked": true,
     "schema_version": 3,
     "solution": false,
     "task": false
    }
   },
   "source": [
    "**Question 4.2** Multiple Choice\n",
    "<br> {points: 1}\n",
    "\n",
    "If we're mostly concerned with getting to our destination on time, which variable in our dataset should we use as the y-axis of a plot?\n",
    "\n",
    "A. flight distance\n",
    "\n",
    "B. departure delay\n",
    "\n",
    "C. origin airport code\n",
    "\n",
    "D. arrival delay\n",
    "\n",
    "*Assign your answer as a single character to an object called `answer4_2`. Make sure your answer is an uppercase letter and is surrounded by quotation marks (e.g. `\"F\"`).*"
   ]
  },
  {
   "cell_type": "code",
   "execution_count": null,
   "metadata": {
    "deletable": false,
    "nbgrader": {
     "cell_type": "code",
     "checksum": "5bfd92ca78885f86913d2b4b23421928",
     "grade": false,
     "grade_id": "cell-b0d8a3e66f6ca65f",
     "locked": false,
     "schema_version": 3,
     "solution": true,
     "task": false
    }
   },
   "outputs": [],
   "source": [
    "# your code here\n",
    "raise NotImplementedError"
   ]
  },
  {
   "cell_type": "code",
   "execution_count": null,
   "metadata": {
    "deletable": false,
    "editable": false,
    "max_height": 100,
    "nbgrader": {
     "cell_type": "code",
     "checksum": "b2558865d574f55877478de70051cdfa",
     "grade": true,
     "grade_id": "cell-5ef18ca82d1a9b95",
     "locked": true,
     "points": 3,
     "schema_version": 3,
     "solution": false,
     "task": false
    }
   },
   "outputs": [],
   "source": [
    "from hashlib import sha1\n",
    "assert sha1(str(type(answer4_2)).encode(\"utf-8\")+b\"f586b1166077c087\").hexdigest() == \"8356ec5cd3fb4e2033956dc83c65d367d2fc0fdd\", \"type of answer4_2 is not str. answer4_2 should be an str\"\n",
    "assert sha1(str(len(answer4_2)).encode(\"utf-8\")+b\"f586b1166077c087\").hexdigest() == \"3a424ac0555655d631a74e0826498a8a79477aec\", \"length of answer4_2 is not correct\"\n",
    "assert sha1(str(answer4_2.lower()).encode(\"utf-8\")+b\"f586b1166077c087\").hexdigest() == \"622045a1c7716b14337a9425b14198183101ecb9\", \"value of answer4_2 is not correct\"\n",
    "assert sha1(str(answer4_2).encode(\"utf-8\")+b\"f586b1166077c087\").hexdigest() == \"26b414cd1421151c15f578430044e7cf42c7836d\", \"correct string value of answer4_2 but incorrect case of letters\"\n",
    "\n",
    "print('Success!')"
   ]
  },
  {
   "cell_type": "markdown",
   "metadata": {
    "deletable": false,
    "editable": false,
    "nbgrader": {
     "cell_type": "markdown",
     "checksum": "1113103e768456f8ee3ffa63e0b0552d",
     "grade": false,
     "grade_id": "cell-ece904e30e3c5df3",
     "locked": true,
     "schema_version": 3,
     "solution": false,
     "task": false
    }
   },
   "source": [
    "Let's start exploring our data. The file is stored in `data/flights_filtered.db` in your working directory (still the `py_worksheet_reading` folder). If you try to open the file in Jupyter to inspect its contents, you'll again run into the `File Load Error ... is not UTF-8 encoded` message you got earlier when trying to open an Excel spreadsheet in Jupyter. This is because the file is a *database* (often denoted by the `.db` extension), which are usually not stored in plain text. \n",
    "\n",
    "We'll need more Python packages to help us handle this kind of data: In this course, we will work with the [`ibis` package](https://ibis-project.org/docs/3.2.0/).\n",
    "\n",
    "Let's load that now\n",
    "\n"
   ]
  },
  {
   "cell_type": "code",
   "execution_count": null,
   "metadata": {
    "deletable": false,
    "editable": false,
    "lines_to_next_cell": 2,
    "nbgrader": {
     "cell_type": "code",
     "checksum": "3a78abe8d366a981d6d2b76e9e421c1b",
     "grade": false,
     "grade_id": "cell-1b17f8e1f081d8e4",
     "locked": true,
     "schema_version": 3,
     "solution": false,
     "task": false
    }
   },
   "outputs": [],
   "source": [
    "# Run this cell before continuing.\n",
    "import ibis"
   ]
  },
  {
   "cell_type": "markdown",
   "metadata": {
    "deletable": false,
    "editable": false,
    "nbgrader": {
     "cell_type": "markdown",
     "checksum": "a38aad6cecdcce87f07c672cd9e15333",
     "grade": false,
     "grade_id": "cell-6fc5d146857922ba",
     "locked": true,
     "schema_version": 3,
     "solution": false,
     "task": false
    }
   },
   "source": [
    "In order to open a database in Python, you need to take the following steps:\n",
    "\n",
    "1. Connect to the database. For an SQLite database, we will do that using \n",
    "the `connect` function from the\n",
    "`sqlite` backend in the\n",
    "`ibis` package. This command does not read\n",
    "in the data, but simply tells Python where the database is and opens up a\n",
    "communication channel that Python can use to send SQL commands to the database.\n",
    "2. Check what tables (similar to pandas dataframes, Excel spreadsheets) are in the database using the `list_tables` function\n",
    "3. Once you've picked a table, create a Python object for it using the `table` function from the `conn` object\n",
    "4. You can then interact with this table using familiar commands like `head` or `[]` and don't forget to use `execute` to get back a pandas data frame\n",
    "\n",
    "The next few questions will walk you through this process.\n"
   ]
  },
  {
   "cell_type": "markdown",
   "metadata": {
    "deletable": false,
    "editable": false,
    "nbgrader": {
     "cell_type": "markdown",
     "checksum": "bb81da8d5bcd5a63cebc25fbfa3791d4",
     "grade": false,
     "grade_id": "cell-2263f7b141009a80",
     "locked": true,
     "schema_version": 3,
     "solution": false,
     "task": false
    }
   },
   "source": [
    "**Question 4.3.1** \n",
    "<br> {points: 1}\n",
    "\n",
    "Use the `connect` function from the `sqlite` backend in the `ibis` package to open and connect to the `flights_filtered.db` database in the `data` folder.\n",
    "\n",
    "*Assign the output to a variable named `conn`*."
   ]
  },
  {
   "cell_type": "code",
   "execution_count": null,
   "metadata": {
    "deletable": false,
    "nbgrader": {
     "cell_type": "code",
     "checksum": "6e7611afed5e1bfff23c2567ac3e5d99",
     "grade": false,
     "grade_id": "cell-f7c7606756107e5a",
     "locked": false,
     "schema_version": 3,
     "solution": true,
     "task": false
    }
   },
   "outputs": [],
   "source": [
    "# conn = ibis.sqlite.connect(\"___\")  #replace ___ with the database relative path\n",
    "# \n",
    "\n",
    "# your code here\n",
    "raise NotImplementedError"
   ]
  },
  {
   "cell_type": "code",
   "execution_count": null,
   "metadata": {
    "deletable": false,
    "editable": false,
    "max_height": 100,
    "nbgrader": {
     "cell_type": "code",
     "checksum": "0ae6bb892581dd6f2102ad097faeec56",
     "grade": true,
     "grade_id": "cell-10c6061a03204914",
     "locked": true,
     "points": 1,
     "schema_version": 3,
     "solution": false,
     "task": false
    }
   },
   "outputs": [],
   "source": [
    "from hashlib import sha1\n",
    "assert sha1(str(type(type(conn))).encode(\"utf-8\")+b\"8d71bb1704405cc8\").hexdigest() == \"c87cb18a74d36fe90d1b06eb972c278d9700b832\", \"type of type(conn) is not correct\"\n",
    "assert sha1(str(type(conn)).encode(\"utf-8\")+b\"8d71bb1704405cc8\").hexdigest() == \"3ad301a101fbad593f69e2f2a49cdfca7db33e81\", \"value of type(conn) is not correct\"\n",
    "\n",
    "assert sha1(str(type(conn.list_tables())).encode(\"utf-8\")+b\"5ee078ffca35e51f\").hexdigest() == \"292b7ef2e0ff28de3b3673274b2c06435b7d3aad\", \"type of conn.list_tables() is not list. conn.list_tables() should be a list\"\n",
    "assert sha1(str(len(conn.list_tables())).encode(\"utf-8\")+b\"5ee078ffca35e51f\").hexdigest() == \"de4d702857fa9fb824a3728eb158bc3828b168ee\", \"length of conn.list_tables() is not correct\"\n",
    "assert sha1(str(sorted(map(str, conn.list_tables()))).encode(\"utf-8\")+b\"5ee078ffca35e51f\").hexdigest() == \"b27d9494795e0fb7b0cd004a6fdb34e660cad58e\", \"values of conn.list_tables() are not correct\"\n",
    "assert sha1(str(conn.list_tables()).encode(\"utf-8\")+b\"5ee078ffca35e51f\").hexdigest() == \"b27d9494795e0fb7b0cd004a6fdb34e660cad58e\", \"order of elements of conn.list_tables() is not correct\"\n",
    "\n",
    "print('Success!')"
   ]
  },
  {
   "cell_type": "markdown",
   "metadata": {
    "deletable": false,
    "editable": false,
    "nbgrader": {
     "cell_type": "markdown",
     "checksum": "aca7699a568fdac44fd4d03c6fb2993f",
     "grade": false,
     "grade_id": "cell-3be320fb744223bf",
     "locked": true,
     "schema_version": 3,
     "solution": false,
     "task": false
    }
   },
   "source": [
    "**Question 4.3.2**\n",
    "<br> {points: 1}\n",
    "\n",
    "Use the `list_tables` function to inspect the database stored in the engine to see what tables it contains.\n",
    "\n",
    "*Make a new variable named `flights_table_name` that stores the name of the table with our data in it*"
   ]
  },
  {
   "cell_type": "code",
   "execution_count": null,
   "metadata": {},
   "outputs": [],
   "source": [
    "# Use this cell to figure out how to answer the question\n",
    "# Call the table_names function in this cell and take a look at the output\n",
    "\n",
    "# (___).list_tables() # replace ___ with the right argument\n",
    "\n",
    "\n",
    "# once you've called this and seen the output, insert the output string in the cell below as denoted"
   ]
  },
  {
   "cell_type": "code",
   "execution_count": null,
   "metadata": {
    "deletable": false,
    "nbgrader": {
     "cell_type": "code",
     "checksum": "2dd5d20b7b96e8d63718bfdf09a8bb7c",
     "grade": false,
     "grade_id": "cell-7a521f34b4eacb55",
     "locked": false,
     "schema_version": 3,
     "solution": true,
     "task": false
    }
   },
   "outputs": [],
   "source": [
    "# ___ = '___'\n",
    "\n",
    "# your code here\n",
    "raise NotImplementedError"
   ]
  },
  {
   "cell_type": "code",
   "execution_count": null,
   "metadata": {
    "deletable": false,
    "editable": false,
    "max_height": 100,
    "nbgrader": {
     "cell_type": "code",
     "checksum": "f53edefb93b9c1d46f2fe2e502c02c00",
     "grade": true,
     "grade_id": "cell-0cdbe210a4acaec3",
     "locked": true,
     "points": 1,
     "schema_version": 3,
     "solution": false,
     "task": false
    }
   },
   "outputs": [],
   "source": [
    "from hashlib import sha1\n",
    "assert sha1(str(type(flights_table_name)).encode(\"utf-8\")+b\"23a16a289c289849\").hexdigest() == \"4f3521ee32b3f1686e7318749693bef777578417\", \"type of flights_table_name is not str. flights_table_name should be an str\"\n",
    "assert sha1(str(len(flights_table_name)).encode(\"utf-8\")+b\"23a16a289c289849\").hexdigest() == \"4da715a4a59e1648ce3dd6b50933c6d74c150c79\", \"length of flights_table_name is not correct\"\n",
    "assert sha1(str(flights_table_name.lower()).encode(\"utf-8\")+b\"23a16a289c289849\").hexdigest() == \"ad8af0a70922505a4636223171c0ffd59566460c\", \"value of flights_table_name is not correct\"\n",
    "assert sha1(str(flights_table_name).encode(\"utf-8\")+b\"23a16a289c289849\").hexdigest() == \"ad8af0a70922505a4636223171c0ffd59566460c\", \"correct string value of flights_table_name but incorrect case of letters\"\n",
    "\n",
    "print('Success!')"
   ]
  },
  {
   "cell_type": "markdown",
   "metadata": {
    "deletable": false,
    "editable": false,
    "nbgrader": {
     "cell_type": "markdown",
     "checksum": "79130959eef46533e3ed6557bea9b1ff",
     "grade": false,
     "grade_id": "cell-2cea3627425a277f",
     "locked": true,
     "schema_version": 3,
     "solution": false,
     "task": false
    }
   },
   "source": [
    "**Question 4.3.3**\n",
    "<br> {points: 1}\n",
    "\n",
    "Use the `table` function from the `conn` object to create a Python reference to the table and call this `flight_data`\n",
    "\n",
    "*Make a new variable named `flight_data`.*"
   ]
  },
  {
   "cell_type": "code",
   "execution_count": null,
   "metadata": {
    "deletable": false,
    "nbgrader": {
     "cell_type": "code",
     "checksum": "1a1eeb072bb181318240062763a3ec75",
     "grade": false,
     "grade_id": "cell-ce6208974728270f",
     "locked": false,
     "schema_version": 3,
     "solution": true,
     "task": false
    }
   },
   "outputs": [],
   "source": [
    "# flight_data = conn.table(_____)\n",
    "\n",
    "# your code here\n",
    "raise NotImplementedError\n",
    "flight_data "
   ]
  },
  {
   "cell_type": "code",
   "execution_count": null,
   "metadata": {
    "deletable": false,
    "editable": false,
    "max_height": 100,
    "nbgrader": {
     "cell_type": "code",
     "checksum": "a3ebbc12a8ae8e60d6758e88eb230538",
     "grade": true,
     "grade_id": "cell-f49edc2edcd86899",
     "locked": true,
     "points": 1,
     "schema_version": 3,
     "solution": false,
     "task": false
    }
   },
   "outputs": [],
   "source": [
    "from hashlib import sha1\n",
    "assert sha1(str(type(flight_data)).encode(\"utf-8\")+b\"1ff8c5c0998f02fe\").hexdigest() == \"d39d38dc3798cf7babbb822e9a09c4799a0dd12e\", \"type of type(flight_data) is not correct\"\n",
    "\n",
    "assert sha1(str(type(flight_data.columns)).encode(\"utf-8\")+b\"76f5305810d33d7e\").hexdigest() == \"d58b585acb9710646c4b0dafbaf9d6a9eff9ad40\", \"type of flight_data.columns is not list. flight_data.columns should be a list\"\n",
    "assert sha1(str(len(flight_data.columns)).encode(\"utf-8\")+b\"76f5305810d33d7e\").hexdigest() == \"fc3c8bf6738186c213e8ab14a6bf1fc77d1714c7\", \"length of flight_data.columns is not correct\"\n",
    "assert sha1(str(sorted(map(str, flight_data.columns))).encode(\"utf-8\")+b\"76f5305810d33d7e\").hexdigest() == \"c7d64b1aa29a9984c84c15c8e2451461c3cb0685\", \"values of flight_data.columns are not correct\"\n",
    "assert sha1(str(flight_data.columns).encode(\"utf-8\")+b\"76f5305810d33d7e\").hexdigest() == \"0a02fb258c8b1b252c682bd7eb5ccf07619384b9\", \"order of elements of flight_data.columns is not correct\"\n",
    "\n",
    "print('Success!')"
   ]
  },
  {
   "cell_type": "markdown",
   "metadata": {
    "deletable": false,
    "editable": false,
    "nbgrader": {
     "cell_type": "markdown",
     "checksum": "913a9da717e1c2a1c627f974c822feaa",
     "grade": false,
     "grade_id": "cell-a7bdf4efaa13a843",
     "locked": true,
     "schema_version": 3,
     "solution": false,
     "task": false
    }
   },
   "source": [
    "Now that we've connected to the database and created an pandas dataframe object, we'll take a look at the first few rows and columns of the flight on-time performance data. So let's try using the `head` function (which allows us to see the first few rows of a dataset) and see what happens:"
   ]
  },
  {
   "cell_type": "code",
   "execution_count": null,
   "metadata": {
    "deletable": false,
    "editable": false,
    "nbgrader": {
     "cell_type": "code",
     "checksum": "5357984a9b310d36ddf9872fa7914629",
     "grade": false,
     "grade_id": "cell-e6e5d21a17b9f654",
     "locked": true,
     "schema_version": 3,
     "solution": false,
     "task": false
    }
   },
   "outputs": [],
   "source": [
    "# Run this cell before continuing.\n",
    "flight_data.head()"
   ]
  },
  {
   "cell_type": "markdown",
   "metadata": {
    "deletable": false,
    "editable": false,
    "nbgrader": {
     "cell_type": "markdown",
     "checksum": "c79aa887b3a06f347f69e2722c19fa0d",
     "grade": false,
     "grade_id": "cell-d7cc224da62342f1",
     "locked": true,
     "schema_version": 3,
     "solution": false,
     "task": false
    }
   },
   "source": [
    "Although it looks like we might have obtained the whole data frame from the database, we didn't!\n",
    "It's a *reference*; the data is still stored only in the SQLite database. The `flight_data` object  \n",
    "is an `AlchemyTable` (`ibis` is using `sqlalchemy` under the hood!), which, when printed, tells\n",
    "you which columns are available in the table. \n",
    "\n",
    "When we\n",
    "write `flight_data.head().execute()` in Python, in the background, the `execute` function is\n",
    "translating the Python code into SQL, sending that SQL to the database, and then translating the\n",
    "response for us."
   ]
  },
  {
   "cell_type": "code",
   "execution_count": null,
   "metadata": {},
   "outputs": [],
   "source": [
    "# Run this cell before continuing.\n",
    "flight_data.head().execute()"
   ]
  },
  {
   "cell_type": "markdown",
   "metadata": {
    "deletable": false,
    "editable": false,
    "nbgrader": {
     "cell_type": "markdown",
     "checksum": "372dd501e50ab9955c345b56a3219180",
     "grade": false,
     "grade_id": "cell-356613f497cc07cb",
     "locked": true,
     "schema_version": 3,
     "solution": false,
     "task": false
    }
   },
   "source": [
    "It works! And---as luck would have it---it also works to use the `[]` and `loc[]` functions you've learned about previously. Just don't forget to add `execute`! "
   ]
  },
  {
   "cell_type": "markdown",
   "metadata": {
    "deletable": false,
    "editable": false,
    "nbgrader": {
     "cell_type": "markdown",
     "checksum": "431811c00f7e539117627db56dc67d09",
     "grade": false,
     "grade_id": "cell-6e081aa11d2799c3",
     "locked": true,
     "schema_version": 3,
     "solution": false,
     "task": false
    }
   },
   "source": [
    "**Question 4.4**\n",
    "<br> {points: 1}\n",
    "\n",
    "Use `[]` to extract the **arrival and departure delay** columns for rows where **the origin airport is BOS.** This is done in two steps, first we filter rows and second, select columns. \n",
    "\n",
    "*Store your answer in a variable called* `delay_data`."
   ]
  },
  {
   "cell_type": "code",
   "execution_count": null,
   "metadata": {
    "deletable": false,
    "nbgrader": {
     "cell_type": "code",
     "checksum": "b446c5c8742a033ba1b8c7cdb4828f4e",
     "grade": false,
     "grade_id": "cell-e9116224f425a610",
     "locked": false,
     "schema_version": 3,
     "solution": true,
     "task": false
    }
   },
   "outputs": [],
   "source": [
    "# fd_bos_origin = flight_data[___ == \"___\"].execute()\n",
    "# delay_data = fd_bos_origin[[___, ___]]\n",
    "\n",
    "# your code here\n",
    "raise NotImplementedError"
   ]
  },
  {
   "cell_type": "code",
   "execution_count": null,
   "metadata": {
    "deletable": false,
    "editable": false,
    "max_height": 100,
    "nbgrader": {
     "cell_type": "code",
     "checksum": "80fb32863115d8ac72a185d2df9ca5c0",
     "grade": true,
     "grade_id": "cell-5338b9a6748de0f7",
     "locked": true,
     "points": 1,
     "schema_version": 3,
     "solution": false,
     "task": false
    }
   },
   "outputs": [],
   "source": [
    "from hashlib import sha1\n",
    "assert sha1(str(type(delay_data.shape)).encode(\"utf-8\")+b\"746719d1077cbef8\").hexdigest() == \"3e8f72ea16f5e89f753ac1240fc5fc6960bfa099\", \"type of delay_data.shape is not tuple. delay_data.shape should be a tuple\"\n",
    "assert sha1(str(len(delay_data.shape)).encode(\"utf-8\")+b\"746719d1077cbef8\").hexdigest() == \"294fbf354faa927e2ba40c9fe09fbaf6cced9cde\", \"length of delay_data.shape is not correct\"\n",
    "assert sha1(str(sorted(map(str, delay_data.shape))).encode(\"utf-8\")+b\"746719d1077cbef8\").hexdigest() == \"8be7a794d210a39f5ac11998936954ab005cc5e4\", \"values of delay_data.shape are not correct\"\n",
    "assert sha1(str(delay_data.shape).encode(\"utf-8\")+b\"746719d1077cbef8\").hexdigest() == \"ad7fa70ac63d98f21fde356334f68f0c68e754c4\", \"order of elements of delay_data.shape is not correct\"\n",
    "\n",
    "assert sha1(str(type(delay_data.columns.values)).encode(\"utf-8\")+b\"2d66b0d4a9e7c6b2\").hexdigest() == \"c7c403993efd884d1f85287a2d2c8bb9696535f4\", \"type of delay_data.columns.values is not correct\"\n",
    "assert sha1(str(delay_data.columns.values).encode(\"utf-8\")+b\"2d66b0d4a9e7c6b2\").hexdigest() == \"f7ef0b2acb133445e43856cb92360fc0927f4791\", \"value of delay_data.columns.values is not correct\"\n",
    "\n",
    "print('Success!')"
   ]
  },
  {
   "cell_type": "code",
   "execution_count": null,
   "metadata": {
    "deletable": false,
    "editable": false,
    "nbgrader": {
     "cell_type": "code",
     "checksum": "2498ae03a9fec487826daf1cead798c3",
     "grade": false,
     "grade_id": "cell-84aab140cb516617",
     "locked": true,
     "schema_version": 3,
     "solution": false,
     "task": false
    }
   },
   "outputs": [],
   "source": [
    "# Take a look at `delay_data` to make sure it has the two columns we expect.\n",
    "# Run this cell before continuing.\n",
    "delay_data.head()"
   ]
  },
  {
   "cell_type": "markdown",
   "metadata": {
    "deletable": false,
    "editable": false,
    "nbgrader": {
     "cell_type": "markdown",
     "checksum": "9f8cb1366e8724a166bf5d16df17870a",
     "grade": false,
     "grade_id": "cell-303a41d2e27cbc4d",
     "locked": true,
     "schema_version": 3,
     "solution": false,
     "task": false
    }
   },
   "source": [
    "Our next task is to visualize our data to see whether there is a difference in delays for arrivals at and departures from `BOS`. But before we do that, let's figure out just how much data we're working with using the `len` function."
   ]
  },
  {
   "cell_type": "code",
   "execution_count": null,
   "metadata": {
    "deletable": false,
    "editable": false,
    "nbgrader": {
     "cell_type": "code",
     "checksum": "5ce39c41b44b02f9345f6d0b3bc5dbae",
     "grade": false,
     "grade_id": "cell-09bd61a2b25cb771",
     "locked": true,
     "schema_version": 3,
     "solution": false,
     "task": false
    }
   },
   "outputs": [],
   "source": [
    "# Run this cell before continuing.\n",
    "len(delay_data)"
   ]
  },
  {
   "cell_type": "markdown",
   "metadata": {
    "deletable": false,
    "editable": false,
    "nbgrader": {
     "cell_type": "markdown",
     "checksum": "91c04ac741cb10c4316d43d13964214e",
     "grade": false,
     "grade_id": "cell-4b975655f6f919ed",
     "locked": true,
     "schema_version": 3,
     "solution": false,
     "task": false
    }
   },
   "source": [
    "Yikes---that's a lot of data! If we tried to do a scatter plot of these, we probably wouldn't be able to see anything useful; all the points would be mushed together. Let's try using a *histogram* instead. A histogram helps us visualize how a particular variable is distributed in a dataset. It does this by separating the data into *bins*, and then plotting vertical bars showing how many data points fell in each bin.\n",
    "\n",
    "For example, we could use a histogram to visualize the distribution of IMDB ratings of different movies with the `mark_bar`. The `maxbins` argument specifies the number of bins to use in the histogram."
   ]
  },
  {
   "cell_type": "code",
   "execution_count": null,
   "metadata": {
    "deletable": false,
    "editable": false,
    "nbgrader": {
     "cell_type": "code",
     "checksum": "e12f7169acb677477559b3e1184e4e0e",
     "grade": false,
     "grade_id": "cell-9c2880fd80fb47e8",
     "locked": true,
     "schema_version": 3,
     "solution": false,
     "task": false
    }
   },
   "outputs": [],
   "source": [
    "happiness_data = pd.read_csv(\n",
    "    \"data/happiness_report_metadata.csv\", skiprows=2\n",
    ")\n",
    "\n",
    "alt.Chart(happiness_data).mark_bar().encode(\n",
    "    alt.X(\"happiness_score\", bin=alt.Bin(maxbins=20)),\n",
    "    y=\"count()\",\n",
    ")"
   ]
  },
  {
   "cell_type": "markdown",
   "metadata": {
    "deletable": false,
    "editable": false,
    "nbgrader": {
     "cell_type": "markdown",
     "checksum": "4d706cca4095a79a316b8159bc684323",
     "grade": false,
     "grade_id": "cell-b55f33f294252032",
     "locked": true,
     "schema_version": 3,
     "solution": false,
     "task": false
    }
   },
   "source": [
    "We'll use histograms to visualize the departure delay times and arrival delay times separately."
   ]
  },
  {
   "cell_type": "markdown",
   "metadata": {
    "deletable": false,
    "editable": false,
    "nbgrader": {
     "cell_type": "markdown",
     "checksum": "756c0210fe2f3b086f73d320b3e41303",
     "grade": false,
     "grade_id": "cell-d8475f9acda08a6f",
     "locked": true,
     "schema_version": 3,
     "solution": false,
     "task": false
    }
   },
   "source": [
    "**Question 4.5**\n",
    "<br> {points: 1}\n",
    "\n",
    "Plot the **arrival** delay time data as a histogram. You will plot the delay (in hours) separated into 15-minute-wide bins on the x axis. The y axis will show the percentage of flights departing BOS that had that amount of delay during 2015.\n",
    "\n",
    "The plotting code is provided below, however, you would need to finish the data wrangling part for the plot by filling `___` with the correct code. Please note that we would want the delay in hours on X axis but the delay data in the dataset is in minutes. To create this new column, we use the `assign` function in Pandas. This is discussed more in [chapter 3 on wrangling](https://ubc-dsci.github.io/introduction-to-datascience-python/wrangling.html#using-assign-to-modify-or-add-columns)\n",
    "\n",
    "*Assign the output of altair plot to an object called* `arrival_delay_plot`."
   ]
  },
  {
   "cell_type": "code",
   "execution_count": null,
   "metadata": {
    "deletable": false,
    "nbgrader": {
     "cell_type": "code",
     "checksum": "ef6073a3cd363449b8af1e4e5c1352e2",
     "grade": false,
     "grade_id": "cell-cb0371528dff7979",
     "locked": false,
     "schema_version": 3,
     "solution": true,
     "task": false
    }
   },
   "outputs": [],
   "source": [
    "# Replace each ___ with the correct item in the list above.\n",
    "\n",
    "# delay_data = delay_data.assign(\n",
    "#     ARRIVAL_DELAY_hr=delay_data[\"ARRIVAL_DELAY\"] / 60\n",
    "# )\n",
    "# ___ = alt.Chart(delay_data).transform_joinaggregate(\n",
    "#     total=\"count(ARRIVAL_DELAY_hr)\"\n",
    "# ).transform_calculate(pct=\"1 / datum.total\").mark_bar().encode(\n",
    "#     alt.X(\n",
    "#         \"ARRIVAL_DELAY_hr:Q\",\n",
    "#         bin=alt.Bin(step=0.25),\n",
    "#         scale=alt.Scale(domain=[-2, 5]),\n",
    "#         title=\"Delay (hours)\",\n",
    "#     ),\n",
    "#     alt.Y(\"sum(pct):Q\", axis=alt.Axis(format=\"%\"), title=\"% of Flights\"),\n",
    "# ).configure_axis(\n",
    "#     labelFontSize=16, titleFontSize=16\n",
    "# )\n",
    "\n",
    "\n",
    "# your code here\n",
    "raise NotImplementedError\n",
    "arrival_delay_plot"
   ]
  },
  {
   "cell_type": "code",
   "execution_count": null,
   "metadata": {
    "deletable": false,
    "editable": false,
    "max_height": 100,
    "nbgrader": {
     "cell_type": "code",
     "checksum": "c000158526c0c5c303888c7375744443",
     "grade": true,
     "grade_id": "cell-c7ffba55e40ac67a",
     "locked": true,
     "points": 1,
     "schema_version": 3,
     "solution": false,
     "task": false
    }
   },
   "outputs": [],
   "source": [
    "from hashlib import sha1\n",
    "assert sha1(str(type(arrival_delay_plot.mark)).encode(\"utf-8\")+b\"026b3f97508da544\").hexdigest() == \"fa5a690c6575b27b9f44a36319bb61728a34ad86\", \"type of arrival_delay_plot.mark is not str. arrival_delay_plot.mark should be an str\"\n",
    "assert sha1(str(len(arrival_delay_plot.mark)).encode(\"utf-8\")+b\"026b3f97508da544\").hexdigest() == \"de2cb3e8fe6195c31f6116debc44d9aa56ed8a49\", \"length of arrival_delay_plot.mark is not correct\"\n",
    "assert sha1(str(arrival_delay_plot.mark.lower()).encode(\"utf-8\")+b\"026b3f97508da544\").hexdigest() == \"eb1dace01eb7f87f240d0c07f94efcf1a0e20952\", \"value of arrival_delay_plot.mark is not correct\"\n",
    "assert sha1(str(arrival_delay_plot.mark).encode(\"utf-8\")+b\"026b3f97508da544\").hexdigest() == \"eb1dace01eb7f87f240d0c07f94efcf1a0e20952\", \"correct string value of arrival_delay_plot.mark but incorrect case of letters\"\n",
    "\n",
    "assert sha1(str(type(arrival_delay_plot.encoding.x.title)).encode(\"utf-8\")+b\"3ea3c9ca552f44f8\").hexdigest() == \"c32cdc1bb6cc1e6910bba8d4de5070350f47764e\", \"type of arrival_delay_plot.encoding.x.title is not str. arrival_delay_plot.encoding.x.title should be an str\"\n",
    "assert sha1(str(len(arrival_delay_plot.encoding.x.title)).encode(\"utf-8\")+b\"3ea3c9ca552f44f8\").hexdigest() == \"f597c684d352425217898c0b9eb1e0d8b86bdf04\", \"length of arrival_delay_plot.encoding.x.title is not correct\"\n",
    "assert sha1(str(arrival_delay_plot.encoding.x.title.lower()).encode(\"utf-8\")+b\"3ea3c9ca552f44f8\").hexdigest() == \"927e016e30649768e28eb19750e7a996ec0c04da\", \"value of arrival_delay_plot.encoding.x.title is not correct\"\n",
    "assert sha1(str(arrival_delay_plot.encoding.x.title).encode(\"utf-8\")+b\"3ea3c9ca552f44f8\").hexdigest() == \"df29bb5331c8ff5b1b3331b4faaae89148c8bc7a\", \"correct string value of arrival_delay_plot.encoding.x.title but incorrect case of letters\"\n",
    "\n",
    "assert sha1(str(type(arrival_delay_plot.encoding.y.title)).encode(\"utf-8\")+b\"ef5c239c09a191b1\").hexdigest() == \"36079649dd4017c938efc3b6722db09b5e9ef426\", \"type of arrival_delay_plot.encoding.y.title is not str. arrival_delay_plot.encoding.y.title should be an str\"\n",
    "assert sha1(str(len(arrival_delay_plot.encoding.y.title)).encode(\"utf-8\")+b\"ef5c239c09a191b1\").hexdigest() == \"b6d66c6d1dd56c3edcc43c268ea0a9ae622bf946\", \"length of arrival_delay_plot.encoding.y.title is not correct\"\n",
    "assert sha1(str(arrival_delay_plot.encoding.y.title.lower()).encode(\"utf-8\")+b\"ef5c239c09a191b1\").hexdigest() == \"d9f6cd00e9f2343946dab58434904743aec6f034\", \"value of arrival_delay_plot.encoding.y.title is not correct\"\n",
    "assert sha1(str(arrival_delay_plot.encoding.y.title).encode(\"utf-8\")+b\"ef5c239c09a191b1\").hexdigest() == \"be5cc5228a476f6a3c292aad44599c97637b5384\", \"correct string value of arrival_delay_plot.encoding.y.title but incorrect case of letters\"\n",
    "\n",
    "assert sha1(str(type(arrival_delay_plot.encoding.x.field)).encode(\"utf-8\")+b\"62549d006ef21fc0\").hexdigest() == \"2bab82fd61044be758587e137ec051e35b4663e5\", \"type of arrival_delay_plot.encoding.x.field is not str. arrival_delay_plot.encoding.x.field should be an str\"\n",
    "assert sha1(str(len(arrival_delay_plot.encoding.x.field)).encode(\"utf-8\")+b\"62549d006ef21fc0\").hexdigest() == \"6fc59d158bfc92442f850910a65f9253db59da36\", \"length of arrival_delay_plot.encoding.x.field is not correct\"\n",
    "assert sha1(str(arrival_delay_plot.encoding.x.field.lower()).encode(\"utf-8\")+b\"62549d006ef21fc0\").hexdigest() == \"8ed1a3d75e7d7b9089c4bf4e3d21cd05448bb31e\", \"value of arrival_delay_plot.encoding.x.field is not correct\"\n",
    "assert sha1(str(arrival_delay_plot.encoding.x.field).encode(\"utf-8\")+b\"62549d006ef21fc0\").hexdigest() == \"8a42fbfc201e5836cc57fdfcd3c6a6bef86ff1f1\", \"correct string value of arrival_delay_plot.encoding.x.field but incorrect case of letters\"\n",
    "\n",
    "assert sha1(str(type(arrival_delay_plot.encoding.y.field)).encode(\"utf-8\")+b\"fc964a37c364f3cd\").hexdigest() == \"bc43de120c5576a0fcaf297ec746375cce016073\", \"type of arrival_delay_plot.encoding.y.field is not str. arrival_delay_plot.encoding.y.field should be an str\"\n",
    "assert sha1(str(len(arrival_delay_plot.encoding.y.field)).encode(\"utf-8\")+b\"fc964a37c364f3cd\").hexdigest() == \"6a33943624b25c985cb9654da4497178011a7bb8\", \"length of arrival_delay_plot.encoding.y.field is not correct\"\n",
    "assert sha1(str(arrival_delay_plot.encoding.y.field.lower()).encode(\"utf-8\")+b\"fc964a37c364f3cd\").hexdigest() == \"1c6f6d66e9e23df9d14f67d17101587dc5dbc8c9\", \"value of arrival_delay_plot.encoding.y.field is not correct\"\n",
    "assert sha1(str(arrival_delay_plot.encoding.y.field).encode(\"utf-8\")+b\"fc964a37c364f3cd\").hexdigest() == \"1c6f6d66e9e23df9d14f67d17101587dc5dbc8c9\", \"correct string value of arrival_delay_plot.encoding.y.field but incorrect case of letters\"\n",
    "\n",
    "assert sha1(str(type(arrival_delay_plot.encoding.x.title != 'ARRIVAL_DELAY_hr')).encode(\"utf-8\")+b\"74e6bb21c16b5735\").hexdigest() == \"e6182a5af4ede0f8020d3ab76d53ce09b89d9134\", \"type of arrival_delay_plot.encoding.x.title != 'ARRIVAL_DELAY_hr' is not bool. arrival_delay_plot.encoding.x.title != 'ARRIVAL_DELAY_hr' should be a bool\"\n",
    "assert sha1(str(arrival_delay_plot.encoding.x.title != 'ARRIVAL_DELAY_hr').encode(\"utf-8\")+b\"74e6bb21c16b5735\").hexdigest() == \"c2ceb15f28c6aeb5616ebbe38d4e79f72a067033\", \"boolean value of arrival_delay_plot.encoding.x.title != 'ARRIVAL_DELAY_hr' is not correct\"\n",
    "\n",
    "assert sha1(str(type(arrival_delay_plot.encoding.y.title != 'Sum of pct')).encode(\"utf-8\")+b\"1b0727f8182a28b5\").hexdigest() == \"4f32786fcc5e95a45b27de7d407b1ced699e8ed7\", \"type of arrival_delay_plot.encoding.y.title != 'Sum of pct' is not bool. arrival_delay_plot.encoding.y.title != 'Sum of pct' should be a bool\"\n",
    "assert sha1(str(arrival_delay_plot.encoding.y.title != 'Sum of pct').encode(\"utf-8\")+b\"1b0727f8182a28b5\").hexdigest() == \"37327cd28e1e87ba546292ec833cce8e1e8cb471\", \"boolean value of arrival_delay_plot.encoding.y.title != 'Sum of pct' is not correct\"\n",
    "\n",
    "print('Success!')"
   ]
  },
  {
   "cell_type": "markdown",
   "metadata": {
    "deletable": false,
    "editable": false,
    "nbgrader": {
     "cell_type": "markdown",
     "checksum": "cb3145e18d9024bcda96909fc6e92e01",
     "grade": false,
     "grade_id": "cell-86568c7e0a844a14",
     "locked": true,
     "schema_version": 3,
     "solution": false,
     "task": false
    }
   },
   "source": [
    "**Question 4.6**\n",
    "<br> {points: 1}\n",
    "\n",
    "Plot the **departure** delay time data as a histogram with the same format as the previous plot. **Hint:** copy and paste your code from the previous block! The only thing that will change is column from `delay_data` that you use for the x-axis.\n",
    "\n",
    "*Assign the output of altair plot to an object called* `departure_delay_plot`."
   ]
  },
  {
   "cell_type": "code",
   "execution_count": null,
   "metadata": {
    "deletable": false,
    "nbgrader": {
     "cell_type": "code",
     "checksum": "4a0396a260a551bcfc3f4afc99c31174",
     "grade": false,
     "grade_id": "cell-806e4299bc42a0fd",
     "locked": false,
     "schema_version": 3,
     "solution": true,
     "task": false
    }
   },
   "outputs": [],
   "source": [
    "# delay_data = delay_data.assign(\n",
    "#     DEPARTURE_DELAY_hr = ___\n",
    "# )\n",
    "# departure_delay_plot = ___ \n",
    "\n",
    "# your code here\n",
    "raise NotImplementedError\n",
    "departure_delay_plot"
   ]
  },
  {
   "cell_type": "code",
   "execution_count": null,
   "metadata": {
    "deletable": false,
    "editable": false,
    "max_height": 100,
    "nbgrader": {
     "cell_type": "code",
     "checksum": "b48650061f80d54176121be09f9a6014",
     "grade": true,
     "grade_id": "cell-1389a9deb7b3bcce",
     "locked": true,
     "points": 1,
     "schema_version": 3,
     "solution": false,
     "task": false
    }
   },
   "outputs": [],
   "source": [
    "from hashlib import sha1\n",
    "assert sha1(str(type(departure_delay_plot.mark)).encode(\"utf-8\")+b\"2e5b644c772214d3\").hexdigest() == \"cb037fe817b8c5e6a8400ebd6d18d7016609c2e1\", \"type of departure_delay_plot.mark is not str. departure_delay_plot.mark should be an str\"\n",
    "assert sha1(str(len(departure_delay_plot.mark)).encode(\"utf-8\")+b\"2e5b644c772214d3\").hexdigest() == \"42cdbedaaad604e963ff883ca6a570382f57ab63\", \"length of departure_delay_plot.mark is not correct\"\n",
    "assert sha1(str(departure_delay_plot.mark.lower()).encode(\"utf-8\")+b\"2e5b644c772214d3\").hexdigest() == \"c32fb9dd8def6c88aa8c5fc9ba12ac56962e4fff\", \"value of departure_delay_plot.mark is not correct\"\n",
    "assert sha1(str(departure_delay_plot.mark).encode(\"utf-8\")+b\"2e5b644c772214d3\").hexdigest() == \"c32fb9dd8def6c88aa8c5fc9ba12ac56962e4fff\", \"correct string value of departure_delay_plot.mark but incorrect case of letters\"\n",
    "\n",
    "assert sha1(str(type(departure_delay_plot.encoding.x.title)).encode(\"utf-8\")+b\"c094b20e0aedf8a1\").hexdigest() == \"0c33d9f1b743138790608473b24e966ba987b3d4\", \"type of departure_delay_plot.encoding.x.title is not str. departure_delay_plot.encoding.x.title should be an str\"\n",
    "assert sha1(str(len(departure_delay_plot.encoding.x.title)).encode(\"utf-8\")+b\"c094b20e0aedf8a1\").hexdigest() == \"1801fcfd6129f37eec1d62af5a6c6d1f5cf3054d\", \"length of departure_delay_plot.encoding.x.title is not correct\"\n",
    "assert sha1(str(departure_delay_plot.encoding.x.title.lower()).encode(\"utf-8\")+b\"c094b20e0aedf8a1\").hexdigest() == \"d12b996735cc9295c61ffb1952946d5e8a9a22ac\", \"value of departure_delay_plot.encoding.x.title is not correct\"\n",
    "assert sha1(str(departure_delay_plot.encoding.x.title).encode(\"utf-8\")+b\"c094b20e0aedf8a1\").hexdigest() == \"6077c825ca9d820b642519ae4fd901c4eb9fda2c\", \"correct string value of departure_delay_plot.encoding.x.title but incorrect case of letters\"\n",
    "\n",
    "assert sha1(str(type(departure_delay_plot.encoding.y.title)).encode(\"utf-8\")+b\"6ebed31356101c8a\").hexdigest() == \"de82a860d33395e194df97a53405e381862c8449\", \"type of departure_delay_plot.encoding.y.title is not str. departure_delay_plot.encoding.y.title should be an str\"\n",
    "assert sha1(str(len(departure_delay_plot.encoding.y.title)).encode(\"utf-8\")+b\"6ebed31356101c8a\").hexdigest() == \"88c482061076a09fc0dac886e1879192de228daf\", \"length of departure_delay_plot.encoding.y.title is not correct\"\n",
    "assert sha1(str(departure_delay_plot.encoding.y.title.lower()).encode(\"utf-8\")+b\"6ebed31356101c8a\").hexdigest() == \"873ef73ff2a1fddd60cc5c79502fd9afa178bf4c\", \"value of departure_delay_plot.encoding.y.title is not correct\"\n",
    "assert sha1(str(departure_delay_plot.encoding.y.title).encode(\"utf-8\")+b\"6ebed31356101c8a\").hexdigest() == \"1f2643672ab5517cd849e3bcb122bcee1062403c\", \"correct string value of departure_delay_plot.encoding.y.title but incorrect case of letters\"\n",
    "\n",
    "assert sha1(str(type(departure_delay_plot.encoding.x.field)).encode(\"utf-8\")+b\"719c1160c5931896\").hexdigest() == \"8e55d2463f07fec092e47f25a8314008c39c49d9\", \"type of departure_delay_plot.encoding.x.field is not str. departure_delay_plot.encoding.x.field should be an str\"\n",
    "assert sha1(str(len(departure_delay_plot.encoding.x.field)).encode(\"utf-8\")+b\"719c1160c5931896\").hexdigest() == \"09834588e63b12bb11b241ec9b7f32b2f216a111\", \"length of departure_delay_plot.encoding.x.field is not correct\"\n",
    "assert sha1(str(departure_delay_plot.encoding.x.field.lower()).encode(\"utf-8\")+b\"719c1160c5931896\").hexdigest() == \"9fe8c59402738518e5a93434c2c26e6126ef2188\", \"value of departure_delay_plot.encoding.x.field is not correct\"\n",
    "assert sha1(str(departure_delay_plot.encoding.x.field).encode(\"utf-8\")+b\"719c1160c5931896\").hexdigest() == \"1f94f08166c4bd45d733c5518485c43ae1056739\", \"correct string value of departure_delay_plot.encoding.x.field but incorrect case of letters\"\n",
    "\n",
    "assert sha1(str(type(departure_delay_plot.encoding.y.field)).encode(\"utf-8\")+b\"e0ac7e8ec466f8b0\").hexdigest() == \"2f24da00d74cff1a8e14a17875c00735bd99c42a\", \"type of departure_delay_plot.encoding.y.field is not str. departure_delay_plot.encoding.y.field should be an str\"\n",
    "assert sha1(str(len(departure_delay_plot.encoding.y.field)).encode(\"utf-8\")+b\"e0ac7e8ec466f8b0\").hexdigest() == \"0efd722710a19ea5ab804e9eff9a9b2b4e347032\", \"length of departure_delay_plot.encoding.y.field is not correct\"\n",
    "assert sha1(str(departure_delay_plot.encoding.y.field.lower()).encode(\"utf-8\")+b\"e0ac7e8ec466f8b0\").hexdigest() == \"6cc8c7d04e4701f0c58df1425dc3971cee1183a2\", \"value of departure_delay_plot.encoding.y.field is not correct\"\n",
    "assert sha1(str(departure_delay_plot.encoding.y.field).encode(\"utf-8\")+b\"e0ac7e8ec466f8b0\").hexdigest() == \"6cc8c7d04e4701f0c58df1425dc3971cee1183a2\", \"correct string value of departure_delay_plot.encoding.y.field but incorrect case of letters\"\n",
    "\n",
    "print('Success!')"
   ]
  },
  {
   "cell_type": "markdown",
   "metadata": {
    "deletable": false,
    "editable": false,
    "nbgrader": {
     "cell_type": "markdown",
     "checksum": "cea57989cf44a41394ab666af526513b",
     "grade": false,
     "grade_id": "cell-6657febeb798f228",
     "locked": true,
     "schema_version": 3,
     "solution": false,
     "task": false
    }
   },
   "source": [
    "**Question 4.7**\n",
    "<br> {points: 1}\n",
    "\n",
    "Look at the two plots you generated. Are departures from or arrivals to `BOS` more likely to be on time (at most 15 minutes ahead/behind schedule)?\n",
    "\n",
    "_Assign your answer (either `\"departures\"` or `\"arrivals\"`) to an object called `answer4_7`._"
   ]
  },
  {
   "cell_type": "code",
   "execution_count": null,
   "metadata": {
    "deletable": false,
    "nbgrader": {
     "cell_type": "code",
     "checksum": "7348f9f672762e039ba7015bd9e220c1",
     "grade": false,
     "grade_id": "cell-2abe63d9b3bb7dd0",
     "locked": false,
     "schema_version": 3,
     "solution": true,
     "task": false
    }
   },
   "outputs": [],
   "source": [
    "# your code here\n",
    "raise NotImplementedError"
   ]
  },
  {
   "cell_type": "code",
   "execution_count": null,
   "metadata": {
    "deletable": false,
    "editable": false,
    "max_height": 100,
    "nbgrader": {
     "cell_type": "code",
     "checksum": "41359c7237ba45960a0ea05aa2952032",
     "grade": true,
     "grade_id": "cell-5e0e102e3ce475fd",
     "locked": true,
     "points": 1,
     "schema_version": 3,
     "solution": false,
     "task": false
    }
   },
   "outputs": [],
   "source": [
    "from hashlib import sha1\n",
    "assert sha1(str(type(answer4_7)).encode(\"utf-8\")+b\"c3b609ce345d7e24\").hexdigest() == \"ffaf13a81ed824922a79e35c98d70c591074569b\", \"type of answer4_7 is not str. answer4_7 should be an str\"\n",
    "assert sha1(str(len(answer4_7)).encode(\"utf-8\")+b\"c3b609ce345d7e24\").hexdigest() == \"b033caf4bb945bf02704939f0adee9ba8fcb1514\", \"length of answer4_7 is not correct\"\n",
    "assert sha1(str(answer4_7.lower()).encode(\"utf-8\")+b\"c3b609ce345d7e24\").hexdigest() == \"5534dc618219dc30eae0cf0fbccfd4cdea66c270\", \"value of answer4_7 is not correct\"\n",
    "assert sha1(str(answer4_7).encode(\"utf-8\")+b\"c3b609ce345d7e24\").hexdigest() == \"5534dc618219dc30eae0cf0fbccfd4cdea66c270\", \"correct string value of answer4_7 but incorrect case of letters\"\n",
    "\n",
    "print('Success!')"
   ]
  },
  {
   "cell_type": "markdown",
   "metadata": {
    "deletable": false,
    "editable": false,
    "nbgrader": {
     "cell_type": "markdown",
     "checksum": "9305c6433a17feef11758143f960bd02",
     "grade": false,
     "grade_id": "cell-c35956f1f27af2ea",
     "locked": true,
     "schema_version": 3,
     "solution": false,
     "task": false
    }
   },
   "source": [
    "**Question 4.8**\n",
    "<br>{points: 1}\n",
    "\n",
    "Use the `pd.DataFrame.to_csv` function to write the dataframe to a file called `delay_data.csv`. Save the file in the `data/` folder.\n",
    "\n",
    "*Note: there are many possible ways to use `pd.DataFrame.to_csv` to customize the output. Just use the defaults here!*"
   ]
  },
  {
   "cell_type": "code",
   "execution_count": null,
   "metadata": {
    "lines_to_next_cell": 2
   },
   "outputs": [],
   "source": [
    "# If you don't know how to call collect or write_csv, use this cell to\n",
    "# check the documentation by calling ?pd.DataFrame.to_csv"
   ]
  },
  {
   "cell_type": "code",
   "execution_count": null,
   "metadata": {
    "deletable": false,
    "nbgrader": {
     "cell_type": "code",
     "checksum": "9df8c65029a49ff7f5af6b3b6b25d2ee",
     "grade": false,
     "grade_id": "cell-317f2b694425e7ad",
     "locked": false,
     "schema_version": 3,
     "solution": true,
     "task": false
    }
   },
   "outputs": [],
   "source": [
    "# pd.DataFrame.to_csv(___, ___)\n",
    "\n",
    "# your code here\n",
    "raise NotImplementedError"
   ]
  },
  {
   "cell_type": "code",
   "execution_count": null,
   "metadata": {
    "deletable": false,
    "editable": false,
    "max_height": 100,
    "nbgrader": {
     "cell_type": "code",
     "checksum": "38f57d5833dd218ccdad992faf361a72",
     "grade": true,
     "grade_id": "cell-ba229a7094676d0f",
     "locked": true,
     "points": 1,
     "schema_version": 3,
     "solution": false,
     "task": false
    }
   },
   "outputs": [],
   "source": [
    "from hashlib import sha1\n",
    "assert sha1(str(type(os.path.exists('data/delay_data.csv'))).encode(\"utf-8\")+b\"8d566da0ac8a84a3\").hexdigest() == \"a1d5c31f418bfee15f9e41a61adc613c299c163d\", \"type of os.path.exists('data/delay_data.csv') is not bool. os.path.exists('data/delay_data.csv') should be a bool\"\n",
    "assert sha1(str(os.path.exists('data/delay_data.csv')).encode(\"utf-8\")+b\"8d566da0ac8a84a3\").hexdigest() == \"490199efcc6b5f780746b58ffbd4da6f834ccedc\", \"boolean value of os.path.exists('data/delay_data.csv') is not correct\"\n",
    "\n",
    "assert sha1(str(type(pd.read_csv('data/delay_data.csv').sum())).encode(\"utf-8\")+b\"32fc2e80287b979a\").hexdigest() == \"e744a42ba28c6213703f5c333c25912d0774b000\", \"type of pd.read_csv('data/delay_data.csv').sum() is not correct\"\n",
    "assert sha1(str(pd.read_csv('data/delay_data.csv').sum()).encode(\"utf-8\")+b\"32fc2e80287b979a\").hexdigest() == \"4461b4b8592421cfcf1b1b501c1901d27e1ebad3\", \"value of pd.read_csv('data/delay_data.csv').sum() is not correct\"\n",
    "\n",
    "print('Success!')"
   ]
  },
  {
   "cell_type": "code",
   "execution_count": null,
   "metadata": {
    "deletable": false,
    "editable": false,
    "nbgrader": {
     "cell_type": "code",
     "checksum": "4d626e753b69e3979d687c8886190667",
     "grade": false,
     "grade_id": "cell-deef0dceb7f4c945",
     "locked": true,
     "schema_version": 3,
     "solution": false,
     "task": false
    }
   },
   "outputs": [],
   "source": [
    "try:\n",
    "    os.remove(\"data/delay_data.csv\")\n",
    "except:\n",
    "    None"
   ]
  },
  {
   "cell_type": "markdown",
   "metadata": {
    "deletable": false,
    "editable": false,
    "nbgrader": {
     "cell_type": "markdown",
     "checksum": "059b3c88eb9be3ddc6a5cef0d125b3e5",
     "grade": false,
     "grade_id": "cell-f038e8a1f963597e",
     "locked": true,
     "schema_version": 3,
     "solution": false,
     "task": false
    }
   },
   "source": [
    "## 5 (Optional). Reading Data from the Internet\n",
    "\n",
    "### How has the World Gross Domestic product changed throughout history?\n",
    "\n",
    "\n",
    "As defined on Wikipedia, the \"Gross world product (GWP) is the combined gross national product of all the countries in the world.\" Living in our modern age with our roaring (sometimes up and sometimes down) economies, one might wonder how the world economy has changed over history. To answer this question we will scrape data from the [Wikipedia Gross world product page](https://en.wikipedia.org/wiki/Gross_world_product).\n",
    "\n",
    "Your data set will include the following columns: \n",
    "* `year`\n",
    "* `gwp_value`\n",
    "\n",
    "Specifically we will scrape the 2 columns named \"Year\" and \"Real GWP\" in the table under the header \"Historical and prehistorical estimates\". **The end goal of this exercise is to create a line plot with year on the x-axis and GWP value on the y-axis.**"
   ]
  },
  {
   "cell_type": "markdown",
   "metadata": {
    "deletable": false,
    "editable": false,
    "nbgrader": {
     "cell_type": "markdown",
     "checksum": "43ec8d7f2f6c7630560993a2c8dfc60c",
     "grade": false,
     "grade_id": "cell-f2713fa0d78ca175",
     "locked": true,
     "schema_version": 3,
     "solution": false,
     "task": false
    }
   },
   "source": [
    "**Question 5.1.0** Multiple Choice: \n",
    "<br> {points: 0}\n",
    "\n",
    "Under which of the following headers in the table will we scrape from on the [Wikipedia Gross world product page](https://en.wikipedia.org/wiki/Gross_world_product)?\n",
    "\n",
    "A. Gross world product\n",
    "\n",
    "B. Recent growth\n",
    "\n",
    "C. Historical and prehistorical estimates\n",
    "\n",
    "D. See also\n",
    "\n",
    "*Assign your answer to an object called `answer5_1_0`. Make sure your answer is an uppercase letter and is surrounded by quotation marks (e.g. `\"F\"`).* "
   ]
  },
  {
   "cell_type": "code",
   "execution_count": null,
   "metadata": {
    "deletable": false,
    "nbgrader": {
     "cell_type": "code",
     "checksum": "4c1f9b352553e4037c03f15b8c58eb98",
     "grade": false,
     "grade_id": "cell-9014b8f73a269598",
     "locked": false,
     "schema_version": 3,
     "solution": true,
     "task": false
    }
   },
   "outputs": [],
   "source": [
    "# your code here\n",
    "raise NotImplementedError"
   ]
  },
  {
   "cell_type": "code",
   "execution_count": null,
   "metadata": {
    "deletable": false,
    "editable": false,
    "max_height": 100,
    "nbgrader": {
     "cell_type": "code",
     "checksum": "8e87bac1496db3bced2f1f9c58061d62",
     "grade": true,
     "grade_id": "cell-23f53baed109b8c8",
     "locked": true,
     "points": 3,
     "schema_version": 3,
     "solution": false,
     "task": false
    }
   },
   "outputs": [],
   "source": [
    "from hashlib import sha1\n",
    "assert sha1(str(type(answer5_1_0)).encode(\"utf-8\")+b\"6e7571a1b49962e7\").hexdigest() == \"ef3a3a3daeb162e4f347a228a134e29a26638132\", \"type of answer5_1_0 is not str. answer5_1_0 should be an str\"\n",
    "assert sha1(str(len(answer5_1_0)).encode(\"utf-8\")+b\"6e7571a1b49962e7\").hexdigest() == \"f0da005d5785cf70d5cdabf36104ba559fb11fc8\", \"length of answer5_1_0 is not correct\"\n",
    "assert sha1(str(answer5_1_0.lower()).encode(\"utf-8\")+b\"6e7571a1b49962e7\").hexdigest() == \"94fd9669f31e8e39bae4d9c9710bd5b1ab1cdb03\", \"value of answer5_1_0 is not correct\"\n",
    "assert sha1(str(answer5_1_0).encode(\"utf-8\")+b\"6e7571a1b49962e7\").hexdigest() == \"885dc252101d8f97c2d7988d21912697346a2e7e\", \"correct string value of answer5_1_0 but incorrect case of letters\"\n",
    "\n",
    "print('Success!')"
   ]
  },
  {
   "cell_type": "markdown",
   "metadata": {
    "deletable": false,
    "editable": false,
    "nbgrader": {
     "cell_type": "markdown",
     "checksum": "c2b639e8e104edcaa04474a14d98a4a3",
     "grade": false,
     "grade_id": "cell-f920cb84f6e8944d",
     "locked": true,
     "schema_version": 3,
     "solution": false,
     "task": false
    }
   },
   "source": [
    "**Question 5.1.1** Multiple Choice: \n",
    "<br> {points: 0}\n",
    "\n",
    "What is going to be the x-axis of the scatter plot we create?\n",
    "\n",
    "A. compound annual growth rate\n",
    "\n",
    "B. the value of the gross world product\n",
    "\n",
    "C. year\n",
    "\n",
    "*Assign your answer to an object called `answer5_1_1`. Make sure your answer is an uppercase letter and is surrounded by quotation marks (e.g. `\"F\"`).* "
   ]
  },
  {
   "cell_type": "code",
   "execution_count": null,
   "metadata": {
    "deletable": false,
    "nbgrader": {
     "cell_type": "code",
     "checksum": "b1fe5be98b34ca81ddfde3d48a63a99a",
     "grade": false,
     "grade_id": "cell-09fc2b26ac527015",
     "locked": false,
     "schema_version": 3,
     "solution": true,
     "task": false
    }
   },
   "outputs": [],
   "source": [
    "# your code here\n",
    "raise NotImplementedError"
   ]
  },
  {
   "cell_type": "code",
   "execution_count": null,
   "metadata": {
    "deletable": false,
    "editable": false,
    "max_height": 100,
    "nbgrader": {
     "cell_type": "code",
     "checksum": "47bf6bbdc86621d2f83e40d6eaab0295",
     "grade": true,
     "grade_id": "cell-3e8412c02d763ddf",
     "locked": true,
     "points": 3,
     "schema_version": 3,
     "solution": false,
     "task": false
    }
   },
   "outputs": [],
   "source": [
    "from hashlib import sha1\n",
    "assert sha1(str(type(answer5_1_1)).encode(\"utf-8\")+b\"95a8e0ef509b582b\").hexdigest() == \"5852e5a98573cec6249a42a1931c4e79bbce0cc4\", \"type of answer5_1_1 is not str. answer5_1_1 should be an str\"\n",
    "assert sha1(str(len(answer5_1_1)).encode(\"utf-8\")+b\"95a8e0ef509b582b\").hexdigest() == \"aa347c0b9efafcae7b4d5680eb05dac8587346fb\", \"length of answer5_1_1 is not correct\"\n",
    "assert sha1(str(answer5_1_1.lower()).encode(\"utf-8\")+b\"95a8e0ef509b582b\").hexdigest() == \"c57f680e2a51558ad3f91b81ecb3bb512098c676\", \"value of answer5_1_1 is not correct\"\n",
    "assert sha1(str(answer5_1_1).encode(\"utf-8\")+b\"95a8e0ef509b582b\").hexdigest() == \"7b0ea3d6a137eee5e47e03a581e4b0cf89afc849\", \"correct string value of answer5_1_1 but incorrect case of letters\"\n",
    "\n",
    "print('Success!')"
   ]
  },
  {
   "cell_type": "markdown",
   "metadata": {
    "deletable": false,
    "editable": false,
    "nbgrader": {
     "cell_type": "markdown",
     "checksum": "371079d4c01b24ed14ca1265959ff8b5",
     "grade": false,
     "grade_id": "cell-98dab9f796764883",
     "locked": true,
     "schema_version": 3,
     "solution": false,
     "task": false
    }
   },
   "source": [
    "We need to now load the `BeautifulSoup` and `requests` package to begin our web scraping!"
   ]
  },
  {
   "cell_type": "code",
   "execution_count": null,
   "metadata": {
    "deletable": false,
    "editable": false,
    "nbgrader": {
     "cell_type": "code",
     "checksum": "c3a691ab0db6376fc3918f12efd89736",
     "grade": false,
     "grade_id": "cell-5c4120dd33e96704",
     "locked": true,
     "schema_version": 3,
     "solution": false,
     "task": false
    }
   },
   "outputs": [],
   "source": [
    "# Run this cell\n",
    "import requests\n",
    "from bs4 import BeautifulSoup"
   ]
  },
  {
   "cell_type": "markdown",
   "metadata": {
    "deletable": false,
    "editable": false,
    "nbgrader": {
     "cell_type": "markdown",
     "checksum": "366acf04d7b28d534bf3ffb313d1c8d9",
     "grade": false,
     "grade_id": "cell-2e1088d94c071532",
     "locked": true,
     "schema_version": 3,
     "solution": false,
     "task": false
    }
   },
   "source": [
    "**Question 5.2**\n",
    "<br> {points: 0}\n",
    "\n",
    "To download information from the URL, we should create a `BeautifulSoup` object using the url given in the cell below. We need to use the `.get` function from `request` package to get the url and then pass it into `BeautifulSoup` function.\n",
    "\n",
    "*Assign your answer to an object called `gwp`.*"
   ]
  },
  {
   "cell_type": "code",
   "execution_count": null,
   "metadata": {
    "deletable": false,
    "nbgrader": {
     "cell_type": "code",
     "checksum": "1a2f138948eb19fb04a947cef0c4578f",
     "grade": false,
     "grade_id": "cell-ac271e91bb5e69e8",
     "locked": false,
     "schema_version": 3,
     "solution": true,
     "task": false
    }
   },
   "outputs": [],
   "source": [
    "url = \"https://en.wikipedia.org/wiki/Gross_world_product\"\n",
    "\n",
    "# your code here\n",
    "raise NotImplementedError"
   ]
  },
  {
   "cell_type": "code",
   "execution_count": null,
   "metadata": {
    "deletable": false,
    "editable": false,
    "max_height": 100,
    "nbgrader": {
     "cell_type": "code",
     "checksum": "af90060c9cd5fecbdf15cf74c38d7074",
     "grade": true,
     "grade_id": "cell-70aac0a17c2d3ce8",
     "locked": true,
     "points": 3,
     "schema_version": 3,
     "solution": false,
     "task": false
    }
   },
   "outputs": [],
   "source": [
    "from hashlib import sha1\n",
    "assert sha1(str(type(gwp.__module__ == 'bs4')).encode(\"utf-8\")+b\"e25a3e003aa9c841\").hexdigest() == \"7daea433e95d520eb1d2b083befb2279cb35eebd\", \"type of gwp.__module__ == 'bs4' is not bool. gwp.__module__ == 'bs4' should be a bool\"\n",
    "assert sha1(str(gwp.__module__ == 'bs4').encode(\"utf-8\")+b\"e25a3e003aa9c841\").hexdigest() == \"d8ffbcab221af114300ecafb206c3a8c4e3f200e\", \"boolean value of gwp.__module__ == 'bs4' is not correct\"\n",
    "\n",
    "assert sha1(str(type(len(gwp.find_all(\"table\")))).encode(\"utf-8\")+b\"d820bb69793479f2\").hexdigest() == \"3ce24abc45bdf2bb8c24ec29dab83ed489e86b55\", \"type of len(gwp.find_all(\\\"table\\\")) is not int. Please make sure it is int and not np.int64, etc. You can cast your value into an int using int()\"\n",
    "assert sha1(str(len(gwp.find_all(\"table\"))).encode(\"utf-8\")+b\"d820bb69793479f2\").hexdigest() == \"cb5e2d343b32ac6ac2e6561785663d337a635fad\", \"value of len(gwp.find_all(\\\"table\\\")) is not correct\"\n",
    "\n",
    "print('Success!')"
   ]
  },
  {
   "cell_type": "markdown",
   "metadata": {
    "deletable": false,
    "editable": false,
    "nbgrader": {
     "cell_type": "markdown",
     "checksum": "7129ffcaa9747d97df7ddc768a9793bd",
     "grade": false,
     "grade_id": "cell-2234b2d30087a603",
     "locked": true,
     "schema_version": 3,
     "solution": false,
     "task": false
    }
   },
   "source": [
    "**Question 5.3**\n",
    "\n",
    "Run the cell below to create the first column of your data set (the year from the table under the \"Historical and prehistorical estimates\" header). The node was obtained using `CSS selector`. "
   ]
  },
  {
   "cell_type": "code",
   "execution_count": null,
   "metadata": {
    "deletable": false,
    "editable": false,
    "nbgrader": {
     "cell_type": "code",
     "checksum": "27673aa65cce5131b39c42ee34be25a6",
     "grade": false,
     "grade_id": "cell-d58e889638d61873",
     "locked": true,
     "schema_version": 3,
     "solution": false,
     "task": false
    }
   },
   "outputs": [],
   "source": [
    "# Run this cell to create the first column for your data set.\n",
    "\n",
    "year = pd.DataFrame(\n",
    "    [\n",
    "        row.get_text()  # get the content of each rows that extracted from the table\n",
    "        for row in gwp.select(\n",
    "            \".wikitable tbody:nth-child(1) td:nth-child(1)\"\n",
    "        )  # get each rows in the table\n",
    "    ],\n",
    "    columns=[\"year\"],  # set the column name\n",
    ")\n",
    "year.head()"
   ]
  },
  {
   "cell_type": "markdown",
   "metadata": {
    "deletable": false,
    "editable": false,
    "nbgrader": {
     "cell_type": "markdown",
     "checksum": "195a0921842635898d51ce4a677915b7",
     "grade": false,
     "grade_id": "cell-5017ed82d1225440",
     "locked": true,
     "schema_version": 3,
     "solution": false,
     "task": false
    }
   },
   "source": [
    "We can see that although we want numbers for the year, the data we scraped includes the characters `CE` and `\\n` (a newline character). We will have to do some string manipulation and then convert the years from characters to numbers. \n",
    "\n",
    "First we use the `replace` function to match the regex representation for string `\" CE\\n\"` and replace it with nothing `\"\"`:"
   ]
  },
  {
   "cell_type": "code",
   "execution_count": null,
   "metadata": {
    "deletable": false,
    "editable": false,
    "nbgrader": {
     "cell_type": "code",
     "checksum": "68aa45a86df89a3798b3e39c26ea5452",
     "grade": false,
     "grade_id": "cell-6ec2fdfaf8589ac4",
     "locked": true,
     "schema_version": 3,
     "solution": false,
     "task": false
    }
   },
   "outputs": [],
   "source": [
    "year = year.replace(\" CE\\n\", \"\", regex=True)\n",
    "year.head()"
   ]
  },
  {
   "cell_type": "markdown",
   "metadata": {
    "deletable": false,
    "editable": false,
    "nbgrader": {
     "cell_type": "markdown",
     "checksum": "eac779bbba085dcccbdbcc710e74de99",
     "grade": false,
     "grade_id": "cell-a59dce30f27441db",
     "locked": true,
     "schema_version": 3,
     "solution": false,
     "task": false
    }
   },
   "source": [
    "When we print year, we can see we were able to remove `\" CE\\n\"`, but we missed that there is also `\" BCE\\n\"` on the earliest years! There are also commas (`\",\"`) in the large BC years that we will have to remove. We also need to put a `-` sign in front of the BC numbers so we don't confuse them with the AD numbers after we convert everything to numbers. To do this we will need to use a similar strategy to clean this all up! \n",
    "\n",
    "This week we will provide you the code to do this cleaning, next week you will learn to do these kinds of things yourself. After we do all the string/text manipulation then we use the `astype(int)` function to convert the text to integers."
   ]
  },
  {
   "cell_type": "code",
   "execution_count": null,
   "metadata": {
    "deletable": false,
    "editable": false,
    "nbgrader": {
     "cell_type": "code",
     "checksum": "7b050eda7cf9284fe8d6cd3baad88d88",
     "grade": false,
     "grade_id": "cell-5f56ac2571cf0dea",
     "locked": true,
     "schema_version": 3,
     "solution": false,
     "task": false
    }
   },
   "outputs": [],
   "source": [
    "# select the lines containing \" BC\\n\" and put a - at the beginning of them.\n",
    "\n",
    "year[year[\"year\"].str.contains(\" BCE\\n\", regex=True)] = \"-\" + year[\n",
    "    year[\"year\"].str.contains(\" BCE\\n\", regex=True)\n",
    "].replace(\" BCE\\n\", \"\", regex=True)\n",
    "\n",
    "\n",
    "year"
   ]
  },
  {
   "cell_type": "code",
   "execution_count": null,
   "metadata": {
    "deletable": false,
    "editable": false,
    "nbgrader": {
     "cell_type": "code",
     "checksum": "bf7616f5e6287931174970c316783417",
     "grade": false,
     "grade_id": "cell-17f4637ad6306778",
     "locked": true,
     "schema_version": 3,
     "solution": false,
     "task": false
    }
   },
   "outputs": [],
   "source": [
    "# Replace all commas with nothing and change them to integers\n",
    "year = year.replace(\",\", \"\", regex=True).astype(int)\n",
    "year"
   ]
  },
  {
   "cell_type": "markdown",
   "metadata": {
    "deletable": false,
    "editable": false,
    "nbgrader": {
     "cell_type": "markdown",
     "checksum": "828f3454c4524fb8b7c9b7e71cd06b3b",
     "grade": false,
     "grade_id": "cell-5534fe310273b2d8",
     "locked": true,
     "schema_version": 3,
     "solution": false,
     "task": false
    }
   },
   "source": [
    "**Question 5.4**\n",
    "<br> {points: 0}\n",
    "\n",
    "Create a new column for the gross world product (GWP) from the table we are scraping. Don't forget to use `CCS selector` to obtain the CSS selector needed to scrape the GWP values from the table we are scraping. Assign your answer to an object called `gwp_value`. \n",
    "\n",
    "Fill in the `___` in the cell below. \n",
    "\n",
    "Refer to **Question 5.3** and don't be afraid to ask for help. "
   ]
  },
  {
   "cell_type": "code",
   "execution_count": null,
   "metadata": {
    "deletable": false,
    "nbgrader": {
     "cell_type": "code",
     "checksum": "e54186b65d73ec48765e6855014a0bd3",
     "grade": false,
     "grade_id": "cell-86deddef163bcc73",
     "locked": false,
     "schema_version": 3,
     "solution": true,
     "task": false
    }
   },
   "outputs": [],
   "source": [
    "# ___ = pd.DataFrame(\n",
    "#     [\n",
    "#         row.get_text()\n",
    "#         for row in gwp.select(___)\n",
    "#     ],\n",
    "#     columns=[___],\n",
    "# )\n",
    "\n",
    "# your code here\n",
    "raise NotImplementedError\n",
    "gwp_value.head()"
   ]
  },
  {
   "cell_type": "code",
   "execution_count": null,
   "metadata": {
    "deletable": false,
    "editable": false,
    "max_height": 100,
    "nbgrader": {
     "cell_type": "code",
     "checksum": "84a229889a789840d1c2b2d660aec379",
     "grade": true,
     "grade_id": "cell-438addc1687e3917",
     "locked": true,
     "points": 1,
     "schema_version": 3,
     "solution": false,
     "task": false
    }
   },
   "outputs": [],
   "source": [
    "from hashlib import sha1\n",
    "assert sha1(str(type(gwp_value.dtypes)).encode(\"utf-8\")+b\"136a86669c67f915\").hexdigest() == \"f2a8f63ef56ef4111f464e970192f23a6ffb22f6\", \"type of gwp_value.dtypes is not correct\"\n",
    "assert sha1(str(gwp_value.dtypes).encode(\"utf-8\")+b\"136a86669c67f915\").hexdigest() == \"bb8a03caccfc872a648d3c78e65ead7c3db028b3\", \"value of gwp_value.dtypes is not correct\"\n",
    "\n",
    "print('Success!')"
   ]
  },
  {
   "cell_type": "markdown",
   "metadata": {
    "deletable": false,
    "editable": false,
    "nbgrader": {
     "cell_type": "markdown",
     "checksum": "f2da4861b74815f6816c643958aa5f18",
     "grade": false,
     "grade_id": "cell-e1b4a2d4eaaf451c",
     "locked": true,
     "schema_version": 3,
     "solution": false,
     "task": false
    }
   },
   "source": [
    "Again, looking at the output of `gwp_value.head()` we see we have some cleaning and type conversions to do. We need to remove the commas, the extraneous trailing information in the first 3 columns, and the `\"\\n\"` character again. We provide the code to do this below:"
   ]
  },
  {
   "cell_type": "code",
   "execution_count": null,
   "metadata": {
    "deletable": false,
    "editable": false,
    "nbgrader": {
     "cell_type": "code",
     "checksum": "64d0f6b670e3ecc83fc4a6c27f3b68c2",
     "grade": false,
     "grade_id": "cell-aae7d3c8f4ba3865",
     "locked": true,
     "schema_version": 3,
     "solution": false,
     "task": false
    }
   },
   "outputs": [],
   "source": [
    "# Run this cell to clean up the year data and convert it to a number.\n",
    "\n",
    "# Replace all commas with nothing\n",
    "gwp_value = gwp_value.replace(\",\", \"\", regex=True)\n",
    "\n",
    "# Extract numerics and change strings to numeric.\n",
    "gwp_value[\"gwp_value\"] = gwp_value[\"gwp_value\"].str.extract(r\"([0-9.]+)\").astype(float)\n",
    "\n",
    "gwp_value.head()"
   ]
  },
  {
   "cell_type": "markdown",
   "metadata": {
    "deletable": false,
    "editable": false,
    "nbgrader": {
     "cell_type": "markdown",
     "checksum": "c5699cc6c3107bee59357b9f26ba3cbc",
     "grade": false,
     "grade_id": "cell-09d2f7df73b5e750",
     "locked": true,
     "schema_version": 3,
     "solution": false,
     "task": false
    }
   },
   "source": [
    "**Question 5.5**\n",
    "<br> {points: 0}\n",
    "\n",
    "Use the `pandas` `concat` function to create a data frame named `gwp` with `year` and `gwp_value` as columns. The general form for the creating data frames from dataframes horizontally using the `concat` function is as follows (`axis=1` means we are doing the concatenation horizontally):\n",
    "\n",
    "```pd.concat([COLUMN1_NAME, COLUMN2_NAME, COLUMN3_NAME, ...], axis=1)```\n"
   ]
  },
  {
   "cell_type": "code",
   "execution_count": null,
   "metadata": {
    "deletable": false,
    "nbgrader": {
     "cell_type": "code",
     "checksum": "7ceaea6486f897d9c6a00e3c63984069",
     "grade": false,
     "grade_id": "cell-0bc1cb6696cf0426",
     "locked": false,
     "schema_version": 3,
     "solution": true,
     "task": false
    }
   },
   "outputs": [],
   "source": [
    "# ___ = pd.concat(___, axis=1)\n",
    "\n",
    "# your code here\n",
    "raise NotImplementedError\n",
    "gwp.head()"
   ]
  },
  {
   "cell_type": "code",
   "execution_count": null,
   "metadata": {
    "deletable": false,
    "editable": false,
    "max_height": 100,
    "nbgrader": {
     "cell_type": "code",
     "checksum": "b0657efec2a4792e915077edef7b5632",
     "grade": true,
     "grade_id": "cell-3cba4415a994f8a4",
     "locked": true,
     "points": 1,
     "schema_version": 3,
     "solution": false,
     "task": false
    }
   },
   "outputs": [],
   "source": [
    "from hashlib import sha1\n",
    "assert sha1(str(type(gwp)).encode(\"utf-8\")+b\"cb452772c9262ed2\").hexdigest() == \"0e2f201037a430fa0faa2d25b52d2f106db67745\", \"type of type(gwp) is not correct\"\n",
    "\n",
    "assert sha1(str(type(\"year\" in gwp.columns)).encode(\"utf-8\")+b\"fbbe521193d0d268\").hexdigest() == \"89822020d740526912609f9e1e2da63abb0df6e2\", \"type of \\\"year\\\" in gwp.columns is not bool. \\\"year\\\" in gwp.columns should be a bool\"\n",
    "assert sha1(str(\"year\" in gwp.columns).encode(\"utf-8\")+b\"fbbe521193d0d268\").hexdigest() == \"c052a36106219461733e65ab756f325d3342def7\", \"boolean value of \\\"year\\\" in gwp.columns is not correct\"\n",
    "\n",
    "assert sha1(str(type(\"gwp_value\" in gwp.columns)).encode(\"utf-8\")+b\"cc98c37816c66d17\").hexdigest() == \"f23010f4d929a3b60c94c90623db9438ef1247b0\", \"type of \\\"gwp_value\\\" in gwp.columns is not bool. \\\"gwp_value\\\" in gwp.columns should be a bool\"\n",
    "assert sha1(str(\"gwp_value\" in gwp.columns).encode(\"utf-8\")+b\"cc98c37816c66d17\").hexdigest() == \"0f85bfc286c271d28461669d8a165ee7b0a32d99\", \"boolean value of \\\"gwp_value\\\" in gwp.columns is not correct\"\n",
    "\n",
    "print('Success!')"
   ]
  },
  {
   "cell_type": "markdown",
   "metadata": {
    "deletable": false,
    "editable": false,
    "nbgrader": {
     "cell_type": "markdown",
     "checksum": "8578008b017e683d780578ab6e158b8e",
     "grade": false,
     "grade_id": "cell-503877c2d6e4925b",
     "locked": true,
     "schema_version": 3,
     "solution": false,
     "task": false
    }
   },
   "source": [
    "One last piece of data transformation/wrangling we will do before we get to data visualization is to create another column called `sqrt_year` which scales the year values so that they will be more informative when we plot them (if you look at our year data we have a lot of years in the recent past, and fewer and fewer as we go back in time). Often times you can just transform the scale within `altair` (for example see what we do with the `gwp_value` later on), but the year value is tricky for scaling because it contains negative values. So we need to first make everything positive, then take the square root, and then re-transform the values that should be negative to negative again! We provide the code to do this below."
   ]
  },
  {
   "cell_type": "markdown",
   "metadata": {
    "deletable": false,
    "editable": false,
    "nbgrader": {
     "cell_type": "markdown",
     "checksum": "4d7fd45b3294f0846ac355c8854fa1bd",
     "grade": false,
     "grade_id": "cell-5fa1e339bd0afeb2",
     "locked": true,
     "schema_version": 3,
     "solution": false,
     "task": false
    }
   },
   "source": [
    "To get the square root for a dataframe, we could use the `np.sqrt` function from the `numpy` package. And we could use `np.where` function from the `numpy` package to wrangle the data based on its values. Therefore, we would need to import the `numpy` package first. "
   ]
  },
  {
   "cell_type": "code",
   "execution_count": null,
   "metadata": {
    "deletable": false,
    "editable": false,
    "nbgrader": {
     "cell_type": "code",
     "checksum": "c108b40fa9034c4d81c36a6264d996b9",
     "grade": false,
     "grade_id": "cell-0b4d2b2a6677aab2",
     "locked": true,
     "schema_version": 3,
     "solution": false,
     "task": false
    }
   },
   "outputs": [],
   "source": [
    "import numpy as np"
   ]
  },
  {
   "cell_type": "code",
   "execution_count": null,
   "metadata": {
    "deletable": false,
    "editable": false,
    "nbgrader": {
     "cell_type": "code",
     "checksum": "28e4a12cc2e9649552edc18d2ac6e0e2",
     "grade": false,
     "grade_id": "cell-44ac8d8ce7b36e58",
     "locked": true,
     "schema_version": 3,
     "solution": false,
     "task": false
    }
   },
   "outputs": [],
   "source": [
    "gwp = gwp.assign(\n",
    "    sqrt_year=np.where(year < 0, np.sqrt(abs(year)) * -1, np.sqrt(abs(year)))\n",
    ")\n",
    "gwp.head()"
   ]
  },
  {
   "cell_type": "markdown",
   "metadata": {
    "deletable": false,
    "editable": false,
    "nbgrader": {
     "cell_type": "markdown",
     "checksum": "d72dc7cb60ac5303e8f9ff9d3e131756",
     "grade": false,
     "grade_id": "cell-1833f7c5bde23c49",
     "locked": true,
     "schema_version": 3,
     "solution": false,
     "task": false
    }
   },
   "source": [
    "**Question 5.6**\n",
    "<br> {points: 0}\n",
    "\n",
    "Create a line plot using the `gwp` data frame where `sqrt_year` is on the x-axis and `gwp_value` is on the y-axis. *We provide the plot code to relabel the x-axis with the human understandable years instead of the tranformed ones we plot.* Name your plot object `gwp_historical`. To make a line plot instead of a scatter plot you should use the `mark_line` function instead of the `mark_point` function."
   ]
  },
  {
   "cell_type": "code",
   "execution_count": null,
   "metadata": {
    "deletable": false,
    "editable": false,
    "nbgrader": {
     "cell_type": "code",
     "checksum": "4b498ae02c76d9f12dda8fbe273a96d9",
     "grade": false,
     "grade_id": "cell-021d752a1232d71d",
     "locked": true,
     "schema_version": 3,
     "solution": false,
     "task": false
    }
   },
   "outputs": [],
   "source": [
    "alt.Chart(gwp).mark_line().encode(\n",
    "    x=alt.X(\n",
    "        \"year\",\n",
    "        axis=alt.Axis(values=[-1000000, -562500, -250000, -62500, -5000, 0, 1500]),\n",
    "    ),\n",
    "    y=alt.Y(\"gwp_value\", scale=alt.Scale(type=\"symlog\", base=10)),\n",
    ")"
   ]
  },
  {
   "cell_type": "code",
   "execution_count": null,
   "metadata": {
    "deletable": false,
    "nbgrader": {
     "cell_type": "code",
     "checksum": "63217159ad16eab136e5a6294f224434",
     "grade": false,
     "grade_id": "cell-8cee40703d450fc0",
     "locked": false,
     "schema_version": 3,
     "solution": true,
     "task": false
    }
   },
   "outputs": [],
   "source": [
    "# ___ = alt.Chart(gwp).mark_line().encode(\n",
    "#     x=alt.X('___', title=\"Year\",axis=alt.Axis(values=[-1000, -750, -500, -250, -77.7, 0, 38.7])),\n",
    "#     y=alt.Y('___', scale=alt.Scale(type='log', base=10), title=\"___\")\n",
    "# ).configure_axis(labelFontSize=16, titleFontSize=16, grid=False)\n",
    "\n",
    "# your code here\n",
    "raise NotImplementedError\n",
    "\n",
    "gwp_historical"
   ]
  },
  {
   "cell_type": "code",
   "execution_count": null,
   "metadata": {
    "deletable": false,
    "editable": false,
    "max_height": 100,
    "nbgrader": {
     "cell_type": "code",
     "checksum": "41e87f1b279f1f6dfb6080dad3a8970d",
     "grade": true,
     "grade_id": "cell-777c68035ed0cf31",
     "locked": true,
     "points": 1,
     "schema_version": 3,
     "solution": false,
     "task": false
    }
   },
   "outputs": [],
   "source": [
    "from hashlib import sha1\n",
    "assert sha1(str(type(gwp_historical.mark)).encode(\"utf-8\")+b\"eb85eca41d134d34\").hexdigest() == \"7324e8f44b8c3b3c1b052e9b2881f8c53d849ae0\", \"type of gwp_historical.mark is not str. gwp_historical.mark should be an str\"\n",
    "assert sha1(str(len(gwp_historical.mark)).encode(\"utf-8\")+b\"eb85eca41d134d34\").hexdigest() == \"705f30a2344796fd1b21855bb3eb0249dcf678ae\", \"length of gwp_historical.mark is not correct\"\n",
    "assert sha1(str(gwp_historical.mark.lower()).encode(\"utf-8\")+b\"eb85eca41d134d34\").hexdigest() == \"66ae7b5a954adba3672d503cca383bf815d91ee9\", \"value of gwp_historical.mark is not correct\"\n",
    "assert sha1(str(gwp_historical.mark).encode(\"utf-8\")+b\"eb85eca41d134d34\").hexdigest() == \"66ae7b5a954adba3672d503cca383bf815d91ee9\", \"correct string value of gwp_historical.mark but incorrect case of letters\"\n",
    "\n",
    "assert sha1(str(type(gwp_historical.encoding.x.title)).encode(\"utf-8\")+b\"b91daf3344b4a0e3\").hexdigest() == \"e6939e54abb9e3df2f96f9846575284c0fa2add1\", \"type of gwp_historical.encoding.x.title is not str. gwp_historical.encoding.x.title should be an str\"\n",
    "assert sha1(str(len(gwp_historical.encoding.x.title)).encode(\"utf-8\")+b\"b91daf3344b4a0e3\").hexdigest() == \"13888d5aba9f35eb49f268bea1c516f8d7eac959\", \"length of gwp_historical.encoding.x.title is not correct\"\n",
    "assert sha1(str(gwp_historical.encoding.x.title.lower()).encode(\"utf-8\")+b\"b91daf3344b4a0e3\").hexdigest() == \"a12a38268968582ca3f7375f669316b3177428d0\", \"value of gwp_historical.encoding.x.title is not correct\"\n",
    "assert sha1(str(gwp_historical.encoding.x.title).encode(\"utf-8\")+b\"b91daf3344b4a0e3\").hexdigest() == \"1944df93a39f69c783b80b31de37f0c276e7f133\", \"correct string value of gwp_historical.encoding.x.title but incorrect case of letters\"\n",
    "\n",
    "assert sha1(str(type(gwp_historical.encoding.y.title)).encode(\"utf-8\")+b\"677cd7ef77032b3e\").hexdigest() == \"8105676111c06d6de7f203f2f899903795dfb8ea\", \"type of gwp_historical.encoding.y.title is not str. gwp_historical.encoding.y.title should be an str\"\n",
    "assert sha1(str(len(gwp_historical.encoding.y.title)).encode(\"utf-8\")+b\"677cd7ef77032b3e\").hexdigest() == \"be63209721e99a1051ace3ae1518fb986c3c436a\", \"length of gwp_historical.encoding.y.title is not correct\"\n",
    "assert sha1(str(gwp_historical.encoding.y.title.lower()).encode(\"utf-8\")+b\"677cd7ef77032b3e\").hexdigest() == \"298b80dea187a21ad17038d4d84e4271d2352c9b\", \"value of gwp_historical.encoding.y.title is not correct\"\n",
    "assert sha1(str(gwp_historical.encoding.y.title).encode(\"utf-8\")+b\"677cd7ef77032b3e\").hexdigest() == \"59a75413bbd1be3a9499e3a9c104146b02d72b95\", \"correct string value of gwp_historical.encoding.y.title but incorrect case of letters\"\n",
    "\n",
    "assert sha1(str(type(gwp_historical.encoding.x.title != \"sqrt_year\")).encode(\"utf-8\")+b\"19bf43feac894e5d\").hexdigest() == \"9b496f8b247e1e00fc3b878ea4d6be9b3af1bb18\", \"type of gwp_historical.encoding.x.title != \\\"sqrt_year\\\" is not bool. gwp_historical.encoding.x.title != \\\"sqrt_year\\\" should be a bool\"\n",
    "assert sha1(str(gwp_historical.encoding.x.title != \"sqrt_year\").encode(\"utf-8\")+b\"19bf43feac894e5d\").hexdigest() == \"f152bdff8d7996437cb07b6223ecdfb3a851521c\", \"boolean value of gwp_historical.encoding.x.title != \\\"sqrt_year\\\" is not correct\"\n",
    "\n",
    "assert sha1(str(type(gwp_historical.encoding.y.title != \"gwp_value\")).encode(\"utf-8\")+b\"1050c3f251c231fc\").hexdigest() == \"fcbb9ec5197a56c697098fc762ea8cd9e6c358f8\", \"type of gwp_historical.encoding.y.title != \\\"gwp_value\\\" is not bool. gwp_historical.encoding.y.title != \\\"gwp_value\\\" should be a bool\"\n",
    "assert sha1(str(gwp_historical.encoding.y.title != \"gwp_value\").encode(\"utf-8\")+b\"1050c3f251c231fc\").hexdigest() == \"6696fbde0138e0109627100eb66a5463b0c65e89\", \"boolean value of gwp_historical.encoding.y.title != \\\"gwp_value\\\" is not correct\"\n",
    "\n",
    "print('Success!')"
   ]
  },
  {
   "cell_type": "markdown",
   "metadata": {
    "deletable": false,
    "editable": false,
    "nbgrader": {
     "cell_type": "markdown",
     "checksum": "ddfce3f64ae303089d813894eeb0f952",
     "grade": false,
     "grade_id": "cell-9fad67ebf88a44dc",
     "locked": true,
     "schema_version": 3,
     "solution": false,
     "task": false
    }
   },
   "source": [
    "**Question 5.7** \n",
    "<br> {points: 0}\n",
    "\n",
    "Looking at the line plot, when does the Gross World Domestic Product first start to more rapidly increase (i.e., when does the slope of the line first change)? \n",
    "\n",
    "A. roughly around year -1,000,000\n",
    "\n",
    "B. roughly around year -250,000\n",
    "\n",
    "C. roughly around year -5000\n",
    "\n",
    "D. roughly around year 1500\n",
    "\n",
    "\n",
    "*Assign your answer to an object called `answer5_7`. Make sure your answer is an uppercase letter and is surrounded by quotation marks (e.g. `\"F\"`).*"
   ]
  },
  {
   "cell_type": "code",
   "execution_count": null,
   "metadata": {
    "deletable": false,
    "nbgrader": {
     "cell_type": "code",
     "checksum": "c7de244efa32574a6b8f41b0d036c189",
     "grade": false,
     "grade_id": "cell-f5b7b1abc10c4c10",
     "locked": false,
     "schema_version": 3,
     "solution": true,
     "task": false
    }
   },
   "outputs": [],
   "source": [
    "# your code here\n",
    "raise NotImplementedError"
   ]
  },
  {
   "cell_type": "code",
   "execution_count": null,
   "metadata": {
    "deletable": false,
    "editable": false,
    "max_height": 100,
    "nbgrader": {
     "cell_type": "code",
     "checksum": "dfeb47187147587a63116d12fc256d3b",
     "grade": true,
     "grade_id": "cell-1f98d6f7bb212ed9",
     "locked": true,
     "points": 3,
     "schema_version": 3,
     "solution": false,
     "task": false
    }
   },
   "outputs": [],
   "source": [
    "from hashlib import sha1\n",
    "assert sha1(str(type(answer5_7)).encode(\"utf-8\")+b\"2120e1394fdab1dd\").hexdigest() == \"7cfaf1434d3ebf578ba39541847cf6b609023b9d\", \"type of answer5_7 is not str. answer5_7 should be an str\"\n",
    "assert sha1(str(len(answer5_7)).encode(\"utf-8\")+b\"2120e1394fdab1dd\").hexdigest() == \"5ccf4ba89d8ef378121f56f98da634313e7a4c00\", \"length of answer5_7 is not correct\"\n",
    "assert sha1(str(answer5_7.lower()).encode(\"utf-8\")+b\"2120e1394fdab1dd\").hexdigest() == \"bc907cc8df5436795316a96b9854b49eb1af6925\", \"value of answer5_7 is not correct\"\n",
    "assert sha1(str(answer5_7).encode(\"utf-8\")+b\"2120e1394fdab1dd\").hexdigest() == \"3cf7b0be87ea3066d0d353bf853130d93f82b1ea\", \"correct string value of answer5_7 but incorrect case of letters\"\n",
    "\n",
    "print('Success!')"
   ]
  },
  {
   "cell_type": "code",
   "execution_count": null,
   "metadata": {
    "deletable": false,
    "editable": false,
    "nbgrader": {
     "cell_type": "code",
     "checksum": "d0cf259c209162aeb29fdbf01cf45d80",
     "grade": false,
     "grade_id": "cell-e46f0ec8bbd820d5",
     "locked": true,
     "schema_version": 3,
     "solution": false,
     "task": false
    }
   },
   "outputs": [],
   "source": [
    "try:\n",
    "    os.remove(\"data/delay_data.csv\")\n",
    "except:\n",
    "    None"
   ]
  }
 ],
 "metadata": {
  "kernelspec": {
   "display_name": "Python 3 (ipykernel)",
   "language": "python",
   "name": "python3"
  },
  "language_info": {
   "codemirror_mode": {
    "name": "ipython",
    "version": 3
   },
   "file_extension": ".py",
   "mimetype": "text/x-python",
   "name": "python",
   "nbconvert_exporter": "python",
   "pygments_lexer": "ipython3",
   "version": "3.10.8"
  }
 },
 "nbformat": 4,
 "nbformat_minor": 4
}
