{
 "cells": [
  {
   "cell_type": "markdown",
   "metadata": {
    "deletable": false,
    "editable": false,
    "nbgrader": {
     "cell_type": "markdown",
     "checksum": "c0a79a0f27081b90e3c0785746e41019",
     "grade": false,
     "grade_id": "cell-d7dff6881e80c256",
     "locked": true,
     "schema_version": 3,
     "solution": false,
     "task": false
    }
   },
   "source": [
    "# Worksheet 4: Effective Data Visualization \n",
    "\n",
    "\n",
    "### Lecture and Tutorial Learning Goals:\n",
    "\n",
    "Expand your data visualization knowledge and tool set beyond what we have seen and practiced so far. We will move beyond scatter plots and learn other effective ways to visualize data, as well as some general rules of thumb to follow when creating visualizations. All visualization tasks this week will be applied to real world data sets.\n",
    "\n",
    "\n",
    "After completing this week's lecture and tutorial work, you will be able to:\n",
    "\n",
    "- Describe when to use the following kinds of visualizations:\n",
    "    - scatter plots\n",
    "    - line plots\n",
    "    - bar plots\n",
    "- Given a dataset and a question, select from the above plot types to create a visualization that best answers the question\n",
    "- Given a visualization and a question, evaluate the effectiveness of the visualization and suggest improvements to better answer the question\n",
    "- Identify rules of thumb for creating effective visualizations\n",
    "- Define the two key aspects of altair objects:\n",
    "    - mark objects\n",
    "    - encodings\n",
    "- Use the `altair` library in Python to create and refine the above visualizations using:\n",
    "    - mark objects: `mark_point`, `mark_line`, `mark_bar`\n",
    "    - encodings : `x`, `y`, `color`, `shape`\n",
    "    - subplots: `facet`\n",
    "- Describe the difference in raster and vector output formats\n",
    "- Use `save` to save visualizations in `png` and `svg` formats\n",
    "\n",
    "This worksheet covers parts of [Chapter 4](https://python.datasciencebook.ca/viz.html) of the online textbook. You should read this chapter before attempting the worksheet.\n",
    "Any place you see `___`, you must fill in the function, variable, or data to complete the code. Substitute the `raise NotImplementedError` with your completed code and answers then proceed to run the cell!"
   ]
  },
  {
   "cell_type": "code",
   "execution_count": null,
   "metadata": {
    "deletable": false,
    "editable": false,
    "nbgrader": {
     "cell_type": "code",
     "checksum": "ab9016317260f86695723e8a05abffcf",
     "grade": false,
     "grade_id": "cell-1fdb1939e17b5421",
     "locked": true,
     "schema_version": 3,
     "solution": false,
     "task": false
    }
   },
   "outputs": [],
   "source": [
    "### Run this cell before continuing.\n",
    "import altair as alt\n",
    "import pandas as pd\n",
    "\n",
    "# Simplify working with large datasets in Altair\n",
    "alt.data_transformers.disable_max_rows()"
   ]
  },
  {
   "cell_type": "markdown",
   "metadata": {
    "deletable": false,
    "editable": false,
    "nbgrader": {
     "cell_type": "markdown",
     "checksum": "c3d3f2feb135bd29afd976588f7efc5d",
     "grade": false,
     "grade_id": "cell-3c378af00356c0f3",
     "locked": true,
     "schema_version": 3,
     "solution": false
    }
   },
   "source": [
    "**Question 0.1** True or False: \n",
    "<br> {points: 1}\n",
    "\n",
    "For each of the items below, which are encodings in `altair`? \n",
    "\n",
    "A. `color` <br>\n",
    "B. `scale` <br>\n",
    "C. `x` <br>\n",
    "D. `fill` <br>\n",
    "E. `type`\n",
    "\n",
    "*Assign either `True` or `False` for each to an object called `answer0_1_L` where `L` should be replaced by the letter corresponding to the question. For example, if above we had E. `type`, we would set `answer0_1_E = True`.*"
   ]
  },
  {
   "cell_type": "code",
   "execution_count": null,
   "metadata": {
    "deletable": false,
    "nbgrader": {
     "cell_type": "code",
     "checksum": "83dccd22df663b9ebdc461f955a6dfdd",
     "grade": false,
     "grade_id": "cell-d42b5b5cadd02544",
     "locked": false,
     "schema_version": 3,
     "solution": true
    }
   },
   "outputs": [],
   "source": [
    "# your code here\n",
    "raise NotImplementedError"
   ]
  },
  {
   "cell_type": "code",
   "execution_count": null,
   "metadata": {
    "deletable": false,
    "editable": false,
    "nbgrader": {
     "cell_type": "code",
     "checksum": "ea7a7ee085b1d40e9d57aee7c07eb472",
     "grade": true,
     "grade_id": "cell-65573b490f8813ec",
     "locked": true,
     "points": 1,
     "schema_version": 3,
     "solution": false
    }
   },
   "outputs": [],
   "source": [
    "from hashlib import sha1\n",
    "assert sha1(str(type(answer0_1_A)).encode(\"utf-8\")+b\"1e58c\").hexdigest() == \"478dbfaf33f54fe1a23540a6351c09ea8041d941\", \"type of answer0_1_A is not bool. answer0_1_A should be a bool\"\n",
    "assert sha1(str(answer0_1_A).encode(\"utf-8\")+b\"1e58c\").hexdigest() == \"0e7ecf8b89c5216d18c5d2c6f68c90383e989bc4\", \"boolean value of answer0_1_A is not correct\"\n",
    "\n",
    "assert sha1(str(type(answer0_1_B)).encode(\"utf-8\")+b\"1e58d\").hexdigest() == \"2cc5363af228e6cb3a1688302402cc0a39d621f2\", \"type of answer0_1_B is not bool. answer0_1_B should be a bool\"\n",
    "assert sha1(str(answer0_1_B).encode(\"utf-8\")+b\"1e58d\").hexdigest() == \"cc040b899e077aa1387a36a6465b5fd4f45eeffb\", \"boolean value of answer0_1_B is not correct\"\n",
    "\n",
    "assert sha1(str(type(answer0_1_C)).encode(\"utf-8\")+b\"1e58e\").hexdigest() == \"c3465d8ec6409397022df934a67db42cf1a78d64\", \"type of answer0_1_C is not bool. answer0_1_C should be a bool\"\n",
    "assert sha1(str(answer0_1_C).encode(\"utf-8\")+b\"1e58e\").hexdigest() == \"ebc94d54ccf056ad105a3d43367d4d93e82693fe\", \"boolean value of answer0_1_C is not correct\"\n",
    "\n",
    "assert sha1(str(type(answer0_1_D)).encode(\"utf-8\")+b\"1e58f\").hexdigest() == \"bb0ffd62f1bb05f6e1818a5bdea1262d1cedb67c\", \"type of answer0_1_D is not bool. answer0_1_D should be a bool\"\n",
    "assert sha1(str(answer0_1_D).encode(\"utf-8\")+b\"1e58f\").hexdigest() == \"6cffa3b4528e48579b70ec501f91fced1841a791\", \"boolean value of answer0_1_D is not correct\"\n",
    "\n",
    "assert sha1(str(type(answer0_1_E)).encode(\"utf-8\")+b\"1e590\").hexdigest() == \"684cadd67e76633603b3ec3a6b17492a2c8f6767\", \"type of answer0_1_E is not bool. answer0_1_E should be a bool\"\n",
    "assert sha1(str(answer0_1_E).encode(\"utf-8\")+b\"1e590\").hexdigest() == \"35e806dc8c013e066bfa2b64b4c411a3a4de9d5c\", \"boolean value of answer0_1_E is not correct\"\n",
    "\n",
    "print('Success!')"
   ]
  },
  {
   "cell_type": "markdown",
   "metadata": {
    "deletable": false,
    "editable": false,
    "nbgrader": {
     "cell_type": "markdown",
     "checksum": "bab60a5b1f7e4f0f5ccc2b355e758d2c",
     "grade": false,
     "grade_id": "cell-a7dfc6e8e27d0615",
     "locked": true,
     "schema_version": 3,
     "solution": false
    }
   },
   "source": [
    "**Question 0.2** Multiple Choice:\n",
    "<br> {points: 1}\n",
    "\n",
    "When deciding on the size of your visualization we recommend that you: \n",
    "\n",
    "A. Make the plot as small as possible to save space\n",
    "\n",
    "B. Make it as big as your screen allows to make it easier to see\n",
    "\n",
    "C. Use the default chart size in most cases, and resize when needed to ensure clear visualization\n",
    "\n",
    "*Assign your answer to an object called `answer0_2`. Make sure your answer is an uppercase letter and is surrounded by quotation marks (e.g. `\"F\"`).*"
   ]
  },
  {
   "cell_type": "code",
   "execution_count": null,
   "metadata": {
    "deletable": false,
    "nbgrader": {
     "cell_type": "code",
     "checksum": "8be46bf98f19a10eac0507b7b0c1f23c",
     "grade": false,
     "grade_id": "cell-46cbbfc18df2f1a2",
     "locked": false,
     "schema_version": 3,
     "solution": true
    }
   },
   "outputs": [],
   "source": [
    "# your code here\n",
    "raise NotImplementedError"
   ]
  },
  {
   "cell_type": "code",
   "execution_count": null,
   "metadata": {
    "deletable": false,
    "editable": false,
    "nbgrader": {
     "cell_type": "code",
     "checksum": "04c5cc1e720fec4f65c97b081cfa498e",
     "grade": true,
     "grade_id": "cell-165bb2f307f14e34",
     "locked": true,
     "points": 1,
     "schema_version": 3,
     "solution": false
    }
   },
   "outputs": [],
   "source": [
    "from hashlib import sha1\n",
    "assert sha1(str(type(answer0_2)).encode(\"utf-8\")+b\"b9cdb\").hexdigest() == \"351b6021c8f87571484eee4e4c7bf0a0b7ed21fc\", \"type of answer0_2 is not str. answer0_2 should be an str\"\n",
    "assert sha1(str(len(answer0_2)).encode(\"utf-8\")+b\"b9cdb\").hexdigest() == \"439859842b2ff5343f142aebc166bbd2f5c1ba63\", \"length of answer0_2 is not correct\"\n",
    "assert sha1(str(answer0_2.lower()).encode(\"utf-8\")+b\"b9cdb\").hexdigest() == \"ce1b691700489aee5523dfcc233ae13864cd79c9\", \"value of answer0_2 is not correct\"\n",
    "assert sha1(str(answer0_2).encode(\"utf-8\")+b\"b9cdb\").hexdigest() == \"b16ca5891eec7c1bc0f96e8181c7f7ec018beed8\", \"correct string value of answer0_2 but incorrect case of letters\"\n",
    "\n",
    "print('Success!')"
   ]
  },
  {
   "cell_type": "markdown",
   "metadata": {
    "deletable": false,
    "editable": false,
    "nbgrader": {
     "cell_type": "markdown",
     "checksum": "dd6827ddf5b4f38ded4e154456d53739",
     "grade": false,
     "grade_id": "cell-a64e6788a027a69c",
     "locked": true,
     "schema_version": 3,
     "solution": false
    }
   },
   "source": [
    "**Question 0.3** Multiple Choice:\n",
    "<br> {points: 1}\n",
    "\n",
    "Under what circumstance would you use a static (non-interactive) 3D plot?\n",
    "\n",
    "A. Anytime you have more than two variables that you want to show the relationship between\n",
    "\n",
    "B. When you want to emphasize the large difference between groups\n",
    "\n",
    "C. When you need to grab attention of your audience\n",
    "\n",
    "D. Rarely, we avoid 3D plots as it is difficult to visualize 3D information on a screen or on paper\n",
    "\n",
    "*Assign your answer to an object called `answer0_3`. Make sure your answer is an uppercase letter and is surrounded by quotation marks (e.g. `\"F\"`).*"
   ]
  },
  {
   "cell_type": "code",
   "execution_count": null,
   "metadata": {
    "deletable": false,
    "nbgrader": {
     "cell_type": "code",
     "checksum": "9c7b0b0c887e3c7398e94256b07bfb4e",
     "grade": false,
     "grade_id": "cell-e3a98de134b6b2f0",
     "locked": false,
     "schema_version": 3,
     "solution": true
    }
   },
   "outputs": [],
   "source": [
    "# your code here\n",
    "raise NotImplementedError"
   ]
  },
  {
   "cell_type": "code",
   "execution_count": null,
   "metadata": {
    "deletable": false,
    "editable": false,
    "nbgrader": {
     "cell_type": "code",
     "checksum": "39d633e092c8727ce16f0eec768b51fd",
     "grade": true,
     "grade_id": "cell-521dc123937db46d",
     "locked": true,
     "points": 1,
     "schema_version": 3,
     "solution": false
    }
   },
   "outputs": [],
   "source": [
    "from hashlib import sha1\n",
    "assert sha1(str(type(answer0_3)).encode(\"utf-8\")+b\"40f78\").hexdigest() == \"88fbc36d74dbc11e3dc49cd606c9d12aab8dadde\", \"type of answer0_3 is not str. answer0_3 should be an str\"\n",
    "assert sha1(str(len(answer0_3)).encode(\"utf-8\")+b\"40f78\").hexdigest() == \"8f13c1689337a5e773751fc0a20a001db5754a5a\", \"length of answer0_3 is not correct\"\n",
    "assert sha1(str(answer0_3.lower()).encode(\"utf-8\")+b\"40f78\").hexdigest() == \"4708ab692160409b80fc268e6ccc46ded831eee1\", \"value of answer0_3 is not correct\"\n",
    "assert sha1(str(answer0_3).encode(\"utf-8\")+b\"40f78\").hexdigest() == \"97e782ed8578554b8ddd12ff88197696f3c3abca\", \"correct string value of answer0_3 but incorrect case of letters\"\n",
    "\n",
    "print('Success!')"
   ]
  },
  {
   "cell_type": "markdown",
   "metadata": {
    "deletable": false,
    "editable": false,
    "nbgrader": {
     "cell_type": "markdown",
     "checksum": "1f2a939153e7d3122c65406e79df639c",
     "grade": false,
     "grade_id": "cell-7148c0706bcb2d4b",
     "locked": true,
     "schema_version": 3,
     "solution": false
    }
   },
   "source": [
    "**Question 0.4** Multiple Choice:\n",
    "<br> {points: 1}\n",
    "\n",
    "What is the symbol used to add a new layer to an `altair` chart?\n",
    "\n",
    "A. `<-`\n",
    "\n",
    "B. `>`\n",
    "\n",
    "C. `&`\n",
    "\n",
    "D. `+`\n",
    "\n",
    "*Assign your answer to an object called `answer0_4`. Make sure your answer is an uppercase letter and is surrounded by quotation marks (e.g. `\"F\"`).*"
   ]
  },
  {
   "cell_type": "code",
   "execution_count": null,
   "metadata": {
    "deletable": false,
    "nbgrader": {
     "cell_type": "code",
     "checksum": "d3d30e3d237755e0de706770d2b95925",
     "grade": false,
     "grade_id": "cell-ea7ba4f1243e667d",
     "locked": false,
     "schema_version": 3,
     "solution": true
    }
   },
   "outputs": [],
   "source": [
    "# your code here\n",
    "raise NotImplementedError"
   ]
  },
  {
   "cell_type": "code",
   "execution_count": null,
   "metadata": {
    "deletable": false,
    "editable": false,
    "nbgrader": {
     "cell_type": "code",
     "checksum": "cab881a59d0a2110f0dec1335aaa4876",
     "grade": true,
     "grade_id": "cell-5c15ea7ab4b4655e",
     "locked": true,
     "points": 1,
     "schema_version": 3,
     "solution": false
    }
   },
   "outputs": [],
   "source": [
    "from hashlib import sha1\n",
    "assert sha1(str(type(answer0_4)).encode(\"utf-8\")+b\"89a91\").hexdigest() == \"e331e0119e065c7d2c0007ef690289946605f661\", \"type of answer0_4 is not str. answer0_4 should be an str\"\n",
    "assert sha1(str(len(answer0_4)).encode(\"utf-8\")+b\"89a91\").hexdigest() == \"af5d095942b9a96f78eaf26c9649778f0a7dbe32\", \"length of answer0_4 is not correct\"\n",
    "assert sha1(str(answer0_4.lower()).encode(\"utf-8\")+b\"89a91\").hexdigest() == \"e10dc89577d7c456dd61e57d0c5560fdd4a3d5ba\", \"value of answer0_4 is not correct\"\n",
    "assert sha1(str(answer0_4).encode(\"utf-8\")+b\"89a91\").hexdigest() == \"8417512518d86dbfe396435bf95841e4d1e46d76\", \"correct string value of answer0_4 but incorrect case of letters\"\n",
    "\n",
    "print('Success!')"
   ]
  },
  {
   "cell_type": "markdown",
   "metadata": {
    "deletable": false,
    "editable": false,
    "nbgrader": {
     "cell_type": "markdown",
     "checksum": "09d5b8a1e178a7eca20abfc8f7823941",
     "grade": false,
     "grade_id": "cell-d33780730eef352c",
     "locked": true,
     "schema_version": 3,
     "solution": false,
     "task": false
    }
   },
   "source": [
    "**Question 0.5** Item Arrangement\n",
    "<br> {points: 1}\n",
    "\n",
    "Match the following graphical marks to their corresponding visualization purposes.\n",
    "\n",
    "1. `mark_point`\n",
    "2. `mark_line`\n",
    "3. `mark_bar`\n",
    "\n",
    "A. Comparing amounts  <br>\n",
    "B. Showing a trend with respect to an independent quantity  <br>\n",
    "C. Visualizing the relationship between two variables in two dimensions  <br>\n",
    "\n",
    "*Assign each single character answer (e.g. \"D\") to an object called `answer0_5_#` where `#` should be \n",
    "replaced by the number corresponding to the item. For example, if we wanted to match 1 to F, we would\n",
    "set `answer0_5_1 = \"F\"`.*"
   ]
  },
  {
   "cell_type": "code",
   "execution_count": null,
   "metadata": {
    "deletable": false,
    "nbgrader": {
     "cell_type": "code",
     "checksum": "bd622061e6c5fe3deed764e19932ea8d",
     "grade": false,
     "grade_id": "cell-3f32a93753a230e1",
     "locked": false,
     "schema_version": 3,
     "solution": true,
     "task": false
    }
   },
   "outputs": [],
   "source": [
    "# your code here\n",
    "raise NotImplementedError"
   ]
  },
  {
   "cell_type": "code",
   "execution_count": null,
   "metadata": {
    "deletable": false,
    "editable": false,
    "nbgrader": {
     "cell_type": "code",
     "checksum": "b007f6487a31d68f608f565836a89fdd",
     "grade": true,
     "grade_id": "cell-7b95a04e22cfd223",
     "locked": true,
     "points": 1,
     "schema_version": 3,
     "solution": false,
     "task": false
    }
   },
   "outputs": [],
   "source": [
    "from hashlib import sha1\n",
    "assert sha1(str(type(answer0_5_1)).encode(\"utf-8\")+b\"6bae1\").hexdigest() == \"93b2899a0674c80c854cffd1c571a9fb69a64963\", \"type of answer0_5_1 is not str. answer0_5_1 should be an str\"\n",
    "assert sha1(str(len(answer0_5_1)).encode(\"utf-8\")+b\"6bae1\").hexdigest() == \"78be37cbe5a23f6f6da5b01fe608ffe8b1111b3c\", \"length of answer0_5_1 is not correct\"\n",
    "assert sha1(str(answer0_5_1.lower()).encode(\"utf-8\")+b\"6bae1\").hexdigest() == \"ff1bc5be5ecc4b1d4c3a99b563be11e5c97ea2e0\", \"value of answer0_5_1 is not correct\"\n",
    "assert sha1(str(answer0_5_1).encode(\"utf-8\")+b\"6bae1\").hexdigest() == \"f264bea72f835e579b442e30f31d741645af3b02\", \"correct string value of answer0_5_1 but incorrect case of letters\"\n",
    "\n",
    "assert sha1(str(type(answer0_5_2)).encode(\"utf-8\")+b\"6bae2\").hexdigest() == \"74db9a285889257235508e6cfceb8641d5694732\", \"type of answer0_5_2 is not str. answer0_5_2 should be an str\"\n",
    "assert sha1(str(len(answer0_5_2)).encode(\"utf-8\")+b\"6bae2\").hexdigest() == \"2ab755ff6cf0059fb3f5b1481d17a3f2d9e8f094\", \"length of answer0_5_2 is not correct\"\n",
    "assert sha1(str(answer0_5_2.lower()).encode(\"utf-8\")+b\"6bae2\").hexdigest() == \"4894a02e64b0279e819222c638edee42670c72da\", \"value of answer0_5_2 is not correct\"\n",
    "assert sha1(str(answer0_5_2).encode(\"utf-8\")+b\"6bae2\").hexdigest() == \"cf0b5845a5db86bc69303a3548f75843c664a777\", \"correct string value of answer0_5_2 but incorrect case of letters\"\n",
    "\n",
    "assert sha1(str(type(answer0_5_3)).encode(\"utf-8\")+b\"6bae3\").hexdigest() == \"f88c508601ad904033109b7bd63ea2027d7e6421\", \"type of answer0_5_3 is not str. answer0_5_3 should be an str\"\n",
    "assert sha1(str(len(answer0_5_3)).encode(\"utf-8\")+b\"6bae3\").hexdigest() == \"efcca6a95cee557526ebd0e3100e975bcd9801db\", \"length of answer0_5_3 is not correct\"\n",
    "assert sha1(str(answer0_5_3.lower()).encode(\"utf-8\")+b\"6bae3\").hexdigest() == \"d5b78b3b2a2e8543b0d08d25fc3e94831b105d92\", \"value of answer0_5_3 is not correct\"\n",
    "assert sha1(str(answer0_5_3).encode(\"utf-8\")+b\"6bae3\").hexdigest() == \"5db4deed05cf4bf762fac07c6da93399935dd5eb\", \"correct string value of answer0_5_3 but incorrect case of letters\"\n",
    "\n",
    "print('Success!')"
   ]
  },
  {
   "cell_type": "markdown",
   "metadata": {
    "deletable": false,
    "editable": false,
    "nbgrader": {
     "cell_type": "markdown",
     "checksum": "5f66540df0550f6bce458b3273d5d302",
     "grade": false,
     "grade_id": "cell-603e82af426c3ceb",
     "locked": true,
     "schema_version": 3,
     "solution": false,
     "task": false
    }
   },
   "source": [
    "## 1. World Vaccination Trends\n",
    "\n",
    "Data scientists find work in all sectors of the economy and all types of organizations. Some work in collaboration with public sector organizations to solve problems that affect society, both at local and global scales. Today we will be looking at a global problem with real data from the [World Health Organization](https://www.who.int/) (WHO). According to WHO, Polio is a disease that affects mostly children younger than 5 years old, and to date there is no cure. However, when given a vaccine, children can develop sufficient antibodies in their system to be immune to the disease. Another disease, Hepatitis B, is also known to affect infants but in a chronic manner. There is also a vaccine for Hepatitis B available. \n",
    "\n",
    "The columns in the dataset are:\n",
    "\n",
    "- `who_region` - The WHO region of the world\n",
    "- `yr` - The year\n",
    "- `pct_vaccinated` - Estimated percentage of people vaccinated in the region\n",
    "- `vaccine` - Whether it's the `polio` or the `hepatitis_b` vaccine\n",
    "\n",
    "We want to know two things. First, has there been a change in Polio or Hepatitis B vaccination patterns throughout the years? And if so, what is that pattern? Second, have the vaccination patterns for one of these diseases changed more than the other? **The goal for today is to produce a plot of the estimated percentage of people vaccinated per year**. To do this, you will follow the steps outlined below.\n",
    "\n",
    "The original datasets are available here:\n",
    "   - Polio: http://apps.who.int/gho/data/view.main.81605?lang=en\n",
    "   - Hepatitis B: http://apps.who.int/gho/data/view.main.81300?lang=en\n",
    "   \n",
    "The data set we will work with for this worksheet however is named `world_vaccination.csv` and it lives in the `worksheet_04/data` directory."
   ]
  },
  {
   "cell_type": "markdown",
   "metadata": {
    "deletable": false,
    "editable": false,
    "nbgrader": {
     "cell_type": "markdown",
     "checksum": "3b503c9c084b1ee40cd79de5e4a071a4",
     "grade": false,
     "grade_id": "cell-6767e740b3c9df90",
     "locked": true,
     "schema_version": 3,
     "solution": false
    }
   },
   "source": [
    "**Question 1.0** Multiple Choice:\n",
    "<br> {points: 1}\n",
    "\n",
    "Consider the columns/variables `yr` and `pct_vaccinated`. These variables are:\n",
    "\n",
    "A. both quantitative (e.g., numerical).\n",
    "\n",
    "B. both categorical\n",
    "\n",
    "C. one is categorical and one is quantitative\n",
    "\n",
    "D. None of the above. \n",
    "\n",
    "*Assign your answer to an object called `answer1_0`. Make sure your answer is an uppercase letter and is surrounded by quotation marks (e.g. `\"F\"`).*"
   ]
  },
  {
   "cell_type": "code",
   "execution_count": null,
   "metadata": {
    "deletable": false,
    "nbgrader": {
     "cell_type": "code",
     "checksum": "8e815ada8ad9ac3ab3bb2b8a10f8e0a6",
     "grade": false,
     "grade_id": "cell-eeda947331564185",
     "locked": false,
     "schema_version": 3,
     "solution": true
    }
   },
   "outputs": [],
   "source": [
    "# your code here\n",
    "raise NotImplementedError"
   ]
  },
  {
   "cell_type": "code",
   "execution_count": null,
   "metadata": {
    "deletable": false,
    "editable": false,
    "nbgrader": {
     "cell_type": "code",
     "checksum": "a8e7d21e689440a9434eb1f34a201d11",
     "grade": true,
     "grade_id": "cell-abc8ab4c34c2959d",
     "locked": true,
     "points": 1,
     "schema_version": 3,
     "solution": false
    }
   },
   "outputs": [],
   "source": [
    "from hashlib import sha1\n",
    "assert sha1(str(type(answer1_0)).encode(\"utf-8\")+b\"5fde6\").hexdigest() == \"8a7a89985f2dfe3c1ab416c44ee73f576e356b86\", \"type of answer1_0 is not str. answer1_0 should be an str\"\n",
    "assert sha1(str(len(answer1_0)).encode(\"utf-8\")+b\"5fde6\").hexdigest() == \"eecf2e3c3d5703053e40e73ee4d402d857ad5e3c\", \"length of answer1_0 is not correct\"\n",
    "assert sha1(str(answer1_0.lower()).encode(\"utf-8\")+b\"5fde6\").hexdigest() == \"46bd781b03c26c03ed3dbdcd4068faf314eee265\", \"value of answer1_0 is not correct\"\n",
    "assert sha1(str(answer1_0).encode(\"utf-8\")+b\"5fde6\").hexdigest() == \"31e358862e2a6ac2a32c4f760a45c32d38cc5654\", \"correct string value of answer1_0 but incorrect case of letters\"\n",
    "\n",
    "print('Success!')"
   ]
  },
  {
   "cell_type": "markdown",
   "metadata": {
    "deletable": false,
    "editable": false,
    "nbgrader": {
     "cell_type": "markdown",
     "checksum": "09a6ba9973928692aedf8a56a554b1d7",
     "grade": false,
     "grade_id": "cell-cfc4be1132bff6c2",
     "locked": true,
     "schema_version": 3,
     "solution": false,
     "task": false
    }
   },
   "source": [
    "**Question 1.1** \n",
    "<br> {points: 1}\n",
    "\n",
    "Read the `world_vaccination.csv` file. We want to filter out the `(WHO) Global` region as it is just the average of the other regions (e.g. we want all of the columns except `(WHO) Global`). Also, Filter the data so that we don't have any NA's in the `pct_vaccinated` column. Assign your filtered data to an object called `world_vaccination`.\n",
    "\n",
    "*Hint: Remember that when you want to filter for rows that aren't equal to something you can use the `!=` operator.*"
   ]
  },
  {
   "cell_type": "code",
   "execution_count": null,
   "metadata": {
    "deletable": false,
    "nbgrader": {
     "cell_type": "code",
     "checksum": "5cba5503cd9a87b64795ff50b522b322",
     "grade": false,
     "grade_id": "cell-4f35092c147ceab5",
     "locked": false,
     "schema_version": 3,
     "solution": true
    }
   },
   "outputs": [],
   "source": [
    "# ___ = pd.___(___)\n",
    "# ___ = ___[___[___] != ___]\n",
    "\n",
    "# your code here\n",
    "raise NotImplementedError\n",
    "world_vaccination"
   ]
  },
  {
   "cell_type": "code",
   "execution_count": null,
   "metadata": {
    "deletable": false,
    "editable": false,
    "nbgrader": {
     "cell_type": "code",
     "checksum": "96bdba8cb3c81758af0d99645b6a6acc",
     "grade": true,
     "grade_id": "cell-4f295963a61ad122",
     "locked": true,
     "points": 1,
     "schema_version": 3,
     "solution": false
    }
   },
   "outputs": [],
   "source": [
    "from hashlib import sha1\n",
    "assert sha1(str(type(world_vaccination is None)).encode(\"utf-8\")+b\"518d4\").hexdigest() == \"73f7223d2aa4b7ccd8fca503dbfbc1fddb68e396\", \"type of world_vaccination is None is not bool. world_vaccination is None should be a bool\"\n",
    "assert sha1(str(world_vaccination is None).encode(\"utf-8\")+b\"518d4\").hexdigest() == \"e632c2012fbc255ed6c0319bb7dd0a8c6b865989\", \"boolean value of world_vaccination is None is not correct\"\n",
    "\n",
    "assert sha1(str(type(world_vaccination)).encode(\"utf-8\")+b\"518d5\").hexdigest() == \"a808d6a29a96fd0669ef1e94596a83076834985b\", \"type of type(world_vaccination) is not correct\"\n",
    "\n",
    "assert sha1(str(type(world_vaccination.isna().sum().values)).encode(\"utf-8\")+b\"518d6\").hexdigest() == \"951f6fbfeb16e173899d5de4ad087be52be9a383\", \"type of world_vaccination.isna().sum().values is not correct\"\n",
    "assert sha1(str(world_vaccination.isna().sum().values).encode(\"utf-8\")+b\"518d6\").hexdigest() == \"8ea785738bd8787b4e253e5367da73ffa24c0239\", \"value of world_vaccination.isna().sum().values is not correct\"\n",
    "\n",
    "assert sha1(str(type(world_vaccination.shape)).encode(\"utf-8\")+b\"518d7\").hexdigest() == \"25f8ea258dcb3d65feaade6dda1d26d90a66d5bb\", \"type of world_vaccination.shape is not tuple. world_vaccination.shape should be a tuple\"\n",
    "assert sha1(str(len(world_vaccination.shape)).encode(\"utf-8\")+b\"518d7\").hexdigest() == \"b669c607df5fe0c5105f1f6bce4c59b2ec7b3295\", \"length of world_vaccination.shape is not correct\"\n",
    "assert sha1(str(sorted(map(str, world_vaccination.shape))).encode(\"utf-8\")+b\"518d7\").hexdigest() == \"45682513e67a084477d0d98670894a584a84302e\", \"values of world_vaccination.shape are not correct\"\n",
    "assert sha1(str(world_vaccination.shape).encode(\"utf-8\")+b\"518d7\").hexdigest() == \"810484c8fe58d7807ad41b611c4018fa0c958934\", \"order of elements of world_vaccination.shape is not correct\"\n",
    "\n",
    "assert sha1(str(type(round(sum(world_vaccination.yr), 2))).encode(\"utf-8\")+b\"518d8\").hexdigest() == \"fbc6b5bb4ec1cde9e80f0839e4a5e76e7f72b4f0\", \"type of round(sum(world_vaccination.yr), 2) is not int. Please make sure it is int and not np.int64, etc. You can cast your value into an int using int()\"\n",
    "assert sha1(str(round(sum(world_vaccination.yr), 2)).encode(\"utf-8\")+b\"518d8\").hexdigest() == \"f9ba93796488db022b1b0f20636a39cb8e16f346\", \"value of round(sum(world_vaccination.yr), 2) is not correct\"\n",
    "\n",
    "print('Success!')"
   ]
  },
  {
   "cell_type": "markdown",
   "metadata": {
    "deletable": false,
    "editable": false,
    "nbgrader": {
     "cell_type": "markdown",
     "checksum": "7fd0ffd5c0b4ba62165ca16ed24b0f7a",
     "grade": false,
     "grade_id": "cell-b246d38affa1166f",
     "locked": true,
     "schema_version": 3,
     "solution": false
    }
   },
   "source": [
    "**Question 1.2** \n",
    "<br> {points: 1}\n",
    "\n",
    "Create a scatter plot of the percentage of people vaccinated (y-axis) against year (x-axis) for all the regions in `world_vaccination`. Make sure to label your axes with human readable labels. If you use the `alt.X()` method, you can set `scale=alt.Scale(zero=False)`.\n",
    "\n",
    "*Assign your plot to an object called `world_vacc_plot`*."
   ]
  },
  {
   "cell_type": "code",
   "execution_count": null,
   "metadata": {
    "deletable": false,
    "nbgrader": {
     "cell_type": "code",
     "checksum": "b35ed5d140876e97dc5bf58e011e3577",
     "grade": false,
     "grade_id": "cell-31e847db6b64c666",
     "locked": false,
     "schema_version": 3,
     "solution": true
    }
   },
   "outputs": [],
   "source": [
    "# your code here\n",
    "raise NotImplementedError\n",
    "world_vacc_plot"
   ]
  },
  {
   "cell_type": "code",
   "execution_count": null,
   "metadata": {
    "deletable": false,
    "editable": false,
    "nbgrader": {
     "cell_type": "code",
     "checksum": "0e981df074717fbe3986a49f3273cf14",
     "grade": true,
     "grade_id": "cell-56bc18a4d58208c4",
     "locked": true,
     "points": 1,
     "schema_version": 3,
     "solution": false
    }
   },
   "outputs": [],
   "source": [
    "from hashlib import sha1\n",
    "assert sha1(str(type(world_vacc_plot is None)).encode(\"utf-8\")+b\"4e91b\").hexdigest() == \"3df1fa6ab4b30709e57b06955d2f5bfcf7221ed4\", \"type of world_vacc_plot is None is not bool. world_vacc_plot is None should be a bool\"\n",
    "assert sha1(str(world_vacc_plot is None).encode(\"utf-8\")+b\"4e91b\").hexdigest() == \"abc0e7aef17908840bf79eed2e3502a4d7e1d051\", \"boolean value of world_vacc_plot is None is not correct\"\n",
    "\n",
    "assert sha1(str(type(world_vacc_plot.encoding.x['shorthand'])).encode(\"utf-8\")+b\"4e91c\").hexdigest() == \"956ffc4d8d35a0ec4f77817da6d2c0dfec7cebb0\", \"type of world_vacc_plot.encoding.x['shorthand'] is not str. world_vacc_plot.encoding.x['shorthand'] should be an str\"\n",
    "assert sha1(str(len(world_vacc_plot.encoding.x['shorthand'])).encode(\"utf-8\")+b\"4e91c\").hexdigest() == \"2aeda962689e415bbb91450e5e9691dc879657b8\", \"length of world_vacc_plot.encoding.x['shorthand'] is not correct\"\n",
    "assert sha1(str(world_vacc_plot.encoding.x['shorthand'].lower()).encode(\"utf-8\")+b\"4e91c\").hexdigest() == \"0d617979a8f0d2486130e056045a4d8fa327e976\", \"value of world_vacc_plot.encoding.x['shorthand'] is not correct\"\n",
    "assert sha1(str(world_vacc_plot.encoding.x['shorthand']).encode(\"utf-8\")+b\"4e91c\").hexdigest() == \"0d617979a8f0d2486130e056045a4d8fa327e976\", \"correct string value of world_vacc_plot.encoding.x['shorthand'] but incorrect case of letters\"\n",
    "\n",
    "assert sha1(str(type(world_vacc_plot.encoding.y['shorthand'])).encode(\"utf-8\")+b\"4e91d\").hexdigest() == \"7ab6f799e37f6b215e0e4186f0ddfd6b1353f656\", \"type of world_vacc_plot.encoding.y['shorthand'] is not str. world_vacc_plot.encoding.y['shorthand'] should be an str\"\n",
    "assert sha1(str(len(world_vacc_plot.encoding.y['shorthand'])).encode(\"utf-8\")+b\"4e91d\").hexdigest() == \"4a4a1c6ed287f360199c521902d9ecd3b80a7bf2\", \"length of world_vacc_plot.encoding.y['shorthand'] is not correct\"\n",
    "assert sha1(str(world_vacc_plot.encoding.y['shorthand'].lower()).encode(\"utf-8\")+b\"4e91d\").hexdigest() == \"1561fb8c34607ad605767dbc6abc0adf9dc110df\", \"value of world_vacc_plot.encoding.y['shorthand'] is not correct\"\n",
    "assert sha1(str(world_vacc_plot.encoding.y['shorthand']).encode(\"utf-8\")+b\"4e91d\").hexdigest() == \"1561fb8c34607ad605767dbc6abc0adf9dc110df\", \"correct string value of world_vacc_plot.encoding.y['shorthand'] but incorrect case of letters\"\n",
    "\n",
    "assert sha1(str(type(world_vacc_plot.mark)).encode(\"utf-8\")+b\"4e91e\").hexdigest() == \"f43b353b358ed32cfe2d31a3f349b918e4322c3f\", \"type of world_vacc_plot.mark is not str. world_vacc_plot.mark should be an str\"\n",
    "assert sha1(str(len(world_vacc_plot.mark)).encode(\"utf-8\")+b\"4e91e\").hexdigest() == \"8db5a7225b9c5a5f1aae79d870923a878e495fc7\", \"length of world_vacc_plot.mark is not correct\"\n",
    "assert sha1(str(world_vacc_plot.mark.lower()).encode(\"utf-8\")+b\"4e91e\").hexdigest() == \"5b8bfa35a89739d158134a8e296197ba85f2a248\", \"value of world_vacc_plot.mark is not correct\"\n",
    "assert sha1(str(world_vacc_plot.mark).encode(\"utf-8\")+b\"4e91e\").hexdigest() == \"5b8bfa35a89739d158134a8e296197ba85f2a248\", \"correct string value of world_vacc_plot.mark but incorrect case of letters\"\n",
    "\n",
    "assert sha1(str(type(isinstance(world_vacc_plot.encoding.x['title'], str))).encode(\"utf-8\")+b\"4e91f\").hexdigest() == \"da038012a16e3cb57926fbd5001c73d09cb7c24a\", \"type of isinstance(world_vacc_plot.encoding.x['title'], str) is not bool. isinstance(world_vacc_plot.encoding.x['title'], str) should be a bool\"\n",
    "assert sha1(str(isinstance(world_vacc_plot.encoding.x['title'], str)).encode(\"utf-8\")+b\"4e91f\").hexdigest() == \"a5a0d715774551c5f0b3ef77a32629f785f79a85\", \"boolean value of isinstance(world_vacc_plot.encoding.x['title'], str) is not correct\"\n",
    "\n",
    "assert sha1(str(type(isinstance(world_vacc_plot.encoding.y['title'], str))).encode(\"utf-8\")+b\"4e920\").hexdigest() == \"20d1bfb72edd6d641a1f66d4c018cc3276dfc2c4\", \"type of isinstance(world_vacc_plot.encoding.y['title'], str) is not bool. isinstance(world_vacc_plot.encoding.y['title'], str) should be a bool\"\n",
    "assert sha1(str(isinstance(world_vacc_plot.encoding.y['title'], str)).encode(\"utf-8\")+b\"4e920\").hexdigest() == \"6e685148f4c5dbd43062179fc57ebcc66f23440e\", \"boolean value of isinstance(world_vacc_plot.encoding.y['title'], str) is not correct\"\n",
    "\n",
    "print('Success!')"
   ]
  },
  {
   "cell_type": "markdown",
   "metadata": {
    "deletable": false,
    "editable": false,
    "nbgrader": {
     "cell_type": "markdown",
     "checksum": "1a9b21e4027dd39dfdd817025788e87b",
     "grade": false,
     "grade_id": "cell-9df6590ba88a1529",
     "locked": true,
     "schema_version": 3,
     "solution": false
    }
   },
   "source": [
    "**Question 1.3** Multiple Choice:\n",
    "<br> {points: 1}\n",
    "\n",
    "Now that we see how the percentage of people vaccinated with each of these vaccines varies over time, we should now start to look if there is a difference between the percentage vaccinated between the two different diseases. What should we do next to compare the differences (if they exist) most effectively?\n",
    "\n",
    "A. Filter the data by the type of vaccine and make two separate plots\n",
    "\n",
    "B. Colour the data by the type of vaccine\n",
    "\n",
    "C. Have a different shaped \"dot\"/point for each type of vaccine\n",
    "\n",
    "D. Colour the data by the type of vaccine, and have a different shaped \"dot\"/point for each type of vaccine\n",
    "\n",
    "*Assign your answer to an object called `answer1_3`. Make sure your answer is an uppercase letter and is surrounded by quotation marks (e.g. `\"F\"`).*"
   ]
  },
  {
   "cell_type": "code",
   "execution_count": null,
   "metadata": {
    "deletable": false,
    "nbgrader": {
     "cell_type": "code",
     "checksum": "1a4ee42773333ed25db09f48d79057cf",
     "grade": false,
     "grade_id": "cell-eff4b83a3aa5ecd4",
     "locked": false,
     "schema_version": 3,
     "solution": true
    }
   },
   "outputs": [],
   "source": [
    "# your code here\n",
    "raise NotImplementedError"
   ]
  },
  {
   "cell_type": "code",
   "execution_count": null,
   "metadata": {
    "deletable": false,
    "editable": false,
    "nbgrader": {
     "cell_type": "code",
     "checksum": "e5933c91a75f964a0e883bd2b6de4e3a",
     "grade": true,
     "grade_id": "cell-de1ed1a45f987cbd",
     "locked": true,
     "points": 1,
     "schema_version": 3,
     "solution": false
    }
   },
   "outputs": [],
   "source": [
    "from hashlib import sha1\n",
    "assert sha1(str(type(answer1_3)).encode(\"utf-8\")+b\"52c81\").hexdigest() == \"37724fb5868d97203a5a483c8ce0b1caef59d58e\", \"type of answer1_3 is not str. answer1_3 should be an str\"\n",
    "assert sha1(str(len(answer1_3)).encode(\"utf-8\")+b\"52c81\").hexdigest() == \"9408ee65d0d1d5f2248ef5b5782d8a5f37b7b58f\", \"length of answer1_3 is not correct\"\n",
    "assert sha1(str(answer1_3.lower()).encode(\"utf-8\")+b\"52c81\").hexdigest() == \"83707a2170cf842f29278f23c9241f73ec8fddf0\", \"value of answer1_3 is not correct\"\n",
    "assert sha1(str(answer1_3).encode(\"utf-8\")+b\"52c81\").hexdigest() == \"c9c5429913f4b97e11a978695469f95b9d0a6c96\", \"correct string value of answer1_3 but incorrect case of letters\"\n",
    "\n",
    "print('Success!')"
   ]
  },
  {
   "cell_type": "markdown",
   "metadata": {
    "deletable": false,
    "editable": false,
    "nbgrader": {
     "cell_type": "markdown",
     "checksum": "171da237c1b314efaded4395d5e37eb2",
     "grade": false,
     "grade_id": "cell-a0d78ab0948d478b",
     "locked": true,
     "schema_version": 3,
     "solution": false
    }
   },
   "source": [
    "**Question 1.4**\n",
    "<br> {points: 1}\n",
    "\n",
    "Now that we know what to do next to compare the differences effectively, let's do it. Start by copying your code from **Question 1.2**. Next, add a `color` and `shape` encoding objects inside of the `.encode` function to map `vaccine` to colour and shape. Finally, make sure you change *all* the axes and legends so they have nicely formatted, human-readable labels and set the title font size of the axes to 12. \n",
    "\n",
    "\n",
    "*Assign your answer to an object called `compare_vacc_plot` and check the textbook chapter for how to use the `configure_axis` method to adjust the axis title size.*"
   ]
  },
  {
   "cell_type": "code",
   "execution_count": null,
   "metadata": {
    "deletable": false,
    "nbgrader": {
     "cell_type": "code",
     "checksum": "c4d435373b53a1b2e438d7e2f96c7aad",
     "grade": false,
     "grade_id": "cell-374fd332fce06441",
     "locked": false,
     "schema_version": 3,
     "solution": true
    },
    "tags": []
   },
   "outputs": [],
   "source": [
    "# your code here\n",
    "raise NotImplementedError\n",
    "\n",
    "compare_vacc_plot"
   ]
  },
  {
   "cell_type": "code",
   "execution_count": null,
   "metadata": {
    "deletable": false,
    "editable": false,
    "nbgrader": {
     "cell_type": "code",
     "checksum": "33070647a081538c173d7e77d6c4671f",
     "grade": true,
     "grade_id": "cell-d644f60d1f60a559",
     "locked": true,
     "points": 1,
     "schema_version": 3,
     "solution": false
    }
   },
   "outputs": [],
   "source": [
    "from hashlib import sha1\n",
    "assert sha1(str(type(compare_vacc_plot is None)).encode(\"utf-8\")+b\"e9d46\").hexdigest() == \"c1cc05f27e803c2cc765bcea513090cd98adb09f\", \"type of compare_vacc_plot is None is not bool. compare_vacc_plot is None should be a bool\"\n",
    "assert sha1(str(compare_vacc_plot is None).encode(\"utf-8\")+b\"e9d46\").hexdigest() == \"456b1ad45cbf8a2f22a3b2155f0de76ab8bb6fd9\", \"boolean value of compare_vacc_plot is None is not correct\"\n",
    "\n",
    "assert sha1(str(type(compare_vacc_plot.encoding.x['shorthand'])).encode(\"utf-8\")+b\"e9d47\").hexdigest() == \"c7f0e2fd011e044c307b8449f3de770ecb269b1c\", \"type of compare_vacc_plot.encoding.x['shorthand'] is not str. compare_vacc_plot.encoding.x['shorthand'] should be an str\"\n",
    "assert sha1(str(len(compare_vacc_plot.encoding.x['shorthand'])).encode(\"utf-8\")+b\"e9d47\").hexdigest() == \"7bf3741198ed12b2e84e6be88d5182164017be54\", \"length of compare_vacc_plot.encoding.x['shorthand'] is not correct\"\n",
    "assert sha1(str(compare_vacc_plot.encoding.x['shorthand'].lower()).encode(\"utf-8\")+b\"e9d47\").hexdigest() == \"5591dfbd81099e17379a522ac01f1c3a04e4ca23\", \"value of compare_vacc_plot.encoding.x['shorthand'] is not correct\"\n",
    "assert sha1(str(compare_vacc_plot.encoding.x['shorthand']).encode(\"utf-8\")+b\"e9d47\").hexdigest() == \"5591dfbd81099e17379a522ac01f1c3a04e4ca23\", \"correct string value of compare_vacc_plot.encoding.x['shorthand'] but incorrect case of letters\"\n",
    "\n",
    "assert sha1(str(type(compare_vacc_plot.encoding.y['shorthand'])).encode(\"utf-8\")+b\"e9d48\").hexdigest() == \"c3c7fc33dab2a3c7a4d2d2ba68de70fb94ec473a\", \"type of compare_vacc_plot.encoding.y['shorthand'] is not str. compare_vacc_plot.encoding.y['shorthand'] should be an str\"\n",
    "assert sha1(str(len(compare_vacc_plot.encoding.y['shorthand'])).encode(\"utf-8\")+b\"e9d48\").hexdigest() == \"2b8b2dd90a505c14d250d65305d1bb878b2fcf0f\", \"length of compare_vacc_plot.encoding.y['shorthand'] is not correct\"\n",
    "assert sha1(str(compare_vacc_plot.encoding.y['shorthand'].lower()).encode(\"utf-8\")+b\"e9d48\").hexdigest() == \"1b8d88dc4b65a6b9a3ae896820eae5bf7aea81f3\", \"value of compare_vacc_plot.encoding.y['shorthand'] is not correct\"\n",
    "assert sha1(str(compare_vacc_plot.encoding.y['shorthand']).encode(\"utf-8\")+b\"e9d48\").hexdigest() == \"1b8d88dc4b65a6b9a3ae896820eae5bf7aea81f3\", \"correct string value of compare_vacc_plot.encoding.y['shorthand'] but incorrect case of letters\"\n",
    "\n",
    "assert sha1(str(type(compare_vacc_plot.encoding.color['shorthand'])).encode(\"utf-8\")+b\"e9d49\").hexdigest() == \"e56376964678f5bbc9e57c21ba0b37527083fc45\", \"type of compare_vacc_plot.encoding.color['shorthand'] is not str. compare_vacc_plot.encoding.color['shorthand'] should be an str\"\n",
    "assert sha1(str(len(compare_vacc_plot.encoding.color['shorthand'])).encode(\"utf-8\")+b\"e9d49\").hexdigest() == \"87fefe1bc64cf83ca9701ab6c2a5f52cb247eae0\", \"length of compare_vacc_plot.encoding.color['shorthand'] is not correct\"\n",
    "assert sha1(str(compare_vacc_plot.encoding.color['shorthand'].lower()).encode(\"utf-8\")+b\"e9d49\").hexdigest() == \"f8ef34439814db2c9fa68ae4e4fb6892416f0cbc\", \"value of compare_vacc_plot.encoding.color['shorthand'] is not correct\"\n",
    "assert sha1(str(compare_vacc_plot.encoding.color['shorthand']).encode(\"utf-8\")+b\"e9d49\").hexdigest() == \"f8ef34439814db2c9fa68ae4e4fb6892416f0cbc\", \"correct string value of compare_vacc_plot.encoding.color['shorthand'] but incorrect case of letters\"\n",
    "\n",
    "assert sha1(str(type(compare_vacc_plot.encoding.shape['shorthand'])).encode(\"utf-8\")+b\"e9d4a\").hexdigest() == \"4558ace6e36dd7152700b6ddf0f4e603ca5a5230\", \"type of compare_vacc_plot.encoding.shape['shorthand'] is not str. compare_vacc_plot.encoding.shape['shorthand'] should be an str\"\n",
    "assert sha1(str(len(compare_vacc_plot.encoding.shape['shorthand'])).encode(\"utf-8\")+b\"e9d4a\").hexdigest() == \"0ca6b241b2fdfc1623e0bd0966abef412d6dad5e\", \"length of compare_vacc_plot.encoding.shape['shorthand'] is not correct\"\n",
    "assert sha1(str(compare_vacc_plot.encoding.shape['shorthand'].lower()).encode(\"utf-8\")+b\"e9d4a\").hexdigest() == \"3e2cf7e8a15b5035a8d474fd306194ee28356375\", \"value of compare_vacc_plot.encoding.shape['shorthand'] is not correct\"\n",
    "assert sha1(str(compare_vacc_plot.encoding.shape['shorthand']).encode(\"utf-8\")+b\"e9d4a\").hexdigest() == \"3e2cf7e8a15b5035a8d474fd306194ee28356375\", \"correct string value of compare_vacc_plot.encoding.shape['shorthand'] but incorrect case of letters\"\n",
    "\n",
    "assert sha1(str(type(compare_vacc_plot.mark)).encode(\"utf-8\")+b\"e9d4b\").hexdigest() == \"99ccccdb91cbb25161d04667388c9763b7a3e6fe\", \"type of compare_vacc_plot.mark is not str. compare_vacc_plot.mark should be an str\"\n",
    "assert sha1(str(len(compare_vacc_plot.mark)).encode(\"utf-8\")+b\"e9d4b\").hexdigest() == \"edb908b38442e107d85dda81aa94457dd6afe1da\", \"length of compare_vacc_plot.mark is not correct\"\n",
    "assert sha1(str(compare_vacc_plot.mark.lower()).encode(\"utf-8\")+b\"e9d4b\").hexdigest() == \"9ebd350dd39464c955d61935b5de7278213c3617\", \"value of compare_vacc_plot.mark is not correct\"\n",
    "assert sha1(str(compare_vacc_plot.mark).encode(\"utf-8\")+b\"e9d4b\").hexdigest() == \"9ebd350dd39464c955d61935b5de7278213c3617\", \"correct string value of compare_vacc_plot.mark but incorrect case of letters\"\n",
    "\n",
    "assert sha1(str(type(isinstance(compare_vacc_plot.encoding.x['title'], str))).encode(\"utf-8\")+b\"e9d4c\").hexdigest() == \"b9cd441b5826382c39f73f2e2a959f4bee0a6081\", \"type of isinstance(compare_vacc_plot.encoding.x['title'], str) is not bool. isinstance(compare_vacc_plot.encoding.x['title'], str) should be a bool\"\n",
    "assert sha1(str(isinstance(compare_vacc_plot.encoding.x['title'], str)).encode(\"utf-8\")+b\"e9d4c\").hexdigest() == \"a80f6b7d844137dc26fbab5de2d2d77dc878e298\", \"boolean value of isinstance(compare_vacc_plot.encoding.x['title'], str) is not correct\"\n",
    "\n",
    "assert sha1(str(type(isinstance(compare_vacc_plot.encoding.y['title'], str))).encode(\"utf-8\")+b\"e9d4d\").hexdigest() == \"c6c8e622df4fbaa02ad39d7a76fbb1a308ebcf17\", \"type of isinstance(compare_vacc_plot.encoding.y['title'], str) is not bool. isinstance(compare_vacc_plot.encoding.y['title'], str) should be a bool\"\n",
    "assert sha1(str(isinstance(compare_vacc_plot.encoding.y['title'], str)).encode(\"utf-8\")+b\"e9d4d\").hexdigest() == \"204dbd1e93425d8c02acf094a42a1df3042711ef\", \"boolean value of isinstance(compare_vacc_plot.encoding.y['title'], str) is not correct\"\n",
    "\n",
    "assert sha1(str(type(compare_vacc_plot.config.axis.titleFontSize)).encode(\"utf-8\")+b\"e9d4e\").hexdigest() == \"fe1665f5b28b8b1aa6c6c4325100c2af1adb1355\", \"type of compare_vacc_plot.config.axis.titleFontSize is not int. Please make sure it is int and not np.int64, etc. You can cast your value into an int using int()\"\n",
    "assert sha1(str(compare_vacc_plot.config.axis.titleFontSize).encode(\"utf-8\")+b\"e9d4e\").hexdigest() == \"3c86184330575da1e2c418f719241464d052fc47\", \"value of compare_vacc_plot.config.axis.titleFontSize is not correct\"\n",
    "\n",
    "print('Success!')"
   ]
  },
  {
   "cell_type": "markdown",
   "metadata": {
    "deletable": false,
    "editable": false,
    "nbgrader": {
     "cell_type": "markdown",
     "checksum": "3d5bcb3e1ed0481bb9388217b23d2490",
     "grade": false,
     "grade_id": "cell-f4cb0b4284167707",
     "locked": true,
     "schema_version": 3,
     "solution": false,
     "task": false
    }
   },
   "source": [
    "Now we see that although the dates where the percentage vaccinated became > 0 for each vaccine type started out in different years, they both increased at similar rates and are currently resting at about the same amount of percentage vaccinated. There is some variation that still exists in the data however, and perhaps that could be attributed to geographical region? Let's create some more visualizations to see if that is indeed the case!\n",
    "\n",
    "To get started, let's focus on the Polio vaccine data, and then we'll look at both together."
   ]
  },
  {
   "cell_type": "markdown",
   "metadata": {
    "deletable": false,
    "editable": false,
    "nbgrader": {
     "cell_type": "markdown",
     "checksum": "cc86ac034faa2f43086a9ff0f207d3c0",
     "grade": false,
     "grade_id": "cell-88236b86419d60b7",
     "locked": true,
     "schema_version": 3,
     "solution": false
    }
   },
   "source": [
    "**Question 1.5**\n",
    "<br> {points: 1}\n",
    "\n",
    "Create a data frame object named `polio` that contains only the rows where the `vaccine` is `\"polio\"`:"
   ]
  },
  {
   "cell_type": "code",
   "execution_count": null,
   "metadata": {
    "deletable": false,
    "nbgrader": {
     "cell_type": "code",
     "checksum": "c237ccc677406fbf467d4da15478dc12",
     "grade": false,
     "grade_id": "cell-e3ea1eaccfcdb529",
     "locked": false,
     "schema_version": 3,
     "solution": true
    }
   },
   "outputs": [],
   "source": [
    "# your code here\n",
    "raise NotImplementedError\n",
    "polio"
   ]
  },
  {
   "cell_type": "code",
   "execution_count": null,
   "metadata": {
    "deletable": false,
    "editable": false,
    "nbgrader": {
     "cell_type": "code",
     "checksum": "46a13086e1033e2679f95af88ccc4c3a",
     "grade": true,
     "grade_id": "cell-96b08ba246959d81",
     "locked": true,
     "points": 1,
     "schema_version": 3,
     "solution": false
    }
   },
   "outputs": [],
   "source": [
    "from hashlib import sha1\n",
    "assert sha1(str(type(polio is None)).encode(\"utf-8\")+b\"b8413\").hexdigest() == \"9eb19e08327fa7136e9921f0e1954fadb29a0a80\", \"type of polio is None is not bool. polio is None should be a bool\"\n",
    "assert sha1(str(polio is None).encode(\"utf-8\")+b\"b8413\").hexdigest() == \"396866d2f7a47c6536f52c3446d32a1a40caf2bb\", \"boolean value of polio is None is not correct\"\n",
    "\n",
    "assert sha1(str(type(polio.vaccine.unique()[0])).encode(\"utf-8\")+b\"b8414\").hexdigest() == \"f02c172d3e1e3bcfcfe2d3adaf9347addceb5176\", \"type of polio.vaccine.unique()[0] is not str. polio.vaccine.unique()[0] should be an str\"\n",
    "assert sha1(str(len(polio.vaccine.unique()[0])).encode(\"utf-8\")+b\"b8414\").hexdigest() == \"377b3fde720073717c070ea794958d4b6fd4854b\", \"length of polio.vaccine.unique()[0] is not correct\"\n",
    "assert sha1(str(polio.vaccine.unique()[0].lower()).encode(\"utf-8\")+b\"b8414\").hexdigest() == \"29e54df175cbf7f857b53ca94efe14c3d12562f6\", \"value of polio.vaccine.unique()[0] is not correct\"\n",
    "assert sha1(str(polio.vaccine.unique()[0]).encode(\"utf-8\")+b\"b8414\").hexdigest() == \"29e54df175cbf7f857b53ca94efe14c3d12562f6\", \"correct string value of polio.vaccine.unique()[0] but incorrect case of letters\"\n",
    "\n",
    "assert sha1(str(type(polio.shape)).encode(\"utf-8\")+b\"b8415\").hexdigest() == \"3de6b7e9e7aa4c87f91116c6191760b066bd202d\", \"type of polio.shape is not tuple. polio.shape should be a tuple\"\n",
    "assert sha1(str(len(polio.shape)).encode(\"utf-8\")+b\"b8415\").hexdigest() == \"f4eb5691c51d630264ee31f97ae9da9a92150f50\", \"length of polio.shape is not correct\"\n",
    "assert sha1(str(sorted(map(str, polio.shape))).encode(\"utf-8\")+b\"b8415\").hexdigest() == \"0ab989b91b51d255e39892116b377e0e7cd17536\", \"values of polio.shape are not correct\"\n",
    "assert sha1(str(polio.shape).encode(\"utf-8\")+b\"b8415\").hexdigest() == \"8c83e2e171ffa5c6f4fe6fc52c65edf401727b11\", \"order of elements of polio.shape is not correct\"\n",
    "\n",
    "assert sha1(str(type(round(sum(polio.pct_vaccinated), 2))).encode(\"utf-8\")+b\"b8416\").hexdigest() == \"325cc5e6bb0a4c918064395b75d31073ae1ffe89\", \"type of round(sum(polio.pct_vaccinated), 2) is not float. Please make sure it is float and not np.float64, etc. You can cast your value into a float using float()\"\n",
    "assert sha1(str(round(round(sum(polio.pct_vaccinated), 2), 2)).encode(\"utf-8\")+b\"b8416\").hexdigest() == \"78c71ffd031dc40fab68b9fdd484bf73a65b78ea\", \"value of round(sum(polio.pct_vaccinated), 2) is not correct (rounded to 2 decimal places)\"\n",
    "\n",
    "print('Success!')"
   ]
  },
  {
   "cell_type": "markdown",
   "metadata": {
    "deletable": false,
    "editable": false,
    "nbgrader": {
     "cell_type": "markdown",
     "checksum": "0b1c7e9e092837b4204650c817a9dd0a",
     "grade": false,
     "grade_id": "cell-a76fd8a76737dd65",
     "locked": true,
     "schema_version": 3,
     "solution": false
    }
   },
   "source": [
    "**Question 1.6**\n",
    "<br> {points: 1}\n",
    "\n",
    "Now create a scatter plot using the `polio` data where percentage vaccinated is on the y-axis, year is on the x-axis and each `who_region` has a different colour point, and a different shape. Name it `polio_regions`. Also set the axis title font size to 12 and the overall width of the chart to 500.\n",
    "\n",
    "*Hint: Look in the textbook chapter how to use the `properties` method to change the plot width.*"
   ]
  },
  {
   "cell_type": "code",
   "execution_count": null,
   "metadata": {
    "deletable": false,
    "nbgrader": {
     "cell_type": "code",
     "checksum": "d17512b589e0eac5ebe63e87bc5d096e",
     "grade": false,
     "grade_id": "cell-b8e28cbd972366a7",
     "locked": false,
     "schema_version": 3,
     "solution": true
    }
   },
   "outputs": [],
   "source": [
    "# your code here\n",
    "raise NotImplementedError\n",
    "polio_regions"
   ]
  },
  {
   "cell_type": "code",
   "execution_count": null,
   "metadata": {
    "deletable": false,
    "editable": false,
    "nbgrader": {
     "cell_type": "code",
     "checksum": "11ed7c3ccc4d157f63cde95da6160e84",
     "grade": true,
     "grade_id": "cell-80a368c34a543e78",
     "locked": true,
     "points": 1,
     "schema_version": 3,
     "solution": false
    }
   },
   "outputs": [],
   "source": [
    "from hashlib import sha1\n",
    "assert sha1(str(type(polio_regions is None)).encode(\"utf-8\")+b\"9f28c\").hexdigest() == \"27b697f8a6ea1566d7fb5dfc25dd123a5d5ea8bc\", \"type of polio_regions is None is not bool. polio_regions is None should be a bool\"\n",
    "assert sha1(str(polio_regions is None).encode(\"utf-8\")+b\"9f28c\").hexdigest() == \"9b38d085be11542be01af603b74e2cb983c09dfe\", \"boolean value of polio_regions is None is not correct\"\n",
    "\n",
    "assert sha1(str(type(polio_regions.encoding.x['shorthand'])).encode(\"utf-8\")+b\"9f28d\").hexdigest() == \"6b74f81409330cd736b93c0605031cc8cb617992\", \"type of polio_regions.encoding.x['shorthand'] is not str. polio_regions.encoding.x['shorthand'] should be an str\"\n",
    "assert sha1(str(len(polio_regions.encoding.x['shorthand'])).encode(\"utf-8\")+b\"9f28d\").hexdigest() == \"1d63f317f586292ef143af6f46b0c682cd869662\", \"length of polio_regions.encoding.x['shorthand'] is not correct\"\n",
    "assert sha1(str(polio_regions.encoding.x['shorthand'].lower()).encode(\"utf-8\")+b\"9f28d\").hexdigest() == \"ed675c0aaa57f000209630eb5737a53c22766794\", \"value of polio_regions.encoding.x['shorthand'] is not correct\"\n",
    "assert sha1(str(polio_regions.encoding.x['shorthand']).encode(\"utf-8\")+b\"9f28d\").hexdigest() == \"ed675c0aaa57f000209630eb5737a53c22766794\", \"correct string value of polio_regions.encoding.x['shorthand'] but incorrect case of letters\"\n",
    "\n",
    "assert sha1(str(type(polio_regions.encoding.y['shorthand'])).encode(\"utf-8\")+b\"9f28e\").hexdigest() == \"424de52bd073fdea6b086d76cb9cdf6804dc6dcf\", \"type of polio_regions.encoding.y['shorthand'] is not str. polio_regions.encoding.y['shorthand'] should be an str\"\n",
    "assert sha1(str(len(polio_regions.encoding.y['shorthand'])).encode(\"utf-8\")+b\"9f28e\").hexdigest() == \"37fb199735a7074f11aa54a06be414dbb42f0af7\", \"length of polio_regions.encoding.y['shorthand'] is not correct\"\n",
    "assert sha1(str(polio_regions.encoding.y['shorthand'].lower()).encode(\"utf-8\")+b\"9f28e\").hexdigest() == \"af484124988b3c8a855124ecaee9d9b300447658\", \"value of polio_regions.encoding.y['shorthand'] is not correct\"\n",
    "assert sha1(str(polio_regions.encoding.y['shorthand']).encode(\"utf-8\")+b\"9f28e\").hexdigest() == \"af484124988b3c8a855124ecaee9d9b300447658\", \"correct string value of polio_regions.encoding.y['shorthand'] but incorrect case of letters\"\n",
    "\n",
    "assert sha1(str(type(polio_regions.encoding.color['shorthand'])).encode(\"utf-8\")+b\"9f28f\").hexdigest() == \"0e7a40a0de40bf0034d9d3c2a51a726921828f9f\", \"type of polio_regions.encoding.color['shorthand'] is not str. polio_regions.encoding.color['shorthand'] should be an str\"\n",
    "assert sha1(str(len(polio_regions.encoding.color['shorthand'])).encode(\"utf-8\")+b\"9f28f\").hexdigest() == \"ed85ebf51c90e05e1d07d55ea29e10d8631ada19\", \"length of polio_regions.encoding.color['shorthand'] is not correct\"\n",
    "assert sha1(str(polio_regions.encoding.color['shorthand'].lower()).encode(\"utf-8\")+b\"9f28f\").hexdigest() == \"f757c9e0f20a7974d3a5057082c92a20290ea8f1\", \"value of polio_regions.encoding.color['shorthand'] is not correct\"\n",
    "assert sha1(str(polio_regions.encoding.color['shorthand']).encode(\"utf-8\")+b\"9f28f\").hexdigest() == \"f757c9e0f20a7974d3a5057082c92a20290ea8f1\", \"correct string value of polio_regions.encoding.color['shorthand'] but incorrect case of letters\"\n",
    "\n",
    "assert sha1(str(type(polio_regions.encoding.shape['shorthand'])).encode(\"utf-8\")+b\"9f290\").hexdigest() == \"ea095443004988013d4bdabe90d66037232c8bdd\", \"type of polio_regions.encoding.shape['shorthand'] is not str. polio_regions.encoding.shape['shorthand'] should be an str\"\n",
    "assert sha1(str(len(polio_regions.encoding.shape['shorthand'])).encode(\"utf-8\")+b\"9f290\").hexdigest() == \"22869c468027abb815d0d8378ef09523d6c63511\", \"length of polio_regions.encoding.shape['shorthand'] is not correct\"\n",
    "assert sha1(str(polio_regions.encoding.shape['shorthand'].lower()).encode(\"utf-8\")+b\"9f290\").hexdigest() == \"eb457da2144a29b3bd35760a32212ae12e228376\", \"value of polio_regions.encoding.shape['shorthand'] is not correct\"\n",
    "assert sha1(str(polio_regions.encoding.shape['shorthand']).encode(\"utf-8\")+b\"9f290\").hexdigest() == \"eb457da2144a29b3bd35760a32212ae12e228376\", \"correct string value of polio_regions.encoding.shape['shorthand'] but incorrect case of letters\"\n",
    "\n",
    "assert sha1(str(type(polio_regions.mark)).encode(\"utf-8\")+b\"9f291\").hexdigest() == \"227120230d8fbf61083df69f5a68a1ce7cbce68d\", \"type of polio_regions.mark is not str. polio_regions.mark should be an str\"\n",
    "assert sha1(str(len(polio_regions.mark)).encode(\"utf-8\")+b\"9f291\").hexdigest() == \"f0059907afb374bd6bcb7e059ddd892372bc0dda\", \"length of polio_regions.mark is not correct\"\n",
    "assert sha1(str(polio_regions.mark.lower()).encode(\"utf-8\")+b\"9f291\").hexdigest() == \"343bfc49dafec953736294fb9995f699c3da15c0\", \"value of polio_regions.mark is not correct\"\n",
    "assert sha1(str(polio_regions.mark).encode(\"utf-8\")+b\"9f291\").hexdigest() == \"343bfc49dafec953736294fb9995f699c3da15c0\", \"correct string value of polio_regions.mark but incorrect case of letters\"\n",
    "\n",
    "assert sha1(str(type(isinstance(polio_regions.encoding.x['title'], str))).encode(\"utf-8\")+b\"9f292\").hexdigest() == \"70a0062bd974ffeee0d00480c4ac26e316f6c83e\", \"type of isinstance(polio_regions.encoding.x['title'], str) is not bool. isinstance(polio_regions.encoding.x['title'], str) should be a bool\"\n",
    "assert sha1(str(isinstance(polio_regions.encoding.x['title'], str)).encode(\"utf-8\")+b\"9f292\").hexdigest() == \"48f5ca15933f65726e9db5f0bdd3744658a88758\", \"boolean value of isinstance(polio_regions.encoding.x['title'], str) is not correct\"\n",
    "\n",
    "assert sha1(str(type(isinstance(polio_regions.encoding.y['title'], str))).encode(\"utf-8\")+b\"9f293\").hexdigest() == \"2bcfde6b9dd42819ae98fce1af8baa24dd7ce6d4\", \"type of isinstance(polio_regions.encoding.y['title'], str) is not bool. isinstance(polio_regions.encoding.y['title'], str) should be a bool\"\n",
    "assert sha1(str(isinstance(polio_regions.encoding.y['title'], str)).encode(\"utf-8\")+b\"9f293\").hexdigest() == \"3f631014c991b647f82bb2f7f6b4026d22aa1014\", \"boolean value of isinstance(polio_regions.encoding.y['title'], str) is not correct\"\n",
    "\n",
    "assert sha1(str(type(polio_regions.config.axis.titleFontSize)).encode(\"utf-8\")+b\"9f294\").hexdigest() == \"2ea01c239ef79172d8e0ed93582b7ef7128b0cde\", \"type of polio_regions.config.axis.titleFontSize is not int. Please make sure it is int and not np.int64, etc. You can cast your value into an int using int()\"\n",
    "assert sha1(str(polio_regions.config.axis.titleFontSize).encode(\"utf-8\")+b\"9f294\").hexdigest() == \"31f2e06e186b986cef1d4b53012c264fddcccc9a\", \"value of polio_regions.config.axis.titleFontSize is not correct\"\n",
    "\n",
    "assert sha1(str(type(polio_regions.config.axis.titleFontSize)).encode(\"utf-8\")+b\"9f295\").hexdigest() == \"c9d0e38e78066305c74711044f7677ea23483808\", \"type of polio_regions.config.axis.titleFontSize is not int. Please make sure it is int and not np.int64, etc. You can cast your value into an int using int()\"\n",
    "assert sha1(str(polio_regions.config.axis.titleFontSize).encode(\"utf-8\")+b\"9f295\").hexdigest() == \"cbf5b6c8e6dfb7c3e3710beee8c194eeee485294\", \"value of polio_regions.config.axis.titleFontSize is not correct\"\n",
    "\n",
    "assert sha1(str(type(polio_regions.width)).encode(\"utf-8\")+b\"9f296\").hexdigest() == \"bb71e39f7a43fad508176dd026ed7e56516420eb\", \"type of polio_regions.width is not int. Please make sure it is int and not np.int64, etc. You can cast your value into an int using int()\"\n",
    "assert sha1(str(polio_regions.width).encode(\"utf-8\")+b\"9f296\").hexdigest() == \"8b5e870339efc7fe04194dd80f236db702eaeca4\", \"value of polio_regions.width is not correct\"\n",
    "\n",
    "print('Success!')"
   ]
  },
  {
   "cell_type": "markdown",
   "metadata": {
    "deletable": false,
    "editable": false,
    "nbgrader": {
     "cell_type": "markdown",
     "checksum": "0ed80e3d83719e2a0ec75cda6024077f",
     "grade": false,
     "grade_id": "cell-78cdf142395d1696",
     "locked": true,
     "schema_version": 3,
     "solution": false
    }
   },
   "source": [
    "**Question 1.7**\n",
    "<br> {points: 1}\n",
    "\n",
    "Although when we have multiple groups, it's easier for us to see the differences when we change point colour and shape, at some point there are too many groups to keep things straight. We are approaching that on the plot above, and so we need to do something different. One thing we could try is to change the point to a line to reduce the noise/chaos of the plot above. We would also not have a shape encoding in the line plot, but keep the rest of the code the same. Do that in the cell below and name the plot object `polio_regions_line`."
   ]
  },
  {
   "cell_type": "code",
   "execution_count": null,
   "metadata": {
    "deletable": false,
    "nbgrader": {
     "cell_type": "code",
     "checksum": "31ea5e2ddd1de94aca76593791261a1d",
     "grade": false,
     "grade_id": "cell-c803221869b8ae00",
     "locked": false,
     "schema_version": 3,
     "solution": true
    }
   },
   "outputs": [],
   "source": [
    "# your code here\n",
    "raise NotImplementedError\n",
    "polio_regions_line"
   ]
  },
  {
   "cell_type": "code",
   "execution_count": null,
   "metadata": {
    "deletable": false,
    "editable": false,
    "nbgrader": {
     "cell_type": "code",
     "checksum": "c42f8f97d8c1e1c13405012ad9d2ba3a",
     "grade": true,
     "grade_id": "cell-9bc60c906bcd60b3",
     "locked": true,
     "points": 1,
     "schema_version": 3,
     "solution": false
    }
   },
   "outputs": [],
   "source": [
    "from hashlib import sha1\n",
    "assert sha1(str(type(polio_regions_line is None)).encode(\"utf-8\")+b\"b1087\").hexdigest() == \"3c032161c99a75345b951bee711e2f7a0886754f\", \"type of polio_regions_line is None is not bool. polio_regions_line is None should be a bool\"\n",
    "assert sha1(str(polio_regions_line is None).encode(\"utf-8\")+b\"b1087\").hexdigest() == \"0b65f7140ed8e0d1518397f04383612e1bc6c49f\", \"boolean value of polio_regions_line is None is not correct\"\n",
    "\n",
    "assert sha1(str(type(polio_regions_line.encoding.x['shorthand'])).encode(\"utf-8\")+b\"b1088\").hexdigest() == \"cedf10f4bec98488052e104e66363715eaefc9c2\", \"type of polio_regions_line.encoding.x['shorthand'] is not str. polio_regions_line.encoding.x['shorthand'] should be an str\"\n",
    "assert sha1(str(len(polio_regions_line.encoding.x['shorthand'])).encode(\"utf-8\")+b\"b1088\").hexdigest() == \"13506b7d945f2d8c2f40f6666fe12099d2085db2\", \"length of polio_regions_line.encoding.x['shorthand'] is not correct\"\n",
    "assert sha1(str(polio_regions_line.encoding.x['shorthand'].lower()).encode(\"utf-8\")+b\"b1088\").hexdigest() == \"bc3b89ec9a3c4c8a52f50f26aa5c7cf88065373d\", \"value of polio_regions_line.encoding.x['shorthand'] is not correct\"\n",
    "assert sha1(str(polio_regions_line.encoding.x['shorthand']).encode(\"utf-8\")+b\"b1088\").hexdigest() == \"bc3b89ec9a3c4c8a52f50f26aa5c7cf88065373d\", \"correct string value of polio_regions_line.encoding.x['shorthand'] but incorrect case of letters\"\n",
    "\n",
    "assert sha1(str(type(polio_regions_line.encoding.y['shorthand'])).encode(\"utf-8\")+b\"b1089\").hexdigest() == \"f597cdb8a5c9765b17cdad59949d735661476172\", \"type of polio_regions_line.encoding.y['shorthand'] is not str. polio_regions_line.encoding.y['shorthand'] should be an str\"\n",
    "assert sha1(str(len(polio_regions_line.encoding.y['shorthand'])).encode(\"utf-8\")+b\"b1089\").hexdigest() == \"d4c7babc86bb3f8c14c184b5e8ddf6d7b201b3ec\", \"length of polio_regions_line.encoding.y['shorthand'] is not correct\"\n",
    "assert sha1(str(polio_regions_line.encoding.y['shorthand'].lower()).encode(\"utf-8\")+b\"b1089\").hexdigest() == \"06e7857a68c793c1978602d46abefa7c0eb8dc0c\", \"value of polio_regions_line.encoding.y['shorthand'] is not correct\"\n",
    "assert sha1(str(polio_regions_line.encoding.y['shorthand']).encode(\"utf-8\")+b\"b1089\").hexdigest() == \"06e7857a68c793c1978602d46abefa7c0eb8dc0c\", \"correct string value of polio_regions_line.encoding.y['shorthand'] but incorrect case of letters\"\n",
    "\n",
    "assert sha1(str(type(polio_regions_line.encoding.color['shorthand'])).encode(\"utf-8\")+b\"b108a\").hexdigest() == \"18dc8a476e198ad40fb63925d6da959f0045cd9e\", \"type of polio_regions_line.encoding.color['shorthand'] is not str. polio_regions_line.encoding.color['shorthand'] should be an str\"\n",
    "assert sha1(str(len(polio_regions_line.encoding.color['shorthand'])).encode(\"utf-8\")+b\"b108a\").hexdigest() == \"7c765a8e844aa9bf3e24b8779ae3d89df6ee6b52\", \"length of polio_regions_line.encoding.color['shorthand'] is not correct\"\n",
    "assert sha1(str(polio_regions_line.encoding.color['shorthand'].lower()).encode(\"utf-8\")+b\"b108a\").hexdigest() == \"1c96e48645d4fcfeea696959fd7b5e43eabcd225\", \"value of polio_regions_line.encoding.color['shorthand'] is not correct\"\n",
    "assert sha1(str(polio_regions_line.encoding.color['shorthand']).encode(\"utf-8\")+b\"b108a\").hexdigest() == \"1c96e48645d4fcfeea696959fd7b5e43eabcd225\", \"correct string value of polio_regions_line.encoding.color['shorthand'] but incorrect case of letters\"\n",
    "\n",
    "assert sha1(str(type(polio_regions_line.mark)).encode(\"utf-8\")+b\"b108b\").hexdigest() == \"d2b34098f05b1f42b2095b5a8a76a763203270cf\", \"type of polio_regions_line.mark is not str. polio_regions_line.mark should be an str\"\n",
    "assert sha1(str(len(polio_regions_line.mark)).encode(\"utf-8\")+b\"b108b\").hexdigest() == \"fecfce3e1f48b0e912a5f1e6f55476c9e1b2084b\", \"length of polio_regions_line.mark is not correct\"\n",
    "assert sha1(str(polio_regions_line.mark.lower()).encode(\"utf-8\")+b\"b108b\").hexdigest() == \"61ad3bcf23f3bb8cdd3cb009328e37c3fb0c5029\", \"value of polio_regions_line.mark is not correct\"\n",
    "assert sha1(str(polio_regions_line.mark).encode(\"utf-8\")+b\"b108b\").hexdigest() == \"61ad3bcf23f3bb8cdd3cb009328e37c3fb0c5029\", \"correct string value of polio_regions_line.mark but incorrect case of letters\"\n",
    "\n",
    "assert sha1(str(type(isinstance(polio_regions_line.encoding.x['title'], str))).encode(\"utf-8\")+b\"b108c\").hexdigest() == \"d16eea2e9d3c5d5d1b26d661b6b9c129ab631ee0\", \"type of isinstance(polio_regions_line.encoding.x['title'], str) is not bool. isinstance(polio_regions_line.encoding.x['title'], str) should be a bool\"\n",
    "assert sha1(str(isinstance(polio_regions_line.encoding.x['title'], str)).encode(\"utf-8\")+b\"b108c\").hexdigest() == \"8f1e32749c3fafda859dc3748145c0fe0fb30001\", \"boolean value of isinstance(polio_regions_line.encoding.x['title'], str) is not correct\"\n",
    "\n",
    "assert sha1(str(type(isinstance(polio_regions_line.encoding.y['title'], str))).encode(\"utf-8\")+b\"b108d\").hexdigest() == \"ff2d8fe434cd2149c5093bea9b8dbacc275cce8e\", \"type of isinstance(polio_regions_line.encoding.y['title'], str) is not bool. isinstance(polio_regions_line.encoding.y['title'], str) should be a bool\"\n",
    "assert sha1(str(isinstance(polio_regions_line.encoding.y['title'], str)).encode(\"utf-8\")+b\"b108d\").hexdigest() == \"8c5fd48089fb6e60c66c4e803faf408692f09c6d\", \"boolean value of isinstance(polio_regions_line.encoding.y['title'], str) is not correct\"\n",
    "\n",
    "assert sha1(str(type(polio_regions_line.config.axis.titleFontSize)).encode(\"utf-8\")+b\"b108e\").hexdigest() == \"cfc5530a5bd1dbc71f747f8f2663b258dc7b4919\", \"type of polio_regions_line.config.axis.titleFontSize is not int. Please make sure it is int and not np.int64, etc. You can cast your value into an int using int()\"\n",
    "assert sha1(str(polio_regions_line.config.axis.titleFontSize).encode(\"utf-8\")+b\"b108e\").hexdigest() == \"30eee9b77da3d76b9577b1c4d028aeb0a0abbfbe\", \"value of polio_regions_line.config.axis.titleFontSize is not correct\"\n",
    "\n",
    "assert sha1(str(type(polio_regions_line.config.axis.titleFontSize)).encode(\"utf-8\")+b\"b108f\").hexdigest() == \"1379d1d71e5e62178878c78bd9c7154f49ca3095\", \"type of polio_regions_line.config.axis.titleFontSize is not int. Please make sure it is int and not np.int64, etc. You can cast your value into an int using int()\"\n",
    "assert sha1(str(polio_regions_line.config.axis.titleFontSize).encode(\"utf-8\")+b\"b108f\").hexdigest() == \"0e9fe788b1d1a89ab563c991d03e56724c4760ec\", \"value of polio_regions_line.config.axis.titleFontSize is not correct\"\n",
    "\n",
    "assert sha1(str(type(polio_regions_line.width)).encode(\"utf-8\")+b\"b1090\").hexdigest() == \"170ffed074d61a4727773053f3c60162d24a5716\", \"type of polio_regions_line.width is not int. Please make sure it is int and not np.int64, etc. You can cast your value into an int using int()\"\n",
    "assert sha1(str(polio_regions_line.width).encode(\"utf-8\")+b\"b1090\").hexdigest() == \"85ccb89fa318df7e787b8fb7f0466311ef1e10ec\", \"value of polio_regions_line.width is not correct\"\n",
    "\n",
    "print('Success!')"
   ]
  },
  {
   "cell_type": "markdown",
   "metadata": {
    "deletable": false,
    "editable": false,
    "nbgrader": {
     "cell_type": "markdown",
     "checksum": "d970c40d0ca81d47671c9891b9420afd",
     "grade": false,
     "grade_id": "cell-99db863d291c52b2",
     "locked": true,
     "schema_version": 3,
     "solution": false
    }
   },
   "source": [
    "**Question 1.8**\n",
    "<br> {points: 1}\n",
    "\n",
    "Now that we know how to effectively plot the percentage vaccinated against Polio over time for each region, how might we compare this to what we see for each region for the percentage vaccinated against Hepatitis B? In this case we would like two plots next to each other, which we can get using a technique called \"facetting\". We saw facetting last week, and now we will take some time to learn it.\n",
    "\n",
    "The basic syntax for the `altair` facet function is the following:\n",
    "\n",
    "```\n",
    "# Creates horizontally arranged side by side plots for each category in COLUMN_X\n",
    "facet('COLUMN_X')\n",
    "```\n",
    "\n",
    "or \n",
    "\n",
    "```\n",
    "# Creates a single column of vertically arranged plots for each category in COLUMN_X\n",
    "facet('COLUMN_X', columns=1)\n",
    "```\n",
    "\n",
    "Create a plot like the one named `polio_regions_line` but instead of using the `polio` data frame, use the `world_vaccination` data frame, and facet on the column `vaccine` so that the two plots are side-by-side. Name this plot object `side_by_side_world`. Use the default chart width to make sure the plot size fit well within the worksheet."
   ]
  },
  {
   "cell_type": "code",
   "execution_count": null,
   "metadata": {
    "deletable": false,
    "nbgrader": {
     "cell_type": "code",
     "checksum": "08ad77abe846c4cb319a49f1c8181796",
     "grade": false,
     "grade_id": "cell-1703a03640493439",
     "locked": false,
     "schema_version": 3,
     "solution": true
    }
   },
   "outputs": [],
   "source": [
    "# ___ = alt.Chart(___).___().encode(\n",
    "#     x=alt.X(___)\n",
    "#         .title(___)\n",
    "#         .scale(zero=False),\n",
    "#     y=alt.Y(___)\n",
    "#         .title(___),\n",
    "#     color=alt.Color(___).title(___)\n",
    "# ).facet(\n",
    "#     ___\n",
    "# ).configure_axis(\n",
    "#     ___\n",
    "# )\n",
    "\n",
    "# your code here\n",
    "raise NotImplementedError\n",
    "side_by_side_world"
   ]
  },
  {
   "cell_type": "code",
   "execution_count": null,
   "metadata": {
    "deletable": false,
    "editable": false,
    "nbgrader": {
     "cell_type": "code",
     "checksum": "55eebaee29455f51adc89d57b21ce653",
     "grade": true,
     "grade_id": "cell-da960eda0165bd94",
     "locked": true,
     "points": 1,
     "schema_version": 3,
     "solution": false
    }
   },
   "outputs": [],
   "source": [
    "from hashlib import sha1\n",
    "assert sha1(str(type(side_by_side_world is None)).encode(\"utf-8\")+b\"5dff1\").hexdigest() == \"ccfd28ee3422bba1b3562f5983b21b80b7a69760\", \"type of side_by_side_world is None is not bool. side_by_side_world is None should be a bool\"\n",
    "assert sha1(str(side_by_side_world is None).encode(\"utf-8\")+b\"5dff1\").hexdigest() == \"2887d493f2d8c1507eac596639ab4738a9ca22f7\", \"boolean value of side_by_side_world is None is not correct\"\n",
    "\n",
    "assert sha1(str(type(side_by_side_world.facet)).encode(\"utf-8\")+b\"5dff2\").hexdigest() == \"caf8618ef59132a6d7af2d60a062c6c4f1db0922\", \"type of side_by_side_world.facet is not correct\"\n",
    "assert sha1(str(side_by_side_world.facet).encode(\"utf-8\")+b\"5dff2\").hexdigest() == \"c8152a67294927b7e90ea8bb9b572ded0e0c8cfa\", \"value of side_by_side_world.facet is not correct\"\n",
    "\n",
    "print('Success!')"
   ]
  },
  {
   "cell_type": "markdown",
   "metadata": {
    "deletable": false,
    "editable": false,
    "nbgrader": {
     "cell_type": "markdown",
     "checksum": "66c6d3e0d581923223136355139a3e04",
     "grade": false,
     "grade_id": "cell-bf8e150751b134f6",
     "locked": true,
     "schema_version": 3,
     "solution": false
    }
   },
   "source": [
    "**Question 1.9.1**\n",
    "<br> {points: 1}\n",
    "\n",
    "Now use `facet` to arrange the same two plots vertically (i.e. a single column). Name this plot `vertical_world`."
   ]
  },
  {
   "cell_type": "code",
   "execution_count": null,
   "metadata": {
    "deletable": false,
    "nbgrader": {
     "cell_type": "code",
     "checksum": "9b0c41f975cfa919523b03189b2d2e0a",
     "grade": false,
     "grade_id": "cell-55bbd1d0a2ea4a40",
     "locked": false,
     "schema_version": 3,
     "solution": true
    }
   },
   "outputs": [],
   "source": [
    "# your code here\n",
    "raise NotImplementedError\n",
    "vertical_world"
   ]
  },
  {
   "cell_type": "code",
   "execution_count": null,
   "metadata": {
    "deletable": false,
    "editable": false,
    "nbgrader": {
     "cell_type": "code",
     "checksum": "ad08b27d7c4d68dee1c814ca4ec01fb9",
     "grade": true,
     "grade_id": "cell-2a2384fca721cc8a",
     "locked": true,
     "points": 1,
     "schema_version": 3,
     "solution": false
    }
   },
   "outputs": [],
   "source": [
    "from hashlib import sha1\n",
    "assert sha1(str(type(vertical_world is None)).encode(\"utf-8\")+b\"72aa3\").hexdigest() == \"7bb28e12eccb0f5135b4b86510a32fc7b325436a\", \"type of vertical_world is None is not bool. vertical_world is None should be a bool\"\n",
    "assert sha1(str(vertical_world is None).encode(\"utf-8\")+b\"72aa3\").hexdigest() == \"a9dd3b291d39cff720505629aa1deb0d1e162846\", \"boolean value of vertical_world is None is not correct\"\n",
    "\n",
    "assert sha1(str(type(vertical_world.columns)).encode(\"utf-8\")+b\"72aa4\").hexdigest() == \"47003adf4cb25c885406cdde4b0b3022b739015f\", \"type of vertical_world.columns is not int. Please make sure it is int and not np.int64, etc. You can cast your value into an int using int()\"\n",
    "assert sha1(str(vertical_world.columns).encode(\"utf-8\")+b\"72aa4\").hexdigest() == \"913e92b09a50409dd0756ef9eab7c206ca23e30b\", \"value of vertical_world.columns is not correct\"\n",
    "\n",
    "assert sha1(str(type(vertical_world.facet)).encode(\"utf-8\")+b\"72aa5\").hexdigest() == \"62f316e1798e2b358fd9e7c53a94da93b2f55152\", \"type of vertical_world.facet is not correct\"\n",
    "assert sha1(str(vertical_world.facet).encode(\"utf-8\")+b\"72aa5\").hexdigest() == \"068f8baa3f96eae297158fc59d6781eab06a12af\", \"value of vertical_world.facet is not correct\"\n",
    "\n",
    "print('Success!')"
   ]
  },
  {
   "cell_type": "markdown",
   "metadata": {
    "deletable": false,
    "editable": false,
    "nbgrader": {
     "cell_type": "markdown",
     "checksum": "87c62d43656c57cce3f8c39b53ac89fb",
     "grade": false,
     "grade_id": "cell-8cba902e440bfbf8",
     "locked": true,
     "schema_version": 3,
     "solution": false,
     "task": false
    }
   },
   "source": [
    "Which arrangement is better? Depends on what you are asking! If you are interested in comparing the rate at which things changed over time (exact location on the x-axis), then the vertical arrangement is more effective. However, if you are interested in comparing the exact percentage values between the lines across facets (exact location on the y-axis) at certain points in time then the side-by-side arrangement is more effective."
   ]
  },
  {
   "cell_type": "markdown",
   "metadata": {
    "deletable": false,
    "editable": false,
    "nbgrader": {
     "cell_type": "markdown",
     "checksum": "fa67020d3aafa34b64ee55af0fe320c5",
     "grade": false,
     "grade_id": "cell-6e7d28492998c804",
     "locked": true,
     "schema_version": 3,
     "solution": false
    }
   },
   "source": [
    "**Question 1.9.2** Multiple Choice:\n",
    "<br> {points: 1}\n",
    "\n",
    "Which WHO region had the greatest progress in the shortest period of time in either Hepatitis B and in Polio (using the data we plotted above)?\n",
    "\n",
    "\n",
    "A. Americas\n",
    "\n",
    "B. Eastern Mediterranean\n",
    "\n",
    "C. Europe\n",
    "\n",
    "D. Western Pacific\n",
    "\n",
    "*Assign your answer to an object called `answer1_9_2`. Make sure your answer is an uppercase letter and is surrounded by quotation marks (e.g. `\"F\"`).*"
   ]
  },
  {
   "cell_type": "code",
   "execution_count": null,
   "metadata": {
    "deletable": false,
    "nbgrader": {
     "cell_type": "code",
     "checksum": "76d3652fb9236545f6bc846328fbbf96",
     "grade": false,
     "grade_id": "cell-2f8d6a1dce2d67ae",
     "locked": false,
     "schema_version": 3,
     "solution": true
    }
   },
   "outputs": [],
   "source": [
    "# your code here\n",
    "raise NotImplementedError"
   ]
  },
  {
   "cell_type": "code",
   "execution_count": null,
   "metadata": {
    "deletable": false,
    "editable": false,
    "nbgrader": {
     "cell_type": "code",
     "checksum": "cf496fbe7940a6b53176786608bc9bcb",
     "grade": true,
     "grade_id": "cell-a69f9766adab9544",
     "locked": true,
     "points": 1,
     "schema_version": 3,
     "solution": false
    }
   },
   "outputs": [],
   "source": [
    "from hashlib import sha1\n",
    "assert sha1(str(type(answer1_9_2)).encode(\"utf-8\")+b\"609d3\").hexdigest() == \"552c89889514a790ec87766fa0c44487020e4d96\", \"type of answer1_9_2 is not str. answer1_9_2 should be an str\"\n",
    "assert sha1(str(len(answer1_9_2)).encode(\"utf-8\")+b\"609d3\").hexdigest() == \"9b8bfaf0c7ebdc02ac6ba3ad29f7972b5e8a0886\", \"length of answer1_9_2 is not correct\"\n",
    "assert sha1(str(answer1_9_2.lower()).encode(\"utf-8\")+b\"609d3\").hexdigest() == \"4c38e5b55cfa1fc5faa4f7b8eaf97e451dd0b9eb\", \"value of answer1_9_2 is not correct\"\n",
    "assert sha1(str(answer1_9_2).encode(\"utf-8\")+b\"609d3\").hexdigest() == \"da7cda43d0266392e2ef61ebac173960c497b81a\", \"correct string value of answer1_9_2 but incorrect case of letters\"\n",
    "\n",
    "print('Success!')"
   ]
  },
  {
   "cell_type": "markdown",
   "metadata": {
    "deletable": false,
    "editable": false,
    "nbgrader": {
     "cell_type": "markdown",
     "checksum": "d44f5db0fc14b57fbf099cd8f5b94579",
     "grade": false,
     "grade_id": "cell-5ded190fc1855d5b",
     "locked": true,
     "schema_version": 3,
     "solution": false,
     "task": false
    }
   },
   "source": [
    "## 2. Fast-Food Chains in the United States\n",
    "\n",
    "With their cheap meals and convenient drive-thrus, fast food restaurants are a growing demand in many countries. Despite their questionable ingredients and nutritional value, most Americans count on fast food in their daily lives (they are often delicious and so hard to resist...). \n",
    "\n",
    "<img src=\"https://media.giphy.com/media/NS6SKs3Lt8cPHhe0es/giphy.gif\" width = \"400\"/>\n",
    "\n",
    "Source: https://media.giphy.com/media/NS6SKs3Lt8cPHhe0es/giphy.gif\n",
    "\n",
    "According to Wikipedia,\n",
    ">  Fast food was originally created as a commercial strategy to accommodate the larger numbers of busy commuters, travelers and wage workers who often didn't have the time to sit down at a public house or diner and wait the normal way for their food to be cooked. By making speed of service the priority, this ensured that customers with strictly limited time (a commuter stopping to procure dinner to bring home to their family, for example, or an hourly laborer on a short lunch break) were not inconvenienced by waiting for their food to be cooked on-the-spot (as is expected from a traditional \"sit down\" restaurant). For those with no time to spare, fast food became a multi-billion dollar industry.\n",
    "\n",
    "Currently, fast food is the norm and lots of businesses are investing in advertisement as well as new ideas to make their chain stand out in the sea of restaurants. In fact, one business is hiring you. They want to know the layout of the landscape:\n",
    "\n",
    "1) Which is the most prevalent franchise on the west coast of the US? \n",
    "\n",
    "2) Which state has the highest number of fast-food restuarants? \n",
    "\n",
    "3) Is the most dominant franchise consistent across the west coast?\n",
    "\n",
    "In this assignment, you will pretend to assist in the opening of a new restaurant somewhere on the west coast of the United States (California, Oregon, or Washington). Your goal is to figure out which fast food chain to recommend and figure out which state would be the least competitive.\n",
    "\n",
    "The columns in the dataset are:\n",
    "\n",
    "- `name` - The name of the restaurant\n",
    "- `st` - State"
   ]
  },
  {
   "cell_type": "markdown",
   "metadata": {
    "deletable": false,
    "editable": false,
    "nbgrader": {
     "cell_type": "markdown",
     "checksum": "b2f571f033a07018dee699e0533800f0",
     "grade": false,
     "grade_id": "cell-1d4483955210a104",
     "locked": true,
     "schema_version": 3,
     "solution": false
    }
   },
   "source": [
    "**Question 2.1** Multiple Choice:\n",
    "<br> {points: 1}\n",
    "\n",
    "From the list below, what are you *not* trying to determine:\n",
    "\n",
    "A. The west coast frachise with the greatest prevalence\n",
    "\n",
    "B. The least dominant franchise consistent across the west coast\n",
    "\n",
    "C. The state on the west coast with the greatest number of fast-food restuarants\n",
    "\n",
    "*Assign your answer to an object called `answer2_1`. Make sure your answer is an uppercase letter and is surrounded by quotation marks (e.g. `\"F\"`).*"
   ]
  },
  {
   "cell_type": "code",
   "execution_count": null,
   "metadata": {
    "deletable": false,
    "nbgrader": {
     "cell_type": "code",
     "checksum": "ef477bd25d540eded7b3d5e4e2e13682",
     "grade": false,
     "grade_id": "cell-ee7c5c9ca8b83d19",
     "locked": false,
     "schema_version": 3,
     "solution": true
    }
   },
   "outputs": [],
   "source": [
    "# your code here\n",
    "raise NotImplementedError"
   ]
  },
  {
   "cell_type": "code",
   "execution_count": null,
   "metadata": {
    "deletable": false,
    "editable": false,
    "nbgrader": {
     "cell_type": "code",
     "checksum": "121e4b3a7c23a71f21f8032a85e1e404",
     "grade": true,
     "grade_id": "cell-22af5054ff59eadd",
     "locked": true,
     "points": 1,
     "schema_version": 3,
     "solution": false
    }
   },
   "outputs": [],
   "source": [
    "from hashlib import sha1\n",
    "assert sha1(str(type(answer2_1)).encode(\"utf-8\")+b\"828a\").hexdigest() == \"8affd8cf64ab7a79afbac72549a3eb623b0e4272\", \"type of answer2_1 is not str. answer2_1 should be an str\"\n",
    "assert sha1(str(len(answer2_1)).encode(\"utf-8\")+b\"828a\").hexdigest() == \"faea3c0d41a1a3f4c1202b1ed0cfbca2c380afcd\", \"length of answer2_1 is not correct\"\n",
    "assert sha1(str(answer2_1.lower()).encode(\"utf-8\")+b\"828a\").hexdigest() == \"0cc48968cf28cbb6d6dbde49099060df8fb80cf9\", \"value of answer2_1 is not correct\"\n",
    "assert sha1(str(answer2_1).encode(\"utf-8\")+b\"828a\").hexdigest() == \"fa31c993ac27bb8bb3d7ff3660b2199ef1bdd622\", \"correct string value of answer2_1 but incorrect case of letters\"\n",
    "\n",
    "print('Success!')"
   ]
  },
  {
   "cell_type": "markdown",
   "metadata": {
    "deletable": false,
    "editable": false,
    "nbgrader": {
     "cell_type": "markdown",
     "checksum": "aa85db0f0538a8727cf7b54727473a6c",
     "grade": false,
     "grade_id": "cell-2a0d906c102c421a",
     "locked": true,
     "schema_version": 3,
     "solution": false
    }
   },
   "source": [
    "**Question 2.2**\n",
    "<br> {points: 1}\n",
    "\n",
    "Read the `fast_food.csv` file (found in the `data` directory) and assign it to an object called `fast_food`."
   ]
  },
  {
   "cell_type": "code",
   "execution_count": null,
   "metadata": {
    "deletable": false,
    "nbgrader": {
     "cell_type": "code",
     "checksum": "239828ab95e408029def1ca051c2a652",
     "grade": false,
     "grade_id": "cell-84ec1117f0f1e0d4",
     "locked": false,
     "schema_version": 3,
     "solution": true
    }
   },
   "outputs": [],
   "source": [
    "# your code here\n",
    "raise NotImplementedError\n",
    "fast_food"
   ]
  },
  {
   "cell_type": "code",
   "execution_count": null,
   "metadata": {
    "deletable": false,
    "editable": false,
    "nbgrader": {
     "cell_type": "code",
     "checksum": "d0c9297c2976dbc7df5fcd7e4912a55a",
     "grade": true,
     "grade_id": "cell-f61886d392c4a00a",
     "locked": true,
     "points": 1,
     "schema_version": 3,
     "solution": false
    }
   },
   "outputs": [],
   "source": [
    "from hashlib import sha1\n",
    "assert sha1(str(type(fast_food is None)).encode(\"utf-8\")+b\"ce048\").hexdigest() == \"87561dc4fccef0eacbbaecaa8b39e52d12c84adb\", \"type of fast_food is None is not bool. fast_food is None should be a bool\"\n",
    "assert sha1(str(fast_food is None).encode(\"utf-8\")+b\"ce048\").hexdigest() == \"788d4f76dc788e3956de1b2e03462d2c85d0b2f0\", \"boolean value of fast_food is None is not correct\"\n",
    "\n",
    "assert sha1(str(type(fast_food.shape)).encode(\"utf-8\")+b\"ce049\").hexdigest() == \"675936878e3e90e9efa94f8fe06a67a3e97d0f82\", \"type of fast_food.shape is not tuple. fast_food.shape should be a tuple\"\n",
    "assert sha1(str(len(fast_food.shape)).encode(\"utf-8\")+b\"ce049\").hexdigest() == \"1485714c8ad16a8504bc8abc8d2cfd056dc9bafd\", \"length of fast_food.shape is not correct\"\n",
    "assert sha1(str(sorted(map(str, fast_food.shape))).encode(\"utf-8\")+b\"ce049\").hexdigest() == \"fc2bd2bb0cbd2f28fc83a408ad9bd208b0545f15\", \"values of fast_food.shape are not correct\"\n",
    "assert sha1(str(fast_food.shape).encode(\"utf-8\")+b\"ce049\").hexdigest() == \"fc6dcd0f37240a069f3ba0819600bafbe1b2def6\", \"order of elements of fast_food.shape is not correct\"\n",
    "\n",
    "assert sha1(str(type(fast_food.iloc[2, 0])).encode(\"utf-8\")+b\"ce04a\").hexdigest() == \"7d52a763c8db3834553c719dbd6943fa68581172\", \"type of fast_food.iloc[2, 0] is not str. fast_food.iloc[2, 0] should be an str\"\n",
    "assert sha1(str(len(fast_food.iloc[2, 0])).encode(\"utf-8\")+b\"ce04a\").hexdigest() == \"075423be080bdc434a077ba7f58d79a6876ecb7d\", \"length of fast_food.iloc[2, 0] is not correct\"\n",
    "assert sha1(str(fast_food.iloc[2, 0].lower()).encode(\"utf-8\")+b\"ce04a\").hexdigest() == \"068128a2af8aad8dfef75ad290ddf53b7ec1a1e0\", \"value of fast_food.iloc[2, 0] is not correct\"\n",
    "assert sha1(str(fast_food.iloc[2, 0]).encode(\"utf-8\")+b\"ce04a\").hexdigest() == \"35595f21faed83028434b9fbf8202278ab50c687\", \"correct string value of fast_food.iloc[2, 0] but incorrect case of letters\"\n",
    "\n",
    "assert sha1(str(type(fast_food.iloc[3, 1])).encode(\"utf-8\")+b\"ce04b\").hexdigest() == \"f5c5eaff4ec77573e137c4d99e641c036885e4d1\", \"type of fast_food.iloc[3, 1] is not str. fast_food.iloc[3, 1] should be an str\"\n",
    "assert sha1(str(len(fast_food.iloc[3, 1])).encode(\"utf-8\")+b\"ce04b\").hexdigest() == \"be85dbb9e1296e5e2b9e7dead0b4225249f95981\", \"length of fast_food.iloc[3, 1] is not correct\"\n",
    "assert sha1(str(fast_food.iloc[3, 1].lower()).encode(\"utf-8\")+b\"ce04b\").hexdigest() == \"51f82a318872243130da853ba122f56ee2702833\", \"value of fast_food.iloc[3, 1] is not correct\"\n",
    "assert sha1(str(fast_food.iloc[3, 1]).encode(\"utf-8\")+b\"ce04b\").hexdigest() == \"f54f2c2122e38a8e00ed4554451cc810da669f5e\", \"correct string value of fast_food.iloc[3, 1] but incorrect case of letters\"\n",
    "\n",
    "print('Success!')"
   ]
  },
  {
   "cell_type": "markdown",
   "metadata": {
    "deletable": false,
    "editable": false,
    "nbgrader": {
     "cell_type": "markdown",
     "checksum": "d865e8ca139f00d3d978512805cb813b",
     "grade": false,
     "grade_id": "cell-b752f228aa364c90",
     "locked": true,
     "schema_version": 3,
     "solution": false,
     "task": false
    }
   },
   "source": [
    "**Question 2.2.1** Multiple Choice:\n",
    "<br> {points: 1}\n",
    "\n",
    "What does each row in the dataset represent?\n",
    "\n",
    "A. The number of branches from a given franchise and state\n",
    "\n",
    "B. A unique branch of a given franchise in a given state\n",
    "\n",
    "C. An indicator of whether a given franchise is present in a given state\n",
    "\n",
    "*Assign your answer to an object called `answer2_2_1`. Make sure your answer is an uppercase letter and is surrounded by quotation marks (e.g. `\"F\"`).*"
   ]
  },
  {
   "cell_type": "code",
   "execution_count": null,
   "metadata": {
    "deletable": false,
    "nbgrader": {
     "cell_type": "code",
     "checksum": "e29b6e4a6c2546e97da764cbaa11927f",
     "grade": false,
     "grade_id": "cell-3b610030c80671d3",
     "locked": false,
     "schema_version": 3,
     "solution": true,
     "task": false
    }
   },
   "outputs": [],
   "source": [
    "# your code here\n",
    "raise NotImplementedError"
   ]
  },
  {
   "cell_type": "code",
   "execution_count": null,
   "metadata": {
    "deletable": false,
    "editable": false,
    "nbgrader": {
     "cell_type": "code",
     "checksum": "384d524cf865ae4de7518c78ca0d9276",
     "grade": true,
     "grade_id": "cell-d5c80de7a7a08e65",
     "locked": true,
     "points": 1,
     "schema_version": 3,
     "solution": false,
     "task": false
    }
   },
   "outputs": [],
   "source": [
    "from hashlib import sha1\n",
    "assert sha1(str(type(answer2_2_1)).encode(\"utf-8\")+b\"506d4\").hexdigest() == \"3d06c6101f2decd1c633044bcd7bd079f4d56ee4\", \"type of answer2_2_1 is not str. answer2_2_1 should be an str\"\n",
    "assert sha1(str(len(answer2_2_1)).encode(\"utf-8\")+b\"506d4\").hexdigest() == \"c1aa09fd3c207cb29d47096bb0a531d5a16a9608\", \"length of answer2_2_1 is not correct\"\n",
    "assert sha1(str(answer2_2_1.lower()).encode(\"utf-8\")+b\"506d4\").hexdigest() == \"c448e0f7066f34e66c28527da90da201c37f8f35\", \"value of answer2_2_1 is not correct\"\n",
    "assert sha1(str(answer2_2_1).encode(\"utf-8\")+b\"506d4\").hexdigest() == \"a495e24b66e2035ecc0f7e06c5b693611594d899\", \"correct string value of answer2_2_1 but incorrect case of letters\"\n",
    "\n",
    "print('Success!')"
   ]
  },
  {
   "cell_type": "markdown",
   "metadata": {
    "deletable": false,
    "editable": false,
    "nbgrader": {
     "cell_type": "markdown",
     "checksum": "17279d8fcb2520cd558a5a3595c9af0a",
     "grade": false,
     "grade_id": "cell-0df97ab2333937cb",
     "locked": true,
     "schema_version": 3,
     "solution": false
    }
   },
   "source": [
    "**Question 2.3** \n",
    "<br> {points: 1}\n",
    "\n",
    "Next, find the top 9 restaurants (in terms of number of locations) on the west coast (in the states \"CA\", \"WA\" or \"OR\") and name them `top_restaurants`.\n",
    "\n",
    "Fill in the `___` in the cell below.\n",
    "\n",
    "*Assign your answer to an object called `top_restaurants`. Note that for the line that reads `___(9)` there are two possible correct answers and you can choose either one of them.*"
   ]
  },
  {
   "cell_type": "code",
   "execution_count": null,
   "metadata": {
    "deletable": false,
    "nbgrader": {
     "cell_type": "code",
     "checksum": "97e27334456656754ae07a95bf5e1cf5",
     "grade": false,
     "grade_id": "cell-5c06ffd85d7fa572",
     "locked": false,
     "schema_version": 3,
     "solution": true
    }
   },
   "outputs": [],
   "source": [
    "# ___ = (\n",
    "#     fast_food[fast_food[___].isin(___)]\n",
    "#     .value_counts(___)\n",
    "#     .___(9)\n",
    "#     .reset_index()\n",
    "# )\n",
    "\n",
    "# your code here\n",
    "raise NotImplementedError\n",
    "top_restaurants"
   ]
  },
  {
   "cell_type": "code",
   "execution_count": null,
   "metadata": {
    "deletable": false,
    "editable": false,
    "nbgrader": {
     "cell_type": "code",
     "checksum": "10aecff7657621b2fdedbf32287c093f",
     "grade": true,
     "grade_id": "cell-f2aa06843158a15e",
     "locked": true,
     "points": 1,
     "schema_version": 3,
     "solution": false
    }
   },
   "outputs": [],
   "source": [
    "from hashlib import sha1\n",
    "assert sha1(str(type(top_restaurants is None)).encode(\"utf-8\")+b\"b3f1\").hexdigest() == \"d44ac377e3070ae9537c9b5b9692b4d0e25bbee5\", \"type of top_restaurants is None is not bool. top_restaurants is None should be a bool\"\n",
    "assert sha1(str(top_restaurants is None).encode(\"utf-8\")+b\"b3f1\").hexdigest() == \"4de53064e5193d3dac54f64b03f7e51f25e236fc\", \"boolean value of top_restaurants is None is not correct\"\n",
    "\n",
    "assert sha1(str(type(top_restaurants.shape)).encode(\"utf-8\")+b\"b3f2\").hexdigest() == \"41f0731b0561c1e699b6d74f83af34acb9022c6f\", \"type of top_restaurants.shape is not tuple. top_restaurants.shape should be a tuple\"\n",
    "assert sha1(str(len(top_restaurants.shape)).encode(\"utf-8\")+b\"b3f2\").hexdigest() == \"08526c07410bc249ae6e06529146df34549a21a2\", \"length of top_restaurants.shape is not correct\"\n",
    "assert sha1(str(sorted(map(str, top_restaurants.shape))).encode(\"utf-8\")+b\"b3f2\").hexdigest() == \"688057e319fa1fe5c59337b7ebecf9e01d49ae8b\", \"values of top_restaurants.shape are not correct\"\n",
    "assert sha1(str(top_restaurants.shape).encode(\"utf-8\")+b\"b3f2\").hexdigest() == \"562a263078cea2089ab1ebd3a8ddeca9fa0d959a\", \"order of elements of top_restaurants.shape is not correct\"\n",
    "\n",
    "assert sha1(str(type(sum(top_restaurants['count']))).encode(\"utf-8\")+b\"b3f3\").hexdigest() == \"f86a7c53fe2271908de1f5ae875cd558100a54b3\", \"type of sum(top_restaurants['count']) is not int. Please make sure it is int and not np.int64, etc. You can cast your value into an int using int()\"\n",
    "assert sha1(str(sum(top_restaurants['count'])).encode(\"utf-8\")+b\"b3f3\").hexdigest() == \"67ff91d94316b38598db250db5c91cbaadf68350\", \"value of sum(top_restaurants['count']) is not correct\"\n",
    "\n",
    "print('Success!')"
   ]
  },
  {
   "cell_type": "markdown",
   "metadata": {
    "deletable": false,
    "editable": false,
    "nbgrader": {
     "cell_type": "markdown",
     "checksum": "2805058d4f45bb9d4d654ff154ffd8df",
     "grade": false,
     "grade_id": "cell-49f4f43165cf12c8",
     "locked": true,
     "schema_version": 3,
     "solution": false
    }
   },
   "source": [
    "**Question 2.4** \n",
    "<br> {points: 1}\n",
    "\n",
    "Even though we can use the table above to answer the question: \"(1) Which is the most prevalent franchise on the west coast of the US?\" A table is not always the clearest way of showing information (although sometimes it might be). In our case a bar plot could be more helpful, so let's create one!\n",
    "\n",
    "Plot the counts for the top 9 fast food restaurants on the west coast as a bar chart using `mark_bar` with the `top_restaurants` dataframe. The number of restaurants should be on the y-axis and the restaurant names should be on the x-axis. \n",
    "\n",
    "To do this fill in the `___` in the cell below. Make sure to label your axes and choose an appropriate figure size using `properties`.\n",
    "\n",
    "*Assign your answer to an object called `count_bar_chart`.*"
   ]
  },
  {
   "cell_type": "code",
   "execution_count": null,
   "metadata": {
    "deletable": false,
    "nbgrader": {
     "cell_type": "code",
     "checksum": "897a659a9ac543dc1fbae50902335460",
     "grade": false,
     "grade_id": "cell-7fa524ccd31a0eb3",
     "locked": false,
     "schema_version": 3,
     "solution": true
    }
   },
   "outputs": [],
   "source": [
    "# ___ = alt.Chart(___).mark_bar().encode(\n",
    "#     x=alt.X(___).title(___),\n",
    "#     y=alt.Y(___).title(___)\n",
    "# )\n",
    "\n",
    "# your code here\n",
    "raise NotImplementedError\n",
    "count_bar_chart"
   ]
  },
  {
   "cell_type": "code",
   "execution_count": null,
   "metadata": {
    "deletable": false,
    "editable": false,
    "nbgrader": {
     "cell_type": "code",
     "checksum": "d87b27ce82f469e8334ba38ac1ae2877",
     "grade": true,
     "grade_id": "cell-75b9ba0facc9e21e",
     "locked": true,
     "points": 1,
     "schema_version": 3,
     "solution": false
    }
   },
   "outputs": [],
   "source": [
    "from hashlib import sha1\n",
    "assert sha1(str(type(count_bar_chart is None)).encode(\"utf-8\")+b\"a1da1\").hexdigest() == \"82aba289f0e2b1075c5123c5689c8dac62b743b2\", \"type of count_bar_chart is None is not bool. count_bar_chart is None should be a bool\"\n",
    "assert sha1(str(count_bar_chart is None).encode(\"utf-8\")+b\"a1da1\").hexdigest() == \"e03d6c1c1f4c6f9ad6f992b82db9b8982c1b0271\", \"boolean value of count_bar_chart is None is not correct\"\n",
    "\n",
    "assert sha1(str(type(count_bar_chart.encoding.x['shorthand'])).encode(\"utf-8\")+b\"a1da2\").hexdigest() == \"51dd71fbec164a015237be31cca949d18673175a\", \"type of count_bar_chart.encoding.x['shorthand'] is not str. count_bar_chart.encoding.x['shorthand'] should be an str\"\n",
    "assert sha1(str(len(count_bar_chart.encoding.x['shorthand'])).encode(\"utf-8\")+b\"a1da2\").hexdigest() == \"bd7405140ff9d82bdba51e4dd29fa7360b8a8149\", \"length of count_bar_chart.encoding.x['shorthand'] is not correct\"\n",
    "assert sha1(str(count_bar_chart.encoding.x['shorthand'].lower()).encode(\"utf-8\")+b\"a1da2\").hexdigest() == \"3fd6209b11456c87b3fb03b81b654d93657f25ed\", \"value of count_bar_chart.encoding.x['shorthand'] is not correct\"\n",
    "assert sha1(str(count_bar_chart.encoding.x['shorthand']).encode(\"utf-8\")+b\"a1da2\").hexdigest() == \"3fd6209b11456c87b3fb03b81b654d93657f25ed\", \"correct string value of count_bar_chart.encoding.x['shorthand'] but incorrect case of letters\"\n",
    "\n",
    "assert sha1(str(type(count_bar_chart.encoding.y['shorthand'])).encode(\"utf-8\")+b\"a1da3\").hexdigest() == \"46474c8c76d7971d13908277d5ee849a014aa956\", \"type of count_bar_chart.encoding.y['shorthand'] is not str. count_bar_chart.encoding.y['shorthand'] should be an str\"\n",
    "assert sha1(str(len(count_bar_chart.encoding.y['shorthand'])).encode(\"utf-8\")+b\"a1da3\").hexdigest() == \"8923fc5b33b532feea7a7ab920c7834e426227b5\", \"length of count_bar_chart.encoding.y['shorthand'] is not correct\"\n",
    "assert sha1(str(count_bar_chart.encoding.y['shorthand'].lower()).encode(\"utf-8\")+b\"a1da3\").hexdigest() == \"f5b8cca968c9ea272d901305e7848c0ead32c90c\", \"value of count_bar_chart.encoding.y['shorthand'] is not correct\"\n",
    "assert sha1(str(count_bar_chart.encoding.y['shorthand']).encode(\"utf-8\")+b\"a1da3\").hexdigest() == \"f5b8cca968c9ea272d901305e7848c0ead32c90c\", \"correct string value of count_bar_chart.encoding.y['shorthand'] but incorrect case of letters\"\n",
    "\n",
    "assert sha1(str(type(count_bar_chart.mark)).encode(\"utf-8\")+b\"a1da4\").hexdigest() == \"1f154419f57ce59dd3e4435dae18113df61f9f5e\", \"type of count_bar_chart.mark is not str. count_bar_chart.mark should be an str\"\n",
    "assert sha1(str(len(count_bar_chart.mark)).encode(\"utf-8\")+b\"a1da4\").hexdigest() == \"38a1a2a011be7a62453575f241075157dec538c3\", \"length of count_bar_chart.mark is not correct\"\n",
    "assert sha1(str(count_bar_chart.mark.lower()).encode(\"utf-8\")+b\"a1da4\").hexdigest() == \"0170b49d24f5affe79a87a0bdf783b8850bf90a5\", \"value of count_bar_chart.mark is not correct\"\n",
    "assert sha1(str(count_bar_chart.mark).encode(\"utf-8\")+b\"a1da4\").hexdigest() == \"0170b49d24f5affe79a87a0bdf783b8850bf90a5\", \"correct string value of count_bar_chart.mark but incorrect case of letters\"\n",
    "\n",
    "assert sha1(str(type(isinstance(count_bar_chart.encoding.x['title'], str))).encode(\"utf-8\")+b\"a1da5\").hexdigest() == \"660f83e58d150f1ff52b0972486457a4852598ba\", \"type of isinstance(count_bar_chart.encoding.x['title'], str) is not bool. isinstance(count_bar_chart.encoding.x['title'], str) should be a bool\"\n",
    "assert sha1(str(isinstance(count_bar_chart.encoding.x['title'], str)).encode(\"utf-8\")+b\"a1da5\").hexdigest() == \"11690d60494d8f657b9098ceac0a593243ebd236\", \"boolean value of isinstance(count_bar_chart.encoding.x['title'], str) is not correct\"\n",
    "\n",
    "assert sha1(str(type(isinstance(count_bar_chart.encoding.y['title'], str))).encode(\"utf-8\")+b\"a1da6\").hexdigest() == \"d216297a96d4fdcc709c9eaced8c388a08f9d1b4\", \"type of isinstance(count_bar_chart.encoding.y['title'], str) is not bool. isinstance(count_bar_chart.encoding.y['title'], str) should be a bool\"\n",
    "assert sha1(str(isinstance(count_bar_chart.encoding.y['title'], str)).encode(\"utf-8\")+b\"a1da6\").hexdigest() == \"31a3b9f6aa98ec412a1f5749ff286052164a54fa\", \"boolean value of isinstance(count_bar_chart.encoding.y['title'], str) is not correct\"\n",
    "\n",
    "print('Success!')"
   ]
  },
  {
   "cell_type": "markdown",
   "metadata": {
    "deletable": false,
    "editable": false,
    "nbgrader": {
     "cell_type": "markdown",
     "checksum": "7add420a487054dc979c913212f84279",
     "grade": false,
     "grade_id": "cell-7a9798d1a03634b9",
     "locked": true,
     "schema_version": 3,
     "solution": false,
     "task": false
    }
   },
   "source": [
    "**Question 2.5**\n",
    "<br> {points: 1}\n",
    "\n",
    "The x-axes labels are rotated vertically which makes them hard to read; what can we do? There is a good solution to this problem.\n",
    "\n",
    "**Part A:** We can use the `configure_axis` function to rotate the labels. Choose an angle that you think is appropriate. Choose something between -35 and -55 for the `angle` argument. If you ust want to rotate the labels for only your X axis or Y axis, use `configure_axisX` or `configure_axisY` respectively. Remember that you don't need to recreate the entire chart but can build off the `count_bar_chart` you created in the previous question.\n",
    "\n",
    "*Name the resulting plot count_bar_chart_A.*\n",
    "\n",
    "**Part B:** We can also simply swap the x and the y encoding in the plot, make `n` the X axis and `name` the Y axis.\n",
    "\n",
    "*Name the resulting plot count_bar_chart_B.*"
   ]
  },
  {
   "cell_type": "code",
   "execution_count": null,
   "metadata": {
    "deletable": false,
    "nbgrader": {
     "cell_type": "code",
     "checksum": "c47d354e39a7836fe45590357705555b",
     "grade": false,
     "grade_id": "cell-74b1fc82a7200158",
     "locked": false,
     "schema_version": 3,
     "solution": true
    }
   },
   "outputs": [],
   "source": [
    "# PART A\n",
    "# ___ = ___.configure____(labelAngle=___)\n",
    "\n",
    "# your code here\n",
    "raise NotImplementedError\n",
    "count_bar_chart_A.display()\n",
    "# `display()` is needed to show a chart that is not at the bottom of the notebook cell\n",
    "\n",
    "\n",
    "# PART B\n",
    "# ___ = ___\n",
    "\n",
    "# your code here\n",
    "raise NotImplementedError\n",
    "count_bar_chart_B"
   ]
  },
  {
   "cell_type": "code",
   "execution_count": null,
   "metadata": {
    "deletable": false,
    "editable": false,
    "nbgrader": {
     "cell_type": "code",
     "checksum": "d231ce76bd083eb0fd044abb3c56a1ea",
     "grade": true,
     "grade_id": "cell-6fc37492ce4c8caf",
     "locked": true,
     "points": 1,
     "schema_version": 3,
     "solution": false
    }
   },
   "outputs": [],
   "source": [
    "from hashlib import sha1\n",
    "assert sha1(str(type(count_bar_chart_A is None)).encode(\"utf-8\")+b\"d2d8b\").hexdigest() == \"3f0341f74d9f171f537c81ba725a7ebf688e16d2\", \"type of count_bar_chart_A is None is not bool. count_bar_chart_A is None should be a bool\"\n",
    "assert sha1(str(count_bar_chart_A is None).encode(\"utf-8\")+b\"d2d8b\").hexdigest() == \"f2b8d63660cd5f1ff11be49b44e29232ee8de1b1\", \"boolean value of count_bar_chart_A is None is not correct\"\n",
    "\n",
    "assert sha1(str(type(count_bar_chart_A.encoding.x['shorthand'])).encode(\"utf-8\")+b\"d2d8c\").hexdigest() == \"e34590c73acc3d3ce0e002e0edac208f6102c6d9\", \"type of count_bar_chart_A.encoding.x['shorthand'] is not str. count_bar_chart_A.encoding.x['shorthand'] should be an str\"\n",
    "assert sha1(str(len(count_bar_chart_A.encoding.x['shorthand'])).encode(\"utf-8\")+b\"d2d8c\").hexdigest() == \"313c01c2b5a8daccda478d05fe0d9a99265f2626\", \"length of count_bar_chart_A.encoding.x['shorthand'] is not correct\"\n",
    "assert sha1(str(count_bar_chart_A.encoding.x['shorthand'].lower()).encode(\"utf-8\")+b\"d2d8c\").hexdigest() == \"d998ce471ffdf43f21f045594beba34a19c600d9\", \"value of count_bar_chart_A.encoding.x['shorthand'] is not correct\"\n",
    "assert sha1(str(count_bar_chart_A.encoding.x['shorthand']).encode(\"utf-8\")+b\"d2d8c\").hexdigest() == \"d998ce471ffdf43f21f045594beba34a19c600d9\", \"correct string value of count_bar_chart_A.encoding.x['shorthand'] but incorrect case of letters\"\n",
    "\n",
    "assert sha1(str(type(count_bar_chart_A.encoding.y['shorthand'])).encode(\"utf-8\")+b\"d2d8d\").hexdigest() == \"812ec80d23f7c01ecbe8296000f1dba37c71f841\", \"type of count_bar_chart_A.encoding.y['shorthand'] is not str. count_bar_chart_A.encoding.y['shorthand'] should be an str\"\n",
    "assert sha1(str(len(count_bar_chart_A.encoding.y['shorthand'])).encode(\"utf-8\")+b\"d2d8d\").hexdigest() == \"dd4d433c3fa3f08ea7587da67a1513204d243ed9\", \"length of count_bar_chart_A.encoding.y['shorthand'] is not correct\"\n",
    "assert sha1(str(count_bar_chart_A.encoding.y['shorthand'].lower()).encode(\"utf-8\")+b\"d2d8d\").hexdigest() == \"77ac507d2d0d58acf89465211636f08c1b49715a\", \"value of count_bar_chart_A.encoding.y['shorthand'] is not correct\"\n",
    "assert sha1(str(count_bar_chart_A.encoding.y['shorthand']).encode(\"utf-8\")+b\"d2d8d\").hexdigest() == \"77ac507d2d0d58acf89465211636f08c1b49715a\", \"correct string value of count_bar_chart_A.encoding.y['shorthand'] but incorrect case of letters\"\n",
    "\n",
    "assert sha1(str(type(count_bar_chart_A.mark)).encode(\"utf-8\")+b\"d2d8e\").hexdigest() == \"10104a3979db1a2dec358b0ef15057e4a0733182\", \"type of count_bar_chart_A.mark is not str. count_bar_chart_A.mark should be an str\"\n",
    "assert sha1(str(len(count_bar_chart_A.mark)).encode(\"utf-8\")+b\"d2d8e\").hexdigest() == \"068ff1d2646212e69fecfa1041675ff6d57f8ca4\", \"length of count_bar_chart_A.mark is not correct\"\n",
    "assert sha1(str(count_bar_chart_A.mark.lower()).encode(\"utf-8\")+b\"d2d8e\").hexdigest() == \"3aef9818b57e14e50aabe7d97f67cfdf181dad31\", \"value of count_bar_chart_A.mark is not correct\"\n",
    "assert sha1(str(count_bar_chart_A.mark).encode(\"utf-8\")+b\"d2d8e\").hexdigest() == \"3aef9818b57e14e50aabe7d97f67cfdf181dad31\", \"correct string value of count_bar_chart_A.mark but incorrect case of letters\"\n",
    "\n",
    "assert sha1(str(type(isinstance(count_bar_chart_A.encoding.x['title'], str))).encode(\"utf-8\")+b\"d2d8f\").hexdigest() == \"e3c91af55f89da7353731fce284d448c68de4277\", \"type of isinstance(count_bar_chart_A.encoding.x['title'], str) is not bool. isinstance(count_bar_chart_A.encoding.x['title'], str) should be a bool\"\n",
    "assert sha1(str(isinstance(count_bar_chart_A.encoding.x['title'], str)).encode(\"utf-8\")+b\"d2d8f\").hexdigest() == \"1515952c41476e4249d25dbe3add8b098ced2449\", \"boolean value of isinstance(count_bar_chart_A.encoding.x['title'], str) is not correct\"\n",
    "\n",
    "assert sha1(str(type(isinstance(count_bar_chart_A.encoding.y['title'], str))).encode(\"utf-8\")+b\"d2d90\").hexdigest() == \"545acf6d78f0f44881ddda4f6b7836e25192ab70\", \"type of isinstance(count_bar_chart_A.encoding.y['title'], str) is not bool. isinstance(count_bar_chart_A.encoding.y['title'], str) should be a bool\"\n",
    "assert sha1(str(isinstance(count_bar_chart_A.encoding.y['title'], str)).encode(\"utf-8\")+b\"d2d90\").hexdigest() == \"88b5b70972c8a8d4b11d35dbeb154bcc955a7d49\", \"boolean value of isinstance(count_bar_chart_A.encoding.y['title'], str) is not correct\"\n",
    "\n",
    "\n",
    "assert sha1(str(type(count_bar_chart_B is None)).encode(\"utf-8\")+b\"d2d91\").hexdigest() == \"02de1d4f7bd55d0dd6b3c04345d173b50edbe616\", \"type of count_bar_chart_B is None is not bool. count_bar_chart_B is None should be a bool\"\n",
    "assert sha1(str(count_bar_chart_B is None).encode(\"utf-8\")+b\"d2d91\").hexdigest() == \"a2f6624b803a0b5d4b7cb63e481ade34ba46f5e3\", \"boolean value of count_bar_chart_B is None is not correct\"\n",
    "\n",
    "assert sha1(str(type(count_bar_chart_B.encoding.x['shorthand'])).encode(\"utf-8\")+b\"d2d92\").hexdigest() == \"4e8ca588749615d74fe915c61ddc4ace84c62495\", \"type of count_bar_chart_B.encoding.x['shorthand'] is not str. count_bar_chart_B.encoding.x['shorthand'] should be an str\"\n",
    "assert sha1(str(len(count_bar_chart_B.encoding.x['shorthand'])).encode(\"utf-8\")+b\"d2d92\").hexdigest() == \"8849fd8bdaaf9d11906257f377070a95d691dcd6\", \"length of count_bar_chart_B.encoding.x['shorthand'] is not correct\"\n",
    "assert sha1(str(count_bar_chart_B.encoding.x['shorthand'].lower()).encode(\"utf-8\")+b\"d2d92\").hexdigest() == \"479c205f7758ad4ee79f5ff99cd198bc15a468b0\", \"value of count_bar_chart_B.encoding.x['shorthand'] is not correct\"\n",
    "assert sha1(str(count_bar_chart_B.encoding.x['shorthand']).encode(\"utf-8\")+b\"d2d92\").hexdigest() == \"479c205f7758ad4ee79f5ff99cd198bc15a468b0\", \"correct string value of count_bar_chart_B.encoding.x['shorthand'] but incorrect case of letters\"\n",
    "\n",
    "assert sha1(str(type(count_bar_chart_B.encoding.y['shorthand'])).encode(\"utf-8\")+b\"d2d93\").hexdigest() == \"fb0f8155e2bcf655e9c8e3d4c2b48115b2f991eb\", \"type of count_bar_chart_B.encoding.y['shorthand'] is not str. count_bar_chart_B.encoding.y['shorthand'] should be an str\"\n",
    "assert sha1(str(len(count_bar_chart_B.encoding.y['shorthand'])).encode(\"utf-8\")+b\"d2d93\").hexdigest() == \"8a84e03d6c341a69d41b431ae919537dcef559c2\", \"length of count_bar_chart_B.encoding.y['shorthand'] is not correct\"\n",
    "assert sha1(str(count_bar_chart_B.encoding.y['shorthand'].lower()).encode(\"utf-8\")+b\"d2d93\").hexdigest() == \"45de8239cb8f3859bfdc1164a322ed63f7012b85\", \"value of count_bar_chart_B.encoding.y['shorthand'] is not correct\"\n",
    "assert sha1(str(count_bar_chart_B.encoding.y['shorthand']).encode(\"utf-8\")+b\"d2d93\").hexdigest() == \"45de8239cb8f3859bfdc1164a322ed63f7012b85\", \"correct string value of count_bar_chart_B.encoding.y['shorthand'] but incorrect case of letters\"\n",
    "\n",
    "assert sha1(str(type(count_bar_chart_B.mark)).encode(\"utf-8\")+b\"d2d94\").hexdigest() == \"0e166dff6af77539b21fa430f33204258dbec955\", \"type of count_bar_chart_B.mark is not str. count_bar_chart_B.mark should be an str\"\n",
    "assert sha1(str(len(count_bar_chart_B.mark)).encode(\"utf-8\")+b\"d2d94\").hexdigest() == \"761eea7251f441d51987a874711635792ada95a7\", \"length of count_bar_chart_B.mark is not correct\"\n",
    "assert sha1(str(count_bar_chart_B.mark.lower()).encode(\"utf-8\")+b\"d2d94\").hexdigest() == \"079bd8f966c3a8a82b12092d74035a8bfbd8df4d\", \"value of count_bar_chart_B.mark is not correct\"\n",
    "assert sha1(str(count_bar_chart_B.mark).encode(\"utf-8\")+b\"d2d94\").hexdigest() == \"079bd8f966c3a8a82b12092d74035a8bfbd8df4d\", \"correct string value of count_bar_chart_B.mark but incorrect case of letters\"\n",
    "\n",
    "assert sha1(str(type(isinstance(count_bar_chart_B.encoding.x['title'], str))).encode(\"utf-8\")+b\"d2d95\").hexdigest() == \"bd3d53baa974bb1233d5cd4480f9d31b868837e3\", \"type of isinstance(count_bar_chart_B.encoding.x['title'], str) is not bool. isinstance(count_bar_chart_B.encoding.x['title'], str) should be a bool\"\n",
    "assert sha1(str(isinstance(count_bar_chart_B.encoding.x['title'], str)).encode(\"utf-8\")+b\"d2d95\").hexdigest() == \"c343a46d4ff90801935dfb044d71f438ba6e8a48\", \"boolean value of isinstance(count_bar_chart_B.encoding.x['title'], str) is not correct\"\n",
    "\n",
    "assert sha1(str(type(isinstance(count_bar_chart_B.encoding.y['title'], str))).encode(\"utf-8\")+b\"d2d96\").hexdigest() == \"41be261104d28aeabbe8c2b9ca82819cc00fdae3\", \"type of isinstance(count_bar_chart_B.encoding.y['title'], str) is not bool. isinstance(count_bar_chart_B.encoding.y['title'], str) should be a bool\"\n",
    "assert sha1(str(isinstance(count_bar_chart_B.encoding.y['title'], str)).encode(\"utf-8\")+b\"d2d96\").hexdigest() == \"94414224d56807712653a63ee8050d785320b2d5\", \"boolean value of isinstance(count_bar_chart_B.encoding.y['title'], str) is not correct\"\n",
    "\n",
    "print('Success!')"
   ]
  },
  {
   "cell_type": "markdown",
   "metadata": {
    "deletable": false,
    "editable": false,
    "nbgrader": {
     "cell_type": "markdown",
     "checksum": "724b26bc82c520bd53bfe57f1b987f34",
     "grade": false,
     "grade_id": "cell-09a3f2ba6c0c15e4",
     "locked": true,
     "schema_version": 3,
     "solution": false
    }
   },
   "source": [
    "**Question 2.6**\n",
    "<br> {points: 1}\n",
    "\n",
    "Which is the most prevalent franchise on the west coast? Save your answer as `answer2_6` and be sure to surround the restuarant name with quotations. Pay attention to case and punctuation when answering."
   ]
  },
  {
   "cell_type": "code",
   "execution_count": null,
   "metadata": {
    "deletable": false,
    "nbgrader": {
     "cell_type": "code",
     "checksum": "9d0dfcb5f6e84964d73eb5168ac175d4",
     "grade": false,
     "grade_id": "cell-4b5e9ae3b501ff80",
     "locked": false,
     "schema_version": 3,
     "solution": true
    }
   },
   "outputs": [],
   "source": [
    "# your code here\n",
    "raise NotImplementedError"
   ]
  },
  {
   "cell_type": "code",
   "execution_count": null,
   "metadata": {
    "deletable": false,
    "editable": false,
    "nbgrader": {
     "cell_type": "code",
     "checksum": "947b748a2e7e9c45dc0a3c2358e74499",
     "grade": true,
     "grade_id": "cell-7e1f5a0036666e46",
     "locked": true,
     "points": 1,
     "schema_version": 3,
     "solution": false
    }
   },
   "outputs": [],
   "source": [
    "from hashlib import sha1\n",
    "assert sha1(str(type(answer2_6)).encode(\"utf-8\")+b\"a609f\").hexdigest() == \"e3f33cd3175f13c5b1fd35d949dbdee86ab1d2ce\", \"type of answer2_6 is not str. answer2_6 should be an str\"\n",
    "assert sha1(str(len(answer2_6)).encode(\"utf-8\")+b\"a609f\").hexdigest() == \"8359edfabee76378940203df8137aeea6f8f452d\", \"length of answer2_6 is not correct\"\n",
    "assert sha1(str(answer2_6.lower()).encode(\"utf-8\")+b\"a609f\").hexdigest() == \"d7ee8aa306adc262046f71cd8aea022ac8f25a3c\", \"value of answer2_6 is not correct\"\n",
    "assert sha1(str(answer2_6).encode(\"utf-8\")+b\"a609f\").hexdigest() == \"32e987464c76dd4424cd49e6977ff4f78aff489e\", \"correct string value of answer2_6 but incorrect case of letters\"\n",
    "\n",
    "print('Success!')"
   ]
  },
  {
   "cell_type": "markdown",
   "metadata": {
    "deletable": false,
    "editable": false,
    "nbgrader": {
     "cell_type": "markdown",
     "checksum": "fef97a75f009548a1ada275e803e0fbe",
     "grade": false,
     "grade_id": "cell-21bc1492a7923acd",
     "locked": true,
     "schema_version": 3,
     "solution": false
    }
   },
   "source": [
    "**Question 2.7** \n",
    "<br> {points: 1}\n",
    "\n",
    "Next, let's find which state on the west coast has the highest number of those top 9 fast-food restuarants we found earlier. To do this we need to use the names in `top_restaurants` to get the counts of each restaurant in each of the 3 states from the `fast_food` data frame. You will need to use `isin` to filter out the names of the restaurants that are not in the `top_restaurants` list. We can use the same method to do the filtering for the states as well. Name this data frame `state_counts`."
   ]
  },
  {
   "cell_type": "code",
   "execution_count": null,
   "metadata": {
    "deletable": false,
    "nbgrader": {
     "cell_type": "code",
     "checksum": "c000550a755dbbac5fa9b9c722376ef4",
     "grade": false,
     "grade_id": "cell-fdd4333a78788519",
     "locked": false,
     "schema_version": 3,
     "solution": true
    }
   },
   "outputs": [],
   "source": [
    "# state_counts = (\n",
    "#     ___[\n",
    "#         fast_food[___].isin(top_restaurants[\"name\"])\n",
    "#         & fast_food[___].isin([\"CA\", \"WA\", \"OR\"])\n",
    "#     ]\n",
    "#     .___('st')\n",
    "#     .reset_index()\n",
    "# )\n",
    "\n",
    "# your code here\n",
    "raise NotImplementedError\n",
    "state_counts"
   ]
  },
  {
   "cell_type": "code",
   "execution_count": null,
   "metadata": {
    "deletable": false,
    "editable": false,
    "nbgrader": {
     "cell_type": "code",
     "checksum": "9cd9c8a583e58a9be4aacedac8ec349d",
     "grade": true,
     "grade_id": "cell-53713f7578969f5c",
     "locked": true,
     "points": 1,
     "schema_version": 3,
     "solution": false
    }
   },
   "outputs": [],
   "source": [
    "from hashlib import sha1\n",
    "assert sha1(str(type(state_counts is None)).encode(\"utf-8\")+b\"69b98\").hexdigest() == \"a0c287b9f533bd68ca21a0f79ef8b2b0a2894b99\", \"type of state_counts is None is not bool. state_counts is None should be a bool\"\n",
    "assert sha1(str(state_counts is None).encode(\"utf-8\")+b\"69b98\").hexdigest() == \"85f31ae4cbe76100fd07d2fff033d5b72a918b33\", \"boolean value of state_counts is None is not correct\"\n",
    "\n",
    "assert sha1(str(type(state_counts.st.values)).encode(\"utf-8\")+b\"69b99\").hexdigest() == \"8a0c9b0465b8e536d9511b85f0489972caf74d32\", \"type of state_counts.st.values is not correct\"\n",
    "assert sha1(str(state_counts.st.values).encode(\"utf-8\")+b\"69b99\").hexdigest() == \"4901d0b6cf89ff1c8184a719e7e88cadc80c3122\", \"value of state_counts.st.values is not correct\"\n",
    "\n",
    "assert sha1(str(type(state_counts.shape)).encode(\"utf-8\")+b\"69b9a\").hexdigest() == \"af32a10e9887b6506b4d8917eb02a786fefed889\", \"type of state_counts.shape is not tuple. state_counts.shape should be a tuple\"\n",
    "assert sha1(str(len(state_counts.shape)).encode(\"utf-8\")+b\"69b9a\").hexdigest() == \"31b53f3437dd8c954f77ff1ba386571b15e5fa60\", \"length of state_counts.shape is not correct\"\n",
    "assert sha1(str(sorted(map(str, state_counts.shape))).encode(\"utf-8\")+b\"69b9a\").hexdigest() == \"9a190aa1797d2480ecf04ef368675cc0c35e14a9\", \"values of state_counts.shape are not correct\"\n",
    "assert sha1(str(state_counts.shape).encode(\"utf-8\")+b\"69b9a\").hexdigest() == \"2a5d42218013e589baf68b85725ba40d708213d7\", \"order of elements of state_counts.shape is not correct\"\n",
    "\n",
    "assert sha1(str(type(sum(state_counts['count']))).encode(\"utf-8\")+b\"69b9b\").hexdigest() == \"8c3f826d79f1d40e10b0c99cfd48b0f6e6b0cc19\", \"type of sum(state_counts['count']) is not int. Please make sure it is int and not np.int64, etc. You can cast your value into an int using int()\"\n",
    "assert sha1(str(sum(state_counts['count'])).encode(\"utf-8\")+b\"69b9b\").hexdigest() == \"f34b291a9e728fa11bd02c246f97d6dfb83445c8\", \"value of sum(state_counts['count']) is not correct\"\n",
    "\n",
    "print('Success!')"
   ]
  },
  {
   "cell_type": "markdown",
   "metadata": {
    "deletable": false,
    "editable": false,
    "nbgrader": {
     "cell_type": "markdown",
     "checksum": "70a25f8e5b2a071eb5f9c2544390a8cb",
     "grade": false,
     "grade_id": "cell-d7ee2bd6b5df79ae",
     "locked": true,
     "schema_version": 3,
     "solution": false
    }
   },
   "source": [
    "**Question 2.8**\n",
    "<br> {points: 1}\n",
    "\n",
    "Now, create a bar plot that has restaurant count on the y-axis and US state on the x-axis. Name the plot `state_counts_plot` and title the axes appropriately."
   ]
  },
  {
   "cell_type": "code",
   "execution_count": null,
   "metadata": {
    "deletable": false,
    "nbgrader": {
     "cell_type": "code",
     "checksum": "00a29aa3c9ea88f1e4875f3a7e24a1dd",
     "grade": false,
     "grade_id": "cell-b7d101d1906d201c",
     "locked": false,
     "schema_version": 3,
     "solution": true
    }
   },
   "outputs": [],
   "source": [
    "# ___ = ___\n",
    "\n",
    "# your code here\n",
    "raise NotImplementedError\n",
    "state_counts_plot"
   ]
  },
  {
   "cell_type": "code",
   "execution_count": null,
   "metadata": {
    "deletable": false,
    "editable": false,
    "nbgrader": {
     "cell_type": "code",
     "checksum": "1e8f4852191d1caf95ac75c611396d35",
     "grade": true,
     "grade_id": "cell-3ee58280015e1838",
     "locked": true,
     "points": 1,
     "schema_version": 3,
     "solution": false
    }
   },
   "outputs": [],
   "source": [
    "from hashlib import sha1\n",
    "assert sha1(str(type(state_counts_plot is None)).encode(\"utf-8\")+b\"767d8\").hexdigest() == \"506b7d18c9401af4daf3c30c0c6e824ec0e55aae\", \"type of state_counts_plot is None is not bool. state_counts_plot is None should be a bool\"\n",
    "assert sha1(str(state_counts_plot is None).encode(\"utf-8\")+b\"767d8\").hexdigest() == \"57e7cb6bf4ec88e08e1f9a24dffb18fd6ff589bc\", \"boolean value of state_counts_plot is None is not correct\"\n",
    "\n",
    "assert sha1(str(type(state_counts_plot.encoding.x['shorthand'])).encode(\"utf-8\")+b\"767d9\").hexdigest() == \"0a0e705033743f7b9eea5c380dc15e83399cf891\", \"type of state_counts_plot.encoding.x['shorthand'] is not str. state_counts_plot.encoding.x['shorthand'] should be an str\"\n",
    "assert sha1(str(len(state_counts_plot.encoding.x['shorthand'])).encode(\"utf-8\")+b\"767d9\").hexdigest() == \"872a4e5579b262ff5bb34df7aa1991e9f237a8f4\", \"length of state_counts_plot.encoding.x['shorthand'] is not correct\"\n",
    "assert sha1(str(state_counts_plot.encoding.x['shorthand'].lower()).encode(\"utf-8\")+b\"767d9\").hexdigest() == \"34f4982db7aa5ab1239029d2490475e8940bba99\", \"value of state_counts_plot.encoding.x['shorthand'] is not correct\"\n",
    "assert sha1(str(state_counts_plot.encoding.x['shorthand']).encode(\"utf-8\")+b\"767d9\").hexdigest() == \"34f4982db7aa5ab1239029d2490475e8940bba99\", \"correct string value of state_counts_plot.encoding.x['shorthand'] but incorrect case of letters\"\n",
    "\n",
    "assert sha1(str(type(state_counts_plot.encoding.y['shorthand'])).encode(\"utf-8\")+b\"767da\").hexdigest() == \"9dfa06170fbb401c50499fea4cf48ec8d6b362c2\", \"type of state_counts_plot.encoding.y['shorthand'] is not str. state_counts_plot.encoding.y['shorthand'] should be an str\"\n",
    "assert sha1(str(len(state_counts_plot.encoding.y['shorthand'])).encode(\"utf-8\")+b\"767da\").hexdigest() == \"be1e25dd09a7c3bfb10a0c4043ec2b6088d8f8be\", \"length of state_counts_plot.encoding.y['shorthand'] is not correct\"\n",
    "assert sha1(str(state_counts_plot.encoding.y['shorthand'].lower()).encode(\"utf-8\")+b\"767da\").hexdigest() == \"5ea0d5320b2090e8e40c91b739c693695b33a2a0\", \"value of state_counts_plot.encoding.y['shorthand'] is not correct\"\n",
    "assert sha1(str(state_counts_plot.encoding.y['shorthand']).encode(\"utf-8\")+b\"767da\").hexdigest() == \"5ea0d5320b2090e8e40c91b739c693695b33a2a0\", \"correct string value of state_counts_plot.encoding.y['shorthand'] but incorrect case of letters\"\n",
    "\n",
    "assert sha1(str(type(state_counts_plot.mark)).encode(\"utf-8\")+b\"767db\").hexdigest() == \"77e059381d7ff3209cd83110f07bf57c121141ed\", \"type of state_counts_plot.mark is not str. state_counts_plot.mark should be an str\"\n",
    "assert sha1(str(len(state_counts_plot.mark)).encode(\"utf-8\")+b\"767db\").hexdigest() == \"ff4014a22ea12f11bcd7c626bc2005fb98c28062\", \"length of state_counts_plot.mark is not correct\"\n",
    "assert sha1(str(state_counts_plot.mark.lower()).encode(\"utf-8\")+b\"767db\").hexdigest() == \"2df96f901bcc3c21ba0e3406676d44941abd5383\", \"value of state_counts_plot.mark is not correct\"\n",
    "assert sha1(str(state_counts_plot.mark).encode(\"utf-8\")+b\"767db\").hexdigest() == \"2df96f901bcc3c21ba0e3406676d44941abd5383\", \"correct string value of state_counts_plot.mark but incorrect case of letters\"\n",
    "\n",
    "assert sha1(str(type(isinstance(state_counts_plot.encoding.x['title'], str))).encode(\"utf-8\")+b\"767dc\").hexdigest() == \"2acf9ebdd63d5527d42c66b2399ffbc2de0016e3\", \"type of isinstance(state_counts_plot.encoding.x['title'], str) is not bool. isinstance(state_counts_plot.encoding.x['title'], str) should be a bool\"\n",
    "assert sha1(str(isinstance(state_counts_plot.encoding.x['title'], str)).encode(\"utf-8\")+b\"767dc\").hexdigest() == \"156839d155877d2842910c716d7a4bf398983130\", \"boolean value of isinstance(state_counts_plot.encoding.x['title'], str) is not correct\"\n",
    "\n",
    "assert sha1(str(type(isinstance(state_counts_plot.encoding.y['title'], str))).encode(\"utf-8\")+b\"767dd\").hexdigest() == \"91e87098d101228f1ef6b6a982eed7ee528733ca\", \"type of isinstance(state_counts_plot.encoding.y['title'], str) is not bool. isinstance(state_counts_plot.encoding.y['title'], str) should be a bool\"\n",
    "assert sha1(str(isinstance(state_counts_plot.encoding.y['title'], str)).encode(\"utf-8\")+b\"767dd\").hexdigest() == \"620ea52a9aabc61bb636de449c6b1052eeddcc43\", \"boolean value of isinstance(state_counts_plot.encoding.y['title'], str) is not correct\"\n",
    "\n",
    "print('Success!')"
   ]
  },
  {
   "cell_type": "markdown",
   "metadata": {
    "deletable": false,
    "editable": false,
    "nbgrader": {
     "cell_type": "markdown",
     "checksum": "721e65a87691d1956f2844f8845c89a3",
     "grade": false,
     "grade_id": "cell-b50e50c135e6d682",
     "locked": true,
     "schema_version": 3,
     "solution": false
    }
   },
   "source": [
    "**Question 2.9.0**\n",
    "<br> {points: 1}\n",
    "\n",
    "Which state (CA, OR, WA) has the highest number of fast-food restuarants? Save your answer as `answer2_9_0` and be sure to surround the state initialism with quotations (e.g. `\"NY\"`). Pay attention to case and punctuation when answering."
   ]
  },
  {
   "cell_type": "code",
   "execution_count": null,
   "metadata": {
    "deletable": false,
    "nbgrader": {
     "cell_type": "code",
     "checksum": "8a7859ec3c4200bd96a50f2de05da2c1",
     "grade": false,
     "grade_id": "cell-3808cf146c117d12",
     "locked": false,
     "schema_version": 3,
     "solution": true
    }
   },
   "outputs": [],
   "source": [
    "# your code here\n",
    "raise NotImplementedError"
   ]
  },
  {
   "cell_type": "code",
   "execution_count": null,
   "metadata": {
    "deletable": false,
    "editable": false,
    "nbgrader": {
     "cell_type": "code",
     "checksum": "9af948ccb5400eaaae69a6e71a40f93c",
     "grade": true,
     "grade_id": "cell-a17cc0ffac7cd795",
     "locked": true,
     "points": 1,
     "schema_version": 3,
     "solution": false
    }
   },
   "outputs": [],
   "source": [
    "from hashlib import sha1\n",
    "assert sha1(str(type(answer2_9_0)).encode(\"utf-8\")+b\"ea5e\").hexdigest() == \"2d6c7f63a3f8e526555de56098d86bc2f1420c66\", \"type of answer2_9_0 is not str. answer2_9_0 should be an str\"\n",
    "assert sha1(str(len(answer2_9_0)).encode(\"utf-8\")+b\"ea5e\").hexdigest() == \"e7150d7a8d5cd75a580605a66e082f0f2cc15f93\", \"length of answer2_9_0 is not correct\"\n",
    "assert sha1(str(answer2_9_0.lower()).encode(\"utf-8\")+b\"ea5e\").hexdigest() == \"ea5358ddcdfca2ba8612797d75ba5d5a71dee83f\", \"value of answer2_9_0 is not correct\"\n",
    "assert sha1(str(answer2_9_0).encode(\"utf-8\")+b\"ea5e\").hexdigest() == \"6c9deddfab28b7afe1c03bbded7dc0cfbcb9a5d8\", \"correct string value of answer2_9_0 but incorrect case of letters\"\n",
    "\n",
    "print('Success!')"
   ]
  },
  {
   "cell_type": "markdown",
   "metadata": {
    "deletable": false,
    "editable": false,
    "nbgrader": {
     "cell_type": "markdown",
     "checksum": "18fbe3367ad55765d5a741e82d5bdfc1",
     "grade": false,
     "grade_id": "cell-d202e7ffd51f7ed6",
     "locked": true,
     "schema_version": 3,
     "solution": false,
     "task": false
    }
   },
   "source": [
    "Consider the populations of California (39.512 million), Oregon (4.217 million) and Washington (7.615 million) (source: [United States Census Bureau](https://www.census.gov/data/tables/time-series/demo/popest/2010s-state-total.html), visited on April 2020). Discuss with your neighbour about whether using the raw restaurant count for each state is the best measure of competition? Would restaurant per capita be a better alternative?"
   ]
  },
  {
   "cell_type": "markdown",
   "metadata": {
    "deletable": false,
    "editable": false,
    "nbgrader": {
     "cell_type": "markdown",
     "checksum": "0178a29d3a421429330e4dbf0caf3e4e",
     "grade": false,
     "grade_id": "cell-f1cdfd674e10939c",
     "locked": true,
     "schema_version": 3,
     "solution": false,
     "task": false
    }
   },
   "source": [
    "Calculate the restaurant per capita for the states on the west coast by uncommenting and filling in the `___` in the code below."
   ]
  },
  {
   "cell_type": "code",
   "execution_count": null,
   "metadata": {},
   "outputs": [],
   "source": [
    "# population = [39.512, 4.217, 7.615]\n",
    "\n",
    "# state_counts[\"n_per_capita\"] = ___ / population"
   ]
  },
  {
   "cell_type": "markdown",
   "metadata": {
    "deletable": false,
    "editable": false,
    "nbgrader": {
     "cell_type": "markdown",
     "checksum": "865aff7902ea6bdc8ae9ade34a4bcf14",
     "grade": false,
     "grade_id": "cell-81dda6467a7fbc87",
     "locked": true,
     "schema_version": 3,
     "solution": false,
     "task": false
    }
   },
   "source": [
    "**Question 2.9.1** Multiple Choice:\n",
    "<br> {points: 1}\n",
    "\n",
    "Which state has the highest number of fast food restaurants per capita?\n",
    "\n",
    "A. Washington\n",
    "\n",
    "B. California\n",
    "\n",
    "C. Oregon\n",
    "\n",
    "*Assign your answer to an object called `answer2_9_1`. Make sure your answer is an uppercase letter and is surrounded by quotation marks (e.g. `\"F\"`).*"
   ]
  },
  {
   "cell_type": "code",
   "execution_count": null,
   "metadata": {
    "deletable": false,
    "nbgrader": {
     "cell_type": "code",
     "checksum": "5bfdccb35dbd2f485a2f493fda1f82b2",
     "grade": false,
     "grade_id": "cell-7df84a13da5e51bc",
     "locked": false,
     "schema_version": 3,
     "solution": true,
     "task": false
    }
   },
   "outputs": [],
   "source": [
    "# your code here\n",
    "raise NotImplementedError"
   ]
  },
  {
   "cell_type": "code",
   "execution_count": null,
   "metadata": {
    "deletable": false,
    "editable": false,
    "nbgrader": {
     "cell_type": "code",
     "checksum": "6d70ff71f4832cd916d7bd411663c8d6",
     "grade": true,
     "grade_id": "cell-caee5ba3ec18fa8c",
     "locked": true,
     "points": 1,
     "schema_version": 3,
     "solution": false,
     "task": false
    }
   },
   "outputs": [],
   "source": [
    "from hashlib import sha1\n",
    "assert sha1(str(type(answer2_9_1)).encode(\"utf-8\")+b\"c5f89\").hexdigest() == \"9445fb56d260eb7bc52176dfe94875c98249b7a8\", \"type of answer2_9_1 is not str. answer2_9_1 should be an str\"\n",
    "assert sha1(str(len(answer2_9_1)).encode(\"utf-8\")+b\"c5f89\").hexdigest() == \"f440412bb3db71e69db5a03d9f5f5971adf38a6f\", \"length of answer2_9_1 is not correct\"\n",
    "assert sha1(str(answer2_9_1.lower()).encode(\"utf-8\")+b\"c5f89\").hexdigest() == \"00b92416c08a56cf41cd01f93a9355f9018828ab\", \"value of answer2_9_1 is not correct\"\n",
    "assert sha1(str(answer2_9_1).encode(\"utf-8\")+b\"c5f89\").hexdigest() == \"55b86a3514beb0c3b8f36e139e4d982d3b83965a\", \"correct string value of answer2_9_1 but incorrect case of letters\"\n",
    "\n",
    "print('Success!')"
   ]
  },
  {
   "cell_type": "markdown",
   "metadata": {
    "deletable": false,
    "editable": false,
    "nbgrader": {
     "cell_type": "markdown",
     "checksum": "ec30bbcdd926832720a886c9fed4bc60",
     "grade": false,
     "grade_id": "cell-6ae4fef0681d6b96",
     "locked": true,
     "schema_version": 3,
     "solution": false,
     "task": false
    }
   },
   "source": [
    "**Question 2.9.2** \n",
    "<br> {points: 1}\n",
    "\n",
    "Is the most dominant/top franchise consistent across different states along the west coast? To answer this question we need a data frame that has three columns: `name` (restaurant), `st` (state) and `count` (restaurant count). We can use the same code from Q2.7 for this, but we will need to count the combinations of `st` and `name` instead of just `st` alone. We can do this by passing a list of the two columns to the `value_counts()` method as in the scaffolded code below."
   ]
  },
  {
   "cell_type": "code",
   "execution_count": null,
   "metadata": {
    "deletable": false,
    "nbgrader": {
     "cell_type": "code",
     "checksum": "eb8d7e447636cf5ebf95990889cdd661",
     "grade": false,
     "grade_id": "cell-fa13c7c54d724542",
     "locked": false,
     "schema_version": 3,
     "solution": true
    }
   },
   "outputs": [],
   "source": [
    "# ___ = (\n",
    "#     fast_food[\n",
    "#         ___\n",
    "#         & ___\n",
    "#     ]\n",
    "#     .___(['st', 'name'])\n",
    "#     .___()\n",
    "# )\n",
    "\n",
    "# your code here\n",
    "raise NotImplementedError\n",
    "top_n_state"
   ]
  },
  {
   "cell_type": "code",
   "execution_count": null,
   "metadata": {
    "deletable": false,
    "editable": false,
    "nbgrader": {
     "cell_type": "code",
     "checksum": "6e464d779bb39753aab0c4987a6494dd",
     "grade": true,
     "grade_id": "cell-58b0fb2c06951419",
     "locked": true,
     "points": 1,
     "schema_version": 3,
     "solution": false
    }
   },
   "outputs": [],
   "source": [
    "from hashlib import sha1\n",
    "assert sha1(str(type(top_n_state is None)).encode(\"utf-8\")+b\"d1db8\").hexdigest() == \"8fc343a32078c83fe48ef7260e90ecc3f8a92d5d\", \"type of top_n_state is None is not bool. top_n_state is None should be a bool\"\n",
    "assert sha1(str(top_n_state is None).encode(\"utf-8\")+b\"d1db8\").hexdigest() == \"3cb63997fe43479eb4b5ceb43e086c68eca6fa58\", \"boolean value of top_n_state is None is not correct\"\n",
    "\n",
    "assert sha1(str(type(top_n_state.st.unique())).encode(\"utf-8\")+b\"d1db9\").hexdigest() == \"5e8fe6526c2b278216259a44b15b9104a1a0173a\", \"type of top_n_state.st.unique() is not correct\"\n",
    "assert sha1(str(top_n_state.st.unique()).encode(\"utf-8\")+b\"d1db9\").hexdigest() == \"f70ce99c829c383391c9904a8de6cf990155f382\", \"value of top_n_state.st.unique() is not correct\"\n",
    "\n",
    "assert sha1(str(type(top_n_state.shape)).encode(\"utf-8\")+b\"d1dba\").hexdigest() == \"331b05b38636f69b78db3080a5e61f4c45c1f990\", \"type of top_n_state.shape is not tuple. top_n_state.shape should be a tuple\"\n",
    "assert sha1(str(len(top_n_state.shape)).encode(\"utf-8\")+b\"d1dba\").hexdigest() == \"0488e87ce59f0e54e4cece67cde07cff8c85d486\", \"length of top_n_state.shape is not correct\"\n",
    "assert sha1(str(sorted(map(str, top_n_state.shape))).encode(\"utf-8\")+b\"d1dba\").hexdigest() == \"0d671ab9eb903be474ef71a4f667185d00d140d7\", \"values of top_n_state.shape are not correct\"\n",
    "assert sha1(str(top_n_state.shape).encode(\"utf-8\")+b\"d1dba\").hexdigest() == \"287bd7b9eed90fef0cfeae9be1468bc64e164246\", \"order of elements of top_n_state.shape is not correct\"\n",
    "\n",
    "assert sha1(str(type(sum(top_n_state['count'].dropna()))).encode(\"utf-8\")+b\"d1dbb\").hexdigest() == \"3a7de9d57607bb4f4cacffea29a6f9b73b02f49e\", \"type of sum(top_n_state['count'].dropna()) is not int. Please make sure it is int and not np.int64, etc. You can cast your value into an int using int()\"\n",
    "assert sha1(str(sum(top_n_state['count'].dropna())).encode(\"utf-8\")+b\"d1dbb\").hexdigest() == \"e4cc3f4fff305cd62308f9c4969c8d8ecb8eb4ff\", \"value of sum(top_n_state['count'].dropna()) is not correct\"\n",
    "\n",
    "print('Success!')"
   ]
  },
  {
   "cell_type": "markdown",
   "metadata": {
    "deletable": false,
    "editable": false,
    "nbgrader": {
     "cell_type": "markdown",
     "checksum": "3f3966723c970befcdcfaa410b20473f",
     "grade": false,
     "grade_id": "cell-fbbbd065920901d2",
     "locked": true,
     "schema_version": 3,
     "solution": false
    }
   },
   "source": [
    "**Question 2.9.3** \n",
    "<br> {points: 1}\n",
    "\n",
    "Plot the top 9 fast food restaurants as a stacked bar chart. The state name should be on the x-axis and the restaurant name should be encoded as the color. The y-axis will be the percentage of the stacked bars which we can get by using `stack(\"normalize)\"` on the Y encoding as in the scaffolded code below. Assign appropriate titles to the axes and the legend.\n",
    "\n",
    "*Assign your answer to an object called `top_n_state_plot2`*."
   ]
  },
  {
   "cell_type": "code",
   "execution_count": null,
   "metadata": {
    "deletable": false,
    "nbgrader": {
     "cell_type": "code",
     "checksum": "6e942a4363b98db996d2caea4dec64ff",
     "grade": false,
     "grade_id": "cell-8d848ab3e4d34d85",
     "locked": false,
     "schema_version": 3,
     "solution": true
    }
   },
   "outputs": [],
   "source": [
    "# ___ = alt.Chart(___).mark_bar().encode(\n",
    "#     y=alt.Y(___)\n",
    "#         .stack(\"normalize\")\n",
    "#         .title(___),\n",
    "#     x=alt.X(___).title(___),\n",
    "#     color=alt.Color(___).title(___)\n",
    "# )\n",
    "\n",
    "# your code here\n",
    "raise NotImplementedError\n",
    "top_n_state_plot2"
   ]
  },
  {
   "cell_type": "code",
   "execution_count": null,
   "metadata": {
    "deletable": false,
    "editable": false,
    "nbgrader": {
     "cell_type": "code",
     "checksum": "a7c2f3516e023ca75f83b88202dafb41",
     "grade": true,
     "grade_id": "cell-b90d158867cf1c27",
     "locked": true,
     "points": 1,
     "schema_version": 3,
     "solution": false
    }
   },
   "outputs": [],
   "source": [
    "from hashlib import sha1\n",
    "assert sha1(str(type(top_n_state_plot2 is None)).encode(\"utf-8\")+b\"429d4\").hexdigest() == \"6b5a522fd4de32109e45b72912c21c1868cdd45d\", \"type of top_n_state_plot2 is None is not bool. top_n_state_plot2 is None should be a bool\"\n",
    "assert sha1(str(top_n_state_plot2 is None).encode(\"utf-8\")+b\"429d4\").hexdigest() == \"98cbbe0ad870b4f43806462a331942193b3d0f0c\", \"boolean value of top_n_state_plot2 is None is not correct\"\n",
    "\n",
    "assert sha1(str(type(top_n_state_plot2.encoding.x['shorthand'])).encode(\"utf-8\")+b\"429d5\").hexdigest() == \"c15da33231540edcab1d65bc4273cfed95121090\", \"type of top_n_state_plot2.encoding.x['shorthand'] is not str. top_n_state_plot2.encoding.x['shorthand'] should be an str\"\n",
    "assert sha1(str(len(top_n_state_plot2.encoding.x['shorthand'])).encode(\"utf-8\")+b\"429d5\").hexdigest() == \"c7d4d8e9ee520cbb58914fd4a217794c04195324\", \"length of top_n_state_plot2.encoding.x['shorthand'] is not correct\"\n",
    "assert sha1(str(top_n_state_plot2.encoding.x['shorthand'].lower()).encode(\"utf-8\")+b\"429d5\").hexdigest() == \"3a11dc316e9c32c3e39af9d120a949dde400d2e5\", \"value of top_n_state_plot2.encoding.x['shorthand'] is not correct\"\n",
    "assert sha1(str(top_n_state_plot2.encoding.x['shorthand']).encode(\"utf-8\")+b\"429d5\").hexdigest() == \"3a11dc316e9c32c3e39af9d120a949dde400d2e5\", \"correct string value of top_n_state_plot2.encoding.x['shorthand'] but incorrect case of letters\"\n",
    "\n",
    "assert sha1(str(type(top_n_state_plot2.encoding.y['shorthand'])).encode(\"utf-8\")+b\"429d6\").hexdigest() == \"0cb6f4c9c53f1a35a1bc1349dbb22fbc94dd59f7\", \"type of top_n_state_plot2.encoding.y['shorthand'] is not str. top_n_state_plot2.encoding.y['shorthand'] should be an str\"\n",
    "assert sha1(str(len(top_n_state_plot2.encoding.y['shorthand'])).encode(\"utf-8\")+b\"429d6\").hexdigest() == \"3ef90085c1f2ef4d802b9a41a1f6173cd854bcb4\", \"length of top_n_state_plot2.encoding.y['shorthand'] is not correct\"\n",
    "assert sha1(str(top_n_state_plot2.encoding.y['shorthand'].lower()).encode(\"utf-8\")+b\"429d6\").hexdigest() == \"651eb95f8c8baeba836459b88971a28a04d3ac35\", \"value of top_n_state_plot2.encoding.y['shorthand'] is not correct\"\n",
    "assert sha1(str(top_n_state_plot2.encoding.y['shorthand']).encode(\"utf-8\")+b\"429d6\").hexdigest() == \"651eb95f8c8baeba836459b88971a28a04d3ac35\", \"correct string value of top_n_state_plot2.encoding.y['shorthand'] but incorrect case of letters\"\n",
    "\n",
    "assert sha1(str(type(top_n_state_plot2.encoding.color['shorthand'])).encode(\"utf-8\")+b\"429d7\").hexdigest() == \"22920c99911a6b49f5715c73834e4b541d28e905\", \"type of top_n_state_plot2.encoding.color['shorthand'] is not str. top_n_state_plot2.encoding.color['shorthand'] should be an str\"\n",
    "assert sha1(str(len(top_n_state_plot2.encoding.color['shorthand'])).encode(\"utf-8\")+b\"429d7\").hexdigest() == \"6e7385b75dc3016be1b1099d162f63bca81f91a6\", \"length of top_n_state_plot2.encoding.color['shorthand'] is not correct\"\n",
    "assert sha1(str(top_n_state_plot2.encoding.color['shorthand'].lower()).encode(\"utf-8\")+b\"429d7\").hexdigest() == \"c30b1b8d9545b93ecdc0cc571396c7dfc24b17a9\", \"value of top_n_state_plot2.encoding.color['shorthand'] is not correct\"\n",
    "assert sha1(str(top_n_state_plot2.encoding.color['shorthand']).encode(\"utf-8\")+b\"429d7\").hexdigest() == \"c30b1b8d9545b93ecdc0cc571396c7dfc24b17a9\", \"correct string value of top_n_state_plot2.encoding.color['shorthand'] but incorrect case of letters\"\n",
    "\n",
    "assert sha1(str(type(top_n_state_plot2.mark)).encode(\"utf-8\")+b\"429d8\").hexdigest() == \"cca8557889cfef4b3ca47cf920ad565268d0a210\", \"type of top_n_state_plot2.mark is not str. top_n_state_plot2.mark should be an str\"\n",
    "assert sha1(str(len(top_n_state_plot2.mark)).encode(\"utf-8\")+b\"429d8\").hexdigest() == \"6a6f727e394e2bb767bff2d339e2afa6b5f34cf7\", \"length of top_n_state_plot2.mark is not correct\"\n",
    "assert sha1(str(top_n_state_plot2.mark.lower()).encode(\"utf-8\")+b\"429d8\").hexdigest() == \"9fe66f817f4b8c02aaffbb0404154f761420383c\", \"value of top_n_state_plot2.mark is not correct\"\n",
    "assert sha1(str(top_n_state_plot2.mark).encode(\"utf-8\")+b\"429d8\").hexdigest() == \"9fe66f817f4b8c02aaffbb0404154f761420383c\", \"correct string value of top_n_state_plot2.mark but incorrect case of letters\"\n",
    "\n",
    "assert sha1(str(type(isinstance(top_n_state_plot2.encoding.x['title'], str))).encode(\"utf-8\")+b\"429d9\").hexdigest() == \"133105e02c4cfbe3b5d0d60a8764a15ac41ac19e\", \"type of isinstance(top_n_state_plot2.encoding.x['title'], str) is not bool. isinstance(top_n_state_plot2.encoding.x['title'], str) should be a bool\"\n",
    "assert sha1(str(isinstance(top_n_state_plot2.encoding.x['title'], str)).encode(\"utf-8\")+b\"429d9\").hexdigest() == \"d80f9403c0617c45832b427f1741f0ac83fc4e8c\", \"boolean value of isinstance(top_n_state_plot2.encoding.x['title'], str) is not correct\"\n",
    "\n",
    "assert sha1(str(type(isinstance(top_n_state_plot2.encoding.y['title'], str))).encode(\"utf-8\")+b\"429da\").hexdigest() == \"420ffbd9c9a8cbf8df8f1c85b80ce7f592d2e467\", \"type of isinstance(top_n_state_plot2.encoding.y['title'], str) is not bool. isinstance(top_n_state_plot2.encoding.y['title'], str) should be a bool\"\n",
    "assert sha1(str(isinstance(top_n_state_plot2.encoding.y['title'], str)).encode(\"utf-8\")+b\"429da\").hexdigest() == \"b90fc86034db7af8d3d0dea505443d103ce397c2\", \"boolean value of isinstance(top_n_state_plot2.encoding.y['title'], str) is not correct\"\n",
    "\n",
    "assert sha1(str(type(isinstance(top_n_state_plot2.encoding.color['title'], str))).encode(\"utf-8\")+b\"429db\").hexdigest() == \"91f7347a4a7adcbec7fd1a5a07f843cecfedb381\", \"type of isinstance(top_n_state_plot2.encoding.color['title'], str) is not bool. isinstance(top_n_state_plot2.encoding.color['title'], str) should be a bool\"\n",
    "assert sha1(str(isinstance(top_n_state_plot2.encoding.color['title'], str)).encode(\"utf-8\")+b\"429db\").hexdigest() == \"034569c64569ca0234aa26c30e7d61abb4904f0b\", \"boolean value of isinstance(top_n_state_plot2.encoding.color['title'], str) is not correct\"\n",
    "\n",
    "print('Success!')"
   ]
  },
  {
   "cell_type": "markdown",
   "metadata": {
    "deletable": false,
    "editable": false,
    "nbgrader": {
     "cell_type": "markdown",
     "checksum": "998b3807a5af09b047397c8d4219ca7e",
     "grade": false,
     "grade_id": "cell-ff61d705f3a66bac",
     "locked": true,
     "schema_version": 3,
     "solution": false,
     "task": false
    }
   },
   "source": [
    "How easy is it to compare the restaurants and states to answer our question: Is the most dominant/top franchise consistent across the West-Coast? If we carefully look at this plot we can pick answer this question, but it takes us a while to process this. If we instead visualize this as a side-by-side bar chart we might be able to do this comparison easier (making it a more effective visualization)."
   ]
  },
  {
   "cell_type": "markdown",
   "metadata": {
    "deletable": false,
    "editable": false,
    "nbgrader": {
     "cell_type": "markdown",
     "checksum": "f98f0f21f0648fbbdd89c4f5b85130e8",
     "grade": false,
     "grade_id": "cell-bc917b8d65a605c2",
     "locked": true,
     "schema_version": 3,
     "solution": false
    }
   },
   "source": [
    "**Question 2.9.4** \n",
    "<br> {points: 1}\n",
    "\n",
    "Plot the counts (y-axis) for the top 9 fast food restaurants (x-axis) on the west coast, per US State, as a bar chart using `mark_bar`. Color the bars by the restaurant's by name and also use the name for the x-axis encoding. Facet the bar chart by state.\n",
    "\n",
    "To do this fill in the `___` in the cell below.  Make sure to label your axes.\n",
    "\n",
    "*Assign your answer to an object called `top_n_state_plot`.*"
   ]
  },
  {
   "cell_type": "code",
   "execution_count": null,
   "metadata": {
    "deletable": false,
    "nbgrader": {
     "cell_type": "code",
     "checksum": "821ff4933aedd3c61be104dc7a451f72",
     "grade": false,
     "grade_id": "cell-e76e0bf48a0e8854",
     "locked": false,
     "schema_version": 3,
     "solution": true
    }
   },
   "outputs": [],
   "source": [
    "# ___ = alt.Chart(___).mark_bar().encode(\n",
    "#     x=alt.X(___).title(None),\n",
    "#     y=alt.Y(___).title(___),\n",
    "#     color=alt.Color(___).title(___)\n",
    "# ).facet(\n",
    "#     ___\n",
    "# )\n",
    "\n",
    "# your code here\n",
    "raise NotImplementedError\n",
    "top_n_state_plot"
   ]
  },
  {
   "cell_type": "code",
   "execution_count": null,
   "metadata": {
    "deletable": false,
    "editable": false,
    "nbgrader": {
     "cell_type": "code",
     "checksum": "93f06eedd181e3c05c7945afb327b202",
     "grade": true,
     "grade_id": "cell-ed385a60b4c8a6d0",
     "locked": true,
     "points": 1,
     "schema_version": 3,
     "solution": false
    }
   },
   "outputs": [],
   "source": [
    "from hashlib import sha1\n",
    "assert sha1(str(type(top_n_state_plot is None)).encode(\"utf-8\")+b\"e446c\").hexdigest() == \"0f7d610a94b99c8810182d64c372fe32c9966422\", \"type of top_n_state_plot is None is not bool. top_n_state_plot is None should be a bool\"\n",
    "assert sha1(str(top_n_state_plot is None).encode(\"utf-8\")+b\"e446c\").hexdigest() == \"a3408583a5d6232c4934d812675e97ac028dd79c\", \"boolean value of top_n_state_plot is None is not correct\"\n",
    "\n",
    "assert sha1(str(type(top_n_state_plot.spec.encoding.x['shorthand'])).encode(\"utf-8\")+b\"e446d\").hexdigest() == \"1dc749208a1105a10373514a160c45795bf0b0cb\", \"type of top_n_state_plot.spec.encoding.x['shorthand'] is not str. top_n_state_plot.spec.encoding.x['shorthand'] should be an str\"\n",
    "assert sha1(str(len(top_n_state_plot.spec.encoding.x['shorthand'])).encode(\"utf-8\")+b\"e446d\").hexdigest() == \"b270646ceff5775d238852065b4ea03661cf1a0c\", \"length of top_n_state_plot.spec.encoding.x['shorthand'] is not correct\"\n",
    "assert sha1(str(top_n_state_plot.spec.encoding.x['shorthand'].lower()).encode(\"utf-8\")+b\"e446d\").hexdigest() == \"f00fdd5fb80c3fae3afd7cdf2a29bc7128b83ed4\", \"value of top_n_state_plot.spec.encoding.x['shorthand'] is not correct\"\n",
    "assert sha1(str(top_n_state_plot.spec.encoding.x['shorthand']).encode(\"utf-8\")+b\"e446d\").hexdigest() == \"f00fdd5fb80c3fae3afd7cdf2a29bc7128b83ed4\", \"correct string value of top_n_state_plot.spec.encoding.x['shorthand'] but incorrect case of letters\"\n",
    "\n",
    "assert sha1(str(type(top_n_state_plot.spec.encoding.y['shorthand'])).encode(\"utf-8\")+b\"e446e\").hexdigest() == \"805d5636fd04f10f8b0e6b66186c9ae3baaa51f0\", \"type of top_n_state_plot.spec.encoding.y['shorthand'] is not str. top_n_state_plot.spec.encoding.y['shorthand'] should be an str\"\n",
    "assert sha1(str(len(top_n_state_plot.spec.encoding.y['shorthand'])).encode(\"utf-8\")+b\"e446e\").hexdigest() == \"8002c2953fb3cd8416aa0f96053e812e66c8406c\", \"length of top_n_state_plot.spec.encoding.y['shorthand'] is not correct\"\n",
    "assert sha1(str(top_n_state_plot.spec.encoding.y['shorthand'].lower()).encode(\"utf-8\")+b\"e446e\").hexdigest() == \"5c769229e222bb01af866041d581f5485052115d\", \"value of top_n_state_plot.spec.encoding.y['shorthand'] is not correct\"\n",
    "assert sha1(str(top_n_state_plot.spec.encoding.y['shorthand']).encode(\"utf-8\")+b\"e446e\").hexdigest() == \"5c769229e222bb01af866041d581f5485052115d\", \"correct string value of top_n_state_plot.spec.encoding.y['shorthand'] but incorrect case of letters\"\n",
    "\n",
    "assert sha1(str(type(top_n_state_plot.spec.encoding.color['shorthand'])).encode(\"utf-8\")+b\"e446f\").hexdigest() == \"a9d33933d8781b67611ebec92c8d97e3eb7358ae\", \"type of top_n_state_plot.spec.encoding.color['shorthand'] is not str. top_n_state_plot.spec.encoding.color['shorthand'] should be an str\"\n",
    "assert sha1(str(len(top_n_state_plot.spec.encoding.color['shorthand'])).encode(\"utf-8\")+b\"e446f\").hexdigest() == \"886492efed7461fd2d6270a301ae0b00d59b3887\", \"length of top_n_state_plot.spec.encoding.color['shorthand'] is not correct\"\n",
    "assert sha1(str(top_n_state_plot.spec.encoding.color['shorthand'].lower()).encode(\"utf-8\")+b\"e446f\").hexdigest() == \"d92620789bae201febc0bb704f40255b99a99dd0\", \"value of top_n_state_plot.spec.encoding.color['shorthand'] is not correct\"\n",
    "assert sha1(str(top_n_state_plot.spec.encoding.color['shorthand']).encode(\"utf-8\")+b\"e446f\").hexdigest() == \"d92620789bae201febc0bb704f40255b99a99dd0\", \"correct string value of top_n_state_plot.spec.encoding.color['shorthand'] but incorrect case of letters\"\n",
    "\n",
    "assert sha1(str(type(isinstance(top_n_state_plot.spec.encoding.y['title'], str))).encode(\"utf-8\")+b\"e4470\").hexdigest() == \"8da2e60c178e612b8736cdbe6a889e6a4c1edb9c\", \"type of isinstance(top_n_state_plot.spec.encoding.y['title'], str) is not bool. isinstance(top_n_state_plot.spec.encoding.y['title'], str) should be a bool\"\n",
    "assert sha1(str(isinstance(top_n_state_plot.spec.encoding.y['title'], str)).encode(\"utf-8\")+b\"e4470\").hexdigest() == \"7f54eae3050cb8fb8862e5a73e18cfb033d155ce\", \"boolean value of isinstance(top_n_state_plot.spec.encoding.y['title'], str) is not correct\"\n",
    "\n",
    "assert sha1(str(type(isinstance(top_n_state_plot.spec.encoding.color['title'], str))).encode(\"utf-8\")+b\"e4471\").hexdigest() == \"69f9366393936b9e4488d02ddb29febf6d254ae7\", \"type of isinstance(top_n_state_plot.spec.encoding.color['title'], str) is not bool. isinstance(top_n_state_plot.spec.encoding.color['title'], str) should be a bool\"\n",
    "assert sha1(str(isinstance(top_n_state_plot.spec.encoding.color['title'], str)).encode(\"utf-8\")+b\"e4471\").hexdigest() == \"c9c3466d5784208104a9968f5e940c414ea49d44\", \"boolean value of isinstance(top_n_state_plot.spec.encoding.color['title'], str) is not correct\"\n",
    "\n",
    "assert sha1(str(type(top_n_state_plot.facet)).encode(\"utf-8\")+b\"e4472\").hexdigest() == \"22d130bae765767ee2000a68fa0b6bb2672752c1\", \"type of top_n_state_plot.facet is not correct\"\n",
    "assert sha1(str(top_n_state_plot.facet).encode(\"utf-8\")+b\"e4472\").hexdigest() == \"7edf27470213d141e87b692474079c4619f6d019\", \"value of top_n_state_plot.facet is not correct\"\n",
    "\n",
    "assert sha1(str(type(top_n_state_plot.spec.mark)).encode(\"utf-8\")+b\"e4473\").hexdigest() == \"131f123bde79139a1f0997e19d9048167c1a14d4\", \"type of top_n_state_plot.spec.mark is not str. top_n_state_plot.spec.mark should be an str\"\n",
    "assert sha1(str(len(top_n_state_plot.spec.mark)).encode(\"utf-8\")+b\"e4473\").hexdigest() == \"7d58223bcaa82c4434db66a62f29f1977a6d198b\", \"length of top_n_state_plot.spec.mark is not correct\"\n",
    "assert sha1(str(top_n_state_plot.spec.mark.lower()).encode(\"utf-8\")+b\"e4473\").hexdigest() == \"3fc4e81e731b5c3e43ada522a72f2338944e9288\", \"value of top_n_state_plot.spec.mark is not correct\"\n",
    "assert sha1(str(top_n_state_plot.spec.mark).encode(\"utf-8\")+b\"e4473\").hexdigest() == \"3fc4e81e731b5c3e43ada522a72f2338944e9288\", \"correct string value of top_n_state_plot.spec.mark but incorrect case of letters\"\n",
    "\n",
    "print('Success!')"
   ]
  },
  {
   "cell_type": "markdown",
   "metadata": {
    "deletable": false,
    "editable": false,
    "nbgrader": {
     "cell_type": "markdown",
     "checksum": "a23bdb6a6715b4e0ed42cadde701421e",
     "grade": false,
     "grade_id": "cell-18024b55d0ecc8f0",
     "locked": true,
     "schema_version": 3,
     "solution": false
    }
   },
   "source": [
    "**Question 2.9.5** \n",
    "<br> {points: 1}\n",
    "\n",
    "Is the most dominant franchise consistent across the three west coast states? Answer `\"yes\"` or `\"no\"`. Save your answer as `answer2_9_5` and be sure to surround the answer with quotations. Pay attention to case and punctuation when answering."
   ]
  },
  {
   "cell_type": "code",
   "execution_count": null,
   "metadata": {
    "deletable": false,
    "nbgrader": {
     "cell_type": "code",
     "checksum": "5ccdf44bdb0132bc34a5fd2c31fa9205",
     "grade": false,
     "grade_id": "cell-84b61b1043757d6f",
     "locked": false,
     "schema_version": 3,
     "solution": true
    }
   },
   "outputs": [],
   "source": [
    "# your code here\n",
    "raise NotImplementedError"
   ]
  },
  {
   "cell_type": "code",
   "execution_count": null,
   "metadata": {
    "deletable": false,
    "editable": false,
    "nbgrader": {
     "cell_type": "code",
     "checksum": "ac1504c2fc1e48983a6a3060d6140f9e",
     "grade": true,
     "grade_id": "cell-0eb8e20187b2bfa2",
     "locked": true,
     "points": 1,
     "schema_version": 3,
     "solution": false
    }
   },
   "outputs": [],
   "source": [
    "from hashlib import sha1\n",
    "assert sha1(str(type(answer2_9_5)).encode(\"utf-8\")+b\"46d89\").hexdigest() == \"5cb9ef526be27d6208e79e81f94378d7b562e5dd\", \"type of answer2_9_5 is not str. answer2_9_5 should be an str\"\n",
    "assert sha1(str(len(answer2_9_5)).encode(\"utf-8\")+b\"46d89\").hexdigest() == \"6732b913b6ca897335179897109b6831df6cc9bd\", \"length of answer2_9_5 is not correct\"\n",
    "assert sha1(str(answer2_9_5.lower()).encode(\"utf-8\")+b\"46d89\").hexdigest() == \"3807048d0cd09683f2e873746402df4cf4ed2400\", \"value of answer2_9_5 is not correct\"\n",
    "assert sha1(str(answer2_9_5).encode(\"utf-8\")+b\"46d89\").hexdigest() == \"3807048d0cd09683f2e873746402df4cf4ed2400\", \"correct string value of answer2_9_5 but incorrect case of letters\"\n",
    "\n",
    "print('Success!')"
   ]
  },
  {
   "cell_type": "markdown",
   "metadata": {
    "deletable": false,
    "editable": false,
    "nbgrader": {
     "cell_type": "markdown",
     "checksum": "eff34d9c7f0409fbef10447703d44d7c",
     "grade": false,
     "grade_id": "cell-ed421b97dac101b5",
     "locked": true,
     "schema_version": 3,
     "solution": false,
     "task": false
    }
   },
   "source": [
    "We are just scratching the surface of how to create effective visualizations in Python. For example, we haven't covered how to change from the default colors palette `altair` provides. We'll learn more in the tutorial, but it's a big world out there; to learn more, visit the links in the reading and practice, practice, practice! Go forth and make beautiful and effective plots!"
   ]
  }
 ],
 "metadata": {
  "kernelspec": {
   "display_name": "Python 3 (ipykernel)",
   "language": "python",
   "name": "python3"
  },
  "language_info": {
   "codemirror_mode": {
    "name": "ipython",
    "version": 3
   },
   "file_extension": ".py",
   "mimetype": "text/x-python",
   "name": "python",
   "nbconvert_exporter": "python",
   "pygments_lexer": "ipython3",
   "version": "3.11.5"
  }
 },
 "nbformat": 4,
 "nbformat_minor": 4
}
