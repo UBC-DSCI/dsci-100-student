{
 "cells": [
  {
   "cell_type": "markdown",
   "metadata": {
    "deletable": false,
    "editable": false,
    "nbgrader": {
     "cell_type": "markdown",
     "checksum": "44d76b7a3bb4dfb5634051dc99ede3ff",
     "grade": false,
     "grade_id": "cell-fe148db84368f758",
     "locked": true,
     "schema_version": 3,
     "solution": false,
     "task": false
    }
   },
   "source": [
    "# Worksheet: Regression II: linear regression\n",
    "\n",
    "This worksheet covers the [Regression II: linear regression](https://datasciencebook.ca/regression2.html) chapter of the online textbook, which also lists the learning objectives for this worksheet. You should read the textbook chapter before attempting this worksheet. "
   ]
  },
  {
   "cell_type": "code",
   "execution_count": null,
   "metadata": {
    "deletable": false,
    "editable": false,
    "nbgrader": {
     "cell_type": "code",
     "checksum": "94aed1b06b55ea926d94a5370e98a804",
     "grade": false,
     "grade_id": "cell-9d267d6cbb575992",
     "locked": true,
     "schema_version": 3,
     "solution": false,
     "task": false
    }
   },
   "outputs": [],
   "source": [
    "### Run this cell before continuing.\n",
    "library(tidyverse)\n",
    "library(repr)\n",
    "library(tidymodels)\n",
    "library(cowplot)\n",
    "options(repr.matrix.max.rows = 6)\n",
    "source('cleanup.R')"
   ]
  },
  {
   "cell_type": "markdown",
   "metadata": {
    "deletable": false,
    "editable": false,
    "nbgrader": {
     "cell_type": "markdown",
     "checksum": "9f9b1c5d7e6c54f6b21d4f3a94bd4b02",
     "grade": false,
     "grade_id": "cell-5cd24ea6314eb5a1",
     "locked": true,
     "schema_version": 3,
     "solution": false,
     "task": false
    }
   },
   "source": [
    "### Warm-up Questions\n",
    "\n",
    "Here are some warm-up questions on the topic of multiple regression to get you thinking before we jump into data analysis. The course readings should help you answer these.\n",
    "\n",
    "**Question 1.0** Multiple Choice: \n",
    "<br> {points: 1}\n",
    "\n",
    "In multivariate k-nn regression with one outcome/target variable and two predictor variables, the predictions take the form of what shape?\n",
    "\n",
    "A. a flat plane\n",
    "\n",
    "B. a wiggly/flexible plane\n",
    "\n",
    "C. A straight line\n",
    "\n",
    "D. a wiggly/flexible line\n",
    "\n",
    "E. a 4D hyperplane\n",
    "\n",
    "F. a 4D wiggly/flexible hyperplane\n",
    "\n",
    "Save the letter of the answer you think is correct to a variable named `answer1.0`. Make sure you put quotations around the letter and pay attention to case."
   ]
  },
  {
   "cell_type": "code",
   "execution_count": null,
   "metadata": {
    "deletable": false,
    "nbgrader": {
     "cell_type": "code",
     "checksum": "b68e9781d7d6de0dc3b6020e0032c8a2",
     "grade": false,
     "grade_id": "cell-c83bc93df7f00340",
     "locked": false,
     "schema_version": 3,
     "solution": true,
     "task": false
    }
   },
   "outputs": [],
   "source": [
    "# your code here\n",
    "fail() # No Answer - remove if you provide an answer"
   ]
  },
  {
   "cell_type": "code",
   "execution_count": null,
   "metadata": {
    "deletable": false,
    "editable": false,
    "nbgrader": {
     "cell_type": "code",
     "checksum": "66ab381450430f7d6bcc24aa69a3ff6f",
     "grade": true,
     "grade_id": "cell-69d13db813c674a2",
     "locked": true,
     "points": 1,
     "schema_version": 3,
     "solution": false,
     "task": false
    }
   },
   "outputs": [],
   "source": [
    "library(digest)\n",
    "stopifnot(\"type of answer1.0 is not character\"= setequal(digest(paste(toString(class(answer1.0)), \"c1dca\")), \"0062368865d313b1d9a0758736981e96\"))\n",
    "stopifnot(\"length of answer1.0 is not correct\"= setequal(digest(paste(toString(length(answer1.0)), \"c1dca\")), \"0b9103cc5a6d5362898cda5f7da0cd1f\"))\n",
    "stopifnot(\"value of answer1.0 is not correct\"= setequal(digest(paste(toString(tolower(answer1.0)), \"c1dca\")), \"cfeaebac99f01978e387bb024cdc6d11\"))\n",
    "stopifnot(\"letters in string value of answer1.0 are correct but case is not correct\"= setequal(digest(paste(toString(answer1.0), \"c1dca\")), \"6bfc86aa847ff4157dd3ba4de5012220\"))\n",
    "\n",
    "print('Success!')"
   ]
  },
  {
   "cell_type": "markdown",
   "metadata": {
    "deletable": false,
    "editable": false,
    "nbgrader": {
     "cell_type": "markdown",
     "checksum": "ce8c7ccf1a34341294b2fa56d53a7361",
     "grade": false,
     "grade_id": "cell-17b50854bfe8bed1",
     "locked": true,
     "schema_version": 3,
     "solution": false,
     "task": false
    }
   },
   "source": [
    "**Question 1.1** Multiple Choice: \n",
    "<br> {points: 1}\n",
    "\n",
    "In simple linear regression with one outcome/target variable and one predictor variable, the predictions take the form of what shape?\n",
    "\n",
    "A. a flat plane\n",
    "\n",
    "B. a wiggly/flexible plane\n",
    "\n",
    "C. A straight line\n",
    "\n",
    "D. a wiggly/flexible line\n",
    "\n",
    "E. a 4D hyperplane\n",
    "\n",
    "F. a 4D wiggly/flexible hyperplane\n",
    "\n",
    "Save the letter of the answer you think is correct to a variable named `answer1.1`. Make sure you put quotations around the letter and pay attention to case."
   ]
  },
  {
   "cell_type": "code",
   "execution_count": null,
   "metadata": {
    "deletable": false,
    "nbgrader": {
     "cell_type": "code",
     "checksum": "d34dc1682e6322aefc58306e7d4c1c93",
     "grade": false,
     "grade_id": "cell-4ba2e045fef50db4",
     "locked": false,
     "schema_version": 3,
     "solution": true,
     "task": false
    }
   },
   "outputs": [],
   "source": [
    "# your code here\n",
    "fail() # No Answer - remove if you provide an answer"
   ]
  },
  {
   "cell_type": "code",
   "execution_count": null,
   "metadata": {
    "deletable": false,
    "editable": false,
    "nbgrader": {
     "cell_type": "code",
     "checksum": "ea9060b1e9142004aab4d87847eaee56",
     "grade": true,
     "grade_id": "cell-f7542e36e61cd131",
     "locked": true,
     "points": 1,
     "schema_version": 3,
     "solution": false,
     "task": false
    }
   },
   "outputs": [],
   "source": [
    "library(digest)\n",
    "stopifnot(\"type of answer1.1 is not character\"= setequal(digest(paste(toString(class(answer1.1)), \"9f35e\")), \"0f1e7877308258f0f4d1265b701d5e1e\"))\n",
    "stopifnot(\"length of answer1.1 is not correct\"= setequal(digest(paste(toString(length(answer1.1)), \"9f35e\")), \"96556f84d0cfd3c5304b670e691a10af\"))\n",
    "stopifnot(\"value of answer1.1 is not correct\"= setequal(digest(paste(toString(tolower(answer1.1)), \"9f35e\")), \"0afb28f4f1c05ad02549badb853886e1\"))\n",
    "stopifnot(\"letters in string value of answer1.1 are correct but case is not correct\"= setequal(digest(paste(toString(answer1.1), \"9f35e\")), \"5f72ad18f4b91281489a09abd242d8f6\"))\n",
    "\n",
    "print('Success!')"
   ]
  },
  {
   "cell_type": "markdown",
   "metadata": {
    "deletable": false,
    "editable": false,
    "nbgrader": {
     "cell_type": "markdown",
     "checksum": "e23b8e9e1e97119c478f42967f22353b",
     "grade": false,
     "grade_id": "cell-4c7cb5e7fd4eb668",
     "locked": true,
     "schema_version": 3,
     "solution": false,
     "task": false
    }
   },
   "source": [
    "**Question 1.2** Multiple Choice: \n",
    "<br> {points: 1}\n",
    "\n",
    "In multiple linear regression with one outcome/target variable and two predictor variables, the predictions take the form of what shape?\n",
    "\n",
    "A. a flat plane\n",
    "\n",
    "B. a wiggly/flexible plane\n",
    "\n",
    "C. A straight line\n",
    "\n",
    "D. a wiggly/flexible line\n",
    "\n",
    "E. a 4D hyperplane\n",
    "\n",
    "F. a 4D wiggly/flexible hyperplane\n",
    "\n",
    "Save the letter of the answer you think is correct to a variable named `answer1.2`. Make sure you put quotations around the letter and pay attention to case."
   ]
  },
  {
   "cell_type": "code",
   "execution_count": null,
   "metadata": {
    "deletable": false,
    "nbgrader": {
     "cell_type": "code",
     "checksum": "1c3f3c09e5b729cf0c2c0661a5535c95",
     "grade": false,
     "grade_id": "cell-079e531ebcb88c60",
     "locked": false,
     "schema_version": 3,
     "solution": true,
     "task": false
    }
   },
   "outputs": [],
   "source": [
    "# your code here\n",
    "fail() # No Answer - remove if you provide an answer"
   ]
  },
  {
   "cell_type": "code",
   "execution_count": null,
   "metadata": {
    "deletable": false,
    "editable": false,
    "nbgrader": {
     "cell_type": "code",
     "checksum": "99850cb54bb10e3d9ef41eb1cfdcd231",
     "grade": true,
     "grade_id": "cell-547b82e7a64b9aa1",
     "locked": true,
     "points": 1,
     "schema_version": 3,
     "solution": false,
     "task": false
    }
   },
   "outputs": [],
   "source": [
    "library(digest)\n",
    "stopifnot(\"type of answer1.2 is not character\"= setequal(digest(paste(toString(class(answer1.2)), \"962df\")), \"edcf1b7f6d8db50d0ef71fe87b9ff265\"))\n",
    "stopifnot(\"length of answer1.2 is not correct\"= setequal(digest(paste(toString(length(answer1.2)), \"962df\")), \"7f043cb37eae566922f1d03b91a3eeff\"))\n",
    "stopifnot(\"value of answer1.2 is not correct\"= setequal(digest(paste(toString(tolower(answer1.2)), \"962df\")), \"63b747cced3f34f794ea789c80a52f56\"))\n",
    "stopifnot(\"letters in string value of answer1.2 are correct but case is not correct\"= setequal(digest(paste(toString(answer1.2), \"962df\")), \"8ead807c82b5f9abb9a8d8440d856001\"))\n",
    "\n",
    "print('Success!')"
   ]
  },
  {
   "cell_type": "markdown",
   "metadata": {
    "deletable": false,
    "editable": false,
    "nbgrader": {
     "cell_type": "markdown",
     "checksum": "90902cc596c86e241d127a643265bc37",
     "grade": false,
     "grade_id": "cell-6ae21507eed64700",
     "locked": true,
     "schema_version": 3,
     "solution": false,
     "task": false
    }
   },
   "source": [
    "### Understanding Simple Linear Regression\n",
    "\n",
    "Consider this small and simple dataset: "
   ]
  },
  {
   "cell_type": "code",
   "execution_count": null,
   "metadata": {
    "deletable": false,
    "editable": false,
    "nbgrader": {
     "cell_type": "code",
     "checksum": "f0f86068987ba71eba448bbf880edf7f",
     "grade": false,
     "grade_id": "cell-2850a0b99f14004c",
     "locked": true,
     "schema_version": 3,
     "solution": false,
     "task": false
    }
   },
   "outputs": [],
   "source": [
    "## run this code \n",
    "simple_data  <- tibble(X = c(1, 2, 3, 6, 7, 7),\n",
    "               Y = c(1, 1, 3, 5, 7, 6))\n",
    "options(repr.plot.width = 5, repr.plot.height = 5)\n",
    "base <- ggplot(simple_data, aes(x = X, y = Y)) +\n",
    "    geom_point(size = 2) +\n",
    "    scale_x_continuous(limits = c(0, 7.5), breaks = seq(0, 8), minor_breaks = seq(0, 8, 0.25)) +\n",
    "    scale_y_continuous(limits = c(0, 7.5), breaks = seq(0, 8), minor_breaks = seq(0, 8, 0.25)) +\n",
    "    theme(text = element_text(size = 20))\n",
    "base "
   ]
  },
  {
   "cell_type": "markdown",
   "metadata": {
    "deletable": false,
    "editable": false,
    "nbgrader": {
     "cell_type": "markdown",
     "checksum": "d61fea0714dff7819361e1783a0ae096",
     "grade": false,
     "grade_id": "cell-158e53f25ab76890",
     "locked": true,
     "schema_version": 3,
     "solution": false,
     "task": false
    }
   },
   "source": [
    "Now consider these three **potential** lines we could fit for the same dataset:"
   ]
  },
  {
   "cell_type": "code",
   "execution_count": null,
   "metadata": {
    "deletable": false,
    "editable": false,
    "nbgrader": {
     "cell_type": "code",
     "checksum": "afece69f7ae5bd9698ddd517494f354a",
     "grade": false,
     "grade_id": "cell-72d1bbcacfd85b37",
     "locked": true,
     "schema_version": 3,
     "solution": false,
     "task": false
    }
   },
   "outputs": [],
   "source": [
    "options(repr.plot.height = 3.5, repr.plot.width = 10)\n",
    "line_a <- base +\n",
    "    ggtitle(\"Line A\") +\n",
    "    geom_abline(intercept = -0.897, slope = 0.9834, color = \"blue\") +\n",
    "    theme(text = element_text(size = 20))\n",
    "line_b <- base +\n",
    "    ggtitle(\"Line B\") +\n",
    "    geom_abline(intercept = 0.1022, slope = 0.9804, color = \"purple\") +\n",
    "    theme(text = element_text(size = 20))\n",
    "line_c <- base +\n",
    "    ggtitle(\"Line C\") +\n",
    "    geom_abline(intercept = -0.2347, slope = 0.9164, color = \"green\") +\n",
    "    theme(text = element_text(size = 20))\n",
    "plot_grid(line_a, line_b, line_c, ncol = 3)"
   ]
  },
  {
   "cell_type": "markdown",
   "metadata": {
    "deletable": false,
    "editable": false,
    "nbgrader": {
     "cell_type": "markdown",
     "checksum": "76961602fb170179a7db9f5d5a5524d8",
     "grade": false,
     "grade_id": "cell-d7bb06c12cba1681",
     "locked": true,
     "schema_version": 3,
     "solution": false,
     "task": false
    }
   },
   "source": [
    "**Question 2.0**\n",
    "<br> {points: 1}\n",
    "\n",
    "Use the graph below titled \"Line A\" to roughly calculate the average squared vertical distance between the points and the blue line. Read values of the graph to a **precision of 0.25** (e.g. 1, 1.25, 1.5, 1.75, 2). Save your answer to a variable named `answer2.0`. \n",
    "\n",
    "*We reprint the plot for you in a larger size to make it easier to estimate the locations on the graph.*"
   ]
  },
  {
   "cell_type": "code",
   "execution_count": null,
   "metadata": {
    "deletable": false,
    "editable": false,
    "nbgrader": {
     "cell_type": "code",
     "checksum": "a063f46b4bc24b65cf63dc98fe1d847c",
     "grade": false,
     "grade_id": "cell-4d84f8c3727420a2",
     "locked": true,
     "schema_version": 3,
     "solution": false,
     "task": false
    }
   },
   "outputs": [],
   "source": [
    "#run this code\n",
    "options(repr.plot.width = 9, repr.plot.height = 9)\n",
    "line_a"
   ]
  },
  {
   "cell_type": "code",
   "execution_count": null,
   "metadata": {
    "deletable": false,
    "nbgrader": {
     "cell_type": "code",
     "checksum": "7b96aa9e4ee450dba46cb8c4faf86ede",
     "grade": false,
     "grade_id": "cell-6cf53cb30ae3cd16",
     "locked": false,
     "schema_version": 3,
     "solution": true
    }
   },
   "outputs": [],
   "source": [
    "# your code here\n",
    "fail() # No Answer - remove if you provide an answer\n",
    "answer2.0"
   ]
  },
  {
   "cell_type": "code",
   "execution_count": null,
   "metadata": {
    "deletable": false,
    "editable": false,
    "nbgrader": {
     "cell_type": "code",
     "checksum": "2eb0aea7e3990bcf2277e1dba4b5b51e",
     "grade": true,
     "grade_id": "cell-9d0a3c3a16e0f47b",
     "locked": true,
     "points": 1,
     "schema_version": 3,
     "solution": false
    }
   },
   "outputs": [],
   "source": [
    "library(digest)\n",
    "stopifnot(\"type of round(answer2.0, 2) is not numeric\"= setequal(digest(paste(toString(class(round(answer2.0, 2))), \"c421d\")), \"60b51a2c6c08e835154fbd3a85eafb69\"))\n",
    "stopifnot(\"value of round(answer2.0, 2) is not correct (rounded to 2 decimal places)\"= setequal(digest(paste(toString(round(round(answer2.0, 2), 2)), \"c421d\")), \"b5753e2357b9e3c512b25411a68fdd61\"))\n",
    "stopifnot(\"length of round(answer2.0, 2) is not correct\"= setequal(digest(paste(toString(length(round(answer2.0, 2))), \"c421d\")), \"aae0eb53bb949b3c6130cd8e6a07f130\"))\n",
    "stopifnot(\"values of round(answer2.0, 2) are not correct\"= setequal(digest(paste(toString(sort(round(round(answer2.0, 2), 2))), \"c421d\")), \"b5753e2357b9e3c512b25411a68fdd61\"))\n",
    "\n",
    "print('Success!')"
   ]
  },
  {
   "cell_type": "markdown",
   "metadata": {
    "deletable": false,
    "editable": false,
    "nbgrader": {
     "cell_type": "markdown",
     "checksum": "6b0ec9b6ebc65c04901b41672a826102",
     "grade": false,
     "grade_id": "cell-7ef45d3d7c403c81",
     "locked": true,
     "schema_version": 3,
     "solution": false,
     "task": false
    }
   },
   "source": [
    "**Question 2.1**\n",
    "<br> {points: 1}\n",
    "\n",
    "Use the graph titled \"Line B\" to roughly calculate the average squared vertical distance between the points and the purple line. Read values of the graph to a **precision of 0.25** (e.g. 1, 1.25, 1.5, 1.75, 2). Save your answer to a variable named `answer2.1`. \n",
    "\n",
    "*We reprint the plot for you in a larger size to make it easier to estimate the locations on the graph.*"
   ]
  },
  {
   "cell_type": "code",
   "execution_count": null,
   "metadata": {
    "deletable": false,
    "editable": false,
    "nbgrader": {
     "cell_type": "code",
     "checksum": "444b814cf0b07058cd7a96d78d16878f",
     "grade": false,
     "grade_id": "cell-be8bd2be4d762d37",
     "locked": true,
     "schema_version": 3,
     "solution": false,
     "task": false
    }
   },
   "outputs": [],
   "source": [
    "options(repr.plot.width = 9, repr.plot.height = 9)\n",
    "line_b"
   ]
  },
  {
   "cell_type": "code",
   "execution_count": null,
   "metadata": {
    "deletable": false,
    "nbgrader": {
     "cell_type": "code",
     "checksum": "334b4c6cae6c3456dd810592a4d52ad0",
     "grade": false,
     "grade_id": "cell-be5564f4bd6cd576",
     "locked": false,
     "schema_version": 3,
     "solution": true
    }
   },
   "outputs": [],
   "source": [
    "# your code here\n",
    "fail() # No Answer - remove if you provide an answer\n",
    "answer2.1"
   ]
  },
  {
   "cell_type": "code",
   "execution_count": null,
   "metadata": {
    "deletable": false,
    "editable": false,
    "nbgrader": {
     "cell_type": "code",
     "checksum": "82f34209479b394700790fc00386743b",
     "grade": true,
     "grade_id": "cell-840f1140c7655088",
     "locked": true,
     "points": 1,
     "schema_version": 3,
     "solution": false
    }
   },
   "outputs": [],
   "source": [
    "library(digest)\n",
    "stopifnot(\"type of round(answer2.1, 2) is not numeric\"= setequal(digest(paste(toString(class(round(answer2.1, 2))), \"26b01\")), \"73fe4642b108c0c6fb9e31c5638f220d\"))\n",
    "stopifnot(\"value of round(answer2.1, 2) is not correct (rounded to 2 decimal places)\"= setequal(digest(paste(toString(round(round(answer2.1, 2), 2)), \"26b01\")), \"7450db9b8c0f6a7562640316dfa0bc01\"))\n",
    "stopifnot(\"length of round(answer2.1, 2) is not correct\"= setequal(digest(paste(toString(length(round(answer2.1, 2))), \"26b01\")), \"371c4d802308bc29de8f5243443264fb\"))\n",
    "stopifnot(\"values of round(answer2.1, 2) are not correct\"= setequal(digest(paste(toString(sort(round(round(answer2.1, 2), 2))), \"26b01\")), \"7450db9b8c0f6a7562640316dfa0bc01\"))\n",
    "\n",
    "print('Success!')"
   ]
  },
  {
   "cell_type": "markdown",
   "metadata": {
    "deletable": false,
    "editable": false,
    "nbgrader": {
     "cell_type": "markdown",
     "checksum": "0865e28d085d526f20585bc4291aa24b",
     "grade": false,
     "grade_id": "cell-69f334fbd3120d91",
     "locked": true,
     "schema_version": 3,
     "solution": false,
     "task": false
    }
   },
   "source": [
    "**Question 2.2** \n",
    "<br> {points: 1}\n",
    "\n",
    "Use the graph titled \"Line C\" to roughly calculate the average squared vertical distance between the points and the green line. Read values of the graph to a **precision of 0.25** (e.g. 1, 1.25, 1.5, 1.75, 2). Save your answer to a variable named `answer2.2`. \n",
    "\n",
    "*We reprint the plot for you in a larger size to make it easier to estimate the locations on the graph.*"
   ]
  },
  {
   "cell_type": "code",
   "execution_count": null,
   "metadata": {
    "deletable": false,
    "editable": false,
    "nbgrader": {
     "cell_type": "code",
     "checksum": "bf9b8c6e27fa701139200bfc1c3b4710",
     "grade": false,
     "grade_id": "cell-0634261679ff7469",
     "locked": true,
     "schema_version": 3,
     "solution": false,
     "task": false
    }
   },
   "outputs": [],
   "source": [
    "options(repr.plot.width = 9, repr.plot.height = 9)\n",
    "line_c"
   ]
  },
  {
   "cell_type": "code",
   "execution_count": null,
   "metadata": {
    "deletable": false,
    "nbgrader": {
     "cell_type": "code",
     "checksum": "e551479b4f19ab9328aa8b172ab46c9e",
     "grade": false,
     "grade_id": "cell-3aed32faefe82978",
     "locked": false,
     "schema_version": 3,
     "solution": true
    }
   },
   "outputs": [],
   "source": [
    "# your code here\n",
    "fail() # No Answer - remove if you provide an answer\n",
    "answer2.2"
   ]
  },
  {
   "cell_type": "code",
   "execution_count": null,
   "metadata": {
    "deletable": false,
    "editable": false,
    "nbgrader": {
     "cell_type": "code",
     "checksum": "5a32ee2a0224a1cbb04ba4d91910b608",
     "grade": true,
     "grade_id": "cell-3e544bd712b4d796",
     "locked": true,
     "points": 1,
     "schema_version": 3,
     "solution": false
    }
   },
   "outputs": [],
   "source": [
    "library(digest)\n",
    "stopifnot(\"type of round(answer2.2) is not numeric\"= setequal(digest(paste(toString(class(round(answer2.2))), \"b6f4e\")), \"a9ff9b86408482a29adf68825849a2fc\"))\n",
    "stopifnot(\"value of round(answer2.2) is not correct (rounded to 2 decimal places)\"= setequal(digest(paste(toString(round(round(answer2.2), 2)), \"b6f4e\")), \"10d782e505a4d946c033ae64a61f01d5\"))\n",
    "stopifnot(\"length of round(answer2.2) is not correct\"= setequal(digest(paste(toString(length(round(answer2.2))), \"b6f4e\")), \"787c683899af26cd449f1d7825f44c94\"))\n",
    "stopifnot(\"values of round(answer2.2) are not correct\"= setequal(digest(paste(toString(sort(round(round(answer2.2), 2))), \"b6f4e\")), \"10d782e505a4d946c033ae64a61f01d5\"))\n",
    "\n",
    "print('Success!')"
   ]
  },
  {
   "cell_type": "markdown",
   "metadata": {
    "deletable": false,
    "editable": false,
    "nbgrader": {
     "cell_type": "markdown",
     "checksum": "4fecdd64a1522109a436c961d7ee241f",
     "grade": false,
     "grade_id": "cell-ca359fbdc2020d22",
     "locked": true,
     "schema_version": 3,
     "solution": false,
     "task": false
    }
   },
   "source": [
    "**Question 2.3**\n",
    "<br> {points: 1}\n",
    "\n",
    "Based on your calculations above, which line would linear regression by ordinary least squares choose given our small and simple dataset? Line A, B or C? Assign the letter that corresponds the line to a variable named `answer2.3`. Make sure you put quotations around the letter and pay attention to case."
   ]
  },
  {
   "cell_type": "code",
   "execution_count": null,
   "metadata": {
    "deletable": false,
    "nbgrader": {
     "cell_type": "code",
     "checksum": "3213e56ff5f24a8c6ddf10c6680d10f4",
     "grade": false,
     "grade_id": "cell-c3bc0fc1f61fb31b",
     "locked": false,
     "schema_version": 3,
     "solution": true
    }
   },
   "outputs": [],
   "source": [
    "# your code here\n",
    "fail() # No Answer - remove if you provide an answer"
   ]
  },
  {
   "cell_type": "code",
   "execution_count": null,
   "metadata": {
    "deletable": false,
    "editable": false,
    "nbgrader": {
     "cell_type": "code",
     "checksum": "81314417b4cbf6c1b22ac22128ee0b79",
     "grade": true,
     "grade_id": "cell-4ae1ac995c661109",
     "locked": true,
     "points": 1,
     "schema_version": 3,
     "solution": false
    }
   },
   "outputs": [],
   "source": [
    "library(digest)\n",
    "stopifnot(\"type of answer2.3 is not character\"= setequal(digest(paste(toString(class(answer2.3)), \"6e40a\")), \"31581ca444e3e522b6799848cc7d57b4\"))\n",
    "stopifnot(\"length of answer2.3 is not correct\"= setequal(digest(paste(toString(length(answer2.3)), \"6e40a\")), \"46ae7667ffe66fc339f6d8552bf49ec5\"))\n",
    "stopifnot(\"value of answer2.3 is not correct\"= setequal(digest(paste(toString(tolower(answer2.3)), \"6e40a\")), \"c3b8ffae6f3f1f2abc0c0e8c62432cc8\"))\n",
    "stopifnot(\"letters in string value of answer2.3 are correct but case is not correct\"= setequal(digest(paste(toString(answer2.3), \"6e40a\")), \"7dac3ef201af4beeadb8007c86d45e40\"))\n",
    "\n",
    "print('Success!')"
   ]
  },
  {
   "cell_type": "markdown",
   "metadata": {
    "deletable": false,
    "editable": false,
    "nbgrader": {
     "cell_type": "markdown",
     "checksum": "49453d76b4c2fd8fe5322b4875396ce0",
     "grade": false,
     "grade_id": "cell-c450e26cb57e9dc9",
     "locked": true,
     "schema_version": 3,
     "solution": false,
     "task": false
    }
   },
   "source": [
    "## Marathon Training Revisited with Linear Regression!\n",
    "\n",
    "<img src='https://media.giphy.com/media/BDagLpxFIm3SM/giphy.gif' width='400'>\n",
    "\n",
    "Source: https://media.giphy.com/media/BDagLpxFIm3SM/giphy.gif\n",
    "\n",
    "Remember our question from last week: what features predict whether athletes will perform better than others? Specifically, we are interested in marathon runners, and looking at how the maximum distance ran per week during training predicts the time it takes a runner to end the race? \n",
    "\n",
    "This time around, however, we will analyze the data using simple linear regression rather than $k$-nn regression. In the end, we will compare our results to what we found last week with $k$-nn regression."
   ]
  },
  {
   "cell_type": "markdown",
   "metadata": {
    "deletable": false,
    "editable": false,
    "nbgrader": {
     "cell_type": "markdown",
     "checksum": "b871fcac04015c642b4c42f5908d6912",
     "grade": false,
     "grade_id": "cell-8655bd26820bea69",
     "locked": true,
     "schema_version": 3,
     "solution": false,
     "task": false
    }
   },
   "source": [
    "**Question 3.0**\n",
    "<br> {points: 1}\n",
    "\n",
    "Load the `marathon` data and assign it to an object called `marathon`. "
   ]
  },
  {
   "cell_type": "code",
   "execution_count": null,
   "metadata": {
    "deletable": false,
    "nbgrader": {
     "cell_type": "code",
     "checksum": "d1a30ea92494ef32d2b05174ef0d8938",
     "grade": false,
     "grade_id": "cell-7429888f4a5a274a",
     "locked": false,
     "schema_version": 3,
     "solution": true
    }
   },
   "outputs": [],
   "source": [
    "# your code here\n",
    "fail() # No Answer - remove if you provide an answer\n",
    "marathon"
   ]
  },
  {
   "cell_type": "code",
   "execution_count": null,
   "metadata": {
    "deletable": false,
    "editable": false,
    "nbgrader": {
     "cell_type": "code",
     "checksum": "8c2a3c9d3034fd0f6f44deb166a2f39f",
     "grade": true,
     "grade_id": "cell-36eda8d5f9545c0e",
     "locked": true,
     "points": 1,
     "schema_version": 3,
     "solution": false
    }
   },
   "outputs": [],
   "source": [
    "library(digest)\n",
    "stopifnot(\"marathon should be a data frame\"= setequal(digest(paste(toString('data.frame' %in% class(marathon)), \"1acc1\")), \"ae70b371b8f45716725ad6ed47342dfc\"))\n",
    "stopifnot(\"dimensions of marathon are not correct\"= setequal(digest(paste(toString(dim(marathon)), \"1acc1\")), \"b9802a9b3dddfe0ee07a7e2f6e7d0cdc\"))\n",
    "stopifnot(\"column names of marathon are not correct\"= setequal(digest(paste(toString(sort(colnames(marathon))), \"1acc1\")), \"a0d9dead321d7baca4daef454c2ba1e5\"))\n",
    "stopifnot(\"types of columns in marathon are not correct\"= setequal(digest(paste(toString(sort(unlist(sapply(marathon, class)))), \"1acc1\")), \"2b2cd994f5a194a03aa1042b91121b6e\"))\n",
    "stopifnot(\"values in one or more numerical columns in marathon are not correct\"= setequal(digest(paste(toString(if (any(sapply(marathon, is.numeric))) sort(round(sapply(marathon[, sapply(marathon, is.numeric)], sum, na.rm = TRUE), 2)) else 0), \"1acc1\")), \"d6e3e150abbd8e2ff830c3a43e8fddc0\"))\n",
    "stopifnot(\"values in one or more character columns in marathon are not correct\"= setequal(digest(paste(toString(if (any(sapply(marathon, is.character))) sum(sapply(marathon[sapply(marathon, is.character)], function(x) length(unique(x)))) else 0), \"1acc1\")), \"897000072cc9ce82681f2c1dd68b3a00\"))\n",
    "stopifnot(\"values in one or more factor columns in marathon are not correct\"= setequal(digest(paste(toString(if (any(sapply(marathon, is.factor))) sum(sapply(marathon[, sapply(marathon, is.factor)], function(col) length(unique(col)))) else 0), \"1acc1\")), \"897000072cc9ce82681f2c1dd68b3a00\"))\n",
    "\n",
    "print('Success!')"
   ]
  },
  {
   "cell_type": "markdown",
   "metadata": {
    "deletable": false,
    "editable": false,
    "nbgrader": {
     "cell_type": "markdown",
     "checksum": "1bdfd007331d2a152db48c3bbb51d04c",
     "grade": false,
     "grade_id": "cell-439c2ccda058add2",
     "locked": true,
     "schema_version": 3,
     "solution": false,
     "task": false
    }
   },
   "source": [
    "**Question 3.1**\n",
    "<br> {points: 1}\n",
    "\n",
    "Similar to what we have done for the last few weeks, we will first split the dataset into the training and testing datasets, using 75% of the original data as the training data. Remember, we will be putting the test dataset away in a 'lock box' that we will comeback to later after we choose our final model. In the `strata` argument of the `initial_split` function, place the variable we are trying to predict. Assign your split dataset to an object named `marathon_split`. \n",
    "\n",
    "Assign your training dataset to an object named `marathon_training` and your testing dataset to an object named `marathon_testing`."
   ]
  },
  {
   "cell_type": "code",
   "execution_count": null,
   "metadata": {
    "deletable": false,
    "nbgrader": {
     "cell_type": "code",
     "checksum": "867d9e669e311f27397efb3b1e4878bc",
     "grade": false,
     "grade_id": "cell-4862845e3f18eced",
     "locked": false,
     "schema_version": 3,
     "solution": true
    }
   },
   "outputs": [],
   "source": [
    "set.seed(2000) # DO NOT CHANGE THIS\n",
    "# your code here\n",
    "fail() # No Answer - remove if you provide an answer"
   ]
  },
  {
   "cell_type": "code",
   "execution_count": null,
   "metadata": {
    "deletable": false,
    "editable": false,
    "nbgrader": {
     "cell_type": "code",
     "checksum": "6bc3ab4c555bab5f742c15a576e39df4",
     "grade": true,
     "grade_id": "cell-b1eb46161667bcec",
     "locked": true,
     "points": 1,
     "schema_version": 3,
     "solution": false
    }
   },
   "outputs": [],
   "source": [
    "library(digest)\n",
    "stopifnot(\"type of 'rsplit' %in% class(marathon_split) is not logical\"= setequal(digest(paste(toString(class('rsplit' %in% class(marathon_split))), \"71ac4\")), \"870c923565a346b32afd6edd74a1fcc4\"))\n",
    "stopifnot(\"logical value of 'rsplit' %in% class(marathon_split) is not correct\"= setequal(digest(paste(toString('rsplit' %in% class(marathon_split)), \"71ac4\")), \"c128f7d08e1a97bd5d7130fe20bae29f\"))\n",
    "\n",
    "stopifnot(\"marathon_training should be a data frame\"= setequal(digest(paste(toString('data.frame' %in% class(marathon_training)), \"71ac5\")), \"42de1b199d3ae516182745019109542b\"))\n",
    "stopifnot(\"dimensions of marathon_training are not correct\"= setequal(digest(paste(toString(dim(marathon_training)), \"71ac5\")), \"dba79e5d0afe650395d1750b8bf39259\"))\n",
    "stopifnot(\"column names of marathon_training are not correct\"= setequal(digest(paste(toString(sort(colnames(marathon_training))), \"71ac5\")), \"0cab7459f91e73487ade5163168e4af7\"))\n",
    "stopifnot(\"types of columns in marathon_training are not correct\"= setequal(digest(paste(toString(sort(unlist(sapply(marathon_training, class)))), \"71ac5\")), \"42b6d84ea44fe5d15bebb1297ad9326a\"))\n",
    "stopifnot(\"values in one or more numerical columns in marathon_training are not correct\"= setequal(digest(paste(toString(if (any(sapply(marathon_training, is.numeric))) sort(round(sapply(marathon_training[, sapply(marathon_training, is.numeric)], sum, na.rm = TRUE), 2)) else 0), \"71ac5\")), \"fa950c5c01ce9c933b6f68f1817b2db9\"))\n",
    "stopifnot(\"values in one or more character columns in marathon_training are not correct\"= setequal(digest(paste(toString(if (any(sapply(marathon_training, is.character))) sum(sapply(marathon_training[sapply(marathon_training, is.character)], function(x) length(unique(x)))) else 0), \"71ac5\")), \"30421dcc571f50e1cf88d0ab99a762bb\"))\n",
    "stopifnot(\"values in one or more factor columns in marathon_training are not correct\"= setequal(digest(paste(toString(if (any(sapply(marathon_training, is.factor))) sum(sapply(marathon_training[, sapply(marathon_training, is.factor)], function(col) length(unique(col)))) else 0), \"71ac5\")), \"30421dcc571f50e1cf88d0ab99a762bb\"))\n",
    "\n",
    "stopifnot(\"marathon_testing should be a data frame\"= setequal(digest(paste(toString('data.frame' %in% class(marathon_testing)), \"71ac6\")), \"e04fd132545851d3ea14dd4f5aa6e235\"))\n",
    "stopifnot(\"dimensions of marathon_testing are not correct\"= setequal(digest(paste(toString(dim(marathon_testing)), \"71ac6\")), \"c9610fb3584cf217219e358ef972e7e4\"))\n",
    "stopifnot(\"column names of marathon_testing are not correct\"= setequal(digest(paste(toString(sort(colnames(marathon_testing))), \"71ac6\")), \"22c3445ff5c2cd059b263b6b79f27ab2\"))\n",
    "stopifnot(\"types of columns in marathon_testing are not correct\"= setequal(digest(paste(toString(sort(unlist(sapply(marathon_testing, class)))), \"71ac6\")), \"e119200748401e4b4bec40953e8bc6df\"))\n",
    "stopifnot(\"values in one or more numerical columns in marathon_testing are not correct\"= setequal(digest(paste(toString(if (any(sapply(marathon_testing, is.numeric))) sort(round(sapply(marathon_testing[, sapply(marathon_testing, is.numeric)], sum, na.rm = TRUE), 2)) else 0), \"71ac6\")), \"3e0e18b649424c4c945ca0145bef2800\"))\n",
    "stopifnot(\"values in one or more character columns in marathon_testing are not correct\"= setequal(digest(paste(toString(if (any(sapply(marathon_testing, is.character))) sum(sapply(marathon_testing[sapply(marathon_testing, is.character)], function(x) length(unique(x)))) else 0), \"71ac6\")), \"6b860e416b6e8e441818ec6be5d4995d\"))\n",
    "stopifnot(\"values in one or more factor columns in marathon_testing are not correct\"= setequal(digest(paste(toString(if (any(sapply(marathon_testing, is.factor))) sum(sapply(marathon_testing[, sapply(marathon_testing, is.factor)], function(col) length(unique(col)))) else 0), \"71ac6\")), \"6b860e416b6e8e441818ec6be5d4995d\"))\n",
    "\n",
    "print('Success!')"
   ]
  },
  {
   "cell_type": "markdown",
   "metadata": {
    "deletable": false,
    "editable": false,
    "nbgrader": {
     "cell_type": "markdown",
     "checksum": "ada7d473076efb49c499804ec2b64090",
     "grade": false,
     "grade_id": "cell-0ebfe08674f42eae",
     "locked": true,
     "schema_version": 3,
     "solution": false,
     "task": false
    }
   },
   "source": [
    "**Question 3.2**\n",
    "<br> {points: 1}\n",
    "\n",
    "Using only the observations in the training dataset, create a scatterplot to assess the relationship between race time (`time_hrs`) and maximum distance ran per week during training (`max`). Put `time_hrs` on the y-axis and `max` on the x-axis. Assign this plot to an object called `marathon_eda`. Remember to do whatever is necessary to make this an effective visualization."
   ]
  },
  {
   "cell_type": "code",
   "execution_count": null,
   "metadata": {
    "deletable": false,
    "nbgrader": {
     "cell_type": "code",
     "checksum": "7f2e15b170d6d4bf45138d839d8b6a42",
     "grade": false,
     "grade_id": "cell-4a1c52e071e0b23e",
     "locked": false,
     "schema_version": 3,
     "solution": true
    }
   },
   "outputs": [],
   "source": [
    "options(repr.plot.height = 8, repr.plot.width = 7)\n",
    "\n",
    "# your code here\n",
    "fail() # No Answer - remove if you provide an answer\n",
    "marathon_eda"
   ]
  },
  {
   "cell_type": "code",
   "execution_count": null,
   "metadata": {
    "deletable": false,
    "editable": false,
    "nbgrader": {
     "cell_type": "code",
     "checksum": "9fe7eedbc69e1feea544ecaa584f0960",
     "grade": true,
     "grade_id": "cell-883edd273699e4b7",
     "locked": true,
     "points": 1,
     "schema_version": 3,
     "solution": false
    }
   },
   "outputs": [],
   "source": [
    "library(digest)\n",
    "stopifnot(\"type of plot is not correct (if you are using two types of geoms, try flipping the order of the geom objects!)\"= setequal(digest(paste(toString(sapply(seq_len(length(marathon_eda$layers)), function(i) {c(class(marathon_eda$layers[[i]]$geom))[1]})), \"11fac\")), \"4459ab0fafff46beffafd74322e39f33\"))\n",
    "stopifnot(\"variable x is not correct\"= setequal(digest(paste(toString(unlist(lapply(sapply(seq_len(length(marathon_eda$layers)), function(i) {rlang::get_expr(c(marathon_eda$layers[[i]]$mapping, marathon_eda$mapping)$x)}), as.character))), \"11fac\")), \"ff45305bbbd821a02854aa03e229b841\"))\n",
    "stopifnot(\"variable y is not correct\"= setequal(digest(paste(toString(unlist(lapply(sapply(seq_len(length(marathon_eda$layers)), function(i) {rlang::get_expr(c(marathon_eda$layers[[i]]$mapping, marathon_eda$mapping)$y)}), as.character))), \"11fac\")), \"63e3299ade73457551067f0c882c5a8c\"))\n",
    "stopifnot(\"x-axis label is not descriptive, nicely formatted, or human readable\"= setequal(digest(paste(toString(rlang::get_expr(c(marathon_eda$layers[[1]]$mapping, marathon_eda$mapping)$x)!= marathon_eda$labels$x), \"11fac\")), \"0f8c484bf7bc498eb68af14f6135c7ce\"))\n",
    "stopifnot(\"y-axis label is not descriptive, nicely formatted, or human readable\"= setequal(digest(paste(toString(rlang::get_expr(c(marathon_eda$layers[[1]]$mapping, marathon_eda$mapping)$y)!= marathon_eda$labels$y), \"11fac\")), \"0f8c484bf7bc498eb68af14f6135c7ce\"))\n",
    "stopifnot(\"incorrect colour variable in marathon_eda, specify a correct one if required\"= setequal(digest(paste(toString(rlang::get_expr(c(marathon_eda$layers[[1]]$mapping, marathon_eda$mapping)$colour)), \"11fac\")), \"f720d575ebde6c6d0020075d65c620ba\"))\n",
    "stopifnot(\"incorrect shape variable in marathon_eda, specify a correct one if required\"= setequal(digest(paste(toString(rlang::get_expr(c(marathon_eda$layers[[1]]$mapping, marathon_eda$mapping)$shape)), \"11fac\")), \"f720d575ebde6c6d0020075d65c620ba\"))\n",
    "stopifnot(\"the colour label in marathon_eda is not descriptive, nicely formatted, or human readable\"= setequal(digest(paste(toString(rlang::get_expr(c(marathon_eda$layers[[1]]$mapping, marathon_eda$mapping)$colour) != marathon_eda$labels$colour), \"11fac\")), \"f720d575ebde6c6d0020075d65c620ba\"))\n",
    "stopifnot(\"the shape label in marathon_eda is not descriptive, nicely formatted, or human readable\"= setequal(digest(paste(toString(rlang::get_expr(c(marathon_eda$layers[[1]]$mapping, marathon_eda$mapping)$colour) != marathon_eda$labels$shape), \"11fac\")), \"f720d575ebde6c6d0020075d65c620ba\"))\n",
    "stopifnot(\"fill variable in marathon_eda is not correct\"= setequal(digest(paste(toString(quo_name(marathon_eda$mapping$fill)), \"11fac\")), \"4dd26f2adb5019221d751562ad1605ea\"))\n",
    "stopifnot(\"fill label in marathon_eda is not informative\"= setequal(digest(paste(toString((quo_name(marathon_eda$mapping$fill) != marathon_eda$labels$fill)), \"11fac\")), \"f720d575ebde6c6d0020075d65c620ba\"))\n",
    "stopifnot(\"position argument in marathon_eda is not correct\"= setequal(digest(paste(toString(class(marathon_eda$layers[[1]]$position)[1]), \"11fac\")), \"7bc0a64ae1fbaf25265604c8c06f747f\"))\n",
    "\n",
    "stopifnot(\"marathon_eda$data should be a data frame\"= setequal(digest(paste(toString('data.frame' %in% class(marathon_eda$data)), \"11fad\")), \"f45fafe1072c34829ea6fb8e233b9781\"))\n",
    "stopifnot(\"dimensions of marathon_eda$data are not correct\"= setequal(digest(paste(toString(dim(marathon_eda$data)), \"11fad\")), \"1300556bdc994b3feb7c50db1edef550\"))\n",
    "stopifnot(\"column names of marathon_eda$data are not correct\"= setequal(digest(paste(toString(sort(colnames(marathon_eda$data))), \"11fad\")), \"5f03d7c878564320eb15d49ccdbc6adb\"))\n",
    "stopifnot(\"types of columns in marathon_eda$data are not correct\"= setequal(digest(paste(toString(sort(unlist(sapply(marathon_eda$data, class)))), \"11fad\")), \"55d9d03b6a1fdb2d57671eaf35751163\"))\n",
    "stopifnot(\"values in one or more numerical columns in marathon_eda$data are not correct\"= setequal(digest(paste(toString(if (any(sapply(marathon_eda$data, is.numeric))) sort(round(sapply(marathon_eda$data[, sapply(marathon_eda$data, is.numeric)], sum, na.rm = TRUE), 2)) else 0), \"11fad\")), \"1dead0c6529f779942736f60674097c6\"))\n",
    "stopifnot(\"values in one or more character columns in marathon_eda$data are not correct\"= setequal(digest(paste(toString(if (any(sapply(marathon_eda$data, is.character))) sum(sapply(marathon_eda$data[sapply(marathon_eda$data, is.character)], function(x) length(unique(x)))) else 0), \"11fad\")), \"d0c94533be178ca3d7d3f13fae051b9e\"))\n",
    "stopifnot(\"values in one or more factor columns in marathon_eda$data are not correct\"= setequal(digest(paste(toString(if (any(sapply(marathon_eda$data, is.factor))) sum(sapply(marathon_eda$data[, sapply(marathon_eda$data, is.factor)], function(col) length(unique(col)))) else 0), \"11fad\")), \"d0c94533be178ca3d7d3f13fae051b9e\"))\n",
    "\n",
    "print('Success!')"
   ]
  },
  {
   "cell_type": "markdown",
   "metadata": {
    "deletable": false,
    "editable": false,
    "nbgrader": {
     "cell_type": "markdown",
     "checksum": "d195b1a04cc840d00ca166ae12c124ca",
     "grade": false,
     "grade_id": "cell-c66b91eb433ebef7",
     "locked": true,
     "schema_version": 3,
     "solution": false,
     "task": false
    }
   },
   "source": [
    "**Question 3.3**\n",
    "<br> {points: 1}\n",
    "\n",
    "Now that we have our training data, the next step is to build a linear regression model specification. Thankfully, building other model specifications is quite straightforward since we will still go through the same procedure (indicate the function, the engine and the mode). \n",
    "\n",
    "Instead of using the `nearest_neighbor` function, we will be using the `linear_reg` function to let `tidymodels` know we want to perform a linear regression. In the `set_engine` function, we have typically set `\"kknn\"` there for $k$-nn. Since we are doing a linear regression here, set `\"lm\"` as the engine. Finally, instead of setting `\"classification\"` as the mode, set `\"regression\"` as the mode. \n",
    "\n",
    "Assign your answer to an object named `lm_spec`."
   ]
  },
  {
   "cell_type": "code",
   "execution_count": null,
   "metadata": {
    "deletable": false,
    "nbgrader": {
     "cell_type": "code",
     "checksum": "1530ffd4f16d72b585967be1e5cc154c",
     "grade": false,
     "grade_id": "cell-9736241c0c2966b9",
     "locked": false,
     "schema_version": 3,
     "solution": true
    }
   },
   "outputs": [],
   "source": [
    "# your code here\n",
    "fail() # No Answer - remove if you provide an answer"
   ]
  },
  {
   "cell_type": "code",
   "execution_count": null,
   "metadata": {
    "deletable": false,
    "editable": false,
    "nbgrader": {
     "cell_type": "code",
     "checksum": "31561987a5c3b62338c5cb3e308070ff",
     "grade": true,
     "grade_id": "cell-a647adab28a3dfb2",
     "locked": true,
     "points": 1,
     "schema_version": 3,
     "solution": false
    }
   },
   "outputs": [],
   "source": [
    "library(digest)\n",
    "stopifnot(\"lm_spec should be a model specification\"= setequal(digest(paste(toString('model_spec' %in% class(lm_spec)), \"d0889\")), \"a0dacbf88e81803337b8c7997b77466e\"))\n",
    "stopifnot(\"model specification in lm_spec is not correct\"= setequal(digest(paste(toString(lm_spec$mode), \"d0889\")), \"875da79c33870ef8b6ae4c843ba107b1\"))\n",
    "stopifnot(\"computational engine in lm_spec is not correct\"= setequal(digest(paste(toString(lm_spec$engine), \"d0889\")), \"574bc5e346e71d4f46b8c690ef333ed1\"))\n",
    "\n",
    "print('Success!')"
   ]
  },
  {
   "cell_type": "markdown",
   "metadata": {
    "deletable": false,
    "editable": false,
    "nbgrader": {
     "cell_type": "markdown",
     "checksum": "f5dab0b1a9c4ff92a05207dba7fe1c6f",
     "grade": false,
     "grade_id": "cell-29d06cfa3e0ab3bc",
     "locked": true,
     "schema_version": 3,
     "solution": false,
     "task": false
    }
   },
   "source": [
    "**Question 3.3.1**\n",
    "<br>{points: 1}\n",
    "\n",
    "After we have created our linear regression model specification, the next step is to create a recipe, establish a workflow analysis and fit our simple linear regression model. \n",
    "\n",
    "First, create a recipe with the variables of interest (race time and max weekly training distance) using the training dataset and assign your answer to an object named `lm_recipe`. \n",
    "\n",
    "Then, create a workflow analysis with our model specification and recipe. Remember to fit in the training dataset as well. Assign your answer to an object named `lm_fit`.  "
   ]
  },
  {
   "cell_type": "code",
   "execution_count": null,
   "metadata": {
    "deletable": false,
    "nbgrader": {
     "cell_type": "code",
     "checksum": "303c4ba43630124883d8c60b0aa8039c",
     "grade": false,
     "grade_id": "cell-72f6968d56ed879f",
     "locked": false,
     "schema_version": 3,
     "solution": true,
     "task": false
    }
   },
   "outputs": [],
   "source": [
    "#... <- recipe(... ~ ..., data = ...)\n",
    "\n",
    "#... <- workflow() |>\n",
    "#       add_recipe(...) |>\n",
    "#       add_model(...) |>\n",
    "#       fit(...)\n",
    "\n",
    "# your code here\n",
    "fail() # No Answer - remove if you provide an answer\n",
    "lm_fit"
   ]
  },
  {
   "cell_type": "code",
   "execution_count": null,
   "metadata": {
    "deletable": false,
    "editable": false,
    "nbgrader": {
     "cell_type": "code",
     "checksum": "9586012afa3a9bef9434b9116dcf2119",
     "grade": true,
     "grade_id": "cell-9d3b1ff7fdd3faa5",
     "locked": true,
     "points": 1,
     "schema_version": 3,
     "solution": false,
     "task": false
    }
   },
   "outputs": [],
   "source": [
    "library(digest)\n",
    "stopifnot(\"lm_recipe should be a recipe\"= setequal(digest(paste(toString('recipe' %in% class(lm_recipe)), \"75481\")), \"9f9d6a2ddbcb5fa648535344804606f9\"))\n",
    "stopifnot(\"response variable of lm_recipe is not correct\"= setequal(digest(paste(toString(sort(filter(lm_recipe$var_info, role == 'outcome')$variable)), \"75481\")), \"b8ecc843c3922304280df63250a47bf0\"))\n",
    "stopifnot(\"predictor variable(s) of lm_recipe are not correct\"= setequal(digest(paste(toString(sort(filter(lm_recipe$var_info, role == 'predictor')$variable)), \"75481\")), \"adbdaeb8f5967844a99791b00b963cd0\"))\n",
    "stopifnot(\"lm_recipe does not contain the correct data, might need to be standardized\"= setequal(digest(paste(toString(round(sum(bake(prep(lm_recipe), lm_recipe$template) %>% select_if(is.numeric), na.rm = TRUE), 2)), \"75481\")), \"1f4c1cba79358be26d7b63a420618b8b\"))\n",
    "\n",
    "stopifnot(\"lm_fit should be a workflow\"= setequal(digest(paste(toString('workflow' %in% class(lm_fit)), \"75482\")), \"cce7000d9ae3d342f9246a159eecb980\"))\n",
    "stopifnot(\"computational engine used in lm_fit is not correct\"= setequal(digest(paste(toString(lm_fit$fit$actions$model$spec$engine), \"75482\")), \"fe034b6280904548b52fc19abbe6edff\"))\n",
    "stopifnot(\"model specification used in lm_fit is not correct\"= setequal(digest(paste(toString(lm_fit$fit$actions$model$spec$mode), \"75482\")), \"3cae09094e67e2f99a265c29a8d3918b\"))\n",
    "stopifnot(\"lm_fit must be a trained workflow, make sure to call the fit() function\"= setequal(digest(paste(toString(lm_fit$trained), \"75482\")), \"cce7000d9ae3d342f9246a159eecb980\"))\n",
    "stopifnot(\"predictor variable(s) of lm_fit are not correct\"= setequal(digest(paste(toString(sort(filter(lm_fit$pre$actions$recipe$recipe$var_info, role == 'predictor')$variable)), \"75482\")), \"ff0c2ccbae3e98ee9211ee70e3ad1e8a\"))\n",
    "stopifnot(\"lm_fit does not contain the correct data\"= setequal(digest(paste(toString(sort(vapply(lm_fit$pre$mold$predictors[, sapply(lm_fit$pre$mold$predictors, is.numeric)], function(col) if(!is.null(col)) round(sum(col), 2) else NA_real_, numeric(1)), na.last = NA)), \"75482\")), \"be94b1f7d4616144f9d51afb14b8b17f\"))\n",
    "stopifnot(\"did not fit lm_fit on the training dataset\"= setequal(digest(paste(toString(nrow(lm_fit$pre$mold$outcomes)), \"75482\")), \"ee77ee2ba1694b3dc410cf44a5e0efce\"))\n",
    "stopifnot(\"for classification/regression models, weight function is not correct\"= setequal(digest(paste(toString(quo_name(lm_fit$fit$actions$model$spec$args$weight_func)), \"75482\")), \"a2a2f068d8e40043fd0b88d09299bd2e\"))\n",
    "stopifnot(\"for classification/regression models, response variable of lm_fit is not correct\"= setequal(digest(paste(toString(sort(filter(lm_fit$pre$actions$recipe$recipe$var_info, role == 'outcome')$variable)), \"75482\")), \"5d2ee0077f65d653f1f8d63a42599054\"))\n",
    "stopifnot(\"for KNN models, number of neighbours is not correct\"= setequal(digest(paste(toString(quo_name(lm_fit$fit$actions$model$spec$args$neighbors)), \"75482\")), \"a2a2f068d8e40043fd0b88d09299bd2e\"))\n",
    "stopifnot(\"for clustering models, the clustering is not correct\"= setequal(digest(paste(toString(lm_fit$fit$fit$fit$cluster), \"75482\")), \"c2b79e4fa40c9504e66f260d9a9b56c6\"))\n",
    "stopifnot(\"for clustering models, the total within-cluster sum-of-squared distances is not correct\"= setequal(digest(paste(toString(if (!is.null(lm_fit$fit$fit$fit$tot.withinss)) round(lm_fit$fit$fit$fit$tot.withinss, 2) else NULL), \"75482\")), \"c2b79e4fa40c9504e66f260d9a9b56c6\"))\n",
    "\n",
    "print('Success!')"
   ]
  },
  {
   "cell_type": "markdown",
   "metadata": {
    "deletable": false,
    "editable": false,
    "nbgrader": {
     "cell_type": "markdown",
     "checksum": "1de9e767bea811b0f51ac4725b4b4b84",
     "grade": false,
     "grade_id": "cell-dad798df6163dff4",
     "locked": true,
     "schema_version": 3,
     "solution": false,
     "task": false
    }
   },
   "source": [
    "**Question 3.4**\n",
    "<br> {points: 1}\n",
    "\n",
    "Now, let's visualize the model predictions as a straight line overlaid on the training data. Use the `predict`  and `bind_cols` functions on `lm_fit` to create predictions for the `marathon_training` data. Name the resulting data frame `marathon_preds`.\n",
    "\n",
    "Next, create a scatterplot with the marathon time (y-axis) against the maximum distance run per week (x-axis) from `marathon_preds`. Use an alpha value of 0.4 to avoid overplotting. **Plot the predictions as a blue line over the data points.** Assign your plot to a variable called `lm_predictions`.  Remember the fundamentals of effective visualizations such as having a human-readable axes titles. "
   ]
  },
  {
   "cell_type": "code",
   "execution_count": null,
   "metadata": {
    "deletable": false,
    "nbgrader": {
     "cell_type": "code",
     "checksum": "4cbea9991bcdf02b0340eed13dd5be0a",
     "grade": false,
     "grade_id": "cell-6131349a47c37876",
     "locked": false,
     "schema_version": 3,
     "solution": true
    }
   },
   "outputs": [],
   "source": [
    "options(repr.plot.width = 8, repr.plot.height = 7)\n",
    "\n",
    "# marathon_preds <- ... |>\n",
    "#   predict(...) |>\n",
    "#   bind_cols(...)\n",
    "#\n",
    "# lm_predictions <- marathon_preds |>\n",
    "#     ...(aes(x = ..., y = ...)) +\n",
    "#         geom_point(... = 0.4) +\n",
    "#         geom_line(\n",
    "#             mapping = aes(x = ..., y = ...), \n",
    "#             color = \"blue\") +\n",
    "#         xlab(\"...\") +\n",
    "#         ylab(\"...\") +\n",
    "#         theme(text = ...(size = 20))\n",
    "\n",
    "# your code here\n",
    "fail() # No Answer - remove if you provide an answer\n",
    "lm_predictions"
   ]
  },
  {
   "cell_type": "code",
   "execution_count": null,
   "metadata": {
    "deletable": false,
    "editable": false,
    "nbgrader": {
     "cell_type": "code",
     "checksum": "c2acd42915d79e6c2235871620ec0fd8",
     "grade": true,
     "grade_id": "cell-4664079ebe7d0892",
     "locked": true,
     "points": 1,
     "schema_version": 3,
     "solution": false
    }
   },
   "outputs": [],
   "source": [
    "library(digest)\n",
    "stopifnot(\"marathon_preds should be a data frame\"= setequal(digest(paste(toString('data.frame' %in% class(marathon_preds)), \"92a43\")), \"9da11dcd29eb47f90ac1aefabe6c9455\"))\n",
    "stopifnot(\"dimensions of marathon_preds are not correct\"= setequal(digest(paste(toString(dim(marathon_preds)), \"92a43\")), \"74088c002f1026d9e09caf9aa1594fa8\"))\n",
    "stopifnot(\"column names of marathon_preds are not correct\"= setequal(digest(paste(toString(sort(colnames(marathon_preds))), \"92a43\")), \"3d11ae5f1d1aa863b880dfa9c0306f8d\"))\n",
    "stopifnot(\"types of columns in marathon_preds are not correct\"= setequal(digest(paste(toString(sort(unlist(sapply(marathon_preds, class)))), \"92a43\")), \"dc8fa49c861bb94fc17b26fcd8616273\"))\n",
    "stopifnot(\"values in one or more numerical columns in marathon_preds are not correct\"= setequal(digest(paste(toString(if (any(sapply(marathon_preds, is.numeric))) sort(round(sapply(marathon_preds[, sapply(marathon_preds, is.numeric)], sum, na.rm = TRUE), 2)) else 0), \"92a43\")), \"2e034bbbff8419bdc580d52b81bff2ba\"))\n",
    "stopifnot(\"values in one or more character columns in marathon_preds are not correct\"= setequal(digest(paste(toString(if (any(sapply(marathon_preds, is.character))) sum(sapply(marathon_preds[sapply(marathon_preds, is.character)], function(x) length(unique(x)))) else 0), \"92a43\")), \"af2001c6c829297968ba45ced5235ec8\"))\n",
    "stopifnot(\"values in one or more factor columns in marathon_preds are not correct\"= setequal(digest(paste(toString(if (any(sapply(marathon_preds, is.factor))) sum(sapply(marathon_preds[, sapply(marathon_preds, is.factor)], function(col) length(unique(col)))) else 0), \"92a43\")), \"af2001c6c829297968ba45ced5235ec8\"))\n",
    "\n",
    "stopifnot(\"type of plot is not correct (if you are using two types of geoms, try flipping the order of the geom objects!)\"= setequal(digest(paste(toString(sapply(seq_len(length(lm_predictions$layers)), function(i) {c(class(lm_predictions$layers[[i]]$geom))[1]})), \"92a44\")), \"fb744d3c7ec20538e4f5cd822395cc85\"))\n",
    "stopifnot(\"variable x is not correct\"= setequal(digest(paste(toString(unlist(lapply(sapply(seq_len(length(lm_predictions$layers)), function(i) {rlang::get_expr(c(lm_predictions$layers[[i]]$mapping, lm_predictions$mapping)$x)}), as.character))), \"92a44\")), \"74c2844a5f83b6daa40aaec67fa2e92a\"))\n",
    "stopifnot(\"variable y is not correct\"= setequal(digest(paste(toString(unlist(lapply(sapply(seq_len(length(lm_predictions$layers)), function(i) {rlang::get_expr(c(lm_predictions$layers[[i]]$mapping, lm_predictions$mapping)$y)}), as.character))), \"92a44\")), \"1ddf82aafb1c88458884d9df5a673917\"))\n",
    "stopifnot(\"x-axis label is not descriptive, nicely formatted, or human readable\"= setequal(digest(paste(toString(rlang::get_expr(c(lm_predictions$layers[[1]]$mapping, lm_predictions$mapping)$x)!= lm_predictions$labels$x), \"92a44\")), \"9d3822c574af2fed6d28ab707c284cce\"))\n",
    "stopifnot(\"y-axis label is not descriptive, nicely formatted, or human readable\"= setequal(digest(paste(toString(rlang::get_expr(c(lm_predictions$layers[[1]]$mapping, lm_predictions$mapping)$y)!= lm_predictions$labels$y), \"92a44\")), \"9d3822c574af2fed6d28ab707c284cce\"))\n",
    "stopifnot(\"incorrect colour variable in lm_predictions, specify a correct one if required\"= setequal(digest(paste(toString(rlang::get_expr(c(lm_predictions$layers[[1]]$mapping, lm_predictions$mapping)$colour)), \"92a44\")), \"b2107b37b60426a99544ad984154f1a3\"))\n",
    "stopifnot(\"incorrect shape variable in lm_predictions, specify a correct one if required\"= setequal(digest(paste(toString(rlang::get_expr(c(lm_predictions$layers[[1]]$mapping, lm_predictions$mapping)$shape)), \"92a44\")), \"b2107b37b60426a99544ad984154f1a3\"))\n",
    "stopifnot(\"the colour label in lm_predictions is not descriptive, nicely formatted, or human readable\"= setequal(digest(paste(toString(rlang::get_expr(c(lm_predictions$layers[[1]]$mapping, lm_predictions$mapping)$colour) != lm_predictions$labels$colour), \"92a44\")), \"b2107b37b60426a99544ad984154f1a3\"))\n",
    "stopifnot(\"the shape label in lm_predictions is not descriptive, nicely formatted, or human readable\"= setequal(digest(paste(toString(rlang::get_expr(c(lm_predictions$layers[[1]]$mapping, lm_predictions$mapping)$colour) != lm_predictions$labels$shape), \"92a44\")), \"b2107b37b60426a99544ad984154f1a3\"))\n",
    "stopifnot(\"fill variable in lm_predictions is not correct\"= setequal(digest(paste(toString(quo_name(lm_predictions$mapping$fill)), \"92a44\")), \"8fc821fdbb622da7ac6e6263a813b77f\"))\n",
    "stopifnot(\"fill label in lm_predictions is not informative\"= setequal(digest(paste(toString((quo_name(lm_predictions$mapping$fill) != lm_predictions$labels$fill)), \"92a44\")), \"b2107b37b60426a99544ad984154f1a3\"))\n",
    "stopifnot(\"position argument in lm_predictions is not correct\"= setequal(digest(paste(toString(class(lm_predictions$layers[[1]]$position)[1]), \"92a44\")), \"44da79b989930014234165d79853228d\"))\n",
    "\n",
    "stopifnot(\"lm_predictions$data should be a data frame\"= setequal(digest(paste(toString('data.frame' %in% class(lm_predictions$data)), \"92a45\")), \"5b824784ce6d25ac0d227cfbc08effb6\"))\n",
    "stopifnot(\"dimensions of lm_predictions$data are not correct\"= setequal(digest(paste(toString(dim(lm_predictions$data)), \"92a45\")), \"85a2b44d298b323abf26964fcdec67cb\"))\n",
    "stopifnot(\"column names of lm_predictions$data are not correct\"= setequal(digest(paste(toString(sort(colnames(lm_predictions$data))), \"92a45\")), \"98268a0def9229d53e704e820f4b9fb7\"))\n",
    "stopifnot(\"types of columns in lm_predictions$data are not correct\"= setequal(digest(paste(toString(sort(unlist(sapply(lm_predictions$data, class)))), \"92a45\")), \"6e358fb6c724c4683b8bc75631365183\"))\n",
    "stopifnot(\"values in one or more numerical columns in lm_predictions$data are not correct\"= setequal(digest(paste(toString(if (any(sapply(lm_predictions$data, is.numeric))) sort(round(sapply(lm_predictions$data[, sapply(lm_predictions$data, is.numeric)], sum, na.rm = TRUE), 2)) else 0), \"92a45\")), \"249f484e2bd4edf34b3344f3dbbccac3\"))\n",
    "stopifnot(\"values in one or more character columns in lm_predictions$data are not correct\"= setequal(digest(paste(toString(if (any(sapply(lm_predictions$data, is.character))) sum(sapply(lm_predictions$data[sapply(lm_predictions$data, is.character)], function(x) length(unique(x)))) else 0), \"92a45\")), \"17108f98507ffe522490eb8f6ccdd547\"))\n",
    "stopifnot(\"values in one or more factor columns in lm_predictions$data are not correct\"= setequal(digest(paste(toString(if (any(sapply(lm_predictions$data, is.factor))) sum(sapply(lm_predictions$data[, sapply(lm_predictions$data, is.factor)], function(col) length(unique(col)))) else 0), \"92a45\")), \"17108f98507ffe522490eb8f6ccdd547\"))\n",
    "\n",
    "stopifnot(\"type of as.character(lm_predictions$layers[[2]]$aes_params) is not character\"= setequal(digest(paste(toString(class(as.character(lm_predictions$layers[[2]]$aes_params))), \"92a46\")), \"a53836556fa0edf8ff013e891f1f9bd9\"))\n",
    "stopifnot(\"length of as.character(lm_predictions$layers[[2]]$aes_params) is not correct\"= setequal(digest(paste(toString(length(as.character(lm_predictions$layers[[2]]$aes_params))), \"92a46\")), \"1483d186549c4800922240ea9731d38e\"))\n",
    "stopifnot(\"value of as.character(lm_predictions$layers[[2]]$aes_params) is not correct\"= setequal(digest(paste(toString(tolower(as.character(lm_predictions$layers[[2]]$aes_params))), \"92a46\")), \"96b2060698cde202d2dec4eacaf0ef4a\"))\n",
    "stopifnot(\"letters in string value of as.character(lm_predictions$layers[[2]]$aes_params) are correct but case is not correct\"= setequal(digest(paste(toString(as.character(lm_predictions$layers[[2]]$aes_params)), \"92a46\")), \"96b2060698cde202d2dec4eacaf0ef4a\"))\n",
    "\n",
    "print('Success!')"
   ]
  },
  {
   "cell_type": "markdown",
   "metadata": {
    "deletable": false,
    "editable": false,
    "nbgrader": {
     "cell_type": "markdown",
     "checksum": "51ea2afad1f6ea01d1549e3d933ac38d",
     "grade": false,
     "grade_id": "cell-c4273b717c7a3cb7",
     "locked": true,
     "schema_version": 3,
     "solution": false,
     "task": false
    }
   },
   "source": [
    "**Question 3.5**\n",
    "<br> {points: 1}\n",
    "\n",
    "Great! We can now see the line of best fit on the graph. Now let's calculate the $RMSPE$ using the **test data**. To get to this point, first, use the `lm_fit` to make predictions on the test data. Remember to bind the appropriate columns for the test data. Afterwards, collect the metrics and store it in an object called `lm_test_results`.\n",
    "\n",
    "From `lm_test_results`, extract the $RMSPE$ and return a single numerical value. Assign your answer to an object named `lm_rmspe`."
   ]
  },
  {
   "cell_type": "code",
   "execution_count": null,
   "metadata": {
    "deletable": false,
    "nbgrader": {
     "cell_type": "code",
     "checksum": "9d5f238c35ed6d87f0820b963ef8e70b",
     "grade": false,
     "grade_id": "cell-5f42a9ac9068cfdf",
     "locked": false,
     "schema_version": 3,
     "solution": true
    }
   },
   "outputs": [],
   "source": [
    "#... <- lm_fit |>\n",
    "#         predict(...) |>\n",
    "#         bind_cols(...) |>\n",
    "#         metrics(truth = ..., estimate = ..)\n",
    "\n",
    "#... <- lm_test_results |>\n",
    "#          filter(...) |>\n",
    "#          select(...) |>\n",
    "#          ...\n",
    "\n",
    "# your code here\n",
    "fail() # No Answer - remove if you provide an answer\n",
    "lm_rmspe"
   ]
  },
  {
   "cell_type": "code",
   "execution_count": null,
   "metadata": {
    "deletable": false,
    "editable": false,
    "nbgrader": {
     "cell_type": "code",
     "checksum": "6443934a920e993bfe92b39c5786aaa0",
     "grade": true,
     "grade_id": "cell-96a0627f99b93667",
     "locked": true,
     "points": 1,
     "schema_version": 3,
     "solution": false,
     "task": false
    }
   },
   "outputs": [],
   "source": [
    "library(digest)\n",
    "stopifnot(\"lm_test_results should be a data frame\"= setequal(digest(paste(toString('data.frame' %in% class(lm_test_results)), \"897a7\")), \"b810641e52df8b085ad482ea493a8e75\"))\n",
    "stopifnot(\"dimensions of lm_test_results are not correct\"= setequal(digest(paste(toString(dim(lm_test_results)), \"897a7\")), \"9770727e09ce49505b380eeecf31decb\"))\n",
    "stopifnot(\"column names of lm_test_results are not correct\"= setequal(digest(paste(toString(sort(colnames(lm_test_results))), \"897a7\")), \"3b139e12b7dcae96919fad7daf30dc88\"))\n",
    "stopifnot(\"types of columns in lm_test_results are not correct\"= setequal(digest(paste(toString(sort(unlist(sapply(lm_test_results, class)))), \"897a7\")), \"3a394aca9254bf32b1659200c8bf5307\"))\n",
    "stopifnot(\"values in one or more numerical columns in lm_test_results are not correct\"= setequal(digest(paste(toString(if (any(sapply(lm_test_results, is.numeric))) sort(round(sapply(lm_test_results[, sapply(lm_test_results, is.numeric)], sum, na.rm = TRUE), 2)) else 0), \"897a7\")), \"88bd1c199e045c8b65b425f2deed668b\"))\n",
    "stopifnot(\"values in one or more character columns in lm_test_results are not correct\"= setequal(digest(paste(toString(if (any(sapply(lm_test_results, is.character))) sum(sapply(lm_test_results[sapply(lm_test_results, is.character)], function(x) length(unique(x)))) else 0), \"897a7\")), \"855933d0f5e22f016f6baddd4ffaac61\"))\n",
    "stopifnot(\"values in one or more factor columns in lm_test_results are not correct\"= setequal(digest(paste(toString(if (any(sapply(lm_test_results, is.factor))) sum(sapply(lm_test_results[, sapply(lm_test_results, is.factor)], function(col) length(unique(col)))) else 0), \"897a7\")), \"1e2484c0e0b3dd4af86bcff5e3d1b54f\"))\n",
    "\n",
    "stopifnot(\"type of round(lm_rmspe, 2) is not numeric\"= setequal(digest(paste(toString(class(round(lm_rmspe, 2))), \"897a8\")), \"1aa278f1def9d912be586c16e682e781\"))\n",
    "stopifnot(\"value of round(lm_rmspe, 2) is not correct (rounded to 2 decimal places)\"= setequal(digest(paste(toString(round(round(lm_rmspe, 2), 2)), \"897a8\")), \"971da5ed9e27704013c9e9add30f4846\"))\n",
    "stopifnot(\"length of round(lm_rmspe, 2) is not correct\"= setequal(digest(paste(toString(length(round(lm_rmspe, 2))), \"897a8\")), \"451753c10c17df6c5e9b434ce9093dff\"))\n",
    "stopifnot(\"values of round(lm_rmspe, 2) are not correct\"= setequal(digest(paste(toString(sort(round(round(lm_rmspe, 2), 2))), \"897a8\")), \"971da5ed9e27704013c9e9add30f4846\"))\n",
    "\n",
    "print('Success!')"
   ]
  },
  {
   "cell_type": "markdown",
   "metadata": {
    "deletable": false,
    "editable": false,
    "nbgrader": {
     "cell_type": "markdown",
     "checksum": "703a97273e060a23864acb4febf15f4d",
     "grade": false,
     "grade_id": "cell-248f1e3467b09c40",
     "locked": true,
     "schema_version": 3,
     "solution": false,
     "task": false
    }
   },
   "source": [
    "**Question 3.5.1**\n",
    "<br> {points: 1}\n",
    "\n",
    "Now, let's visualize the model predictions as a straight line overlaid on the test data. First, create a scatterplot to assess the relationship between race time (`time_hrs`) and maximum distance ran per week during training (`max`) on the **testing data.** Use and alpha value of 0.4 to avoid overplotting. Then add a line to the plot corresponding to the predictions from the fit linear regression model. Remember to do whatever is necessary to make this an effective visualization.\n",
    "\n",
    "*Assign the plot to an object called `lm_predictions_test`.*"
   ]
  },
  {
   "cell_type": "code",
   "execution_count": null,
   "metadata": {
    "deletable": false,
    "nbgrader": {
     "cell_type": "code",
     "checksum": "d8e6bd06a9c30160ca9342bae87c9efa",
     "grade": false,
     "grade_id": "cell-498c80d6fa9369a7",
     "locked": false,
     "schema_version": 3,
     "solution": true,
     "task": false
    }
   },
   "outputs": [],
   "source": [
    "options(repr.plot.width = 8, repr.plot.height = 7)\n",
    "\n",
    "# test_preds <- ...\n",
    "\n",
    "# lm_predictions_test <- ...\n",
    "\n",
    "# your code here\n",
    "fail() # No Answer - remove if you provide an answer\n",
    "lm_predictions_test"
   ]
  },
  {
   "cell_type": "code",
   "execution_count": null,
   "metadata": {
    "deletable": false,
    "editable": false,
    "nbgrader": {
     "cell_type": "code",
     "checksum": "8ac7774e84a41ae09dd036dff5221503",
     "grade": true,
     "grade_id": "cell-218d130332eebf2a",
     "locked": true,
     "points": 1,
     "schema_version": 3,
     "solution": false,
     "task": false
    }
   },
   "outputs": [],
   "source": [
    "library(digest)\n",
    "stopifnot(\"test_preds should be a data frame\"= setequal(digest(paste(toString('data.frame' %in% class(test_preds)), \"34e17\")), \"b9c2981a0e8d6cf89e98fa7736d5f467\"))\n",
    "stopifnot(\"dimensions of test_preds are not correct\"= setequal(digest(paste(toString(dim(test_preds)), \"34e17\")), \"e69a8e0f204485549c3aa56a8d089150\"))\n",
    "stopifnot(\"column names of test_preds are not correct\"= setequal(digest(paste(toString(sort(colnames(test_preds))), \"34e17\")), \"4dbd60436948e508ce4d7dc43da278fc\"))\n",
    "stopifnot(\"types of columns in test_preds are not correct\"= setequal(digest(paste(toString(sort(unlist(sapply(test_preds, class)))), \"34e17\")), \"f4be2b89540633a23ce4264b495756f4\"))\n",
    "stopifnot(\"values in one or more numerical columns in test_preds are not correct\"= setequal(digest(paste(toString(if (any(sapply(test_preds, is.numeric))) sort(round(sapply(test_preds[, sapply(test_preds, is.numeric)], sum, na.rm = TRUE), 2)) else 0), \"34e17\")), \"4c5890ff8271bd200379f553c61394c1\"))\n",
    "stopifnot(\"values in one or more character columns in test_preds are not correct\"= setequal(digest(paste(toString(if (any(sapply(test_preds, is.character))) sum(sapply(test_preds[sapply(test_preds, is.character)], function(x) length(unique(x)))) else 0), \"34e17\")), \"44ecda4ed9d0f455b7d326734d48e06e\"))\n",
    "stopifnot(\"values in one or more factor columns in test_preds are not correct\"= setequal(digest(paste(toString(if (any(sapply(test_preds, is.factor))) sum(sapply(test_preds[, sapply(test_preds, is.factor)], function(col) length(unique(col)))) else 0), \"34e17\")), \"44ecda4ed9d0f455b7d326734d48e06e\"))\n",
    "\n",
    "stopifnot(\"type of plot is not correct (if you are using two types of geoms, try flipping the order of the geom objects!)\"= setequal(digest(paste(toString(sapply(seq_len(length(lm_predictions_test$layers)), function(i) {c(class(lm_predictions_test$layers[[i]]$geom))[1]})), \"34e18\")), \"e996b7462be5db50fddea027a41e5d41\"))\n",
    "stopifnot(\"variable x is not correct\"= setequal(digest(paste(toString(unlist(lapply(sapply(seq_len(length(lm_predictions_test$layers)), function(i) {rlang::get_expr(c(lm_predictions_test$layers[[i]]$mapping, lm_predictions_test$mapping)$x)}), as.character))), \"34e18\")), \"dc26821c948a88627636fbaff8ba49fa\"))\n",
    "stopifnot(\"variable y is not correct\"= setequal(digest(paste(toString(unlist(lapply(sapply(seq_len(length(lm_predictions_test$layers)), function(i) {rlang::get_expr(c(lm_predictions_test$layers[[i]]$mapping, lm_predictions_test$mapping)$y)}), as.character))), \"34e18\")), \"f859c22b95960db245622f8bda7a7c48\"))\n",
    "stopifnot(\"x-axis label is not descriptive, nicely formatted, or human readable\"= setequal(digest(paste(toString(rlang::get_expr(c(lm_predictions_test$layers[[1]]$mapping, lm_predictions_test$mapping)$x)!= lm_predictions_test$labels$x), \"34e18\")), \"d32017ce78d71b2418a43f5c2b1db675\"))\n",
    "stopifnot(\"y-axis label is not descriptive, nicely formatted, or human readable\"= setequal(digest(paste(toString(rlang::get_expr(c(lm_predictions_test$layers[[1]]$mapping, lm_predictions_test$mapping)$y)!= lm_predictions_test$labels$y), \"34e18\")), \"d32017ce78d71b2418a43f5c2b1db675\"))\n",
    "stopifnot(\"incorrect colour variable in lm_predictions_test, specify a correct one if required\"= setequal(digest(paste(toString(rlang::get_expr(c(lm_predictions_test$layers[[1]]$mapping, lm_predictions_test$mapping)$colour)), \"34e18\")), \"5bb6ade5c7dda10413c785b77ae992f1\"))\n",
    "stopifnot(\"incorrect shape variable in lm_predictions_test, specify a correct one if required\"= setequal(digest(paste(toString(rlang::get_expr(c(lm_predictions_test$layers[[1]]$mapping, lm_predictions_test$mapping)$shape)), \"34e18\")), \"5bb6ade5c7dda10413c785b77ae992f1\"))\n",
    "stopifnot(\"the colour label in lm_predictions_test is not descriptive, nicely formatted, or human readable\"= setequal(digest(paste(toString(rlang::get_expr(c(lm_predictions_test$layers[[1]]$mapping, lm_predictions_test$mapping)$colour) != lm_predictions_test$labels$colour), \"34e18\")), \"5bb6ade5c7dda10413c785b77ae992f1\"))\n",
    "stopifnot(\"the shape label in lm_predictions_test is not descriptive, nicely formatted, or human readable\"= setequal(digest(paste(toString(rlang::get_expr(c(lm_predictions_test$layers[[1]]$mapping, lm_predictions_test$mapping)$colour) != lm_predictions_test$labels$shape), \"34e18\")), \"5bb6ade5c7dda10413c785b77ae992f1\"))\n",
    "stopifnot(\"fill variable in lm_predictions_test is not correct\"= setequal(digest(paste(toString(quo_name(lm_predictions_test$mapping$fill)), \"34e18\")), \"a5333b2a9e34a3481fa9ab37923f2179\"))\n",
    "stopifnot(\"fill label in lm_predictions_test is not informative\"= setequal(digest(paste(toString((quo_name(lm_predictions_test$mapping$fill) != lm_predictions_test$labels$fill)), \"34e18\")), \"5bb6ade5c7dda10413c785b77ae992f1\"))\n",
    "stopifnot(\"position argument in lm_predictions_test is not correct\"= setequal(digest(paste(toString(class(lm_predictions_test$layers[[1]]$position)[1]), \"34e18\")), \"cb745c6bdfda658a5f56a95dbea00f45\"))\n",
    "\n",
    "stopifnot(\"lm_predictions_test$data should be a data frame\"= setequal(digest(paste(toString('data.frame' %in% class(lm_predictions_test$data)), \"34e19\")), \"d7dad6698210cfacabf62c3bae8b5644\"))\n",
    "stopifnot(\"dimensions of lm_predictions_test$data are not correct\"= setequal(digest(paste(toString(dim(lm_predictions_test$data)), \"34e19\")), \"fa31829e597d4b489d7829cfb90bf196\"))\n",
    "stopifnot(\"column names of lm_predictions_test$data are not correct\"= setequal(digest(paste(toString(sort(colnames(lm_predictions_test$data))), \"34e19\")), \"7e6df8b1b9cb0ea102b917bf0ba32e62\"))\n",
    "stopifnot(\"types of columns in lm_predictions_test$data are not correct\"= setequal(digest(paste(toString(sort(unlist(sapply(lm_predictions_test$data, class)))), \"34e19\")), \"469aeceaad0a86845823d2423e05da29\"))\n",
    "stopifnot(\"values in one or more numerical columns in lm_predictions_test$data are not correct\"= setequal(digest(paste(toString(if (any(sapply(lm_predictions_test$data, is.numeric))) sort(round(sapply(lm_predictions_test$data[, sapply(lm_predictions_test$data, is.numeric)], sum, na.rm = TRUE), 2)) else 0), \"34e19\")), \"72dd04320632d407e2e53309710b3ac5\"))\n",
    "stopifnot(\"values in one or more character columns in lm_predictions_test$data are not correct\"= setequal(digest(paste(toString(if (any(sapply(lm_predictions_test$data, is.character))) sum(sapply(lm_predictions_test$data[sapply(lm_predictions_test$data, is.character)], function(x) length(unique(x)))) else 0), \"34e19\")), \"cb8aa06bd1d7a4150bc39ea915c0afcc\"))\n",
    "stopifnot(\"values in one or more factor columns in lm_predictions_test$data are not correct\"= setequal(digest(paste(toString(if (any(sapply(lm_predictions_test$data, is.factor))) sum(sapply(lm_predictions_test$data[, sapply(lm_predictions_test$data, is.factor)], function(col) length(unique(col)))) else 0), \"34e19\")), \"cb8aa06bd1d7a4150bc39ea915c0afcc\"))\n",
    "\n",
    "print('Success!')"
   ]
  },
  {
   "cell_type": "markdown",
   "metadata": {
    "deletable": false,
    "editable": false,
    "nbgrader": {
     "cell_type": "markdown",
     "checksum": "d83a8c2e08816813c9fe49068b2f3d6a",
     "grade": false,
     "grade_id": "cell-3379505df4a3aef4",
     "locked": true,
     "schema_version": 3,
     "solution": false,
     "task": false
    }
   },
   "source": [
    "**Question 3.6**\n",
    "<br> {points: 1}\n",
    "\n",
    "Compare the test RMPSE of k-nn regression (`0.606` from last worksheet) to that of simple linear regression, which is greater? \n",
    "\n",
    "A. $k$-nn regression has a greater RMSPE\n",
    "\n",
    "B. Simple linear regression has a greater RMSPE\n",
    "\n",
    "C. Neither, they are identical\n",
    "\n",
    "Save the letter of the answer you think is correct to a variable named `answer3.6`. Make sure you put quotations around the letter and pay attention to case."
   ]
  },
  {
   "cell_type": "code",
   "execution_count": null,
   "metadata": {
    "deletable": false,
    "nbgrader": {
     "cell_type": "code",
     "checksum": "5ac95738cb9b73954da0c7aa71f20cac",
     "grade": false,
     "grade_id": "cell-e633b4ce6799432e",
     "locked": false,
     "schema_version": 3,
     "solution": true
    }
   },
   "outputs": [],
   "source": [
    "# your code here\n",
    "fail() # No Answer - remove if you provide an answer"
   ]
  },
  {
   "cell_type": "code",
   "execution_count": null,
   "metadata": {
    "deletable": false,
    "editable": false,
    "nbgrader": {
     "cell_type": "code",
     "checksum": "fedddf8df734c0c9f8d2cf6652489f82",
     "grade": true,
     "grade_id": "cell-c180c6230f13243c",
     "locked": true,
     "points": 1,
     "schema_version": 3,
     "solution": false
    }
   },
   "outputs": [],
   "source": [
    "library(digest)\n",
    "stopifnot(\"type of answer3.6 is not character\"= setequal(digest(paste(toString(class(answer3.6)), \"1e1fa\")), \"e087a386b27f00004a34aa18a4121dc3\"))\n",
    "stopifnot(\"length of answer3.6 is not correct\"= setequal(digest(paste(toString(length(answer3.6)), \"1e1fa\")), \"ae2d406db16c00044acce6f4fbfc8ae2\"))\n",
    "stopifnot(\"value of answer3.6 is not correct\"= setequal(digest(paste(toString(tolower(answer3.6)), \"1e1fa\")), \"68ccef2326206925966a99e426d93ac4\"))\n",
    "stopifnot(\"letters in string value of answer3.6 are correct but case is not correct\"= setequal(digest(paste(toString(answer3.6), \"1e1fa\")), \"772b8e2399aa39350c32da02b2ae606c\"))\n",
    "\n",
    "print('Success!')"
   ]
  },
  {
   "cell_type": "markdown",
   "metadata": {
    "deletable": false,
    "editable": false,
    "nbgrader": {
     "cell_type": "markdown",
     "checksum": "55a6c6c328176a349ee3ff64edb84325",
     "grade": false,
     "grade_id": "cell-34ba4508e97d7316",
     "locked": true,
     "schema_version": 3,
     "solution": false,
     "task": false
    }
   },
   "source": [
    "**Question 3.7** Multiple Choice: \n",
    "<br> {points: 1}\n",
    "\n",
    "Which model does a better job of predicting on the test dataset?\n",
    "\n",
    "A. $k$-nn regression \n",
    "\n",
    "B. Simple linear regression \n",
    "\n",
    "C. Neither, they are identical\n",
    "\n",
    "Save the letter of the answer you think is correct to a variable named `answer3.7`. Make sure you put quotations around the letter and pay attention to case."
   ]
  },
  {
   "cell_type": "code",
   "execution_count": null,
   "metadata": {
    "deletable": false,
    "nbgrader": {
     "cell_type": "code",
     "checksum": "9a51d640e578f07161efec55c23a645e",
     "grade": false,
     "grade_id": "cell-e090cdac97461555",
     "locked": false,
     "schema_version": 3,
     "solution": true
    }
   },
   "outputs": [],
   "source": [
    "# your code here\n",
    "fail() # No Answer - remove if you provide an answer"
   ]
  },
  {
   "cell_type": "code",
   "execution_count": null,
   "metadata": {
    "deletable": false,
    "editable": false,
    "nbgrader": {
     "cell_type": "code",
     "checksum": "78370634905ab1845eb2398607033420",
     "grade": true,
     "grade_id": "cell-9f902420da757d0a",
     "locked": true,
     "points": 1,
     "schema_version": 3,
     "solution": false
    }
   },
   "outputs": [],
   "source": [
    "library(digest)\n",
    "stopifnot(\"type of answer3.7 is not character\"= setequal(digest(paste(toString(class(answer3.7)), \"624f2\")), \"3d482a2579ff60cd919540409cdc4bf3\"))\n",
    "stopifnot(\"length of answer3.7 is not correct\"= setequal(digest(paste(toString(length(answer3.7)), \"624f2\")), \"a00854f1d6158b8ae184fde0094f66dc\"))\n",
    "stopifnot(\"value of answer3.7 is not correct\"= setequal(digest(paste(toString(tolower(answer3.7)), \"624f2\")), \"3bd126b31a6045a72d864108a9877fb2\"))\n",
    "stopifnot(\"letters in string value of answer3.7 are correct but case is not correct\"= setequal(digest(paste(toString(answer3.7), \"624f2\")), \"b885703406c472a36caebd8883c84dde\"))\n",
    "\n",
    "print('Success!')"
   ]
  },
  {
   "cell_type": "markdown",
   "metadata": {
    "deletable": false,
    "editable": false,
    "nbgrader": {
     "cell_type": "markdown",
     "checksum": "a648f83d076164079d8a2aa6ba3ad841",
     "grade": false,
     "grade_id": "cell-e0b42a79e704b681",
     "locked": true,
     "schema_version": 3,
     "solution": false,
     "task": false
    }
   },
   "source": [
    "Given that the linear regression model is a straight line, we can write our model as a mathematical equation. We can get the two numbers we need for this from the coefficients, `(Intercept)` and `time_hrs`. "
   ]
  },
  {
   "cell_type": "code",
   "execution_count": null,
   "metadata": {
    "deletable": false,
    "editable": false,
    "nbgrader": {
     "cell_type": "code",
     "checksum": "a9bff9106a8ff0da7ee39b23504b5bcc",
     "grade": false,
     "grade_id": "cell-950e45b9b52f7a59",
     "locked": true,
     "schema_version": 3,
     "solution": false,
     "task": false
    }
   },
   "outputs": [],
   "source": [
    "# run this cell\n",
    "lm_fit"
   ]
  },
  {
   "cell_type": "markdown",
   "metadata": {
    "deletable": false,
    "editable": false,
    "nbgrader": {
     "cell_type": "markdown",
     "checksum": "1201b3ad79a96bfb1010e4ebff2b3c8e",
     "grade": false,
     "grade_id": "cell-936d12f8333ecff6",
     "locked": true,
     "schema_version": 3,
     "solution": false,
     "task": false
    }
   },
   "source": [
    "**Question 3.8.1** Multiple Choice: \n",
    "<br> {points: 1}\n",
    "\n",
    "Which of the following mathematical equations represents the model based on the numbers output in the cell above? \n",
    "\n",
    "A. $Predicted \\ race \\ time \\ (in \\ hours) = 4.88 - 0.02  * max \\ (in \\ miles)$\n",
    "\n",
    "B. $Predicted \\ race \\ time \\ (in \\ hours) = -0.02 + 4.88 * max \\ (in \\ miles)$\n",
    "\n",
    "C. $Predicted \\ max \\ (in \\ miles) = 4.88 - 0.02 *  \\ race \\ time \\ (in \\ hours)$\n",
    " \n",
    "D. $Predicted \\ max \\ (in \\ miles) = -0.02 + 4.88 *  \\ race \\ time \\ (in \\ hours)$\n",
    "\n",
    "Save the letter of the answer you think is correct to a variable named `answer3.8.1`. Make sure you put quotations around the letter and pay attention to case."
   ]
  },
  {
   "cell_type": "code",
   "execution_count": null,
   "metadata": {
    "deletable": false,
    "nbgrader": {
     "cell_type": "code",
     "checksum": "c7048c87837b2ea657cdc7c5138cacc2",
     "grade": false,
     "grade_id": "cell-e2595c01d8d07897",
     "locked": false,
     "schema_version": 3,
     "solution": true,
     "task": false
    }
   },
   "outputs": [],
   "source": [
    "# your code here\n",
    "fail() # No Answer - remove if you provide an answer"
   ]
  },
  {
   "cell_type": "code",
   "execution_count": null,
   "metadata": {
    "deletable": false,
    "editable": false,
    "nbgrader": {
     "cell_type": "code",
     "checksum": "babee6dcecbc245d813562388fdb3453",
     "grade": true,
     "grade_id": "cell-5884a2fd9625b2e8",
     "locked": true,
     "points": 1,
     "schema_version": 3,
     "solution": false,
     "task": false
    }
   },
   "outputs": [],
   "source": [
    "library(digest)\n",
    "stopifnot(\"type of answer3.8.1 is not character\"= setequal(digest(paste(toString(class(answer3.8.1)), \"f0d48\")), \"ea9605462745f55518552cc11ef8d4e2\"))\n",
    "stopifnot(\"length of answer3.8.1 is not correct\"= setequal(digest(paste(toString(length(answer3.8.1)), \"f0d48\")), \"5f486c8d36f348ddcab47e29d7675259\"))\n",
    "stopifnot(\"value of answer3.8.1 is not correct\"= setequal(digest(paste(toString(tolower(answer3.8.1)), \"f0d48\")), \"cd6167a585ec3f62fe3b556fcaa430ac\"))\n",
    "stopifnot(\"letters in string value of answer3.8.1 are correct but case is not correct\"= setequal(digest(paste(toString(answer3.8.1), \"f0d48\")), \"80181f4235abd8a5a976dbeb9f24b4f7\"))\n",
    "\n",
    "print('Success!')"
   ]
  },
  {
   "cell_type": "code",
   "execution_count": null,
   "metadata": {
    "deletable": false,
    "editable": false,
    "nbgrader": {
     "cell_type": "code",
     "checksum": "0a3c609e5aad862abd5071ad3500be3d",
     "grade": false,
     "grade_id": "cell-79f423b84cd2fa5c",
     "locked": true,
     "schema_version": 3,
     "solution": false,
     "task": false
    }
   },
   "outputs": [],
   "source": [
    "source('cleanup.R')"
   ]
  }
 ],
 "metadata": {
  "kernelspec": {
   "display_name": "R",
   "language": "R",
   "name": "ir"
  },
  "language_info": {
   "codemirror_mode": "r",
   "file_extension": ".r",
   "mimetype": "text/x-r-source",
   "name": "R",
   "pygments_lexer": "r",
   "version": "4.3.3"
  }
 },
 "nbformat": 4,
 "nbformat_minor": 4
}
