{
 "cells": [
  {
   "cell_type": "markdown",
   "metadata": {
    "deletable": false,
    "editable": false,
    "nbgrader": {
     "cell_type": "markdown",
     "checksum": "d4829b728b7113c57a089bba81d0b9ab",
     "grade": false,
     "grade_id": "cell-6093d584be2ad9ed",
     "locked": true,
     "schema_version": 3,
     "solution": false
    }
   },
   "source": [
    "# Worksheet: Regression I: K-nearest neighbors\n",
    "\n",
    "This worksheet covers the [Regression I: K-nearest neighbors](https://datasciencebook.ca/regression1.html) chapter of the online textbook, which also lists the learning objectives for this worksheet. You should read the textbook chapter before attempting this worksheet. "
   ]
  },
  {
   "cell_type": "code",
   "execution_count": null,
   "metadata": {
    "deletable": false,
    "editable": false,
    "nbgrader": {
     "cell_type": "code",
     "checksum": "68e6cf3045316eb49bd79a27a9b60f9c",
     "grade": false,
     "grade_id": "cell-53085d5554f9dcc8",
     "locked": true,
     "schema_version": 3,
     "solution": false,
     "task": false
    }
   },
   "outputs": [],
   "source": [
    "### Run this cell before continuing.\n",
    "library(tidyverse)\n",
    "library(repr)\n",
    "library(tidymodels)\n",
    "options(repr.matrix.max.rows = 6)\n",
    "source('cleanup.R')"
   ]
  },
  {
   "cell_type": "markdown",
   "metadata": {
    "deletable": false,
    "editable": false,
    "nbgrader": {
     "cell_type": "markdown",
     "checksum": "004a90536551b93c7af8a8b5d3e92957",
     "grade": false,
     "grade_id": "cell-8e40e06455324a19",
     "locked": true,
     "schema_version": 3,
     "solution": false
    }
   },
   "source": [
    "**Question 0.0** Multiple Choice: \n",
    "<br> {points: 1}\n",
    "\n",
    "To predict a value of $Y$ for a new observation using $k$-nn **regression**, we identify the $k$-nearest neighbours and then:\n",
    "\n",
    "A. Assign it the median of the $k$-nearest neighbours as the predicted value\n",
    "\n",
    "B. Assign it the mean of the $k$-nearest neighbours as the predicted value\n",
    "\n",
    "C. Assign it the mode of the $k$-nearest neighbours as the predicted value\n",
    "\n",
    "D. Assign it the majority vote of the $k$-nearest neighbours as the predicted value\n",
    "\n",
    "*Save the letter of the answer you think is correct to a variable named `answer0.0`. Make sure your answer is an uppercase letter and is surrounded by quotation marks (e.g. `\"F\"`).*"
   ]
  },
  {
   "cell_type": "code",
   "execution_count": null,
   "metadata": {
    "deletable": false,
    "nbgrader": {
     "cell_type": "code",
     "checksum": "b2a94d99e15ed916391daed3643fe923",
     "grade": false,
     "grade_id": "cell-108236d99368cc44",
     "locked": false,
     "schema_version": 3,
     "solution": true
    }
   },
   "outputs": [],
   "source": [
    "# your code here\n",
    "fail() # No Answer - remove if you provide an answer\n",
    "answer0.0"
   ]
  },
  {
   "cell_type": "code",
   "execution_count": null,
   "metadata": {
    "deletable": false,
    "editable": false,
    "nbgrader": {
     "cell_type": "code",
     "checksum": "b73094b84d34433c99720e08ae57ca22",
     "grade": true,
     "grade_id": "cell-7d5938e33a38edeb",
     "locked": true,
     "points": 1,
     "schema_version": 3,
     "solution": false
    }
   },
   "outputs": [],
   "source": [
    "library(digest)\n",
    "stopifnot(\"type of answer0.0 is not character\"= setequal(digest(paste(toString(class(answer0.0)), \"687d1\")), \"b0606851f8ab1403affe70dae88277a1\"))\n",
    "stopifnot(\"length of answer0.0 is not correct\"= setequal(digest(paste(toString(length(answer0.0)), \"687d1\")), \"8be1aa3b66de219b03427ea3a762d5f1\"))\n",
    "stopifnot(\"value of answer0.0 is not correct\"= setequal(digest(paste(toString(tolower(answer0.0)), \"687d1\")), \"29c90bbc32809ae085b6d948b602ab03\"))\n",
    "stopifnot(\"letters in string value of answer0.0 are correct but case is not correct\"= setequal(digest(paste(toString(answer0.0), \"687d1\")), \"7ef26a441a8f13b24e927d8758ee9942\"))\n",
    "\n",
    "print('Success!')"
   ]
  },
  {
   "cell_type": "markdown",
   "metadata": {
    "deletable": false,
    "editable": false,
    "nbgrader": {
     "cell_type": "markdown",
     "checksum": "95e3437a546e5c50fc1f72c94db602de",
     "grade": false,
     "grade_id": "cell-73d7913554df0781",
     "locked": true,
     "schema_version": 3,
     "solution": false,
     "task": false
    }
   },
   "source": [
    "### RMSPE Definition\n",
    "\n",
    "**Question 0.1** Multiple Choice: \n",
    "<br> {points: 1}\n",
    "\n",
    "What does RMSPE stand for?\n",
    "\n",
    "\n",
    "A. root mean squared prediction error\n",
    "\n",
    "B. root mean squared percentage error \n",
    "\n",
    "C. root mean squared performance error \n",
    "\n",
    "D. root mean squared preference error \n",
    "\n",
    "*Save the letter of the answer you think is correct to a variable named `answer0.1`. Make sure you put quotations around the letter and pay attention to case.*"
   ]
  },
  {
   "cell_type": "code",
   "execution_count": null,
   "metadata": {
    "deletable": false,
    "nbgrader": {
     "cell_type": "code",
     "checksum": "f164912efe33cd5ed2060a318346e2a6",
     "grade": false,
     "grade_id": "cell-81be027da315cb3f",
     "locked": false,
     "schema_version": 3,
     "solution": true,
     "task": false
    }
   },
   "outputs": [],
   "source": [
    "# your code here\n",
    "fail() # No Answer - remove if you provide an answer\n",
    "answer0.1"
   ]
  },
  {
   "cell_type": "code",
   "execution_count": null,
   "metadata": {
    "deletable": false,
    "editable": false,
    "nbgrader": {
     "cell_type": "code",
     "checksum": "b06b6e1dee0dd6c9df975345e10496e8",
     "grade": true,
     "grade_id": "cell-db93265fd197f97f",
     "locked": true,
     "points": 1,
     "schema_version": 3,
     "solution": false,
     "task": false
    }
   },
   "outputs": [],
   "source": [
    "library(digest)\n",
    "stopifnot(\"type of answer0.1 is not character\"= setequal(digest(paste(toString(class(answer0.1)), \"8c44c\")), \"2afe90074fad3ec3878a60a49c4f380e\"))\n",
    "stopifnot(\"length of answer0.1 is not correct\"= setequal(digest(paste(toString(length(answer0.1)), \"8c44c\")), \"5ef1b720a52eb9027ba23705d33bbf41\"))\n",
    "stopifnot(\"value of answer0.1 is not correct\"= setequal(digest(paste(toString(tolower(answer0.1)), \"8c44c\")), \"85f9cc5e75fbe01d797bb60a41779cbd\"))\n",
    "stopifnot(\"letters in string value of answer0.1 are correct but case is not correct\"= setequal(digest(paste(toString(answer0.1), \"8c44c\")), \"ab7de5459f5be145c6006d1c73ee311e\"))\n",
    "\n",
    "print('Success!')"
   ]
  },
  {
   "cell_type": "markdown",
   "metadata": {
    "deletable": false,
    "editable": false,
    "nbgrader": {
     "cell_type": "markdown",
     "checksum": "a5e9f226b02857ae7e1850945c63fd68",
     "grade": false,
     "grade_id": "cell-b0f4fa2237ef0429",
     "locked": true,
     "schema_version": 3,
     "solution": false,
     "task": false
    }
   },
   "source": [
    "**Question 0.2** Multiple Choice: \n",
    "<br> {points: 1}\n",
    "\n",
    "Of those shown below, which is the correct formula for RMSPE?\n",
    "\n",
    "\n",
    "A. $RMSPE = \\sqrt{\\frac{\\frac{1}{n}\\sum\\limits_{i=1}^{n}(y_i - \\hat{y_i})^2}{1 - n}}$\n",
    "\n",
    "B. $RMSPE = \\sqrt{\\frac{1}{n - 1}\\sum\\limits_{i=1}^{n}(y_i - \\hat{y_i})^2}$\n",
    "\n",
    "C. $RMSPE = \\sqrt{\\frac{1}{n}\\sum\\limits_{i=1}^{n}(y_i - \\hat{y_i})^2}$\n",
    "\n",
    "D. $RMSPE = \\sqrt{\\frac{1}{n}\\sum\\limits_{i=1}^{n}(y_i - \\hat{y_i})}$ \n",
    "\n",
    "*Save the letter of the answer you think is correct to a variable named `answer0.2`. Make sure you put quotations around the letter and pay attention to case.*"
   ]
  },
  {
   "cell_type": "code",
   "execution_count": null,
   "metadata": {
    "deletable": false,
    "nbgrader": {
     "cell_type": "code",
     "checksum": "0517b55812bcad016fd4e921018fc075",
     "grade": false,
     "grade_id": "cell-93c565d6974de38f",
     "locked": false,
     "schema_version": 3,
     "solution": true,
     "task": false
    }
   },
   "outputs": [],
   "source": [
    "# your code here\n",
    "fail() # No Answer - remove if you provide an answer\n",
    "answer0.2"
   ]
  },
  {
   "cell_type": "code",
   "execution_count": null,
   "metadata": {
    "deletable": false,
    "editable": false,
    "nbgrader": {
     "cell_type": "code",
     "checksum": "c27234f45a3a9cccef78e692f8cafe3d",
     "grade": true,
     "grade_id": "cell-b1e66491132c1e30",
     "locked": true,
     "points": 1,
     "schema_version": 3,
     "solution": false,
     "task": false
    }
   },
   "outputs": [],
   "source": [
    "library(digest)\n",
    "stopifnot(\"type of answer0.2 is not character\"= setequal(digest(paste(toString(class(answer0.2)), \"9bea8\")), \"3fdc4aab2072a9cfa24a7f38521b6a97\"))\n",
    "stopifnot(\"length of answer0.2 is not correct\"= setequal(digest(paste(toString(length(answer0.2)), \"9bea8\")), \"c13695fa7859703bd79c245a30e9062b\"))\n",
    "stopifnot(\"value of answer0.2 is not correct\"= setequal(digest(paste(toString(tolower(answer0.2)), \"9bea8\")), \"0404480a667292e5fc0a7fa025a8ec1b\"))\n",
    "stopifnot(\"letters in string value of answer0.2 are correct but case is not correct\"= setequal(digest(paste(toString(answer0.2), \"9bea8\")), \"53ddfcba7833c00fc9fcc981a95a8ee2\"))\n",
    "\n",
    "print('Success!')"
   ]
  },
  {
   "cell_type": "markdown",
   "metadata": {
    "deletable": false,
    "editable": false,
    "nbgrader": {
     "cell_type": "markdown",
     "checksum": "654988da1cfd73473caa7dccd2e3bbc3",
     "grade": false,
     "grade_id": "cell-ded5f8fa4e621b81",
     "locked": true,
     "schema_version": 3,
     "solution": false
    }
   },
   "source": [
    "**Question 0.3**\n",
    "<br> {points: 1}\n",
    "\n",
    "The plot below is a very simple k-nn regression example, where the black dots are the data observations and the blue line is the predictions from a $k$-nn regression model created from this data where $k=2$.\n",
    "\n",
    "Using the formula for RMSE (given in the reading), and the graph below, by hand (pen and paper or use R as a calculator) calculate RMSE for this model. Use **one decimal place of precision** when inputting the heights of the black dots and blue line. Save your answer to a variable named `answer0.3` \n",
    "\n",
    "Notes:\n",
    "  - RMSE (Root Mean Squared Error) evaluates model performance on **training data**.  \n",
    "  - RMSPE (Root Mean Squared Prediction Error) measures performance on **testing or validation data**\n",
    "  - The predicted value when x = 1 is 1.3 (it's a bit hard to tell from the figure!) \n",
    "\n",
    "<img align=\"left\" src=\"img/k-nn_RMSE.jpeg\" />"
   ]
  },
  {
   "cell_type": "code",
   "execution_count": null,
   "metadata": {
    "deletable": false,
    "nbgrader": {
     "cell_type": "code",
     "checksum": "7fbf2d7959474537e5e864b1349839b1",
     "grade": false,
     "grade_id": "cell-8dc7cc6f35de80cb",
     "locked": false,
     "schema_version": 3,
     "solution": true
    }
   },
   "outputs": [],
   "source": [
    "# your code here\n",
    "fail() # No Answer - remove if you provide an answer\n",
    "answer0.3"
   ]
  },
  {
   "cell_type": "code",
   "execution_count": null,
   "metadata": {
    "deletable": false,
    "editable": false,
    "nbgrader": {
     "cell_type": "code",
     "checksum": "d7d52ee25b3e5201424ee91dfee3295f",
     "grade": true,
     "grade_id": "cell-d90b3e7b890ce86b",
     "locked": true,
     "points": 1,
     "schema_version": 3,
     "solution": false
    }
   },
   "outputs": [],
   "source": [
    "library(digest)\n",
    "stopifnot(\"type of round(answer0.3, 2) is not numeric\"= setequal(digest(paste(toString(class(round(answer0.3, 2))), \"2645c\")), \"890f753574357a14c6dc46b6fde1d4a1\"))\n",
    "stopifnot(\"value of round(answer0.3, 2) is not correct (rounded to 2 decimal places)\"= setequal(digest(paste(toString(round(round(answer0.3, 2), 2)), \"2645c\")), \"584909b564382325b5e2e51f497a8f06\"))\n",
    "stopifnot(\"length of round(answer0.3, 2) is not correct\"= setequal(digest(paste(toString(length(round(answer0.3, 2))), \"2645c\")), \"654f47c4e06ab41e08e86365cf3674de\"))\n",
    "stopifnot(\"values of round(answer0.3, 2) are not correct\"= setequal(digest(paste(toString(sort(round(round(answer0.3, 2), 2))), \"2645c\")), \"584909b564382325b5e2e51f497a8f06\"))\n",
    "\n",
    "print('Success!')"
   ]
  },
  {
   "cell_type": "markdown",
   "metadata": {
    "deletable": false,
    "editable": false,
    "nbgrader": {
     "cell_type": "markdown",
     "checksum": "c94e4bc2ed7206d48d7655fae0781008",
     "grade": false,
     "grade_id": "cell-e612110169987c7b",
     "locked": true,
     "schema_version": 3,
     "solution": false,
     "task": false
    }
   },
   "source": [
    "## Marathon Training\n",
    "\n",
    "<img src='https://media.giphy.com/media/nUN6InE2CodRm/giphy.gif' width='400'>\n",
    "\n",
    "Source: https://media.giphy.com/media/nUN6InE2CodRm/giphy.gif\n",
    "\n",
    "What predicts which athletes will perform better than others? Specifically, we are interested in marathon runners, and looking at how the maximum distance ran per week (in miles) during race training predicts the time it takes a runner to finish the race? For this, we will be looking at the `marathon.csv` file in the `data/` folder."
   ]
  },
  {
   "cell_type": "markdown",
   "metadata": {
    "deletable": false,
    "editable": false,
    "nbgrader": {
     "cell_type": "markdown",
     "checksum": "9ea30c1434a67e3876226cd543d43d4c",
     "grade": false,
     "grade_id": "cell-16d7d432c49c9e53",
     "locked": true,
     "schema_version": 3,
     "solution": false
    }
   },
   "source": [
    "**Question 1.0** \n",
    "<br> {points: 1}\n",
    "\n",
    "Load the data and assign it to an object called `marathon`. "
   ]
  },
  {
   "cell_type": "code",
   "execution_count": null,
   "metadata": {
    "deletable": false,
    "nbgrader": {
     "cell_type": "code",
     "checksum": "e808fb877b552ca26971fdb18432c347",
     "grade": false,
     "grade_id": "cell-5376dc2c39983258",
     "locked": false,
     "schema_version": 3,
     "solution": true
    }
   },
   "outputs": [],
   "source": [
    "# your code here\n",
    "fail() # No Answer - remove if you provide an answer\n",
    "marathon"
   ]
  },
  {
   "cell_type": "code",
   "execution_count": null,
   "metadata": {
    "deletable": false,
    "editable": false,
    "nbgrader": {
     "cell_type": "code",
     "checksum": "f158322eb711309083b0018fbff50ea4",
     "grade": true,
     "grade_id": "cell-60554f6f6a56a16c",
     "locked": true,
     "points": 1,
     "schema_version": 3,
     "solution": false
    }
   },
   "outputs": [],
   "source": [
    "library(digest)\n",
    "stopifnot(\"marathon should be a data frame\"= setequal(digest(paste(toString('data.frame' %in% class(marathon)), \"5ad7f\")), \"5dc9c7456ffe76eefefacaf68de81da5\"))\n",
    "stopifnot(\"dimensions of marathon are not correct\"= setequal(digest(paste(toString(dim(marathon)), \"5ad7f\")), \"6d38bc2129d410a7271441253593089b\"))\n",
    "stopifnot(\"column names of marathon are not correct\"= setequal(digest(paste(toString(sort(colnames(marathon))), \"5ad7f\")), \"caee9f419eb341232e7caf99aae02dbb\"))\n",
    "stopifnot(\"types of columns in marathon are not correct\"= setequal(digest(paste(toString(sort(unlist(sapply(marathon, class)))), \"5ad7f\")), \"7f418de7bf624da22d05cf8350c89fb9\"))\n",
    "stopifnot(\"values in one or more numerical columns in marathon are not correct\"= setequal(digest(paste(toString(if (any(sapply(marathon, is.numeric))) sort(round(sapply(marathon[, sapply(marathon, is.numeric)], sum, na.rm = TRUE), 2)) else 0), \"5ad7f\")), \"7bde6e3e524402788cd80a3dbcaefc36\"))\n",
    "stopifnot(\"values in one or more character columns in marathon are not correct\"= setequal(digest(paste(toString(if (any(sapply(marathon, is.character))) sum(sapply(marathon[sapply(marathon, is.character)], function(x) length(unique(x)))) else 0), \"5ad7f\")), \"11e84deb8b0074672fa0750b8d32c822\"))\n",
    "stopifnot(\"values in one or more factor columns in marathon are not correct\"= setequal(digest(paste(toString(if (any(sapply(marathon, is.factor))) sum(sapply(marathon[, sapply(marathon, is.factor)], function(col) length(unique(col)))) else 0), \"5ad7f\")), \"11e84deb8b0074672fa0750b8d32c822\"))\n",
    "\n",
    "print('Success!')"
   ]
  },
  {
   "cell_type": "markdown",
   "metadata": {
    "deletable": false,
    "editable": false,
    "nbgrader": {
     "cell_type": "markdown",
     "checksum": "19151cf672ee9d30f6c913c2c409d37d",
     "grade": false,
     "grade_id": "cell-26802c14f46a4d8e",
     "locked": true,
     "schema_version": 3,
     "solution": false
    }
   },
   "source": [
    "**Question 2.0**\n",
    "<br> {points: 1}\n",
    "\n",
    "We want to predict race time (in hours) (`time_hrs`) given a particular value of maximum distance ran per week (in miles) during race training (`max`). Let's take a subset of size 50 individuals of our marathon data and assign it to an object called `marathon_50`. With this subset, plot a scatterplot to assess the relationship between these two variables. Put `time_hrs` on the y-axis and `max` on the x-axis. **Assign this plot to an object called `answer2`.** Discuss, with a classmate, the relationship between race time and maximum distance ran per week during training based on the scatterplot you create below. \n",
    "\n",
    "*Hint: To take a subset of your data you can use the `slice_sample()` function*"
   ]
  },
  {
   "cell_type": "code",
   "execution_count": null,
   "metadata": {
    "deletable": false,
    "nbgrader": {
     "cell_type": "code",
     "checksum": "fae00bce988bfcb06ccbe4b969adc789",
     "grade": false,
     "grade_id": "cell-6fcfc6ca32883f4d",
     "locked": false,
     "schema_version": 3,
     "solution": true
    }
   },
   "outputs": [],
   "source": [
    "options(repr.plot.width = 8, repr.plot.height = 7)\n",
    "\n",
    "set.seed(2000) ### DO NOT CHANGE\n",
    "\n",
    "#... <- ... |>\n",
    "#    slice_sample(n = ...)\n",
    "\n",
    "# your code here\n",
    "fail() # No Answer - remove if you provide an answer\n",
    "answer2"
   ]
  },
  {
   "cell_type": "code",
   "execution_count": null,
   "metadata": {
    "deletable": false,
    "editable": false,
    "nbgrader": {
     "cell_type": "code",
     "checksum": "56be3f23b8abedaf034cf4bde6251ad2",
     "grade": true,
     "grade_id": "cell-78ac50fb41cd9a86",
     "locked": true,
     "points": 1,
     "schema_version": 3,
     "solution": false
    }
   },
   "outputs": [],
   "source": [
    "library(digest)\n",
    "stopifnot(\"marathon_50 should be a data frame\"= setequal(digest(paste(toString('data.frame' %in% class(marathon_50)), \"9e3b0\")), \"f648a715ec3a68a64053d2106e756ee9\"))\n",
    "stopifnot(\"dimensions of marathon_50 are not correct\"= setequal(digest(paste(toString(dim(marathon_50)), \"9e3b0\")), \"d5867fbcf32b27e63a31d963e2778026\"))\n",
    "stopifnot(\"column names of marathon_50 are not correct\"= setequal(digest(paste(toString(sort(colnames(marathon_50))), \"9e3b0\")), \"8cbb07f1cf13637e1d3f1c8128fe5261\"))\n",
    "stopifnot(\"types of columns in marathon_50 are not correct\"= setequal(digest(paste(toString(sort(unlist(sapply(marathon_50, class)))), \"9e3b0\")), \"8805ddc99e3eba80b2db048da1b00656\"))\n",
    "stopifnot(\"values in one or more numerical columns in marathon_50 are not correct\"= setequal(digest(paste(toString(if (any(sapply(marathon_50, is.numeric))) sort(round(sapply(marathon_50[, sapply(marathon_50, is.numeric)], sum, na.rm = TRUE), 2)) else 0), \"9e3b0\")), \"8643938e5e8f4fd61198304546a1dcc6\"))\n",
    "stopifnot(\"values in one or more character columns in marathon_50 are not correct\"= setequal(digest(paste(toString(if (any(sapply(marathon_50, is.character))) sum(sapply(marathon_50[sapply(marathon_50, is.character)], function(x) length(unique(x)))) else 0), \"9e3b0\")), \"50aa503f2ae3e0cb19f0e21034a1e821\"))\n",
    "stopifnot(\"values in one or more factor columns in marathon_50 are not correct\"= setequal(digest(paste(toString(if (any(sapply(marathon_50, is.factor))) sum(sapply(marathon_50[, sapply(marathon_50, is.factor)], function(col) length(unique(col)))) else 0), \"9e3b0\")), \"50aa503f2ae3e0cb19f0e21034a1e821\"))\n",
    "\n",
    "stopifnot(\"type of plot is not correct (if you are using two types of geoms, try flipping the order of the geom objects!)\"= setequal(digest(paste(toString(sapply(seq_len(length(answer2$layers)), function(i) {c(class(answer2$layers[[i]]$geom))[1]})), \"9e3b1\")), \"fe9a3330961d28c5ecdb6766ba3592d8\"))\n",
    "stopifnot(\"variable x is not correct\"= setequal(digest(paste(toString(unlist(lapply(sapply(seq_len(length(answer2$layers)), function(i) {rlang::get_expr(c(answer2$layers[[i]]$mapping, answer2$mapping)$x)}), as.character))), \"9e3b1\")), \"697608c06e95946e39213ecc7ba8022b\"))\n",
    "stopifnot(\"variable y is not correct\"= setequal(digest(paste(toString(unlist(lapply(sapply(seq_len(length(answer2$layers)), function(i) {rlang::get_expr(c(answer2$layers[[i]]$mapping, answer2$mapping)$y)}), as.character))), \"9e3b1\")), \"39a0150a1a3ee6b63305919920a11d21\"))\n",
    "stopifnot(\"x-axis label is not descriptive, nicely formatted, or human readable\"= setequal(digest(paste(toString(rlang::get_expr(c(answer2$layers[[1]]$mapping, answer2$mapping)$x)!= answer2$labels$x), \"9e3b1\")), \"882d81a5500cdab7c2502ead198340c1\"))\n",
    "stopifnot(\"y-axis label is not descriptive, nicely formatted, or human readable\"= setequal(digest(paste(toString(rlang::get_expr(c(answer2$layers[[1]]$mapping, answer2$mapping)$y)!= answer2$labels$y), \"9e3b1\")), \"882d81a5500cdab7c2502ead198340c1\"))\n",
    "stopifnot(\"incorrect colour variable in answer2, specify a correct one if required\"= setequal(digest(paste(toString(rlang::get_expr(c(answer2$layers[[1]]$mapping, answer2$mapping)$colour)), \"9e3b1\")), \"5094e6199ef0447e1850cc341c9594ea\"))\n",
    "stopifnot(\"incorrect shape variable in answer2, specify a correct one if required\"= setequal(digest(paste(toString(rlang::get_expr(c(answer2$layers[[1]]$mapping, answer2$mapping)$shape)), \"9e3b1\")), \"5094e6199ef0447e1850cc341c9594ea\"))\n",
    "stopifnot(\"the colour label in answer2 is not descriptive, nicely formatted, or human readable\"= setequal(digest(paste(toString(rlang::get_expr(c(answer2$layers[[1]]$mapping, answer2$mapping)$colour) != answer2$labels$colour), \"9e3b1\")), \"5094e6199ef0447e1850cc341c9594ea\"))\n",
    "stopifnot(\"the shape label in answer2 is not descriptive, nicely formatted, or human readable\"= setequal(digest(paste(toString(rlang::get_expr(c(answer2$layers[[1]]$mapping, answer2$mapping)$colour) != answer2$labels$shape), \"9e3b1\")), \"5094e6199ef0447e1850cc341c9594ea\"))\n",
    "stopifnot(\"fill variable in answer2 is not correct\"= setequal(digest(paste(toString(quo_name(answer2$mapping$fill)), \"9e3b1\")), \"2697b9782ee1dcc08fd59f501a0d2b1b\"))\n",
    "stopifnot(\"fill label in answer2 is not informative\"= setequal(digest(paste(toString((quo_name(answer2$mapping$fill) != answer2$labels$fill)), \"9e3b1\")), \"5094e6199ef0447e1850cc341c9594ea\"))\n",
    "stopifnot(\"position argument in answer2 is not correct\"= setequal(digest(paste(toString(class(answer2$layers[[1]]$position)[1]), \"9e3b1\")), \"62aeaa372676e7b727922d989fbb01ef\"))\n",
    "\n",
    "stopifnot(\"answer2$data should be a data frame\"= setequal(digest(paste(toString('data.frame' %in% class(answer2$data)), \"9e3b2\")), \"d56807b5efb6d39a647f5f9f5d214e64\"))\n",
    "stopifnot(\"dimensions of answer2$data are not correct\"= setequal(digest(paste(toString(dim(answer2$data)), \"9e3b2\")), \"9c0858ff2b06e5cd35f0cd2479aed7b8\"))\n",
    "stopifnot(\"column names of answer2$data are not correct\"= setequal(digest(paste(toString(sort(colnames(answer2$data))), \"9e3b2\")), \"dd976f74510f1315e62f5f989f301774\"))\n",
    "stopifnot(\"types of columns in answer2$data are not correct\"= setequal(digest(paste(toString(sort(unlist(sapply(answer2$data, class)))), \"9e3b2\")), \"ade7b8d4b09aaa303ad5f3f0221afa86\"))\n",
    "stopifnot(\"values in one or more numerical columns in answer2$data are not correct\"= setequal(digest(paste(toString(if (any(sapply(answer2$data, is.numeric))) sort(round(sapply(answer2$data[, sapply(answer2$data, is.numeric)], sum, na.rm = TRUE), 2)) else 0), \"9e3b2\")), \"60f21159c4706fd7d4b459d51a844e99\"))\n",
    "stopifnot(\"values in one or more character columns in answer2$data are not correct\"= setequal(digest(paste(toString(if (any(sapply(answer2$data, is.character))) sum(sapply(answer2$data[sapply(answer2$data, is.character)], function(x) length(unique(x)))) else 0), \"9e3b2\")), \"7850fd9f1acc1d6d1335ab1e14118c5b\"))\n",
    "stopifnot(\"values in one or more factor columns in answer2$data are not correct\"= setequal(digest(paste(toString(if (any(sapply(answer2$data, is.factor))) sum(sapply(answer2$data[, sapply(answer2$data, is.factor)], function(col) length(unique(col)))) else 0), \"9e3b2\")), \"7850fd9f1acc1d6d1335ab1e14118c5b\"))\n",
    "\n",
    "print('Success!')"
   ]
  },
  {
   "cell_type": "markdown",
   "metadata": {
    "deletable": false,
    "editable": false,
    "nbgrader": {
     "cell_type": "markdown",
     "checksum": "34f89317595dbfcb55227675d68dc3a2",
     "grade": false,
     "grade_id": "cell-cbe9f9a5c4b7c264",
     "locked": true,
     "schema_version": 3,
     "solution": false
    }
   },
   "source": [
    "**Question 3.0**\n",
    "<br> {points: 1}\n",
    "\n",
    "Suppose we want to predict the race time for someone who ran a maximum distance of 100 miles per week during training. In the plot below we can see that no one has run a maximum distance of 100 miles per week. But, if we are interested in prediction, how can we predict with this data? We can use $k$-nn regression! To do this we get the $Y$ values (target/response variable) of the nearest $k$ values and then take their average and use that as the prediction. \n",
    "\n",
    "For this question predict the race time based on the 4 closest neighbors to the 100 miles per week during training.\n",
    "\n",
    "*Fill in the scaffolding below and assign your answer to an object named `answer3`.*"
   ]
  },
  {
   "cell_type": "code",
   "execution_count": null,
   "metadata": {
    "deletable": false,
    "editable": false,
    "nbgrader": {
     "cell_type": "code",
     "checksum": "75efaaf8fe04ae9b8a48d555d95b030b",
     "grade": false,
     "grade_id": "cell-51d4b16bee915d31",
     "locked": true,
     "schema_version": 3,
     "solution": false,
     "task": false
    }
   },
   "outputs": [],
   "source": [
    "# run this cell to see a visualization of the 4 nearest neighbours\n",
    "options(repr.plot.height = 6, repr.plot.width = 7)\n",
    "marathon_50 |>\n",
    "    ggplot(aes(x = max, y = time_hrs)) + \n",
    "        geom_point(color = 'dodgerblue', alpha = 0.4) +\n",
    "        geom_vline(xintercept = 100, linetype = \"dotted\") +\n",
    "        xlab(\"Maximum Distance Ran per \\n Week During Training (mi)\") +\n",
    "        ylab(\"Race Time (hours)\") + \n",
    "        geom_segment(aes(x = 100, y = 2.56, xend = 107, yend = 2.56), col = \"orange\") +\n",
    "        geom_segment(aes(x = 100, y = 2.65, xend = 90, yend = 2.65), col = \"orange\") +\n",
    "        geom_segment(aes(x = 100, y = 2.99, xend = 86, yend = 2.99), col = \"orange\") +\n",
    "        geom_segment(aes(x = 100, y = 3.05, xend = 82, yend = 3.05), col = \"orange\") +\n",
    "        theme(text = element_text(size = 20))"
   ]
  },
  {
   "cell_type": "code",
   "execution_count": null,
   "metadata": {
    "deletable": false,
    "nbgrader": {
     "cell_type": "code",
     "checksum": "4babff4645a19226f94b42c479b7645c",
     "grade": false,
     "grade_id": "cell-a8d1b15c312d9c3d",
     "locked": false,
     "schema_version": 3,
     "solution": true
    }
   },
   "outputs": [],
   "source": [
    "#... <- ... |> \n",
    "#  mutate(diff = abs(100 - ...)) |> \n",
    "#  ...(diff, ...) |> \n",
    "#  summarise(predicted = ...(...)) |>\n",
    "#  pull()\n",
    "\n",
    "# your code here\n",
    "fail() # No Answer - remove if you provide an answer\n",
    "answer3"
   ]
  },
  {
   "cell_type": "code",
   "execution_count": null,
   "metadata": {
    "deletable": false,
    "editable": false,
    "nbgrader": {
     "cell_type": "code",
     "checksum": "40efca56d6817e8226aadabbff223a30",
     "grade": true,
     "grade_id": "cell-af7afd4794001c7b",
     "locked": true,
     "points": 1,
     "schema_version": 3,
     "solution": false
    }
   },
   "outputs": [],
   "source": [
    "library(digest)\n",
    "stopifnot(\"type of round(answer3, 2) is not numeric\"= setequal(digest(paste(toString(class(round(answer3, 2))), \"6a21c\")), \"c9d2cea1a4dac1d859d0730c044d41eb\"))\n",
    "stopifnot(\"value of round(answer3, 2) is not correct (rounded to 2 decimal places)\"= setequal(digest(paste(toString(round(round(answer3, 2), 2)), \"6a21c\")), \"08e6448336d1a3eee509e49a52478ab3\"))\n",
    "stopifnot(\"length of round(answer3, 2) is not correct\"= setequal(digest(paste(toString(length(round(answer3, 2))), \"6a21c\")), \"f1a7515d3d2d2fa10482af081e950276\"))\n",
    "stopifnot(\"values of round(answer3, 2) are not correct\"= setequal(digest(paste(toString(sort(round(round(answer3, 2), 2))), \"6a21c\")), \"08e6448336d1a3eee509e49a52478ab3\"))\n",
    "\n",
    "print('Success!')"
   ]
  },
  {
   "cell_type": "markdown",
   "metadata": {
    "deletable": false,
    "editable": false,
    "nbgrader": {
     "cell_type": "markdown",
     "checksum": "b1f9aa206f133969fcff7bf2009bbd0e",
     "grade": false,
     "grade_id": "cell-0c2107e7f52efb3d",
     "locked": true,
     "schema_version": 3,
     "solution": false,
     "task": false
    }
   },
   "source": [
    "**Question 4.0**\n",
    "<br> {points: 1}\n",
    "\n",
    "For this question, let's instead predict the race time based on the 2 closest neighbors to the 100 miles per week during training.\n",
    "\n",
    "*Assign your answer to an object named `answer4`.*"
   ]
  },
  {
   "cell_type": "code",
   "execution_count": null,
   "metadata": {
    "deletable": false,
    "nbgrader": {
     "cell_type": "code",
     "checksum": "3371f7bb2081a1f1eb48c702eebd05b6",
     "grade": false,
     "grade_id": "cell-44994bbd299ff0d0",
     "locked": false,
     "schema_version": 3,
     "solution": true
    }
   },
   "outputs": [],
   "source": [
    "# your code here\n",
    "fail() # No Answer - remove if you provide an answer\n",
    "answer4"
   ]
  },
  {
   "cell_type": "code",
   "execution_count": null,
   "metadata": {
    "deletable": false,
    "editable": false,
    "nbgrader": {
     "cell_type": "code",
     "checksum": "cf11ee56927a5f67cce41fab07df1be4",
     "grade": true,
     "grade_id": "cell-690e322810064165",
     "locked": true,
     "points": 1,
     "schema_version": 3,
     "solution": false
    }
   },
   "outputs": [],
   "source": [
    "library(digest)\n",
    "stopifnot(\"type of round(answer4, 2) is not numeric\"= setequal(digest(paste(toString(class(round(answer4, 2))), \"9a73b\")), \"a47e4de9e1b3b13d1772b79fd8689fa1\"))\n",
    "stopifnot(\"value of round(answer4, 2) is not correct (rounded to 2 decimal places)\"= setequal(digest(paste(toString(round(round(answer4, 2), 2)), \"9a73b\")), \"26bd1aeeaa56c6025f423f5b2763517d\"))\n",
    "stopifnot(\"length of round(answer4, 2) is not correct\"= setequal(digest(paste(toString(length(round(answer4, 2))), \"9a73b\")), \"f3f027e877cfe92c5d8d7ec45f5ba816\"))\n",
    "stopifnot(\"values of round(answer4, 2) are not correct\"= setequal(digest(paste(toString(sort(round(round(answer4, 2), 2))), \"9a73b\")), \"26bd1aeeaa56c6025f423f5b2763517d\"))\n",
    "\n",
    "print('Success!')"
   ]
  },
  {
   "cell_type": "markdown",
   "metadata": {
    "deletable": false,
    "editable": false,
    "nbgrader": {
     "cell_type": "markdown",
     "checksum": "a7b5791bb4f841adb405ff5f20f2fc83",
     "grade": false,
     "grade_id": "cell-3311ba44befa3767",
     "locked": true,
     "schema_version": 3,
     "solution": false
    }
   },
   "source": [
    "**Question 5.0** Multiple Choice:\n",
    "<br> {points: 1}\n",
    "\n",
    "So far you have calculated the $k$ nearest neighbors predictions manually based on $k$'s we have told you to use. However, last week we learned how to use a better method to choose the best $k$ for classification. \n",
    "\n",
    "Based on what you learned last week and what you have learned about $k$-nn regression so far this week, which method would you use to choose the $k$ (in the situation where we don't tell you which $k$ to use)?\n",
    "\n",
    "- A) Choose the $k$ that excludes most outliers\n",
    "- B) Choose the $k$ with the lowest training error\n",
    "- C) Choose the $k$ with the lowest cross-validation error\n",
    "- D) Choose the $k$ that includes the most data points\n",
    "- E) Choose the $k$ with the lowest testing error\n",
    "\n",
    "*Assign your answer to an object called `answer5`.  Make sure your answer is an uppercase letter and is surrounded by quotation marks (e.g. `\"F\"`).*"
   ]
  },
  {
   "cell_type": "code",
   "execution_count": null,
   "metadata": {
    "deletable": false,
    "nbgrader": {
     "cell_type": "code",
     "checksum": "fe8b9cbbbd4aa881d0e9ab40c0a0b96e",
     "grade": false,
     "grade_id": "cell-01b498d6b1415bf5",
     "locked": false,
     "schema_version": 3,
     "solution": true
    }
   },
   "outputs": [],
   "source": [
    "# your code here\n",
    "fail() # No Answer - remove if you provide an answer\n",
    "answer5"
   ]
  },
  {
   "cell_type": "code",
   "execution_count": null,
   "metadata": {
    "deletable": false,
    "editable": false,
    "nbgrader": {
     "cell_type": "code",
     "checksum": "58622171f4b7eebca91c18d83f42b6c2",
     "grade": true,
     "grade_id": "cell-7cbe965dbdb7228d",
     "locked": true,
     "points": 1,
     "schema_version": 3,
     "solution": false
    }
   },
   "outputs": [],
   "source": [
    "library(digest)\n",
    "stopifnot(\"type of answer5 is not character\"= setequal(digest(paste(toString(class(answer5)), \"37693\")), \"fc6c3130145f0fb80210523789d385c4\"))\n",
    "stopifnot(\"length of answer5 is not correct\"= setequal(digest(paste(toString(length(answer5)), \"37693\")), \"2b4eb9a0e93cd3a15acd636e0a9e8a04\"))\n",
    "stopifnot(\"value of answer5 is not correct\"= setequal(digest(paste(toString(tolower(answer5)), \"37693\")), \"e83660aa1020beda884cddb739a36f9e\"))\n",
    "stopifnot(\"letters in string value of answer5 are correct but case is not correct\"= setequal(digest(paste(toString(answer5), \"37693\")), \"5c12e05e798903dd9637c879b3219bb2\"))\n",
    "\n",
    "print('Success!')"
   ]
  },
  {
   "cell_type": "markdown",
   "metadata": {
    "deletable": false,
    "editable": false,
    "nbgrader": {
     "cell_type": "markdown",
     "checksum": "1ac1a0e15ea3ffa70b2260b0aa682b40",
     "grade": false,
     "grade_id": "cell-b3b34499fe540e49",
     "locked": true,
     "schema_version": 3,
     "solution": false
    }
   },
   "source": [
    "**Question 6.0**\n",
    "<br> {points: 1}\n",
    "\n",
    "We have just seen how to perform k-nn regression manually, now we will apply it to the whole dataset using the `tidymodels` package. To do so, we will first need to create the training and testing datasets. Split the data using *75%* of the `marathon` data as your training set and set `time_hrs` as the `strata` argument. Store this data into an object called `marathon_split`. \n",
    "\n",
    "Then, use the appropriate `training` and `testing` functions to create your training set which you will call `marathon_training` and your testing set which you will call `marathon_testing`. Remember we won't touch the test dataset until the end. "
   ]
  },
  {
   "cell_type": "code",
   "execution_count": null,
   "metadata": {
    "deletable": false,
    "nbgrader": {
     "cell_type": "code",
     "checksum": "f1bfffda9ee38c9d79c21ae78613aac4",
     "grade": false,
     "grade_id": "cell-8257a9338314019e",
     "locked": false,
     "schema_version": 3,
     "solution": true
    }
   },
   "outputs": [],
   "source": [
    "set.seed(2000) ### DO NOT CHANGE\n",
    "\n",
    "#... <- initial_split(..., prop = ..., strata = ...)\n",
    "#... <- training(...)\n",
    "#... <- testing(...)\n",
    "\n",
    "\n",
    "# your code here\n",
    "fail() # No Answer - remove if you provide an answer"
   ]
  },
  {
   "cell_type": "code",
   "execution_count": null,
   "metadata": {
    "deletable": false,
    "editable": false,
    "nbgrader": {
     "cell_type": "code",
     "checksum": "b98ad482754c638881e3c0db12763b9e",
     "grade": true,
     "grade_id": "cell-381c8aeacf15fd35",
     "locked": true,
     "points": 1,
     "schema_version": 3,
     "solution": false
    }
   },
   "outputs": [],
   "source": [
    "library(digest)\n",
    "stopifnot(\"type of 'rsplit' %in% class(marathon_split) is not logical\"= setequal(digest(paste(toString(class('rsplit' %in% class(marathon_split))), \"995eb\")), \"c37a6a3d32ece56dbf2983b316d56f96\"))\n",
    "stopifnot(\"logical value of 'rsplit' %in% class(marathon_split) is not correct\"= setequal(digest(paste(toString('rsplit' %in% class(marathon_split)), \"995eb\")), \"76c52a1e5ab0897e6e3a3035b2593922\"))\n",
    "\n",
    "stopifnot(\"marathon_training should be a data frame\"= setequal(digest(paste(toString('data.frame' %in% class(marathon_training)), \"995ec\")), \"501a47a75b2b457beff8e2ac89a8324c\"))\n",
    "stopifnot(\"dimensions of marathon_training are not correct\"= setequal(digest(paste(toString(dim(marathon_training)), \"995ec\")), \"ad2869e2d34a6446cea1f65866f28007\"))\n",
    "stopifnot(\"column names of marathon_training are not correct\"= setequal(digest(paste(toString(sort(colnames(marathon_training))), \"995ec\")), \"63ef62bbcc5de6b68df5d6cb8caf22f4\"))\n",
    "stopifnot(\"types of columns in marathon_training are not correct\"= setequal(digest(paste(toString(sort(unlist(sapply(marathon_training, class)))), \"995ec\")), \"a5ba97618641aaa7581f575a22d28ebb\"))\n",
    "stopifnot(\"values in one or more numerical columns in marathon_training are not correct\"= setequal(digest(paste(toString(if (any(sapply(marathon_training, is.numeric))) sort(round(sapply(marathon_training[, sapply(marathon_training, is.numeric)], sum, na.rm = TRUE), 2)) else 0), \"995ec\")), \"ed3dc19b532630b6bee7218c98fe8eaa\"))\n",
    "stopifnot(\"values in one or more character columns in marathon_training are not correct\"= setequal(digest(paste(toString(if (any(sapply(marathon_training, is.character))) sum(sapply(marathon_training[sapply(marathon_training, is.character)], function(x) length(unique(x)))) else 0), \"995ec\")), \"63f3d6429054bdfc33cca12ddf1b6add\"))\n",
    "stopifnot(\"values in one or more factor columns in marathon_training are not correct\"= setequal(digest(paste(toString(if (any(sapply(marathon_training, is.factor))) sum(sapply(marathon_training[, sapply(marathon_training, is.factor)], function(col) length(unique(col)))) else 0), \"995ec\")), \"63f3d6429054bdfc33cca12ddf1b6add\"))\n",
    "\n",
    "stopifnot(\"marathon_testing should be a data frame\"= setequal(digest(paste(toString('data.frame' %in% class(marathon_testing)), \"995ed\")), \"368652787cd859898436316bcd337f05\"))\n",
    "stopifnot(\"dimensions of marathon_testing are not correct\"= setequal(digest(paste(toString(dim(marathon_testing)), \"995ed\")), \"1de930989154e3098eadae58a71a200c\"))\n",
    "stopifnot(\"column names of marathon_testing are not correct\"= setequal(digest(paste(toString(sort(colnames(marathon_testing))), \"995ed\")), \"3219387bce679fc5b3707d5e9f8a69aa\"))\n",
    "stopifnot(\"types of columns in marathon_testing are not correct\"= setequal(digest(paste(toString(sort(unlist(sapply(marathon_testing, class)))), \"995ed\")), \"82f32f5c3c8d2ba42979f74327ea0d94\"))\n",
    "stopifnot(\"values in one or more numerical columns in marathon_testing are not correct\"= setequal(digest(paste(toString(if (any(sapply(marathon_testing, is.numeric))) sort(round(sapply(marathon_testing[, sapply(marathon_testing, is.numeric)], sum, na.rm = TRUE), 2)) else 0), \"995ed\")), \"17a9b62568b0ae6c109f07cb1e94c751\"))\n",
    "stopifnot(\"values in one or more character columns in marathon_testing are not correct\"= setequal(digest(paste(toString(if (any(sapply(marathon_testing, is.character))) sum(sapply(marathon_testing[sapply(marathon_testing, is.character)], function(x) length(unique(x)))) else 0), \"995ed\")), \"da4b3b1d7a3eb9fbf3c9b437f2cb2306\"))\n",
    "stopifnot(\"values in one or more factor columns in marathon_testing are not correct\"= setequal(digest(paste(toString(if (any(sapply(marathon_testing, is.factor))) sum(sapply(marathon_testing[, sapply(marathon_testing, is.factor)], function(col) length(unique(col)))) else 0), \"995ed\")), \"da4b3b1d7a3eb9fbf3c9b437f2cb2306\"))\n",
    "\n",
    "print('Success!')"
   ]
  },
  {
   "cell_type": "markdown",
   "metadata": {
    "deletable": false,
    "editable": false,
    "nbgrader": {
     "cell_type": "markdown",
     "checksum": "f592eb9ca03dafc6d078406ffa752028",
     "grade": false,
     "grade_id": "cell-0c01c0b6cf4d8e91",
     "locked": true,
     "schema_version": 3,
     "solution": false,
     "task": false
    }
   },
   "source": [
    "**Question 7.0**\n",
    "<br> {points: 1}\n",
    "\n",
    "Next, we’ll use cross-validation on our **training data** to choose $k$. In $k$-nn classification, we used accuracy to see how well our predictions matched the true labels. In the context of $k$-nn *regression*, we will use RMSPE instead. Interpreting the RMSPE value can be tricky but generally speaking, if the prediction values are very close to the true values, the RMSPE will be small. Conversely, if the prediction values are *not* very close to the true values, the RMSPE will be quite large. \n",
    "\n",
    "Let's perform a cross-validation and choose the optimal $k$. First, create a model specification for $k$-nn. We are still using the $k$-nearest neighbours algorithm, and so we will still use the same package for the model engine as we did in classification (`\"kknn\"`). As usual, specify that we want to use the *straight-line distance*. However, since this will be a regression problem, we will use `set_mode(\"regression\")` in the model specification. Store your model specification in an object called `marathon_spec`. \n",
    "\n",
    "Moreover, create a recipe to preprocess our data. Store your recipe in an object called `marathon_recipe`. The recipe should specify that the response variable is race time (hrs) and the predictor is maximum distance ran per week during training."
   ]
  },
  {
   "cell_type": "code",
   "execution_count": null,
   "metadata": {
    "deletable": false,
    "nbgrader": {
     "cell_type": "code",
     "checksum": "31868ce196b9c3e528132deaef193f83",
     "grade": false,
     "grade_id": "cell-766f1e094dd32efc",
     "locked": false,
     "schema_version": 3,
     "solution": true
    }
   },
   "outputs": [],
   "source": [
    "set.seed(1234) #DO NOT REMOVE\n",
    "\n",
    "#... <- nearest_neighbor(weight_func = ..., neighbors = ...) |> \n",
    "#       set_engine(...) |>\n",
    "#       set_mode(...) \n",
    "\n",
    "#... <- recipe(... ~ ..., data = ...) |>\n",
    "#       step_scale(...) |>\n",
    "#       step_center(...)\n",
    "#  \n",
    "\n",
    "# your code here\n",
    "fail() # No Answer - remove if you provide an answer\n",
    "marathon_recipe"
   ]
  },
  {
   "cell_type": "code",
   "execution_count": null,
   "metadata": {
    "deletable": false,
    "editable": false,
    "nbgrader": {
     "cell_type": "code",
     "checksum": "a48db7525cb8d5d744a96a5e697b7e9c",
     "grade": true,
     "grade_id": "cell-289bc7a299c4f482",
     "locked": true,
     "points": 1,
     "schema_version": 3,
     "solution": false
    }
   },
   "outputs": [],
   "source": [
    "library(digest)\n",
    "stopifnot(\"marathon_spec should be a model specification\"= setequal(digest(paste(toString('model_spec' %in% class(marathon_spec)), \"5547\")), \"8ab83844edd34a74021cc1e79fa8cd3e\"))\n",
    "stopifnot(\"model specification in marathon_spec is not correct\"= setequal(digest(paste(toString(marathon_spec$mode), \"5547\")), \"b1f1ba983a6682171a6e25213f46a7ec\"))\n",
    "stopifnot(\"computational engine in marathon_spec is not correct\"= setequal(digest(paste(toString(marathon_spec$engine), \"5547\")), \"ca33af34f570b911430bce17b5d274b4\"))\n",
    "stopifnot(\"weight function in marathon_spec is not correct\"= setequal(digest(paste(toString(quo_name(marathon_spec$args$weight_func)), \"5547\")), \"6a7d1a8c96c075f8ca2b992a6e40a384\"))\n",
    "stopifnot(\"number of neighbours in marathon_spec is not correct\"= setequal(digest(paste(toString(quo_name(marathon_spec$args$neighbors)), \"5547\")), \"7367907047c067710c11a10603159af5\"))\n",
    "\n",
    "stopifnot(\"marathon_recipe should be a recipe\"= setequal(digest(paste(toString('recipe' %in% class(marathon_recipe)), \"5548\")), \"dafc3ea33a8e76c60aa970ef5a81ceca\"))\n",
    "stopifnot(\"response variable of marathon_recipe is not correct\"= setequal(digest(paste(toString(sort(filter(marathon_recipe$var_info, role == 'outcome')$variable)), \"5548\")), \"6161ba47763d24154550d947a5e1ad8d\"))\n",
    "stopifnot(\"predictor variable(s) of marathon_recipe are not correct\"= setequal(digest(paste(toString(sort(filter(marathon_recipe$var_info, role == 'predictor')$variable)), \"5548\")), \"f9faad8a2551549f2fad9412027cc626\"))\n",
    "stopifnot(\"marathon_recipe does not contain the correct data, might need to be standardized\"= setequal(digest(paste(toString(round(sum(bake(prep(marathon_recipe), marathon_recipe$template) %>% select_if(is.numeric), na.rm = TRUE), 2)), \"5548\")), \"90fd9c3ee65ef9b8152e366cdf2e0feb\"))\n",
    "\n",
    "print('Success!')"
   ]
  },
  {
   "cell_type": "markdown",
   "metadata": {
    "deletable": false,
    "editable": false,
    "nbgrader": {
     "cell_type": "markdown",
     "checksum": "b591bde125171c97afe36a1a6c5a527b",
     "grade": false,
     "grade_id": "cell-9bbc49f6977aa3fc",
     "locked": true,
     "schema_version": 3,
     "solution": false,
     "task": false
    }
   },
   "source": [
    "**Question 7.1**\n",
    "<br>{points: 1}\n",
    "\n",
    "Now, create the splits for cross-validation with *5 folds* using the `vfold_cv` function. Store your answer in an object called `marathon_vfold`. Make sure to set the `strata` argument.\n",
    "\n",
    "Then, use the `workflow` function to combine your model specification and recipe. Store your answer in an object called `marathon_workflow`. "
   ]
  },
  {
   "cell_type": "code",
   "execution_count": null,
   "metadata": {
    "deletable": false,
    "nbgrader": {
     "cell_type": "code",
     "checksum": "c551fd220ee0f022dd4d1aa49e0a74b9",
     "grade": false,
     "grade_id": "cell-7cf222d5ae9a2f89",
     "locked": false,
     "schema_version": 3,
     "solution": true,
     "task": false
    }
   },
   "outputs": [],
   "source": [
    "set.seed(1234) # DO NOT REMOVE\n",
    "\n",
    "# your code here\n",
    "fail() # No Answer - remove if you provide an answer\n",
    "marathon_workflow"
   ]
  },
  {
   "cell_type": "code",
   "execution_count": null,
   "metadata": {
    "deletable": false,
    "editable": false,
    "nbgrader": {
     "cell_type": "code",
     "checksum": "71e14b2b9fcdc15f2d8cb79ad3b1d5a0",
     "grade": true,
     "grade_id": "cell-88d9f578265d6294",
     "locked": true,
     "points": 1,
     "schema_version": 3,
     "solution": false,
     "task": false
    }
   },
   "outputs": [],
   "source": [
    "library(digest)\n",
    "stopifnot(\"marathon_vfold should be a cross validation object\"= setequal(digest(paste(toString('vfold_cv' %in% class(marathon_vfold)), \"ab229\")), \"c3bddbd841824b3cf5b9b336372855ed\"))\n",
    "stopifnot(\"number of folds is not correct\"= setequal(digest(paste(toString(length(marathon_vfold$id)), \"ab229\")), \"55c11bef663fb02f72bfcf7930692743\"))\n",
    "stopifnot(\"data used is not correct\"= setequal(digest(paste(toString(dim(marathon_vfold)), \"ab229\")), \"c7bcbe7a4a4fbb68b454853bb1e50224\"))\n",
    "stopifnot(\"training data is not used\"= setequal(digest(paste(toString(if (any(sapply(marathon_vfold$splits[[1]]$data, is.numeric))) {round(sapply(marathon_vfold$splits[[1]]$data[, sapply(marathon_vfold$splits[[1]]$data, is.numeric)], sum, na.rm = TRUE), 2)}), \"ab229\")), \"6b9c2e796cadf9494d1d87b4e1c00c59\"))\n",
    "stopifnot(\"strata argument is not correct\"= setequal(digest(paste(toString(sapply(seq_along(marathon_vfold$splits), function(i) {round(sum(marathon_vfold$splits[[i]]$in_id), 2)})), \"ab229\")), \"b4f23b7d7a8ecce1e7d5a731d02797ce\"))\n",
    "\n",
    "stopifnot(\"marathon_workflow should be a workflow\"= setequal(digest(paste(toString('workflow' %in% class(marathon_workflow)), \"ab22a\")), \"8d7b4e8c4a7419dbffe358719d5d9bb9\"))\n",
    "stopifnot(\"computational engine used in marathon_workflow is not correct\"= setequal(digest(paste(toString(marathon_workflow$fit$actions$model$spec$engine), \"ab22a\")), \"de5ef4970762f2d63df8ccc9ad6aaf1b\"))\n",
    "stopifnot(\"model specification used in marathon_workflow is not correct\"= setequal(digest(paste(toString(marathon_workflow$fit$actions$model$spec$mode), \"ab22a\")), \"dcb0e951e2b9778ffc9d472a93e87e47\"))\n",
    "stopifnot(\"marathon_workflow must be a trained workflow, make sure to call the fit() function\"= setequal(digest(paste(toString(marathon_workflow$trained), \"ab22a\")), \"95e32306c93c330c5d5720f91540b6bd\"))\n",
    "stopifnot(\"predictor variable(s) of marathon_workflow are not correct\"= setequal(digest(paste(toString(sort(filter(marathon_workflow$pre$actions$recipe$recipe$var_info, role == 'predictor')$variable)), \"ab22a\")), \"8bd9531610d94899e636e21a69c93095\"))\n",
    "stopifnot(\"marathon_workflow does not contain the correct data\"= setequal(digest(paste(toString(sort(vapply(marathon_workflow$pre$mold$predictors[, sapply(marathon_workflow$pre$mold$predictors, is.numeric)], function(col) if(!is.null(col)) round(sum(col), 2) else NA_real_, numeric(1)), na.last = NA)), \"ab22a\")), \"1262d944405c553c4bb54ec1a09cb57f\"))\n",
    "stopifnot(\"did not fit marathon_workflow on the training dataset\"= setequal(digest(paste(toString(nrow(marathon_workflow$pre$mold$outcomes)), \"ab22a\")), \"1262d944405c553c4bb54ec1a09cb57f\"))\n",
    "stopifnot(\"for classification/regression models, weight function is not correct\"= setequal(digest(paste(toString(quo_name(marathon_workflow$fit$actions$model$spec$args$weight_func)), \"ab22a\")), \"a84b6b776aa8868e397d0f7942c84d8e\"))\n",
    "stopifnot(\"for classification/regression models, response variable of marathon_workflow is not correct\"= setequal(digest(paste(toString(sort(filter(marathon_workflow$pre$actions$recipe$recipe$var_info, role == 'outcome')$variable)), \"ab22a\")), \"802f4cdc88968d5e300ba52cf0b5310f\"))\n",
    "stopifnot(\"for KNN models, number of neighbours is not correct\"= setequal(digest(paste(toString(quo_name(marathon_workflow$fit$actions$model$spec$args$neighbors)), \"ab22a\")), \"011cdad6fa1b1ee0c92e3621303b70ed\"))\n",
    "stopifnot(\"for clustering models, the clustering is not correct\"= setequal(digest(paste(toString(marathon_workflow$fit$fit$fit$cluster), \"ab22a\")), \"1262d944405c553c4bb54ec1a09cb57f\"))\n",
    "stopifnot(\"for clustering models, the total within-cluster sum-of-squared distances is not correct\"= setequal(digest(paste(toString(if (!is.null(marathon_workflow$fit$fit$fit$tot.withinss)) round(marathon_workflow$fit$fit$fit$tot.withinss, 2) else NULL), \"ab22a\")), \"1262d944405c553c4bb54ec1a09cb57f\"))\n",
    "\n",
    "print('Success!')"
   ]
  },
  {
   "cell_type": "markdown",
   "metadata": {
    "deletable": false,
    "editable": false,
    "nbgrader": {
     "cell_type": "markdown",
     "checksum": "06d081b570a555d6fdd7bddae615221f",
     "grade": false,
     "grade_id": "cell-7cd5193eecc27c30",
     "locked": true,
     "schema_version": 3,
     "solution": false
    }
   },
   "source": [
    "**Question 8.0**\n",
    "<br> {points: 1}\n",
    "\n",
    "If you haven't noticed by now, the major difference compared to other workflows from Chapters 6 and 7 is that we are running a *regression* rather than a *classification*. Specifying *regression* in the `set_mode` function essentially tells `tidymodels` that we need to use different metrics (RMPSE rather than accuracy) for tuning and evaluation. \n",
    "\n",
    "Now, let's use the RMSPE to find the best setting for $k$ from our workflow. Let's test the values $k = 1, 11, 21, 31, ..., 81$.\n",
    "\n",
    "First, create a tibble with a column called `neighbors` that contains the sequence of values. Remember that you should use the `seq` function to create the range of $k$s that goes *from* 1 *to* 81 *by jumps of* 10.  Assign that tibble to an object called `gridvals`. \n",
    "\n",
    "Next, tune your workflow such that it tests all the values in `gridvals` and *resamples* using your cross-validation data set. Finally, collect the statistics from your model. Assign your answer to an object called `marathon_results`.\n",
    "\n",
    "*Note: For this question, do not apply any filters to the metrics. Print all metrics exactly as returned by the function.*"
   ]
  },
  {
   "cell_type": "code",
   "execution_count": null,
   "metadata": {
    "deletable": false,
    "nbgrader": {
     "cell_type": "code",
     "checksum": "79b57741a3f0d43055e78fc0f333749c",
     "grade": false,
     "grade_id": "cell-8c7e7ded673d28ec",
     "locked": false,
     "schema_version": 3,
     "solution": true
    }
   },
   "outputs": [],
   "source": [
    "set.seed(2019) # DO NOT CHANGE\n",
    "# your code here\n",
    "fail() # No Answer - remove if you provide an answer\n",
    "marathon_results"
   ]
  },
  {
   "cell_type": "code",
   "execution_count": null,
   "metadata": {
    "deletable": false,
    "editable": false,
    "nbgrader": {
     "cell_type": "code",
     "checksum": "257bf5db6b9b79ff1520b860c8e3f888",
     "grade": true,
     "grade_id": "cell-29d608ebfdd11366",
     "locked": true,
     "points": 1,
     "schema_version": 3,
     "solution": false
    }
   },
   "outputs": [],
   "source": [
    "library(digest)\n",
    "stopifnot(\"gridvals should be a data frame\"= setequal(digest(paste(toString('data.frame' %in% class(gridvals)), \"9e09\")), \"e3785f29ad31e6528294ba45bd185310\"))\n",
    "stopifnot(\"dimensions of gridvals are not correct\"= setequal(digest(paste(toString(dim(gridvals)), \"9e09\")), \"74028ed922d45a6a780d2f5306e7d24e\"))\n",
    "stopifnot(\"column names of gridvals are not correct\"= setequal(digest(paste(toString(sort(colnames(gridvals))), \"9e09\")), \"14b2d11c9f26fcd55788479cedad5474\"))\n",
    "stopifnot(\"types of columns in gridvals are not correct\"= setequal(digest(paste(toString(sort(unlist(sapply(gridvals, class)))), \"9e09\")), \"e36ee1654fef221fccb6f406dedeef5e\"))\n",
    "stopifnot(\"values in one or more numerical columns in gridvals are not correct\"= setequal(digest(paste(toString(if (any(sapply(gridvals, is.numeric))) sort(round(sapply(gridvals[, sapply(gridvals, is.numeric)], sum, na.rm = TRUE), 2)) else 0), \"9e09\")), \"143d0c8eb4893dcebe4b08f79c11636c\"))\n",
    "stopifnot(\"values in one or more character columns in gridvals are not correct\"= setequal(digest(paste(toString(if (any(sapply(gridvals, is.character))) sum(sapply(gridvals[sapply(gridvals, is.character)], function(x) length(unique(x)))) else 0), \"9e09\")), \"78cc6b154549e7981035d4e9982eee20\"))\n",
    "stopifnot(\"values in one or more factor columns in gridvals are not correct\"= setequal(digest(paste(toString(if (any(sapply(gridvals, is.factor))) sum(sapply(gridvals[, sapply(gridvals, is.factor)], function(col) length(unique(col)))) else 0), \"9e09\")), \"78cc6b154549e7981035d4e9982eee20\"))\n",
    "\n",
    "stopifnot(\"marathon_results should be a data frame\"= setequal(digest(paste(toString('data.frame' %in% class(marathon_results)), \"9e0a\")), \"df7374252434fb128d5f92ddd0f81b58\"))\n",
    "stopifnot(\"dimensions of marathon_results are not correct\"= setequal(digest(paste(toString(dim(marathon_results)), \"9e0a\")), \"4b785364ac3b2b46c601276c8462a845\"))\n",
    "stopifnot(\"column names of marathon_results are not correct\"= setequal(digest(paste(toString(sort(colnames(marathon_results))), \"9e0a\")), \"7855f48ba3ceba568928de2dcac36b0d\"))\n",
    "stopifnot(\"types of columns in marathon_results are not correct\"= setequal(digest(paste(toString(sort(unlist(sapply(marathon_results, class)))), \"9e0a\")), \"5d450389a632649592270bf8862bd544\"))\n",
    "stopifnot(\"values in one or more numerical columns in marathon_results are not correct\"= setequal(digest(paste(toString(if (any(sapply(marathon_results, is.numeric))) sort(round(sapply(marathon_results[, sapply(marathon_results, is.numeric)], sum, na.rm = TRUE), 2)) else 0), \"9e0a\")), \"93540c0b281129461265ef8b0b6c48be\"))\n",
    "stopifnot(\"values in one or more character columns in marathon_results are not correct\"= setequal(digest(paste(toString(if (any(sapply(marathon_results, is.character))) sum(sapply(marathon_results[sapply(marathon_results, is.character)], function(x) length(unique(x)))) else 0), \"9e0a\")), \"ea80b90301e9ed819d58d7909bfeead0\"))\n",
    "stopifnot(\"values in one or more factor columns in marathon_results are not correct\"= setequal(digest(paste(toString(if (any(sapply(marathon_results, is.factor))) sum(sapply(marathon_results[, sapply(marathon_results, is.factor)], function(col) length(unique(col)))) else 0), \"9e0a\")), \"f6143329c548deabbac24c3034b08ebf\"))\n",
    "\n",
    "print('Success!')"
   ]
  },
  {
   "cell_type": "markdown",
   "metadata": {
    "deletable": false,
    "editable": false,
    "nbgrader": {
     "cell_type": "markdown",
     "checksum": "ffc7314876aa53957c34b549d51a8367",
     "grade": false,
     "grade_id": "cell-35eaea9c384c5f6c",
     "locked": true,
     "schema_version": 3,
     "solution": false
    }
   },
   "source": [
    "**Question 8.1**\n",
    "<br> {points: 1}\n",
    "\n",
    "Great! Now find the *minimum* RMSPE along with it's associated metrics such as the mean and standard error, to help us find the number of neighbors that will serve as our best $k$ value. Your answer should simply be a tibble with one row. Assign your answer to an object called `marathon_min`."
   ]
  },
  {
   "cell_type": "code",
   "execution_count": null,
   "metadata": {
    "deletable": false,
    "nbgrader": {
     "cell_type": "code",
     "checksum": "99a6de5bf9d8d8c29eb0df4704b4e848",
     "grade": false,
     "grade_id": "cell-f9738d45da9e8a77",
     "locked": false,
     "schema_version": 3,
     "solution": true
    }
   },
   "outputs": [],
   "source": [
    "set.seed(2020) # DO NOT REMOVE\n",
    "\n",
    "#... <- marathon_results |>\n",
    "#    filter(.metric == ...) |>\n",
    "#    slice_min(..., ...)\n",
    "\n",
    "# your code here\n",
    "fail() # No Answer - remove if you provide an answer\n",
    "marathon_min"
   ]
  },
  {
   "cell_type": "code",
   "execution_count": null,
   "metadata": {
    "deletable": false,
    "editable": false,
    "nbgrader": {
     "cell_type": "code",
     "checksum": "236379001bc83be21ff82da0403ca93a",
     "grade": true,
     "grade_id": "cell-a1e34e1fb62d79f5",
     "locked": true,
     "points": 1,
     "schema_version": 3,
     "solution": false
    }
   },
   "outputs": [],
   "source": [
    "library(digest)\n",
    "stopifnot(\"marathon_min should be a data frame\"= setequal(digest(paste(toString('data.frame' %in% class(marathon_min)), \"33a4\")), \"40b5e33777ec7eb065f043fa71f535a6\"))\n",
    "stopifnot(\"dimensions of marathon_min are not correct\"= setequal(digest(paste(toString(dim(marathon_min)), \"33a4\")), \"38b61400a91856750685827d24948776\"))\n",
    "stopifnot(\"column names of marathon_min are not correct\"= setequal(digest(paste(toString(sort(colnames(marathon_min))), \"33a4\")), \"e6b0259c3aaa121f0abdc46cafe6e2c2\"))\n",
    "stopifnot(\"types of columns in marathon_min are not correct\"= setequal(digest(paste(toString(sort(unlist(sapply(marathon_min, class)))), \"33a4\")), \"991d6e89327c147fc4962bd227ea29ba\"))\n",
    "stopifnot(\"values in one or more numerical columns in marathon_min are not correct\"= setequal(digest(paste(toString(if (any(sapply(marathon_min, is.numeric))) sort(round(sapply(marathon_min[, sapply(marathon_min, is.numeric)], sum, na.rm = TRUE), 2)) else 0), \"33a4\")), \"0b8ad5b8e14a65e2bdb202f878d3aa33\"))\n",
    "stopifnot(\"values in one or more character columns in marathon_min are not correct\"= setequal(digest(paste(toString(if (any(sapply(marathon_min, is.character))) sum(sapply(marathon_min[sapply(marathon_min, is.character)], function(x) length(unique(x)))) else 0), \"33a4\")), \"066a3d400801f50d6cfbbb54e8a91f62\"))\n",
    "stopifnot(\"values in one or more factor columns in marathon_min are not correct\"= setequal(digest(paste(toString(if (any(sapply(marathon_min, is.factor))) sum(sapply(marathon_min[, sapply(marathon_min, is.factor)], function(col) length(unique(col)))) else 0), \"33a4\")), \"d9bdf2992b7d868327011d545b756c8c\"))\n",
    "\n",
    "print('Success!')"
   ]
  },
  {
   "cell_type": "markdown",
   "metadata": {
    "deletable": false,
    "editable": false,
    "nbgrader": {
     "cell_type": "markdown",
     "checksum": "059df927a68d576994b89a53009dd594",
     "grade": false,
     "grade_id": "cell-28a414eb59f5ae20",
     "locked": true,
     "schema_version": 3,
     "solution": false
    }
   },
   "source": [
    "**Question 8.2**\n",
    "<br> {points: 1}\n",
    "\n",
    "To assess how well our model might do at predicting on unseen data, we will assess its RMSPE on the test data. To do this, we will first re-train our $k$-nn regression model on the entire training data set, using the $K$ value we obtained from **Question 8.1**. \n",
    "\n",
    "To start, pull the best `neighbors` value from `marathon_min` and store it an object called `k_min`. \n",
    "\n",
    "Following that, we will repeat the workflow analysis again but with a brand new model specification with `k_min`. Remember, we are doing a regression analysis, so please select the appropriate mode. Store your new model specification in an object called `marathon_best_spec` and your new workflow analysis in an object called `marathon_best_fit`. You can reuse this `marathon_recipe` for this workflow, as we do not need to change it for this task.\n",
    "\n",
    "Then, we will use the `predict` function to make predictions on the test data, and use the `metrics` function again to compute a summary of the regression's quality. Store your answer in an object called `marathon_summary`. "
   ]
  },
  {
   "cell_type": "code",
   "execution_count": null,
   "metadata": {
    "deletable": false,
    "nbgrader": {
     "cell_type": "code",
     "checksum": "8d9c278960e85de2b5b718d977d715cd",
     "grade": false,
     "grade_id": "cell-a4de6046a0bd5f96",
     "locked": false,
     "schema_version": 3,
     "solution": true
    }
   },
   "outputs": [],
   "source": [
    "set.seed(1234) # DO NOT REMOVE\n",
    "\n",
    "#... <- marathon_min |>\n",
    "#          pull(...)\n",
    "\n",
    "#... <- nearest_neighbor(weight_func = ..., neighbors = ...) |>\n",
    "#          set_engine(...) |>\n",
    "#          set_mode(...)\n",
    "\n",
    "#... <- workflow() |>\n",
    "#          add_recipe(...) |>\n",
    "#          add_model(...) |>\n",
    "#          fit(data = ...)\n",
    "\n",
    "#... <- marathon_best_fit |>\n",
    "#           predict(...) |>\n",
    "#           bind_cols(...) |>\n",
    "#           metrics(truth = ..., estimate = ...)\n",
    "\n",
    "# your code here\n",
    "fail() # No Answer - remove if you provide an answer\n",
    "marathon_summary"
   ]
  },
  {
   "cell_type": "code",
   "execution_count": null,
   "metadata": {
    "deletable": false,
    "editable": false,
    "nbgrader": {
     "cell_type": "code",
     "checksum": "9059e615b6cdd649371f38389a634ab3",
     "grade": true,
     "grade_id": "cell-94fab75dca459b65",
     "locked": true,
     "points": 1,
     "schema_version": 3,
     "solution": false
    }
   },
   "outputs": [],
   "source": [
    "library(digest)\n",
    "stopifnot(\"type of k_min is not numeric\"= setequal(digest(paste(toString(class(k_min)), \"550f6\")), \"01c662532c057a22b2b9cb927ea3aa3f\"))\n",
    "stopifnot(\"value of k_min is not correct (rounded to 2 decimal places)\"= setequal(digest(paste(toString(round(k_min, 2)), \"550f6\")), \"5b34b812d262ed0bf637355b4e5408ce\"))\n",
    "stopifnot(\"length of k_min is not correct\"= setequal(digest(paste(toString(length(k_min)), \"550f6\")), \"f23949a15452933ed5d3171f2d85ddf5\"))\n",
    "stopifnot(\"values of k_min are not correct\"= setequal(digest(paste(toString(sort(round(k_min, 2))), \"550f6\")), \"5b34b812d262ed0bf637355b4e5408ce\"))\n",
    "\n",
    "stopifnot(\"marathon_best_spec should be a model specification\"= setequal(digest(paste(toString('model_spec' %in% class(marathon_best_spec)), \"550f7\")), \"71cbb182aea5ad1ec22f3e1d3149f5a7\"))\n",
    "stopifnot(\"model specification in marathon_best_spec is not correct\"= setequal(digest(paste(toString(marathon_best_spec$mode), \"550f7\")), \"ba973cd2e3bbdcb580ce21682cbbed34\"))\n",
    "stopifnot(\"computational engine in marathon_best_spec is not correct\"= setequal(digest(paste(toString(marathon_best_spec$engine), \"550f7\")), \"03bd61c48336305c8fe6492179a01fa5\"))\n",
    "stopifnot(\"weight function in marathon_best_spec is not correct\"= setequal(digest(paste(toString(quo_name(marathon_best_spec$args$weight_func)), \"550f7\")), \"14ab6f06ac87b4cdfc2197cf474d4fe5\"))\n",
    "stopifnot(\"number of neighbours in marathon_best_spec is not correct\"= setequal(digest(paste(toString(quo_name(marathon_best_spec$args$neighbors)), \"550f7\")), \"fec54ae3124ff36fc32e618112b69461\"))\n",
    "\n",
    "stopifnot(\"marathon_best_fit should be a workflow\"= setequal(digest(paste(toString('workflow' %in% class(marathon_best_fit)), \"550f8\")), \"c278370a8060d698d5d49b79c4d8b9f7\"))\n",
    "stopifnot(\"computational engine used in marathon_best_fit is not correct\"= setequal(digest(paste(toString(marathon_best_fit$fit$actions$model$spec$engine), \"550f8\")), \"9a4ca5e5b6ba68241af1ae159b63e8c6\"))\n",
    "stopifnot(\"model specification used in marathon_best_fit is not correct\"= setequal(digest(paste(toString(marathon_best_fit$fit$actions$model$spec$mode), \"550f8\")), \"9013407379761a62f44a4853cbf09d68\"))\n",
    "stopifnot(\"marathon_best_fit must be a trained workflow, make sure to call the fit() function\"= setequal(digest(paste(toString(marathon_best_fit$trained), \"550f8\")), \"c278370a8060d698d5d49b79c4d8b9f7\"))\n",
    "stopifnot(\"predictor variable(s) of marathon_best_fit are not correct\"= setequal(digest(paste(toString(sort(filter(marathon_best_fit$pre$actions$recipe$recipe$var_info, role == 'predictor')$variable)), \"550f8\")), \"0bb1a7322ed0ac79cbb99ece1bed5fe8\"))\n",
    "stopifnot(\"marathon_best_fit does not contain the correct data\"= setequal(digest(paste(toString(sort(vapply(marathon_best_fit$pre$mold$predictors[, sapply(marathon_best_fit$pre$mold$predictors, is.numeric)], function(col) if(!is.null(col)) round(sum(col), 2) else NA_real_, numeric(1)), na.last = NA)), \"550f8\")), \"5996592f0d4539ed7cdde9924dd1c180\"))\n",
    "stopifnot(\"did not fit marathon_best_fit on the training dataset\"= setequal(digest(paste(toString(nrow(marathon_best_fit$pre$mold$outcomes)), \"550f8\")), \"f77ac93555ebf5acd29489e116cfe1f3\"))\n",
    "stopifnot(\"for classification/regression models, weight function is not correct\"= setequal(digest(paste(toString(quo_name(marathon_best_fit$fit$actions$model$spec$args$weight_func)), \"550f8\")), \"38d7480d57d211b785f6957842d1cc37\"))\n",
    "stopifnot(\"for classification/regression models, response variable of marathon_best_fit is not correct\"= setequal(digest(paste(toString(sort(filter(marathon_best_fit$pre$actions$recipe$recipe$var_info, role == 'outcome')$variable)), \"550f8\")), \"1b3320cc17789ad0a707b28c1833b4ba\"))\n",
    "stopifnot(\"for KNN models, number of neighbours is not correct\"= setequal(digest(paste(toString(quo_name(marathon_best_fit$fit$actions$model$spec$args$neighbors)), \"550f8\")), \"6c7d30dbf17d893256cca52b8803fdbc\"))\n",
    "stopifnot(\"for clustering models, the clustering is not correct\"= setequal(digest(paste(toString(marathon_best_fit$fit$fit$fit$cluster), \"550f8\")), \"a3b5926535d0e0cb6c4b76c762df3a21\"))\n",
    "stopifnot(\"for clustering models, the total within-cluster sum-of-squared distances is not correct\"= setequal(digest(paste(toString(if (!is.null(marathon_best_fit$fit$fit$fit$tot.withinss)) round(marathon_best_fit$fit$fit$fit$tot.withinss, 2) else NULL), \"550f8\")), \"a3b5926535d0e0cb6c4b76c762df3a21\"))\n",
    "\n",
    "stopifnot(\"marathon_summary should be a data frame\"= setequal(digest(paste(toString('data.frame' %in% class(marathon_summary)), \"550f9\")), \"8510d8378e729a04fefcf81210f014ad\"))\n",
    "stopifnot(\"dimensions of marathon_summary are not correct\"= setequal(digest(paste(toString(dim(marathon_summary)), \"550f9\")), \"08fa1b5bd8cded25763a7850d373ec09\"))\n",
    "stopifnot(\"column names of marathon_summary are not correct\"= setequal(digest(paste(toString(sort(colnames(marathon_summary))), \"550f9\")), \"8d5530627575e8e898130cc2baea6b47\"))\n",
    "stopifnot(\"types of columns in marathon_summary are not correct\"= setequal(digest(paste(toString(sort(unlist(sapply(marathon_summary, class)))), \"550f9\")), \"2b01203f0e2844f3ba994d132f86283f\"))\n",
    "stopifnot(\"values in one or more numerical columns in marathon_summary are not correct\"= setequal(digest(paste(toString(if (any(sapply(marathon_summary, is.numeric))) sort(round(sapply(marathon_summary[, sapply(marathon_summary, is.numeric)], sum, na.rm = TRUE), 2)) else 0), \"550f9\")), \"490760f22419c4660094e8f16d1c9718\"))\n",
    "stopifnot(\"values in one or more character columns in marathon_summary are not correct\"= setequal(digest(paste(toString(if (any(sapply(marathon_summary, is.character))) sum(sapply(marathon_summary[sapply(marathon_summary, is.character)], function(x) length(unique(x)))) else 0), \"550f9\")), \"0b83a45fc9152b6322604a7124e0f87d\"))\n",
    "stopifnot(\"values in one or more factor columns in marathon_summary are not correct\"= setequal(digest(paste(toString(if (any(sapply(marathon_summary, is.factor))) sum(sapply(marathon_summary[, sapply(marathon_summary, is.factor)], function(col) length(unique(col)))) else 0), \"550f9\")), \"c67c2b0da350f0e27a9914f9e81220ab\"))\n",
    "\n",
    "print('Success!')"
   ]
  },
  {
   "cell_type": "markdown",
   "metadata": {
    "deletable": false,
    "editable": false,
    "nbgrader": {
     "cell_type": "markdown",
     "checksum": "1feec2b034696ca26148ef224854254e",
     "grade": false,
     "grade_id": "cell-dffef3173aff9b72",
     "locked": true,
     "schema_version": 3,
     "solution": false,
     "task": false
    }
   },
   "source": [
    "What does this RMSPE score mean? RMSPE is measured in the units of the target/response variable, so it can sometimes be a bit hard to interpret. But in this case, we know that a typical marathon race time is somewhere between 3 - 5 hours. So this model allows us to predict a runner's race time up to about +/-0.6 of an hour, or +/- 36 minutes. This is not *fantastic*, but not *terrible* either. We can certainly use the model to determine roughly whether an athlete will have a bad, good, or excellent race time, but probably cannot reliably distinguish between athletes of a similar caliber.\n",
    "\n",
    "For now, let’s consider this approach to thinking about RMSPE from our testing data set: as long as its not significantly worse than the cross-validation RMSPE of our best model (**Question 8.1**), then we can say that we’re not doing too much worse on the test data than we did on the training data. In future courses on statistical/machine learning, you will learn more about how to interpret RMSPE from testing data and other ways to assess models.  "
   ]
  },
  {
   "cell_type": "markdown",
   "metadata": {
    "deletable": false,
    "editable": false,
    "nbgrader": {
     "cell_type": "markdown",
     "checksum": "553011861ab39af59d82c7ff28c78d80",
     "grade": false,
     "grade_id": "cell-ed97bb769cc923e5",
     "locked": true,
     "schema_version": 3,
     "solution": false,
     "task": false
    }
   },
   "source": [
    "**Question 8.3** True or False:\n",
    "<br>{points: 1}\n",
    "\n",
    "The RMPSE from our testing data set is *much worse* than the cross-validation RMPSE of our best model. \n",
    "\n",
    "*Assign your answer to an object named `answer8.3`. Make sure your answer is in lowercase and is surrounded by quotation marks (e.g. `\"true\"` or `\"false\"`).*"
   ]
  },
  {
   "cell_type": "code",
   "execution_count": null,
   "metadata": {
    "deletable": false,
    "nbgrader": {
     "cell_type": "code",
     "checksum": "57ecd2f6ac40fa40cd040ffc75fc7ce5",
     "grade": false,
     "grade_id": "cell-24ccc13552b0fff1",
     "locked": false,
     "schema_version": 3,
     "solution": true,
     "task": false
    }
   },
   "outputs": [],
   "source": [
    "# your code here\n",
    "fail() # No Answer - remove if you provide an answer"
   ]
  },
  {
   "cell_type": "code",
   "execution_count": null,
   "metadata": {
    "deletable": false,
    "editable": false,
    "nbgrader": {
     "cell_type": "code",
     "checksum": "099fe7f9c58ee09e8ce13f4795801881",
     "grade": true,
     "grade_id": "cell-f39ed1223c189ec6",
     "locked": true,
     "points": 1,
     "schema_version": 3,
     "solution": false,
     "task": false
    }
   },
   "outputs": [],
   "source": [
    "library(digest)\n",
    "stopifnot(\"type of answer8.3 is not character\"= setequal(digest(paste(toString(class(answer8.3)), \"aa898\")), \"fdfbb8dbf9e39738698be2e00f17a87d\"))\n",
    "stopifnot(\"length of answer8.3 is not correct\"= setequal(digest(paste(toString(length(answer8.3)), \"aa898\")), \"a40dcc06a77707553cc5d3e1acdc02dd\"))\n",
    "stopifnot(\"value of answer8.3 is not correct\"= setequal(digest(paste(toString(tolower(answer8.3)), \"aa898\")), \"3463dffe41b3e1babe842b2dfef22ebe\"))\n",
    "stopifnot(\"letters in string value of answer8.3 are correct but case is not correct\"= setequal(digest(paste(toString(answer8.3), \"aa898\")), \"3463dffe41b3e1babe842b2dfef22ebe\"))\n",
    "\n",
    "print('Success!')"
   ]
  },
  {
   "cell_type": "markdown",
   "metadata": {
    "deletable": false,
    "editable": false,
    "nbgrader": {
     "cell_type": "markdown",
     "checksum": "35a07e04ba2aae150c37aad410e9c317",
     "grade": false,
     "grade_id": "cell-f527fba0cc1ca89d",
     "locked": true,
     "schema_version": 3,
     "solution": false
    }
   },
   "source": [
    "**Question 9.0**\n",
    "<br> {points: 1}\n",
    "\n",
    "Let's visualize what the relationship between `max` and `time_hrs` looks like with our best $k$ value to ultimately explore how the $k$ value affects $k$-nn regression.\n",
    "\n",
    "To do so, use the `predict` function on the workflow analysis that utilizes the best $k$ value (`marathon_best_fit`) to create predictions for the `marathon_training` data. Then, add the column of predictions to the `marathon_training` data frame using `bind_cols`. Name the resulting data frame `marathon_preds`.\n",
    "\n",
    "Next, create a scatterplot with the maximum distance ran per week against the marathon time from `marathon_preds`. Assign your plot to an object called `marathon_plot`. **Plot the predictions as a blue line over the data points.** Remember the fundamentals of effective visualizations such as having a **title** and **human-readable axes**. \n",
    "\n",
    "*Note: use `geom_point` before `geom_line` when creating the plot to ensure tests pass!*"
   ]
  },
  {
   "cell_type": "code",
   "execution_count": null,
   "metadata": {
    "deletable": false,
    "nbgrader": {
     "cell_type": "code",
     "checksum": "dd315f90974d6f742929f677f91a1807",
     "grade": false,
     "grade_id": "cell-e623a65f902a7e98",
     "locked": false,
     "schema_version": 3,
     "solution": true
    }
   },
   "outputs": [],
   "source": [
    "set.seed(2019) # DO NOT CHANGE\n",
    "\n",
    "options(repr.plot.width = 7, repr.plot.height = 7)\n",
    "\n",
    "# your code here\n",
    "fail() # No Answer - remove if you provide an answer\n",
    "marathon_plot"
   ]
  },
  {
   "cell_type": "code",
   "execution_count": null,
   "metadata": {
    "deletable": false,
    "editable": false,
    "nbgrader": {
     "cell_type": "code",
     "checksum": "742eba48e65439750fb6ae57132c6288",
     "grade": true,
     "grade_id": "cell-5eff9c974a058bdf",
     "locked": true,
     "points": 1,
     "schema_version": 3,
     "solution": false
    }
   },
   "outputs": [],
   "source": [
    "library(digest)\n",
    "stopifnot(\"type of plot is not correct (if you are using two types of geoms, try flipping the order of the geom objects!)\"= setequal(digest(paste(toString(sapply(seq_len(length(marathon_plot$layers)), function(i) {c(class(marathon_plot$layers[[i]]$geom))[1]})), \"b9743\")), \"d56026378896396ba628c5624640af83\"))\n",
    "stopifnot(\"variable x is not correct\"= setequal(digest(paste(toString(unlist(lapply(sapply(seq_len(length(marathon_plot$layers)), function(i) {rlang::get_expr(c(marathon_plot$layers[[i]]$mapping, marathon_plot$mapping)$x)}), as.character))), \"b9743\")), \"a7b5ce253cd34ddb441f3328ae587132\"))\n",
    "stopifnot(\"variable y is not correct\"= setequal(digest(paste(toString(unlist(lapply(sapply(seq_len(length(marathon_plot$layers)), function(i) {rlang::get_expr(c(marathon_plot$layers[[i]]$mapping, marathon_plot$mapping)$y)}), as.character))), \"b9743\")), \"df7f01f9cbc56804207c66b99869848c\"))\n",
    "stopifnot(\"x-axis label is not descriptive, nicely formatted, or human readable\"= setequal(digest(paste(toString(rlang::get_expr(c(marathon_plot$layers[[1]]$mapping, marathon_plot$mapping)$x)!= marathon_plot$labels$x), \"b9743\")), \"626430ae9d9877f3617df01c7f947285\"))\n",
    "stopifnot(\"y-axis label is not descriptive, nicely formatted, or human readable\"= setequal(digest(paste(toString(rlang::get_expr(c(marathon_plot$layers[[1]]$mapping, marathon_plot$mapping)$y)!= marathon_plot$labels$y), \"b9743\")), \"626430ae9d9877f3617df01c7f947285\"))\n",
    "stopifnot(\"incorrect colour variable in marathon_plot, specify a correct one if required\"= setequal(digest(paste(toString(rlang::get_expr(c(marathon_plot$layers[[1]]$mapping, marathon_plot$mapping)$colour)), \"b9743\")), \"6e54f7c10e27f2dd167e178dadf2b08d\"))\n",
    "stopifnot(\"incorrect shape variable in marathon_plot, specify a correct one if required\"= setequal(digest(paste(toString(rlang::get_expr(c(marathon_plot$layers[[1]]$mapping, marathon_plot$mapping)$shape)), \"b9743\")), \"6e54f7c10e27f2dd167e178dadf2b08d\"))\n",
    "stopifnot(\"the colour label in marathon_plot is not descriptive, nicely formatted, or human readable\"= setequal(digest(paste(toString(rlang::get_expr(c(marathon_plot$layers[[1]]$mapping, marathon_plot$mapping)$colour) != marathon_plot$labels$colour), \"b9743\")), \"6e54f7c10e27f2dd167e178dadf2b08d\"))\n",
    "stopifnot(\"the shape label in marathon_plot is not descriptive, nicely formatted, or human readable\"= setequal(digest(paste(toString(rlang::get_expr(c(marathon_plot$layers[[1]]$mapping, marathon_plot$mapping)$colour) != marathon_plot$labels$shape), \"b9743\")), \"6e54f7c10e27f2dd167e178dadf2b08d\"))\n",
    "stopifnot(\"fill variable in marathon_plot is not correct\"= setequal(digest(paste(toString(quo_name(marathon_plot$mapping$fill)), \"b9743\")), \"030c9e71d2ec4fea75b9143c74f57384\"))\n",
    "stopifnot(\"fill label in marathon_plot is not informative\"= setequal(digest(paste(toString((quo_name(marathon_plot$mapping$fill) != marathon_plot$labels$fill)), \"b9743\")), \"6e54f7c10e27f2dd167e178dadf2b08d\"))\n",
    "stopifnot(\"position argument in marathon_plot is not correct\"= setequal(digest(paste(toString(class(marathon_plot$layers[[1]]$position)[1]), \"b9743\")), \"5080a849493eb59c49af507ee557edd2\"))\n",
    "\n",
    "stopifnot(\"marathon_plot$data should be a data frame\"= setequal(digest(paste(toString('data.frame' %in% class(marathon_plot$data)), \"b9744\")), \"ff94263ebc353ae0e93a3610dae0c0c7\"))\n",
    "stopifnot(\"dimensions of marathon_plot$data are not correct\"= setequal(digest(paste(toString(dim(marathon_plot$data)), \"b9744\")), \"bdb3587ec0317d8baf1dac70b56564a9\"))\n",
    "stopifnot(\"column names of marathon_plot$data are not correct\"= setequal(digest(paste(toString(sort(colnames(marathon_plot$data))), \"b9744\")), \"f908eda84c0f11bb1c252c99eb5de321\"))\n",
    "stopifnot(\"types of columns in marathon_plot$data are not correct\"= setequal(digest(paste(toString(sort(unlist(sapply(marathon_plot$data, class)))), \"b9744\")), \"5f21a4c36da13ec62b20ea7ebd9c6380\"))\n",
    "stopifnot(\"values in one or more numerical columns in marathon_plot$data are not correct\"= setequal(digest(paste(toString(if (any(sapply(marathon_plot$data, is.numeric))) sort(round(sapply(marathon_plot$data[, sapply(marathon_plot$data, is.numeric)], sum, na.rm = TRUE), 2)) else 0), \"b9744\")), \"1e47fdb80dba2897519f48a743bcfcd7\"))\n",
    "stopifnot(\"values in one or more character columns in marathon_plot$data are not correct\"= setequal(digest(paste(toString(if (any(sapply(marathon_plot$data, is.character))) sum(sapply(marathon_plot$data[sapply(marathon_plot$data, is.character)], function(x) length(unique(x)))) else 0), \"b9744\")), \"d6d21b5fdf47ab635b546662cb873731\"))\n",
    "stopifnot(\"values in one or more factor columns in marathon_plot$data are not correct\"= setequal(digest(paste(toString(if (any(sapply(marathon_plot$data, is.factor))) sum(sapply(marathon_plot$data[, sapply(marathon_plot$data, is.factor)], function(col) length(unique(col)))) else 0), \"b9744\")), \"d6d21b5fdf47ab635b546662cb873731\"))\n",
    "\n",
    "stopifnot(\"type of is.character(marathon_plot$labels$title) is not logical\"= setequal(digest(paste(toString(class(is.character(marathon_plot$labels$title))), \"b9745\")), \"5f2cdb5e0db0082e3ba2c51886d533f9\"))\n",
    "stopifnot(\"logical value of is.character(marathon_plot$labels$title) is not correct\"= setequal(digest(paste(toString(is.character(marathon_plot$labels$title)), \"b9745\")), \"a2d537ac5f121c20197a0b3c01f19b6a\"))\n",
    "\n",
    "stopifnot(\"type of as.character(marathon_plot$layers[[2]]$aes_params) is not character\"= setequal(digest(paste(toString(class(as.character(marathon_plot$layers[[2]]$aes_params))), \"b9746\")), \"2837cd9a472e7f8bf026f283bcdfeb4b\"))\n",
    "stopifnot(\"length of as.character(marathon_plot$layers[[2]]$aes_params) is not correct\"= setequal(digest(paste(toString(length(as.character(marathon_plot$layers[[2]]$aes_params))), \"b9746\")), \"4721e09e2f46499eda0e022ab36a0863\"))\n",
    "stopifnot(\"value of as.character(marathon_plot$layers[[2]]$aes_params) is not correct\"= setequal(digest(paste(toString(tolower(as.character(marathon_plot$layers[[2]]$aes_params))), \"b9746\")), \"f748724dc18e96f9604fe136f112f1ca\"))\n",
    "stopifnot(\"letters in string value of as.character(marathon_plot$layers[[2]]$aes_params) are correct but case is not correct\"= setequal(digest(paste(toString(as.character(marathon_plot$layers[[2]]$aes_params)), \"b9746\")), \"f748724dc18e96f9604fe136f112f1ca\"))\n",
    "\n",
    "print('Success!')"
   ]
  },
  {
   "cell_type": "code",
   "execution_count": null,
   "metadata": {},
   "outputs": [],
   "source": [
    "source('cleanup.R')"
   ]
  }
 ],
 "metadata": {
  "kernelspec": {
   "display_name": "R",
   "language": "R",
   "name": "ir"
  },
  "language_info": {
   "codemirror_mode": "r",
   "file_extension": ".r",
   "mimetype": "text/x-r-source",
   "name": "R",
   "pygments_lexer": "r",
   "version": "4.3.3"
  }
 },
 "nbformat": 4,
 "nbformat_minor": 4
}
