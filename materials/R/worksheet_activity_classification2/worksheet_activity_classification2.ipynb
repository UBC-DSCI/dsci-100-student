{
 "cells": [
  {
   "cell_type": "markdown",
   "metadata": {
    "deletable": false,
    "editable": false,
    "nbgrader": {
     "cell_type": "markdown",
     "checksum": "748699da70f727844a0901b35bdbba90",
     "grade": false,
     "grade_id": "cell-6e031b12170334ae",
     "locked": true,
     "schema_version": 3,
     "solution": false,
     "task": false
    }
   },
   "source": [
    "## DSCI 100 - Introduction to Data Science\n",
    "\n",
    "### Lecture 7 - Classification II: Evaluating & Tuning: Class activity"
   ]
  },
  {
   "cell_type": "markdown",
   "metadata": {
    "deletable": false,
    "editable": false,
    "nbgrader": {
     "cell_type": "markdown",
     "checksum": "766b7404c7cf77ebd2b2d3209e150d70",
     "grade": false,
     "grade_id": "cell-f4711b4ae58d73d1",
     "locked": true,
     "schema_version": 3,
     "solution": false,
     "task": false
    }
   },
   "source": [
    "In your group, discuss the following prompts.\n",
    "\n",
    "- Explain what a test, validation and training data set are in your own words\n",
    "- Explain cross-validation in your own words\n",
    "- Imagine if we train and evaluate accuracy on all the data. How can I get 100% accuracy, always?\n",
    "- Why can't I use cross validation when testing?"
   ]
  }
 ],
 "metadata": {
  "kernelspec": {
   "display_name": "R",
   "language": "R",
   "name": "ir"
  },
  "language_info": {
   "codemirror_mode": "r",
   "file_extension": ".r",
   "mimetype": "text/x-r-source",
   "name": "R",
   "pygments_lexer": "r",
   "version": "4.1.3"
  }
 },
 "nbformat": 4,
 "nbformat_minor": 4
}
