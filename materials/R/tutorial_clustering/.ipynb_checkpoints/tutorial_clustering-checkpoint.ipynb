{
 "cells": [
  {
   "cell_type": "markdown",
   "metadata": {
    "deletable": false,
    "editable": false,
    "nbgrader": {
     "cell_type": "markdown",
     "checksum": "62f085b6efd43e81242717316430ff4e",
     "grade": false,
     "grade_id": "cell-db663b302824cd7d",
     "locked": true,
     "schema_version": 3,
     "solution": false,
     "task": false
    }
   },
   "source": [
    "# Tutorial: Clustering\n",
    "\n",
    "This worksheet covers the [Clustering](https://datasciencebook.ca/clustering.html) chapter of the online textbook, which also lists the learning objectives for this worksheet. You should read the textbook chapter before attempting this worksheet. "
   ]
  },
  {
   "cell_type": "code",
   "execution_count": null,
   "metadata": {
    "deletable": false,
    "editable": false,
    "nbgrader": {
     "cell_type": "code",
     "checksum": "f3a6434e11ac1504c1b78ef3e3ace78c",
     "grade": false,
     "grade_id": "cell-ba8a0ce0b51b8fde",
     "locked": true,
     "schema_version": 3,
     "solution": false,
     "task": false
    }
   },
   "outputs": [],
   "source": [
    "### Run this cell before continuing.\n",
    "library(tidyverse)\n",
    "library(tidymodels)\n",
    "library(tidyclust)\n",
    "library(repr)\n",
    "library(GGally)\n",
    "options(repr.matrix.max.rows = 6)\n",
    "source(\"cleanup.R\")"
   ]
  },
  {
   "cell_type": "markdown",
   "metadata": {
    "deletable": false,
    "editable": false,
    "nbgrader": {
     "cell_type": "markdown",
     "checksum": "8ea2604c66051b318576c2ff2ed9c669",
     "grade": false,
     "grade_id": "cell-335e796389da4d08",
     "locked": true,
     "schema_version": 3,
     "solution": false,
     "task": false
    }
   },
   "source": [
    "# 1. Pokemon\n",
    "\n",
    "We will be working with the Pokemon dataset from Kaggle, which can be found [here.](https://www.kaggle.com/abcsds/pokemon)\n",
    "This dataset compiles the statistics on 721 Pokemon. The information in this dataset includes Pokemon name, type, health points, attack strength, defensive strength, speed points etc. These are values that apply to a Pokemon's abilities (higher values are better). We are interested in seeing if there are any sub-groups/clusters of pokemon based on these statistics. And if so, how many sub-groups/clusters there are.\n",
    "\n",
    "![](https://media.giphy.com/media/3oEduV4SOS9mmmIOkw/giphy.gif)\n",
    "\n",
    "Source: https://media.giphy.com/media/3oEduV4SOS9mmmIOkw/giphy.gif\n"
   ]
  },
  {
   "cell_type": "markdown",
   "metadata": {
    "deletable": false,
    "editable": false,
    "nbgrader": {
     "cell_type": "markdown",
     "checksum": "0f8ac73309a776011deb7bb42300f636",
     "grade": false,
     "grade_id": "cell-3a7fda306bcdb24f",
     "locked": true,
     "schema_version": 3,
     "solution": false,
     "task": false
    }
   },
   "source": [
    "**Question 1.0**\n",
    "<br> {points: 1}\n",
    "\n",
    "Use `read_csv` to load `pokemon.csv` from the `data/` folder. \n",
    "\n",
    "*Assign your answer to an object called `pokemon_full`.*"
   ]
  },
  {
   "cell_type": "code",
   "execution_count": null,
   "metadata": {
    "deletable": false,
    "nbgrader": {
     "cell_type": "code",
     "checksum": "77826a0ca918cade848107422e183073",
     "grade": false,
     "grade_id": "cell-93b37b4e6bdc331a",
     "locked": false,
     "schema_version": 3,
     "solution": true
    }
   },
   "outputs": [],
   "source": [
    "# your code here\n",
    "fail() # No Answer - remove if you provide an answer\n",
    "pokemon_full"
   ]
  },
  {
   "cell_type": "code",
   "execution_count": null,
   "metadata": {
    "deletable": false,
    "editable": false,
    "nbgrader": {
     "cell_type": "code",
     "checksum": "8491feadd32301722b4e04fa3b98277c",
     "grade": true,
     "grade_id": "cell-56bc2b189beffa61",
     "locked": true,
     "points": 1,
     "schema_version": 3,
     "solution": false
    }
   },
   "outputs": [],
   "source": [
    "library(digest)\n",
    "stopifnot(\"pokemon_full should be a data frame\"= setequal(digest(paste(toString('data.frame' %in% class(pokemon_full)), \"1aa94\")), \"d8722c332261a7eb8df34a29070f0b96\"))\n",
    "stopifnot(\"dimensions of pokemon_full are not correct\"= setequal(digest(paste(toString(dim(pokemon_full)), \"1aa94\")), \"cb9950d5f186426c1413a04dd82c705c\"))\n",
    "stopifnot(\"column names of pokemon_full are not correct\"= setequal(digest(paste(toString(sort(colnames(pokemon_full))), \"1aa94\")), \"27e0d34718e8e114842877550ebbf53c\"))\n",
    "stopifnot(\"types of columns in pokemon_full are not correct\"= setequal(digest(paste(toString(sort(unlist(sapply(pokemon_full, class)))), \"1aa94\")), \"c9687dc54b80fe8ee894aa3fce4ed9b8\"))\n",
    "stopifnot(\"values in one or more numerical columns in pokemon_full are not correct\"= setequal(digest(paste(toString(if (any(sapply(pokemon_full, is.numeric))) sort(round(sapply(pokemon_full[, sapply(pokemon_full, is.numeric)], sum, na.rm = TRUE), 2)) else 0), \"1aa94\")), \"52e4958b6e65eef8878476becd605fcc\"))\n",
    "stopifnot(\"values in one or more character columns in pokemon_full are not correct\"= setequal(digest(paste(toString(if (any(sapply(pokemon_full, is.character))) sum(sapply(pokemon_full[sapply(pokemon_full, is.character)], function(x) length(unique(x)))) else 0), \"1aa94\")), \"79ea32a0828eb09672d7a4cd9c5fc1ae\"))\n",
    "stopifnot(\"values in one or more factor columns in pokemon_full are not correct\"= setequal(digest(paste(toString(if (any(sapply(pokemon_full, is.factor))) sum(sapply(pokemon_full[, sapply(pokemon_full, is.factor)], function(col) length(unique(col)))) else 0), \"1aa94\")), \"1b3d9adf33ab1ab2b6e027384c274af6\"))\n",
    "\n",
    "print('Success!')"
   ]
  },
  {
   "cell_type": "markdown",
   "metadata": {
    "deletable": false,
    "editable": false,
    "nbgrader": {
     "cell_type": "markdown",
     "checksum": "0069872c0a2b4b61012143c2c91c32da",
     "grade": false,
     "grade_id": "cell-8b5b24126c2e31c8",
     "locked": true,
     "schema_version": 3,
     "solution": false,
     "task": false
    }
   },
   "source": [
    "**Question 1.1**\n",
    "<br> {points: 1}\n",
    "\n",
    "To start exploring the Pokemon data, create a scatter plot matrix (or pairplot) using `ggpairs`. The plot should only contain the columns `Total` to `Speed` from `pokemon_full`. You can check the data wrangling chapter in the textbook to recall how to select a range of columns using `select` with `:`.\n",
    "\n",
    "*Assign your answer to an object called `pokemon_pairs`. Make sure to set a suitable size for the plot.*"
   ]
  },
  {
   "cell_type": "code",
   "execution_count": null,
   "metadata": {
    "deletable": false,
    "nbgrader": {
     "cell_type": "code",
     "checksum": "9b1284ffbbe3e504b565fec1ad895abf",
     "grade": false,
     "grade_id": "cell-99f98d1dbb944409",
     "locked": false,
     "schema_version": 3,
     "solution": true
    }
   },
   "outputs": [],
   "source": [
    "# options(...)\n",
    "#\n",
    "# ... <- pokemon_full |> ... |>\n",
    "#     ggpairs(aes(alpha = 0.05)) +\n",
    "#     theme(text = element_text(size = 20))\n",
    "\n",
    "# your code here\n",
    "fail() # No Answer - remove if you provide an answer\n",
    "pokemon_pairs"
   ]
  },
  {
   "cell_type": "code",
   "execution_count": null,
   "metadata": {
    "deletable": false,
    "editable": false,
    "nbgrader": {
     "cell_type": "code",
     "checksum": "8c20d217d17e423084c1561ac0382ece",
     "grade": true,
     "grade_id": "cell-2c58b1e298c054ef",
     "locked": true,
     "points": 1,
     "schema_version": 3,
     "solution": false,
     "task": false
    }
   },
   "outputs": [],
   "source": [
    "library(digest)\n",
    "stopifnot(\"type of 'ggmatrix' %in% c(class(pokemon_pairs)) is not logical\"= setequal(digest(paste(toString(class('ggmatrix' %in% c(class(pokemon_pairs)))), \"27255\")), \"91690584d223b3c9e219098e717348b5\"))\n",
    "stopifnot(\"logical value of 'ggmatrix' %in% c(class(pokemon_pairs)) is not correct\"= setequal(digest(paste(toString('ggmatrix' %in% c(class(pokemon_pairs))), \"27255\")), \"fb42f48882e4435d9cd7cfa2928340f9\"))\n",
    "\n",
    "stopifnot(\"type of sort(pokemon_pairs$xAxisLabels) is not character\"= setequal(digest(paste(toString(class(sort(pokemon_pairs$xAxisLabels))), \"27256\")), \"02ccace9144085f83a1ac71af90d900b\"))\n",
    "stopifnot(\"length of sort(pokemon_pairs$xAxisLabels) is not correct\"= setequal(digest(paste(toString(length(sort(pokemon_pairs$xAxisLabels))), \"27256\")), \"16a38c5ae066350e3b2a8772d0fed2b0\"))\n",
    "stopifnot(\"value of sort(pokemon_pairs$xAxisLabels) is not correct\"= setequal(digest(paste(toString(tolower(sort(pokemon_pairs$xAxisLabels))), \"27256\")), \"370d89318f12662579d68a5ff348e6a2\"))\n",
    "stopifnot(\"letters in string value of sort(pokemon_pairs$xAxisLabels) are correct but case is not correct\"= setequal(digest(paste(toString(sort(pokemon_pairs$xAxisLabels)), \"27256\")), \"320e229d2d0a24ca2d29c09804e4c329\"))\n",
    "\n",
    "stopifnot(\"type of nrow(pokemon_pairs$data) is not integer\"= setequal(digest(paste(toString(class(nrow(pokemon_pairs$data))), \"27257\")), \"6afeb13a322705823ae0360b6e32b92f\"))\n",
    "stopifnot(\"length of nrow(pokemon_pairs$data) is not correct\"= setequal(digest(paste(toString(length(nrow(pokemon_pairs$data))), \"27257\")), \"1a06bfef1da6c8667c903e6fa84df486\"))\n",
    "stopifnot(\"values of nrow(pokemon_pairs$data) are not correct\"= setequal(digest(paste(toString(sort(nrow(pokemon_pairs$data))), \"27257\")), \"70a9e4b52d5491d4a73d8bb1dee1a716\"))\n",
    "\n",
    "stopifnot(\"type of ncol(pokemon_pairs$data) is not integer\"= setequal(digest(paste(toString(class(ncol(pokemon_pairs$data))), \"27258\")), \"7f02144cb9ae54825300767439bfcbf2\"))\n",
    "stopifnot(\"length of ncol(pokemon_pairs$data) is not correct\"= setequal(digest(paste(toString(length(ncol(pokemon_pairs$data))), \"27258\")), \"5b9a3f16e2c1fcb1f9a247bcc2e26aba\"))\n",
    "stopifnot(\"values of ncol(pokemon_pairs$data) are not correct\"= setequal(digest(paste(toString(sort(ncol(pokemon_pairs$data))), \"27258\")), \"196bdfa7194cc08033edb3bd513ad6fc\"))\n",
    "\n",
    "print('Success!')"
   ]
  },
  {
   "cell_type": "markdown",
   "metadata": {
    "deletable": false,
    "editable": false,
    "nbgrader": {
     "cell_type": "markdown",
     "checksum": "58fb80e00497cbfb626738ffb50e87f3",
     "grade": false,
     "grade_id": "cell-06840762f3593761",
     "locked": true,
     "schema_version": 3,
     "solution": false,
     "task": false
    }
   },
   "source": [
    "**Question 1.2** \n",
    "<br> {points: 1}\n",
    "\n",
    "From the pairplot above, it does not look like the pokemon are separated into clear groups in any of the pairwise variable scatterplots. Here, we will continue exploring the relationship between `Speed` and `Defense` and see what happens if we try to cluster the data points on these two variables although there are no visually discernable variables in the chart.\n",
    "\n",
    "First, select the columns `Speed` and `Defense`, creating a new dataframe with only those columns.\n",
    "\n",
    "*Assign your answer to an object named `pokemon`.*"
   ]
  },
  {
   "cell_type": "code",
   "execution_count": null,
   "metadata": {
    "deletable": false,
    "nbgrader": {
     "cell_type": "code",
     "checksum": "4f52be9e482210cda175ce3076d25159",
     "grade": false,
     "grade_id": "cell-de22d18cc98375ce",
     "locked": false,
     "schema_version": 3,
     "solution": true
    }
   },
   "outputs": [],
   "source": [
    "# your code here\n",
    "fail() # No Answer - remove if you provide an answer\n",
    "pokemon"
   ]
  },
  {
   "cell_type": "code",
   "execution_count": null,
   "metadata": {
    "deletable": false,
    "editable": false,
    "nbgrader": {
     "cell_type": "code",
     "checksum": "e131fdbd4cc9ff35de31e7776eaea3db",
     "grade": true,
     "grade_id": "cell-b62427bf6857eae0",
     "locked": true,
     "points": 1,
     "schema_version": 3,
     "solution": false
    }
   },
   "outputs": [],
   "source": [
    "library(digest)\n",
    "stopifnot(\"pokemon should be a data frame\"= setequal(digest(paste(toString('data.frame' %in% class(pokemon)), \"708e0\")), \"3c3509ecd49a0a5b15ba077575895d0e\"))\n",
    "stopifnot(\"dimensions of pokemon are not correct\"= setequal(digest(paste(toString(dim(pokemon)), \"708e0\")), \"bb82512a869ae129e3610da253ba2446\"))\n",
    "stopifnot(\"column names of pokemon are not correct\"= setequal(digest(paste(toString(sort(colnames(pokemon))), \"708e0\")), \"1253d89295645c4b605c4b472082858e\"))\n",
    "stopifnot(\"types of columns in pokemon are not correct\"= setequal(digest(paste(toString(sort(unlist(sapply(pokemon, class)))), \"708e0\")), \"f92d756b33856a87b9598c385b0a0b53\"))\n",
    "stopifnot(\"values in one or more numerical columns in pokemon are not correct\"= setequal(digest(paste(toString(if (any(sapply(pokemon, is.numeric))) sort(round(sapply(pokemon[, sapply(pokemon, is.numeric)], sum, na.rm = TRUE), 2)) else 0), \"708e0\")), \"8d13a28eead10298f1a2b08a17fdd0f4\"))\n",
    "stopifnot(\"values in one or more character columns in pokemon are not correct\"= setequal(digest(paste(toString(if (any(sapply(pokemon, is.character))) sum(sapply(pokemon[sapply(pokemon, is.character)], function(x) length(unique(x)))) else 0), \"708e0\")), \"2e8362aa0b66a4c7d8cc327ff394bacd\"))\n",
    "stopifnot(\"values in one or more factor columns in pokemon are not correct\"= setequal(digest(paste(toString(if (any(sapply(pokemon, is.factor))) sum(sapply(pokemon[, sapply(pokemon, is.factor)], function(col) length(unique(col)))) else 0), \"708e0\")), \"2e8362aa0b66a4c7d8cc327ff394bacd\"))\n",
    "\n",
    "print('Success!')"
   ]
  },
  {
   "cell_type": "markdown",
   "metadata": {
    "deletable": false,
    "editable": false,
    "nbgrader": {
     "cell_type": "markdown",
     "checksum": "530deb931843abd009e6d148a8adaabc",
     "grade": false,
     "grade_id": "cell-00594a9799b8a20c",
     "locked": true,
     "schema_version": 3,
     "solution": false,
     "task": false
    }
   },
   "source": [
    "**Question 1.3**\n",
    "<br> {points: 1}\n",
    "\n",
    "Next, create a scatter plot of only these two variables so that we can look close at their relationship. Put the `Speed` variable on the x-axis, and the `Defense` variable on the y-axis.\n",
    "\n",
    "*Assign your plot to an object called `pokemon_scatter`. Don't forget to do everything needed to make an effective visualization, including setting an appropriate `alpha` value of the points.*"
   ]
  },
  {
   "cell_type": "code",
   "execution_count": null,
   "metadata": {
    "deletable": false,
    "nbgrader": {
     "cell_type": "code",
     "checksum": "ace6fb31692d3631f6e8e150c0674563",
     "grade": false,
     "grade_id": "cell-8ff6e2b975075cae",
     "locked": false,
     "schema_version": 3,
     "solution": true
    }
   },
   "outputs": [],
   "source": [
    "# your code here\n",
    "fail() # No Answer - remove if you provide an answer\n",
    "pokemon_scatter"
   ]
  },
  {
   "cell_type": "code",
   "execution_count": null,
   "metadata": {
    "deletable": false,
    "editable": false,
    "nbgrader": {
     "cell_type": "code",
     "checksum": "b14cc728197e2e5fcea25e10e8ee4696",
     "grade": true,
     "grade_id": "cell-1b9d09e256e4b281",
     "locked": true,
     "points": 1,
     "schema_version": 3,
     "solution": false
    }
   },
   "outputs": [],
   "source": [
    "library(digest)\n",
    "stopifnot(\"type of plot is not correct (if you are using two types of geoms, try flipping the order of the geom objects!)\"= setequal(digest(paste(toString(sapply(seq_len(length(pokemon_scatter$layers)), function(i) {c(class(pokemon_scatter$layers[[i]]$geom))[1]})), \"cf66a\")), \"ef19a90ef15880e21918b3e3b72c5c1c\"))\n",
    "stopifnot(\"variable x is not correct\"= setequal(digest(paste(toString(unlist(lapply(sapply(seq_len(length(pokemon_scatter$layers)), function(i) {rlang::get_expr(c(pokemon_scatter$layers[[i]]$mapping, pokemon_scatter$mapping)$x)}), as.character))), \"cf66a\")), \"79f75baeacdfe656140fe1afef3aaa16\"))\n",
    "stopifnot(\"variable y is not correct\"= setequal(digest(paste(toString(unlist(lapply(sapply(seq_len(length(pokemon_scatter$layers)), function(i) {rlang::get_expr(c(pokemon_scatter$layers[[i]]$mapping, pokemon_scatter$mapping)$y)}), as.character))), \"cf66a\")), \"d4c63b39022174ec6bc1061d2f168eac\"))\n",
    "stopifnot(\"x-axis label is not descriptive, nicely formatted, or human readable\"= setequal(digest(paste(toString(rlang::get_expr(c(pokemon_scatter$layers[[1]]$mapping, pokemon_scatter$mapping)$x)!= pokemon_scatter$labels$x), \"cf66a\")), \"2b4b02f943dbceec362dc3394c74d5ea\"))\n",
    "stopifnot(\"y-axis label is not descriptive, nicely formatted, or human readable\"= setequal(digest(paste(toString(rlang::get_expr(c(pokemon_scatter$layers[[1]]$mapping, pokemon_scatter$mapping)$y)!= pokemon_scatter$labels$y), \"cf66a\")), \"2b4b02f943dbceec362dc3394c74d5ea\"))\n",
    "stopifnot(\"incorrect colour variable in pokemon_scatter, specify a correct one if required\"= setequal(digest(paste(toString(rlang::get_expr(c(pokemon_scatter$layers[[1]]$mapping, pokemon_scatter$mapping)$colour)), \"cf66a\")), \"0400c036fa8d4de2dd6e8ee92ece682d\"))\n",
    "stopifnot(\"incorrect shape variable in pokemon_scatter, specify a correct one if required\"= setequal(digest(paste(toString(rlang::get_expr(c(pokemon_scatter$layers[[1]]$mapping, pokemon_scatter$mapping)$shape)), \"cf66a\")), \"0400c036fa8d4de2dd6e8ee92ece682d\"))\n",
    "stopifnot(\"the colour label in pokemon_scatter is not descriptive, nicely formatted, or human readable\"= setequal(digest(paste(toString(rlang::get_expr(c(pokemon_scatter$layers[[1]]$mapping, pokemon_scatter$mapping)$colour) != pokemon_scatter$labels$colour), \"cf66a\")), \"0400c036fa8d4de2dd6e8ee92ece682d\"))\n",
    "stopifnot(\"the shape label in pokemon_scatter is not descriptive, nicely formatted, or human readable\"= setequal(digest(paste(toString(rlang::get_expr(c(pokemon_scatter$layers[[1]]$mapping, pokemon_scatter$mapping)$colour) != pokemon_scatter$labels$shape), \"cf66a\")), \"0400c036fa8d4de2dd6e8ee92ece682d\"))\n",
    "stopifnot(\"fill variable in pokemon_scatter is not correct\"= setequal(digest(paste(toString(quo_name(pokemon_scatter$mapping$fill)), \"cf66a\")), \"ea60d61b6604c7ee845e572d18f38bbe\"))\n",
    "stopifnot(\"fill label in pokemon_scatter is not informative\"= setequal(digest(paste(toString((quo_name(pokemon_scatter$mapping$fill) != pokemon_scatter$labels$fill)), \"cf66a\")), \"0400c036fa8d4de2dd6e8ee92ece682d\"))\n",
    "stopifnot(\"position argument in pokemon_scatter is not correct\"= setequal(digest(paste(toString(class(pokemon_scatter$layers[[1]]$position)[1]), \"cf66a\")), \"b2dd569853eaf1b0c70f612a50dfc565\"))\n",
    "\n",
    "stopifnot(\"pokemon_scatter$data should be a data frame\"= setequal(digest(paste(toString('data.frame' %in% class(pokemon_scatter$data)), \"cf66b\")), \"c51723a5c89616ef4c70c6f1ee0fe4d4\"))\n",
    "stopifnot(\"dimensions of pokemon_scatter$data are not correct\"= setequal(digest(paste(toString(dim(pokemon_scatter$data)), \"cf66b\")), \"6f0e7394ce5d36ba354306be4f7417a6\"))\n",
    "stopifnot(\"column names of pokemon_scatter$data are not correct\"= setequal(digest(paste(toString(sort(colnames(pokemon_scatter$data))), \"cf66b\")), \"980dfa932c3dfeaa173c437736fd6316\"))\n",
    "stopifnot(\"types of columns in pokemon_scatter$data are not correct\"= setequal(digest(paste(toString(sort(unlist(sapply(pokemon_scatter$data, class)))), \"cf66b\")), \"65dfe487d25a56c0e18aa3d556df25a1\"))\n",
    "stopifnot(\"values in one or more numerical columns in pokemon_scatter$data are not correct\"= setequal(digest(paste(toString(if (any(sapply(pokemon_scatter$data, is.numeric))) sort(round(sapply(pokemon_scatter$data[, sapply(pokemon_scatter$data, is.numeric)], sum, na.rm = TRUE), 2)) else 0), \"cf66b\")), \"b89544bcf7d86f48f70e6011bf8ebdb5\"))\n",
    "stopifnot(\"values in one or more character columns in pokemon_scatter$data are not correct\"= setequal(digest(paste(toString(if (any(sapply(pokemon_scatter$data, is.character))) sum(sapply(pokemon_scatter$data[sapply(pokemon_scatter$data, is.character)], function(x) length(unique(x)))) else 0), \"cf66b\")), \"58722f8302fb2e519f7c6b05801d8d7e\"))\n",
    "stopifnot(\"values in one or more factor columns in pokemon_scatter$data are not correct\"= setequal(digest(paste(toString(if (any(sapply(pokemon_scatter$data, is.factor))) sum(sapply(pokemon_scatter$data[, sapply(pokemon_scatter$data, is.factor)], function(col) length(unique(col)))) else 0), \"cf66b\")), \"58722f8302fb2e519f7c6b05801d8d7e\"))\n",
    "\n",
    "print('Success!')"
   ]
  },
  {
   "cell_type": "markdown",
   "metadata": {
    "deletable": false,
    "editable": false,
    "nbgrader": {
     "cell_type": "markdown",
     "checksum": "f70b5b0ec3b3004db4c0713db4c6ab23",
     "grade": false,
     "grade_id": "cell-e283e593af5c7ab9",
     "locked": true,
     "schema_version": 3,
     "solution": false,
     "task": false
    }
   },
   "source": [
    "**Question 1.4.1** \n",
    "<br> {points: 3}\n",
    "\n",
    "The chart above confirms what we saw in the pairplot; there doesn't seem to be visually distinct clusters of points in these two dimensions. Could it still be informative to run clustering with this data? Let's find out by using K-Means to cluster the Pokemon based on their `Speed` and `Defense`.\n",
    "\n",
    "So far when using K-Means, we have scaled our input features. Will it matter much for our clustering if we scale our variables for the pokemon data? Is there any argument against scaling here?"
   ]
  },
  {
   "cell_type": "markdown",
   "metadata": {
    "deletable": false,
    "nbgrader": {
     "cell_type": "markdown",
     "checksum": "fdf9906c600ed77e3b49a219c8d8dadb",
     "grade": true,
     "grade_id": "cell-edacf7e978d30e23",
     "locked": false,
     "points": 3,
     "schema_version": 3,
     "solution": true,
     "task": false
    }
   },
   "source": [
    "DOUBLE CLICK TO EDIT **THIS CELL** AND REPLACE THIS TEXT WITH YOUR ANSWER."
   ]
  },
  {
   "cell_type": "markdown",
   "metadata": {
    "deletable": false,
    "editable": false,
    "nbgrader": {
     "cell_type": "markdown",
     "checksum": "82e26699ecb922a66e87a41a6f0d6ff6",
     "grade": false,
     "grade_id": "cell-2eeb002c9e35f5a9",
     "locked": true,
     "schema_version": 3,
     "solution": false,
     "task": false
    }
   },
   "source": [
    "**Question 1.4.2**\n",
    "<br> {points: 1}\n",
    "\n",
    "Now, let's use K-means to cluster the Pokemon based on their `Speed` and `Defense` variables.\n",
    "- Create a recipe named `pokemon_recipe` that standardizes the data\n",
    "- Create a model specification named `pokemon_spec` for K-means clustering with 4 clusters. \n",
    "- Fit the model using a `tidymodels` workflow; call the output of the `fit()` function `pokemon_clustering`.\n",
    "\n",
    "*Assign your answers to objects called `pokemon_recipe`, `pokemon_spec`, and `pokemon_clustering`.*\n",
    "\n",
    "**Note:** We set the random seed here because K-means initializes observations to random clusters."
   ]
  },
  {
   "cell_type": "code",
   "execution_count": null,
   "metadata": {
    "deletable": false,
    "nbgrader": {
     "cell_type": "code",
     "checksum": "8bad89bee12d007456df5771ae48e488",
     "grade": false,
     "grade_id": "cell-c065f6a8d813ae2e",
     "locked": false,
     "schema_version": 3,
     "solution": true
    }
   },
   "outputs": [],
   "source": [
    "#DON'T CHANGE THE SEED VALUE BELOW!\n",
    "set.seed(2019)\n",
    "\n",
    "# your code here\n",
    "fail() # No Answer - remove if you provide an answer\n",
    "pokemon_clustering"
   ]
  },
  {
   "cell_type": "code",
   "execution_count": null,
   "metadata": {
    "deletable": false,
    "editable": false,
    "nbgrader": {
     "cell_type": "code",
     "checksum": "19cca5131f3fff5d59fa596b8ab64b45",
     "grade": true,
     "grade_id": "cell-b899d544a0fec2ea",
     "locked": true,
     "points": 1,
     "schema_version": 3,
     "solution": false
    }
   },
   "outputs": [],
   "source": [
    "library(digest)\n",
    "stopifnot(\"pokemon_recipe should be a recipe\"= setequal(digest(paste(toString('recipe' %in% class(pokemon_recipe)), \"58547\")), \"f5cff1c5bee02672dbf67dc61fd5df8d\"))\n",
    "stopifnot(\"response variable of pokemon_recipe is not correct\"= setequal(digest(paste(toString(sort(filter(pokemon_recipe$var_info, role == 'outcome')$variable)), \"58547\")), \"cd72c1f6151f9aec69357e0046b410d3\"))\n",
    "stopifnot(\"predictor variable(s) of pokemon_recipe are not correct\"= setequal(digest(paste(toString(sort(filter(pokemon_recipe$var_info, role == 'predictor')$variable)), \"58547\")), \"a289dc410476c2ed7231ad6b90ec5916\"))\n",
    "stopifnot(\"pokemon_recipe does not contain the correct data, might need to be standardized\"= setequal(digest(paste(toString(round(sum(bake(prep(pokemon_recipe), pokemon_recipe$template) %>% select_if(is.numeric), na.rm = TRUE), 2)), \"58547\")), \"12a809b2b1ccecb2ac476154c263b1bb\"))\n",
    "\n",
    "stopifnot(\"pokemon_spec should be a k_means model specification\"= setequal(digest(paste(toString('k_means' %in% class(pokemon_spec)), \"58548\")), \"6ca191120dfabdddb1465d1807b793de\"))\n",
    "stopifnot(\"pokemon_spec did not specify to use the correct number of centers\"= setequal(digest(paste(toString(quo_name(rlang::get_expr(pokemon_spec$args$num_clusters))), \"58548\")), \"1809f6b4eecd1fa6762d00fcd7d5ce85\"))\n",
    "stopifnot(\"the engine specified in pokemon_spec is not correct\"= setequal(digest(paste(toString(pokemon_spec$engine), \"58548\")), \"bb9602e7df33ac86dc1aa990e8603af8\"))\n",
    "stopifnot(\"the nstart argument is not correct\"= setequal(digest(paste(toString(rlang::get_expr(pokemon_spec$eng_args$nstart)), \"58548\")), \"7179329549a814d76d76e36276e32e40\"))\n",
    "\n",
    "stopifnot(\"pokemon_clustering should be a workflow\"= setequal(digest(paste(toString('workflow' %in% class(pokemon_clustering)), \"58549\")), \"656910c0f5d5900eeb4e4c390f56de5b\"))\n",
    "stopifnot(\"computational engine used in pokemon_clustering is not correct\"= setequal(digest(paste(toString(pokemon_clustering$fit$actions$model$spec$engine), \"58549\")), \"4348d7dd6e9f9059f6d125da8b5bb4aa\"))\n",
    "stopifnot(\"model specification used in pokemon_clustering is not correct\"= setequal(digest(paste(toString(pokemon_clustering$fit$actions$model$spec$mode), \"58549\")), \"b24d804a4ad943e33d78d4c0b15aec0a\"))\n",
    "stopifnot(\"pokemon_clustering must be a trained workflow, make sure to call the fit() function\"= setequal(digest(paste(toString(pokemon_clustering$trained), \"58549\")), \"656910c0f5d5900eeb4e4c390f56de5b\"))\n",
    "stopifnot(\"predictor variable(s) of pokemon_clustering are not correct\"= setequal(digest(paste(toString(sort(filter(pokemon_clustering$pre$actions$recipe$recipe$var_info, role == 'predictor')$variable)), \"58549\")), \"22b8040f44974f1908251c2fa9186695\"))\n",
    "stopifnot(\"pokemon_clustering does not contain the correct data\"= setequal(digest(paste(toString(sort(vapply(pokemon_clustering$pre$mold$predictors[, sapply(pokemon_clustering$pre$mold$predictors, is.numeric)], function(col) if(!is.null(col)) round(sum(col), 2) else NA_real_, numeric(1)), na.last = NA)), \"58549\")), \"69b1b77de79aeceeed45bdb82ace807b\"))\n",
    "stopifnot(\"did not fit pokemon_clustering on the training dataset\"= setequal(digest(paste(toString(nrow(pokemon_clustering$pre$mold$outcomes)), \"58549\")), \"2844fc65413544e49f4dfd00469a65b9\"))\n",
    "stopifnot(\"for classification/regression models, weight function is not correct\"= setequal(digest(paste(toString(quo_name(pokemon_clustering$fit$actions$model$spec$args$weight_func)), \"58549\")), \"37a2b0c2bc2f660adfd7348864f3888d\"))\n",
    "stopifnot(\"for classification/regression models, response variable of pokemon_clustering is not correct\"= setequal(digest(paste(toString(sort(filter(pokemon_clustering$pre$actions$recipe$recipe$var_info, role == 'outcome')$variable)), \"58549\")), \"768199d025ec8a0887c54dc347aff6af\"))\n",
    "stopifnot(\"for KNN models, number of neighbours is not correct\"= setequal(digest(paste(toString(quo_name(pokemon_clustering$fit$actions$model$spec$args$neighbors)), \"58549\")), \"37a2b0c2bc2f660adfd7348864f3888d\"))\n",
    "stopifnot(\"for clustering models, the clustering is not correct\"= setequal(digest(paste(toString(pokemon_clustering$fit$fit$fit$cluster), \"58549\")), \"1d2d3e92f6b7d8ceb859ac52a924bace\"))\n",
    "stopifnot(\"for clustering models, the total within-cluster sum-of-squared distances is not correct\"= setequal(digest(paste(toString(if (!is.null(pokemon_clustering$fit$fit$fit$tot.withinss)) round(pokemon_clustering$fit$fit$fit$tot.withinss, 2) else NULL), \"58549\")), \"ffc2d844f28a1ec04d92a77d0ecf19ed\"))\n",
    "\n",
    "print('Success!')"
   ]
  },
  {
   "cell_type": "markdown",
   "metadata": {
    "deletable": false,
    "editable": false,
    "nbgrader": {
     "cell_type": "markdown",
     "checksum": "a35e91757f5223de624df71d245a0bef",
     "grade": false,
     "grade_id": "cell-1b5587eac432619f",
     "locked": true,
     "schema_version": 3,
     "solution": false
    }
   },
   "source": [
    "**Question 1.5**\n",
    "<br> {points: 1}\n",
    "\n",
    "Let's visualize the clusters we built in `pokemon_clustering`. Use the `augment` function to create a dataframe called `clustered_pokemon`, then create a coloured scatter plot of `Speed` (x-axis) vs `Defense` (y-axis), with the points coloured by their cluster assignment. \n",
    "\n",
    "Name this plot `pokemon_clustering_plot`."
   ]
  },
  {
   "cell_type": "code",
   "execution_count": null,
   "metadata": {
    "deletable": false,
    "nbgrader": {
     "cell_type": "code",
     "checksum": "27e8e577251b6bdb38d6e9c9f4f98918",
     "grade": false,
     "grade_id": "cell-bed28462923104b0",
     "locked": false,
     "schema_version": 3,
     "solution": true
    }
   },
   "outputs": [],
   "source": [
    "# your code here\n",
    "fail() # No Answer - remove if you provide an answer\n",
    "pokemon_clustering_plot"
   ]
  },
  {
   "cell_type": "code",
   "execution_count": null,
   "metadata": {
    "deletable": false,
    "editable": false,
    "nbgrader": {
     "cell_type": "code",
     "checksum": "076fe2078e7ed45623b6afba843096f7",
     "grade": true,
     "grade_id": "cell-2d872f629c06cf4d",
     "locked": true,
     "points": 1,
     "schema_version": 3,
     "solution": false
    }
   },
   "outputs": [],
   "source": [
    "library(digest)\n",
    "stopifnot(\"clustered_pokemon should be a data frame\"= setequal(digest(paste(toString('data.frame' %in% class(clustered_pokemon)), \"5af6f\")), \"d69c810441f5d1dc01756420773306a5\"))\n",
    "stopifnot(\"dimensions of clustered_pokemon are not correct\"= setequal(digest(paste(toString(dim(clustered_pokemon)), \"5af6f\")), \"b2cac8f60431ce5cfe1921307dadbdd2\"))\n",
    "stopifnot(\"column names of clustered_pokemon are not correct\"= setequal(digest(paste(toString(sort(colnames(clustered_pokemon))), \"5af6f\")), \"efe3857cd7aa9d070c0c2f016749607a\"))\n",
    "stopifnot(\"types of columns in clustered_pokemon are not correct\"= setequal(digest(paste(toString(sort(unlist(sapply(clustered_pokemon, class)))), \"5af6f\")), \"e7c03bb6e0a99f09ac1a786377e69ee4\"))\n",
    "stopifnot(\"values in one or more numerical columns in clustered_pokemon are not correct\"= setequal(digest(paste(toString(if (any(sapply(clustered_pokemon, is.numeric))) sort(round(sapply(clustered_pokemon[, sapply(clustered_pokemon, is.numeric)], sum, na.rm = TRUE), 2)) else 0), \"5af6f\")), \"565487bb5c95bf8b32750dec495ba407\"))\n",
    "stopifnot(\"values in one or more character columns in clustered_pokemon are not correct\"= setequal(digest(paste(toString(if (any(sapply(clustered_pokemon, is.character))) sum(sapply(clustered_pokemon[sapply(clustered_pokemon, is.character)], function(x) length(unique(x)))) else 0), \"5af6f\")), \"940dd52de52d4e5f2b3c7386b579140e\"))\n",
    "stopifnot(\"values in one or more factor columns in clustered_pokemon are not correct\"= setequal(digest(paste(toString(if (any(sapply(clustered_pokemon, is.factor))) sum(sapply(clustered_pokemon[, sapply(clustered_pokemon, is.factor)], function(col) length(unique(col)))) else 0), \"5af6f\")), \"b1929cbe0ddf12deca48095b2720bf6c\"))\n",
    "\n",
    "stopifnot(\"type of plot is not correct (if you are using two types of geoms, try flipping the order of the geom objects!)\"= setequal(digest(paste(toString(sapply(seq_len(length(pokemon_clustering_plot$layers)), function(i) {c(class(pokemon_clustering_plot$layers[[i]]$geom))[1]})), \"5af70\")), \"f8ca3113e784f61eea2d0c8de9a217cb\"))\n",
    "stopifnot(\"variable x is not correct\"= setequal(digest(paste(toString(unlist(lapply(sapply(seq_len(length(pokemon_clustering_plot$layers)), function(i) {rlang::get_expr(c(pokemon_clustering_plot$layers[[i]]$mapping, pokemon_clustering_plot$mapping)$x)}), as.character))), \"5af70\")), \"a81226e5e07f71f2fc93f81f8a36d820\"))\n",
    "stopifnot(\"variable y is not correct\"= setequal(digest(paste(toString(unlist(lapply(sapply(seq_len(length(pokemon_clustering_plot$layers)), function(i) {rlang::get_expr(c(pokemon_clustering_plot$layers[[i]]$mapping, pokemon_clustering_plot$mapping)$y)}), as.character))), \"5af70\")), \"3cceaa6886acaecba19fcf6915094075\"))\n",
    "stopifnot(\"x-axis label is not descriptive, nicely formatted, or human readable\"= setequal(digest(paste(toString(rlang::get_expr(c(pokemon_clustering_plot$layers[[1]]$mapping, pokemon_clustering_plot$mapping)$x)!= pokemon_clustering_plot$labels$x), \"5af70\")), \"f9a369b926cd34504e492a3313537f6f\"))\n",
    "stopifnot(\"y-axis label is not descriptive, nicely formatted, or human readable\"= setequal(digest(paste(toString(rlang::get_expr(c(pokemon_clustering_plot$layers[[1]]$mapping, pokemon_clustering_plot$mapping)$y)!= pokemon_clustering_plot$labels$y), \"5af70\")), \"f9a369b926cd34504e492a3313537f6f\"))\n",
    "stopifnot(\"incorrect colour variable in pokemon_clustering_plot, specify a correct one if required\"= setequal(digest(paste(toString(rlang::get_expr(c(pokemon_clustering_plot$layers[[1]]$mapping, pokemon_clustering_plot$mapping)$colour)), \"5af70\")), \"05e4fbeef61020b0e35c7a01fa06eedf\"))\n",
    "stopifnot(\"incorrect shape variable in pokemon_clustering_plot, specify a correct one if required\"= setequal(digest(paste(toString(rlang::get_expr(c(pokemon_clustering_plot$layers[[1]]$mapping, pokemon_clustering_plot$mapping)$shape)), \"5af70\")), \"a0b2a9bc799ed9c809316afb42dddebb\"))\n",
    "stopifnot(\"the colour label in pokemon_clustering_plot is not descriptive, nicely formatted, or human readable\"= setequal(digest(paste(toString(rlang::get_expr(c(pokemon_clustering_plot$layers[[1]]$mapping, pokemon_clustering_plot$mapping)$colour) != pokemon_clustering_plot$labels$colour), \"5af70\")), \"f9a369b926cd34504e492a3313537f6f\"))\n",
    "stopifnot(\"the shape label in pokemon_clustering_plot is not descriptive, nicely formatted, or human readable\"= setequal(digest(paste(toString(rlang::get_expr(c(pokemon_clustering_plot$layers[[1]]$mapping, pokemon_clustering_plot$mapping)$colour) != pokemon_clustering_plot$labels$shape), \"5af70\")), \"a0b2a9bc799ed9c809316afb42dddebb\"))\n",
    "stopifnot(\"fill variable in pokemon_clustering_plot is not correct\"= setequal(digest(paste(toString(quo_name(pokemon_clustering_plot$mapping$fill)), \"5af70\")), \"beffe3d3484f52140f90e7121421dd32\"))\n",
    "stopifnot(\"fill label in pokemon_clustering_plot is not informative\"= setequal(digest(paste(toString((quo_name(pokemon_clustering_plot$mapping$fill) != pokemon_clustering_plot$labels$fill)), \"5af70\")), \"a0b2a9bc799ed9c809316afb42dddebb\"))\n",
    "stopifnot(\"position argument in pokemon_clustering_plot is not correct\"= setequal(digest(paste(toString(class(pokemon_clustering_plot$layers[[1]]$position)[1]), \"5af70\")), \"196097e37d62448428f0841ddf703738\"))\n",
    "\n",
    "stopifnot(\"pokemon_clustering_plot$data should be a data frame\"= setequal(digest(paste(toString('data.frame' %in% class(pokemon_clustering_plot$data)), \"5af71\")), \"6ab9c39a08eadd3141a5ecbbdb40f048\"))\n",
    "stopifnot(\"dimensions of pokemon_clustering_plot$data are not correct\"= setequal(digest(paste(toString(dim(pokemon_clustering_plot$data)), \"5af71\")), \"445708a80ec7161bf61ae86ba852c253\"))\n",
    "stopifnot(\"column names of pokemon_clustering_plot$data are not correct\"= setequal(digest(paste(toString(sort(colnames(pokemon_clustering_plot$data))), \"5af71\")), \"34f96f4675f02313692669613f3a8a81\"))\n",
    "stopifnot(\"types of columns in pokemon_clustering_plot$data are not correct\"= setequal(digest(paste(toString(sort(unlist(sapply(pokemon_clustering_plot$data, class)))), \"5af71\")), \"2c7ec46df65cfbb940dd853fe19236b9\"))\n",
    "stopifnot(\"values in one or more numerical columns in pokemon_clustering_plot$data are not correct\"= setequal(digest(paste(toString(if (any(sapply(pokemon_clustering_plot$data, is.numeric))) sort(round(sapply(pokemon_clustering_plot$data[, sapply(pokemon_clustering_plot$data, is.numeric)], sum, na.rm = TRUE), 2)) else 0), \"5af71\")), \"ea7f8a697dc8e0c345d04184e320d845\"))\n",
    "stopifnot(\"values in one or more character columns in pokemon_clustering_plot$data are not correct\"= setequal(digest(paste(toString(if (any(sapply(pokemon_clustering_plot$data, is.character))) sum(sapply(pokemon_clustering_plot$data[sapply(pokemon_clustering_plot$data, is.character)], function(x) length(unique(x)))) else 0), \"5af71\")), \"902099d6ca07b8f640e270b70a6a8bdc\"))\n",
    "stopifnot(\"values in one or more factor columns in pokemon_clustering_plot$data are not correct\"= setequal(digest(paste(toString(if (any(sapply(pokemon_clustering_plot$data, is.factor))) sum(sapply(pokemon_clustering_plot$data[, sapply(pokemon_clustering_plot$data, is.factor)], function(col) length(unique(col)))) else 0), \"5af71\")), \"751f24917d4014708c1bd1a763d9c565\"))\n",
    "\n",
    "print('Success!')"
   ]
  },
  {
   "cell_type": "markdown",
   "metadata": {
    "deletable": false,
    "editable": false,
    "nbgrader": {
     "cell_type": "markdown",
     "checksum": "6518d151899fb02f8fe091d734882f80",
     "grade": false,
     "grade_id": "cell-537761aa7301039a",
     "locked": true,
     "schema_version": 3,
     "solution": false
    }
   },
   "source": [
    "**Question 1.6**\n",
    "<br> {points: 3}\n",
    "\n",
    "Below you can see multiple initializations of k-means with different seeds for `K = 4`. Can you explain what is happening and how we can mitigate this in the `k_means` function?\n",
    "\n",
    "![](imgs/multiple_initializations.png)"
   ]
  },
  {
   "cell_type": "markdown",
   "metadata": {
    "deletable": false,
    "nbgrader": {
     "cell_type": "markdown",
     "checksum": "11921da8ca218b0a0c2a8a84906a03b8",
     "grade": true,
     "grade_id": "cell-244a33f66284ac74",
     "locked": false,
     "points": 3,
     "schema_version": 3,
     "solution": true,
     "task": false
    }
   },
   "source": [
    "DOUBLE CLICK TO EDIT **THIS CELL** AND REPLACE THIS TEXT WITH YOUR ANSWER."
   ]
  },
  {
   "cell_type": "markdown",
   "metadata": {
    "deletable": false,
    "editable": false,
    "nbgrader": {
     "cell_type": "markdown",
     "checksum": "2f93a21bd3b15a8c7353af6f962647a9",
     "grade": false,
     "grade_id": "cell-7ad1ae102f2183fb",
     "locked": true,
     "schema_version": 3,
     "solution": false
    }
   },
   "source": [
    "**Question 1.7**\n",
    "<br> {points: 1}\n",
    "\n",
    "We know that comparing how the WSSD varies for multiple values of $K$ is an important step of selecting a suitable clustering model. That's what we will do next!\n",
    "\n",
    "For this exercise, you will calculate the total within-cluster sum-of-squared distances for $K$ = 1 to $K$ = 10.\n",
    "\n",
    "1. Create a tibble with the desired values of $K$.\n",
    "2. Create a new model specification that sets `nstart` to 10 and tells `k_means` you want to tune the number of clusters.\n",
    "3. Create a new workflow that uses `tune_cluster` to tune the number of clusters\n",
    "4. Use the `collect_metrics` function to collect the results.\n",
    "5. Use `filter`, `select`, and `mutate` functions to construct a tibble with two columns named `num_clusters` and `total_WSSD`. Store that tibble in an object named `elbow_stats`.\n",
    "\n",
    "\n",
    "*Assign your answer to a tibble object named `elbow_stats`. It should have the columns `num_clusters` and `total_WSSD`.*"
   ]
  },
  {
   "cell_type": "code",
   "execution_count": null,
   "metadata": {
    "deletable": false,
    "nbgrader": {
     "cell_type": "code",
     "checksum": "90c247083d99282b4c34a940bddfbc79",
     "grade": false,
     "grade_id": "cell-60b7743cfe0290e1",
     "locked": false,
     "schema_version": 3,
     "solution": true
    }
   },
   "outputs": [],
   "source": [
    "set.seed(2020) # DO NOT REMOVE\n",
    "\n",
    "# your code here\n",
    "fail() # No Answer - remove if you provide an answer\n",
    "elbow_stats"
   ]
  },
  {
   "cell_type": "code",
   "execution_count": null,
   "metadata": {
    "deletable": false,
    "editable": false,
    "nbgrader": {
     "cell_type": "code",
     "checksum": "9149c4b3412ddf7bca1500fda1c987e5",
     "grade": true,
     "grade_id": "cell-4431d9afb3d2822e",
     "locked": true,
     "points": 1,
     "schema_version": 3,
     "solution": false
    }
   },
   "outputs": [],
   "source": [
    "library(digest)\n",
    "stopifnot(\"mutate_all(elbow_stats, as.double) should be a data frame\"= setequal(digest(paste(toString('data.frame' %in% class(mutate_all(elbow_stats, as.double))), \"668f4\")), \"b09f8b084dc3207747aa50950f15cedf\"))\n",
    "stopifnot(\"dimensions of mutate_all(elbow_stats, as.double) are not correct\"= setequal(digest(paste(toString(dim(mutate_all(elbow_stats, as.double))), \"668f4\")), \"c48731b11615da6bbc0b5288f42af1e3\"))\n",
    "stopifnot(\"column names of mutate_all(elbow_stats, as.double) are not correct\"= setequal(digest(paste(toString(sort(colnames(mutate_all(elbow_stats, as.double)))), \"668f4\")), \"f0ce6c086e80ab8410df2feeca4069fb\"))\n",
    "stopifnot(\"types of columns in mutate_all(elbow_stats, as.double) are not correct\"= setequal(digest(paste(toString(sort(unlist(sapply(mutate_all(elbow_stats, as.double), class)))), \"668f4\")), \"98124f8dfa0d800b51e1a1626937b866\"))\n",
    "stopifnot(\"values in one or more numerical columns in mutate_all(elbow_stats, as.double) are not correct\"= setequal(digest(paste(toString(if (any(sapply(mutate_all(elbow_stats, as.double), is.numeric))) sort(round(sapply(mutate_all(elbow_stats, as.double)[, sapply(mutate_all(elbow_stats, as.double), is.numeric)], sum, na.rm = TRUE), 2)) else 0), \"668f4\")), \"53611d7fa2dbb7ef608fc384b9bb6381\"))\n",
    "stopifnot(\"values in one or more character columns in mutate_all(elbow_stats, as.double) are not correct\"= setequal(digest(paste(toString(if (any(sapply(mutate_all(elbow_stats, as.double), is.character))) sum(sapply(mutate_all(elbow_stats, as.double)[sapply(mutate_all(elbow_stats, as.double), is.character)], function(x) length(unique(x)))) else 0), \"668f4\")), \"56955cbeb9e8458fcd459bdfccf2e2af\"))\n",
    "stopifnot(\"values in one or more factor columns in mutate_all(elbow_stats, as.double) are not correct\"= setequal(digest(paste(toString(if (any(sapply(mutate_all(elbow_stats, as.double), is.factor))) sum(sapply(mutate_all(elbow_stats, as.double)[, sapply(mutate_all(elbow_stats, as.double), is.factor)], function(col) length(unique(col)))) else 0), \"668f4\")), \"56955cbeb9e8458fcd459bdfccf2e2af\"))\n",
    "\n",
    "print('Success!')"
   ]
  },
  {
   "cell_type": "markdown",
   "metadata": {
    "deletable": false,
    "editable": false,
    "nbgrader": {
     "cell_type": "markdown",
     "checksum": "1650ead932949a416dfcc93fb0ab9cad",
     "grade": false,
     "grade_id": "cell-18ab6b21c8994c5c",
     "locked": true,
     "schema_version": 3,
     "solution": false,
     "task": false
    }
   },
   "source": [
    "**Question 1.8**\n",
    "<br> {points: 1}\n",
    "\n",
    "Let's visualize how WSSD changes for as we vary the value of $K$. To do this, create the elbow plot. Put the within-cluster sum of squares on the y-axis, and the number of clusters on the x-axis.\n",
    "\n",
    "*Assign your plot to an object called `elbow_plot`*."
   ]
  },
  {
   "cell_type": "code",
   "execution_count": null,
   "metadata": {
    "deletable": false,
    "nbgrader": {
     "cell_type": "code",
     "checksum": "890029f2bbdb762a06c4e89d6c81791a",
     "grade": false,
     "grade_id": "cell-d5d5b23dd3820676",
     "locked": false,
     "schema_version": 3,
     "solution": true,
     "task": false
    }
   },
   "outputs": [],
   "source": [
    "# your code here\n",
    "fail() # No Answer - remove if you provide an answer\n",
    "elbow_plot"
   ]
  },
  {
   "cell_type": "code",
   "execution_count": null,
   "metadata": {
    "deletable": false,
    "editable": false,
    "nbgrader": {
     "cell_type": "code",
     "checksum": "4b1535c6980499412d4ede885ecfa590",
     "grade": true,
     "grade_id": "cell-9be55abc471b0f7f",
     "locked": true,
     "points": 1,
     "schema_version": 3,
     "solution": false,
     "task": false
    }
   },
   "outputs": [],
   "source": [
    "library(digest)\n",
    "stopifnot(\"type of plot is not correct (if you are using two types of geoms, try flipping the order of the geom objects!)\"= setequal(digest(paste(toString(sapply(seq_len(length(elbow_plot$layers)), function(i) {c(class(elbow_plot$layers[[i]]$geom))[1]})), \"63832\")), \"44d7933f4bf2a2b6f8dbd23c90b15a98\"))\n",
    "stopifnot(\"variable x is not correct\"= setequal(digest(paste(toString(unlist(lapply(sapply(seq_len(length(elbow_plot$layers)), function(i) {rlang::get_expr(c(elbow_plot$layers[[i]]$mapping, elbow_plot$mapping)$x)}), as.character))), \"63832\")), \"7b2bbc0d6afbdb44f809a2390da0ea47\"))\n",
    "stopifnot(\"variable y is not correct\"= setequal(digest(paste(toString(unlist(lapply(sapply(seq_len(length(elbow_plot$layers)), function(i) {rlang::get_expr(c(elbow_plot$layers[[i]]$mapping, elbow_plot$mapping)$y)}), as.character))), \"63832\")), \"d4051ecaa85e72a5faeb391fba6b2ece\"))\n",
    "stopifnot(\"x-axis label is not descriptive, nicely formatted, or human readable\"= setequal(digest(paste(toString(rlang::get_expr(c(elbow_plot$layers[[1]]$mapping, elbow_plot$mapping)$x)!= elbow_plot$labels$x), \"63832\")), \"bc6c92903aa39fb264cdc4ca6af936cc\"))\n",
    "stopifnot(\"y-axis label is not descriptive, nicely formatted, or human readable\"= setequal(digest(paste(toString(rlang::get_expr(c(elbow_plot$layers[[1]]$mapping, elbow_plot$mapping)$y)!= elbow_plot$labels$y), \"63832\")), \"bc6c92903aa39fb264cdc4ca6af936cc\"))\n",
    "stopifnot(\"incorrect colour variable in elbow_plot, specify a correct one if required\"= setequal(digest(paste(toString(rlang::get_expr(c(elbow_plot$layers[[1]]$mapping, elbow_plot$mapping)$colour)), \"63832\")), \"1edbde18e42d7fc56caa41fdd81fbe20\"))\n",
    "stopifnot(\"incorrect shape variable in elbow_plot, specify a correct one if required\"= setequal(digest(paste(toString(rlang::get_expr(c(elbow_plot$layers[[1]]$mapping, elbow_plot$mapping)$shape)), \"63832\")), \"1edbde18e42d7fc56caa41fdd81fbe20\"))\n",
    "stopifnot(\"the colour label in elbow_plot is not descriptive, nicely formatted, or human readable\"= setequal(digest(paste(toString(rlang::get_expr(c(elbow_plot$layers[[1]]$mapping, elbow_plot$mapping)$colour) != elbow_plot$labels$colour), \"63832\")), \"1edbde18e42d7fc56caa41fdd81fbe20\"))\n",
    "stopifnot(\"the shape label in elbow_plot is not descriptive, nicely formatted, or human readable\"= setequal(digest(paste(toString(rlang::get_expr(c(elbow_plot$layers[[1]]$mapping, elbow_plot$mapping)$colour) != elbow_plot$labels$shape), \"63832\")), \"1edbde18e42d7fc56caa41fdd81fbe20\"))\n",
    "stopifnot(\"fill variable in elbow_plot is not correct\"= setequal(digest(paste(toString(quo_name(elbow_plot$mapping$fill)), \"63832\")), \"b119e23edd0e72d5d99436c1ee8c14e5\"))\n",
    "stopifnot(\"fill label in elbow_plot is not informative\"= setequal(digest(paste(toString((quo_name(elbow_plot$mapping$fill) != elbow_plot$labels$fill)), \"63832\")), \"1edbde18e42d7fc56caa41fdd81fbe20\"))\n",
    "stopifnot(\"position argument in elbow_plot is not correct\"= setequal(digest(paste(toString(class(elbow_plot$layers[[1]]$position)[1]), \"63832\")), \"e6d7752dc11e07e8517ade3fae591668\"))\n",
    "\n",
    "stopifnot(\"mutate_all(elbow_plot$data, as.double) should be a data frame\"= setequal(digest(paste(toString('data.frame' %in% class(mutate_all(elbow_plot$data, as.double))), \"63833\")), \"7b6a009426693b9ec3d3e54d7a6f35d8\"))\n",
    "stopifnot(\"dimensions of mutate_all(elbow_plot$data, as.double) are not correct\"= setequal(digest(paste(toString(dim(mutate_all(elbow_plot$data, as.double))), \"63833\")), \"d5056596286eb195dabcd6ed4f474a9f\"))\n",
    "stopifnot(\"column names of mutate_all(elbow_plot$data, as.double) are not correct\"= setequal(digest(paste(toString(sort(colnames(mutate_all(elbow_plot$data, as.double)))), \"63833\")), \"b9968607c64c5859a284b90063fafb87\"))\n",
    "stopifnot(\"types of columns in mutate_all(elbow_plot$data, as.double) are not correct\"= setequal(digest(paste(toString(sort(unlist(sapply(mutate_all(elbow_plot$data, as.double), class)))), \"63833\")), \"c8f03653e1fc198e93a075360081f2a7\"))\n",
    "stopifnot(\"values in one or more numerical columns in mutate_all(elbow_plot$data, as.double) are not correct\"= setequal(digest(paste(toString(if (any(sapply(mutate_all(elbow_plot$data, as.double), is.numeric))) sort(round(sapply(mutate_all(elbow_plot$data, as.double)[, sapply(mutate_all(elbow_plot$data, as.double), is.numeric)], sum, na.rm = TRUE), 2)) else 0), \"63833\")), \"ba22a54a0568dd7945cf4af5cab27e40\"))\n",
    "stopifnot(\"values in one or more character columns in mutate_all(elbow_plot$data, as.double) are not correct\"= setequal(digest(paste(toString(if (any(sapply(mutate_all(elbow_plot$data, as.double), is.character))) sum(sapply(mutate_all(elbow_plot$data, as.double)[sapply(mutate_all(elbow_plot$data, as.double), is.character)], function(x) length(unique(x)))) else 0), \"63833\")), \"37053f81463da731c11643bab29bc67a\"))\n",
    "stopifnot(\"values in one or more factor columns in mutate_all(elbow_plot$data, as.double) are not correct\"= setequal(digest(paste(toString(if (any(sapply(mutate_all(elbow_plot$data, as.double), is.factor))) sum(sapply(mutate_all(elbow_plot$data, as.double)[, sapply(mutate_all(elbow_plot$data, as.double), is.factor)], function(col) length(unique(col)))) else 0), \"63833\")), \"37053f81463da731c11643bab29bc67a\"))\n",
    "\n",
    "print('Success!')"
   ]
  },
  {
   "cell_type": "markdown",
   "metadata": {
    "deletable": false,
    "editable": false,
    "nbgrader": {
     "cell_type": "markdown",
     "checksum": "82c60d75cc9d9395dab8c7276a2ea319",
     "grade": false,
     "grade_id": "cell-787eb51286f85008",
     "locked": true,
     "schema_version": 3,
     "solution": false,
     "task": false
    }
   },
   "source": [
    "**Question 1.9** \n",
    "<br> {points: 3}\n",
    "\n",
    "Based on the elbow plot above, what value of $K$ would you choose? Explain why."
   ]
  },
  {
   "cell_type": "markdown",
   "metadata": {
    "deletable": false,
    "nbgrader": {
     "cell_type": "markdown",
     "checksum": "64d4e5f19dfef8b23473fa8786bba00c",
     "grade": true,
     "grade_id": "cell-8199f88458fc2ba7",
     "locked": false,
     "points": 3,
     "schema_version": 3,
     "solution": true,
     "task": false
    }
   },
   "source": [
    "DOUBLE CLICK TO EDIT **THIS CELL** AND REPLACE THIS TEXT WITH YOUR ANSWER."
   ]
  },
  {
   "cell_type": "markdown",
   "metadata": {
    "deletable": false,
    "editable": false,
    "nbgrader": {
     "cell_type": "markdown",
     "checksum": "9f154ca668f8ef88153de08e119caff5",
     "grade": false,
     "grade_id": "cell-fc98d19805a765de",
     "locked": true,
     "schema_version": 3,
     "solution": false,
     "task": false
    }
   },
   "source": [
    "**Question 1.10**\n",
    "<br> {points: 1}\n",
    "\n",
    "Using the value that you chose for $K$, perform the K-means algorithm, set `nstart = 10` and assign your answer to an object called `pokemon_final_kmeans`. \n",
    "\n",
    "Augment the data with the final cluster labels and assign your answer to an object called `pokemon_final_clusters`. \n",
    "\n",
    "Finally, create a plot called `pokemon_final_clusters_plot` to visualize the clusters. Include a title, colour the points by the cluster and make sure your axes are human-readable."
   ]
  },
  {
   "cell_type": "code",
   "execution_count": null,
   "metadata": {
    "deletable": false,
    "nbgrader": {
     "cell_type": "code",
     "checksum": "022f3fb53586f1dfa7e2a2682a66cc09",
     "grade": false,
     "grade_id": "cell-9a4289aea99f026e",
     "locked": false,
     "schema_version": 3,
     "solution": true,
     "task": false
    }
   },
   "outputs": [],
   "source": [
    "set.seed(2019) # DO NOT REMOVE\n",
    "# your code here\n",
    "fail() # No Answer - remove if you provide an answer"
   ]
  },
  {
   "cell_type": "code",
   "execution_count": null,
   "metadata": {
    "deletable": false,
    "editable": false,
    "nbgrader": {
     "cell_type": "code",
     "checksum": "c89edaa430f30d6a3efc8b75b0a90a68",
     "grade": true,
     "grade_id": "cell-8c00c3f9bb72e130",
     "locked": true,
     "points": 1,
     "schema_version": 3,
     "solution": false,
     "task": false
    }
   },
   "outputs": [],
   "source": [
    "library(digest)\n",
    "stopifnot(\"type of plot is not correct (if you are using two types of geoms, try flipping the order of the geom objects!)\"= setequal(digest(paste(toString(sapply(seq_len(length(pokemon_final_clusters_plot$layers)), function(i) {c(class(pokemon_final_clusters_plot$layers[[i]]$geom))[1]})), \"dbe40\")), \"32de4b0a553c54ade84e3fa11162b7c8\"))\n",
    "stopifnot(\"variable x is not correct\"= setequal(digest(paste(toString(unlist(lapply(sapply(seq_len(length(pokemon_final_clusters_plot$layers)), function(i) {rlang::get_expr(c(pokemon_final_clusters_plot$layers[[i]]$mapping, pokemon_final_clusters_plot$mapping)$x)}), as.character))), \"dbe40\")), \"553d05250f7297f35e670d028ff71b2b\"))\n",
    "stopifnot(\"variable y is not correct\"= setequal(digest(paste(toString(unlist(lapply(sapply(seq_len(length(pokemon_final_clusters_plot$layers)), function(i) {rlang::get_expr(c(pokemon_final_clusters_plot$layers[[i]]$mapping, pokemon_final_clusters_plot$mapping)$y)}), as.character))), \"dbe40\")), \"7dde31c2b83605afbd1e360ee0679b73\"))\n",
    "stopifnot(\"x-axis label is not descriptive, nicely formatted, or human readable\"= setequal(digest(paste(toString(rlang::get_expr(c(pokemon_final_clusters_plot$layers[[1]]$mapping, pokemon_final_clusters_plot$mapping)$x)!= pokemon_final_clusters_plot$labels$x), \"dbe40\")), \"a82e1e8e672d666f3c5216730310bc4e\"))\n",
    "stopifnot(\"y-axis label is not descriptive, nicely formatted, or human readable\"= setequal(digest(paste(toString(rlang::get_expr(c(pokemon_final_clusters_plot$layers[[1]]$mapping, pokemon_final_clusters_plot$mapping)$y)!= pokemon_final_clusters_plot$labels$y), \"dbe40\")), \"a82e1e8e672d666f3c5216730310bc4e\"))\n",
    "stopifnot(\"incorrect colour variable in pokemon_final_clusters_plot, specify a correct one if required\"= setequal(digest(paste(toString(rlang::get_expr(c(pokemon_final_clusters_plot$layers[[1]]$mapping, pokemon_final_clusters_plot$mapping)$colour)), \"dbe40\")), \"68d98290143df0a1fe80445d4d1b0f19\"))\n",
    "stopifnot(\"incorrect shape variable in pokemon_final_clusters_plot, specify a correct one if required\"= setequal(digest(paste(toString(rlang::get_expr(c(pokemon_final_clusters_plot$layers[[1]]$mapping, pokemon_final_clusters_plot$mapping)$shape)), \"dbe40\")), \"2edee403098e36fab01e0add32c4ae74\"))\n",
    "stopifnot(\"the colour label in pokemon_final_clusters_plot is not descriptive, nicely formatted, or human readable\"= setequal(digest(paste(toString(rlang::get_expr(c(pokemon_final_clusters_plot$layers[[1]]$mapping, pokemon_final_clusters_plot$mapping)$colour) != pokemon_final_clusters_plot$labels$colour), \"dbe40\")), \"a82e1e8e672d666f3c5216730310bc4e\"))\n",
    "stopifnot(\"the shape label in pokemon_final_clusters_plot is not descriptive, nicely formatted, or human readable\"= setequal(digest(paste(toString(rlang::get_expr(c(pokemon_final_clusters_plot$layers[[1]]$mapping, pokemon_final_clusters_plot$mapping)$colour) != pokemon_final_clusters_plot$labels$shape), \"dbe40\")), \"2edee403098e36fab01e0add32c4ae74\"))\n",
    "stopifnot(\"fill variable in pokemon_final_clusters_plot is not correct\"= setequal(digest(paste(toString(quo_name(pokemon_final_clusters_plot$mapping$fill)), \"dbe40\")), \"337222069b752eb291807fa9d0dd5d34\"))\n",
    "stopifnot(\"fill label in pokemon_final_clusters_plot is not informative\"= setequal(digest(paste(toString((quo_name(pokemon_final_clusters_plot$mapping$fill) != pokemon_final_clusters_plot$labels$fill)), \"dbe40\")), \"2edee403098e36fab01e0add32c4ae74\"))\n",
    "stopifnot(\"position argument in pokemon_final_clusters_plot is not correct\"= setequal(digest(paste(toString(class(pokemon_final_clusters_plot$layers[[1]]$position)[1]), \"dbe40\")), \"cd14d7aeb9d5fb6e3c04386a08b5392e\"))\n",
    "\n",
    "stopifnot(\"pokemon_final_clusters_plot$data should be a data frame\"= setequal(digest(paste(toString('data.frame' %in% class(pokemon_final_clusters_plot$data)), \"dbe41\")), \"fa4b1bbca4914b5a41b65146f16955b8\"))\n",
    "stopifnot(\"dimensions of pokemon_final_clusters_plot$data are not correct\"= setequal(digest(paste(toString(dim(pokemon_final_clusters_plot$data)), \"dbe41\")), \"2c0d60fd779bca602efa9d43ace64cd1\"))\n",
    "stopifnot(\"column names of pokemon_final_clusters_plot$data are not correct\"= setequal(digest(paste(toString(sort(colnames(pokemon_final_clusters_plot$data))), \"dbe41\")), \"37db9972f627dd200c60fee606a2114f\"))\n",
    "stopifnot(\"types of columns in pokemon_final_clusters_plot$data are not correct\"= setequal(digest(paste(toString(sort(unlist(sapply(pokemon_final_clusters_plot$data, class)))), \"dbe41\")), \"2f2b576f4f954f5ffd7b2f3721053a14\"))\n",
    "stopifnot(\"values in one or more numerical columns in pokemon_final_clusters_plot$data are not correct\"= setequal(digest(paste(toString(if (any(sapply(pokemon_final_clusters_plot$data, is.numeric))) sort(round(sapply(pokemon_final_clusters_plot$data[, sapply(pokemon_final_clusters_plot$data, is.numeric)], sum, na.rm = TRUE), 2)) else 0), \"dbe41\")), \"16ee0f934560bc2e9d47c764fa82214e\"))\n",
    "stopifnot(\"values in one or more character columns in pokemon_final_clusters_plot$data are not correct\"= setequal(digest(paste(toString(if (any(sapply(pokemon_final_clusters_plot$data, is.character))) sum(sapply(pokemon_final_clusters_plot$data[sapply(pokemon_final_clusters_plot$data, is.character)], function(x) length(unique(x)))) else 0), \"dbe41\")), \"aa6ec4b1c18e5b5f259b01eed552ea4b\"))\n",
    "stopifnot(\"values in one or more factor columns in pokemon_final_clusters_plot$data are not correct\"= setequal(digest(paste(toString(if (any(sapply(pokemon_final_clusters_plot$data, is.factor))) sum(sapply(pokemon_final_clusters_plot$data[, sapply(pokemon_final_clusters_plot$data, is.factor)], function(col) length(unique(col)))) else 0), \"dbe41\")), \"56a308146951896619abe0e0238dbeb2\"))\n",
    "\n",
    "stopifnot(\"type of is.character(pokemon_final_clusters_plot$labels$title) is not logical\"= setequal(digest(paste(toString(class(is.character(pokemon_final_clusters_plot$labels$title))), \"dbe42\")), \"1c30b3f263c386af3705b7ee6105f7b6\"))\n",
    "stopifnot(\"logical value of is.character(pokemon_final_clusters_plot$labels$title) is not correct\"= setequal(digest(paste(toString(is.character(pokemon_final_clusters_plot$labels$title)), \"dbe42\")), \"175acf11d28a98f4e89db96bc4f03f9c\"))\n",
    "\n",
    "print('Success!')"
   ]
  },
  {
   "cell_type": "markdown",
   "metadata": {
    "deletable": false,
    "editable": false,
    "nbgrader": {
     "cell_type": "markdown",
     "checksum": "56c7fb9a7f1449b2464c352c32d78870",
     "grade": false,
     "grade_id": "cell-c661b3e64fdc18a0",
     "locked": true,
     "schema_version": 3,
     "solution": false,
     "task": false
    }
   },
   "source": [
    "**Question 1.11**\n",
    "<br> {points: 3}\n",
    "\n",
    "This looks perhaps a bit better than when we used $K=4$ clusters originally, but is it really a lot better? Use the plot in Question 1.10 and the elbow plot from Question 1.8 to reason about what might be going on here."
   ]
  },
  {
   "cell_type": "markdown",
   "metadata": {
    "deletable": false,
    "nbgrader": {
     "cell_type": "markdown",
     "checksum": "c08b1790a11791258131c386fbfd8f04",
     "grade": true,
     "grade_id": "cell-ea2917d4de4ef732",
     "locked": false,
     "points": 3,
     "schema_version": 3,
     "solution": true,
     "task": false
    }
   },
   "source": [
    "DOUBLE CLICK TO EDIT **THIS CELL** AND REPLACE THIS TEXT WITH YOUR ANSWER."
   ]
  },
  {
   "cell_type": "markdown",
   "metadata": {
    "deletable": false,
    "editable": false,
    "nbgrader": {
     "cell_type": "markdown",
     "checksum": "05597237f22908be2593063edb8c2735",
     "grade": false,
     "grade_id": "cell-3e931fc6c7cf17df",
     "locked": true,
     "schema_version": 3,
     "solution": false
    }
   },
   "source": [
    "# 2. Tourism Reviews\n",
    "\n",
    "![](https://media.giphy.com/media/xUNd9IsOQ4BSZPfnLG/giphy.gif)\n",
    "Source: https://media.giphy.com/media/xUNd9IsOQ4BSZPfnLG/giphy.gif\n",
    "\n",
    "The Ministry of Land, Infrastructure, Transport and Tourism of Japan is interested in knowing the type of tourists that visit East Asia. They know the [majority of their visitors come from this region](https://statistics.jnto.go.jp/en/graph/) and would like to stay competitive in the region to keep growing the tourism industry. For this, they have hired us to perform segmentation of the tourists. A [dataset from TripAdvisor](https://archive.ics.uci.edu/ml/datasets/Travel+Reviews) has been scraped and it's provided to you.\n",
    "\n",
    "This dataset contains the following variables:\n",
    "\n",
    "- User ID : Unique user id \n",
    "- Category 1 : Average user feedback on art galleries \n",
    "- Category 2 : Average user feedback on dance clubs \n",
    "- Category 3 : Average user feedback on juice bars \n",
    "- Category 4 : Average user feedback on restaurants \n",
    "- Category 5 : Average user feedback on museums \n",
    "- Category 6 : Average user feedback on resorts \n",
    "- Category 7 : Average user feedback on parks/picnic spots \n",
    "- Category 8 : Average user feedback on beaches \n",
    "- Category 9 : Average user feedback on theaters \n",
    "- Category 10 : Average user feedback on religious institutions"
   ]
  },
  {
   "cell_type": "markdown",
   "metadata": {
    "deletable": false,
    "editable": false,
    "nbgrader": {
     "cell_type": "markdown",
     "checksum": "85d8cd566b774e83a28f163506236d28",
     "grade": false,
     "grade_id": "cell-992349cc3394d79f",
     "locked": true,
     "schema_version": 3,
     "solution": false,
     "task": false
    }
   },
   "source": [
    "**Question 2.0**\n",
    "<br> {points: 3}\n",
    "\n",
    "Load the data set from https://archive.ics.uci.edu/ml/machine-learning-databases/00484/tripadvisor_review.csv and clean it so that only the Category # columns are in the data frame (i.e., remove the `User ID` column). \n",
    "\n",
    "Assign your answer to an object called `clean_reviews`."
   ]
  },
  {
   "cell_type": "code",
   "execution_count": null,
   "metadata": {
    "deletable": false,
    "nbgrader": {
     "cell_type": "code",
     "checksum": "f6da6d3384424b2f21e7d1ebee11f59b",
     "grade": false,
     "grade_id": "cell-f405eb5c11942445",
     "locked": false,
     "schema_version": 3,
     "solution": true,
     "task": false
    }
   },
   "outputs": [],
   "source": [
    "# your code here\n",
    "fail() # No Answer - remove if you provide an answer"
   ]
  },
  {
   "cell_type": "code",
   "execution_count": null,
   "metadata": {
    "deletable": false,
    "editable": false,
    "nbgrader": {
     "cell_type": "code",
     "checksum": "4783d89668a675574f94970dad3651ef",
     "grade": true,
     "grade_id": "cell-6050fab33fa36da5",
     "locked": true,
     "points": 3,
     "schema_version": 3,
     "solution": false,
     "task": false
    }
   },
   "outputs": [],
   "source": [
    "library(digest)\n",
    "stopifnot(\"type of exists('clean_reviews') is not logical\"= setequal(digest(paste(toString(class(exists('clean_reviews'))), \"4d0d9\")), \"30315f07816bc8ae5795319bd8def115\"))\n",
    "stopifnot(\"logical value of exists('clean_reviews') is not correct\"= setequal(digest(paste(toString(exists('clean_reviews')), \"4d0d9\")), \"5673fe82f0f89f286676f8f91f3d3916\"))\n",
    "\n",
    "# The remainder of the tests were intentionally hidden so that you can practice deciding \n",
    "# when you have the correct answer.\n",
    "print('Success!')"
   ]
  },
  {
   "cell_type": "markdown",
   "metadata": {
    "deletable": false,
    "editable": false,
    "nbgrader": {
     "cell_type": "markdown",
     "checksum": "78f3531c488fb34afa7f31d3917560b4",
     "grade": false,
     "grade_id": "cell-4b9f74303428862b",
     "locked": true,
     "schema_version": 3,
     "solution": false
    }
   },
   "source": [
    "**Question 2.1**\n",
    "<br> {points: 3}\n",
    "\n",
    "Perform K-means and vary $K$ from 1 to 10 to identify the optimal number of clusters. Use `nstart = 100`. Assign your answer to a tibble object called `tourism_elbow_stats` that has the columns `num_clusters` and `total_WSSD`.\n",
    "\n",
    "Afterwards, create an elbow plot to help you choose $K$. Assign your answer to an object called `tourism_elbow_plot`.\n",
    "\n",
    "*Note: You may see a warning message indicating that your model did not converge within 10 iterations. Please ignore this message.*"
   ]
  },
  {
   "cell_type": "code",
   "execution_count": null,
   "metadata": {
    "deletable": false,
    "nbgrader": {
     "cell_type": "code",
     "checksum": "82b2efcbba65972927071f77bb68a713",
     "grade": false,
     "grade_id": "cell-62833cac0177ae24",
     "locked": false,
     "schema_version": 3,
     "solution": true,
     "task": false
    }
   },
   "outputs": [],
   "source": [
    "#DON'T CHANGE THIS SEED VALUE\n",
    "set.seed(2019)\n",
    "\n",
    "# your code here\n",
    "fail() # No Answer - remove if you provide an answer"
   ]
  },
  {
   "cell_type": "code",
   "execution_count": null,
   "metadata": {
    "deletable": false,
    "editable": false,
    "nbgrader": {
     "cell_type": "code",
     "checksum": "43ce688a0da924edd37cce2759beb18c",
     "grade": true,
     "grade_id": "cell-6606935f013bdc26",
     "locked": true,
     "points": 3,
     "schema_version": 3,
     "solution": false,
     "task": false
    }
   },
   "outputs": [],
   "source": [
    "library(digest)\n",
    "stopifnot(\"type of exists('tourism_elbow_stats') is not logical\"= setequal(digest(paste(toString(class(exists('tourism_elbow_stats'))), \"400c0\")), \"7d02cd6ac551938cebcdf3777f1f7143\"))\n",
    "stopifnot(\"logical value of exists('tourism_elbow_stats') is not correct\"= setequal(digest(paste(toString(exists('tourism_elbow_stats')), \"400c0\")), \"6a1b2191ba194266195096b5dfeca8e6\"))\n",
    "\n",
    "stopifnot(\"type of exists('tourism_elbow_plot') is not logical\"= setequal(digest(paste(toString(class(exists('tourism_elbow_plot'))), \"400c1\")), \"a1cf4ad42fd76fe3f7437804af517bbd\"))\n",
    "stopifnot(\"logical value of exists('tourism_elbow_plot') is not correct\"= setequal(digest(paste(toString(exists('tourism_elbow_plot')), \"400c1\")), \"7593126db59bc8c603b0ff2b73ba23c2\"))\n",
    "\n",
    "# The remainder of the tests were intentionally hidden so that you can practice deciding \n",
    "# when you have the correct answer.\n",
    "print('Success!')"
   ]
  },
  {
   "cell_type": "markdown",
   "metadata": {
    "deletable": false,
    "editable": false,
    "nbgrader": {
     "cell_type": "markdown",
     "checksum": "c12865236cc17745b9e38887021ac75b",
     "grade": false,
     "grade_id": "cell-c6b0005cf3b6f5d5",
     "locked": true,
     "schema_version": 3,
     "solution": false,
     "task": false
    }
   },
   "source": [
    "**Question 2.2** \n",
    "<br> {points: 3}\n",
    "\n",
    "From the elbow plot above, which $k$ should you choose? Explain why you chose that $k$."
   ]
  },
  {
   "cell_type": "markdown",
   "metadata": {
    "deletable": false,
    "nbgrader": {
     "cell_type": "markdown",
     "checksum": "fe9647b065d7f765fce6796bbb082b4c",
     "grade": true,
     "grade_id": "cell-21a2bc8e9a46d50c",
     "locked": false,
     "points": 3,
     "schema_version": 3,
     "solution": true,
     "task": false
    }
   },
   "source": [
    "DOUBLE CLICK TO EDIT **THIS CELL** AND REPLACE THIS TEXT WITH YOUR ANSWER."
   ]
  },
  {
   "cell_type": "markdown",
   "metadata": {
    "deletable": false,
    "editable": false,
    "nbgrader": {
     "cell_type": "markdown",
     "checksum": "21b9ee569a0b3157797728abcb0652dc",
     "grade": false,
     "grade_id": "cell-10b5cae4c72389b8",
     "locked": true,
     "schema_version": 3,
     "solution": false
    }
   },
   "source": [
    "**Question 2.3**\n",
    "<br> {points: 3}\n",
    "\n",
    "Run K-means again, with the optimal $K$, and assign your answer to an object called `tourism_model_2`. Use `nstart = 100`. Then, use the `augment` function to get the cluster assignments for each point. Name the data frame `cluster_assignments`."
   ]
  },
  {
   "cell_type": "code",
   "execution_count": null,
   "metadata": {
    "deletable": false,
    "nbgrader": {
     "cell_type": "code",
     "checksum": "0925df26204449de96cb02c17ac18f2b",
     "grade": true,
     "grade_id": "cell-1ac55da2934ef5f6",
     "locked": false,
     "points": 3,
     "schema_version": 3,
     "solution": true,
     "task": false
    }
   },
   "outputs": [],
   "source": [
    "#DONT CHANGE THIS SEED VALUE\n",
    "set.seed(2019)\n",
    "\n",
    "# your code here\n",
    "fail() # No Answer - remove if you provide an answer\n",
    "cluster_assignments"
   ]
  },
  {
   "cell_type": "markdown",
   "metadata": {
    "deletable": false,
    "editable": false,
    "nbgrader": {
     "cell_type": "markdown",
     "checksum": "67fdca23d4559c3dfbdf81661bc732b3",
     "grade": false,
     "grade_id": "cell-151f7ff6a6ca3b1e",
     "locked": true,
     "schema_version": 3,
     "solution": false,
     "task": false
    }
   },
   "source": [
    "For the following 2 questions use the following plot as reference. \n",
    "\n",
    "> The visualization below is a density plot, you can think of it as a smoothed version of a histogram. Density plots are more effective for comparing multiple distributions. What we are looking for with these visualizations, is to see which variables have difference distributions between the different clusters."
   ]
  },
  {
   "cell_type": "code",
   "execution_count": null,
   "metadata": {
    "deletable": false,
    "editable": false,
    "nbgrader": {
     "cell_type": "code",
     "checksum": "2451d10f1db92c6469f0d25dccceada1",
     "grade": false,
     "grade_id": "cell-cf5d233797355afc",
     "locked": true,
     "schema_version": 3,
     "solution": false,
     "task": false
    }
   },
   "outputs": [],
   "source": [
    "options(repr.plot.height = 8, repr.plot.width = 15)\n",
    "cluster_assignments |>\n",
    "    pivot_longer(cols = -.pred_cluster, names_to = 'category', values_to = 'value')  |> \n",
    "    ggplot(aes(value, fill = .pred_cluster)) +\n",
    "        geom_density(alpha = 0.4, colour = 'white') +\n",
    "        # We are setting the x-scale to \"free\" since we standardized the rating values before clustering them,\n",
    "        # which means that their original range (which is what we show here) does not matter\n",
    "        facet_wrap(facets = vars(category), scales = 'free') +\n",
    "        theme_minimal() +\n",
    "        theme(text = element_text(size = 20))"
   ]
  },
  {
   "cell_type": "markdown",
   "metadata": {
    "deletable": false,
    "editable": false,
    "nbgrader": {
     "cell_type": "markdown",
     "checksum": "1bd4bb586471ac21de6c96470cf73669",
     "grade": false,
     "grade_id": "cell-8b8b18b8d8879898",
     "locked": true,
     "schema_version": 3,
     "solution": false,
     "task": false
    }
   },
   "source": [
    "**Question 2.4** Multiple Choice:\n",
    "<br> {points: 1}\n",
    "\n",
    "From the plots above, point out the categories that we might hypothesize are driving the clustering? (i.e., are useful to distinguish between the type of tourists?) We list the table of the categories below. \n",
    "\n",
    "- Category 1 : Average user feedback on art galleries \n",
    "- Category 2 : Average user feedback on dance clubs \n",
    "- Category 3 : Average user feedback on juice bars \n",
    "- Category 4 : Average user feedback on restaurants \n",
    "- Category 5 : Average user feedback on museums \n",
    "- Category 6 : Average user feedback on resorts \n",
    "- Category 7 : Average user feedback on parks/picnic spots \n",
    "- Category 8 : Average user feedback on beaches \n",
    "- Category 9 : Average user feedback on theaters \n",
    "- Category 10 : Average user feedback on religious institutions\n",
    "\n",
    "A. 10, 3, 5, 6, 7\n",
    "\n",
    "B. 10, 3, 5, 6, 1\n",
    "\n",
    "C. 10, 3, 4, 6, 7\n",
    "\n",
    "D. 10, 2, 5, 6, 7\n",
    "\n",
    "*Assign your answer to an object called `answer2.4`. Make sure your answer is an uppercase letter and is surrounded by quotation marks (e.g. `\"F\"`).*"
   ]
  },
  {
   "cell_type": "code",
   "execution_count": null,
   "metadata": {
    "deletable": false,
    "nbgrader": {
     "cell_type": "code",
     "checksum": "573ce7a4f6e46119cb29310d9fcbd205",
     "grade": false,
     "grade_id": "cell-8c62246c6b465a60",
     "locked": false,
     "schema_version": 3,
     "solution": true,
     "task": false
    }
   },
   "outputs": [],
   "source": [
    "# your code here\n",
    "fail() # No Answer - remove if you provide an answer\n",
    "answer2.4"
   ]
  },
  {
   "cell_type": "code",
   "execution_count": null,
   "metadata": {
    "deletable": false,
    "editable": false,
    "nbgrader": {
     "cell_type": "code",
     "checksum": "fdb02571f0cbb91c12c3ae38f15ece95",
     "grade": true,
     "grade_id": "cell-96590ae632b0f9c5",
     "locked": true,
     "points": 1,
     "schema_version": 3,
     "solution": false,
     "task": false
    }
   },
   "outputs": [],
   "source": [
    "library(digest)\n",
    "stopifnot(\"type of exists('answer2.4') is not logical\"= setequal(digest(paste(toString(class(exists('answer2.4'))), \"8c6d4\")), \"a4a37dbdda577e23831b184df4689bcc\"))\n",
    "stopifnot(\"logical value of exists('answer2.4') is not correct\"= setequal(digest(paste(toString(exists('answer2.4')), \"8c6d4\")), \"c2d53029cfec982f1ef2ca5904b7c1bc\"))\n",
    "\n",
    "# The remainder of the tests were intentionally hidden so that you can practice deciding \n",
    "# when you have the correct answer.\n",
    "print('Success!')"
   ]
  },
  {
   "cell_type": "markdown",
   "metadata": {
    "deletable": false,
    "editable": false,
    "nbgrader": {
     "cell_type": "markdown",
     "checksum": "5227992a81b4aee058db34895049dff9",
     "grade": false,
     "grade_id": "cell-ec41e7e431266a81",
     "locked": true,
     "schema_version": 3,
     "solution": false
    }
   },
   "source": [
    "**Question 2.5** \n",
    "<br> {points: 3}\n",
    "\n",
    "Discuss one disadvantage of not being able to visualize the clusters when dealing with multidimensional data."
   ]
  },
  {
   "cell_type": "markdown",
   "metadata": {
    "deletable": false,
    "nbgrader": {
     "cell_type": "markdown",
     "checksum": "98b74920637d5e31a2b81a3e3226044d",
     "grade": true,
     "grade_id": "cell-d4e16b6f6a5d2cb7",
     "locked": false,
     "points": 3,
     "schema_version": 3,
     "solution": true,
     "task": false
    }
   },
   "source": [
    "DOUBLE CLICK TO EDIT **THIS CELL** AND REPLACE THIS TEXT WITH YOUR ANSWER."
   ]
  },
  {
   "cell_type": "code",
   "execution_count": null,
   "metadata": {
    "deletable": false,
    "editable": false,
    "nbgrader": {
     "cell_type": "code",
     "checksum": "a0ef3cb3472ff44dc7766ee842d0e590",
     "grade": false,
     "grade_id": "cell-82a01e531bc3c1b3",
     "locked": true,
     "schema_version": 3,
     "solution": false,
     "task": false
    },
    "tags": []
   },
   "outputs": [],
   "source": [
    "source(\"cleanup.R\")"
   ]
  }
 ],
 "metadata": {
  "kernelspec": {
   "display_name": "R",
   "language": "R",
   "name": "ir"
  },
  "language_info": {
   "codemirror_mode": "r",
   "file_extension": ".r",
   "mimetype": "text/x-r-source",
   "name": "R",
   "pygments_lexer": "r",
   "version": "4.3.3"
  }
 },
 "nbformat": 4,
 "nbformat_minor": 4
}
