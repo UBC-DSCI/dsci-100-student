{
 "cells": [
  {
   "cell_type": "markdown",
   "metadata": {
    "deletable": false,
    "editable": false,
    "nbgrader": {
     "cell_type": "markdown",
     "checksum": "bed903a86893df5819b7db5c5136812c",
     "grade": false,
     "grade_id": "cell-83e402ae256bacca",
     "locked": true,
     "schema_version": 3,
     "solution": false
    }
   },
   "source": [
    "# Worksheet: Classification II: evaluation & tuning\n",
    "\n",
    "This worksheet covers the [Classification II: evaluation & tuning](https://datasciencebook.ca/classification2.html) chapter of the online textbook, which also lists the learning objectives for this worksheet. You should read the textbook chapter before attempting this worksheet. "
   ]
  },
  {
   "cell_type": "code",
   "execution_count": null,
   "metadata": {
    "deletable": false,
    "editable": false,
    "nbgrader": {
     "cell_type": "code",
     "checksum": "554dfa53e772fc40390831ac68befafb",
     "grade": false,
     "grade_id": "cell-e3518ed3d64fb67c",
     "locked": true,
     "schema_version": 3,
     "solution": false
    }
   },
   "outputs": [],
   "source": [
    "### Run this cell before continuing.\n",
    "library(tidyverse)\n",
    "library(repr)\n",
    "library(tidymodels)\n",
    "options(repr.matrix.max.rows = 6)\n",
    "source('cleanup.R')"
   ]
  },
  {
   "cell_type": "markdown",
   "metadata": {
    "deletable": false,
    "editable": false,
    "nbgrader": {
     "cell_type": "markdown",
     "checksum": "e3bb815c573d1e593ccde12f9813ae9c",
     "grade": false,
     "grade_id": "cell-8699740184695c66",
     "locked": true,
     "schema_version": 3,
     "solution": false,
     "task": false
    }
   },
   "source": [
    "**Question 0.1** Multiple Choice:\n",
    "<br>{points: 1}\n",
    "\n",
    "Before applying k-nearest neighbour to a classification task, we need to scale the data. What is the purpose of this step?\n",
    "\n",
    "A. To help speed up the knn algorithm.\n",
    "\n",
    "B. To convert all data observations to numeric values.\n",
    "\n",
    "C. To ensure all data observations will be on a comparable scale and contribute equal shares to the calculation of the distance between points.\n",
    "\n",
    "D. None of the above.\n",
    "\n",
    "*Assign your answer to an object called `answer0.1`. Make sure your answer is an uppercase letter and is surrounded by quotation marks (e.g. `\"F\"`)*."
   ]
  },
  {
   "cell_type": "code",
   "execution_count": null,
   "metadata": {
    "deletable": false,
    "nbgrader": {
     "cell_type": "code",
     "checksum": "868196915f89a2cd8b75833d3b31265c",
     "grade": false,
     "grade_id": "cell-59b72939f6fa91c3",
     "locked": false,
     "schema_version": 3,
     "solution": true,
     "task": false
    }
   },
   "outputs": [],
   "source": [
    "# your code here\n",
    "fail() # No Answer - remove if you provide an answer"
   ]
  },
  {
   "cell_type": "code",
   "execution_count": null,
   "metadata": {
    "deletable": false,
    "editable": false,
    "nbgrader": {
     "cell_type": "code",
     "checksum": "e67720a050bceec1e6de330b91ba8f23",
     "grade": true,
     "grade_id": "cell-3f57245c4f46b1d0",
     "locked": true,
     "points": 1,
     "schema_version": 3,
     "solution": false,
     "task": false
    }
   },
   "outputs": [],
   "source": [
    "library(digest)\n",
    "stopifnot(\"type of answer0.1 is not character\"= setequal(digest(paste(toString(class(answer0.1)), \"d61f1\")), \"f94d540efe5be545d1314ed7fc4cef50\"))\n",
    "stopifnot(\"length of answer0.1 is not correct\"= setequal(digest(paste(toString(length(answer0.1)), \"d61f1\")), \"ae230260b0d96065a2fa62385253b54f\"))\n",
    "stopifnot(\"value of answer0.1 is not correct\"= setequal(digest(paste(toString(tolower(answer0.1)), \"d61f1\")), \"6c38fdd008504ba826aad69718a6df26\"))\n",
    "stopifnot(\"letters in string value of answer0.1 are correct but case is not correct\"= setequal(digest(paste(toString(answer0.1), \"d61f1\")), \"b7d893c6d594e358e4eb8b1d6dcb0a91\"))\n",
    "\n",
    "print('Success!')"
   ]
  },
  {
   "cell_type": "markdown",
   "metadata": {
    "deletable": false,
    "editable": false,
    "nbgrader": {
     "cell_type": "markdown",
     "checksum": "8a11edce9d541795eaab3b4341f90781",
     "grade": false,
     "grade_id": "cell-a84aabceb5b01847",
     "locked": true,
     "schema_version": 3,
     "solution": false,
     "task": false
    }
   },
   "source": [
    "**Question 0.2** Multiple Choice:\n",
    "<br>{points: 1}\n",
    "\n",
    "The confusion matrix is:\n",
    "\n",
    "A. A way to confuse you.\n",
    "\n",
    "B. A table where rows correspond to predicted class and columns correspond to true class.\n",
    "\n",
    "C. Each cell in the confusion matrix displays the number of observations with a particular predicted/true class as given by the row and column labels.\n",
    "\n",
    "D. Is an important tool for understanding what type of mistakes a classifier makes and how often these mistakes happen.\n",
    "\n",
    "E. All of the above except A.\n",
    "\n",
    "*Assign your answer to an object called `answer0.2`. Make sure your answer is an uppercase letter and is surrounded by quotation marks (e.g. `\"F\"`)*."
   ]
  },
  {
   "cell_type": "code",
   "execution_count": null,
   "metadata": {
    "deletable": false,
    "nbgrader": {
     "cell_type": "code",
     "checksum": "3f38b747d4147cefeadaa685ee4eec58",
     "grade": false,
     "grade_id": "cell-7ef3ba67e8089e9e",
     "locked": false,
     "schema_version": 3,
     "solution": true,
     "task": false
    }
   },
   "outputs": [],
   "source": [
    "# your code here\n",
    "fail() # No Answer - remove if you provide an answer"
   ]
  },
  {
   "cell_type": "code",
   "execution_count": null,
   "metadata": {
    "deletable": false,
    "editable": false,
    "nbgrader": {
     "cell_type": "code",
     "checksum": "cdb2d0bed0f0fc3909d7be737dffff76",
     "grade": true,
     "grade_id": "cell-69f1548e869df200",
     "locked": true,
     "points": 1,
     "schema_version": 3,
     "solution": false,
     "task": false
    }
   },
   "outputs": [],
   "source": [
    "library(digest)\n",
    "stopifnot(\"type of answer0.2 is not character\"= setequal(digest(paste(toString(class(answer0.2)), \"1f34d\")), \"638069ba8e223b370e5b7ffbc657e4df\"))\n",
    "stopifnot(\"length of answer0.2 is not correct\"= setequal(digest(paste(toString(length(answer0.2)), \"1f34d\")), \"ef68b1075103f89ad725c62972606ae8\"))\n",
    "stopifnot(\"value of answer0.2 is not correct\"= setequal(digest(paste(toString(tolower(answer0.2)), \"1f34d\")), \"9fb58f7e446dbffc67dbb797f1c8f6d0\"))\n",
    "stopifnot(\"letters in string value of answer0.2 are correct but case is not correct\"= setequal(digest(paste(toString(answer0.2), \"1f34d\")), \"76cd8e94fc72c79f339e2c39dfb0987c\"))\n",
    "\n",
    "print('Success!')"
   ]
  },
  {
   "cell_type": "markdown",
   "metadata": {
    "deletable": false,
    "editable": false,
    "nbgrader": {
     "cell_type": "markdown",
     "checksum": "85ae692724797a75ef3c7607ddb52937",
     "grade": false,
     "grade_id": "cell-1734097c6dca49fb",
     "locked": true,
     "schema_version": 3,
     "solution": false,
     "task": false
    }
   },
   "source": [
    "**Question 0.3** Multiple Choice:\n",
    "<br>{points: 1}\n",
    "\n",
    "Precision and recall are ways to summarize the confusion matrix. What is something we must do before calculating precision and recall?\n",
    "\n",
    "A. Turn the values (counts of observations) appearing in each cell of the table into a proportion. \n",
    "\n",
    "B. Choose one of the class label as being more interesting and equate that with the \"positive\" label.\n",
    "\n",
    "C. Flip the column and rows of the matrix.\n",
    "\n",
    "D. None of the above.\n",
    "\n",
    "*Assign your answer to an object called `answer0.3`. Make sure your answer is an uppercase letter and is surrounded by quotation marks (e.g. `\"F\"`)*."
   ]
  },
  {
   "cell_type": "code",
   "execution_count": null,
   "metadata": {
    "deletable": false,
    "nbgrader": {
     "cell_type": "code",
     "checksum": "068f14657e59f74dfd9f3df8a0a2c0c8",
     "grade": false,
     "grade_id": "cell-a77e5fbd4b7f6079",
     "locked": false,
     "schema_version": 3,
     "solution": true,
     "task": false
    }
   },
   "outputs": [],
   "source": [
    "# your code here\n",
    "fail() # No Answer - remove if you provide an answer"
   ]
  },
  {
   "cell_type": "code",
   "execution_count": null,
   "metadata": {
    "deletable": false,
    "editable": false,
    "nbgrader": {
     "cell_type": "code",
     "checksum": "51cfdfeab71b93c6787665ca3f291522",
     "grade": true,
     "grade_id": "cell-7761709105afb61e",
     "locked": true,
     "points": 1,
     "schema_version": 3,
     "solution": false,
     "task": false
    }
   },
   "outputs": [],
   "source": [
    "library(digest)\n",
    "stopifnot(\"type of answer0.3 is not character\"= setequal(digest(paste(toString(class(answer0.3)), \"41946\")), \"c8b24a798cc1a59611837ee1c555ebb9\"))\n",
    "stopifnot(\"length of answer0.3 is not correct\"= setequal(digest(paste(toString(length(answer0.3)), \"41946\")), \"63374a30ca7f20b8f777e0337f2ee14d\"))\n",
    "stopifnot(\"value of answer0.3 is not correct\"= setequal(digest(paste(toString(tolower(answer0.3)), \"41946\")), \"1f7f0e091fe8d141b0c3dcfceb3edf72\"))\n",
    "stopifnot(\"letters in string value of answer0.3 are correct but case is not correct\"= setequal(digest(paste(toString(answer0.3), \"41946\")), \"4854984eec9ba33a9c1318561a87ae78\"))\n",
    "\n",
    "print('Success!')"
   ]
  },
  {
   "cell_type": "markdown",
   "metadata": {
    "deletable": false,
    "editable": false,
    "nbgrader": {
     "cell_type": "markdown",
     "checksum": "efeb2215f120a2a1b03bc51db3520cc6",
     "grade": false,
     "grade_id": "cell-0ae53a5320742a59",
     "locked": true,
     "schema_version": 3,
     "solution": false,
     "task": false
    }
   },
   "source": [
    "## 1. Fruit Data Example - (Part II)\n",
    "**Question 1.0** \n",
    "<br>{points: 1}\n",
    "\n",
    "You will recognize a few of the first questions in this worksheet from last week's tutorial. This will help you repeat some of the fundamentals of classification before tackling the later questions in this worksheet, which integrate concepts you learned from this week's material. First, load the file `fruit_data.csv` (found in the data folder) from the previous tutorial into your notebook.\n",
    "\n",
    "`mutate()` the `fruit_name` column such that it is a factor using `as_factor()`.\n",
    "\n",
    "*Assign your data to an object called `fruit_data`.*"
   ]
  },
  {
   "cell_type": "code",
   "execution_count": null,
   "metadata": {
    "deletable": false,
    "nbgrader": {
     "cell_type": "code",
     "checksum": "5dec1e49d953d99d5f1175fa39fdce56",
     "grade": false,
     "grade_id": "cell-79fb584a3431ca43",
     "locked": false,
     "schema_version": 3,
     "solution": true,
     "task": false
    }
   },
   "outputs": [],
   "source": [
    "# your code here\n",
    "fail() # No Answer - remove if you provide an answer"
   ]
  },
  {
   "cell_type": "code",
   "execution_count": null,
   "metadata": {
    "deletable": false,
    "editable": false,
    "nbgrader": {
     "cell_type": "code",
     "checksum": "14f262013256596c9dd15d8bdb5089d8",
     "grade": true,
     "grade_id": "cell-03b586646cc9ea74",
     "locked": true,
     "points": 1,
     "schema_version": 3,
     "solution": false,
     "task": false
    }
   },
   "outputs": [],
   "source": [
    "library(digest)\n",
    "stopifnot(\"fruit_data should be a data frame\"= setequal(digest(paste(toString('data.frame' %in% class(fruit_data)), \"29200\")), \"c249325125328e94ba87b9a5ae1ebf01\"))\n",
    "stopifnot(\"dimensions of fruit_data are not correct\"= setequal(digest(paste(toString(dim(fruit_data)), \"29200\")), \"e2a58c3c53217ed41a9a0b155439e057\"))\n",
    "stopifnot(\"column names of fruit_data are not correct\"= setequal(digest(paste(toString(sort(colnames(fruit_data))), \"29200\")), \"5a69ac127109ff06412627c48ee1a81a\"))\n",
    "stopifnot(\"types of columns in fruit_data are not correct\"= setequal(digest(paste(toString(sort(unlist(sapply(fruit_data, class)))), \"29200\")), \"535245b3684c2c9b56dd3fb194ab4e1d\"))\n",
    "stopifnot(\"values in one or more numerical columns in fruit_data are not correct\"= setequal(digest(paste(toString(if (any(sapply(fruit_data, is.numeric))) sort(round(sapply(fruit_data[, sapply(fruit_data, is.numeric)], sum, na.rm = TRUE), 2)) else 0), \"29200\")), \"3d9aa00970f2bcaf0f8129f5f61e67e8\"))\n",
    "stopifnot(\"values in one or more character columns in fruit_data are not correct\"= setequal(digest(paste(toString(if (any(sapply(fruit_data, is.character))) sum(sapply(fruit_data[sapply(fruit_data, is.character)], function(x) length(unique(x)))) else 0), \"29200\")), \"ba0b354e5d3a00f41162523f56c174f3\"))\n",
    "stopifnot(\"values in one or more factor columns in fruit_data are not correct\"= setequal(digest(paste(toString(if (any(sapply(fruit_data, is.factor))) sum(sapply(fruit_data[, sapply(fruit_data, is.factor)], function(col) length(unique(col)))) else 0), \"29200\")), \"b3b0353d44dbea0fd1160775cb1cdb23\"))\n",
    "\n",
    "print('Success!')"
   ]
  },
  {
   "cell_type": "markdown",
   "metadata": {
    "deletable": false,
    "editable": false,
    "nbgrader": {
     "cell_type": "markdown",
     "checksum": "96c22def398ef9777be1d806a18c328d",
     "grade": false,
     "grade_id": "cell-9691b09f8cd7044c",
     "locked": true,
     "schema_version": 3,
     "solution": false,
     "task": false
    }
   },
   "source": [
    "Let's take a look at the first six observations in the fruit dataset. Run the cell below."
   ]
  },
  {
   "cell_type": "code",
   "execution_count": null,
   "metadata": {
    "deletable": false,
    "editable": false,
    "nbgrader": {
     "cell_type": "code",
     "checksum": "f93525a5f4e7f3394f97443382f48b42",
     "grade": false,
     "grade_id": "cell-19eb282d44a51d90",
     "locked": true,
     "schema_version": 3,
     "solution": false,
     "task": false
    }
   },
   "outputs": [],
   "source": [
    "# Run this cell. \n",
    "slice(fruit_data, 1:6)"
   ]
  },
  {
   "cell_type": "markdown",
   "metadata": {
    "deletable": false,
    "editable": false,
    "nbgrader": {
     "cell_type": "markdown",
     "checksum": "9bbc0b46966cf89cba182cf5cd89213a",
     "grade": false,
     "grade_id": "cell-8859cd0f52f211a7",
     "locked": true,
     "schema_version": 3,
     "solution": false,
     "task": false
    }
   },
   "source": [
    "Run the cell below, and find the nearest neighbour based on mass and width to the first observation just by looking at the scatterplot (the first observation has been circled for you)."
   ]
  },
  {
   "cell_type": "code",
   "execution_count": null,
   "metadata": {
    "deletable": false,
    "editable": false,
    "nbgrader": {
     "cell_type": "code",
     "checksum": "c595e24a25160d27fc35efb21453f56e",
     "grade": false,
     "grade_id": "cell-3833e64a2fd0000c",
     "locked": true,
     "schema_version": 3,
     "solution": false,
     "task": false
    }
   },
   "outputs": [],
   "source": [
    "# Run this cell. \n",
    "options(repr.plot.width=10, repr.plot.height=6)\n",
    "point1 <- c(192, 8.4)\n",
    "point2 <- c(180, 8)\n",
    "point44 <- c(194, 7.2)\n",
    "\n",
    "fruit_data |>  \n",
    "    ggplot(aes(x=mass, \n",
    "               y= width, \n",
    "               colour = fruit_name)) +\n",
    "        labs(x = \"Mass (grams)\",\n",
    "             y = \"Width (cm)\",\n",
    "            colour = 'Name of the Fruit') +\n",
    "        geom_point() +\n",
    "        annotate(\"path\", \n",
    "                 x=point1[1] + 5*cos(seq(0,2*pi,length.out=100)),\n",
    "                 y=point1[2] + 0.1*sin(seq(0,2*pi,length.out=100))) +\n",
    "        annotate(\"text\", x = 183, y =  8.5, label = \"1\") +\n",
    "        theme(text = element_text(size = 20))"
   ]
  },
  {
   "cell_type": "markdown",
   "metadata": {
    "deletable": false,
    "editable": false,
    "nbgrader": {
     "cell_type": "markdown",
     "checksum": "52a1e73d0bea41e562332ebf0b42987e",
     "grade": false,
     "grade_id": "cell-63c4bd6e0c9afee9",
     "locked": true,
     "schema_version": 3,
     "solution": false,
     "task": false
    }
   },
   "source": [
    "**Question 1.1** Multiple Choice:\n",
    "<br>{points: 1}\n",
    "\n",
    "Based on the graph generated, what is the `fruit_name` of the closest data point to the one circled?\n",
    "\n",
    "A. apple\n",
    "\n",
    "B. lemon\n",
    "\n",
    "C. mandarin\n",
    "\n",
    "D. orange\n",
    "\n",
    "*Assign your answer to an object called `answer1.1`. Make sure your answer is an uppercase letter and is surrounded by quotation marks (e.g. `\"F\"`).*"
   ]
  },
  {
   "cell_type": "code",
   "execution_count": null,
   "metadata": {
    "deletable": false,
    "nbgrader": {
     "cell_type": "code",
     "checksum": "50e62322f1288e75b3c923f23152071f",
     "grade": false,
     "grade_id": "cell-b2af8601532fb0b1",
     "locked": false,
     "schema_version": 3,
     "solution": true,
     "task": false
    }
   },
   "outputs": [],
   "source": [
    "# your code here\n",
    "fail() # No Answer - remove if you provide an answer"
   ]
  },
  {
   "cell_type": "code",
   "execution_count": null,
   "metadata": {
    "deletable": false,
    "editable": false,
    "nbgrader": {
     "cell_type": "code",
     "checksum": "d1a302abb245d156ccd5042833c2939a",
     "grade": true,
     "grade_id": "cell-3d469d43b37c3c40",
     "locked": true,
     "points": 1,
     "schema_version": 3,
     "solution": false,
     "task": false
    }
   },
   "outputs": [],
   "source": [
    "library(digest)\n",
    "stopifnot(\"type of answer1.1 is not character\"= setequal(digest(paste(toString(class(answer1.1)), \"44bf7\")), \"d3d5f726ac1bc5dab8facb6f10c460d3\"))\n",
    "stopifnot(\"length of answer1.1 is not correct\"= setequal(digest(paste(toString(length(answer1.1)), \"44bf7\")), \"a1ed3053755affd6038f04c20c6d237f\"))\n",
    "stopifnot(\"value of answer1.1 is not correct\"= setequal(digest(paste(toString(tolower(answer1.1)), \"44bf7\")), \"61b8189fe3d242091af9c59b605abf69\"))\n",
    "stopifnot(\"letters in string value of answer1.1 are correct but case is not correct\"= setequal(digest(paste(toString(answer1.1), \"44bf7\")), \"5ae0897a033f3e10d8991d25beb06c17\"))\n",
    "\n",
    "print('Success!')"
   ]
  },
  {
   "cell_type": "markdown",
   "metadata": {
    "deletable": false,
    "editable": false,
    "nbgrader": {
     "cell_type": "markdown",
     "checksum": "0c818ef9d59ccba8a4a358235c428605",
     "grade": false,
     "grade_id": "cell-10a0cb2de24a557d",
     "locked": true,
     "schema_version": 3,
     "solution": false,
     "task": false
    }
   },
   "source": [
    "**Question 1.2**\n",
    "<br>{points: 1}\n",
    "\n",
    "Using `mass` and `width`, calculate the distance between the first observation and the second observation.\n",
    "\n",
    "We provide a scaffolding to get you started.\n",
    "\n",
    "*Assign your answer to an object called `fruit_dist_2`.*"
   ]
  },
  {
   "cell_type": "code",
   "execution_count": null,
   "metadata": {
    "deletable": false,
    "nbgrader": {
     "cell_type": "code",
     "checksum": "476e3a965e4688fd2225725b0d5ac7fd",
     "grade": false,
     "grade_id": "cell-b6995fb3f851dfd1",
     "locked": false,
     "schema_version": 3,
     "solution": true,
     "task": false
    }
   },
   "outputs": [],
   "source": [
    "# ... <- fruit_data |>\n",
    "#    slice(1, 2) |> # We use slice to get the first two rows of the fruit dataset\n",
    "#    select(mass, ...) |>\n",
    "#    dist()\n",
    "\n",
    "# your code here\n",
    "fail() # No Answer - remove if you provide an answer"
   ]
  },
  {
   "cell_type": "code",
   "execution_count": null,
   "metadata": {
    "deletable": false,
    "editable": false,
    "nbgrader": {
     "cell_type": "code",
     "checksum": "dfe5e84f6cbc6e84baf3c2bc4d27e65a",
     "grade": true,
     "grade_id": "cell-b985ee138ab89218",
     "locked": true,
     "points": 1,
     "schema_version": 3,
     "solution": false,
     "task": false
    }
   },
   "outputs": [],
   "source": [
    "library(digest)\n",
    "stopifnot(\"type of fruit_dist_2[1] is not numeric\"= setequal(digest(paste(toString(class(fruit_dist_2[1])), \"d9302\")), \"65c0a0808fecf2319a4892a69be584bb\"))\n",
    "stopifnot(\"value of fruit_dist_2[1] is not correct (rounded to 2 decimal places)\"= setequal(digest(paste(toString(round(fruit_dist_2[1], 2)), \"d9302\")), \"83a1f8cd6e6251e9659b0bd64dad1a85\"))\n",
    "stopifnot(\"length of fruit_dist_2[1] is not correct\"= setequal(digest(paste(toString(length(fruit_dist_2[1])), \"d9302\")), \"cb59c3597d965ca14671650f79521113\"))\n",
    "stopifnot(\"values of fruit_dist_2[1] are not correct\"= setequal(digest(paste(toString(sort(round(fruit_dist_2[1], 2))), \"d9302\")), \"83a1f8cd6e6251e9659b0bd64dad1a85\"))\n",
    "\n",
    "print('Success!')"
   ]
  },
  {
   "cell_type": "markdown",
   "metadata": {
    "deletable": false,
    "editable": false,
    "nbgrader": {
     "cell_type": "markdown",
     "checksum": "d2bfb1d68d0f83e30d6b6950cb5c8175",
     "grade": false,
     "grade_id": "cell-1688abd2ff0a21e7",
     "locked": true,
     "schema_version": 3,
     "solution": false,
     "task": false
    }
   },
   "source": [
    "**Question 1.3**\n",
    "<br>{points: 1}\n",
    "\n",
    "Calculate the distance between the first and the **44th observation** in the `fruit` dataset using the `mass` and `width` variables.\n",
    "\n",
    "You can see from the data frame output from the cell below that **observation 44** has `mass` = 194 g and `width` = 7.2 cm.\n",
    "\n",
    "*Assign your answer to an object called `fruit_dist_44`.*"
   ]
  },
  {
   "cell_type": "code",
   "execution_count": null,
   "metadata": {
    "deletable": false,
    "editable": false,
    "nbgrader": {
     "cell_type": "code",
     "checksum": "64778b9334133deefe3237fd61eb9a36",
     "grade": false,
     "grade_id": "cell-c08d592f4a1618b2",
     "locked": true,
     "schema_version": 3,
     "solution": false,
     "task": false
    }
   },
   "outputs": [],
   "source": [
    "# Run this cell. \n",
    "\n",
    "filter(fruit_data, row_number() == 44)\n",
    "\n",
    "point1 <- c(192, 8.4)\n",
    "point2 <- c(180, 8)\n",
    "point44 <- c(194, 7.2)\n",
    "\n",
    "fruit_data |>\n",
    "    ggplot(aes(x = mass, \n",
    "               y = width, \n",
    "               colour = fruit_name)) +\n",
    "        labs(x = \"Mass (grams)\",\n",
    "             y = \"Width (cm)\",\n",
    "            colour = 'Name of the Fruit') +\n",
    "        geom_point() +\n",
    "        annotate(\"path\", \n",
    "                 x=point1[1] + 5*cos(seq(0,2*pi,length.out=100)),\n",
    "                 y=point1[2] + 0.1*sin(seq(0,2*pi,length.out=100))) +\n",
    "        annotate(\"text\", x = 183, y =  8.5, label = \"1\") +\n",
    "        annotate(\"path\",\n",
    "                 x=point2[1] + 5*cos(seq(0,2*pi,length.out=100)),\n",
    "                 y=point2[2] + 0.1*sin(seq(0,2*pi,length.out=100))) +\n",
    "        annotate(\"text\", x = 169, y =  8.1, label = \"2\") +\n",
    "        annotate(\"path\",\n",
    "                 x=point44[1] + 5*cos(seq(0,2*pi,length.out=100)),\n",
    "                 y=point44[2]+0.1*sin(seq(0,2*pi,length.out=100))) +\n",
    "        annotate(\"text\", x = 204, y =  7.1, label = \"44\") +\n",
    "        theme(text = element_text(size = 20))"
   ]
  },
  {
   "cell_type": "code",
   "execution_count": null,
   "metadata": {
    "deletable": false,
    "nbgrader": {
     "cell_type": "code",
     "checksum": "cb970fe2038ad019cb9a8e4344e9356a",
     "grade": false,
     "grade_id": "cell-43a8d3f7727d3450",
     "locked": false,
     "schema_version": 3,
     "solution": true,
     "task": false
    }
   },
   "outputs": [],
   "source": [
    "# your code here\n",
    "fail() # No Answer - remove if you provide an answer"
   ]
  },
  {
   "cell_type": "code",
   "execution_count": null,
   "metadata": {
    "deletable": false,
    "editable": false,
    "nbgrader": {
     "cell_type": "code",
     "checksum": "515cf8cb63c25dacc9682a450f2f7a87",
     "grade": true,
     "grade_id": "cell-34cfcd13bb1f5097",
     "locked": true,
     "points": 1,
     "schema_version": 3,
     "solution": false,
     "task": false
    }
   },
   "outputs": [],
   "source": [
    "library(digest)\n",
    "stopifnot(\"type of fruit_dist_44[1] is not numeric\"= setequal(digest(paste(toString(class(fruit_dist_44[1])), \"a5551\")), \"2cf1678010dbd300bf2a85836279249a\"))\n",
    "stopifnot(\"value of fruit_dist_44[1] is not correct (rounded to 2 decimal places)\"= setequal(digest(paste(toString(round(fruit_dist_44[1], 2)), \"a5551\")), \"4aa3604da406839833af0fa9cce81cce\"))\n",
    "stopifnot(\"length of fruit_dist_44[1] is not correct\"= setequal(digest(paste(toString(length(fruit_dist_44[1])), \"a5551\")), \"5dfd8a1b91af7f0ecc1be97128ab9edb\"))\n",
    "stopifnot(\"values of fruit_dist_44[1] are not correct\"= setequal(digest(paste(toString(sort(round(fruit_dist_44[1], 2))), \"a5551\")), \"4aa3604da406839833af0fa9cce81cce\"))\n",
    "\n",
    "print('Success!')"
   ]
  },
  {
   "cell_type": "markdown",
   "metadata": {
    "deletable": false,
    "editable": false,
    "nbgrader": {
     "cell_type": "markdown",
     "checksum": "f64f5382c5d075b19ba415c9e136c8e5",
     "grade": false,
     "grade_id": "cell-aee58b612565e7f9",
     "locked": true,
     "schema_version": 3,
     "solution": false,
     "task": false
    }
   },
   "source": [
    "What do you notice about your answers from **Question 1.2** & **1.3** that you just calculated? Is it what you would expect given the scatter plot above? Why or why not? Discuss this.\n",
    "\n",
    "*Hint: Look at where the observations are on the scatterplot in the cell above this question. What might happen if we changed grams into kilograms to measure the mass?*"
   ]
  },
  {
   "cell_type": "markdown",
   "metadata": {
    "deletable": false,
    "editable": false,
    "nbgrader": {
     "cell_type": "markdown",
     "checksum": "b084c5d19a158430a9aba43f726fa4b9",
     "grade": false,
     "grade_id": "cell-5fb7c1e62997eb46",
     "locked": true,
     "schema_version": 3,
     "solution": false,
     "task": false
    }
   },
   "source": [
    "**Question 1.4**\n",
    "<br>{points: 1}\n",
    "\n",
    "From the distance calculation, we see that observation 1 and 44 have a smaller distance than observation 1 and 2. However, if we look at the scatterplot the distance of the first observation to the second observation appears closer than to the 44th observation.\n",
    "\n",
    "Which of the following statements is correct?\n",
    "\n",
    "A. A difference of 12 g in mass between observation 1 and 2 is large compared to a difference of 1.2 cm in width between observation 1 and 44. Consequently, mass will drive the classification results, and width will have less of an effect. Hence, our distance calculation reflects that.\n",
    "\n",
    "B. If we measured mass in kilograms, then we’d get different classification results.\n",
    "\n",
    "C. We should standardize the data so that all variables will be on a comparable scale.\n",
    "\n",
    "D. All of the above.\n",
    "\n",
    "*Assign your answer to an object called `answer1.4`. Make sure your answer is an uppercase letter and is surrounded by quotation marks (e.g. `\"F\"`).*"
   ]
  },
  {
   "cell_type": "code",
   "execution_count": null,
   "metadata": {
    "deletable": false,
    "nbgrader": {
     "cell_type": "code",
     "checksum": "4aaa04db4254ad589a402439f0e9c12f",
     "grade": false,
     "grade_id": "cell-4b81c6055a08f87b",
     "locked": false,
     "schema_version": 3,
     "solution": true,
     "task": false
    }
   },
   "outputs": [],
   "source": [
    "# your code here\n",
    "fail() # No Answer - remove if you provide an answer\n",
    "answer1.4"
   ]
  },
  {
   "cell_type": "code",
   "execution_count": null,
   "metadata": {
    "deletable": false,
    "editable": false,
    "nbgrader": {
     "cell_type": "code",
     "checksum": "3ae8ccc5d309417ac19425172d898f4f",
     "grade": true,
     "grade_id": "cell-89c07cb539498da4",
     "locked": true,
     "points": 1,
     "schema_version": 3,
     "solution": false,
     "task": false
    }
   },
   "outputs": [],
   "source": [
    "library(digest)\n",
    "stopifnot(\"type of answer1.4 is not character\"= setequal(digest(paste(toString(class(answer1.4)), \"42813\")), \"e325fb392e4ebf6f6c3baa725590daac\"))\n",
    "stopifnot(\"length of answer1.4 is not correct\"= setequal(digest(paste(toString(length(answer1.4)), \"42813\")), \"321f16a57dbd8151ee0164b5ff2cfccb\"))\n",
    "stopifnot(\"value of answer1.4 is not correct\"= setequal(digest(paste(toString(tolower(answer1.4)), \"42813\")), \"1d5a63b0fe16c743d79f52a40396a150\"))\n",
    "stopifnot(\"letters in string value of answer1.4 are correct but case is not correct\"= setequal(digest(paste(toString(answer1.4), \"42813\")), \"40665438bd5332979a4f9a87d16e7f58\"))\n",
    "\n",
    "print('Success!')"
   ]
  },
  {
   "cell_type": "markdown",
   "metadata": {
    "deletable": false,
    "editable": false,
    "nbgrader": {
     "cell_type": "markdown",
     "checksum": "9504a2efda7af0ec6cf75b0549b58f6f",
     "grade": false,
     "grade_id": "cell-5b9caaa8370fd73e",
     "locked": true,
     "schema_version": 3,
     "solution": false,
     "task": false
    }
   },
   "source": [
    "**Question 1.5**\n",
    "<br>{points: 1}\n",
    "\n",
    "Scale and center all the variables of the `fruit` dataset and save them as columns in your data table.\n",
    "\n",
    "Save the dataset object and call it `fruit_data_scaled`. Make sure to name the new columns `scaled_*` where * is the old column name (e.g. `scaled_mass`). Do not drop the unscaled columns (`mass`, `width`, `height`, `color_score`)."
   ]
  },
  {
   "cell_type": "code",
   "execution_count": null,
   "metadata": {
    "deletable": false,
    "nbgrader": {
     "cell_type": "code",
     "checksum": "e0fea44cef07fa7724e014ce4a659249",
     "grade": false,
     "grade_id": "cell-d15b464489d4f1a0",
     "locked": false,
     "schema_version": 3,
     "solution": true,
     "task": false
    }
   },
   "outputs": [],
   "source": [
    "# .. <- fruit_data |> \n",
    "# mutate(scaled_mass = scale(mass, center = TRUE), \n",
    "#        scaled_width = scale(..., ...),\n",
    "#        scaled_height = scale(..., ...),\n",
    "#        scaled_color_score = scale(..., ...))\n",
    "\n",
    "# your code here\n",
    "fail() # No Answer - remove if you provide an answer\n",
    "fruit_data_scaled"
   ]
  },
  {
   "cell_type": "code",
   "execution_count": null,
   "metadata": {
    "deletable": false,
    "editable": false,
    "nbgrader": {
     "cell_type": "code",
     "checksum": "084e60e22179178d112f49f611cbe467",
     "grade": true,
     "grade_id": "cell-1897bc0107b67ecc",
     "locked": true,
     "points": 1,
     "schema_version": 3,
     "solution": false,
     "task": false
    }
   },
   "outputs": [],
   "source": [
    "library(digest)\n",
    "stopifnot(\"fruit_data_scaled should be a data frame\"= setequal(digest(paste(toString('data.frame' %in% class(fruit_data_scaled)), \"b8e60\")), \"84b978795eaaf3c4b8fa6efe160781c1\"))\n",
    "stopifnot(\"dimensions of fruit_data_scaled are not correct\"= setequal(digest(paste(toString(dim(fruit_data_scaled)), \"b8e60\")), \"023264909d9ef1ac5f5984391a0cb3ff\"))\n",
    "stopifnot(\"column names of fruit_data_scaled are not correct\"= setequal(digest(paste(toString(sort(colnames(fruit_data_scaled))), \"b8e60\")), \"2199f7beff77c257cbbd65cb229b848b\"))\n",
    "stopifnot(\"types of columns in fruit_data_scaled are not correct\"= setequal(digest(paste(toString(sort(unlist(sapply(fruit_data_scaled, class)))), \"b8e60\")), \"0cf4c9b91dd9498b9b416fbedc2d3d1a\"))\n",
    "stopifnot(\"values in one or more numerical columns in fruit_data_scaled are not correct\"= setequal(digest(paste(toString(if (any(sapply(fruit_data_scaled, is.numeric))) sort(round(sapply(fruit_data_scaled[, sapply(fruit_data_scaled, is.numeric)], sum, na.rm = TRUE), 2)) else 0), \"b8e60\")), \"ac6a3e70cef6a488a8b353a253b63d80\"))\n",
    "stopifnot(\"values in one or more character columns in fruit_data_scaled are not correct\"= setequal(digest(paste(toString(if (any(sapply(fruit_data_scaled, is.character))) sum(sapply(fruit_data_scaled[sapply(fruit_data_scaled, is.character)], function(x) length(unique(x)))) else 0), \"b8e60\")), \"a27082f60209194d8e8d5830fa6a2e04\"))\n",
    "stopifnot(\"values in one or more factor columns in fruit_data_scaled are not correct\"= setequal(digest(paste(toString(if (any(sapply(fruit_data_scaled, is.factor))) sum(sapply(fruit_data_scaled[, sapply(fruit_data_scaled, is.factor)], function(col) length(unique(col)))) else 0), \"b8e60\")), \"98874f8ae5103a02282d7d170322fc4e\"))\n",
    "\n",
    "stopifnot(\"type of round(sum(fruit_data_scaled$scaled_mass), 2) is not numeric\"= setequal(digest(paste(toString(class(round(sum(fruit_data_scaled$scaled_mass), 2))), \"b8e61\")), \"30a2aed2af3c05cb961d8f7fbda4505a\"))\n",
    "stopifnot(\"value of round(sum(fruit_data_scaled$scaled_mass), 2) is not correct (rounded to 2 decimal places)\"= setequal(digest(paste(toString(round(round(sum(fruit_data_scaled$scaled_mass), 2), 2)), \"b8e61\")), \"02652591c9d5463729147f4aa6955da9\"))\n",
    "stopifnot(\"length of round(sum(fruit_data_scaled$scaled_mass), 2) is not correct\"= setequal(digest(paste(toString(length(round(sum(fruit_data_scaled$scaled_mass), 2))), \"b8e61\")), \"a477ef3d2632c0ea963bd6b1563b1787\"))\n",
    "stopifnot(\"values of round(sum(fruit_data_scaled$scaled_mass), 2) are not correct\"= setequal(digest(paste(toString(sort(round(round(sum(fruit_data_scaled$scaled_mass), 2), 2))), \"b8e61\")), \"02652591c9d5463729147f4aa6955da9\"))\n",
    "\n",
    "stopifnot(\"type of round(sum(fruit_data_scaled$scaled_width), 2) is not numeric\"= setequal(digest(paste(toString(class(round(sum(fruit_data_scaled$scaled_width), 2))), \"b8e62\")), \"b21bf119545b72fb46c97a5bf2745615\"))\n",
    "stopifnot(\"value of round(sum(fruit_data_scaled$scaled_width), 2) is not correct (rounded to 2 decimal places)\"= setequal(digest(paste(toString(round(round(sum(fruit_data_scaled$scaled_width), 2), 2)), \"b8e62\")), \"a7de2ad81e358d706ca8a1b66fbe7d91\"))\n",
    "stopifnot(\"length of round(sum(fruit_data_scaled$scaled_width), 2) is not correct\"= setequal(digest(paste(toString(length(round(sum(fruit_data_scaled$scaled_width), 2))), \"b8e62\")), \"dd5fb4ecefdd85025727009657090d10\"))\n",
    "stopifnot(\"values of round(sum(fruit_data_scaled$scaled_width), 2) are not correct\"= setequal(digest(paste(toString(sort(round(round(sum(fruit_data_scaled$scaled_width), 2), 2))), \"b8e62\")), \"a7de2ad81e358d706ca8a1b66fbe7d91\"))\n",
    "\n",
    "stopifnot(\"type of round(sum(fruit_data_scaled$scaled_height), 2) is not numeric\"= setequal(digest(paste(toString(class(round(sum(fruit_data_scaled$scaled_height), 2))), \"b8e63\")), \"dc749e70e6671755f1120b3bd213e3f4\"))\n",
    "stopifnot(\"value of round(sum(fruit_data_scaled$scaled_height), 2) is not correct (rounded to 2 decimal places)\"= setequal(digest(paste(toString(round(round(sum(fruit_data_scaled$scaled_height), 2), 2)), \"b8e63\")), \"3b1466b148aba47066937d7f94e6ae1c\"))\n",
    "stopifnot(\"length of round(sum(fruit_data_scaled$scaled_height), 2) is not correct\"= setequal(digest(paste(toString(length(round(sum(fruit_data_scaled$scaled_height), 2))), \"b8e63\")), \"d9974049ccebedc3a9f7265b4cdd38b0\"))\n",
    "stopifnot(\"values of round(sum(fruit_data_scaled$scaled_height), 2) are not correct\"= setequal(digest(paste(toString(sort(round(round(sum(fruit_data_scaled$scaled_height), 2), 2))), \"b8e63\")), \"3b1466b148aba47066937d7f94e6ae1c\"))\n",
    "\n",
    "stopifnot(\"type of round(sum(fruit_data_scaled$scaled_color_score), 2) is not numeric\"= setequal(digest(paste(toString(class(round(sum(fruit_data_scaled$scaled_color_score), 2))), \"b8e64\")), \"e610de47516187394c651c8f02b444a6\"))\n",
    "stopifnot(\"value of round(sum(fruit_data_scaled$scaled_color_score), 2) is not correct (rounded to 2 decimal places)\"= setequal(digest(paste(toString(round(round(sum(fruit_data_scaled$scaled_color_score), 2), 2)), \"b8e64\")), \"f39509a06b202edb9f86b7a4a09c2293\"))\n",
    "stopifnot(\"length of round(sum(fruit_data_scaled$scaled_color_score), 2) is not correct\"= setequal(digest(paste(toString(length(round(sum(fruit_data_scaled$scaled_color_score), 2))), \"b8e64\")), \"dc3f4ac0c6d40877ab4ed8bb11569eff\"))\n",
    "stopifnot(\"values of round(sum(fruit_data_scaled$scaled_color_score), 2) are not correct\"= setequal(digest(paste(toString(sort(round(round(sum(fruit_data_scaled$scaled_color_score), 2), 2))), \"b8e64\")), \"f39509a06b202edb9f86b7a4a09c2293\"))\n",
    "\n",
    "print('Success!')"
   ]
  },
  {
   "cell_type": "markdown",
   "metadata": {
    "deletable": false,
    "editable": false,
    "nbgrader": {
     "cell_type": "markdown",
     "checksum": "d8353b551de8d946a616e4c9b870f7c0",
     "grade": false,
     "grade_id": "cell-b6f8f43cbdc8642a",
     "locked": true,
     "schema_version": 3,
     "solution": false,
     "task": false
    }
   },
   "source": [
    "\n",
    "**Question 1.6**\n",
    "<br>{points: 1}\n",
    "\n",
    "Let's repeat **Question 1.2** and **1.3** with the scaled variables:\n",
    "\n",
    "- calculate the distance with the scaled mass and width variables between observations 1 and 2\n",
    "- calculate the distances with the scaled mass and width variables between observations 1 and 44\n",
    "\n",
    "After you do this, think about how these distances compared to the distances you computed in **Question 1.2** and **1.3** for the same points.\n",
    "\n",
    "*Assign your answers to objects called `distance_2` and `distance_44` respectively.*"
   ]
  },
  {
   "cell_type": "code",
   "execution_count": null,
   "metadata": {
    "deletable": false,
    "nbgrader": {
     "cell_type": "code",
     "checksum": "61f35f4c227b0b25d56ede46dc1b3e73",
     "grade": false,
     "grade_id": "cell-7723cc0237258b6c",
     "locked": false,
     "schema_version": 3,
     "solution": true,
     "task": false
    }
   },
   "outputs": [],
   "source": [
    "# your code here\n",
    "fail() # No Answer - remove if you provide an answer\n",
    "distance_2\n",
    "distance_44"
   ]
  },
  {
   "cell_type": "code",
   "execution_count": null,
   "metadata": {
    "deletable": false,
    "editable": false,
    "nbgrader": {
     "cell_type": "code",
     "checksum": "155cab86e81053854c62d1ec4f20805b",
     "grade": true,
     "grade_id": "cell-7316457bcda1bf40",
     "locked": true,
     "points": 1,
     "schema_version": 3,
     "solution": false,
     "task": false
    }
   },
   "outputs": [],
   "source": [
    "library(digest)\n",
    "stopifnot(\"type of distance_2[1] is not numeric\"= setequal(digest(paste(toString(class(distance_2[1])), \"1b6fb\")), \"35f582c5f6cb02b7330a80c2205b9e62\"))\n",
    "stopifnot(\"value of distance_2[1] is not correct (rounded to 2 decimal places)\"= setequal(digest(paste(toString(round(distance_2[1], 2)), \"1b6fb\")), \"d50cfb0d9ca407da29ab89ab8b9d2d64\"))\n",
    "stopifnot(\"length of distance_2[1] is not correct\"= setequal(digest(paste(toString(length(distance_2[1])), \"1b6fb\")), \"b1b6ac32c1555e6d1f69e4e7153dc40a\"))\n",
    "stopifnot(\"values of distance_2[1] are not correct\"= setequal(digest(paste(toString(sort(round(distance_2[1], 2))), \"1b6fb\")), \"d50cfb0d9ca407da29ab89ab8b9d2d64\"))\n",
    "\n",
    "stopifnot(\"type of distance_44[1] is not numeric\"= setequal(digest(paste(toString(class(distance_44[1])), \"1b6fc\")), \"785f66be2721f98f29cc7f2455f0d927\"))\n",
    "stopifnot(\"value of distance_44[1] is not correct (rounded to 2 decimal places)\"= setequal(digest(paste(toString(round(distance_44[1], 2)), \"1b6fc\")), \"7d52b9f832ec22b1b8c15bf790d3cdbf\"))\n",
    "stopifnot(\"length of distance_44[1] is not correct\"= setequal(digest(paste(toString(length(distance_44[1])), \"1b6fc\")), \"9158350991020d41872230f41c16365f\"))\n",
    "stopifnot(\"values of distance_44[1] are not correct\"= setequal(digest(paste(toString(sort(round(distance_44[1], 2))), \"1b6fc\")), \"7d52b9f832ec22b1b8c15bf790d3cdbf\"))\n",
    "\n",
    "print('Success!')"
   ]
  },
  {
   "cell_type": "markdown",
   "metadata": {
    "deletable": false,
    "editable": false,
    "nbgrader": {
     "cell_type": "markdown",
     "checksum": "67f52f4e83254e5d82de8b5512fb253c",
     "grade": false,
     "grade_id": "cell-6e0a8546a65b79e8",
     "locked": true,
     "schema_version": 3,
     "solution": false,
     "task": false
    }
   },
   "source": [
    "## Randomness and Setting Seeds\n",
    "\n",
    "This worksheet uses functions from the `tidymodels` library, which not only allows us to perform K-nearest neighbour classification, but also allows us to evaluate how well our classification worked. In order to ensure that the steps in the worksheet are reproducible, we need to set a *seed*, i.e., a numerical \"starting value,\" which determines the sequence of random numbers R will generate.\n",
    "\n",
    "Below in many cells we have included a call to `set.seed`. **Do not remove these lines of code**; they are necessary to make sure the autotesting code functions properly.\n",
    "\n",
    "> *The reason we have `set.seed` in so many places is that Jupyter notebooks are organized into cells that can be run out of order. Since things can be run out of order, the exact sequence of random values that is used in each cell is hard to determine, which makes autotesting really difficult.  We had two options: either enforce that you only ever run the code by hitting \"Restart & Run All\" to ensure that we get the same values of randomness each time, or put `set.seed` in a lot of places (we chose the latter). One drawback of calling `set.seed` everywhere is that the numbers that will be generated won't really be random. For the purposes of teaching and learning, that is fine here. But __in your course project and other data analyses outside of this course, you must call `set.seed` only once at the beginning of the analysis, so that your random numbers are actually reasonably random.__*"
   ]
  },
  {
   "cell_type": "markdown",
   "metadata": {
    "deletable": false,
    "editable": false,
    "nbgrader": {
     "cell_type": "markdown",
     "checksum": "b233a104af7a8d925b3354da1935bed3",
     "grade": false,
     "grade_id": "cell-0e8089ce4f710660",
     "locked": true,
     "schema_version": 3,
     "solution": false
    }
   },
   "source": [
    "## 2. Splitting the data into a training and test set\n",
    "\n",
    "In this exercise, we will be partitioning `fruit_data` into a training (75%) and testing (25%) set using the `tidymodels` package. After creating the test set, we will put the test set away in a lock box and not touch it again until we have found the best k-nn classifier we can make using the training set. We will use the variable `fruit_name` as our class label. \n",
    "\n",
    "\n",
    "**Question 2.0**\n",
    "<br> {points: 1}\n",
    "\n",
    "To create the training and test set, first use the `initial_split` function to split `fruit_data`. Specify you want to use *75%* of the data. For the `strata` argument, place the variable we want to classify, `fruit_name`. Name the object you create `fruit_split`. \n",
    "\n",
    "Next, pass the `fruit_split` object to the `training` and `testing` functions and name your respective objects `fruit_train` and `fruit_test`. "
   ]
  },
  {
   "cell_type": "code",
   "execution_count": null,
   "metadata": {
    "deletable": false,
    "nbgrader": {
     "cell_type": "code",
     "checksum": "b008fa6b5d42c05562f48a86f64272f2",
     "grade": false,
     "grade_id": "cell-c262636f2b9777e3",
     "locked": false,
     "schema_version": 3,
     "solution": true
    }
   },
   "outputs": [],
   "source": [
    "# Set the seed. Don't remove this!\n",
    "set.seed(3456) \n",
    "\n",
    "# Randomly take 75% of the data in the training set. \n",
    "# This will be proportional to the different number of fruit names in the dataset.\n",
    "\n",
    "#... <- initial_split(..., prop = ..., strata = ...)  \n",
    "#... <- training(...)   \n",
    "#... <- testing(...)\n",
    "\n",
    "# your code here\n",
    "fail() # No Answer - remove if you provide an answer\n",
    "fruit_train\n",
    "fruit_test"
   ]
  },
  {
   "cell_type": "code",
   "execution_count": null,
   "metadata": {
    "deletable": false,
    "editable": false,
    "nbgrader": {
     "cell_type": "code",
     "checksum": "d0ce84ac2e6c93b0f4547a9fe7195374",
     "grade": true,
     "grade_id": "cell-7432078031e563b8",
     "locked": true,
     "points": 1,
     "schema_version": 3,
     "solution": false
    }
   },
   "outputs": [],
   "source": [
    "library(digest)\n",
    "stopifnot(\"type of 'rsplit' %in% class(fruit_split) is not logical\"= setequal(digest(paste(toString(class('rsplit' %in% class(fruit_split))), \"313da\")), \"8821aa4b2012e033f70744256d6578a8\"))\n",
    "stopifnot(\"logical value of 'rsplit' %in% class(fruit_split) is not correct\"= setequal(digest(paste(toString('rsplit' %in% class(fruit_split)), \"313da\")), \"c94624166e7a5f1e36af5ed7a5c4c5f5\"))\n",
    "\n",
    "stopifnot(\"fruit_train should be a data frame\"= setequal(digest(paste(toString('data.frame' %in% class(fruit_train)), \"313db\")), \"d1e5aede7d8d54eab4e640bff9a85401\"))\n",
    "stopifnot(\"dimensions of fruit_train are not correct\"= setequal(digest(paste(toString(dim(fruit_train)), \"313db\")), \"c53c562ca8debf8df2a515eca67991bd\"))\n",
    "stopifnot(\"column names of fruit_train are not correct\"= setequal(digest(paste(toString(sort(colnames(fruit_train))), \"313db\")), \"a2ef7f5f4c781ab0c4321e707ede40c4\"))\n",
    "stopifnot(\"types of columns in fruit_train are not correct\"= setequal(digest(paste(toString(sort(unlist(sapply(fruit_train, class)))), \"313db\")), \"20b9ef15fec4542f1126ac474af6839a\"))\n",
    "stopifnot(\"values in one or more numerical columns in fruit_train are not correct\"= setequal(digest(paste(toString(if (any(sapply(fruit_train, is.numeric))) sort(round(sapply(fruit_train[, sapply(fruit_train, is.numeric)], sum, na.rm = TRUE), 2)) else 0), \"313db\")), \"1be68b83c53bfeadd24cfe522ef78ce7\"))\n",
    "stopifnot(\"values in one or more character columns in fruit_train are not correct\"= setequal(digest(paste(toString(if (any(sapply(fruit_train, is.character))) sum(sapply(fruit_train[sapply(fruit_train, is.character)], function(x) length(unique(x)))) else 0), \"313db\")), \"f953729f598c966ac421e1c68bc7a9fd\"))\n",
    "stopifnot(\"values in one or more factor columns in fruit_train are not correct\"= setequal(digest(paste(toString(if (any(sapply(fruit_train, is.factor))) sum(sapply(fruit_train[, sapply(fruit_train, is.factor)], function(col) length(unique(col)))) else 0), \"313db\")), \"49e1d2aade2ace73164589f55aa30f64\"))\n",
    "\n",
    "stopifnot(\"fruit_test should be a data frame\"= setequal(digest(paste(toString('data.frame' %in% class(fruit_test)), \"313dc\")), \"cc793992ab570e288e142509cdecc311\"))\n",
    "stopifnot(\"dimensions of fruit_test are not correct\"= setequal(digest(paste(toString(dim(fruit_test)), \"313dc\")), \"079496466c02d12e7a7132db07b29405\"))\n",
    "stopifnot(\"column names of fruit_test are not correct\"= setequal(digest(paste(toString(sort(colnames(fruit_test))), \"313dc\")), \"22b32b964c9ab251ad46fb80c51e538a\"))\n",
    "stopifnot(\"types of columns in fruit_test are not correct\"= setequal(digest(paste(toString(sort(unlist(sapply(fruit_test, class)))), \"313dc\")), \"5f5afbbfa96f17d1c5e205e822dacf58\"))\n",
    "stopifnot(\"values in one or more numerical columns in fruit_test are not correct\"= setequal(digest(paste(toString(if (any(sapply(fruit_test, is.numeric))) sort(round(sapply(fruit_test[, sapply(fruit_test, is.numeric)], sum, na.rm = TRUE), 2)) else 0), \"313dc\")), \"692d274990cfc65a9109adf2aa7050f9\"))\n",
    "stopifnot(\"values in one or more character columns in fruit_test are not correct\"= setequal(digest(paste(toString(if (any(sapply(fruit_test, is.character))) sum(sapply(fruit_test[sapply(fruit_test, is.character)], function(x) length(unique(x)))) else 0), \"313dc\")), \"51f45cffcd16478c3d9f8545c7aa1440\"))\n",
    "stopifnot(\"values in one or more factor columns in fruit_test are not correct\"= setequal(digest(paste(toString(if (any(sapply(fruit_test, is.factor))) sum(sapply(fruit_test[, sapply(fruit_test, is.factor)], function(col) length(unique(col)))) else 0), \"313dc\")), \"39868f1aeabea5332776ed7b5b991dc7\"))\n",
    "\n",
    "print('Success!')"
   ]
  },
  {
   "cell_type": "markdown",
   "metadata": {
    "deletable": false,
    "editable": false,
    "nbgrader": {
     "cell_type": "markdown",
     "checksum": "a9af5f95503e3c7b209dcccd5348ff44",
     "grade": false,
     "grade_id": "cell-9f6c24da5042200c",
     "locked": true,
     "schema_version": 3,
     "solution": false,
     "task": false
    }
   },
   "source": [
    "**Question 2.1** \n",
    "<br> {points: 1}\n",
    "\n",
    "K-nearest neighbors is sensitive to the scale of the predictors so we should do some preprocessing to standardize them. Remember that standardizing involves centering/shifting (subtracting the mean of each variable) and scaling (dividing by its standard deviation). Also remember that standardization is *part of your training procedure*, so you can't use your test data to compute the shift / scale values for each variable. Therefore, you must pass only the training data to your recipe to compute the preprocessing steps. This ensures that our test data does not influence any aspect of our model training. Once we have created the standardization preprocessor, we can then later on apply it separately to both the training and test data sets.\n",
    "\n",
    "For this exercise, let's see if `mass` and `color_score` can predict `fruit_name`. \n",
    "\n",
    "To scale and center the data, first, pass the vector and the predictors to the `recipe` function. Remember to place your vector *before* your predictors. To scale your predictors, use the `step_scale(all_predictors())` function. To center your predictors, use the `step_center(all_predictors())` function.  \n",
    "\n",
    "*Assign your answer to an object called `fruit_recipe`.*"
   ]
  },
  {
   "cell_type": "code",
   "execution_count": null,
   "metadata": {
    "deletable": false,
    "nbgrader": {
     "cell_type": "code",
     "checksum": "71d7cde637c29d8e9acb0197bf50c359",
     "grade": false,
     "grade_id": "cell-aca4cc578b245211",
     "locked": false,
     "schema_version": 3,
     "solution": true,
     "task": false
    }
   },
   "outputs": [],
   "source": [
    "set.seed(2020) # DO NOT REMOVE\n",
    "\n",
    "#... <- recipe(... ~ ... + ... , data = ...) |>\n",
    "#    ... |>\n",
    "#    ...\n",
    "\n",
    "# your code here\n",
    "fail() # No Answer - remove if you provide an answer\n",
    "fruit_recipe"
   ]
  },
  {
   "cell_type": "code",
   "execution_count": null,
   "metadata": {
    "deletable": false,
    "editable": false,
    "nbgrader": {
     "cell_type": "code",
     "checksum": "00da1e0d046f8921fa4abaea5cd8d66e",
     "grade": true,
     "grade_id": "cell-2453aaa31ba794b6",
     "locked": true,
     "points": 1,
     "schema_version": 3,
     "solution": false,
     "task": false
    }
   },
   "outputs": [],
   "source": [
    "library(digest)\n",
    "stopifnot(\"fruit_recipe should be a recipe\"= setequal(digest(paste(toString('recipe' %in% class(fruit_recipe)), \"d7bc4\")), \"642895fa25c913eeed4d7f1c8605d054\"))\n",
    "stopifnot(\"response variable of fruit_recipe is not correct\"= setequal(digest(paste(toString(sort(filter(fruit_recipe$var_info, role == 'outcome')$variable)), \"d7bc4\")), \"156398bbc8505210c04f754063adddc7\"))\n",
    "stopifnot(\"predictor variable(s) of fruit_recipe are not correct\"= setequal(digest(paste(toString(sort(filter(fruit_recipe$var_info, role == 'predictor')$variable)), \"d7bc4\")), \"748c84c3b04853bcc26ad5c04b5f3be8\"))\n",
    "stopifnot(\"fruit_recipe does not contain the correct data, might need to be standardized\"= setequal(digest(paste(toString(round(sum(bake(prep(fruit_recipe), fruit_recipe$template) %>% select_if(is.numeric), na.rm = TRUE), 2)), \"d7bc4\")), \"b7062c6c4b747d97f6df4c59d2a23941\"))\n",
    "\n",
    "stopifnot(\"fruit_recipe$template should be a data frame\"= setequal(digest(paste(toString('data.frame' %in% class(fruit_recipe$template)), \"d7bc5\")), \"b06b47f8d340b64e54e620a383654df4\"))\n",
    "stopifnot(\"dimensions of fruit_recipe$template are not correct\"= setequal(digest(paste(toString(dim(fruit_recipe$template)), \"d7bc5\")), \"5a98cc713bd547e910a999e54b00799e\"))\n",
    "stopifnot(\"column names of fruit_recipe$template are not correct\"= setequal(digest(paste(toString(sort(colnames(fruit_recipe$template))), \"d7bc5\")), \"ba875a0bff1fa309173fd76fdf6c2d1f\"))\n",
    "stopifnot(\"types of columns in fruit_recipe$template are not correct\"= setequal(digest(paste(toString(sort(unlist(sapply(fruit_recipe$template, class)))), \"d7bc5\")), \"c33053a4881d90833ed09d28d6a23a2a\"))\n",
    "stopifnot(\"values in one or more numerical columns in fruit_recipe$template are not correct\"= setequal(digest(paste(toString(if (any(sapply(fruit_recipe$template, is.numeric))) sort(round(sapply(fruit_recipe$template[, sapply(fruit_recipe$template, is.numeric)], sum, na.rm = TRUE), 2)) else 0), \"d7bc5\")), \"f79e4e993a6ce2ce88d42cfcf17c5893\"))\n",
    "stopifnot(\"values in one or more character columns in fruit_recipe$template are not correct\"= setequal(digest(paste(toString(if (any(sapply(fruit_recipe$template, is.character))) sum(sapply(fruit_recipe$template[sapply(fruit_recipe$template, is.character)], function(x) length(unique(x)))) else 0), \"d7bc5\")), \"3577f5d27e9a735158b9b58ae497398b\"))\n",
    "stopifnot(\"values in one or more factor columns in fruit_recipe$template are not correct\"= setequal(digest(paste(toString(if (any(sapply(fruit_recipe$template, is.factor))) sum(sapply(fruit_recipe$template[, sapply(fruit_recipe$template, is.factor)], function(col) length(unique(col)))) else 0), \"d7bc5\")), \"b4987762220bbd3eff7af7ad9c06518a\"))\n",
    "\n",
    "print('Success!')"
   ]
  },
  {
   "cell_type": "markdown",
   "metadata": {
    "deletable": false,
    "editable": false,
    "nbgrader": {
     "cell_type": "markdown",
     "checksum": "ff6abff7b1910f8b822605d9bbb6fdbf",
     "grade": false,
     "grade_id": "cell-6693330a0f077083",
     "locked": true,
     "schema_version": 3,
     "solution": false
    }
   },
   "source": [
    "**Question 2.2**\n",
    "<br> {points: 1}\n",
    "\n",
    "So far, we have split the training and testing datasets as well as preprocessed the data. Now, let's create our K-nearest neighbour classifier with only the training set using the `tidymodels` package. First, create the classifier by specifying that we want $K = 3$ neighbors and that we want to use the *straight-line* distance. \n",
    "\n",
    "*Assign your answer to an object called `knn_spec`*.  \n",
    "\n",
    "Next, train the classifier with the training data set using the `workflow` function. This function allows you to bundle together your pre-processing, modeling, and post-processing requests. Scaffolding is provided below for you.\n",
    "\n",
    "*Assign your answer to an object called `fruit_fit`*."
   ]
  },
  {
   "cell_type": "code",
   "execution_count": null,
   "metadata": {
    "deletable": false,
    "nbgrader": {
     "cell_type": "code",
     "checksum": "1622936b33fa7c94944d3c0189353368",
     "grade": false,
     "grade_id": "cell-00b2a6b0ba7df6c4",
     "locked": false,
     "schema_version": 3,
     "solution": true
    }
   },
   "outputs": [],
   "source": [
    "set.seed(2020) # DO NOT REMOVE\n",
    "\n",
    "#... <- nearest_neighbor(weight_func = ..., neighbors = ...) |>\n",
    "#       set_engine(...) |>\n",
    "#       set_mode(...)\n",
    "\n",
    "#... <- workflow() |>\n",
    "#       add_recipe(...) |>\n",
    "#       add_model(...) |>\n",
    "#       fit(data = ...)\n",
    "\n",
    "\n",
    "# your code here\n",
    "fail() # No Answer - remove if you provide an answer\n",
    "fruit_fit"
   ]
  },
  {
   "cell_type": "code",
   "execution_count": null,
   "metadata": {
    "deletable": false,
    "editable": false,
    "nbgrader": {
     "cell_type": "code",
     "checksum": "b07b860f8aa86bddba25671033c6cc52",
     "grade": true,
     "grade_id": "cell-b8ce3699299555d5",
     "locked": true,
     "points": 1,
     "schema_version": 3,
     "solution": false
    }
   },
   "outputs": [],
   "source": [
    "library(digest)\n",
    "stopifnot(\"knn_spec should be a model specification\"= setequal(digest(paste(toString('model_spec' %in% class(knn_spec)), \"603bd\")), \"35b3cc6366bea6da29d0ba1b92998760\"))\n",
    "stopifnot(\"model specification in knn_spec is not correct\"= setequal(digest(paste(toString(knn_spec$mode), \"603bd\")), \"094f2bdb55ca61088ebe8f6b4fcd574c\"))\n",
    "stopifnot(\"computational engine in knn_spec is not correct\"= setequal(digest(paste(toString(knn_spec$engine), \"603bd\")), \"2fab8a792f0c326f4beb3f08ff86d225\"))\n",
    "stopifnot(\"weight function in knn_spec is not correct\"= setequal(digest(paste(toString(quo_name(knn_spec$args$weight_func)), \"603bd\")), \"386e18b34a335a193b3d25a490effa0f\"))\n",
    "stopifnot(\"number of neighbours in knn_spec is not correct\"= setequal(digest(paste(toString(quo_name(knn_spec$args$neighbors)), \"603bd\")), \"6e915108a2e2dd2a7015456dda4fed36\"))\n",
    "\n",
    "stopifnot(\"fruit_fit should be a workflow\"= setequal(digest(paste(toString('workflow' %in% class(fruit_fit)), \"603be\")), \"4d7fcb2c532f010eeba5fad2eff17e30\"))\n",
    "stopifnot(\"computational engine used in fruit_fit is not correct\"= setequal(digest(paste(toString(fruit_fit$fit$actions$model$spec$engine), \"603be\")), \"b2e377d6e64dbc104fec8bb766ad0314\"))\n",
    "stopifnot(\"model specification used in fruit_fit is not correct\"= setequal(digest(paste(toString(fruit_fit$fit$actions$model$spec$mode), \"603be\")), \"e6051dc2eb16eb1f6bc26bdada2661cb\"))\n",
    "stopifnot(\"fruit_fit must be a trained workflow, make sure to call the fit() function\"= setequal(digest(paste(toString(fruit_fit$trained), \"603be\")), \"4d7fcb2c532f010eeba5fad2eff17e30\"))\n",
    "stopifnot(\"predictor variable(s) of fruit_fit are not correct\"= setequal(digest(paste(toString(sort(filter(fruit_fit$pre$actions$recipe$recipe$var_info, role == 'predictor')$variable)), \"603be\")), \"38e2f0bf6e0bcc2dbda5e4df6c2d71e2\"))\n",
    "stopifnot(\"fruit_fit does not contain the correct data\"= setequal(digest(paste(toString(sort(vapply(fruit_fit$pre$mold$predictors[, sapply(fruit_fit$pre$mold$predictors, is.numeric)], function(col) if(!is.null(col)) round(sum(col), 2) else NA_real_, numeric(1)), na.last = NA)), \"603be\")), \"f9992505c1aaae1de73332f4fdcd4beb\"))\n",
    "stopifnot(\"did not fit fruit_fit on the training dataset\"= setequal(digest(paste(toString(nrow(fruit_fit$pre$mold$outcomes)), \"603be\")), \"0b0af649bf3ec37e2b660e08acc96f54\"))\n",
    "stopifnot(\"for classification/regression models, weight function is not correct\"= setequal(digest(paste(toString(quo_name(fruit_fit$fit$actions$model$spec$args$weight_func)), \"603be\")), \"eca59f3f9e1e1930fd48a7fe3722001d\"))\n",
    "stopifnot(\"for classification/regression models, response variable of fruit_fit is not correct\"= setequal(digest(paste(toString(sort(filter(fruit_fit$pre$actions$recipe$recipe$var_info, role == 'outcome')$variable)), \"603be\")), \"556bd1b5a5e975d4c76c86ad238a1183\"))\n",
    "stopifnot(\"for KNN models, number of neighbours is not correct\"= setequal(digest(paste(toString(quo_name(fruit_fit$fit$actions$model$spec$args$neighbors)), \"603be\")), \"7aa70468f63d4355db05d85bab6ad642\"))\n",
    "stopifnot(\"for clustering models, the clustering is not correct\"= setequal(digest(paste(toString(fruit_fit$fit$fit$fit$cluster), \"603be\")), \"a1117b4fd17200cb7413869c7d05ca0f\"))\n",
    "stopifnot(\"for clustering models, the total within-cluster sum-of-squared distances is not correct\"= setequal(digest(paste(toString(if (!is.null(fruit_fit$fit$fit$fit$tot.withinss)) round(fruit_fit$fit$fit$fit$tot.withinss, 2) else NULL), \"603be\")), \"a1117b4fd17200cb7413869c7d05ca0f\"))\n",
    "\n",
    "print('Success!')"
   ]
  },
  {
   "cell_type": "markdown",
   "metadata": {
    "deletable": false,
    "editable": false,
    "nbgrader": {
     "cell_type": "markdown",
     "checksum": "de81da7b3b67f3e00a430dbaeb396409",
     "grade": false,
     "grade_id": "cell-512f0c24a1511248",
     "locked": true,
     "schema_version": 3,
     "solution": false,
     "task": false
    }
   },
   "source": [
    "**Question 2.3**\n",
    "<br> {points: 1}\n",
    "\n",
    "Now that we have created our K-nearest neighbor classifier object, let's predict the class labels for our test set.\n",
    "\n",
    "First, pass your fitted model and the **test dataset** to the `predict` function. Then, use the `bind_cols` function to add the column of predictions to the original test data. \n",
    "\n",
    "*Assign your answer to an object called `fruit_test_predictions`.*"
   ]
  },
  {
   "cell_type": "code",
   "execution_count": null,
   "metadata": {
    "deletable": false,
    "nbgrader": {
     "cell_type": "code",
     "checksum": "9c8a59077ea7d15d61096ca9ca2b74dd",
     "grade": false,
     "grade_id": "cell-29a65e0d69fd64d3",
     "locked": false,
     "schema_version": 3,
     "solution": true
    }
   },
   "outputs": [],
   "source": [
    "set.seed(2020) # DO NOT REMOVE\n",
    "\n",
    "#... <- predict(... , ...) |>\n",
    "#       ...(...)\n",
    "\n",
    "# your code here\n",
    "fail() # No Answer - remove if you provide an answer\n",
    "fruit_test_predictions"
   ]
  },
  {
   "cell_type": "code",
   "execution_count": null,
   "metadata": {
    "deletable": false,
    "editable": false,
    "nbgrader": {
     "cell_type": "code",
     "checksum": "6002e85359b6f3cc0adca425872a6c47",
     "grade": true,
     "grade_id": "cell-144f33352d2b6add",
     "locked": true,
     "points": 1,
     "schema_version": 3,
     "solution": false
    }
   },
   "outputs": [],
   "source": [
    "library(digest)\n",
    "stopifnot(\"fruit_test_predictions should be a data frame\"= setequal(digest(paste(toString('data.frame' %in% class(fruit_test_predictions)), \"68fee\")), \"b586eb441494f12cb97f4bc8e02f476c\"))\n",
    "stopifnot(\"dimensions of fruit_test_predictions are not correct\"= setequal(digest(paste(toString(dim(fruit_test_predictions)), \"68fee\")), \"7cd6a01a3a0b99c6bda7c876dc2c7253\"))\n",
    "stopifnot(\"column names of fruit_test_predictions are not correct\"= setequal(digest(paste(toString(sort(colnames(fruit_test_predictions))), \"68fee\")), \"26c0f8827b71542b1fd91354f648bea8\"))\n",
    "stopifnot(\"types of columns in fruit_test_predictions are not correct\"= setequal(digest(paste(toString(sort(unlist(sapply(fruit_test_predictions, class)))), \"68fee\")), \"cae364be651b9ec224248d495abefe78\"))\n",
    "stopifnot(\"values in one or more numerical columns in fruit_test_predictions are not correct\"= setequal(digest(paste(toString(if (any(sapply(fruit_test_predictions, is.numeric))) sort(round(sapply(fruit_test_predictions[, sapply(fruit_test_predictions, is.numeric)], sum, na.rm = TRUE), 2)) else 0), \"68fee\")), \"f813176b41b77febc6d5129dfd49e64f\"))\n",
    "stopifnot(\"values in one or more character columns in fruit_test_predictions are not correct\"= setequal(digest(paste(toString(if (any(sapply(fruit_test_predictions, is.character))) sum(sapply(fruit_test_predictions[sapply(fruit_test_predictions, is.character)], function(x) length(unique(x)))) else 0), \"68fee\")), \"9b1a092b8c2959640cf22f1fff58a73d\"))\n",
    "stopifnot(\"values in one or more factor columns in fruit_test_predictions are not correct\"= setequal(digest(paste(toString(if (any(sapply(fruit_test_predictions, is.factor))) sum(sapply(fruit_test_predictions[, sapply(fruit_test_predictions, is.factor)], function(col) length(unique(col)))) else 0), \"68fee\")), \"2da41d7970db2e2d5951bb6f3b214137\"))\n",
    "\n",
    "print('Success!')"
   ]
  },
  {
   "cell_type": "markdown",
   "metadata": {
    "deletable": false,
    "editable": false,
    "nbgrader": {
     "cell_type": "markdown",
     "checksum": "962e83775c37ad3e549fa36b5e70462d",
     "grade": false,
     "grade_id": "cell-baa81bf7577a344f",
     "locked": true,
     "schema_version": 3,
     "solution": false
    }
   },
   "source": [
    "**Question 2.4**\n",
    "<br> {points: 1}\n",
    "\n",
    "Great! We have now computed some predictions for our test datasets! From glancing at the dataframe above, it looks like most of them are correct, but wouldn't it be interesting if we could find out our classifier's accuracy? \n",
    "\n",
    "Thankfully, the `metrics` function from the `tidymodels` package can help us. To get the statistics about the quality of our model, you need to specify the `truth` and `estimate` arguments. In the `truth` argument, you should put the column name for the true values of the response variable. In the `estimate` argument, you should put the column name for response variable predictions. \n",
    "\n",
    "*Assign your answer to an object called `fruit_prediction_accuracy`.*"
   ]
  },
  {
   "cell_type": "code",
   "execution_count": null,
   "metadata": {
    "deletable": false,
    "nbgrader": {
     "cell_type": "code",
     "checksum": "ee126d204fa9f564ae7d5fa0152fe763",
     "grade": false,
     "grade_id": "cell-4ac19dfcaec7e27c",
     "locked": false,
     "schema_version": 3,
     "solution": true
    }
   },
   "outputs": [],
   "source": [
    "set.seed(2020) # DO NOT REMOVE\n",
    "\n",
    "#... <- fruit_test_predictions |>\n",
    "#         ...(truth = ..., estimate = ...)             \n",
    "\n",
    "# your code here\n",
    "fail() # No Answer - remove if you provide an answer\n",
    "fruit_prediction_accuracy"
   ]
  },
  {
   "cell_type": "code",
   "execution_count": null,
   "metadata": {
    "deletable": false,
    "editable": false,
    "nbgrader": {
     "cell_type": "code",
     "checksum": "1060facf66773a96a328b3587ed7b9a4",
     "grade": true,
     "grade_id": "cell-a268da3370127d6c",
     "locked": true,
     "points": 1,
     "schema_version": 3,
     "solution": false
    }
   },
   "outputs": [],
   "source": [
    "library(digest)\n",
    "stopifnot(\"fruit_prediction_accuracy should be a data frame\"= setequal(digest(paste(toString('data.frame' %in% class(fruit_prediction_accuracy)), \"de1e1\")), \"e2cb57451884d6a66f5e0dd2a1a29189\"))\n",
    "stopifnot(\"dimensions of fruit_prediction_accuracy are not correct\"= setequal(digest(paste(toString(dim(fruit_prediction_accuracy)), \"de1e1\")), \"49c26169b9c3b230aaeaab5c4680ea7a\"))\n",
    "stopifnot(\"column names of fruit_prediction_accuracy are not correct\"= setequal(digest(paste(toString(sort(colnames(fruit_prediction_accuracy))), \"de1e1\")), \"b28e0263d2cac4dba497cba98340dd12\"))\n",
    "stopifnot(\"types of columns in fruit_prediction_accuracy are not correct\"= setequal(digest(paste(toString(sort(unlist(sapply(fruit_prediction_accuracy, class)))), \"de1e1\")), \"80e0ebf9ca39d4f1e4a2f43801124e42\"))\n",
    "stopifnot(\"values in one or more numerical columns in fruit_prediction_accuracy are not correct\"= setequal(digest(paste(toString(if (any(sapply(fruit_prediction_accuracy, is.numeric))) sort(round(sapply(fruit_prediction_accuracy[, sapply(fruit_prediction_accuracy, is.numeric)], sum, na.rm = TRUE), 2)) else 0), \"de1e1\")), \"8aee42fb41a6e85e513131cf98b29735\"))\n",
    "stopifnot(\"values in one or more character columns in fruit_prediction_accuracy are not correct\"= setequal(digest(paste(toString(if (any(sapply(fruit_prediction_accuracy, is.character))) sum(sapply(fruit_prediction_accuracy[sapply(fruit_prediction_accuracy, is.character)], function(x) length(unique(x)))) else 0), \"de1e1\")), \"f1dca001f55751e4b6d44e9a5afbd39b\"))\n",
    "stopifnot(\"values in one or more factor columns in fruit_prediction_accuracy are not correct\"= setequal(digest(paste(toString(if (any(sapply(fruit_prediction_accuracy, is.factor))) sum(sapply(fruit_prediction_accuracy[, sapply(fruit_prediction_accuracy, is.factor)], function(col) length(unique(col)))) else 0), \"de1e1\")), \"96b1ac750ac7af3238278d8cea1842f7\"))\n",
    "\n",
    "print('Success!')"
   ]
  },
  {
   "cell_type": "markdown",
   "metadata": {
    "deletable": false,
    "editable": false,
    "nbgrader": {
     "cell_type": "markdown",
     "checksum": "85b92a9f2dce2d1223c1ce1b498af911",
     "grade": false,
     "grade_id": "cell-67a957c51db2a297",
     "locked": true,
     "schema_version": 3,
     "solution": false
    }
   },
   "source": [
    "**Question 2.5**\n",
    "<br> {points: 1}\n",
    "\n",
    "Now, let's look at the *confusion matrix* for the classifier. This will show us a table comparing the predicted labels with the true labels. \n",
    "\n",
    "A confusion matrix is essentially a classification matrix. The columns of the confusion matrix represent the actual class and the rows represent the predicted class (or vice versa). Shown below is an example of a confusion matrix.\n",
    "\n",
    "|                  |          |  Actual Values |                |\n",
    "|:----------------:|----------|:--------------:|:--------------:|\n",
    "|                  |          |    Positive    |    Negative    |\n",
    "|**Predicted Value**  | Positive |  True Positive | False Positive|\n",
    "|                  | Negative | False Negative | True Negative  |\n",
    "\n",
    "\n",
    "- A **true positive** is an outcome where the model correctly predicts the positive class.\n",
    "- A **true negative** is an outcome where the model correctly predicts the negative class.\n",
    "- A **false positive** is an outcome where the model incorrectly predicts the positive class.\n",
    "- A **false negative** is an outcome where the model incorrectly predicts the negative class.\n",
    "\n",
    "<br>\n",
    "\n",
    "We can create a confusion matrix by using the `conf_mat` function. Similar to the `metrics` function, you will have to specify the `truth` and `estimate` arguments. \n",
    "\n",
    "*Assign your answer to an object called `fruit_mat`*."
   ]
  },
  {
   "cell_type": "code",
   "execution_count": null,
   "metadata": {
    "deletable": false,
    "nbgrader": {
     "cell_type": "code",
     "checksum": "f24e7fdd4cf6febe4d9718342d5b04a4",
     "grade": false,
     "grade_id": "cell-f0716222fa3e3c93",
     "locked": false,
     "schema_version": 3,
     "solution": true
    }
   },
   "outputs": [],
   "source": [
    "set.seed(2020) # DO NOT REMOVE\n",
    "\n",
    "#... <- fruit_test_predictions |> \n",
    "#       ...(truth = ..., estimate = ...)\n",
    "\n",
    "# your code here\n",
    "fail() # No Answer - remove if you provide an answer\n",
    "fruit_mat"
   ]
  },
  {
   "cell_type": "code",
   "execution_count": null,
   "metadata": {
    "deletable": false,
    "editable": false,
    "nbgrader": {
     "cell_type": "code",
     "checksum": "978c5527c386c1d98dc078f0ed0aeb5d",
     "grade": true,
     "grade_id": "cell-d3d5c46250e8450a",
     "locked": true,
     "points": 1,
     "schema_version": 3,
     "solution": false
    }
   },
   "outputs": [],
   "source": [
    "library(digest)\n",
    "stopifnot(\"type of class(fruit_mat) is not character\"= setequal(digest(paste(toString(class(class(fruit_mat))), \"a3308\")), \"2ce068f9cef4d465b5bef6fc888884a6\"))\n",
    "stopifnot(\"length of class(fruit_mat) is not correct\"= setequal(digest(paste(toString(length(class(fruit_mat))), \"a3308\")), \"080a8ad3bbef93022aba8d9d5c4d0a03\"))\n",
    "stopifnot(\"value of class(fruit_mat) is not correct\"= setequal(digest(paste(toString(tolower(class(fruit_mat))), \"a3308\")), \"6a817cc37b418db58552641ac874901e\"))\n",
    "stopifnot(\"letters in string value of class(fruit_mat) are correct but case is not correct\"= setequal(digest(paste(toString(class(fruit_mat)), \"a3308\")), \"6a817cc37b418db58552641ac874901e\"))\n",
    "\n",
    "stopifnot(\"as.data.frame.matrix(fruit_mat$table) should be a data frame\"= setequal(digest(paste(toString('data.frame' %in% class(as.data.frame.matrix(fruit_mat$table))), \"a3309\")), \"57b3f2a3df42db050c19035abdc70198\"))\n",
    "stopifnot(\"dimensions of as.data.frame.matrix(fruit_mat$table) are not correct\"= setequal(digest(paste(toString(dim(as.data.frame.matrix(fruit_mat$table))), \"a3309\")), \"be7bebdcb7d1514d38495a896d69d6c7\"))\n",
    "stopifnot(\"column names of as.data.frame.matrix(fruit_mat$table) are not correct\"= setequal(digest(paste(toString(sort(colnames(as.data.frame.matrix(fruit_mat$table)))), \"a3309\")), \"697d644058c29a463b70d6c2410aed3f\"))\n",
    "stopifnot(\"types of columns in as.data.frame.matrix(fruit_mat$table) are not correct\"= setequal(digest(paste(toString(sort(unlist(sapply(as.data.frame.matrix(fruit_mat$table), class)))), \"a3309\")), \"cf576cac9b6363e5c7049fb0c6509a02\"))\n",
    "stopifnot(\"values in one or more numerical columns in as.data.frame.matrix(fruit_mat$table) are not correct\"= setequal(digest(paste(toString(if (any(sapply(as.data.frame.matrix(fruit_mat$table), is.numeric))) sort(round(sapply(as.data.frame.matrix(fruit_mat$table)[, sapply(as.data.frame.matrix(fruit_mat$table), is.numeric)], sum, na.rm = TRUE), 2)) else 0), \"a3309\")), \"c68f5000d8c15baacb3f5545e3a7cb66\"))\n",
    "stopifnot(\"values in one or more character columns in as.data.frame.matrix(fruit_mat$table) are not correct\"= setequal(digest(paste(toString(if (any(sapply(as.data.frame.matrix(fruit_mat$table), is.character))) sum(sapply(as.data.frame.matrix(fruit_mat$table)[sapply(as.data.frame.matrix(fruit_mat$table), is.character)], function(x) length(unique(x)))) else 0), \"a3309\")), \"fa920197b4c7282fbcadfecef4904951\"))\n",
    "stopifnot(\"values in one or more factor columns in as.data.frame.matrix(fruit_mat$table) are not correct\"= setequal(digest(paste(toString(if (any(sapply(as.data.frame.matrix(fruit_mat$table), is.factor))) sum(sapply(as.data.frame.matrix(fruit_mat$table)[, sapply(as.data.frame.matrix(fruit_mat$table), is.factor)], function(col) length(unique(col)))) else 0), \"a3309\")), \"fa920197b4c7282fbcadfecef4904951\"))\n",
    "\n",
    "print('Success!')"
   ]
  },
  {
   "cell_type": "markdown",
   "metadata": {
    "deletable": false,
    "editable": false,
    "nbgrader": {
     "cell_type": "markdown",
     "checksum": "ffc78c73873a943eef6ee4b2d880157d",
     "grade": false,
     "grade_id": "cell-76907faaa508f23b",
     "locked": true,
     "schema_version": 3,
     "solution": false,
     "task": false
    }
   },
   "source": [
    "**Question 2.6** Multiple Choice:\n",
    "<br> {points: 1}\n",
    "\n",
    "Reading `fruit_mat`, how many observations were labelled correctly?\n",
    "\n",
    "A. 14\n",
    "\n",
    "B. 12\n",
    "\n",
    "C. 10\n",
    "\n",
    "D. 13\n",
    "\n",
    "*Assign your answer to an object called `answer2.6`. Make sure your answer is an uppercase letter and is surrounded by quotation marks (e.g. `\"F\"`).*"
   ]
  },
  {
   "cell_type": "code",
   "execution_count": null,
   "metadata": {
    "deletable": false,
    "nbgrader": {
     "cell_type": "code",
     "checksum": "d7dc42422b7bc986c7a575478f241a04",
     "grade": false,
     "grade_id": "cell-c4d8f09cbf40df59",
     "locked": false,
     "schema_version": 3,
     "solution": true,
     "task": false
    }
   },
   "outputs": [],
   "source": [
    "# your code here\n",
    "fail() # No Answer - remove if you provide an answer\n",
    "answer2.6"
   ]
  },
  {
   "cell_type": "code",
   "execution_count": null,
   "metadata": {
    "deletable": false,
    "editable": false,
    "nbgrader": {
     "cell_type": "code",
     "checksum": "786f514a4551518505ac818ff1f25c32",
     "grade": true,
     "grade_id": "cell-5715f106e3bbf143",
     "locked": true,
     "points": 1,
     "schema_version": 3,
     "solution": false,
     "task": false
    }
   },
   "outputs": [],
   "source": [
    "library(digest)\n",
    "stopifnot(\"type of answer2.6 is not character\"= setequal(digest(paste(toString(class(answer2.6)), \"13e29\")), \"d1c5cc53169317d03f3da64e1a646057\"))\n",
    "stopifnot(\"length of answer2.6 is not correct\"= setequal(digest(paste(toString(length(answer2.6)), \"13e29\")), \"44fb0eb6eca53d1ac6ecf0d43ad76185\"))\n",
    "stopifnot(\"value of answer2.6 is not correct\"= setequal(digest(paste(toString(tolower(answer2.6)), \"13e29\")), \"7486e0e7c209c61a69c29b78ea1c83e5\"))\n",
    "stopifnot(\"letters in string value of answer2.6 are correct but case is not correct\"= setequal(digest(paste(toString(answer2.6), \"13e29\")), \"7d0804343d0d4e67dbb24e2205cdded5\"))\n",
    "\n",
    "print('Success!')"
   ]
  },
  {
   "cell_type": "markdown",
   "metadata": {
    "deletable": false,
    "editable": false,
    "nbgrader": {
     "cell_type": "markdown",
     "checksum": "d86327e25e6c2025d3ec47a6a7782eef",
     "grade": false,
     "grade_id": "cell-d30d37a17f392bd1",
     "locked": true,
     "schema_version": 3,
     "solution": false,
     "task": false
    }
   },
   "source": [
    "**Question 2.7** Multiple Choice:\n",
    "<br> {points: 1}\n",
    "\n",
    "Reading `fruit_mat`, let's suppse that we are really interested in the lemons, and treat \"lemon\" as being the \"positive\" class. What is the precision of our classifier?\n",
    "\n",
    "*Assign your answer to an object called `answer2.7`.*"
   ]
  },
  {
   "cell_type": "code",
   "execution_count": null,
   "metadata": {
    "deletable": false,
    "nbgrader": {
     "cell_type": "code",
     "checksum": "eb186f88af2c1cb1abdcc5878a5b3dfc",
     "grade": false,
     "grade_id": "cell-0024ea9f3a912edd",
     "locked": false,
     "schema_version": 3,
     "solution": true,
     "task": false
    }
   },
   "outputs": [],
   "source": [
    "# your code here\n",
    "fail() # No Answer - remove if you provide an answer\n",
    "answer2.7"
   ]
  },
  {
   "cell_type": "code",
   "execution_count": null,
   "metadata": {
    "deletable": false,
    "editable": false,
    "nbgrader": {
     "cell_type": "code",
     "checksum": "66aee1ab67f32ef519851ddf82ca87cb",
     "grade": true,
     "grade_id": "cell-ea3ca27f85d995a4",
     "locked": true,
     "points": 1,
     "schema_version": 3,
     "solution": false,
     "task": false
    }
   },
   "outputs": [],
   "source": [
    "library(digest)\n",
    "stopifnot(\"type of answer2.7 is not numeric\"= setequal(digest(paste(toString(class(answer2.7)), \"e5f9a\")), \"88f026b0bd12966b1ee867cbfcd8e3c2\"))\n",
    "stopifnot(\"value of answer2.7 is not correct (rounded to 2 decimal places)\"= setequal(digest(paste(toString(round(answer2.7, 2)), \"e5f9a\")), \"60dfa9d33dd8fbe94a911ef90735768d\"))\n",
    "stopifnot(\"length of answer2.7 is not correct\"= setequal(digest(paste(toString(length(answer2.7)), \"e5f9a\")), \"d5cc9502fb4d84b1d91f8d213055a51f\"))\n",
    "stopifnot(\"values of answer2.7 are not correct\"= setequal(digest(paste(toString(sort(round(answer2.7, 2))), \"e5f9a\")), \"60dfa9d33dd8fbe94a911ef90735768d\"))\n",
    "\n",
    "print('Success!')"
   ]
  },
  {
   "cell_type": "markdown",
   "metadata": {
    "deletable": false,
    "editable": false,
    "nbgrader": {
     "cell_type": "markdown",
     "checksum": "ca708f32f35ca9c34c6f7934056ee65b",
     "grade": false,
     "grade_id": "cell-edb7f27a20306941",
     "locked": true,
     "schema_version": 3,
     "solution": false,
     "task": false
    }
   },
   "source": [
    "**Question 2.8** Multiple Choice:\n",
    "<br> {points: 1}\n",
    "\n",
    "Again, let us treat \"lemon\" as being the \"positive\" class. What is the recall of our classifier?\n",
    "\n",
    "*Assign your answer to an object called `answer2.8`.*"
   ]
  },
  {
   "cell_type": "code",
   "execution_count": null,
   "metadata": {
    "deletable": false,
    "nbgrader": {
     "cell_type": "code",
     "checksum": "549cfc01975db43a08eccbe55a8a3d72",
     "grade": false,
     "grade_id": "cell-ee3466bcbf038ae5",
     "locked": false,
     "schema_version": 3,
     "solution": true,
     "task": false
    }
   },
   "outputs": [],
   "source": [
    "# your code here\n",
    "fail() # No Answer - remove if you provide an answer\n",
    "answer2.8"
   ]
  },
  {
   "cell_type": "code",
   "execution_count": null,
   "metadata": {
    "deletable": false,
    "editable": false,
    "nbgrader": {
     "cell_type": "code",
     "checksum": "7fe1a89d3b004d4dc4a8e8d505842935",
     "grade": true,
     "grade_id": "cell-210e04ec89001994",
     "locked": true,
     "points": 0,
     "schema_version": 3,
     "solution": false,
     "task": false
    }
   },
   "outputs": [],
   "source": [
    "library(digest)\n",
    "stopifnot(\"type of answer2.8 is not numeric\"= setequal(digest(paste(toString(class(answer2.8)), \"df0a\")), \"e0840e4daedff9a1ee00bea68dfb93ef\"))\n",
    "stopifnot(\"value of answer2.8 is not correct (rounded to 2 decimal places)\"= setequal(digest(paste(toString(round(answer2.8, 2)), \"df0a\")), \"62c1fe0551f44e2ff07fbbb54786c547\"))\n",
    "stopifnot(\"length of answer2.8 is not correct\"= setequal(digest(paste(toString(length(answer2.8)), \"df0a\")), \"62c1fe0551f44e2ff07fbbb54786c547\"))\n",
    "stopifnot(\"values of answer2.8 are not correct\"= setequal(digest(paste(toString(sort(round(answer2.8, 2))), \"df0a\")), \"62c1fe0551f44e2ff07fbbb54786c547\"))\n",
    "\n",
    "print('Success!')"
   ]
  },
  {
   "cell_type": "markdown",
   "metadata": {
    "deletable": false,
    "editable": false,
    "nbgrader": {
     "cell_type": "markdown",
     "checksum": "9cc150cb855d57564e1e4331f5d3c448",
     "grade": false,
     "grade_id": "cell-0063191266f982c7",
     "locked": true,
     "schema_version": 3,
     "solution": false
    }
   },
   "source": [
    "### 3. Cross-validation\n",
    "\n",
    "**Question 3.1**\n",
    "<br> {points: 1}\n",
    "\n",
    "The vast majority of predictive models in statistics and machine learning have parameters that you have to pick. For the past few exercises, we have had to pick the number of neighbours for the class vote, which we have done arbitraily. But, is it possible to make this selection, *i.e., tune the model, in a principled way?* Ideally, we want to pick the number of neighborurs to maximize the performance of our classifier on data *it hasn’t seen yet*.\n",
    "\n",
    "An important aspect of the tuning process is that we can, if we want to, split our training data again, train and evaluate a classifier for each split, and then choose the parameter based on all of the different results. If we just split our training data once, our best parameter choice will depend strongly on the randomness from how this single split was made. Using multiple different splits, we’ll get a more robust estimate of accuracy, which will lead to a more suitable choice of the number of neighbours $K$ to perform well on unseen data.\n",
    "\n",
    "The idea of training and evaluating models on multiple training data splits times is called \"cross-validation\". In cross-validation, we split our overall training data into $C$ evenly-sized chunks, and then iteratively use 1 chunk as the **validation set** and combine the remaining $C−1$ chunks as the **training set.** The validation set is used in a similar way as the test set, **except** that the test set is only used once at the end to report model performance whereas we use model performance on the validation set to select the model during cross-validation. \n",
    "\n",
    "---\n",
    "\n",
    "We can perform a cross-validation in R using the `vfold_cv` function. To use this function, you have to identify the training set as well as specify the `v` (the number of folds) and the `strata` argument (the label variable). \n",
    "\n",
    "For this exercise, perform **$5$-fold cross-validation**.\n",
    "\n",
    "*Assign your answer to an object called `fruit_vfold`*."
   ]
  },
  {
   "cell_type": "code",
   "execution_count": null,
   "metadata": {
    "deletable": false,
    "nbgrader": {
     "cell_type": "code",
     "checksum": "afdcc7d9663ecfdcb036296b6ebbe466",
     "grade": false,
     "grade_id": "cell-40206dc81c114f74",
     "locked": false,
     "schema_version": 3,
     "solution": true
    }
   },
   "outputs": [],
   "source": [
    "set.seed(2020) # DO NOT REMOVE\n",
    "\n",
    "#... <- vfold_cv(..., v = ..., strata = ...)\n",
    "\n",
    "# your code here\n",
    "fail() # No Answer - remove if you provide an answer"
   ]
  },
  {
   "cell_type": "code",
   "execution_count": null,
   "metadata": {
    "deletable": false,
    "editable": false,
    "nbgrader": {
     "cell_type": "code",
     "checksum": "070ed9558b86eeb8acd10a5a491b4c1b",
     "grade": true,
     "grade_id": "cell-4f7b62f0f7b0a200",
     "locked": true,
     "points": 1,
     "schema_version": 3,
     "solution": false
    }
   },
   "outputs": [],
   "source": [
    "library(digest)\n",
    "stopifnot(\"fruit_vfold should be a cross validation object\"= setequal(digest(paste(toString('vfold_cv' %in% class(fruit_vfold)), \"c5f07\")), \"0f1bda60e3ef1cf083a0f06e53ba62db\"))\n",
    "stopifnot(\"number of folds is not correct\"= setequal(digest(paste(toString(length(fruit_vfold$id)), \"c5f07\")), \"79cfee74dc43a5fbcc491a0c4fda2407\"))\n",
    "stopifnot(\"data used is not correct\"= setequal(digest(paste(toString(dim(fruit_vfold)), \"c5f07\")), \"a672eee94cba5a0f46d917cec431ba8f\"))\n",
    "stopifnot(\"training data is not used\"= setequal(digest(paste(toString(if (any(sapply(fruit_vfold$splits[[1]]$data, is.numeric))) {round(sapply(fruit_vfold$splits[[1]]$data[, sapply(fruit_vfold$splits[[1]]$data, is.numeric)], sum, na.rm = TRUE), 2)}), \"c5f07\")), \"ef9cfedd6cc75cdec264c0345e5c356a\"))\n",
    "stopifnot(\"strata argument is not correct\"= setequal(digest(paste(toString(sapply(seq_along(fruit_vfold$splits), function(i) {round(sum(fruit_vfold$splits[[i]]$in_id), 2)})), \"c5f07\")), \"327efd5bc139b1359bf893e284bd98a5\"))\n",
    "\n",
    "print('Success!')"
   ]
  },
  {
   "cell_type": "markdown",
   "metadata": {
    "deletable": false,
    "editable": false,
    "nbgrader": {
     "cell_type": "markdown",
     "checksum": "4d1e589450a8e1099c29da82263525f7",
     "grade": false,
     "grade_id": "cell-068da1c1156e503a",
     "locked": true,
     "schema_version": 3,
     "solution": false
    }
   },
   "source": [
    "**Question 3.2**\n",
    "<br> {points: 1}\n",
    "\n",
    "Now perform the workflow analysis again. You can reuse the `fruit_recipe` and `knn_spec` objects you made earlier. When you are fitting the knn model, use the `fit_resamples` function instead of the `fit` function for training. This function will allow us to run a cross-validation on each train/validation split we created in the previous question. \n",
    "\n",
    "*Assign your answer to an object called `fruit_resample_fit`*."
   ]
  },
  {
   "cell_type": "code",
   "execution_count": null,
   "metadata": {
    "deletable": false,
    "nbgrader": {
     "cell_type": "code",
     "checksum": "b67c2a89cd7ef78fb5be1bf95859d72e",
     "grade": false,
     "grade_id": "cell-0474eb947592495c",
     "locked": false,
     "schema_version": 3,
     "solution": true
    }
   },
   "outputs": [],
   "source": [
    "set.seed(2020) # DO NOT REMOVE\n",
    "\n",
    "#... <- workflow() |>\n",
    "#       add_recipe(...) |>\n",
    "#       add_model(...) |>\n",
    "#       fit_resamples(resamples = ...)\n",
    "\n",
    "# your code here\n",
    "fail() # No Answer - remove if you provide an answer"
   ]
  },
  {
   "cell_type": "code",
   "execution_count": null,
   "metadata": {
    "deletable": false,
    "editable": false,
    "nbgrader": {
     "cell_type": "code",
     "checksum": "9051d88dbf02b1f9760f25f0a7d6bdf0",
     "grade": true,
     "grade_id": "cell-099fb002dba6ced0",
     "locked": true,
     "points": 1,
     "schema_version": 3,
     "solution": false
    }
   },
   "outputs": [],
   "source": [
    "library(digest)\n",
    "stopifnot(\"fruit_resample_fit is not a resample_result\"= setequal(digest(paste(toString('resample_results' %in% class(fruit_resample_fit)), \"321f8\")), \"019fb52b986082a11ab820110aec8ad3\"))\n",
    "stopifnot(\"data used in fruit_resample_fit is not correct\"= setequal(digest(paste(toString(dim(fruit_resample_fit)), \"321f8\")), \"481b8fef85d1af96e563452252dacd69\"))\n",
    "stopifnot(\"number of splits is not correct\"= setequal(digest(paste(toString(round(length(fruit_resample_fit$splits), 0)), \"321f8\")), \"e9fbad14d20e76b7b10217688c33b188\"))\n",
    "\n",
    "print('Success!')"
   ]
  },
  {
   "cell_type": "markdown",
   "metadata": {
    "deletable": false,
    "editable": false,
    "nbgrader": {
     "cell_type": "markdown",
     "checksum": "40bdb9b98b1c06b579eb2d8f5e162461",
     "grade": false,
     "grade_id": "cell-df3dc35f0cbb35e2",
     "locked": true,
     "schema_version": 3,
     "solution": false,
     "task": false
    }
   },
   "source": [
    "**Question 3.3** \n",
    "<br> {points: 1}\n",
    "\n",
    "Now that we have ran a cross-validation on each train/validation split, one has to ask, how accurate was the classifier's validation across the folds? We can aggregate the *mean* and *standard error* by using the `collect_metrics` function. The standard error is essentially a measure of how uncertain we are in the mean value. \n",
    "\n",
    "Use the `collect_metrics` function on the `fruit_resample_fit` object and assign your answer to an object called `fruit_metrics`."
   ]
  },
  {
   "cell_type": "code",
   "execution_count": null,
   "metadata": {
    "deletable": false,
    "nbgrader": {
     "cell_type": "code",
     "checksum": "aa2b50e63553e0fab6b486d57fad0794",
     "grade": false,
     "grade_id": "cell-1119165a08beb72d",
     "locked": false,
     "schema_version": 3,
     "solution": true,
     "task": false
    }
   },
   "outputs": [],
   "source": [
    "# your code here\n",
    "fail() # No Answer - remove if you provide an answer\n",
    "fruit_metrics"
   ]
  },
  {
   "cell_type": "code",
   "execution_count": null,
   "metadata": {
    "deletable": false,
    "editable": false,
    "nbgrader": {
     "cell_type": "code",
     "checksum": "66f63cd7d6f7ba12be6c8798f6f0076e",
     "grade": true,
     "grade_id": "cell-7337cd2a0af4b896",
     "locked": true,
     "points": 1,
     "schema_version": 3,
     "solution": false,
     "task": false
    }
   },
   "outputs": [],
   "source": [
    "library(digest)\n",
    "stopifnot(\"fruit_metrics should be a data frame\"= setequal(digest(paste(toString('data.frame' %in% class(fruit_metrics)), \"59d20\")), \"5c87c79856ba1819289836bf37698f41\"))\n",
    "stopifnot(\"dimensions of fruit_metrics are not correct\"= setequal(digest(paste(toString(dim(fruit_metrics)), \"59d20\")), \"ae117357957cc41df35453cd70abf2f0\"))\n",
    "stopifnot(\"column names of fruit_metrics are not correct\"= setequal(digest(paste(toString(sort(colnames(fruit_metrics))), \"59d20\")), \"521a1e7a3bc82a331b1962d9258176ce\"))\n",
    "stopifnot(\"types of columns in fruit_metrics are not correct\"= setequal(digest(paste(toString(sort(unlist(sapply(fruit_metrics, class)))), \"59d20\")), \"6130111ea87ddadfcdc3a7303f2d613e\"))\n",
    "stopifnot(\"values in one or more numerical columns in fruit_metrics are not correct\"= setequal(digest(paste(toString(if (any(sapply(fruit_metrics, is.numeric))) sort(round(sapply(fruit_metrics[, sapply(fruit_metrics, is.numeric)], sum, na.rm = TRUE), 2)) else 0), \"59d20\")), \"4fac5bf140679fa385b82dda1db79eb1\"))\n",
    "stopifnot(\"values in one or more character columns in fruit_metrics are not correct\"= setequal(digest(paste(toString(if (any(sapply(fruit_metrics, is.character))) sum(sapply(fruit_metrics[sapply(fruit_metrics, is.character)], function(x) length(unique(x)))) else 0), \"59d20\")), \"b9f1ec39190d4a8d7ccb1d453908252f\"))\n",
    "stopifnot(\"values in one or more factor columns in fruit_metrics are not correct\"= setequal(digest(paste(toString(if (any(sapply(fruit_metrics, is.factor))) sum(sapply(fruit_metrics[, sapply(fruit_metrics, is.factor)], function(col) length(unique(col)))) else 0), \"59d20\")), \"e1e64f24e054be24cfd4a72fdaee7016\"))\n",
    "\n",
    "print('Success!')"
   ]
  },
  {
   "cell_type": "markdown",
   "metadata": {
    "deletable": false,
    "editable": false,
    "nbgrader": {
     "cell_type": "markdown",
     "checksum": "5939bdb0bd8c070ee2404571f6f32a2b",
     "grade": false,
     "grade_id": "cell-b65f60bbbc0a4884",
     "locked": true,
     "schema_version": 3,
     "solution": false
    }
   },
   "source": [
    "## 4. Parameter value selection\n",
    "\n",
    "Using a 5-fold cross-validation, we have established a prediction accuracy for our classifier. \n",
    "\n",
    "If we had to improve our classifier, we have to change the parameter: number of neighbours, $K$. Since cross-validation helps us evaluate the accuracy of our classifier, we can use cross-validation to calculate an accuracy for each value of $K$ in a reasonable range, and then pick the value of $K$ that gives us the best accuracy. \n",
    "\n",
    "The great thing about the `tidymodels` package is that it provides a very simple syntax for tuning models. Using `tune()`, each parameter in the model can be adjusted rather than given a specific value. \n",
    "\n",
    "**Question 4.0**\n",
    "<br> {points: 1}\n",
    "\n",
    "Create a new K-nearest neighbor model specification but instead of specifying a particular value for the `neighbors` argument, insert `tune()`. \n",
    "\n",
    "*Assign your answer to an object called `knn_tune`.* "
   ]
  },
  {
   "cell_type": "code",
   "execution_count": null,
   "metadata": {
    "deletable": false,
    "nbgrader": {
     "cell_type": "code",
     "checksum": "e4d8871755f64d87e26be17856b5fea5",
     "grade": false,
     "grade_id": "cell-2d0448675438bdec",
     "locked": false,
     "schema_version": 3,
     "solution": true
    }
   },
   "outputs": [],
   "source": [
    "set.seed(2020) # DO NOT REMOVE\n",
    "# your code here\n",
    "fail() # No Answer - remove if you provide an answer\n",
    "knn_tune"
   ]
  },
  {
   "cell_type": "code",
   "execution_count": null,
   "metadata": {
    "deletable": false,
    "editable": false,
    "nbgrader": {
     "cell_type": "code",
     "checksum": "10c82c839cf9286999b77da12684e14a",
     "grade": true,
     "grade_id": "cell-381d21c4c1474e80",
     "locked": true,
     "points": 1,
     "schema_version": 3,
     "solution": false
    }
   },
   "outputs": [],
   "source": [
    "library(digest)\n",
    "stopifnot(\"knn_tune should be a model specification\"= setequal(digest(paste(toString('model_spec' %in% class(knn_tune)), \"24a72\")), \"5b60b1c400f6342b768ec8b48ae7bdc2\"))\n",
    "stopifnot(\"model specification in knn_tune is not correct\"= setequal(digest(paste(toString(knn_tune$mode), \"24a72\")), \"332b0ded4862847c06a67d3d77a64620\"))\n",
    "stopifnot(\"computational engine in knn_tune is not correct\"= setequal(digest(paste(toString(knn_tune$engine), \"24a72\")), \"ec763f1e90f16e5b01cb87ef3eb33401\"))\n",
    "stopifnot(\"weight function in knn_tune is not correct\"= setequal(digest(paste(toString(quo_name(knn_tune$args$weight_func)), \"24a72\")), \"13f3238fde046fc75ddff781b11f9621\"))\n",
    "stopifnot(\"number of neighbours in knn_tune is not correct\"= setequal(digest(paste(toString(quo_name(knn_tune$args$neighbors)), \"24a72\")), \"a2dfbc4453c8204102c4b61660bec47f\"))\n",
    "\n",
    "print('Success!')"
   ]
  },
  {
   "cell_type": "markdown",
   "metadata": {
    "deletable": false,
    "editable": false,
    "nbgrader": {
     "cell_type": "markdown",
     "checksum": "f6ba238a7e3c195365679bc1b414b4af",
     "grade": false,
     "grade_id": "cell-706cde9c0d8d2699",
     "locked": true,
     "schema_version": 3,
     "solution": false,
     "task": false
    }
   },
   "source": [
    "**Question 4.1**\n",
    "<br>{points: 1}\n",
    "\n",
    "Now, create a `workflow()` analysis that combines `fruit_recipe` and our new `knn_tune` model specification. \n",
    "\n",
    "Instead of using `fit` or `fit_resamples`, we will use the `tune_grid` function to fit the model for each value in a range of parameter values. For the `resamples` argument, input the cross-validation `fruit_vfold` model we created earlier. The `grid` argument specifies that the tuning should try $X$ amount of values of the number of neighbors $K$ when tuning. For this exercise, use these specific 10 $K$ values: 1, 2, 3, 4, 5, 6, 7, 8, 9, and 10.\n",
    "\n",
    "Finally, aggregate the mean and standard error by using the `collect_metrics` function.\n",
    "\n",
    "*Assign your answer to an object called `knn_results`.*"
   ]
  },
  {
   "cell_type": "code",
   "execution_count": null,
   "metadata": {
    "deletable": false,
    "nbgrader": {
     "cell_type": "code",
     "checksum": "27dac3baa9de083a0e3e0502ff821be3",
     "grade": false,
     "grade_id": "cell-c0d2f1edbe342214",
     "locked": false,
     "schema_version": 3,
     "solution": true,
     "task": false
    }
   },
   "outputs": [],
   "source": [
    "set.seed(1234) # set the seed, don't remove this\n",
    "\n",
    "# k_vals <- tibble(neighbors = seq(from = ..., to = ..., by = ...))\n",
    "\n",
    "#... <- workflow() |>\n",
    "#       add_recipe(...) |>\n",
    "#       add_model(...) |>\n",
    "#       tune_grid(resamples = ..., grid = ...) |>\n",
    "#       ...\n",
    "\n",
    "# your code here\n",
    "fail() # No Answer - remove if you provide an answer\n",
    "knn_results"
   ]
  },
  {
   "cell_type": "code",
   "execution_count": null,
   "metadata": {
    "deletable": false,
    "editable": false,
    "nbgrader": {
     "cell_type": "code",
     "checksum": "7f4fe6558ba775a07b23ccad667145ba",
     "grade": true,
     "grade_id": "cell-0cbc6a47a2b14884",
     "locked": true,
     "points": 1,
     "schema_version": 3,
     "solution": false,
     "task": false
    }
   },
   "outputs": [],
   "source": [
    "library(digest)\n",
    "stopifnot(\"knn_results should be a data frame\"= setequal(digest(paste(toString('data.frame' %in% class(knn_results)), \"5ed8f\")), \"1ac54c232a30fe2ae24785faae691895\"))\n",
    "stopifnot(\"dimensions of knn_results are not correct\"= setequal(digest(paste(toString(dim(knn_results)), \"5ed8f\")), \"7c69ba1db53701049b67607dfc508d0b\"))\n",
    "stopifnot(\"column names of knn_results are not correct\"= setequal(digest(paste(toString(sort(colnames(knn_results))), \"5ed8f\")), \"e3543506c8b9c9936c67613019dbf52b\"))\n",
    "stopifnot(\"types of columns in knn_results are not correct\"= setequal(digest(paste(toString(sort(unlist(sapply(knn_results, class)))), \"5ed8f\")), \"53b3d0ff19deb90aa47bd8d8c71c5f8d\"))\n",
    "stopifnot(\"values in one or more numerical columns in knn_results are not correct\"= setequal(digest(paste(toString(if (any(sapply(knn_results, is.numeric))) sort(round(sapply(knn_results[, sapply(knn_results, is.numeric)], sum, na.rm = TRUE), 2)) else 0), \"5ed8f\")), \"aedcc86e4ab7989b257653d81c62bc43\"))\n",
    "stopifnot(\"values in one or more character columns in knn_results are not correct\"= setequal(digest(paste(toString(if (any(sapply(knn_results, is.character))) sum(sapply(knn_results[sapply(knn_results, is.character)], function(x) length(unique(x)))) else 0), \"5ed8f\")), \"47c4ed57be1322c800e88b5804a57ed0\"))\n",
    "stopifnot(\"values in one or more factor columns in knn_results are not correct\"= setequal(digest(paste(toString(if (any(sapply(knn_results, is.factor))) sum(sapply(knn_results[, sapply(knn_results, is.factor)], function(col) length(unique(col)))) else 0), \"5ed8f\")), \"9e3678a93533e6a435d03bf805235947\"))\n",
    "\n",
    "print('Success!')"
   ]
  },
  {
   "cell_type": "markdown",
   "metadata": {
    "deletable": false,
    "editable": false,
    "nbgrader": {
     "cell_type": "markdown",
     "checksum": "2a60ce3465536d0a1c1c38957b89569c",
     "grade": false,
     "grade_id": "cell-e8a71fe7a9789225",
     "locked": true,
     "schema_version": 3,
     "solution": false,
     "task": false
    }
   },
   "source": [
    "**Question 4.2**\n",
    "<br>{points: 1} \n",
    "\n",
    "\n",
    "Now, let's find the best value of the number of neighbors. \n",
    "\n",
    "First, from `knn_results`, filter for `accuracy` from the `.metric` column. \n",
    "\n",
    "*Assign your answer to an object called `accuracies`.*\n",
    "\n",
    "Next, create a line plot using the `accuracies` dataset with `neighbors` on the x-axis and the `mean` on the y-axis. \n",
    "\n",
    "*Assign your answer to an object called `accuracy_versus_k`.*"
   ]
  },
  {
   "cell_type": "code",
   "execution_count": null,
   "metadata": {
    "deletable": false,
    "nbgrader": {
     "cell_type": "code",
     "checksum": "c1de51d8f96cc10a0e548c35636e24a9",
     "grade": false,
     "grade_id": "cell-b8ae5cb978d3f8f2",
     "locked": false,
     "schema_version": 3,
     "solution": true,
     "task": false
    }
   },
   "outputs": [],
   "source": [
    "#... <- knn_results |> \n",
    "#       filter(...)\n",
    "\n",
    "#... <- ggplot(..., aes(x = ..., y = ...))+\n",
    "#       geom_point() +\n",
    "#       geom_line() +\n",
    "#       labs(x = \"Neighbors\", y = \"Accuracy Estimate\") +\n",
    "#       scale_x_continuous(breaks = seq(0, 14, by = 1)) +  # adjusting the x-axis\n",
    "#       scale_y_continuous(limits = c(0.4, 1.0)) # adjusting the y-axis\n",
    "\n",
    "\n",
    "# your code here\n",
    "fail() # No Answer - remove if you provide an answer\n",
    "accuracy_versus_k"
   ]
  },
  {
   "cell_type": "code",
   "execution_count": null,
   "metadata": {
    "deletable": false,
    "editable": false,
    "nbgrader": {
     "cell_type": "code",
     "checksum": "4a89dbe2becd0f244a2de46162b9aa87",
     "grade": true,
     "grade_id": "cell-6d62d960eaff34d6",
     "locked": true,
     "points": 1,
     "schema_version": 3,
     "solution": false,
     "task": false
    }
   },
   "outputs": [],
   "source": [
    "library(digest)\n",
    "stopifnot(\"accuracies should be a data frame\"= setequal(digest(paste(toString('data.frame' %in% class(accuracies)), \"46e5e\")), \"0997e4e4447964b9939b1e9568d84118\"))\n",
    "stopifnot(\"dimensions of accuracies are not correct\"= setequal(digest(paste(toString(dim(accuracies)), \"46e5e\")), \"8cedd553339c071b180e61f10cfdf28e\"))\n",
    "stopifnot(\"column names of accuracies are not correct\"= setequal(digest(paste(toString(sort(colnames(accuracies))), \"46e5e\")), \"2a8c9a53e34adac9473d8d1c907823db\"))\n",
    "stopifnot(\"types of columns in accuracies are not correct\"= setequal(digest(paste(toString(sort(unlist(sapply(accuracies, class)))), \"46e5e\")), \"81f12c87e1ee8306b5cddadaca0e36d4\"))\n",
    "stopifnot(\"values in one or more numerical columns in accuracies are not correct\"= setequal(digest(paste(toString(if (any(sapply(accuracies, is.numeric))) sort(round(sapply(accuracies[, sapply(accuracies, is.numeric)], sum, na.rm = TRUE), 2)) else 0), \"46e5e\")), \"79c539f1d0785466fb727be70c307d15\"))\n",
    "stopifnot(\"values in one or more character columns in accuracies are not correct\"= setequal(digest(paste(toString(if (any(sapply(accuracies, is.character))) sum(sapply(accuracies[sapply(accuracies, is.character)], function(x) length(unique(x)))) else 0), \"46e5e\")), \"1a7bb030f51ddbea192a046a8698a18f\"))\n",
    "stopifnot(\"values in one or more factor columns in accuracies are not correct\"= setequal(digest(paste(toString(if (any(sapply(accuracies, is.factor))) sum(sapply(accuracies[, sapply(accuracies, is.factor)], function(col) length(unique(col)))) else 0), \"46e5e\")), \"f704210fb68c4318901fc537a6646806\"))\n",
    "\n",
    "stopifnot(\"type of plot is not correct (if you are using two types of geoms, try flipping the order of the geom objects!)\"= setequal(digest(paste(toString(sapply(seq_len(length(accuracy_versus_k$layers)), function(i) {c(class(accuracy_versus_k$layers[[i]]$geom))[1]})), \"46e5f\")), \"381fad6b562145b5a2b0b8ecc59e3828\"))\n",
    "stopifnot(\"variable x is not correct\"= setequal(digest(paste(toString(unlist(lapply(sapply(seq_len(length(accuracy_versus_k$layers)), function(i) {rlang::get_expr(c(accuracy_versus_k$layers[[i]]$mapping, accuracy_versus_k$mapping)$x)}), as.character))), \"46e5f\")), \"41a16c8df2a0d2261cd2e8877b806469\"))\n",
    "stopifnot(\"variable y is not correct\"= setequal(digest(paste(toString(unlist(lapply(sapply(seq_len(length(accuracy_versus_k$layers)), function(i) {rlang::get_expr(c(accuracy_versus_k$layers[[i]]$mapping, accuracy_versus_k$mapping)$y)}), as.character))), \"46e5f\")), \"45278f823c209b1469905ca17c98546c\"))\n",
    "stopifnot(\"x-axis label is not descriptive, nicely formatted, or human readable\"= setequal(digest(paste(toString(rlang::get_expr(c(accuracy_versus_k$layers[[1]]$mapping, accuracy_versus_k$mapping)$x)!= accuracy_versus_k$labels$x), \"46e5f\")), \"148f6d31581f743ea6a83c9ee2d214e0\"))\n",
    "stopifnot(\"y-axis label is not descriptive, nicely formatted, or human readable\"= setequal(digest(paste(toString(rlang::get_expr(c(accuracy_versus_k$layers[[1]]$mapping, accuracy_versus_k$mapping)$y)!= accuracy_versus_k$labels$y), \"46e5f\")), \"148f6d31581f743ea6a83c9ee2d214e0\"))\n",
    "stopifnot(\"incorrect colour variable in accuracy_versus_k, specify a correct one if required\"= setequal(digest(paste(toString(rlang::get_expr(c(accuracy_versus_k$layers[[1]]$mapping, accuracy_versus_k$mapping)$colour)), \"46e5f\")), \"8804d12f286cdf063970fa30b7d9499d\"))\n",
    "stopifnot(\"incorrect shape variable in accuracy_versus_k, specify a correct one if required\"= setequal(digest(paste(toString(rlang::get_expr(c(accuracy_versus_k$layers[[1]]$mapping, accuracy_versus_k$mapping)$shape)), \"46e5f\")), \"8804d12f286cdf063970fa30b7d9499d\"))\n",
    "stopifnot(\"the colour label in accuracy_versus_k is not descriptive, nicely formatted, or human readable\"= setequal(digest(paste(toString(rlang::get_expr(c(accuracy_versus_k$layers[[1]]$mapping, accuracy_versus_k$mapping)$colour) != accuracy_versus_k$labels$colour), \"46e5f\")), \"8804d12f286cdf063970fa30b7d9499d\"))\n",
    "stopifnot(\"the shape label in accuracy_versus_k is not descriptive, nicely formatted, or human readable\"= setequal(digest(paste(toString(rlang::get_expr(c(accuracy_versus_k$layers[[1]]$mapping, accuracy_versus_k$mapping)$colour) != accuracy_versus_k$labels$shape), \"46e5f\")), \"8804d12f286cdf063970fa30b7d9499d\"))\n",
    "stopifnot(\"fill variable in accuracy_versus_k is not correct\"= setequal(digest(paste(toString(quo_name(accuracy_versus_k$mapping$fill)), \"46e5f\")), \"d3edce9b20910bde345b435b4db5cc91\"))\n",
    "stopifnot(\"fill label in accuracy_versus_k is not informative\"= setequal(digest(paste(toString((quo_name(accuracy_versus_k$mapping$fill) != accuracy_versus_k$labels$fill)), \"46e5f\")), \"8804d12f286cdf063970fa30b7d9499d\"))\n",
    "stopifnot(\"position argument in accuracy_versus_k is not correct\"= setequal(digest(paste(toString(class(accuracy_versus_k$layers[[1]]$position)[1]), \"46e5f\")), \"8047f099a346fc411a272982113f2bdc\"))\n",
    "\n",
    "stopifnot(\"accuracy_versus_k$data should be a data frame\"= setequal(digest(paste(toString('data.frame' %in% class(accuracy_versus_k$data)), \"46e60\")), \"85e15f0d7204dec5c6263cd141aadf69\"))\n",
    "stopifnot(\"dimensions of accuracy_versus_k$data are not correct\"= setequal(digest(paste(toString(dim(accuracy_versus_k$data)), \"46e60\")), \"bcc905cf379eaece464383abfc1c3d9e\"))\n",
    "stopifnot(\"column names of accuracy_versus_k$data are not correct\"= setequal(digest(paste(toString(sort(colnames(accuracy_versus_k$data))), \"46e60\")), \"b59b0bddb8e1cac20d9b24bf672cf455\"))\n",
    "stopifnot(\"types of columns in accuracy_versus_k$data are not correct\"= setequal(digest(paste(toString(sort(unlist(sapply(accuracy_versus_k$data, class)))), \"46e60\")), \"88a127d1ad47bc82f44eeb0a4c5204b0\"))\n",
    "stopifnot(\"values in one or more numerical columns in accuracy_versus_k$data are not correct\"= setequal(digest(paste(toString(if (any(sapply(accuracy_versus_k$data, is.numeric))) sort(round(sapply(accuracy_versus_k$data[, sapply(accuracy_versus_k$data, is.numeric)], sum, na.rm = TRUE), 2)) else 0), \"46e60\")), \"c65a21737adbf82d60087ab9d4b98606\"))\n",
    "stopifnot(\"values in one or more character columns in accuracy_versus_k$data are not correct\"= setequal(digest(paste(toString(if (any(sapply(accuracy_versus_k$data, is.character))) sum(sapply(accuracy_versus_k$data[sapply(accuracy_versus_k$data, is.character)], function(x) length(unique(x)))) else 0), \"46e60\")), \"b30668a3ceab6735fce6593c51f980b9\"))\n",
    "stopifnot(\"values in one or more factor columns in accuracy_versus_k$data are not correct\"= setequal(digest(paste(toString(if (any(sapply(accuracy_versus_k$data, is.factor))) sum(sapply(accuracy_versus_k$data[, sapply(accuracy_versus_k$data, is.factor)], function(col) length(unique(col)))) else 0), \"46e60\")), \"afc4c8dce65049ff119304d03ce10300\"))\n",
    "\n",
    "print('Success!')"
   ]
  },
  {
   "cell_type": "markdown",
   "metadata": {
    "deletable": false,
    "editable": false,
    "nbgrader": {
     "cell_type": "markdown",
     "checksum": "55568644264b3cb3301d7ae175ae5cc8",
     "grade": false,
     "grade_id": "cell-ff9e1c1f4f70c1e9",
     "locked": true,
     "schema_version": 3,
     "solution": false,
     "task": false
    }
   },
   "source": [
    "From the plot above, we can see that $K = 2$, $3$, or $4$ provides the highest accuracy. Larger $K$ values result in a reduced accuracy estimate. Remember: the values you see on this plot are estimates of the true accuracy of our classifier. Although the $K = 2$, $3$ or $4$ value is higher than the others on this plot, that doesn’t mean the classifier is necessarily more accurate with this parameter value! "
   ]
  },
  {
   "cell_type": "markdown",
   "metadata": {
    "deletable": false,
    "editable": false,
    "nbgrader": {
     "cell_type": "markdown",
     "checksum": "b96cf43f98ea9bf9e2c9958a497023ff",
     "grade": false,
     "grade_id": "cell-0b119208147a50fc",
     "locked": true,
     "schema_version": 3,
     "solution": false,
     "task": false
    }
   },
   "source": [
    "Great, now you have completed a full workflow analysis with cross-validation using the `tidymodels` package! For your information, we can choose any number of folds and typically, the more we use the better our accuracy estimate will be (lower standard error). However, more folds would mean a greater computation time. In practice, $C$ is chosen to be either 5 or 10. "
   ]
  },
  {
   "cell_type": "code",
   "execution_count": null,
   "metadata": {
    "deletable": false,
    "editable": false,
    "nbgrader": {
     "cell_type": "code",
     "checksum": "b1e27fcdb53cd0811a4aebaba6c3c824",
     "grade": false,
     "grade_id": "cell-4609bfd4722e6480",
     "locked": true,
     "schema_version": 3,
     "solution": false,
     "task": false
    }
   },
   "outputs": [],
   "source": [
    "source('cleanup.R')"
   ]
  }
 ],
 "metadata": {
  "kernelspec": {
   "display_name": "R",
   "language": "R",
   "name": "ir"
  },
  "language_info": {
   "codemirror_mode": "r",
   "file_extension": ".r",
   "mimetype": "text/x-r-source",
   "name": "R",
   "pygments_lexer": "r",
   "version": "4.3.3"
  }
 },
 "nbformat": 4,
 "nbformat_minor": 4
}
