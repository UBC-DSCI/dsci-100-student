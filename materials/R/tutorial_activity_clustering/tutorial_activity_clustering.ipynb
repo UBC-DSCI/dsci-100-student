{
 "cells": [
  {
   "cell_type": "markdown",
   "metadata": {
    "deletable": false,
    "editable": false,
    "nbgrader": {
     "cell_type": "markdown",
     "checksum": "66b8426df14209a7848527a8fa25ef11",
     "grade": false,
     "grade_id": "cell-94dbc9244b334f17",
     "locked": true,
     "schema_version": 3,
     "solution": false,
     "task": false
    }
   },
   "source": [
    "# DSCI 100: Introduction to Data Science\n",
    "\n",
    "## Tutorial 10 — Clustering: Class activity"
   ]
  },
  {
   "cell_type": "markdown",
   "metadata": {
    "deletable": false,
    "editable": false,
    "nbgrader": {
     "cell_type": "markdown",
     "checksum": "998d879edbe4ebdeb55460a7869a60f0",
     "grade": false,
     "grade_id": "cell-7a882b4ab74615c3",
     "locked": true,
     "schema_version": 3,
     "solution": false,
     "task": false
    }
   },
   "source": [
    "Today, we will be looking at earthquake data from the [U.S. Geological Survey](https://www.usgs.gov/natural-hazards/earthquake-hazards/).\n",
    "\n",
    "Each row represents seismograph measurements measured at different stations. We will be preforming a $k$-means clustering algorithm to cluster measurements based on the depth of the event (in kilometers) and magnitude of the event, a variable which characterizes the relative size."
   ]
  },
  {
   "cell_type": "code",
   "execution_count": null,
   "metadata": {},
   "outputs": [],
   "source": [
    "# install the necessary packages for plotting map\n",
    "# comment out the line below to install, and then recomment it once it is installed (this need only be run once)\n",
    "# install.packages(\"ggmap\")"
   ]
  },
  {
   "cell_type": "code",
   "execution_count": null,
   "metadata": {},
   "outputs": [],
   "source": [
    "# Load in necessary packages \n",
    "library(ggmap)\n",
    "library(tidyverse)\n",
    "library(tidyclust)\n",
    "library(tidymodels)\n",
    "library(broom) # importantly, don't forget broom for clustering!\n",
    "options(repr.matrix.max.rows = 6)"
   ]
  },
  {
   "cell_type": "markdown",
   "metadata": {
    "deletable": false,
    "editable": false,
    "nbgrader": {
     "cell_type": "markdown",
     "checksum": "ee305029f8cbc598a778978a380b2dd5",
     "grade": false,
     "grade_id": "cell-6445d77274b4c243",
     "locked": true,
     "schema_version": 3,
     "solution": false,
     "task": false
    }
   },
   "source": [
    "The data set `earthquake.csv` is located in the `data` folder. Load the data set and call it `quake`."
   ]
  },
  {
   "cell_type": "code",
   "execution_count": null,
   "metadata": {
    "deletable": false,
    "nbgrader": {
     "cell_type": "code",
     "checksum": "793e08d8c542b2a3f4352100c709bbc3",
     "grade": false,
     "grade_id": "cell-1e3b2cd356232a85",
     "locked": false,
     "schema_version": 3,
     "solution": true,
     "task": false
    }
   },
   "outputs": [],
   "source": [
    "# your code here\n",
    "fail() # No Answer - remove if you provide an answer\n",
    "quake  "
   ]
  },
  {
   "cell_type": "markdown",
   "metadata": {
    "deletable": false,
    "editable": false,
    "nbgrader": {
     "cell_type": "markdown",
     "checksum": "c28b1388b0fe106ebf5c0cf9cd164767",
     "grade": false,
     "grade_id": "cell-b13f093ce471ef5c",
     "locked": true,
     "schema_version": 3,
     "solution": false,
     "task": false
    }
   },
   "source": [
    "We can use the `ggmap` package to visualize the location of the earthquake activity overlaid on a map of the world."
   ]
  },
  {
   "cell_type": "code",
   "execution_count": null,
   "metadata": {
    "deletable": false,
    "editable": false,
    "nbgrader": {
     "cell_type": "code",
     "checksum": "bd429ccd0a0afbfaf07843adce79d07f",
     "grade": false,
     "grade_id": "cell-255da705a6a72958",
     "locked": true,
     "schema_version": 3,
     "solution": false,
     "task": false
    }
   },
   "outputs": [],
   "source": [
    "options(repr.plot.width = 15)\n",
    "\n",
    "mapbox <- c(-179.8454, -62.3062, 179.8348, 79.6239)\n",
    "register_stadiamaps(key=\"STADIA_MAPS_API_KEY\")\n",
    "\n",
    "my_map <- get_map(location = mapbox, source = \"stadia\", maptype = \"stamen_toner_lite\")\n",
    "ggmap(my_map) +\n",
    "    geom_point(data = quake, \n",
    "             aes(x = longitude, y = latitude), \n",
    "             color = \"red\", \n",
    "             size = 3,\n",
    "             alpha = 0.5) +\n",
    "    labs(x = \"Longitude\", y = \"Latitude\")"
   ]
  },
  {
   "cell_type": "markdown",
   "metadata": {
    "deletable": false,
    "editable": false,
    "nbgrader": {
     "cell_type": "markdown",
     "checksum": "a7cf93cd3e82553269567e852f1e0e2d",
     "grade": false,
     "grade_id": "cell-2053d6a09a51cf70",
     "locked": true,
     "schema_version": 3,
     "solution": false,
     "task": false
    }
   },
   "source": [
    "Now, let's make a scatterplot to look at the relationship between `depth` and `mag` (magnitude). "
   ]
  },
  {
   "cell_type": "code",
   "execution_count": null,
   "metadata": {
    "deletable": false,
    "nbgrader": {
     "cell_type": "code",
     "checksum": "987da46b17760601e8630df207f1788a",
     "grade": true,
     "grade_id": "cell-4c453bdca71d0146",
     "locked": false,
     "points": 0,
     "schema_version": 3,
     "solution": true,
     "task": false
    }
   },
   "outputs": [],
   "source": [
    "options(repr.plot.width = 7)\n",
    "# your code here\n",
    "fail() # No Answer - remove if you provide an answer\n",
    "earthquake_plot"
   ]
  },
  {
   "cell_type": "markdown",
   "metadata": {},
   "source": [
    "We will now build a `tidymodels` workflow to cluster the data. The first step is to create a `recipe` that specifies that we want to center and scale `depth` and `mag` variables in the `quake` data frame. \n",
    "\n",
    "*Recall that we used a `recipe` for scaling when doing classification and regression. Even though `recipe`s were originally designed for predictive modeling tasks (like classification and regression), the `tidyclust` library lets us use our familiar `tidymodels` functions for clustering too!*"
   ]
  },
  {
   "cell_type": "code",
   "execution_count": null,
   "metadata": {
    "deletable": false,
    "nbgrader": {
     "cell_type": "code",
     "checksum": "077454e01dcfc1e5436db2f589d7ded0",
     "grade": true,
     "grade_id": "cell-bedb3ba96a832dbd",
     "locked": false,
     "points": 0,
     "schema_version": 3,
     "solution": true,
     "task": false
    }
   },
   "outputs": [],
   "source": [
    "# your code here\n",
    "fail() # No Answer - remove if you provide an answer"
   ]
  },
  {
   "cell_type": "markdown",
   "metadata": {
    "deletable": false,
    "editable": false,
    "nbgrader": {
     "cell_type": "markdown",
     "checksum": "7ae860273cb1df037beb2acd4551ec31",
     "grade": false,
     "grade_id": "cell-68c59a709cf7538d",
     "locked": true,
     "schema_version": 3,
     "solution": false,
     "task": false
    }
   },
   "source": [
    "Now, let's use the elbow method to choose the best $k$! 💪 \n",
    "\n",
    "(That is, the $k$ after which the WSSD improves by a *diminishing amount*.)"
   ]
  },
  {
   "cell_type": "code",
   "execution_count": null,
   "metadata": {
    "deletable": false,
    "nbgrader": {
     "cell_type": "code",
     "checksum": "0b48260c72c57354ef09ae19548ed634",
     "grade": true,
     "grade_id": "cell-8e4545e2c9d8c544",
     "locked": false,
     "points": 0,
     "schema_version": 3,
     "solution": true,
     "task": false
    }
   },
   "outputs": [],
   "source": [
    "# your code here\n",
    "fail() # No Answer - remove if you provide an answer"
   ]
  },
  {
   "cell_type": "markdown",
   "metadata": {},
   "source": [
    "We now have the the values for total within-cluster sum of squares for each model in a column (`total_WSSD`). Let's use it to create a line plot with points of total within-cluster sum of squares versus $K$, so that we can choose the best number of clusters to use. "
   ]
  },
  {
   "cell_type": "code",
   "execution_count": null,
   "metadata": {},
   "outputs": [],
   "source": [
    "kmeans_results <- kmeans_results |>\n",
    "    filter(.metric == \"sse_within_total\") |>\n",
    "    mutate(total_WSSD = mean) |>\n",
    "    select(num_clusters, total_WSSD)\n",
    "kmeans_results"
   ]
  },
  {
   "cell_type": "code",
   "execution_count": null,
   "metadata": {},
   "outputs": [],
   "source": [
    "elbow_plot <- ggplot(kmeans_results, aes(x = num_clusters, y = total_WSSD)) +\n",
    "  geom_point() +\n",
    "  geom_line() +\n",
    "  xlab(\"K\") +\n",
    "  ylab(\"Total within-cluster sum of squares\") +\n",
    "  scale_x_continuous(breaks = 1:9) +\n",
    "  theme(text = element_text(size = 12))\n",
    "\n",
    "elbow_plot"
   ]
  },
  {
   "cell_type": "markdown",
   "metadata": {},
   "source": [
    "What is the optimal k? Proceed by clustering with the correct number of ks and produce a plot to go along with it. This is our final model."
   ]
  },
  {
   "cell_type": "code",
   "execution_count": null,
   "metadata": {},
   "outputs": [],
   "source": [
    "kmeans_best_spec <- k_means(num_clusters = 3) |>\n",
    "    set_engine(\"stats\")\n",
    "kmeans_fit <- workflow() |>\n",
    "    add_recipe(kmeans_recipe) |>\n",
    "    add_model(kmeans_best_spec) |>\n",
    "    fit(data = earthquake)\n",
    "\n",
    "kmeans_fit"
   ]
  },
  {
   "cell_type": "markdown",
   "metadata": {},
   "source": [
    "Let's revisit the scatterplot to look at the relationship between `depth` and `mag` (magnitude) across clusters."
   ]
  },
  {
   "cell_type": "code",
   "execution_count": null,
   "metadata": {},
   "outputs": [],
   "source": [
    "clustered_data <- kmeans_fit |>\n",
    "                    augment(earthquake)\n",
    "cluster_plot <- ggplot(clustered_data, aes(x = depth, y = mag, colour = .pred_cluster), size = 2) +\n",
    "    geom_point() +\n",
    "    labs(x = \"Scaled Depth\", \n",
    "         y = \"Scaled Magnitude\", \n",
    "         colour = \"Cluster\") +\n",
    "    theme(text = element_text(size = 20))\n",
    "cluster_plot"
   ]
  },
  {
   "cell_type": "markdown",
   "metadata": {},
   "source": [
    "Now that we have our cluster assignments we can overlay the earthquake on top of the map according to their cluster."
   ]
  },
  {
   "cell_type": "code",
   "execution_count": null,
   "metadata": {},
   "outputs": [],
   "source": [
    "earthquake_with_cluster <- kmeans_fit |>\n",
    "                    augment(quake)\n",
    "ggmap(my_map) +\n",
    "    geom_point(data = earthquake_with_cluster, \n",
    "             aes(x = longitude, y = latitude, colour = .pred_cluster), \n",
    "             size = 5,\n",
    "             alpha = 0.5) + \n",
    "    labs(x = \"Longitude\", y = \"Latitude\", colour = \"Cluster\")"
   ]
  }
 ],
 "metadata": {
  "kernelspec": {
   "display_name": "R",
   "language": "R",
   "name": "ir"
  },
  "language_info": {
   "codemirror_mode": "r",
   "file_extension": ".r",
   "mimetype": "text/x-r-source",
   "name": "R",
   "pygments_lexer": "r",
   "version": "4.3.1"
  }
 },
 "nbformat": 4,
 "nbformat_minor": 4
}
