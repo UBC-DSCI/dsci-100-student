{
 "cells": [
  {
   "cell_type": "markdown",
   "metadata": {
    "deletable": false,
    "editable": false,
    "nbgrader": {
     "cell_type": "markdown",
     "checksum": "a2e433bc7bd17a9c2fcaba9f5d3ad6f4",
     "grade": false,
     "grade_id": "cell-a3e4ac7f29e7ee20",
     "locked": true,
     "schema_version": 3,
     "solution": false,
     "task": false
    }
   },
   "source": [
    "# Worksheet: Cleaning and wrangling data\n",
    "\n",
    "This worksheet covers the [Cleaning and wrangling data](https://datasciencebook.ca/wrangling.html) chapter of the online textbook, which also lists the learning objectives for this worksheet. You should read the textbook chapter before attempting this worksheet. "
   ]
  },
  {
   "cell_type": "code",
   "execution_count": null,
   "metadata": {
    "deletable": false,
    "editable": false,
    "nbgrader": {
     "cell_type": "code",
     "checksum": "65ad11e33b6343d7cabff19c8af4dab0",
     "grade": false,
     "grade_id": "cell-9ad6a603a70e118a",
     "locked": true,
     "schema_version": 3,
     "solution": false,
     "task": false
    }
   },
   "outputs": [],
   "source": [
    "### Run this cell before continuing. \n",
    "library(tidyverse)\n",
    "library(repr)\n",
    "source(\"cleanup.R\")\n",
    "options(repr.matrix.max.rows = 6)"
   ]
  },
  {
   "cell_type": "markdown",
   "metadata": {
    "deletable": false,
    "editable": false,
    "nbgrader": {
     "cell_type": "markdown",
     "checksum": "32ea0009671c5410cda436e494f880bb",
     "grade": false,
     "grade_id": "cell-0d59d96414adc1b8",
     "locked": true,
     "schema_version": 3,
     "solution": false,
     "task": false
    }
   },
   "source": [
    "**Question 0.0** Multiple Choice: \n",
    "<br> {points: 1}\n",
    "\n",
    "Which statement below is incorrect about vectors and data frames in R?\n",
    "\n",
    "A. the columns of data frames are vectors\n",
    "\n",
    "B. data frames can have columns of different types (e.g., a column of numeric data, and a column of character data)\n",
    "\n",
    "C. vectors can have elements of different types (e.g., element one can be numeric, and element 2 can be a character)\n",
    "\n",
    "D. data frames are a special kind of list\n",
    "\n",
    "\n",
    "*Assign your answer to an object called `answer0.0`. Make sure your answer is an uppercase letter and is surrounded by quotation marks (e.g. `\"F\"`).*"
   ]
  },
  {
   "cell_type": "code",
   "execution_count": null,
   "metadata": {
    "deletable": false,
    "nbgrader": {
     "cell_type": "code",
     "checksum": "73c7403b671a429a0e2414467fba10ec",
     "grade": false,
     "grade_id": "cell-cffd5df5830ecafd",
     "locked": false,
     "schema_version": 3,
     "solution": true,
     "task": false
    }
   },
   "outputs": [],
   "source": [
    "# Replace the fail() with your answer. \n",
    "\n",
    "# your code here\n",
    "fail() # No Answer - remove if you provide an answer"
   ]
  },
  {
   "cell_type": "code",
   "execution_count": null,
   "metadata": {
    "deletable": false,
    "editable": false,
    "nbgrader": {
     "cell_type": "code",
     "checksum": "700caf98df5dffa868adfbfd5aa3a84c",
     "grade": true,
     "grade_id": "cell-0bea903e0f37148c",
     "locked": true,
     "points": 1,
     "schema_version": 3,
     "solution": false,
     "task": false
    }
   },
   "outputs": [],
   "source": [
    "library(digest)\n",
    "stopifnot(\"type of answer0.0 is not character\"= setequal(digest(paste(toString(class(answer0.0)), \"687d1\")), \"b0606851f8ab1403affe70dae88277a1\"))\n",
    "stopifnot(\"length of answer0.0 is not correct\"= setequal(digest(paste(toString(length(answer0.0)), \"687d1\")), \"8be1aa3b66de219b03427ea3a762d5f1\"))\n",
    "stopifnot(\"value of answer0.0 is not correct\"= setequal(digest(paste(toString(tolower(answer0.0)), \"687d1\")), \"a287fdc997fab945a12b4dc687c87c00\"))\n",
    "stopifnot(\"letters in string value of answer0.0 are correct but case is not correct\"= setequal(digest(paste(toString(answer0.0), \"687d1\")), \"28a29618bfa432c827be44da36ccd9ea\"))\n",
    "\n",
    "print('Success!')"
   ]
  },
  {
   "cell_type": "markdown",
   "metadata": {
    "deletable": false,
    "editable": false,
    "nbgrader": {
     "cell_type": "markdown",
     "checksum": "aa15ea35e2065a6be1a7393c9bd15d7b",
     "grade": false,
     "grade_id": "cell-77d758b913b7fb7d",
     "locked": true,
     "schema_version": 3,
     "solution": false
    }
   },
   "source": [
    "**Question 0.1** Multiple Choice: \n",
    "<br> {points: 1}\n",
    "\n",
    "Which of the following does **_not_** characterize a tidy dataset?\n",
    "\n",
    "A. each row is a single observation\n",
    "\n",
    "B. each value should not be in a single cell\n",
    "\n",
    "C. each column is a single variable\n",
    "\n",
    "D. each value is a single cell\n",
    "\n",
    "\n",
    "*Assign your answer to an object called `answer0.1`. Make sure your answer is an uppercase letter and is surrounded by quotation marks (e.g. `\"F\"`).*"
   ]
  },
  {
   "cell_type": "code",
   "execution_count": null,
   "metadata": {
    "deletable": false,
    "nbgrader": {
     "cell_type": "code",
     "checksum": "fdad5116018a86871d0cbfd227b1bcdf",
     "grade": false,
     "grade_id": "cell-875bec2db6814c4e",
     "locked": false,
     "schema_version": 3,
     "solution": true
    }
   },
   "outputs": [],
   "source": [
    "# Replace the fail() with your answer. \n",
    "\n",
    "# your code here\n",
    "fail() # No Answer - remove if you provide an answer"
   ]
  },
  {
   "cell_type": "code",
   "execution_count": null,
   "metadata": {
    "deletable": false,
    "editable": false,
    "nbgrader": {
     "cell_type": "code",
     "checksum": "aed8e1511dd8145423c4059f907a9afa",
     "grade": true,
     "grade_id": "cell-7bc5804c8cd5900d",
     "locked": true,
     "points": 1,
     "schema_version": 3,
     "solution": false
    }
   },
   "outputs": [],
   "source": [
    "library(digest)\n",
    "stopifnot(\"type of answer0.1 is not character\"= setequal(digest(paste(toString(class(answer0.1)), \"8c44c\")), \"2afe90074fad3ec3878a60a49c4f380e\"))\n",
    "stopifnot(\"length of answer0.1 is not correct\"= setequal(digest(paste(toString(length(answer0.1)), \"8c44c\")), \"5ef1b720a52eb9027ba23705d33bbf41\"))\n",
    "stopifnot(\"value of answer0.1 is not correct\"= setequal(digest(paste(toString(tolower(answer0.1)), \"8c44c\")), \"4f7db8f6066001518a42f5070c3861aa\"))\n",
    "stopifnot(\"letters in string value of answer0.1 are correct but case is not correct\"= setequal(digest(paste(toString(answer0.1), \"8c44c\")), \"9c01aabcc9cd69be9502aa601bf680e4\"))\n",
    "\n",
    "print('Success!')"
   ]
  },
  {
   "cell_type": "markdown",
   "metadata": {
    "deletable": false,
    "editable": false,
    "nbgrader": {
     "cell_type": "markdown",
     "checksum": "b9e60ff519c442b408227bba4d5f294e",
     "grade": false,
     "grade_id": "cell-122d814c0cfa7294",
     "locked": true,
     "schema_version": 3,
     "solution": false
    }
   },
   "source": [
    "**Question 0.2** Multiple Choice: \n",
    "<br> {points: 1}\n",
    "\n",
    "For which scenario would using one of the `group_by()` + `summarize()` be appropriate?\n",
    "\n",
    "A. To apply the same function to every row. \n",
    "\n",
    "B. To apply the same function to every column.\n",
    "\n",
    "C. To apply the same function to groups of rows. \n",
    "\n",
    "D. To apply the same function to groups of columns.\n",
    "\n",
    "*Assign your answer to an object called `answer0.2`.  Make sure your answer is an uppercase letter and is surrounded by quotation marks (e.g. `\"F\"`).*"
   ]
  },
  {
   "cell_type": "code",
   "execution_count": null,
   "metadata": {
    "deletable": false,
    "nbgrader": {
     "cell_type": "code",
     "checksum": "e143827671391169e0a27129d6f3246c",
     "grade": false,
     "grade_id": "cell-85fb659000512dcd",
     "locked": false,
     "schema_version": 3,
     "solution": true
    }
   },
   "outputs": [],
   "source": [
    "# Replace the fail() with your answer. \n",
    "\n",
    "# your code here\n",
    "fail() # No Answer - remove if you provide an answer"
   ]
  },
  {
   "cell_type": "code",
   "execution_count": null,
   "metadata": {
    "deletable": false,
    "editable": false,
    "nbgrader": {
     "cell_type": "code",
     "checksum": "f1f88acc9f121b8b81bacc4c26434ed8",
     "grade": true,
     "grade_id": "cell-386ada4b41ae9cae",
     "locked": true,
     "points": 1,
     "schema_version": 3,
     "solution": false
    }
   },
   "outputs": [],
   "source": [
    "library(digest)\n",
    "stopifnot(\"type of answer0.2 is not character\"= setequal(digest(paste(toString(class(answer0.2)), \"9bea8\")), \"3fdc4aab2072a9cfa24a7f38521b6a97\"))\n",
    "stopifnot(\"length of answer0.2 is not correct\"= setequal(digest(paste(toString(length(answer0.2)), \"9bea8\")), \"c13695fa7859703bd79c245a30e9062b\"))\n",
    "stopifnot(\"value of answer0.2 is not correct\"= setequal(digest(paste(toString(tolower(answer0.2)), \"9bea8\")), \"0404480a667292e5fc0a7fa025a8ec1b\"))\n",
    "stopifnot(\"letters in string value of answer0.2 are correct but case is not correct\"= setequal(digest(paste(toString(answer0.2), \"9bea8\")), \"53ddfcba7833c00fc9fcc981a95a8ee2\"))\n",
    "\n",
    "print('Success!')"
   ]
  },
  {
   "cell_type": "markdown",
   "metadata": {
    "deletable": false,
    "editable": false,
    "nbgrader": {
     "cell_type": "markdown",
     "checksum": "2bb97b950e612b69f314882d5b30be09",
     "grade": false,
     "grade_id": "cell-a181b4e3f1a49cf7",
     "locked": true,
     "schema_version": 3,
     "solution": false
    }
   },
   "source": [
    "**Question 0.3** Multiple Choice: \n",
    "<br> {points: 1}\n",
    "\n",
    "For which scenario would using one of the `purrr` `map_*` functions be appropriate?\n",
    "\n",
    "A. To apply the same function to groups of rows.\n",
    "\n",
    "B. To apply the same function to every column.\n",
    "\n",
    "C. To apply the same function to groups of columns. \n",
    "\n",
    "D. All of the above.\n",
    "\n",
    "*Assign your answer to an object called `answer0.3`. Make sure your answer is an uppercase letter and is surrounded by quotation marks (e.g. `\"F\"`).**"
   ]
  },
  {
   "cell_type": "code",
   "execution_count": null,
   "metadata": {
    "deletable": false,
    "nbgrader": {
     "cell_type": "code",
     "checksum": "4adf7048c61347f737d36efd15fbff2b",
     "grade": false,
     "grade_id": "cell-32255c3e7f7a4e6c",
     "locked": false,
     "schema_version": 3,
     "solution": true
    }
   },
   "outputs": [],
   "source": [
    "# Replace the fail() with your answer. \n",
    "\n",
    "# your code here\n",
    "fail() # No Answer - remove if you provide an answer"
   ]
  },
  {
   "cell_type": "code",
   "execution_count": null,
   "metadata": {
    "deletable": false,
    "editable": false,
    "nbgrader": {
     "cell_type": "code",
     "checksum": "09f42ffd763117cdf29fa3da75d82db9",
     "grade": true,
     "grade_id": "cell-efb75338147fc001",
     "locked": true,
     "points": 1,
     "schema_version": 3,
     "solution": false
    }
   },
   "outputs": [],
   "source": [
    "library(digest)\n",
    "stopifnot(\"type of answer0.3 is not character\"= setequal(digest(paste(toString(class(answer0.3)), \"480a5\")), \"f0e6f49c23f73bde19aa6e7f578fd38c\"))\n",
    "stopifnot(\"length of answer0.3 is not correct\"= setequal(digest(paste(toString(length(answer0.3)), \"480a5\")), \"72e3ce2ec1c24d95cbf2a4141b940d76\"))\n",
    "stopifnot(\"value of answer0.3 is not correct\"= setequal(digest(paste(toString(tolower(answer0.3)), \"480a5\")), \"035781451c5e7f12406f34db17587d15\"))\n",
    "stopifnot(\"letters in string value of answer0.3 are correct but case is not correct\"= setequal(digest(paste(toString(answer0.3), \"480a5\")), \"e750fcc6efa6308b4e230d0bd21adf1d\"))\n",
    "\n",
    "print('Success!')"
   ]
  },
  {
   "cell_type": "markdown",
   "metadata": {
    "deletable": false,
    "editable": false,
    "nbgrader": {
     "cell_type": "markdown",
     "checksum": "8ce794daf58240c87dc3816f2d6868f2",
     "grade": false,
     "grade_id": "cell-fa871a669adbf899",
     "locked": true,
     "schema_version": 3,
     "solution": false,
     "task": false
    }
   },
   "source": [
    "## 1. Assessing avocado prices to inform restaurant menu planning\n",
    "\n",
    "It is a well known that millennials LOVE avocado toast (joking...well mostly 😉), and so many restaurants will offer menu items that centre around this delicious food! Like many food items, avocado prices fluctuate. So a restaurant who wants to maximize profits on avocado-containing dishes might ask if there are times when the price of avocados are less expensive to purchase? If such times exist, this is when the restaurant should put avocado-containing dishes on the menu to maximize their profits for those dishes. \n",
    "\n",
    "<img align=\"left\" src=\"https://www.averiecooks.com/wp-content/uploads/2017/07/egghole-2.jpg\" width=\"150\" />"
   ]
  },
  {
   "cell_type": "markdown",
   "metadata": {
    "deletable": false,
    "editable": false,
    "nbgrader": {
     "cell_type": "markdown",
     "checksum": "6f879185b3739704219c1e2c00a8c06c",
     "grade": false,
     "grade_id": "cell-f911d0be7d9dc7f7",
     "locked": true,
     "schema_version": 3,
     "solution": false,
     "task": false
    }
   },
   "source": [
    "*Source: https://www.averiecooks.com/egg-hole-avocado-toast/*\n",
    "\n",
    "To answer this question we will analyze a data set of avocado sales from multiple US markets. This data was downloaded from the [Hass Avocado Board website](http://www.hassavocadoboard.com/) in May of 2018 & compiled into a single CSV. Each row in the data set contains weekly sales data for a region. The data set spans the year 2015-2018.\n",
    "\n",
    "Some relevant columns in the dataset:\n",
    "\n",
    "- `Date` - The date in year-month-day format\n",
    "- `average_price` - The average price of a single avocado\n",
    "- `type` - conventional or organic\n",
    "- `yr` - The year\n",
    "- `region` - The city or region of the observation\n",
    "- `small_hass_volume` in pounds (lbs)\t\n",
    "- `large_hass_volume` in pounds (lbs)\t\t\n",
    "- `extra_l_hass_volume`\tin pounds (lbs)\t\n",
    "- `wk` - integer number for the calendar week in the year (e.g., first week of January is 1, and last week of December is 52).\n",
    "\n",
    "To answer our question of whether there are times in the year when avocados are typically less expensive (and thus we can make more profitable menu items with them at a restaurant) we will want to create a scatter plot of `average_price` (y-axis) versus `Date` (x-axis)."
   ]
  },
  {
   "cell_type": "markdown",
   "metadata": {
    "deletable": false,
    "editable": false,
    "nbgrader": {
     "cell_type": "markdown",
     "checksum": "b70f48237dcfff91c82d6e063849d737",
     "grade": false,
     "grade_id": "cell-acb1e485a76f043b",
     "locked": true,
     "schema_version": 3,
     "solution": false
    }
   },
   "source": [
    "**Question 1.1** Multiple Choice:\n",
    "<br> {points: 1}\n",
    "\n",
    "Which of the following is not included in the `csv` file?\n",
    "\n",
    "A. Average price of a single avocado.\n",
    "\n",
    "B. The farming practice (production with/without the use of chemicals). \n",
    "\n",
    "C. Average price of a bag of avocados.\n",
    "\n",
    "D. All options are included in the data set.\n",
    "\n",
    "*Assign your answer to an object called `answer1.1`. Make sure your answer is an uppercase letter and is surrounded by quotation marks (e.g. `\"F\"`).** "
   ]
  },
  {
   "cell_type": "code",
   "execution_count": null,
   "metadata": {
    "deletable": false,
    "nbgrader": {
     "cell_type": "code",
     "checksum": "82bc54b1241b3e44d1d0e6dd19e6258b",
     "grade": false,
     "grade_id": "cell-39161480e71d9b43",
     "locked": false,
     "schema_version": 3,
     "solution": true
    }
   },
   "outputs": [],
   "source": [
    "# Replace the fail() with your answer. \n",
    "\n",
    "# your code here\n",
    "fail() # No Answer - remove if you provide an answer"
   ]
  },
  {
   "cell_type": "code",
   "execution_count": null,
   "metadata": {
    "deletable": false,
    "editable": false,
    "nbgrader": {
     "cell_type": "code",
     "checksum": "d4043ff665e6ebf8d29d7bd7613d7c47",
     "grade": true,
     "grade_id": "cell-1c278f180e20468f",
     "locked": true,
     "points": 1,
     "schema_version": 3,
     "solution": false
    }
   },
   "outputs": [],
   "source": [
    "library(digest)\n",
    "stopifnot(\"type of answer1.1 is not character\"= setequal(digest(paste(toString(class(answer1.1)), \"ec118\")), \"e018a26824269560efa6a7d3a78d3b40\"))\n",
    "stopifnot(\"length of answer1.1 is not correct\"= setequal(digest(paste(toString(length(answer1.1)), \"ec118\")), \"c80a712371da11395e42dde4098a6031\"))\n",
    "stopifnot(\"value of answer1.1 is not correct\"= setequal(digest(paste(toString(tolower(answer1.1)), \"ec118\")), \"f1f9122db747e20e2ef49d066edebb82\"))\n",
    "stopifnot(\"letters in string value of answer1.1 are correct but case is not correct\"= setequal(digest(paste(toString(answer1.1), \"ec118\")), \"34e1fef391dfe1382a9b86b23c212757\"))\n",
    "\n",
    "print('Success!')"
   ]
  },
  {
   "cell_type": "markdown",
   "metadata": {
    "deletable": false,
    "editable": false,
    "nbgrader": {
     "cell_type": "markdown",
     "checksum": "c81f6ac7523cc54fa7354c0bf3038fdb",
     "grade": false,
     "grade_id": "cell-56154f20b1c3af0b",
     "locked": true,
     "schema_version": 3,
     "solution": false
    }
   },
   "source": [
    "**Question 1.2** Multiple Choice:\n",
    "<br> {points: 1}\n",
    "\n",
    "The rows in the data frame represent:\n",
    "\n",
    "A. daily avocado sales data for a region\n",
    "\n",
    "B. weekly avocado sales data for a region\n",
    "\n",
    "C. bi-weekly avocado sales data for a region\n",
    "\n",
    "D. yearly avocado sales data for a region\n",
    "\n",
    "*Assign your answer to an object called `answer1.2`. Make sure your answer is an uppercase letter and is surrounded by quotation marks (e.g. `\"F\"`).*"
   ]
  },
  {
   "cell_type": "code",
   "execution_count": null,
   "metadata": {
    "deletable": false,
    "nbgrader": {
     "cell_type": "code",
     "checksum": "655ad083ef09a5ba2923d3a9ba268c32",
     "grade": false,
     "grade_id": "cell-1d614695a9d4a4f9",
     "locked": false,
     "schema_version": 3,
     "solution": true
    }
   },
   "outputs": [],
   "source": [
    "# Replace the fail() with your answer. \n",
    "\n",
    "# your code here\n",
    "fail() # No Answer - remove if you provide an answer"
   ]
  },
  {
   "cell_type": "code",
   "execution_count": null,
   "metadata": {
    "deletable": false,
    "editable": false,
    "nbgrader": {
     "cell_type": "code",
     "checksum": "b304c25f14c2d24d0d20228b940c7995",
     "grade": true,
     "grade_id": "cell-6adfe52857aa9333",
     "locked": true,
     "points": 1,
     "schema_version": 3,
     "solution": false
    }
   },
   "outputs": [],
   "source": [
    "library(digest)\n",
    "stopifnot(\"type of answer1.2 is not character\"= setequal(digest(paste(toString(class(answer1.2)), \"e8c45\")), \"a901b8d371f39b8597c80086db687147\"))\n",
    "stopifnot(\"length of answer1.2 is not correct\"= setequal(digest(paste(toString(length(answer1.2)), \"e8c45\")), \"2e2666b55f20d431a550e24128560f81\"))\n",
    "stopifnot(\"value of answer1.2 is not correct\"= setequal(digest(paste(toString(tolower(answer1.2)), \"e8c45\")), \"40618c348c94020d630f7622fe183b2e\"))\n",
    "stopifnot(\"letters in string value of answer1.2 are correct but case is not correct\"= setequal(digest(paste(toString(answer1.2), \"e8c45\")), \"35a28fb1ffe83d0917250a6215772d80\"))\n",
    "\n",
    "print('Success!')"
   ]
  },
  {
   "cell_type": "markdown",
   "metadata": {
    "deletable": false,
    "editable": false,
    "nbgrader": {
     "cell_type": "markdown",
     "checksum": "1f6891412bdb99ff7256f7043f4d7bea",
     "grade": false,
     "grade_id": "cell-7e263f37387da63d",
     "locked": true,
     "schema_version": 3,
     "solution": false
    }
   },
   "source": [
    "**Question 1.3** \n",
    "<br> {points: 1}\n",
    "\n",
    "The first step to plotting total volume against average price is to read the file `avocado_prices.csv` using the shortest relative path. The data file was given to you along with this worksheet, but you will have to look to see where it is in the `worksheet_03` directory to correctly load it. When you do this, you should also preview the file to help you choose an appropriate `read_*` function to read the data.\n",
    "\n",
    "*Assign your answer to an object called `avocado`.* "
   ]
  },
  {
   "cell_type": "code",
   "execution_count": null,
   "metadata": {
    "deletable": false,
    "nbgrader": {
     "cell_type": "code",
     "checksum": "aa4426491b18313dfae5ed796740b61a",
     "grade": false,
     "grade_id": "cell-434656ab0b99d8bd",
     "locked": false,
     "schema_version": 3,
     "solution": true
    }
   },
   "outputs": [],
   "source": [
    "#... <- ...(\"...\")\n",
    "\n",
    "# your code here\n",
    "fail() # No Answer - remove if you provide an answer\n",
    "avocado "
   ]
  },
  {
   "cell_type": "code",
   "execution_count": null,
   "metadata": {
    "deletable": false,
    "editable": false,
    "nbgrader": {
     "cell_type": "code",
     "checksum": "5e6078e29f48570e7a433ccb2d2f54f2",
     "grade": true,
     "grade_id": "cell-a968fbd8b038ba4b",
     "locked": true,
     "points": 1,
     "schema_version": 3,
     "solution": false
    }
   },
   "outputs": [],
   "source": [
    "library(digest)\n",
    "stopifnot(\"avocado should be a data frame\"= setequal(digest(paste(toString('data.frame' %in% class(avocado)), \"6830e\")), \"10904dfb90d0e48e887a23973b27c218\"))\n",
    "stopifnot(\"dimensions of avocado are not correct\"= setequal(digest(paste(toString(dim(avocado)), \"6830e\")), \"8b68118bed3e559ffe023d29a19319e9\"))\n",
    "stopifnot(\"column names of avocado are not correct\"= setequal(digest(paste(toString(sort(colnames(avocado))), \"6830e\")), \"f1c12e24360e04ba0dc619df1a64e4cc\"))\n",
    "stopifnot(\"types of columns in avocado are not correct\"= setequal(digest(paste(toString(sort(unlist(sapply(avocado, class)))), \"6830e\")), \"94038b3a92901ab7951c8b9889f976e4\"))\n",
    "stopifnot(\"values in one or more numerical columns in avocado are not correct\"= setequal(digest(paste(toString(if (any(sapply(avocado, is.numeric))) sort(round(sapply(avocado[, sapply(avocado, is.numeric)], sum, na.rm = TRUE), 2)) else 0), \"6830e\")), \"f68caeeba0663c026f023a70c0a4dc91\"))\n",
    "stopifnot(\"values in one or more character columns in avocado are not correct\"= setequal(digest(paste(toString(if (any(sapply(avocado, is.character))) sum(sapply(avocado[sapply(avocado, is.character)], function(x) length(unique(x)))) else 0), \"6830e\")), \"91710d839850e7713918ac672cf3a720\"))\n",
    "stopifnot(\"values in one or more factor columns in avocado are not correct\"= setequal(digest(paste(toString(if (any(sapply(avocado, is.factor))) sum(sapply(avocado[, sapply(avocado, is.factor)], function(col) length(unique(col)))) else 0), \"6830e\")), \"472edccc2acc8a245fee5deb476f0a02\"))\n",
    "\n",
    "print('Success!')"
   ]
  },
  {
   "cell_type": "markdown",
   "metadata": {
    "deletable": false,
    "editable": false,
    "nbgrader": {
     "cell_type": "markdown",
     "checksum": "3c326a42a77b4579565a6196e05398bd",
     "grade": false,
     "grade_id": "cell-8813edd076a1a198",
     "locked": true,
     "schema_version": 3,
     "solution": false
    }
   },
   "source": [
    "**Question 1.4** Multiple Choice:\n",
    "<br> {points: 1}\n",
    "\n",
    "Why are the 2nd to 5th columns \\<dbl\\> instead of \\<int\\>?\n",
    "\n",
    "A. They aren't \"real\" numbers. \n",
    "\n",
    "B. They contain decimals. \n",
    "\n",
    "C. They are numbers created using text/letters. \n",
    "\n",
    "D. They are integers. \n",
    "\n",
    "*Assign your answer to an object called `answer1.4`. Make sure your answer is an uppercase letter and is surrounded by quotation marks (e.g. `\"F\"`).*"
   ]
  },
  {
   "cell_type": "code",
   "execution_count": null,
   "metadata": {
    "deletable": false,
    "nbgrader": {
     "cell_type": "code",
     "checksum": "3bc7e3d54005917c40a0ed28dfb37a10",
     "grade": false,
     "grade_id": "cell-7b981c1250a92624",
     "locked": false,
     "schema_version": 3,
     "solution": true
    }
   },
   "outputs": [],
   "source": [
    "# Make sure the correct answer is an uppercase letter. \n",
    "# Surround your answer with quotation marks.\n",
    "# Replace the fail() with your answer. \n",
    "\n",
    "# your code here\n",
    "fail() # No Answer - remove if you provide an answer"
   ]
  },
  {
   "cell_type": "code",
   "execution_count": null,
   "metadata": {
    "deletable": false,
    "editable": false,
    "nbgrader": {
     "cell_type": "code",
     "checksum": "a32d0e578936f9e5485179140e96b3af",
     "grade": true,
     "grade_id": "cell-962d5be15864a23e",
     "locked": true,
     "points": 1,
     "schema_version": 3,
     "solution": false
    }
   },
   "outputs": [],
   "source": [
    "library(digest)\n",
    "stopifnot(\"type of answer1.4 is not character\"= setequal(digest(paste(toString(class(answer1.4)), \"bd916\")), \"3d6d3d42a78d4222e94a9c4fb81c976b\"))\n",
    "stopifnot(\"length of answer1.4 is not correct\"= setequal(digest(paste(toString(length(answer1.4)), \"bd916\")), \"5ab72744d0c54caeaa725420cb625005\"))\n",
    "stopifnot(\"value of answer1.4 is not correct\"= setequal(digest(paste(toString(tolower(answer1.4)), \"bd916\")), \"9c629dce0f4a4d856a05e144ce47713c\"))\n",
    "stopifnot(\"letters in string value of answer1.4 are correct but case is not correct\"= setequal(digest(paste(toString(answer1.4), \"bd916\")), \"116e3361d6fd46ac17eb32353fc4b133\"))\n",
    "\n",
    "print('Success!')"
   ]
  },
  {
   "cell_type": "markdown",
   "metadata": {
    "deletable": false,
    "editable": false,
    "nbgrader": {
     "cell_type": "markdown",
     "checksum": "782e74484a91ec0cffa051cf88e20533",
     "grade": false,
     "grade_id": "cell-31ff875d27e26cf4",
     "locked": true,
     "schema_version": 3,
     "solution": false,
     "task": false
    }
   },
   "source": [
    "Before we get started doing our analysis, let's learn about the pipe operator, `|>`, as it can be very helpful when doing data analysis in R!\n",
    "\n",
    "### Pipe Operators: `|>`\n",
    "Pipe operators allow you to chain together different functions - it takes the output of one statement and makes it the input of the next statement. Having a chain of processing functions is known as a *pipeline*. \n",
    "\n",
    "If we wanted to subset the avocado data to obtain just the average prices for organic avocados, we would need to first filter the `type` column using the function: `filter()` for the rows where the type is organic. Then we would need to use the `select()` function to get just the average price column.\n",
    "\n",
    "Below we illustrate how to do this using the pipe operator, `|>`, instead of creating an intermediate object as we have in past worksheets: \n",
    "\n",
    "> *Note: the indentation on the second line of the pipeline is not required, but added for readability.*"
   ]
  },
  {
   "cell_type": "code",
   "execution_count": null,
   "metadata": {},
   "outputs": [],
   "source": [
    "# run this cell\n",
    "filter(avocado, type == \"organic\") |> \n",
    "    select(average_price)"
   ]
  },
  {
   "cell_type": "markdown",
   "metadata": {
    "deletable": false,
    "editable": false,
    "nbgrader": {
     "cell_type": "markdown",
     "checksum": "c09b63ea9d49b015be709c37a8bfba71",
     "grade": false,
     "grade_id": "cell-c0f8ea7d3833df9f",
     "locked": true,
     "schema_version": 3,
     "solution": false,
     "task": false
    }
   },
   "source": [
    "We can even start off a pipeline by passing the data frame into the first function. This is convenient and aids in readability. You will see this being used often in this course going forward. Below we show an example of this doing the same task we just completed above (subsetting the average price data for organic avocados)."
   ]
  },
  {
   "cell_type": "code",
   "execution_count": null,
   "metadata": {},
   "outputs": [],
   "source": [
    "avocado |> \n",
    "    filter( type == \"organic\") |> \n",
    "    select(average_price)"
   ]
  },
  {
   "cell_type": "markdown",
   "metadata": {
    "deletable": false,
    "editable": false,
    "nbgrader": {
     "cell_type": "markdown",
     "checksum": "22c6811eecf6db2aa0423c328fff9fce",
     "grade": false,
     "grade_id": "cell-80ee505836e01bce",
     "locked": true,
     "schema_version": 3,
     "solution": false,
     "task": false
    }
   },
   "source": [
    "**Question 1.5**\n",
    "\n",
    "{points: 1}\n",
    "\n",
    "To answer our question, let's now create the scatter plot where we plot `average_price` on the y-axis versus `Date` on the x-axis. Fill in the ... in the cell below. Copy and paste your finished answer in place of `fail()`. Assign your answer to an object called `avocado_plot`. Don't forget to create proper English axis labels."
   ]
  },
  {
   "cell_type": "code",
   "execution_count": null,
   "metadata": {
    "deletable": false,
    "nbgrader": {
     "cell_type": "code",
     "checksum": "e801dd9ee2c0c4e2c1c9d1def7894c6a",
     "grade": false,
     "grade_id": "cell-fd8156be131e6ab6",
     "locked": false,
     "schema_version": 3,
     "solution": true
    }
   },
   "outputs": [],
   "source": [
    "options(repr.plot.width = 14, repr.plot.height = 7) # Modifies the size of the plots\n",
    "#... <- ... |>\n",
    "#    ggplot(aes(x = ..., y = ...)) + \n",
    "#        geom_...() +\n",
    "#        xlab(\"...\") + \n",
    "#        ylab(\"...\") + \n",
    "#        theme(text = element_text(size=20))\n",
    "\n",
    "\n",
    "# your code here\n",
    "fail() # No Answer - remove if you provide an answer\n",
    "avocado_plot"
   ]
  },
  {
   "cell_type": "code",
   "execution_count": null,
   "metadata": {
    "deletable": false,
    "editable": false,
    "nbgrader": {
     "cell_type": "code",
     "checksum": "b16dd2cd149e44fe8df48c553784301e",
     "grade": true,
     "grade_id": "cell-89b7338558e28dbc",
     "locked": true,
     "points": 1,
     "schema_version": 3,
     "solution": false,
     "task": false
    }
   },
   "outputs": [],
   "source": [
    "library(digest)\n",
    "stopifnot(\"type of plot is not correct (if you are using two types of geoms, try flipping the order of the geom objects!)\"= setequal(digest(paste(toString(sapply(seq_len(length(avocado_plot$layers)), function(i) {c(class(avocado_plot$layers[[i]]$geom))[1]})), \"3f169\")), \"63502eda337c6ee430374b9810a3f72d\"))\n",
    "stopifnot(\"variable x is not correct\"= setequal(digest(paste(toString(unlist(lapply(sapply(seq_len(length(avocado_plot$layers)), function(i) {rlang::get_expr(c(avocado_plot$layers[[i]]$mapping, avocado_plot$mapping)$x)}), as.character))), \"3f169\")), \"095a841ea3a52371f820bc35786e7d25\"))\n",
    "stopifnot(\"variable y is not correct\"= setequal(digest(paste(toString(unlist(lapply(sapply(seq_len(length(avocado_plot$layers)), function(i) {rlang::get_expr(c(avocado_plot$layers[[i]]$mapping, avocado_plot$mapping)$y)}), as.character))), \"3f169\")), \"8c6f1d1ab08740b7360f56c45e84c202\"))\n",
    "stopifnot(\"x-axis label is not descriptive, nicely formatted, or human readable\"= setequal(digest(paste(toString(rlang::get_expr(c(avocado_plot$layers[[1]]$mapping, avocado_plot$mapping)$x)!= avocado_plot$labels$x), \"3f169\")), \"f8d50264b5ac0ea4bd26c5c34b994db9\"))\n",
    "stopifnot(\"y-axis label is not descriptive, nicely formatted, or human readable\"= setequal(digest(paste(toString(rlang::get_expr(c(avocado_plot$layers[[1]]$mapping, avocado_plot$mapping)$y)!= avocado_plot$labels$y), \"3f169\")), \"f8d50264b5ac0ea4bd26c5c34b994db9\"))\n",
    "stopifnot(\"incorrect colour variable in avocado_plot, specify a correct one if required\"= setequal(digest(paste(toString(rlang::get_expr(c(avocado_plot$layers[[1]]$mapping, avocado_plot$mapping)$colour)), \"3f169\")), \"765218ac60271664869eeac40b99d5e8\"))\n",
    "stopifnot(\"incorrect shape variable in avocado_plot, specify a correct one if required\"= setequal(digest(paste(toString(rlang::get_expr(c(avocado_plot$layers[[1]]$mapping, avocado_plot$mapping)$shape)), \"3f169\")), \"765218ac60271664869eeac40b99d5e8\"))\n",
    "stopifnot(\"the colour label in avocado_plot is not descriptive, nicely formatted, or human readable\"= setequal(digest(paste(toString(rlang::get_expr(c(avocado_plot$layers[[1]]$mapping, avocado_plot$mapping)$colour) != avocado_plot$labels$colour), \"3f169\")), \"765218ac60271664869eeac40b99d5e8\"))\n",
    "stopifnot(\"the shape label in avocado_plot is not descriptive, nicely formatted, or human readable\"= setequal(digest(paste(toString(rlang::get_expr(c(avocado_plot$layers[[1]]$mapping, avocado_plot$mapping)$colour) != avocado_plot$labels$shape), \"3f169\")), \"765218ac60271664869eeac40b99d5e8\"))\n",
    "stopifnot(\"fill variable in avocado_plot is not correct\"= setequal(digest(paste(toString(quo_name(avocado_plot$mapping$fill)), \"3f169\")), \"dcbe9780f7d64b46966485ef79b1e40f\"))\n",
    "stopifnot(\"fill label in avocado_plot is not informative\"= setequal(digest(paste(toString((quo_name(avocado_plot$mapping$fill) != avocado_plot$labels$fill)), \"3f169\")), \"765218ac60271664869eeac40b99d5e8\"))\n",
    "stopifnot(\"position argument in avocado_plot is not correct\"= setequal(digest(paste(toString(class(avocado_plot$layers[[1]]$position)[1]), \"3f169\")), \"9625108ea200e212e3ffbb9077559a3f\"))\n",
    "\n",
    "stopifnot(\"avocado_plot$data should be a data frame\"= setequal(digest(paste(toString('data.frame' %in% class(avocado_plot$data)), \"3f16a\")), \"aae4585058d687186821ad56c5bdb320\"))\n",
    "stopifnot(\"dimensions of avocado_plot$data are not correct\"= setequal(digest(paste(toString(dim(avocado_plot$data)), \"3f16a\")), \"e0c47dadca093ae1a33220d69d5cfa2a\"))\n",
    "stopifnot(\"column names of avocado_plot$data are not correct\"= setequal(digest(paste(toString(sort(colnames(avocado_plot$data))), \"3f16a\")), \"45480502304cc43250a2fab7ae2d64d2\"))\n",
    "stopifnot(\"types of columns in avocado_plot$data are not correct\"= setequal(digest(paste(toString(sort(unlist(sapply(avocado_plot$data, class)))), \"3f16a\")), \"285bf41272651a46a9d44199cbb6651f\"))\n",
    "stopifnot(\"values in one or more numerical columns in avocado_plot$data are not correct\"= setequal(digest(paste(toString(if (any(sapply(avocado_plot$data, is.numeric))) sort(round(sapply(avocado_plot$data[, sapply(avocado_plot$data, is.numeric)], sum, na.rm = TRUE), 2)) else 0), \"3f16a\")), \"8f86868f24942f511939a7cd1249aeb3\"))\n",
    "stopifnot(\"values in one or more character columns in avocado_plot$data are not correct\"= setequal(digest(paste(toString(if (any(sapply(avocado_plot$data, is.character))) sum(sapply(avocado_plot$data[sapply(avocado_plot$data, is.character)], function(x) length(unique(x)))) else 0), \"3f16a\")), \"43abd3e12d4e0b0e1f27ab80af86d2a2\"))\n",
    "stopifnot(\"values in one or more factor columns in avocado_plot$data are not correct\"= setequal(digest(paste(toString(if (any(sapply(avocado_plot$data, is.factor))) sum(sapply(avocado_plot$data[, sapply(avocado_plot$data, is.factor)], function(col) length(unique(col)))) else 0), \"3f16a\")), \"63f9ef3db8477be85dc20a8ffa362e54\"))\n",
    "\n",
    "print('Success!')"
   ]
  },
  {
   "cell_type": "markdown",
   "metadata": {
    "deletable": false,
    "editable": false,
    "nbgrader": {
     "cell_type": "markdown",
     "checksum": "9465b3984d66440694cf1351ca05455e",
     "grade": false,
     "grade_id": "cell-f5bf4e53775781f8",
     "locked": true,
     "schema_version": 3,
     "solution": false,
     "task": false
    }
   },
   "source": [
    "We might be able to squint and start to see some pattern in the data above, but really what we see in the plot above is not very informative. Why? Because there is a lot of overplotting (data points sitting on top of other data points). What can we do? One solution is to reduce/aggregate the data in a meaningful way to help anwer our question. Remember that we are interested in determining if there are times when the price of avocados are less expensive so that we can recommend when restaurants should put dishes on the menu that contain avocado to maximize their profits for those dishes.\n",
    "\n",
    "In the data we plotted above, each row is the total sales for avocados for that region for each year. Lets use `group_by` + `summarize` calculate the average price for each week across years and region. We can then plot that aggregated price against the week and perhaps get a clearer picture."
   ]
  },
  {
   "cell_type": "markdown",
   "metadata": {
    "deletable": false,
    "editable": false,
    "nbgrader": {
     "cell_type": "markdown",
     "checksum": "99aef19dabfde6cd8f9179246c5f7e20",
     "grade": false,
     "grade_id": "cell-07909555b45c6c28",
     "locked": true,
     "schema_version": 3,
     "solution": false
    }
   },
   "source": [
    "**Question 1.6**\n",
    "<br> {points: 1}\n",
    "\n",
    "Create a reduced/aggregated version of the `avocado` data set and name it `avocado_aggregate`. To do this you will want to `group_by` the `wk` column and then use `summarize` to calculate the average price (name that column `average_price`)."
   ]
  },
  {
   "cell_type": "code",
   "execution_count": null,
   "metadata": {
    "deletable": false,
    "nbgrader": {
     "cell_type": "code",
     "checksum": "87a613361322e879ccca3ca2422a4501",
     "grade": false,
     "grade_id": "cell-25fc8f43f1d193db",
     "locked": false,
     "schema_version": 3,
     "solution": true
    }
   },
   "outputs": [],
   "source": [
    "#... <- ... |> \n",
    "#    group_by(...) |> \n",
    "#    summarize(... = mean(average_price, na.rm = TRUE))\n",
    "\n",
    "# your code here\n",
    "fail() # No Answer - remove if you provide an answer\n",
    "avocado_aggregate"
   ]
  },
  {
   "cell_type": "code",
   "execution_count": null,
   "metadata": {
    "deletable": false,
    "editable": false,
    "nbgrader": {
     "cell_type": "code",
     "checksum": "d331675f477863650c9be8555e61f2af",
     "grade": true,
     "grade_id": "cell-81ec3e479caeb7d7",
     "locked": true,
     "points": 1,
     "schema_version": 3,
     "solution": false
    }
   },
   "outputs": [],
   "source": [
    "library(digest)\n",
    "stopifnot(\"avocado_aggregate should be a data frame\"= setequal(digest(paste(toString('data.frame' %in% class(avocado_aggregate)), \"10864\")), \"40843887145368275c53d796b1184635\"))\n",
    "stopifnot(\"dimensions of avocado_aggregate are not correct\"= setequal(digest(paste(toString(dim(avocado_aggregate)), \"10864\")), \"9e38c14a866fe19191a7f705f84d0854\"))\n",
    "stopifnot(\"column names of avocado_aggregate are not correct\"= setequal(digest(paste(toString(sort(colnames(avocado_aggregate))), \"10864\")), \"4d5aa6f9fc262590e9bce9e6e14e82be\"))\n",
    "stopifnot(\"types of columns in avocado_aggregate are not correct\"= setequal(digest(paste(toString(sort(unlist(sapply(avocado_aggregate, class)))), \"10864\")), \"df684857fbcf11c71c6c58852e84dee9\"))\n",
    "stopifnot(\"values in one or more numerical columns in avocado_aggregate are not correct\"= setequal(digest(paste(toString(if (any(sapply(avocado_aggregate, is.numeric))) sort(round(sapply(avocado_aggregate[, sapply(avocado_aggregate, is.numeric)], sum, na.rm = TRUE), 2)) else 0), \"10864\")), \"0a0bd3d722beaa3cd315f48503b74fa0\"))\n",
    "stopifnot(\"values in one or more character columns in avocado_aggregate are not correct\"= setequal(digest(paste(toString(if (any(sapply(avocado_aggregate, is.character))) sum(sapply(avocado_aggregate[sapply(avocado_aggregate, is.character)], function(x) length(unique(x)))) else 0), \"10864\")), \"4deb06145f92f85d0274d4e2d1e6f725\"))\n",
    "stopifnot(\"values in one or more factor columns in avocado_aggregate are not correct\"= setequal(digest(paste(toString(if (any(sapply(avocado_aggregate, is.factor))) sum(sapply(avocado_aggregate[, sapply(avocado_aggregate, is.factor)], function(col) length(unique(col)))) else 0), \"10864\")), \"4deb06145f92f85d0274d4e2d1e6f725\"))\n",
    "\n",
    "print('Success!')"
   ]
  },
  {
   "cell_type": "markdown",
   "metadata": {
    "deletable": false,
    "editable": false,
    "nbgrader": {
     "cell_type": "markdown",
     "checksum": "b26867888ffbb3769f20b5f5ce836682",
     "grade": false,
     "grade_id": "cell-aa0422ac0aade558",
     "locked": true,
     "schema_version": 3,
     "solution": false
    }
   },
   "source": [
    "**Question 1.7**\n",
    "<br> {points: 1}\n",
    "\n",
    "Now let's take the `avocado_aggregate` data frame and use it to create a scatter plot where we plot `average_price` on the y-axis versus `wk` on the x-axis. Assign your answer to an object called `avocado_aggregate_plot`. Don't forget to create proper English axis labels."
   ]
  },
  {
   "cell_type": "code",
   "execution_count": null,
   "metadata": {
    "deletable": false,
    "nbgrader": {
     "cell_type": "code",
     "checksum": "d3beb3c289346dfa5f21b94370748bbd",
     "grade": false,
     "grade_id": "cell-e081bf3fd0e40162",
     "locked": false,
     "schema_version": 3,
     "solution": true
    }
   },
   "outputs": [],
   "source": [
    "#... <- ... |>\n",
    "#    ggplot(aes(x = ..., y = ...)) + \n",
    "#        ...() +\n",
    "#        ...(\"...\") + \n",
    "#        ...(\"...\") +\n",
    "#        theme(text = element_text(size=20))\n",
    "\n",
    "# your code here\n",
    "fail() # No Answer - remove if you provide an answer\n",
    "avocado_aggregate_plot"
   ]
  },
  {
   "cell_type": "code",
   "execution_count": null,
   "metadata": {
    "deletable": false,
    "editable": false,
    "nbgrader": {
     "cell_type": "code",
     "checksum": "b351ce7c8d63d69259e771fd1cc4924f",
     "grade": true,
     "grade_id": "cell-d70b07b4c2dc0202",
     "locked": true,
     "points": 1,
     "schema_version": 3,
     "solution": false
    }
   },
   "outputs": [],
   "source": [
    "library(digest)\n",
    "stopifnot(\"type of plot is not correct (if you are using two types of geoms, try flipping the order of the geom objects!)\"= setequal(digest(paste(toString(sapply(seq_len(length(avocado_aggregate_plot$layers)), function(i) {c(class(avocado_aggregate_plot$layers[[i]]$geom))[1]})), \"eacfa\")), \"98c20803b95bb6638c17ece64ca391f2\"))\n",
    "stopifnot(\"variable x is not correct\"= setequal(digest(paste(toString(unlist(lapply(sapply(seq_len(length(avocado_aggregate_plot$layers)), function(i) {rlang::get_expr(c(avocado_aggregate_plot$layers[[i]]$mapping, avocado_aggregate_plot$mapping)$x)}), as.character))), \"eacfa\")), \"0d6e69246268a4c27362d05a82ce335d\"))\n",
    "stopifnot(\"variable y is not correct\"= setequal(digest(paste(toString(unlist(lapply(sapply(seq_len(length(avocado_aggregate_plot$layers)), function(i) {rlang::get_expr(c(avocado_aggregate_plot$layers[[i]]$mapping, avocado_aggregate_plot$mapping)$y)}), as.character))), \"eacfa\")), \"8f998325cca3895d22e1d88c92427e5e\"))\n",
    "stopifnot(\"x-axis label is not descriptive, nicely formatted, or human readable\"= setequal(digest(paste(toString(rlang::get_expr(c(avocado_aggregate_plot$layers[[1]]$mapping, avocado_aggregate_plot$mapping)$x)!= avocado_aggregate_plot$labels$x), \"eacfa\")), \"82225908d4c39e7903f3b76cf7c02278\"))\n",
    "stopifnot(\"y-axis label is not descriptive, nicely formatted, or human readable\"= setequal(digest(paste(toString(rlang::get_expr(c(avocado_aggregate_plot$layers[[1]]$mapping, avocado_aggregate_plot$mapping)$y)!= avocado_aggregate_plot$labels$y), \"eacfa\")), \"82225908d4c39e7903f3b76cf7c02278\"))\n",
    "stopifnot(\"incorrect colour variable in avocado_aggregate_plot, specify a correct one if required\"= setequal(digest(paste(toString(rlang::get_expr(c(avocado_aggregate_plot$layers[[1]]$mapping, avocado_aggregate_plot$mapping)$colour)), \"eacfa\")), \"95c9e32e41d3e53852380b33b11db958\"))\n",
    "stopifnot(\"incorrect shape variable in avocado_aggregate_plot, specify a correct one if required\"= setequal(digest(paste(toString(rlang::get_expr(c(avocado_aggregate_plot$layers[[1]]$mapping, avocado_aggregate_plot$mapping)$shape)), \"eacfa\")), \"95c9e32e41d3e53852380b33b11db958\"))\n",
    "stopifnot(\"the colour label in avocado_aggregate_plot is not descriptive, nicely formatted, or human readable\"= setequal(digest(paste(toString(rlang::get_expr(c(avocado_aggregate_plot$layers[[1]]$mapping, avocado_aggregate_plot$mapping)$colour) != avocado_aggregate_plot$labels$colour), \"eacfa\")), \"95c9e32e41d3e53852380b33b11db958\"))\n",
    "stopifnot(\"the shape label in avocado_aggregate_plot is not descriptive, nicely formatted, or human readable\"= setequal(digest(paste(toString(rlang::get_expr(c(avocado_aggregate_plot$layers[[1]]$mapping, avocado_aggregate_plot$mapping)$colour) != avocado_aggregate_plot$labels$shape), \"eacfa\")), \"95c9e32e41d3e53852380b33b11db958\"))\n",
    "stopifnot(\"fill variable in avocado_aggregate_plot is not correct\"= setequal(digest(paste(toString(quo_name(avocado_aggregate_plot$mapping$fill)), \"eacfa\")), \"9b735ed4674fd4759e74c6cb82a8a723\"))\n",
    "stopifnot(\"fill label in avocado_aggregate_plot is not informative\"= setequal(digest(paste(toString((quo_name(avocado_aggregate_plot$mapping$fill) != avocado_aggregate_plot$labels$fill)), \"eacfa\")), \"95c9e32e41d3e53852380b33b11db958\"))\n",
    "stopifnot(\"position argument in avocado_aggregate_plot is not correct\"= setequal(digest(paste(toString(class(avocado_aggregate_plot$layers[[1]]$position)[1]), \"eacfa\")), \"8db37a2b20fe926608f3e4cf2a5f690e\"))\n",
    "\n",
    "stopifnot(\"avocado_aggregate_plot$data should be a data frame\"= setequal(digest(paste(toString('data.frame' %in% class(avocado_aggregate_plot$data)), \"eacfb\")), \"417212fc7582e5ee7e889a65f71225dc\"))\n",
    "stopifnot(\"dimensions of avocado_aggregate_plot$data are not correct\"= setequal(digest(paste(toString(dim(avocado_aggregate_plot$data)), \"eacfb\")), \"feff2f62a6a438c3ffe5b4e23722b0c5\"))\n",
    "stopifnot(\"column names of avocado_aggregate_plot$data are not correct\"= setequal(digest(paste(toString(sort(colnames(avocado_aggregate_plot$data))), \"eacfb\")), \"6cae89340ef60c31afc4e607d2087b0a\"))\n",
    "stopifnot(\"types of columns in avocado_aggregate_plot$data are not correct\"= setequal(digest(paste(toString(sort(unlist(sapply(avocado_aggregate_plot$data, class)))), \"eacfb\")), \"b3e53facaf990b6122c9e3edf39d81f8\"))\n",
    "stopifnot(\"values in one or more numerical columns in avocado_aggregate_plot$data are not correct\"= setequal(digest(paste(toString(if (any(sapply(avocado_aggregate_plot$data, is.numeric))) sort(round(sapply(avocado_aggregate_plot$data[, sapply(avocado_aggregate_plot$data, is.numeric)], sum, na.rm = TRUE), 2)) else 0), \"eacfb\")), \"bac027e24cf84b9afa97b2ddcedd12d5\"))\n",
    "stopifnot(\"values in one or more character columns in avocado_aggregate_plot$data are not correct\"= setequal(digest(paste(toString(if (any(sapply(avocado_aggregate_plot$data, is.character))) sum(sapply(avocado_aggregate_plot$data[sapply(avocado_aggregate_plot$data, is.character)], function(x) length(unique(x)))) else 0), \"eacfb\")), \"e85b2b1eaaed2964c115baeb64c2d46a\"))\n",
    "stopifnot(\"values in one or more factor columns in avocado_aggregate_plot$data are not correct\"= setequal(digest(paste(toString(if (any(sapply(avocado_aggregate_plot$data, is.factor))) sum(sapply(avocado_aggregate_plot$data[, sapply(avocado_aggregate_plot$data, is.factor)], function(col) length(unique(col)))) else 0), \"eacfb\")), \"e85b2b1eaaed2964c115baeb64c2d46a\"))\n",
    "\n",
    "print('Success!')"
   ]
  },
  {
   "cell_type": "markdown",
   "metadata": {
    "deletable": false,
    "editable": false,
    "nbgrader": {
     "cell_type": "markdown",
     "checksum": "536f294b841952b053e6f231262c2319",
     "grade": false,
     "grade_id": "cell-b8dfe798ae35428d",
     "locked": true,
     "schema_version": 3,
     "solution": false,
     "task": false
    }
   },
   "source": [
    "We can now see that the prices of avocados does indeed fluctuate throughout the year. And we could use this information to recommend to restaurants that if they want to maximize profit from menu items that contain avocados, they should only offer them on the menu roughly between December and May. \n",
    "\n",
    "Why might this happen? Perhaps price has something to do with supply? We can also use this data set to get some insight into that question by plotting total avocado volume (y-axis) versus week. To do this, we will first have to create a column called `total_volume` whose value is the sum of the small, large and extra large-sized avocado volumes. To do this we will have to go back to the original `avocado` data frame we loaded."
   ]
  },
  {
   "cell_type": "markdown",
   "metadata": {
    "deletable": false,
    "editable": false,
    "nbgrader": {
     "cell_type": "markdown",
     "checksum": "ad8ac615f9133ddadd61ad23a41ea6d1",
     "grade": false,
     "grade_id": "cell-11acd47d959662ee",
     "locked": true,
     "schema_version": 3,
     "solution": false
    }
   },
   "source": [
    "**Question 1.8**\n",
    "<br> {points: 1}\n",
    "\n",
    "Our next step to plotting `total_volume` per week against week is to use `mutate` to create a new column in the `avocado` data frame called `total_volume` which is equal to the sum of all three volume columns:\n",
    "\n",
    "Fill in the `...` in the cell below. Copy and paste your finished answer and replace the `fail()`. "
   ]
  },
  {
   "cell_type": "code",
   "execution_count": null,
   "metadata": {
    "deletable": false,
    "nbgrader": {
     "cell_type": "code",
     "checksum": "5274b14679b865aa0fde74d44afd48e2",
     "grade": false,
     "grade_id": "cell-20ec4476bb9540db",
     "locked": false,
     "schema_version": 3,
     "solution": true
    }
   },
   "outputs": [],
   "source": [
    "#... <- ... |>\n",
    "#     mutate(... = ... + ... + ...) \n",
    "\n",
    "# your code here\n",
    "fail() # No Answer - remove if you provide an answer\n",
    "avocado"
   ]
  },
  {
   "cell_type": "code",
   "execution_count": null,
   "metadata": {
    "deletable": false,
    "editable": false,
    "nbgrader": {
     "cell_type": "code",
     "checksum": "c9891ea6a15799c585069dabd023760b",
     "grade": true,
     "grade_id": "cell-1b331febb2ce27b5",
     "locked": true,
     "points": 1,
     "schema_version": 3,
     "solution": false
    }
   },
   "outputs": [],
   "source": [
    "library(digest)\n",
    "stopifnot(\"avocado should be a data frame\"= setequal(digest(paste(toString('data.frame' %in% class(avocado)), \"1ec2d\")), \"678ee891f0e31acaaaf9d0b9a5a6b697\"))\n",
    "stopifnot(\"dimensions of avocado are not correct\"= setequal(digest(paste(toString(dim(avocado)), \"1ec2d\")), \"666bbce72d1bd500d82f997cf3248392\"))\n",
    "stopifnot(\"column names of avocado are not correct\"= setequal(digest(paste(toString(sort(colnames(avocado))), \"1ec2d\")), \"f133c69492eb8d86856586599d28dab1\"))\n",
    "stopifnot(\"types of columns in avocado are not correct\"= setequal(digest(paste(toString(sort(unlist(sapply(avocado, class)))), \"1ec2d\")), \"c760ff33d2f4b5639472afc614473501\"))\n",
    "stopifnot(\"values in one or more numerical columns in avocado are not correct\"= setequal(digest(paste(toString(if (any(sapply(avocado, is.numeric))) sort(round(sapply(avocado[, sapply(avocado, is.numeric)], sum, na.rm = TRUE), 2)) else 0), \"1ec2d\")), \"ddc44ba4024eea7bd093e68307fb8323\"))\n",
    "stopifnot(\"values in one or more character columns in avocado are not correct\"= setequal(digest(paste(toString(if (any(sapply(avocado, is.character))) sum(sapply(avocado[sapply(avocado, is.character)], function(x) length(unique(x)))) else 0), \"1ec2d\")), \"09752fd11d903a40febef092927ec090\"))\n",
    "stopifnot(\"values in one or more factor columns in avocado are not correct\"= setequal(digest(paste(toString(if (any(sapply(avocado, is.factor))) sum(sapply(avocado[, sapply(avocado, is.factor)], function(col) length(unique(col)))) else 0), \"1ec2d\")), \"aa055fccf1ddaa2f4f08134f898d4759\"))\n",
    "\n",
    "print('Success!')"
   ]
  },
  {
   "cell_type": "markdown",
   "metadata": {
    "deletable": false,
    "editable": false,
    "nbgrader": {
     "cell_type": "markdown",
     "checksum": "6e703f4172d907804a701ef63416c05c",
     "grade": false,
     "grade_id": "cell-97fc42a8c2d802d8",
     "locked": true,
     "schema_version": 3,
     "solution": false
    }
   },
   "source": [
    "**Question 1.9** \n",
    "<br> {points: 1}\n",
    "\n",
    "Now, create another reduced/aggregated version of the `avocado` data frame and name it `avocado_aggregate_2`. To do this you will want to `group_by` the `wk` column and then use `summarize` to calculate the average total volume (name that column `total_volume`)."
   ]
  },
  {
   "cell_type": "code",
   "execution_count": null,
   "metadata": {
    "deletable": false,
    "nbgrader": {
     "cell_type": "code",
     "checksum": "75e39d0f2120f42f83874b8f5558ae68",
     "grade": false,
     "grade_id": "cell-d3d0314b483daf3c",
     "locked": false,
     "schema_version": 3,
     "solution": true
    }
   },
   "outputs": [],
   "source": [
    "#... <- ... |> \n",
    "#    group_by(...) |> \n",
    "#    summarize(...)\n",
    "\n",
    "# your code here\n",
    "fail() # No Answer - remove if you provide an answer\n",
    "avocado_aggregate_2"
   ]
  },
  {
   "cell_type": "code",
   "execution_count": null,
   "metadata": {
    "deletable": false,
    "editable": false,
    "nbgrader": {
     "cell_type": "code",
     "checksum": "41ce6c577098f8f2c18d1f3cdb783e9c",
     "grade": true,
     "grade_id": "cell-975338ad4661f5af",
     "locked": true,
     "points": 1,
     "schema_version": 3,
     "solution": false
    }
   },
   "outputs": [],
   "source": [
    "library(digest)\n",
    "stopifnot(\"avocado_aggregate_2 should be a data frame\"= setequal(digest(paste(toString('data.frame' %in% class(avocado_aggregate_2)), \"602d\")), \"0b458e0fd292c3b120547d3ccf133fbc\"))\n",
    "stopifnot(\"dimensions of avocado_aggregate_2 are not correct\"= setequal(digest(paste(toString(dim(avocado_aggregate_2)), \"602d\")), \"97115f28e8b8183acb846b6abdc2d65f\"))\n",
    "stopifnot(\"column names of avocado_aggregate_2 are not correct\"= setequal(digest(paste(toString(sort(colnames(avocado_aggregate_2))), \"602d\")), \"24ce9a175e180b8658c637bb419eeaf3\"))\n",
    "stopifnot(\"types of columns in avocado_aggregate_2 are not correct\"= setequal(digest(paste(toString(sort(unlist(sapply(avocado_aggregate_2, class)))), \"602d\")), \"8df22773ee7720393cd1053c24224db0\"))\n",
    "stopifnot(\"values in one or more numerical columns in avocado_aggregate_2 are not correct\"= setequal(digest(paste(toString(if (any(sapply(avocado_aggregate_2, is.numeric))) sort(round(sapply(avocado_aggregate_2[, sapply(avocado_aggregate_2, is.numeric)], sum, na.rm = TRUE), 2)) else 0), \"602d\")), \"b2e453fb7f1fd5264bf0980016ae952d\"))\n",
    "stopifnot(\"values in one or more character columns in avocado_aggregate_2 are not correct\"= setequal(digest(paste(toString(if (any(sapply(avocado_aggregate_2, is.character))) sum(sapply(avocado_aggregate_2[sapply(avocado_aggregate_2, is.character)], function(x) length(unique(x)))) else 0), \"602d\")), \"ef309d693a97aa5e2d41f671a385cec0\"))\n",
    "stopifnot(\"values in one or more factor columns in avocado_aggregate_2 are not correct\"= setequal(digest(paste(toString(if (any(sapply(avocado_aggregate_2, is.factor))) sum(sapply(avocado_aggregate_2[, sapply(avocado_aggregate_2, is.factor)], function(col) length(unique(col)))) else 0), \"602d\")), \"ef309d693a97aa5e2d41f671a385cec0\"))\n",
    "\n",
    "print('Success!')"
   ]
  },
  {
   "cell_type": "markdown",
   "metadata": {
    "deletable": false,
    "editable": false,
    "nbgrader": {
     "cell_type": "markdown",
     "checksum": "59114583ff055f715682d0748985136a",
     "grade": false,
     "grade_id": "cell-ea1a11950f66b4f5",
     "locked": true,
     "schema_version": 3,
     "solution": false
    }
   },
   "source": [
    "**Question 1.10** \n",
    "<br> {points: 1}\n",
    "\n",
    "Now let's take the `avocado_aggregate_2` data frame and use it to create a scatter plot where we plot average `total_volume` (in pounds, lbs) on the y-axis versus `wk` on the x-axis. Assign your answer to an object called `avocado_aggregate_plot_2`. Don't forget to create proper English axis labels.\n",
    "\n",
    "> Hint: don't forget to include the units for volume in your data visualization."
   ]
  },
  {
   "cell_type": "code",
   "execution_count": null,
   "metadata": {
    "deletable": false,
    "nbgrader": {
     "cell_type": "code",
     "checksum": "a43a84f71030854f3b88155a5580b04d",
     "grade": false,
     "grade_id": "cell-11af7abfd81fb0f2",
     "locked": false,
     "schema_version": 3,
     "solution": true
    }
   },
   "outputs": [],
   "source": [
    "#... <- ... |>\n",
    "#    ggplot(aes(x = ..., y = ...)) + \n",
    "#        ...() +\n",
    "#        ...(\"...\") + \n",
    "#        ...(\"...\") +\n",
    "#        theme(text = element_text(size=20))\n",
    "\n",
    "\n",
    "# your code here\n",
    "fail() # No Answer - remove if you provide an answer\n",
    "avocado_aggregate_plot_2"
   ]
  },
  {
   "cell_type": "code",
   "execution_count": null,
   "metadata": {
    "deletable": false,
    "editable": false,
    "nbgrader": {
     "cell_type": "code",
     "checksum": "cf3ac708e27be524ff1cafae3ac996f1",
     "grade": true,
     "grade_id": "cell-7a0b7fca31c9c8ec",
     "locked": true,
     "points": 1,
     "schema_version": 3,
     "solution": false
    }
   },
   "outputs": [],
   "source": [
    "library(digest)\n",
    "stopifnot(\"type of plot is not correct (if you are using two types of geoms, try flipping the order of the geom objects!)\"= setequal(digest(paste(toString(sapply(seq_len(length(avocado_aggregate_plot_2$layers)), function(i) {c(class(avocado_aggregate_plot_2$layers[[i]]$geom))[1]})), \"9091c\")), \"c160aa75cefeb2a8504ad2cf86364c8c\"))\n",
    "stopifnot(\"variable x is not correct\"= setequal(digest(paste(toString(unlist(lapply(sapply(seq_len(length(avocado_aggregate_plot_2$layers)), function(i) {rlang::get_expr(c(avocado_aggregate_plot_2$layers[[i]]$mapping, avocado_aggregate_plot_2$mapping)$x)}), as.character))), \"9091c\")), \"939e8cc5b23d4a59dc0a2b65342d364a\"))\n",
    "stopifnot(\"variable y is not correct\"= setequal(digest(paste(toString(unlist(lapply(sapply(seq_len(length(avocado_aggregate_plot_2$layers)), function(i) {rlang::get_expr(c(avocado_aggregate_plot_2$layers[[i]]$mapping, avocado_aggregate_plot_2$mapping)$y)}), as.character))), \"9091c\")), \"5410fb7a099d7b1849144a2e17713d4a\"))\n",
    "stopifnot(\"x-axis label is not descriptive, nicely formatted, or human readable\"= setequal(digest(paste(toString(rlang::get_expr(c(avocado_aggregate_plot_2$layers[[1]]$mapping, avocado_aggregate_plot_2$mapping)$x)!= avocado_aggregate_plot_2$labels$x), \"9091c\")), \"85134a7506f5de5c2b90ad73f98914ef\"))\n",
    "stopifnot(\"y-axis label is not descriptive, nicely formatted, or human readable\"= setequal(digest(paste(toString(rlang::get_expr(c(avocado_aggregate_plot_2$layers[[1]]$mapping, avocado_aggregate_plot_2$mapping)$y)!= avocado_aggregate_plot_2$labels$y), \"9091c\")), \"85134a7506f5de5c2b90ad73f98914ef\"))\n",
    "stopifnot(\"incorrect colour variable in avocado_aggregate_plot_2, specify a correct one if required\"= setequal(digest(paste(toString(rlang::get_expr(c(avocado_aggregate_plot_2$layers[[1]]$mapping, avocado_aggregate_plot_2$mapping)$colour)), \"9091c\")), \"9774f228e322f6688582bbe1bd70da8c\"))\n",
    "stopifnot(\"incorrect shape variable in avocado_aggregate_plot_2, specify a correct one if required\"= setequal(digest(paste(toString(rlang::get_expr(c(avocado_aggregate_plot_2$layers[[1]]$mapping, avocado_aggregate_plot_2$mapping)$shape)), \"9091c\")), \"9774f228e322f6688582bbe1bd70da8c\"))\n",
    "stopifnot(\"the colour label in avocado_aggregate_plot_2 is not descriptive, nicely formatted, or human readable\"= setequal(digest(paste(toString(rlang::get_expr(c(avocado_aggregate_plot_2$layers[[1]]$mapping, avocado_aggregate_plot_2$mapping)$colour) != avocado_aggregate_plot_2$labels$colour), \"9091c\")), \"9774f228e322f6688582bbe1bd70da8c\"))\n",
    "stopifnot(\"the shape label in avocado_aggregate_plot_2 is not descriptive, nicely formatted, or human readable\"= setequal(digest(paste(toString(rlang::get_expr(c(avocado_aggregate_plot_2$layers[[1]]$mapping, avocado_aggregate_plot_2$mapping)$colour) != avocado_aggregate_plot_2$labels$shape), \"9091c\")), \"9774f228e322f6688582bbe1bd70da8c\"))\n",
    "stopifnot(\"fill variable in avocado_aggregate_plot_2 is not correct\"= setequal(digest(paste(toString(quo_name(avocado_aggregate_plot_2$mapping$fill)), \"9091c\")), \"fa8252b69ce6e4309b3f3a83e4b0dc1c\"))\n",
    "stopifnot(\"fill label in avocado_aggregate_plot_2 is not informative\"= setequal(digest(paste(toString((quo_name(avocado_aggregate_plot_2$mapping$fill) != avocado_aggregate_plot_2$labels$fill)), \"9091c\")), \"9774f228e322f6688582bbe1bd70da8c\"))\n",
    "stopifnot(\"position argument in avocado_aggregate_plot_2 is not correct\"= setequal(digest(paste(toString(class(avocado_aggregate_plot_2$layers[[1]]$position)[1]), \"9091c\")), \"32607333a9a8da9c469a13f94703f0b8\"))\n",
    "\n",
    "stopifnot(\"avocado_aggregate_plot_2$data should be a data frame\"= setequal(digest(paste(toString('data.frame' %in% class(avocado_aggregate_plot_2$data)), \"9091d\")), \"acf428f3fabd6f03b4a82671efce6658\"))\n",
    "stopifnot(\"dimensions of avocado_aggregate_plot_2$data are not correct\"= setequal(digest(paste(toString(dim(avocado_aggregate_plot_2$data)), \"9091d\")), \"476f61c2401867d2416791c07c3abf08\"))\n",
    "stopifnot(\"column names of avocado_aggregate_plot_2$data are not correct\"= setequal(digest(paste(toString(sort(colnames(avocado_aggregate_plot_2$data))), \"9091d\")), \"43b17ecf98f33772e3f3982d5bc1f835\"))\n",
    "stopifnot(\"types of columns in avocado_aggregate_plot_2$data are not correct\"= setequal(digest(paste(toString(sort(unlist(sapply(avocado_aggregate_plot_2$data, class)))), \"9091d\")), \"f89685f672d4520fc6d52ee5a376b4c7\"))\n",
    "stopifnot(\"values in one or more numerical columns in avocado_aggregate_plot_2$data are not correct\"= setequal(digest(paste(toString(if (any(sapply(avocado_aggregate_plot_2$data, is.numeric))) sort(round(sapply(avocado_aggregate_plot_2$data[, sapply(avocado_aggregate_plot_2$data, is.numeric)], sum, na.rm = TRUE), 2)) else 0), \"9091d\")), \"657b302c9d51378dc05bbf443a3643c9\"))\n",
    "stopifnot(\"values in one or more character columns in avocado_aggregate_plot_2$data are not correct\"= setequal(digest(paste(toString(if (any(sapply(avocado_aggregate_plot_2$data, is.character))) sum(sapply(avocado_aggregate_plot_2$data[sapply(avocado_aggregate_plot_2$data, is.character)], function(x) length(unique(x)))) else 0), \"9091d\")), \"79fda2175a353a7af0f5b2b191e71d37\"))\n",
    "stopifnot(\"values in one or more factor columns in avocado_aggregate_plot_2$data are not correct\"= setequal(digest(paste(toString(if (any(sapply(avocado_aggregate_plot_2$data, is.factor))) sum(sapply(avocado_aggregate_plot_2$data[, sapply(avocado_aggregate_plot_2$data, is.factor)], function(col) length(unique(col)))) else 0), \"9091d\")), \"79fda2175a353a7af0f5b2b191e71d37\"))\n",
    "\n",
    "print('Success!')"
   ]
  },
  {
   "cell_type": "markdown",
   "metadata": {
    "deletable": false,
    "editable": false,
    "nbgrader": {
     "cell_type": "markdown",
     "checksum": "0e53d03902f6638ab153df8dfd95379d",
     "grade": false,
     "grade_id": "cell-83ce58105c97d477",
     "locked": true,
     "schema_version": 3,
     "solution": false,
     "task": false
    }
   },
   "source": [
    "We can see from the above plot of the average total volume versus the week that there are more avocados sold (and perhaps this reflects what is available for sale) roughly between January to May. This time period of increased volume corresponds with the lower avocado prices. We can *hypothesize* (but not conclude, of course) that the lower prices may be due to an increased availability of avocados during this time period."
   ]
  },
  {
   "cell_type": "markdown",
   "metadata": {
    "deletable": false,
    "editable": false,
    "nbgrader": {
     "cell_type": "markdown",
     "checksum": "df304d903814167320ad048736e36c94",
     "grade": false,
     "grade_id": "cell-15b71c3a5274adf6",
     "locked": true,
     "schema_version": 3,
     "solution": false,
     "task": false
    }
   },
   "source": [
    "## 2. Sea Surface Temperatures in Departure Bay\n",
    "The next data set that we will be looking at contains environmental data from 1914 to 2018. The data was collected by the DFO (Canada's Department of Fisheries and Oceans) at the Pacific Biological Station (Departure Bay). Daily sea surface temperature (in degrees Celsius) and salinity (in practical salinity units, PSU) observations have been carried out at several locations on the coast of British Columbia. The number of stations reporting at any given time has varied as sampling has been discontinued at some stations, and started or resumed at others.\n",
    "\n",
    "Presently termed the British Columbia Shore Station Oceanographic Program (BCSOP), there are 12 participating stations; most of these are staffed by Fisheries and Oceans Canada. You can look at data from other stations at http://www.pac.dfo-mpo.gc.ca/science/oceans/data-donnees/lightstations-phares/index-eng.html \n",
    "\n",
    "Further information from the Government of Canada's website indicates: \n",
    ">  Observations are made daily using seawater collected in a bucket lowered into the surface water at or near the daytime high tide. This sampling method was designed long ago by Dr. John P. Tully and has not been changed in the interests of a homogeneous data set. This means, for example, that if an observer starts sampling one day at 6 a.m., and continues to sample at the daytime high tide on the second day the sample will be taken at about 06:50 the next day, 07:40 the day after etc. When the daytime high-tide gets close to 6 p.m. the observer will then begin again to sample early in the morning, and the cycle continues. Since there is a day/night variation in the sea surface temperatures the daily time series will show a signal that varies with the14-day tidal cycle. This artifact does not affect the monthly sea surface temperature data.\n",
    "\n",
    "In this worksheet, we want to see if the sea surface temperature has been changing over time. "
   ]
  },
  {
   "cell_type": "markdown",
   "metadata": {
    "deletable": false,
    "editable": false,
    "nbgrader": {
     "cell_type": "markdown",
     "checksum": "f13331a2b99db0ac5fd1b4ceed05f238",
     "grade": false,
     "grade_id": "cell-8f4dc9433ea2a7e9",
     "locked": true,
     "schema_version": 3,
     "solution": false
    }
   },
   "source": [
    "**Question 2.1** True or False:\n",
    "<br> {points: 1}\n",
    "\n",
    "The sampling of surface water occurs at the same time each day. \n",
    "\n",
    "*Assign your answer to an object called `answer2.1`. Make sure your answer is lowercase \"true\" or lowercase \"false\".* "
   ]
  },
  {
   "cell_type": "code",
   "execution_count": null,
   "metadata": {
    "deletable": false,
    "nbgrader": {
     "cell_type": "code",
     "checksum": "8ec97a92c46e8c64c2b16d1eeda1a06d",
     "grade": false,
     "grade_id": "cell-4eb1407dda8e1fe2",
     "locked": false,
     "schema_version": 3,
     "solution": true
    }
   },
   "outputs": [],
   "source": [
    "# Replace the fail() with your answer. \n",
    "\n",
    "# your code here\n",
    "fail() # No Answer - remove if you provide an answer"
   ]
  },
  {
   "cell_type": "code",
   "execution_count": null,
   "metadata": {
    "deletable": false,
    "editable": false,
    "nbgrader": {
     "cell_type": "code",
     "checksum": "32b36ff6dc4f7d2083723ea9ed1cdbdb",
     "grade": true,
     "grade_id": "cell-aef90db69249870d",
     "locked": true,
     "points": 1,
     "schema_version": 3,
     "solution": false
    }
   },
   "outputs": [],
   "source": [
    "library(digest)\n",
    "stopifnot(\"type of answer2.1 is not character\"= setequal(digest(paste(toString(class(answer2.1)), \"cf70a\")), \"f46034ad50041fe1f37e6fd4c1a87640\"))\n",
    "stopifnot(\"length of answer2.1 is not correct\"= setequal(digest(paste(toString(length(answer2.1)), \"cf70a\")), \"57c71b0b4a7b7bdde285898d5cb76b69\"))\n",
    "stopifnot(\"value of answer2.1 is not correct\"= setequal(digest(paste(toString(tolower(answer2.1)), \"cf70a\")), \"a33ccf911a9f05df7bea34417c88bd74\"))\n",
    "stopifnot(\"letters in string value of answer2.1 are correct but case is not correct\"= setequal(digest(paste(toString(answer2.1), \"cf70a\")), \"a33ccf911a9f05df7bea34417c88bd74\"))\n",
    "\n",
    "print('Success!')"
   ]
  },
  {
   "cell_type": "markdown",
   "metadata": {
    "deletable": false,
    "editable": false,
    "nbgrader": {
     "cell_type": "markdown",
     "checksum": "ba7a38ce80cead306bafd5c1eece5391",
     "grade": false,
     "grade_id": "cell-0155ff05e1bac66f",
     "locked": true,
     "schema_version": 3,
     "solution": false
    }
   },
   "source": [
    "**Question 2.2** Multiple Choice:\n",
    "<br> {points: 1}\n",
    "\n",
    "If high tide occurred at 9am today, what time would the scientist collect data tomorrow?\n",
    "\n",
    "A. 11:10 am \n",
    "\n",
    "B. 9:50 am \n",
    "\n",
    "C. 10:00 pm \n",
    "\n",
    "D. Trick question... you skip days when collecting data. \n",
    "\n",
    "*Assign your answer to an object called `answer2.2`. Make sure your answer is an uppercase letter and is surrounded by quotation marks (e.g. `\"F\"`).* "
   ]
  },
  {
   "cell_type": "code",
   "execution_count": null,
   "metadata": {
    "deletable": false,
    "nbgrader": {
     "cell_type": "code",
     "checksum": "528f666f5284cc657d8125de2ed994b1",
     "grade": false,
     "grade_id": "cell-c93cda405137fbfd",
     "locked": false,
     "schema_version": 3,
     "solution": true
    }
   },
   "outputs": [],
   "source": [
    "# Replace the fail() with your answer. \n",
    "\n",
    "# your code here\n",
    "fail() # No Answer - remove if you provide an answer"
   ]
  },
  {
   "cell_type": "code",
   "execution_count": null,
   "metadata": {
    "deletable": false,
    "editable": false,
    "nbgrader": {
     "cell_type": "code",
     "checksum": "7ef9c987ac49693041a1882e2af6de3d",
     "grade": true,
     "grade_id": "cell-957f2b6edf976bfd",
     "locked": true,
     "points": 1,
     "schema_version": 3,
     "solution": false
    }
   },
   "outputs": [],
   "source": [
    "library(digest)\n",
    "stopifnot(\"type of answer2.2 is not character\"= setequal(digest(paste(toString(class(answer2.2)), \"61f6e\")), \"039f1d885a5c6edd012c23a6cb312f3f\"))\n",
    "stopifnot(\"length of answer2.2 is not correct\"= setequal(digest(paste(toString(length(answer2.2)), \"61f6e\")), \"df1d7aededad3ee47f11f9e6499fdf01\"))\n",
    "stopifnot(\"value of answer2.2 is not correct\"= setequal(digest(paste(toString(tolower(answer2.2)), \"61f6e\")), \"6bc85ade8c64f3af5efeb84cb3bd43b8\"))\n",
    "stopifnot(\"letters in string value of answer2.2 are correct but case is not correct\"= setequal(digest(paste(toString(answer2.2), \"61f6e\")), \"c1c86e0c3f56dcb8fda80d8ac19a5caa\"))\n",
    "\n",
    "print('Success!')"
   ]
  },
  {
   "cell_type": "markdown",
   "metadata": {
    "deletable": false,
    "editable": false,
    "nbgrader": {
     "cell_type": "markdown",
     "checksum": "1b2717ffc63af7cd52a02706b52bc753",
     "grade": false,
     "grade_id": "cell-e1bf20ed85ae3d0d",
     "locked": true,
     "schema_version": 3,
     "solution": false
    }
   },
   "source": [
    "**Question 2.3**\n",
    "<br> {points: 1}\n",
    "\n",
    "To begin working with this data, read the file `departure_bay_temperature.csv` using a relative path. Note, this file (just like the avocado data set) is found within the `worksheet_03` directory. \n",
    "\n",
    "*Assign your answer to an object called `sea_surface`.* "
   ]
  },
  {
   "cell_type": "code",
   "execution_count": null,
   "metadata": {
    "deletable": false,
    "nbgrader": {
     "cell_type": "code",
     "checksum": "cfc6b010459183ec8fd3b62ce030eaf3",
     "grade": false,
     "grade_id": "cell-b10c1a879331aa37",
     "locked": false,
     "schema_version": 3,
     "solution": true
    }
   },
   "outputs": [],
   "source": [
    "# your code here\n",
    "fail() # No Answer - remove if you provide an answer\n",
    "sea_surface"
   ]
  },
  {
   "cell_type": "code",
   "execution_count": null,
   "metadata": {
    "deletable": false,
    "editable": false,
    "nbgrader": {
     "cell_type": "code",
     "checksum": "545b5ef757f030659d62d5f48b2460f6",
     "grade": true,
     "grade_id": "cell-09a9fd7ca9f44ada",
     "locked": true,
     "points": 1,
     "schema_version": 3,
     "solution": false
    }
   },
   "outputs": [],
   "source": [
    "library(digest)\n",
    "stopifnot(\"sea_surface should be a data frame\"= setequal(digest(paste(toString('data.frame' %in% class(sea_surface)), \"cd219\")), \"03e981103d8a2c08d303865bb3f71247\"))\n",
    "stopifnot(\"dimensions of sea_surface are not correct\"= setequal(digest(paste(toString(dim(sea_surface)), \"cd219\")), \"09e1a20e444414ed12fd937cfca0b2e2\"))\n",
    "stopifnot(\"column names of sea_surface are not correct\"= setequal(digest(paste(toString(sort(colnames(sea_surface))), \"cd219\")), \"9c50ed2006a1bdb4fa9d550d34b3f38d\"))\n",
    "stopifnot(\"types of columns in sea_surface are not correct\"= setequal(digest(paste(toString(sort(unlist(sapply(sea_surface, class)))), \"cd219\")), \"3534f579763596286a1f0dc4962103ad\"))\n",
    "stopifnot(\"values in one or more numerical columns in sea_surface are not correct\"= setequal(digest(paste(toString(if (any(sapply(sea_surface, is.numeric))) sort(round(sapply(sea_surface[, sapply(sea_surface, is.numeric)], sum, na.rm = TRUE), 2)) else 0), \"cd219\")), \"45f839df43452ab0fd78dfd8b8626116\"))\n",
    "stopifnot(\"values in one or more character columns in sea_surface are not correct\"= setequal(digest(paste(toString(if (any(sapply(sea_surface, is.character))) sum(sapply(sea_surface[sapply(sea_surface, is.character)], function(x) length(unique(x)))) else 0), \"cd219\")), \"617c582feb22712e057522fd92197732\"))\n",
    "stopifnot(\"values in one or more factor columns in sea_surface are not correct\"= setequal(digest(paste(toString(if (any(sapply(sea_surface, is.factor))) sum(sapply(sea_surface[, sapply(sea_surface, is.factor)], function(col) length(unique(col)))) else 0), \"cd219\")), \"617c582feb22712e057522fd92197732\"))\n",
    "\n",
    "print('Success!')"
   ]
  },
  {
   "cell_type": "markdown",
   "metadata": {
    "deletable": false,
    "editable": false,
    "nbgrader": {
     "cell_type": "markdown",
     "checksum": "b2943f4ae6816a7575bb5d137e7270ee",
     "grade": false,
     "grade_id": "cell-e755c156454253ba",
     "locked": true,
     "schema_version": 3,
     "solution": false,
     "task": false
    }
   },
   "source": [
    "**Question 2.3.1**\n",
    "<br> {points: 1}\n",
    "\n",
    "The data above in Question 2.3 is not tidy, which reasons listed below explain why?\n",
    "\n",
    "A. There are NA's in the data set\n",
    "\n",
    "B. The variable temperature is split across more than one column\n",
    "\n",
    "C. Values for the variable month are stored as column names\n",
    "\n",
    "D. A and C\n",
    "\n",
    "E. B and C\n",
    "\n",
    "F. All of the above\n",
    "\n",
    "Assign your answer to an object called `answer2.3.1`."
   ]
  },
  {
   "cell_type": "code",
   "execution_count": null,
   "metadata": {
    "deletable": false,
    "nbgrader": {
     "cell_type": "code",
     "checksum": "7233a6a7a91152c7fd65d0dfa7cfb189",
     "grade": false,
     "grade_id": "cell-6e1789eb7032fc30",
     "locked": false,
     "schema_version": 3,
     "solution": true,
     "task": false
    }
   },
   "outputs": [],
   "source": [
    "# Replace the fail() with your answer. \n",
    "\n",
    "# your code here\n",
    "fail() # No Answer - remove if you provide an answer"
   ]
  },
  {
   "cell_type": "code",
   "execution_count": null,
   "metadata": {
    "deletable": false,
    "editable": false,
    "nbgrader": {
     "cell_type": "code",
     "checksum": "ebd233882f34bd93dd40cb4a407daa28",
     "grade": true,
     "grade_id": "cell-f449a87635bac905",
     "locked": true,
     "points": 1,
     "schema_version": 3,
     "solution": false,
     "task": false
    }
   },
   "outputs": [],
   "source": [
    "library(digest)\n",
    "stopifnot(\"type of answer2.3.1 is not character\"= setequal(digest(paste(toString(class(answer2.3.1)), \"4f92a\")), \"16117d269a8c4fd9b923c6a1cf27fbd8\"))\n",
    "stopifnot(\"length of answer2.3.1 is not correct\"= setequal(digest(paste(toString(length(answer2.3.1)), \"4f92a\")), \"2b2caae526c216582500f44885a4d5c8\"))\n",
    "stopifnot(\"value of answer2.3.1 is not correct\"= setequal(digest(paste(toString(tolower(answer2.3.1)), \"4f92a\")), \"e0cbe6117ab6085270c86cd9d29993c4\"))\n",
    "stopifnot(\"letters in string value of answer2.3.1 are correct but case is not correct\"= setequal(digest(paste(toString(answer2.3.1), \"4f92a\")), \"517232d9117a02ef244b399f891ebd45\"))\n",
    "\n",
    "print('Success!')"
   ]
  },
  {
   "cell_type": "markdown",
   "metadata": {
    "deletable": false,
    "editable": false,
    "nbgrader": {
     "cell_type": "markdown",
     "checksum": "a5a8e73f0ac6f2949ffc9afcf5d929ae",
     "grade": false,
     "grade_id": "cell-0b23c682c8caa306",
     "locked": true,
     "schema_version": 3,
     "solution": false
    }
   },
   "source": [
    "**Question 2.4**\n",
    "<br> {points: 1}\n",
    "\n",
    "Given `ggplot` expects tidy data, we need to convert our data into that format. To do this we will use the `pivot_longer()` function. We would like our data to end up looking like this:\n",
    "\n",
    "| Year | Month | Temperature |\n",
    "|------|-------|-------------|\n",
    "| 1914 | Jan   | 7.2         |\n",
    "| 1914 | Feb   | NA          |\n",
    "| 1914 | Mar   | NA          |\n",
    "| ...  | ...   | ...         |\n",
    "| 2018 | Oct   | NA          |\n",
    "| 2018 | Nov   | NA          |\n",
    "| 2018 | Dec   | NA          |\n",
    "\n",
    "\n",
    "Fill in the `...` in the cell below. Copy and paste your finished answer and replace the `fail()`.\n",
    "\n",
    "*Assign your answer to an object called `tidy_temp`.*"
   ]
  },
  {
   "cell_type": "code",
   "execution_count": null,
   "metadata": {
    "deletable": false,
    "nbgrader": {
     "cell_type": "code",
     "checksum": "246cd4dcbd0d5b667736eb5ac878fca7",
     "grade": false,
     "grade_id": "cell-422718995704f040",
     "locked": false,
     "schema_version": 3,
     "solution": true
    }
   },
   "outputs": [],
   "source": [
    "#... <- sea_surface |>\n",
    "#    ...(cols = Jan:Dec, \n",
    "#                 names_to = \"...\", \n",
    "#                 values_to = \"Temperature\")\n",
    "\n",
    "# your code here\n",
    "fail() # No Answer - remove if you provide an answer\n",
    "tidy_temp"
   ]
  },
  {
   "cell_type": "code",
   "execution_count": null,
   "metadata": {
    "deletable": false,
    "editable": false,
    "nbgrader": {
     "cell_type": "code",
     "checksum": "51a6bf94466993481c701827ac23363a",
     "grade": true,
     "grade_id": "cell-afb070ca8361d0a7",
     "locked": true,
     "points": 1,
     "schema_version": 3,
     "solution": false
    }
   },
   "outputs": [],
   "source": [
    "library(digest)\n",
    "stopifnot(\"tidy_temp should be a data frame\"= setequal(digest(paste(toString('data.frame' %in% class(tidy_temp)), \"d4ee1\")), \"f7a54bb102d15b9dda5cf7ad8eb72200\"))\n",
    "stopifnot(\"dimensions of tidy_temp are not correct\"= setequal(digest(paste(toString(dim(tidy_temp)), \"d4ee1\")), \"ed048e82747c0238d038a3dd0a9be714\"))\n",
    "stopifnot(\"column names of tidy_temp are not correct\"= setequal(digest(paste(toString(sort(colnames(tidy_temp))), \"d4ee1\")), \"235c884206916b5a58e4ddb2af551723\"))\n",
    "stopifnot(\"types of columns in tidy_temp are not correct\"= setequal(digest(paste(toString(sort(unlist(sapply(tidy_temp, class)))), \"d4ee1\")), \"10dff466b894f72ba0a95bafd370413d\"))\n",
    "stopifnot(\"values in one or more numerical columns in tidy_temp are not correct\"= setequal(digest(paste(toString(if (any(sapply(tidy_temp, is.numeric))) sort(round(sapply(tidy_temp[, sapply(tidy_temp, is.numeric)], sum, na.rm = TRUE), 2)) else 0), \"d4ee1\")), \"9ba9c3a486e7d7730835165daae4d4f8\"))\n",
    "stopifnot(\"values in one or more character columns in tidy_temp are not correct\"= setequal(digest(paste(toString(if (any(sapply(tidy_temp, is.character))) sum(sapply(tidy_temp[sapply(tidy_temp, is.character)], function(x) length(unique(x)))) else 0), \"d4ee1\")), \"734fbddbbd300ac91297168d1178ba08\"))\n",
    "stopifnot(\"values in one or more factor columns in tidy_temp are not correct\"= setequal(digest(paste(toString(if (any(sapply(tidy_temp, is.factor))) sum(sapply(tidy_temp[, sapply(tidy_temp, is.factor)], function(col) length(unique(col)))) else 0), \"d4ee1\")), \"8c95576a29f0ee3e769bce9086fbfe8e\"))\n",
    "\n",
    "print('Success!')"
   ]
  },
  {
   "cell_type": "markdown",
   "metadata": {
    "deletable": false,
    "editable": false,
    "nbgrader": {
     "cell_type": "markdown",
     "checksum": "dd1bbc7a7b00bf348099703f993ebfef",
     "grade": false,
     "grade_id": "cell-4d3484d80d9f0854",
     "locked": true,
     "schema_version": 3,
     "solution": false
    }
   },
   "source": [
    "**Question 2.5**\n",
    "<br> {points: 1}\n",
    "\n",
    "Now that we have our data in a tidy format, we can create our plot that compares the average monthly sea surface temperatures (in degrees Celsius) to the year they were recorded. To make our plots more informative, we should plot each month separately. We can use `filter` to do this before we pipe our data into the `ggplot` function. Let's start out by just plotting the data for the month of November. As usual, use proper English to label your axes :)\n",
    "\n",
    "*Assign your answer to an object called `nov_temp_plot`.*\n",
    "\n",
    "> Hint: don't forget to include the units for temperature in your data visualization."
   ]
  },
  {
   "cell_type": "code",
   "execution_count": null,
   "metadata": {
    "deletable": false,
    "nbgrader": {
     "cell_type": "code",
     "checksum": "49fca5ffb2061324fe2504e831e3d010",
     "grade": false,
     "grade_id": "cell-b1ac578751969b78",
     "locked": false,
     "schema_version": 3,
     "solution": true
    }
   },
   "outputs": [],
   "source": [
    "options(repr.plot.width = 12, repr.plot.height = 7)\n",
    "#... <- ... |> \n",
    "#    filter(... == ...) |> \n",
    "#    ggplot(aes(x = ..., y = ...)) + \n",
    "#    geom_point() + \n",
    "#    xlab(...) + \n",
    "#    ylab(...) +\n",
    "#    theme(text = element_text(size=20))\n",
    "\n",
    "\n",
    "\n",
    "# your code here\n",
    "fail() # No Answer - remove if you provide an answer\n",
    "nov_temp_plot"
   ]
  },
  {
   "cell_type": "code",
   "execution_count": null,
   "metadata": {
    "deletable": false,
    "editable": false,
    "nbgrader": {
     "cell_type": "code",
     "checksum": "60a7e3c756b16e79217a68adf3605bba",
     "grade": true,
     "grade_id": "cell-8ddfbb3c8b82e695",
     "locked": true,
     "points": 1,
     "schema_version": 3,
     "solution": false
    }
   },
   "outputs": [],
   "source": [
    "library(digest)\n",
    "stopifnot(\"type of plot is not correct (if you are using two types of geoms, try flipping the order of the geom objects!)\"= setequal(digest(paste(toString(sapply(seq_len(length(nov_temp_plot$layers)), function(i) {c(class(nov_temp_plot$layers[[i]]$geom))[1]})), \"e8be1\")), \"3fcd5bcab77921722db0969fb9ccffc7\"))\n",
    "stopifnot(\"variable x is not correct\"= setequal(digest(paste(toString(unlist(lapply(sapply(seq_len(length(nov_temp_plot$layers)), function(i) {rlang::get_expr(c(nov_temp_plot$layers[[i]]$mapping, nov_temp_plot$mapping)$x)}), as.character))), \"e8be1\")), \"388b0bf8d2094c6c5163505ef0c4b0f5\"))\n",
    "stopifnot(\"variable y is not correct\"= setequal(digest(paste(toString(unlist(lapply(sapply(seq_len(length(nov_temp_plot$layers)), function(i) {rlang::get_expr(c(nov_temp_plot$layers[[i]]$mapping, nov_temp_plot$mapping)$y)}), as.character))), \"e8be1\")), \"b01f874eff0424ee420000cf1ccf02cc\"))\n",
    "stopifnot(\"x-axis label is not descriptive, nicely formatted, or human readable\"= setequal(digest(paste(toString(rlang::get_expr(c(nov_temp_plot$layers[[1]]$mapping, nov_temp_plot$mapping)$x)!= nov_temp_plot$labels$x), \"e8be1\")), \"60caf9b344899be9e331234b699226c9\"))\n",
    "stopifnot(\"y-axis label is not descriptive, nicely formatted, or human readable\"= setequal(digest(paste(toString(rlang::get_expr(c(nov_temp_plot$layers[[1]]$mapping, nov_temp_plot$mapping)$y)!= nov_temp_plot$labels$y), \"e8be1\")), \"60caf9b344899be9e331234b699226c9\"))\n",
    "stopifnot(\"incorrect colour variable in nov_temp_plot, specify a correct one if required\"= setequal(digest(paste(toString(rlang::get_expr(c(nov_temp_plot$layers[[1]]$mapping, nov_temp_plot$mapping)$colour)), \"e8be1\")), \"1123479006c1d39475c95329c9cdb64e\"))\n",
    "stopifnot(\"incorrect shape variable in nov_temp_plot, specify a correct one if required\"= setequal(digest(paste(toString(rlang::get_expr(c(nov_temp_plot$layers[[1]]$mapping, nov_temp_plot$mapping)$shape)), \"e8be1\")), \"1123479006c1d39475c95329c9cdb64e\"))\n",
    "stopifnot(\"the colour label in nov_temp_plot is not descriptive, nicely formatted, or human readable\"= setequal(digest(paste(toString(rlang::get_expr(c(nov_temp_plot$layers[[1]]$mapping, nov_temp_plot$mapping)$colour) != nov_temp_plot$labels$colour), \"e8be1\")), \"1123479006c1d39475c95329c9cdb64e\"))\n",
    "stopifnot(\"the shape label in nov_temp_plot is not descriptive, nicely formatted, or human readable\"= setequal(digest(paste(toString(rlang::get_expr(c(nov_temp_plot$layers[[1]]$mapping, nov_temp_plot$mapping)$colour) != nov_temp_plot$labels$shape), \"e8be1\")), \"1123479006c1d39475c95329c9cdb64e\"))\n",
    "stopifnot(\"fill variable in nov_temp_plot is not correct\"= setequal(digest(paste(toString(quo_name(nov_temp_plot$mapping$fill)), \"e8be1\")), \"79a1750ce0a99af94b0d31427600fe2e\"))\n",
    "stopifnot(\"fill label in nov_temp_plot is not informative\"= setequal(digest(paste(toString((quo_name(nov_temp_plot$mapping$fill) != nov_temp_plot$labels$fill)), \"e8be1\")), \"1123479006c1d39475c95329c9cdb64e\"))\n",
    "stopifnot(\"position argument in nov_temp_plot is not correct\"= setequal(digest(paste(toString(class(nov_temp_plot$layers[[1]]$position)[1]), \"e8be1\")), \"990ec0011638dbc946a7bf90c969906b\"))\n",
    "\n",
    "stopifnot(\"nov_temp_plot$data should be a data frame\"= setequal(digest(paste(toString('data.frame' %in% class(nov_temp_plot$data)), \"e8be2\")), \"07f94019294766d0eb87a3beadb5f973\"))\n",
    "stopifnot(\"dimensions of nov_temp_plot$data are not correct\"= setequal(digest(paste(toString(dim(nov_temp_plot$data)), \"e8be2\")), \"d7b05eef39b4f522c454ec48c68f8492\"))\n",
    "stopifnot(\"column names of nov_temp_plot$data are not correct\"= setequal(digest(paste(toString(sort(colnames(nov_temp_plot$data))), \"e8be2\")), \"3d03cf08af2d53c29768b267c1f89114\"))\n",
    "stopifnot(\"types of columns in nov_temp_plot$data are not correct\"= setequal(digest(paste(toString(sort(unlist(sapply(nov_temp_plot$data, class)))), \"e8be2\")), \"192bdd6368f61c7b4dda56babdc6d5a0\"))\n",
    "stopifnot(\"values in one or more numerical columns in nov_temp_plot$data are not correct\"= setequal(digest(paste(toString(if (any(sapply(nov_temp_plot$data, is.numeric))) sort(round(sapply(nov_temp_plot$data[, sapply(nov_temp_plot$data, is.numeric)], sum, na.rm = TRUE), 2)) else 0), \"e8be2\")), \"be005c4793c1443ed377c0625526f413\"))\n",
    "stopifnot(\"values in one or more character columns in nov_temp_plot$data are not correct\"= setequal(digest(paste(toString(if (any(sapply(nov_temp_plot$data, is.character))) sum(sapply(nov_temp_plot$data[sapply(nov_temp_plot$data, is.character)], function(x) length(unique(x)))) else 0), \"e8be2\")), \"194b18677347ea6bebcf3db3ff29ccd2\"))\n",
    "stopifnot(\"values in one or more factor columns in nov_temp_plot$data are not correct\"= setequal(digest(paste(toString(if (any(sapply(nov_temp_plot$data, is.factor))) sum(sapply(nov_temp_plot$data[, sapply(nov_temp_plot$data, is.factor)], function(col) length(unique(col)))) else 0), \"e8be2\")), \"f79f7f4a1456e465100f430454f861ee\"))\n",
    "\n",
    "print('Success!')"
   ]
  },
  {
   "cell_type": "markdown",
   "metadata": {
    "deletable": false,
    "editable": false,
    "nbgrader": {
     "cell_type": "markdown",
     "checksum": "e2d6e996639ebb98c1dc6a91d6860978",
     "grade": false,
     "grade_id": "cell-9de2b3c001bbe02d",
     "locked": true,
     "schema_version": 3,
     "solution": false,
     "task": false
    }
   },
   "source": [
    "We can see that there may be a small decrease in colder temperatures in recent years, and/or the temperatures in recent years look less variable compared to years before 1975. What about other months? Let's plot them! \n",
    "\n",
    "Instead of repeating the code above for the 11 other months, we'll take advantage of a `ggplot2` function that we haven't met yet, `facet_wrap`. This function is used to create many plots side-by-side, and wrapped around to new lines if there are too many plots. You tell `ggplot2` how to split up the plots by specifying the argument `facets = vars(...)`, where `...` represents the variable that is used to split the plots. We will learn more about this function next week, this week we will give you the code for it."
   ]
  },
  {
   "cell_type": "markdown",
   "metadata": {
    "deletable": false,
    "editable": false,
    "nbgrader": {
     "cell_type": "markdown",
     "checksum": "bcd8994e43fe728824738e23aba981fa",
     "grade": false,
     "grade_id": "cell-27e2c5089e6710ef",
     "locked": true,
     "schema_version": 3,
     "solution": false
    }
   },
   "source": [
    "**Question 2.6**\n",
    "<br> {points: 1}\n",
    "\n",
    "Fill in the missing code below to plot the average monthly sea surface temperatures to the year they were recorded for all months. Assign your answer to an object called `all_temp_plot`.\n",
    "\n",
    "> Hint: don't forget to include the units for temperature in your data visualization."
   ]
  },
  {
   "cell_type": "code",
   "execution_count": null,
   "metadata": {
    "deletable": false,
    "nbgrader": {
     "cell_type": "code",
     "checksum": "b5c514bade0d6cfcc40cf3f5d5348b2d",
     "grade": false,
     "grade_id": "cell-6a5d54a80ebdc73c",
     "locked": false,
     "schema_version": 3,
     "solution": true
    }
   },
   "outputs": [],
   "source": [
    "options(repr.plot.width = 14, repr.plot.height = 8)\n",
    "#... <- ... |> \n",
    "#    ggplot(aes(x = ..., y = ...)) + \n",
    "#    geom_point() + \n",
    "#    facet_wrap(facets = vars(factor(Month, levels = c(\"Jan\",\"Feb\",\"Mar\",\"Apr\",\"May\",\"Jun\",\n",
    "#                                          \"Jul\",\"Aug\",\"Sep\",\"Oct\",\"Nov\",\"Dec\")))) +\n",
    "#    xlab(...) + \n",
    "#    ylab(...) +\n",
    "#    theme(text = element_text(size=20))\n",
    "\n",
    "\n",
    "# your code here\n",
    "fail() # No Answer - remove if you provide an answer\n",
    "all_temp_plot"
   ]
  },
  {
   "cell_type": "code",
   "execution_count": null,
   "metadata": {
    "deletable": false,
    "editable": false,
    "nbgrader": {
     "cell_type": "code",
     "checksum": "56bdc2c0e23f26a4d924df4e0d08b387",
     "grade": true,
     "grade_id": "cell-4529c8b1eb657878",
     "locked": true,
     "points": 1,
     "schema_version": 3,
     "solution": false
    }
   },
   "outputs": [],
   "source": [
    "library(digest)\n",
    "stopifnot(\"type of plot is not correct (if you are using two types of geoms, try flipping the order of the geom objects!)\"= setequal(digest(paste(toString(sapply(seq_len(length(all_temp_plot$layers)), function(i) {c(class(all_temp_plot$layers[[i]]$geom))[1]})), \"2e9fb\")), \"6801735ee7afdd227bff7ba91c296e79\"))\n",
    "stopifnot(\"variable x is not correct\"= setequal(digest(paste(toString(unlist(lapply(sapply(seq_len(length(all_temp_plot$layers)), function(i) {rlang::get_expr(c(all_temp_plot$layers[[i]]$mapping, all_temp_plot$mapping)$x)}), as.character))), \"2e9fb\")), \"f5e4909286ca29c56884ce1a14f0efa3\"))\n",
    "stopifnot(\"variable y is not correct\"= setequal(digest(paste(toString(unlist(lapply(sapply(seq_len(length(all_temp_plot$layers)), function(i) {rlang::get_expr(c(all_temp_plot$layers[[i]]$mapping, all_temp_plot$mapping)$y)}), as.character))), \"2e9fb\")), \"9fb2f1fcb76df00bc4a2dc71ec7c79d1\"))\n",
    "stopifnot(\"x-axis label is not descriptive, nicely formatted, or human readable\"= setequal(digest(paste(toString(rlang::get_expr(c(all_temp_plot$layers[[1]]$mapping, all_temp_plot$mapping)$x)!= all_temp_plot$labels$x), \"2e9fb\")), \"ee691d1c620095cabe3e137fffb33781\"))\n",
    "stopifnot(\"y-axis label is not descriptive, nicely formatted, or human readable\"= setequal(digest(paste(toString(rlang::get_expr(c(all_temp_plot$layers[[1]]$mapping, all_temp_plot$mapping)$y)!= all_temp_plot$labels$y), \"2e9fb\")), \"ee691d1c620095cabe3e137fffb33781\"))\n",
    "stopifnot(\"incorrect colour variable in all_temp_plot, specify a correct one if required\"= setequal(digest(paste(toString(rlang::get_expr(c(all_temp_plot$layers[[1]]$mapping, all_temp_plot$mapping)$colour)), \"2e9fb\")), \"68b934fe91ee10da2375ecb45145c82f\"))\n",
    "stopifnot(\"incorrect shape variable in all_temp_plot, specify a correct one if required\"= setequal(digest(paste(toString(rlang::get_expr(c(all_temp_plot$layers[[1]]$mapping, all_temp_plot$mapping)$shape)), \"2e9fb\")), \"68b934fe91ee10da2375ecb45145c82f\"))\n",
    "stopifnot(\"the colour label in all_temp_plot is not descriptive, nicely formatted, or human readable\"= setequal(digest(paste(toString(rlang::get_expr(c(all_temp_plot$layers[[1]]$mapping, all_temp_plot$mapping)$colour) != all_temp_plot$labels$colour), \"2e9fb\")), \"68b934fe91ee10da2375ecb45145c82f\"))\n",
    "stopifnot(\"the shape label in all_temp_plot is not descriptive, nicely formatted, or human readable\"= setequal(digest(paste(toString(rlang::get_expr(c(all_temp_plot$layers[[1]]$mapping, all_temp_plot$mapping)$colour) != all_temp_plot$labels$shape), \"2e9fb\")), \"68b934fe91ee10da2375ecb45145c82f\"))\n",
    "stopifnot(\"fill variable in all_temp_plot is not correct\"= setequal(digest(paste(toString(quo_name(all_temp_plot$mapping$fill)), \"2e9fb\")), \"f7f0fd8f97dbfbea712e50eaa48aa061\"))\n",
    "stopifnot(\"fill label in all_temp_plot is not informative\"= setequal(digest(paste(toString((quo_name(all_temp_plot$mapping$fill) != all_temp_plot$labels$fill)), \"2e9fb\")), \"68b934fe91ee10da2375ecb45145c82f\"))\n",
    "stopifnot(\"position argument in all_temp_plot is not correct\"= setequal(digest(paste(toString(class(all_temp_plot$layers[[1]]$position)[1]), \"2e9fb\")), \"a5c1caed42fca696443a433987ef6661\"))\n",
    "\n",
    "stopifnot(\"all_temp_plot$data should be a data frame\"= setequal(digest(paste(toString('data.frame' %in% class(all_temp_plot$data)), \"2e9fc\")), \"5f47a0f51a2060fbfbc0e54eb31a7704\"))\n",
    "stopifnot(\"dimensions of all_temp_plot$data are not correct\"= setequal(digest(paste(toString(dim(all_temp_plot$data)), \"2e9fc\")), \"b9c48172efd93d4784c80fe79e760aed\"))\n",
    "stopifnot(\"column names of all_temp_plot$data are not correct\"= setequal(digest(paste(toString(sort(colnames(all_temp_plot$data))), \"2e9fc\")), \"45de861665f60751801bec21ec3f9595\"))\n",
    "stopifnot(\"types of columns in all_temp_plot$data are not correct\"= setequal(digest(paste(toString(sort(unlist(sapply(all_temp_plot$data, class)))), \"2e9fc\")), \"fe1351e63c172db0ba2342acbad04993\"))\n",
    "stopifnot(\"values in one or more numerical columns in all_temp_plot$data are not correct\"= setequal(digest(paste(toString(if (any(sapply(all_temp_plot$data, is.numeric))) sort(round(sapply(all_temp_plot$data[, sapply(all_temp_plot$data, is.numeric)], sum, na.rm = TRUE), 2)) else 0), \"2e9fc\")), \"bef6bf7bbc31af22a516fd4c1c5c59e8\"))\n",
    "stopifnot(\"values in one or more character columns in all_temp_plot$data are not correct\"= setequal(digest(paste(toString(if (any(sapply(all_temp_plot$data, is.character))) sum(sapply(all_temp_plot$data[sapply(all_temp_plot$data, is.character)], function(x) length(unique(x)))) else 0), \"2e9fc\")), \"35a1ad0429502227f86f2c4cbb085302\"))\n",
    "stopifnot(\"values in one or more factor columns in all_temp_plot$data are not correct\"= setequal(digest(paste(toString(if (any(sapply(all_temp_plot$data, is.factor))) sum(sapply(all_temp_plot$data[, sapply(all_temp_plot$data, is.factor)], function(col) length(unique(col)))) else 0), \"2e9fc\")), \"822875a2d695bbae5a499e9410a409ea\"))\n",
    "\n",
    "stopifnot(\"type of class(all_temp_plot$facet)[1] is not character\"= setequal(digest(paste(toString(class(class(all_temp_plot$facet)[1])), \"2e9fd\")), \"5ef62a586966b3183cc11ab9b1dd3299\"))\n",
    "stopifnot(\"length of class(all_temp_plot$facet)[1] is not correct\"= setequal(digest(paste(toString(length(class(all_temp_plot$facet)[1])), \"2e9fd\")), \"e43bde651b75f08801511c2edaa85f1f\"))\n",
    "stopifnot(\"value of class(all_temp_plot$facet)[1] is not correct\"= setequal(digest(paste(toString(tolower(class(all_temp_plot$facet)[1])), \"2e9fd\")), \"5630da010e7efc18fdb9cec8c6d1799a\"))\n",
    "stopifnot(\"letters in string value of class(all_temp_plot$facet)[1] are correct but case is not correct\"= setequal(digest(paste(toString(class(all_temp_plot$facet)[1]), \"2e9fd\")), \"16b789b1704b7483b60d3e47c3cb8f08\"))\n",
    "\n",
    "stopifnot(\"type of as.character(rlang::get_expr(all_temp_plot$facet$params$facets[[1]])[2]) is not character\"= setequal(digest(paste(toString(class(as.character(rlang::get_expr(all_temp_plot$facet$params$facets[[1]])[2]))), \"2e9fe\")), \"7e7c65bacb079833e32c967d107c0b40\"))\n",
    "stopifnot(\"length of as.character(rlang::get_expr(all_temp_plot$facet$params$facets[[1]])[2]) is not correct\"= setequal(digest(paste(toString(length(as.character(rlang::get_expr(all_temp_plot$facet$params$facets[[1]])[2]))), \"2e9fe\")), \"300c75e69ecd62fdf67ec668447544a2\"))\n",
    "stopifnot(\"value of as.character(rlang::get_expr(all_temp_plot$facet$params$facets[[1]])[2]) is not correct\"= setequal(digest(paste(toString(tolower(as.character(rlang::get_expr(all_temp_plot$facet$params$facets[[1]])[2]))), \"2e9fe\")), \"211f11c5c87bc650a344890f38adf439\"))\n",
    "stopifnot(\"letters in string value of as.character(rlang::get_expr(all_temp_plot$facet$params$facets[[1]])[2]) are correct but case is not correct\"= setequal(digest(paste(toString(as.character(rlang::get_expr(all_temp_plot$facet$params$facets[[1]])[2])), \"2e9fe\")), \"fe707add52c903537d763b02432991e9\"))\n",
    "\n",
    "print('Success!')"
   ]
  },
  {
   "cell_type": "markdown",
   "metadata": {
    "deletable": false,
    "editable": false,
    "nbgrader": {
     "cell_type": "markdown",
     "checksum": "ae37273c57e7f7f4b8619bfe745f2ff5",
     "grade": false,
     "grade_id": "cell-5406840f482b0738",
     "locked": true,
     "schema_version": 3,
     "solution": false,
     "task": false
    }
   },
   "source": [
    "We can see above that some months show a small, but general increase in temperatures, whereas others don't. And some months show a change in variability and others do not. From this it is clear to us that if we are trying to understand temperature changes over time, we best keep data from different months separate."
   ]
  },
  {
   "cell_type": "markdown",
   "metadata": {
    "deletable": false,
    "editable": false,
    "nbgrader": {
     "cell_type": "markdown",
     "checksum": "d8218a3c7217edb9483fa20667e9d437",
     "grade": false,
     "grade_id": "cell-4fed26cd837beb2b",
     "locked": true,
     "schema_version": 3,
     "solution": false,
     "task": false
    }
   },
   "source": [
    "## 3. Pollution in Madrid\n",
    "We're working with a data set from Kaggle once again! [This data](https://www.kaggle.com/decide-soluciones/air-quality-madrid) was collected under the instructions from Madrid's City Council and is publicly available on their website. In recent years, high levels of pollution during certain dry periods has forced the authorities to take measures against the use of cars and act as a reasoning to propose certain regulations. This data includes daily and hourly measurements of air quality from 2001 to 2008. Pollutants are categorized based on their chemical properties.\n",
    "\n",
    "There are a number of stations set up around Madrid and each station's data frame contains all particle measurements that such station has registered from 01/2001 - 04/2008. Not every station has the same equipment, therefore each station can measure only a certain subset of particles. The complete list of possible measurements and their explanations are given by the website:\n",
    "\n",
    "- `SO_2`: sulphur dioxide level measured in μg/m³. High levels can produce irritation in the skin and membranes, and worsen asthma or heart diseases in sensitive groups.\n",
    "- `CO`: carbon monoxide level measured in mg/m³. Carbon monoxide poisoning involves headaches, dizziness and confusion in short exposures and can result in loss of consciousness, arrhythmias, seizures or even death.\n",
    "- `NO_2`: nitrogen dioxide level measured in μg/m³. Long-term exposure is a cause of chronic lung diseases, and are harmful for the vegetation.\n",
    "- `PM10`: particles smaller than 10 μm. Even though they cannot penetrate the alveolus, they can still penetrate through the lungs and affect other organs. Long term exposure can result in lung cancer and cardiovascular complications.\n",
    "- `NOx`: nitrous oxides level measured in μg/m³. Affect the human respiratory system worsening asthma or other diseases, and are responsible of the yellowish-brown color of photochemical smog.\n",
    "- `O_3`: ozone level measured in μg/m³. High levels can produce asthma, bronchytis or other chronic pulmonary diseases in sensitive groups or outdoor workers.\n",
    "- `TOL`: toluene (methylbenzene) level measured in μg/m³. Long-term exposure to this substance (present in tobacco smoke as well) can result in kidney complications or permanent brain damage.\n",
    "- `BEN`: benzene level measured in μg/m³. Benzene is a eye and skin irritant, and long exposures may result in several types of cancer, leukaemia and anaemias. Benzene is considered a group 1 carcinogenic to humans.\n",
    "- `EBE`: ethylbenzene level measured in μg/m³. Long term exposure can cause hearing or kidney problems and the IARC has concluded that long-term exposure can produce cancer.\n",
    "- `MXY`: m-xylene level measured in μg/m³. Xylenes can affect not only air but also water and soil, and a long exposure to high levels of xylenes can result in diseases affecting the liver, kidney and nervous system.\n",
    "- `PXY`: p-xylene level measured in μg/m³. See MXY for xylene exposure effects on health.\n",
    "- `OXY`: o-xylene level measured in μg/m³. See MXY for xylene exposure effects on health.\n",
    "- `TCH`: total hydrocarbons level measured in mg/m³. This group of substances can be responsible of different blood, immune system, liver, spleen, kidneys or lung diseases.\n",
    "- `NMHC`: non-methane hydrocarbons (volatile organic compounds) level measured in mg/m³. Long exposure to some of these substances can result in damage to the liver, kidney, and central nervous system. Some of them are suspected to cause cancer in humans."
   ]
  },
  {
   "cell_type": "markdown",
   "metadata": {
    "deletable": false,
    "editable": false,
    "nbgrader": {
     "cell_type": "markdown",
     "checksum": "7ae6419d92c15b3cdd292ac8c76868bf",
     "grade": false,
     "grade_id": "cell-892f43f18911d0ba",
     "locked": true,
     "schema_version": 3,
     "solution": false,
     "task": false
    }
   },
   "source": [
    "The goal of this assignment is to see if pollutants are decreasing (is air quality improving) and also compare which pollutant has decreased the most over the span of 5 years (2001 - 2006). \n",
    "1. First do a plot of one of the pollutants (EBE). \n",
    "2. Next, group it by month and year; calculate the maximum value and plot it (to see the trend through time). \n",
    "3. Now we will look at which pollutant decreased the most. Repeat the same thing for every column - to speed up the process, use the `map()` function. First we will look at pollution in 2001 (get the maximum value for each of the pollutants). And then do the same for 2006. "
   ]
  },
  {
   "cell_type": "markdown",
   "metadata": {
    "deletable": false,
    "editable": false,
    "nbgrader": {
     "cell_type": "markdown",
     "checksum": "e311d83737d4b352f7c251cba753bea2",
     "grade": false,
     "grade_id": "cell-a99486a2f16469ae",
     "locked": true,
     "schema_version": 3,
     "solution": false
    }
   },
   "source": [
    "**Question 3.1** Multiple Choice: \n",
    "<br> {points: 1}\n",
    "\n",
    "What big picture question are we trying to answer?\n",
    "\n",
    "A. Did EBE decrease in Madrid between 2001 and 2006?\n",
    "\n",
    "B. Of all the pollutants, which decreased the most between 2001 and 2006? \n",
    "\n",
    "C. Of all the pollutants, which decreased the least between 2001 and 2006?\n",
    "\n",
    "D. Did EBE increase in Madrid between 2001 and 2006?\n",
    "\n",
    "*Assign your answer to an object called `answer3.1`. Make sure your answer is an uppercase letter and is surrounded by quotation marks (e.g. `\"F\"`).*"
   ]
  },
  {
   "cell_type": "code",
   "execution_count": null,
   "metadata": {
    "deletable": false,
    "nbgrader": {
     "cell_type": "code",
     "checksum": "ef0cd09d143de2057de811dd39b491bc",
     "grade": false,
     "grade_id": "cell-fffa52c5bf768a43",
     "locked": false,
     "schema_version": 3,
     "solution": true
    }
   },
   "outputs": [],
   "source": [
    "# Replace the fail() with your answer. \n",
    "\n",
    "# your code here\n",
    "fail() # No Answer - remove if you provide an answer"
   ]
  },
  {
   "cell_type": "code",
   "execution_count": null,
   "metadata": {
    "deletable": false,
    "editable": false,
    "nbgrader": {
     "cell_type": "code",
     "checksum": "9532c1fa8cd40a7187016c5c9e572081",
     "grade": true,
     "grade_id": "cell-d67db6d2cd3971aa",
     "locked": true,
     "points": 1,
     "schema_version": 3,
     "solution": false
    }
   },
   "outputs": [],
   "source": [
    "library(digest)\n",
    "stopifnot(\"type of answer3.1 is not character\"= setequal(digest(paste(toString(class(answer3.1)), \"3cd19\")), \"2ff844da441ebf8b9897cd989aca2e07\"))\n",
    "stopifnot(\"length of answer3.1 is not correct\"= setequal(digest(paste(toString(length(answer3.1)), \"3cd19\")), \"57a33d49e142fb3400bf7b748b5643ce\"))\n",
    "stopifnot(\"value of answer3.1 is not correct\"= setequal(digest(paste(toString(tolower(answer3.1)), \"3cd19\")), \"a1fec650e52e5bea41449e12ff8b7110\"))\n",
    "stopifnot(\"letters in string value of answer3.1 are correct but case is not correct\"= setequal(digest(paste(toString(answer3.1), \"3cd19\")), \"194af98ce3c384a9c4d6828ef732513d\"))\n",
    "\n",
    "print('Success!')"
   ]
  },
  {
   "cell_type": "markdown",
   "metadata": {
    "deletable": false,
    "editable": false,
    "nbgrader": {
     "cell_type": "markdown",
     "checksum": "e719027bfac0e2844277d98fd28f8616",
     "grade": false,
     "grade_id": "cell-beefc03e5d6c203d",
     "locked": true,
     "schema_version": 3,
     "solution": false
    }
   },
   "source": [
    "**Question 3.2** \n",
    "<br> {points: 1}\n",
    "\n",
    "To begin working with this data, read the file `madrid_pollution.csv`. Note, this file (just like the avocado and sea surface data set) is found in the `worksheet_wrangling` directory. \n",
    "\n",
    "*Assign your answer to an object called `madrid`.* "
   ]
  },
  {
   "cell_type": "code",
   "execution_count": null,
   "metadata": {
    "deletable": false,
    "nbgrader": {
     "cell_type": "code",
     "checksum": "decaa8c52f915536511884a665d29eeb",
     "grade": false,
     "grade_id": "cell-7f7939bcc9bebde2",
     "locked": false,
     "schema_version": 3,
     "solution": true
    }
   },
   "outputs": [],
   "source": [
    "# your code here\n",
    "fail() # No Answer - remove if you provide an answer\n",
    "madrid"
   ]
  },
  {
   "cell_type": "code",
   "execution_count": null,
   "metadata": {
    "deletable": false,
    "editable": false,
    "nbgrader": {
     "cell_type": "code",
     "checksum": "32ade15d10fa934af8f9b5e8ed8767bc",
     "grade": true,
     "grade_id": "cell-902507dc58ec5428",
     "locked": true,
     "points": 1,
     "schema_version": 3,
     "solution": false
    }
   },
   "outputs": [],
   "source": [
    "library(digest)\n",
    "stopifnot(\"madrid should be a data frame\"= setequal(digest(paste(toString('data.frame' %in% class(madrid)), \"eecc\")), \"bf08e39a99b754134a55b7d66af3c2ca\"))\n",
    "stopifnot(\"dimensions of madrid are not correct\"= setequal(digest(paste(toString(dim(madrid)), \"eecc\")), \"0c7bee8b5d0a9c8750998d4bf868a3a9\"))\n",
    "stopifnot(\"column names of madrid are not correct\"= setequal(digest(paste(toString(sort(colnames(madrid))), \"eecc\")), \"fc1b1098aa1102f6727e40a5f36fc14f\"))\n",
    "stopifnot(\"types of columns in madrid are not correct\"= setequal(digest(paste(toString(sort(unlist(sapply(madrid, class)))), \"eecc\")), \"7a5db15bbaf7667f5f7eca77b38fd00a\"))\n",
    "stopifnot(\"values in one or more numerical columns in madrid are not correct\"= setequal(digest(paste(toString(if (any(sapply(madrid, is.numeric))) sort(round(sapply(madrid[, sapply(madrid, is.numeric)], sum, na.rm = TRUE), 2)) else 0), \"eecc\")), \"a59bf42b4fa32c5ac731e213629947a3\"))\n",
    "stopifnot(\"values in one or more character columns in madrid are not correct\"= setequal(digest(paste(toString(if (any(sapply(madrid, is.character))) sum(sapply(madrid[sapply(madrid, is.character)], function(x) length(unique(x)))) else 0), \"eecc\")), \"4adb5d52dc071bf291e3dbcfa0b84a2a\"))\n",
    "stopifnot(\"values in one or more factor columns in madrid are not correct\"= setequal(digest(paste(toString(if (any(sapply(madrid, is.factor))) sum(sapply(madrid[, sapply(madrid, is.factor)], function(col) length(unique(col)))) else 0), \"eecc\")), \"31783b1799a49661c4c8f65a961503c6\"))\n",
    "\n",
    "print('Success!')"
   ]
  },
  {
   "cell_type": "markdown",
   "metadata": {
    "deletable": false,
    "editable": false,
    "nbgrader": {
     "cell_type": "markdown",
     "checksum": "d8bafda006ad3f30c5961db98a120a68",
     "grade": false,
     "grade_id": "cell-da06d5b257b928f0",
     "locked": true,
     "schema_version": 3,
     "solution": false
    }
   },
   "source": [
    "**Question 3.3**\n",
    "<br> {points: 1}\n",
    "\n",
    "Now that the data is loaded in R, create a scatter plot that compares ethylbenzene (`EBE`) values against the date they were recorded. This graph will showcase the concentration of ethylbenzene in Madrid over time. As usual, label your axes: \n",
    "\n",
    "- x = Date\n",
    "- y = Ethylbenzene (μg/m³)\n",
    "\n",
    "*Assign your answer to an object called `EBE_pollution`.*"
   ]
  },
  {
   "cell_type": "code",
   "execution_count": null,
   "metadata": {
    "deletable": false,
    "nbgrader": {
     "cell_type": "code",
     "checksum": "7664b92c901435f283b0579b4423a413",
     "grade": false,
     "grade_id": "cell-14614015f46ccfff",
     "locked": false,
     "schema_version": 3,
     "solution": true
    }
   },
   "outputs": [],
   "source": [
    "options(repr.plot.width = 13, repr.plot.height = 7)\n",
    "\n",
    "\n",
    "# your code here\n",
    "fail() # No Answer - remove if you provide an answer\n",
    "EBE_pollution\n",
    "\n",
    "# Are levels increasing or decreasing?"
   ]
  },
  {
   "cell_type": "code",
   "execution_count": null,
   "metadata": {
    "deletable": false,
    "editable": false,
    "nbgrader": {
     "cell_type": "code",
     "checksum": "4467c8db69f142f5f6f1201c9dd62f97",
     "grade": true,
     "grade_id": "cell-4de75a47d9cc2dca",
     "locked": true,
     "points": 1,
     "schema_version": 3,
     "solution": false
    }
   },
   "outputs": [],
   "source": [
    "library(digest)\n",
    "stopifnot(\"type of plot is not correct (if you are using two types of geoms, try flipping the order of the geom objects!)\"= setequal(digest(paste(toString(sapply(seq_len(length(EBE_pollution$layers)), function(i) {c(class(EBE_pollution$layers[[i]]$geom))[1]})), \"6095f\")), \"8b4ae05720eb3841de8b419cc6bd0cf7\"))\n",
    "stopifnot(\"variable x is not correct\"= setequal(digest(paste(toString(unlist(lapply(sapply(seq_len(length(EBE_pollution$layers)), function(i) {rlang::get_expr(c(EBE_pollution$layers[[i]]$mapping, EBE_pollution$mapping)$x)}), as.character))), \"6095f\")), \"6296b4124e6cccb464b2dd0083599a51\"))\n",
    "stopifnot(\"variable y is not correct\"= setequal(digest(paste(toString(unlist(lapply(sapply(seq_len(length(EBE_pollution$layers)), function(i) {rlang::get_expr(c(EBE_pollution$layers[[i]]$mapping, EBE_pollution$mapping)$y)}), as.character))), \"6095f\")), \"fe764e35d04862de7e4fceb8b14565fa\"))\n",
    "stopifnot(\"x-axis label is not descriptive, nicely formatted, or human readable\"= setequal(digest(paste(toString(rlang::get_expr(c(EBE_pollution$layers[[1]]$mapping, EBE_pollution$mapping)$x)!= EBE_pollution$labels$x), \"6095f\")), \"c5e7ff1afd92d4fdbe4748e8d2efccb0\"))\n",
    "stopifnot(\"y-axis label is not descriptive, nicely formatted, or human readable\"= setequal(digest(paste(toString(rlang::get_expr(c(EBE_pollution$layers[[1]]$mapping, EBE_pollution$mapping)$y)!= EBE_pollution$labels$y), \"6095f\")), \"c5e7ff1afd92d4fdbe4748e8d2efccb0\"))\n",
    "stopifnot(\"incorrect colour variable in EBE_pollution, specify a correct one if required\"= setequal(digest(paste(toString(rlang::get_expr(c(EBE_pollution$layers[[1]]$mapping, EBE_pollution$mapping)$colour)), \"6095f\")), \"8e7ff49e1c16b820db4e982fea313576\"))\n",
    "stopifnot(\"incorrect shape variable in EBE_pollution, specify a correct one if required\"= setequal(digest(paste(toString(rlang::get_expr(c(EBE_pollution$layers[[1]]$mapping, EBE_pollution$mapping)$shape)), \"6095f\")), \"8e7ff49e1c16b820db4e982fea313576\"))\n",
    "stopifnot(\"the colour label in EBE_pollution is not descriptive, nicely formatted, or human readable\"= setequal(digest(paste(toString(rlang::get_expr(c(EBE_pollution$layers[[1]]$mapping, EBE_pollution$mapping)$colour) != EBE_pollution$labels$colour), \"6095f\")), \"8e7ff49e1c16b820db4e982fea313576\"))\n",
    "stopifnot(\"the shape label in EBE_pollution is not descriptive, nicely formatted, or human readable\"= setequal(digest(paste(toString(rlang::get_expr(c(EBE_pollution$layers[[1]]$mapping, EBE_pollution$mapping)$colour) != EBE_pollution$labels$shape), \"6095f\")), \"8e7ff49e1c16b820db4e982fea313576\"))\n",
    "stopifnot(\"fill variable in EBE_pollution is not correct\"= setequal(digest(paste(toString(quo_name(EBE_pollution$mapping$fill)), \"6095f\")), \"ce3ba9cd313e1cc06270a4543dfae9db\"))\n",
    "stopifnot(\"fill label in EBE_pollution is not informative\"= setequal(digest(paste(toString((quo_name(EBE_pollution$mapping$fill) != EBE_pollution$labels$fill)), \"6095f\")), \"8e7ff49e1c16b820db4e982fea313576\"))\n",
    "stopifnot(\"position argument in EBE_pollution is not correct\"= setequal(digest(paste(toString(class(EBE_pollution$layers[[1]]$position)[1]), \"6095f\")), \"252908bf9450a38343056e614718ec88\"))\n",
    "\n",
    "stopifnot(\"EBE_pollution$data should be a data frame\"= setequal(digest(paste(toString('data.frame' %in% class(EBE_pollution$data)), \"60960\")), \"8f9a6f15fd3e2747c89241ff124c6a93\"))\n",
    "stopifnot(\"dimensions of EBE_pollution$data are not correct\"= setequal(digest(paste(toString(dim(EBE_pollution$data)), \"60960\")), \"5d46f643936f9d59eb14d9d8b5d1db4e\"))\n",
    "stopifnot(\"column names of EBE_pollution$data are not correct\"= setequal(digest(paste(toString(sort(colnames(EBE_pollution$data))), \"60960\")), \"950a9da33f3438be4e106e9f274ad294\"))\n",
    "stopifnot(\"types of columns in EBE_pollution$data are not correct\"= setequal(digest(paste(toString(sort(unlist(sapply(EBE_pollution$data, class)))), \"60960\")), \"2a27928dedddc970677fbccfe06607d1\"))\n",
    "stopifnot(\"values in one or more numerical columns in EBE_pollution$data are not correct\"= setequal(digest(paste(toString(if (any(sapply(EBE_pollution$data, is.numeric))) sort(round(sapply(EBE_pollution$data[, sapply(EBE_pollution$data, is.numeric)], sum, na.rm = TRUE), 2)) else 0), \"60960\")), \"2688160e9a2c8ce0c5839b855d8ac4d6\"))\n",
    "stopifnot(\"values in one or more character columns in EBE_pollution$data are not correct\"= setequal(digest(paste(toString(if (any(sapply(EBE_pollution$data, is.character))) sum(sapply(EBE_pollution$data[sapply(EBE_pollution$data, is.character)], function(x) length(unique(x)))) else 0), \"60960\")), \"780c706bab38abad2633c4f5612a68f1\"))\n",
    "stopifnot(\"values in one or more factor columns in EBE_pollution$data are not correct\"= setequal(digest(paste(toString(if (any(sapply(EBE_pollution$data, is.factor))) sum(sapply(EBE_pollution$data[, sapply(EBE_pollution$data, is.factor)], function(col) length(unique(col)))) else 0), \"60960\")), \"85b7ddcb28a8e8a3b8f83f1ef8a15981\"))\n",
    "\n",
    "print('Success!')"
   ]
  },
  {
   "cell_type": "markdown",
   "metadata": {
    "deletable": false,
    "editable": false,
    "nbgrader": {
     "cell_type": "markdown",
     "checksum": "b658b04f5daef6e4549c08a50bdfd2f3",
     "grade": false,
     "grade_id": "cell-112c1b3ac6b6c720",
     "locked": true,
     "schema_version": 3,
     "solution": false,
     "task": false
    }
   },
   "source": [
    "We can see from this plot that over time, there are less and less high (> 25 μg/m³) EBE values."
   ]
  },
  {
   "cell_type": "markdown",
   "metadata": {
    "deletable": false,
    "editable": false,
    "nbgrader": {
     "cell_type": "markdown",
     "checksum": "702b212febb4a1763174a2d68d4d9776",
     "grade": false,
     "grade_id": "cell-648260c1e625b576",
     "locked": true,
     "schema_version": 3,
     "solution": false
    }
   },
   "source": [
    "**Question 3.4**\n",
    "<br> {points: 1}\n",
    "\n",
    "The question above asks you to write out code that allows visualization of all EBE recordings - which are taken every single hour of every day. Consequently the graph consists of many points and appears densely plotted. In this question, we are going to clean up the graph and focus on max EBE readings from each month. To further investigate if this trend is changing over time, we will use `group_by` and `summarize` to create a new data set.\n",
    "\n",
    "Fill in the `...` in the cell below. Copy and paste your finished answer and replace the `fail()`.\n",
    "\n",
    "*Assign your answer to an object called `madrid_pollution`.*"
   ]
  },
  {
   "cell_type": "code",
   "execution_count": null,
   "metadata": {
    "deletable": false,
    "nbgrader": {
     "cell_type": "code",
     "checksum": "0aeab1ca4da030976b0d400a18e5772d",
     "grade": false,
     "grade_id": "cell-dbd1c81ead522ff6",
     "locked": false,
     "schema_version": 3,
     "solution": true
    }
   },
   "outputs": [],
   "source": [
    "# ... <- ... |>\n",
    "#     group_by(year, ...) |>\n",
    "#     ...(max_ebe = max(EBE, na.rm = TRUE))\n",
    "\n",
    "# your code here\n",
    "fail() # No Answer - remove if you provide an answer\n",
    "madrid_pollution"
   ]
  },
  {
   "cell_type": "code",
   "execution_count": null,
   "metadata": {
    "deletable": false,
    "editable": false,
    "nbgrader": {
     "cell_type": "code",
     "checksum": "2d24acb0e005f6b1255813e15db67e4a",
     "grade": true,
     "grade_id": "cell-d04ca4acf0f5f6bc",
     "locked": true,
     "points": 1,
     "schema_version": 3,
     "solution": false
    }
   },
   "outputs": [],
   "source": [
    "library(digest)\n",
    "stopifnot(\"madrid_pollution should be a data frame\"= setequal(digest(paste(toString('data.frame' %in% class(madrid_pollution)), \"f24e2\")), \"4a5c864ce4a239eea5b81bae86194e4a\"))\n",
    "stopifnot(\"dimensions of madrid_pollution are not correct\"= setequal(digest(paste(toString(dim(madrid_pollution)), \"f24e2\")), \"fc3887a7c21795cf11f4081d3a44016f\"))\n",
    "stopifnot(\"column names of madrid_pollution are not correct\"= setequal(digest(paste(toString(sort(colnames(madrid_pollution))), \"f24e2\")), \"8e53f3d20b826e41824f52eea67508b2\"))\n",
    "stopifnot(\"types of columns in madrid_pollution are not correct\"= setequal(digest(paste(toString(sort(unlist(sapply(madrid_pollution, class)))), \"f24e2\")), \"e37fbd2a6aa5e816890dad26ccda3c62\"))\n",
    "stopifnot(\"values in one or more numerical columns in madrid_pollution are not correct\"= setequal(digest(paste(toString(if (any(sapply(madrid_pollution, is.numeric))) sort(round(sapply(madrid_pollution[, sapply(madrid_pollution, is.numeric)], sum, na.rm = TRUE), 2)) else 0), \"f24e2\")), \"66b8fcd49fac29b1105a0f1179b34270\"))\n",
    "stopifnot(\"values in one or more character columns in madrid_pollution are not correct\"= setequal(digest(paste(toString(if (any(sapply(madrid_pollution, is.character))) sum(sapply(madrid_pollution[sapply(madrid_pollution, is.character)], function(x) length(unique(x)))) else 0), \"f24e2\")), \"9aabeace0ba955c2d749e92236cb2bc0\"))\n",
    "stopifnot(\"values in one or more factor columns in madrid_pollution are not correct\"= setequal(digest(paste(toString(if (any(sapply(madrid_pollution, is.factor))) sum(sapply(madrid_pollution[, sapply(madrid_pollution, is.factor)], function(col) length(unique(col)))) else 0), \"f24e2\")), \"b56b287ff2f1f37e3e43faf298acbfb1\"))\n",
    "\n",
    "print('Success!')"
   ]
  },
  {
   "cell_type": "markdown",
   "metadata": {
    "deletable": false,
    "editable": false,
    "nbgrader": {
     "cell_type": "markdown",
     "checksum": "c43479b5983b707594d3eb0d6ac3a15c",
     "grade": false,
     "grade_id": "cell-7275e7512b1bd674",
     "locked": true,
     "schema_version": 3,
     "solution": false
    }
   },
   "source": [
    "**Question 3.5**\n",
    "<br> {points: 1}\n",
    "\n",
    "Plot the new maximum EBE values versus the month they were recorded, split into side-by-side plots for each year. Again, we will use facetting (this time with `facet_grid`, more on this next week) to plot each year side-by-side. We will also use the `theme` function to rotate the axis labels to make them more readable (more on this is coming next week too!).\n",
    "\n",
    "*Assign your answer to an object called `madrid_plot`. Remember to label your axes.*"
   ]
  },
  {
   "cell_type": "code",
   "execution_count": null,
   "metadata": {
    "deletable": false,
    "nbgrader": {
     "cell_type": "code",
     "checksum": "e1fa5e92f1a5a3dfefc6fba73705b3b5",
     "grade": false,
     "grade_id": "cell-a406232e78b0e3ab",
     "locked": false,
     "schema_version": 3,
     "solution": true
    }
   },
   "outputs": [],
   "source": [
    "#... <- ... |>\n",
    "#    ggplot(aes(x = ..., y = ...)) + \n",
    "#    geom_point() +\n",
    "#    xlab(...) + \n",
    "#    ylab(...) +\n",
    "#    facet_grid(~ year) +\n",
    "#    theme(axis.text.x = element_text(angle = 90, hjust = 1)) +\n",
    "#    theme(text = element_text(size=20))\n",
    "\n",
    "# your code here\n",
    "fail() # No Answer - remove if you provide an answer\n",
    "madrid_plot"
   ]
  },
  {
   "cell_type": "code",
   "execution_count": null,
   "metadata": {
    "deletable": false,
    "editable": false,
    "nbgrader": {
     "cell_type": "code",
     "checksum": "4e0535cc2cf57e7f2b833edc1f711295",
     "grade": true,
     "grade_id": "cell-b12cea24ac607772",
     "locked": true,
     "points": 1,
     "schema_version": 3,
     "solution": false
    }
   },
   "outputs": [],
   "source": [
    "library(digest)\n",
    "stopifnot(\"type of plot is not correct (if you are using two types of geoms, try flipping the order of the geom objects!)\"= setequal(digest(paste(toString(sapply(seq_len(length(madrid_plot$layers)), function(i) {c(class(madrid_plot$layers[[i]]$geom))[1]})), \"883f6\")), \"3ae3012ead12f98380254c057505ef32\"))\n",
    "stopifnot(\"variable x is not correct\"= setequal(digest(paste(toString(unlist(lapply(sapply(seq_len(length(madrid_plot$layers)), function(i) {rlang::get_expr(c(madrid_plot$layers[[i]]$mapping, madrid_plot$mapping)$x)}), as.character))), \"883f6\")), \"2e708840038ba78bfb437451fa0d394f\"))\n",
    "stopifnot(\"variable y is not correct\"= setequal(digest(paste(toString(unlist(lapply(sapply(seq_len(length(madrid_plot$layers)), function(i) {rlang::get_expr(c(madrid_plot$layers[[i]]$mapping, madrid_plot$mapping)$y)}), as.character))), \"883f6\")), \"f1e4131c08b96579f07a0696c76b1bd5\"))\n",
    "stopifnot(\"x-axis label is not descriptive, nicely formatted, or human readable\"= setequal(digest(paste(toString(rlang::get_expr(c(madrid_plot$layers[[1]]$mapping, madrid_plot$mapping)$x)!= madrid_plot$labels$x), \"883f6\")), \"c96b1aa9b1536588ffa2053e21262382\"))\n",
    "stopifnot(\"y-axis label is not descriptive, nicely formatted, or human readable\"= setequal(digest(paste(toString(rlang::get_expr(c(madrid_plot$layers[[1]]$mapping, madrid_plot$mapping)$y)!= madrid_plot$labels$y), \"883f6\")), \"c96b1aa9b1536588ffa2053e21262382\"))\n",
    "stopifnot(\"incorrect colour variable in madrid_plot, specify a correct one if required\"= setequal(digest(paste(toString(rlang::get_expr(c(madrid_plot$layers[[1]]$mapping, madrid_plot$mapping)$colour)), \"883f6\")), \"82f640173a3294dbcda0387fdd360362\"))\n",
    "stopifnot(\"incorrect shape variable in madrid_plot, specify a correct one if required\"= setequal(digest(paste(toString(rlang::get_expr(c(madrid_plot$layers[[1]]$mapping, madrid_plot$mapping)$shape)), \"883f6\")), \"82f640173a3294dbcda0387fdd360362\"))\n",
    "stopifnot(\"the colour label in madrid_plot is not descriptive, nicely formatted, or human readable\"= setequal(digest(paste(toString(rlang::get_expr(c(madrid_plot$layers[[1]]$mapping, madrid_plot$mapping)$colour) != madrid_plot$labels$colour), \"883f6\")), \"82f640173a3294dbcda0387fdd360362\"))\n",
    "stopifnot(\"the shape label in madrid_plot is not descriptive, nicely formatted, or human readable\"= setequal(digest(paste(toString(rlang::get_expr(c(madrid_plot$layers[[1]]$mapping, madrid_plot$mapping)$colour) != madrid_plot$labels$shape), \"883f6\")), \"82f640173a3294dbcda0387fdd360362\"))\n",
    "stopifnot(\"fill variable in madrid_plot is not correct\"= setequal(digest(paste(toString(quo_name(madrid_plot$mapping$fill)), \"883f6\")), \"e9c6c2b25e01cfb97ac94adf431a8fc6\"))\n",
    "stopifnot(\"fill label in madrid_plot is not informative\"= setequal(digest(paste(toString((quo_name(madrid_plot$mapping$fill) != madrid_plot$labels$fill)), \"883f6\")), \"82f640173a3294dbcda0387fdd360362\"))\n",
    "stopifnot(\"position argument in madrid_plot is not correct\"= setequal(digest(paste(toString(class(madrid_plot$layers[[1]]$position)[1]), \"883f6\")), \"eae6f6bec45519f4bb52190ab4d2f98f\"))\n",
    "\n",
    "stopifnot(\"select(madrid_plot$data, -'.group') should be a data frame\"= setequal(digest(paste(toString('data.frame' %in% class(select(madrid_plot$data, -'.group'))), \"883f7\")), \"e29563e376dcc1ba06b73c161608a33c\"))\n",
    "stopifnot(\"dimensions of select(madrid_plot$data, -'.group') are not correct\"= setequal(digest(paste(toString(dim(select(madrid_plot$data, -'.group'))), \"883f7\")), \"801ed7bb0d8497645b39eb0aca6784e3\"))\n",
    "stopifnot(\"column names of select(madrid_plot$data, -'.group') are not correct\"= setequal(digest(paste(toString(sort(colnames(select(madrid_plot$data, -'.group')))), \"883f7\")), \"39c24e46e2bba13bc3037a13ef1d628d\"))\n",
    "stopifnot(\"types of columns in select(madrid_plot$data, -'.group') are not correct\"= setequal(digest(paste(toString(sort(unlist(sapply(select(madrid_plot$data, -'.group'), class)))), \"883f7\")), \"18fec193051357eaed2f70807bf110ed\"))\n",
    "stopifnot(\"values in one or more numerical columns in select(madrid_plot$data, -'.group') are not correct\"= setequal(digest(paste(toString(if (any(sapply(select(madrid_plot$data, -'.group'), is.numeric))) sort(round(sapply(select(madrid_plot$data, -'.group')[, sapply(select(madrid_plot$data, -'.group'), is.numeric)], sum, na.rm = TRUE), 2)) else 0), \"883f7\")), \"ed0b8ba1222886b0a6fa53c15ccfec10\"))\n",
    "stopifnot(\"values in one or more character columns in select(madrid_plot$data, -'.group') are not correct\"= setequal(digest(paste(toString(if (any(sapply(select(madrid_plot$data, -'.group'), is.character))) sum(sapply(select(madrid_plot$data, -'.group')[sapply(select(madrid_plot$data, -'.group'), is.character)], function(x) length(unique(x)))) else 0), \"883f7\")), \"351408f3b543eecbc277e2e6935d8168\"))\n",
    "stopifnot(\"values in one or more factor columns in select(madrid_plot$data, -'.group') are not correct\"= setequal(digest(paste(toString(if (any(sapply(select(madrid_plot$data, -'.group'), is.factor))) sum(sapply(select(madrid_plot$data, -'.group')[, sapply(select(madrid_plot$data, -'.group'), is.factor)], function(col) length(unique(col)))) else 0), \"883f7\")), \"19bdb63dd185b9bb1afaf34ea34530f6\"))\n",
    "\n",
    "stopifnot(\"type of class(madrid_plot$facet)[1] is not character\"= setequal(digest(paste(toString(class(class(madrid_plot$facet)[1])), \"883f8\")), \"9d8ac70e3c9c2112ba6819a87abda22f\"))\n",
    "stopifnot(\"length of class(madrid_plot$facet)[1] is not correct\"= setequal(digest(paste(toString(length(class(madrid_plot$facet)[1])), \"883f8\")), \"051f41d78225b1c1df8a92a7dfc5de5d\"))\n",
    "stopifnot(\"value of class(madrid_plot$facet)[1] is not correct\"= setequal(digest(paste(toString(tolower(class(madrid_plot$facet)[1])), \"883f8\")), \"20bf32141bf59a29c5d9901d3b7c3999\"))\n",
    "stopifnot(\"letters in string value of class(madrid_plot$facet)[1] are correct but case is not correct\"= setequal(digest(paste(toString(class(madrid_plot$facet)[1]), \"883f8\")), \"7354e2b1cf8a20284432a75fe5ab470f\"))\n",
    "\n",
    "stopifnot(\"type of as.character(rlang::get_expr(madrid_plot$facet$params$cols)) is not character\"= setequal(digest(paste(toString(class(as.character(rlang::get_expr(madrid_plot$facet$params$cols)))), \"883f9\")), \"c725733c57276438b5ef6996c0fd404d\"))\n",
    "stopifnot(\"length of as.character(rlang::get_expr(madrid_plot$facet$params$cols)) is not correct\"= setequal(digest(paste(toString(length(as.character(rlang::get_expr(madrid_plot$facet$params$cols)))), \"883f9\")), \"82cc2910f71608743b1cf81017b8b896\"))\n",
    "stopifnot(\"value of as.character(rlang::get_expr(madrid_plot$facet$params$cols)) is not correct\"= setequal(digest(paste(toString(tolower(as.character(rlang::get_expr(madrid_plot$facet$params$cols)))), \"883f9\")), \"dd866e9972c2fe99568a6d0e08f694b9\"))\n",
    "stopifnot(\"letters in string value of as.character(rlang::get_expr(madrid_plot$facet$params$cols)) are correct but case is not correct\"= setequal(digest(paste(toString(as.character(rlang::get_expr(madrid_plot$facet$params$cols))), \"883f9\")), \"dd866e9972c2fe99568a6d0e08f694b9\"))\n",
    "\n",
    "print('Success!')"
   ]
  },
  {
   "cell_type": "markdown",
   "metadata": {
    "deletable": false,
    "editable": false,
    "nbgrader": {
     "cell_type": "markdown",
     "checksum": "2c507e63b535f835c718d6b08e5fb61c",
     "grade": false,
     "grade_id": "cell-f8e81164975da6e9",
     "locked": true,
     "schema_version": 3,
     "solution": false
    }
   },
   "source": [
    "**Question 3.6**\n",
    "<br> {points: 1}\n",
    "\n",
    "Now we want to see which of the pollutants has decreased the most. Therefore, we must repeat the same thing that we did in the questions above but for every pollutant (using the original data set)! This is where `purrr`'s `map*` functions can be really helpful! \n",
    "\n",
    "First we will look at Madrid pollution in 2001 (filter for this year). Next we have to select the columns that should be excluded (such as the date). Lastly, use the `map_dfr()` function to create max values for all columns.\n",
    "\n",
    "Fill in the `...` in the cell below. Copy and paste your finished answer and replace the `fail()`.\n",
    "\n",
    "*Assign your answer to an object called `pollution_2001`.*"
   ]
  },
  {
   "cell_type": "code",
   "execution_count": null,
   "metadata": {
    "deletable": false,
    "nbgrader": {
     "cell_type": "code",
     "checksum": "227820b94272eb216a5bf5c57f717695",
     "grade": false,
     "grade_id": "cell-be1574acc60b53e9",
     "locked": false,
     "schema_version": 3,
     "solution": true
    }
   },
   "outputs": [],
   "source": [
    "# ... <- madrid |>\n",
    "#     ...(year == 2001) |>\n",
    "#     select(-..., -year, -mnth) |>\n",
    "#     map_dfr(..., na.rm  = TRUE)\n",
    "\n",
    "# your code here\n",
    "fail() # No Answer - remove if you provide an answer\n",
    "pollution_2001"
   ]
  },
  {
   "cell_type": "code",
   "execution_count": null,
   "metadata": {
    "deletable": false,
    "editable": false,
    "nbgrader": {
     "cell_type": "code",
     "checksum": "7873658adab411d5b58aa4e959df370a",
     "grade": true,
     "grade_id": "cell-23ecb8f3102f3435",
     "locked": true,
     "points": 1,
     "schema_version": 3,
     "solution": false
    }
   },
   "outputs": [],
   "source": [
    "library(digest)\n",
    "stopifnot(\"pollution_2001 should be a data frame\"= setequal(digest(paste(toString('data.frame' %in% class(pollution_2001)), \"a0d65\")), \"8c7b3ad4465120adad0d07d26a67bb33\"))\n",
    "stopifnot(\"dimensions of pollution_2001 are not correct\"= setequal(digest(paste(toString(dim(pollution_2001)), \"a0d65\")), \"b9de569cf68ea12661dd9a33b2452e39\"))\n",
    "stopifnot(\"column names of pollution_2001 are not correct\"= setequal(digest(paste(toString(sort(colnames(pollution_2001))), \"a0d65\")), \"48a287b116f8f4862733de30a6c3224a\"))\n",
    "stopifnot(\"types of columns in pollution_2001 are not correct\"= setequal(digest(paste(toString(sort(unlist(sapply(pollution_2001, class)))), \"a0d65\")), \"421ce48ea7eb9054213ae6e4950cb271\"))\n",
    "stopifnot(\"values in one or more numerical columns in pollution_2001 are not correct\"= setequal(digest(paste(toString(if (any(sapply(pollution_2001, is.numeric))) sort(round(sapply(pollution_2001[, sapply(pollution_2001, is.numeric)], sum, na.rm = TRUE), 2)) else 0), \"a0d65\")), \"4b6c356965014142832d66d5d4ffa65a\"))\n",
    "stopifnot(\"values in one or more character columns in pollution_2001 are not correct\"= setequal(digest(paste(toString(if (any(sapply(pollution_2001, is.character))) sum(sapply(pollution_2001[sapply(pollution_2001, is.character)], function(x) length(unique(x)))) else 0), \"a0d65\")), \"8c378565ebf1c23f3b260e7c5479f54e\"))\n",
    "stopifnot(\"values in one or more factor columns in pollution_2001 are not correct\"= setequal(digest(paste(toString(if (any(sapply(pollution_2001, is.factor))) sum(sapply(pollution_2001[, sapply(pollution_2001, is.factor)], function(col) length(unique(col)))) else 0), \"a0d65\")), \"8c378565ebf1c23f3b260e7c5479f54e\"))\n",
    "\n",
    "print('Success!')"
   ]
  },
  {
   "cell_type": "markdown",
   "metadata": {
    "deletable": false,
    "editable": false,
    "nbgrader": {
     "cell_type": "markdown",
     "checksum": "4e7a96c4f21bfc5fb9e81ae4c20ade55",
     "grade": false,
     "grade_id": "cell-e39870b13e1cfdbc",
     "locked": true,
     "schema_version": 3,
     "solution": false
    }
   },
   "source": [
    "**Question 3.7**\n",
    "<br> {points: 1}\n",
    "\n",
    "Now repeat what you did for Question 3.6, but filter for 2006 instead. \n",
    "\n",
    "*Assign your answer to an object called `pollution_2006`.*"
   ]
  },
  {
   "cell_type": "code",
   "execution_count": null,
   "metadata": {
    "deletable": false,
    "nbgrader": {
     "cell_type": "code",
     "checksum": "7890c496897278378c4cd9f166aba4b5",
     "grade": false,
     "grade_id": "cell-f32f902d017d6f0f",
     "locked": false,
     "schema_version": 3,
     "solution": true
    }
   },
   "outputs": [],
   "source": [
    "# your code here\n",
    "fail() # No Answer - remove if you provide an answer\n",
    "pollution_2006"
   ]
  },
  {
   "cell_type": "code",
   "execution_count": null,
   "metadata": {
    "deletable": false,
    "editable": false,
    "nbgrader": {
     "cell_type": "code",
     "checksum": "bd0f8690aadc57c42e1fc1c82a83ad14",
     "grade": true,
     "grade_id": "cell-df023e23794302c6",
     "locked": true,
     "points": 1,
     "schema_version": 3,
     "solution": false
    }
   },
   "outputs": [],
   "source": [
    "library(digest)\n",
    "stopifnot(\"pollution_2006 should be a data frame\"= setequal(digest(paste(toString('data.frame' %in% class(pollution_2006)), \"3abe1\")), \"1d213dba682a42049363da8c1af19229\"))\n",
    "stopifnot(\"dimensions of pollution_2006 are not correct\"= setequal(digest(paste(toString(dim(pollution_2006)), \"3abe1\")), \"c947ab3873bbd0627b6d6f3ecf6ad79e\"))\n",
    "stopifnot(\"column names of pollution_2006 are not correct\"= setequal(digest(paste(toString(sort(colnames(pollution_2006))), \"3abe1\")), \"d20731c55ba38a4e36f9ab02e36e6a6f\"))\n",
    "stopifnot(\"types of columns in pollution_2006 are not correct\"= setequal(digest(paste(toString(sort(unlist(sapply(pollution_2006, class)))), \"3abe1\")), \"ad745598e60b63ad4ed675e4003c888a\"))\n",
    "stopifnot(\"values in one or more numerical columns in pollution_2006 are not correct\"= setequal(digest(paste(toString(if (any(sapply(pollution_2006, is.numeric))) sort(round(sapply(pollution_2006[, sapply(pollution_2006, is.numeric)], sum, na.rm = TRUE), 2)) else 0), \"3abe1\")), \"66723a0f10f1eb54e170612927aabb36\"))\n",
    "stopifnot(\"values in one or more character columns in pollution_2006 are not correct\"= setequal(digest(paste(toString(if (any(sapply(pollution_2006, is.character))) sum(sapply(pollution_2006[sapply(pollution_2006, is.character)], function(x) length(unique(x)))) else 0), \"3abe1\")), \"91e455c0932bf066654afc6da4165407\"))\n",
    "stopifnot(\"values in one or more factor columns in pollution_2006 are not correct\"= setequal(digest(paste(toString(if (any(sapply(pollution_2006, is.factor))) sum(sapply(pollution_2006[, sapply(pollution_2006, is.factor)], function(col) length(unique(col)))) else 0), \"3abe1\")), \"91e455c0932bf066654afc6da4165407\"))\n",
    "\n",
    "print('Success!')"
   ]
  },
  {
   "cell_type": "markdown",
   "metadata": {
    "deletable": false,
    "editable": false,
    "nbgrader": {
     "cell_type": "markdown",
     "checksum": "265298ababb03aa0e03006df13fbafed",
     "grade": false,
     "grade_id": "cell-a16e6e9379986fdd",
     "locked": true,
     "schema_version": 3,
     "solution": false
    }
   },
   "source": [
    "**Question 3.8** \n",
    "<br> {points: 1}\n",
    "\n",
    "Which pollutant decreased by the greatest magnitude between 2001 and 2006? Given that your the two objects you just created, `pollution_2001` and `pollution_2006` are data frames with the same columns you should be able to subtract the two objects to find which pollutant decreased by the greatest magnitude between the two years. \n",
    "\n",
    "*Assign your answer to an object called `answer3.8`. Make sure to write the answer exactly as it is given in the data set.* Example: \n",
    "\n",
    "```\n",
    "answer3.8 <- \"BEN\"\n",
    "```"
   ]
  },
  {
   "cell_type": "code",
   "execution_count": null,
   "metadata": {
    "deletable": false,
    "nbgrader": {
     "cell_type": "code",
     "checksum": "f988bed96177149121b3142818b78cc7",
     "grade": false,
     "grade_id": "cell-37d1d8a36a3010c8",
     "locked": false,
     "schema_version": 3,
     "solution": true
    }
   },
   "outputs": [],
   "source": [
    "# Replace the fail() with your answer. \n",
    "\n",
    "# your code here\n",
    "fail() # No Answer - remove if you provide an answer"
   ]
  },
  {
   "cell_type": "code",
   "execution_count": null,
   "metadata": {
    "deletable": false,
    "editable": false,
    "nbgrader": {
     "cell_type": "code",
     "checksum": "5d2ea27ffe38305a4a677d14527c52e6",
     "grade": true,
     "grade_id": "cell-5ed11e7cbe1ac843",
     "locked": true,
     "points": 1,
     "schema_version": 3,
     "solution": false
    }
   },
   "outputs": [],
   "source": [
    "library(digest)\n",
    "stopifnot(\"type of answer3.8 is not character\"= setequal(digest(paste(toString(class(answer3.8)), \"8a001\")), \"1025546ae79122d0e55189a92e4a2c6c\"))\n",
    "stopifnot(\"length of answer3.8 is not correct\"= setequal(digest(paste(toString(length(answer3.8)), \"8a001\")), \"0e4754d8a2e7db5e5493656589b62881\"))\n",
    "stopifnot(\"value of answer3.8 is not correct\"= setequal(digest(paste(toString(tolower(answer3.8)), \"8a001\")), \"2466181f05cbe2c2ac3f22b7f894f281\"))\n",
    "stopifnot(\"letters in string value of answer3.8 are correct but case is not correct\"= setequal(digest(paste(toString(answer3.8), \"8a001\")), \"226da6915272752fbc3124f7594fb30e\"))\n",
    "\n",
    "print('Success!')"
   ]
  },
  {
   "cell_type": "markdown",
   "metadata": {
    "deletable": false,
    "editable": false,
    "nbgrader": {
     "cell_type": "markdown",
     "checksum": "e0977947c8e05625898097c1f754b8a9",
     "grade": false,
     "grade_id": "cell-39c7d54ce32a3cf3",
     "locked": true,
     "schema_version": 3,
     "solution": false
    }
   },
   "source": [
    "**Question 3.9**\n",
    "<br> {points: 1}\n",
    "\n",
    "Given that there were only 14 columns in the data frame above, you could use your eyes to pick out which pollutant decreased by the greatest magnitude between 2001 and 2006. But what would you do if you had 100 columns? Or 1000 columns? It would take A LONG TIME for your human eyeballs to find the biggest difference. Maybe you could use the min funcion:"
   ]
  },
  {
   "cell_type": "code",
   "execution_count": null,
   "metadata": {
    "deletable": false,
    "editable": false,
    "nbgrader": {
     "cell_type": "code",
     "checksum": "d3c50bcb4f2ec48ecc00289a8195e2ba",
     "grade": false,
     "grade_id": "cell-3e5f51fc465018c3",
     "locked": true,
     "schema_version": 3,
     "solution": false,
     "task": false
    }
   },
   "outputs": [],
   "source": [
    "# run this cell\n",
    "pollution_2006 - pollution_2001\n",
    "min(pollution_2006 - pollution_2001)"
   ]
  },
  {
   "cell_type": "markdown",
   "metadata": {
    "deletable": false,
    "editable": false,
    "nbgrader": {
     "cell_type": "markdown",
     "checksum": "ed0e9881b9f8fb72cbaace4a1908a946",
     "grade": false,
     "grade_id": "cell-6281bc171c2d9074",
     "locked": true,
     "schema_version": 3,
     "solution": false,
     "task": false
    }
   },
   "source": [
    "This is a step in the right direction, but you get the value and not the column name... What are we to do? Tidy our data! Our data is not in tidy format, and so it's difficult to access the values for the variable pollutant because they are stuck as column headers. Let's use `pivot_longer` to tidy our data and make it look like this:\n",
    "\n",
    "| pollutant | value  |\n",
    "|-----------|--------|\n",
    "| BEN       | -33.04 |\n",
    "| CO        | -6.91  |\n",
    "| ...       | ...    |\n",
    "\n",
    "To answer this question, fill in the `...` in the cell below. Copy and paste your finished answer and replace the `fail()`.\n",
    "\n",
    "*Assign your answer to an object called `pollution_diff` and ensure it has the same column names as the table pictured above.*"
   ]
  },
  {
   "cell_type": "code",
   "execution_count": null,
   "metadata": {
    "deletable": false,
    "nbgrader": {
     "cell_type": "code",
     "checksum": "3dd4d3fbb05fd6310f9a0adc1782765a",
     "grade": false,
     "grade_id": "cell-96e5081abb9ab341",
     "locked": false,
     "schema_version": 3,
     "solution": true
    }
   },
   "outputs": [],
   "source": [
    "pollution_diff  <- pollution_2006 - pollution_2001\n",
    "#pollution_diff  <- ... |> \n",
    "#    pivot_longer(cols = everything(), \n",
    "#           names_to = ..., \n",
    "#           values_to = ...)\n",
    "\n",
    "# your code here\n",
    "fail() # No Answer - remove if you provide an answer\n",
    "pollution_diff"
   ]
  },
  {
   "cell_type": "code",
   "execution_count": null,
   "metadata": {
    "deletable": false,
    "editable": false,
    "nbgrader": {
     "cell_type": "code",
     "checksum": "72efcc4287c802524b4428aed679a3cd",
     "grade": true,
     "grade_id": "cell-434094b036007273",
     "locked": true,
     "points": 1,
     "schema_version": 3,
     "solution": false
    }
   },
   "outputs": [],
   "source": [
    "library(digest)\n",
    "stopifnot(\"pollution_diff should be a data frame\"= setequal(digest(paste(toString('data.frame' %in% class(pollution_diff)), \"4f361\")), \"f7e7cf86ee230b15c82e3f052f9dccde\"))\n",
    "stopifnot(\"dimensions of pollution_diff are not correct\"= setequal(digest(paste(toString(dim(pollution_diff)), \"4f361\")), \"cea49e45b9f80d6bf2814dcecd839305\"))\n",
    "stopifnot(\"column names of pollution_diff are not correct\"= setequal(digest(paste(toString(sort(colnames(pollution_diff))), \"4f361\")), \"34e89f3f61b10fd01cc9c123ef8b6eb8\"))\n",
    "stopifnot(\"types of columns in pollution_diff are not correct\"= setequal(digest(paste(toString(sort(unlist(sapply(pollution_diff, class)))), \"4f361\")), \"4f8d4bac04995fb7563082439479e471\"))\n",
    "stopifnot(\"values in one or more numerical columns in pollution_diff are not correct\"= setequal(digest(paste(toString(if (any(sapply(pollution_diff, is.numeric))) sort(round(sapply(pollution_diff[, sapply(pollution_diff, is.numeric)], sum, na.rm = TRUE), 2)) else 0), \"4f361\")), \"4743aa9ca278a519e43e1e0ac2013522\"))\n",
    "stopifnot(\"values in one or more character columns in pollution_diff are not correct\"= setequal(digest(paste(toString(if (any(sapply(pollution_diff, is.character))) sum(sapply(pollution_diff[sapply(pollution_diff, is.character)], function(x) length(unique(x)))) else 0), \"4f361\")), \"3a8fc11a87eadc4078e8ff6de08ed705\"))\n",
    "stopifnot(\"values in one or more factor columns in pollution_diff are not correct\"= setequal(digest(paste(toString(if (any(sapply(pollution_diff, is.factor))) sum(sapply(pollution_diff[, sapply(pollution_diff, is.factor)], function(col) length(unique(col)))) else 0), \"4f361\")), \"bfde140a5b1d41b4d0e746ad957ca5a1\"))\n",
    "\n",
    "print('Success!')"
   ]
  },
  {
   "cell_type": "markdown",
   "metadata": {
    "deletable": false,
    "editable": false,
    "nbgrader": {
     "cell_type": "markdown",
     "checksum": "bf25b2aa5cf65fde40419967d7b5df8f",
     "grade": false,
     "grade_id": "cell-8933eb3ea15101f3",
     "locked": true,
     "schema_version": 3,
     "solution": false
    }
   },
   "source": [
    "**Question 3.10**\n",
    "<br> {points: 1}\n",
    "\n",
    "Now that you have tidy data, you can use `arrange` and `desc` to order the data in descending order. Each element of the `value` column corresponds to an amount of decrease in a pollutant; so the *largest decrease* in pollutant should be *most negative entry*, i.e., the last row in the resulting dataframe. Therefore, we can take the sorted dataframe and pipe it to `tail` (with the argument `n = 1`) to return only the last row of the data frame.\n",
    "\n",
    "(the function `tail` is just like `head`, except it returns the last rows of the dataframe instead of the first rows.)\n",
    "\n",
    "To answer this question, fill in the `...` in the cell below. Copy and paste your finished answer and replace the `fail()`.\n",
    "\n",
    "*Assign your answer to an object called `max_pollution_diff`.*"
   ]
  },
  {
   "cell_type": "code",
   "execution_count": null,
   "metadata": {
    "deletable": false,
    "nbgrader": {
     "cell_type": "code",
     "checksum": "d5565a68ebb8ed926c3255df69ab8c26",
     "grade": false,
     "grade_id": "cell-b25d71fbf02fa70e",
     "locked": false,
     "schema_version": 3,
     "solution": true
    }
   },
   "outputs": [],
   "source": [
    "#... <- ... |> arrange(desc(...)) |> \n",
    "#    tail(n = 1)\n",
    "\n",
    "# your code here\n",
    "fail() # No Answer - remove if you provide an answer\n",
    "max_pollution_diff"
   ]
  },
  {
   "cell_type": "code",
   "execution_count": null,
   "metadata": {
    "deletable": false,
    "editable": false,
    "nbgrader": {
     "cell_type": "code",
     "checksum": "66ed28ca27ce87f4b28e314d528413a7",
     "grade": true,
     "grade_id": "cell-f9cfd97235c900d5",
     "locked": true,
     "points": 1,
     "schema_version": 3,
     "solution": false
    }
   },
   "outputs": [],
   "source": [
    "library(digest)\n",
    "stopifnot(\"max_pollution_diff should be a data frame\"= setequal(digest(paste(toString('data.frame' %in% class(max_pollution_diff)), \"887ff\")), \"d7e0c002c3ea5a40bbe0f12b3bf20efb\"))\n",
    "stopifnot(\"dimensions of max_pollution_diff are not correct\"= setequal(digest(paste(toString(dim(max_pollution_diff)), \"887ff\")), \"478b8816c29d0f150ef651ba358194f8\"))\n",
    "stopifnot(\"column names of max_pollution_diff are not correct\"= setequal(digest(paste(toString(sort(colnames(max_pollution_diff))), \"887ff\")), \"f80d140400972faec46b52d48417a78f\"))\n",
    "stopifnot(\"types of columns in max_pollution_diff are not correct\"= setequal(digest(paste(toString(sort(unlist(sapply(max_pollution_diff, class)))), \"887ff\")), \"6b15ac49ead826c24915e06b0a617b4b\"))\n",
    "stopifnot(\"values in one or more numerical columns in max_pollution_diff are not correct\"= setequal(digest(paste(toString(if (any(sapply(max_pollution_diff, is.numeric))) sort(round(sapply(max_pollution_diff[, sapply(max_pollution_diff, is.numeric)], sum, na.rm = TRUE), 2)) else 0), \"887ff\")), \"22ac2b16aa3fc92d3ad3ce547625a59f\"))\n",
    "stopifnot(\"values in one or more character columns in max_pollution_diff are not correct\"= setequal(digest(paste(toString(if (any(sapply(max_pollution_diff, is.character))) sum(sapply(max_pollution_diff[sapply(max_pollution_diff, is.character)], function(x) length(unique(x)))) else 0), \"887ff\")), \"8f0aeb96e0a15395009c014a1dbf4ffc\"))\n",
    "stopifnot(\"values in one or more factor columns in max_pollution_diff are not correct\"= setequal(digest(paste(toString(if (any(sapply(max_pollution_diff, is.factor))) sum(sapply(max_pollution_diff[, sapply(max_pollution_diff, is.factor)], function(col) length(unique(col)))) else 0), \"887ff\")), \"189259674f42b618febcba94793d82d4\"))\n",
    "\n",
    "print('Success!')"
   ]
  },
  {
   "cell_type": "markdown",
   "metadata": {
    "deletable": false,
    "editable": false,
    "nbgrader": {
     "cell_type": "markdown",
     "checksum": "3a90443569aa389278a39db2c8f5df4a",
     "grade": false,
     "grade_id": "cell-cc19d9a2d3663e09",
     "locked": true,
     "schema_version": 3,
     "solution": false,
     "task": false
    }
   },
   "source": [
    "At the end of this data wrangling worksheet, we'll leave you with a couple quotes to ponder:\n",
    "\n",
    "> “Happy families are all alike; every unhappy family is unhappy in its own way.” –– Leo Tolstoy\n",
    "\n",
    "> “Tidy datasets are all alike, but every messy dataset is messy in its own way.” –– Hadley Wickham\n",
    "\n",
    "*source: [Tidy data chapter](https://r4ds.had.co.nz/tidy-data.html) from R for Data Science by Garrett Grolemund & Hadley Wickham*"
   ]
  },
  {
   "cell_type": "code",
   "execution_count": null,
   "metadata": {
    "deletable": false,
    "editable": false,
    "nbgrader": {
     "cell_type": "code",
     "checksum": "410e38bd9f145a89ad826cdcea776d45",
     "grade": false,
     "grade_id": "cell-b4e61ca9bc9efa93",
     "locked": true,
     "schema_version": 3,
     "solution": false,
     "task": false
    },
    "slideshow": {
     "slide_type": "slide"
    }
   },
   "outputs": [],
   "source": [
    "source(\"cleanup.R\")"
   ]
  }
 ],
 "metadata": {
  "kernelspec": {
   "display_name": "R",
   "language": "R",
   "name": "ir"
  },
  "language_info": {
   "codemirror_mode": "r",
   "file_extension": ".r",
   "mimetype": "text/x-r-source",
   "name": "R",
   "pygments_lexer": "r",
   "version": "4.3.3"
  }
 },
 "nbformat": 4,
 "nbformat_minor": 4
}
