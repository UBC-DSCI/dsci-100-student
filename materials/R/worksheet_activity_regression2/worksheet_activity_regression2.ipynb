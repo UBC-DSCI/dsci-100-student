{
 "cells": [
  {
   "cell_type": "markdown",
   "metadata": {},
   "source": [
    "## Class activity:\n",
    "\n",
    "Which of the following problems could be solved using a regression approach? \n",
    "\n",
    "A) We are interested in predicting CEO salary for new CEO's. We collect a set of data on a number of firms and record profit, number of employees, industry and CEO salary.\n",
    "\n",
    "B) Whether a new patient will have a heart attack in the next 5 years based on answers to a survey about their physical health and attributes.\n",
    "\n",
    "C) A car dealership is interested in predicting its net sales based on money spent on Google and Facebook adds.\n",
    "\n",
    "D) The resting heart rate of a new patient based on answers to a survey about their physical health and attributes."
   ]
  }
 ],
 "metadata": {
  "kernelspec": {
   "display_name": "R",
   "language": "R",
   "name": "ir"
  },
  "language_info": {
   "codemirror_mode": "r",
   "file_extension": ".r",
   "mimetype": "text/x-r-source",
   "name": "R",
   "pygments_lexer": "r",
   "version": "4.1.3"
  }
 },
 "nbformat": 4,
 "nbformat_minor": 4
}
