{
 "cells": [
  {
   "cell_type": "markdown",
   "metadata": {
    "deletable": false,
    "editable": false,
    "nbgrader": {
     "cell_type": "markdown",
     "checksum": "861be707bc25f72ba98b31bdbf921bc7",
     "grade": false,
     "grade_id": "cell-f02ea959d4ec286a",
     "locked": true,
     "schema_version": 3,
     "solution": false,
     "task": false
    }
   },
   "source": [
    "# Tutorial: Classification I: training & predicting\n",
    "\n",
    "This worksheet covers the [Classification I: training & predicting](https://datasciencebook.ca/classification1.html) chapter of the online textbook, which also lists the learning objectives for this worksheet. You should read the textbook chapter before attempting this worksheet. "
   ]
  },
  {
   "cell_type": "code",
   "execution_count": null,
   "metadata": {
    "deletable": false,
    "editable": false,
    "nbgrader": {
     "cell_type": "code",
     "checksum": "8e4ec18f331f3345b840fcdcdb6baa53",
     "grade": false,
     "grade_id": "cell-77dbb6c4a3f6c87c",
     "locked": true,
     "schema_version": 3,
     "solution": false,
     "task": false
    }
   },
   "outputs": [],
   "source": [
    "### Run this cell before continuing. \n",
    "library(tidyverse)\n",
    "library(repr)\n",
    "library(tidymodels)\n",
    "options(repr.matrix.max.rows = 6)\n",
    "source(\"cleanup.R\") "
   ]
  },
  {
   "cell_type": "markdown",
   "metadata": {
    "deletable": false,
    "editable": false,
    "nbgrader": {
     "cell_type": "markdown",
     "checksum": "3f8b7fdd5d16bae2404ba8226ac9e7d2",
     "grade": false,
     "grade_id": "cell-0fb0bdb9af0312bf",
     "locked": true,
     "schema_version": 3,
     "solution": false
    }
   },
   "source": [
    "**Question 0.1** Multiple Choice: \n",
    "<br> {points: 1}\n",
    "\n",
    "Before applying k-nearest neighbour to a classification task, we need to scale the data. What is the purpose of this step?\n",
    "\n",
    "A. To help speed up the knn algorithm. \n",
    "\n",
    "B. To convert all data observations to numeric values. \n",
    "\n",
    "C. To ensure all data observations will be on a comparable scale and contribute equal shares to the calculation of the distance between points.\n",
    "\n",
    "D. None of the above. \n",
    "\n",
    "*Assign your answer to an object called `answer0.1`. Make sure the correct answer is an uppercase letter. Surround your answer with quotation marks (e.g. `\"F\"`).*\n",
    "\n",
    "*Note: we typically **standardize** (i.e., scale **and** center) the data before doing classification. For the K-nearest neighbour algorithm specifically, centering has no effect. But it doesn't hurt, and can help with other predictive data analyses, so we will do it below.*"
   ]
  },
  {
   "cell_type": "code",
   "execution_count": null,
   "metadata": {
    "deletable": false,
    "nbgrader": {
     "cell_type": "code",
     "checksum": "be7ad738e68b30000a8fda6aae13a7a8",
     "grade": false,
     "grade_id": "cell-a501b73cef660bd5",
     "locked": false,
     "schema_version": 3,
     "solution": true
    }
   },
   "outputs": [],
   "source": [
    "# Replace the fail() with your answer. \n",
    "\n",
    "# your code here\n",
    "fail() # No Answer - remove if you provide an answer"
   ]
  },
  {
   "cell_type": "code",
   "execution_count": null,
   "metadata": {
    "deletable": false,
    "editable": false,
    "nbgrader": {
     "cell_type": "code",
     "checksum": "d56044fdb4ad5b66451f0a07f3aab194",
     "grade": true,
     "grade_id": "cell-2c64255ed0923c6b",
     "locked": true,
     "points": 1,
     "schema_version": 3,
     "solution": false
    }
   },
   "outputs": [],
   "source": [
    "library(digest)\n",
    "stopifnot(\"type of answer0.1 is not character\"= setequal(digest(paste(toString(class(answer0.1)), \"d61f1\")), \"f94d540efe5be545d1314ed7fc4cef50\"))\n",
    "stopifnot(\"length of answer0.1 is not correct\"= setequal(digest(paste(toString(length(answer0.1)), \"d61f1\")), \"ae230260b0d96065a2fa62385253b54f\"))\n",
    "stopifnot(\"value of answer0.1 is not correct\"= setequal(digest(paste(toString(tolower(answer0.1)), \"d61f1\")), \"6c38fdd008504ba826aad69718a6df26\"))\n",
    "stopifnot(\"letters in string value of answer0.1 are correct but case is not correct\"= setequal(digest(paste(toString(answer0.1), \"d61f1\")), \"b7d893c6d594e358e4eb8b1d6dcb0a91\"))\n",
    "\n",
    "print('Success!')"
   ]
  },
  {
   "cell_type": "markdown",
   "metadata": {
    "deletable": false,
    "editable": false,
    "nbgrader": {
     "cell_type": "markdown",
     "checksum": "80137547c2ee9e8f30d65a6efae9a51b",
     "grade": false,
     "grade_id": "cell-fc56755477cbb261",
     "locked": true,
     "schema_version": 3,
     "solution": false
    }
   },
   "source": [
    "## 1. Fruit Data Example \n",
    "\n",
    "In the agricultural industry, cleaning, sorting, grading, and packaging food products are all necessary tasks in the post-harvest process. Products are classified based on appearance, size and shape, attributes which helps determine the quality of the food. Sorting can be done by humans, but it is tedious and time consuming. Automatic sorting could help save time and money. Images of the food products are captured and analysed to determine visual characteristics. \n",
    "\n",
    "The [dataset](https://www.kaggle.com/mjamilmoughal/k-nearest-neighbor-classifier-to-predict-fruits/notebook) contains observations of fruit described with four features 1) mass (in g) 2) width (in cm) 3) height (in cm) and 4) color score (on a scale from 0 - 1)."
   ]
  },
  {
   "cell_type": "markdown",
   "metadata": {
    "deletable": false,
    "editable": false,
    "nbgrader": {
     "cell_type": "markdown",
     "checksum": "6aa11521f34d572f7d8a37a69c1a500b",
     "grade": false,
     "grade_id": "cell-e7663a214654c3e5",
     "locked": true,
     "schema_version": 3,
     "solution": false,
     "task": false
    }
   },
   "source": [
    "**Question 1.0** \n",
    "<br> {points: 1}\n",
    "\n",
    "Load the file, `fruit_data.csv`, into your notebook. \n",
    "\n",
    "`mutate()` the `fruit_name` column such that it is a *factor* using the `as_factor()` function.\n",
    "\n",
    "*Assign your data to an object called `fruit_data`.*"
   ]
  },
  {
   "cell_type": "code",
   "execution_count": null,
   "metadata": {
    "deletable": false,
    "nbgrader": {
     "cell_type": "code",
     "checksum": "291a5acd86a975f08960c0b41a55dbb1",
     "grade": false,
     "grade_id": "cell-257bbc9d90d8b32a",
     "locked": false,
     "schema_version": 3,
     "solution": true
    }
   },
   "outputs": [],
   "source": [
    "# your code here\n",
    "fail() # No Answer - remove if you provide an answer"
   ]
  },
  {
   "cell_type": "code",
   "execution_count": null,
   "metadata": {
    "deletable": false,
    "editable": false,
    "nbgrader": {
     "cell_type": "code",
     "checksum": "9c4fbf8df8b85ccb753565db9e1dd4ad",
     "grade": true,
     "grade_id": "cell-71318577d0ae22b9",
     "locked": true,
     "points": 1,
     "schema_version": 3,
     "solution": false
    }
   },
   "outputs": [],
   "source": [
    "library(digest)\n",
    "stopifnot(\"fruit_data should be a data frame\"= setequal(digest(paste(toString('data.frame' %in% class(fruit_data)), \"6764d\")), \"f175532894bb9421209030becaeadcb2\"))\n",
    "stopifnot(\"dimensions of fruit_data are not correct\"= setequal(digest(paste(toString(dim(fruit_data)), \"6764d\")), \"fe1754c7fb3f3b81dc2837de63ebc404\"))\n",
    "stopifnot(\"column names of fruit_data are not correct\"= setequal(digest(paste(toString(sort(colnames(fruit_data))), \"6764d\")), \"83a8ab9d1385dbd239f8a661ab3cd20c\"))\n",
    "stopifnot(\"types of columns in fruit_data are not correct\"= setequal(digest(paste(toString(sort(unlist(sapply(fruit_data, class)))), \"6764d\")), \"72e73781ee2f973c18613d10eb11a15b\"))\n",
    "stopifnot(\"values in one or more numerical columns in fruit_data are not correct\"= setequal(digest(paste(toString(if (any(sapply(fruit_data, is.numeric))) sort(round(sapply(fruit_data[, sapply(fruit_data, is.numeric)], sum, na.rm = TRUE), 2)) else 0), \"6764d\")), \"ee4c9449a0b7b1f9268393ee12a27311\"))\n",
    "stopifnot(\"values in one or more character columns in fruit_data are not correct\"= setequal(digest(paste(toString(if (any(sapply(fruit_data, is.character))) sum(sapply(fruit_data[sapply(fruit_data, is.character)], function(x) length(unique(x)))) else 0), \"6764d\")), \"21be8009c291e4cb872b233a9f73bac4\"))\n",
    "stopifnot(\"values in one or more factor columns in fruit_data are not correct\"= setequal(digest(paste(toString(if (any(sapply(fruit_data, is.factor))) sum(sapply(fruit_data[, sapply(fruit_data, is.factor)], function(col) length(unique(col)))) else 0), \"6764d\")), \"8d8a9f99753534ac09b71968bff2e312\"))\n",
    "\n",
    "print('Success!')"
   ]
  },
  {
   "cell_type": "markdown",
   "metadata": {
    "deletable": false,
    "editable": false,
    "nbgrader": {
     "cell_type": "markdown",
     "checksum": "2a6599856974a1a6f8e21ee0061f9058",
     "grade": false,
     "grade_id": "cell-5c01c2cd0cc285f8",
     "locked": true,
     "schema_version": 3,
     "solution": false
    }
   },
   "source": [
    "Let's take a look at the first few observations in the fruit dataset. Run the cell below."
   ]
  },
  {
   "cell_type": "code",
   "execution_count": null,
   "metadata": {
    "deletable": false,
    "editable": false,
    "nbgrader": {
     "cell_type": "code",
     "checksum": "85ca3949e13a73fc12b7f105f7736b23",
     "grade": false,
     "grade_id": "cell-b6cb1a6b0890e9e9",
     "locked": true,
     "schema_version": 3,
     "solution": false
    }
   },
   "outputs": [],
   "source": [
    "# Run this cell. \n",
    "fruit_data"
   ]
  },
  {
   "cell_type": "markdown",
   "metadata": {
    "deletable": false,
    "editable": false,
    "nbgrader": {
     "cell_type": "markdown",
     "checksum": "6af246dc240562af81533b7e4d0e7732",
     "grade": false,
     "grade_id": "cell-0f7b03f7a3ac6dcd",
     "locked": true,
     "schema_version": 3,
     "solution": false
    }
   },
   "source": [
    "**Question 1.0.1** Multiple Choice:\n",
    "<br> {points: 1}\n",
    "\n",
    "**Which of the columns should we treat as categorical variables?**\n",
    "\n",
    "A. Fruit label, width, fruit subtype\n",
    "\n",
    "B. Fruit name, color score, height\n",
    "\n",
    "C. Fruit label, fruit subtype, fruit name\n",
    "\n",
    "D. Color score, mass, width \n",
    "\n",
    "*Assign your answer to an object called `answer1.0.1`. Make sure the correct answer is an uppercase letter. Remember to surround your answer with quotation marks (e.g. `\"E\"`).*"
   ]
  },
  {
   "cell_type": "code",
   "execution_count": null,
   "metadata": {
    "deletable": false,
    "nbgrader": {
     "cell_type": "code",
     "checksum": "dcbdabfd8d48d26db8242f4224892c3e",
     "grade": false,
     "grade_id": "cell-ebcca2f8fb4020ba",
     "locked": false,
     "schema_version": 3,
     "solution": true
    }
   },
   "outputs": [],
   "source": [
    "# Replace the fail() with your answer. \n",
    "\n",
    "# your code here\n",
    "fail() # No Answer - remove if you provide an answer"
   ]
  },
  {
   "cell_type": "code",
   "execution_count": null,
   "metadata": {
    "deletable": false,
    "editable": false,
    "nbgrader": {
     "cell_type": "code",
     "checksum": "88da76c2866ff8ebfc9003e200f43854",
     "grade": true,
     "grade_id": "cell-6e85a1cad95b4dd0",
     "locked": true,
     "points": 1,
     "schema_version": 3,
     "solution": false
    }
   },
   "outputs": [],
   "source": [
    "library(digest)\n",
    "stopifnot(\"type of answer1.0.1 is not character\"= setequal(digest(paste(toString(class(answer1.0.1)), \"3c2da\")), \"b47c76f4f1cb4e5fbff4a23185a46ccc\"))\n",
    "stopifnot(\"length of answer1.0.1 is not correct\"= setequal(digest(paste(toString(length(answer1.0.1)), \"3c2da\")), \"82fe67f7a4e5ce7e7925b0c0e7b46740\"))\n",
    "stopifnot(\"value of answer1.0.1 is not correct\"= setequal(digest(paste(toString(tolower(answer1.0.1)), \"3c2da\")), \"0b7234c113d259ec6ac8fc77a142c4d2\"))\n",
    "stopifnot(\"letters in string value of answer1.0.1 are correct but case is not correct\"= setequal(digest(paste(toString(answer1.0.1), \"3c2da\")), \"3fe5105ef7f249d26137ee36a4a7d8d1\"))\n",
    "\n",
    "print('Success!')"
   ]
  },
  {
   "cell_type": "markdown",
   "metadata": {
    "deletable": false,
    "editable": false,
    "nbgrader": {
     "cell_type": "markdown",
     "checksum": "2c4017ec3409dc1ca0c6970cca47c5a1",
     "grade": false,
     "grade_id": "cell-e5f28e3e335b44a8",
     "locked": true,
     "schema_version": 3,
     "solution": false
    }
   },
   "source": [
    "Run the cell below, and find the nearest neighbour based on mass and width to the first observation just by looking at the scatterplot (the first observation has been circled for you)."
   ]
  },
  {
   "cell_type": "code",
   "execution_count": null,
   "metadata": {
    "deletable": false,
    "editable": false,
    "nbgrader": {
     "cell_type": "code",
     "checksum": "66ace0b3fe500c244b36c6abc581e9a8",
     "grade": false,
     "grade_id": "cell-6ec139e3cbbfbda5",
     "locked": true,
     "schema_version": 3,
     "solution": false
    }
   },
   "outputs": [],
   "source": [
    "# Run this cell. \n",
    "options(repr.plot.width=10, repr.plot.height=7)\n",
    "point1 <- c(192, 8.4)\n",
    "point2 <- c(180, 8)\n",
    "point44 <- c(194, 7.2)\n",
    "\n",
    "fruit_data |>  \n",
    "    ggplot(aes(x=mass, \n",
    "               y= width, \n",
    "               colour = fruit_name)) +\n",
    "        labs(x = \"Mass (grams)\",\n",
    "             y = \"Width (cm)\",\n",
    "            colour = 'Name of the Fruit') +\n",
    "        geom_point(size = 2.5) +\n",
    "        annotate(\"path\", \n",
    "                 x=point1[1] + 5*cos(seq(0,2*pi,length.out=100)),\n",
    "                 y=point1[2] + 0.1*sin(seq(0,2*pi,length.out=100))) +\n",
    "        annotate(\"text\", x = 183, y =  8.5, label = \"1\", size = 8) + \n",
    "        theme(text = element_text(size = 20))"
   ]
  },
  {
   "cell_type": "markdown",
   "metadata": {
    "deletable": false,
    "editable": false,
    "nbgrader": {
     "cell_type": "markdown",
     "checksum": "ca851a562218cbe1b48b0e92abb12602",
     "grade": false,
     "grade_id": "cell-f547ed9293fd1e24",
     "locked": true,
     "schema_version": 3,
     "solution": false
    }
   },
   "source": [
    "**Question 1.1** Multiple Choice: \n",
    "<br> {points: 1}\n",
    "\n",
    "Based on the graph generated, what is the `fruit_name` of the closest data point to the one circled?\n",
    "\n",
    "A. apple\n",
    "\n",
    "B. lemon\n",
    "\n",
    "C. mandarin \n",
    "\n",
    "D. orange\n",
    "\n",
    "*Assign your answer to an object called `answer1.1`. Make sure the correct answer is an uppercase letter. Surround your answer with quotation marks (e.g. `\"F\"`).*"
   ]
  },
  {
   "cell_type": "code",
   "execution_count": null,
   "metadata": {
    "deletable": false,
    "nbgrader": {
     "cell_type": "code",
     "checksum": "85e6ee656db2524950d1c559895201d1",
     "grade": false,
     "grade_id": "cell-d400d1783f3c27d1",
     "locked": false,
     "schema_version": 3,
     "solution": true
    }
   },
   "outputs": [],
   "source": [
    "# Replace the fail() with your answer. \n",
    "\n",
    "# your code here\n",
    "fail() # No Answer - remove if you provide an answer"
   ]
  },
  {
   "cell_type": "code",
   "execution_count": null,
   "metadata": {
    "deletable": false,
    "editable": false,
    "nbgrader": {
     "cell_type": "code",
     "checksum": "0fbfeed793925c2133c1f0caf1f1a531",
     "grade": true,
     "grade_id": "cell-77e2fb5f0d68eadd",
     "locked": true,
     "points": 1,
     "schema_version": 3,
     "solution": false
    }
   },
   "outputs": [],
   "source": [
    "library(digest)\n",
    "stopifnot(\"type of answer1.1 is not character\"= setequal(digest(paste(toString(class(answer1.1)), \"ec118\")), \"e018a26824269560efa6a7d3a78d3b40\"))\n",
    "stopifnot(\"length of answer1.1 is not correct\"= setequal(digest(paste(toString(length(answer1.1)), \"ec118\")), \"c80a712371da11395e42dde4098a6031\"))\n",
    "stopifnot(\"value of answer1.1 is not correct\"= setequal(digest(paste(toString(tolower(answer1.1)), \"ec118\")), \"8bf8f319c1928cf610a2af9eb67b2d89\"))\n",
    "stopifnot(\"letters in string value of answer1.1 are correct but case is not correct\"= setequal(digest(paste(toString(answer1.1), \"ec118\")), \"b30b411f054d6f0fca2466b0bb5bd880\"))\n",
    "\n",
    "print('Success!')"
   ]
  },
  {
   "cell_type": "markdown",
   "metadata": {
    "deletable": false,
    "editable": false,
    "nbgrader": {
     "cell_type": "markdown",
     "checksum": "3b1f1485096a8ed39b1206366a94cf78",
     "grade": false,
     "grade_id": "cell-b75477de51f54fd0",
     "locked": true,
     "schema_version": 3,
     "solution": false
    }
   },
   "source": [
    "**Question 1.2**\n",
    "<br> {points: 1}\n",
    "\n",
    "Using mass and width, calculate the distance between the first observation and the second observation. \n",
    "\n",
    "We provide a scaffolding to get you started. \n",
    "\n",
    "*Assign your answer to an object called `fruit_dist_2`.*"
   ]
  },
  {
   "cell_type": "code",
   "execution_count": null,
   "metadata": {
    "deletable": false,
    "nbgrader": {
     "cell_type": "code",
     "checksum": "0b9b7a924af0be82b6030b3b845985db",
     "grade": false,
     "grade_id": "cell-9f9074c18131c083",
     "locked": false,
     "schema_version": 3,
     "solution": true
    }
   },
   "outputs": [],
   "source": [
    "# ... <- fruit_data |>\n",
    "#    slice(1, 2) |> # We use slice to get the first two rows of the fruit dataset\n",
    "#    select(mass, ...) |>\n",
    "#    dist()\n",
    "\n",
    "# your code here\n",
    "fail() # No Answer - remove if you provide an answer\n",
    "fruit_dist_2"
   ]
  },
  {
   "cell_type": "code",
   "execution_count": null,
   "metadata": {
    "deletable": false,
    "editable": false,
    "nbgrader": {
     "cell_type": "code",
     "checksum": "6201e853129b6ed7cadf994dad859508",
     "grade": true,
     "grade_id": "cell-482c6171cb7cc18e",
     "locked": true,
     "points": 1,
     "schema_version": 3,
     "solution": false
    }
   },
   "outputs": [],
   "source": [
    "library(digest)\n",
    "stopifnot(\"type of fruit_dist_2[1] is not numeric\"= setequal(digest(paste(toString(class(fruit_dist_2[1])), \"deafd\")), \"9ee66dd971961cb9e1eae2aed76b5c2f\"))\n",
    "stopifnot(\"value of fruit_dist_2[1] is not correct (rounded to 2 decimal places)\"= setequal(digest(paste(toString(round(fruit_dist_2[1], 2)), \"deafd\")), \"b8dea29e2c5fa0e1c210605c127b5348\"))\n",
    "stopifnot(\"length of fruit_dist_2[1] is not correct\"= setequal(digest(paste(toString(length(fruit_dist_2[1])), \"deafd\")), \"6f8b9d71d4e86390ee5f0c93753bc718\"))\n",
    "stopifnot(\"values of fruit_dist_2[1] are not correct\"= setequal(digest(paste(toString(sort(round(fruit_dist_2[1], 2))), \"deafd\")), \"b8dea29e2c5fa0e1c210605c127b5348\"))\n",
    "\n",
    "print('Success!')"
   ]
  },
  {
   "cell_type": "markdown",
   "metadata": {
    "deletable": false,
    "editable": false,
    "nbgrader": {
     "cell_type": "markdown",
     "checksum": "bf5f5b95a2fb4b37098012c295a256e9",
     "grade": false,
     "grade_id": "cell-9545195608452133",
     "locked": true,
     "schema_version": 3,
     "solution": false
    }
   },
   "source": [
    "**Question 1.3**\n",
    "<br> {points: 1}\n",
    "\n",
    "Calculate the distance between the first and the the 44th observation in the fruit dataset using the mass and width variables. \n",
    "\n",
    "*Assign your answer to an object called `fruit_dist_44`.*"
   ]
  },
  {
   "cell_type": "code",
   "execution_count": null,
   "metadata": {
    "deletable": false,
    "nbgrader": {
     "cell_type": "code",
     "checksum": "e2b80dfdcb2e66390853f23b9302caad",
     "grade": false,
     "grade_id": "cell-033f74d28e3cc01f",
     "locked": false,
     "schema_version": 3,
     "solution": true
    }
   },
   "outputs": [],
   "source": [
    "# your code here\n",
    "fail() # No Answer - remove if you provide an answer\n",
    "fruit_dist_44"
   ]
  },
  {
   "cell_type": "code",
   "execution_count": null,
   "metadata": {
    "deletable": false,
    "editable": false,
    "nbgrader": {
     "cell_type": "code",
     "checksum": "4c71c0bdab76d3ce32f765f17852e7f3",
     "grade": true,
     "grade_id": "cell-3c7393c1ea156920",
     "locked": true,
     "points": 1,
     "schema_version": 3,
     "solution": false
    }
   },
   "outputs": [],
   "source": [
    "library(digest)\n",
    "stopifnot(\"type of fruit_dist_44[1] is not numeric\"= setequal(digest(paste(toString(class(fruit_dist_44[1])), \"35807\")), \"28c2a99e7a16848406b583e7bac863ac\"))\n",
    "stopifnot(\"value of fruit_dist_44[1] is not correct (rounded to 2 decimal places)\"= setequal(digest(paste(toString(round(fruit_dist_44[1], 2)), \"35807\")), \"f61a6e4addbfb132f867fb134bfa390b\"))\n",
    "stopifnot(\"length of fruit_dist_44[1] is not correct\"= setequal(digest(paste(toString(length(fruit_dist_44[1])), \"35807\")), \"04f6e44080aac266a698a56ea41744fc\"))\n",
    "stopifnot(\"values of fruit_dist_44[1] are not correct\"= setequal(digest(paste(toString(sort(round(fruit_dist_44[1], 2))), \"35807\")), \"f61a6e4addbfb132f867fb134bfa390b\"))\n",
    "\n",
    "print('Success!')"
   ]
  },
  {
   "cell_type": "markdown",
   "metadata": {
    "deletable": false,
    "editable": false,
    "nbgrader": {
     "cell_type": "markdown",
     "checksum": "a4300e098edde9b3fd21ecbf665d79e1",
     "grade": false,
     "grade_id": "cell-ac12c3dcbae32920",
     "locked": true,
     "schema_version": 3,
     "solution": false,
     "task": false
    }
   },
   "source": [
    "Let's circle these three observations on the plot from earlier.\n"
   ]
  },
  {
   "cell_type": "code",
   "execution_count": null,
   "metadata": {
    "deletable": false,
    "editable": false,
    "nbgrader": {
     "cell_type": "code",
     "checksum": "0aafdcf104763abfbfff369fe69088a7",
     "grade": false,
     "grade_id": "cell-f11023e6386b3027",
     "locked": true,
     "schema_version": 3,
     "solution": false
    }
   },
   "outputs": [],
   "source": [
    "options(repr.plot.width = 10, repr.plot.height = 7)\n",
    "\n",
    "# Run this cell. \n",
    "point1 <- c(192, 8.4)\n",
    "point2 <- c(180, 8)\n",
    "point44 <- c(194, 7.2)\n",
    "\n",
    "fruit_data |>\n",
    "    ggplot(aes(x = mass, \n",
    "               y = width, \n",
    "               colour = fruit_name)) +\n",
    "        labs(x = \"Mass (grams)\",\n",
    "             y = \"Width (cm)\",\n",
    "            colour = 'Name of the Fruit') +\n",
    "        geom_point(size = 2.5) +\n",
    "        theme(text = element_text(size = 20)) +\n",
    "        annotate(\"path\", \n",
    "                 x=point1[1] + 5*cos(seq(0,2*pi,length.out=100)),\n",
    "                 y=point1[2] + 0.1*sin(seq(0,2*pi,length.out=100))) +\n",
    "        annotate(\"text\", x = 183, y =  8.5, label = \"1\", size = 8) +\n",
    "        annotate(\"path\",\n",
    "                 x=point2[1] + 5*cos(seq(0,2*pi,length.out=100)),\n",
    "                 y=point2[2] + 0.1*sin(seq(0,2*pi,length.out=100))) +\n",
    "        annotate(\"text\", x = 169, y =  8.1, label = \"2\", size = 8) +\n",
    "        annotate(\"path\",\n",
    "                 x=point44[1] + 5*cos(seq(0,2*pi,length.out=100)),\n",
    "                 y=point44[2]+0.1*sin(seq(0,2*pi,length.out=100))) +\n",
    "        annotate(\"text\", x = 204, y =  7.1, label = \"44\", size = 8) "
   ]
  },
  {
   "cell_type": "markdown",
   "metadata": {
    "deletable": false,
    "editable": false,
    "nbgrader": {
     "cell_type": "markdown",
     "checksum": "344a34e903ff5696d25b5e7b93373a98",
     "grade": false,
     "grade_id": "cell-e6f7e928ee6f578a",
     "locked": true,
     "schema_version": 3,
     "solution": false,
     "task": false
    }
   },
   "source": [
    "What do you notice about your answers from **Question 1.2 & 1.3** that you just calculated? Is it what you would expect given the scatter plot above? Why or why not? Discuss with your neighbour. \n",
    "\n",
    "*Hint: Look at where the observations are on the scatterplot in the cell above this question, and what might happen if we changed grams into kilograms to measure the mass?*\n"
   ]
  },
  {
   "cell_type": "markdown",
   "metadata": {
    "deletable": false,
    "editable": false,
    "nbgrader": {
     "cell_type": "markdown",
     "checksum": "4d1373cf7c1170b542963a127342055d",
     "grade": false,
     "grade_id": "cell-8a6b2cef00422867",
     "locked": true,
     "schema_version": 3,
     "solution": false,
     "task": false
    }
   },
   "source": [
    "**Question 1.4** Multiple Choice:\n",
    "<br> {points: 1}\n",
    "\n",
    "The distance between the first and second observation is 12.01 and the distance between the first and 44th observation is 2.33. By the formula, observation 1 and 44 are closer, however, if we look at the scatterplot the distance of the first observation to the second observation appears closer than to the 44th observation. \n",
    "\n",
    "Which of the following statements is correct?\n",
    "\n",
    "A. A difference of 12 g in mass between observation 1 and 2 is large compared to a difference of 1.2 cm in width between observation 1 and 44. Consequently, mass will drive the classification results, and width will have less of an effect. \n",
    "\n",
    "B. If we measured mass in kilograms, then we’d get different nearest neighbours.\n",
    "\n",
    "C. We should standardize the data so that all variables will be on a comparable scale. \n",
    "\n",
    "D. All of the above. \n",
    "\n",
    "*Assign your answer to an object called `answer1.4`. Make sure the correct answer is an uppercase letter. Surround your answer with quotation marks (e.g. `\"F\"`).*"
   ]
  },
  {
   "cell_type": "code",
   "execution_count": null,
   "metadata": {
    "deletable": false,
    "nbgrader": {
     "cell_type": "code",
     "checksum": "966f805e5da620038d6e02051e4f7b7c",
     "grade": false,
     "grade_id": "cell-f3e2ef9e64e39b31",
     "locked": false,
     "schema_version": 3,
     "solution": true,
     "task": false
    }
   },
   "outputs": [],
   "source": [
    "# Replace the fail() with your answer. \n",
    "\n",
    "# your code here\n",
    "fail() # No Answer - remove if you provide an answer"
   ]
  },
  {
   "cell_type": "code",
   "execution_count": null,
   "metadata": {
    "deletable": false,
    "editable": false,
    "nbgrader": {
     "cell_type": "code",
     "checksum": "ff3732c029ca72ecd3ef1b822acf57e4",
     "grade": true,
     "grade_id": "cell-3fc3cbcfc9af77d2",
     "locked": true,
     "points": 1,
     "schema_version": 3,
     "solution": false,
     "task": false
    }
   },
   "outputs": [],
   "source": [
    "library(digest)\n",
    "stopifnot(\"type of answer1.4 is not character\"= setequal(digest(paste(toString(class(answer1.4)), \"505dc\")), \"a7b2e369a8e216819f6293c05cf59bfc\"))\n",
    "stopifnot(\"length of answer1.4 is not correct\"= setequal(digest(paste(toString(length(answer1.4)), \"505dc\")), \"b2603ce5a8bb0ffe75b1722120ee0ab0\"))\n",
    "stopifnot(\"value of answer1.4 is not correct\"= setequal(digest(paste(toString(tolower(answer1.4)), \"505dc\")), \"0f575034c94b70bc98758ad6484a0c1e\"))\n",
    "stopifnot(\"letters in string value of answer1.4 are correct but case is not correct\"= setequal(digest(paste(toString(answer1.4), \"505dc\")), \"ba394fcaecde028cf11d8bf3d73e61e0\"))\n",
    "\n",
    "print('Success!')"
   ]
  },
  {
   "cell_type": "markdown",
   "metadata": {
    "deletable": false,
    "editable": false,
    "nbgrader": {
     "cell_type": "markdown",
     "checksum": "cc7738f46daa83246b7f335cd2de82b0",
     "grade": false,
     "grade_id": "cell-28a929022410e3d9",
     "locked": true,
     "schema_version": 3,
     "solution": false
    }
   },
   "source": [
    "**Question 1.5**\n",
    "<br> {points: 1}\n",
    "\n",
    "Let's create a `tidymodels` recipe to *standardize* (i.e., center and scale) all of the variables in the fruit dataset. Centering will make sure that every variable has an average of 0, and scaling will make sure that every variable has standard deviation of 1. We will use the `step_scale` and `step_center` preprocessing steps in the recipe. Then `bake` the recipe so that we can examine the output.\n",
    "\n",
    "Specify your recipe with class variable `fruit_name` and predictors `mass`, `width`, `height`, and `color_score`. \n",
    "\n",
    "Name the recipe `fruit_data_recipe`, and name the preprocessed data `fruit_data_scaled`."
   ]
  },
  {
   "cell_type": "code",
   "execution_count": null,
   "metadata": {
    "deletable": false,
    "nbgrader": {
     "cell_type": "code",
     "checksum": "1fbb306036e29e9c4f402e2e6ba36873",
     "grade": false,
     "grade_id": "cell-f5b23199250ffc04",
     "locked": false,
     "schema_version": 3,
     "solution": true
    }
   },
   "outputs": [],
   "source": [
    "# Set the seed. Don't remove this!\n",
    "set.seed(9999) \n",
    "\n",
    "#... <- ...(fruit_name ~ .... + .... + .... + ...., data = ....) |>\n",
    "#                        ....(all_predictors()) |>\n",
    "#                        ....(all_predictors())\n",
    "\n",
    "#... <- fruit_data_recipe |>  \n",
    "#                            ....() |> \n",
    "#                            ....(fruit_data)\n",
    "\n",
    "\n",
    "# your code here\n",
    "fail() # No Answer - remove if you provide an answer\n",
    "fruit_data_scaled"
   ]
  },
  {
   "cell_type": "code",
   "execution_count": null,
   "metadata": {
    "deletable": false,
    "editable": false,
    "nbgrader": {
     "cell_type": "code",
     "checksum": "c00e8f9da5e78d4be90d1d4f8cd0d1c6",
     "grade": true,
     "grade_id": "cell-d47d0853560ef00b",
     "locked": true,
     "points": 1,
     "schema_version": 3,
     "solution": false
    }
   },
   "outputs": [],
   "source": [
    "library(digest)\n",
    "stopifnot(\"fruit_data_recipe should be a recipe\"= setequal(digest(paste(toString('recipe' %in% class(fruit_data_recipe)), \"9bce6\")), \"5d82a247ddbab576493febde7018be2a\"))\n",
    "stopifnot(\"response variable of fruit_data_recipe is not correct\"= setequal(digest(paste(toString(sort(filter(fruit_data_recipe$var_info, role == 'outcome')$variable)), \"9bce6\")), \"c219dbca8bbe803676b318735df97471\"))\n",
    "stopifnot(\"predictor variable(s) of fruit_data_recipe are not correct\"= setequal(digest(paste(toString(sort(filter(fruit_data_recipe$var_info, role == 'predictor')$variable)), \"9bce6\")), \"ab9921e4e51f0a0392a6df8e7e9fe1b7\"))\n",
    "stopifnot(\"fruit_data_recipe does not contain the correct data, might need to be standardized\"= setequal(digest(paste(toString(round(sum(bake(prep(fruit_data_recipe), fruit_data_recipe$template) %>% select_if(is.numeric), na.rm = TRUE), 2)), \"9bce6\")), \"3fcab62bbf9763a1aa7a982ead684d6e\"))\n",
    "\n",
    "stopifnot(\"fruit_data_scaled should be a data frame\"= setequal(digest(paste(toString('data.frame' %in% class(fruit_data_scaled)), \"9bce7\")), \"e5a4930da601f01adcf1967974813330\"))\n",
    "stopifnot(\"dimensions of fruit_data_scaled are not correct\"= setequal(digest(paste(toString(dim(fruit_data_scaled)), \"9bce7\")), \"62491514c2edcc12b111560592364040\"))\n",
    "stopifnot(\"column names of fruit_data_scaled are not correct\"= setequal(digest(paste(toString(sort(colnames(fruit_data_scaled))), \"9bce7\")), \"40c1c6dff4ab2ae4644907d8695a578b\"))\n",
    "stopifnot(\"types of columns in fruit_data_scaled are not correct\"= setequal(digest(paste(toString(sort(unlist(sapply(fruit_data_scaled, class)))), \"9bce7\")), \"654a694251224e1d66db241a2fef982d\"))\n",
    "stopifnot(\"values in one or more numerical columns in fruit_data_scaled are not correct\"= setequal(digest(paste(toString(if (any(sapply(fruit_data_scaled, is.numeric))) sort(round(sapply(fruit_data_scaled[, sapply(fruit_data_scaled, is.numeric)], sum, na.rm = TRUE), 2)) else 0), \"9bce7\")), \"8e5c82489a1464131549da8c4fc26647\"))\n",
    "stopifnot(\"values in one or more character columns in fruit_data_scaled are not correct\"= setequal(digest(paste(toString(if (any(sapply(fruit_data_scaled, is.character))) sum(sapply(fruit_data_scaled[sapply(fruit_data_scaled, is.character)], function(x) length(unique(x)))) else 0), \"9bce7\")), \"e14335c0822091f08f541c2380dc2beb\"))\n",
    "stopifnot(\"values in one or more factor columns in fruit_data_scaled are not correct\"= setequal(digest(paste(toString(if (any(sapply(fruit_data_scaled, is.factor))) sum(sapply(fruit_data_scaled[, sapply(fruit_data_scaled, is.factor)], function(col) length(unique(col)))) else 0), \"9bce7\")), \"b39c769e7f2c1b1eaba8ac5a89f31568\"))\n",
    "\n",
    "print('Success!')"
   ]
  },
  {
   "cell_type": "markdown",
   "metadata": {
    "deletable": false,
    "editable": false,
    "nbgrader": {
     "cell_type": "markdown",
     "checksum": "9281822ddb9e6e2704a4a987286932f1",
     "grade": false,
     "grade_id": "cell-dceb095c855aeff4",
     "locked": true,
     "schema_version": 3,
     "solution": false
    }
   },
   "source": [
    "**Question 1.6**\n",
    "<br> {points: 1}\n",
    "\n",
    "Let's repeat **Question 1.2 and 1.3** with the scaled variables:\n",
    "\n",
    "- calculate the distance with the scaled mass and width variables between observations 1 and 2\n",
    "- calculate the distances with the scaled mass and width variables between observations 1 and 44 \n",
    "\n",
    "After you do this, think about how these distances compared to the distances you computed in **Question 1.2 and 1.3** for the same points.\n",
    "\n",
    "*Assign your answers to objects called `distance_2` and `distance_44` respectively.*"
   ]
  },
  {
   "cell_type": "code",
   "execution_count": null,
   "metadata": {
    "deletable": false,
    "nbgrader": {
     "cell_type": "code",
     "checksum": "d6c927d524dc3ab13dd4abeb5bf8c49a",
     "grade": false,
     "grade_id": "cell-e70ccce2b005a539",
     "locked": false,
     "schema_version": 3,
     "solution": true
    }
   },
   "outputs": [],
   "source": [
    "# your code here\n",
    "fail() # No Answer - remove if you provide an answer\n",
    "distance_2\n",
    "distance_44"
   ]
  },
  {
   "cell_type": "code",
   "execution_count": null,
   "metadata": {
    "deletable": false,
    "editable": false,
    "nbgrader": {
     "cell_type": "code",
     "checksum": "82c73889f9ca45e1b57e5b6bffa85359",
     "grade": true,
     "grade_id": "cell-7c33c6c2fb375ea4",
     "locked": true,
     "points": 1,
     "schema_version": 3,
     "solution": false
    }
   },
   "outputs": [],
   "source": [
    "library(digest)\n",
    "stopifnot(\"type of distance_2[1] is not numeric\"= setequal(digest(paste(toString(class(distance_2[1])), \"43ed9\")), \"34dd1c1a80b045d782ed62baadd6eec6\"))\n",
    "stopifnot(\"value of distance_2[1] is not correct (rounded to 2 decimal places)\"= setequal(digest(paste(toString(round(distance_2[1], 2)), \"43ed9\")), \"6710073eab5e5f72ba5aa99c7c283579\"))\n",
    "stopifnot(\"length of distance_2[1] is not correct\"= setequal(digest(paste(toString(length(distance_2[1])), \"43ed9\")), \"8755a22873f91e07a3fbee190fa3a06a\"))\n",
    "stopifnot(\"values of distance_2[1] are not correct\"= setequal(digest(paste(toString(sort(round(distance_2[1], 2))), \"43ed9\")), \"6710073eab5e5f72ba5aa99c7c283579\"))\n",
    "\n",
    "stopifnot(\"type of distance_44[1] is not numeric\"= setequal(digest(paste(toString(class(distance_44[1])), \"43eda\")), \"10688372c13c6c7154848a996387b01f\"))\n",
    "stopifnot(\"value of distance_44[1] is not correct (rounded to 2 decimal places)\"= setequal(digest(paste(toString(round(distance_44[1], 2)), \"43eda\")), \"debd034b3644cf8b7b069285c1231577\"))\n",
    "stopifnot(\"length of distance_44[1] is not correct\"= setequal(digest(paste(toString(length(distance_44[1])), \"43eda\")), \"9c1b1cbc2c825cc0a5f6425708757471\"))\n",
    "stopifnot(\"values of distance_44[1] are not correct\"= setequal(digest(paste(toString(sort(round(distance_44[1], 2))), \"43eda\")), \"debd034b3644cf8b7b069285c1231577\"))\n",
    "\n",
    "print('Success!')"
   ]
  },
  {
   "cell_type": "markdown",
   "metadata": {
    "deletable": false,
    "editable": false,
    "nbgrader": {
     "cell_type": "markdown",
     "checksum": "4b78631b3c21e273a1a7704605ded36a",
     "grade": false,
     "grade_id": "cell-309b3be84c7e4267",
     "locked": true,
     "schema_version": 3,
     "solution": false
    }
   },
   "source": [
    "**Question 1.7**\n",
    "<br> {points: 1}\n",
    "\n",
    "Make a scatterplot of scaled mass on the horizontal axis and scaled color score on the vertical axis. Color the points by fruit name. \n",
    "\n",
    "*Assign your plot to an object called `fruit_plot`. Make sure to do all the things to make an effective visualization.*"
   ]
  },
  {
   "cell_type": "code",
   "execution_count": null,
   "metadata": {
    "deletable": false,
    "nbgrader": {
     "cell_type": "code",
     "checksum": "192bd23e4b5054fb35ed61ddbaa39cdb",
     "grade": false,
     "grade_id": "cell-7aea4aced8566c09",
     "locked": false,
     "schema_version": 3,
     "solution": true
    }
   },
   "outputs": [],
   "source": [
    "# your code here\n",
    "fail() # No Answer - remove if you provide an answer\n",
    "fruit_plot"
   ]
  },
  {
   "cell_type": "code",
   "execution_count": null,
   "metadata": {
    "deletable": false,
    "editable": false,
    "nbgrader": {
     "cell_type": "code",
     "checksum": "9179b3800ec399046de7fe6d288b9bb9",
     "grade": true,
     "grade_id": "cell-330397b4b46fdd07",
     "locked": true,
     "points": 1,
     "schema_version": 3,
     "solution": false
    }
   },
   "outputs": [],
   "source": [
    "library(digest)\n",
    "stopifnot(\"type of plot is not correct (if you are using two types of geoms, try flipping the order of the geom objects!)\"= setequal(digest(paste(toString(sapply(seq_len(length(fruit_plot$layers)), function(i) {c(class(fruit_plot$layers[[i]]$geom))[1]})), \"60569\")), \"94ec2a4ac8e46afef12c7401f1e48079\"))\n",
    "stopifnot(\"variable x is not correct\"= setequal(digest(paste(toString(unlist(lapply(sapply(seq_len(length(fruit_plot$layers)), function(i) {rlang::get_expr(c(fruit_plot$layers[[i]]$mapping, fruit_plot$mapping)$x)}), as.character))), \"60569\")), \"04a9bb19408098165ae47c038da6df7e\"))\n",
    "stopifnot(\"variable y is not correct\"= setequal(digest(paste(toString(unlist(lapply(sapply(seq_len(length(fruit_plot$layers)), function(i) {rlang::get_expr(c(fruit_plot$layers[[i]]$mapping, fruit_plot$mapping)$y)}), as.character))), \"60569\")), \"30021d95e370a243ba03f04f532db79c\"))\n",
    "stopifnot(\"x-axis label is not descriptive, nicely formatted, or human readable\"= setequal(digest(paste(toString(rlang::get_expr(c(fruit_plot$layers[[1]]$mapping, fruit_plot$mapping)$x)!= fruit_plot$labels$x), \"60569\")), \"b56993311da6bef2f2d43a9d8b607927\"))\n",
    "stopifnot(\"y-axis label is not descriptive, nicely formatted, or human readable\"= setequal(digest(paste(toString(rlang::get_expr(c(fruit_plot$layers[[1]]$mapping, fruit_plot$mapping)$y)!= fruit_plot$labels$y), \"60569\")), \"b56993311da6bef2f2d43a9d8b607927\"))\n",
    "stopifnot(\"incorrect colour variable in fruit_plot, specify a correct one if required\"= setequal(digest(paste(toString(rlang::get_expr(c(fruit_plot$layers[[1]]$mapping, fruit_plot$mapping)$colour)), \"60569\")), \"58b688015cc8776f13c91ca153be74cf\"))\n",
    "stopifnot(\"incorrect shape variable in fruit_plot, specify a correct one if required\"= setequal(digest(paste(toString(rlang::get_expr(c(fruit_plot$layers[[1]]$mapping, fruit_plot$mapping)$shape)), \"60569\")), \"23865003f0a2648779d5ab229c052aca\"))\n",
    "stopifnot(\"the colour label in fruit_plot is not descriptive, nicely formatted, or human readable\"= setequal(digest(paste(toString(rlang::get_expr(c(fruit_plot$layers[[1]]$mapping, fruit_plot$mapping)$colour) != fruit_plot$labels$colour), \"60569\")), \"b56993311da6bef2f2d43a9d8b607927\"))\n",
    "stopifnot(\"the shape label in fruit_plot is not descriptive, nicely formatted, or human readable\"= setequal(digest(paste(toString(rlang::get_expr(c(fruit_plot$layers[[1]]$mapping, fruit_plot$mapping)$colour) != fruit_plot$labels$shape), \"60569\")), \"23865003f0a2648779d5ab229c052aca\"))\n",
    "stopifnot(\"fill variable in fruit_plot is not correct\"= setequal(digest(paste(toString(quo_name(fruit_plot$mapping$fill)), \"60569\")), \"351a6933e9d53892c5f62983d0a3d3ba\"))\n",
    "stopifnot(\"fill label in fruit_plot is not informative\"= setequal(digest(paste(toString((quo_name(fruit_plot$mapping$fill) != fruit_plot$labels$fill)), \"60569\")), \"23865003f0a2648779d5ab229c052aca\"))\n",
    "stopifnot(\"position argument in fruit_plot is not correct\"= setequal(digest(paste(toString(class(fruit_plot$layers[[1]]$position)[1]), \"60569\")), \"416bdb7085b3d869602fbf2d3a582658\"))\n",
    "\n",
    "stopifnot(\"fruit_plot$data should be a data frame\"= setequal(digest(paste(toString('data.frame' %in% class(fruit_plot$data)), \"6056a\")), \"fb6f6e6f202cf1324f609dd5709119db\"))\n",
    "stopifnot(\"dimensions of fruit_plot$data are not correct\"= setequal(digest(paste(toString(dim(fruit_plot$data)), \"6056a\")), \"31954ec21b8e10831f8cb4aeea0d5f96\"))\n",
    "stopifnot(\"column names of fruit_plot$data are not correct\"= setequal(digest(paste(toString(sort(colnames(fruit_plot$data))), \"6056a\")), \"f8807721570bed893c429a6f18841bb2\"))\n",
    "stopifnot(\"types of columns in fruit_plot$data are not correct\"= setequal(digest(paste(toString(sort(unlist(sapply(fruit_plot$data, class)))), \"6056a\")), \"9a0b02612ebfccceb01dd9b482a1671c\"))\n",
    "stopifnot(\"values in one or more numerical columns in fruit_plot$data are not correct\"= setequal(digest(paste(toString(if (any(sapply(fruit_plot$data, is.numeric))) sort(round(sapply(fruit_plot$data[, sapply(fruit_plot$data, is.numeric)], sum, na.rm = TRUE), 2)) else 0), \"6056a\")), \"3161af34c584bcc0d5064cc52a36db3a\"))\n",
    "stopifnot(\"values in one or more character columns in fruit_plot$data are not correct\"= setequal(digest(paste(toString(if (any(sapply(fruit_plot$data, is.character))) sum(sapply(fruit_plot$data[sapply(fruit_plot$data, is.character)], function(x) length(unique(x)))) else 0), \"6056a\")), \"2e93ff75226ae8875f0c34fb133d8efb\"))\n",
    "stopifnot(\"values in one or more factor columns in fruit_plot$data are not correct\"= setequal(digest(paste(toString(if (any(sapply(fruit_plot$data, is.factor))) sum(sapply(fruit_plot$data[, sapply(fruit_plot$data, is.factor)], function(col) length(unique(col)))) else 0), \"6056a\")), \"1e5ac3f515965e5b6001da33c2b88965\"))\n",
    "\n",
    "print('Success!')"
   ]
  },
  {
   "cell_type": "markdown",
   "metadata": {
    "deletable": false,
    "editable": false,
    "nbgrader": {
     "cell_type": "markdown",
     "checksum": "f2f10081880f061cb06a6f61a8b6332e",
     "grade": false,
     "grade_id": "cell-af1aa89c7d87ff08",
     "locked": true,
     "schema_version": 3,
     "solution": false
    }
   },
   "source": [
    "**Question 1.8** \n",
    "<br> {points: 3}\n",
    "\n",
    "Suppose we have a new observation in the fruit dataset with scaled mass 0.5 and scaled color score 0.5.\n",
    "\n",
    "Just by looking at the scatterplot, how would you classify this observation using K-nearest neighbours if you use K = 3? Explain how you arrived at your answer."
   ]
  },
  {
   "cell_type": "markdown",
   "metadata": {
    "deletable": false,
    "nbgrader": {
     "cell_type": "markdown",
     "checksum": "270e7299b82619bf4a12b74622edb5bf",
     "grade": true,
     "grade_id": "cell-b48e4cbbaea68dab",
     "locked": false,
     "points": 3,
     "schema_version": 3,
     "solution": true,
     "task": false
    }
   },
   "source": [
    "DOUBLE CLICK TO EDIT **THIS CELL** AND REPLACE THIS TEXT WITH YOUR ANSWER."
   ]
  },
  {
   "cell_type": "markdown",
   "metadata": {
    "deletable": false,
    "editable": false,
    "nbgrader": {
     "cell_type": "markdown",
     "checksum": "15902907d657af9686ec3b255878cb63",
     "grade": false,
     "grade_id": "cell-d5bb3e47fd3d48af",
     "locked": true,
     "schema_version": 3,
     "solution": false
    }
   },
   "source": [
    "**Question 1.9**\n",
    "<br> {points: 1}\n",
    "\n",
    "Now, let's use the `tidymodels` package to predict `fruit_name` for another new observation. The new observation we are interested in has mass 150g and color score 0.73.\n",
    "\n",
    "First, create the K-nearest neighbour model specification. Specify that we want $K=5$ neighbors, `set_engine` to be `\"kknn\"`, and that each neighboring point should have the same weight when voting. Name this model specification as `knn_spec`.\n",
    "\n",
    "Then create a new recipe named `fruit_data_recipe_2` that centers and scales the predictors, but only uses `mass` and `color_score` as predictors.\n",
    "\n",
    "Combine this with your recipe from before in a `workflow`, and fit to the `fruit_data` dataset. \n",
    "\n",
    "Name the fitted model `fruit_fit`."
   ]
  },
  {
   "cell_type": "code",
   "execution_count": null,
   "metadata": {
    "deletable": false,
    "nbgrader": {
     "cell_type": "code",
     "checksum": "3df609e5b6c691d99758fdaa7d03ae4e",
     "grade": false,
     "grade_id": "cell-05df01d3f40c1b62",
     "locked": false,
     "schema_version": 3,
     "solution": true,
     "task": false
    }
   },
   "outputs": [],
   "source": [
    "# Set the seed. Don't remove this!\n",
    "set.seed(9999) \n",
    "\n",
    "#... <- nearest_neighbor(weight_func = ..., neighbors = ...) |>\n",
    "#       ...(...) |>\n",
    "#       ...(...)\n",
    "\n",
    "#... <- recipe(... ~ ... + ..., data = fruit_data) |>\n",
    "#                        ...(...) |>\n",
    "#                        ...(...)\n",
    "\n",
    "#... <- ...() |>\n",
    "#          ...(...) |>\n",
    "#          ...(...) |>\n",
    "#          fit(data = ...)\n",
    "\n",
    "\n",
    "# your code here\n",
    "fail() # No Answer - remove if you provide an answer"
   ]
  },
  {
   "cell_type": "code",
   "execution_count": null,
   "metadata": {
    "deletable": false,
    "editable": false,
    "nbgrader": {
     "cell_type": "code",
     "checksum": "86fe606c2583c4eb2e9e61e22edd97e9",
     "grade": true,
     "grade_id": "cell-5ccfe637ff9751ec",
     "locked": true,
     "points": 1,
     "schema_version": 3,
     "solution": false
    }
   },
   "outputs": [],
   "source": [
    "library(digest)\n",
    "stopifnot(\"knn_spec should be a model specification\"= setequal(digest(paste(toString('model_spec' %in% class(knn_spec)), \"9295a\")), \"d325e8a1486075a21464fe828a1d61d2\"))\n",
    "stopifnot(\"model specification in knn_spec is not correct\"= setequal(digest(paste(toString(knn_spec$mode), \"9295a\")), \"8d485021b126d9b2c98439cf4d171bb8\"))\n",
    "stopifnot(\"computational engine in knn_spec is not correct\"= setequal(digest(paste(toString(knn_spec$engine), \"9295a\")), \"f02416665573367711ad15a99432b855\"))\n",
    "stopifnot(\"weight function in knn_spec is not correct\"= setequal(digest(paste(toString(quo_name(knn_spec$args$weight_func)), \"9295a\")), \"dae33928330e022839c148ad6fdb1b58\"))\n",
    "stopifnot(\"number of neighbours in knn_spec is not correct\"= setequal(digest(paste(toString(quo_name(knn_spec$args$neighbors)), \"9295a\")), \"c882304a47c418ab56b5cc35b418598d\"))\n",
    "\n",
    "stopifnot(\"fruit_data_recipe_2 should be a recipe\"= setequal(digest(paste(toString('recipe' %in% class(fruit_data_recipe_2)), \"9295b\")), \"73f0ab1d2654a05e298adf7f42dedaa6\"))\n",
    "stopifnot(\"response variable of fruit_data_recipe_2 is not correct\"= setequal(digest(paste(toString(sort(filter(fruit_data_recipe_2$var_info, role == 'outcome')$variable)), \"9295b\")), \"84be31a307cbdc3f11ffda2e59026964\"))\n",
    "stopifnot(\"predictor variable(s) of fruit_data_recipe_2 are not correct\"= setequal(digest(paste(toString(sort(filter(fruit_data_recipe_2$var_info, role == 'predictor')$variable)), \"9295b\")), \"efce3e81237f1be10c0c514499a0fac1\"))\n",
    "stopifnot(\"fruit_data_recipe_2 does not contain the correct data, might need to be standardized\"= setequal(digest(paste(toString(round(sum(bake(prep(fruit_data_recipe_2), fruit_data_recipe_2$template) %>% select_if(is.numeric), na.rm = TRUE), 2)), \"9295b\")), \"b53d21f65bc5e3eae9d7be4896c341a7\"))\n",
    "\n",
    "stopifnot(\"fruit_fit should be a workflow\"= setequal(digest(paste(toString('workflow' %in% class(fruit_fit)), \"9295c\")), \"402b0dc729a54a147213ec3a4e1079f5\"))\n",
    "stopifnot(\"computational engine used in fruit_fit is not correct\"= setequal(digest(paste(toString(fruit_fit$fit$actions$model$spec$engine), \"9295c\")), \"9ca79d24339a522ae3044ebe1faa279a\"))\n",
    "stopifnot(\"model specification used in fruit_fit is not correct\"= setequal(digest(paste(toString(fruit_fit$fit$actions$model$spec$mode), \"9295c\")), \"2738b9a015dd79cb44965e6874453a7c\"))\n",
    "stopifnot(\"fruit_fit must be a trained workflow, make sure to call the fit() function\"= setequal(digest(paste(toString(fruit_fit$trained), \"9295c\")), \"402b0dc729a54a147213ec3a4e1079f5\"))\n",
    "stopifnot(\"predictor variable(s) of fruit_fit are not correct\"= setequal(digest(paste(toString(sort(filter(fruit_fit$pre$actions$recipe$recipe$var_info, role == 'predictor')$variable)), \"9295c\")), \"5552f70f91293ee363a33f6bf3336362\"))\n",
    "stopifnot(\"fruit_fit does not contain the correct data\"= setequal(digest(paste(toString(sort(vapply(fruit_fit$pre$mold$predictors[, sapply(fruit_fit$pre$mold$predictors, is.numeric)], function(col) if(!is.null(col)) round(sum(col), 2) else NA_real_, numeric(1)), na.last = NA)), \"9295c\")), \"8e2ddae1a2a099dd4a28a2fcb2a929a8\"))\n",
    "stopifnot(\"did not fit fruit_fit on the training dataset\"= setequal(digest(paste(toString(nrow(fruit_fit$pre$mold$outcomes)), \"9295c\")), \"4dcef0e662bc8d71676ab6a6bb713caf\"))\n",
    "stopifnot(\"for classification/regression models, weight function is not correct\"= setequal(digest(paste(toString(quo_name(fruit_fit$fit$actions$model$spec$args$weight_func)), \"9295c\")), \"2b89fe55646f1dbbf4f5c036405b2429\"))\n",
    "stopifnot(\"for classification/regression models, response variable of fruit_fit is not correct\"= setequal(digest(paste(toString(sort(filter(fruit_fit$pre$actions$recipe$recipe$var_info, role == 'outcome')$variable)), \"9295c\")), \"c883a18529fcd1e841993f91b02165ed\"))\n",
    "stopifnot(\"for KNN models, number of neighbours is not correct\"= setequal(digest(paste(toString(quo_name(fruit_fit$fit$actions$model$spec$args$neighbors)), \"9295c\")), \"5891bc82cddff45d93a7ecbbc0174bf8\"))\n",
    "stopifnot(\"for clustering models, the clustering is not correct\"= setequal(digest(paste(toString(fruit_fit$fit$fit$fit$cluster), \"9295c\")), \"35f06f364bc813d04ea85300403e701b\"))\n",
    "stopifnot(\"for clustering models, the total within-cluster sum-of-squared distances is not correct\"= setequal(digest(paste(toString(if (!is.null(fruit_fit$fit$fit$fit$tot.withinss)) round(fruit_fit$fit$fit$fit$tot.withinss, 2) else NULL), \"9295c\")), \"35f06f364bc813d04ea85300403e701b\"))\n",
    "\n",
    "print('Success!')"
   ]
  },
  {
   "cell_type": "markdown",
   "metadata": {
    "deletable": false,
    "editable": false,
    "nbgrader": {
     "cell_type": "markdown",
     "checksum": "e69cc0eb536b14cf8c978ca5666a628a",
     "grade": false,
     "grade_id": "cell-c0cf02e39693f018",
     "locked": true,
     "schema_version": 3,
     "solution": false
    }
   },
   "source": [
    "**Question 1.10**\n",
    "<br> {points: 1}\n",
    "\n",
    "Create a new tibble where `mass = 150` and `color_score = 0.73` and call it `new_fruit`. Then, pass `fruit_fit` and `new_fruit` to the `predict` function to predict the class for the new fruit observation. Save your prediction to an object named `fruit_predicted`."
   ]
  },
  {
   "cell_type": "code",
   "execution_count": null,
   "metadata": {
    "deletable": false,
    "nbgrader": {
     "cell_type": "code",
     "checksum": "f366df3762326ff1b1c9b39b37489321",
     "grade": false,
     "grade_id": "cell-1a6bd7bd278f3b12",
     "locked": false,
     "schema_version": 3,
     "solution": true
    }
   },
   "outputs": [],
   "source": [
    "# your code here\n",
    "fail() # No Answer - remove if you provide an answer"
   ]
  },
  {
   "cell_type": "code",
   "execution_count": null,
   "metadata": {
    "deletable": false,
    "editable": false,
    "nbgrader": {
     "cell_type": "code",
     "checksum": "8bcc1096bf71e0660feecf14eecc2a24",
     "grade": true,
     "grade_id": "cell-3a2d3d85dc181b83",
     "locked": true,
     "points": 1,
     "schema_version": 3,
     "solution": false
    }
   },
   "outputs": [],
   "source": [
    "library(digest)\n",
    "stopifnot(\"new_fruit should be a data frame\"= setequal(digest(paste(toString('data.frame' %in% class(new_fruit)), \"aab5\")), \"cf144a819f45480177dd0b4b8500441f\"))\n",
    "stopifnot(\"dimensions of new_fruit are not correct\"= setequal(digest(paste(toString(dim(new_fruit)), \"aab5\")), \"91f415d9fb5387620589456c6e607f50\"))\n",
    "stopifnot(\"column names of new_fruit are not correct\"= setequal(digest(paste(toString(sort(colnames(new_fruit))), \"aab5\")), \"0d826d006e69eaa8d883fc696c08230c\"))\n",
    "stopifnot(\"types of columns in new_fruit are not correct\"= setequal(digest(paste(toString(sort(unlist(sapply(new_fruit, class)))), \"aab5\")), \"35477eb38d90db941ef1ac720168c45a\"))\n",
    "stopifnot(\"values in one or more numerical columns in new_fruit are not correct\"= setequal(digest(paste(toString(if (any(sapply(new_fruit, is.numeric))) sort(round(sapply(new_fruit[, sapply(new_fruit, is.numeric)], sum, na.rm = TRUE), 2)) else 0), \"aab5\")), \"e32c5ba41b7a27f770e97b2728994791\"))\n",
    "stopifnot(\"values in one or more character columns in new_fruit are not correct\"= setequal(digest(paste(toString(if (any(sapply(new_fruit, is.character))) sum(sapply(new_fruit[sapply(new_fruit, is.character)], function(x) length(unique(x)))) else 0), \"aab5\")), \"819c947572afc2fd3966e5f7ed77b233\"))\n",
    "stopifnot(\"values in one or more factor columns in new_fruit are not correct\"= setequal(digest(paste(toString(if (any(sapply(new_fruit, is.factor))) sum(sapply(new_fruit[, sapply(new_fruit, is.factor)], function(col) length(unique(col)))) else 0), \"aab5\")), \"819c947572afc2fd3966e5f7ed77b233\"))\n",
    "\n",
    "stopifnot(\"fruit_predicted should be a data frame\"= setequal(digest(paste(toString('data.frame' %in% class(fruit_predicted)), \"aab6\")), \"35526846fb5221c24808d98024bc9c47\"))\n",
    "stopifnot(\"dimensions of fruit_predicted are not correct\"= setequal(digest(paste(toString(dim(fruit_predicted)), \"aab6\")), \"3d489b777252ff787fc01898cae2a8fe\"))\n",
    "stopifnot(\"column names of fruit_predicted are not correct\"= setequal(digest(paste(toString(sort(colnames(fruit_predicted))), \"aab6\")), \"2909814820c0b2bdec363da09a3a52ea\"))\n",
    "stopifnot(\"types of columns in fruit_predicted are not correct\"= setequal(digest(paste(toString(sort(unlist(sapply(fruit_predicted, class)))), \"aab6\")), \"6646df19a76d931c97f7cfffd4a5274d\"))\n",
    "stopifnot(\"values in one or more numerical columns in fruit_predicted are not correct\"= setequal(digest(paste(toString(if (any(sapply(fruit_predicted, is.numeric))) sort(round(sapply(fruit_predicted[, sapply(fruit_predicted, is.numeric)], sum, na.rm = TRUE), 2)) else 0), \"aab6\")), \"cbac36c78d10ef788d2d1802564e382b\"))\n",
    "stopifnot(\"values in one or more character columns in fruit_predicted are not correct\"= setequal(digest(paste(toString(if (any(sapply(fruit_predicted, is.character))) sum(sapply(fruit_predicted[sapply(fruit_predicted, is.character)], function(x) length(unique(x)))) else 0), \"aab6\")), \"cbac36c78d10ef788d2d1802564e382b\"))\n",
    "stopifnot(\"values in one or more factor columns in fruit_predicted are not correct\"= setequal(digest(paste(toString(if (any(sapply(fruit_predicted, is.factor))) sum(sapply(fruit_predicted[, sapply(fruit_predicted, is.factor)], function(col) length(unique(col)))) else 0), \"aab6\")), \"cdf33cdb8985e5cebd00d83feee1cc2f\"))\n",
    "\n",
    "print('Success!')"
   ]
  },
  {
   "cell_type": "markdown",
   "metadata": {
    "deletable": false,
    "editable": false,
    "nbgrader": {
     "cell_type": "markdown",
     "checksum": "d7067187d349cfb90cbb12bd4a44c04f",
     "grade": false,
     "grade_id": "cell-f967fbfa3edd4e40",
     "locked": true,
     "schema_version": 3,
     "solution": false
    }
   },
   "source": [
    "**Question 1.11** \n",
    "<br> {points: 3}\n",
    "\n",
    "Revisiting `fruit_plot` and considering the prediction given by K-nearest neighbours above, do you think the classification model did a \"good\" job predicting? Could you have done/do better? Given what we know this far in the course, what might we want to do to help with tricky prediction cases such as this?\n",
    "\n",
    "*You can use the code below to visualize the observation whose label we just tried to predict.*"
   ]
  },
  {
   "cell_type": "code",
   "execution_count": null,
   "metadata": {
    "deletable": false,
    "editable": false,
    "nbgrader": {
     "cell_type": "code",
     "checksum": "f6b0070bd9a2afc6e1d5f12ee4584f4d",
     "grade": false,
     "grade_id": "cell-1569bb952f7f0597",
     "locked": true,
     "schema_version": 3,
     "solution": false,
     "task": false
    }
   },
   "outputs": [],
   "source": [
    "options(repr.plot.width = 10, repr.plot.height = 7) # you can change the plot size \n",
    "\n",
    "fruit_plot + \n",
    "    geom_point(aes(x = -0.3, y = -0.4), color = \"black\", size = 4)"
   ]
  },
  {
   "cell_type": "markdown",
   "metadata": {
    "deletable": false,
    "nbgrader": {
     "cell_type": "markdown",
     "checksum": "2be2062f7f7536947b1fa505d183e422",
     "grade": true,
     "grade_id": "cell-5a6f5622fdbb48fe",
     "locked": false,
     "points": 3,
     "schema_version": 3,
     "solution": true,
     "task": false
    }
   },
   "source": [
    "DOUBLE CLICK TO EDIT **THIS CELL** AND REPLACE THIS TEXT WITH YOUR ANSWER."
   ]
  },
  {
   "cell_type": "markdown",
   "metadata": {
    "deletable": false,
    "editable": false,
    "nbgrader": {
     "cell_type": "markdown",
     "checksum": "d7de8a22a91186ccccd97bba6e2bcff7",
     "grade": false,
     "grade_id": "cell-cc5156a4318b7185",
     "locked": true,
     "schema_version": 3,
     "solution": false
    }
   },
   "source": [
    "**Question 1.12**\n",
    "<br> {points: 1}\n",
    "\n",
    "Now do K-nearest neighbours classification again with the same data set, same K, and same new observation. However, this time, let's use **all the columns in the dataset as predictors (except for the categorical `fruit_label` and `fruit_subtype` variables).**\n",
    "\n",
    "We have provided the `new_fruit_all` dataframe below, which encodes the predictors for our new observation. Your job is to use K-nearest neighbours to predict the class of this point. You can reuse the model specification you created earlier. \n",
    "\n",
    "*Assign your answer (the output of `predict`) to an object called `fruit_all_predicted`.*"
   ]
  },
  {
   "cell_type": "code",
   "execution_count": null,
   "metadata": {
    "deletable": false,
    "nbgrader": {
     "cell_type": "code",
     "checksum": "bbc5062f7bca45c1256ed586ea7e26fa",
     "grade": false,
     "grade_id": "cell-812db16a763fab9d",
     "locked": false,
     "schema_version": 3,
     "solution": true,
     "task": false
    }
   },
   "outputs": [],
   "source": [
    "#This is the new observation to predict class label for\n",
    "new_fruit_all <- tibble(mass = 150, \n",
    "                            color_score = 0.73, \n",
    "                            height = 10,\n",
    "                            width = 6)\n",
    "\n",
    "\n",
    "# no hints this time!\n",
    "\n",
    "# your code here\n",
    "fail() # No Answer - remove if you provide an answer\n",
    "fruit_all_predicted"
   ]
  },
  {
   "cell_type": "code",
   "execution_count": null,
   "metadata": {
    "deletable": false,
    "editable": false,
    "nbgrader": {
     "cell_type": "code",
     "checksum": "1101b00fa4c8a98dd0af46a3a5a43eb1",
     "grade": true,
     "grade_id": "cell-f4cbe01336a26636",
     "locked": true,
     "points": 1,
     "schema_version": 3,
     "solution": false,
     "task": false
    }
   },
   "outputs": [],
   "source": [
    "library(digest)\n",
    "stopifnot(\"type of as.character(fruit_all_predicted$.pred_class) is not character\"= setequal(digest(paste(toString(class(as.character(fruit_all_predicted$.pred_class))), \"bd9c1\")), \"ca3f1dff25e5c4b9780551556458f2c7\"))\n",
    "stopifnot(\"length of as.character(fruit_all_predicted$.pred_class) is not correct\"= setequal(digest(paste(toString(length(as.character(fruit_all_predicted$.pred_class))), \"bd9c1\")), \"90e58a86992e919eab0edeaa4c612f7a\"))\n",
    "stopifnot(\"value of as.character(fruit_all_predicted$.pred_class) is not correct\"= setequal(digest(paste(toString(tolower(as.character(fruit_all_predicted$.pred_class))), \"bd9c1\")), \"98ba8259d3f692c01db77d3b7062eb46\"))\n",
    "stopifnot(\"letters in string value of as.character(fruit_all_predicted$.pred_class) are correct but case is not correct\"= setequal(digest(paste(toString(as.character(fruit_all_predicted$.pred_class)), \"bd9c1\")), \"98ba8259d3f692c01db77d3b7062eb46\"))\n",
    "\n",
    "print('Success!')"
   ]
  },
  {
   "cell_type": "markdown",
   "metadata": {
    "deletable": false,
    "editable": false,
    "nbgrader": {
     "cell_type": "markdown",
     "checksum": "f91896964dd01c73a585e32a18158abc",
     "grade": false,
     "grade_id": "cell-ed80bda97a114689",
     "locked": true,
     "schema_version": 3,
     "solution": false
    }
   },
   "source": [
    "**Question 1.13** \n",
    "<br> {points: 3}\n",
    "\n",
    "Did your second classification on the same data set with the same K change the prediction? If so, why do you think this happened?"
   ]
  },
  {
   "cell_type": "markdown",
   "metadata": {
    "deletable": false,
    "nbgrader": {
     "cell_type": "markdown",
     "checksum": "78516303d9fd03bc863115aacaaa8ab0",
     "grade": true,
     "grade_id": "cell-8d91418ef5057475",
     "locked": false,
     "points": 3,
     "schema_version": 3,
     "solution": true,
     "task": false
    }
   },
   "source": [
    "DOUBLE CLICK TO EDIT **THIS CELL** AND REPLACE THIS TEXT WITH YOUR ANSWER."
   ]
  },
  {
   "cell_type": "markdown",
   "metadata": {
    "deletable": false,
    "editable": false,
    "nbgrader": {
     "cell_type": "markdown",
     "checksum": "792e065e4e2a5e26b4d6ddffaa893feb",
     "grade": false,
     "grade_id": "cell-da8d59e0f1753437",
     "locked": true,
     "schema_version": 3,
     "solution": false,
     "task": false
    }
   },
   "source": [
    "## 2. Wheat Seed Dataset\n",
    "\n",
    "X-ray images can be used to analyze and sort seeds. In [this data set](https://archive.ics.uci.edu/ml/datasets/seeds), we have 7 measurements from x-ray images from 3 varieties of wheat seeds (Kama, Rosa and Canadian). "
   ]
  },
  {
   "cell_type": "markdown",
   "metadata": {
    "deletable": false,
    "editable": false,
    "nbgrader": {
     "cell_type": "markdown",
     "checksum": "3bfb00578427fffb664430a8f14c2be6",
     "grade": false,
     "grade_id": "cell-8efa44bbbd0be10c",
     "locked": true,
     "schema_version": 3,
     "solution": false
    }
   },
   "source": [
    "**Question 2.0**\n",
    "<br> {points: 3}\n",
    "\n",
    "Let's use `tidymodels` to perform K-nearest neighbours to classify the wheat variety of seeds. The data set is available here: https://archive.ics.uci.edu/ml/machine-learning-databases/00236/seeds_dataset.txt. **Download the data set directly from this URL using the `read_table()` function**, which is helpful when the columns are separated by one or more white spaces.\n",
    "\n",
    "The seven measurements were taken below for each wheat kernel:\n",
    "1. area A, \n",
    "2. perimeter P, \n",
    "3. compactness C = 4*pi*A/P^2, \n",
    "4. length of kernel, \n",
    "5. width of kernel, \n",
    "6. asymmetry coefficient \n",
    "7. length of kernel groove. \n",
    "\n",
    "The last column in the data set is the variety label. The mapping for the numbers to varieties is listed below:\n",
    "\n",
    "- 1 == Kama\n",
    "- 2 == Rosa\n",
    "- 3 == Canadian\n",
    "\n",
    "Use `tidymodels` with this data to perform K-nearest neighbours to classify the wheat variety of a new seed we measure with the given observed measurements (from an x-ray image) listed above. Specify that we want $K = 5$ neighbors to perform the classification. Don't forget to perform any necessary preprocessing!\n",
    "\n",
    "*Assign your answer to an object called `seed_predict`.*\n",
    "\n",
    "Hints: \n",
    "- `colnames()` can be used to specify the column names of a data frame.\n",
    "- the wheat variety column appears numerical, but you want it to be treated as categorical for this analysis, thus `as_factor()` might be helpful."
   ]
  },
  {
   "cell_type": "code",
   "execution_count": null,
   "metadata": {
    "deletable": false,
    "nbgrader": {
     "cell_type": "code",
     "checksum": "d7c81a01e8e9ac1b2365009e3753790d",
     "grade": true,
     "grade_id": "cell-3c4ba3c5bf6b72e0",
     "locked": false,
     "points": 3,
     "schema_version": 3,
     "solution": true,
     "task": false
    }
   },
   "outputs": [],
   "source": [
    "# Set the seed. Don't remove this!\n",
    "set.seed(9999) \n",
    "\n",
    "#This is the new observation to predict\n",
    "new_seed <- tibble(area = 12.1,\n",
    "                        perimeter = 14.2,\n",
    "                        compactness = 0.9,\n",
    "                        length = 4.9,\n",
    "                        width = 2.8,\n",
    "                        asymmetry_coefficient = 3.0, \n",
    "                        groove_length = 5.1)\n",
    "\n",
    "# your code here\n",
    "fail() # No Answer - remove if you provide an answer"
   ]
  },
  {
   "cell_type": "markdown",
   "metadata": {
    "deletable": false,
    "editable": false,
    "nbgrader": {
     "cell_type": "markdown",
     "checksum": "5700aba5a9404ef5dbce1024fd698be7",
     "grade": false,
     "grade_id": "cell-8edaf785b47c00f9",
     "locked": true,
     "schema_version": 3,
     "solution": false
    }
   },
   "source": [
    "**Question 2.1** Multiple Choice:\n",
    "<br> {points: 1}\n",
    "\n",
    "What is classification of the `new_seed` observation?\n",
    "\n",
    "A. Kama\n",
    "\n",
    "B. Rosa\n",
    "\n",
    "C. Canadian\n",
    "\n",
    "*Assign your answer to an object called `answer2.1`. Make sure your answer is in uppercase and is surrounded by quotation marks (e.g. `\"F\"`).*\n"
   ]
  },
  {
   "cell_type": "code",
   "execution_count": null,
   "metadata": {
    "deletable": false,
    "nbgrader": {
     "cell_type": "code",
     "checksum": "6e65c32a56e75da5956304b017950a6d",
     "grade": false,
     "grade_id": "cell-fb431a5154f21535",
     "locked": false,
     "schema_version": 3,
     "solution": true,
     "task": false
    }
   },
   "outputs": [],
   "source": [
    "# your code here\n",
    "fail() # No Answer - remove if you provide an answer"
   ]
  },
  {
   "cell_type": "code",
   "execution_count": null,
   "metadata": {
    "deletable": false,
    "editable": false,
    "nbgrader": {
     "cell_type": "code",
     "checksum": "79eefdf54d79d452b6c39ae084e1b828",
     "grade": true,
     "grade_id": "cell-6399b150c5034cd3",
     "locked": true,
     "points": 1,
     "schema_version": 3,
     "solution": false,
     "task": false
    }
   },
   "outputs": [],
   "source": [
    "library(digest)\n",
    "stopifnot(\"type of answer2.1 is not character\"= setequal(digest(paste(toString(class(answer2.1)), \"aef4d\")), \"1354deb3a629eb26b07cb0d05cc95549\"))\n",
    "stopifnot(\"length of answer2.1 is not correct\"= setequal(digest(paste(toString(length(answer2.1)), \"aef4d\")), \"338b9169d38a74e9deb1549b98ed1611\"))\n",
    "stopifnot(\"value of answer2.1 is not correct\"= setequal(digest(paste(toString(tolower(answer2.1)), \"aef4d\")), \"a97bdd5997909488c1ff7f3510d320ab\"))\n",
    "stopifnot(\"letters in string value of answer2.1 are correct but case is not correct\"= setequal(digest(paste(toString(answer2.1), \"aef4d\")), \"d01e051b1c6abaa2e2d3c6afa267a22b\"))\n",
    "\n",
    "print('Success!')"
   ]
  },
  {
   "cell_type": "code",
   "execution_count": null,
   "metadata": {
    "deletable": false,
    "editable": false,
    "nbgrader": {
     "cell_type": "code",
     "checksum": "41014ac7b6877712d6a60416fdfa3710",
     "grade": false,
     "grade_id": "cell-5962848718473e26",
     "locked": true,
     "schema_version": 3,
     "solution": false,
     "task": false
    }
   },
   "outputs": [],
   "source": [
    "source(\"cleanup.R\")"
   ]
  }
 ],
 "metadata": {
  "kernelspec": {
   "display_name": "R",
   "language": "R",
   "name": "ir"
  },
  "language_info": {
   "codemirror_mode": "r",
   "file_extension": ".r",
   "mimetype": "text/x-r-source",
   "name": "R",
   "pygments_lexer": "r",
   "version": "4.3.3"
  }
 },
 "nbformat": 4,
 "nbformat_minor": 4
}
