{
 "cells": [
  {
   "cell_type": "markdown",
   "metadata": {
    "deletable": false,
    "editable": false,
    "nbgrader": {
     "cell_type": "markdown",
     "checksum": "1b60a5e12154c6836c44649a050e489c",
     "grade": false,
     "grade_id": "cell-48e0878ab9822be7",
     "locked": true,
     "schema_version": 3,
     "solution": false,
     "task": false
    }
   },
   "source": [
    "# Tutorial: Reading in data locally and from the web\n",
    "\n",
    "This worksheet covers the [Reading in data locally and from the web](https://datasciencebook.ca/reading.html) chapter of the online textbook, which also lists the learning objectives for this worksheet. You should read the textbook chapter before attempting this worksheet. "
   ]
  },
  {
   "cell_type": "code",
   "execution_count": null,
   "metadata": {
    "deletable": false,
    "editable": false,
    "nbgrader": {
     "cell_type": "code",
     "checksum": "4f98d9e3fe4873e09c5d6768942fc5fe",
     "grade": false,
     "grade_id": "cell-b44a86895fe6acc9",
     "locked": true,
     "schema_version": 3,
     "solution": false,
     "task": false
    }
   },
   "outputs": [],
   "source": [
    "### Run this cell before continuing. \n",
    "library(tidyverse)\n",
    "library(repr)\n",
    "library(rvest)\n",
    "library(stringr)\n",
    "library(janitor)\n",
    "options(repr.matrix.max.rows = 6)\n",
    "source(\"cleanup.R\")"
   ]
  },
  {
   "cell_type": "markdown",
   "metadata": {
    "deletable": false,
    "editable": false,
    "nbgrader": {
     "cell_type": "markdown",
     "checksum": "1a8e5613d16396a890a3352094a2d97e",
     "grade": false,
     "grade_id": "cell-eb886aee74edfc54",
     "locked": true,
     "schema_version": 3,
     "solution": false,
     "task": false
    }
   },
   "source": [
    "## 1. Happiness Report\n",
    "As you might remember from `worksheet_reading`, we practised loading data from the *Sustainable Development Solutions Network's* [World Happiness Report](http://worldhappiness.report/). That data was the output of their analysis that calculated each country's happiness score and how much each variable contributed to it. In this tutorial, we are going to look at the data at an earlier stage of the study - the aggregated/averaged values (per country and year) for many different social and health aspects that the researchers anticipated might contribute to happiness (Table2.1 from [this Excel spreadsheet](https://github.com/UBC-DSCI/dsci-100-student/raw/refs/heads/master/data/reading/WHR2018Chapter2OnlineData.xls)).\n",
    "\n",
    "The goal for today is to produce a plot of 2017's positive affect scores against healthy life expectancy at birth, with healthy life expectancy at birth on the x-axis and positive affect on the y-axis. For this study, positive affect was defined as the average of three positive affect measures: happiness, laughter and enjoyment. We would also like to convert the **positive affect score** from a scale of 0 - 1 to a scale from 0 - 10.\n",
    "\n",
    "1. use `filter` to subset the rows where the year is equal to 2017\n",
    "2. use `mutate` to convert the \"Positive affect\" score from a scale of 0 - 1 to a scale from 0 - 10\n",
    "3. use `select` to choose the \"Healthy life expectancy at birth\" column and the scaled \"Positive affect\" column\n",
    "4. use `ggplot` to create our plot of \"Healthy life expectancy at birth\" (x - axis) and scaled \"Positive affect\" (y - axis)\n",
    "\n",
    "**Tips for success:** Try going through all of the steps on your own, but don't forget to discuss with others (classmates, TAs, or an instructor) if you get stuck. If something is wrong and you can't spot the issue, be sure to **read the error message carefully**. Since there are a lot of steps involved in working with data and modifying it, feel free to look back at `worksheet_reading`. "
   ]
  },
  {
   "cell_type": "markdown",
   "metadata": {
    "deletable": false,
    "editable": false,
    "nbgrader": {
     "cell_type": "markdown",
     "checksum": "37a6d8344030eee1db59b4fccb30bfb4",
     "grade": false,
     "grade_id": "cell-eaa4671c9bc261f5",
     "locked": true,
     "schema_version": 3,
     "solution": false
    }
   },
   "source": [
    "**Question 1.1** Multiple Choice: \n",
    "<br> {points: 1}\n",
    "\n",
    "What is the maximum value for the \"Positive affect\" score (in the original data file that you read into R)?\n",
    "\n",
    "A. 100\n",
    "\n",
    "B. 10 \n",
    "\n",
    "C. 1\n",
    "\n",
    "D. 0.1\n",
    "\n",
    "E. 5\n",
    "\n",
    "*Assign your answer to an object called `answer1.1`. Make sure your answer is an uppercase letter and is surrounded by quotation marks (e.g. `\"F\"`).*"
   ]
  },
  {
   "cell_type": "code",
   "execution_count": null,
   "metadata": {
    "deletable": false,
    "nbgrader": {
     "cell_type": "code",
     "checksum": "7937fb7a6cf13876c1ae26e612878be2",
     "grade": false,
     "grade_id": "cell-e18dc09310ee7801",
     "locked": false,
     "schema_version": 3,
     "solution": true
    }
   },
   "outputs": [],
   "source": [
    "# Replace the fail() with your answer. \n",
    "\n",
    "# your code here\n",
    "fail() # No Answer - remove if you provide an answer"
   ]
  },
  {
   "cell_type": "code",
   "execution_count": null,
   "metadata": {
    "deletable": false,
    "editable": false,
    "nbgrader": {
     "cell_type": "code",
     "checksum": "ed7be42f542e36de9d8a93b74d1e6501",
     "grade": true,
     "grade_id": "cell-f1313c7d1348ac8c",
     "locked": true,
     "points": 1,
     "schema_version": 3,
     "solution": false
    }
   },
   "outputs": [],
   "source": [
    "library(digest)\n",
    "stopifnot(\"type of answer1.1 is not character\"= setequal(digest(paste(toString(class(answer1.1)), \"bc78e\")), \"891668d9c7d4d926493054d7b3445a62\"))\n",
    "stopifnot(\"length of answer1.1 is not correct\"= setequal(digest(paste(toString(length(answer1.1)), \"bc78e\")), \"bbac0636d3444d471d14e9bf24b14051\"))\n",
    "stopifnot(\"value of answer1.1 is not correct\"= setequal(digest(paste(toString(tolower(answer1.1)), \"bc78e\")), \"a735b3698bdda400f50ff6c16aec3481\"))\n",
    "stopifnot(\"letters in string value of answer1.1 are correct but case is not correct\"= setequal(digest(paste(toString(answer1.1), \"bc78e\")), \"264b63de5b0d7d8979e289cd4e380132\"))\n",
    "\n",
    "print('Success!')"
   ]
  },
  {
   "cell_type": "markdown",
   "metadata": {
    "deletable": false,
    "editable": false,
    "nbgrader": {
     "cell_type": "markdown",
     "checksum": "fb1ec2ff5768f7d6f3a92ece79a7b4c5",
     "grade": false,
     "grade_id": "cell-27175166f20aece1",
     "locked": true,
     "schema_version": 3,
     "solution": false
    }
   },
   "source": [
    "**Question 1.2** Multiple Choice: \n",
    "<br> {points: 1}\n",
    "\n",
    "Which column's values will be used to filter the data?\n",
    "\n",
    "A. `countries`\n",
    "\n",
    "B. `generosity`\n",
    "\n",
    "C. `positive affect`\n",
    "\n",
    "D. `year`\n",
    "\n",
    "*Assign your answer to an object called `answer1.2`. Make sure your answer is an uppercase letter and is surrounded by quotation marks (e.g. `\"F\"`).*"
   ]
  },
  {
   "cell_type": "code",
   "execution_count": null,
   "metadata": {
    "deletable": false,
    "nbgrader": {
     "cell_type": "code",
     "checksum": "7f6cbacec4d37179fc5f07eae3cf58c2",
     "grade": false,
     "grade_id": "cell-16da567171536519",
     "locked": false,
     "schema_version": 3,
     "solution": true
    }
   },
   "outputs": [],
   "source": [
    "# Replace the fail() with your answer. \n",
    "\n",
    "# your code here\n",
    "fail() # No Answer - remove if you provide an answer"
   ]
  },
  {
   "cell_type": "code",
   "execution_count": null,
   "metadata": {
    "deletable": false,
    "editable": false,
    "nbgrader": {
     "cell_type": "code",
     "checksum": "973122b95423e68f7bafd2b72477d823",
     "grade": true,
     "grade_id": "cell-8bd586d238ebce67",
     "locked": true,
     "points": 1,
     "schema_version": 3,
     "solution": false
    }
   },
   "outputs": [],
   "source": [
    "library(digest)\n",
    "stopifnot(\"type of answer1.2 is not character\"= setequal(digest(paste(toString(class(answer1.2)), \"b78f7\")), \"dec8b3242fa51e80474413b89d0ca755\"))\n",
    "stopifnot(\"length of answer1.2 is not correct\"= setequal(digest(paste(toString(length(answer1.2)), \"b78f7\")), \"efd31e4e68112ddcd36a3cdca73cf4e9\"))\n",
    "stopifnot(\"value of answer1.2 is not correct\"= setequal(digest(paste(toString(tolower(answer1.2)), \"b78f7\")), \"bda630e73df807885af7f7dd53c97dd1\"))\n",
    "stopifnot(\"letters in string value of answer1.2 are correct but case is not correct\"= setequal(digest(paste(toString(answer1.2), \"b78f7\")), \"f51ec949c28e390ad9433cc59ad3f668\"))\n",
    "\n",
    "print('Success!')"
   ]
  },
  {
   "cell_type": "markdown",
   "metadata": {
    "deletable": false,
    "editable": false,
    "nbgrader": {
     "cell_type": "markdown",
     "checksum": "5ed096523ac72dce4449a68117419cd8",
     "grade": false,
     "grade_id": "cell-c9e29373e8731516",
     "locked": true,
     "schema_version": 3,
     "solution": false
    }
   },
   "source": [
    "**Question 1.3.0**\n",
    "<br> {points: 1}\n",
    "\n",
    "Use the appropriate `read_*` function to read in the `WHR2018Chapter2OnlineData` (look in the `tutorial_02` directory to ensure you use the correct relative path to read it in).\n",
    "\n",
    "_Assign the data frame to an object called `happy_df_csv`._"
   ]
  },
  {
   "cell_type": "code",
   "execution_count": null,
   "metadata": {
    "deletable": false,
    "nbgrader": {
     "cell_type": "code",
     "checksum": "493a16fed4eb890dd85964b49d8ad893",
     "grade": false,
     "grade_id": "cell-be35369b600c489e",
     "locked": false,
     "schema_version": 3,
     "solution": true
    }
   },
   "outputs": [],
   "source": [
    "# your code here\n",
    "fail() # No Answer - remove if you provide an answer\n",
    "happy_df_csv"
   ]
  },
  {
   "cell_type": "code",
   "execution_count": null,
   "metadata": {
    "deletable": false,
    "editable": false,
    "nbgrader": {
     "cell_type": "code",
     "checksum": "8a951a7d011554e754d5203ff370a1cf",
     "grade": true,
     "grade_id": "cell-41eb2114195d336c",
     "locked": true,
     "points": 1,
     "schema_version": 3,
     "solution": false
    }
   },
   "outputs": [],
   "source": [
    "library(digest)\n",
    "stopifnot(\"happy_df_csv should be a data frame\"= setequal(digest(paste(toString('data.frame' %in% class(happy_df_csv)), \"76797\")), \"ed5c953a313da8cbce4439ed3daef511\"))\n",
    "stopifnot(\"dimensions of happy_df_csv are not correct\"= setequal(digest(paste(toString(dim(happy_df_csv)), \"76797\")), \"7a611a183420891c89472f601d847973\"))\n",
    "stopifnot(\"column names of happy_df_csv are not correct\"= setequal(digest(paste(toString(sort(colnames(happy_df_csv))), \"76797\")), \"fa7cfdb21791ab4e35c7712cbf777f3d\"))\n",
    "stopifnot(\"types of columns in happy_df_csv are not correct\"= setequal(digest(paste(toString(sort(unlist(sapply(happy_df_csv, class)))), \"76797\")), \"9118026d2717d6c34f7e82878faa8408\"))\n",
    "stopifnot(\"values in one or more numerical columns in happy_df_csv are not correct\"= setequal(digest(paste(toString(if (any(sapply(happy_df_csv, is.numeric))) sort(round(sapply(happy_df_csv[, sapply(happy_df_csv, is.numeric)], sum, na.rm = TRUE), 2)) else 0), \"76797\")), \"de1c4d136c16adf2ff0078b3692fe121\"))\n",
    "stopifnot(\"values in one or more character columns in happy_df_csv are not correct\"= setequal(digest(paste(toString(if (any(sapply(happy_df_csv, is.character))) sum(sapply(happy_df_csv[sapply(happy_df_csv, is.character)], function(x) length(unique(x)))) else 0), \"76797\")), \"cfcf03c543a518bfeb59e529a954656f\"))\n",
    "stopifnot(\"values in one or more factor columns in happy_df_csv are not correct\"= setequal(digest(paste(toString(if (any(sapply(happy_df_csv, is.factor))) sum(sapply(happy_df_csv[, sapply(happy_df_csv, is.factor)], function(col) length(unique(col)))) else 0), \"76797\")), \"039feb6f70e8b8c35cf635b51f2a73ec\"))\n",
    "\n",
    "print('Success!')"
   ]
  },
  {
   "cell_type": "markdown",
   "metadata": {
    "deletable": false,
    "editable": false,
    "nbgrader": {
     "cell_type": "markdown",
     "checksum": "870ef71915f16264714ea950d2ca8d35",
     "grade": false,
     "grade_id": "cell-ca7dbd5d07447573",
     "locked": true,
     "schema_version": 3,
     "solution": false
    }
   },
   "source": [
    "**Question 1.3.1**\n",
    "<br> {points: 1}\n",
    "\n",
    "Above, you loaded the data from a file we already downloaded and converted to a `.csv` for you. But you can also use the `readxl` R package to directly load in Excel files into R. Given that the data we loaded above (`WHR2018Chapter2OnlineData.csv`) was originally sourced from an Excel file on the web, let's now directly read that Excel file into R using the `read_excel` function from that package. This Excel file has multiple sheets, the data we want is on the first one.\n",
    "\n",
    "> **Note:**\n",
    "> `read_excel` does not support putting a URL as the file path argument. So we need to first download the file and write it to disk using R's `download.file` function, and then we can read that saved Excel file into R using `read_excel`.\n",
    "\n",
    "To answer the question, fill in the blanks in the code below. If you are unsure, try reading the documentation for the new functions and ask others for help!\n",
    "\n",
    "Assign the data into an object called `happy_df`."
   ]
  },
  {
   "cell_type": "code",
   "execution_count": null,
   "metadata": {
    "deletable": false,
    "nbgrader": {
     "cell_type": "code",
     "checksum": "22c914861179f6bf1a0843ba8d8ca7e7",
     "grade": false,
     "grade_id": "cell-a8a3d64de1b87550",
     "locked": false,
     "schema_version": 3,
     "solution": true
    }
   },
   "outputs": [],
   "source": [
    "library(readxl)\n",
    "url <- \"https://github.com/UBC-DSCI/dsci-100-student/raw/refs/heads/master/data/reading/WHR2018Chapter2OnlineData.xls\"\n",
    "\n",
    "# download.file(..., destfile = \"data/WHR2018Chapter2OnlineData.xls\")\n",
    "#... <- read_excel(path = ..., sheet = ...)\n",
    "\n",
    "# your code here\n",
    "fail() # No Answer - remove if you provide an answer\n",
    "happy_df"
   ]
  },
  {
   "cell_type": "code",
   "execution_count": null,
   "metadata": {
    "deletable": false,
    "editable": false,
    "nbgrader": {
     "cell_type": "code",
     "checksum": "5d03a9bbafcee200176596a25cf970f9",
     "grade": true,
     "grade_id": "cell-476734f8979f1d94",
     "locked": true,
     "points": 1,
     "schema_version": 3,
     "solution": false
    }
   },
   "outputs": [],
   "source": [
    "library(digest)\n",
    "stopifnot(\"happy_df should be a data frame\"= setequal(digest(paste(toString('data.frame' %in% class(happy_df)), \"8c7ca\")), \"efcbf6038250c0a502025b560858f822\"))\n",
    "stopifnot(\"dimensions of happy_df are not correct\"= setequal(digest(paste(toString(dim(happy_df)), \"8c7ca\")), \"e63cc41e197c2e436f72e0e90aebfcd1\"))\n",
    "stopifnot(\"column names of happy_df are not correct\"= setequal(digest(paste(toString(sort(colnames(happy_df))), \"8c7ca\")), \"749999d0e6e89524885201d408aeb876\"))\n",
    "stopifnot(\"types of columns in happy_df are not correct\"= setequal(digest(paste(toString(sort(unlist(sapply(happy_df, class)))), \"8c7ca\")), \"e3b0bdf29e034d617db8f44d37b4e825\"))\n",
    "stopifnot(\"values in one or more numerical columns in happy_df are not correct\"= setequal(digest(paste(toString(if (any(sapply(happy_df, is.numeric))) sort(round(sapply(happy_df[, sapply(happy_df, is.numeric)], sum, na.rm = TRUE), 2)) else 0), \"8c7ca\")), \"cbdbed152c9404f9383e769c2bd6c9f5\"))\n",
    "stopifnot(\"values in one or more character columns in happy_df are not correct\"= setequal(digest(paste(toString(if (any(sapply(happy_df, is.character))) sum(sapply(happy_df[sapply(happy_df, is.character)], function(x) length(unique(x)))) else 0), \"8c7ca\")), \"35f8b9ec22d344569f5252ff731e21b2\"))\n",
    "stopifnot(\"values in one or more factor columns in happy_df are not correct\"= setequal(digest(paste(toString(if (any(sapply(happy_df, is.factor))) sum(sapply(happy_df[, sapply(happy_df, is.factor)], function(col) length(unique(col)))) else 0), \"8c7ca\")), \"d3ebefa81745a5f75f39a9a4cde3fc93\"))\n",
    "\n",
    "print('Success!')"
   ]
  },
  {
   "cell_type": "markdown",
   "metadata": {
    "deletable": false,
    "editable": false,
    "nbgrader": {
     "cell_type": "markdown",
     "checksum": "f6785598b8fd48ebcb30a9f756e8ae39",
     "grade": false,
     "grade_id": "cell-dd53d9426f770204",
     "locked": true,
     "schema_version": 3,
     "solution": false,
     "task": false
    }
   },
   "source": [
    "Look at the column names - they contain spaces! This is not a best practice and will make it difficult to use our tidyverse functions... Run the cell below to use the `clean_names` function from the `janitor` library that will replace all the spaces with an underscore (`_`) and make all characters lowercase so that our column names are in a standard format."
   ]
  },
  {
   "cell_type": "code",
   "execution_count": null,
   "metadata": {
    "deletable": false,
    "editable": false,
    "nbgrader": {
     "cell_type": "code",
     "checksum": "b4a4f0dd2d06f97fa425c1dbd8b6b2b9",
     "grade": false,
     "grade_id": "cell-9c32e67162641321",
     "locked": true,
     "schema_version": 3,
     "solution": false,
     "task": false
    }
   },
   "outputs": [],
   "source": [
    "### Run this cell before continuing. \n",
    "happy_df <- happy_df |> clean_names()\n",
    "happy_df"
   ]
  },
  {
   "cell_type": "markdown",
   "metadata": {
    "deletable": false,
    "editable": false,
    "nbgrader": {
     "cell_type": "markdown",
     "checksum": "1584e5cf3ddd3c3237d501f076529043",
     "grade": false,
     "grade_id": "cell-49c7adc814e9dd9e",
     "locked": true,
     "schema_version": 3,
     "solution": false
    }
   },
   "source": [
    "**Question 1.3.2**\n",
    "<br> {points: 1}\n",
    "\n",
    "Using the scaffolding given in the cell below, `filter`, `mutate`, and `select` the `happy_df` data frame as needed to get it ready to create our desired scatterplot. Recall that we wanted to rescale the \"Positive affect\" scores so that they fall in the range 0-10 instead of 0-1. Call the new, re-scaled column `positive_affect_scaled`.\n",
    "\n",
    "_Assign the data frame containing only the columns we need to create our plot to an object called `reduced_happy_df`._"
   ]
  },
  {
   "cell_type": "code",
   "execution_count": null,
   "metadata": {
    "deletable": false,
    "nbgrader": {
     "cell_type": "code",
     "checksum": "3422cea21d3b7d31223732e19a6fc087",
     "grade": false,
     "grade_id": "cell-726859a91d715048",
     "locked": false,
     "schema_version": 3,
     "solution": true
    }
   },
   "outputs": [],
   "source": [
    "# happy_step1 <- ...(happy_df, year == ...)\n",
    "# happy_step2 <- mutate(happy_step1, positive_affect_scaled = ...)\n",
    "# reduced_happy_df <- ...(happy_step2, ..., ...)\n",
    "\n",
    "# your code here\n",
    "fail() # No Answer - remove if you provide an answer\n",
    "reduced_happy_df"
   ]
  },
  {
   "cell_type": "code",
   "execution_count": null,
   "metadata": {
    "deletable": false,
    "editable": false,
    "nbgrader": {
     "cell_type": "code",
     "checksum": "34ced2bf0edf3d9728afb2fde205ce0f",
     "grade": true,
     "grade_id": "cell-dec4163f6664b7f2",
     "locked": true,
     "points": 1,
     "schema_version": 3,
     "solution": false
    }
   },
   "outputs": [],
   "source": [
    "library(digest)\n",
    "stopifnot(\"happy_step1 should be a data frame\"= setequal(digest(paste(toString('data.frame' %in% class(happy_step1)), \"3ab7\")), \"9bfc3ff835a96608cdcee1140007218e\"))\n",
    "stopifnot(\"dimensions of happy_step1 are not correct\"= setequal(digest(paste(toString(dim(happy_step1)), \"3ab7\")), \"1138494d893299dc8d4a9a77f0afbb65\"))\n",
    "stopifnot(\"column names of happy_step1 are not correct\"= setequal(digest(paste(toString(sort(colnames(happy_step1))), \"3ab7\")), \"3d404a7b53ad25a345935326825722a6\"))\n",
    "stopifnot(\"types of columns in happy_step1 are not correct\"= setequal(digest(paste(toString(sort(unlist(sapply(happy_step1, class)))), \"3ab7\")), \"faddb1819581167cd29f555aee3b27e9\"))\n",
    "stopifnot(\"values in one or more numerical columns in happy_step1 are not correct\"= setequal(digest(paste(toString(if (any(sapply(happy_step1, is.numeric))) sort(round(sapply(happy_step1[, sapply(happy_step1, is.numeric)], sum, na.rm = TRUE), 2)) else 0), \"3ab7\")), \"30ffc4b0a2fa2dd230ab9f687d1b5726\"))\n",
    "stopifnot(\"values in one or more character columns in happy_step1 are not correct\"= setequal(digest(paste(toString(if (any(sapply(happy_step1, is.character))) sum(sapply(happy_step1[sapply(happy_step1, is.character)], function(x) length(unique(x)))) else 0), \"3ab7\")), \"9e9fbc8e8d4ff9371422416ae237d4d8\"))\n",
    "stopifnot(\"values in one or more factor columns in happy_step1 are not correct\"= setequal(digest(paste(toString(if (any(sapply(happy_step1, is.factor))) sum(sapply(happy_step1[, sapply(happy_step1, is.factor)], function(col) length(unique(col)))) else 0), \"3ab7\")), \"18cdf60592473186078a853802f6cae8\"))\n",
    "\n",
    "stopifnot(\"happy_step2 should be a data frame\"= setequal(digest(paste(toString('data.frame' %in% class(happy_step2)), \"3ab8\")), \"88ce917dc80be049368114b5654fa5b4\"))\n",
    "stopifnot(\"dimensions of happy_step2 are not correct\"= setequal(digest(paste(toString(dim(happy_step2)), \"3ab8\")), \"07fd07633b0233c66df7bc027f8e6f17\"))\n",
    "stopifnot(\"column names of happy_step2 are not correct\"= setequal(digest(paste(toString(sort(colnames(happy_step2))), \"3ab8\")), \"c8df45bd1c3fd47cf0b0aebc49e68878\"))\n",
    "stopifnot(\"types of columns in happy_step2 are not correct\"= setequal(digest(paste(toString(sort(unlist(sapply(happy_step2, class)))), \"3ab8\")), \"327f63a8bcfa9be076bd270857e6143b\"))\n",
    "stopifnot(\"values in one or more numerical columns in happy_step2 are not correct\"= setequal(digest(paste(toString(if (any(sapply(happy_step2, is.numeric))) sort(round(sapply(happy_step2[, sapply(happy_step2, is.numeric)], sum, na.rm = TRUE), 2)) else 0), \"3ab8\")), \"ae26838dcba591554bf078ebc5ba7a4f\"))\n",
    "stopifnot(\"values in one or more character columns in happy_step2 are not correct\"= setequal(digest(paste(toString(if (any(sapply(happy_step2, is.character))) sum(sapply(happy_step2[sapply(happy_step2, is.character)], function(x) length(unique(x)))) else 0), \"3ab8\")), \"cd9cfc3c4dcee516e6e6c0c0776558ef\"))\n",
    "stopifnot(\"values in one or more factor columns in happy_step2 are not correct\"= setequal(digest(paste(toString(if (any(sapply(happy_step2, is.factor))) sum(sapply(happy_step2[, sapply(happy_step2, is.factor)], function(col) length(unique(col)))) else 0), \"3ab8\")), \"5b3853cd705289bdfbf08ca0f943663f\"))\n",
    "\n",
    "stopifnot(\"reduced_happy_df should be a data frame\"= setequal(digest(paste(toString('data.frame' %in% class(reduced_happy_df)), \"3ab9\")), \"eef931df5ef2ffd82b235c14ab582e1d\"))\n",
    "stopifnot(\"dimensions of reduced_happy_df are not correct\"= setequal(digest(paste(toString(dim(reduced_happy_df)), \"3ab9\")), \"fb6872b1cacb4d1cdc6f07c1f6da3589\"))\n",
    "stopifnot(\"column names of reduced_happy_df are not correct\"= setequal(digest(paste(toString(sort(colnames(reduced_happy_df))), \"3ab9\")), \"ae41ab4a60f3b34daffbde41baa336bf\"))\n",
    "stopifnot(\"types of columns in reduced_happy_df are not correct\"= setequal(digest(paste(toString(sort(unlist(sapply(reduced_happy_df, class)))), \"3ab9\")), \"8ea41a0208a8aea09f754ce6f6f507ff\"))\n",
    "stopifnot(\"values in one or more numerical columns in reduced_happy_df are not correct\"= setequal(digest(paste(toString(if (any(sapply(reduced_happy_df, is.numeric))) sort(round(sapply(reduced_happy_df[, sapply(reduced_happy_df, is.numeric)], sum, na.rm = TRUE), 2)) else 0), \"3ab9\")), \"c185c46be0fd3745d2d040b1630464af\"))\n",
    "stopifnot(\"values in one or more character columns in reduced_happy_df are not correct\"= setequal(digest(paste(toString(if (any(sapply(reduced_happy_df, is.character))) sum(sapply(reduced_happy_df[sapply(reduced_happy_df, is.character)], function(x) length(unique(x)))) else 0), \"3ab9\")), \"16ad06c7acb0faaa0180f19f7b662bff\"))\n",
    "stopifnot(\"values in one or more factor columns in reduced_happy_df are not correct\"= setequal(digest(paste(toString(if (any(sapply(reduced_happy_df, is.factor))) sum(sapply(reduced_happy_df[, sapply(reduced_happy_df, is.factor)], function(col) length(unique(col)))) else 0), \"3ab9\")), \"16ad06c7acb0faaa0180f19f7b662bff\"))\n",
    "\n",
    "print('Success!')"
   ]
  },
  {
   "cell_type": "markdown",
   "metadata": {
    "deletable": false,
    "editable": false,
    "nbgrader": {
     "cell_type": "markdown",
     "checksum": "9cf6a7ffbeb370a19cd9fb771c5f1c29",
     "grade": false,
     "grade_id": "cell-b10df2cccd63b024",
     "locked": true,
     "schema_version": 3,
     "solution": false
    }
   },
   "source": [
    "**Question 1.4** \n",
    "<br> {points: 1}\n",
    "\n",
    "Using the modified data set, `reduced_happy_df`, generate the scatterplot described above and make sure to label the axes in proper written English.\n",
    "\n",
    "_Assign your plot to an object called `happy_plot`._"
   ]
  },
  {
   "cell_type": "code",
   "execution_count": null,
   "metadata": {
    "deletable": false,
    "nbgrader": {
     "cell_type": "code",
     "checksum": "8911b30b29c23de6d449bddf4f5ff16f",
     "grade": false,
     "grade_id": "cell-09cd90fd47b394d3",
     "locked": false,
     "schema_version": 3,
     "solution": true
    }
   },
   "outputs": [],
   "source": [
    "options(repr.plot.width = 8, repr.plot.height = 8)\n",
    "\n",
    "#... <- ggplot(reduced_happy_df, ...(x = ..., y = ...)) + \n",
    "#     geom_...() + \n",
    "#     ...(\"...\") + \n",
    "#     ylab(\"Positive affect score (out of ...)\")\n",
    "\n",
    "# your code here\n",
    "fail() # No Answer - remove if you provide an answer\n",
    "happy_plot"
   ]
  },
  {
   "cell_type": "code",
   "execution_count": null,
   "metadata": {
    "deletable": false,
    "editable": false,
    "nbgrader": {
     "cell_type": "code",
     "checksum": "bab388eff4983577e23ac90c10f03664",
     "grade": true,
     "grade_id": "cell-cc81148d52ca3d36",
     "locked": true,
     "points": 1,
     "schema_version": 3,
     "solution": false
    }
   },
   "outputs": [],
   "source": [
    "library(digest)\n",
    "stopifnot(\"type of plot is not correct (if you are using two types of geoms, try flipping the order of the geom objects!)\"= setequal(digest(paste(toString(sapply(seq_len(length(happy_plot$layers)), function(i) {c(class(happy_plot$layers[[i]]$geom))[1]})), \"2fc0d\")), \"e6cb6a79ddf6bd786b05d09a92b5e8d0\"))\n",
    "stopifnot(\"variable x is not correct\"= setequal(digest(paste(toString(unlist(lapply(sapply(seq_len(length(happy_plot$layers)), function(i) {rlang::get_expr(c(happy_plot$layers[[i]]$mapping, happy_plot$mapping)$x)}), as.character))), \"2fc0d\")), \"fa41a9c993c9f6a0ab4cbfe131dba2d9\"))\n",
    "stopifnot(\"variable y is not correct\"= setequal(digest(paste(toString(unlist(lapply(sapply(seq_len(length(happy_plot$layers)), function(i) {rlang::get_expr(c(happy_plot$layers[[i]]$mapping, happy_plot$mapping)$y)}), as.character))), \"2fc0d\")), \"34daefbe7a396c06e0441ff87f02b425\"))\n",
    "stopifnot(\"x-axis label is not descriptive, nicely formatted, or human readable\"= setequal(digest(paste(toString(rlang::get_expr(c(happy_plot$layers[[1]]$mapping, happy_plot$mapping)$x)!= happy_plot$labels$x), \"2fc0d\")), \"63f1b425f1204ba11d70c22a89f5c63e\"))\n",
    "stopifnot(\"y-axis label is not descriptive, nicely formatted, or human readable\"= setequal(digest(paste(toString(rlang::get_expr(c(happy_plot$layers[[1]]$mapping, happy_plot$mapping)$y)!= happy_plot$labels$y), \"2fc0d\")), \"63f1b425f1204ba11d70c22a89f5c63e\"))\n",
    "stopifnot(\"incorrect colour variable in happy_plot, specify a correct one if required\"= setequal(digest(paste(toString(rlang::get_expr(c(happy_plot$layers[[1]]$mapping, happy_plot$mapping)$colour)), \"2fc0d\")), \"5f9622864eb0a71ccc55abbfa3596931\"))\n",
    "stopifnot(\"incorrect shape variable in happy_plot, specify a correct one if required\"= setequal(digest(paste(toString(rlang::get_expr(c(happy_plot$layers[[1]]$mapping, happy_plot$mapping)$shape)), \"2fc0d\")), \"5f9622864eb0a71ccc55abbfa3596931\"))\n",
    "stopifnot(\"the colour label in happy_plot is not descriptive, nicely formatted, or human readable\"= setequal(digest(paste(toString(rlang::get_expr(c(happy_plot$layers[[1]]$mapping, happy_plot$mapping)$colour) != happy_plot$labels$colour), \"2fc0d\")), \"5f9622864eb0a71ccc55abbfa3596931\"))\n",
    "stopifnot(\"the shape label in happy_plot is not descriptive, nicely formatted, or human readable\"= setequal(digest(paste(toString(rlang::get_expr(c(happy_plot$layers[[1]]$mapping, happy_plot$mapping)$colour) != happy_plot$labels$shape), \"2fc0d\")), \"5f9622864eb0a71ccc55abbfa3596931\"))\n",
    "stopifnot(\"fill variable in happy_plot is not correct\"= setequal(digest(paste(toString(quo_name(happy_plot$mapping$fill)), \"2fc0d\")), \"2bb6e7e409639fa12e8e79d85b080a26\"))\n",
    "stopifnot(\"fill label in happy_plot is not informative\"= setequal(digest(paste(toString((quo_name(happy_plot$mapping$fill) != happy_plot$labels$fill)), \"2fc0d\")), \"5f9622864eb0a71ccc55abbfa3596931\"))\n",
    "stopifnot(\"position argument in happy_plot is not correct\"= setequal(digest(paste(toString(class(happy_plot$layers[[1]]$position)[1]), \"2fc0d\")), \"3d6ad4460bfe1ce169a474b0d2d1c01b\"))\n",
    "\n",
    "stopifnot(\"happy_plot$data should be a data frame\"= setequal(digest(paste(toString('data.frame' %in% class(happy_plot$data)), \"2fc0e\")), \"b0d38254d90177ac532512b146e5bb6f\"))\n",
    "stopifnot(\"dimensions of happy_plot$data are not correct\"= setequal(digest(paste(toString(dim(happy_plot$data)), \"2fc0e\")), \"00854ca523b431a81f7512d96e9c3409\"))\n",
    "stopifnot(\"column names of happy_plot$data are not correct\"= setequal(digest(paste(toString(sort(colnames(happy_plot$data))), \"2fc0e\")), \"52d06470d8482283f3760ec39d516d06\"))\n",
    "stopifnot(\"types of columns in happy_plot$data are not correct\"= setequal(digest(paste(toString(sort(unlist(sapply(happy_plot$data, class)))), \"2fc0e\")), \"07b558ea3b42f1090f8f7d75611b2efe\"))\n",
    "stopifnot(\"values in one or more numerical columns in happy_plot$data are not correct\"= setequal(digest(paste(toString(if (any(sapply(happy_plot$data, is.numeric))) sort(round(sapply(happy_plot$data[, sapply(happy_plot$data, is.numeric)], sum, na.rm = TRUE), 2)) else 0), \"2fc0e\")), \"eb02a3f73a96dd6fa2a5e71cc7e2b680\"))\n",
    "stopifnot(\"values in one or more character columns in happy_plot$data are not correct\"= setequal(digest(paste(toString(if (any(sapply(happy_plot$data, is.character))) sum(sapply(happy_plot$data[sapply(happy_plot$data, is.character)], function(x) length(unique(x)))) else 0), \"2fc0e\")), \"6ab54e5bb20f88e1b075296b81105e52\"))\n",
    "stopifnot(\"values in one or more factor columns in happy_plot$data are not correct\"= setequal(digest(paste(toString(if (any(sapply(happy_plot$data, is.factor))) sum(sapply(happy_plot$data[, sapply(happy_plot$data, is.factor)], function(col) length(unique(col)))) else 0), \"2fc0e\")), \"6ab54e5bb20f88e1b075296b81105e52\"))\n",
    "\n",
    "print('Success!')"
   ]
  },
  {
   "cell_type": "markdown",
   "metadata": {
    "deletable": false,
    "editable": false,
    "nbgrader": {
     "cell_type": "markdown",
     "checksum": "70ab42c2c3aed4c1653f46ee472ce320",
     "grade": false,
     "grade_id": "cell-74a8b29302c03111",
     "locked": true,
     "schema_version": 3,
     "solution": false
    }
   },
   "source": [
    "**Question 1.5** \n",
    "<br> {points: 3}\n",
    "\n",
    "In one sentence or two, describe what you see in the scatterplot above. Does there appear to be a relationship between life expectancy at birth and postive affect? If so, describe it."
   ]
  },
  {
   "cell_type": "markdown",
   "metadata": {
    "deletable": false,
    "nbgrader": {
     "cell_type": "markdown",
     "checksum": "ab65b7b60380bfb3a1917802ab42c04a",
     "grade": true,
     "grade_id": "cell-454d6ac241520540",
     "locked": false,
     "points": 3,
     "schema_version": 3,
     "solution": true
    }
   },
   "source": [
    "DOUBLE CLICK TO EDIT **THIS CELL** AND REPLACE THIS TEXT WITH YOUR ANSWER."
   ]
  },
  {
   "cell_type": "markdown",
   "metadata": {
    "deletable": false,
    "editable": false,
    "nbgrader": {
     "cell_type": "markdown",
     "checksum": "949bf0373faff292bca54f410f30d267",
     "grade": false,
     "grade_id": "cell-f2bcf671c8edd2bf",
     "locked": true,
     "schema_version": 3,
     "solution": false
    }
   },
   "source": [
    "**Question 1.6** \n",
    "<br> {points: 3}\n",
    "\n",
    "Plot freedom to make life choices against healthy life expectancy at birth (using the unmodified `happy_df` data for the chart). **You should NOT scale the variables to be plotted.** Ensure that healthy life expectancy at birth is on the x-axis and that you give your axes human-readable labels.\n",
    "\n",
    "_Assign your plot to an object called `happy_plot_2`._"
   ]
  },
  {
   "cell_type": "code",
   "execution_count": null,
   "metadata": {
    "deletable": false,
    "nbgrader": {
     "cell_type": "code",
     "checksum": "c2d835742c77aa700eddd3ff867a1de0",
     "grade": false,
     "grade_id": "cell-1a67703036cd347d",
     "locked": false,
     "schema_version": 3,
     "solution": true,
     "task": false
    }
   },
   "outputs": [],
   "source": [
    "# your code here\n",
    "fail() # No Answer - remove if you provide an answer"
   ]
  },
  {
   "cell_type": "code",
   "execution_count": null,
   "metadata": {
    "deletable": false,
    "editable": false,
    "nbgrader": {
     "cell_type": "code",
     "checksum": "f6eb46e6cd9d8def38297d223f878bc1",
     "grade": true,
     "grade_id": "cell-3fd42dbb922e5fd8",
     "locked": true,
     "points": 3,
     "schema_version": 3,
     "solution": false,
     "task": false
    }
   },
   "outputs": [],
   "source": [
    "# Most of the tests for this question are hidden. You have to decide whether you've created the right object.\n",
    "# Heres one test to at least ensure you named the object correctly\n",
    "library(digest)\n",
    "stopifnot(\"type of exists('happy_plot_2') is not logical\"= setequal(digest(paste(toString(class(exists('happy_plot_2'))), \"9def3\")), \"6d098cb7157ff0e17dd2c4a7abc666cf\"))\n",
    "stopifnot(\"logical value of exists('happy_plot_2') is not correct\"= setequal(digest(paste(toString(exists('happy_plot_2')), \"9def3\")), \"7913ae460c7c64a97f7066eef689a55a\"))\n",
    "\n",
    "print('Success!')"
   ]
  },
  {
   "cell_type": "markdown",
   "metadata": {
    "deletable": false,
    "editable": false,
    "nbgrader": {
     "cell_type": "markdown",
     "checksum": "832b16230229cdcd3a7a1e4067a4bad9",
     "grade": false,
     "grade_id": "cell-a9da33d0a45bb495",
     "locked": true,
     "schema_version": 3,
     "solution": false
    }
   },
   "source": [
    "**Question 1.7**\n",
    "<br> {points: 3}\n",
    "\n",
    "In a sentence or two, describe what you see in the scatterplot above. Does there appear to be a relationship between healthy life expectancy at birth and the other variable you plotted? If so, describe it."
   ]
  },
  {
   "cell_type": "markdown",
   "metadata": {
    "deletable": false,
    "nbgrader": {
     "cell_type": "markdown",
     "checksum": "e94843b2cfe557d32464460fe171f40e",
     "grade": true,
     "grade_id": "cell-f324f67cb0ef5682",
     "locked": false,
     "points": 3,
     "schema_version": 3,
     "solution": true
    }
   },
   "source": [
    "DOUBLE CLICK TO EDIT **THIS CELL** AND REPLACE THIS TEXT WITH YOUR ANSWER."
   ]
  },
  {
   "cell_type": "markdown",
   "metadata": {
    "deletable": false,
    "editable": false,
    "nbgrader": {
     "cell_type": "markdown",
     "checksum": "926ddedabd6ae8e93d0fdb816abd0e68",
     "grade": false,
     "grade_id": "cell-c5375f89b178b96d",
     "locked": true,
     "schema_version": 3,
     "solution": false,
     "task": false
    }
   },
   "source": [
    "## 2. Whistler Snow\n",
    "\n",
    "Skiing and snowboarding are huge in British Columbia. Some of the best slopes for snow sports are quite close. In fact, the famous mountain-bearing city of Whistler is just two hours north of Vancouver. With cold weather and plenty of snowfall, Whistler is an ideal destination for winter sports fanatics. \n",
    "\n",
    "One thing skiers and snowboarders want is fresh snow! When are they most likely to find this? In the `data` directory, we have two-year-long data sets from [Environment Canada from the Whistler Roundhouse Station](http://climate.weather.gc.ca/historical_data/search_historic_data_stations_e.html?StationID=348&Year=2007&Month=3&Day=1&timeframe=2&type=bar&MeasTypeID=snow&searchType=stnProx&txtRadius=25&optProxType=navLink&txtLatDecDeg=50.128889166667&txtLongDecDeg=122.95483333333&optLimit=specDate&selRowPerPage=25&station=WHISTLER) (on Whistler mountain). This weather station is located 1,835 m above sea level.\n",
    "\n",
    "To answer the question of \"When are skiers and snowboarders most likely to find fresh snow at Whistler?\" you will create a line plot with the date is on the x-axis and the total snow per day in centimetres (the column named `Total Snow cm` in the data file) on the y-axis. Given that we have data for two years (2017 & 2018), we will create one plot for each year to see if there is a trend we can observe across the two years."
   ]
  },
  {
   "cell_type": "markdown",
   "metadata": {
    "deletable": false,
    "editable": false,
    "nbgrader": {
     "cell_type": "markdown",
     "checksum": "b5aa29327fcb66de36fe37b99be6c628",
     "grade": false,
     "grade_id": "cell-e8f091bb368e39f1",
     "locked": true,
     "schema_version": 3,
     "solution": false
    }
   },
   "source": [
    "**Question 2.1** Multiple Choice: \n",
    "<br> {points: 1}\n",
    "\n",
    "What are we going to plot on the y-axis?\n",
    "\n",
    "A. total precipitation per day in centimetres\n",
    "\n",
    "B. total snow on the ground in centimetres\n",
    "\n",
    "C. total snow per day in centimetres\n",
    "\n",
    "D. total rain per day in centimetres\n",
    "\n",
    "*Assign your answer to an object called `answer2.1`. Make sure your answer is an uppercase letter and is surrounded by quotation marks (e.g. `\"F\"`).*"
   ]
  },
  {
   "cell_type": "code",
   "execution_count": null,
   "metadata": {
    "deletable": false,
    "nbgrader": {
     "cell_type": "code",
     "checksum": "13c19cc6b350850615972fbd78dc76b7",
     "grade": false,
     "grade_id": "cell-7c77b685f9f33b13",
     "locked": false,
     "schema_version": 3,
     "solution": true
    }
   },
   "outputs": [],
   "source": [
    "# Replace the fail() with your answer. \n",
    "\n",
    "# your code here\n",
    "fail() # No Answer - remove if you provide an answer"
   ]
  },
  {
   "cell_type": "code",
   "execution_count": null,
   "metadata": {
    "deletable": false,
    "editable": false,
    "nbgrader": {
     "cell_type": "code",
     "checksum": "0ca847915e00631948b53d8c35d46ce8",
     "grade": true,
     "grade_id": "cell-09cb9f902ccc6326",
     "locked": true,
     "points": 1,
     "schema_version": 3,
     "solution": false
    }
   },
   "outputs": [],
   "source": [
    "library(digest)\n",
    "stopifnot(\"type of answer2.1 is not character\"= setequal(digest(paste(toString(class(answer2.1)), \"1c278\")), \"019916d6f658d2864306dcb72fe7742c\"))\n",
    "stopifnot(\"length of answer2.1 is not correct\"= setequal(digest(paste(toString(length(answer2.1)), \"1c278\")), \"4827d9b95a6ae25aba7d39850f00c3c4\"))\n",
    "stopifnot(\"value of answer2.1 is not correct\"= setequal(digest(paste(toString(tolower(answer2.1)), \"1c278\")), \"d8ea58a18613d2470502a64882045aa6\"))\n",
    "stopifnot(\"letters in string value of answer2.1 are correct but case is not correct\"= setequal(digest(paste(toString(answer2.1), \"1c278\")), \"1ae652094caf170998db06c35480c2af\"))\n",
    "\n",
    "print('Success!')"
   ]
  },
  {
   "cell_type": "markdown",
   "metadata": {
    "deletable": false,
    "editable": false,
    "nbgrader": {
     "cell_type": "markdown",
     "checksum": "585590908306bfa9042ebf1e921d9a16",
     "grade": false,
     "grade_id": "cell-4f445b649edd0b2b",
     "locked": true,
     "schema_version": 3,
     "solution": false
    }
   },
   "source": [
    "**Question 2.2.0** \n",
    "<br> {points: 1}\n",
    "\n",
    "Read in the file named `eng-daily-01012018-12312018.csv` from the `data` directory. **Make sure you preview the file to choose the correct `read_*` function and argument values to get the data into R.** \n",
    "\n",
    "_Assign your data frame to an object called `whistler_2018`._\n",
    "\n",
    "*Note: You'll see a lot of entries of the form `NA`. This is the symbol R uses to denote missing data. Interestingly, you can do math and make comparisons with `NA`: for example,* `NA + 1 = NA`, `NA * 3 = NA`, `NA > 3 = NA`. *Most operations on `NA` return `NA`. This may seem a bit weird, but it makes things much simpler in R since it removes the need to write any special code to handle missing data!*"
   ]
  },
  {
   "cell_type": "code",
   "execution_count": null,
   "metadata": {
    "deletable": false,
    "nbgrader": {
     "cell_type": "code",
     "checksum": "a85a3dccaea3c0af37b317559742f57b",
     "grade": false,
     "grade_id": "cell-5eee09e838226892",
     "locked": false,
     "schema_version": 3,
     "solution": true
    }
   },
   "outputs": [],
   "source": [
    "# your code here\n",
    "fail() # No Answer - remove if you provide an answer\n",
    "whistler_2018"
   ]
  },
  {
   "cell_type": "code",
   "execution_count": null,
   "metadata": {
    "deletable": false,
    "editable": false,
    "nbgrader": {
     "cell_type": "code",
     "checksum": "8f894a67f44649ded3f23eef6b362d45",
     "grade": true,
     "grade_id": "cell-37bb46c77b5a6b65",
     "locked": true,
     "points": 1,
     "schema_version": 3,
     "solution": false
    }
   },
   "outputs": [],
   "source": [
    "library(digest)\n",
    "stopifnot(\"whistler_2018 should be a data frame\"= setequal(digest(paste(toString('data.frame' %in% class(whistler_2018)), \"ec9b3\")), \"9439aad17b519fff36d6a4cb419b27d5\"))\n",
    "stopifnot(\"dimensions of whistler_2018 are not correct\"= setequal(digest(paste(toString(dim(whistler_2018)), \"ec9b3\")), \"c1c96254c0de2888cabdff82e4e7dc4b\"))\n",
    "stopifnot(\"column names of whistler_2018 are not correct\"= setequal(digest(paste(toString(sort(colnames(whistler_2018))), \"ec9b3\")), \"93bf63e7be44510bf0fc4b52f0f87580\"))\n",
    "stopifnot(\"types of columns in whistler_2018 are not correct\"= setequal(digest(paste(toString(sort(unlist(sapply(whistler_2018, class)))), \"ec9b3\")), \"e4a00f4054d43b675c5d21109204b7f1\"))\n",
    "stopifnot(\"values in one or more numerical columns in whistler_2018 are not correct\"= setequal(digest(paste(toString(if (any(sapply(whistler_2018, is.numeric))) sort(round(sapply(whistler_2018[, sapply(whistler_2018, is.numeric)], sum, na.rm = TRUE), 2)) else 0), \"ec9b3\")), \"b10859dd53d8ecf6112695bb0c6125a7\"))\n",
    "stopifnot(\"values in one or more character columns in whistler_2018 are not correct\"= setequal(digest(paste(toString(if (any(sapply(whistler_2018, is.character))) sum(sapply(whistler_2018[sapply(whistler_2018, is.character)], function(x) length(unique(x)))) else 0), \"ec9b3\")), \"23b6d268a34dbaf3993fdd02396d136a\"))\n",
    "stopifnot(\"values in one or more factor columns in whistler_2018 are not correct\"= setequal(digest(paste(toString(if (any(sapply(whistler_2018, is.factor))) sum(sapply(whistler_2018[, sapply(whistler_2018, is.factor)], function(col) length(unique(col)))) else 0), \"ec9b3\")), \"a178b3f43cfe0dd824a90e8347404205\"))\n",
    "\n",
    "print('Success!')"
   ]
  },
  {
   "cell_type": "markdown",
   "metadata": {
    "deletable": false,
    "editable": false,
    "nbgrader": {
     "cell_type": "markdown",
     "checksum": "b9a611bf678945e5f842fa26d3276d0f",
     "grade": false,
     "grade_id": "cell-8a21bf6086ccf39e",
     "locked": true,
     "schema_version": 3,
     "solution": false
    }
   },
   "source": [
    "**Question 2.2.1** \n",
    "<br> {points: 1}\n",
    "\n",
    "Looking at the column names of the `whistler_2018` data frame, you can see we have white space in our column names again. Use `clean_names` to remove the whitespace to make it easier to use our `tidyverse` functions. Store the result with the same name, `whistler_2018`."
   ]
  },
  {
   "cell_type": "code",
   "execution_count": null,
   "metadata": {
    "deletable": false,
    "nbgrader": {
     "cell_type": "code",
     "checksum": "238ccb8051c3d27b9453e36a1450e516",
     "grade": false,
     "grade_id": "cell-56ec4e8dbbff86e2",
     "locked": false,
     "schema_version": 3,
     "solution": true
    }
   },
   "outputs": [],
   "source": [
    "# your code here\n",
    "fail() # No Answer - remove if you provide an answer\n",
    "whistler_2018"
   ]
  },
  {
   "cell_type": "code",
   "execution_count": null,
   "metadata": {
    "deletable": false,
    "editable": false,
    "nbgrader": {
     "cell_type": "code",
     "checksum": "29a81ab7b5e6b9fdee06bbff1efda60e",
     "grade": true,
     "grade_id": "cell-a8623de117076f50",
     "locked": true,
     "points": 1,
     "schema_version": 3,
     "solution": false
    }
   },
   "outputs": [],
   "source": [
    "library(digest)\n",
    "stopifnot(\"whistler_2018 should be a data frame\"= setequal(digest(paste(toString('data.frame' %in% class(whistler_2018)), \"4fafb\")), \"25d33f7c8a924cbb531874ad0763094e\"))\n",
    "stopifnot(\"dimensions of whistler_2018 are not correct\"= setequal(digest(paste(toString(dim(whistler_2018)), \"4fafb\")), \"bf5f2e25e3b4a8d3324a49c12aaeb889\"))\n",
    "stopifnot(\"column names of whistler_2018 are not correct\"= setequal(digest(paste(toString(sort(colnames(whistler_2018))), \"4fafb\")), \"36cd1e90d6d4c651da5107bc2a4ae902\"))\n",
    "stopifnot(\"types of columns in whistler_2018 are not correct\"= setequal(digest(paste(toString(sort(unlist(sapply(whistler_2018, class)))), \"4fafb\")), \"906895ac05403cf79bdeb68da91f0ec3\"))\n",
    "stopifnot(\"values in one or more numerical columns in whistler_2018 are not correct\"= setequal(digest(paste(toString(if (any(sapply(whistler_2018, is.numeric))) sort(round(sapply(whistler_2018[, sapply(whistler_2018, is.numeric)], sum, na.rm = TRUE), 2)) else 0), \"4fafb\")), \"3b5616b5b9a13f241864b8a1b6e48db2\"))\n",
    "stopifnot(\"values in one or more character columns in whistler_2018 are not correct\"= setequal(digest(paste(toString(if (any(sapply(whistler_2018, is.character))) sum(sapply(whistler_2018[sapply(whistler_2018, is.character)], function(x) length(unique(x)))) else 0), \"4fafb\")), \"90fad10e7bbe1d211bae402edd37a40b\"))\n",
    "stopifnot(\"values in one or more factor columns in whistler_2018 are not correct\"= setequal(digest(paste(toString(if (any(sapply(whistler_2018, is.factor))) sum(sapply(whistler_2018[, sapply(whistler_2018, is.factor)], function(col) length(unique(col)))) else 0), \"4fafb\")), \"2d53a40299c57de734c258d48b819105\"))\n",
    "\n",
    "print('Success!')"
   ]
  },
  {
   "cell_type": "markdown",
   "metadata": {
    "deletable": false,
    "editable": false,
    "nbgrader": {
     "cell_type": "markdown",
     "checksum": "4326de8142131ae6db92ff372ef01698",
     "grade": false,
     "grade_id": "cell-ebc628786570051a",
     "locked": true,
     "schema_version": 3,
     "solution": false
    }
   },
   "source": [
    "**Question 2.3** \n",
    "<br> {points: 1}\n",
    "\n",
    "Create a line plot with the date on the x-axis and the total snow per day (in cm) on the y-axis by filling in the `...` in the code below. Ensure you give your axes human-readable labels.\n",
    "\n",
    "_Assign your plot to an object called `whistler_2018_plot`._"
   ]
  },
  {
   "cell_type": "code",
   "execution_count": null,
   "metadata": {
    "deletable": false,
    "nbgrader": {
     "cell_type": "code",
     "checksum": "8bee476d390d82d668a5ae3a3a3f22c7",
     "grade": false,
     "grade_id": "cell-2b5a4c01c5a8404d",
     "locked": false,
     "schema_version": 3,
     "solution": true
    }
   },
   "outputs": [],
   "source": [
    "options(repr.plot.width = 12, repr.plot.height = 5)\n",
    "\n",
    "# ... <- ggplot(..., aes(x = ..., y = ...)) + \n",
    "#     geom_line() +\n",
    "#     xlab(...) +\n",
    "#     ylab(...) +\n",
    "#     scale_x_date(date_breaks = \"1 month\") + # labels every month\n",
    "#     theme(axis.text.x = element_text(angle = 90, hjust = 1)) # rotates x axis labels to be vertical\n",
    "\n",
    "# your code here\n",
    "fail() # No Answer - remove if you provide an answer\n",
    "whistler_2018_plot"
   ]
  },
  {
   "cell_type": "code",
   "execution_count": null,
   "metadata": {
    "deletable": false,
    "editable": false,
    "nbgrader": {
     "cell_type": "code",
     "checksum": "417197d1dcbbd6c350fdc512edb67ed5",
     "grade": true,
     "grade_id": "cell-7ba6c116f9f01fbf",
     "locked": true,
     "points": 1,
     "schema_version": 3,
     "solution": false
    }
   },
   "outputs": [],
   "source": [
    "library(digest)\n",
    "stopifnot(\"type of plot is not correct (if you are using two types of geoms, try flipping the order of the geom objects!)\"= setequal(digest(paste(toString(sapply(seq_len(length(whistler_2018_plot$layers)), function(i) {c(class(whistler_2018_plot$layers[[i]]$geom))[1]})), \"ef4ac\")), \"45b08e4018c09024440be0caec7f40ad\"))\n",
    "stopifnot(\"variable x is not correct\"= setequal(digest(paste(toString(unlist(lapply(sapply(seq_len(length(whistler_2018_plot$layers)), function(i) {rlang::get_expr(c(whistler_2018_plot$layers[[i]]$mapping, whistler_2018_plot$mapping)$x)}), as.character))), \"ef4ac\")), \"4d572e7377a4b6617e96f38303fdfda9\"))\n",
    "stopifnot(\"variable y is not correct\"= setequal(digest(paste(toString(unlist(lapply(sapply(seq_len(length(whistler_2018_plot$layers)), function(i) {rlang::get_expr(c(whistler_2018_plot$layers[[i]]$mapping, whistler_2018_plot$mapping)$y)}), as.character))), \"ef4ac\")), \"a65f4d20bb78b0236685ef9daa7e8a12\"))\n",
    "stopifnot(\"x-axis label is not descriptive, nicely formatted, or human readable\"= setequal(digest(paste(toString(rlang::get_expr(c(whistler_2018_plot$layers[[1]]$mapping, whistler_2018_plot$mapping)$x)!= whistler_2018_plot$labels$x), \"ef4ac\")), \"f0dca371264c8f5f4b41f92132fcd31b\"))\n",
    "stopifnot(\"y-axis label is not descriptive, nicely formatted, or human readable\"= setequal(digest(paste(toString(rlang::get_expr(c(whistler_2018_plot$layers[[1]]$mapping, whistler_2018_plot$mapping)$y)!= whistler_2018_plot$labels$y), \"ef4ac\")), \"f0dca371264c8f5f4b41f92132fcd31b\"))\n",
    "stopifnot(\"incorrect colour variable in whistler_2018_plot, specify a correct one if required\"= setequal(digest(paste(toString(rlang::get_expr(c(whistler_2018_plot$layers[[1]]$mapping, whistler_2018_plot$mapping)$colour)), \"ef4ac\")), \"34135ebcc0bca1e8b91fe4b066fa482c\"))\n",
    "stopifnot(\"incorrect shape variable in whistler_2018_plot, specify a correct one if required\"= setequal(digest(paste(toString(rlang::get_expr(c(whistler_2018_plot$layers[[1]]$mapping, whistler_2018_plot$mapping)$shape)), \"ef4ac\")), \"34135ebcc0bca1e8b91fe4b066fa482c\"))\n",
    "stopifnot(\"the colour label in whistler_2018_plot is not descriptive, nicely formatted, or human readable\"= setequal(digest(paste(toString(rlang::get_expr(c(whistler_2018_plot$layers[[1]]$mapping, whistler_2018_plot$mapping)$colour) != whistler_2018_plot$labels$colour), \"ef4ac\")), \"34135ebcc0bca1e8b91fe4b066fa482c\"))\n",
    "stopifnot(\"the shape label in whistler_2018_plot is not descriptive, nicely formatted, or human readable\"= setequal(digest(paste(toString(rlang::get_expr(c(whistler_2018_plot$layers[[1]]$mapping, whistler_2018_plot$mapping)$colour) != whistler_2018_plot$labels$shape), \"ef4ac\")), \"34135ebcc0bca1e8b91fe4b066fa482c\"))\n",
    "stopifnot(\"fill variable in whistler_2018_plot is not correct\"= setequal(digest(paste(toString(quo_name(whistler_2018_plot$mapping$fill)), \"ef4ac\")), \"cdc878d16bb6f1f3ac1ab6283fc4e960\"))\n",
    "stopifnot(\"fill label in whistler_2018_plot is not informative\"= setequal(digest(paste(toString((quo_name(whistler_2018_plot$mapping$fill) != whistler_2018_plot$labels$fill)), \"ef4ac\")), \"34135ebcc0bca1e8b91fe4b066fa482c\"))\n",
    "stopifnot(\"position argument in whistler_2018_plot is not correct\"= setequal(digest(paste(toString(class(whistler_2018_plot$layers[[1]]$position)[1]), \"ef4ac\")), \"a801b90ef3591ee86a2d074417ffff3f\"))\n",
    "\n",
    "stopifnot(\"whistler_2018_plot$data should be a data frame\"= setequal(digest(paste(toString('data.frame' %in% class(whistler_2018_plot$data)), \"ef4ad\")), \"ed62f002bb0d97472d16a40f9f7c8d21\"))\n",
    "stopifnot(\"dimensions of whistler_2018_plot$data are not correct\"= setequal(digest(paste(toString(dim(whistler_2018_plot$data)), \"ef4ad\")), \"7d2856e5bc15861707e711acea3dc6f6\"))\n",
    "stopifnot(\"column names of whistler_2018_plot$data are not correct\"= setequal(digest(paste(toString(sort(colnames(whistler_2018_plot$data))), \"ef4ad\")), \"5d8de8e2d5f68a65e4521aae9caeb27d\"))\n",
    "stopifnot(\"types of columns in whistler_2018_plot$data are not correct\"= setequal(digest(paste(toString(sort(unlist(sapply(whistler_2018_plot$data, class)))), \"ef4ad\")), \"ec1e08599243e625504849b7aae5681e\"))\n",
    "stopifnot(\"values in one or more numerical columns in whistler_2018_plot$data are not correct\"= setequal(digest(paste(toString(if (any(sapply(whistler_2018_plot$data, is.numeric))) sort(round(sapply(whistler_2018_plot$data[, sapply(whistler_2018_plot$data, is.numeric)], sum, na.rm = TRUE), 2)) else 0), \"ef4ad\")), \"16bd2337f03a45aa23f983bd63e02981\"))\n",
    "stopifnot(\"values in one or more character columns in whistler_2018_plot$data are not correct\"= setequal(digest(paste(toString(if (any(sapply(whistler_2018_plot$data, is.character))) sum(sapply(whistler_2018_plot$data[sapply(whistler_2018_plot$data, is.character)], function(x) length(unique(x)))) else 0), \"ef4ad\")), \"4a93c9553691809458ed5908da3f37cb\"))\n",
    "stopifnot(\"values in one or more factor columns in whistler_2018_plot$data are not correct\"= setequal(digest(paste(toString(if (any(sapply(whistler_2018_plot$data, is.factor))) sum(sapply(whistler_2018_plot$data[, sapply(whistler_2018_plot$data, is.factor)], function(col) length(unique(col)))) else 0), \"ef4ad\")), \"1e8eb969275d0df0907c6cceaeb63c3c\"))\n",
    "\n",
    "print('Success!')"
   ]
  },
  {
   "cell_type": "markdown",
   "metadata": {
    "deletable": false,
    "editable": false,
    "nbgrader": {
     "cell_type": "markdown",
     "checksum": "9a05d9e80771970ce9d0ac6e85609c48",
     "grade": false,
     "grade_id": "cell-5ab30aff1ade6a29",
     "locked": true,
     "schema_version": 3,
     "solution": false
    }
   },
   "source": [
    "**Question 2.4** \n",
    "<br> {points: 3}\n",
    "\n",
    "Looking at the line plot above, for 2018, of the months when it snowed, which 2 months had the **most** fresh snow?"
   ]
  },
  {
   "cell_type": "markdown",
   "metadata": {
    "deletable": false,
    "nbgrader": {
     "cell_type": "markdown",
     "checksum": "baffe65b398f9d5c504ef17729e78b10",
     "grade": true,
     "grade_id": "cell-44413b023d2ed1cf",
     "locked": false,
     "points": 3,
     "schema_version": 3,
     "solution": true
    }
   },
   "source": [
    "DOUBLE CLICK TO EDIT **THIS CELL** AND REPLACE THIS TEXT WITH YOUR ANSWER."
   ]
  },
  {
   "cell_type": "markdown",
   "metadata": {
    "deletable": false,
    "editable": false,
    "nbgrader": {
     "cell_type": "markdown",
     "checksum": "9ed1528fd2c56a78c12b69da4cfcdcb6",
     "grade": false,
     "grade_id": "cell-f73cf8cfc5b9f8e8",
     "locked": true,
     "schema_version": 3,
     "solution": false
    }
   },
   "source": [
    "**Question 2.5**\n",
    "<br> {points: 3}\n",
    "\n",
    "Repeat the data loading and plot creation using the file `eng-daily-01012017-12312017.csv` located in the `data` directory to visualize the same data for the year 2017. \n",
    "\n",
    "_Assign your plot to an object called `whistler_2017_plot`._"
   ]
  },
  {
   "cell_type": "code",
   "execution_count": null,
   "metadata": {
    "deletable": false,
    "nbgrader": {
     "cell_type": "code",
     "checksum": "c1d521ed7e52f0dbb12d1099a346e73e",
     "grade": false,
     "grade_id": "cell-1b68857d927e3850",
     "locked": false,
     "schema_version": 3,
     "solution": true,
     "task": false
    }
   },
   "outputs": [],
   "source": [
    "# whistler_2017 <- ...\n",
    "# whistler_2017 <- whistler_2017 |> ...()\n",
    "\n",
    "# ... <- ggplot(..., aes(x = ..., y = ...)) + \n",
    "#    geom_line() + \n",
    "#    xlab(\"...\") + \n",
    "#    ylab(\"...\") +\n",
    "#    scale_x_date(date_breaks = \"1 month\") +\n",
    "#    theme(axis.text.x = element_text(angle = 90, hjust = 1)) + \n",
    "#    theme(text = element_text(size = 20))\n",
    "\n",
    "# your code here\n",
    "fail() # No Answer - remove if you provide an answer"
   ]
  },
  {
   "cell_type": "code",
   "execution_count": null,
   "metadata": {
    "deletable": false,
    "editable": false,
    "nbgrader": {
     "cell_type": "code",
     "checksum": "d8b7d0fc54dbbe0db0ae7d288b10f926",
     "grade": true,
     "grade_id": "cell-d8721ca22c898b0c",
     "locked": true,
     "points": 3,
     "schema_version": 3,
     "solution": false,
     "task": false
    }
   },
   "outputs": [],
   "source": [
    "# Most of the tests for this question are hidden. You have to decide whether you've created the right object.\n",
    "# Heres one test to at least ensure you named the object correctly\n",
    "library(digest)\n",
    "stopifnot(\"type of exists('whistler_2017_plot') is not logical\"= setequal(digest(paste(toString(class(exists('whistler_2017_plot'))), \"9a7af\")), \"fa88680ece6774047e68f6b059fda7b2\"))\n",
    "stopifnot(\"logical value of exists('whistler_2017_plot') is not correct\"= setequal(digest(paste(toString(exists('whistler_2017_plot')), \"9a7af\")), \"35badcccb023ab9a8acde6025234c9e2\"))\n",
    "\n",
    "print('Success!')"
   ]
  },
  {
   "cell_type": "markdown",
   "metadata": {
    "deletable": false,
    "editable": false,
    "nbgrader": {
     "cell_type": "markdown",
     "checksum": "4a00b30b14e7ea68944846a87e71a8dc",
     "grade": false,
     "grade_id": "cell-8f8fcf9c0b810526",
     "locked": true,
     "schema_version": 3,
     "solution": false
    }
   },
   "source": [
    "**Question 2.6**\n",
    "<br> {points: 3}\n",
    "\n",
    "Looking at the line plot above, for 2017, of the months when it snowed, which 2 months had the **most** fresh snow?"
   ]
  },
  {
   "cell_type": "markdown",
   "metadata": {
    "deletable": false,
    "nbgrader": {
     "cell_type": "markdown",
     "checksum": "32633e9d0c06d2ca9e0ee22ad8ae171a",
     "grade": true,
     "grade_id": "cell-59326d3fb00de096",
     "locked": false,
     "points": 3,
     "schema_version": 3,
     "solution": true
    }
   },
   "source": [
    "DOUBLE CLICK TO EDIT **THIS CELL** AND REPLACE THIS TEXT WITH YOUR ANSWER."
   ]
  },
  {
   "cell_type": "markdown",
   "metadata": {
    "deletable": false,
    "editable": false,
    "nbgrader": {
     "cell_type": "markdown",
     "checksum": "a4b149e79417fe81fefa6610e05f101d",
     "grade": false,
     "grade_id": "cell-7ebf6c3f380f6308",
     "locked": true,
     "schema_version": 3,
     "solution": false,
     "task": false
    }
   },
   "source": [
    "**Question 2.7**\n",
    "<br> {points: 3}\n",
    "\n",
    "Are the months  with the most fresh snow the same in 2017 as they were in 2018? **Hint:** you might want to add a code cell where you plot the two plots right after each other so you can easily compare them in one screen view.\n",
    "\n",
    "You can combine two plots, one atop the other, by using the `plot_grid` function from the `cowplot` package:\n",
    "\n",
    "```\n",
    "library(cowplot)\n",
    "plot_grid(plot1, plot2, ncol = 1)\n",
    "```\n",
    "Is there any advantage of looking at 2 years worth of data? Why or why not?"
   ]
  },
  {
   "cell_type": "markdown",
   "metadata": {
    "deletable": false,
    "nbgrader": {
     "cell_type": "markdown",
     "checksum": "5dc1a5347c756d6fee899ea2fade9085",
     "grade": true,
     "grade_id": "cell-847225b6693679e1",
     "locked": false,
     "points": 3,
     "schema_version": 3,
     "solution": true,
     "task": false
    }
   },
   "source": [
    "DOUBLE CLICK TO EDIT **THIS CELL** AND REPLACE THIS TEXT WITH YOUR ANSWER."
   ]
  },
  {
   "cell_type": "markdown",
   "metadata": {
    "deletable": false,
    "editable": false,
    "nbgrader": {
     "cell_type": "markdown",
     "checksum": "5c7fcfb3b3fdb0a58653558ac89e219c",
     "grade": false,
     "grade_id": "cell-7298c18efd74b404",
     "locked": true,
     "schema_version": 3,
     "solution": false,
     "task": false
    }
   },
   "source": [
    "## 3. Reading from a Database\n",
    "\n",
    "In `worksheet_reading`, you'll recall that we opened a database stored in a `.db` file. This involved a lot more effort than just opening a `.csv`, `.tsv`, or any of the other plaintext / Excel formats. It was a bit of a pain to use a database in that setting since we had to use `dbplyr` to translate `tidyverse`-like commands (`filter`, `select`, etc.) into SQL commands that the database understands. We didn't run into this problem in the worksheet, but not _all_ `tidyverse` commands can currently be translated with SQLite databases. For example, with an SQLite database, we can compute a mean, but can't easily compute a median.\n",
    "\n",
    "**Why should we bother with databases at all then?**\n",
    "\n",
    "Databases become really useful in a large-scale setting:\n",
    "\n",
    "- they enable storing large datasets across multiple computers with automatic redundancy and backups\n",
    "- they enable multiple users to access them simultaneously and remotely without conflicts and errors \n",
    "- they provide mechanisms for ensuring data integrity and validating input\n",
    "- they provide security to keep data safe\n",
    "\n",
    "For example: there are around [4 billion](https://www.internetlivestats.com/google-search-statistics/) Google searches conducted daily as of 2019. Can you imagine if Google stored all of the data from those queries in a single `.csv` file!? Chaos would ensue. \n",
    "\n",
    "To reap the real benefits of databases, we'll need to move to a more fully-powered one: [PostgreSQL](https://www.postgresql.org/). We'll begin by loading the `DBI` and `dbplyr` packages that R uses to talk to databases, as well as the `RPostgres` package that provides the interface between these packages and PostgreSQL databases (note the similarity to the `RSQLite` package from `worksheet_02`)."
   ]
  },
  {
   "cell_type": "code",
   "execution_count": null,
   "metadata": {
    "deletable": false,
    "editable": false,
    "nbgrader": {
     "cell_type": "code",
     "checksum": "8877d90711149ee5e874e4bdf544bb1a",
     "grade": false,
     "grade_id": "cell-dcac0592a4863874",
     "locked": true,
     "schema_version": 3,
     "solution": false,
     "task": false
    }
   },
   "outputs": [],
   "source": [
    "### Run this cell before continuing. \n",
    "library(dbplyr)\n",
    "library(DBI)\n",
    "library(RPostgres)\n",
    "library(lubridate) # This package is used to convert different time/date formats."
   ]
  },
  {
   "cell_type": "markdown",
   "metadata": {
    "deletable": false,
    "editable": false,
    "nbgrader": {
     "cell_type": "markdown",
     "checksum": "6e1f3cafa5c7ea60e046e322a1077915",
     "grade": false,
     "grade_id": "cell-4993f5e803d8eb85",
     "locked": true,
     "schema_version": 3,
     "solution": false,
     "task": false
    }
   },
   "source": [
    "### Investigating Trends in Crowdfunding\n",
    "\n",
    "[Kickstarter](https://www.kickstarter.com/) is an online crowd-funding site where people can post projects they want to do, but don't have the financial resources required to fund the project on their own. Other users of Kickstarter can pledge money to the project (also called \"backing\" a project) to help the project become a reality. To persuade people to back a project, the project owner usually offers rewards to the \"backers\" for their help with funding, which they receive once funding reaches a particular amount.\n",
    "\n",
    "In this section, we'll investigate how the amount of funding successful projects get has changed over time. We consider a project to be successful if the amount of funds pledged exceeded the goal."
   ]
  },
  {
   "cell_type": "markdown",
   "metadata": {
    "deletable": false,
    "editable": false,
    "nbgrader": {
     "cell_type": "markdown",
     "checksum": "badd9099619e4d89fa1a001924143fdf",
     "grade": false,
     "grade_id": "cell-76ec1abec0ab4266",
     "locked": true,
     "schema_version": 3,
     "solution": false,
     "task": false
    }
   },
   "source": [
    "**Question 3.0**\n",
    "<br>{points: 1}\n",
    "\n",
    "Databases are often stored *remotely* (i.e., not on your computer or on this JupyterHub). Your first task is to load the Kickstarter data from a PostgreSQL database stored remotely on the UBC statistics network.\n",
    "\n",
    "\n",
    "URL: `\"dsci-100-student.stat.ubc.ca\"`\n",
    "\n",
    "Port: `5432`\n",
    "\n",
    "Username: `\"dsci100\"`\n",
    "\n",
    "Password: `\"dsci100\"`\n",
    "\n",
    "Database Name: `\"kickstarter\"`\n",
    "\n",
    "Table Name: `\"projects\"`\n",
    "\n",
    "We've provided the code to do this below. Replace each `...` with one of the 5 above items. \n",
    "\n",
    "*Note: As this database will be used by the entire class, you will only have read access (no write permissions).*\n",
    "\n",
    "*Assign the resulting database connection object to* `connection` *and the project table data to* `project_data`."
   ]
  },
  {
   "cell_type": "code",
   "execution_count": null,
   "metadata": {
    "deletable": false,
    "nbgrader": {
     "cell_type": "code",
     "checksum": "a39d4e386d18fb0b828b6b5436b01c1c",
     "grade": false,
     "grade_id": "cell-e38b5789a4177e9e",
     "locked": false,
     "schema_version": 3,
     "solution": true,
     "task": false
    }
   },
   "outputs": [],
   "source": [
    "# ... <- dbConnect(RPostgres::Postgres(), dbname = ...,\n",
    "#                 host = ..., port = 5432,\n",
    "#                 user = ..., password = ...)\n",
    "# ... <- tbl(connection, ...)\n",
    "\n",
    "# your code here\n",
    "fail() # No Answer - remove if you provide an answer"
   ]
  },
  {
   "cell_type": "code",
   "execution_count": null,
   "metadata": {
    "deletable": false,
    "editable": false,
    "nbgrader": {
     "cell_type": "code",
     "checksum": "56c312bc03f4ee952bc2bf4317e6dd16",
     "grade": true,
     "grade_id": "cell-43c8f02a1912363c",
     "locked": true,
     "points": 1,
     "schema_version": 3,
     "solution": false,
     "task": false
    }
   },
   "outputs": [],
   "source": [
    "library(digest)\n",
    "stopifnot(\"connection should be an PqConnection database connection object\"= setequal(digest(paste(toString('PqConnection' %in% class(connection)), \"a503f\")), \"ba809102edf6df8661e6b6d2d86ca3bf\"))\n",
    "stopifnot(\"connection is the wrong database\"= setequal(digest(paste(toString(dbListTables(connection)), \"a503f\")), \"c0cba42ee2f6e91fb4a23e71b45f2f82\"))\n",
    "\n",
    "stopifnot(\"project_data should be a data frame\"= setequal(digest(paste(toString('tbl_dbi' %in% class(project_data)), \"a5040\")), \"8d73811cc554913f405348d7138bdd19\"))\n",
    "stopifnot(\"project_data does not contain the correct number of rows\"= setequal(digest(paste(toString(collect(count(project_data))$n), \"a5040\")), \"ce8679f8ffabdd9d25bea8d700fb8af6\"))\n",
    "stopifnot(\"project_data does not contain the correct columns\"= setequal(digest(paste(toString(sort(colnames(project_data))), \"a5040\")), \"6c7494cd7383664dedeab6eba5be0e4c\"))\n",
    "\n",
    "print('Success!')"
   ]
  },
  {
   "cell_type": "markdown",
   "metadata": {
    "deletable": false,
    "editable": false,
    "nbgrader": {
     "cell_type": "markdown",
     "checksum": "8fe72eee4fb5a0aa17aec291e5ddc115",
     "grade": false,
     "grade_id": "cell-c5ed50cf12263f47",
     "locked": true,
     "schema_version": 3,
     "solution": false,
     "task": false
    }
   },
   "source": [
    "We can now use the `colnames` function to see what columns are available in the `project_data` table."
   ]
  },
  {
   "cell_type": "code",
   "execution_count": null,
   "metadata": {
    "deletable": false,
    "editable": false,
    "nbgrader": {
     "cell_type": "code",
     "checksum": "15823b9378749b54134787fa2e70fd64",
     "grade": false,
     "grade_id": "cell-a35dbfe198fe2c2a",
     "locked": true,
     "schema_version": 3,
     "solution": false,
     "task": false
    }
   },
   "outputs": [],
   "source": [
    "colnames(project_data)"
   ]
  },
  {
   "cell_type": "markdown",
   "metadata": {
    "deletable": false,
    "editable": false,
    "nbgrader": {
     "cell_type": "markdown",
     "checksum": "fdcb6eca891987f9079d33722dce5643",
     "grade": false,
     "grade_id": "cell-f87359c9820b0244",
     "locked": true,
     "schema_version": 3,
     "solution": false,
     "task": false
    }
   },
   "source": [
    "**Question 3.1**\n",
    "<br> {points: 1}\n",
    "\n",
    "If we want to plot compare pledged and goal amounts of funding over time for successful projects in the United States, which columns should we `select` from the table?\n",
    "\n",
    "A. `id`, `slug`, `pledged`\n",
    "\n",
    "B. `pledged`, `goal`, `deadline`, `country`\n",
    "\n",
    "C. `pledged`, `usd_pledged`, `location_id`\n",
    "\n",
    "D. `currency`, `state`, `country`, `goal`\n",
    "\n",
    "_Assign your answer to an object called `answer3.1`. Make sure your answer is an uppercase letter and is surrounded by quotation marks (e.g. `\"F\"`)._"
   ]
  },
  {
   "cell_type": "code",
   "execution_count": null,
   "metadata": {
    "deletable": false,
    "nbgrader": {
     "cell_type": "code",
     "checksum": "b5aa4809abc6c8a315a125e39f16af7d",
     "grade": false,
     "grade_id": "cell-9eb0609ab7bd4c24",
     "locked": false,
     "schema_version": 3,
     "solution": true,
     "task": false
    }
   },
   "outputs": [],
   "source": [
    "# your code here\n",
    "fail() # No Answer - remove if you provide an answer"
   ]
  },
  {
   "cell_type": "code",
   "execution_count": null,
   "metadata": {
    "deletable": false,
    "editable": false,
    "nbgrader": {
     "cell_type": "code",
     "checksum": "0693af89f723e2187cdf3b75f5348d18",
     "grade": true,
     "grade_id": "cell-c984d14fba25881a",
     "locked": true,
     "points": 1,
     "schema_version": 3,
     "solution": false,
     "task": false
    }
   },
   "outputs": [],
   "source": [
    "library(digest)\n",
    "stopifnot(\"type of answer3.1 is not character\"= setequal(digest(paste(toString(class(answer3.1)), \"56172\")), \"cbf55ed4511fc9d7b576190c4ffba55d\"))\n",
    "stopifnot(\"length of answer3.1 is not correct\"= setequal(digest(paste(toString(length(answer3.1)), \"56172\")), \"fe162b877dbdb8f3e35b1707c9515de1\"))\n",
    "stopifnot(\"value of answer3.1 is not correct\"= setequal(digest(paste(toString(tolower(answer3.1)), \"56172\")), \"f94f96bafabd9c3c26491899576ff7a8\"))\n",
    "stopifnot(\"letters in string value of answer3.1 are correct but case is not correct\"= setequal(digest(paste(toString(answer3.1), \"56172\")), \"0df64c3fe898af6566c4685a7ac7f8b9\"))\n",
    "\n",
    "print('Success!')"
   ]
  },
  {
   "cell_type": "markdown",
   "metadata": {
    "deletable": false,
    "editable": false,
    "nbgrader": {
     "cell_type": "markdown",
     "checksum": "19bbf3af48fec5437347ea298a075b1d",
     "grade": false,
     "grade_id": "cell-ffe5e8d830e11e01",
     "locked": true,
     "schema_version": 3,
     "solution": false,
     "task": false
    }
   },
   "source": [
    "**Question 3.2**\n",
    "<br> {points: 1}\n",
    "\n",
    "Now we'll visualize the data. In order to do this, we need to take the correct subset of data from the table and use `ggplot` to plot the result. Note that we make the scatter plot slightly transparent (using `alpha = 0.01` in the code below) because there is so much data that it would otherwise be hard to see anything (*overplotting*).\n",
    "\n",
    "In the below cell, you'll see some lines of code (currently commented out with `#` characters). **Remove the comments and rearrange these lines of code** to plot the ratio of pledged and goal funding as a function of project deadline date for all successful (where pledged funding is greater than goal funding) projects in the United States in the dataset. You don't need to add any new code, just reorder the lines we have given you.\n",
    "\n",
    "*Note: there is a lot of data to plot here, so give it a moment to display!*\n",
    "\n",
    "*Hint: you'll want to put all the dataframe manipulation functions first, and then the plotting functions afterward. Also note that some lines have a `+` at the end, meaning they're in the middle of the plotting code! To not be overwhelmed trying to solve all the code at once, focus on one step at a time and uncomment only the code needed to run that one step. When that step works, move on to the next.*\n"
   ]
  },
  {
   "cell_type": "code",
   "execution_count": null,
   "metadata": {
    "deletable": false,
    "nbgrader": {
     "cell_type": "code",
     "checksum": "4584a143fe6d1bf1854ad24fb2148492",
     "grade": false,
     "grade_id": "cell-9ec0312afc478428",
     "locked": false,
     "schema_version": 3,
     "solution": true,
     "task": false
    }
   },
   "outputs": [],
   "source": [
    "#     geom_point(alpha = 0.01) +\n",
    "# funding_over_time_plot <- ggplot(prj, aes(x = as_datetime(deadline), y = pledged / goal)) +\n",
    "#     ylab('Pledged Funding / Goal Funding')\n",
    "# prj <- filter(prj_unfiltered, pledged > goal & country == \"US\")\n",
    "#     scale_y_continuous(trans = 'log10', breaks = c(1, 10, 100, 1000)) +\n",
    "#     xlab('Date') +\n",
    "#     theme(panel.grid.major = element_blank(), panel.grid.minor = element_blank()) +\n",
    "# prj_unfiltered <- select(project_data, 'deadline', 'pledged', 'goal', 'country')\n",
    "\n",
    "# your code here\n",
    "fail() # No Answer - remove if you provide an answer"
   ]
  },
  {
   "cell_type": "code",
   "execution_count": null,
   "metadata": {
    "deletable": false,
    "editable": false,
    "nbgrader": {
     "cell_type": "code",
     "checksum": "d0596e695b5c814653d6673d0b088677",
     "grade": true,
     "grade_id": "cell-52e8a2b1e3010e05",
     "locked": true,
     "points": 1,
     "schema_version": 3,
     "solution": false,
     "task": false
    }
   },
   "outputs": [],
   "source": [
    "library(digest)\n",
    "stopifnot(\"prj_unfiltered should be a data frame\"= setequal(digest(paste(toString('tbl_dbi' %in% class(prj_unfiltered)), \"2264\")), \"d6f74863295f4b3ca8c180e75dd5b7f2\"))\n",
    "stopifnot(\"prj_unfiltered does not contain the correct number of rows\"= setequal(digest(paste(toString(collect(count(prj_unfiltered))$n), \"2264\")), \"451a997c1a94bc236f56572e0a1881c1\"))\n",
    "stopifnot(\"prj_unfiltered does not contain the correct columns\"= setequal(digest(paste(toString(sort(colnames(prj_unfiltered))), \"2264\")), \"813d898bcccbb87d8126a83f6bf02091\"))\n",
    "\n",
    "stopifnot(\"prj should be a data frame\"= setequal(digest(paste(toString('tbl_dbi' %in% class(prj)), \"2265\")), \"dc75d30544a9e1c8091a2f3d161ae546\"))\n",
    "stopifnot(\"prj does not contain the correct number of rows\"= setequal(digest(paste(toString(collect(count(prj))$n), \"2265\")), \"53ea596acf71ab4c86b6122e2ab74e9d\"))\n",
    "stopifnot(\"prj does not contain the correct columns\"= setequal(digest(paste(toString(sort(colnames(prj))), \"2265\")), \"38c80da0a977a38545b4673fde06dba4\"))\n",
    "\n",
    "stopifnot(\"type of plot is not correct (if you are using two types of geoms, try flipping the order of the geom objects!)\"= setequal(digest(paste(toString(sapply(seq_len(length(funding_over_time_plot$layers)), function(i) {c(class(funding_over_time_plot$layers[[i]]$geom))[1]})), \"2266\")), \"a79a81aa7eb3abda993f3560d27d2836\"))\n",
    "stopifnot(\"variable x is not correct\"= setequal(digest(paste(toString(unlist(lapply(sapply(seq_len(length(funding_over_time_plot$layers)), function(i) {rlang::get_expr(c(funding_over_time_plot$layers[[i]]$mapping, funding_over_time_plot$mapping)$x)}), as.character))), \"2266\")), \"fb057927c3d0a8b3077a9471ef832bf2\"))\n",
    "stopifnot(\"variable y is not correct\"= setequal(digest(paste(toString(unlist(lapply(sapply(seq_len(length(funding_over_time_plot$layers)), function(i) {rlang::get_expr(c(funding_over_time_plot$layers[[i]]$mapping, funding_over_time_plot$mapping)$y)}), as.character))), \"2266\")), \"278723c529555286a68d4fcd123f8692\"))\n",
    "stopifnot(\"x-axis label is not descriptive, nicely formatted, or human readable\"= setequal(digest(paste(toString(rlang::get_expr(c(funding_over_time_plot$layers[[1]]$mapping, funding_over_time_plot$mapping)$x)!= funding_over_time_plot$labels$x), \"2266\")), \"aa32fd6c6d063d60eac18255ef5b654c\"))\n",
    "stopifnot(\"y-axis label is not descriptive, nicely formatted, or human readable\"= setequal(digest(paste(toString(rlang::get_expr(c(funding_over_time_plot$layers[[1]]$mapping, funding_over_time_plot$mapping)$y)!= funding_over_time_plot$labels$y), \"2266\")), \"aa32fd6c6d063d60eac18255ef5b654c\"))\n",
    "stopifnot(\"incorrect colour variable in funding_over_time_plot, specify a correct one if required\"= setequal(digest(paste(toString(rlang::get_expr(c(funding_over_time_plot$layers[[1]]$mapping, funding_over_time_plot$mapping)$colour)), \"2266\")), \"924c1bdd27da4b90e4455fc14c02ff1f\"))\n",
    "stopifnot(\"incorrect shape variable in funding_over_time_plot, specify a correct one if required\"= setequal(digest(paste(toString(rlang::get_expr(c(funding_over_time_plot$layers[[1]]$mapping, funding_over_time_plot$mapping)$shape)), \"2266\")), \"924c1bdd27da4b90e4455fc14c02ff1f\"))\n",
    "stopifnot(\"the colour label in funding_over_time_plot is not descriptive, nicely formatted, or human readable\"= setequal(digest(paste(toString(rlang::get_expr(c(funding_over_time_plot$layers[[1]]$mapping, funding_over_time_plot$mapping)$colour) != funding_over_time_plot$labels$colour), \"2266\")), \"924c1bdd27da4b90e4455fc14c02ff1f\"))\n",
    "stopifnot(\"the shape label in funding_over_time_plot is not descriptive, nicely formatted, or human readable\"= setequal(digest(paste(toString(rlang::get_expr(c(funding_over_time_plot$layers[[1]]$mapping, funding_over_time_plot$mapping)$colour) != funding_over_time_plot$labels$shape), \"2266\")), \"924c1bdd27da4b90e4455fc14c02ff1f\"))\n",
    "stopifnot(\"fill variable in funding_over_time_plot is not correct\"= setequal(digest(paste(toString(quo_name(funding_over_time_plot$mapping$fill)), \"2266\")), \"042710115aa4669b595d9321db8abfe4\"))\n",
    "stopifnot(\"fill label in funding_over_time_plot is not informative\"= setequal(digest(paste(toString((quo_name(funding_over_time_plot$mapping$fill) != funding_over_time_plot$labels$fill)), \"2266\")), \"924c1bdd27da4b90e4455fc14c02ff1f\"))\n",
    "stopifnot(\"position argument in funding_over_time_plot is not correct\"= setequal(digest(paste(toString(class(funding_over_time_plot$layers[[1]]$position)[1]), \"2266\")), \"8e51ae714cea683dab5687ff8971ec15\"))\n",
    "\n",
    "stopifnot(\"funding_over_time_plot$data should be a data frame\"= setequal(digest(paste(toString('data.frame' %in% class(funding_over_time_plot$data)), \"2267\")), \"7678dfec9f04901d6786781806060f62\"))\n",
    "stopifnot(\"dimensions of funding_over_time_plot$data are not correct\"= setequal(digest(paste(toString(dim(funding_over_time_plot$data)), \"2267\")), \"706666b1a15e7647bdf67b51f8d1e680\"))\n",
    "stopifnot(\"column names of funding_over_time_plot$data are not correct\"= setequal(digest(paste(toString(sort(colnames(funding_over_time_plot$data))), \"2267\")), \"ce55da4b6cfdd55175a19b47bf0be906\"))\n",
    "stopifnot(\"types of columns in funding_over_time_plot$data are not correct\"= setequal(digest(paste(toString(sort(unlist(sapply(funding_over_time_plot$data, class)))), \"2267\")), \"e2d271d248a1f898e20a5c6da1afd4b5\"))\n",
    "stopifnot(\"values in one or more numerical columns in funding_over_time_plot$data are not correct\"= setequal(digest(paste(toString(if (any(sapply(funding_over_time_plot$data, is.numeric))) sort(round(sapply(funding_over_time_plot$data[, sapply(funding_over_time_plot$data, is.numeric)], sum, na.rm = TRUE), 2)) else 0), \"2267\")), \"adc3110574fd6fa1f7bf66f61461c8ec\"))\n",
    "stopifnot(\"values in one or more character columns in funding_over_time_plot$data are not correct\"= setequal(digest(paste(toString(if (any(sapply(funding_over_time_plot$data, is.character))) sum(sapply(funding_over_time_plot$data[sapply(funding_over_time_plot$data, is.character)], function(x) length(unique(x)))) else 0), \"2267\")), \"d2a9c18ad6a71f582af20790a06d50dc\"))\n",
    "stopifnot(\"values in one or more factor columns in funding_over_time_plot$data are not correct\"= setequal(digest(paste(toString(if (any(sapply(funding_over_time_plot$data, is.factor))) sum(sapply(funding_over_time_plot$data[, sapply(funding_over_time_plot$data, is.factor)], function(col) length(unique(col)))) else 0), \"2267\")), \"bc4c0d9c5229ce602e70406c54235b20\"))\n",
    "\n",
    "print('Success!')"
   ]
  },
  {
   "cell_type": "markdown",
   "metadata": {},
   "source": [
    "**Question 3.3**\n",
    "<br> {points: 3}\n",
    "\n",
    "Is there a relationship between the ratio of pledged/goal funding and time? If so, describe it.\n",
    "\n",
    "Additionally, mention a pattern in the data or a characteristic of it that you may not have expected in advance.\n"
   ]
  },
  {
   "cell_type": "markdown",
   "metadata": {
    "deletable": false,
    "nbgrader": {
     "cell_type": "markdown",
     "checksum": "f8a415075c26b9ec7d44b647d57d9087",
     "grade": true,
     "grade_id": "cell-7e7c080ca369e735",
     "locked": false,
     "points": 3,
     "schema_version": 3,
     "solution": true,
     "task": false
    }
   },
   "source": [
    "DOUBLE CLICK TO EDIT **THIS CELL** AND REPLACE THIS TEXT WITH YOUR ANSWER."
   ]
  },
  {
   "cell_type": "markdown",
   "metadata": {
    "deletable": false,
    "editable": false,
    "nbgrader": {
     "cell_type": "markdown",
     "checksum": "defeb7dec006b35555bd303566762cf3",
     "grade": false,
     "grade_id": "cell-b4092fe897ccd0f2",
     "locked": true,
     "schema_version": 3,
     "solution": false,
     "task": false
    }
   },
   "source": [
    "**Question 3.4**\n",
    "<br> {points: 1}\n",
    "\n",
    "Finally, we'll save the project data to a local file in the `data/` folder called `project_data.csv`. Recall that we don't want to try to download and save the *entire dataset* (way too much data!) from the database, but only the `tbl` object named `prj`. So you will need to use the `collect` function followed by the appropriate `write_*` function.\n",
    "\n",
    "*Assign the output of collect to an object called `project_df`*"
   ]
  },
  {
   "cell_type": "code",
   "execution_count": null,
   "metadata": {
    "deletable": false,
    "nbgrader": {
     "cell_type": "code",
     "checksum": "1625b7b4b77ad629af04b19f8a4f88f3",
     "grade": false,
     "grade_id": "cell-d9df612336bc209a",
     "locked": false,
     "schema_version": 3,
     "solution": true,
     "task": false
    }
   },
   "outputs": [],
   "source": [
    "# your code here\n",
    "fail() # No Answer - remove if you provide an answer"
   ]
  },
  {
   "cell_type": "code",
   "execution_count": null,
   "metadata": {
    "deletable": false,
    "editable": false,
    "nbgrader": {
     "cell_type": "code",
     "checksum": "8d8dcd41d30d54d0e83e8521d33d26bb",
     "grade": true,
     "grade_id": "cell-38725218bfd3fa34",
     "locked": true,
     "points": 1,
     "schema_version": 3,
     "solution": false,
     "task": false
    }
   },
   "outputs": [],
   "source": [
    "library(digest)\n",
    "stopifnot(\"project_df should be a data frame\"= setequal(digest(paste(toString('data.frame' %in% class(project_df)), \"9bb9d\")), \"26001e03cf64c3beb886023de9a837cc\"))\n",
    "stopifnot(\"dimensions of project_df are not correct\"= setequal(digest(paste(toString(dim(project_df)), \"9bb9d\")), \"edff5185408e46dc935ee906ecfde3b9\"))\n",
    "stopifnot(\"column names of project_df are not correct\"= setequal(digest(paste(toString(sort(colnames(project_df))), \"9bb9d\")), \"5650fe6a9da69292ff138487aff722d6\"))\n",
    "stopifnot(\"types of columns in project_df are not correct\"= setequal(digest(paste(toString(sort(unlist(sapply(project_df, class)))), \"9bb9d\")), \"b41c4b1935e4cd321a07aab66fc41874\"))\n",
    "stopifnot(\"values in one or more numerical columns in project_df are not correct\"= setequal(digest(paste(toString(if (any(sapply(project_df, is.numeric))) sort(round(sapply(project_df[, sapply(project_df, is.numeric)], sum, na.rm = TRUE), 2)) else 0), \"9bb9d\")), \"0ffc80028ef23eab6f505d4549a78399\"))\n",
    "stopifnot(\"values in one or more character columns in project_df are not correct\"= setequal(digest(paste(toString(if (any(sapply(project_df, is.character))) sum(sapply(project_df[sapply(project_df, is.character)], function(x) length(unique(x)))) else 0), \"9bb9d\")), \"c8af8224db3c35bc29b3cfe31ed50e23\"))\n",
    "stopifnot(\"values in one or more factor columns in project_df are not correct\"= setequal(digest(paste(toString(if (any(sapply(project_df, is.factor))) sum(sapply(project_df[, sapply(project_df, is.factor)], function(col) length(unique(col)))) else 0), \"9bb9d\")), \"8deb4828e1e23159f5d3b0254a4d1d0a\"))\n",
    "\n",
    "stopifnot(\"type of file.exists('data/project_data.csv') is not logical\"= setequal(digest(paste(toString(class(file.exists('data/project_data.csv'))), \"9bb9e\")), \"12cfc8caef051f80f281979451d5ddd1\"))\n",
    "stopifnot(\"logical value of file.exists('data/project_data.csv') is not correct\"= setequal(digest(paste(toString(file.exists('data/project_data.csv')), \"9bb9e\")), \"6d72cc04d7002212738d1b8c7cea3885\"))\n",
    "\n",
    "stopifnot(\"read_csv('data/project_data.csv', show_col_types = FALSE) should be a data frame\"= setequal(digest(paste(toString('data.frame' %in% class(read_csv('data/project_data.csv', show_col_types = FALSE))), \"9bb9f\")), \"76af0d06ae13396a8a028892106ff904\"))\n",
    "stopifnot(\"dimensions of read_csv('data/project_data.csv', show_col_types = FALSE) are not correct\"= setequal(digest(paste(toString(dim(read_csv('data/project_data.csv', show_col_types = FALSE))), \"9bb9f\")), \"418f44515b6bbe54944a0e802c3d0c8f\"))\n",
    "stopifnot(\"column names of read_csv('data/project_data.csv', show_col_types = FALSE) are not correct\"= setequal(digest(paste(toString(sort(colnames(read_csv('data/project_data.csv', show_col_types = FALSE)))), \"9bb9f\")), \"a3908f4894b9e22b5a4ee6fb528a95f7\"))\n",
    "stopifnot(\"types of columns in read_csv('data/project_data.csv', show_col_types = FALSE) are not correct\"= setequal(digest(paste(toString(sort(unlist(sapply(read_csv('data/project_data.csv', show_col_types = FALSE), class)))), \"9bb9f\")), \"0a8bbafe75664dd5f3470181e2d4587b\"))\n",
    "stopifnot(\"values in one or more numerical columns in read_csv('data/project_data.csv', show_col_types = FALSE) are not correct\"= setequal(digest(paste(toString(if (any(sapply(read_csv('data/project_data.csv', show_col_types = FALSE), is.numeric))) sort(round(sapply(read_csv('data/project_data.csv', show_col_types = FALSE)[, sapply(read_csv('data/project_data.csv', show_col_types = FALSE), is.numeric)], sum, na.rm = TRUE), 2)) else 0), \"9bb9f\")), \"f7e9e52832662092685eb6cc327816a0\"))\n",
    "stopifnot(\"values in one or more character columns in read_csv('data/project_data.csv', show_col_types = FALSE) are not correct\"= setequal(digest(paste(toString(if (any(sapply(read_csv('data/project_data.csv', show_col_types = FALSE), is.character))) sum(sapply(read_csv('data/project_data.csv', show_col_types = FALSE)[sapply(read_csv('data/project_data.csv', show_col_types = FALSE), is.character)], function(x) length(unique(x)))) else 0), \"9bb9f\")), \"4966bbbed7000f199e506e7fb1b5cd82\"))\n",
    "stopifnot(\"values in one or more factor columns in read_csv('data/project_data.csv', show_col_types = FALSE) are not correct\"= setequal(digest(paste(toString(if (any(sapply(read_csv('data/project_data.csv', show_col_types = FALSE), is.factor))) sum(sapply(read_csv('data/project_data.csv', show_col_types = FALSE)[, sapply(read_csv('data/project_data.csv', show_col_types = FALSE), is.factor)], function(col) length(unique(col)))) else 0), \"9bb9f\")), \"d94ee172da04e6c8e958fedf0d088767\"))\n",
    "\n",
    "print('Success!')"
   ]
  },
  {
   "cell_type": "markdown",
   "metadata": {
    "deletable": false,
    "editable": false,
    "nbgrader": {
     "cell_type": "markdown",
     "checksum": "2a4e9b8c9c81ffa00ddb544955ba3a76",
     "grade": false,
     "grade_id": "cell-c3a172ed85763db9",
     "locked": true,
     "schema_version": 3,
     "solution": false
    }
   },
   "source": [
    "## 4 (Optional). Reading Data from the Internet\n",
    "\n",
    "**Question 4.0**\n",
    "<br> {points: 0}\n",
    "\n",
    "More practice scraping! To keep ourselves out of legal hot water, we will get more practice scraping data using a website that was created for that purpose: http://books.toscrape.com/\n",
    "\n",
    "Your task here is to scrape the prices of the science fiction novels on [this page](http://books.toscrape.com/catalogue/category/books/science-fiction_16/index.html) and determine the maximum, minimum and average price of science fiction novels at this bookstore. Tidy up and nicely present your results by creating a data frame called `sci_fi_stats` that has 2 columns, one called `stats` that contains the words `max`, `min` and `mean` and once called `value` that contains the calculated value for each of these.\n",
    "\n",
    "The functions for maximum, minimum and average in R are listed in the table below:\n",
    "\n",
    "| Calculation to perform | Function in R |\n",
    "| ---------------------- | ------------- |\n",
    "| maximum                | `max`         |\n",
    "| minimum                | `min`         |\n",
    "| average                | `mean`        |\n",
    "\n",
    "Some other helpful hints:\n",
    "- If you end up scraping some characters other than numbers you will have to use `str_replace_all` from the `stringr` library to remove them (similar to what we did with the commas in worksheet_02).\n",
    "- Use `as.numeric` to convert your character type numbers to numeric type numbers before you pass them into the `max`, `min` and `mean` functions.\n",
    "- If you have `NA` values in your objects that you need to pass into the `max`, `min` and `mean` functions, you will need to set the `na.rm` argument in these functions to `TRUE`.\n",
    "- use the function `c` to create the vectors that will go in your data frame, for example, to create a vector with the values 10, 16 and 13 named ages, we would type: `ages <- c(10, 16, 13)`.\n",
    "- use the function `tibble` to create the data frame from your vectors."
   ]
  },
  {
   "cell_type": "code",
   "execution_count": null,
   "metadata": {
    "deletable": false,
    "nbgrader": {
     "cell_type": "code",
     "checksum": "17f55a9225b65630469d5b67402663eb",
     "grade": false,
     "grade_id": "cell-cdd2ec3a736e9ec0",
     "locked": false,
     "schema_version": 3,
     "solution": true,
     "task": false
    }
   },
   "outputs": [],
   "source": [
    "# your code here\n",
    "fail() # No Answer - remove if you provide an answer\n",
    "sci_fi_stats"
   ]
  },
  {
   "cell_type": "markdown",
   "metadata": {
    "deletable": false,
    "editable": false,
    "nbgrader": {
     "cell_type": "markdown",
     "checksum": "e82cdc3778ee747e16e33a026ab4a644",
     "grade": false,
     "grade_id": "cell-13d529c24ab24f75",
     "locked": true,
     "schema_version": 3,
     "solution": false
    }
   },
   "source": [
    "**Question 4.1**\n",
    "<br> {points: 0}\n",
    "\n",
    "In `worksheet_reading` you had practice scraping data from the web. Now that you have the skills, should you scrape that website you have been dreaming of harvesting data from? Maybe, maybe not... You should check the website's Terms of Service first and consider the application you have planned for the data after you scrape it.\n",
    "\n",
    "List 3 websites you might be interested in scraping data from (for fun, profit, or research/education). List their URLs as part of your answer. For each website, search for their Terms of Service page. Take note if such a page exists, and if it does, provide the link to it and tell us whether or not they allow web scraping of their website."
   ]
  },
  {
   "cell_type": "markdown",
   "metadata": {},
   "source": [
    "You can list them in this cell! Double click to edit."
   ]
  },
  {
   "cell_type": "markdown",
   "metadata": {
    "deletable": false,
    "editable": false,
    "nbgrader": {
     "cell_type": "markdown",
     "checksum": "14dec927f877ea01324d2d7d37cf5b1b",
     "grade": false,
     "grade_id": "cell-902d3d49c93b4eac",
     "locked": true,
     "schema_version": 3,
     "solution": false,
     "task": false
    }
   },
   "source": [
    "### Bonus/optional additional readings on legalities of web scraping:\n",
    "\n",
    "Here are two recent news stories about web scraping and their legal implications:\n",
    "\n",
    "- [D.C. Court: Accessing Public Information is Not a Computer Crime](https://www.eff.org/deeplinks/2018/04/dc-court-accessing-public-information-not-computer-crime)\n",
    "\n",
    "- [Dear Canada: Accessing Publicly Available Information on the Internet Is Not a Crime](https://www.eff.org/deeplinks/2018/04/dear-canada-accessing-publicly-available-information-internet-not-crime)"
   ]
  },
  {
   "cell_type": "code",
   "execution_count": null,
   "metadata": {
    "deletable": false,
    "editable": false,
    "nbgrader": {
     "cell_type": "code",
     "checksum": "fa82c8fb011396af7a3c4fd135ef8fe4",
     "grade": false,
     "grade_id": "cell-4d35a9e96ab52622",
     "locked": true,
     "schema_version": 3,
     "solution": false,
     "task": false
    }
   },
   "outputs": [],
   "source": [
    "source(\"cleanup.R\")"
   ]
  }
 ],
 "metadata": {
  "kernelspec": {
   "display_name": "R",
   "language": "R",
   "name": "ir"
  },
  "language_info": {
   "codemirror_mode": "r",
   "file_extension": ".r",
   "mimetype": "text/x-r-source",
   "name": "R",
   "pygments_lexer": "r",
   "version": "4.2.3"
  }
 },
 "nbformat": 4,
 "nbformat_minor": 4
}
