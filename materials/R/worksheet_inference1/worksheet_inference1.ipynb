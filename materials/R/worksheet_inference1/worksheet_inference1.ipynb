{
 "cells": [
  {
   "cell_type": "markdown",
   "metadata": {
    "deletable": false,
    "editable": false,
    "nbgrader": {
     "cell_type": "markdown",
     "checksum": "9f095b301901076af9a4533a5d49b0f2",
     "grade": false,
     "grade_id": "cell-f9cd89ad16c3393f",
     "locked": true,
     "schema_version": 3,
     "solution": false,
     "task": false
    }
   },
   "source": [
    "# Worksheet: Statistical Inference I\n",
    "\n",
    "This worksheet covers the [Statistical inference](https://datasciencebook.ca/inference.html) chapter of the online textbook, which also lists the learning objectives for this worksheet. You should read the textbook chapter before attempting this worksheet. "
   ]
  },
  {
   "cell_type": "code",
   "execution_count": null,
   "metadata": {
    "deletable": false,
    "editable": false,
    "nbgrader": {
     "cell_type": "code",
     "checksum": "6ffd7e07414588d72839a9e33fd57df8",
     "grade": false,
     "grade_id": "cell-5e46ba6301dcd126",
     "locked": true,
     "schema_version": 3,
     "solution": false,
     "task": false
    }
   },
   "outputs": [],
   "source": [
    "### Run this cell before continuing.\n",
    "library(tidyverse)\n",
    "library(repr)\n",
    "library(infer)\n",
    "library(cowplot)\n",
    "options(repr.matrix.max.rows = 6)\n",
    "source('cleanup.R')"
   ]
  },
  {
   "cell_type": "markdown",
   "metadata": {
    "deletable": false,
    "editable": false,
    "nbgrader": {
     "cell_type": "markdown",
     "checksum": "60d15296f7fb074f916290930f01b83d",
     "grade": false,
     "grade_id": "cell-3d0ceca6b0e205c4",
     "locked": true,
     "schema_version": 3,
     "solution": false,
     "task": false
    }
   },
   "source": [
    "**Question 1.1** Matching:\n",
    "<br> {points: 1}\n",
    "\n",
    "Read the mixed up table below and assign the variables in the code cell below a number to match the the term to its correct definition. Do not put quotations around the number or include words in the answer, we are expecting the assigned values to be numbers.\n",
    "\n",
    "| Terms |  Definitions |\n",
    "|----------------|------------|\n",
    "| <p align=\"left\">point estimate | <p align=\"left\">1. the entire set of entities/objects of interest |\n",
    "| <p align=\"left\">population | <p align=\"left\">2. selecting a subset of observations from a population where each observation is equally likely to be selected at any point during the selection process|\n",
    "| <p align=\"left\">random sampling | <p align=\"left\">3. a numerical summary value about the population |\n",
    "| <p align=\"left\">representative sampling | <p align=\"left\">4. a distribution of point estimates, where each point estimate was calculated from a different random sample from the same population |\n",
    "| <p align=\"left\">population parameter | <p align=\"left\">5. a collection of observations from a population |\n",
    "| <p align=\"left\">sample |  <p align=\"left\">6. a single number calculated from a random sample that estimates an unknown population parameter of interest |\n",
    "| <p align=\"left\">observation | <p align=\"left\">7. selecting a subset of observations from a population where the sample’s characteristics are a good representation of the population’s characteristics |\n",
    "| <p align=\"left\">sampling distribution | <p align=\"left\">8. a quantity or a quality (or set of these) we collect from a given entity/object |"
   ]
  },
  {
   "cell_type": "code",
   "execution_count": null,
   "metadata": {
    "deletable": false,
    "nbgrader": {
     "cell_type": "code",
     "checksum": "4559758c579dba962bc3008180f8d6db",
     "grade": false,
     "grade_id": "cell-02ca79301e6453c8",
     "locked": false,
     "schema_version": 3,
     "solution": true,
     "task": false
    }
   },
   "outputs": [],
   "source": [
    "point_estimate <- NULL\n",
    "population <- NULL\n",
    "random_sampling <- NULL\n",
    "representative_sampling <- NULL\n",
    "population_parameter <- NULL\n",
    "sample <- NULL\n",
    "observation <- NULL\n",
    "sampling_distribution <- NULL\n",
    "\n",
    "# your code here\n",
    "fail() # No Answer - remove if you provide an answer"
   ]
  },
  {
   "cell_type": "code",
   "execution_count": null,
   "metadata": {
    "deletable": false,
    "editable": false,
    "nbgrader": {
     "cell_type": "code",
     "checksum": "2a5bc12b25985e3f73e00c78140bd70a",
     "grade": true,
     "grade_id": "cell-3e20f546495eda51",
     "locked": true,
     "points": 1,
     "schema_version": 3,
     "solution": false,
     "task": false
    }
   },
   "outputs": [],
   "source": [
    "library(digest)\n",
    "stopifnot(\"type of point_estimate is not numeric\"= setequal(digest(paste(toString(class(point_estimate)), \"9b235\")), \"781ed9ff784a2f7eba5148838e0a6689\"))\n",
    "stopifnot(\"value of point_estimate is not correct (rounded to 2 decimal places)\"= setequal(digest(paste(toString(round(point_estimate, 2)), \"9b235\")), \"8aa91a1ff866cd59356d3efb1bab8238\"))\n",
    "stopifnot(\"length of point_estimate is not correct\"= setequal(digest(paste(toString(length(point_estimate)), \"9b235\")), \"dc04dba09f286a3fcdc10fab298ac846\"))\n",
    "stopifnot(\"values of point_estimate are not correct\"= setequal(digest(paste(toString(sort(round(point_estimate, 2))), \"9b235\")), \"8aa91a1ff866cd59356d3efb1bab8238\"))\n",
    "\n",
    "stopifnot(\"type of population is not numeric\"= setequal(digest(paste(toString(class(population)), \"9b236\")), \"5532024e26640aa2dfafcf8e1d314281\"))\n",
    "stopifnot(\"value of population is not correct (rounded to 2 decimal places)\"= setequal(digest(paste(toString(round(population, 2)), \"9b236\")), \"f8ff610d8f13df6b8182cccf6941f82e\"))\n",
    "stopifnot(\"length of population is not correct\"= setequal(digest(paste(toString(length(population)), \"9b236\")), \"f8ff610d8f13df6b8182cccf6941f82e\"))\n",
    "stopifnot(\"values of population are not correct\"= setequal(digest(paste(toString(sort(round(population, 2))), \"9b236\")), \"f8ff610d8f13df6b8182cccf6941f82e\"))\n",
    "\n",
    "stopifnot(\"type of random_sampling is not numeric\"= setequal(digest(paste(toString(class(random_sampling)), \"9b237\")), \"4067661c5db4f7e82275342f83861c6e\"))\n",
    "stopifnot(\"value of random_sampling is not correct (rounded to 2 decimal places)\"= setequal(digest(paste(toString(round(random_sampling, 2)), \"9b237\")), \"a1e27ac484d1d714a302f07c2812de9a\"))\n",
    "stopifnot(\"length of random_sampling is not correct\"= setequal(digest(paste(toString(length(random_sampling)), \"9b237\")), \"0180179ac103a97c8299cef7ac335e52\"))\n",
    "stopifnot(\"values of random_sampling are not correct\"= setequal(digest(paste(toString(sort(round(random_sampling, 2))), \"9b237\")), \"a1e27ac484d1d714a302f07c2812de9a\"))\n",
    "\n",
    "stopifnot(\"type of representative_sampling is not numeric\"= setequal(digest(paste(toString(class(representative_sampling)), \"9b238\")), \"49e4823dacd4fa53a9fe6c1c7e467d6e\"))\n",
    "stopifnot(\"value of representative_sampling is not correct (rounded to 2 decimal places)\"= setequal(digest(paste(toString(round(representative_sampling, 2)), \"9b238\")), \"cdd34d048e854877b7725cf210b7bb0b\"))\n",
    "stopifnot(\"length of representative_sampling is not correct\"= setequal(digest(paste(toString(length(representative_sampling)), \"9b238\")), \"2aeb13d4bc5c27ceb602ac74f28d1880\"))\n",
    "stopifnot(\"values of representative_sampling are not correct\"= setequal(digest(paste(toString(sort(round(representative_sampling, 2))), \"9b238\")), \"cdd34d048e854877b7725cf210b7bb0b\"))\n",
    "\n",
    "stopifnot(\"type of population_parameter is not numeric\"= setequal(digest(paste(toString(class(population_parameter)), \"9b239\")), \"c3b0ee61e40abd16028e07dbaf612136\"))\n",
    "stopifnot(\"value of population_parameter is not correct (rounded to 2 decimal places)\"= setequal(digest(paste(toString(round(population_parameter, 2)), \"9b239\")), \"f753a32addd9a8a4db0b4f93619aa8af\"))\n",
    "stopifnot(\"length of population_parameter is not correct\"= setequal(digest(paste(toString(length(population_parameter)), \"9b239\")), \"44b695dc8fbf3e757d984f6a2c9f577e\"))\n",
    "stopifnot(\"values of population_parameter are not correct\"= setequal(digest(paste(toString(sort(round(population_parameter, 2))), \"9b239\")), \"f753a32addd9a8a4db0b4f93619aa8af\"))\n",
    "\n",
    "stopifnot(\"type of sample is not numeric\"= setequal(digest(paste(toString(class(sample)), \"9b23a\")), \"979a9c67bc8b1fa370ce7836a4603e38\"))\n",
    "stopifnot(\"value of sample is not correct (rounded to 2 decimal places)\"= setequal(digest(paste(toString(round(sample, 2)), \"9b23a\")), \"392c8035eea59e8c23c949b377466553\"))\n",
    "stopifnot(\"length of sample is not correct\"= setequal(digest(paste(toString(length(sample)), \"9b23a\")), \"dc1fecc530a25ac0b386c1ef2e635922\"))\n",
    "stopifnot(\"values of sample are not correct\"= setequal(digest(paste(toString(sort(round(sample, 2))), \"9b23a\")), \"392c8035eea59e8c23c949b377466553\"))\n",
    "\n",
    "stopifnot(\"type of observation is not numeric\"= setequal(digest(paste(toString(class(observation)), \"9b23b\")), \"ec4d0b07d8e307ffa955469a0dde68b8\"))\n",
    "stopifnot(\"value of observation is not correct (rounded to 2 decimal places)\"= setequal(digest(paste(toString(round(observation, 2)), \"9b23b\")), \"0b1e164096e8291ca5c820356adac9d0\"))\n",
    "stopifnot(\"length of observation is not correct\"= setequal(digest(paste(toString(length(observation)), \"9b23b\")), \"7353b306a548bc19c81d784442f1b21e\"))\n",
    "stopifnot(\"values of observation are not correct\"= setequal(digest(paste(toString(sort(round(observation, 2))), \"9b23b\")), \"0b1e164096e8291ca5c820356adac9d0\"))\n",
    "\n",
    "stopifnot(\"type of sampling_distribution is not numeric\"= setequal(digest(paste(toString(class(sampling_distribution)), \"9b23c\")), \"fb8706a1ecb6ab2c9c4fc4aaf65af966\"))\n",
    "stopifnot(\"value of sampling_distribution is not correct (rounded to 2 decimal places)\"= setequal(digest(paste(toString(round(sampling_distribution, 2)), \"9b23c\")), \"0cec308c1ecf854a4f4f55b3a95c3722\"))\n",
    "stopifnot(\"length of sampling_distribution is not correct\"= setequal(digest(paste(toString(length(sampling_distribution)), \"9b23c\")), \"231ff24a49b61eac2d39b764ad40fada\"))\n",
    "stopifnot(\"values of sampling_distribution are not correct\"= setequal(digest(paste(toString(sort(round(sampling_distribution, 2))), \"9b23c\")), \"0cec308c1ecf854a4f4f55b3a95c3722\"))\n",
    "\n",
    "print('Success!')"
   ]
  },
  {
   "cell_type": "markdown",
   "metadata": {
    "deletable": false,
    "editable": false,
    "nbgrader": {
     "cell_type": "markdown",
     "checksum": "0d56c8b9cb190be80b87d69479c8b02b",
     "grade": false,
     "grade_id": "cell-4b8df8ad154a3900",
     "locked": true,
     "schema_version": 3,
     "solution": false,
     "task": false
    }
   },
   "source": [
    "###  Virtual sampling simulation\n",
    "\n",
    "In real life, we rarely, if ever, have measurements for our entire population. Here, however, we will pretend that we somehow were able to ask every single Canadian senior what their age is. We will do this so that we can experiment to learn about sampling and how this relates to estimation.\n",
    "\n",
    "Here we make a simulated dataset of ages for our population (all Canadian seniors) bounded by realistic values ($\\geq$ 65 and $\\leq$ 117):"
   ]
  },
  {
   "cell_type": "code",
   "execution_count": null,
   "metadata": {
    "deletable": false,
    "editable": false,
    "nbgrader": {
     "cell_type": "code",
     "checksum": "6093f4924cfa63aaaf299e375043e850",
     "grade": false,
     "grade_id": "cell-40ed1f5c6c055f97",
     "locked": true,
     "schema_version": 3,
     "solution": false,
     "task": false
    }
   },
   "outputs": [],
   "source": [
    "# run this cell to simulate a finite population\n",
    "set.seed(4321) # DO NOT CHANGE\n",
    "can_seniors <- tibble(age = (rexp(2000000, rate = 0.1)^2) + 65) |> \n",
    "    filter(age <= 117, age >= 65)\n",
    "can_seniors"
   ]
  },
  {
   "cell_type": "markdown",
   "metadata": {
    "deletable": false,
    "editable": false,
    "nbgrader": {
     "cell_type": "markdown",
     "checksum": "914b146004106cfe2547ec3882a331af",
     "grade": false,
     "grade_id": "cell-9b660b53ec2a2962",
     "locked": true,
     "schema_version": 3,
     "solution": false,
     "task": false
    }
   },
   "source": [
    "**Question 1.2** \n",
    "<br> {points: 1}\n",
    "\n",
    "A distribution defines all the possible values (or intervals) of the data and how often they occur. Visualize the distribution of the population (`can_seniors`) that was just created by plotting a histogram using `binwidth = 1` in the `geom_histogram` argument. Name the plot `pop_dist` and give the x-axis a descriptive label."
   ]
  },
  {
   "cell_type": "code",
   "execution_count": null,
   "metadata": {
    "deletable": false,
    "nbgrader": {
     "cell_type": "code",
     "checksum": "45a5e3726cb30b9a559bfc1e821bcd0a",
     "grade": false,
     "grade_id": "cell-986bdfedad27901f",
     "locked": false,
     "schema_version": 3,
     "solution": true,
     "task": false
    }
   },
   "outputs": [],
   "source": [
    "options(repr.plot.width = 8, repr.plot.height = 7)\n",
    "# ... <- ggplot(..., ...) + \n",
    "#    geom_...(...) +\n",
    "#    ... +\n",
    "#    ggtitle(\"Population distribution\")\n",
    "\n",
    "# your code here\n",
    "fail() # No Answer - remove if you provide an answer\n",
    "pop_dist"
   ]
  },
  {
   "cell_type": "code",
   "execution_count": null,
   "metadata": {
    "deletable": false,
    "editable": false,
    "nbgrader": {
     "cell_type": "code",
     "checksum": "e7267e92c9eb088503209bd45635cdda",
     "grade": true,
     "grade_id": "cell-9e86388006978a3c",
     "locked": true,
     "points": 1,
     "schema_version": 3,
     "solution": false,
     "task": false
    }
   },
   "outputs": [],
   "source": [
    "library(digest)\n",
    "stopifnot(\"type of plot is not correct (if you are using two types of geoms, try flipping the order of the geom objects!)\"= setequal(digest(paste(toString(sapply(seq_len(length(pop_dist$layers)), function(i) {c(class(pop_dist$layers[[i]]$geom))[1]})), \"412cb\")), \"d3cd534e820a68733f60716c854f7e85\"))\n",
    "stopifnot(\"variable x is not correct\"= setequal(digest(paste(toString(unlist(lapply(sapply(seq_len(length(pop_dist$layers)), function(i) {rlang::get_expr(c(pop_dist$layers[[i]]$mapping, pop_dist$mapping)$x)}), as.character))), \"412cb\")), \"0920807061fdc4c3151c0cb626840389\"))\n",
    "stopifnot(\"variable y is not correct\"= setequal(digest(paste(toString(unlist(lapply(sapply(seq_len(length(pop_dist$layers)), function(i) {rlang::get_expr(c(pop_dist$layers[[i]]$mapping, pop_dist$mapping)$y)}), as.character))), \"412cb\")), \"903648ce87afa74198f17a0d4ba3f39b\"))\n",
    "stopifnot(\"x-axis label is not descriptive, nicely formatted, or human readable\"= setequal(digest(paste(toString(rlang::get_expr(c(pop_dist$layers[[1]]$mapping, pop_dist$mapping)$x)!= pop_dist$labels$x), \"412cb\")), \"ec8527910809970d9e144c5eae4ef081\"))\n",
    "stopifnot(\"y-axis label is not descriptive, nicely formatted, or human readable\"= setequal(digest(paste(toString(rlang::get_expr(c(pop_dist$layers[[1]]$mapping, pop_dist$mapping)$y)!= pop_dist$labels$y), \"412cb\")), \"903648ce87afa74198f17a0d4ba3f39b\"))\n",
    "stopifnot(\"incorrect colour variable in pop_dist, specify a correct one if required\"= setequal(digest(paste(toString(rlang::get_expr(c(pop_dist$layers[[1]]$mapping, pop_dist$mapping)$colour)), \"412cb\")), \"903648ce87afa74198f17a0d4ba3f39b\"))\n",
    "stopifnot(\"incorrect shape variable in pop_dist, specify a correct one if required\"= setequal(digest(paste(toString(rlang::get_expr(c(pop_dist$layers[[1]]$mapping, pop_dist$mapping)$shape)), \"412cb\")), \"903648ce87afa74198f17a0d4ba3f39b\"))\n",
    "stopifnot(\"the colour label in pop_dist is not descriptive, nicely formatted, or human readable\"= setequal(digest(paste(toString(rlang::get_expr(c(pop_dist$layers[[1]]$mapping, pop_dist$mapping)$colour) != pop_dist$labels$colour), \"412cb\")), \"903648ce87afa74198f17a0d4ba3f39b\"))\n",
    "stopifnot(\"the shape label in pop_dist is not descriptive, nicely formatted, or human readable\"= setequal(digest(paste(toString(rlang::get_expr(c(pop_dist$layers[[1]]$mapping, pop_dist$mapping)$colour) != pop_dist$labels$shape), \"412cb\")), \"903648ce87afa74198f17a0d4ba3f39b\"))\n",
    "stopifnot(\"fill variable in pop_dist is not correct\"= setequal(digest(paste(toString(quo_name(pop_dist$mapping$fill)), \"412cb\")), \"998d49a135882936405d3e1143deeb87\"))\n",
    "stopifnot(\"fill label in pop_dist is not informative\"= setequal(digest(paste(toString((quo_name(pop_dist$mapping$fill) != pop_dist$labels$fill)), \"412cb\")), \"903648ce87afa74198f17a0d4ba3f39b\"))\n",
    "stopifnot(\"position argument in pop_dist is not correct\"= setequal(digest(paste(toString(class(pop_dist$layers[[1]]$position)[1]), \"412cb\")), \"3564d7df2985eeae823c3a2359804970\"))\n",
    "\n",
    "stopifnot(\"pop_dist$data should be a data frame\"= setequal(digest(paste(toString('data.frame' %in% class(pop_dist$data)), \"412cc\")), \"e31a64ea69aed860d2c6cbba95f8169e\"))\n",
    "stopifnot(\"dimensions of pop_dist$data are not correct\"= setequal(digest(paste(toString(dim(pop_dist$data)), \"412cc\")), \"1590c0bd36db02a0291fa566500562d0\"))\n",
    "stopifnot(\"column names of pop_dist$data are not correct\"= setequal(digest(paste(toString(sort(colnames(pop_dist$data))), \"412cc\")), \"fc916efdd23651968a0bd602aca824d0\"))\n",
    "stopifnot(\"types of columns in pop_dist$data are not correct\"= setequal(digest(paste(toString(sort(unlist(sapply(pop_dist$data, class)))), \"412cc\")), \"0c9a7aa95cbb2e190ded1ce870b54826\"))\n",
    "stopifnot(\"values in one or more numerical columns in pop_dist$data are not correct\"= setequal(digest(paste(toString(if (any(sapply(pop_dist$data, is.numeric))) sort(round(sapply(pop_dist$data[, sapply(pop_dist$data, is.numeric)], sum, na.rm = TRUE), 2)) else 0), \"412cc\")), \"84fe2bae08a9c6717398b07e0cc3115e\"))\n",
    "stopifnot(\"values in one or more character columns in pop_dist$data are not correct\"= setequal(digest(paste(toString(if (any(sapply(pop_dist$data, is.character))) sum(sapply(pop_dist$data[sapply(pop_dist$data, is.character)], function(x) length(unique(x)))) else 0), \"412cc\")), \"d7d133806d686e3ba2e7e036a482c2a5\"))\n",
    "stopifnot(\"values in one or more factor columns in pop_dist$data are not correct\"= setequal(digest(paste(toString(if (any(sapply(pop_dist$data, is.factor))) sum(sapply(pop_dist$data[, sapply(pop_dist$data, is.factor)], function(col) length(unique(col)))) else 0), \"412cc\")), \"d7d133806d686e3ba2e7e036a482c2a5\"))\n",
    "\n",
    "print('Success!')"
   ]
  },
  {
   "cell_type": "markdown",
   "metadata": {
    "deletable": false,
    "editable": false,
    "nbgrader": {
     "cell_type": "markdown",
     "checksum": "9360edcbe368fb7eef8f994af60a7aad",
     "grade": false,
     "grade_id": "cell-a6d7523259c0ec45",
     "locked": true,
     "schema_version": 3,
     "solution": false,
     "task": false
    }
   },
   "source": [
    "**Question 1.3** \n",
    "<br> {points: 1}\n",
    "\n",
    "Distributions are complicated to communicate, thus we often want to represent them by a single value or small number of values. Common values used for this include the mean, median, standard deviation, etc). \n",
    "\n",
    "Use `summarize` to calculate the following population parameters from the `can_seniors` population:\n",
    "- mean (use the `mean` function)\n",
    "- median (use the `median` function)\n",
    "- standard deviation (use the `sd` function)\n",
    "\n",
    "Name this data frame `pop_parameters` which has the column names `pop_mean`, `pop_med` and `pop_sd`."
   ]
  },
  {
   "cell_type": "code",
   "execution_count": null,
   "metadata": {
    "deletable": false,
    "nbgrader": {
     "cell_type": "code",
     "checksum": "036c9553c3c1a5f32341e4d3ae7e620d",
     "grade": false,
     "grade_id": "cell-e351a7d3e55d1948",
     "locked": false,
     "schema_version": 3,
     "solution": true,
     "task": false
    }
   },
   "outputs": [],
   "source": [
    "# your code here\n",
    "fail() # No Answer - remove if you provide an answer\n",
    "pop_parameters"
   ]
  },
  {
   "cell_type": "code",
   "execution_count": null,
   "metadata": {
    "deletable": false,
    "editable": false,
    "nbgrader": {
     "cell_type": "code",
     "checksum": "d563f7a1ad2f6f31f1ec65bb2dfd711d",
     "grade": true,
     "grade_id": "cell-ebeb7e12fd1b5f86",
     "locked": true,
     "points": 1,
     "schema_version": 3,
     "solution": false,
     "task": false
    }
   },
   "outputs": [],
   "source": [
    "library(digest)\n",
    "stopifnot(\"pop_parameters should be a data frame\"= setequal(digest(paste(toString('data.frame' %in% class(pop_parameters)), \"68af6\")), \"4e65a30af85031d595db75996a676fe2\"))\n",
    "stopifnot(\"dimensions of pop_parameters are not correct\"= setequal(digest(paste(toString(dim(pop_parameters)), \"68af6\")), \"54722d32a7899e90a036093bbd66c853\"))\n",
    "stopifnot(\"column names of pop_parameters are not correct\"= setequal(digest(paste(toString(sort(colnames(pop_parameters))), \"68af6\")), \"403cec9900fc7098b86523768f2bd015\"))\n",
    "stopifnot(\"types of columns in pop_parameters are not correct\"= setequal(digest(paste(toString(sort(unlist(sapply(pop_parameters, class)))), \"68af6\")), \"b3bbc86f8bc85670ccb3f571a6861559\"))\n",
    "stopifnot(\"values in one or more numerical columns in pop_parameters are not correct\"= setequal(digest(paste(toString(if (any(sapply(pop_parameters, is.numeric))) sort(round(sapply(pop_parameters[, sapply(pop_parameters, is.numeric)], sum, na.rm = TRUE), 2)) else 0), \"68af6\")), \"f95ce656c4f3d0fd52addb94aa4cfabe\"))\n",
    "stopifnot(\"values in one or more character columns in pop_parameters are not correct\"= setequal(digest(paste(toString(if (any(sapply(pop_parameters, is.character))) sum(sapply(pop_parameters[sapply(pop_parameters, is.character)], function(x) length(unique(x)))) else 0), \"68af6\")), \"37897467ad480d53cfa9a62769c1d11c\"))\n",
    "stopifnot(\"values in one or more factor columns in pop_parameters are not correct\"= setequal(digest(paste(toString(if (any(sapply(pop_parameters, is.factor))) sum(sapply(pop_parameters[, sapply(pop_parameters, is.factor)], function(col) length(unique(col)))) else 0), \"68af6\")), \"37897467ad480d53cfa9a62769c1d11c\"))\n",
    "\n",
    "print('Success!')"
   ]
  },
  {
   "cell_type": "markdown",
   "metadata": {
    "deletable": false,
    "editable": false,
    "nbgrader": {
     "cell_type": "markdown",
     "checksum": "52a2293385b1ebf57dfe84fc7c22c991",
     "grade": false,
     "grade_id": "cell-f06bf6c52b4b30be",
     "locked": true,
     "schema_version": 3,
     "solution": false,
     "task": false
    }
   },
   "source": [
    "**Question 1.4** \n",
    "<br> {points: 1}\n",
    "\n",
    "In real life, we usually are able to only collect a single sample from the population. We use that sample to try to infer what the population looks like.\n",
    "\n",
    "Take a single random sample of 40 observations from the Canadian seniors population (`can_seniors`). Name it `sample_1`. Use 4321 as your seed."
   ]
  },
  {
   "cell_type": "code",
   "execution_count": null,
   "metadata": {
    "deletable": false,
    "nbgrader": {
     "cell_type": "code",
     "checksum": "938271028f786cceb732ad31b4333bf8",
     "grade": false,
     "grade_id": "cell-d8e06640ab5ea386",
     "locked": false,
     "schema_version": 3,
     "solution": true,
     "task": false
    }
   },
   "outputs": [],
   "source": [
    "set.seed(4321) # DO NOT CHANGE!\n",
    "# ... <- ... |> \n",
    "#    rep_sample_n(...)\n",
    "# your code here\n",
    "fail() # No Answer - remove if you provide an answer\n",
    "sample_1"
   ]
  },
  {
   "cell_type": "code",
   "execution_count": null,
   "metadata": {
    "deletable": false,
    "editable": false,
    "nbgrader": {
     "cell_type": "code",
     "checksum": "d688bd2d8092e0f0f4d1b898b803660b",
     "grade": true,
     "grade_id": "cell-e494fbea71d264cc",
     "locked": true,
     "points": 1,
     "schema_version": 3,
     "solution": false,
     "task": false
    }
   },
   "outputs": [],
   "source": [
    "library(digest)\n",
    "stopifnot(\"sample_1 should be a data frame\"= setequal(digest(paste(toString('data.frame' %in% class(sample_1)), \"b9471\")), \"5422d1a740943519b5b51d87d9e5a710\"))\n",
    "stopifnot(\"dimensions of sample_1 are not correct\"= setequal(digest(paste(toString(dim(sample_1)), \"b9471\")), \"34a4f02949b878f85f8f53523f56bd4e\"))\n",
    "stopifnot(\"column names of sample_1 are not correct\"= setequal(digest(paste(toString(sort(colnames(sample_1))), \"b9471\")), \"dfe04e57d7f9512b8123d8c99aa41eef\"))\n",
    "stopifnot(\"types of columns in sample_1 are not correct\"= setequal(digest(paste(toString(sort(unlist(sapply(sample_1, class)))), \"b9471\")), \"9a51ad8e9e763778f695e88744253d1e\"))\n",
    "stopifnot(\"values in one or more numerical columns in sample_1 are not correct\"= setequal(digest(paste(toString(if (any(sapply(sample_1, is.numeric))) sort(round(sapply(sample_1[, sapply(sample_1, is.numeric)], sum, na.rm = TRUE), 2)) else 0), \"b9471\")), \"765568358c1cc76f03598b2fadb7b47f\"))\n",
    "stopifnot(\"values in one or more character columns in sample_1 are not correct\"= setequal(digest(paste(toString(if (any(sapply(sample_1, is.character))) sum(sapply(sample_1[sapply(sample_1, is.character)], function(x) length(unique(x)))) else 0), \"b9471\")), \"1aa2d6772b2405fd36a3e10f6cc29947\"))\n",
    "stopifnot(\"values in one or more factor columns in sample_1 are not correct\"= setequal(digest(paste(toString(if (any(sapply(sample_1, is.factor))) sum(sapply(sample_1[, sapply(sample_1, is.factor)], function(col) length(unique(col)))) else 0), \"b9471\")), \"1aa2d6772b2405fd36a3e10f6cc29947\"))\n",
    "\n",
    "print('Success!')"
   ]
  },
  {
   "cell_type": "markdown",
   "metadata": {
    "deletable": false,
    "editable": false,
    "nbgrader": {
     "cell_type": "markdown",
     "checksum": "cb2e4e6a7ae8001f80fe6eb4552a5e28",
     "grade": false,
     "grade_id": "cell-752cc4982153643f",
     "locked": true,
     "schema_version": 3,
     "solution": false,
     "task": false
    }
   },
   "source": [
    "**Question 1.5** \n",
    "<br> {points: 1}\n",
    "\n",
    "Visualize the distribution of the random sample you just took (`sample_1`) that was just created by plotting a histogram using `binwidth = 1` in the `geom_histogram` argument. Name the plot `sample_1_dist` and give the plot the title \"Sample 1 Distribution\" (using `ggtitle`) and the x-axis a descriptive label."
   ]
  },
  {
   "cell_type": "code",
   "execution_count": null,
   "metadata": {
    "deletable": false,
    "nbgrader": {
     "cell_type": "code",
     "checksum": "54b765184c4d75aab891405a7371b140",
     "grade": false,
     "grade_id": "cell-826dafd6cb26adeb",
     "locked": false,
     "schema_version": 3,
     "solution": true,
     "task": false
    }
   },
   "outputs": [],
   "source": [
    "options(repr.plot.width = 8, repr.plot.height = 7)\n",
    "# your code here\n",
    "fail() # No Answer - remove if you provide an answer\n",
    "sample_1_dist"
   ]
  },
  {
   "cell_type": "code",
   "execution_count": null,
   "metadata": {
    "deletable": false,
    "editable": false,
    "nbgrader": {
     "cell_type": "code",
     "checksum": "f1bb6e7aa52a4263d363e5d45d118d40",
     "grade": true,
     "grade_id": "cell-170ce4a2c9de09e4",
     "locked": true,
     "points": 1,
     "schema_version": 3,
     "solution": false,
     "task": false
    }
   },
   "outputs": [],
   "source": [
    "library(digest)\n",
    "stopifnot(\"type of plot is not correct (if you are using two types of geoms, try flipping the order of the geom objects!)\"= setequal(digest(paste(toString(sapply(seq_len(length(sample_1_dist$layers)), function(i) {c(class(sample_1_dist$layers[[i]]$geom))[1]})), \"bf136\")), \"1cc69c21da0eca6c4749e256537b7574\"))\n",
    "stopifnot(\"variable x is not correct\"= setequal(digest(paste(toString(unlist(lapply(sapply(seq_len(length(sample_1_dist$layers)), function(i) {rlang::get_expr(c(sample_1_dist$layers[[i]]$mapping, sample_1_dist$mapping)$x)}), as.character))), \"bf136\")), \"9ee712ab5d6d4a68220c903d7c32ba6d\"))\n",
    "stopifnot(\"variable y is not correct\"= setequal(digest(paste(toString(unlist(lapply(sapply(seq_len(length(sample_1_dist$layers)), function(i) {rlang::get_expr(c(sample_1_dist$layers[[i]]$mapping, sample_1_dist$mapping)$y)}), as.character))), \"bf136\")), \"e310f2d6b2602242bf49a01b09eafc97\"))\n",
    "stopifnot(\"x-axis label is not descriptive, nicely formatted, or human readable\"= setequal(digest(paste(toString(rlang::get_expr(c(sample_1_dist$layers[[1]]$mapping, sample_1_dist$mapping)$x)!= sample_1_dist$labels$x), \"bf136\")), \"b310b38e204cd97b363f66822b9b94b4\"))\n",
    "stopifnot(\"y-axis label is not descriptive, nicely formatted, or human readable\"= setequal(digest(paste(toString(rlang::get_expr(c(sample_1_dist$layers[[1]]$mapping, sample_1_dist$mapping)$y)!= sample_1_dist$labels$y), \"bf136\")), \"e310f2d6b2602242bf49a01b09eafc97\"))\n",
    "stopifnot(\"incorrect colour variable in sample_1_dist, specify a correct one if required\"= setequal(digest(paste(toString(rlang::get_expr(c(sample_1_dist$layers[[1]]$mapping, sample_1_dist$mapping)$colour)), \"bf136\")), \"e310f2d6b2602242bf49a01b09eafc97\"))\n",
    "stopifnot(\"incorrect shape variable in sample_1_dist, specify a correct one if required\"= setequal(digest(paste(toString(rlang::get_expr(c(sample_1_dist$layers[[1]]$mapping, sample_1_dist$mapping)$shape)), \"bf136\")), \"e310f2d6b2602242bf49a01b09eafc97\"))\n",
    "stopifnot(\"the colour label in sample_1_dist is not descriptive, nicely formatted, or human readable\"= setequal(digest(paste(toString(rlang::get_expr(c(sample_1_dist$layers[[1]]$mapping, sample_1_dist$mapping)$colour) != sample_1_dist$labels$colour), \"bf136\")), \"e310f2d6b2602242bf49a01b09eafc97\"))\n",
    "stopifnot(\"the shape label in sample_1_dist is not descriptive, nicely formatted, or human readable\"= setequal(digest(paste(toString(rlang::get_expr(c(sample_1_dist$layers[[1]]$mapping, sample_1_dist$mapping)$colour) != sample_1_dist$labels$shape), \"bf136\")), \"e310f2d6b2602242bf49a01b09eafc97\"))\n",
    "stopifnot(\"fill variable in sample_1_dist is not correct\"= setequal(digest(paste(toString(quo_name(sample_1_dist$mapping$fill)), \"bf136\")), \"5f4f3d0ed53a59b3bb5093d1bba7ca18\"))\n",
    "stopifnot(\"fill label in sample_1_dist is not informative\"= setequal(digest(paste(toString((quo_name(sample_1_dist$mapping$fill) != sample_1_dist$labels$fill)), \"bf136\")), \"e310f2d6b2602242bf49a01b09eafc97\"))\n",
    "stopifnot(\"position argument in sample_1_dist is not correct\"= setequal(digest(paste(toString(class(sample_1_dist$layers[[1]]$position)[1]), \"bf136\")), \"01e6171583d0bddca81fd880bc6f1d5d\"))\n",
    "\n",
    "stopifnot(\"sample_1_dist$data should be a data frame\"= setequal(digest(paste(toString('data.frame' %in% class(sample_1_dist$data)), \"bf137\")), \"f434c8d889b792854a88d460cdb49cdd\"))\n",
    "stopifnot(\"dimensions of sample_1_dist$data are not correct\"= setequal(digest(paste(toString(dim(sample_1_dist$data)), \"bf137\")), \"a840be5640908b4d88feb0b900b9e9af\"))\n",
    "stopifnot(\"column names of sample_1_dist$data are not correct\"= setequal(digest(paste(toString(sort(colnames(sample_1_dist$data))), \"bf137\")), \"aa2045dd3ddc237dd65d149740b9dc56\"))\n",
    "stopifnot(\"types of columns in sample_1_dist$data are not correct\"= setequal(digest(paste(toString(sort(unlist(sapply(sample_1_dist$data, class)))), \"bf137\")), \"52f2d393215ca26b73021e0aaa580c5d\"))\n",
    "stopifnot(\"values in one or more numerical columns in sample_1_dist$data are not correct\"= setequal(digest(paste(toString(if (any(sapply(sample_1_dist$data, is.numeric))) sort(round(sapply(sample_1_dist$data[, sapply(sample_1_dist$data, is.numeric)], sum, na.rm = TRUE), 2)) else 0), \"bf137\")), \"5202440751495da774a9a78378c01d1c\"))\n",
    "stopifnot(\"values in one or more character columns in sample_1_dist$data are not correct\"= setequal(digest(paste(toString(if (any(sapply(sample_1_dist$data, is.character))) sum(sapply(sample_1_dist$data[sapply(sample_1_dist$data, is.character)], function(x) length(unique(x)))) else 0), \"bf137\")), \"915ef1993b73b8683f97bcbb61339c21\"))\n",
    "stopifnot(\"values in one or more factor columns in sample_1_dist$data are not correct\"= setequal(digest(paste(toString(if (any(sapply(sample_1_dist$data, is.factor))) sum(sapply(sample_1_dist$data[, sapply(sample_1_dist$data, is.factor)], function(col) length(unique(col)))) else 0), \"bf137\")), \"915ef1993b73b8683f97bcbb61339c21\"))\n",
    "\n",
    "stopifnot(\"type of sample_1_dist$labels$title is not character\"= setequal(digest(paste(toString(class(sample_1_dist$labels$title)), \"bf138\")), \"12c75b2d1b6669a7781ce0cfc688ef64\"))\n",
    "stopifnot(\"length of sample_1_dist$labels$title is not correct\"= setequal(digest(paste(toString(length(sample_1_dist$labels$title)), \"bf138\")), \"235a543792293513b35243f795b7f9fe\"))\n",
    "stopifnot(\"value of sample_1_dist$labels$title is not correct\"= setequal(digest(paste(toString(tolower(sample_1_dist$labels$title)), \"bf138\")), \"edcb4bd06031860f0bf2b75ab5cd0c81\"))\n",
    "stopifnot(\"letters in string value of sample_1_dist$labels$title are correct but case is not correct\"= setequal(digest(paste(toString(sample_1_dist$labels$title), \"bf138\")), \"253126a492a49d7178ca03458a52a748\"))\n",
    "\n",
    "print('Success!')"
   ]
  },
  {
   "cell_type": "markdown",
   "metadata": {},
   "source": [
    "**Question 1.6** \n",
    "<br> {points: 1}\n",
    "\n",
    "Use `summarize` to calculate the following point estimates from the random sample you just took (`sample_1`):\n",
    "\n",
    "* mean\n",
    "* median\n",
    "* standard deviation\n",
    "\n",
    "Name this data frame `sample_1_estimates` which has the column names `sample_1_mean`, `sample_1_med` and `sample_1_sd`."
   ]
  },
  {
   "cell_type": "code",
   "execution_count": null,
   "metadata": {
    "deletable": false,
    "nbgrader": {
     "cell_type": "code",
     "checksum": "0adc936486ce2bbb4be8e3249e881c0e",
     "grade": false,
     "grade_id": "cell-fe9efdbe457ea8e7",
     "locked": false,
     "schema_version": 3,
     "solution": true,
     "task": false
    }
   },
   "outputs": [],
   "source": [
    "# your code here\n",
    "fail() # No Answer - remove if you provide an answer\n",
    "sample_1_estimates"
   ]
  },
  {
   "cell_type": "code",
   "execution_count": null,
   "metadata": {
    "deletable": false,
    "editable": false,
    "nbgrader": {
     "cell_type": "code",
     "checksum": "8746656743ac038b71b7784b4b04fa4f",
     "grade": true,
     "grade_id": "cell-021bf21e4a9b93ae",
     "locked": true,
     "points": 1,
     "schema_version": 3,
     "solution": false,
     "task": false
    }
   },
   "outputs": [],
   "source": [
    "library(digest)\n",
    "stopifnot(\"sample_1_estimates should be a data frame\"= setequal(digest(paste(toString('data.frame' %in% class(sample_1_estimates)), \"22ff5\")), \"73a308f9ab5e9319ee9f11f8227b8a1d\"))\n",
    "stopifnot(\"dimensions of sample_1_estimates are not correct\"= setequal(digest(paste(toString(dim(sample_1_estimates)), \"22ff5\")), \"659ac7531f78dad1b6e36849e230f4c6\"))\n",
    "stopifnot(\"column names of sample_1_estimates are not correct\"= setequal(digest(paste(toString(sort(colnames(sample_1_estimates))), \"22ff5\")), \"58ada95b097a47eccf7eeca94afc165a\"))\n",
    "stopifnot(\"types of columns in sample_1_estimates are not correct\"= setequal(digest(paste(toString(sort(unlist(sapply(sample_1_estimates, class)))), \"22ff5\")), \"e0e4c45d7ef56048c5f802f141696325\"))\n",
    "stopifnot(\"values in one or more numerical columns in sample_1_estimates are not correct\"= setequal(digest(paste(toString(if (any(sapply(sample_1_estimates, is.numeric))) sort(round(sapply(sample_1_estimates[, sapply(sample_1_estimates, is.numeric)], sum, na.rm = TRUE), 2)) else 0), \"22ff5\")), \"345d78552f7ab44fe042a8d4a577fc3a\"))\n",
    "stopifnot(\"values in one or more character columns in sample_1_estimates are not correct\"= setequal(digest(paste(toString(if (any(sapply(sample_1_estimates, is.character))) sum(sapply(sample_1_estimates[sapply(sample_1_estimates, is.character)], function(x) length(unique(x)))) else 0), \"22ff5\")), \"bc4e5dd4170958a97ab0a34c0745a82e\"))\n",
    "stopifnot(\"values in one or more factor columns in sample_1_estimates are not correct\"= setequal(digest(paste(toString(if (any(sapply(sample_1_estimates, is.factor))) sum(sapply(sample_1_estimates[, sapply(sample_1_estimates, is.factor)], function(col) length(unique(col)))) else 0), \"22ff5\")), \"bc4e5dd4170958a97ab0a34c0745a82e\"))\n",
    "\n",
    "print('Success!')"
   ]
  },
  {
   "cell_type": "markdown",
   "metadata": {
    "deletable": false,
    "editable": false,
    "nbgrader": {
     "cell_type": "markdown",
     "checksum": "4ad2e78a8d90eb66e4ce473255309586",
     "grade": false,
     "grade_id": "cell-ad24cb4b28616d3c",
     "locked": true,
     "schema_version": 3,
     "solution": false,
     "task": false
    }
   },
   "source": [
    "Let's now compare our random sample to the population from which it was drawn. In `ggplot`, it is possible to display multiple charts together by using the function `plot_grid` from a separate package called `cowplot`. We can use the `ncol` parameter to control how many columns of plots the grid contains. Since we want to compare the distributions' shape and position on the x-axis, it is most effective to concatenate these charts vertically in a single column."
   ]
  },
  {
   "cell_type": "code",
   "execution_count": null,
   "metadata": {
    "deletable": false,
    "editable": false,
    "nbgrader": {
     "cell_type": "code",
     "checksum": "2ec06b4839038c295c9d5637764a5fd1",
     "grade": false,
     "grade_id": "cell-604e99e0db84fe98",
     "locked": true,
     "schema_version": 3,
     "solution": false,
     "task": false
    }
   },
   "outputs": [],
   "source": [
    "# run this code cell\n",
    "options(repr.plot.width = 7, repr.plot.height = 7)\n",
    "plot_grid(pop_dist, sample_1_dist, ncol = 1)"
   ]
  },
  {
   "cell_type": "markdown",
   "metadata": {
    "deletable": false,
    "editable": false,
    "nbgrader": {
     "cell_type": "markdown",
     "checksum": "96b62573abeb50fe420efa6aa0d70ecd",
     "grade": false,
     "grade_id": "cell-19718631d33c85a5",
     "locked": true,
     "schema_version": 3,
     "solution": false,
     "task": false
    }
   },
   "source": [
    "And now let's compare the point estimates (mean, median and standard deviation) with the true population parameters we were trying to estimate:"
   ]
  },
  {
   "cell_type": "code",
   "execution_count": null,
   "metadata": {
    "deletable": false,
    "editable": false,
    "nbgrader": {
     "cell_type": "code",
     "checksum": "7e1c7143609a200cc836bda2267af13c",
     "grade": false,
     "grade_id": "cell-ce56a190681ef9e9",
     "locked": true,
     "schema_version": 3,
     "solution": false,
     "task": false
    }
   },
   "outputs": [],
   "source": [
    "# run this cell\n",
    "pop_parameters\n",
    "sample_1_estimates |> select(-replicate)"
   ]
  },
  {
   "cell_type": "markdown",
   "metadata": {
    "deletable": false,
    "editable": false,
    "nbgrader": {
     "cell_type": "markdown",
     "checksum": "8cc06e0c996a9e672a8335df5c9b3bf6",
     "grade": false,
     "grade_id": "cell-bb9b0aefa59610ab",
     "locked": true,
     "schema_version": 3,
     "solution": false,
     "task": false
    }
   },
   "source": [
    "**Question 1.7** Multiple Choice\n",
    "<br> {points: 1}\n",
    "\n",
    "After comparing the population and sample distributions above, and the true population parameters and the sample point estimates, which statement below **is not** correct:\n",
    "\n",
    "A. The sample point estimates are close to the values for the true population parameters we are trying to estimate\n",
    "\n",
    "B. The sample distribution is of a similar shape to the population distribution\n",
    "\n",
    "C. The sample point estimates are identical to the values for the true population parameters we are trying to estimate\n",
    "\n",
    "*Assign your answer to an object called `answer1.7`. Your answer should be a single character surrounded by quotes.*"
   ]
  },
  {
   "cell_type": "code",
   "execution_count": null,
   "metadata": {
    "deletable": false,
    "nbgrader": {
     "cell_type": "code",
     "checksum": "74cc2ef9a395eef9f5de1567c52125cc",
     "grade": false,
     "grade_id": "cell-8ff972ce63d3c314",
     "locked": false,
     "schema_version": 3,
     "solution": true,
     "task": false
    }
   },
   "outputs": [],
   "source": [
    "# your code here\n",
    "fail() # No Answer - remove if you provide an answer"
   ]
  },
  {
   "cell_type": "code",
   "execution_count": null,
   "metadata": {
    "deletable": false,
    "editable": false,
    "nbgrader": {
     "cell_type": "code",
     "checksum": "6b7e9bb2ed41a631402037a562fbfac7",
     "grade": true,
     "grade_id": "cell-d5cee0eb7c6aebc8",
     "locked": true,
     "points": 1,
     "schema_version": 3,
     "solution": false,
     "task": false
    }
   },
   "outputs": [],
   "source": [
    "library(digest)\n",
    "stopifnot(\"type of answer1.7 is not character\"= setequal(digest(paste(toString(class(answer1.7)), \"4105c\")), \"059db055e1774479ef0b37f984a38c45\"))\n",
    "stopifnot(\"length of answer1.7 is not correct\"= setequal(digest(paste(toString(length(answer1.7)), \"4105c\")), \"843aa44a5c1e469e51a30133bebd035a\"))\n",
    "stopifnot(\"value of answer1.7 is not correct\"= setequal(digest(paste(toString(tolower(answer1.7)), \"4105c\")), \"7a07943b3940cc40511f4d53bd6fc5b2\"))\n",
    "stopifnot(\"letters in string value of answer1.7 are correct but case is not correct\"= setequal(digest(paste(toString(answer1.7), \"4105c\")), \"02b8ab9620a6b84d43a24479926f3f4c\"))\n",
    "\n",
    "print('Success!')"
   ]
  },
  {
   "cell_type": "markdown",
   "metadata": {
    "deletable": false,
    "editable": false,
    "nbgrader": {
     "cell_type": "markdown",
     "checksum": "2134dab16ee4c61cad02eddf2d22a753",
     "grade": false,
     "grade_id": "cell-8babcf95fe04cfa6",
     "locked": true,
     "schema_version": 3,
     "solution": false,
     "task": false
    }
   },
   "source": [
    "**Question 1.8.0** \n",
    "<br> {points: 1}\n",
    "\n",
    "What if we took another sample? What would we expect? Let's try! \n",
    "\n",
    "Take another random sample of size 40 from population (using a different random seed this time so that you get a different sample), visualize its distribution (give the plot the title \"Sample 2 Distribution\" using `ggtitle`), and calculate the point estimates for the sample mean, median and standard deviation. Name your random sample of data `sample_2`, name your visualization  `sample_2_dist`, and finally name your estimates `sample_2_estimates`, which has the column names `sample_2_mean`, `sample_2_med` and `sample_2_sd`. "
   ]
  },
  {
   "cell_type": "code",
   "execution_count": null,
   "metadata": {
    "deletable": false,
    "nbgrader": {
     "cell_type": "code",
     "checksum": "16744c64a8a2ad12c4347e8134aa28d2",
     "grade": false,
     "grade_id": "cell-716cd961bf3e0e5c",
     "locked": false,
     "schema_version": 3,
     "solution": true,
     "task": false
    }
   },
   "outputs": [],
   "source": [
    "set.seed(2020) # DO NOT CHANGE!\n",
    "\n",
    "# your code here\n",
    "fail() # No Answer - remove if you provide an answer"
   ]
  },
  {
   "cell_type": "code",
   "execution_count": null,
   "metadata": {
    "deletable": false,
    "editable": false,
    "nbgrader": {
     "cell_type": "code",
     "checksum": "6d1a131234ba80abac75f96ae16b5028",
     "grade": true,
     "grade_id": "cell-87ae342a039c4eb0",
     "locked": true,
     "points": 1,
     "schema_version": 3,
     "solution": false,
     "task": false
    }
   },
   "outputs": [],
   "source": [
    "library(digest)\n",
    "stopifnot(\"sample_2 should be a data frame\"= setequal(digest(paste(toString('data.frame' %in% class(sample_2)), \"c82ab\")), \"56c901bd657c7c813ea90d93eb147b64\"))\n",
    "stopifnot(\"dimensions of sample_2 are not correct\"= setequal(digest(paste(toString(dim(sample_2)), \"c82ab\")), \"dc4e31fe8682fd3b7dae96b1a1946f7b\"))\n",
    "stopifnot(\"column names of sample_2 are not correct\"= setequal(digest(paste(toString(sort(colnames(sample_2))), \"c82ab\")), \"09d1ae647663a1ac3f5143a0cccad0f0\"))\n",
    "stopifnot(\"types of columns in sample_2 are not correct\"= setequal(digest(paste(toString(sort(unlist(sapply(sample_2, class)))), \"c82ab\")), \"354827244bac68b1048cdaaf2ec49f68\"))\n",
    "stopifnot(\"values in one or more numerical columns in sample_2 are not correct\"= setequal(digest(paste(toString(if (any(sapply(sample_2, is.numeric))) sort(round(sapply(sample_2[, sapply(sample_2, is.numeric)], sum, na.rm = TRUE), 2)) else 0), \"c82ab\")), \"fbd18ffe1484bdc193d7151b6947291f\"))\n",
    "stopifnot(\"values in one or more character columns in sample_2 are not correct\"= setequal(digest(paste(toString(if (any(sapply(sample_2, is.character))) sum(sapply(sample_2[sapply(sample_2, is.character)], function(x) length(unique(x)))) else 0), \"c82ab\")), \"3c1e00b2dcd7c2dfa3df377fe58f5c2a\"))\n",
    "stopifnot(\"values in one or more factor columns in sample_2 are not correct\"= setequal(digest(paste(toString(if (any(sapply(sample_2, is.factor))) sum(sapply(sample_2[, sapply(sample_2, is.factor)], function(col) length(unique(col)))) else 0), \"c82ab\")), \"3c1e00b2dcd7c2dfa3df377fe58f5c2a\"))\n",
    "\n",
    "stopifnot(\"type of plot is not correct (if you are using two types of geoms, try flipping the order of the geom objects!)\"= setequal(digest(paste(toString(sapply(seq_len(length(sample_2_dist$layers)), function(i) {c(class(sample_2_dist$layers[[i]]$geom))[1]})), \"c82ac\")), \"32a806e56d3aeb9a18b827775e873bf7\"))\n",
    "stopifnot(\"variable x is not correct\"= setequal(digest(paste(toString(unlist(lapply(sapply(seq_len(length(sample_2_dist$layers)), function(i) {rlang::get_expr(c(sample_2_dist$layers[[i]]$mapping, sample_2_dist$mapping)$x)}), as.character))), \"c82ac\")), \"d125d6d704ee48f070873b70bc2ac792\"))\n",
    "stopifnot(\"variable y is not correct\"= setequal(digest(paste(toString(unlist(lapply(sapply(seq_len(length(sample_2_dist$layers)), function(i) {rlang::get_expr(c(sample_2_dist$layers[[i]]$mapping, sample_2_dist$mapping)$y)}), as.character))), \"c82ac\")), \"f3e7d5d77b4ab5aff30f0f2670103bb9\"))\n",
    "stopifnot(\"x-axis label is not descriptive, nicely formatted, or human readable\"= setequal(digest(paste(toString(rlang::get_expr(c(sample_2_dist$layers[[1]]$mapping, sample_2_dist$mapping)$x)!= sample_2_dist$labels$x), \"c82ac\")), \"46be0e6e00678cb2c091b353c6234520\"))\n",
    "stopifnot(\"y-axis label is not descriptive, nicely formatted, or human readable\"= setequal(digest(paste(toString(rlang::get_expr(c(sample_2_dist$layers[[1]]$mapping, sample_2_dist$mapping)$y)!= sample_2_dist$labels$y), \"c82ac\")), \"f3e7d5d77b4ab5aff30f0f2670103bb9\"))\n",
    "stopifnot(\"incorrect colour variable in sample_2_dist, specify a correct one if required\"= setequal(digest(paste(toString(rlang::get_expr(c(sample_2_dist$layers[[1]]$mapping, sample_2_dist$mapping)$colour)), \"c82ac\")), \"f3e7d5d77b4ab5aff30f0f2670103bb9\"))\n",
    "stopifnot(\"incorrect shape variable in sample_2_dist, specify a correct one if required\"= setequal(digest(paste(toString(rlang::get_expr(c(sample_2_dist$layers[[1]]$mapping, sample_2_dist$mapping)$shape)), \"c82ac\")), \"f3e7d5d77b4ab5aff30f0f2670103bb9\"))\n",
    "stopifnot(\"the colour label in sample_2_dist is not descriptive, nicely formatted, or human readable\"= setequal(digest(paste(toString(rlang::get_expr(c(sample_2_dist$layers[[1]]$mapping, sample_2_dist$mapping)$colour) != sample_2_dist$labels$colour), \"c82ac\")), \"f3e7d5d77b4ab5aff30f0f2670103bb9\"))\n",
    "stopifnot(\"the shape label in sample_2_dist is not descriptive, nicely formatted, or human readable\"= setequal(digest(paste(toString(rlang::get_expr(c(sample_2_dist$layers[[1]]$mapping, sample_2_dist$mapping)$colour) != sample_2_dist$labels$shape), \"c82ac\")), \"f3e7d5d77b4ab5aff30f0f2670103bb9\"))\n",
    "stopifnot(\"fill variable in sample_2_dist is not correct\"= setequal(digest(paste(toString(quo_name(sample_2_dist$mapping$fill)), \"c82ac\")), \"9171292a914ceebc299f583237fdabea\"))\n",
    "stopifnot(\"fill label in sample_2_dist is not informative\"= setequal(digest(paste(toString((quo_name(sample_2_dist$mapping$fill) != sample_2_dist$labels$fill)), \"c82ac\")), \"f3e7d5d77b4ab5aff30f0f2670103bb9\"))\n",
    "stopifnot(\"position argument in sample_2_dist is not correct\"= setequal(digest(paste(toString(class(sample_2_dist$layers[[1]]$position)[1]), \"c82ac\")), \"f92fb60a77b73873f58386dca1cf1a3c\"))\n",
    "\n",
    "stopifnot(\"sample_2_dist$data should be a data frame\"= setequal(digest(paste(toString('data.frame' %in% class(sample_2_dist$data)), \"c82ad\")), \"bfc7ea6fef3f419db9b34786fbc8512c\"))\n",
    "stopifnot(\"dimensions of sample_2_dist$data are not correct\"= setequal(digest(paste(toString(dim(sample_2_dist$data)), \"c82ad\")), \"302b554eb397f6bdb9e733ad0197e10a\"))\n",
    "stopifnot(\"column names of sample_2_dist$data are not correct\"= setequal(digest(paste(toString(sort(colnames(sample_2_dist$data))), \"c82ad\")), \"c7cdc4f0a27b8ffcb9c71c51fb7d62c3\"))\n",
    "stopifnot(\"types of columns in sample_2_dist$data are not correct\"= setequal(digest(paste(toString(sort(unlist(sapply(sample_2_dist$data, class)))), \"c82ad\")), \"1433cac2d6f619c126bf621d69fc0532\"))\n",
    "stopifnot(\"values in one or more numerical columns in sample_2_dist$data are not correct\"= setequal(digest(paste(toString(if (any(sapply(sample_2_dist$data, is.numeric))) sort(round(sapply(sample_2_dist$data[, sapply(sample_2_dist$data, is.numeric)], sum, na.rm = TRUE), 2)) else 0), \"c82ad\")), \"0939f8a1ebdb946623fddb9ef2e19103\"))\n",
    "stopifnot(\"values in one or more character columns in sample_2_dist$data are not correct\"= setequal(digest(paste(toString(if (any(sapply(sample_2_dist$data, is.character))) sum(sapply(sample_2_dist$data[sapply(sample_2_dist$data, is.character)], function(x) length(unique(x)))) else 0), \"c82ad\")), \"6c912de5a65a0a71384e7c0f622ac96c\"))\n",
    "stopifnot(\"values in one or more factor columns in sample_2_dist$data are not correct\"= setequal(digest(paste(toString(if (any(sapply(sample_2_dist$data, is.factor))) sum(sapply(sample_2_dist$data[, sapply(sample_2_dist$data, is.factor)], function(col) length(unique(col)))) else 0), \"c82ad\")), \"6c912de5a65a0a71384e7c0f622ac96c\"))\n",
    "\n",
    "stopifnot(\"sample_2_estimates should be a data frame\"= setequal(digest(paste(toString('data.frame' %in% class(sample_2_estimates)), \"c82ae\")), \"ba4596159b2953a5e7e757063d6f24fc\"))\n",
    "stopifnot(\"dimensions of sample_2_estimates are not correct\"= setequal(digest(paste(toString(dim(sample_2_estimates)), \"c82ae\")), \"eac8f8ddfb782a4d1b5160dc30a3ecdb\"))\n",
    "stopifnot(\"column names of sample_2_estimates are not correct\"= setequal(digest(paste(toString(sort(colnames(sample_2_estimates))), \"c82ae\")), \"c4d864a2e88b70c30e4cde5aa2eae164\"))\n",
    "stopifnot(\"types of columns in sample_2_estimates are not correct\"= setequal(digest(paste(toString(sort(unlist(sapply(sample_2_estimates, class)))), \"c82ae\")), \"20d7fe9d344e1cf348ee4df3f5b8a98f\"))\n",
    "stopifnot(\"values in one or more numerical columns in sample_2_estimates are not correct\"= setequal(digest(paste(toString(if (any(sapply(sample_2_estimates, is.numeric))) sort(round(sapply(sample_2_estimates[, sapply(sample_2_estimates, is.numeric)], sum, na.rm = TRUE), 2)) else 0), \"c82ae\")), \"1cbc82c5ef4749a0a14b86d406248f0e\"))\n",
    "stopifnot(\"values in one or more character columns in sample_2_estimates are not correct\"= setequal(digest(paste(toString(if (any(sapply(sample_2_estimates, is.character))) sum(sapply(sample_2_estimates[sapply(sample_2_estimates, is.character)], function(x) length(unique(x)))) else 0), \"c82ae\")), \"58aaa6366524d881457e00e5e00bbee9\"))\n",
    "stopifnot(\"values in one or more factor columns in sample_2_estimates are not correct\"= setequal(digest(paste(toString(if (any(sapply(sample_2_estimates, is.factor))) sum(sapply(sample_2_estimates[, sapply(sample_2_estimates, is.factor)], function(col) length(unique(col)))) else 0), \"c82ae\")), \"58aaa6366524d881457e00e5e00bbee9\"))\n",
    "\n",
    "print('Success!')"
   ]
  },
  {
   "cell_type": "markdown",
   "metadata": {
    "deletable": false,
    "editable": false,
    "nbgrader": {
     "cell_type": "markdown",
     "checksum": "d5944dedaac7da38d138f20b25355cbc",
     "grade": false,
     "grade_id": "cell-84562b964d37b15f",
     "locked": true,
     "schema_version": 3,
     "solution": false,
     "task": false
    }
   },
   "source": [
    "**Question 1.8.1** \n",
    "<br> {points: 1}\n",
    "\n",
    "After comparing the distribution and point estimates of this second random sample from the population with that of the first random sample and the population, which of the following statements below **is not** correct:\n",
    "\n",
    "A. The sample distributions from different random samples are of a similar shape to the population distribution, but they vary a bit depending which values are captured in the sample\n",
    "\n",
    "B. The sample point estimates from different random samples are close to the values for the true population parameters we are trying to estimate, but they vary a bit depending which values are captured in the sample\n",
    "\n",
    "C. Every random sample from the same population should have an identical set of values and yield identical point estimates.\n",
    "\n",
    "*Assign your answer to an object called `answer1.8.1`. Your answer should be a single character surrounded by quotes.*"
   ]
  },
  {
   "cell_type": "code",
   "execution_count": null,
   "metadata": {
    "deletable": false,
    "nbgrader": {
     "cell_type": "code",
     "checksum": "b0ea9d71df6964823f4b7096bcc9f8bb",
     "grade": false,
     "grade_id": "cell-17f98eceba8ee494",
     "locked": false,
     "schema_version": 3,
     "solution": true,
     "task": false
    }
   },
   "outputs": [],
   "source": [
    "# your code here\n",
    "fail() # No Answer - remove if you provide an answer"
   ]
  },
  {
   "cell_type": "code",
   "execution_count": null,
   "metadata": {
    "deletable": false,
    "editable": false,
    "nbgrader": {
     "cell_type": "code",
     "checksum": "ea33e9a1435ede88b7bf06e15f753ef3",
     "grade": true,
     "grade_id": "cell-00564a8c56afa5c2",
     "locked": true,
     "points": 1,
     "schema_version": 3,
     "solution": false,
     "task": false
    }
   },
   "outputs": [],
   "source": [
    "library(digest)\n",
    "stopifnot(\"type of answer1.8.1 is not character\"= setequal(digest(paste(toString(class(answer1.8.1)), \"1849a\")), \"d41006676be3b4bc535fdc2e3cf05b55\"))\n",
    "stopifnot(\"length of answer1.8.1 is not correct\"= setequal(digest(paste(toString(length(answer1.8.1)), \"1849a\")), \"a6c726633580f74e138a942a9ff8518f\"))\n",
    "stopifnot(\"value of answer1.8.1 is not correct\"= setequal(digest(paste(toString(tolower(answer1.8.1)), \"1849a\")), \"cdc56a0c123017a9fd8bdd5bbcf0e530\"))\n",
    "stopifnot(\"letters in string value of answer1.8.1 are correct but case is not correct\"= setequal(digest(paste(toString(answer1.8.1), \"1849a\")), \"eb3532c01f3046d7fbf03780344ecb79\"))\n",
    "\n",
    "print('Success!')"
   ]
  },
  {
   "cell_type": "markdown",
   "metadata": {
    "deletable": false,
    "editable": false,
    "nbgrader": {
     "cell_type": "markdown",
     "checksum": "31036d29b44c32c93ceb3c64c62f29cd",
     "grade": false,
     "grade_id": "cell-d1e256c58e03abb7",
     "locked": true,
     "schema_version": 3,
     "solution": false,
     "task": false
    }
   },
   "source": [
    "### Exploring the sampling distribution of an estimate\n",
    "\n",
    "Just how much should we expect the point estimates of our random samples to vary? To build an intuition for this, let's experiment a little more with our population of Canadian seniors. To do this we will take 1500 random samples, and then calculate the point estimate we are interested in (let's choose the mean for this example) for each sample. Finally, we will visualize the distribution of the sample point estimates. This distribution will tell us how much we would expect the point estimates of our random samples to vary for this population for samples of size 40 (the size of our samples)."
   ]
  },
  {
   "cell_type": "markdown",
   "metadata": {
    "deletable": false,
    "editable": false,
    "nbgrader": {
     "cell_type": "markdown",
     "checksum": "9e83e2ac250dada0e8a856dd82fa5729",
     "grade": false,
     "grade_id": "cell-2f445a196c50749f",
     "locked": true,
     "schema_version": 3,
     "solution": false,
     "task": false
    }
   },
   "source": [
    "**Question 1.9** \n",
    "<br> {points: 1}\n",
    "\n",
    "Draw 1500 random samples from our population of Canadian seniors (`can_seniors`). Each sample should have 40 observations. Name the data frame `samples` and use the seed `4321`. Here we use the functions `head()`, `tail()` and `dim()` to view the first few rows, the last few rows and the dimension of the data set respectively. "
   ]
  },
  {
   "cell_type": "code",
   "execution_count": null,
   "metadata": {
    "deletable": false,
    "nbgrader": {
     "cell_type": "code",
     "checksum": "9d65fe2a45cac52df462ba1f1a472950",
     "grade": false,
     "grade_id": "cell-695ac307a193414a",
     "locked": false,
     "schema_version": 3,
     "solution": true,
     "task": false
    }
   },
   "outputs": [],
   "source": [
    "set.seed(4321) # DO NOT CHANGE!\n",
    "# ... <- rep_sample_n(..., size = ..., reps = ...)\n",
    "# your code here\n",
    "fail() # No Answer - remove if you provide an answer\n",
    "head(samples)\n",
    "tail(samples)\n",
    "dim(samples)"
   ]
  },
  {
   "cell_type": "code",
   "execution_count": null,
   "metadata": {
    "deletable": false,
    "editable": false,
    "nbgrader": {
     "cell_type": "code",
     "checksum": "a24f3129a5f231667d8ccd34f1de6fa2",
     "grade": true,
     "grade_id": "cell-c58c6bf8b51e07c5",
     "locked": true,
     "points": 1,
     "schema_version": 3,
     "solution": false,
     "task": false
    }
   },
   "outputs": [],
   "source": [
    "library(digest)\n",
    "stopifnot(\"samples should be a data frame\"= setequal(digest(paste(toString('data.frame' %in% class(samples)), \"d4e61\")), \"b59549be47e374a55d03adc74d58a2c6\"))\n",
    "stopifnot(\"dimensions of samples are not correct\"= setequal(digest(paste(toString(dim(samples)), \"d4e61\")), \"6e238e3e012febab6b248461cb80f28c\"))\n",
    "stopifnot(\"column names of samples are not correct\"= setequal(digest(paste(toString(sort(colnames(samples))), \"d4e61\")), \"ec677e866597dbbea17afed3e591e3f1\"))\n",
    "stopifnot(\"types of columns in samples are not correct\"= setequal(digest(paste(toString(sort(unlist(sapply(samples, class)))), \"d4e61\")), \"979dfa0823872a77fd6c5d20e88a3af8\"))\n",
    "stopifnot(\"values in one or more numerical columns in samples are not correct\"= setequal(digest(paste(toString(if (any(sapply(samples, is.numeric))) sort(round(sapply(samples[, sapply(samples, is.numeric)], sum, na.rm = TRUE), 2)) else 0), \"d4e61\")), \"5d2fb03e92dfb5aed74820c76d7ab64a\"))\n",
    "stopifnot(\"values in one or more character columns in samples are not correct\"= setequal(digest(paste(toString(if (any(sapply(samples, is.character))) sum(sapply(samples[sapply(samples, is.character)], function(x) length(unique(x)))) else 0), \"d4e61\")), \"ca83b7b70d0bff348b8059c43f37b0d9\"))\n",
    "stopifnot(\"values in one or more factor columns in samples are not correct\"= setequal(digest(paste(toString(if (any(sapply(samples, is.factor))) sum(sapply(samples[, sapply(samples, is.factor)], function(col) length(unique(col)))) else 0), \"d4e61\")), \"ca83b7b70d0bff348b8059c43f37b0d9\"))\n",
    "\n",
    "print('Success!')"
   ]
  },
  {
   "cell_type": "markdown",
   "metadata": {
    "deletable": false,
    "editable": false,
    "nbgrader": {
     "cell_type": "markdown",
     "checksum": "bd1129a97b739c58ff44902de836d69c",
     "grade": false,
     "grade_id": "cell-54d3669aec34e1c1",
     "locked": true,
     "schema_version": 3,
     "solution": false,
     "task": false
    }
   },
   "source": [
    "**Question 2.0** \n",
    "<br> {points: 1}\n",
    "\n",
    "Group by the sample replicate number, and then for each sample, calculate the mean as the point estimate. Name the data frame `sample_estimates`. The data frame should have the column names `replicate` and `mean_age`."
   ]
  },
  {
   "cell_type": "code",
   "execution_count": null,
   "metadata": {
    "deletable": false,
    "nbgrader": {
     "cell_type": "code",
     "checksum": "b23a4184d470fc3e91944e140d7decff",
     "grade": false,
     "grade_id": "cell-db790cf4f047972a",
     "locked": false,
     "schema_version": 3,
     "solution": true,
     "task": false
    }
   },
   "outputs": [],
   "source": [
    "# your code here\n",
    "fail() # No Answer - remove if you provide an answer\n",
    "head(sample_estimates)\n",
    "tail(sample_estimates)"
   ]
  },
  {
   "cell_type": "code",
   "execution_count": null,
   "metadata": {
    "deletable": false,
    "editable": false,
    "nbgrader": {
     "cell_type": "code",
     "checksum": "b82fd63997652ef828327f5c06de4393",
     "grade": true,
     "grade_id": "cell-009a8fb2b91b528c",
     "locked": true,
     "points": 1,
     "schema_version": 3,
     "solution": false,
     "task": false
    }
   },
   "outputs": [],
   "source": [
    "library(digest)\n",
    "stopifnot(\"sample_estimates should be a data frame\"= setequal(digest(paste(toString('data.frame' %in% class(sample_estimates)), \"2045\")), \"b681cd4d2a06880a43e45587db19f080\"))\n",
    "stopifnot(\"dimensions of sample_estimates are not correct\"= setequal(digest(paste(toString(dim(sample_estimates)), \"2045\")), \"eb78d16d7dbf5ffa69dad627e292728d\"))\n",
    "stopifnot(\"column names of sample_estimates are not correct\"= setequal(digest(paste(toString(sort(colnames(sample_estimates))), \"2045\")), \"82e784c00014c369de019f2cf55fd703\"))\n",
    "stopifnot(\"types of columns in sample_estimates are not correct\"= setequal(digest(paste(toString(sort(unlist(sapply(sample_estimates, class)))), \"2045\")), \"1de55370ffc9005300404a4e5491cec1\"))\n",
    "stopifnot(\"values in one or more numerical columns in sample_estimates are not correct\"= setequal(digest(paste(toString(if (any(sapply(sample_estimates, is.numeric))) sort(round(sapply(sample_estimates[, sapply(sample_estimates, is.numeric)], sum, na.rm = TRUE), 2)) else 0), \"2045\")), \"f981e203dbaad7ec081f5410e1accb11\"))\n",
    "stopifnot(\"values in one or more character columns in sample_estimates are not correct\"= setequal(digest(paste(toString(if (any(sapply(sample_estimates, is.character))) sum(sapply(sample_estimates[sapply(sample_estimates, is.character)], function(x) length(unique(x)))) else 0), \"2045\")), \"2771708e720c5aa618f030e4ec5f7ccc\"))\n",
    "stopifnot(\"values in one or more factor columns in sample_estimates are not correct\"= setequal(digest(paste(toString(if (any(sapply(sample_estimates, is.factor))) sum(sapply(sample_estimates[, sapply(sample_estimates, is.factor)], function(col) length(unique(col)))) else 0), \"2045\")), \"2771708e720c5aa618f030e4ec5f7ccc\"))\n",
    "\n",
    "print('Success!')"
   ]
  },
  {
   "cell_type": "markdown",
   "metadata": {
    "deletable": false,
    "editable": false,
    "nbgrader": {
     "cell_type": "markdown",
     "checksum": "27e5c561747ac4e8a0f4850e547b790d",
     "grade": false,
     "grade_id": "cell-b37ce66b7bf8e8bf",
     "locked": true,
     "schema_version": 3,
     "solution": false,
     "task": false
    }
   },
   "source": [
    "**Question 2.1** \n",
    "<br> {points: 1}\n",
    "\n",
    "Visualize the distribution of the sample estimates (`sample_estimates`) you just calculated by plotting a histogram using `binwidth = 1` in the `geom_histogram` argument. Name the plot `sampling_distribution`. Give the plot the title \"Sampling Distribution of the Sample Means\" using `ggtitle`, and give the x-axis a descriptive label."
   ]
  },
  {
   "cell_type": "code",
   "execution_count": null,
   "metadata": {
    "deletable": false,
    "nbgrader": {
     "cell_type": "code",
     "checksum": "b83c4ae2ed2ee44444e3f9ee7a493ade",
     "grade": false,
     "grade_id": "cell-cc60d0afb72d45c2",
     "locked": false,
     "schema_version": 3,
     "solution": true,
     "task": false
    }
   },
   "outputs": [],
   "source": [
    "options(repr.plot.width = 8, repr.plot.height = 7)\n",
    "# your code here\n",
    "fail() # No Answer - remove if you provide an answer\n",
    "sampling_distribution"
   ]
  },
  {
   "cell_type": "code",
   "execution_count": null,
   "metadata": {
    "deletable": false,
    "editable": false,
    "nbgrader": {
     "cell_type": "code",
     "checksum": "2d67f96d6544182a22fb4c66544ef288",
     "grade": true,
     "grade_id": "cell-63a57e1040dc4a79",
     "locked": true,
     "points": 1,
     "schema_version": 3,
     "solution": false,
     "task": false
    }
   },
   "outputs": [],
   "source": [
    "library(digest)\n",
    "stopifnot(\"type of plot is not correct (if you are using two types of geoms, try flipping the order of the geom objects!)\"= setequal(digest(paste(toString(sapply(seq_len(length(sampling_distribution$layers)), function(i) {c(class(sampling_distribution$layers[[i]]$geom))[1]})), \"ae8ed\")), \"83b6aa3c135ee97044661ca42767a0e8\"))\n",
    "stopifnot(\"variable x is not correct\"= setequal(digest(paste(toString(unlist(lapply(sapply(seq_len(length(sampling_distribution$layers)), function(i) {rlang::get_expr(c(sampling_distribution$layers[[i]]$mapping, sampling_distribution$mapping)$x)}), as.character))), \"ae8ed\")), \"35b175b7bca47af1ff3102f49d826cb8\"))\n",
    "stopifnot(\"variable y is not correct\"= setequal(digest(paste(toString(unlist(lapply(sapply(seq_len(length(sampling_distribution$layers)), function(i) {rlang::get_expr(c(sampling_distribution$layers[[i]]$mapping, sampling_distribution$mapping)$y)}), as.character))), \"ae8ed\")), \"a40fba9a45f867cfc3856cc2979d48b6\"))\n",
    "stopifnot(\"x-axis label is not descriptive, nicely formatted, or human readable\"= setequal(digest(paste(toString(rlang::get_expr(c(sampling_distribution$layers[[1]]$mapping, sampling_distribution$mapping)$x)!= sampling_distribution$labels$x), \"ae8ed\")), \"7390d87bd1fee041de89fb13d8391876\"))\n",
    "stopifnot(\"y-axis label is not descriptive, nicely formatted, or human readable\"= setequal(digest(paste(toString(rlang::get_expr(c(sampling_distribution$layers[[1]]$mapping, sampling_distribution$mapping)$y)!= sampling_distribution$labels$y), \"ae8ed\")), \"a40fba9a45f867cfc3856cc2979d48b6\"))\n",
    "stopifnot(\"incorrect colour variable in sampling_distribution, specify a correct one if required\"= setequal(digest(paste(toString(rlang::get_expr(c(sampling_distribution$layers[[1]]$mapping, sampling_distribution$mapping)$colour)), \"ae8ed\")), \"a40fba9a45f867cfc3856cc2979d48b6\"))\n",
    "stopifnot(\"incorrect shape variable in sampling_distribution, specify a correct one if required\"= setequal(digest(paste(toString(rlang::get_expr(c(sampling_distribution$layers[[1]]$mapping, sampling_distribution$mapping)$shape)), \"ae8ed\")), \"a40fba9a45f867cfc3856cc2979d48b6\"))\n",
    "stopifnot(\"the colour label in sampling_distribution is not descriptive, nicely formatted, or human readable\"= setequal(digest(paste(toString(rlang::get_expr(c(sampling_distribution$layers[[1]]$mapping, sampling_distribution$mapping)$colour) != sampling_distribution$labels$colour), \"ae8ed\")), \"a40fba9a45f867cfc3856cc2979d48b6\"))\n",
    "stopifnot(\"the shape label in sampling_distribution is not descriptive, nicely formatted, or human readable\"= setequal(digest(paste(toString(rlang::get_expr(c(sampling_distribution$layers[[1]]$mapping, sampling_distribution$mapping)$colour) != sampling_distribution$labels$shape), \"ae8ed\")), \"a40fba9a45f867cfc3856cc2979d48b6\"))\n",
    "stopifnot(\"fill variable in sampling_distribution is not correct\"= setequal(digest(paste(toString(quo_name(sampling_distribution$mapping$fill)), \"ae8ed\")), \"a60f0ce747d9b15b0d506d482219c636\"))\n",
    "stopifnot(\"fill label in sampling_distribution is not informative\"= setequal(digest(paste(toString((quo_name(sampling_distribution$mapping$fill) != sampling_distribution$labels$fill)), \"ae8ed\")), \"a40fba9a45f867cfc3856cc2979d48b6\"))\n",
    "stopifnot(\"position argument in sampling_distribution is not correct\"= setequal(digest(paste(toString(class(sampling_distribution$layers[[1]]$position)[1]), \"ae8ed\")), \"d6968bc6de81667d25faae5ea0dc0c3e\"))\n",
    "\n",
    "stopifnot(\"type of sampling_distribution$labels$title is not character\"= setequal(digest(paste(toString(class(sampling_distribution$labels$title)), \"ae8ee\")), \"207d4bef5a0c18d6e6d52f957ac9bffd\"))\n",
    "stopifnot(\"length of sampling_distribution$labels$title is not correct\"= setequal(digest(paste(toString(length(sampling_distribution$labels$title)), \"ae8ee\")), \"6cc67bc04992c12a2a2d9fd8143434c1\"))\n",
    "stopifnot(\"value of sampling_distribution$labels$title is not correct\"= setequal(digest(paste(toString(tolower(sampling_distribution$labels$title)), \"ae8ee\")), \"ce2d919bca1b251486f9d8b3593e3b49\"))\n",
    "stopifnot(\"letters in string value of sampling_distribution$labels$title are correct but case is not correct\"= setequal(digest(paste(toString(sampling_distribution$labels$title), \"ae8ee\")), \"adead84bd8a87d0ef024ebdeedd7747e\"))\n",
    "\n",
    "stopifnot(\"sampling_distribution$data should be a data frame\"= setequal(digest(paste(toString('data.frame' %in% class(sampling_distribution$data)), \"ae8ef\")), \"337f01a54acf7cc0a0a01637b7b5e727\"))\n",
    "stopifnot(\"dimensions of sampling_distribution$data are not correct\"= setequal(digest(paste(toString(dim(sampling_distribution$data)), \"ae8ef\")), \"99d144ca0598e2ac2e3ea64de2342850\"))\n",
    "stopifnot(\"column names of sampling_distribution$data are not correct\"= setequal(digest(paste(toString(sort(colnames(sampling_distribution$data))), \"ae8ef\")), \"daf3728eab7016b8d14bf3424a5a95f1\"))\n",
    "stopifnot(\"types of columns in sampling_distribution$data are not correct\"= setequal(digest(paste(toString(sort(unlist(sapply(sampling_distribution$data, class)))), \"ae8ef\")), \"86a361ec6cfff98ebdffde9db43ad25d\"))\n",
    "stopifnot(\"values in one or more numerical columns in sampling_distribution$data are not correct\"= setequal(digest(paste(toString(if (any(sapply(sampling_distribution$data, is.numeric))) sort(round(sapply(sampling_distribution$data[, sapply(sampling_distribution$data, is.numeric)], sum, na.rm = TRUE), 2)) else 0), \"ae8ef\")), \"e38e33ab88392c7169e85044c69c2fb2\"))\n",
    "stopifnot(\"values in one or more character columns in sampling_distribution$data are not correct\"= setequal(digest(paste(toString(if (any(sapply(sampling_distribution$data, is.character))) sum(sapply(sampling_distribution$data[sapply(sampling_distribution$data, is.character)], function(x) length(unique(x)))) else 0), \"ae8ef\")), \"dd5ebef6e9c782dc577de380f42d7f5a\"))\n",
    "stopifnot(\"values in one or more factor columns in sampling_distribution$data are not correct\"= setequal(digest(paste(toString(if (any(sapply(sampling_distribution$data, is.factor))) sum(sapply(sampling_distribution$data[, sapply(sampling_distribution$data, is.factor)], function(col) length(unique(col)))) else 0), \"ae8ef\")), \"dd5ebef6e9c782dc577de380f42d7f5a\"))\n",
    "\n",
    "print('Success!')"
   ]
  },
  {
   "cell_type": "markdown",
   "metadata": {
    "deletable": false,
    "editable": false,
    "nbgrader": {
     "cell_type": "markdown",
     "checksum": "734abe600753723b931a5e88d6198ce2",
     "grade": false,
     "grade_id": "cell-e1b528491ee83745",
     "locked": true,
     "schema_version": 3,
     "solution": false,
     "task": false
    }
   },
   "source": [
    "**Question 2.2** \n",
    "<br> {points: 1}\n",
    "\n",
    "Let's refresh our memories: what is the mean age of the whole population (we calculated this above)? *Assign your answer to an object called `answer2.2`. Your answer should be a single number reported to two decimal places.*\n"
   ]
  },
  {
   "cell_type": "code",
   "execution_count": null,
   "metadata": {
    "deletable": false,
    "nbgrader": {
     "cell_type": "code",
     "checksum": "dffeac9b2d29cafe43ced6d56fd97919",
     "grade": false,
     "grade_id": "cell-b3dc0d016c0b2fa0",
     "locked": false,
     "schema_version": 3,
     "solution": true,
     "task": false
    }
   },
   "outputs": [],
   "source": [
    "# your code here\n",
    "fail() # No Answer - remove if you provide an answer\n",
    "answer2.2"
   ]
  },
  {
   "cell_type": "code",
   "execution_count": null,
   "metadata": {
    "deletable": false,
    "editable": false,
    "nbgrader": {
     "cell_type": "code",
     "checksum": "8cb7e0f193e6e369995540b19537d3d7",
     "grade": true,
     "grade_id": "cell-859e93c62242915f",
     "locked": true,
     "points": 1,
     "schema_version": 3,
     "solution": false,
     "task": false
    }
   },
   "outputs": [],
   "source": [
    "library(digest)\n",
    "stopifnot(\"type of answer2.2 is not numeric\"= setequal(digest(paste(toString(class(answer2.2)), \"47686\")), \"955a3b68b850c5412b950aad72b641ca\"))\n",
    "stopifnot(\"value of answer2.2 is not correct (rounded to 2 decimal places)\"= setequal(digest(paste(toString(round(answer2.2, 2)), \"47686\")), \"567d7223481526901f9a61e0a776b163\"))\n",
    "stopifnot(\"length of answer2.2 is not correct\"= setequal(digest(paste(toString(length(answer2.2)), \"47686\")), \"19c9f6cb90f0a16f51da70184c6e4fe4\"))\n",
    "stopifnot(\"values of answer2.2 are not correct\"= setequal(digest(paste(toString(sort(round(answer2.2, 2))), \"47686\")), \"567d7223481526901f9a61e0a776b163\"))\n",
    "\n",
    "print('Success!')"
   ]
  },
  {
   "cell_type": "markdown",
   "metadata": {
    "deletable": false,
    "editable": false,
    "nbgrader": {
     "cell_type": "markdown",
     "checksum": "09aa7e3830a1366eba1d6470aeaee9ce",
     "grade": false,
     "grade_id": "cell-cd211c77f0a630b0",
     "locked": true,
     "schema_version": 3,
     "solution": false,
     "task": false
    }
   },
   "source": [
    "**Question 2.3** Multiple Choice\n",
    "<br> {points: 1}\n",
    "\n",
    "Considering the true value for the population mean, and the sampling distribution you created and visualized in **question 2.1**, which of the following statements below **is not** correct:\n",
    "\n",
    "A. The sampling distribution is centered at the true population mean\n",
    "\n",
    "B. All the sample means are the same value as the true population mean\n",
    "\n",
    "C. Most sample means are at or very near the value of the true population mean\n",
    "\n",
    "D. A few sample means are far away from the value of the true population mean\n",
    "\n",
    "*Assign your answer to an object called `answer2.3`. Your answer should be a single character surrounded by quotes.*"
   ]
  },
  {
   "cell_type": "code",
   "execution_count": null,
   "metadata": {
    "deletable": false,
    "nbgrader": {
     "cell_type": "code",
     "checksum": "040a187753df7834f42e80ad57e4cd23",
     "grade": false,
     "grade_id": "cell-aee3630dbf16cba9",
     "locked": false,
     "schema_version": 3,
     "solution": true,
     "task": false
    }
   },
   "outputs": [],
   "source": [
    "# your code here\n",
    "fail() # No Answer - remove if you provide an answer\n",
    "answer2.3"
   ]
  },
  {
   "cell_type": "code",
   "execution_count": null,
   "metadata": {
    "deletable": false,
    "editable": false,
    "nbgrader": {
     "cell_type": "code",
     "checksum": "e876d36f62b3492884cfe0ef7ef7db5b",
     "grade": true,
     "grade_id": "cell-d79f9703b99565f3",
     "locked": true,
     "points": 1,
     "schema_version": 3,
     "solution": false,
     "task": false
    }
   },
   "outputs": [],
   "source": [
    "library(digest)\n",
    "stopifnot(\"type of answer2.3 is not character\"= setequal(digest(paste(toString(class(answer2.3)), \"3bc4b\")), \"31640ba597cd692a87ca7b9235c16676\"))\n",
    "stopifnot(\"length of answer2.3 is not correct\"= setequal(digest(paste(toString(length(answer2.3)), \"3bc4b\")), \"d103cabf249a396b065d2001c3bf3732\"))\n",
    "stopifnot(\"value of answer2.3 is not correct\"= setequal(digest(paste(toString(tolower(answer2.3)), \"3bc4b\")), \"c1357ff8f85bba489b4d3a382f48d3e6\"))\n",
    "stopifnot(\"letters in string value of answer2.3 are correct but case is not correct\"= setequal(digest(paste(toString(answer2.3), \"3bc4b\")), \"309613f595acf71014b6290830b6e150\"))\n",
    "\n",
    "print('Success!')"
   ]
  },
  {
   "cell_type": "markdown",
   "metadata": {
    "deletable": false,
    "editable": false,
    "nbgrader": {
     "cell_type": "markdown",
     "checksum": "880295b89d665f09eb50eb60280975da",
     "grade": false,
     "grade_id": "cell-e77dc5e07d87e667",
     "locked": true,
     "schema_version": 3,
     "solution": false,
     "task": false
    }
   },
   "source": [
    "**Question 2.4** True/False\n",
    "<br> {points: 1}\n",
    "\n",
    "Taking a random sample and calculating a point estimate is a good way to get a \"best guess\" of the population parameter you are interested in. True or False?\n",
    "\n",
    "*Assign your answer to an object called `answer2.4`. Your answer should be either \"True\" or \"False\", surrounded by quotes.*"
   ]
  },
  {
   "cell_type": "code",
   "execution_count": null,
   "metadata": {
    "deletable": false,
    "nbgrader": {
     "cell_type": "code",
     "checksum": "f4f8949e9529b3e798d3f8890a7d9fea",
     "grade": false,
     "grade_id": "cell-6f8050a70cec0677",
     "locked": false,
     "schema_version": 3,
     "solution": true,
     "task": false
    }
   },
   "outputs": [],
   "source": [
    "# your code here\n",
    "fail() # No Answer - remove if you provide an answer\n",
    "answer2.4"
   ]
  },
  {
   "cell_type": "code",
   "execution_count": null,
   "metadata": {
    "deletable": false,
    "editable": false,
    "nbgrader": {
     "cell_type": "code",
     "checksum": "e13089c1ff066f6d44ef3e8b24fdf729",
     "grade": true,
     "grade_id": "cell-83c05f5c808126c1",
     "locked": true,
     "points": 1,
     "schema_version": 3,
     "solution": false,
     "task": false
    }
   },
   "outputs": [],
   "source": [
    "library(digest)\n",
    "stopifnot(\"type of answer2.4 is not character\"= setequal(digest(paste(toString(class(answer2.4)), \"a1f85\")), \"776cfa0eba589545ef8d698a8a01f38c\"))\n",
    "stopifnot(\"length of answer2.4 is not correct\"= setequal(digest(paste(toString(length(answer2.4)), \"a1f85\")), \"37b271dd78faa3855ea9937f77eb033a\"))\n",
    "stopifnot(\"value of answer2.4 is not correct\"= setequal(digest(paste(toString(tolower(answer2.4)), \"a1f85\")), \"bba4a5f3be9c0666ebb761243ab1f4f6\"))\n",
    "stopifnot(\"letters in string value of answer2.4 are correct but case is not correct\"= setequal(digest(paste(toString(answer2.4), \"a1f85\")), \"125a4dffe92127d1ea781f45129306f5\"))\n",
    "\n",
    "print('Success!')"
   ]
  },
  {
   "cell_type": "markdown",
   "metadata": {
    "deletable": false,
    "editable": false,
    "nbgrader": {
     "cell_type": "markdown",
     "checksum": "7126f8ab1f7737176325c9e27b5e68bb",
     "grade": false,
     "grade_id": "cell-2465e27157c638d7",
     "locked": true,
     "schema_version": 3,
     "solution": false,
     "task": false
    }
   },
   "source": [
    "### The influence of sample size on the sampling distribution\n",
    "\n",
    "What happens to our point estimate when we change the sample size? Let's answer this question by experimenting! We will create 3 different sampling distributions of sample means, each using a different sample size. As we did above, we will draw samples from our Canadian seniors population. We will visualize these sampling distributions and see if we can see a pattern when we vary the sample size."
   ]
  },
  {
   "cell_type": "markdown",
   "metadata": {
    "deletable": false,
    "editable": false,
    "nbgrader": {
     "cell_type": "markdown",
     "checksum": "fe394bde873fe5dec542b90a354b5877",
     "grade": false,
     "grade_id": "cell-34e0ccb715d582e3",
     "locked": true,
     "schema_version": 3,
     "solution": false,
     "task": false
    }
   },
   "source": [
    "**Question 2.5** \n",
    "<br> {points: 1}\n",
    "\n",
    "Using the same strategy as you did above, draw 1500 random samples from the Canadian seniors population (`can_seniors`), each of size 20. For each sample, calculate the mean age and assign this data to a column called `mean_age`. \n",
    "\n",
    "Then, visualize the distribution of the sample estimates (means) you just calculated by plotting a histogram using `binwidth = 1` in the `geom_histogram` argument. Name the plot `sampling_distribution_20`. Give the plot the title \"Sampling Distribution (n=20)\" using `ggtitle`, and give the x-axis a descriptive label. Also specify the x-axis limits to be 65 and 95 using `xlim(c(65, 95))`.\n",
    "\n",
    "Set the seed as 4321 when you collect your samples."
   ]
  },
  {
   "cell_type": "code",
   "execution_count": null,
   "metadata": {
    "deletable": false,
    "nbgrader": {
     "cell_type": "code",
     "checksum": "5c49d8c10d02a496e31396cbee1dd162",
     "grade": false,
     "grade_id": "cell-b749043da4922d58",
     "locked": false,
     "schema_version": 3,
     "solution": true,
     "task": false
    }
   },
   "outputs": [],
   "source": [
    "set.seed(4321) # DO NOT CHANGE THIS!\n",
    "options(repr.plot.width = 8, repr.plot.height = 7)\n",
    "\n",
    "# your code here\n",
    "fail() # No Answer - remove if you provide an answer\n",
    "sampling_distribution_20"
   ]
  },
  {
   "cell_type": "code",
   "execution_count": null,
   "metadata": {
    "deletable": false,
    "editable": false,
    "nbgrader": {
     "cell_type": "code",
     "checksum": "b455cab4d449feadfd7f926b0f7e37db",
     "grade": true,
     "grade_id": "cell-fae3123c38b31ad8",
     "locked": true,
     "points": 1,
     "schema_version": 3,
     "solution": false,
     "task": false
    }
   },
   "outputs": [],
   "source": [
    "library(digest)\n",
    "stopifnot(\"type of plot is not correct (if you are using two types of geoms, try flipping the order of the geom objects!)\"= setequal(digest(paste(toString(sapply(seq_len(length(sampling_distribution_20$layers)), function(i) {c(class(sampling_distribution_20$layers[[i]]$geom))[1]})), \"8ad21\")), \"8f8cc9367108265799db27d7d4b4ad7f\"))\n",
    "stopifnot(\"variable x is not correct\"= setequal(digest(paste(toString(unlist(lapply(sapply(seq_len(length(sampling_distribution_20$layers)), function(i) {rlang::get_expr(c(sampling_distribution_20$layers[[i]]$mapping, sampling_distribution_20$mapping)$x)}), as.character))), \"8ad21\")), \"4978582df96027225aac249f3ab2cf37\"))\n",
    "stopifnot(\"variable y is not correct\"= setequal(digest(paste(toString(unlist(lapply(sapply(seq_len(length(sampling_distribution_20$layers)), function(i) {rlang::get_expr(c(sampling_distribution_20$layers[[i]]$mapping, sampling_distribution_20$mapping)$y)}), as.character))), \"8ad21\")), \"e84253c5c4007fcfe2086bb5852eecc0\"))\n",
    "stopifnot(\"x-axis label is not descriptive, nicely formatted, or human readable\"= setequal(digest(paste(toString(rlang::get_expr(c(sampling_distribution_20$layers[[1]]$mapping, sampling_distribution_20$mapping)$x)!= sampling_distribution_20$labels$x), \"8ad21\")), \"2204c9e5409f8f5e29509c27aef96d08\"))\n",
    "stopifnot(\"y-axis label is not descriptive, nicely formatted, or human readable\"= setequal(digest(paste(toString(rlang::get_expr(c(sampling_distribution_20$layers[[1]]$mapping, sampling_distribution_20$mapping)$y)!= sampling_distribution_20$labels$y), \"8ad21\")), \"e84253c5c4007fcfe2086bb5852eecc0\"))\n",
    "stopifnot(\"incorrect colour variable in sampling_distribution_20, specify a correct one if required\"= setequal(digest(paste(toString(rlang::get_expr(c(sampling_distribution_20$layers[[1]]$mapping, sampling_distribution_20$mapping)$colour)), \"8ad21\")), \"e84253c5c4007fcfe2086bb5852eecc0\"))\n",
    "stopifnot(\"incorrect shape variable in sampling_distribution_20, specify a correct one if required\"= setequal(digest(paste(toString(rlang::get_expr(c(sampling_distribution_20$layers[[1]]$mapping, sampling_distribution_20$mapping)$shape)), \"8ad21\")), \"e84253c5c4007fcfe2086bb5852eecc0\"))\n",
    "stopifnot(\"the colour label in sampling_distribution_20 is not descriptive, nicely formatted, or human readable\"= setequal(digest(paste(toString(rlang::get_expr(c(sampling_distribution_20$layers[[1]]$mapping, sampling_distribution_20$mapping)$colour) != sampling_distribution_20$labels$colour), \"8ad21\")), \"e84253c5c4007fcfe2086bb5852eecc0\"))\n",
    "stopifnot(\"the shape label in sampling_distribution_20 is not descriptive, nicely formatted, or human readable\"= setequal(digest(paste(toString(rlang::get_expr(c(sampling_distribution_20$layers[[1]]$mapping, sampling_distribution_20$mapping)$colour) != sampling_distribution_20$labels$shape), \"8ad21\")), \"e84253c5c4007fcfe2086bb5852eecc0\"))\n",
    "stopifnot(\"fill variable in sampling_distribution_20 is not correct\"= setequal(digest(paste(toString(quo_name(sampling_distribution_20$mapping$fill)), \"8ad21\")), \"b658f7f61ca1ec54fa3ee7cf60da5875\"))\n",
    "stopifnot(\"fill label in sampling_distribution_20 is not informative\"= setequal(digest(paste(toString((quo_name(sampling_distribution_20$mapping$fill) != sampling_distribution_20$labels$fill)), \"8ad21\")), \"e84253c5c4007fcfe2086bb5852eecc0\"))\n",
    "stopifnot(\"position argument in sampling_distribution_20 is not correct\"= setequal(digest(paste(toString(class(sampling_distribution_20$layers[[1]]$position)[1]), \"8ad21\")), \"30fa1d892ee409b6c181163edeef3696\"))\n",
    "\n",
    "stopifnot(\"type of sampling_distribution_20$labels$title is not character\"= setequal(digest(paste(toString(class(sampling_distribution_20$labels$title)), \"8ad22\")), \"5ad8469a4083dfb0ce11557d3985880f\"))\n",
    "stopifnot(\"length of sampling_distribution_20$labels$title is not correct\"= setequal(digest(paste(toString(length(sampling_distribution_20$labels$title)), \"8ad22\")), \"9cd4c9dc82ba108f63e1bfa86d742059\"))\n",
    "stopifnot(\"value of sampling_distribution_20$labels$title is not correct\"= setequal(digest(paste(toString(tolower(sampling_distribution_20$labels$title)), \"8ad22\")), \"948c769c7502a9886638ea45b8f678e4\"))\n",
    "stopifnot(\"letters in string value of sampling_distribution_20$labels$title are correct but case is not correct\"= setequal(digest(paste(toString(sampling_distribution_20$labels$title), \"8ad22\")), \"36c92956e1e26415ffb9f22bc5f2f209\"))\n",
    "\n",
    "stopifnot(\"sampling_distribution_20$data should be a data frame\"= setequal(digest(paste(toString('data.frame' %in% class(sampling_distribution_20$data)), \"8ad23\")), \"8b15950c56394f2d8c034981ace8b01d\"))\n",
    "stopifnot(\"dimensions of sampling_distribution_20$data are not correct\"= setequal(digest(paste(toString(dim(sampling_distribution_20$data)), \"8ad23\")), \"23bab558f0b89ad9fc394084e94ee47e\"))\n",
    "stopifnot(\"column names of sampling_distribution_20$data are not correct\"= setequal(digest(paste(toString(sort(colnames(sampling_distribution_20$data))), \"8ad23\")), \"16107bb4ad77186575d9635a04888185\"))\n",
    "stopifnot(\"types of columns in sampling_distribution_20$data are not correct\"= setequal(digest(paste(toString(sort(unlist(sapply(sampling_distribution_20$data, class)))), \"8ad23\")), \"288c768f08ce10ee2084c62a6ebbaf04\"))\n",
    "stopifnot(\"values in one or more numerical columns in sampling_distribution_20$data are not correct\"= setequal(digest(paste(toString(if (any(sapply(sampling_distribution_20$data, is.numeric))) sort(round(sapply(sampling_distribution_20$data[, sapply(sampling_distribution_20$data, is.numeric)], sum, na.rm = TRUE), 2)) else 0), \"8ad23\")), \"89980033df168617354159156887c16e\"))\n",
    "stopifnot(\"values in one or more character columns in sampling_distribution_20$data are not correct\"= setequal(digest(paste(toString(if (any(sapply(sampling_distribution_20$data, is.character))) sum(sapply(sampling_distribution_20$data[sapply(sampling_distribution_20$data, is.character)], function(x) length(unique(x)))) else 0), \"8ad23\")), \"5786fb1781279ca2b1561ea53538430f\"))\n",
    "stopifnot(\"values in one or more factor columns in sampling_distribution_20$data are not correct\"= setequal(digest(paste(toString(if (any(sapply(sampling_distribution_20$data, is.factor))) sum(sapply(sampling_distribution_20$data[, sapply(sampling_distribution_20$data, is.factor)], function(col) length(unique(col)))) else 0), \"8ad23\")), \"5786fb1781279ca2b1561ea53538430f\"))\n",
    "\n",
    "print('Success!')"
   ]
  },
  {
   "cell_type": "markdown",
   "metadata": {
    "deletable": false,
    "editable": false,
    "nbgrader": {
     "cell_type": "markdown",
     "checksum": "998ab25d8618eae2a530516d1f47ef93",
     "grade": false,
     "grade_id": "cell-54728427a6fc9f21",
     "locked": true,
     "schema_version": 3,
     "solution": false,
     "task": false
    }
   },
   "source": [
    "**Question 2.6** \n",
    "<br> {points: 1}\n",
    "\n",
    "Using the same strategy as you did above, draw 1500 random samples from the Canadian seniors population (`can_seniors`), each of size 100. For each sample, calculate the mean age and assign this data to a column called `mean_age`. \n",
    "\n",
    "Then, visualize the distribution of the sample estimates (means) you just calculated by plotting a histogram using `binwidth = 1` in the `geom_histogram` argument. Name the plot `sampling_distribution_100`. Give the plot the title \"Sampling Distribution (n=100)\" using `ggtitle`, and give the x axis a descriptive label. Also specify the x-axis limits to be 65 and 95 using `xlim(c(65, 95))`.\n",
    "\n",
    "Set the seed as 4321 when you collect your samples."
   ]
  },
  {
   "cell_type": "code",
   "execution_count": null,
   "metadata": {
    "deletable": false,
    "nbgrader": {
     "cell_type": "code",
     "checksum": "824b27e5ad5febb24b04849b6d9e2ae6",
     "grade": false,
     "grade_id": "cell-417f5129afaf8a43",
     "locked": false,
     "schema_version": 3,
     "solution": true,
     "task": false
    }
   },
   "outputs": [],
   "source": [
    "set.seed(4321) # DO NOT CHANGE THIS!\n",
    "options(repr.plot.width = 8, repr.plot.height = 7)\n",
    "# your code here\n",
    "fail() # No Answer - remove if you provide an answer\n",
    "sampling_distribution_100"
   ]
  },
  {
   "cell_type": "code",
   "execution_count": null,
   "metadata": {
    "deletable": false,
    "editable": false,
    "nbgrader": {
     "cell_type": "code",
     "checksum": "1ae6fd77af8642a33d10166f820dd0f1",
     "grade": true,
     "grade_id": "cell-5cc24d62254b5bc5",
     "locked": true,
     "points": 1,
     "schema_version": 3,
     "solution": false,
     "task": false
    }
   },
   "outputs": [],
   "source": [
    "library(digest)\n",
    "stopifnot(\"type of plot is not correct (if you are using two types of geoms, try flipping the order of the geom objects!)\"= setequal(digest(paste(toString(sapply(seq_len(length(sampling_distribution_100$layers)), function(i) {c(class(sampling_distribution_100$layers[[i]]$geom))[1]})), \"6be2d\")), \"05a74f89507e69bd8c1c6e4180827862\"))\n",
    "stopifnot(\"variable x is not correct\"= setequal(digest(paste(toString(unlist(lapply(sapply(seq_len(length(sampling_distribution_100$layers)), function(i) {rlang::get_expr(c(sampling_distribution_100$layers[[i]]$mapping, sampling_distribution_100$mapping)$x)}), as.character))), \"6be2d\")), \"dc5af9ae6d4002ecb4713a6f82dce9bb\"))\n",
    "stopifnot(\"variable y is not correct\"= setequal(digest(paste(toString(unlist(lapply(sapply(seq_len(length(sampling_distribution_100$layers)), function(i) {rlang::get_expr(c(sampling_distribution_100$layers[[i]]$mapping, sampling_distribution_100$mapping)$y)}), as.character))), \"6be2d\")), \"4e597b86a2b4069866d2c7e88ea2dae5\"))\n",
    "stopifnot(\"x-axis label is not descriptive, nicely formatted, or human readable\"= setequal(digest(paste(toString(rlang::get_expr(c(sampling_distribution_100$layers[[1]]$mapping, sampling_distribution_100$mapping)$x)!= sampling_distribution_100$labels$x), \"6be2d\")), \"b227094f91354b24837870fd175e6a3d\"))\n",
    "stopifnot(\"y-axis label is not descriptive, nicely formatted, or human readable\"= setequal(digest(paste(toString(rlang::get_expr(c(sampling_distribution_100$layers[[1]]$mapping, sampling_distribution_100$mapping)$y)!= sampling_distribution_100$labels$y), \"6be2d\")), \"4e597b86a2b4069866d2c7e88ea2dae5\"))\n",
    "stopifnot(\"incorrect colour variable in sampling_distribution_100, specify a correct one if required\"= setequal(digest(paste(toString(rlang::get_expr(c(sampling_distribution_100$layers[[1]]$mapping, sampling_distribution_100$mapping)$colour)), \"6be2d\")), \"4e597b86a2b4069866d2c7e88ea2dae5\"))\n",
    "stopifnot(\"incorrect shape variable in sampling_distribution_100, specify a correct one if required\"= setequal(digest(paste(toString(rlang::get_expr(c(sampling_distribution_100$layers[[1]]$mapping, sampling_distribution_100$mapping)$shape)), \"6be2d\")), \"4e597b86a2b4069866d2c7e88ea2dae5\"))\n",
    "stopifnot(\"the colour label in sampling_distribution_100 is not descriptive, nicely formatted, or human readable\"= setequal(digest(paste(toString(rlang::get_expr(c(sampling_distribution_100$layers[[1]]$mapping, sampling_distribution_100$mapping)$colour) != sampling_distribution_100$labels$colour), \"6be2d\")), \"4e597b86a2b4069866d2c7e88ea2dae5\"))\n",
    "stopifnot(\"the shape label in sampling_distribution_100 is not descriptive, nicely formatted, or human readable\"= setequal(digest(paste(toString(rlang::get_expr(c(sampling_distribution_100$layers[[1]]$mapping, sampling_distribution_100$mapping)$colour) != sampling_distribution_100$labels$shape), \"6be2d\")), \"4e597b86a2b4069866d2c7e88ea2dae5\"))\n",
    "stopifnot(\"fill variable in sampling_distribution_100 is not correct\"= setequal(digest(paste(toString(quo_name(sampling_distribution_100$mapping$fill)), \"6be2d\")), \"fe60acb79f09ca26d66b2cea54a093f4\"))\n",
    "stopifnot(\"fill label in sampling_distribution_100 is not informative\"= setequal(digest(paste(toString((quo_name(sampling_distribution_100$mapping$fill) != sampling_distribution_100$labels$fill)), \"6be2d\")), \"4e597b86a2b4069866d2c7e88ea2dae5\"))\n",
    "stopifnot(\"position argument in sampling_distribution_100 is not correct\"= setequal(digest(paste(toString(class(sampling_distribution_100$layers[[1]]$position)[1]), \"6be2d\")), \"f692140a95143e90bd2985a94961319f\"))\n",
    "\n",
    "stopifnot(\"type of sampling_distribution_100$labels$title is not character\"= setequal(digest(paste(toString(class(sampling_distribution_100$labels$title)), \"6be2e\")), \"5fe8ac3ed3db8b9530764e79720fc41a\"))\n",
    "stopifnot(\"length of sampling_distribution_100$labels$title is not correct\"= setequal(digest(paste(toString(length(sampling_distribution_100$labels$title)), \"6be2e\")), \"1d09df540e59f9def945af75909bd8b6\"))\n",
    "stopifnot(\"value of sampling_distribution_100$labels$title is not correct\"= setequal(digest(paste(toString(tolower(sampling_distribution_100$labels$title)), \"6be2e\")), \"c6f74a74996e5a1ecab38a6441593631\"))\n",
    "stopifnot(\"letters in string value of sampling_distribution_100$labels$title are correct but case is not correct\"= setequal(digest(paste(toString(sampling_distribution_100$labels$title), \"6be2e\")), \"bb041b588b96394c3b18c7a13099e1df\"))\n",
    "\n",
    "stopifnot(\"sampling_distribution_100$data should be a data frame\"= setequal(digest(paste(toString('data.frame' %in% class(sampling_distribution_100$data)), \"6be2f\")), \"165f79539ce4d1e30d2c01cc14b6618a\"))\n",
    "stopifnot(\"dimensions of sampling_distribution_100$data are not correct\"= setequal(digest(paste(toString(dim(sampling_distribution_100$data)), \"6be2f\")), \"414c5d79f7dd081999bf8ee19236ecda\"))\n",
    "stopifnot(\"column names of sampling_distribution_100$data are not correct\"= setequal(digest(paste(toString(sort(colnames(sampling_distribution_100$data))), \"6be2f\")), \"b5e45fafce6bd526f899ec5e31384198\"))\n",
    "stopifnot(\"types of columns in sampling_distribution_100$data are not correct\"= setequal(digest(paste(toString(sort(unlist(sapply(sampling_distribution_100$data, class)))), \"6be2f\")), \"74502a2338b60bae0cb1c6a9a8baa1c6\"))\n",
    "stopifnot(\"values in one or more numerical columns in sampling_distribution_100$data are not correct\"= setequal(digest(paste(toString(if (any(sapply(sampling_distribution_100$data, is.numeric))) sort(round(sapply(sampling_distribution_100$data[, sapply(sampling_distribution_100$data, is.numeric)], sum, na.rm = TRUE), 2)) else 0), \"6be2f\")), \"63e30da677ee59450411d2368944be82\"))\n",
    "stopifnot(\"values in one or more character columns in sampling_distribution_100$data are not correct\"= setequal(digest(paste(toString(if (any(sapply(sampling_distribution_100$data, is.character))) sum(sapply(sampling_distribution_100$data[sapply(sampling_distribution_100$data, is.character)], function(x) length(unique(x)))) else 0), \"6be2f\")), \"aeb6c9b45b5b360362d85e156d8bf601\"))\n",
    "stopifnot(\"values in one or more factor columns in sampling_distribution_100$data are not correct\"= setequal(digest(paste(toString(if (any(sapply(sampling_distribution_100$data, is.factor))) sum(sapply(sampling_distribution_100$data[, sapply(sampling_distribution_100$data, is.factor)], function(col) length(unique(col)))) else 0), \"6be2f\")), \"aeb6c9b45b5b360362d85e156d8bf601\"))\n",
    "\n",
    "print('Success!')"
   ]
  },
  {
   "cell_type": "code",
   "execution_count": null,
   "metadata": {
    "deletable": false,
    "editable": false,
    "nbgrader": {
     "cell_type": "code",
     "checksum": "037d21afa792d88fc68a90353cf60f6c",
     "grade": false,
     "grade_id": "cell-afda78b801dfe776",
     "locked": true,
     "schema_version": 3,
     "solution": false,
     "task": false
    }
   },
   "outputs": [],
   "source": [
    "# run this cell to change the sampling distribution plot created\n",
    "# earlier in the notebook so that the x-axis is the same dimensions\n",
    "# as the other two plots you just made, and so that the title is \"n = 40\"\n",
    "sampling_distribution <- sampling_distribution + \n",
    "    xlim(c(65, 95))\n",
    "sampling_distribution$labels$title <- \"Sampling Distribution (n=40)\""
   ]
  },
  {
   "cell_type": "markdown",
   "metadata": {
    "deletable": false,
    "editable": false,
    "nbgrader": {
     "cell_type": "markdown",
     "checksum": "f27ae5088f8e12c46855b809380df9ae",
     "grade": false,
     "grade_id": "cell-617a34d8b1bfc6fb",
     "locked": true,
     "schema_version": 3,
     "solution": false,
     "task": false
    }
   },
   "source": [
    "**Question 2.7** \n",
    "<br> {points: 1}\n",
    "\n",
    "Fill in the blanks in the code below to use `plot_grid` to concatenate the three sampling distributions vertically. Order them from smallest sample size on the on the top, to largest sample size on the bottom. Name the final panel figure `sampling_distribution_panel`."
   ]
  },
  {
   "cell_type": "code",
   "execution_count": null,
   "metadata": {
    "deletable": false,
    "nbgrader": {
     "cell_type": "code",
     "checksum": "dbfbfed42621e0d64a0a2e5b0a9928df",
     "grade": false,
     "grade_id": "cell-a987790eea24ce45",
     "locked": false,
     "schema_version": 3,
     "solution": true,
     "task": false
    }
   },
   "outputs": [],
   "source": [
    "options(repr.plot.width = 6)\n",
    "# sampling_distribution_panel <- plot_grid(\n",
    "#     ...,\n",
    "#     ...,\n",
    "#     ...,\n",
    "#     ncol = 1\n",
    "# )\n",
    "\n",
    "# your code here\n",
    "fail() # No Answer - remove if you provide an answer"
   ]
  },
  {
   "cell_type": "code",
   "execution_count": null,
   "metadata": {
    "deletable": false,
    "editable": false,
    "nbgrader": {
     "cell_type": "code",
     "checksum": "7d1cdc079245c9483097cbfa186aecbb",
     "grade": true,
     "grade_id": "cell-671cb2c162ecfe89",
     "locked": true,
     "points": 1,
     "schema_version": 3,
     "solution": false,
     "task": false
    }
   },
   "outputs": [],
   "source": [
    "library(digest)\n",
    "stopifnot(\"type of unlist(sapply(sampling_distribution_panel$layers, function(x) x$geom_params$grob$grobs[[which(x$geom_params$grob$layout$name == \\\"title\\\")]]$children[[1]]$label)) is not character\"= setequal(digest(paste(toString(class(unlist(sapply(sampling_distribution_panel$layers, function(x) x$geom_params$grob$grobs[[which(x$geom_params$grob$layout$name == \"title\")]]$children[[1]]$label)))), \"ed003\")), \"a66ee208c03848cdc9923b8e9e07b850\"))\n",
    "stopifnot(\"length of unlist(sapply(sampling_distribution_panel$layers, function(x) x$geom_params$grob$grobs[[which(x$geom_params$grob$layout$name == \\\"title\\\")]]$children[[1]]$label)) is not correct\"= setequal(digest(paste(toString(length(unlist(sapply(sampling_distribution_panel$layers, function(x) x$geom_params$grob$grobs[[which(x$geom_params$grob$layout$name == \"title\")]]$children[[1]]$label)))), \"ed003\")), \"f0fbf359cf86bbbb0b435ff8f8b087a9\"))\n",
    "stopifnot(\"value of unlist(sapply(sampling_distribution_panel$layers, function(x) x$geom_params$grob$grobs[[which(x$geom_params$grob$layout$name == \\\"title\\\")]]$children[[1]]$label)) is not correct\"= setequal(digest(paste(toString(tolower(unlist(sapply(sampling_distribution_panel$layers, function(x) x$geom_params$grob$grobs[[which(x$geom_params$grob$layout$name == \"title\")]]$children[[1]]$label)))), \"ed003\")), \"4d3fcf1a06e6a857cbd26a5441070921\"))\n",
    "stopifnot(\"letters in string value of unlist(sapply(sampling_distribution_panel$layers, function(x) x$geom_params$grob$grobs[[which(x$geom_params$grob$layout$name == \\\"title\\\")]]$children[[1]]$label)) are correct but case is not correct\"= setequal(digest(paste(toString(unlist(sapply(sampling_distribution_panel$layers, function(x) x$geom_params$grob$grobs[[which(x$geom_params$grob$layout$name == \"title\")]]$children[[1]]$label))), \"ed003\")), \"32113e1822fdd024d0b2080f9625d150\"))\n",
    "\n",
    "print('Success!')"
   ]
  },
  {
   "cell_type": "markdown",
   "metadata": {
    "deletable": false,
    "editable": false,
    "nbgrader": {
     "cell_type": "markdown",
     "checksum": "455f5dd740158ff67a58c74bae558c97",
     "grade": false,
     "grade_id": "cell-05e3eccb230d6deb",
     "locked": true,
     "schema_version": 3,
     "solution": false,
     "task": false
    }
   },
   "source": [
    "**Question 2.8** Multiple Choice\n",
    "<br> {points: 1}\n",
    "\n",
    "Considering the panel figure you created above in **question 2.7**, which of the following statements below **is not** correct:\n",
    "\n",
    "A. As the sample size increases, the sampling distribution of the point estimate becomes narrower.\n",
    "\n",
    "B. As the sample size increases, more sample point estimates are closer to the true population mean.\n",
    "\n",
    "C. As the sample size decreases, the sample point estimates become more variable (spread out).\n",
    "\n",
    "D. As the sample size increases, the sample point estimates become more variable (spread out).\n",
    "\n",
    "*Assign your answer to an object called `answer2.8`. Your answer should be a single character surrounded by quotes.*"
   ]
  },
  {
   "cell_type": "code",
   "execution_count": null,
   "metadata": {
    "deletable": false,
    "nbgrader": {
     "cell_type": "code",
     "checksum": "016ec1a1ff259afc665651735f7bdbed",
     "grade": false,
     "grade_id": "cell-8f9319a3b3411ed5",
     "locked": false,
     "schema_version": 3,
     "solution": true,
     "task": false
    }
   },
   "outputs": [],
   "source": [
    "# your code here\n",
    "fail() # No Answer - remove if you provide an answer\n",
    "answer2.8"
   ]
  },
  {
   "cell_type": "code",
   "execution_count": null,
   "metadata": {
    "deletable": false,
    "editable": false,
    "nbgrader": {
     "cell_type": "code",
     "checksum": "57817339575b0108b6921501a73b8c4b",
     "grade": true,
     "grade_id": "cell-4bd59f7910e865dc",
     "locked": true,
     "points": 1,
     "schema_version": 3,
     "solution": false,
     "task": false
    }
   },
   "outputs": [],
   "source": [
    "library(digest)\n",
    "stopifnot(\"type of answer2.8 is not character\"= setequal(digest(paste(toString(class(answer2.8)), \"1295c\")), \"30545fdc69b8c2f46e5c56fbec6e6b63\"))\n",
    "stopifnot(\"length of answer2.8 is not correct\"= setequal(digest(paste(toString(length(answer2.8)), \"1295c\")), \"16d39cd20bf6827654dcbe362ca3ea1b\"))\n",
    "stopifnot(\"value of answer2.8 is not correct\"= setequal(digest(paste(toString(tolower(answer2.8)), \"1295c\")), \"3190c6a35d7613fb9cacdbe9314f54de\"))\n",
    "stopifnot(\"letters in string value of answer2.8 are correct but case is not correct\"= setequal(digest(paste(toString(answer2.8), \"1295c\")), \"e28bd1157ab35285c0ae12901244abc4\"))\n",
    "\n",
    "print('Success!')"
   ]
  },
  {
   "cell_type": "markdown",
   "metadata": {
    "deletable": false,
    "editable": false,
    "nbgrader": {
     "cell_type": "markdown",
     "checksum": "9bd9cb5c4bc51055cfe221d2f9578d5e",
     "grade": false,
     "grade_id": "cell-4622783ca69e105d",
     "locked": true,
     "schema_version": 3,
     "solution": false,
     "task": false
    }
   },
   "source": [
    "**Question 2.9** True/False\n",
    "<br> {points: 1}\n",
    "\n",
    "Given what you observed above, and considering the real life scenario where you will only have one sample, answer the True/False question below:\n",
    "\n",
    "The smaller your random sample, the better your sample point estimate reflect the true population parameter you are trying to estimate. True or False?\n",
    "\n",
    "*Assign your answer to an object called `answer2.9`. Your answer should be either \"true\" or \"false\", surrounded by quotes.*"
   ]
  },
  {
   "cell_type": "code",
   "execution_count": null,
   "metadata": {
    "deletable": false,
    "nbgrader": {
     "cell_type": "code",
     "checksum": "b7b6d0e454406e26d2714f6e3137ab4f",
     "grade": false,
     "grade_id": "cell-3c587e58178a0614",
     "locked": false,
     "schema_version": 3,
     "solution": true,
     "task": false
    }
   },
   "outputs": [],
   "source": [
    "# your code here\n",
    "fail() # No Answer - remove if you provide an answer\n",
    "answer2.9"
   ]
  },
  {
   "cell_type": "code",
   "execution_count": null,
   "metadata": {
    "deletable": false,
    "editable": false,
    "nbgrader": {
     "cell_type": "code",
     "checksum": "e8965ae930e6af6af5174824c8a58c58",
     "grade": true,
     "grade_id": "cell-d346c550b654bff1",
     "locked": true,
     "points": 1,
     "schema_version": 3,
     "solution": false,
     "task": false
    }
   },
   "outputs": [],
   "source": [
    "library(digest)\n",
    "stopifnot(\"type of answer2.9 is not character\"= setequal(digest(paste(toString(class(answer2.9)), \"2c130\")), \"52308d931cbec43d926baa2a9c27ec70\"))\n",
    "stopifnot(\"length of answer2.9 is not correct\"= setequal(digest(paste(toString(length(answer2.9)), \"2c130\")), \"198667e56627dd537241529e777f6ecc\"))\n",
    "stopifnot(\"value of answer2.9 is not correct\"= setequal(digest(paste(toString(tolower(answer2.9)), \"2c130\")), \"e8cc029f6348b382afad35667a0e0fc8\"))\n",
    "stopifnot(\"letters in string value of answer2.9 are correct but case is not correct\"= setequal(digest(paste(toString(answer2.9), \"2c130\")), \"e8cc029f6348b382afad35667a0e0fc8\"))\n",
    "\n",
    "print('Success!')"
   ]
  },
  {
   "cell_type": "code",
   "execution_count": null,
   "metadata": {
    "deletable": false,
    "editable": false,
    "nbgrader": {
     "cell_type": "code",
     "checksum": "4e115acc35e74844a849f756e78b1544",
     "grade": false,
     "grade_id": "cell-b6d717903fcd154d",
     "locked": true,
     "schema_version": 3,
     "solution": false,
     "task": false
    }
   },
   "outputs": [],
   "source": [
    "source('cleanup.R')"
   ]
  }
 ],
 "metadata": {
  "kernelspec": {
   "display_name": "R",
   "language": "R",
   "name": "ir"
  },
  "language_info": {
   "codemirror_mode": "r",
   "file_extension": ".r",
   "mimetype": "text/x-r-source",
   "name": "R",
   "pygments_lexer": "r",
   "version": "4.3.3"
  }
 },
 "nbformat": 4,
 "nbformat_minor": 4
}
