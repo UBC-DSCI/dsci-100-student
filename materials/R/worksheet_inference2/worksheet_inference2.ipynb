{
 "cells": [
  {
   "cell_type": "markdown",
   "metadata": {
    "deletable": false,
    "editable": false,
    "nbgrader": {
     "cell_type": "markdown",
     "checksum": "2b86c23cd7d8f71817a09b1005c64957",
     "grade": false,
     "grade_id": "cell-f863750069537ead",
     "locked": true,
     "schema_version": 3,
     "solution": false,
     "task": false
    }
   },
   "source": [
    "# Worksheet: Statistical inference II\n",
    "\n",
    "This worksheet covers the [Statistical inference](https://datasciencebook.ca/inference.html) chapter of the online textbook, which also lists the learning objectives for this worksheet. You should read the textbook chapter before attempting this worksheet. "
   ]
  },
  {
   "cell_type": "code",
   "execution_count": null,
   "metadata": {
    "deletable": false,
    "editable": false,
    "nbgrader": {
     "cell_type": "code",
     "checksum": "015ff01e55f878e88a1214f1681c9190",
     "grade": false,
     "grade_id": "cell-55b5050a0a343a4f",
     "locked": true,
     "schema_version": 3,
     "solution": false,
     "task": false
    }
   },
   "outputs": [],
   "source": [
    "### Run this cell before continuing.\n",
    "library(tidyverse)\n",
    "library(repr)\n",
    "library(infer)\n",
    "library(cowplot)\n",
    "options(repr.matrix.max.rows = 6)\n",
    "source(\"cleanup.R\")"
   ]
  },
  {
   "cell_type": "markdown",
   "metadata": {
    "deletable": false,
    "editable": false,
    "nbgrader": {
     "cell_type": "markdown",
     "checksum": "ea58748ba8abd00b4d778ad8dc9e00ce",
     "grade": false,
     "grade_id": "cell-b0098728d66708d2",
     "locked": true,
     "schema_version": 3,
     "solution": false,
     "task": false
    }
   },
   "source": [
    "**Question 1.1** True/False:\n",
    "<br> {points: 1}\n",
    "\n",
    "In real life, we typically take many samples from the population and create a sampling distribution when we perform estimation. True or false?\n",
    "\n",
    "*Assign your answer to an object called `answer1.1`. Your answer should be in lowercase letters and is surrounded by quotes (e.g. `\"true\"` or `\"false\"`).*"
   ]
  },
  {
   "cell_type": "code",
   "execution_count": null,
   "metadata": {
    "deletable": false,
    "nbgrader": {
     "cell_type": "code",
     "checksum": "febbd354b2f2ca03729f132e8e79ecb7",
     "grade": false,
     "grade_id": "cell-03cc711477e4baf7",
     "locked": false,
     "schema_version": 3,
     "solution": true,
     "task": false
    }
   },
   "outputs": [],
   "source": [
    "# your code here\n",
    "fail() # No Answer - remove if you provide an answer"
   ]
  },
  {
   "cell_type": "code",
   "execution_count": null,
   "metadata": {
    "deletable": false,
    "editable": false,
    "nbgrader": {
     "cell_type": "code",
     "checksum": "fe59a3bf2dbacd2060d99ed0e0d4e2a3",
     "grade": true,
     "grade_id": "cell-e8aa24da1ef5f535",
     "locked": true,
     "points": 1,
     "schema_version": 3,
     "solution": false,
     "task": false
    }
   },
   "outputs": [],
   "source": [
    "library(digest)\n",
    "stopifnot(\"type of answer1.1 is not character\"= setequal(digest(paste(toString(class(answer1.1)), \"3a962\")), \"cff0806073ae0ef4c987b4d922473729\"))\n",
    "stopifnot(\"length of answer1.1 is not correct\"= setequal(digest(paste(toString(length(answer1.1)), \"3a962\")), \"5460d1ce699c093f3fdfa3f61df1068f\"))\n",
    "stopifnot(\"value of answer1.1 is not correct\"= setequal(digest(paste(toString(tolower(answer1.1)), \"3a962\")), \"83fd083cf14c951538c00867f8e5d43f\"))\n",
    "stopifnot(\"letters in string value of answer1.1 are correct but case is not correct\"= setequal(digest(paste(toString(answer1.1), \"3a962\")), \"83fd083cf14c951538c00867f8e5d43f\"))\n",
    "\n",
    "print('Success!')"
   ]
  },
  {
   "cell_type": "markdown",
   "metadata": {
    "deletable": false,
    "editable": false,
    "nbgrader": {
     "cell_type": "markdown",
     "checksum": "d8b3b78a644062149e179ad24bc6cf17",
     "grade": false,
     "grade_id": "cell-05b19510ad97aeb3",
     "locked": true,
     "schema_version": 3,
     "solution": false,
     "task": false
    }
   },
   "source": [
    "**Question 1.2** Ordering\n",
    "<br> {points: 1}\n",
    "\n",
    "Correctly re-order the steps for creating a bootstrap sample from those listed below. \n",
    "\n",
    "1. record the observation's value\n",
    "2. repeat the above the same number of times as there are observations in the original sample \n",
    "3. return the observation to the original sample\n",
    "4. randomly draw an observation from the original sample (which was drawn from the population)\n",
    "\n",
    "Create your answer by reordering values below in the `answer1.2` vector with the correct order for the steps above for creating a bootstrap sample."
   ]
  },
  {
   "cell_type": "code",
   "execution_count": null,
   "metadata": {
    "deletable": false,
    "nbgrader": {
     "cell_type": "code",
     "checksum": "519eebab5b974ad14e6c859787608837",
     "grade": false,
     "grade_id": "cell-dbdb7facfc6bda43",
     "locked": false,
     "schema_version": 3,
     "solution": true,
     "task": false
    }
   },
   "outputs": [],
   "source": [
    "# answer1.2 <- c(1, 2, 3, 4) # reorder these values!\n",
    "# your code here\n",
    "fail() # No Answer - remove if you provide an answer"
   ]
  },
  {
   "cell_type": "code",
   "execution_count": null,
   "metadata": {
    "deletable": false,
    "editable": false,
    "nbgrader": {
     "cell_type": "code",
     "checksum": "c026172a8de0bcd744baadc6b90f7725",
     "grade": true,
     "grade_id": "cell-8a257d7535ce46fe",
     "locked": true,
     "points": 1,
     "schema_version": 3,
     "solution": false,
     "task": false
    }
   },
   "outputs": [],
   "source": [
    "library(digest)\n",
    "stopifnot(\"type of answer1.2 is not numeric\"= setequal(digest(paste(toString(class(answer1.2)), \"5ffbc\")), \"4ba7b4acf49270f57393282f10b097e7\"))\n",
    "stopifnot(\"value of answer1.2 is not correct (rounded to 2 decimal places)\"= setequal(digest(paste(toString(round(answer1.2, 2)), \"5ffbc\")), \"086c969a6bb227076475bce41bee803d\"))\n",
    "stopifnot(\"length of answer1.2 is not correct\"= setequal(digest(paste(toString(length(answer1.2)), \"5ffbc\")), \"ce500afb7176c813bda619f3c9674eef\"))\n",
    "stopifnot(\"values of answer1.2 are not correct\"= setequal(digest(paste(toString(sort(round(answer1.2, 2))), \"5ffbc\")), \"b50d698099f937312158f9be08d33632\"))\n",
    "\n",
    "print('Success!')"
   ]
  },
  {
   "cell_type": "markdown",
   "metadata": {
    "deletable": false,
    "editable": false,
    "nbgrader": {
     "cell_type": "markdown",
     "checksum": "d31aab764945c44f50688abc038e91dd",
     "grade": false,
     "grade_id": "cell-a612ade2b8ba83fc",
     "locked": true,
     "schema_version": 3,
     "solution": false,
     "task": false
    }
   },
   "source": [
    "**Question 1.3** Multiple choice\n",
    "<br> {points: 1}\n",
    "\n",
    "From the list below, choose the correct explanation of a bootstrap distribution for a point estimate:\n",
    "\n",
    "A. a list of point estimates calculated from many samples drawn with replacement from the population\n",
    "\n",
    "B. a list of point estimates calculated from many samples drawn without replacement from the population\n",
    "\n",
    "C. a list of point estimates calculated from bootstrap samples drawn with replacement from a single sample (that was drawn from the population)\n",
    "\n",
    "D. a list of point estimates calculated from bootstrap samples drawn without replacement from a single sample (that was drawn from the population)\n",
    "\n",
    "*Assign your answer to an object called `answer1.3`. Your answer should be an uppercase letter and is surrounded by quotes. (e.g. `\"F\"`)*"
   ]
  },
  {
   "cell_type": "code",
   "execution_count": null,
   "metadata": {
    "deletable": false,
    "nbgrader": {
     "cell_type": "code",
     "checksum": "0dacd29a14dcafbb822d33871c4cfd39",
     "grade": false,
     "grade_id": "cell-fe8959defed4a439",
     "locked": false,
     "schema_version": 3,
     "solution": true,
     "task": false
    }
   },
   "outputs": [],
   "source": [
    "# your code here\n",
    "fail() # No Answer - remove if you provide an answer"
   ]
  },
  {
   "cell_type": "code",
   "execution_count": null,
   "metadata": {
    "deletable": false,
    "editable": false,
    "nbgrader": {
     "cell_type": "code",
     "checksum": "025a5ce5797b93c71a17c0a423261420",
     "grade": true,
     "grade_id": "cell-59dbb6a427a133c5",
     "locked": true,
     "points": 1,
     "schema_version": 3,
     "solution": false,
     "task": false
    }
   },
   "outputs": [],
   "source": [
    "library(digest)\n",
    "stopifnot(\"type of answer1.3 is not character\"= setequal(digest(paste(toString(class(answer1.3)), \"3dd5e\")), \"b0d7a616fd507b82885fbc464e67c15d\"))\n",
    "stopifnot(\"length of answer1.3 is not correct\"= setequal(digest(paste(toString(length(answer1.3)), \"3dd5e\")), \"7d6176ef5e191088325b15ead47ca965\"))\n",
    "stopifnot(\"value of answer1.3 is not correct\"= setequal(digest(paste(toString(tolower(answer1.3)), \"3dd5e\")), \"0bb294033d9788e8a9bb2ad421d3b7bc\"))\n",
    "stopifnot(\"letters in string value of answer1.3 are correct but case is not correct\"= setequal(digest(paste(toString(answer1.3), \"3dd5e\")), \"5156dcd10884247b39616ba4c46715e8\"))\n",
    "\n",
    "print('Success!')"
   ]
  },
  {
   "cell_type": "markdown",
   "metadata": {
    "deletable": false,
    "editable": false,
    "nbgrader": {
     "cell_type": "markdown",
     "checksum": "9e1159baefde49908391f825cae581a2",
     "grade": false,
     "grade_id": "cell-1df2a1ba39ccc80d",
     "locked": true,
     "schema_version": 3,
     "solution": false,
     "task": false
    }
   },
   "source": [
    "**Question 1.4** Multiple choice\n",
    "<br> {points: 1}\n",
    "\n",
    "From the list below, choose the correct explanation of why, when performing estimation, we want to report a plausible **range** for the true population quantity we are trying to estimate along with the point estimate:\n",
    "\n",
    "A. The point estimate is our best guess at the true population quantity we are trying to estimate\n",
    "\n",
    "B. The point estimate will often not be the exact value of the true population quantity we are trying to estimate\n",
    "\n",
    "C. The value of a point estimate from one sample might very well be different than the value of a point estimate from another sample.\n",
    "\n",
    "D. B & C\n",
    "\n",
    "F. A & C\n",
    "\n",
    "E. None of the above\n",
    "\n",
    "*Assign your answer to an object called `answer1.4`. Your answer should be an uppercase letter and is surrounded by quotes (e.g. `\"F\"`).*"
   ]
  },
  {
   "cell_type": "code",
   "execution_count": null,
   "metadata": {
    "deletable": false,
    "nbgrader": {
     "cell_type": "code",
     "checksum": "28e5fb0455502bd31008937e083d5807",
     "grade": false,
     "grade_id": "cell-fd7e89338bbb71ca",
     "locked": false,
     "schema_version": 3,
     "solution": true,
     "task": false
    }
   },
   "outputs": [],
   "source": [
    "# your code here\n",
    "fail() # No Answer - remove if you provide an answer"
   ]
  },
  {
   "cell_type": "code",
   "execution_count": null,
   "metadata": {
    "deletable": false,
    "editable": false,
    "nbgrader": {
     "cell_type": "code",
     "checksum": "fbc39bd2f281bf25dbc63634ef5e2156",
     "grade": true,
     "grade_id": "cell-9448b3731eccbe8c",
     "locked": true,
     "points": 1,
     "schema_version": 3,
     "solution": false,
     "task": false
    }
   },
   "outputs": [],
   "source": [
    "library(digest)\n",
    "stopifnot(\"type of answer1.4 is not character\"= setequal(digest(paste(toString(class(answer1.4)), \"7c0f7\")), \"684217bbe0360e18c32d6e8466c35b7a\"))\n",
    "stopifnot(\"length of answer1.4 is not correct\"= setequal(digest(paste(toString(length(answer1.4)), \"7c0f7\")), \"0373becd9b4d13d38c45228c7fc40523\"))\n",
    "stopifnot(\"value of answer1.4 is not correct\"= setequal(digest(paste(toString(tolower(answer1.4)), \"7c0f7\")), \"df6298d0e1560d103ae9500652627cc9\"))\n",
    "stopifnot(\"letters in string value of answer1.4 are correct but case is not correct\"= setequal(digest(paste(toString(answer1.4), \"7c0f7\")), \"2dc3be22e5807913386a04db5b2f57a8\"))\n",
    "\n",
    "print('Success!')"
   ]
  },
  {
   "cell_type": "markdown",
   "metadata": {
    "deletable": false,
    "editable": false,
    "nbgrader": {
     "cell_type": "markdown",
     "checksum": "cdcf658b805ec55ff277da8d8dbb9462",
     "grade": false,
     "grade_id": "cell-76363f7f1f56807e",
     "locked": true,
     "schema_version": 3,
     "solution": false,
     "task": false
    }
   },
   "source": [
    "###  Continuing with our virtual population of Canadian seniors from last worksheet\n",
    "\n",
    "Here we re-create the virtual population (ages of all Canadian seniors) we used in the last worksheet. It was bounded by realistic values ($\\geq$ 65 and $\\leq$ 117):"
   ]
  },
  {
   "cell_type": "code",
   "execution_count": null,
   "metadata": {
    "deletable": false,
    "editable": false,
    "nbgrader": {
     "cell_type": "code",
     "checksum": "b30d4d8c75fd62e9906b1b8d010e81da",
     "grade": false,
     "grade_id": "cell-522aafd1e9430ef3",
     "locked": true,
     "schema_version": 3,
     "solution": false,
     "task": false
    }
   },
   "outputs": [],
   "source": [
    "# run this cell to simulate a finite population\n",
    "set.seed(4321) # DO NOT CHANGE\n",
    "can_seniors <- tibble(age = (rexp(2000000, rate = 0.1)^2) + 65) |> \n",
    "    filter(age <= 117, age >= 65)\n",
    "can_seniors"
   ]
  },
  {
   "cell_type": "markdown",
   "metadata": {
    "deletable": false,
    "editable": false,
    "nbgrader": {
     "cell_type": "markdown",
     "checksum": "5561245d433c1e817a99ae2a8ba5d19c",
     "grade": false,
     "grade_id": "cell-557951d5cb618c2c",
     "locked": true,
     "schema_version": 3,
     "solution": false,
     "task": false
    }
   },
   "source": [
    "Let's remind ourselves of what this population looks like:"
   ]
  },
  {
   "cell_type": "code",
   "execution_count": null,
   "metadata": {
    "deletable": false,
    "editable": false,
    "nbgrader": {
     "cell_type": "code",
     "checksum": "fa54f2d5d00e770f4ff592e2aec57ed0",
     "grade": false,
     "grade_id": "cell-ac4865a9c4709bbb",
     "locked": true,
     "schema_version": 3,
     "solution": false,
     "task": false
    }
   },
   "outputs": [],
   "source": [
    "# run this cell \n",
    "options(repr.plot.width = 8, repr.plot.height = 7)\n",
    "pop_dist <- ggplot(can_seniors, aes(age)) + \n",
    "    geom_histogram(binwidth = 1) +\n",
    "    xlab(\"Age (years)\") +\n",
    "    ggtitle(\"Population distribution\") +\n",
    "    theme(text = element_text(size = 20), plot.margin = margin(10, 100)) # last x value was getting cut off\n",
    "pop_dist"
   ]
  },
  {
   "cell_type": "markdown",
   "metadata": {
    "deletable": false,
    "editable": false,
    "nbgrader": {
     "cell_type": "markdown",
     "checksum": "c195a28b9d8c3412d6f580ae62d5e25b",
     "grade": false,
     "grade_id": "cell-f2e798c845edc3ee",
     "locked": true,
     "schema_version": 3,
     "solution": false,
     "task": false
    }
   },
   "source": [
    "### Estimate the mean age of Canadian Seniors\n",
    "\n",
    "Let's say we are interested in estimating the mean age of all Canadian Seniors. Given that we have the population (we created it) we could just calculate the mean age from this population data. However in real life, we usually only have one small-ish sample from the population. Also, from our examination of sampling distributions, we know that different random samples will give us different point estimates. We also know that the point estimates from different random samples will vary around the true population quanitity we are trying to estimate, and the sample size affects how close it is.\n",
    "\n",
    "What about in real life though, when we only have one sample? Can we say how close? Or at least give some plausible range of where we would expect the population quanitity we are trying to estimate to fall? Yes! We can do this using one method called **bootstrapping**! Let's explore how to create a bootstrap distribution from a single sample using R. And then we will discuss how the bootstrap distribution relates to the sampling distribution, and what it can tell us about the true population quantity we are trying to estimate."
   ]
  },
  {
   "cell_type": "markdown",
   "metadata": {
    "deletable": false,
    "editable": false,
    "nbgrader": {
     "cell_type": "markdown",
     "checksum": "5c79b5dab23b2d6c7cf9cf3d3f3ab343",
     "grade": false,
     "grade_id": "cell-9282c2797da1931b",
     "locked": true,
     "schema_version": 3,
     "solution": false,
     "task": false
    }
   },
   "source": [
    "Let's draw a single sample of size 40 from the population and visualize it:"
   ]
  },
  {
   "cell_type": "code",
   "execution_count": null,
   "metadata": {
    "deletable": false,
    "editable": false,
    "nbgrader": {
     "cell_type": "code",
     "checksum": "e0bf0c2cb869152a84bf682768bd45e7",
     "grade": false,
     "grade_id": "cell-01de9069dec4f4e5",
     "locked": true,
     "schema_version": 3,
     "solution": false,
     "task": false
    }
   },
   "outputs": [],
   "source": [
    "# run this cell \n",
    "set.seed(12345) \n",
    "one_sample <- can_seniors |> \n",
    "    rep_sample_n(40) |> \n",
    "    ungroup() |> # ungroup the data frame \n",
    "    select(age) # drop the replicate column \n",
    "one_sample"
   ]
  },
  {
   "cell_type": "markdown",
   "metadata": {
    "deletable": false,
    "editable": false,
    "nbgrader": {
     "cell_type": "markdown",
     "checksum": "b215227439420b58a83c8f2f0931c054",
     "grade": false,
     "grade_id": "cell-3f8eadc7f353c3fb",
     "locked": true,
     "schema_version": 3,
     "solution": false,
     "task": false
    }
   },
   "source": [
    "> ### An aside\n",
    "> To make this work with the `infer` package functions, we need to drop the first column (named `replicate`) as when we are bootstrapping we will be generating this column again. We also need to ungroup this data frame too...\n",
    ">\n",
    "> This is because in real life you would only have one sample (and hence no replicate column and the data would be ungrouped)."
   ]
  },
  {
   "cell_type": "code",
   "execution_count": null,
   "metadata": {
    "deletable": false,
    "editable": false,
    "nbgrader": {
     "cell_type": "code",
     "checksum": "f3bfd7b5e52bd2aa0b69b66d41680375",
     "grade": false,
     "grade_id": "cell-1468c684182d5b3b",
     "locked": true,
     "schema_version": 3,
     "solution": false,
     "task": false
    }
   },
   "outputs": [],
   "source": [
    "options(repr.plot.width = 8, repr.plot.height = 7)\n",
    "# run this cell \n",
    "one_sample_dist <- ggplot(one_sample, aes(age)) + \n",
    "    geom_histogram(binwidth = 1) +\n",
    "    xlab(\"Age (years)\") +\n",
    "    ggtitle(\"Distribution of one sample\") +\n",
    "    theme(text = element_text(size = 20))\n",
    "one_sample_dist"
   ]
  },
  {
   "cell_type": "markdown",
   "metadata": {
    "deletable": false,
    "editable": false,
    "nbgrader": {
     "cell_type": "markdown",
     "checksum": "3c1038bf12a8855d23fb0eca6812bb96",
     "grade": false,
     "grade_id": "cell-aaf103d19b9fba0d",
     "locked": true,
     "schema_version": 3,
     "solution": false,
     "task": false
    }
   },
   "source": [
    "**Question 1.5** \n",
    "<br> {points: 1}\n",
    "\n",
    "Use `summarise` to calculate the mean age (our point estimate of interest) from the random sample you just took (`one_sample`):\n",
    "\n",
    "Name this data frame `one_sample_estimates` which has a single column named `mean`."
   ]
  },
  {
   "cell_type": "code",
   "execution_count": null,
   "metadata": {
    "deletable": false,
    "nbgrader": {
     "cell_type": "code",
     "checksum": "5a31064545a044eb58ac989026152ecf",
     "grade": false,
     "grade_id": "cell-443a7d1dcaf35e9a",
     "locked": false,
     "schema_version": 3,
     "solution": true,
     "task": false
    }
   },
   "outputs": [],
   "source": [
    "# your code here\n",
    "fail() # No Answer - remove if you provide an answer\n",
    "one_sample_estimates"
   ]
  },
  {
   "cell_type": "code",
   "execution_count": null,
   "metadata": {
    "deletable": false,
    "editable": false,
    "nbgrader": {
     "cell_type": "code",
     "checksum": "f176a5c47afe1a4ef85cfd5db65e4d1e",
     "grade": true,
     "grade_id": "cell-8e9e83895e2967dd",
     "locked": true,
     "points": 1,
     "schema_version": 3,
     "solution": false,
     "task": false
    }
   },
   "outputs": [],
   "source": [
    "library(digest)\n",
    "stopifnot(\"one_sample_estimates should be a data frame\"= setequal(digest(paste(toString('data.frame' %in% class(one_sample_estimates)), \"d0edf\")), \"3043571f5e0124f9fc90f52ad6c70177\"))\n",
    "stopifnot(\"dimensions of one_sample_estimates are not correct\"= setequal(digest(paste(toString(dim(one_sample_estimates)), \"d0edf\")), \"218469808d8cc99698517044c22a5b90\"))\n",
    "stopifnot(\"column names of one_sample_estimates are not correct\"= setequal(digest(paste(toString(sort(colnames(one_sample_estimates))), \"d0edf\")), \"41f8161152e125bb9ba29d7e1bce54f1\"))\n",
    "stopifnot(\"types of columns in one_sample_estimates are not correct\"= setequal(digest(paste(toString(sort(unlist(sapply(one_sample_estimates, class)))), \"d0edf\")), \"fe99b0559710358b5536b0322e00307b\"))\n",
    "stopifnot(\"values in one or more numerical columns in one_sample_estimates are not correct\"= setequal(digest(paste(toString(if (any(sapply(one_sample_estimates, is.numeric))) sort(round(sapply(one_sample_estimates[, sapply(one_sample_estimates, is.numeric)], sum, na.rm = TRUE), 2)) else 0), \"d0edf\")), \"9f526d2f27b4901e4f7aa5e06883c6e0\"))\n",
    "stopifnot(\"values in one or more character columns in one_sample_estimates are not correct\"= setequal(digest(paste(toString(if (any(sapply(one_sample_estimates, is.character))) sum(sapply(one_sample_estimates[sapply(one_sample_estimates, is.character)], function(x) length(unique(x)))) else 0), \"d0edf\")), \"dae48b4c00121e401d998e35cbfb3317\"))\n",
    "stopifnot(\"values in one or more factor columns in one_sample_estimates are not correct\"= setequal(digest(paste(toString(if (any(sapply(one_sample_estimates, is.factor))) sum(sapply(one_sample_estimates[, sapply(one_sample_estimates, is.factor)], function(col) length(unique(col)))) else 0), \"d0edf\")), \"dae48b4c00121e401d998e35cbfb3317\"))\n",
    "\n",
    "print('Success!')"
   ]
  },
  {
   "cell_type": "markdown",
   "metadata": {
    "deletable": false,
    "editable": false,
    "nbgrader": {
     "cell_type": "markdown",
     "checksum": "9f9a64ea9ac7e0422d39631edf94ae4b",
     "grade": false,
     "grade_id": "cell-5575d82939196fc9",
     "locked": true,
     "schema_version": 3,
     "solution": false,
     "task": false
    }
   },
   "source": [
    "**Question 1.6** \n",
    "<br> {points: 1}\n",
    "\n",
    "To generate a single bootstrap sample in R, we can use the `rep_sample_n` function as we did when we were creating our sampling distribution, however this time we change the argument for `replace` from its default value of `FALSE` to `TRUE`.\n",
    "\n",
    "Use `rep_sample_n` to take a single bootstrap sample from the sample you drew from the population. Name this bootstrap sample `boot1`.\n",
    "\n",
    "Use `4321` as the seed."
   ]
  },
  {
   "cell_type": "code",
   "execution_count": null,
   "metadata": {
    "deletable": false,
    "nbgrader": {
     "cell_type": "code",
     "checksum": "33a5a3eb8f8d0e6842cac2a440af70d9",
     "grade": false,
     "grade_id": "cell-239c20c4566f1f3c",
     "locked": false,
     "schema_version": 3,
     "solution": true,
     "task": false
    }
   },
   "outputs": [],
   "source": [
    "set.seed(4321)  # DO NOT CHANGE!\n",
    "# ... <- ... |>\n",
    "#    rep_sample_n(size = ..., replace = ..., reps = ...)\n",
    "# your code here\n",
    "fail() # No Answer - remove if you provide an answer\n",
    "boot1"
   ]
  },
  {
   "cell_type": "code",
   "execution_count": null,
   "metadata": {
    "deletable": false,
    "editable": false,
    "nbgrader": {
     "cell_type": "code",
     "checksum": "32affd2cf65fd36295018188d01e26c5",
     "grade": true,
     "grade_id": "cell-af716b8959aee1ac",
     "locked": true,
     "points": 1,
     "schema_version": 3,
     "solution": false,
     "task": false
    }
   },
   "outputs": [],
   "source": [
    "library(digest)\n",
    "stopifnot(\"boot1 should be a data frame\"= setequal(digest(paste(toString('data.frame' %in% class(boot1)), \"4fe11\")), \"c5ecc0f876e199f43b7f823c41b3e397\"))\n",
    "stopifnot(\"dimensions of boot1 are not correct\"= setequal(digest(paste(toString(dim(boot1)), \"4fe11\")), \"39500852fd9fc3ba2ceb1f7eee322fe3\"))\n",
    "stopifnot(\"column names of boot1 are not correct\"= setequal(digest(paste(toString(sort(colnames(boot1))), \"4fe11\")), \"a76437bc64f177d14a86e5a743d06253\"))\n",
    "stopifnot(\"types of columns in boot1 are not correct\"= setequal(digest(paste(toString(sort(unlist(sapply(boot1, class)))), \"4fe11\")), \"66c8bc181bdac15cedb5030f7d8b8d22\"))\n",
    "stopifnot(\"values in one or more numerical columns in boot1 are not correct\"= setequal(digest(paste(toString(if (any(sapply(boot1, is.numeric))) sort(round(sapply(boot1[, sapply(boot1, is.numeric)], sum, na.rm = TRUE), 2)) else 0), \"4fe11\")), \"0dcf3125203cb0d799f108275a520b50\"))\n",
    "stopifnot(\"values in one or more character columns in boot1 are not correct\"= setequal(digest(paste(toString(if (any(sapply(boot1, is.character))) sum(sapply(boot1[sapply(boot1, is.character)], function(x) length(unique(x)))) else 0), \"4fe11\")), \"ee8db1a2ee513c73c5e8dc25d885a01a\"))\n",
    "stopifnot(\"values in one or more factor columns in boot1 are not correct\"= setequal(digest(paste(toString(if (any(sapply(boot1, is.factor))) sum(sapply(boot1[, sapply(boot1, is.factor)], function(col) length(unique(col)))) else 0), \"4fe11\")), \"ee8db1a2ee513c73c5e8dc25d885a01a\"))\n",
    "\n",
    "print('Success!')"
   ]
  },
  {
   "cell_type": "markdown",
   "metadata": {
    "deletable": false,
    "editable": false,
    "nbgrader": {
     "cell_type": "markdown",
     "checksum": "b2bd40833acfd81d6a8ed328661931e6",
     "grade": false,
     "grade_id": "cell-7760b102574e0887",
     "locked": true,
     "schema_version": 3,
     "solution": false,
     "task": false
    }
   },
   "source": [
    "**Question 1.7** Multiple choice\n",
    "<br> {points: 1}\n",
    "\n",
    "Why do we change `replace` to `TRUE`?\n",
    "\n",
    "A. Taking a bootstrap sample involves drawing observations from the original population without replacement\n",
    "\n",
    "B. Taking a bootstrap sample involves drawing observations from the original population with replacement\n",
    "\n",
    "C. Taking a bootstrap sample involves drawing observations from the original sample without replacement\n",
    "\n",
    "D. Taking a bootstrap sample involves drawing observations from the original sample with replacement\n",
    "\n",
    "*Assign your answer to an object called `answer1.7`. Your answer should be an uppercase letter and is surrounded by quotes (e.g. `\"F\"`).*"
   ]
  },
  {
   "cell_type": "code",
   "execution_count": null,
   "metadata": {
    "deletable": false,
    "nbgrader": {
     "cell_type": "code",
     "checksum": "9ce28d85cc67d60e7aecb7ffddd7b3a6",
     "grade": false,
     "grade_id": "cell-ba91c2de68609fe7",
     "locked": false,
     "schema_version": 3,
     "solution": true,
     "task": false
    }
   },
   "outputs": [],
   "source": [
    "# your code here\n",
    "fail() # No Answer - remove if you provide an answer"
   ]
  },
  {
   "cell_type": "code",
   "execution_count": null,
   "metadata": {
    "deletable": false,
    "editable": false,
    "nbgrader": {
     "cell_type": "code",
     "checksum": "e4e282f3dd4f088324ad3b7fbf1cae57",
     "grade": true,
     "grade_id": "cell-1b79e9b905b70215",
     "locked": true,
     "points": 1,
     "schema_version": 3,
     "solution": false,
     "task": false
    }
   },
   "outputs": [],
   "source": [
    "library(digest)\n",
    "stopifnot(\"type of answer1.7 is not character\"= setequal(digest(paste(toString(class(answer1.7)), \"d1bf2\")), \"b73eb3654ffbc95c24753d39535db393\"))\n",
    "stopifnot(\"length of answer1.7 is not correct\"= setequal(digest(paste(toString(length(answer1.7)), \"d1bf2\")), \"867134761d036c3b60cb7113abbd0ac7\"))\n",
    "stopifnot(\"value of answer1.7 is not correct\"= setequal(digest(paste(toString(tolower(answer1.7)), \"d1bf2\")), \"53b5370ed1189c3a883724cba75aaf1f\"))\n",
    "stopifnot(\"letters in string value of answer1.7 are correct but case is not correct\"= setequal(digest(paste(toString(answer1.7), \"d1bf2\")), \"f4d9c364e6bb8ad7619f0724f69225c6\"))\n",
    "\n",
    "print('Success!')"
   ]
  },
  {
   "cell_type": "markdown",
   "metadata": {
    "deletable": false,
    "editable": false,
    "nbgrader": {
     "cell_type": "markdown",
     "checksum": "2727ed76f31497eb9208c7a9ea39eeb4",
     "grade": false,
     "grade_id": "cell-93ea2b7d26e0e137",
     "locked": true,
     "schema_version": 3,
     "solution": false,
     "task": false
    }
   },
   "source": [
    "**Question 1.8** \n",
    "<br> {points: 1}\n",
    "\n",
    "Visualize the distribution of the bootstrap sample you just took (`boot1`) that was just created by plotting a histogram using `binwidth = 1` in the `geom_histogram` argument. Name the plot `boot1_dist` and give the plot (using `ggtitle`) and the x-axis a descriptive label."
   ]
  },
  {
   "cell_type": "code",
   "execution_count": null,
   "metadata": {
    "deletable": false,
    "nbgrader": {
     "cell_type": "code",
     "checksum": "8a6d9047d5ffccf0ea9af3fb48439b92",
     "grade": false,
     "grade_id": "cell-389271affd1fc5af",
     "locked": false,
     "schema_version": 3,
     "solution": true,
     "task": false
    }
   },
   "outputs": [],
   "source": [
    "options(repr.plot.width = 8, repr.plot.height = 7)\n",
    "# your code here\n",
    "fail() # No Answer - remove if you provide an answer\n",
    "boot1_dist"
   ]
  },
  {
   "cell_type": "code",
   "execution_count": null,
   "metadata": {
    "deletable": false,
    "editable": false,
    "nbgrader": {
     "cell_type": "code",
     "checksum": "76e4e958df49a40e9270f74a01605a2f",
     "grade": true,
     "grade_id": "cell-3b7b4b4c4cc4971e",
     "locked": true,
     "points": 1,
     "schema_version": 3,
     "solution": false,
     "task": false
    }
   },
   "outputs": [],
   "source": [
    "library(digest)\n",
    "stopifnot(\"type of plot is not correct (if you are using two types of geoms, try flipping the order of the geom objects!)\"= setequal(digest(paste(toString(sapply(seq_len(length(boot1_dist$layers)), function(i) {c(class(boot1_dist$layers[[i]]$geom))[1]})), \"d751a\")), \"8b30f4b509fa907b94b0ed57a2aaeae8\"))\n",
    "stopifnot(\"variable x is not correct\"= setequal(digest(paste(toString(unlist(lapply(sapply(seq_len(length(boot1_dist$layers)), function(i) {rlang::get_expr(c(boot1_dist$layers[[i]]$mapping, boot1_dist$mapping)$x)}), as.character))), \"d751a\")), \"7eb7df10353a45f50760985bb8900b55\"))\n",
    "stopifnot(\"variable y is not correct\"= setequal(digest(paste(toString(unlist(lapply(sapply(seq_len(length(boot1_dist$layers)), function(i) {rlang::get_expr(c(boot1_dist$layers[[i]]$mapping, boot1_dist$mapping)$y)}), as.character))), \"d751a\")), \"4778763f97e897b4e6112f643fb9ed26\"))\n",
    "stopifnot(\"x-axis label is not descriptive, nicely formatted, or human readable\"= setequal(digest(paste(toString(rlang::get_expr(c(boot1_dist$layers[[1]]$mapping, boot1_dist$mapping)$x)!= boot1_dist$labels$x), \"d751a\")), \"25502636d20bea0258a54afaf861f599\"))\n",
    "stopifnot(\"y-axis label is not descriptive, nicely formatted, or human readable\"= setequal(digest(paste(toString(rlang::get_expr(c(boot1_dist$layers[[1]]$mapping, boot1_dist$mapping)$y)!= boot1_dist$labels$y), \"d751a\")), \"4778763f97e897b4e6112f643fb9ed26\"))\n",
    "stopifnot(\"incorrect colour variable in boot1_dist, specify a correct one if required\"= setequal(digest(paste(toString(rlang::get_expr(c(boot1_dist$layers[[1]]$mapping, boot1_dist$mapping)$colour)), \"d751a\")), \"4778763f97e897b4e6112f643fb9ed26\"))\n",
    "stopifnot(\"incorrect shape variable in boot1_dist, specify a correct one if required\"= setequal(digest(paste(toString(rlang::get_expr(c(boot1_dist$layers[[1]]$mapping, boot1_dist$mapping)$shape)), \"d751a\")), \"4778763f97e897b4e6112f643fb9ed26\"))\n",
    "stopifnot(\"the colour label in boot1_dist is not descriptive, nicely formatted, or human readable\"= setequal(digest(paste(toString(rlang::get_expr(c(boot1_dist$layers[[1]]$mapping, boot1_dist$mapping)$colour) != boot1_dist$labels$colour), \"d751a\")), \"4778763f97e897b4e6112f643fb9ed26\"))\n",
    "stopifnot(\"the shape label in boot1_dist is not descriptive, nicely formatted, or human readable\"= setequal(digest(paste(toString(rlang::get_expr(c(boot1_dist$layers[[1]]$mapping, boot1_dist$mapping)$colour) != boot1_dist$labels$shape), \"d751a\")), \"4778763f97e897b4e6112f643fb9ed26\"))\n",
    "stopifnot(\"fill variable in boot1_dist is not correct\"= setequal(digest(paste(toString(quo_name(boot1_dist$mapping$fill)), \"d751a\")), \"06851edbcf9ac1a3ffa592d78e65b77d\"))\n",
    "stopifnot(\"fill label in boot1_dist is not informative\"= setequal(digest(paste(toString((quo_name(boot1_dist$mapping$fill) != boot1_dist$labels$fill)), \"d751a\")), \"4778763f97e897b4e6112f643fb9ed26\"))\n",
    "stopifnot(\"position argument in boot1_dist is not correct\"= setequal(digest(paste(toString(class(boot1_dist$layers[[1]]$position)[1]), \"d751a\")), \"973547740744463f8f95b57c0646cf33\"))\n",
    "\n",
    "stopifnot(\"boot1_dist$data should be a data frame\"= setequal(digest(paste(toString('data.frame' %in% class(boot1_dist$data)), \"d751b\")), \"eeebbf8ad737a8eec69fa56937185244\"))\n",
    "stopifnot(\"dimensions of boot1_dist$data are not correct\"= setequal(digest(paste(toString(dim(boot1_dist$data)), \"d751b\")), \"7d684ae19963266224041d1c95a07950\"))\n",
    "stopifnot(\"column names of boot1_dist$data are not correct\"= setequal(digest(paste(toString(sort(colnames(boot1_dist$data))), \"d751b\")), \"0392fdd58bb69dc5cadebef0e948588e\"))\n",
    "stopifnot(\"types of columns in boot1_dist$data are not correct\"= setequal(digest(paste(toString(sort(unlist(sapply(boot1_dist$data, class)))), \"d751b\")), \"518265e55969ac359935b642f309410c\"))\n",
    "stopifnot(\"values in one or more numerical columns in boot1_dist$data are not correct\"= setequal(digest(paste(toString(if (any(sapply(boot1_dist$data, is.numeric))) sort(round(sapply(boot1_dist$data[, sapply(boot1_dist$data, is.numeric)], sum, na.rm = TRUE), 2)) else 0), \"d751b\")), \"9643598c48fc71cf5a36d0b5c6e9889f\"))\n",
    "stopifnot(\"values in one or more character columns in boot1_dist$data are not correct\"= setequal(digest(paste(toString(if (any(sapply(boot1_dist$data, is.character))) sum(sapply(boot1_dist$data[sapply(boot1_dist$data, is.character)], function(x) length(unique(x)))) else 0), \"d751b\")), \"7f224798019c1792733f59b62811615b\"))\n",
    "stopifnot(\"values in one or more factor columns in boot1_dist$data are not correct\"= setequal(digest(paste(toString(if (any(sapply(boot1_dist$data, is.factor))) sum(sapply(boot1_dist$data[, sapply(boot1_dist$data, is.factor)], function(col) length(unique(col)))) else 0), \"d751b\")), \"7f224798019c1792733f59b62811615b\"))\n",
    "\n",
    "stopifnot(\"type of is.character(boot1_dist$labels$title) is not logical\"= setequal(digest(paste(toString(class(is.character(boot1_dist$labels$title))), \"d751c\")), \"a9da54fdf7b4c304ce4a55f58af495e4\"))\n",
    "stopifnot(\"logical value of is.character(boot1_dist$labels$title) is not correct\"= setequal(digest(paste(toString(is.character(boot1_dist$labels$title)), \"d751c\")), \"8f1e2857cde210d676e2c83a175c4f3e\"))\n",
    "\n",
    "print('Success!')"
   ]
  },
  {
   "cell_type": "markdown",
   "metadata": {},
   "source": [
    "Let's now compare our bootstrap sample to the original random sample that we drew from the population:"
   ]
  },
  {
   "cell_type": "code",
   "execution_count": null,
   "metadata": {
    "deletable": false,
    "editable": false,
    "nbgrader": {
     "cell_type": "code",
     "checksum": "85a0ce5a6e58e250fb33edab5fc5e68b",
     "grade": false,
     "grade_id": "cell-afd154dc6f0c3e39",
     "locked": true,
     "schema_version": 3,
     "solution": false,
     "task": false
    }
   },
   "outputs": [],
   "source": [
    "# run this code cell\n",
    "options(repr.plot.width = 15, repr.plot.height = 7)\n",
    "plot_grid(one_sample_dist, boot1_dist, ncol = 2)"
   ]
  },
  {
   "cell_type": "markdown",
   "metadata": {
    "deletable": false,
    "editable": false,
    "nbgrader": {
     "cell_type": "markdown",
     "checksum": "b795147ba6a03c8d95909af6369648c5",
     "grade": false,
     "grade_id": "cell-fa64eb1f98987c99",
     "locked": true,
     "schema_version": 3,
     "solution": false,
     "task": false
    }
   },
   "source": [
    "Earlier we calculate the mean of our original sample (`one_sample_estimates`). What is the mean of our bootstrap sample and how does it compare to the mean of our original sample? "
   ]
  },
  {
   "cell_type": "code",
   "execution_count": null,
   "metadata": {
    "deletable": false,
    "editable": false,
    "nbgrader": {
     "cell_type": "code",
     "checksum": "edb9d11243d19069931373a88bba6243",
     "grade": false,
     "grade_id": "cell-77b326e307cf1cf6",
     "locked": true,
     "schema_version": 3,
     "solution": false,
     "task": false
    }
   },
   "outputs": [],
   "source": [
    "# run this cell\n",
    "one_sample_estimates\n",
    "\n",
    "boot1  |> \n",
    "    summarise(mean = mean(age))"
   ]
  },
  {
   "cell_type": "markdown",
   "metadata": {
    "deletable": false,
    "editable": false,
    "nbgrader": {
     "cell_type": "markdown",
     "checksum": "a6a6f6afe4ff8ff4ffe61ab9de6af88b",
     "grade": false,
     "grade_id": "cell-c33dd58cb3c572af",
     "locked": true,
     "schema_version": 3,
     "solution": false,
     "task": false
    }
   },
   "source": [
    "We see that original sample distrbution and the bootstrap sample distribution are of similar shape, but not identical. They also have different means. The difference of the frequency of the values in the bootstrap sample (and the difference of the value of the mean) comes from sampling from the original sample with replacement. Why sample with replacement? If we didn't we would end up with the original sample again. What we are trying to do with bootstrapping is to mimic drawing another sample from the population, without actually doing that. \n",
    "\n",
    "Why are we doing this? As mentioned earlier, in real life we typically only have one sample and thus we cannot create a sampling distribution that we can use to tell us about how we might expect our point estimate to behave if we took another sample. What we can do instead, is to use our sample as an estimate of our population, and sample from that with replacement (i.e., bootstrapping) many times to create many bootstrap samples. We can then calculate point estimates for each bootstrap sample and create a bootstrap distribution of our point estimates and use this as a proxy for a sampling distribution. We can finally use this bootstrap distribution of our point estimates to suggest how we might expected our point estimate to behave if we took another sample."
   ]
  },
  {
   "cell_type": "markdown",
   "metadata": {
    "deletable": false,
    "editable": false,
    "nbgrader": {
     "cell_type": "markdown",
     "checksum": "d85c7cf5780e4d947daf78a973fd6f0f",
     "grade": false,
     "grade_id": "cell-f5b5d685693ffe7f",
     "locked": true,
     "schema_version": 3,
     "solution": false,
     "task": false
    }
   },
   "source": [
    "**Question 1.9** \n",
    "<br> {points: 1}\n",
    "\n",
    "What do 6 different bootstrap samples look like? Use `rep_sample_n` to create a single data frame with 6 bootstrap samples of size 40 drawn from the original sample we drew from the population, `one_sample`. Name the data frame `boot6`.\n",
    "\n",
    "Set the seed as `1234`."
   ]
  },
  {
   "cell_type": "code",
   "execution_count": null,
   "metadata": {
    "deletable": false,
    "nbgrader": {
     "cell_type": "code",
     "checksum": "b4a19d22d00ea9316b9fd2a1c8447b5c",
     "grade": false,
     "grade_id": "cell-6607b2dec92a2913",
     "locked": false,
     "schema_version": 3,
     "solution": true,
     "task": false
    }
   },
   "outputs": [],
   "source": [
    "set.seed(1234)\n",
    "# your code here\n",
    "fail() # No Answer - remove if you provide an answer\n",
    "head(boot6)\n",
    "tail(boot6)"
   ]
  },
  {
   "cell_type": "code",
   "execution_count": null,
   "metadata": {
    "deletable": false,
    "editable": false,
    "nbgrader": {
     "cell_type": "code",
     "checksum": "7987bfb3144a30c621c480ec891a340f",
     "grade": true,
     "grade_id": "cell-e57717e45df34f9a",
     "locked": true,
     "points": 1,
     "schema_version": 3,
     "solution": false,
     "task": false
    }
   },
   "outputs": [],
   "source": [
    "library(digest)\n",
    "stopifnot(\"boot6 should be a data frame\"= setequal(digest(paste(toString('data.frame' %in% class(boot6)), \"ad0a6\")), \"2ad1001115c40b466fdf2eb3c14e4446\"))\n",
    "stopifnot(\"dimensions of boot6 are not correct\"= setequal(digest(paste(toString(dim(boot6)), \"ad0a6\")), \"a317adb1b8aca66cd4675a8a94d76ebb\"))\n",
    "stopifnot(\"column names of boot6 are not correct\"= setequal(digest(paste(toString(sort(colnames(boot6))), \"ad0a6\")), \"cad5fbd2c0027ca2a3df81068656d2f0\"))\n",
    "stopifnot(\"types of columns in boot6 are not correct\"= setequal(digest(paste(toString(sort(unlist(sapply(boot6, class)))), \"ad0a6\")), \"2be3950b4567ef7081993ac592232c52\"))\n",
    "stopifnot(\"values in one or more numerical columns in boot6 are not correct\"= setequal(digest(paste(toString(if (any(sapply(boot6, is.numeric))) sort(round(sapply(boot6[, sapply(boot6, is.numeric)], sum, na.rm = TRUE), 2)) else 0), \"ad0a6\")), \"71f9b52c878841eae60d938c5e975ce4\"))\n",
    "stopifnot(\"values in one or more character columns in boot6 are not correct\"= setequal(digest(paste(toString(if (any(sapply(boot6, is.character))) sum(sapply(boot6[sapply(boot6, is.character)], function(x) length(unique(x)))) else 0), \"ad0a6\")), \"824f8b6f25619e4c381da45cdde1c4af\"))\n",
    "stopifnot(\"values in one or more factor columns in boot6 are not correct\"= setequal(digest(paste(toString(if (any(sapply(boot6, is.factor))) sum(sapply(boot6[, sapply(boot6, is.factor)], function(col) length(unique(col)))) else 0), \"ad0a6\")), \"824f8b6f25619e4c381da45cdde1c4af\"))\n",
    "\n",
    "print('Success!')"
   ]
  },
  {
   "cell_type": "markdown",
   "metadata": {
    "deletable": false,
    "editable": false,
    "nbgrader": {
     "cell_type": "markdown",
     "checksum": "6e41b8e06ffd13a87849b8e97830c4b1",
     "grade": false,
     "grade_id": "cell-558b102565ddf4ae",
     "locked": true,
     "schema_version": 3,
     "solution": false,
     "task": false
    }
   },
   "source": [
    "**Question 2.0** \n",
    "<br> {points: 1}\n",
    "\n",
    "Now visualize the six bootstrap sample distributions from `boot6` by faceting the `replicate` column. Name the plot object `boot6_dist` and give the plot (using `ggtitle`) and the x-axis a descriptive label."
   ]
  },
  {
   "cell_type": "code",
   "execution_count": null,
   "metadata": {
    "deletable": false,
    "nbgrader": {
     "cell_type": "code",
     "checksum": "a072040386a99e108151756fae2927a9",
     "grade": false,
     "grade_id": "cell-d1d36a4806776c6c",
     "locked": false,
     "schema_version": 3,
     "solution": true,
     "task": false
    }
   },
   "outputs": [],
   "source": [
    "options(repr.plot.width = 15, repr.plot.height = 7)\n",
    "# ... <- ggplot(...) +\n",
    "#   ...(binwidth = 1) +\n",
    "#   facet_wrap(facets = vars(...)) +\n",
    "#   xlab(...) +\n",
    "#   ggtitle(...) +\n",
    "#   theme(text = element_text(size = 20))\n",
    "\n",
    "# your code here\n",
    "fail() # No Answer - remove if you provide an answer\n",
    "boot6_dist"
   ]
  },
  {
   "cell_type": "code",
   "execution_count": null,
   "metadata": {
    "deletable": false,
    "editable": false,
    "nbgrader": {
     "cell_type": "code",
     "checksum": "37eb64e6dd6447eb77c576620ac53b36",
     "grade": true,
     "grade_id": "cell-38e6f9e544c5ce17",
     "locked": true,
     "points": 1,
     "schema_version": 3,
     "solution": false,
     "task": false
    }
   },
   "outputs": [],
   "source": [
    "library(digest)\n",
    "stopifnot(\"type of plot is not correct (if you are using two types of geoms, try flipping the order of the geom objects!)\"= setequal(digest(paste(toString(sapply(seq_len(length(boot6_dist$layers)), function(i) {c(class(boot6_dist$layers[[i]]$geom))[1]})), \"e1c28\")), \"a9c2ac83744662c4c447951e142b63e7\"))\n",
    "stopifnot(\"variable x is not correct\"= setequal(digest(paste(toString(unlist(lapply(sapply(seq_len(length(boot6_dist$layers)), function(i) {rlang::get_expr(c(boot6_dist$layers[[i]]$mapping, boot6_dist$mapping)$x)}), as.character))), \"e1c28\")), \"4e4b0e4e1fe0579487ef861a63ebc0db\"))\n",
    "stopifnot(\"variable y is not correct\"= setequal(digest(paste(toString(unlist(lapply(sapply(seq_len(length(boot6_dist$layers)), function(i) {rlang::get_expr(c(boot6_dist$layers[[i]]$mapping, boot6_dist$mapping)$y)}), as.character))), \"e1c28\")), \"66a695bc8030894c749c01843b0eb082\"))\n",
    "stopifnot(\"x-axis label is not descriptive, nicely formatted, or human readable\"= setequal(digest(paste(toString(rlang::get_expr(c(boot6_dist$layers[[1]]$mapping, boot6_dist$mapping)$x)!= boot6_dist$labels$x), \"e1c28\")), \"fd407e9366e7455017074e6018c06506\"))\n",
    "stopifnot(\"y-axis label is not descriptive, nicely formatted, or human readable\"= setequal(digest(paste(toString(rlang::get_expr(c(boot6_dist$layers[[1]]$mapping, boot6_dist$mapping)$y)!= boot6_dist$labels$y), \"e1c28\")), \"66a695bc8030894c749c01843b0eb082\"))\n",
    "stopifnot(\"incorrect colour variable in boot6_dist, specify a correct one if required\"= setequal(digest(paste(toString(rlang::get_expr(c(boot6_dist$layers[[1]]$mapping, boot6_dist$mapping)$colour)), \"e1c28\")), \"66a695bc8030894c749c01843b0eb082\"))\n",
    "stopifnot(\"incorrect shape variable in boot6_dist, specify a correct one if required\"= setequal(digest(paste(toString(rlang::get_expr(c(boot6_dist$layers[[1]]$mapping, boot6_dist$mapping)$shape)), \"e1c28\")), \"66a695bc8030894c749c01843b0eb082\"))\n",
    "stopifnot(\"the colour label in boot6_dist is not descriptive, nicely formatted, or human readable\"= setequal(digest(paste(toString(rlang::get_expr(c(boot6_dist$layers[[1]]$mapping, boot6_dist$mapping)$colour) != boot6_dist$labels$colour), \"e1c28\")), \"66a695bc8030894c749c01843b0eb082\"))\n",
    "stopifnot(\"the shape label in boot6_dist is not descriptive, nicely formatted, or human readable\"= setequal(digest(paste(toString(rlang::get_expr(c(boot6_dist$layers[[1]]$mapping, boot6_dist$mapping)$colour) != boot6_dist$labels$shape), \"e1c28\")), \"66a695bc8030894c749c01843b0eb082\"))\n",
    "stopifnot(\"fill variable in boot6_dist is not correct\"= setequal(digest(paste(toString(quo_name(boot6_dist$mapping$fill)), \"e1c28\")), \"cc6034d18019d1890a212d25127f5aca\"))\n",
    "stopifnot(\"fill label in boot6_dist is not informative\"= setequal(digest(paste(toString((quo_name(boot6_dist$mapping$fill) != boot6_dist$labels$fill)), \"e1c28\")), \"66a695bc8030894c749c01843b0eb082\"))\n",
    "stopifnot(\"position argument in boot6_dist is not correct\"= setequal(digest(paste(toString(class(boot6_dist$layers[[1]]$position)[1]), \"e1c28\")), \"f71f71269c9cd1cb0ba0a135728a67de\"))\n",
    "\n",
    "stopifnot(\"boot6_dist$data should be a data frame\"= setequal(digest(paste(toString('data.frame' %in% class(boot6_dist$data)), \"e1c29\")), \"2bec42f52947e305f94d5fded3231c4b\"))\n",
    "stopifnot(\"dimensions of boot6_dist$data are not correct\"= setequal(digest(paste(toString(dim(boot6_dist$data)), \"e1c29\")), \"0f40368d6c5fe4dcb112be6fb7f646b4\"))\n",
    "stopifnot(\"column names of boot6_dist$data are not correct\"= setequal(digest(paste(toString(sort(colnames(boot6_dist$data))), \"e1c29\")), \"f9acdab3dde81b965c07c1d075c52cb3\"))\n",
    "stopifnot(\"types of columns in boot6_dist$data are not correct\"= setequal(digest(paste(toString(sort(unlist(sapply(boot6_dist$data, class)))), \"e1c29\")), \"cdf7afaf1298c63cf3495c6cad46eb47\"))\n",
    "stopifnot(\"values in one or more numerical columns in boot6_dist$data are not correct\"= setequal(digest(paste(toString(if (any(sapply(boot6_dist$data, is.numeric))) sort(round(sapply(boot6_dist$data[, sapply(boot6_dist$data, is.numeric)], sum, na.rm = TRUE), 2)) else 0), \"e1c29\")), \"ac48fc7dcaaf2c3fce89df4317629eee\"))\n",
    "stopifnot(\"values in one or more character columns in boot6_dist$data are not correct\"= setequal(digest(paste(toString(if (any(sapply(boot6_dist$data, is.character))) sum(sapply(boot6_dist$data[sapply(boot6_dist$data, is.character)], function(x) length(unique(x)))) else 0), \"e1c29\")), \"ca7329e79e2ec1c84d5a7f9ee6bc20d8\"))\n",
    "stopifnot(\"values in one or more factor columns in boot6_dist$data are not correct\"= setequal(digest(paste(toString(if (any(sapply(boot6_dist$data, is.factor))) sum(sapply(boot6_dist$data[, sapply(boot6_dist$data, is.factor)], function(col) length(unique(col)))) else 0), \"e1c29\")), \"ca7329e79e2ec1c84d5a7f9ee6bc20d8\"))\n",
    "\n",
    "stopifnot(\"type of is.character(boot6_dist$labels$title) is not logical\"= setequal(digest(paste(toString(class(is.character(boot6_dist$labels$title))), \"e1c2a\")), \"8d589db186ec6777ed97656d55561900\"))\n",
    "stopifnot(\"logical value of is.character(boot6_dist$labels$title) is not correct\"= setequal(digest(paste(toString(is.character(boot6_dist$labels$title)), \"e1c2a\")), \"572dc952302d45a4b5fc3e35774247d2\"))\n",
    "\n",
    "stopifnot(\"type of class(boot6_dist$facet)[1] is not character\"= setequal(digest(paste(toString(class(class(boot6_dist$facet)[1])), \"e1c2b\")), \"9d3feaaa36e12d15c5651457aa0d2e90\"))\n",
    "stopifnot(\"length of class(boot6_dist$facet)[1] is not correct\"= setequal(digest(paste(toString(length(class(boot6_dist$facet)[1])), \"e1c2b\")), \"c85596b55d0342ea64c8f02c577a353c\"))\n",
    "stopifnot(\"value of class(boot6_dist$facet)[1] is not correct\"= setequal(digest(paste(toString(tolower(class(boot6_dist$facet)[1])), \"e1c2b\")), \"bbdeb6e97f4792bf4d9f451ae3317405\"))\n",
    "stopifnot(\"letters in string value of class(boot6_dist$facet)[1] are correct but case is not correct\"= setequal(digest(paste(toString(class(boot6_dist$facet)[1]), \"e1c2b\")), \"5722936b80fe50bdc20d0f2bd6321155\"))\n",
    "\n",
    "stopifnot(\"type of rlang::get_expr(boot6_dist$facet$params$facets[[1]]) is not correct\"= setequal(digest(paste(toString(class(rlang::get_expr(boot6_dist$facet$params$facets[[1]]))), \"e1c2c\")), \"bc9761bfea5b9f650d966386a45baa4a\"))\n",
    "stopifnot(\"value of rlang::get_expr(boot6_dist$facet$params$facets[[1]]) is not correct\"= setequal(digest(paste(toString(rlang::get_expr(boot6_dist$facet$params$facets[[1]])), \"e1c2c\")), \"6d00b89011b1625e6ad41ef185a0eea4\"))\n",
    "\n",
    "print('Success!')"
   ]
  },
  {
   "cell_type": "markdown",
   "metadata": {
    "deletable": false,
    "editable": false,
    "nbgrader": {
     "cell_type": "markdown",
     "checksum": "e29a3cb5b825474caa170c374fc196c9",
     "grade": false,
     "grade_id": "cell-8c48012a69725219",
     "locked": true,
     "schema_version": 3,
     "solution": false,
     "task": false
    }
   },
   "source": [
    "**Question 2.1** \n",
    "<br> {points: 1}\n",
    "\n",
    "Calculate the mean of these 6 bootstrap samples using `group_by` and `summarize` the data into a column called `mean`. Name the data frame `boot6_means`."
   ]
  },
  {
   "cell_type": "code",
   "execution_count": null,
   "metadata": {
    "deletable": false,
    "nbgrader": {
     "cell_type": "code",
     "checksum": "a4598b10d8ff39dbe4e0107dbabdb338",
     "grade": false,
     "grade_id": "cell-b9692d80805c724a",
     "locked": false,
     "schema_version": 3,
     "solution": true,
     "task": false
    }
   },
   "outputs": [],
   "source": [
    "# your code here\n",
    "fail() # No Answer - remove if you provide an answer\n",
    "boot6_means"
   ]
  },
  {
   "cell_type": "code",
   "execution_count": null,
   "metadata": {
    "deletable": false,
    "editable": false,
    "nbgrader": {
     "cell_type": "code",
     "checksum": "2d61ad81662f919d9a2fbe6157d4353c",
     "grade": true,
     "grade_id": "cell-f2cfe994fece602d",
     "locked": true,
     "points": 1,
     "schema_version": 3,
     "solution": false,
     "task": false
    }
   },
   "outputs": [],
   "source": [
    "library(digest)\n",
    "stopifnot(\"boot6_means should be a data frame\"= setequal(digest(paste(toString('data.frame' %in% class(boot6_means)), \"292a7\")), \"e137d5d84c74971c2f2b82408a128c5c\"))\n",
    "stopifnot(\"dimensions of boot6_means are not correct\"= setequal(digest(paste(toString(dim(boot6_means)), \"292a7\")), \"7fdea31b8fdc657ba2466e78129adc28\"))\n",
    "stopifnot(\"column names of boot6_means are not correct\"= setequal(digest(paste(toString(sort(colnames(boot6_means))), \"292a7\")), \"d2c1a11a799590b39e7245d804b71079\"))\n",
    "stopifnot(\"types of columns in boot6_means are not correct\"= setequal(digest(paste(toString(sort(unlist(sapply(boot6_means, class)))), \"292a7\")), \"04b7158cd9336f58c5db917cab1f57f7\"))\n",
    "stopifnot(\"values in one or more numerical columns in boot6_means are not correct\"= setequal(digest(paste(toString(if (any(sapply(boot6_means, is.numeric))) sort(round(sapply(boot6_means[, sapply(boot6_means, is.numeric)], sum, na.rm = TRUE), 2)) else 0), \"292a7\")), \"4cb60082fd819531d771f1e700273b0f\"))\n",
    "stopifnot(\"values in one or more character columns in boot6_means are not correct\"= setequal(digest(paste(toString(if (any(sapply(boot6_means, is.character))) sum(sapply(boot6_means[sapply(boot6_means, is.character)], function(x) length(unique(x)))) else 0), \"292a7\")), \"ed1b605cb21a67c05cd246994eb23ef9\"))\n",
    "stopifnot(\"values in one or more factor columns in boot6_means are not correct\"= setequal(digest(paste(toString(if (any(sapply(boot6_means, is.factor))) sum(sapply(boot6_means[, sapply(boot6_means, is.factor)], function(col) length(unique(col)))) else 0), \"292a7\")), \"ed1b605cb21a67c05cd246994eb23ef9\"))\n",
    "\n",
    "print('Success!')"
   ]
  },
  {
   "cell_type": "markdown",
   "metadata": {
    "deletable": false,
    "editable": false,
    "nbgrader": {
     "cell_type": "markdown",
     "checksum": "dee11ff2078e4157511a721a42aa87a0",
     "grade": false,
     "grade_id": "cell-00909da5655c00a5",
     "locked": true,
     "schema_version": 3,
     "solution": false,
     "task": false
    }
   },
   "source": [
    "**Question 2.2** \n",
    "<br> {points: 1}\n",
    "\n",
    "Let's now take 1000 bootstrap samples of size 40 from the original sample we drew from the population (`one_sample`) using `rep_sample_n`. Name the data frame `boot1000`.\n",
    "\n",
    "Set the seed as 1234."
   ]
  },
  {
   "cell_type": "code",
   "execution_count": null,
   "metadata": {
    "deletable": false,
    "nbgrader": {
     "cell_type": "code",
     "checksum": "17ebd4223e1d427eb54c73441c18161a",
     "grade": false,
     "grade_id": "cell-cd89ca0c9e456e1b",
     "locked": false,
     "schema_version": 3,
     "solution": true,
     "task": false
    }
   },
   "outputs": [],
   "source": [
    "set.seed(1234)\n",
    "# your code here\n",
    "fail() # No Answer - remove if you provide an answer\n",
    "head(boot1000)\n",
    "tail(boot1000)"
   ]
  },
  {
   "cell_type": "code",
   "execution_count": null,
   "metadata": {
    "deletable": false,
    "editable": false,
    "nbgrader": {
     "cell_type": "code",
     "checksum": "ca189f626591fc069720a7b41f0ee22b",
     "grade": true,
     "grade_id": "cell-343d880b6f801822",
     "locked": true,
     "points": 1,
     "schema_version": 3,
     "solution": false,
     "task": false
    }
   },
   "outputs": [],
   "source": [
    "library(digest)\n",
    "stopifnot(\"boot1000 should be a data frame\"= setequal(digest(paste(toString('data.frame' %in% class(boot1000)), \"30e09\")), \"ebb5ca2f7dac47baa96e66d7e5dc9981\"))\n",
    "stopifnot(\"dimensions of boot1000 are not correct\"= setequal(digest(paste(toString(dim(boot1000)), \"30e09\")), \"55b0ba2c83ec84e6d97d620675990e9d\"))\n",
    "stopifnot(\"column names of boot1000 are not correct\"= setequal(digest(paste(toString(sort(colnames(boot1000))), \"30e09\")), \"cb2c4b6c9e1d60f25d680c158b0e793d\"))\n",
    "stopifnot(\"types of columns in boot1000 are not correct\"= setequal(digest(paste(toString(sort(unlist(sapply(boot1000, class)))), \"30e09\")), \"38b35ecf1395a2409646ab7a7ae3f358\"))\n",
    "stopifnot(\"values in one or more numerical columns in boot1000 are not correct\"= setequal(digest(paste(toString(if (any(sapply(boot1000, is.numeric))) sort(round(sapply(boot1000[, sapply(boot1000, is.numeric)], sum, na.rm = TRUE), 2)) else 0), \"30e09\")), \"016f0dcf6370aa098e8639b3b09bb3f7\"))\n",
    "stopifnot(\"values in one or more character columns in boot1000 are not correct\"= setequal(digest(paste(toString(if (any(sapply(boot1000, is.character))) sum(sapply(boot1000[sapply(boot1000, is.character)], function(x) length(unique(x)))) else 0), \"30e09\")), \"b1418105d8f19d7b7988f616f9c81ea3\"))\n",
    "stopifnot(\"values in one or more factor columns in boot1000 are not correct\"= setequal(digest(paste(toString(if (any(sapply(boot1000, is.factor))) sum(sapply(boot1000[, sapply(boot1000, is.factor)], function(col) length(unique(col)))) else 0), \"30e09\")), \"b1418105d8f19d7b7988f616f9c81ea3\"))\n",
    "\n",
    "print('Success!')"
   ]
  },
  {
   "cell_type": "markdown",
   "metadata": {
    "deletable": false,
    "editable": false,
    "nbgrader": {
     "cell_type": "markdown",
     "checksum": "a56759fb2b6ecbef7697e415f0b81f66",
     "grade": false,
     "grade_id": "cell-85473b296ef14d1c",
     "locked": true,
     "schema_version": 3,
     "solution": false,
     "task": false
    }
   },
   "source": [
    "**Question 2.3** \n",
    "<br> {points: 1}\n",
    "\n",
    "Calculate the mean of these 1000 bootstrap samples using `group_by` and `summarize` the data into a column called `mean`. Name the data frame `boot1000_means`."
   ]
  },
  {
   "cell_type": "code",
   "execution_count": null,
   "metadata": {
    "deletable": false,
    "nbgrader": {
     "cell_type": "code",
     "checksum": "e9a6104422fdd4f0909795213eacba41",
     "grade": false,
     "grade_id": "cell-51d5f2afbb677369",
     "locked": false,
     "schema_version": 3,
     "solution": true,
     "task": false
    }
   },
   "outputs": [],
   "source": [
    "# your code here\n",
    "fail() # No Answer - remove if you provide an answer\n",
    "head(boot1000_means)\n",
    "tail(boot1000_means)"
   ]
  },
  {
   "cell_type": "code",
   "execution_count": null,
   "metadata": {
    "deletable": false,
    "editable": false,
    "nbgrader": {
     "cell_type": "code",
     "checksum": "0ae6b1c0a9f0c7cc0a2af71ee94c9345",
     "grade": true,
     "grade_id": "cell-bcf16788d57cef52",
     "locked": true,
     "points": 1,
     "schema_version": 3,
     "solution": false,
     "task": false
    }
   },
   "outputs": [],
   "source": [
    "library(digest)\n",
    "stopifnot(\"boot1000_means should be a data frame\"= setequal(digest(paste(toString('data.frame' %in% class(boot1000_means)), \"790c5\")), \"4ed1da5851d7cb881c52edb725d9f492\"))\n",
    "stopifnot(\"dimensions of boot1000_means are not correct\"= setequal(digest(paste(toString(dim(boot1000_means)), \"790c5\")), \"744c9eadb471159298313746018f55b7\"))\n",
    "stopifnot(\"column names of boot1000_means are not correct\"= setequal(digest(paste(toString(sort(colnames(boot1000_means))), \"790c5\")), \"83625f0fc1fdb8d7046508244dcfa8e2\"))\n",
    "stopifnot(\"types of columns in boot1000_means are not correct\"= setequal(digest(paste(toString(sort(unlist(sapply(boot1000_means, class)))), \"790c5\")), \"8be4c082df6af3b75899b4dd29f46f95\"))\n",
    "stopifnot(\"values in one or more numerical columns in boot1000_means are not correct\"= setequal(digest(paste(toString(if (any(sapply(boot1000_means, is.numeric))) sort(round(sapply(boot1000_means[, sapply(boot1000_means, is.numeric)], sum, na.rm = TRUE), 2)) else 0), \"790c5\")), \"ba50e7da1137df90b124894ace933604\"))\n",
    "stopifnot(\"values in one or more character columns in boot1000_means are not correct\"= setequal(digest(paste(toString(if (any(sapply(boot1000_means, is.character))) sum(sapply(boot1000_means[sapply(boot1000_means, is.character)], function(x) length(unique(x)))) else 0), \"790c5\")), \"f0078ed372ec3cad4f4a23fed85632d1\"))\n",
    "stopifnot(\"values in one or more factor columns in boot1000_means are not correct\"= setequal(digest(paste(toString(if (any(sapply(boot1000_means, is.factor))) sum(sapply(boot1000_means[, sapply(boot1000_means, is.factor)], function(col) length(unique(col)))) else 0), \"790c5\")), \"f0078ed372ec3cad4f4a23fed85632d1\"))\n",
    "\n",
    "print('Success!')"
   ]
  },
  {
   "cell_type": "markdown",
   "metadata": {
    "deletable": false,
    "editable": false,
    "nbgrader": {
     "cell_type": "markdown",
     "checksum": "4ef71a42a34f6009ea4c8c53e172d7f7",
     "grade": false,
     "grade_id": "cell-75683253957d46bd",
     "locked": true,
     "schema_version": 3,
     "solution": false,
     "task": false
    }
   },
   "source": [
    "**Question 2.4** \n",
    "<br> {points: 1}\n",
    "\n",
    "Visualize the distribution of the bootstrap sample point estimates (`boot1000_means`) you just calculated by plotting a histogram using `binwidth = 1` in the `geom_histogram` argument. Name the plot `boot_est_dist` and give the plot (using `ggtitle`) and the x-axis a descriptive label."
   ]
  },
  {
   "cell_type": "code",
   "execution_count": null,
   "metadata": {
    "deletable": false,
    "nbgrader": {
     "cell_type": "code",
     "checksum": "b6ac5d456d342a8b3ea1ceaf25603a61",
     "grade": false,
     "grade_id": "cell-21f093a752cc5d8c",
     "locked": false,
     "schema_version": 3,
     "solution": true,
     "task": false
    }
   },
   "outputs": [],
   "source": [
    "options(repr.plot.width = 8, repr.plot.height = 7)\n",
    "# your code here\n",
    "fail() # No Answer - remove if you provide an answer\n",
    "boot_est_dist"
   ]
  },
  {
   "cell_type": "code",
   "execution_count": null,
   "metadata": {
    "deletable": false,
    "editable": false,
    "nbgrader": {
     "cell_type": "code",
     "checksum": "d926630d2862289ea066187222db8e11",
     "grade": true,
     "grade_id": "cell-13a4f6d6fbcd8cbb",
     "locked": true,
     "points": 1,
     "schema_version": 3,
     "solution": false,
     "task": false
    }
   },
   "outputs": [],
   "source": [
    "library(digest)\n",
    "stopifnot(\"type of plot is not correct (if you are using two types of geoms, try flipping the order of the geom objects!)\"= setequal(digest(paste(toString(sapply(seq_len(length(boot_est_dist$layers)), function(i) {c(class(boot_est_dist$layers[[i]]$geom))[1]})), \"a478a\")), \"2daf268fb7b643cf9eba6b6e486a6c80\"))\n",
    "stopifnot(\"variable x is not correct\"= setequal(digest(paste(toString(unlist(lapply(sapply(seq_len(length(boot_est_dist$layers)), function(i) {rlang::get_expr(c(boot_est_dist$layers[[i]]$mapping, boot_est_dist$mapping)$x)}), as.character))), \"a478a\")), \"58b362ef70d1b67314e8ce06b051d1da\"))\n",
    "stopifnot(\"variable y is not correct\"= setequal(digest(paste(toString(unlist(lapply(sapply(seq_len(length(boot_est_dist$layers)), function(i) {rlang::get_expr(c(boot_est_dist$layers[[i]]$mapping, boot_est_dist$mapping)$y)}), as.character))), \"a478a\")), \"ba017750e3f93b1c70b1cb6f02012a29\"))\n",
    "stopifnot(\"x-axis label is not descriptive, nicely formatted, or human readable\"= setequal(digest(paste(toString(rlang::get_expr(c(boot_est_dist$layers[[1]]$mapping, boot_est_dist$mapping)$x)!= boot_est_dist$labels$x), \"a478a\")), \"682cd174fd43f182f236d37b43f1448b\"))\n",
    "stopifnot(\"y-axis label is not descriptive, nicely formatted, or human readable\"= setequal(digest(paste(toString(rlang::get_expr(c(boot_est_dist$layers[[1]]$mapping, boot_est_dist$mapping)$y)!= boot_est_dist$labels$y), \"a478a\")), \"ba017750e3f93b1c70b1cb6f02012a29\"))\n",
    "stopifnot(\"incorrect colour variable in boot_est_dist, specify a correct one if required\"= setequal(digest(paste(toString(rlang::get_expr(c(boot_est_dist$layers[[1]]$mapping, boot_est_dist$mapping)$colour)), \"a478a\")), \"ba017750e3f93b1c70b1cb6f02012a29\"))\n",
    "stopifnot(\"incorrect shape variable in boot_est_dist, specify a correct one if required\"= setequal(digest(paste(toString(rlang::get_expr(c(boot_est_dist$layers[[1]]$mapping, boot_est_dist$mapping)$shape)), \"a478a\")), \"ba017750e3f93b1c70b1cb6f02012a29\"))\n",
    "stopifnot(\"the colour label in boot_est_dist is not descriptive, nicely formatted, or human readable\"= setequal(digest(paste(toString(rlang::get_expr(c(boot_est_dist$layers[[1]]$mapping, boot_est_dist$mapping)$colour) != boot_est_dist$labels$colour), \"a478a\")), \"ba017750e3f93b1c70b1cb6f02012a29\"))\n",
    "stopifnot(\"the shape label in boot_est_dist is not descriptive, nicely formatted, or human readable\"= setequal(digest(paste(toString(rlang::get_expr(c(boot_est_dist$layers[[1]]$mapping, boot_est_dist$mapping)$colour) != boot_est_dist$labels$shape), \"a478a\")), \"ba017750e3f93b1c70b1cb6f02012a29\"))\n",
    "stopifnot(\"fill variable in boot_est_dist is not correct\"= setequal(digest(paste(toString(quo_name(boot_est_dist$mapping$fill)), \"a478a\")), \"4ebafe80e4f5d3e9991456d5c716a900\"))\n",
    "stopifnot(\"fill label in boot_est_dist is not informative\"= setequal(digest(paste(toString((quo_name(boot_est_dist$mapping$fill) != boot_est_dist$labels$fill)), \"a478a\")), \"ba017750e3f93b1c70b1cb6f02012a29\"))\n",
    "stopifnot(\"position argument in boot_est_dist is not correct\"= setequal(digest(paste(toString(class(boot_est_dist$layers[[1]]$position)[1]), \"a478a\")), \"6d7ba4e9ef5a5dca48feb30e20a240ab\"))\n",
    "\n",
    "stopifnot(\"type of is.character(boot_est_dist$labels$title) is not logical\"= setequal(digest(paste(toString(class(is.character(boot_est_dist$labels$title))), \"a478b\")), \"215277ebebf68077d14f57b7b5875c50\"))\n",
    "stopifnot(\"logical value of is.character(boot_est_dist$labels$title) is not correct\"= setequal(digest(paste(toString(is.character(boot_est_dist$labels$title)), \"a478b\")), \"cce2533dcd5aa3920b63ab57a0ed8fb8\"))\n",
    "\n",
    "stopifnot(\"boot_est_dist$data should be a data frame\"= setequal(digest(paste(toString('data.frame' %in% class(boot_est_dist$data)), \"a478c\")), \"390b3dc7ddc8b49789d6e5065fa58a7c\"))\n",
    "stopifnot(\"dimensions of boot_est_dist$data are not correct\"= setequal(digest(paste(toString(dim(boot_est_dist$data)), \"a478c\")), \"5c5d022614646f966fac650bea813d66\"))\n",
    "stopifnot(\"column names of boot_est_dist$data are not correct\"= setequal(digest(paste(toString(sort(colnames(boot_est_dist$data))), \"a478c\")), \"bf9816c2d75a909e67a25c3e1ec61182\"))\n",
    "stopifnot(\"types of columns in boot_est_dist$data are not correct\"= setequal(digest(paste(toString(sort(unlist(sapply(boot_est_dist$data, class)))), \"a478c\")), \"dacfd37ce95d0c864a1459b25cdbddc7\"))\n",
    "stopifnot(\"values in one or more numerical columns in boot_est_dist$data are not correct\"= setequal(digest(paste(toString(if (any(sapply(boot_est_dist$data, is.numeric))) sort(round(sapply(boot_est_dist$data[, sapply(boot_est_dist$data, is.numeric)], sum, na.rm = TRUE), 2)) else 0), \"a478c\")), \"3b5986943286b47226847c7b03477314\"))\n",
    "stopifnot(\"values in one or more character columns in boot_est_dist$data are not correct\"= setequal(digest(paste(toString(if (any(sapply(boot_est_dist$data, is.character))) sum(sapply(boot_est_dist$data[sapply(boot_est_dist$data, is.character)], function(x) length(unique(x)))) else 0), \"a478c\")), \"28f433937b1f3f7199e2958e96475fab\"))\n",
    "stopifnot(\"values in one or more factor columns in boot_est_dist$data are not correct\"= setequal(digest(paste(toString(if (any(sapply(boot_est_dist$data, is.factor))) sum(sapply(boot_est_dist$data[, sapply(boot_est_dist$data, is.factor)], function(col) length(unique(col)))) else 0), \"a478c\")), \"28f433937b1f3f7199e2958e96475fab\"))\n",
    "\n",
    "print('Success!')"
   ]
  },
  {
   "cell_type": "markdown",
   "metadata": {},
   "source": [
    "How does the bootstrap distribution above compare to the sampling distribution? Let's visualize them side by side:"
   ]
  },
  {
   "cell_type": "code",
   "execution_count": null,
   "metadata": {
    "deletable": false,
    "editable": false,
    "nbgrader": {
     "cell_type": "code",
     "checksum": "7aad1ca02b848b5bc34ef552c08d46d4",
     "grade": false,
     "grade_id": "cell-a86b551fb1260606",
     "locked": true,
     "schema_version": 3,
     "solution": false,
     "task": false
    }
   },
   "outputs": [],
   "source": [
    "# run this cell\n",
    "\n",
    "# create sampling distribution histogram\n",
    "set.seed(4321)\n",
    "samples <- rep_sample_n(can_seniors, size = 40, reps = 1500)\n",
    "sample_estimates <- samples |> \n",
    "    group_by(replicate) |> \n",
    "    summarise(mean = mean(age))\n",
    "sampling_dist <-  ggplot(sample_estimates, aes(x = mean)) +\n",
    "    geom_histogram(binwidth = 1) +\n",
    "    xlab(\"Mean Age (years)\") +\n",
    "    ggtitle(\"Sampling distribution of the sample means\") +\n",
    "    annotate(\"text\", x = 85, y = 200, label = paste(\"mean = \", round(mean(sample_estimates$mean), 1)), cex = 5) +\n",
    "    theme(text = element_text(size = 20))\n",
    "\n",
    "# annotate distribution mean to the bootstrap dist\n",
    "boot_est_dist <- boot_est_dist + \n",
    "    annotate(\"text\", x = 84, y = 160, label = paste(\"mean = \", round(mean(boot1000_means$mean), 1)), cex = 5)\n",
    "\n",
    "# plot bootstrap distribution beside sampling distribution\n",
    "options(repr.plot.width = 8, repr.plot.height = 7)\n",
    "plot_grid(boot_est_dist, sampling_dist, ncol = 1)"
   ]
  },
  {
   "cell_type": "markdown",
   "metadata": {
    "deletable": false,
    "editable": false,
    "nbgrader": {
     "cell_type": "markdown",
     "checksum": "981aa4e76d780e72437a5024940a6544",
     "grade": false,
     "grade_id": "cell-2529f74ae181fd44",
     "locked": true,
     "schema_version": 3,
     "solution": false,
     "task": false
    }
   },
   "source": [
    "Reminder: the true population quantity we are trying to estimate, the population mean, is about 79.3 years (as we see below). We know this because we created this population and calculated this value. In real life we wouldn't know this value."
   ]
  },
  {
   "cell_type": "code",
   "execution_count": null,
   "metadata": {},
   "outputs": [],
   "source": [
    "# run this cell\n",
    "can_seniors  |> \n",
    "    summarize(mean(age))"
   ]
  },
  {
   "cell_type": "markdown",
   "metadata": {
    "deletable": false,
    "editable": false,
    "nbgrader": {
     "cell_type": "markdown",
     "checksum": "c78b3c8fa60412e9f266b2c8367d4375",
     "grade": false,
     "grade_id": "cell-15147e6c224ccb72",
     "locked": true,
     "schema_version": 3,
     "solution": false,
     "task": false
    }
   },
   "source": [
    "**Question 2.5** True/False\n",
    "<br> {points: 1}\n",
    "\n",
    "The mean of the bootstrap distribution is the same value as the mean of the sampling distribution of the sample means. True or false?\n",
    "\n",
    "*Assign your answer to an object called `answer2.5`. Your answer should be in lowercase letters and is surrounded by quotes (e.g. `\"true\"` or `\"false\"`).*"
   ]
  },
  {
   "cell_type": "code",
   "execution_count": null,
   "metadata": {
    "deletable": false,
    "nbgrader": {
     "cell_type": "code",
     "checksum": "e1de14e35ecb59a90145de4119c40c47",
     "grade": false,
     "grade_id": "cell-0e3ed3ca2495a0bc",
     "locked": false,
     "schema_version": 3,
     "solution": true,
     "task": false
    }
   },
   "outputs": [],
   "source": [
    "# your code here\n",
    "fail() # No Answer - remove if you provide an answer"
   ]
  },
  {
   "cell_type": "code",
   "execution_count": null,
   "metadata": {
    "deletable": false,
    "editable": false,
    "nbgrader": {
     "cell_type": "code",
     "checksum": "a6e9fe5e6b39ab3a70cdc5f77cb2057a",
     "grade": true,
     "grade_id": "cell-3ea212ad593b9f57",
     "locked": true,
     "points": 1,
     "schema_version": 3,
     "solution": false,
     "task": false
    }
   },
   "outputs": [],
   "source": [
    "library(digest)\n",
    "stopifnot(\"type of answer2.5 is not character\"= setequal(digest(paste(toString(class(answer2.5)), \"75538\")), \"f1b45c4b9ae889b5f9428b23203b9c06\"))\n",
    "stopifnot(\"length of answer2.5 is not correct\"= setequal(digest(paste(toString(length(answer2.5)), \"75538\")), \"e1fb56ad7ca67be7434b0c60a822bd8c\"))\n",
    "stopifnot(\"value of answer2.5 is not correct\"= setequal(digest(paste(toString(tolower(answer2.5)), \"75538\")), \"081dca4bc24a94a7b3b0f1a352069e5c\"))\n",
    "stopifnot(\"letters in string value of answer2.5 are correct but case is not correct\"= setequal(digest(paste(toString(answer2.5), \"75538\")), \"081dca4bc24a94a7b3b0f1a352069e5c\"))\n",
    "\n",
    "print('Success!')"
   ]
  },
  {
   "cell_type": "markdown",
   "metadata": {
    "deletable": false,
    "editable": false,
    "nbgrader": {
     "cell_type": "markdown",
     "checksum": "c4e2a1c54cac55436bf9cf5c6f129fb7",
     "grade": false,
     "grade_id": "cell-8f170c7bb0c58227",
     "locked": true,
     "schema_version": 3,
     "solution": false,
     "task": false
    }
   },
   "source": [
    "**Question 2.6** True/False\n",
    "<br> {points: 1}\n",
    "\n",
    "The mean of the bootstrap distribution is not the same value as the mean of the sampling distribution because the bootstrap distribution was created from samples drawn from a single sample, whereas the sampling distribution was created from samples drawn from the population. True or false?\n",
    "\n",
    "*Assign your answer to an object called `answer2.6`. Your answer should be in lowercase letters and is surrounded by quotes (e.g. `\"true\"` or `\"false\"`).*"
   ]
  },
  {
   "cell_type": "code",
   "execution_count": null,
   "metadata": {
    "deletable": false,
    "nbgrader": {
     "cell_type": "code",
     "checksum": "64660e8fdc0245014f693ca58bd0c496",
     "grade": false,
     "grade_id": "cell-230cf28d4590a63d",
     "locked": false,
     "schema_version": 3,
     "solution": true,
     "task": false
    }
   },
   "outputs": [],
   "source": [
    "# your code here\n",
    "fail() # No Answer - remove if you provide an answer"
   ]
  },
  {
   "cell_type": "code",
   "execution_count": null,
   "metadata": {
    "deletable": false,
    "editable": false,
    "nbgrader": {
     "cell_type": "code",
     "checksum": "cc704aa8a614acbc974f6d50950d8b89",
     "grade": true,
     "grade_id": "cell-b167494acba2816d",
     "locked": true,
     "points": 1,
     "schema_version": 3,
     "solution": false,
     "task": false
    }
   },
   "outputs": [],
   "source": [
    "library(digest)\n",
    "stopifnot(\"type of answer2.6 is not character\"= setequal(digest(paste(toString(class(answer2.6)), \"d2703\")), \"a4f20b62f2f3de920a94a188ddc4da69\"))\n",
    "stopifnot(\"length of answer2.6 is not correct\"= setequal(digest(paste(toString(length(answer2.6)), \"d2703\")), \"d5e04739e859d420c648739f5c5d9878\"))\n",
    "stopifnot(\"value of answer2.6 is not correct\"= setequal(digest(paste(toString(tolower(answer2.6)), \"d2703\")), \"b79d0a6f70d5edee284e478465c05f14\"))\n",
    "stopifnot(\"letters in string value of answer2.6 are correct but case is not correct\"= setequal(digest(paste(toString(answer2.6), \"d2703\")), \"b79d0a6f70d5edee284e478465c05f14\"))\n",
    "\n",
    "print('Success!')"
   ]
  },
  {
   "cell_type": "markdown",
   "metadata": {
    "deletable": false,
    "editable": false,
    "nbgrader": {
     "cell_type": "markdown",
     "checksum": "fc1fe3e9d9984ee497744c4dd9c7ed73",
     "grade": false,
     "grade_id": "cell-c569dabb88890bfc",
     "locked": true,
     "schema_version": 3,
     "solution": false,
     "task": false
    }
   },
   "source": [
    "**Question 2.7** True/False\n",
    "<br> {points: 1}\n",
    "\n",
    "The shape and spread (i.e. width) of the bootstrap distribution is a poor approximation of the  shape and spread of the sampling distribution of the sample means. True or false?\n",
    "\n",
    "*Assign your answer to an object called `answer2.7`. Your answer should be in lowercase letters and is surrounded by quotes (e.g. `\"true\"` or `\"false\"`).*"
   ]
  },
  {
   "cell_type": "code",
   "execution_count": null,
   "metadata": {
    "deletable": false,
    "nbgrader": {
     "cell_type": "code",
     "checksum": "b0f8e9cb17ebe6e95b6c30e5deea0c5a",
     "grade": false,
     "grade_id": "cell-f82d46022821b073",
     "locked": false,
     "schema_version": 3,
     "solution": true,
     "task": false
    }
   },
   "outputs": [],
   "source": [
    "# your code here\n",
    "fail() # No Answer - remove if you provide an answer"
   ]
  },
  {
   "cell_type": "code",
   "execution_count": null,
   "metadata": {
    "deletable": false,
    "editable": false,
    "nbgrader": {
     "cell_type": "code",
     "checksum": "5bea7711a9dafc6f4fa1b599005be234",
     "grade": true,
     "grade_id": "cell-2ab1350547ae451d",
     "locked": true,
     "points": 1,
     "schema_version": 3,
     "solution": false,
     "task": false
    }
   },
   "outputs": [],
   "source": [
    "library(digest)\n",
    "stopifnot(\"type of answer2.7 is not character\"= setequal(digest(paste(toString(class(answer2.7)), \"78feb\")), \"47aa59e4a02cc72f8261bb9fe74783a6\"))\n",
    "stopifnot(\"length of answer2.7 is not correct\"= setequal(digest(paste(toString(length(answer2.7)), \"78feb\")), \"20c91c2bc38b18d91c46b7287475cb08\"))\n",
    "stopifnot(\"value of answer2.7 is not correct\"= setequal(digest(paste(toString(tolower(answer2.7)), \"78feb\")), \"661ec6dd52870dc58d8c7b3ac382bd0f\"))\n",
    "stopifnot(\"letters in string value of answer2.7 are correct but case is not correct\"= setequal(digest(paste(toString(answer2.7), \"78feb\")), \"661ec6dd52870dc58d8c7b3ac382bd0f\"))\n",
    "\n",
    "print('Success!')"
   ]
  },
  {
   "cell_type": "markdown",
   "metadata": {
    "deletable": false,
    "editable": false,
    "nbgrader": {
     "cell_type": "markdown",
     "checksum": "5744a22ea4f1d9c9154caf73fd584499",
     "grade": false,
     "grade_id": "cell-8399b964d743f33c",
     "locked": true,
     "schema_version": 3,
     "solution": false,
     "task": false
    }
   },
   "source": [
    "**Question 2.8** True/False\n",
    "<br> {points: 1}\n",
    "\n",
    "In real life, where we only have one sample and cannot create a sampling distribution, the distribution of the bootstrap sample estimates (here means) can suggest how we might expect our point estimate to behave if we took another sample. True or false?\n",
    "\n",
    "*Assign your answer to an object called `answer2.8`. Your answer should be in lowercase letters and is surrounded by quotes (e.g. `\"true\"` or `\"false\"`).*"
   ]
  },
  {
   "cell_type": "code",
   "execution_count": null,
   "metadata": {
    "deletable": false,
    "nbgrader": {
     "cell_type": "code",
     "checksum": "ec231afb1a2a657a5a9fb9f00247e918",
     "grade": false,
     "grade_id": "cell-59cfd94899e457a7",
     "locked": false,
     "schema_version": 3,
     "solution": true,
     "task": false
    }
   },
   "outputs": [],
   "source": [
    "# your code here\n",
    "fail() # No Answer - remove if you provide an answer"
   ]
  },
  {
   "cell_type": "code",
   "execution_count": null,
   "metadata": {
    "deletable": false,
    "editable": false,
    "nbgrader": {
     "cell_type": "code",
     "checksum": "8c3355acd38aa411acc432e2d57c5872",
     "grade": true,
     "grade_id": "cell-4d2a0325f4fd2406",
     "locked": true,
     "points": 1,
     "schema_version": 3,
     "solution": false,
     "task": false
    }
   },
   "outputs": [],
   "source": [
    "library(digest)\n",
    "stopifnot(\"type of answer2.8 is not character\"= setequal(digest(paste(toString(class(answer2.8)), \"70fd8\")), \"19841f1bec2eb31bb8c497afdf9ae0d8\"))\n",
    "stopifnot(\"length of answer2.8 is not correct\"= setequal(digest(paste(toString(length(answer2.8)), \"70fd8\")), \"369cacdeb8c64fefc9e224c05ae23790\"))\n",
    "stopifnot(\"value of answer2.8 is not correct\"= setequal(digest(paste(toString(tolower(answer2.8)), \"70fd8\")), \"ebb7ddee91f2f814f8577eb096432fdf\"))\n",
    "stopifnot(\"letters in string value of answer2.8 are correct but case is not correct\"= setequal(digest(paste(toString(answer2.8), \"70fd8\")), \"ebb7ddee91f2f814f8577eb096432fdf\"))\n",
    "\n",
    "print('Success!')"
   ]
  },
  {
   "cell_type": "markdown",
   "metadata": {
    "deletable": false,
    "editable": false,
    "nbgrader": {
     "cell_type": "markdown",
     "checksum": "e1922c201ead42beb140513403972276",
     "grade": false,
     "grade_id": "cell-3af745f41b79a813",
     "locked": true,
     "schema_version": 3,
     "solution": false,
     "task": false
    }
   },
   "source": [
    "### Using the bootstrap distribution to calculate a plausible range for point estimates\n",
    "\n",
    "Once we have created a bootstrap distribution, we can use it to suggest a plausible range where we might expect the true population quantity to lie. One formal name for a commonly used plausible range is called a confidence interval. Confidence intervals can be set at different levels, an example of a commonly used level is 95%. When we report a point estimate with a 95% confidence interval as the plausible range, formally we are saying that if we repeated this process of building confidence intervals more times with more samples, we’d expect ~ 95% of them to contain the value of the population quantity.\n",
    "\n",
    "> How do you choose a level for a confidence interval? You have to consider the downstream application of your estimation and what the cost/consequence of an incorrect estimate would be. The higher the cost/consequence, the higher a confidence level you would want to use. You will learn more about this in later Statistics courses.\n",
    "\n",
    "To calculate an approximate 95% confidence interval using bootstrapping, we essentially order the values in our bootstrap distribution and then take the value at the 2.5th percentile as the lower bound of the plausible range, and the 97.5th percentile as the upper bound of the plausible range. "
   ]
  },
  {
   "cell_type": "code",
   "execution_count": null,
   "metadata": {
    "deletable": false,
    "editable": false,
    "nbgrader": {
     "cell_type": "code",
     "checksum": "f52ef91c806996c82e16ceadeb692649",
     "grade": false,
     "grade_id": "cell-4e8bd702d14d0973",
     "locked": true,
     "schema_version": 3,
     "solution": false,
     "task": false
    }
   },
   "outputs": [],
   "source": [
    "# run this cell\n",
    "boot1000_means |> \n",
    "    select(mean) |> \n",
    "    pull() |> \n",
    "    quantile(c(0.025, 0.975))"
   ]
  },
  {
   "cell_type": "markdown",
   "metadata": {
    "deletable": false,
    "editable": false,
    "nbgrader": {
     "cell_type": "markdown",
     "checksum": "845327498fa40c0e47d4466296a41291",
     "grade": false,
     "grade_id": "cell-671ea52cb570ec80",
     "locked": true,
     "schema_version": 3,
     "solution": false,
     "task": false
    }
   },
   "source": [
    "Thus, to finish our estimation of the population quantity that we are trying to estimate, we would report the point estimate and the lower and upper bounds of our confidence interval. We would say something like this:\n",
    "\n",
    "Our sample mean age for Canadian seniors was measured to be 77.8 years, and we’re 95% “confident” that the true population mean for Canadian seniors is between (73.7, 82.0). \n",
    "\n",
    "Here our 95% confidence interval does contain the true population mean for Canadian seniors, 79.3 years - pretty neat! However, in real life we would never be able to know this because we only have observations from a single sample, not the whole population."
   ]
  },
  {
   "cell_type": "markdown",
   "metadata": {
    "deletable": false,
    "editable": false,
    "nbgrader": {
     "cell_type": "markdown",
     "checksum": "161310c3988771ee591d791bfa0efb53",
     "grade": false,
     "grade_id": "cell-9453844511483837",
     "locked": true,
     "schema_version": 3,
     "solution": false,
     "task": false
    }
   },
   "source": [
    "**Question 2.9** True/False\n",
    "<br> {points: 1}\n",
    "\n",
    "Assuming we knew the true population quantity we are trying to estimate (so we could verify this):\n",
    "\n",
    "For any sample we take, if we use bootstrapping to calculate the 95% confidence intervals, the true population quantity we are trying to estimate would always fall within the lower and upper bounds of the confidence interval. True or false?\n",
    "\n",
    "*Assign your answer to an object called `answer2.9`. Your answer should be in lowercase letters and is surrounded by quotes (e.g. `\"true\"` or `\"false\"`).*"
   ]
  },
  {
   "cell_type": "code",
   "execution_count": null,
   "metadata": {
    "deletable": false,
    "nbgrader": {
     "cell_type": "code",
     "checksum": "3ca6fca52a24b2e2fd616cbbf0e84bed",
     "grade": false,
     "grade_id": "cell-91e462917a53edad",
     "locked": false,
     "schema_version": 3,
     "solution": true,
     "task": false
    }
   },
   "outputs": [],
   "source": [
    "# your code here\n",
    "fail() # No Answer - remove if you provide an answer"
   ]
  },
  {
   "cell_type": "code",
   "execution_count": null,
   "metadata": {
    "deletable": false,
    "editable": false,
    "nbgrader": {
     "cell_type": "code",
     "checksum": "596b31979cf74e386ad01256ad4adc2b",
     "grade": true,
     "grade_id": "cell-e0a24858ef65cea9",
     "locked": true,
     "points": 1,
     "schema_version": 3,
     "solution": false,
     "task": false
    }
   },
   "outputs": [],
   "source": [
    "library(digest)\n",
    "stopifnot(\"type of answer2.9 is not character\"= setequal(digest(paste(toString(class(answer2.9)), \"af4b9\")), \"69ee30ae4303ba71622b288d53ea19e7\"))\n",
    "stopifnot(\"length of answer2.9 is not correct\"= setequal(digest(paste(toString(length(answer2.9)), \"af4b9\")), \"9181330c6cfe72143f74856934fcc5c7\"))\n",
    "stopifnot(\"value of answer2.9 is not correct\"= setequal(digest(paste(toString(tolower(answer2.9)), \"af4b9\")), \"ef0db719219e2c642f79d97f6463cc46\"))\n",
    "stopifnot(\"letters in string value of answer2.9 are correct but case is not correct\"= setequal(digest(paste(toString(answer2.9), \"af4b9\")), \"ef0db719219e2c642f79d97f6463cc46\"))\n",
    "\n",
    "print('Success!')"
   ]
  },
  {
   "cell_type": "code",
   "execution_count": null,
   "metadata": {
    "deletable": false,
    "editable": false,
    "nbgrader": {
     "cell_type": "code",
     "checksum": "673706940aa4886e8b25ef66041f5ab6",
     "grade": false,
     "grade_id": "cell-0cd6dc906d5624fc",
     "locked": true,
     "schema_version": 3,
     "solution": false,
     "task": false
    }
   },
   "outputs": [],
   "source": [
    "source(\"cleanup.R\")"
   ]
  }
 ],
 "metadata": {
  "kernelspec": {
   "display_name": "R",
   "language": "R",
   "name": "ir"
  },
  "language_info": {
   "codemirror_mode": "r",
   "file_extension": ".r",
   "mimetype": "text/x-r-source",
   "name": "R",
   "pygments_lexer": "r",
   "version": "4.3.3"
  }
 },
 "nbformat": 4,
 "nbformat_minor": 4
}
