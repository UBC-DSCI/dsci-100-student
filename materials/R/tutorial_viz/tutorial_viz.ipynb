{
 "cells": [
  {
   "cell_type": "markdown",
   "metadata": {
    "deletable": false,
    "editable": false,
    "nbgrader": {
     "cell_type": "markdown",
     "checksum": "9183d4587a8b761faee54f320420e3a2",
     "grade": false,
     "grade_id": "cell-f4ccfb3ce6b69253",
     "locked": true,
     "schema_version": 3,
     "solution": false,
     "task": false
    }
   },
   "source": [
    "# Tutorial:  Effective data visualization \n",
    "\n",
    "This worksheet covers the [Effective data visualization](https://datasciencebook.ca/viz.html) chapter of the online textbook, which also lists the learning objectives for this worksheet. You should read the textbook chapter before attempting this worksheet. "
   ]
  },
  {
   "cell_type": "code",
   "execution_count": null,
   "metadata": {
    "deletable": false,
    "editable": false,
    "nbgrader": {
     "cell_type": "code",
     "checksum": "a178fde3b5766d7fc74e379b7d70d94f",
     "grade": false,
     "grade_id": "cell-483076aac3dc5fa7",
     "locked": true,
     "schema_version": 3,
     "solution": false,
     "task": false
    }
   },
   "outputs": [],
   "source": [
    "### Run this cell before continuing. \n",
    "\n",
    "library(tidyverse)\n",
    "library(repr)\n",
    "options(repr.matrix.max.rows = 6)\n",
    "source(\"cleanup.R\")"
   ]
  },
  {
   "cell_type": "markdown",
   "metadata": {
    "deletable": false,
    "editable": false,
    "nbgrader": {
     "cell_type": "markdown",
     "checksum": "b6ed585990862a08134b0a2ae6de8d84",
     "grade": false,
     "grade_id": "cell-d0104ab32afbab28",
     "locked": true,
     "schema_version": 3,
     "solution": false
    }
   },
   "source": [
    "**Question 0.1** \n",
    "<br> {points: 1}\n",
    "\n",
    "Match the following definitions with the corresponding aesthetic mapping or function used in R:\n",
    "\n",
    "*Definitions*\n",
    "\n",
    "A. Prevents a chart from being stacked. It preserves the vertical position of a plot while adjusting the horizontal position. \n",
    "\n",
    "B. In bar charts, this aesthetic fills in the bars by a specific colour or separates the counts by a variable different from the x-axis. \n",
    "\n",
    "C. In bar charts, it outlines the bars but in scatterplots, it fills in the points (colouring them based on a particular variable aside from the x/y-axis). \n",
    "\n",
    "D. This makes the height of each bar equal to the number of cases in each group, and it is incompatible with mapping values to the y aesthetic. This stat basically allows the y-axis to represent particular values from the data instead of just counts. \n",
    "\n",
    "E. This aesthetic allows further visualization of data by varying data points by shape (modifying their shape based on a particular variable aside from the x/y-axis).\n",
    "\n",
    "F. Labels the y-axis. \n",
    "\n",
    "\n",
    "*Aesthetics and Functions*\n",
    "\n",
    "1. `colour`\n",
    "2. `dodge`\n",
    "3. `fill`\n",
    "4. `identity`\n",
    "5. `ylab`\n",
    "6. `shape`\n",
    "\n",
    "For every description, create an object using the letter associated with the definition and assign it to the corresponding number from the list above. For example: `B <- 1`"
   ]
  },
  {
   "cell_type": "code",
   "execution_count": null,
   "metadata": {
    "deletable": false,
    "nbgrader": {
     "cell_type": "code",
     "checksum": "42ecbabf509c504cb08cb305e7846660",
     "grade": false,
     "grade_id": "cell-b22b3db664eb1abc",
     "locked": false,
     "schema_version": 3,
     "solution": true
    }
   },
   "outputs": [],
   "source": [
    "# Replace the fail() with your answer. \n",
    "\n",
    "# your code here\n",
    "fail() # No Answer - remove if you provide an answer"
   ]
  },
  {
   "cell_type": "code",
   "execution_count": null,
   "metadata": {
    "deletable": false,
    "editable": false,
    "nbgrader": {
     "cell_type": "code",
     "checksum": "c0c3037624919f4c3f14f274cbbd15c8",
     "grade": true,
     "grade_id": "cell-471b37b1ecc45a3a",
     "locked": true,
     "points": 1,
     "schema_version": 3,
     "solution": false
    }
   },
   "outputs": [],
   "source": [
    "library(digest)\n",
    "stopifnot(\"type of A is not numeric\"= setequal(digest(paste(toString(class(A)), \"e8756\")), \"4f3d5cffe07acdf173387725e4f08dcf\"))\n",
    "stopifnot(\"value of A is not correct (rounded to 2 decimal places)\"= setequal(digest(paste(toString(round(A, 2)), \"e8756\")), \"b4b556abc9a04498c66ad9ae2ee600ec\"))\n",
    "stopifnot(\"length of A is not correct\"= setequal(digest(paste(toString(length(A)), \"e8756\")), \"0e0dbda4fa7df509121cb4d7de2e21ec\"))\n",
    "stopifnot(\"values of A are not correct\"= setequal(digest(paste(toString(sort(round(A, 2))), \"e8756\")), \"b4b556abc9a04498c66ad9ae2ee600ec\"))\n",
    "\n",
    "stopifnot(\"type of B is not numeric\"= setequal(digest(paste(toString(class(B)), \"e8757\")), \"429a02725513a891e7fb6fc0437d9d2e\"))\n",
    "stopifnot(\"value of B is not correct (rounded to 2 decimal places)\"= setequal(digest(paste(toString(round(B, 2)), \"e8757\")), \"cc4690ff3c2b9cbf11e142e335d94306\"))\n",
    "stopifnot(\"length of B is not correct\"= setequal(digest(paste(toString(length(B)), \"e8757\")), \"8708a417e7584bff0e260ffa72384309\"))\n",
    "stopifnot(\"values of B are not correct\"= setequal(digest(paste(toString(sort(round(B, 2))), \"e8757\")), \"cc4690ff3c2b9cbf11e142e335d94306\"))\n",
    "\n",
    "stopifnot(\"type of C is not numeric\"= setequal(digest(paste(toString(class(C)), \"e8758\")), \"581457b210c0937f5379af270394e22b\"))\n",
    "stopifnot(\"value of C is not correct (rounded to 2 decimal places)\"= setequal(digest(paste(toString(round(C, 2)), \"e8758\")), \"5f7227da558f9d8d0d353cc80d8254dd\"))\n",
    "stopifnot(\"length of C is not correct\"= setequal(digest(paste(toString(length(C)), \"e8758\")), \"5f7227da558f9d8d0d353cc80d8254dd\"))\n",
    "stopifnot(\"values of C are not correct\"= setequal(digest(paste(toString(sort(round(C, 2))), \"e8758\")), \"5f7227da558f9d8d0d353cc80d8254dd\"))\n",
    "\n",
    "stopifnot(\"type of D is not numeric\"= setequal(digest(paste(toString(class(D)), \"e8759\")), \"a59b5c0b6facf510c0749c511363f5ef\"))\n",
    "stopifnot(\"value of D is not correct (rounded to 2 decimal places)\"= setequal(digest(paste(toString(round(D, 2)), \"e8759\")), \"ff09bd4e0a4f7245b0dad7609faf2050\"))\n",
    "stopifnot(\"length of D is not correct\"= setequal(digest(paste(toString(length(D)), \"e8759\")), \"ca7306d405e881547cb23899fb6647af\"))\n",
    "stopifnot(\"values of D are not correct\"= setequal(digest(paste(toString(sort(round(D, 2))), \"e8759\")), \"ff09bd4e0a4f7245b0dad7609faf2050\"))\n",
    "\n",
    "stopifnot(\"type of E is not numeric\"= setequal(digest(paste(toString(class(E)), \"e875a\")), \"97936fe9a83ce14e71ccb23f38660197\"))\n",
    "stopifnot(\"value of E is not correct (rounded to 2 decimal places)\"= setequal(digest(paste(toString(round(E, 2)), \"e875a\")), \"18ba5aa4fad2986e18f522546dc957bb\"))\n",
    "stopifnot(\"length of E is not correct\"= setequal(digest(paste(toString(length(E)), \"e875a\")), \"97463bd9b1c9bc03d2d78837d19dfabb\"))\n",
    "stopifnot(\"values of E are not correct\"= setequal(digest(paste(toString(sort(round(E, 2))), \"e875a\")), \"18ba5aa4fad2986e18f522546dc957bb\"))\n",
    "\n",
    "stopifnot(\"type of F is not numeric\"= setequal(digest(paste(toString(class(F)), \"e875b\")), \"2dd1f324b4618ad5f0b329de4df2e296\"))\n",
    "stopifnot(\"value of F is not correct (rounded to 2 decimal places)\"= setequal(digest(paste(toString(round(F, 2)), \"e875b\")), \"3bb5bd0c5aa23f5ea189fbd928325d11\"))\n",
    "stopifnot(\"length of F is not correct\"= setequal(digest(paste(toString(length(F)), \"e875b\")), \"e0427343d2abd635a90f6650f64488d0\"))\n",
    "stopifnot(\"values of F are not correct\"= setequal(digest(paste(toString(sort(round(F, 2))), \"e875b\")), \"3bb5bd0c5aa23f5ea189fbd928325d11\"))\n",
    "\n",
    "print('Success!')"
   ]
  },
  {
   "cell_type": "markdown",
   "metadata": {
    "deletable": false,
    "editable": false,
    "nbgrader": {
     "cell_type": "markdown",
     "checksum": "e66001ce4545293c353a900762f1a324",
     "grade": false,
     "grade_id": "cell-7b8ea6ab55690b06",
     "locked": true,
     "schema_version": 3,
     "solution": false,
     "task": false
    }
   },
   "source": [
    "**Question 0.2** True or False:\n",
    "<br> {points: 1}\n",
    "\n",
    "We should save a plot as an `.svg` file if we want to be able to rescale it without losing quality.\n",
    "\n",
    "*Assign your answer to an object called `answer0.2`. Make sure your answer is in lowercase letters and is surrounded by quotation marks (e.g. `\"true\"` or `\"false\"`).*"
   ]
  },
  {
   "cell_type": "code",
   "execution_count": null,
   "metadata": {
    "deletable": false,
    "nbgrader": {
     "cell_type": "code",
     "checksum": "babe2fe81fcbd1cfa282e1cb6b813618",
     "grade": false,
     "grade_id": "cell-8608b643ace9768c",
     "locked": false,
     "schema_version": 3,
     "solution": true,
     "task": false
    }
   },
   "outputs": [],
   "source": [
    "# Replace the fail() with your answer.\n",
    " \n",
    "# your code here\n",
    "fail() # No Answer - remove if you provide an answer"
   ]
  },
  {
   "cell_type": "code",
   "execution_count": null,
   "metadata": {
    "deletable": false,
    "editable": false,
    "nbgrader": {
     "cell_type": "code",
     "checksum": "9cf219208ad08c48953784d9bae043f3",
     "grade": true,
     "grade_id": "cell-dd04803a3b061830",
     "locked": true,
     "points": 1,
     "schema_version": 3,
     "solution": false,
     "task": false
    }
   },
   "outputs": [],
   "source": [
    "library(digest)\n",
    "stopifnot(\"type of answer0.2 is not character\"= setequal(digest(paste(toString(class(answer0.2)), \"1f34d\")), \"638069ba8e223b370e5b7ffbc657e4df\"))\n",
    "stopifnot(\"length of answer0.2 is not correct\"= setequal(digest(paste(toString(length(answer0.2)), \"1f34d\")), \"ef68b1075103f89ad725c62972606ae8\"))\n",
    "stopifnot(\"value of answer0.2 is not correct\"= setequal(digest(paste(toString(tolower(answer0.2)), \"1f34d\")), \"ff63ee396be81bebb7084774c1cd512a\"))\n",
    "stopifnot(\"letters in string value of answer0.2 are correct but case is not correct\"= setequal(digest(paste(toString(answer0.2), \"1f34d\")), \"ff63ee396be81bebb7084774c1cd512a\"))\n",
    "\n",
    "print('Success!')"
   ]
  },
  {
   "cell_type": "markdown",
   "metadata": {
    "deletable": false,
    "editable": false,
    "nbgrader": {
     "cell_type": "markdown",
     "checksum": "615a2bf067137d1304c071b6932d6af0",
     "grade": false,
     "grade_id": "cell-b38e048867240520",
     "locked": true,
     "schema_version": 3,
     "solution": false,
     "task": false
    }
   },
   "source": [
    "## 1. Data on Personal Medical Costs \n",
    "\n",
    "As we saw in the worksheet, data scientists work in all types of organizations and with all kinds of problems. One of these types of organizations are companies in the private sector that work with health data. Today we will be looking at data on personal medical costs. There are varying factors that affect health and consequently medical costs. Our goal for today is to determine how are variables related to the medical costs billed by health insurance companies. \n",
    "\n",
    "\n",
    "To analyze this, we will be looking at a dataset that includes the following columns:\n",
    "\n",
    "* `age`: age of primary beneficiary\n",
    "* `sex`: insurance contractor gender: female, male\n",
    "* `bmi`: body mass index, providing an understanding of body, weights that are relatively high or low relative to height, objective index of body weight (kg/$m^{2}$) using the ratio of height to weight, ideally 18.5 to 24.9\n",
    "* `children`: number of children covered by health insurance / number of dependents\n",
    "* `smoker`: smoking\n",
    "* `region`: the beneficiary's residential area in the US: northeast, southeast, southwest, northwest.\n",
    "* `charges`: individual medical costs billed by health insurance\n",
    "\n",
    "*This dataset, was taken from the [collection of Data Sets](https://github.com/stedy/Machine-Learning-with-R-datasets) created and curated for the [Machine Learning with R](https://www.packtpub.com/big-data-and-business-intelligence/machine-learning-r) book by Brett Lantz.*"
   ]
  },
  {
   "cell_type": "markdown",
   "metadata": {
    "deletable": false,
    "editable": false,
    "nbgrader": {
     "cell_type": "markdown",
     "checksum": "f905679555c65c1e4f5d1ace1352e301",
     "grade": false,
     "grade_id": "cell-c5c6d19c1567adf8",
     "locked": true,
     "schema_version": 3,
     "solution": false
    }
   },
   "source": [
    "**Question 1.1** Yes or No: \n",
    "<br> {points: 1}\n",
    "\n",
    "Based on the information given in the cell above, do you think the column `charges` includes quantitative/numerical data? \n",
    "\n",
    "*Assign your answer to an object called `answer1.1`. Make sure your answer is written in lowercase and is surrounded by quotation marks (e.g. `\"yes\"` or `\"no\"`).*"
   ]
  },
  {
   "cell_type": "code",
   "execution_count": null,
   "metadata": {
    "deletable": false,
    "nbgrader": {
     "cell_type": "code",
     "checksum": "a632b88ed8454154a59786050e9b499c",
     "grade": false,
     "grade_id": "cell-8da0d830fc8f8b0c",
     "locked": false,
     "schema_version": 3,
     "solution": true
    }
   },
   "outputs": [],
   "source": [
    "# Replace the fail() with your answer. \n",
    "\n",
    "# your code here\n",
    "fail() # No Answer - remove if you provide an answer"
   ]
  },
  {
   "cell_type": "code",
   "execution_count": null,
   "metadata": {
    "deletable": false,
    "editable": false,
    "nbgrader": {
     "cell_type": "code",
     "checksum": "a99ff4f014dae567daaefda52db53dc3",
     "grade": true,
     "grade_id": "cell-37a00841b56391ad",
     "locked": true,
     "points": 1,
     "schema_version": 3,
     "solution": false
    }
   },
   "outputs": [],
   "source": [
    "library(digest)\n",
    "stopifnot(\"type of answer1.1 is not character\"= setequal(digest(paste(toString(class(answer1.1)), \"38012\")), \"0c47ee4fa16f033c16b42cf680515056\"))\n",
    "stopifnot(\"length of answer1.1 is not correct\"= setequal(digest(paste(toString(length(answer1.1)), \"38012\")), \"680b4f9f86662a6563b45916d7b72e71\"))\n",
    "stopifnot(\"value of answer1.1 is not correct\"= setequal(digest(paste(toString(tolower(answer1.1)), \"38012\")), \"84765aa38a86621fb4bc2863ad15eead\"))\n",
    "stopifnot(\"letters in string value of answer1.1 are correct but case is not correct\"= setequal(digest(paste(toString(answer1.1), \"38012\")), \"84765aa38a86621fb4bc2863ad15eead\"))\n",
    "\n",
    "print('Success!')"
   ]
  },
  {
   "cell_type": "markdown",
   "metadata": {
    "deletable": false,
    "editable": false,
    "nbgrader": {
     "cell_type": "markdown",
     "checksum": "fa3a1f40d9ca7a1a56a2de3bdc564110",
     "grade": false,
     "grade_id": "cell-4325b0202bdfb877",
     "locked": true,
     "schema_version": 3,
     "solution": false
    }
   },
   "source": [
    "**Question 1.2** Multiple Choice:\n",
    "<br> {points: 1}\n",
    "\n",
    "Assuming overplotting is not an issue, which plot would be the most effective to compare the relationship of `age` and `charges`?\n",
    "\n",
    "A. Scatterplot \n",
    "\n",
    "B. Stacked Bar Plot \n",
    "\n",
    "C. Bar Plot \n",
    "\n",
    "D. Histogram \n",
    "\n",
    "*Assign your answer to an object called `answer1.2`. Make sure your answer is an uppercase letter and is surrounded by quotation marks (e.g. `\"F\"`).*"
   ]
  },
  {
   "cell_type": "code",
   "execution_count": null,
   "metadata": {
    "deletable": false,
    "nbgrader": {
     "cell_type": "code",
     "checksum": "82dc5953a80fd96cbe9a128c4b6ef14c",
     "grade": false,
     "grade_id": "cell-776947ebfdd46a40",
     "locked": false,
     "schema_version": 3,
     "solution": true
    }
   },
   "outputs": [],
   "source": [
    "# Replace the fail() with your answer. \n",
    "\n",
    "# your code here\n",
    "fail() # No Answer - remove if you provide an answer"
   ]
  },
  {
   "cell_type": "code",
   "execution_count": null,
   "metadata": {
    "deletable": false,
    "editable": false,
    "nbgrader": {
     "cell_type": "code",
     "checksum": "ad22f6f71d40425c548f6a699ca72634",
     "grade": true,
     "grade_id": "cell-d344b7c03dae8345",
     "locked": true,
     "points": 1,
     "schema_version": 3,
     "solution": false
    }
   },
   "outputs": [],
   "source": [
    "library(digest)\n",
    "stopifnot(\"type of answer1.2 is not character\"= setequal(digest(paste(toString(class(answer1.2)), \"551dd\")), \"9c29b528886527f1f8996be06bb6653a\"))\n",
    "stopifnot(\"length of answer1.2 is not correct\"= setequal(digest(paste(toString(length(answer1.2)), \"551dd\")), \"5f5cda26323755a289a1e1ab4a1f9b18\"))\n",
    "stopifnot(\"value of answer1.2 is not correct\"= setequal(digest(paste(toString(tolower(answer1.2)), \"551dd\")), \"95f908f98317e1490c81ec98ef6fbef9\"))\n",
    "stopifnot(\"letters in string value of answer1.2 are correct but case is not correct\"= setequal(digest(paste(toString(answer1.2), \"551dd\")), \"a1434b88e0f556d46a6dfa603a430b1b\"))\n",
    "\n",
    "print('Success!')"
   ]
  },
  {
   "cell_type": "markdown",
   "metadata": {
    "deletable": false,
    "editable": false,
    "nbgrader": {
     "cell_type": "markdown",
     "checksum": "32c0289a32908bd959af3413c92fd5eb",
     "grade": false,
     "grade_id": "cell-ab7e6749d3d47397",
     "locked": true,
     "schema_version": 3,
     "solution": false
    }
   },
   "source": [
    "**Question 1.3**\n",
    "<br> {points: 1}\n",
    "\n",
    "Read the `insurance.csv` file in the `data/` folder and use `tail` to view the last 6 individuals presented. \n",
    "\n",
    "*Assign your answer to an object called `insurance`.*"
   ]
  },
  {
   "cell_type": "code",
   "execution_count": null,
   "metadata": {
    "deletable": false,
    "nbgrader": {
     "cell_type": "code",
     "checksum": "e9ca21fb9f7973d27fc0a1b56ef169d2",
     "grade": false,
     "grade_id": "cell-ace20e7d125da6cc",
     "locked": false,
     "schema_version": 3,
     "solution": true
    }
   },
   "outputs": [],
   "source": [
    "# your code here\n",
    "fail() # No Answer - remove if you provide an answer\n",
    "tail(insurance) # preview the last 6 rows of the data set"
   ]
  },
  {
   "cell_type": "code",
   "execution_count": null,
   "metadata": {
    "deletable": false,
    "editable": false,
    "nbgrader": {
     "cell_type": "code",
     "checksum": "224c10b272fd8a2287d9ab6dc9890224",
     "grade": true,
     "grade_id": "cell-662935f6d4ccb428",
     "locked": true,
     "points": 1,
     "schema_version": 3,
     "solution": false
    }
   },
   "outputs": [],
   "source": [
    "library(digest)\n",
    "stopifnot(\"insurance should be a data frame\"= setequal(digest(paste(toString('data.frame' %in% class(insurance)), \"7029a\")), \"7a3d8f115d0cbf056bc5e3b99f7b23ca\"))\n",
    "stopifnot(\"dimensions of insurance are not correct\"= setequal(digest(paste(toString(dim(insurance)), \"7029a\")), \"c1491bebea9f4ac66bea66140e0cbe60\"))\n",
    "stopifnot(\"column names of insurance are not correct\"= setequal(digest(paste(toString(sort(colnames(insurance))), \"7029a\")), \"1173e8e4817f249b12b9dcd4d3b251ca\"))\n",
    "stopifnot(\"types of columns in insurance are not correct\"= setequal(digest(paste(toString(sort(unlist(sapply(insurance, class)))), \"7029a\")), \"11e5f844d521855e65b661cc3b24b37e\"))\n",
    "stopifnot(\"values in one or more numerical columns in insurance are not correct\"= setequal(digest(paste(toString(if (any(sapply(insurance, is.numeric))) sort(round(sapply(insurance[, sapply(insurance, is.numeric)], sum, na.rm = TRUE), 2)) else 0), \"7029a\")), \"68ca7ac2df6c3976b0c561c22d3464e3\"))\n",
    "stopifnot(\"values in one or more character columns in insurance are not correct\"= setequal(digest(paste(toString(if (any(sapply(insurance, is.character))) sum(sapply(insurance[sapply(insurance, is.character)], function(x) length(unique(x)))) else 0), \"7029a\")), \"3160de08a210aed06159cd6cbdd4c08f\"))\n",
    "stopifnot(\"values in one or more factor columns in insurance are not correct\"= setequal(digest(paste(toString(if (any(sapply(insurance, is.factor))) sum(sapply(insurance[, sapply(insurance, is.factor)], function(col) length(unique(col)))) else 0), \"7029a\")), \"a159d74bfefce82f5dad24d7f8e790a0\"))\n",
    "\n",
    "print('Success!')"
   ]
  },
  {
   "cell_type": "markdown",
   "metadata": {
    "deletable": false,
    "editable": false,
    "nbgrader": {
     "cell_type": "markdown",
     "checksum": "4137535f0e3499704cc6c1fdb2f62be9",
     "grade": false,
     "grade_id": "cell-8c60df934c35dd9a",
     "locked": true,
     "schema_version": 3,
     "solution": false
    }
   },
   "source": [
    "**Question 1.4** \n",
    "<br> {points: 3}\n",
    "\n",
    "Looking over the loaded data shown above, what observations can you make about the relationship between medical charges and age? How about medical charges and BMI? Finally, what about medical charges and smoking? \n",
    "\n",
    "Also, comment on whether our observations might change if we visualize the data? And/or whether visualizing the data might allow us to more easily make observations about the relationships in the data as opposed to trying to make them directly from the data table?\n",
    "\n",
    "Answer in the cell below."
   ]
  },
  {
   "cell_type": "markdown",
   "metadata": {
    "deletable": false,
    "nbgrader": {
     "cell_type": "markdown",
     "checksum": "461e90160ad679e460221e1c3128100f",
     "grade": true,
     "grade_id": "cell-62d184813aadd4b3",
     "locked": false,
     "points": 3,
     "schema_version": 3,
     "solution": true
    }
   },
   "source": [
    "DOUBLE CLICK TO EDIT **THIS CELL** AND REPLACE THIS TEXT WITH YOUR ANSWER."
   ]
  },
  {
   "cell_type": "markdown",
   "metadata": {
    "deletable": false,
    "editable": false,
    "nbgrader": {
     "cell_type": "markdown",
     "checksum": "f96e6673eaf3b6a60cce8e6c279463e6",
     "grade": false,
     "grade_id": "cell-865d9fd68151c0a0",
     "locked": true,
     "schema_version": 3,
     "solution": false
    }
   },
   "source": [
    "**Question 1.5**\n",
    "<br> {points: 1}\n",
    "\n",
    "According to the National Heart, Lung and Blood Institute of the US: \"The higher your BMI, the higher your risk for certain diseases such as heart disease, high blood pressure, type 2 diabetes, gallstones, breathing problems, and certain cancers\". \n",
    "\n",
    "Based on this information, we can hypothesize that individuals with a higher BMI are likely to have more medical costs. Let's use our data and see if this holds true. Create a scatter plot of `charges` (y-axis) versus `bmi` (x-axis).\n",
    "\n",
    "In the scaffolding we provide below, we suggest that you set `alpha` to a value between 0.2 and 0.4. `alpha` sets the transparency of points on a scatter plot, and increasing transparencing of points is one tool you can use to deal with over plotting issues.\n",
    "\n",
    "*Assign your answer to an object called `bmi_plot`. Make sure to label your axes appropriately.*"
   ]
  },
  {
   "cell_type": "code",
   "execution_count": null,
   "metadata": {
    "deletable": false,
    "nbgrader": {
     "cell_type": "code",
     "checksum": "9895830ef43c429059c83ab8745fe229",
     "grade": false,
     "grade_id": "cell-fa480888e071a7ee",
     "locked": false,
     "schema_version": 3,
     "solution": true
    }
   },
   "outputs": [],
   "source": [
    "options(repr.plot.width = 8, repr.plot.height = 8) #Remember to set your plot sizes to an appropiate size\n",
    "\n",
    "#... <- insurance |>\n",
    "#    ggplot(aes(x = ..., y =  ...)) + \n",
    "#        geom_...(alpha = ...) + # Deals with the transparency of the points, set it to an appropiate value\n",
    "#        xlab(...) +\n",
    "#        ylab(...) +\n",
    "#        ggtitle(...)\n",
    "\n",
    "# your code here\n",
    "fail() # No Answer - remove if you provide an answer\n",
    "bmi_plot"
   ]
  },
  {
   "cell_type": "code",
   "execution_count": null,
   "metadata": {
    "deletable": false,
    "editable": false,
    "nbgrader": {
     "cell_type": "code",
     "checksum": "32aeea42d258cc87e4640ff4e3c35a5d",
     "grade": true,
     "grade_id": "cell-b6e79c0645925ade",
     "locked": true,
     "points": 1,
     "schema_version": 3,
     "solution": false
    }
   },
   "outputs": [],
   "source": [
    "library(digest)\n",
    "stopifnot(\"type of plot is not correct (if you are using two types of geoms, try flipping the order of the geom objects!)\"= setequal(digest(paste(toString(sapply(seq_len(length(bmi_plot$layers)), function(i) {c(class(bmi_plot$layers[[i]]$geom))[1]})), \"9fc61\")), \"1e050c25f34adbbf10f53434343ddca4\"))\n",
    "stopifnot(\"variable x is not correct\"= setequal(digest(paste(toString(unlist(lapply(sapply(seq_len(length(bmi_plot$layers)), function(i) {rlang::get_expr(c(bmi_plot$layers[[i]]$mapping, bmi_plot$mapping)$x)}), as.character))), \"9fc61\")), \"d3d244cfc58b8cfaaf5235e3066029c2\"))\n",
    "stopifnot(\"variable y is not correct\"= setequal(digest(paste(toString(unlist(lapply(sapply(seq_len(length(bmi_plot$layers)), function(i) {rlang::get_expr(c(bmi_plot$layers[[i]]$mapping, bmi_plot$mapping)$y)}), as.character))), \"9fc61\")), \"e064324a2ec8a508778076ef23fb3c91\"))\n",
    "stopifnot(\"x-axis label is not descriptive, nicely formatted, or human readable\"= setequal(digest(paste(toString(rlang::get_expr(c(bmi_plot$layers[[1]]$mapping, bmi_plot$mapping)$x)!= bmi_plot$labels$x), \"9fc61\")), \"890b80a4d6f2cd5c599b26347d3d9976\"))\n",
    "stopifnot(\"y-axis label is not descriptive, nicely formatted, or human readable\"= setequal(digest(paste(toString(rlang::get_expr(c(bmi_plot$layers[[1]]$mapping, bmi_plot$mapping)$y)!= bmi_plot$labels$y), \"9fc61\")), \"890b80a4d6f2cd5c599b26347d3d9976\"))\n",
    "stopifnot(\"incorrect colour variable in bmi_plot, specify a correct one if required\"= setequal(digest(paste(toString(rlang::get_expr(c(bmi_plot$layers[[1]]$mapping, bmi_plot$mapping)$colour)), \"9fc61\")), \"ad35902feaa4f02b44ed80cc1cc8a53f\"))\n",
    "stopifnot(\"incorrect shape variable in bmi_plot, specify a correct one if required\"= setequal(digest(paste(toString(rlang::get_expr(c(bmi_plot$layers[[1]]$mapping, bmi_plot$mapping)$shape)), \"9fc61\")), \"ad35902feaa4f02b44ed80cc1cc8a53f\"))\n",
    "stopifnot(\"the colour label in bmi_plot is not descriptive, nicely formatted, or human readable\"= setequal(digest(paste(toString(rlang::get_expr(c(bmi_plot$layers[[1]]$mapping, bmi_plot$mapping)$colour) != bmi_plot$labels$colour), \"9fc61\")), \"ad35902feaa4f02b44ed80cc1cc8a53f\"))\n",
    "stopifnot(\"the shape label in bmi_plot is not descriptive, nicely formatted, or human readable\"= setequal(digest(paste(toString(rlang::get_expr(c(bmi_plot$layers[[1]]$mapping, bmi_plot$mapping)$colour) != bmi_plot$labels$shape), \"9fc61\")), \"ad35902feaa4f02b44ed80cc1cc8a53f\"))\n",
    "stopifnot(\"fill variable in bmi_plot is not correct\"= setequal(digest(paste(toString(quo_name(bmi_plot$mapping$fill)), \"9fc61\")), \"43cdd95815798dc118e89f4369f07d56\"))\n",
    "stopifnot(\"fill label in bmi_plot is not informative\"= setequal(digest(paste(toString((quo_name(bmi_plot$mapping$fill) != bmi_plot$labels$fill)), \"9fc61\")), \"ad35902feaa4f02b44ed80cc1cc8a53f\"))\n",
    "stopifnot(\"position argument in bmi_plot is not correct\"= setequal(digest(paste(toString(class(bmi_plot$layers[[1]]$position)[1]), \"9fc61\")), \"ac9068d46e9b51e26909d2e264d1a284\"))\n",
    "\n",
    "stopifnot(\"bmi_plot$data should be a data frame\"= setequal(digest(paste(toString('data.frame' %in% class(bmi_plot$data)), \"9fc62\")), \"aeb294a87439937001e81613556efb2a\"))\n",
    "stopifnot(\"dimensions of bmi_plot$data are not correct\"= setequal(digest(paste(toString(dim(bmi_plot$data)), \"9fc62\")), \"3d9f555d1098cd4faf8dc091d64bf8e2\"))\n",
    "stopifnot(\"column names of bmi_plot$data are not correct\"= setequal(digest(paste(toString(sort(colnames(bmi_plot$data))), \"9fc62\")), \"7fd769c5ad9ce133f838b629684398e5\"))\n",
    "stopifnot(\"types of columns in bmi_plot$data are not correct\"= setequal(digest(paste(toString(sort(unlist(sapply(bmi_plot$data, class)))), \"9fc62\")), \"6d63a6d37b142ea46f5176bd04ea68e9\"))\n",
    "stopifnot(\"values in one or more numerical columns in bmi_plot$data are not correct\"= setequal(digest(paste(toString(if (any(sapply(bmi_plot$data, is.numeric))) sort(round(sapply(bmi_plot$data[, sapply(bmi_plot$data, is.numeric)], sum, na.rm = TRUE), 2)) else 0), \"9fc62\")), \"2b4101157b1819969ac2b75701e88a39\"))\n",
    "stopifnot(\"values in one or more character columns in bmi_plot$data are not correct\"= setequal(digest(paste(toString(if (any(sapply(bmi_plot$data, is.character))) sum(sapply(bmi_plot$data[sapply(bmi_plot$data, is.character)], function(x) length(unique(x)))) else 0), \"9fc62\")), \"c0e9e88ceb2165bfd0dd004ce5b13f72\"))\n",
    "stopifnot(\"values in one or more factor columns in bmi_plot$data are not correct\"= setequal(digest(paste(toString(if (any(sapply(bmi_plot$data, is.factor))) sum(sapply(bmi_plot$data[, sapply(bmi_plot$data, is.factor)], function(col) length(unique(col)))) else 0), \"9fc62\")), \"c95c8451f83df871544ec4394bdedd36\"))\n",
    "\n",
    "print('Success!')"
   ]
  },
  {
   "cell_type": "markdown",
   "metadata": {
    "deletable": false,
    "editable": false,
    "nbgrader": {
     "cell_type": "markdown",
     "checksum": "9af33bf4ee59c56bf62df4df44072a75",
     "grade": false,
     "grade_id": "cell-128a1023c3d0bc57",
     "locked": true,
     "schema_version": 3,
     "solution": false
    }
   },
   "source": [
    "**Question 1.6**\n",
    "<br> {points: 3}\n",
    "\n",
    "Analysis: Comment on the effectiveness of the plot. Take into consideration the rules of thumb discussed in lecture. Also comment on what could be improved for this plot and also what is done correctly. \n",
    "\n",
    "Answer in the cell below."
   ]
  },
  {
   "cell_type": "markdown",
   "metadata": {
    "deletable": false,
    "nbgrader": {
     "cell_type": "markdown",
     "checksum": "9b2daa8b91edbccdb89ea0adecd51245",
     "grade": true,
     "grade_id": "cell-a3673af9bcf8288b",
     "locked": false,
     "points": 3,
     "schema_version": 3,
     "solution": true
    }
   },
   "source": [
    "DOUBLE CLICK TO EDIT **THIS CELL** AND REPLACE THIS TEXT WITH YOUR ANSWER."
   ]
  },
  {
   "cell_type": "markdown",
   "metadata": {
    "deletable": false,
    "editable": false,
    "nbgrader": {
     "cell_type": "markdown",
     "checksum": "feb9a1519eb25c8c86cc1c324d16d22d",
     "grade": false,
     "grade_id": "cell-9a854e3ee84b2fe0",
     "locked": true,
     "schema_version": 3,
     "solution": false
    }
   },
   "source": [
    "**Question 1.7**\n",
    "<br> {points: 3}\n",
    "\n",
    "Analysis: What do you observe from the scatter plot? Do the data suggest that there might be evidence of a relationship between BMI and medical costs of individuals? \n",
    "From this plot alone, can we say higher BMI causes higher medical charges? Why or why not? \n",
    "\n",
    "Answer in the cell below. "
   ]
  },
  {
   "cell_type": "markdown",
   "metadata": {
    "deletable": false,
    "nbgrader": {
     "cell_type": "markdown",
     "checksum": "fe3c8775d82b1cccd32d0a856917600b",
     "grade": true,
     "grade_id": "cell-93c1d5cb7d1bcbea",
     "locked": false,
     "points": 3,
     "schema_version": 3,
     "solution": true
    }
   },
   "source": [
    "DOUBLE CLICK TO EDIT **THIS CELL** AND REPLACE THIS TEXT WITH YOUR ANSWER."
   ]
  },
  {
   "cell_type": "markdown",
   "metadata": {
    "deletable": false,
    "editable": false,
    "nbgrader": {
     "cell_type": "markdown",
     "checksum": "833a75f0d5c580c150dad5b9cbf974fd",
     "grade": false,
     "grade_id": "cell-8e216e802a268da5",
     "locked": true,
     "schema_version": 3,
     "solution": false
    }
   },
   "source": [
    "**Question 1.8**\n",
    "<br> {points: 3}\n",
    "\n",
    "Again, based on information from the National Heart, Lung and Blood Institute of the US, smoking cigarettes is said to be a risk factor for obesity. Create the same plot as you did in **Question 1.5** but this time add the `colour` aesthetic to observe if smoking might affect the body mass of individuals. Also, use `labs` to format your legend title. You may want to pass `alpha = 0.4` to the scatter geometric object to make the scatter points translucent (just for your own ease of visualization; you don't have to and we won't check that when grading).\n",
    "\n",
    "*Assign your answer to an object called `smoke_plot`. Make sure to label your axes appropriately.*"
   ]
  },
  {
   "cell_type": "code",
   "execution_count": null,
   "metadata": {
    "deletable": false,
    "nbgrader": {
     "cell_type": "code",
     "checksum": "671a697a7823c07d311d22c89a72baaa",
     "grade": false,
     "grade_id": "cell-dc80d8337811cbc3",
     "locked": false,
     "schema_version": 3,
     "solution": true,
     "task": false
    }
   },
   "outputs": [],
   "source": [
    "options(repr.plot.width = 8, repr.plot.height = 8) #Remember to set your plot sizes to an appropiate size\n",
    "\n",
    "# add the code for your plot here!\n",
    "\n",
    "# your code here\n",
    "fail() # No Answer - remove if you provide an answer\n"
   ]
  },
  {
   "cell_type": "code",
   "execution_count": null,
   "metadata": {
    "deletable": false,
    "editable": false,
    "nbgrader": {
     "cell_type": "code",
     "checksum": "b79dc1d53ad84bd27b8c56ba74acce97",
     "grade": true,
     "grade_id": "cell-a5dc720f9e5813bd",
     "locked": true,
     "points": 3,
     "schema_version": 3,
     "solution": false,
     "task": false
    }
   },
   "outputs": [],
   "source": [
    "# Most of the tests for this question are hidden. You have to decide whether you've created a good visualization!\n",
    "# here's one test to at least ensure you named the plot object correctly:\n",
    "library(digest)\n",
    "stopifnot(\"type of exists('smoke_plot') is not logical\"= setequal(digest(paste(toString(class(exists('smoke_plot'))), \"bb69\")), \"63dac263447731c7c69c611608650e46\"))\n",
    "stopifnot(\"logical value of exists('smoke_plot') is not correct\"= setequal(digest(paste(toString(exists('smoke_plot')), \"bb69\")), \"639e91ec7f6945ab6378fe2dfd01c630\"))\n",
    "\n",
    "print('Success!')"
   ]
  },
  {
   "cell_type": "markdown",
   "metadata": {
    "deletable": false,
    "editable": false,
    "nbgrader": {
     "cell_type": "markdown",
     "checksum": "949d9a801cbf9c40ac5282ad35e566a1",
     "grade": false,
     "grade_id": "cell-4cbc5d12976da647",
     "locked": true,
     "schema_version": 3,
     "solution": false
    }
   },
   "source": [
    "**Question 1.9.0** (Analyzing the Graph) True or False: \n",
    "<br> {points: 1}\n",
    "\n",
    "Smokers generally have a lower BMI than non-smokers. \n",
    "\n",
    "*Assign your answer to an object called `answer1.9.0`. Make sure your answer is in lowercase and is surrounded by quotation marks (e.g. `\"true\"` or `\"false\"`).*"
   ]
  },
  {
   "cell_type": "code",
   "execution_count": null,
   "metadata": {
    "deletable": false,
    "nbgrader": {
     "cell_type": "code",
     "checksum": "602dee0e3bc2e1fd7b3bde86f41e46e1",
     "grade": false,
     "grade_id": "cell-4302d377b0fc06e3",
     "locked": false,
     "schema_version": 3,
     "solution": true
    }
   },
   "outputs": [],
   "source": [
    "# Replace the fail() with your answer. \n",
    "\n",
    "# your code here\n",
    "fail() # No Answer - remove if you provide an answer"
   ]
  },
  {
   "cell_type": "code",
   "execution_count": null,
   "metadata": {
    "deletable": false,
    "editable": false,
    "nbgrader": {
     "cell_type": "code",
     "checksum": "c066b369572a8c10d649a99b0375a8ea",
     "grade": true,
     "grade_id": "cell-9d85f368775a121b",
     "locked": true,
     "points": 1,
     "schema_version": 3,
     "solution": false
    }
   },
   "outputs": [],
   "source": [
    "library(digest)\n",
    "stopifnot(\"type of answer1.9.0 is not character\"= setequal(digest(paste(toString(class(answer1.9.0)), \"4f043\")), \"6bfd2c585ac2df0d90b1c27ded4e0b4a\"))\n",
    "stopifnot(\"length of answer1.9.0 is not correct\"= setequal(digest(paste(toString(length(answer1.9.0)), \"4f043\")), \"3ccc8989558773aaa96b19301a85697f\"))\n",
    "stopifnot(\"value of answer1.9.0 is not correct\"= setequal(digest(paste(toString(tolower(answer1.9.0)), \"4f043\")), \"afb974b1ee4cf7b1739668a351cfc96c\"))\n",
    "stopifnot(\"letters in string value of answer1.9.0 are correct but case is not correct\"= setequal(digest(paste(toString(answer1.9.0), \"4f043\")), \"afb974b1ee4cf7b1739668a351cfc96c\"))\n",
    "\n",
    "print('Success!')"
   ]
  },
  {
   "cell_type": "markdown",
   "metadata": {
    "deletable": false,
    "editable": false,
    "nbgrader": {
     "cell_type": "markdown",
     "checksum": "e87a6df37688de3942aff1d1bd0a442a",
     "grade": false,
     "grade_id": "cell-9548b0b41e3b4700",
     "locked": true,
     "schema_version": 3,
     "solution": false
    }
   },
   "source": [
    "**Question 1.9.1** (Analyzing the Graph) True or False: \n",
    "<br> {points: 1}\n",
    "\n",
    "Smokers generally have higher medical charges than non-smokers.\n",
    "\n",
    "*Assign your answer to an object called `answer1.9.1`. Make sure your answer is in lowercase and is surrounded by quotation marks (e.g. `\"true\"` or `\"false\"`).*"
   ]
  },
  {
   "cell_type": "code",
   "execution_count": null,
   "metadata": {
    "deletable": false,
    "nbgrader": {
     "cell_type": "code",
     "checksum": "6496b19e51433f61900d1fa67bd64ef6",
     "grade": false,
     "grade_id": "cell-b9f9c54000889b5c",
     "locked": false,
     "schema_version": 3,
     "solution": true
    }
   },
   "outputs": [],
   "source": [
    "# Replace the fail() with your answer. \n",
    "\n",
    "# your code here\n",
    "fail() # No Answer - remove if you provide an answer"
   ]
  },
  {
   "cell_type": "code",
   "execution_count": null,
   "metadata": {
    "deletable": false,
    "editable": false,
    "nbgrader": {
     "cell_type": "code",
     "checksum": "a7edc0951b94471fa79683b03435cfbc",
     "grade": true,
     "grade_id": "cell-b82577eedde24cb1",
     "locked": true,
     "points": 1,
     "schema_version": 3,
     "solution": false
    }
   },
   "outputs": [],
   "source": [
    "library(digest)\n",
    "stopifnot(\"type of answer1.9.1 is not character\"= setequal(digest(paste(toString(class(answer1.9.1)), \"ed15b\")), \"b1404bd0c8ede04b0e8af37ec760bc9d\"))\n",
    "stopifnot(\"length of answer1.9.1 is not correct\"= setequal(digest(paste(toString(length(answer1.9.1)), \"ed15b\")), \"07ffc81a1422e81c5a116a8c30c72c2c\"))\n",
    "stopifnot(\"value of answer1.9.1 is not correct\"= setequal(digest(paste(toString(tolower(answer1.9.1)), \"ed15b\")), \"56d1de7386c9386770dcad3a39d727f2\"))\n",
    "stopifnot(\"letters in string value of answer1.9.1 are correct but case is not correct\"= setequal(digest(paste(toString(answer1.9.1), \"ed15b\")), \"56d1de7386c9386770dcad3a39d727f2\"))\n",
    "\n",
    "print('Success!')"
   ]
  },
  {
   "cell_type": "markdown",
   "metadata": {
    "deletable": false,
    "editable": false,
    "nbgrader": {
     "cell_type": "markdown",
     "checksum": "6ccd2e274589df80d359f4b80281147f",
     "grade": false,
     "grade_id": "cell-56d49ae191d3e93f",
     "locked": true,
     "schema_version": 3,
     "solution": false
    }
   },
   "source": [
    "**Question 1.10**\n",
    "<br> {points: 1}\n",
    "\n",
    "Finally, create a bar graph that displays the proportion of smokers for both females and males in the data set. Use sex as the horizontal axis, and colour the bars to differentiate between smokers / nonsmokers. This could, for example, be used help us determine whether we should consider smoking behaviour when exploring whether there is a relationship between sex and medical costs.\n",
    "\n",
    "*Assign your answer to an object called `bar_plot`. Make sure to label your axes appropriately.*\n",
    "\n",
    ">*Note - many historical datasets treated sex as a variable where the possible values are only binary: male or female. This representation in this question reflects how the data were historically collected and is not meant to imply that we believe that sex is binary.*"
   ]
  },
  {
   "cell_type": "code",
   "execution_count": null,
   "metadata": {
    "deletable": false,
    "nbgrader": {
     "cell_type": "code",
     "checksum": "70773a18b679abbf2a8431b560ed14c0",
     "grade": false,
     "grade_id": "cell-19a1b424460c544e",
     "locked": false,
     "schema_version": 3,
     "solution": true
    }
   },
   "outputs": [],
   "source": [
    "#... <- insurance |>\n",
    "#    ggplot(aes(x = ..., fill = ...)) + \n",
    "#    ..._...(position = 'fill') + \n",
    "#    xlab(...) +\n",
    "#    ylab(...) +\n",
    "#    labs(fill = \"Does the person smoke\") +\n",
    "#    ggtitle(...)\n",
    "\n",
    "\n",
    "# your code here\n",
    "fail() # No Answer - remove if you provide an answer\n",
    "bar_plot"
   ]
  },
  {
   "cell_type": "code",
   "execution_count": null,
   "metadata": {
    "deletable": false,
    "editable": false,
    "nbgrader": {
     "cell_type": "code",
     "checksum": "8fa2b7847e6605cadd6690a4ab6e6de0",
     "grade": true,
     "grade_id": "cell-37fe64d61b7366b4",
     "locked": true,
     "points": 1,
     "schema_version": 3,
     "solution": false
    }
   },
   "outputs": [],
   "source": [
    "library(digest)\n",
    "stopifnot(\"type of plot is not correct (if you are using two types of geoms, try flipping the order of the geom objects!)\"= setequal(digest(paste(toString(sapply(seq_len(length(bar_plot$layers)), function(i) {c(class(bar_plot$layers[[i]]$geom))[1]})), \"b90b4\")), \"5aabe9bd076a0badeeb3dd99058a4282\"))\n",
    "stopifnot(\"variable x is not correct\"= setequal(digest(paste(toString(unlist(lapply(sapply(seq_len(length(bar_plot$layers)), function(i) {rlang::get_expr(c(bar_plot$layers[[i]]$mapping, bar_plot$mapping)$x)}), as.character))), \"b90b4\")), \"92b4721f1caaf539af762ff39320b950\"))\n",
    "stopifnot(\"variable y is not correct\"= setequal(digest(paste(toString(unlist(lapply(sapply(seq_len(length(bar_plot$layers)), function(i) {rlang::get_expr(c(bar_plot$layers[[i]]$mapping, bar_plot$mapping)$y)}), as.character))), \"b90b4\")), \"f59d8bd8f25289db287f8a852f34c655\"))\n",
    "stopifnot(\"x-axis label is not descriptive, nicely formatted, or human readable\"= setequal(digest(paste(toString(rlang::get_expr(c(bar_plot$layers[[1]]$mapping, bar_plot$mapping)$x)!= bar_plot$labels$x), \"b90b4\")), \"88f90e17f7939fb41c43d53193f618a0\"))\n",
    "stopifnot(\"y-axis label is not descriptive, nicely formatted, or human readable\"= setequal(digest(paste(toString(rlang::get_expr(c(bar_plot$layers[[1]]$mapping, bar_plot$mapping)$y)!= bar_plot$labels$y), \"b90b4\")), \"f59d8bd8f25289db287f8a852f34c655\"))\n",
    "stopifnot(\"incorrect colour variable in bar_plot, specify a correct one if required\"= setequal(digest(paste(toString(rlang::get_expr(c(bar_plot$layers[[1]]$mapping, bar_plot$mapping)$colour)), \"b90b4\")), \"f59d8bd8f25289db287f8a852f34c655\"))\n",
    "stopifnot(\"incorrect shape variable in bar_plot, specify a correct one if required\"= setequal(digest(paste(toString(rlang::get_expr(c(bar_plot$layers[[1]]$mapping, bar_plot$mapping)$shape)), \"b90b4\")), \"f59d8bd8f25289db287f8a852f34c655\"))\n",
    "stopifnot(\"the colour label in bar_plot is not descriptive, nicely formatted, or human readable\"= setequal(digest(paste(toString(rlang::get_expr(c(bar_plot$layers[[1]]$mapping, bar_plot$mapping)$colour) != bar_plot$labels$colour), \"b90b4\")), \"f59d8bd8f25289db287f8a852f34c655\"))\n",
    "stopifnot(\"the shape label in bar_plot is not descriptive, nicely formatted, or human readable\"= setequal(digest(paste(toString(rlang::get_expr(c(bar_plot$layers[[1]]$mapping, bar_plot$mapping)$colour) != bar_plot$labels$shape), \"b90b4\")), \"f59d8bd8f25289db287f8a852f34c655\"))\n",
    "stopifnot(\"fill variable in bar_plot is not correct\"= setequal(digest(paste(toString(quo_name(bar_plot$mapping$fill)), \"b90b4\")), \"ef4882355299372710427399c36e1543\"))\n",
    "stopifnot(\"fill label in bar_plot is not informative\"= setequal(digest(paste(toString((quo_name(bar_plot$mapping$fill) != bar_plot$labels$fill)), \"b90b4\")), \"88f90e17f7939fb41c43d53193f618a0\"))\n",
    "stopifnot(\"position argument in bar_plot is not correct\"= setequal(digest(paste(toString(class(bar_plot$layers[[1]]$position)[1]), \"b90b4\")), \"b6e6e6e02f04b8724621d0cdc9291c8f\"))\n",
    "\n",
    "stopifnot(\"bar_plot$data should be a data frame\"= setequal(digest(paste(toString('data.frame' %in% class(bar_plot$data)), \"b90b5\")), \"8fc73d7af6df65245d347d5375db6c41\"))\n",
    "stopifnot(\"dimensions of bar_plot$data are not correct\"= setequal(digest(paste(toString(dim(bar_plot$data)), \"b90b5\")), \"b8dc69cc681f114b28738773fe76c134\"))\n",
    "stopifnot(\"column names of bar_plot$data are not correct\"= setequal(digest(paste(toString(sort(colnames(bar_plot$data))), \"b90b5\")), \"ee70eaefdb24bd6d9a43f20578ca3118\"))\n",
    "stopifnot(\"types of columns in bar_plot$data are not correct\"= setequal(digest(paste(toString(sort(unlist(sapply(bar_plot$data, class)))), \"b90b5\")), \"9e94d802ff655a0fb4f5606020dbc40d\"))\n",
    "stopifnot(\"values in one or more numerical columns in bar_plot$data are not correct\"= setequal(digest(paste(toString(if (any(sapply(bar_plot$data, is.numeric))) sort(round(sapply(bar_plot$data[, sapply(bar_plot$data, is.numeric)], sum, na.rm = TRUE), 2)) else 0), \"b90b5\")), \"9018ac3d9edfb2e335c5776d56cb8b84\"))\n",
    "stopifnot(\"values in one or more character columns in bar_plot$data are not correct\"= setequal(digest(paste(toString(if (any(sapply(bar_plot$data, is.character))) sum(sapply(bar_plot$data[sapply(bar_plot$data, is.character)], function(x) length(unique(x)))) else 0), \"b90b5\")), \"761ef152aaba914792d92c5e3dc5f70d\"))\n",
    "stopifnot(\"values in one or more factor columns in bar_plot$data are not correct\"= setequal(digest(paste(toString(if (any(sapply(bar_plot$data, is.factor))) sum(sapply(bar_plot$data[, sapply(bar_plot$data, is.factor)], function(col) length(unique(col)))) else 0), \"b90b5\")), \"1c9a40bf137e5c82f7482f43ef1778eb\"))\n",
    "\n",
    "print('Success!')"
   ]
  },
  {
   "cell_type": "markdown",
   "metadata": {
    "deletable": false,
    "editable": false,
    "nbgrader": {
     "cell_type": "markdown",
     "checksum": "6d237da5dd7e69b67adcfb9ca1cd1583",
     "grade": false,
     "grade_id": "cell-426d75901920cc91",
     "locked": true,
     "schema_version": 3,
     "solution": false
    }
   },
   "source": [
    "**Question 1.11**\n",
    "<br> {points: 1}\n",
    "\n",
    "Based on the graph, is the proportion of smokers higher amongst men or women?\n",
    "\n",
    "*Assign your answer to an object called `answer1.11`. Make sure your answer is in lowercase and is surrounded by quotation marks (e.g. `\"male\"` or `\"female\"`).*"
   ]
  },
  {
   "cell_type": "code",
   "execution_count": null,
   "metadata": {
    "deletable": false,
    "nbgrader": {
     "cell_type": "code",
     "checksum": "c53c37fee32c171074087e4929fcf6d7",
     "grade": false,
     "grade_id": "cell-123d8e2e2b0e9555",
     "locked": false,
     "schema_version": 3,
     "solution": true
    }
   },
   "outputs": [],
   "source": [
    "# Replace the fail() with your answer. \n",
    "\n",
    "# your code here\n",
    "fail() # No Answer - remove if you provide an answer"
   ]
  },
  {
   "cell_type": "code",
   "execution_count": null,
   "metadata": {
    "deletable": false,
    "editable": false,
    "nbgrader": {
     "cell_type": "code",
     "checksum": "b210ba84495ae069114b57dec063edfc",
     "grade": true,
     "grade_id": "cell-204b484044f109f1",
     "locked": true,
     "points": 1,
     "schema_version": 3,
     "solution": false
    }
   },
   "outputs": [],
   "source": [
    "library(digest)\n",
    "stopifnot(\"type of answer1.11 is not character\"= setequal(digest(paste(toString(class(answer1.11)), \"add13\")), \"4d5397c95785e4f7614fc4d0056b3376\"))\n",
    "stopifnot(\"length of answer1.11 is not correct\"= setequal(digest(paste(toString(length(answer1.11)), \"add13\")), \"6a57415a6f69812e8e9ef5ee4900ec55\"))\n",
    "stopifnot(\"value of answer1.11 is not correct\"= setequal(digest(paste(toString(tolower(answer1.11)), \"add13\")), \"dd6e24acdab1da830de39c00c8df64e2\"))\n",
    "stopifnot(\"letters in string value of answer1.11 are correct but case is not correct\"= setequal(digest(paste(toString(answer1.11), \"add13\")), \"dd6e24acdab1da830de39c00c8df64e2\"))\n",
    "\n",
    "print('Success!')"
   ]
  },
  {
   "cell_type": "markdown",
   "metadata": {
    "deletable": false,
    "editable": false,
    "nbgrader": {
     "cell_type": "markdown",
     "checksum": "7010e2aed0d50bec5b528ff79f316450",
     "grade": false,
     "grade_id": "cell-841e1fd7134bfd1c",
     "locked": true,
     "schema_version": 3,
     "solution": false
    }
   },
   "source": [
    "## 2. Color Palettes (beyond the defaults)\n",
    "{points: 1}\n",
    "\n",
    "In the worksheet and this tutorial, you have seen the same colours again and again. These are from the default `ggplot2` color palette. What if you want different colors? We can do this! In R, one of the libraries that provides altenative color palettes is the `RColorBrewer` library. \n",
    "\n",
    "For this question:\n",
    "\n",
    "1. Load the `RColorBrewer`library\n",
    "2. Print the list of palettes available for you with the `display.brewer.all()` function (you can also print out a list of color blind friendly palettes with `display.brewer.all(colorblindFriendly = T)`).\n",
    "3. Use the chart you created in Q1.10 and change the color pallette to your favourite from `RColorBrewer`. Remember that instead of recreating the entire chart from scratch, you can use the `bar_plot` variable you already created and just add the color palette change with the `+` operator (it is also fine if you prefer to copy all the code).\n",
    "    - For the fill aesthetic with categorical variable the function is: `scale_fill_brewer(palette = '...')`\n",
    "    - For the fill aesthetic with numeric variable the function is: `scale_fill_distiller(palette = '...')`\n",
    "\n",
    "You can look more in depth into the documentation of the `scale_fill_*` functions here: https://ggplot2.tidyverse.org/reference/scale_brewer.html.  Optionally, you can also use this [color blindness simulator](https://www.color-blindness.com/coblis-color-blindness-simulator/) to check if your visualization is color blind friendly\n",
    "\n",
    "\n",
    "*Assign your answer to an object called `bar_plot_palette`.*"
   ]
  },
  {
   "cell_type": "code",
   "execution_count": null,
   "metadata": {},
   "outputs": [],
   "source": [
    "## Run this cell and to explore the RColorBrewer features (step 1 & 2 above)\n",
    "library(RColorBrewer)\n",
    "display.brewer.all()"
   ]
  },
  {
   "cell_type": "code",
   "execution_count": null,
   "metadata": {
    "deletable": false,
    "nbgrader": {
     "cell_type": "code",
     "checksum": "488c66e9388befc4a329d34bddca57ef",
     "grade": false,
     "grade_id": "cell-0b3c9b55db17a5f8",
     "locked": false,
     "schema_version": 3,
     "solution": true,
     "task": false
    }
   },
   "outputs": [],
   "source": [
    "## Enter you code to answer step 3 here\n",
    "\n",
    "# your code here\n",
    "fail() # No Answer - remove if you provide an answer\n",
    "bar_plot_palette"
   ]
  },
  {
   "cell_type": "code",
   "execution_count": null,
   "metadata": {
    "deletable": false,
    "editable": false,
    "nbgrader": {
     "cell_type": "code",
     "checksum": "a03c1d8f34c4f8fa6414d5fb593fc019",
     "grade": true,
     "grade_id": "cell-bd1c8250c1f7d170",
     "locked": true,
     "points": 1,
     "schema_version": 3,
     "solution": false,
     "task": false
    }
   },
   "outputs": [],
   "source": [
    "library(digest)\n",
    "stopifnot(\"type of plot is not correct (if you are using two types of geoms, try flipping the order of the geom objects!)\"= setequal(digest(paste(toString(sapply(seq_len(length(bar_plot_palette$layers)), function(i) {c(class(bar_plot_palette$layers[[i]]$geom))[1]})), \"c5183\")), \"2bff9314413d329789f6da739cf4cf99\"))\n",
    "stopifnot(\"variable x is not correct\"= setequal(digest(paste(toString(unlist(lapply(sapply(seq_len(length(bar_plot_palette$layers)), function(i) {rlang::get_expr(c(bar_plot_palette$layers[[i]]$mapping, bar_plot_palette$mapping)$x)}), as.character))), \"c5183\")), \"3580250e2a85f5c0b49691b5a524b45f\"))\n",
    "stopifnot(\"variable y is not correct\"= setequal(digest(paste(toString(unlist(lapply(sapply(seq_len(length(bar_plot_palette$layers)), function(i) {rlang::get_expr(c(bar_plot_palette$layers[[i]]$mapping, bar_plot_palette$mapping)$y)}), as.character))), \"c5183\")), \"6afa11412fbc16e2d814104f9c265652\"))\n",
    "stopifnot(\"x-axis label is not descriptive, nicely formatted, or human readable\"= setequal(digest(paste(toString(rlang::get_expr(c(bar_plot_palette$layers[[1]]$mapping, bar_plot_palette$mapping)$x)!= bar_plot_palette$labels$x), \"c5183\")), \"658085f52f1054fb111423a8ccaacf4c\"))\n",
    "stopifnot(\"y-axis label is not descriptive, nicely formatted, or human readable\"= setequal(digest(paste(toString(rlang::get_expr(c(bar_plot_palette$layers[[1]]$mapping, bar_plot_palette$mapping)$y)!= bar_plot_palette$labels$y), \"c5183\")), \"6afa11412fbc16e2d814104f9c265652\"))\n",
    "stopifnot(\"incorrect colour variable in bar_plot_palette, specify a correct one if required\"= setequal(digest(paste(toString(rlang::get_expr(c(bar_plot_palette$layers[[1]]$mapping, bar_plot_palette$mapping)$colour)), \"c5183\")), \"6afa11412fbc16e2d814104f9c265652\"))\n",
    "stopifnot(\"incorrect shape variable in bar_plot_palette, specify a correct one if required\"= setequal(digest(paste(toString(rlang::get_expr(c(bar_plot_palette$layers[[1]]$mapping, bar_plot_palette$mapping)$shape)), \"c5183\")), \"6afa11412fbc16e2d814104f9c265652\"))\n",
    "stopifnot(\"the colour label in bar_plot_palette is not descriptive, nicely formatted, or human readable\"= setequal(digest(paste(toString(rlang::get_expr(c(bar_plot_palette$layers[[1]]$mapping, bar_plot_palette$mapping)$colour) != bar_plot_palette$labels$colour), \"c5183\")), \"6afa11412fbc16e2d814104f9c265652\"))\n",
    "stopifnot(\"the shape label in bar_plot_palette is not descriptive, nicely formatted, or human readable\"= setequal(digest(paste(toString(rlang::get_expr(c(bar_plot_palette$layers[[1]]$mapping, bar_plot_palette$mapping)$colour) != bar_plot_palette$labels$shape), \"c5183\")), \"6afa11412fbc16e2d814104f9c265652\"))\n",
    "stopifnot(\"fill variable in bar_plot_palette is not correct\"= setequal(digest(paste(toString(quo_name(bar_plot_palette$mapping$fill)), \"c5183\")), \"5f96543addd02003939b6b99ff6e5903\"))\n",
    "stopifnot(\"fill label in bar_plot_palette is not informative\"= setequal(digest(paste(toString((quo_name(bar_plot_palette$mapping$fill) != bar_plot_palette$labels$fill)), \"c5183\")), \"658085f52f1054fb111423a8ccaacf4c\"))\n",
    "stopifnot(\"position argument in bar_plot_palette is not correct\"= setequal(digest(paste(toString(class(bar_plot_palette$layers[[1]]$position)[1]), \"c5183\")), \"90066ac1001667da6b1ad3b63aa065b7\"))\n",
    "\n",
    "stopifnot(\"bar_plot_palette$data should be a data frame\"= setequal(digest(paste(toString('data.frame' %in% class(bar_plot_palette$data)), \"c5184\")), \"2535c86a524a13b7ee5a4885deedd155\"))\n",
    "stopifnot(\"dimensions of bar_plot_palette$data are not correct\"= setequal(digest(paste(toString(dim(bar_plot_palette$data)), \"c5184\")), \"d3f3d6b1cd01fb80f8b2dc18304eba42\"))\n",
    "stopifnot(\"column names of bar_plot_palette$data are not correct\"= setequal(digest(paste(toString(sort(colnames(bar_plot_palette$data))), \"c5184\")), \"1bc7100d8b2707aefbeaebcc255b03b4\"))\n",
    "stopifnot(\"types of columns in bar_plot_palette$data are not correct\"= setequal(digest(paste(toString(sort(unlist(sapply(bar_plot_palette$data, class)))), \"c5184\")), \"bf230a6b3b93dc5c3b5613d220043936\"))\n",
    "stopifnot(\"values in one or more numerical columns in bar_plot_palette$data are not correct\"= setequal(digest(paste(toString(if (any(sapply(bar_plot_palette$data, is.numeric))) sort(round(sapply(bar_plot_palette$data[, sapply(bar_plot_palette$data, is.numeric)], sum, na.rm = TRUE), 2)) else 0), \"c5184\")), \"e199b7995663fbf782c0c921b4526152\"))\n",
    "stopifnot(\"values in one or more character columns in bar_plot_palette$data are not correct\"= setequal(digest(paste(toString(if (any(sapply(bar_plot_palette$data, is.character))) sum(sapply(bar_plot_palette$data[sapply(bar_plot_palette$data, is.character)], function(x) length(unique(x)))) else 0), \"c5184\")), \"e1938f63f7b6ca3a8051c4fc6f43058e\"))\n",
    "stopifnot(\"values in one or more factor columns in bar_plot_palette$data are not correct\"= setequal(digest(paste(toString(if (any(sapply(bar_plot_palette$data, is.factor))) sum(sapply(bar_plot_palette$data[, sapply(bar_plot_palette$data, is.factor)], function(col) length(unique(col)))) else 0), \"c5184\")), \"629a9e8b6dc2696f387f87ac054f2964\"))\n",
    "\n",
    "stopifnot(\"type of !identical(scales::hue_pal()(2), unique(ggplot_build(bar_plot_palette)$data[[1]]$fill)) is not logical\"= setequal(digest(paste(toString(class(!identical(scales::hue_pal()(2), unique(ggplot_build(bar_plot_palette)$data[[1]]$fill)))), \"c5185\")), \"61f426b684c0850e4c6b89709e361679\"))\n",
    "stopifnot(\"logical value of !identical(scales::hue_pal()(2), unique(ggplot_build(bar_plot_palette)$data[[1]]$fill)) is not correct\"= setequal(digest(paste(toString(!identical(scales::hue_pal()(2), unique(ggplot_build(bar_plot_palette)$data[[1]]$fill))), \"c5185\")), \"7e1edcec31d6c5ff13cdc7d4039ab464\"))\n",
    "\n",
    "print('Success!')"
   ]
  },
  {
   "cell_type": "markdown",
   "metadata": {},
   "source": [
    "## 3. Fast-Food Chains in the United States (Continued)\n",
    "<br> {points: 3}\n",
    "\n",
    "In `worksheet_viz`, we explored this data set through some visualizations. Now, it is is all up to you. The goal of this assignment is to create **one** plot that can help you figure out which restaurant to open and where! Your goal is the same as in the worksheet: to figure out which fast food chain to open and figure out which state would be the least competitive.\n",
    "\n",
    "After creating your visualization you need to write a paragraph explaining your visualization and why you chose it. Also, explain your conclusion from the visualization and reasoning as to how you came to that conclusion. You can use properly-cited outside information here to help support your reasoning (but **do not** download and analyze any data from an outside source in this notebook -- our autograder will not be able to see it). Finally, if there is some way that you could improve your visualization, but don't yet know how to do it, please explain what you would do if you knew how.\n",
    "\n",
    "In answering this question, there is no need to restrict yourself to the west coast of the USA. Consider all states that you have data for. You have a variety of graphs to choose from, but before starting the assignment, discuss with a partner which plot would be the most optimal to answer this question.\n",
    "\n",
    "     \"After creating your visualization you need to write a paragraph explaining your visualization and why you chose it. Also, explain your conclusion from the visualization and reasoning as to how you came to that conclusion. If you need to bring in outside information to help you answer your question, please feel free to do so.  Finally, if there is some way that you could improve your visualization, but don't yet know how to do it, please explain what you would do if you knew how.\\n\",\n",
    "\n",
    "*Note that some restaurant names are spelled incorrectly in data. For the purpose of this exercise you can ignore this and only count the spelling with the most entries for each restaurant. Additionally, you can treat Colorado Springs as a state for this question, even though it is not one.* \n",
    "\n",
    "<img src=\"mcdonalds.jpg\" width = \"600\"/>\n",
    "\n",
    "\n",
    "Hint: The function `pull` from the `dplyr` package selects a column in a data frame and transforms it into a vector. Note: There are different ways you can complete this question so you don't necessarily need to use `pull` (you may find a solution without using it) but it may be helpful."
   ]
  },
  {
   "cell_type": "code",
   "execution_count": null,
   "metadata": {
    "deletable": false,
    "nbgrader": {
     "cell_type": "code",
     "checksum": "1fb6c4da4abcf9ff90603bacff081d9e",
     "grade": true,
     "grade_id": "cell-2f6cf34c963eb07a",
     "locked": false,
     "points": 3,
     "schema_version": 3,
     "solution": true
    }
   },
   "outputs": [],
   "source": [
    "# write the code for your plot here\n",
    "# your code here\n",
    "fail() # No Answer - remove if you provide an answer"
   ]
  },
  {
   "cell_type": "markdown",
   "metadata": {
    "deletable": false,
    "nbgrader": {
     "cell_type": "markdown",
     "checksum": "daa676950c2e68f5d6538a1cbd067a7b",
     "grade": true,
     "grade_id": "cell-6ac8b7c5b2701b78",
     "locked": false,
     "points": 3,
     "schema_version": 3,
     "solution": true
    }
   },
   "source": [
    "*Write a paragraph explaining your visualization and why you chose it. Also explain your conclusion from the visualization and reasoning as to how you came to that conclusion. You can use properly-cited outside information here to help support your reasoning (but **do not** download and analyze any data from an outside source in this notebook -- our autograder will not be able to see it). Finally, if there is some way that you could improve your visualization, but don't yet know how to do it, please explain what you would do if you knew how.*\n",
    "\n",
    "DOUBLE CLICK TO EDIT **THIS CELL** AND REPLACE THIS TEXT WITH YOUR ANSWER."
   ]
  },
  {
   "cell_type": "code",
   "execution_count": null,
   "metadata": {
    "deletable": false,
    "editable": false,
    "nbgrader": {
     "cell_type": "code",
     "checksum": "af21ab0c92d24168e8471e629a83a5d9",
     "grade": false,
     "grade_id": "cell-7497bd4e7b18b0c8",
     "locked": true,
     "schema_version": 3,
     "solution": false,
     "task": false
    }
   },
   "outputs": [],
   "source": [
    "source(\"cleanup.R\")"
   ]
  }
 ],
 "metadata": {
  "kernelspec": {
   "display_name": "R",
   "language": "R",
   "name": "ir"
  },
  "language_info": {
   "codemirror_mode": "r",
   "file_extension": ".r",
   "mimetype": "text/x-r-source",
   "name": "R",
   "pygments_lexer": "r",
   "version": "4.3.3"
  }
 },
 "nbformat": 4,
 "nbformat_minor": 4
}
