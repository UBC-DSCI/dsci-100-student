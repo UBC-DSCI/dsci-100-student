{
 "cells": [
  {
   "cell_type": "markdown",
   "metadata": {
    "deletable": false,
    "editable": false,
    "nbgrader": {
     "cell_type": "markdown",
     "checksum": "ff218c124f6920a9e5d33540e7193ffc",
     "grade": false,
     "grade_id": "cell-56451645af3178ba",
     "locked": true,
     "schema_version": 3,
     "solution": false,
     "task": false
    }
   },
   "source": [
    "# Worksheet: Classification I: training & predicting\n",
    "\n",
    "This worksheet covers the [Classification I: training & predicting](https://datasciencebook.ca/classification1.html) chapter of the online textbook, which also lists the learning objectives for this worksheet. You should read the textbook chapter before attempting this worksheet. "
   ]
  },
  {
   "cell_type": "code",
   "execution_count": null,
   "metadata": {
    "deletable": false,
    "editable": false,
    "nbgrader": {
     "cell_type": "code",
     "checksum": "2bb50002bd0019dd553931830de0a8da",
     "grade": false,
     "grade_id": "cell-9ca533e5e836f7e3",
     "locked": true,
     "schema_version": 3,
     "solution": false,
     "task": false
    }
   },
   "outputs": [],
   "source": [
    " ### Run this cell before continuing.\n",
    "library(tidyverse)\n",
    "library(repr)\n",
    "library(tidymodels)\n",
    "options(repr.matrix.max.rows = 6)\n",
    "source('cleanup.R')"
   ]
  },
  {
   "cell_type": "markdown",
   "metadata": {
    "deletable": false,
    "editable": false,
    "nbgrader": {
     "cell_type": "markdown",
     "checksum": "081b222c80c836a403640e6c2f25991a",
     "grade": false,
     "grade_id": "cell-1b949a8db8729285",
     "locked": true,
     "schema_version": 3,
     "solution": false
    }
   },
   "source": [
    "**Question 0.1** Multiple Choice: \n",
    "<br> {points: 1}\n",
    "\n",
    "**Which of the following statements is NOT true of a training data set (in the context of classification)?**\n",
    "\n",
    "A. A training data set is a collection of observations for which we know the true classes.\n",
    "\n",
    "B. We can use a training set to explore and build our classifier.\n",
    "\n",
    "C. The training data set is the underlying collection of observations for which we don't know the true classes.\n",
    "\n",
    "*Assign your answer to an object called `answer0.1`. Make sure the correct answer is an uppercase letter. Remember to surround your answer with quotation marks (e.g. \"D\").*"
   ]
  },
  {
   "cell_type": "code",
   "execution_count": null,
   "metadata": {
    "deletable": false,
    "nbgrader": {
     "cell_type": "code",
     "checksum": "a7d3c3e4d5b35f373ce67a91d2f9a854",
     "grade": false,
     "grade_id": "cell-f0a0878626777907",
     "locked": false,
     "schema_version": 3,
     "solution": true
    }
   },
   "outputs": [],
   "source": [
    "# Replace the fail() with your answer. \n",
    "\n",
    "# your code here\n",
    "fail() # No Answer - remove if you provide an answer"
   ]
  },
  {
   "cell_type": "code",
   "execution_count": null,
   "metadata": {
    "deletable": false,
    "editable": false,
    "nbgrader": {
     "cell_type": "code",
     "checksum": "3e87f0fc0f0219139517caed6700ee95",
     "grade": true,
     "grade_id": "cell-5cb2c8e6177337fd",
     "locked": true,
     "points": 1,
     "schema_version": 3,
     "solution": false
    }
   },
   "outputs": [],
   "source": [
    "library(digest)\n",
    "stopifnot(\"type of answer0.1 is not character\"= setequal(digest(paste(toString(class(answer0.1)), \"d61f1\")), \"f94d540efe5be545d1314ed7fc4cef50\"))\n",
    "stopifnot(\"length of answer0.1 is not correct\"= setequal(digest(paste(toString(length(answer0.1)), \"d61f1\")), \"ae230260b0d96065a2fa62385253b54f\"))\n",
    "stopifnot(\"value of answer0.1 is not correct\"= setequal(digest(paste(toString(tolower(answer0.1)), \"d61f1\")), \"6c38fdd008504ba826aad69718a6df26\"))\n",
    "stopifnot(\"letters in string value of answer0.1 are correct but case is not correct\"= setequal(digest(paste(toString(answer0.1), \"d61f1\")), \"b7d893c6d594e358e4eb8b1d6dcb0a91\"))\n",
    "\n",
    "print('Success!')"
   ]
  },
  {
   "cell_type": "markdown",
   "metadata": {
    "deletable": false,
    "editable": false,
    "nbgrader": {
     "cell_type": "markdown",
     "checksum": "6e32d567d8efcf29ac9f1fd3a1db5ccb",
     "grade": false,
     "grade_id": "cell-7996c030ec20bf5c",
     "locked": true,
     "schema_version": 3,
     "solution": false
    }
   },
   "source": [
    "**Question 0.2** Multiple Choice\n",
    "<br> {points: 1}\n",
    "\n",
    "(Adapted from James et al, \"[An introduction to statistical learning](http://www-bcf.usc.edu/~gareth/ISL/)\" (page 53))\n",
    "\n",
    "Consider the scenario below: \n",
    "\n",
    "We collect data on 20 similar products. For each product we have recorded whether it was a success or failure (labelled as such by the Sales team), price charged for the product, marketing budget, competition price, customer data, and ten other variables. \n",
    "\n",
    "**Which of the following is a classification problem?**\n",
    "\n",
    "A. We are interested in comparing the profit margins for products that are a success and products that are a failure. \n",
    "\n",
    "B. We are considering launching a new product and wish to know whether it will be a success or a failure. \n",
    "\n",
    "C. We wish to group customers based on their preferences and use that knowledge to develop targeted marketing programs. \n",
    "\n",
    "*Assign your answer to an object called `answer0.2`. Make sure the correct answer is an uppercase letter. Remember to surround your answer with quotation marks (e.g. \"F\").*"
   ]
  },
  {
   "cell_type": "code",
   "execution_count": null,
   "metadata": {
    "deletable": false,
    "nbgrader": {
     "cell_type": "code",
     "checksum": "4044d6543e0299f24c985ccb4c6e0184",
     "grade": false,
     "grade_id": "cell-62c49be2ada51acc",
     "locked": false,
     "schema_version": 3,
     "solution": true
    }
   },
   "outputs": [],
   "source": [
    "# Replace the fail() with your answer. \n",
    "\n",
    "# your code here\n",
    "fail() # No Answer - remove if you provide an answer"
   ]
  },
  {
   "cell_type": "code",
   "execution_count": null,
   "metadata": {
    "deletable": false,
    "editable": false,
    "nbgrader": {
     "cell_type": "code",
     "checksum": "9925cf18e8e7a14daf4b99fdd35d36fa",
     "grade": true,
     "grade_id": "cell-61c63c0827e2a73e",
     "locked": true,
     "points": 1,
     "schema_version": 3,
     "solution": false
    }
   },
   "outputs": [],
   "source": [
    "library(digest)\n",
    "stopifnot(\"type of answer0.2 is not character\"= setequal(digest(paste(toString(class(answer0.2)), \"1f34d\")), \"638069ba8e223b370e5b7ffbc657e4df\"))\n",
    "stopifnot(\"length of answer0.2 is not correct\"= setequal(digest(paste(toString(length(answer0.2)), \"1f34d\")), \"ef68b1075103f89ad725c62972606ae8\"))\n",
    "stopifnot(\"value of answer0.2 is not correct\"= setequal(digest(paste(toString(tolower(answer0.2)), \"1f34d\")), \"881a4b9bf3d91e24aadecc3993937737\"))\n",
    "stopifnot(\"letters in string value of answer0.2 are correct but case is not correct\"= setequal(digest(paste(toString(answer0.2), \"1f34d\")), \"2f98b85cb37af6b2a8ad6181b38c11cf\"))\n",
    "\n",
    "print('Success!')"
   ]
  },
  {
   "cell_type": "markdown",
   "metadata": {
    "deletable": false,
    "editable": false,
    "nbgrader": {
     "cell_type": "markdown",
     "checksum": "14aba8e491df0f5410d5d4ab95fe4d42",
     "grade": false,
     "grade_id": "cell-e5066772a12351f8",
     "locked": true,
     "schema_version": 3,
     "solution": false
    }
   },
   "source": [
    "## 1. Breast Cancer Data Set \n",
    "We will work with the breast cancer data from this week's pre-reading. \n",
    "> Note that the breast cancer data in this worksheet have been **standardized (centred and scaled)** for you already. We will implement these steps in future worksheets/tutorials later, but for now, know the data has been standardized. Therefore the variables are unitless and hence why we have zero and negative values for variables like Radius. \n",
    "\n",
    "**Question 1.0**\n",
    "<br> {points: 1}\n",
    "\n",
    "Read the `clean-wdbc-data.csv` file (found in the `data` directory) using the `read_csv()` function into the notebook and store it as a data frame. Name it `cancer`."
   ]
  },
  {
   "cell_type": "code",
   "execution_count": null,
   "metadata": {
    "deletable": false,
    "nbgrader": {
     "cell_type": "code",
     "checksum": "65a7ef878586617318b864559e4989e7",
     "grade": false,
     "grade_id": "cell-bc7e6d59f6a48ff4",
     "locked": false,
     "schema_version": 3,
     "solution": true
    }
   },
   "outputs": [],
   "source": [
    "# your code here\n",
    "fail() # No Answer - remove if you provide an answer\n",
    "cancer"
   ]
  },
  {
   "cell_type": "code",
   "execution_count": null,
   "metadata": {
    "deletable": false,
    "editable": false,
    "nbgrader": {
     "cell_type": "code",
     "checksum": "01b546620be4f8d7fef22b045bc9e002",
     "grade": true,
     "grade_id": "cell-b7dada2851cb2d39",
     "locked": true,
     "points": 1,
     "schema_version": 3,
     "solution": false
    }
   },
   "outputs": [],
   "source": [
    "library(digest)\n",
    "stopifnot(\"cancer should be a data frame\"= setequal(digest(paste(toString('data.frame' %in% class(cancer)), \"c4a8d\")), \"d081108ca44a88f07c20797e74758f17\"))\n",
    "stopifnot(\"dimensions of cancer are not correct\"= setequal(digest(paste(toString(dim(cancer)), \"c4a8d\")), \"737f7997e3da044f7b1f9d07e603e17b\"))\n",
    "stopifnot(\"column names of cancer are not correct\"= setequal(digest(paste(toString(sort(colnames(cancer))), \"c4a8d\")), \"b4c03993d3eba35d739921922ab90bfd\"))\n",
    "stopifnot(\"types of columns in cancer are not correct\"= setequal(digest(paste(toString(sort(unlist(sapply(cancer, class)))), \"c4a8d\")), \"c0d39ea4f3ea2c89d4b4db64ad910950\"))\n",
    "stopifnot(\"values in one or more numerical columns in cancer are not correct\"= setequal(digest(paste(toString(if (any(sapply(cancer, is.numeric))) sort(round(sapply(cancer[, sapply(cancer, is.numeric)], sum, na.rm = TRUE), 2)) else 0), \"c4a8d\")), \"ad40df6138ac872483c44d00834f2e50\"))\n",
    "stopifnot(\"values in one or more character columns in cancer are not correct\"= setequal(digest(paste(toString(if (any(sapply(cancer, is.character))) sum(sapply(cancer[sapply(cancer, is.character)], function(x) length(unique(x)))) else 0), \"c4a8d\")), \"0093b1b10e3e7219509712a7e3240dd2\"))\n",
    "stopifnot(\"values in one or more factor columns in cancer are not correct\"= setequal(digest(paste(toString(if (any(sapply(cancer, is.factor))) sum(sapply(cancer[, sapply(cancer, is.factor)], function(col) length(unique(col)))) else 0), \"c4a8d\")), \"d48e95474e0387d235edefa62b5ab257\"))\n",
    "\n",
    "print('Success!')"
   ]
  },
  {
   "cell_type": "markdown",
   "metadata": {
    "deletable": false,
    "editable": false,
    "nbgrader": {
     "cell_type": "markdown",
     "checksum": "0b289c3a680b43222969a1575aee755b",
     "grade": false,
     "grade_id": "cell-4abc7741b213ce9e",
     "locked": true,
     "schema_version": 3,
     "solution": false
    }
   },
   "source": [
    "**Question 1.1** True or False: \n",
    "<br> {points: 1}\n",
    "\n",
    "After looking at the first six rows of the `cancer` data fame, suppose we asked you to predict the variable \"area\" for a new observation. **Is this a classification problem?**\n",
    "\n",
    "*Assign your answer to an object called `answer1.1`. Make sure the correct answer is written in lower-case. Remember to surround your answer with quotation marks (e.g. \"true\" / \"false\").*"
   ]
  },
  {
   "cell_type": "code",
   "execution_count": null,
   "metadata": {
    "deletable": false,
    "nbgrader": {
     "cell_type": "code",
     "checksum": "21347ed72238270281b898dbbb561bed",
     "grade": false,
     "grade_id": "cell-787de50bba80be9c",
     "locked": false,
     "schema_version": 3,
     "solution": true
    }
   },
   "outputs": [],
   "source": [
    "# Replace the fail() with your answer. \n",
    "\n",
    "# your code here\n",
    "fail() # No Answer - remove if you provide an answer"
   ]
  },
  {
   "cell_type": "code",
   "execution_count": null,
   "metadata": {
    "deletable": false,
    "editable": false,
    "nbgrader": {
     "cell_type": "code",
     "checksum": "a3465fd0ac28c988b56e4b261c79f4c2",
     "grade": true,
     "grade_id": "cell-8c2ac2ec68bc2ef2",
     "locked": true,
     "points": 1,
     "schema_version": 3,
     "solution": false
    }
   },
   "outputs": [],
   "source": [
    "library(digest)\n",
    "stopifnot(\"type of answer1.1 is not character\"= setequal(digest(paste(toString(class(answer1.1)), \"d3ced\")), \"a279991fd55d4a12d2d38c7c9a04aae9\"))\n",
    "stopifnot(\"length of answer1.1 is not correct\"= setequal(digest(paste(toString(length(answer1.1)), \"d3ced\")), \"4bcb0f1404e642bf70c1e5f62538b416\"))\n",
    "stopifnot(\"value of answer1.1 is not correct\"= setequal(digest(paste(toString(tolower(answer1.1)), \"d3ced\")), \"7740a4aad24228289934ed26bd0ae69b\"))\n",
    "stopifnot(\"letters in string value of answer1.1 are correct but case is not correct\"= setequal(digest(paste(toString(answer1.1), \"d3ced\")), \"7740a4aad24228289934ed26bd0ae69b\"))\n",
    "\n",
    "print('Success!')"
   ]
  },
  {
   "cell_type": "markdown",
   "metadata": {
    "deletable": false,
    "editable": false,
    "nbgrader": {
     "cell_type": "markdown",
     "checksum": "c353e31004ab97699834e5be6b023229",
     "grade": false,
     "grade_id": "cell-c2d4e9762e35650a",
     "locked": true,
     "schema_version": 3,
     "solution": false,
     "task": false
    }
   },
   "source": [
    "We will be treating `Class` as a categorical variable, so we should convert it into a factor using the `as_factor()` function."
   ]
  },
  {
   "cell_type": "code",
   "execution_count": null,
   "metadata": {
    "deletable": false,
    "editable": false,
    "nbgrader": {
     "cell_type": "code",
     "checksum": "7c062bfeba7db7dc3f93d41dbea688d3",
     "grade": false,
     "grade_id": "cell-d7dd0e43119712d4",
     "locked": true,
     "schema_version": 3,
     "solution": false,
     "task": false
    }
   },
   "outputs": [],
   "source": [
    "# run this cell\n",
    "cancer <- cancer |>\n",
    "        mutate(Class = as_factor(Class))"
   ]
  },
  {
   "cell_type": "markdown",
   "metadata": {
    "deletable": false,
    "editable": false,
    "nbgrader": {
     "cell_type": "markdown",
     "checksum": "e6d11716f31d5beb94f1ea050fc2e455",
     "grade": false,
     "grade_id": "cell-d668650abd9bc1df",
     "locked": true,
     "schema_version": 3,
     "solution": false
    }
   },
   "source": [
    "**Question 1.2** \n",
    "<br> {points: 1}\n",
    "\n",
    "Create a scatterplot of the data with `Symmetry` on the x-axis and `Radius` on the y-axis. Modify your aesthetics by colouring for `Class`. As you create this plot, ensure you follow the guidelines for creating effective visualizations. In particular, note on the plot axes whether the data is standardized or not.\n",
    "\n",
    "*Assign your plot to an object called `cancer_plot`.*"
   ]
  },
  {
   "cell_type": "code",
   "execution_count": null,
   "metadata": {
    "deletable": false,
    "nbgrader": {
     "cell_type": "code",
     "checksum": "04c5213451ab2e34d28919dbd1e238af",
     "grade": false,
     "grade_id": "cell-6dadc99c524407f7",
     "locked": false,
     "schema_version": 3,
     "solution": true
    }
   },
   "outputs": [],
   "source": [
    "# your code here\n",
    "fail() # No Answer - remove if you provide an answer\n",
    "cancer_plot"
   ]
  },
  {
   "cell_type": "code",
   "execution_count": null,
   "metadata": {
    "deletable": false,
    "editable": false,
    "nbgrader": {
     "cell_type": "code",
     "checksum": "36e58402b46b0d12951697e4d275183b",
     "grade": true,
     "grade_id": "cell-82ee9aaeac954391",
     "locked": true,
     "points": 1,
     "schema_version": 3,
     "solution": false
    }
   },
   "outputs": [],
   "source": [
    "library(digest)\n",
    "stopifnot(\"type of plot is not correct (if you are using two types of geoms, try flipping the order of the geom objects!)\"= setequal(digest(paste(toString(sapply(seq_len(length(cancer_plot$layers)), function(i) {c(class(cancer_plot$layers[[i]]$geom))[1]})), \"85cff\")), \"b18be84520a480bd46188dc1eaccccb6\"))\n",
    "stopifnot(\"variable x is not correct\"= setequal(digest(paste(toString(unlist(lapply(sapply(seq_len(length(cancer_plot$layers)), function(i) {rlang::get_expr(c(cancer_plot$layers[[i]]$mapping, cancer_plot$mapping)$x)}), as.character))), \"85cff\")), \"9e763efc666a7633c313c144abfd7224\"))\n",
    "stopifnot(\"variable y is not correct\"= setequal(digest(paste(toString(unlist(lapply(sapply(seq_len(length(cancer_plot$layers)), function(i) {rlang::get_expr(c(cancer_plot$layers[[i]]$mapping, cancer_plot$mapping)$y)}), as.character))), \"85cff\")), \"1aa2c0e1459af5afa9cb12229f088220\"))\n",
    "stopifnot(\"x-axis label is not descriptive, nicely formatted, or human readable\"= setequal(digest(paste(toString(rlang::get_expr(c(cancer_plot$layers[[1]]$mapping, cancer_plot$mapping)$x)!= cancer_plot$labels$x), \"85cff\")), \"882a7d83262a62354f2819e61e8f5f45\"))\n",
    "stopifnot(\"y-axis label is not descriptive, nicely formatted, or human readable\"= setequal(digest(paste(toString(rlang::get_expr(c(cancer_plot$layers[[1]]$mapping, cancer_plot$mapping)$y)!= cancer_plot$labels$y), \"85cff\")), \"882a7d83262a62354f2819e61e8f5f45\"))\n",
    "stopifnot(\"incorrect colour variable in cancer_plot, specify a correct one if required\"= setequal(digest(paste(toString(rlang::get_expr(c(cancer_plot$layers[[1]]$mapping, cancer_plot$mapping)$colour)), \"85cff\")), \"b6c6550fede4f6cf3ec85ae1b71ea848\"))\n",
    "stopifnot(\"incorrect shape variable in cancer_plot, specify a correct one if required\"= setequal(digest(paste(toString(rlang::get_expr(c(cancer_plot$layers[[1]]$mapping, cancer_plot$mapping)$shape)), \"85cff\")), \"2654d819ef825f25a63f97412d475430\"))\n",
    "stopifnot(\"the colour label in cancer_plot is not descriptive, nicely formatted, or human readable\"= setequal(digest(paste(toString(rlang::get_expr(c(cancer_plot$layers[[1]]$mapping, cancer_plot$mapping)$colour) != cancer_plot$labels$colour), \"85cff\")), \"882a7d83262a62354f2819e61e8f5f45\"))\n",
    "stopifnot(\"the shape label in cancer_plot is not descriptive, nicely formatted, or human readable\"= setequal(digest(paste(toString(rlang::get_expr(c(cancer_plot$layers[[1]]$mapping, cancer_plot$mapping)$colour) != cancer_plot$labels$shape), \"85cff\")), \"2654d819ef825f25a63f97412d475430\"))\n",
    "stopifnot(\"fill variable in cancer_plot is not correct\"= setequal(digest(paste(toString(quo_name(cancer_plot$mapping$fill)), \"85cff\")), \"911c666ad8c85e7e2e360aa603b2ce72\"))\n",
    "stopifnot(\"fill label in cancer_plot is not informative\"= setequal(digest(paste(toString((quo_name(cancer_plot$mapping$fill) != cancer_plot$labels$fill)), \"85cff\")), \"2654d819ef825f25a63f97412d475430\"))\n",
    "stopifnot(\"position argument in cancer_plot is not correct\"= setequal(digest(paste(toString(class(cancer_plot$layers[[1]]$position)[1]), \"85cff\")), \"f39c6bd01864e5ebf99cb628fc8b4e32\"))\n",
    "\n",
    "stopifnot(\"cancer_plot$data should be a data frame\"= setequal(digest(paste(toString('data.frame' %in% class(cancer_plot$data)), \"85d00\")), \"1eea8e8a2864e257d9b15c4911d924f2\"))\n",
    "stopifnot(\"dimensions of cancer_plot$data are not correct\"= setequal(digest(paste(toString(dim(cancer_plot$data)), \"85d00\")), \"0e782a28a962e76e8aa4a8a92330fd9b\"))\n",
    "stopifnot(\"column names of cancer_plot$data are not correct\"= setequal(digest(paste(toString(sort(colnames(cancer_plot$data))), \"85d00\")), \"26ea06a5a6f725beb7c1cb44785940f9\"))\n",
    "stopifnot(\"types of columns in cancer_plot$data are not correct\"= setequal(digest(paste(toString(sort(unlist(sapply(cancer_plot$data, class)))), \"85d00\")), \"3ad05ea44c9d592c6de63b651926647e\"))\n",
    "stopifnot(\"values in one or more numerical columns in cancer_plot$data are not correct\"= setequal(digest(paste(toString(if (any(sapply(cancer_plot$data, is.numeric))) sort(round(sapply(cancer_plot$data[, sapply(cancer_plot$data, is.numeric)], sum, na.rm = TRUE), 2)) else 0), \"85d00\")), \"60e72454a3a7586283f61c482ea37d32\"))\n",
    "stopifnot(\"values in one or more character columns in cancer_plot$data are not correct\"= setequal(digest(paste(toString(if (any(sapply(cancer_plot$data, is.character))) sum(sapply(cancer_plot$data[sapply(cancer_plot$data, is.character)], function(x) length(unique(x)))) else 0), \"85d00\")), \"d35d656414c317b315a087dfad2bed09\"))\n",
    "stopifnot(\"values in one or more factor columns in cancer_plot$data are not correct\"= setequal(digest(paste(toString(if (any(sapply(cancer_plot$data, is.factor))) sum(sapply(cancer_plot$data[, sapply(cancer_plot$data, is.factor)], function(col) length(unique(col)))) else 0), \"85d00\")), \"1f31640b33e5185dc57c24e11f22eac1\"))\n",
    "\n",
    "print('Success!')"
   ]
  },
  {
   "cell_type": "markdown",
   "metadata": {
    "deletable": false,
    "editable": false,
    "nbgrader": {
     "cell_type": "markdown",
     "checksum": "54b4f9dec9cdf92c0c28c25c46015ea5",
     "grade": false,
     "grade_id": "cell-19b9839a8f31d445",
     "locked": true,
     "schema_version": 3,
     "solution": false
    }
   },
   "source": [
    "**Question 1.3** \n",
    "<br> {points: 1}\n",
    "\n",
    "Just by looking at the scatterplot above, how would you classify an observation with `Symmetry` = 1 and `Radius` = 1 (Benign or Malignant)?\n",
    "\n",
    "*Assign your answer to an object called `answer1.3`. Make sure the correct answer is written fully. Remember to surround your answer with quotation marks (e.g. \"Benign\" / \"Malignant\").*"
   ]
  },
  {
   "cell_type": "code",
   "execution_count": null,
   "metadata": {
    "deletable": false,
    "nbgrader": {
     "cell_type": "code",
     "checksum": "894ff5bcb88d933006669773c50977b0",
     "grade": false,
     "grade_id": "cell-4770d75e12811ba2",
     "locked": false,
     "schema_version": 3,
     "solution": true
    }
   },
   "outputs": [],
   "source": [
    "# Replace the fail() with your answer. \n",
    "\n",
    "# your code here\n",
    "fail() # No Answer - remove if you provide an answer"
   ]
  },
  {
   "cell_type": "code",
   "execution_count": null,
   "metadata": {
    "deletable": false,
    "editable": false,
    "nbgrader": {
     "cell_type": "code",
     "checksum": "7fbc82ee5bed46765e2bd088ed051b78",
     "grade": true,
     "grade_id": "cell-927ef1b1abe0452a",
     "locked": true,
     "points": 1,
     "schema_version": 3,
     "solution": false
    }
   },
   "outputs": [],
   "source": [
    "library(digest)\n",
    "stopifnot(\"type of answer1.3 is not character\"= setequal(digest(paste(toString(class(answer1.3)), \"7c5a9\")), \"5333e92bc51119d1079f73e58f9072ec\"))\n",
    "stopifnot(\"length of answer1.3 is not correct\"= setequal(digest(paste(toString(length(answer1.3)), \"7c5a9\")), \"2a6160a55a9ab56e654d7c765d9756a7\"))\n",
    "stopifnot(\"value of answer1.3 is not correct\"= setequal(digest(paste(toString(tolower(answer1.3)), \"7c5a9\")), \"18890912c4ed27f04eeae22e37050c2a\"))\n",
    "stopifnot(\"letters in string value of answer1.3 are correct but case is not correct\"= setequal(digest(paste(toString(answer1.3), \"7c5a9\")), \"d39ed7e864e722a509f9b31cb0361e86\"))\n",
    "\n",
    "print('Success!')"
   ]
  },
  {
   "cell_type": "markdown",
   "metadata": {
    "deletable": false,
    "editable": false,
    "nbgrader": {
     "cell_type": "markdown",
     "checksum": "b816acaf0886f8ad88d6839848de4920",
     "grade": false,
     "grade_id": "cell-042f2da9a72d7533",
     "locked": true,
     "schema_version": 3,
     "solution": false,
     "task": false
    }
   },
   "source": [
    "We will now compute the distance between the first and second observation in the breast cancer dataset using the explanatory variables/predictors `Symmetry` and `Radius`. Recall we can calculate the distance between two points using the following formula:\n",
    "\n",
    "$$Distance = \\sqrt{(a_x -b_x)^2 + (a_y - b_y)^2}$$"
   ]
  },
  {
   "cell_type": "markdown",
   "metadata": {
    "deletable": false,
    "editable": false,
    "nbgrader": {
     "cell_type": "markdown",
     "checksum": "4ed6abdeaea97eff84e1dc5976a42de8",
     "grade": false,
     "grade_id": "cell-6c27f7d3e70cb8f5",
     "locked": true,
     "schema_version": 3,
     "solution": false
    }
   },
   "source": [
    "**Question 1.4** \n",
    "<br> {points: 1}\n",
    "\n",
    "First, extract the coordinates for the two observations and assign them to objects called: \n",
    "\n",
    "- `ax` (Symmetry value for the first row)\n",
    "- `ay` (Radius value for the first row)\n",
    "- `bx` (Symmetry value for the second row)\n",
    "- `by` (Radius value for the second row).\n",
    "\n",
    "*Scaffolding for `ax` is given*.\n",
    "> Note we are using the function `pull()` because we want the numeric value (and object) as our output rather than a `tibble` type object so we can do calculations later on. You can verify the object type in R with the `class()` function. Check the class of `ax` with and without the `pull()` function and see what you get! "
   ]
  },
  {
   "cell_type": "code",
   "execution_count": null,
   "metadata": {
    "deletable": false,
    "nbgrader": {
     "cell_type": "code",
     "checksum": "bcb71e2d1158212cd4ea76e132821972",
     "grade": false,
     "grade_id": "cell-9aa7e3751578c8c5",
     "locked": false,
     "schema_version": 3,
     "solution": true
    }
   },
   "outputs": [],
   "source": [
    "#ax <- slice(cancer, 1) |> \n",
    "#    pull(Symmetry)\n",
    "\n",
    "# your code here\n",
    "fail() # No Answer - remove if you provide an answer"
   ]
  },
  {
   "cell_type": "code",
   "execution_count": null,
   "metadata": {
    "deletable": false,
    "editable": false,
    "nbgrader": {
     "cell_type": "code",
     "checksum": "235d84349210e458d23ebd9dfbe24f5b",
     "grade": true,
     "grade_id": "cell-1fdeb1307e96afd9",
     "locked": true,
     "points": 1,
     "schema_version": 3,
     "solution": false,
     "task": false
    }
   },
   "outputs": [],
   "source": [
    "library(digest)\n",
    "stopifnot(\"type of ax is not numeric\"= setequal(digest(paste(toString(class(ax)), \"cb08a\")), \"f4983b92ef966e356f0d95b732cfd943\"))\n",
    "stopifnot(\"value of ax is not correct (rounded to 2 decimal places)\"= setequal(digest(paste(toString(round(ax, 2)), \"cb08a\")), \"ac4bccacda57af4ec2d2feb6315aee26\"))\n",
    "stopifnot(\"length of ax is not correct\"= setequal(digest(paste(toString(length(ax)), \"cb08a\")), \"59c2d262903863dcdcf455b5377bdecd\"))\n",
    "stopifnot(\"values of ax are not correct\"= setequal(digest(paste(toString(sort(round(ax, 2))), \"cb08a\")), \"ac4bccacda57af4ec2d2feb6315aee26\"))\n",
    "\n",
    "stopifnot(\"type of ay is not numeric\"= setequal(digest(paste(toString(class(ay)), \"cb08b\")), \"9d4b9fc00b59dac47c1701e1c3502f58\"))\n",
    "stopifnot(\"value of ay is not correct (rounded to 2 decimal places)\"= setequal(digest(paste(toString(round(ay, 2)), \"cb08b\")), \"ba43631f124a3fd5c73270e3bc3670c6\"))\n",
    "stopifnot(\"length of ay is not correct\"= setequal(digest(paste(toString(length(ay)), \"cb08b\")), \"2b598c79c4f07e10e833bbf6f4d0a8f9\"))\n",
    "stopifnot(\"values of ay are not correct\"= setequal(digest(paste(toString(sort(round(ay, 2))), \"cb08b\")), \"ba43631f124a3fd5c73270e3bc3670c6\"))\n",
    "\n",
    "stopifnot(\"type of bx is not numeric\"= setequal(digest(paste(toString(class(bx)), \"cb08c\")), \"97235befde5d035655ce2afab1ffbe9a\"))\n",
    "stopifnot(\"value of bx is not correct (rounded to 2 decimal places)\"= setequal(digest(paste(toString(round(bx, 2)), \"cb08c\")), \"6c4c834a729cfdb7a1faf4f5794b9def\"))\n",
    "stopifnot(\"length of bx is not correct\"= setequal(digest(paste(toString(length(bx)), \"cb08c\")), \"b25b7cf3dcc7059f8a3f31f2dfe46c1d\"))\n",
    "stopifnot(\"values of bx are not correct\"= setequal(digest(paste(toString(sort(round(bx, 2))), \"cb08c\")), \"6c4c834a729cfdb7a1faf4f5794b9def\"))\n",
    "\n",
    "stopifnot(\"type of by is not numeric\"= setequal(digest(paste(toString(class(by)), \"cb08d\")), \"25d5cca6a93165d36013733581b3a966\"))\n",
    "stopifnot(\"value of by is not correct (rounded to 2 decimal places)\"= setequal(digest(paste(toString(round(by, 2)), \"cb08d\")), \"59f5e44115735f4e672a08a51bf53341\"))\n",
    "stopifnot(\"length of by is not correct\"= setequal(digest(paste(toString(length(by)), \"cb08d\")), \"97d540b6e7790822c25d54a9fb558c5c\"))\n",
    "stopifnot(\"values of by are not correct\"= setequal(digest(paste(toString(sort(round(by, 2))), \"cb08d\")), \"59f5e44115735f4e672a08a51bf53341\"))\n",
    "\n",
    "print('Success!')"
   ]
  },
  {
   "cell_type": "markdown",
   "metadata": {
    "deletable": false,
    "editable": false,
    "nbgrader": {
     "cell_type": "markdown",
     "checksum": "92535ba183eaaed6622d80a10854de4f",
     "grade": false,
     "grade_id": "cell-d3cdd3053b1b28f3",
     "locked": true,
     "schema_version": 3,
     "solution": false
    }
   },
   "source": [
    "**Question 1.5**\n",
    "<br> {points: 1}\n",
    "\n",
    "Plug the coordinates into the distance equation. \n",
    "\n",
    "*Assign your answer to an object called `answer1.5`.*\n",
    "\n",
    "Fill in the `...` in the cell below. Copy and paste your finished answer into the `fail()`."
   ]
  },
  {
   "cell_type": "code",
   "execution_count": null,
   "metadata": {
    "deletable": false,
    "nbgrader": {
     "cell_type": "code",
     "checksum": "e40a84e1fe7aefdf07011efb594e7bfb",
     "grade": false,
     "grade_id": "cell-df5b6355c3c1fb5e",
     "locked": false,
     "schema_version": 3,
     "solution": true
    }
   },
   "outputs": [],
   "source": [
    "#... <- sqrt((... - ...)^... + (... - ...)^...)\n",
    "\n",
    "# your code here\n",
    "fail() # No Answer - remove if you provide an answer\n",
    "answer1.5"
   ]
  },
  {
   "cell_type": "code",
   "execution_count": null,
   "metadata": {
    "deletable": false,
    "editable": false,
    "nbgrader": {
     "cell_type": "code",
     "checksum": "1e124575577e1c52d67963c89820d9a5",
     "grade": true,
     "grade_id": "cell-3d5f251a3d1cd4d4",
     "locked": true,
     "points": 1,
     "schema_version": 3,
     "solution": false
    }
   },
   "outputs": [],
   "source": [
    "library(digest)\n",
    "stopifnot(\"type of answer1.5 is not numeric\"= setequal(digest(paste(toString(class(answer1.5)), \"22c65\")), \"6391720009066d0f7aec4df232a9008c\"))\n",
    "stopifnot(\"value of answer1.5 is not correct (rounded to 2 decimal places)\"= setequal(digest(paste(toString(round(answer1.5, 2)), \"22c65\")), \"7ede1c16ae684208e3fc5640e0a01c66\"))\n",
    "stopifnot(\"length of answer1.5 is not correct\"= setequal(digest(paste(toString(length(answer1.5)), \"22c65\")), \"f5f7175b23b5633cdc0f83e38d7afa29\"))\n",
    "stopifnot(\"values of answer1.5 are not correct\"= setequal(digest(paste(toString(sort(round(answer1.5, 2))), \"22c65\")), \"7ede1c16ae684208e3fc5640e0a01c66\"))\n",
    "\n",
    "print('Success!')"
   ]
  },
  {
   "cell_type": "markdown",
   "metadata": {
    "deletable": false,
    "editable": false,
    "nbgrader": {
     "cell_type": "markdown",
     "checksum": "f97eda350646901484a2e8c9babff547",
     "grade": false,
     "grade_id": "cell-7497aeecdc763d29",
     "locked": true,
     "schema_version": 3,
     "solution": false
    }
   },
   "source": [
    "**Question 1.6**\n",
    "<br> {points: 1}\n",
    "\n",
    "Now we'll do the same thing *with 3 explanatory variables/predictors*: `Symmetry`, `Radius` and `Concavity`. Again, use the first two rows in the data set as the points you are calculating the distance between (point $a$ is row 1, and point $b$ is row 2).\n",
    "\n",
    "\n",
    "Find the coordinates for the third variable (Concavity) and assign them to objects called `az` and `bz`. Use the scaffolding given in **Question 1.4** as a guide."
   ]
  },
  {
   "cell_type": "code",
   "execution_count": null,
   "metadata": {
    "deletable": false,
    "nbgrader": {
     "cell_type": "code",
     "checksum": "44723fdbe958ca8e67f0d607d86f6d0d",
     "grade": false,
     "grade_id": "cell-2eaff08bf3baaeb4",
     "locked": false,
     "schema_version": 3,
     "solution": true
    }
   },
   "outputs": [],
   "source": [
    "# your code here\n",
    "fail() # No Answer - remove if you provide an answer"
   ]
  },
  {
   "cell_type": "code",
   "execution_count": null,
   "metadata": {
    "deletable": false,
    "editable": false,
    "nbgrader": {
     "cell_type": "code",
     "checksum": "8774eb4ef22c8d5893ca9c811a555ee2",
     "grade": true,
     "grade_id": "cell-4944fdeee6a1485f",
     "locked": true,
     "points": 1,
     "schema_version": 3,
     "solution": false
    }
   },
   "outputs": [],
   "source": [
    "library(digest)\n",
    "stopifnot(\"type of az is not numeric\"= setequal(digest(paste(toString(class(az)), \"bf507\")), \"e000b4a3af80cb8ff41a8a22658b5064\"))\n",
    "stopifnot(\"value of az is not correct (rounded to 2 decimal places)\"= setequal(digest(paste(toString(round(az, 2)), \"bf507\")), \"ac34ebdb42062fc401a0825edec03d81\"))\n",
    "stopifnot(\"length of az is not correct\"= setequal(digest(paste(toString(length(az)), \"bf507\")), \"1024f9ce93c168f548ad6831596a1794\"))\n",
    "stopifnot(\"values of az are not correct\"= setequal(digest(paste(toString(sort(round(az, 2))), \"bf507\")), \"ac34ebdb42062fc401a0825edec03d81\"))\n",
    "\n",
    "stopifnot(\"type of bz is not numeric\"= setequal(digest(paste(toString(class(bz)), \"bf508\")), \"31793f4428283c7cc8997c847362f780\"))\n",
    "stopifnot(\"value of bz is not correct (rounded to 2 decimal places)\"= setequal(digest(paste(toString(round(bz, 2)), \"bf508\")), \"6921997f9868eb6e0e24b646db9891fa\"))\n",
    "stopifnot(\"length of bz is not correct\"= setequal(digest(paste(toString(length(bz)), \"bf508\")), \"f9996ae2fe8a2e422f87693ae510e02b\"))\n",
    "stopifnot(\"values of bz are not correct\"= setequal(digest(paste(toString(sort(round(bz, 2))), \"bf508\")), \"6921997f9868eb6e0e24b646db9891fa\"))\n",
    "\n",
    "print('Success!')"
   ]
  },
  {
   "cell_type": "markdown",
   "metadata": {
    "deletable": false,
    "editable": false,
    "nbgrader": {
     "cell_type": "markdown",
     "checksum": "d9f562a5491873d6c04479f37a44b5f0",
     "grade": false,
     "grade_id": "cell-a2b93620a52ffd2b",
     "locked": true,
     "schema_version": 3,
     "solution": false
    }
   },
   "source": [
    "**Question 1.7**\n",
    "<br> {points: 1}\n",
    "\n",
    "Again, calculate the distance between the first and second observation in the breast cancer dataset using 3 explanatory variables/predictors: `Symmetry`, `Radius` and `Concavity`.\n",
    "\n",
    "*Assign your answer to an object called `answer1.7`. Use the scaffolding given to calculate `answer1.5` as a guide.*"
   ]
  },
  {
   "cell_type": "code",
   "execution_count": null,
   "metadata": {
    "deletable": false,
    "nbgrader": {
     "cell_type": "code",
     "checksum": "8501c8e415fff47f8c1b1fec589e7dd6",
     "grade": false,
     "grade_id": "cell-7cee650ed7204a98",
     "locked": false,
     "schema_version": 3,
     "solution": true
    }
   },
   "outputs": [],
   "source": [
    "# your code here\n",
    "fail() # No Answer - remove if you provide an answer\n",
    "answer1.7"
   ]
  },
  {
   "cell_type": "code",
   "execution_count": null,
   "metadata": {
    "deletable": false,
    "editable": false,
    "nbgrader": {
     "cell_type": "code",
     "checksum": "7e432938e86dd1a238ac4ce97fae6303",
     "grade": true,
     "grade_id": "cell-e5b8f9dc0531ad16",
     "locked": true,
     "points": 1,
     "schema_version": 3,
     "solution": false,
     "task": false
    }
   },
   "outputs": [],
   "source": [
    "library(digest)\n",
    "stopifnot(\"type of answer1.7 is not numeric\"= setequal(digest(paste(toString(class(answer1.7)), \"4723f\")), \"68d094b8bd068614ff653e0dd9e2fe4a\"))\n",
    "stopifnot(\"value of answer1.7 is not correct (rounded to 2 decimal places)\"= setequal(digest(paste(toString(round(answer1.7, 2)), \"4723f\")), \"ded652bcb48ade450d80a82be7b16461\"))\n",
    "stopifnot(\"length of answer1.7 is not correct\"= setequal(digest(paste(toString(length(answer1.7)), \"4723f\")), \"c8853d6912be508208fb838e49e892e2\"))\n",
    "stopifnot(\"values of answer1.7 are not correct\"= setequal(digest(paste(toString(sort(round(answer1.7, 2))), \"4723f\")), \"ded652bcb48ade450d80a82be7b16461\"))\n",
    "\n",
    "print('Success!')"
   ]
  },
  {
   "cell_type": "markdown",
   "metadata": {
    "deletable": false,
    "editable": false,
    "nbgrader": {
     "cell_type": "markdown",
     "checksum": "5a70110ed24c15e37859bb15e29ba92c",
     "grade": false,
     "grade_id": "cell-eab0518c6e0ee567",
     "locked": true,
     "schema_version": 3,
     "solution": false
    }
   },
   "source": [
    "**Question 1.8**\n",
    "<br> {points: 1}\n",
    "\n",
    "Let's do this without explicitly making coordinate variables!\n",
    "\n",
    "Create a vector of the coordinates for each point. Name one vector `point_a` and the other vector `point_b`. Within the vector, the order of coordinates should be: `Symmetry`, `Radius`, `Concavity`.\n",
    "\n",
    "Fill in the `...` in the cell below. Copy and paste your finished answer into the `fail()`.\n",
    "\n",
    "\n",
    "> Here will use `select` and `as.numeric` instead of `pull` because we need to get the numeric values of 3 columns. `pull`, that we used previously, only works to extract the numeric values from a single column."
   ]
  },
  {
   "cell_type": "code",
   "execution_count": null,
   "metadata": {
    "deletable": false,
    "nbgrader": {
     "cell_type": "code",
     "checksum": "b9b3292de05c8ce22854484b9b4ecaa3",
     "grade": false,
     "grade_id": "cell-78df392f18904edd",
     "locked": false,
     "schema_version": 3,
     "solution": true
    }
   },
   "outputs": [],
   "source": [
    "# This is only the scaffolding for one vector \n",
    "# You need to make another one for row number 2!\n",
    "\n",
    "#... <- slice(cancer, 1) |>\n",
    "#    select(..., Radius, ...) |>\n",
    "#    as.numeric()\n",
    "\n",
    "\n",
    "# your code here\n",
    "fail() # No Answer - remove if you provide an answer\n",
    "point_a\n",
    "point_b"
   ]
  },
  {
   "cell_type": "code",
   "execution_count": null,
   "metadata": {
    "deletable": false,
    "editable": false,
    "nbgrader": {
     "cell_type": "code",
     "checksum": "9f2fbae45767820b6b2939b02edfba1b",
     "grade": true,
     "grade_id": "cell-a8e23b91d69de919",
     "locked": true,
     "points": 1,
     "schema_version": 3,
     "solution": false,
     "task": false
    }
   },
   "outputs": [],
   "source": [
    "library(digest)\n",
    "stopifnot(\"type of point_a is not numeric\"= setequal(digest(paste(toString(class(point_a)), \"74749\")), \"6210245d4752351b8df4b78cdfcd0812\"))\n",
    "stopifnot(\"value of point_a is not correct (rounded to 2 decimal places)\"= setequal(digest(paste(toString(round(point_a, 2)), \"74749\")), \"f1aa29280432618315eaa7e171c4174b\"))\n",
    "stopifnot(\"length of point_a is not correct\"= setequal(digest(paste(toString(length(point_a)), \"74749\")), \"6924b3e2375d119d68aae266016cab06\"))\n",
    "stopifnot(\"values of point_a are not correct\"= setequal(digest(paste(toString(sort(round(point_a, 2))), \"74749\")), \"b9cc59d275cd3c4dd376615cbfc6ad10\"))\n",
    "\n",
    "stopifnot(\"type of point_b is not numeric\"= setequal(digest(paste(toString(class(point_b)), \"7474a\")), \"66414709e3cef9f47766cd0343a817ee\"))\n",
    "stopifnot(\"value of point_b is not correct (rounded to 2 decimal places)\"= setequal(digest(paste(toString(round(point_b, 2)), \"7474a\")), \"376a4eadf4d50a5b1b3f68be78f6fc3e\"))\n",
    "stopifnot(\"length of point_b is not correct\"= setequal(digest(paste(toString(length(point_b)), \"7474a\")), \"343b4fa52ba40d4a2cfbe8c765c8d244\"))\n",
    "stopifnot(\"values of point_b are not correct\"= setequal(digest(paste(toString(sort(round(point_b, 2))), \"7474a\")), \"b7c640fb021d560e565e521696d8a667\"))\n",
    "\n",
    "print('Success!')"
   ]
  },
  {
   "cell_type": "markdown",
   "metadata": {
    "deletable": false,
    "editable": false,
    "nbgrader": {
     "cell_type": "markdown",
     "checksum": "e4f1502bf11d46a03d9cfc4fa31a216c",
     "grade": false,
     "grade_id": "cell-c5b5b0129c7b8e60",
     "locked": true,
     "schema_version": 3,
     "solution": false
    }
   },
   "source": [
    "**Question 1.9**\n",
    "<br> {points: 1}\n",
    "\n",
    "Compute the squared differences between the two vectors, `point_a` and `point_b`. The result should be a vector of length 3 named `dif_square`. *Hint: `^` is the exponent symbol in R.*"
   ]
  },
  {
   "cell_type": "code",
   "execution_count": null,
   "metadata": {
    "deletable": false,
    "nbgrader": {
     "cell_type": "code",
     "checksum": "3becacd8964a71611ca273094286b9dc",
     "grade": false,
     "grade_id": "cell-8244086b2edb3999",
     "locked": false,
     "schema_version": 3,
     "solution": true
    }
   },
   "outputs": [],
   "source": [
    "# your code here\n",
    "fail() # No Answer - remove if you provide an answer\n",
    "dif_square"
   ]
  },
  {
   "cell_type": "code",
   "execution_count": null,
   "metadata": {
    "deletable": false,
    "editable": false,
    "nbgrader": {
     "cell_type": "code",
     "checksum": "f8765c4d57638351aba92b2463eead94",
     "grade": true,
     "grade_id": "cell-fb099b82bbaac1f5",
     "locked": true,
     "points": 1,
     "schema_version": 3,
     "solution": false
    }
   },
   "outputs": [],
   "source": [
    "library(digest)\n",
    "stopifnot(\"type of dif_square is not numeric\"= setequal(digest(paste(toString(class(dif_square)), \"1fbfe\")), \"866d05f062ce005fdf53ce6ebda3d07b\"))\n",
    "stopifnot(\"value of dif_square is not correct (rounded to 2 decimal places)\"= setequal(digest(paste(toString(round(dif_square, 2)), \"1fbfe\")), \"79eee7914821d1469cf87532c4437f93\"))\n",
    "stopifnot(\"length of dif_square is not correct\"= setequal(digest(paste(toString(length(dif_square)), \"1fbfe\")), \"54f37d98d886797e55e4b96230e5e28f\"))\n",
    "stopifnot(\"values of dif_square are not correct\"= setequal(digest(paste(toString(sort(round(dif_square, 2))), \"1fbfe\")), \"746e5f26b74a912a7a3a077ab451832d\"))\n",
    "\n",
    "print('Success!')"
   ]
  },
  {
   "cell_type": "markdown",
   "metadata": {
    "deletable": false,
    "editable": false,
    "nbgrader": {
     "cell_type": "markdown",
     "checksum": "22566595da6bec7a48cfcc94c2636b8a",
     "grade": false,
     "grade_id": "cell-2f2f6160dfde75a1",
     "locked": true,
     "schema_version": 3,
     "solution": false
    }
   },
   "source": [
    "**Question 1.9.1**\n",
    "<br> {points: 1}\n",
    "\n",
    "Sum the squared differences between the two vectors, `point_a` and `point_b`. The result should be a single number named `dif_sum`. \n",
    "\n",
    "*Hint: the `sum` function in R returns the sum of the elements of a vector*"
   ]
  },
  {
   "cell_type": "code",
   "execution_count": null,
   "metadata": {
    "deletable": false,
    "nbgrader": {
     "cell_type": "code",
     "checksum": "826fa9e775b31d82ccf8f26f81ac1c14",
     "grade": false,
     "grade_id": "cell-86ab5cef9257a578",
     "locked": false,
     "schema_version": 3,
     "solution": true
    }
   },
   "outputs": [],
   "source": [
    "# your code here\n",
    "fail() # No Answer - remove if you provide an answer\n",
    "dif_sum"
   ]
  },
  {
   "cell_type": "code",
   "execution_count": null,
   "metadata": {
    "deletable": false,
    "editable": false,
    "nbgrader": {
     "cell_type": "code",
     "checksum": "80fdbd944d9c11d7026de70cc2ff3ad2",
     "grade": true,
     "grade_id": "cell-629beff90c931f51",
     "locked": true,
     "points": 1,
     "schema_version": 3,
     "solution": false
    }
   },
   "outputs": [],
   "source": [
    "library(digest)\n",
    "stopifnot(\"type of dif_sum is not numeric\"= setequal(digest(paste(toString(class(dif_sum)), \"7f526\")), \"1494397f69b373175b5f9c1451665709\"))\n",
    "stopifnot(\"value of dif_sum is not correct (rounded to 2 decimal places)\"= setequal(digest(paste(toString(round(dif_sum, 2)), \"7f526\")), \"b90fa395fb99296c634f14f1a5e856ad\"))\n",
    "stopifnot(\"length of dif_sum is not correct\"= setequal(digest(paste(toString(length(dif_sum)), \"7f526\")), \"c04eb49185df26afe1c53ff823769ee5\"))\n",
    "stopifnot(\"values of dif_sum are not correct\"= setequal(digest(paste(toString(sort(round(dif_sum, 2))), \"7f526\")), \"b90fa395fb99296c634f14f1a5e856ad\"))\n",
    "\n",
    "print('Success!')"
   ]
  },
  {
   "cell_type": "markdown",
   "metadata": {
    "deletable": false,
    "editable": false,
    "nbgrader": {
     "cell_type": "markdown",
     "checksum": "ad93dfdf879be496d3e5b6d7d2619ba2",
     "grade": false,
     "grade_id": "cell-7e182c22fa4eec69",
     "locked": true,
     "schema_version": 3,
     "solution": false
    }
   },
   "source": [
    "**Question 1.9.2**\n",
    "<br> {points: 1}\n",
    "\n",
    "Square root the sum of your squared differences. The result should be a double named `root_dif_sum`. "
   ]
  },
  {
   "cell_type": "code",
   "execution_count": null,
   "metadata": {
    "deletable": false,
    "nbgrader": {
     "cell_type": "code",
     "checksum": "0b3f037f192d914942a825c227e0cc4d",
     "grade": false,
     "grade_id": "cell-660055c1546fc78c",
     "locked": false,
     "schema_version": 3,
     "solution": true
    }
   },
   "outputs": [],
   "source": [
    "# your code here\n",
    "fail() # No Answer - remove if you provide an answer\n",
    "root_dif_sum"
   ]
  },
  {
   "cell_type": "code",
   "execution_count": null,
   "metadata": {
    "deletable": false,
    "editable": false,
    "nbgrader": {
     "cell_type": "code",
     "checksum": "2a004dc478a80aa6ce54d186f297a075",
     "grade": true,
     "grade_id": "cell-d144868a6cbc8b3f",
     "locked": true,
     "points": 1,
     "schema_version": 3,
     "solution": false
    }
   },
   "outputs": [],
   "source": [
    "library(digest)\n",
    "stopifnot(\"type of root_dif_sum is not numeric\"= setequal(digest(paste(toString(class(root_dif_sum)), \"b40ef\")), \"c735f553f2207aa9c15cf9cc60368a17\"))\n",
    "stopifnot(\"value of root_dif_sum is not correct (rounded to 2 decimal places)\"= setequal(digest(paste(toString(round(root_dif_sum, 2)), \"b40ef\")), \"08f497e3d091d3930974bfd194aa915c\"))\n",
    "stopifnot(\"length of root_dif_sum is not correct\"= setequal(digest(paste(toString(length(root_dif_sum)), \"b40ef\")), \"a685e85fa7210702775cc497da752ee4\"))\n",
    "stopifnot(\"values of root_dif_sum are not correct\"= setequal(digest(paste(toString(sort(round(root_dif_sum, 2))), \"b40ef\")), \"08f497e3d091d3930974bfd194aa915c\"))\n",
    "\n",
    "print('Success!')"
   ]
  },
  {
   "cell_type": "markdown",
   "metadata": {
    "deletable": false,
    "editable": false,
    "nbgrader": {
     "cell_type": "markdown",
     "checksum": "edd93df8b5460ba061b638288be72c7f",
     "grade": false,
     "grade_id": "cell-fe94f79e97960c76",
     "locked": true,
     "schema_version": 3,
     "solution": false
    }
   },
   "source": [
    "**Question 1.9.3**\n",
    "<br> {points: 1}\n",
    "\n",
    "If we have more than a few points, calculating distances as we did in the previous questions is VERY tedious. Let's use the `dist()` function to find the distance between the first and second observation in the breast cancer dataset using Symmetry, Radius and Concavity. \n",
    "\n",
    "Fill in the `...` in the cell below. Copy and paste your finished answer into the `fail()`.\n",
    "\n",
    "*Assign your answer to an object called `dist_cancer_two_rows`.*"
   ]
  },
  {
   "cell_type": "code",
   "execution_count": null,
   "metadata": {
    "deletable": false,
    "nbgrader": {
     "cell_type": "code",
     "checksum": "20fcc86f58140ed215a2760cffe044ff",
     "grade": false,
     "grade_id": "cell-49a6780a9752e7d0",
     "locked": false,
     "schema_version": 3,
     "solution": true
    }
   },
   "outputs": [],
   "source": [
    "# ... <- cancer  |> \n",
    "#    slice(1,2)  |> \n",
    "#    select(..., ..., Concavity)  |> \n",
    "#    dist()\n",
    "\n",
    "# your code here\n",
    "fail() # No Answer - remove if you provide an answer\n",
    "dist_cancer_two_rows"
   ]
  },
  {
   "cell_type": "code",
   "execution_count": null,
   "metadata": {
    "deletable": false,
    "editable": false,
    "nbgrader": {
     "cell_type": "code",
     "checksum": "3411c09976c3e4719faf9320b24166f4",
     "grade": true,
     "grade_id": "cell-657a6cc18a3bf8ce",
     "locked": true,
     "points": 1,
     "schema_version": 3,
     "solution": false
    }
   },
   "outputs": [],
   "source": [
    "library(digest)\n",
    "stopifnot(\"type of dist_cancer_two_rows[1] is not numeric\"= setequal(digest(paste(toString(class(dist_cancer_two_rows[1])), \"70ddf\")), \"00689b1cb6e8ea08105072b645e8bf8b\"))\n",
    "stopifnot(\"value of dist_cancer_two_rows[1] is not correct (rounded to 2 decimal places)\"= setequal(digest(paste(toString(round(dist_cancer_two_rows[1], 2)), \"70ddf\")), \"249348b52b6617a16ad83e46fbab56a5\"))\n",
    "stopifnot(\"length of dist_cancer_two_rows[1] is not correct\"= setequal(digest(paste(toString(length(dist_cancer_two_rows[1])), \"70ddf\")), \"7eaff3b11b4bebf35bee530e15b4240e\"))\n",
    "stopifnot(\"values of dist_cancer_two_rows[1] are not correct\"= setequal(digest(paste(toString(sort(round(dist_cancer_two_rows[1], 2))), \"70ddf\")), \"249348b52b6617a16ad83e46fbab56a5\"))\n",
    "\n",
    "print('Success!')"
   ]
  },
  {
   "cell_type": "markdown",
   "metadata": {
    "deletable": false,
    "editable": false,
    "nbgrader": {
     "cell_type": "markdown",
     "checksum": "7c9363811fc4cd7a01049eac2a193f8c",
     "grade": false,
     "grade_id": "cell-d2b6719023a2ec78",
     "locked": true,
     "schema_version": 3,
     "solution": false
    }
   },
   "source": [
    "**Question 1.9.4** True or False: \n",
    "<br> {points: 1}\n",
    "\n",
    "Compare `answer1.7`, `root_dif_sum`, and `dist_cancer_two_rows`. \n",
    "\n",
    "**Are they all the same value?** \n",
    "\n",
    "*Assign your answer to an object called `answer1.9.4`. Make sure the correct answer is written in lower-case. Remember to surround your answer with quotation marks (e.g. \"true\" / \"false\").*\n",
    "\n",
    "*Hint: the `sqrt` function in R returns the square root of an element*"
   ]
  },
  {
   "cell_type": "code",
   "execution_count": null,
   "metadata": {
    "deletable": false,
    "nbgrader": {
     "cell_type": "code",
     "checksum": "e4edd1f640ccbcffda59f412af7a602c",
     "grade": false,
     "grade_id": "cell-083ba5d559495244",
     "locked": false,
     "schema_version": 3,
     "solution": true
    }
   },
   "outputs": [],
   "source": [
    "# Replace the fail() with your answer. \n",
    "\n",
    "# your code here\n",
    "fail() # No Answer - remove if you provide an answer"
   ]
  },
  {
   "cell_type": "code",
   "execution_count": null,
   "metadata": {
    "deletable": false,
    "editable": false,
    "nbgrader": {
     "cell_type": "code",
     "checksum": "35fc6c6c490246c28594c57ff82e72b3",
     "grade": true,
     "grade_id": "cell-15ea031e7e016f14",
     "locked": true,
     "points": 1,
     "schema_version": 3,
     "solution": false
    }
   },
   "outputs": [],
   "source": [
    "library(digest)\n",
    "stopifnot(\"type of answer1.9.4 is not character\"= setequal(digest(paste(toString(class(answer1.9.4)), \"81954\")), \"329cde33b904968e1958591f6352f494\"))\n",
    "stopifnot(\"length of answer1.9.4 is not correct\"= setequal(digest(paste(toString(length(answer1.9.4)), \"81954\")), \"d3b6ce27e8a684bce64157b1547405bc\"))\n",
    "stopifnot(\"value of answer1.9.4 is not correct\"= setequal(digest(paste(toString(tolower(answer1.9.4)), \"81954\")), \"9dc46159aea5641f00bac1d5bb4519fc\"))\n",
    "stopifnot(\"letters in string value of answer1.9.4 are correct but case is not correct\"= setequal(digest(paste(toString(answer1.9.4), \"81954\")), \"9dc46159aea5641f00bac1d5bb4519fc\"))\n",
    "\n",
    "print('Success!')"
   ]
  },
  {
   "cell_type": "markdown",
   "metadata": {
    "deletable": false,
    "editable": false,
    "nbgrader": {
     "cell_type": "markdown",
     "checksum": "2a5a357af4f54afdcab1458cf67014bf",
     "grade": false,
     "grade_id": "cell-098264eb921f8d92",
     "locked": true,
     "schema_version": 3,
     "solution": false
    }
   },
   "source": [
    "## 2. Classification - A Simple Example Done Manually\n",
    "\n",
    "**Question 2.0.0**\n",
    "<br> {points: 1}\n",
    "\n",
    "Let's take a random sample of 5 observations from the breast cancer dataset using the `slice_sample` function. To make this random sample reproducible, we will use `set.seed(20)`. This means that the random number generator will start at the same point each time when we run the code and we will always get back the same random samples. \n",
    "\n",
    "We will focus on the predictors Symmetry and Radius only. Thus, we will need to select the columns `Symmetry` and `Radius` and `Class`. Save these 5 rows and 3 columns to a data frame named `small_sample`.\n",
    "\n",
    "Fill in the `...` in the scaffolding provided below."
   ]
  },
  {
   "cell_type": "code",
   "execution_count": null,
   "metadata": {
    "deletable": false,
    "nbgrader": {
     "cell_type": "code",
     "checksum": "3673c4f52d2990bfcf1cf66e162b4ac2",
     "grade": false,
     "grade_id": "cell-42f7c13ee9d9b055",
     "locked": false,
     "schema_version": 3,
     "solution": true,
     "task": false
    }
   },
   "outputs": [],
   "source": [
    "#set.seed(20)                           \n",
    "#... <- cancer |> \n",
    "#    slice_sample(n = ...) |>  \n",
    "#    select(...) \n",
    "\n",
    "# your code here\n",
    "fail() # No Answer - remove if you provide an answer"
   ]
  },
  {
   "cell_type": "code",
   "execution_count": null,
   "metadata": {
    "deletable": false,
    "editable": false,
    "nbgrader": {
     "cell_type": "code",
     "checksum": "87d207c0dad9bc4295dcb9628d2d532f",
     "grade": true,
     "grade_id": "cell-48197ca917cfaeb9",
     "locked": true,
     "points": 1,
     "schema_version": 3,
     "solution": false,
     "task": false
    }
   },
   "outputs": [],
   "source": [
    "library(digest)\n",
    "stopifnot(\"small_sample should be a data frame\"= setequal(digest(paste(toString('data.frame' %in% class(small_sample)), \"6f4ef\")), \"9f87d72229dfb8b63b40f25e54ca8070\"))\n",
    "stopifnot(\"dimensions of small_sample are not correct\"= setequal(digest(paste(toString(dim(small_sample)), \"6f4ef\")), \"65237cfa193b02282f48c3eb0cc73a35\"))\n",
    "stopifnot(\"column names of small_sample are not correct\"= setequal(digest(paste(toString(sort(colnames(small_sample))), \"6f4ef\")), \"50bf59150a3c53d8f35360f1c54ffee4\"))\n",
    "stopifnot(\"types of columns in small_sample are not correct\"= setequal(digest(paste(toString(sort(unlist(sapply(small_sample, class)))), \"6f4ef\")), \"8f92ae12af9a1fd0add6c21e4ae67ed6\"))\n",
    "stopifnot(\"values in one or more numerical columns in small_sample are not correct\"= setequal(digest(paste(toString(if (any(sapply(small_sample, is.numeric))) sort(round(sapply(small_sample[, sapply(small_sample, is.numeric)], sum, na.rm = TRUE), 2)) else 0), \"6f4ef\")), \"c6c3a45307d96f289face098fec4ea1b\"))\n",
    "stopifnot(\"values in one or more character columns in small_sample are not correct\"= setequal(digest(paste(toString(if (any(sapply(small_sample, is.character))) sum(sapply(small_sample[sapply(small_sample, is.character)], function(x) length(unique(x)))) else 0), \"6f4ef\")), \"908a39689b55909abe2080b94e627dc4\"))\n",
    "stopifnot(\"values in one or more factor columns in small_sample are not correct\"= setequal(digest(paste(toString(if (any(sapply(small_sample, is.factor))) sum(sapply(small_sample[, sapply(small_sample, is.factor)], function(col) length(unique(col)))) else 0), \"6f4ef\")), \"62e81bd8b0eae393d3210487a9fbdf28\"))\n",
    "\n",
    "print('Success!')"
   ]
  },
  {
   "cell_type": "markdown",
   "metadata": {
    "deletable": false,
    "editable": false,
    "nbgrader": {
     "cell_type": "markdown",
     "checksum": "65b09d6f593ddda5c29ebd46f486d0ac",
     "grade": false,
     "grade_id": "cell-d85472a31a22f709",
     "locked": true,
     "schema_version": 3,
     "solution": false,
     "task": false
    }
   },
   "source": [
    "**Question 2.0.1**\n",
    "<br> {points: 1}\n",
    "\n",
    "Finally, create a scatter plot where `Symmetry` is on the x-axis, and `Radius` is on the y-axis. Color the points by `Class`. Name your plot `small_sample_plot`.\n",
    "\n",
    "Fill in the `...` in the scaffolding provided below.\n",
    "\n",
    "As you create this plot, ensure you follow the guidelines for creating effective visualizations. In particular, note on the plot axes whether the data is standardized or not."
   ]
  },
  {
   "cell_type": "code",
   "execution_count": null,
   "metadata": {
    "deletable": false,
    "nbgrader": {
     "cell_type": "code",
     "checksum": "705fc2c7f37879334185164f192714a6",
     "grade": false,
     "grade_id": "cell-7b3aa8c412086b6a",
     "locked": false,
     "schema_version": 3,
     "solution": true
    }
   },
   "outputs": [],
   "source": [
    "#... <- ...|>   \n",
    "#    ggplot(...) + \n",
    "#        geom_...() +\n",
    "#        ...\n",
    "\n",
    "# your code here\n",
    "fail() # No Answer - remove if you provide an answer\n",
    "small_sample_plot"
   ]
  },
  {
   "cell_type": "code",
   "execution_count": null,
   "metadata": {
    "deletable": false,
    "editable": false,
    "nbgrader": {
     "cell_type": "code",
     "checksum": "c45dfc28b7e4dd6d37a591f4fa8eff6c",
     "grade": true,
     "grade_id": "cell-c224b6ae53340848",
     "locked": true,
     "points": 1,
     "schema_version": 3,
     "solution": false
    }
   },
   "outputs": [],
   "source": [
    "library(digest)\n",
    "stopifnot(\"type of plot is not correct (if you are using two types of geoms, try flipping the order of the geom objects!)\"= setequal(digest(paste(toString(sapply(seq_len(length(small_sample_plot$layers)), function(i) {c(class(small_sample_plot$layers[[i]]$geom))[1]})), \"215c2\")), \"2fefbb8ee5db9a4a89370fbc2cbb571e\"))\n",
    "stopifnot(\"variable x is not correct\"= setequal(digest(paste(toString(unlist(lapply(sapply(seq_len(length(small_sample_plot$layers)), function(i) {rlang::get_expr(c(small_sample_plot$layers[[i]]$mapping, small_sample_plot$mapping)$x)}), as.character))), \"215c2\")), \"214362ed206ba392a4c5db7c447bdda7\"))\n",
    "stopifnot(\"variable y is not correct\"= setequal(digest(paste(toString(unlist(lapply(sapply(seq_len(length(small_sample_plot$layers)), function(i) {rlang::get_expr(c(small_sample_plot$layers[[i]]$mapping, small_sample_plot$mapping)$y)}), as.character))), \"215c2\")), \"d7b53339b1b8ec658c563f2afca03f86\"))\n",
    "stopifnot(\"x-axis label is not descriptive, nicely formatted, or human readable\"= setequal(digest(paste(toString(rlang::get_expr(c(small_sample_plot$layers[[1]]$mapping, small_sample_plot$mapping)$x)!= small_sample_plot$labels$x), \"215c2\")), \"75f608ac4d76dd5d4877e77650b962a4\"))\n",
    "stopifnot(\"y-axis label is not descriptive, nicely formatted, or human readable\"= setequal(digest(paste(toString(rlang::get_expr(c(small_sample_plot$layers[[1]]$mapping, small_sample_plot$mapping)$y)!= small_sample_plot$labels$y), \"215c2\")), \"75f608ac4d76dd5d4877e77650b962a4\"))\n",
    "stopifnot(\"incorrect colour variable in small_sample_plot, specify a correct one if required\"= setequal(digest(paste(toString(rlang::get_expr(c(small_sample_plot$layers[[1]]$mapping, small_sample_plot$mapping)$colour)), \"215c2\")), \"f265c1fa7e175d99ab145d243fbb68b9\"))\n",
    "stopifnot(\"incorrect shape variable in small_sample_plot, specify a correct one if required\"= setequal(digest(paste(toString(rlang::get_expr(c(small_sample_plot$layers[[1]]$mapping, small_sample_plot$mapping)$shape)), \"215c2\")), \"f13218164a4412ae19fb5161cbe21faa\"))\n",
    "stopifnot(\"the colour label in small_sample_plot is not descriptive, nicely formatted, or human readable\"= setequal(digest(paste(toString(rlang::get_expr(c(small_sample_plot$layers[[1]]$mapping, small_sample_plot$mapping)$colour) != small_sample_plot$labels$colour), \"215c2\")), \"75f608ac4d76dd5d4877e77650b962a4\"))\n",
    "stopifnot(\"the shape label in small_sample_plot is not descriptive, nicely formatted, or human readable\"= setequal(digest(paste(toString(rlang::get_expr(c(small_sample_plot$layers[[1]]$mapping, small_sample_plot$mapping)$colour) != small_sample_plot$labels$shape), \"215c2\")), \"f13218164a4412ae19fb5161cbe21faa\"))\n",
    "stopifnot(\"fill variable in small_sample_plot is not correct\"= setequal(digest(paste(toString(quo_name(small_sample_plot$mapping$fill)), \"215c2\")), \"9e0daf53c8a803af75b31bbaf094f9bc\"))\n",
    "stopifnot(\"fill label in small_sample_plot is not informative\"= setequal(digest(paste(toString((quo_name(small_sample_plot$mapping$fill) != small_sample_plot$labels$fill)), \"215c2\")), \"f13218164a4412ae19fb5161cbe21faa\"))\n",
    "stopifnot(\"position argument in small_sample_plot is not correct\"= setequal(digest(paste(toString(class(small_sample_plot$layers[[1]]$position)[1]), \"215c2\")), \"47f195e6e14bdae7acd3790d2d1d3183\"))\n",
    "\n",
    "stopifnot(\"small_sample_plot$data should be a data frame\"= setequal(digest(paste(toString('data.frame' %in% class(small_sample_plot$data)), \"215c3\")), \"c48c7ca57c6d84616ce72bd68546a882\"))\n",
    "stopifnot(\"dimensions of small_sample_plot$data are not correct\"= setequal(digest(paste(toString(dim(small_sample_plot$data)), \"215c3\")), \"7369c0297dcae6164ccb9c05851dd665\"))\n",
    "stopifnot(\"column names of small_sample_plot$data are not correct\"= setequal(digest(paste(toString(sort(colnames(small_sample_plot$data))), \"215c3\")), \"40142e4417ba4c58e75362ce947c63b8\"))\n",
    "stopifnot(\"types of columns in small_sample_plot$data are not correct\"= setequal(digest(paste(toString(sort(unlist(sapply(small_sample_plot$data, class)))), \"215c3\")), \"eb2208a851ca59b3c1d8dd5d06661a66\"))\n",
    "stopifnot(\"values in one or more numerical columns in small_sample_plot$data are not correct\"= setequal(digest(paste(toString(if (any(sapply(small_sample_plot$data, is.numeric))) sort(round(sapply(small_sample_plot$data[, sapply(small_sample_plot$data, is.numeric)], sum, na.rm = TRUE), 2)) else 0), \"215c3\")), \"0d528211d24b342ded0b12e4c0e3bab5\"))\n",
    "stopifnot(\"values in one or more character columns in small_sample_plot$data are not correct\"= setequal(digest(paste(toString(if (any(sapply(small_sample_plot$data, is.character))) sum(sapply(small_sample_plot$data[sapply(small_sample_plot$data, is.character)], function(x) length(unique(x)))) else 0), \"215c3\")), \"5bae7852722ae72f549e2885f25e237d\"))\n",
    "stopifnot(\"values in one or more factor columns in small_sample_plot$data are not correct\"= setequal(digest(paste(toString(if (any(sapply(small_sample_plot$data, is.factor))) sum(sapply(small_sample_plot$data[, sapply(small_sample_plot$data, is.factor)], function(col) length(unique(col)))) else 0), \"215c3\")), \"46fe015f1241abf428583c9d02c34ad6\"))\n",
    "\n",
    "print('Success!')"
   ]
  },
  {
   "cell_type": "markdown",
   "metadata": {
    "deletable": false,
    "editable": false,
    "nbgrader": {
     "cell_type": "markdown",
     "checksum": "e7ba490c5397a235d31b15b481149abc",
     "grade": false,
     "grade_id": "cell-ea9b69d1eb8ef76c",
     "locked": true,
     "schema_version": 3,
     "solution": false
    }
   },
   "source": [
    "**Question 2.1** \n",
    "<br> {points: 1}\n",
    "\n",
    "Suppose we are interested in classifying a new observation with `Symmetry = 0.5` and `Radius = 0`, but unknown `Class`. Using the `small_sample` data frame, add another row with `Symmetry = 0.5`, `Radius = 0`, and `Class = \"unknown\"`.\n",
    "\n",
    "Fill in the `...` in the scaffolding provided below.\n",
    "\n",
    "*Assign your answer to an object called `newData`.*"
   ]
  },
  {
   "cell_type": "code",
   "execution_count": null,
   "metadata": {
    "deletable": false,
    "nbgrader": {
     "cell_type": "code",
     "checksum": "d4fbdea0a00abdb589989adbd58a8f81",
     "grade": false,
     "grade_id": "cell-96047e4736208b46",
     "locked": false,
     "schema_version": 3,
     "solution": true
    }
   },
   "outputs": [],
   "source": [
    "#... <- ... |>\n",
    "#    add_row(Symmetry = ..., ... = 0, Class = ...)\n",
    "\n",
    "# your code here\n",
    "fail() # No Answer - remove if you provide an answer\n",
    "newData"
   ]
  },
  {
   "cell_type": "code",
   "execution_count": null,
   "metadata": {
    "deletable": false,
    "editable": false,
    "nbgrader": {
     "cell_type": "code",
     "checksum": "afb312f42e248014b9c9417320ebc3fb",
     "grade": true,
     "grade_id": "cell-136ec7a4a7af2698",
     "locked": true,
     "points": 1,
     "schema_version": 3,
     "solution": false
    }
   },
   "outputs": [],
   "source": [
    "library(digest)\n",
    "stopifnot(\"newData should be a data frame\"= setequal(digest(paste(toString('data.frame' %in% class(newData)), \"a7ab9\")), \"7ef28986d350df664cb007805f1016ce\"))\n",
    "stopifnot(\"dimensions of newData are not correct\"= setequal(digest(paste(toString(dim(newData)), \"a7ab9\")), \"c26ed8e61c76f2d41f626b8528995e56\"))\n",
    "stopifnot(\"column names of newData are not correct\"= setequal(digest(paste(toString(sort(colnames(newData))), \"a7ab9\")), \"e2e2b5fd523bedd6d2ad31eab63e1629\"))\n",
    "stopifnot(\"types of columns in newData are not correct\"= setequal(digest(paste(toString(sort(unlist(sapply(newData, class)))), \"a7ab9\")), \"fa07b46fe2b9b62bceff827259a48db6\"))\n",
    "stopifnot(\"values in one or more numerical columns in newData are not correct\"= setequal(digest(paste(toString(if (any(sapply(newData, is.numeric))) sort(round(sapply(newData[, sapply(newData, is.numeric)], sum, na.rm = TRUE), 2)) else 0), \"a7ab9\")), \"8bcec3d18d9a9986c0fd0d9f9f656720\"))\n",
    "stopifnot(\"values in one or more character columns in newData are not correct\"= setequal(digest(paste(toString(if (any(sapply(newData, is.character))) sum(sapply(newData[sapply(newData, is.character)], function(x) length(unique(x)))) else 0), \"a7ab9\")), \"a76de29a64a3be8a61a27a5a069ad4c4\"))\n",
    "stopifnot(\"values in one or more factor columns in newData are not correct\"= setequal(digest(paste(toString(if (any(sapply(newData, is.factor))) sum(sapply(newData[, sapply(newData, is.factor)], function(col) length(unique(col)))) else 0), \"a7ab9\")), \"6588858d8af116e9227d3ee983a3b074\"))\n",
    "\n",
    "print('Success!')"
   ]
  },
  {
   "cell_type": "markdown",
   "metadata": {
    "deletable": false,
    "editable": false,
    "nbgrader": {
     "cell_type": "markdown",
     "checksum": "0d3fe2ac11c97a99e8aa8891da1d9026",
     "grade": false,
     "grade_id": "cell-0c2e46a6b87bc2f2",
     "locked": true,
     "schema_version": 3,
     "solution": false
    }
   },
   "source": [
    "**Question 2.2**\n",
    "<br> {points: 1}\n",
    "\n",
    "Compute the distance between each pair of the 6 observations in the `newData` dataframe using the `dist()` function based on two variables: `Symmetry` and `Radius`. Fill in the `...` in the scaffolding provided below.\n",
    "\n",
    "\n",
    "*Assign your answer to an object called `dist_matrix`.*"
   ]
  },
  {
   "cell_type": "code",
   "execution_count": null,
   "metadata": {
    "deletable": false,
    "nbgrader": {
     "cell_type": "code",
     "checksum": "6fe7d0ab4554c73800cae281037220a5",
     "grade": false,
     "grade_id": "cell-e08fcfbf45d4e190",
     "locked": false,
     "schema_version": 3,
     "solution": true
    }
   },
   "outputs": [],
   "source": [
    "# ... <- newData |>\n",
    "#    select(..., ...) |> \n",
    "#    ...() |>                   \n",
    "#    as.matrix() \n",
    "\n",
    "# your code here\n",
    "fail() # No Answer - remove if you provide an answer\n",
    "dist_matrix"
   ]
  },
  {
   "cell_type": "code",
   "execution_count": null,
   "metadata": {
    "deletable": false,
    "editable": false,
    "nbgrader": {
     "cell_type": "code",
     "checksum": "3c94d97b1a90d44663b73a6f4eca37fb",
     "grade": true,
     "grade_id": "cell-73a7fd285719937d",
     "locked": true,
     "points": 1,
     "schema_version": 3,
     "solution": false,
     "task": false
    }
   },
   "outputs": [],
   "source": [
    "library(digest)\n",
    "stopifnot(\"type of class(dist_matrix) is not character\"= setequal(digest(paste(toString(class(class(dist_matrix))), \"5cb13\")), \"fab1cc41de9423b1061e7bb5ba2a1c02\"))\n",
    "stopifnot(\"length of class(dist_matrix) is not correct\"= setequal(digest(paste(toString(length(class(dist_matrix))), \"5cb13\")), \"630ac81b02fd826c9dd89496a07b502b\"))\n",
    "stopifnot(\"value of class(dist_matrix) is not correct\"= setequal(digest(paste(toString(tolower(class(dist_matrix))), \"5cb13\")), \"03c508931feadf7ade57ae5d5c6d8ee3\"))\n",
    "stopifnot(\"letters in string value of class(dist_matrix) are correct but case is not correct\"= setequal(digest(paste(toString(class(dist_matrix)), \"5cb13\")), \"03c508931feadf7ade57ae5d5c6d8ee3\"))\n",
    "\n",
    "stopifnot(\"as.data.frame(dist_matrix) should be a data frame\"= setequal(digest(paste(toString('data.frame' %in% class(as.data.frame(dist_matrix))), \"5cb14\")), \"f38f422bebff047dd7f3a1e02c202148\"))\n",
    "stopifnot(\"dimensions of as.data.frame(dist_matrix) are not correct\"= setequal(digest(paste(toString(dim(as.data.frame(dist_matrix))), \"5cb14\")), \"8eec941ac60d5634939fed130562be29\"))\n",
    "stopifnot(\"column names of as.data.frame(dist_matrix) are not correct\"= setequal(digest(paste(toString(sort(colnames(as.data.frame(dist_matrix)))), \"5cb14\")), \"b41c0c09a89a290852cc14fe0361411d\"))\n",
    "stopifnot(\"types of columns in as.data.frame(dist_matrix) are not correct\"= setequal(digest(paste(toString(sort(unlist(sapply(as.data.frame(dist_matrix), class)))), \"5cb14\")), \"6ee5bd605f0b42b820cd375bb1284b3d\"))\n",
    "stopifnot(\"values in one or more numerical columns in as.data.frame(dist_matrix) are not correct\"= setequal(digest(paste(toString(if (any(sapply(as.data.frame(dist_matrix), is.numeric))) sort(round(sapply(as.data.frame(dist_matrix)[, sapply(as.data.frame(dist_matrix), is.numeric)], sum, na.rm = TRUE), 2)) else 0), \"5cb14\")), \"958a9995ba328918d52e638227f050f8\"))\n",
    "stopifnot(\"values in one or more character columns in as.data.frame(dist_matrix) are not correct\"= setequal(digest(paste(toString(if (any(sapply(as.data.frame(dist_matrix), is.character))) sum(sapply(as.data.frame(dist_matrix)[sapply(as.data.frame(dist_matrix), is.character)], function(x) length(unique(x)))) else 0), \"5cb14\")), \"7fa2a478f607f8ec32d10801dad5c953\"))\n",
    "stopifnot(\"values in one or more factor columns in as.data.frame(dist_matrix) are not correct\"= setequal(digest(paste(toString(if (any(sapply(as.data.frame(dist_matrix), is.factor))) sum(sapply(as.data.frame(dist_matrix)[, sapply(as.data.frame(dist_matrix), is.factor)], function(col) length(unique(col)))) else 0), \"5cb14\")), \"7fa2a478f607f8ec32d10801dad5c953\"))\n",
    "\n",
    "print('Success!')"
   ]
  },
  {
   "cell_type": "markdown",
   "metadata": {
    "deletable": false,
    "editable": false,
    "nbgrader": {
     "cell_type": "markdown",
     "checksum": "75246e5c9a163aa36c4d1968bafa03f3",
     "grade": false,
     "grade_id": "cell-aba0edb4c4788627",
     "locked": true,
     "schema_version": 3,
     "solution": false
    }
   },
   "source": [
    "**Question 2.3** Multiple Choice:\n",
    "<br> {points: 1}\n",
    "\n",
    "In the table above, the row and column numbers reflect the row number from the data frame the `dist` function was applied to. Thus numbers 1 - 5 were the points/observations from rows 1 - 5 in the `small_sample` data frame. Row 6 was the new observation that we do not know the diagnosis class for.  The values in `dist_matrix` are the distances between the points of the row and column number. For example, the distance between the point 2 and point 4 is 4.196683. And the distance between point 3 and point 3 (the same point) is 0.\n",
    "\n",
    "**Which observation is the nearest to our new point?**\n",
    "\n",
    "*Assign your answer to an object called `answer2.3`. Make sure your answer is a number. Remember to surround your answer with quotation marks (e.g. \"8\").*"
   ]
  },
  {
   "cell_type": "code",
   "execution_count": null,
   "metadata": {
    "deletable": false,
    "nbgrader": {
     "cell_type": "code",
     "checksum": "124e96262558bf10c0cd6ed73da6697c",
     "grade": false,
     "grade_id": "cell-bdbdb888f697f310",
     "locked": false,
     "schema_version": 3,
     "solution": true
    }
   },
   "outputs": [],
   "source": [
    "# Replace the fail() with your answer. \n",
    "\n",
    "# your code here\n",
    "fail() # No Answer - remove if you provide an answer"
   ]
  },
  {
   "cell_type": "code",
   "execution_count": null,
   "metadata": {
    "deletable": false,
    "editable": false,
    "nbgrader": {
     "cell_type": "code",
     "checksum": "0183570b1c32023c208ef6ce6b37197c",
     "grade": true,
     "grade_id": "cell-371a2959d06316e2",
     "locked": true,
     "points": 1,
     "schema_version": 3,
     "solution": false
    }
   },
   "outputs": [],
   "source": [
    "library(digest)\n",
    "stopifnot(\"type of answer2.3 is not character\"= setequal(digest(paste(toString(class(answer2.3)), \"ee6b8\")), \"0d9397dec1ea680fe2729aff2ddb876e\"))\n",
    "stopifnot(\"length of answer2.3 is not correct\"= setequal(digest(paste(toString(length(answer2.3)), \"ee6b8\")), \"e5ad1e08af9a0d0555a1e672d217af05\"))\n",
    "stopifnot(\"value of answer2.3 is not correct\"= setequal(digest(paste(toString(tolower(answer2.3)), \"ee6b8\")), \"f7cb0dae62f893efab1184e514d0cab9\"))\n",
    "stopifnot(\"letters in string value of answer2.3 are correct but case is not correct\"= setequal(digest(paste(toString(answer2.3), \"ee6b8\")), \"f7cb0dae62f893efab1184e514d0cab9\"))\n",
    "\n",
    "print('Success!')"
   ]
  },
  {
   "cell_type": "markdown",
   "metadata": {
    "deletable": false,
    "editable": false,
    "nbgrader": {
     "cell_type": "markdown",
     "checksum": "87c51d71ec1e84ec865ad404122a116e",
     "grade": false,
     "grade_id": "cell-d2210381e32e3b13",
     "locked": true,
     "schema_version": 3,
     "solution": false
    }
   },
   "source": [
    "**Question 2.4** Multiple Choice: \n",
    "<br> {points: 1}\n",
    "\n",
    "Use the K-nearest neighbour classification algorithm with K = 1 to classify the new observation using your answers to **Questions 2.2 & 2.3**. Is the new data point predicted to be benign or malignant?\n",
    "\n",
    "*Assign your answer to an object called `answer2.4`. Make sure the correct answer is written fully as either \"Benign\" or \"Malignant\". Remember to surround your answer with quotation marks.* "
   ]
  },
  {
   "cell_type": "code",
   "execution_count": null,
   "metadata": {
    "deletable": false,
    "nbgrader": {
     "cell_type": "code",
     "checksum": "cff068704755e2974a7288b291e3d919",
     "grade": false,
     "grade_id": "cell-22366d4a160c0c16",
     "locked": false,
     "schema_version": 3,
     "solution": true
    }
   },
   "outputs": [],
   "source": [
    "# Replace the fail() with your answer. \n",
    "\n",
    "# your code here\n",
    "fail() # No Answer - remove if you provide an answer"
   ]
  },
  {
   "cell_type": "code",
   "execution_count": null,
   "metadata": {
    "deletable": false,
    "editable": false,
    "nbgrader": {
     "cell_type": "code",
     "checksum": "3e0124e1755c3e692357dc3b3f07c9e4",
     "grade": true,
     "grade_id": "cell-bf715d3502c96d7e",
     "locked": true,
     "points": 1,
     "schema_version": 3,
     "solution": false
    }
   },
   "outputs": [],
   "source": [
    "library(digest)\n",
    "stopifnot(\"type of answer2.4 is not character\"= setequal(digest(paste(toString(class(answer2.4)), \"222e0\")), \"a0874b28d43073c91dacaf3790de29a1\"))\n",
    "stopifnot(\"length of answer2.4 is not correct\"= setequal(digest(paste(toString(length(answer2.4)), \"222e0\")), \"ba174c4c2e18288d633f28813a00c34e\"))\n",
    "stopifnot(\"value of answer2.4 is not correct\"= setequal(digest(paste(toString(tolower(answer2.4)), \"222e0\")), \"fcfe3de9c36500158820a00e215b0db9\"))\n",
    "stopifnot(\"letters in string value of answer2.4 are correct but case is not correct\"= setequal(digest(paste(toString(answer2.4), \"222e0\")), \"c6136a8ccd49fbce9dfd6d9c4c6eb3e8\"))\n",
    "\n",
    "print('Success!')"
   ]
  },
  {
   "cell_type": "markdown",
   "metadata": {
    "deletable": false,
    "editable": false,
    "nbgrader": {
     "cell_type": "markdown",
     "checksum": "0244fb522bda932f1058b66a117de9f2",
     "grade": false,
     "grade_id": "cell-066b94daf2bb2b53",
     "locked": true,
     "schema_version": 3,
     "solution": false
    }
   },
   "source": [
    "**Question 2.5** Multiple Choice:\n",
    "<br> {points: 1}\n",
    "\n",
    "Using your answers to **Questions 2.2 & 2.3**, what are the three closest observations to your new point?\n",
    "\n",
    "A. 1, 3, 2\n",
    "\n",
    "B. 5, 1, 4\n",
    "\n",
    "C. 5, 2, 4\n",
    "\n",
    "D. 3, 4, 2\n",
    "\n",
    "*Assign your answer to an object called `answer2.5`. Make sure the correct answer is an uppercase letter. Remember to surround your answer with quotation marks (e.g. \"F\").*"
   ]
  },
  {
   "cell_type": "code",
   "execution_count": null,
   "metadata": {
    "deletable": false,
    "nbgrader": {
     "cell_type": "code",
     "checksum": "0299254b362c391175e0fc0c6067752d",
     "grade": false,
     "grade_id": "cell-559773dc29d9781f",
     "locked": false,
     "schema_version": 3,
     "solution": true
    }
   },
   "outputs": [],
   "source": [
    "# Replace the fail() with your answer. \n",
    "\n",
    "# your code here\n",
    "fail() # No Answer - remove if you provide an answer"
   ]
  },
  {
   "cell_type": "code",
   "execution_count": null,
   "metadata": {
    "deletable": false,
    "editable": false,
    "nbgrader": {
     "cell_type": "code",
     "checksum": "3d9d3cbca1523b442a86d5c55df248c6",
     "grade": true,
     "grade_id": "cell-377f6fc0e8af55a9",
     "locked": true,
     "points": 1,
     "schema_version": 3,
     "solution": false
    }
   },
   "outputs": [],
   "source": [
    "library(digest)\n",
    "stopifnot(\"type of answer2.5 is not character\"= setequal(digest(paste(toString(class(answer2.5)), \"2866f\")), \"a14bb7f665002b8dd97b054bec2d0012\"))\n",
    "stopifnot(\"length of answer2.5 is not correct\"= setequal(digest(paste(toString(length(answer2.5)), \"2866f\")), \"7d0e60f96c27eb8532801814b58476b9\"))\n",
    "stopifnot(\"value of answer2.5 is not correct\"= setequal(digest(paste(toString(tolower(answer2.5)), \"2866f\")), \"d2ca209b93447546af57ec928204c38a\"))\n",
    "stopifnot(\"letters in string value of answer2.5 are correct but case is not correct\"= setequal(digest(paste(toString(answer2.5), \"2866f\")), \"d70b86bb42d93dc9ed2ae537b7ec14a1\"))\n",
    "\n",
    "print('Success!')"
   ]
  },
  {
   "cell_type": "markdown",
   "metadata": {
    "deletable": false,
    "editable": false,
    "nbgrader": {
     "cell_type": "markdown",
     "checksum": "9dc81abe7a83b07b2d98f8c0e43fbc6d",
     "grade": false,
     "grade_id": "cell-bf7fd236053daada",
     "locked": true,
     "schema_version": 3,
     "solution": false
    }
   },
   "source": [
    "**Question 2.6** Multiple Choice: \n",
    "<br> {points: 1}\n",
    "\n",
    "We will now use the K-nearest neighbour classification algorithm with K = 3 to classify the new observation using your answers to **Questions 2.2 & 2.3**. Is the new data point predicted to be benign or malignant?\n",
    "\n",
    "*Assign your answer to an object called `answer2.6`. Make sure the correct answer is written fully. Remember to surround your answer with quotation marks (e.g. \"Benign\" / \"Malignant\").*"
   ]
  },
  {
   "cell_type": "code",
   "execution_count": null,
   "metadata": {
    "deletable": false,
    "nbgrader": {
     "cell_type": "code",
     "checksum": "2ab3dfb491f9aba64880cd4fdbd6743e",
     "grade": false,
     "grade_id": "cell-258763f514ce8d52",
     "locked": false,
     "schema_version": 3,
     "solution": true
    }
   },
   "outputs": [],
   "source": [
    "# Replace the fail() with your answer. \n",
    "\n",
    "# your code here\n",
    "fail() # No Answer - remove if you provide an answer"
   ]
  },
  {
   "cell_type": "code",
   "execution_count": null,
   "metadata": {
    "deletable": false,
    "editable": false,
    "nbgrader": {
     "cell_type": "code",
     "checksum": "e2cdec73b44a271969bb936692616f0d",
     "grade": true,
     "grade_id": "cell-2a8fd7a3457fb02a",
     "locked": true,
     "points": 1,
     "schema_version": 3,
     "solution": false
    }
   },
   "outputs": [],
   "source": [
    "library(digest)\n",
    "stopifnot(\"type of answer2.6 is not character\"= setequal(digest(paste(toString(class(answer2.6)), \"a40c5\")), \"27b0410b6af0775a31ecdf814103a2f0\"))\n",
    "stopifnot(\"length of answer2.6 is not correct\"= setequal(digest(paste(toString(length(answer2.6)), \"a40c5\")), \"fb1adba4463786323435dbac5b8332da\"))\n",
    "stopifnot(\"value of answer2.6 is not correct\"= setequal(digest(paste(toString(tolower(answer2.6)), \"a40c5\")), \"d242250c0bb4fbb4ef687dce60be85d1\"))\n",
    "stopifnot(\"letters in string value of answer2.6 are correct but case is not correct\"= setequal(digest(paste(toString(answer2.6), \"a40c5\")), \"f081b939f39240e581abeb59236be6d3\"))\n",
    "\n",
    "print('Success!')"
   ]
  },
  {
   "cell_type": "markdown",
   "metadata": {
    "deletable": false,
    "editable": false,
    "nbgrader": {
     "cell_type": "markdown",
     "checksum": "8b9c8dfd23cd4c67631ac62411b20d8c",
     "grade": false,
     "grade_id": "cell-070238e3e7380252",
     "locked": true,
     "schema_version": 3,
     "solution": false
    }
   },
   "source": [
    "**Question 2.7**\n",
    "<br> {points: 1}\n",
    "\n",
    "Compare your answers in 2.4 and 2.6. Are they the same?\n",
    "\n",
    "*Assign your answer to an object called `answer2.7`. Make sure the correct answer is written in lower-case. Remember to surround your answer with quotation marks (e.g. \"yes\" / \"no\").* "
   ]
  },
  {
   "cell_type": "code",
   "execution_count": null,
   "metadata": {
    "deletable": false,
    "nbgrader": {
     "cell_type": "code",
     "checksum": "2850a8be658a9e68a29b404fd4c54692",
     "grade": false,
     "grade_id": "cell-5eb56b54aae58afa",
     "locked": false,
     "schema_version": 3,
     "solution": true
    }
   },
   "outputs": [],
   "source": [
    "# Replace the fail() with your answer. \n",
    "\n",
    "# your code here\n",
    "fail() # No Answer - remove if you provide an answer"
   ]
  },
  {
   "cell_type": "code",
   "execution_count": null,
   "metadata": {
    "deletable": false,
    "editable": false,
    "nbgrader": {
     "cell_type": "code",
     "checksum": "1823c27313bc4dceee6907a4695c7c9f",
     "grade": true,
     "grade_id": "cell-067dc96bdc43046c",
     "locked": true,
     "points": 1,
     "schema_version": 3,
     "solution": false
    }
   },
   "outputs": [],
   "source": [
    "library(digest)\n",
    "stopifnot(\"type of answer2.7 is not character\"= setequal(digest(paste(toString(class(answer2.7)), \"ef641\")), \"b67d4f9af0db59d4256224cb293791ab\"))\n",
    "stopifnot(\"length of answer2.7 is not correct\"= setequal(digest(paste(toString(length(answer2.7)), \"ef641\")), \"ad82faede190e547d66445dc72d5e6e5\"))\n",
    "stopifnot(\"value of answer2.7 is not correct\"= setequal(digest(paste(toString(tolower(answer2.7)), \"ef641\")), \"4fb1974423ec11c1e183abeefc89d934\"))\n",
    "stopifnot(\"letters in string value of answer2.7 are correct but case is not correct\"= setequal(digest(paste(toString(answer2.7), \"ef641\")), \"4fb1974423ec11c1e183abeefc89d934\"))\n",
    "\n",
    "print('Success!')"
   ]
  },
  {
   "cell_type": "markdown",
   "metadata": {
    "deletable": false,
    "editable": false,
    "nbgrader": {
     "cell_type": "markdown",
     "checksum": "dd1ed6b02cd48bc716b9f41fbc311187",
     "grade": false,
     "grade_id": "cell-c279ff71adbb5d92",
     "locked": true,
     "schema_version": 3,
     "solution": false,
     "task": false
    }
   },
   "source": [
    "## 3. Using `tidymodels` to perform k-nearest neighbours\n",
    "\n",
    "Now that we understand how K-nearest neighbours (k-nn) classification works, let's get familar with the `tidymodels` R package. The benefit of using `tidymodels` is that it will keep our code simple, readable and accurate. Coding less and in a tidier format means that there is less chance for errors to occur.  \n",
    "\n",
    "We'll again focus on `Radius` and `Symmetry` as the two predictors. This time, we would like to predict the class of a new observation with `Symmetry = 1` and `Radius = 0`. This one is a bit tricky to do visually from the plot below, and so is a motivating example for us to compute the prediction using k-nn with the `tidymodels` package. Let's use `K = 7`."
   ]
  },
  {
   "cell_type": "code",
   "execution_count": null,
   "metadata": {},
   "outputs": [],
   "source": [
    "options(repr.plot.width = 8, repr.plot.height = 6) # you can change the size of the plot if it is too small or too large \n",
    "cancer_plot"
   ]
  },
  {
   "cell_type": "markdown",
   "metadata": {
    "deletable": false,
    "editable": false,
    "nbgrader": {
     "cell_type": "markdown",
     "checksum": "59bf5a0da7ff5ce9211fe45c7ce9ed38",
     "grade": false,
     "grade_id": "cell-0be2bf18a64cc945",
     "locked": true,
     "schema_version": 3,
     "solution": false
    }
   },
   "source": [
    "**Question 3.1** \n",
    "<br> {points: 1}\n",
    "\n",
    "Create a **model specification** for K-nearest neighbours classification by using the `nearest_neighbor()` function. Specify that we want to set `k = 7` and use the *straight-line distance*. Furthermore, specify the *computational engine* to be `\"kknn\"` for training the model with the `set_engine()` function. Finally, identify that this is a *classification* problem with the `set_mode()` function. \n",
    "\n",
    "Name your model specification `knn_spec`."
   ]
  },
  {
   "cell_type": "code",
   "execution_count": null,
   "metadata": {
    "deletable": false,
    "nbgrader": {
     "cell_type": "code",
     "checksum": "07e6bbce5853bbe87a3f342373a11bcf",
     "grade": false,
     "grade_id": "cell-6c32562496f83241",
     "locked": false,
     "schema_version": 3,
     "solution": true,
     "task": false
    }
   },
   "outputs": [],
   "source": [
    "#... <- nearest_neighbor(weight_func = ..., neighbors = ...) |>\n",
    "#       set_engine(...) |>\n",
    "#       set_mode(...)\n",
    "\n",
    "# your code here\n",
    "fail() # No Answer - remove if you provide an answer\n",
    "knn_spec"
   ]
  },
  {
   "cell_type": "code",
   "execution_count": null,
   "metadata": {
    "deletable": false,
    "editable": false,
    "nbgrader": {
     "cell_type": "code",
     "checksum": "46e276699f7391f41561520dd4aca145",
     "grade": true,
     "grade_id": "cell-685a4e4330f23a90",
     "locked": true,
     "points": 1,
     "schema_version": 3,
     "solution": false
    }
   },
   "outputs": [],
   "source": [
    "library(digest)\n",
    "stopifnot(\"knn_spec should be a model specification\"= setequal(digest(paste(toString('model_spec' %in% class(knn_spec)), \"e261a\")), \"4d38506d54f876e4da16d05053a18f63\"))\n",
    "stopifnot(\"model specification in knn_spec is not correct\"= setequal(digest(paste(toString(knn_spec$mode), \"e261a\")), \"567fb3908015e7157c38dc0ae07156c5\"))\n",
    "stopifnot(\"computational engine in knn_spec is not correct\"= setequal(digest(paste(toString(knn_spec$engine), \"e261a\")), \"56d38fa8ba8e24a5e929360390c55ab5\"))\n",
    "stopifnot(\"weight function in knn_spec is not correct\"= setequal(digest(paste(toString(quo_name(knn_spec$args$weight_func)), \"e261a\")), \"ee8335ebada7f5f7eb4aa37fc9844960\"))\n",
    "stopifnot(\"number of neighbours in knn_spec is not correct\"= setequal(digest(paste(toString(quo_name(knn_spec$args$neighbors)), \"e261a\")), \"a5eb24d28ea8aa5c36ddeb60bd1607ef\"))\n",
    "\n",
    "print('Success!')"
   ]
  },
  {
   "cell_type": "markdown",
   "metadata": {
    "deletable": false,
    "editable": false,
    "nbgrader": {
     "cell_type": "markdown",
     "checksum": "931cd9aa0e442dc33eeb0507e36b68b3",
     "grade": false,
     "grade_id": "cell-5ccafffc3a34805b",
     "locked": true,
     "schema_version": 3,
     "solution": false
    }
   },
   "source": [
    "**Question 3.2**\n",
    "<br> {points: 1}\n",
    "\n",
    "To train the model on the breast cancer dataset, pass `knn_spec` and the `cancer` dataset to the `fit()` function. Specify `Class` as your target variable and the `Symmetry` and `Radius` variables as your predictors. Name your fitted model as `knn_fit`."
   ]
  },
  {
   "cell_type": "code",
   "execution_count": null,
   "metadata": {
    "deletable": false,
    "nbgrader": {
     "cell_type": "code",
     "checksum": "0d5ee8a23f0fe2e9f7184475060df223",
     "grade": false,
     "grade_id": "cell-cdee2d8667038f6a",
     "locked": false,
     "schema_version": 3,
     "solution": true
    }
   },
   "outputs": [],
   "source": [
    "# ... <- ... |> \n",
    "#        fit(... ~ Symmetry + ..., data = ...)\n",
    "\n",
    "# your code here\n",
    "fail() # No Answer - remove if you provide an answer\n",
    "knn_fit"
   ]
  },
  {
   "cell_type": "code",
   "execution_count": null,
   "metadata": {
    "deletable": false,
    "editable": false,
    "nbgrader": {
     "cell_type": "code",
     "checksum": "15a39f8133b706007f5f7a3f2fe16b45",
     "grade": true,
     "grade_id": "cell-f99ed1dee272d06a",
     "locked": true,
     "points": 1,
     "schema_version": 3,
     "solution": false
    }
   },
   "outputs": [],
   "source": [
    "library(digest)\n",
    "stopifnot(\"knn_fit should be a fit model\"= setequal(digest(paste(toString('model_fit' %in% class(knn_fit)), \"7709e\")), \"d4b4909688b61cc27d52eb9a063e29fb\"))\n",
    "stopifnot(\"knn_fit does not use the correct columns and/or the correct model formula\"= setequal(digest(paste(toString(sort(row.names(attributes(knn_fit$fit$terms)$factors))), \"7709e\")), \"b2124a901979a013f2c94126cd0b4ec0\"))\n",
    "stopifnot(\"weight function of model specification is not correct\"= setequal(digest(paste(toString(quo_name(knn_fit$spec$args$weight_func)), \"7709e\")), \"5a1995cdd07c7ea9e4d5cf8634745f81\"))\n",
    "stopifnot(\"number of neighbours of model specification is not correct\"= setequal(digest(paste(toString(quo_name(knn_fit$spec$args$neighbors)), \"7709e\")), \"04c375210471ab59757dd9267524d286\"))\n",
    "stopifnot(\"computational engine of model specification is not correct\"= setequal(digest(paste(toString(knn_fit$spec$engine), \"7709e\")), \"d179df8db9a7a6f06c837419d0909b75\"))\n",
    "stopifnot(\"model specification of model specification is not correct\"= setequal(digest(paste(toString(knn_fit$spec$mode), \"7709e\")), \"f6319263df4062ca21f6d352aee1d7fd\"))\n",
    "\n",
    "stopifnot(\"knn_fit$fit$data should be a data frame\"= setequal(digest(paste(toString('data.frame' %in% class(knn_fit$fit$data)), \"7709f\")), \"b4e7a946ddb56fe90dca38486b8f6107\"))\n",
    "stopifnot(\"dimensions of knn_fit$fit$data are not correct\"= setequal(digest(paste(toString(dim(knn_fit$fit$data)), \"7709f\")), \"64730bdf3ae580de0ebee6664e229f10\"))\n",
    "stopifnot(\"column names of knn_fit$fit$data are not correct\"= setequal(digest(paste(toString(sort(colnames(knn_fit$fit$data))), \"7709f\")), \"707242765767c497be03e861ea5388ff\"))\n",
    "stopifnot(\"types of columns in knn_fit$fit$data are not correct\"= setequal(digest(paste(toString(sort(unlist(sapply(knn_fit$fit$data, class)))), \"7709f\")), \"ae76ce4531f36b3611b14e69c7b17efe\"))\n",
    "stopifnot(\"values in one or more numerical columns in knn_fit$fit$data are not correct\"= setequal(digest(paste(toString(if (any(sapply(knn_fit$fit$data, is.numeric))) sort(round(sapply(knn_fit$fit$data[, sapply(knn_fit$fit$data, is.numeric)], sum, na.rm = TRUE), 2)) else 0), \"7709f\")), \"49f5e954186473344f2abc10ae01688c\"))\n",
    "stopifnot(\"values in one or more character columns in knn_fit$fit$data are not correct\"= setequal(digest(paste(toString(if (any(sapply(knn_fit$fit$data, is.character))) sum(sapply(knn_fit$fit$data[sapply(knn_fit$fit$data, is.character)], function(x) length(unique(x)))) else 0), \"7709f\")), \"9e6d306888ef0c486d5030121321be12\"))\n",
    "stopifnot(\"values in one or more factor columns in knn_fit$fit$data are not correct\"= setequal(digest(paste(toString(if (any(sapply(knn_fit$fit$data, is.factor))) sum(sapply(knn_fit$fit$data[, sapply(knn_fit$fit$data, is.factor)], function(col) length(unique(col)))) else 0), \"7709f\")), \"2a2e83019244d7b9bb1ad0fbb99ef5d0\"))\n",
    "\n",
    "print('Success!')"
   ]
  },
  {
   "cell_type": "markdown",
   "metadata": {
    "deletable": false,
    "editable": false,
    "nbgrader": {
     "cell_type": "markdown",
     "checksum": "e2d53ce7f3b5e8c0e13a596d1ee14542",
     "grade": false,
     "grade_id": "cell-51e9956deb5ca6fd",
     "locked": true,
     "schema_version": 3,
     "solution": false,
     "task": false
    }
   },
   "source": [
    "**Question 3.3**\n",
    "<br>{points: 1}\n",
    "\n",
    "Now we will make our prediction on the `Class` of a new observation with a `Symmetry` of 1 and a `Radius` of 0. First, create a tibble with these variables and values and call it `new_obs`. Next, use the `predict()` function to obtain our prediction by passing `knn_fit` and `new_obs` to it. Name your predicted class as `class_prediction`."
   ]
  },
  {
   "cell_type": "code",
   "execution_count": null,
   "metadata": {
    "deletable": false,
    "nbgrader": {
     "cell_type": "code",
     "checksum": "c0b8378768da0253be228208e80da33d",
     "grade": false,
     "grade_id": "cell-29520122db413f38",
     "locked": false,
     "schema_version": 3,
     "solution": true,
     "task": false
    }
   },
   "outputs": [],
   "source": [
    "#... <- tibble(... = 1,... = 0)\n",
    "#... <- predict(..., ...)\n",
    "\n",
    "# your code here\n",
    "fail() # No Answer - remove if you provide an answer\n",
    "class_prediction"
   ]
  },
  {
   "cell_type": "code",
   "execution_count": null,
   "metadata": {
    "deletable": false,
    "editable": false,
    "nbgrader": {
     "cell_type": "code",
     "checksum": "5c2a62faf4a5de0fc7a2c47910eb2bf5",
     "grade": true,
     "grade_id": "cell-8ccf0ef821e9d0de",
     "locked": true,
     "points": 1,
     "schema_version": 3,
     "solution": false,
     "task": false
    }
   },
   "outputs": [],
   "source": [
    "library(digest)\n",
    "stopifnot(\"class_prediction should be a data frame\"= setequal(digest(paste(toString('data.frame' %in% class(class_prediction)), \"4d322\")), \"cf69cc973432952d33bd927bdf0d601e\"))\n",
    "stopifnot(\"dimensions of class_prediction are not correct\"= setequal(digest(paste(toString(dim(class_prediction)), \"4d322\")), \"bee26da215d3942641320e7013ec95d6\"))\n",
    "stopifnot(\"column names of class_prediction are not correct\"= setequal(digest(paste(toString(sort(colnames(class_prediction))), \"4d322\")), \"da6890922c405be9e10f32cc4edeb59b\"))\n",
    "stopifnot(\"types of columns in class_prediction are not correct\"= setequal(digest(paste(toString(sort(unlist(sapply(class_prediction, class)))), \"4d322\")), \"6ac753a59ed0e15f83c0609706514cf4\"))\n",
    "stopifnot(\"values in one or more numerical columns in class_prediction are not correct\"= setequal(digest(paste(toString(if (any(sapply(class_prediction, is.numeric))) sort(round(sapply(class_prediction[, sapply(class_prediction, is.numeric)], sum, na.rm = TRUE), 2)) else 0), \"4d322\")), \"eb92981172fb066da08729e612a210a4\"))\n",
    "stopifnot(\"values in one or more character columns in class_prediction are not correct\"= setequal(digest(paste(toString(if (any(sapply(class_prediction, is.character))) sum(sapply(class_prediction[sapply(class_prediction, is.character)], function(x) length(unique(x)))) else 0), \"4d322\")), \"eb92981172fb066da08729e612a210a4\"))\n",
    "stopifnot(\"values in one or more factor columns in class_prediction are not correct\"= setequal(digest(paste(toString(if (any(sapply(class_prediction, is.factor))) sum(sapply(class_prediction[, sapply(class_prediction, is.factor)], function(col) length(unique(col)))) else 0), \"4d322\")), \"76fa5992347601d2c9c58924b84c56bc\"))\n",
    "\n",
    "print('Success!')"
   ]
  },
  {
   "cell_type": "markdown",
   "metadata": {
    "deletable": false,
    "editable": false,
    "nbgrader": {
     "cell_type": "markdown",
     "checksum": "73e59888d8f42e4de95bb1fba4c227e1",
     "grade": false,
     "grade_id": "cell-df0b5140effdf82e",
     "locked": true,
     "schema_version": 3,
     "solution": false
    }
   },
   "source": [
    "**Question 3.4**\n",
    "<br> {points: 1}\n",
    "\n",
    "Let's perform K-nearest neighbour classification again, but with three predictors. Use the `tidymodels` package and `K = 7` to classify a new observation where we measure `Symmetry = 1`, `Radius = 0` and `Concavity = 1`. Use the scaffolding from **Questions 3.2** and **3.3** to help you.\n",
    "\n",
    "- Pass the same `knn_spec` from before to `fit`, but this time specify `Symmetry`, `Radius`, and `Concavity` as the predictors. Store the output in `knn_fit_2`. \n",
    "- store the new observation values in an object called `new_obs_2`\n",
    "- store the output of `predict` in an object called `class_prediction_2`"
   ]
  },
  {
   "cell_type": "code",
   "execution_count": null,
   "metadata": {
    "deletable": false,
    "nbgrader": {
     "cell_type": "code",
     "checksum": "8c25d24a9e0e975ddb6bfb6f76bcfbae",
     "grade": false,
     "grade_id": "cell-9ebae1c9d403b859",
     "locked": false,
     "schema_version": 3,
     "solution": true
    }
   },
   "outputs": [],
   "source": [
    "# your code here\n",
    "fail() # No Answer - remove if you provide an answer"
   ]
  },
  {
   "cell_type": "code",
   "execution_count": null,
   "metadata": {
    "deletable": false,
    "editable": false,
    "nbgrader": {
     "cell_type": "code",
     "checksum": "7e846f854adea592f1058e6e6370d4ae",
     "grade": true,
     "grade_id": "cell-5628bda9f8ba9874",
     "locked": true,
     "points": 1,
     "schema_version": 3,
     "solution": false,
     "task": false
    }
   },
   "outputs": [],
   "source": [
    "library(digest)\n",
    "stopifnot(\"knn_fit_2 should be a fit model\"= setequal(digest(paste(toString('model_fit' %in% class(knn_fit_2)), \"cc459\")), \"00bf2af233d2304fca20cd9cb6e55191\"))\n",
    "stopifnot(\"knn_fit_2 does not use the correct columns and/or the correct model formula\"= setequal(digest(paste(toString(sort(row.names(attributes(knn_fit_2$fit$terms)$factors))), \"cc459\")), \"4ca7ee63306c4f230cd669b1fa64dda0\"))\n",
    "stopifnot(\"weight function of model specification is not correct\"= setequal(digest(paste(toString(quo_name(knn_fit_2$spec$args$weight_func)), \"cc459\")), \"8654e0f87e7f7570f7cfec8e72c53257\"))\n",
    "stopifnot(\"number of neighbours of model specification is not correct\"= setequal(digest(paste(toString(quo_name(knn_fit_2$spec$args$neighbors)), \"cc459\")), \"cd797c3d3cd1fd751641293b709dce0f\"))\n",
    "stopifnot(\"computational engine of model specification is not correct\"= setequal(digest(paste(toString(knn_fit_2$spec$engine), \"cc459\")), \"922a5c33100470b5540d789a39a6a0f4\"))\n",
    "stopifnot(\"model specification of model specification is not correct\"= setequal(digest(paste(toString(knn_fit_2$spec$mode), \"cc459\")), \"c9a9c03f03ff67af530ada19f6a79d58\"))\n",
    "\n",
    "stopifnot(\"new_obs_2 should be a data frame\"= setequal(digest(paste(toString('data.frame' %in% class(new_obs_2)), \"cc45a\")), \"73ccf980356c503581ae78412c9b94c1\"))\n",
    "stopifnot(\"dimensions of new_obs_2 are not correct\"= setequal(digest(paste(toString(dim(new_obs_2)), \"cc45a\")), \"a9bd4821ba2e47b258863f26cb39451a\"))\n",
    "stopifnot(\"column names of new_obs_2 are not correct\"= setequal(digest(paste(toString(sort(colnames(new_obs_2))), \"cc45a\")), \"de9baa59f2ff2eaf44591646976bc055\"))\n",
    "stopifnot(\"types of columns in new_obs_2 are not correct\"= setequal(digest(paste(toString(sort(unlist(sapply(new_obs_2, class)))), \"cc45a\")), \"718c290aac849b40dbfb2bd46d162949\"))\n",
    "stopifnot(\"values in one or more numerical columns in new_obs_2 are not correct\"= setequal(digest(paste(toString(if (any(sapply(new_obs_2, is.numeric))) sort(round(sapply(new_obs_2[, sapply(new_obs_2, is.numeric)], sum, na.rm = TRUE), 2)) else 0), \"cc45a\")), \"1fa31d40b88ed943c33fdcc9cb565d0c\"))\n",
    "stopifnot(\"values in one or more character columns in new_obs_2 are not correct\"= setequal(digest(paste(toString(if (any(sapply(new_obs_2, is.character))) sum(sapply(new_obs_2[sapply(new_obs_2, is.character)], function(x) length(unique(x)))) else 0), \"cc45a\")), \"9d980e5fe5a2ef286acaeffdb22a8511\"))\n",
    "stopifnot(\"values in one or more factor columns in new_obs_2 are not correct\"= setequal(digest(paste(toString(if (any(sapply(new_obs_2, is.factor))) sum(sapply(new_obs_2[, sapply(new_obs_2, is.factor)], function(col) length(unique(col)))) else 0), \"cc45a\")), \"9d980e5fe5a2ef286acaeffdb22a8511\"))\n",
    "\n",
    "stopifnot(\"class_prediction_2 should be a data frame\"= setequal(digest(paste(toString('data.frame' %in% class(class_prediction_2)), \"cc45b\")), \"56b6b4382809ff9141822611e2b25d8b\"))\n",
    "stopifnot(\"dimensions of class_prediction_2 are not correct\"= setequal(digest(paste(toString(dim(class_prediction_2)), \"cc45b\")), \"528d0e79de1e7aa06ae0b3adeb55e69f\"))\n",
    "stopifnot(\"column names of class_prediction_2 are not correct\"= setequal(digest(paste(toString(sort(colnames(class_prediction_2))), \"cc45b\")), \"d064f31d364559ee95ca5389b5fa0e7d\"))\n",
    "stopifnot(\"types of columns in class_prediction_2 are not correct\"= setequal(digest(paste(toString(sort(unlist(sapply(class_prediction_2, class)))), \"cc45b\")), \"b76b4fb72ed87da7e12e4163a9848350\"))\n",
    "stopifnot(\"values in one or more numerical columns in class_prediction_2 are not correct\"= setequal(digest(paste(toString(if (any(sapply(class_prediction_2, is.numeric))) sort(round(sapply(class_prediction_2[, sapply(class_prediction_2, is.numeric)], sum, na.rm = TRUE), 2)) else 0), \"cc45b\")), \"2190e4c3097f92f79b1d0547bf3d0b34\"))\n",
    "stopifnot(\"values in one or more character columns in class_prediction_2 are not correct\"= setequal(digest(paste(toString(if (any(sapply(class_prediction_2, is.character))) sum(sapply(class_prediction_2[sapply(class_prediction_2, is.character)], function(x) length(unique(x)))) else 0), \"cc45b\")), \"2190e4c3097f92f79b1d0547bf3d0b34\"))\n",
    "stopifnot(\"values in one or more factor columns in class_prediction_2 are not correct\"= setequal(digest(paste(toString(if (any(sapply(class_prediction_2, is.factor))) sum(sapply(class_prediction_2[, sapply(class_prediction_2, is.factor)], function(col) length(unique(col)))) else 0), \"cc45b\")), \"0b95367c57f4aefe1f1c8f1a62dae21a\"))\n",
    "\n",
    "stopifnot(\"knn_fit_2$fit$data should be a data frame\"= setequal(digest(paste(toString('data.frame' %in% class(knn_fit_2$fit$data)), \"cc45c\")), \"e6f5893585da4fbb753da9ca6aa2d806\"))\n",
    "stopifnot(\"dimensions of knn_fit_2$fit$data are not correct\"= setequal(digest(paste(toString(dim(knn_fit_2$fit$data)), \"cc45c\")), \"cc596cd6611fd0485b0f94ec6bbc547b\"))\n",
    "stopifnot(\"column names of knn_fit_2$fit$data are not correct\"= setequal(digest(paste(toString(sort(colnames(knn_fit_2$fit$data))), \"cc45c\")), \"450eea15b79726899a5794de813348e1\"))\n",
    "stopifnot(\"types of columns in knn_fit_2$fit$data are not correct\"= setequal(digest(paste(toString(sort(unlist(sapply(knn_fit_2$fit$data, class)))), \"cc45c\")), \"3b6391a7ce5dedc6ba679473c60b402a\"))\n",
    "stopifnot(\"values in one or more numerical columns in knn_fit_2$fit$data are not correct\"= setequal(digest(paste(toString(if (any(sapply(knn_fit_2$fit$data, is.numeric))) sort(round(sapply(knn_fit_2$fit$data[, sapply(knn_fit_2$fit$data, is.numeric)], sum, na.rm = TRUE), 2)) else 0), \"cc45c\")), \"f3eb00e8458af52dd68d6a29ea854f41\"))\n",
    "stopifnot(\"values in one or more character columns in knn_fit_2$fit$data are not correct\"= setequal(digest(paste(toString(if (any(sapply(knn_fit_2$fit$data, is.character))) sum(sapply(knn_fit_2$fit$data[sapply(knn_fit_2$fit$data, is.character)], function(x) length(unique(x)))) else 0), \"cc45c\")), \"b92c02623850095f56265de1aa6f2cb1\"))\n",
    "stopifnot(\"values in one or more factor columns in knn_fit_2$fit$data are not correct\"= setequal(digest(paste(toString(if (any(sapply(knn_fit_2$fit$data, is.factor))) sum(sapply(knn_fit_2$fit$data[, sapply(knn_fit_2$fit$data, is.factor)], function(col) length(unique(col)))) else 0), \"cc45c\")), \"f396cefbaa808843a95b1788d6efe213\"))\n",
    "\n",
    "print('Success!')"
   ]
  },
  {
   "cell_type": "markdown",
   "metadata": {
    "deletable": false,
    "editable": false,
    "nbgrader": {
     "cell_type": "markdown",
     "checksum": "de886fee3f0c33d0e92d960d60c1d431",
     "grade": false,
     "grade_id": "cell-5758f98a43d755fe",
     "locked": true,
     "schema_version": 3,
     "solution": false,
     "task": false
    }
   },
   "source": [
    "**Question 3.5**\n",
    "<br>{points: 1}\n",
    "\n",
    "Finally, we will perform K-nearest neighbour classification again, using the `tidymodels` package and `K = 7` to classify a new observation where we use **all the predictors** in our data set (we give you the values in the code below). \n",
    "\n",
    "But we first have to do one important thing: we need to remove the `ID` variable from the analysis (it's not a numerical measurement that we should use for classification). Thankfully, `tidymodels` provides a nice way of combining data preprocessing and training into a single consistent workflow.\n",
    "\n",
    "We will first create a `recipe` to remove the `ID` variable using the `step_rm` preprocessing step. Do so below using the provided scaffolding. Name the recipe object `knn_recipe`.\n",
    "\n",
    "*Hint: If you want to find out about the available preprocessing steps that you can include in a `recipe`, visit [the tidymodels page](https://recipes.tidymodels.org/reference/index.html)*."
   ]
  },
  {
   "cell_type": "code",
   "execution_count": null,
   "metadata": {
    "deletable": false,
    "nbgrader": {
     "cell_type": "code",
     "checksum": "7bfdf3687e5802bc6963981e56f14906",
     "grade": false,
     "grade_id": "cell-a8d7892cb2b3c450",
     "locked": false,
     "schema_version": 3,
     "solution": true,
     "task": false
    }
   },
   "outputs": [],
   "source": [
    "#... <- recipe(... ~ ., data = ...) |>\n",
    "#                step_rm(...)\n",
    "\n",
    "# your code here\n",
    "fail() # No Answer - remove if you provide an answer\n",
    "knn_recipe"
   ]
  },
  {
   "cell_type": "code",
   "execution_count": null,
   "metadata": {
    "deletable": false,
    "editable": false,
    "nbgrader": {
     "cell_type": "code",
     "checksum": "286e9508431508c08db77cd36d04556a",
     "grade": true,
     "grade_id": "cell-03215eefc5610ee4",
     "locked": true,
     "points": 1,
     "schema_version": 3,
     "solution": false,
     "task": false
    }
   },
   "outputs": [],
   "source": [
    "library(digest)\n",
    "stopifnot(\"knn_recipe should be a recipe\"= setequal(digest(paste(toString('recipe' %in% class(knn_recipe)), \"8e2fa\")), \"f835db66aa8867400aec82d052d67b32\"))\n",
    "stopifnot(\"response variable of knn_recipe is not correct\"= setequal(digest(paste(toString(sort(filter(knn_recipe$var_info, role == 'outcome')$variable)), \"8e2fa\")), \"a363c95f1492fafdb126a01a8f990647\"))\n",
    "stopifnot(\"predictor variable(s) of knn_recipe are not correct\"= setequal(digest(paste(toString(sort(filter(knn_recipe$var_info, role == 'predictor')$variable)), \"8e2fa\")), \"60d50fc26637886a511b8b0c8b68d773\"))\n",
    "stopifnot(\"knn_recipe does not contain the correct data, might need to be standardized\"= setequal(digest(paste(toString(round(sum(bake(prep(knn_recipe), knn_recipe$template) %>% select_if(is.numeric), na.rm = TRUE), 2)), \"8e2fa\")), \"a920e46cec7d6e8145f5a3d78d4e7e2c\"))\n",
    "\n",
    "stopifnot(\"knn_recipe$template should be a data frame\"= setequal(digest(paste(toString('data.frame' %in% class(knn_recipe$template)), \"8e2fb\")), \"3477d2cda354afa5f578ba5c9db11f98\"))\n",
    "stopifnot(\"dimensions of knn_recipe$template are not correct\"= setequal(digest(paste(toString(dim(knn_recipe$template)), \"8e2fb\")), \"79dc5ad12d8926fdabd61df7b4998e4c\"))\n",
    "stopifnot(\"column names of knn_recipe$template are not correct\"= setequal(digest(paste(toString(sort(colnames(knn_recipe$template))), \"8e2fb\")), \"8d48fdf0c3111d3dbcfde806613bb084\"))\n",
    "stopifnot(\"types of columns in knn_recipe$template are not correct\"= setequal(digest(paste(toString(sort(unlist(sapply(knn_recipe$template, class)))), \"8e2fb\")), \"2fe548ff9ce1abb2f3251df98f5cf262\"))\n",
    "stopifnot(\"values in one or more numerical columns in knn_recipe$template are not correct\"= setequal(digest(paste(toString(if (any(sapply(knn_recipe$template, is.numeric))) sort(round(sapply(knn_recipe$template[, sapply(knn_recipe$template, is.numeric)], sum, na.rm = TRUE), 2)) else 0), \"8e2fb\")), \"0e3184f5eeb31a25504f5f4bcf54cac5\"))\n",
    "stopifnot(\"values in one or more character columns in knn_recipe$template are not correct\"= setequal(digest(paste(toString(if (any(sapply(knn_recipe$template, is.character))) sum(sapply(knn_recipe$template[sapply(knn_recipe$template, is.character)], function(x) length(unique(x)))) else 0), \"8e2fb\")), \"d592dbd445ce5dcae01d890c4fa0f55e\"))\n",
    "stopifnot(\"values in one or more factor columns in knn_recipe$template are not correct\"= setequal(digest(paste(toString(if (any(sapply(knn_recipe$template, is.factor))) sum(sapply(knn_recipe$template[, sapply(knn_recipe$template, is.factor)], function(col) length(unique(col)))) else 0), \"8e2fb\")), \"bbd080bd21f71a4e4bb9a57a5cd9a007\"))\n",
    "\n",
    "stopifnot(\"type of \\\"ID\\\" %in% colnames(juice(prep(knn_recipe, training = cancer))) is not logical\"= setequal(digest(paste(toString(class(\"ID\" %in% colnames(juice(prep(knn_recipe, training = cancer))))), \"8e2fc\")), \"bd9ed03ba8184967788095d422366648\"))\n",
    "stopifnot(\"logical value of \\\"ID\\\" %in% colnames(juice(prep(knn_recipe, training = cancer))) is not correct\"= setequal(digest(paste(toString(\"ID\" %in% colnames(juice(prep(knn_recipe, training = cancer)))), \"8e2fc\")), \"1fdac79d7857e4f2061adcdd4031be57\"))\n",
    "\n",
    "print('Success!')"
   ]
  },
  {
   "cell_type": "markdown",
   "metadata": {
    "deletable": false,
    "editable": false,
    "nbgrader": {
     "cell_type": "markdown",
     "checksum": "50496dde279a8afbddaa3bbb13c37ea5",
     "grade": false,
     "grade_id": "cell-fed014ae5e06931e",
     "locked": true,
     "schema_version": 3,
     "solution": false,
     "task": false
    }
   },
   "source": [
    "You can examine the output of a recipe by using the `prep` and `bake` functions. For example, let's see if `step_rm` above actually removed the `ID` variable. Run the below code to see!\n",
    "\n",
    "*Note: You have to pass the `cancer` data to `bake()` again, even though we already specified it in the `recipe` above. Why? This is because `tidymodels` is flexible enough to let you compute preprocessing steps using one dataset (`prep`), and applying those steps to another (`bake`). For example, if we apply the `step_center` preprocessing step (which shifts a variable to have mean 0), we need to compute the shift value (`prep`) before subtracting it from each observation (`bake`). This will be very useful in the next chapter when we have to split our dataset into two subsets, and only `prep` using one of them.*"
   ]
  },
  {
   "cell_type": "code",
   "execution_count": null,
   "metadata": {},
   "outputs": [],
   "source": [
    "preprocessed_data <- knn_recipe |> \n",
    "                        prep() |> \n",
    "                        bake(cancer)\n",
    "preprocessed_data"
   ]
  },
  {
   "cell_type": "markdown",
   "metadata": {
    "deletable": false,
    "editable": false,
    "nbgrader": {
     "cell_type": "markdown",
     "checksum": "68862265c6b8a7c1ecd7b71d9f82490d",
     "grade": false,
     "grade_id": "cell-6eec15570187f9e0",
     "locked": true,
     "schema_version": 3,
     "solution": false
    }
   },
   "source": [
    "**Question 3.6**\n",
    "<br> {points: 1}\n",
    "\n",
    "Create a **workflow** that includes the new recipe (`knn_recipe`) and the model specification (`knn_spec`) using the scaffolding below. Name the workflow object `knn_workflow`."
   ]
  },
  {
   "cell_type": "code",
   "execution_count": null,
   "metadata": {
    "deletable": false,
    "nbgrader": {
     "cell_type": "code",
     "checksum": "1bca86b99a6696580b5bdfad1103c43d",
     "grade": false,
     "grade_id": "cell-ad1115a24af76299",
     "locked": false,
     "schema_version": 3,
     "solution": true,
     "task": false
    }
   },
   "outputs": [],
   "source": [
    "#... <- workflow() |>\n",
    "#                   add_recipe(...) |>\n",
    "#                   add_model(...)\n",
    "\n",
    "# your code here\n",
    "fail() # No Answer - remove if you provide an answer\n",
    "knn_workflow  "
   ]
  },
  {
   "cell_type": "code",
   "execution_count": null,
   "metadata": {
    "deletable": false,
    "editable": false,
    "nbgrader": {
     "cell_type": "code",
     "checksum": "917ba5a92de188b920a5e89103a943a5",
     "grade": true,
     "grade_id": "cell-a091b39308a96640",
     "locked": true,
     "points": 1,
     "schema_version": 3,
     "solution": false,
     "task": false
    }
   },
   "outputs": [],
   "source": [
    "library(digest)\n",
    "stopifnot(\"knn_workflow should be a workflow\"= setequal(digest(paste(toString('workflow' %in% class(knn_workflow)), \"d3766\")), \"d2517133362f0b2fd6fbb43b92898f07\"))\n",
    "stopifnot(\"computational engine used in knn_workflow is not correct\"= setequal(digest(paste(toString(knn_workflow$fit$actions$model$spec$engine), \"d3766\")), \"57f9e24371839e3cd3d589bcb35b3bbe\"))\n",
    "stopifnot(\"model specification used in knn_workflow is not correct\"= setequal(digest(paste(toString(knn_workflow$fit$actions$model$spec$mode), \"d3766\")), \"ec81bc3314b63eea5f9be88ab7296aa0\"))\n",
    "stopifnot(\"knn_workflow must be a trained workflow, make sure to call the fit() function\"= setequal(digest(paste(toString(knn_workflow$trained), \"d3766\")), \"091ef7bb1ffe5fd2fb8eab951a5479a3\"))\n",
    "stopifnot(\"predictor variable(s) of knn_workflow are not correct\"= setequal(digest(paste(toString(sort(filter(knn_workflow$pre$actions$recipe$recipe$var_info, role == 'predictor')$variable)), \"d3766\")), \"d0f83d25283d57fb44a08d9f1d452d7a\"))\n",
    "stopifnot(\"knn_workflow does not contain the correct data\"= setequal(digest(paste(toString(sort(vapply(knn_workflow$pre$mold$predictors[, sapply(knn_workflow$pre$mold$predictors, is.numeric)], function(col) if(!is.null(col)) round(sum(col), 2) else NA_real_, numeric(1)), na.last = NA)), \"d3766\")), \"ffdcbf55e63095ab17210328ecb588cc\"))\n",
    "stopifnot(\"did not fit knn_workflow on the training dataset\"= setequal(digest(paste(toString(nrow(knn_workflow$pre$mold$outcomes)), \"d3766\")), \"ffdcbf55e63095ab17210328ecb588cc\"))\n",
    "stopifnot(\"for classification/regression models, weight function is not correct\"= setequal(digest(paste(toString(quo_name(knn_workflow$fit$actions$model$spec$args$weight_func)), \"d3766\")), \"dfcb31906e551fca4556fd8a432b35e4\"))\n",
    "stopifnot(\"for classification/regression models, response variable of knn_workflow is not correct\"= setequal(digest(paste(toString(sort(filter(knn_workflow$pre$actions$recipe$recipe$var_info, role == 'outcome')$variable)), \"d3766\")), \"015f01d5a2e555067f9775f77fafa0ea\"))\n",
    "stopifnot(\"for KNN models, number of neighbours is not correct\"= setequal(digest(paste(toString(quo_name(knn_workflow$fit$actions$model$spec$args$neighbors)), \"d3766\")), \"da510914307e332287213d176daf53ff\"))\n",
    "stopifnot(\"for clustering models, the clustering is not correct\"= setequal(digest(paste(toString(knn_workflow$fit$fit$fit$cluster), \"d3766\")), \"ffdcbf55e63095ab17210328ecb588cc\"))\n",
    "stopifnot(\"for clustering models, the total within-cluster sum-of-squared distances is not correct\"= setequal(digest(paste(toString(if (!is.null(knn_workflow$fit$fit$fit$tot.withinss)) round(knn_workflow$fit$fit$fit$tot.withinss, 2) else NULL), \"d3766\")), \"ffdcbf55e63095ab17210328ecb588cc\"))\n",
    "\n",
    "print('Success!')"
   ]
  },
  {
   "cell_type": "markdown",
   "metadata": {
    "deletable": false,
    "editable": false,
    "nbgrader": {
     "cell_type": "markdown",
     "checksum": "49322756d87f2443dc54cf014d2cfc59",
     "grade": false,
     "grade_id": "cell-f5f5e1eb6b4eae96",
     "locked": true,
     "schema_version": 3,
     "solution": false,
     "task": false
    }
   },
   "source": [
    "**Question 3.7**\n",
    "{points: 1}\n",
    "\n",
    "Finally, `fit` the workflow and predict the class label for the new observation named `new_obs_all`. Name the `fit` object `knn_fit_all`, and the class prediction `class_prediction_all`."
   ]
  },
  {
   "cell_type": "code",
   "execution_count": null,
   "metadata": {
    "deletable": false,
    "nbgrader": {
     "cell_type": "code",
     "checksum": "9b71e1c3eca7704a584de5bbb91da519",
     "grade": false,
     "grade_id": "cell-1a574f5403a0315e",
     "locked": false,
     "schema_version": 3,
     "solution": true
    }
   },
   "outputs": [],
   "source": [
    "new_obs_all <- tibble(ID = NA, Radius = 0, \n",
    "                        Texture = 0, \n",
    "                        Perimeter = 0, \n",
    "                        Area = 0, \n",
    "                        Smoothness = 0.5, \n",
    "                        Compactness = 0,\n",
    "                        Concavity = 1,\n",
    "                        Concave_points = 0,\n",
    "                        Symmetry = 1, \n",
    "                        Fractal_dimension = 0)\n",
    "\n",
    "#... <- knn_workflow |>\n",
    "#             fit(data = ...)\n",
    "#... <- ...(knn_fit_all, ...)\n",
    "\n",
    "# your code here\n",
    "fail() # No Answer - remove if you provide an answer\n",
    "class_prediction_all"
   ]
  },
  {
   "cell_type": "code",
   "execution_count": null,
   "metadata": {
    "deletable": false,
    "editable": false,
    "nbgrader": {
     "cell_type": "code",
     "checksum": "b92117e7b239cd46cc61f471d2d3357c",
     "grade": true,
     "grade_id": "cell-4982ce7574035fd3",
     "locked": true,
     "points": 1,
     "schema_version": 3,
     "solution": false,
     "task": false
    }
   },
   "outputs": [],
   "source": [
    "library(digest)\n",
    "stopifnot(\"class_prediction_all should be a data frame\"= setequal(digest(paste(toString('data.frame' %in% class(class_prediction_all)), \"268f9\")), \"b1d76543c077c7a812a23e0f8f642795\"))\n",
    "stopifnot(\"dimensions of class_prediction_all are not correct\"= setequal(digest(paste(toString(dim(class_prediction_all)), \"268f9\")), \"6f17e893f34b19d66b298828a8c78fa2\"))\n",
    "stopifnot(\"column names of class_prediction_all are not correct\"= setequal(digest(paste(toString(sort(colnames(class_prediction_all))), \"268f9\")), \"7a4ff0786b01ddc07567389dc78d5c1f\"))\n",
    "stopifnot(\"types of columns in class_prediction_all are not correct\"= setequal(digest(paste(toString(sort(unlist(sapply(class_prediction_all, class)))), \"268f9\")), \"97f22afe44be1f2484b549221069a543\"))\n",
    "stopifnot(\"values in one or more numerical columns in class_prediction_all are not correct\"= setequal(digest(paste(toString(if (any(sapply(class_prediction_all, is.numeric))) sort(round(sapply(class_prediction_all[, sapply(class_prediction_all, is.numeric)], sum, na.rm = TRUE), 2)) else 0), \"268f9\")), \"ed2a900a6796efd618b59fa7609e9484\"))\n",
    "stopifnot(\"values in one or more character columns in class_prediction_all are not correct\"= setequal(digest(paste(toString(if (any(sapply(class_prediction_all, is.character))) sum(sapply(class_prediction_all[sapply(class_prediction_all, is.character)], function(x) length(unique(x)))) else 0), \"268f9\")), \"ed2a900a6796efd618b59fa7609e9484\"))\n",
    "stopifnot(\"values in one or more factor columns in class_prediction_all are not correct\"= setequal(digest(paste(toString(if (any(sapply(class_prediction_all, is.factor))) sum(sapply(class_prediction_all[, sapply(class_prediction_all, is.factor)], function(col) length(unique(col)))) else 0), \"268f9\")), \"f840789ea67c9fabaa5605532e801a16\"))\n",
    "\n",
    "print('Success!')"
   ]
  },
  {
   "cell_type": "markdown",
   "metadata": {
    "deletable": false,
    "editable": false,
    "nbgrader": {
     "cell_type": "markdown",
     "checksum": "9e58b841ef09ca686d209a1e2317eb80",
     "grade": false,
     "grade_id": "cell-9fe84a61d314cfed",
     "locked": true,
     "schema_version": 3,
     "solution": false,
     "task": false
    }
   },
   "source": [
    "## 4. Reviewing Some Concepts\n",
    "\n",
    "We will conclude with two multiple choice questions to reinforce some key concepts when doing classification with K-nearest neighbours."
   ]
  },
  {
   "cell_type": "markdown",
   "metadata": {
    "deletable": false,
    "editable": false,
    "nbgrader": {
     "cell_type": "markdown",
     "checksum": "5bdf0df8159ce166f0179bc0f80eb59b",
     "grade": false,
     "grade_id": "cell-b904a53540f32475",
     "locked": true,
     "schema_version": 3,
     "solution": false
    }
   },
   "source": [
    "**Question 4.0**\n",
    "<br> {points: 1}\n",
    "\n",
    "In the K-nearest neighbours classification algorithm, we calculate the distance between the new observation (for which we are trying to predict the class/label/outcome) and each of the observations in the training data set so that we can:\n",
    "\n",
    "A. Find the `K` nearest neighbours of the new observation\n",
    "\n",
    "B. Assess how well our model fits the data\n",
    "\n",
    "C. Find outliers\n",
    "\n",
    "D. Assign the new observation to a cluster\n",
    "\n",
    "*Assign your answer (e.g. \"E\") to an object called: `answer4.0`. Make sure your answer is an uppercase letter and is surrounded with quotation marks.*"
   ]
  },
  {
   "cell_type": "code",
   "execution_count": null,
   "metadata": {
    "deletable": false,
    "nbgrader": {
     "cell_type": "code",
     "checksum": "c0e41f6c20e04426172a63e8d26f8527",
     "grade": false,
     "grade_id": "cell-13d8575850bc1390",
     "locked": false,
     "schema_version": 3,
     "solution": true
    }
   },
   "outputs": [],
   "source": [
    "# Replace the fail() with your answer. \n",
    "\n",
    "# your code here\n",
    "fail() # No Answer - remove if you provide an answer"
   ]
  },
  {
   "cell_type": "code",
   "execution_count": null,
   "metadata": {
    "deletable": false,
    "editable": false,
    "nbgrader": {
     "cell_type": "code",
     "checksum": "c1aa5c4f7efe04da3a97a5105b0f7d88",
     "grade": true,
     "grade_id": "cell-437eb5f41aed17bc",
     "locked": true,
     "points": 1,
     "schema_version": 3,
     "solution": false
    }
   },
   "outputs": [],
   "source": [
    "library(digest)\n",
    "stopifnot(\"type of answer4.0 is not character\"= setequal(digest(paste(toString(class(answer4.0)), \"b17f\")), \"60354f527b227e89c23973f6410aa28b\"))\n",
    "stopifnot(\"length of answer4.0 is not correct\"= setequal(digest(paste(toString(length(answer4.0)), \"b17f\")), \"687c59b935e4c5ac2d4cba10348937c9\"))\n",
    "stopifnot(\"value of answer4.0 is not correct\"= setequal(digest(paste(toString(tolower(answer4.0)), \"b17f\")), \"2e2e93f1eef175c6b8ed157f50fc5083\"))\n",
    "stopifnot(\"letters in string value of answer4.0 are correct but case is not correct\"= setequal(digest(paste(toString(answer4.0), \"b17f\")), \"6b9911e47b72266c92f279f7496c88bf\"))\n",
    "\n",
    "print('Success!')"
   ]
  },
  {
   "cell_type": "markdown",
   "metadata": {
    "deletable": false,
    "editable": false,
    "nbgrader": {
     "cell_type": "markdown",
     "checksum": "bcce1bbdeddadcce945a88a11210f741",
     "grade": false,
     "grade_id": "cell-a60b11b11c972d2c",
     "locked": true,
     "schema_version": 3,
     "solution": false,
     "task": false
    }
   },
   "source": [
    "**Question 4.1**\n",
    "<br> {points: 1}\n",
    "\n",
    "In the K-nearest neighbours classification algorithm, we choose the label/class for a new observation by:\n",
    "\n",
    "A. Taking the mean (average value) label/class of the K nearest neighbours \n",
    "\n",
    "B. Taking the median (middle value) label/class of the K nearest neighbours \n",
    "\n",
    "C. Taking the mode (value that appears most often, *i.e.*, the majority vote) label/class of the K nearest neighbours \n",
    "\n",
    "*Assign your answer (e.g., \"E\") to an object called `answer4.1`. Make sure your answer is an uppercase letter and is surrounded with quotation marks.*"
   ]
  },
  {
   "cell_type": "code",
   "execution_count": null,
   "metadata": {
    "deletable": false,
    "nbgrader": {
     "cell_type": "code",
     "checksum": "8993923476f3fbfc089bf0401328851d",
     "grade": false,
     "grade_id": "cell-ed504d5d3d6f58ea",
     "locked": false,
     "schema_version": 3,
     "solution": true
    }
   },
   "outputs": [],
   "source": [
    "# Replace the fail() with your answer. \n",
    "\n",
    "# your code here\n",
    "fail() # No Answer - remove if you provide an answer"
   ]
  },
  {
   "cell_type": "code",
   "execution_count": null,
   "metadata": {
    "deletable": false,
    "editable": false,
    "nbgrader": {
     "cell_type": "code",
     "checksum": "8531fbe3cb21a09028466bcacab22ec4",
     "grade": true,
     "grade_id": "cell-303f4a3bd9b343f2",
     "locked": true,
     "points": 1,
     "schema_version": 3,
     "solution": false
    }
   },
   "outputs": [],
   "source": [
    "library(digest)\n",
    "stopifnot(\"type of answer4.1 is not character\"= setequal(digest(paste(toString(class(answer4.1)), \"55a12\")), \"cb53d7718d535b2df8827ea0e3810278\"))\n",
    "stopifnot(\"length of answer4.1 is not correct\"= setequal(digest(paste(toString(length(answer4.1)), \"55a12\")), \"7cd67ce47728da6734dd0e47c8cb0ed1\"))\n",
    "stopifnot(\"value of answer4.1 is not correct\"= setequal(digest(paste(toString(tolower(answer4.1)), \"55a12\")), \"fb1e34498bcb68e40b8d0bf00836b67a\"))\n",
    "stopifnot(\"letters in string value of answer4.1 are correct but case is not correct\"= setequal(digest(paste(toString(answer4.1), \"55a12\")), \"af2f2d180c6f96ff8d4fc1f6b77e89cb\"))\n",
    "\n",
    "print('Success!')"
   ]
  },
  {
   "cell_type": "code",
   "execution_count": null,
   "metadata": {
    "deletable": false,
    "editable": false,
    "nbgrader": {
     "cell_type": "code",
     "checksum": "0f3b2f69929838e77eede528fd618e2f",
     "grade": false,
     "grade_id": "cell-1012225087765cae",
     "locked": true,
     "schema_version": 3,
     "solution": false,
     "task": false
    }
   },
   "outputs": [],
   "source": [
    "source('cleanup.R')"
   ]
  }
 ],
 "metadata": {
  "kernelspec": {
   "display_name": "R",
   "language": "R",
   "name": "ir"
  },
  "language_info": {
   "codemirror_mode": "r",
   "file_extension": ".r",
   "mimetype": "text/x-r-source",
   "name": "R",
   "pygments_lexer": "r",
   "version": "4.3.3"
  }
 },
 "nbformat": 4,
 "nbformat_minor": 4
}
