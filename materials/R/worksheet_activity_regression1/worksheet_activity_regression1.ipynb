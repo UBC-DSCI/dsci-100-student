{
 "cells": [
  {
   "cell_type": "markdown",
   "metadata": {
    "deletable": false,
    "editable": false,
    "nbgrader": {
     "cell_type": "markdown",
     "checksum": "f72775a8c948594292ad4dba050ea224",
     "grade": false,
     "grade_id": "cell-b5d90df5e452c2b4",
     "locked": true,
     "schema_version": 3,
     "solution": false,
     "task": false
    }
   },
   "source": [
    "# DSCI 100: Introduction to Data Science\n",
    "\n",
    "## Tutorial 8 - Regression I (K-nearest neighbours) : Class activity"
   ]
  },
  {
   "cell_type": "code",
   "execution_count": null,
   "metadata": {
    "deletable": false,
    "editable": false,
    "nbgrader": {
     "cell_type": "code",
     "checksum": "60121a4e6bba3c2b1859fa7b0da59640",
     "grade": false,
     "grade_id": "cell-a509a5cf57333c9b",
     "locked": true,
     "schema_version": 3,
     "solution": false,
     "task": false
    }
   },
   "outputs": [],
   "source": [
    "library(tidyverse)\n",
    "library(tidymodels)"
   ]
  },
  {
   "cell_type": "markdown",
   "metadata": {
    "deletable": false,
    "editable": false,
    "nbgrader": {
     "cell_type": "markdown",
     "checksum": "8e9c572676133a9455f78daeeb5318dc",
     "grade": false,
     "grade_id": "cell-d562e425564c76d3",
     "locked": true,
     "schema_version": 3,
     "solution": false,
     "task": false
    }
   },
   "source": [
    "Let's look at the avocado data, which we looked at in week 3, and try to use the volume of small hass avocado sales to predict the volume of large hass sales. To reduce the size of the dataset, let's also narrow our observations to only include avocados from 2015."
   ]
  },
  {
   "cell_type": "code",
   "execution_count": null,
   "metadata": {
    "deletable": false,
    "editable": false,
    "nbgrader": {
     "cell_type": "code",
     "checksum": "7df17421b5bf8ceca3d839da7670892c",
     "grade": false,
     "grade_id": "cell-8c478821966b9deb",
     "locked": true,
     "schema_version": 3,
     "solution": false,
     "task": false
    }
   },
   "outputs": [],
   "source": [
    "# run this\n",
    "avocado <- read_csv(\"data/avocado_prices.csv\") |>\n",
    "    filter(yr == 2015)\n",
    "head(avocado)"
   ]
  },
  {
   "cell_type": "markdown",
   "metadata": {
    "deletable": false,
    "editable": false,
    "nbgrader": {
     "cell_type": "markdown",
     "checksum": "63b1a9683be648b3f94987774f724a40",
     "grade": false,
     "grade_id": "cell-3a9c0e9b8f6be432",
     "locked": true,
     "schema_version": 3,
     "solution": false,
     "task": false
    }
   },
   "source": [
    "In the readings, we looked at both RMSE and RMSPE and their differences.<br>\n",
    "* <b>RMSE</b> refers to the root mean squared error, or an error in the predictions made for the training data. Hence, this is a property we look at when we evaluate how well our model is able to fit the data.\n",
    "<br>\n",
    "* <b>RMSPE</b> refers to the root mean squared <b>prediction</b> error, or the error in our predictions made about the actual testing data. We look at this property when we want to evaluate the quality of our future predictions on new data we haven't seen before.\n",
    "\n",
    "Let's take a look at their differences, and at which point in our workflow might we need one over the other."
   ]
  },
  {
   "cell_type": "code",
   "execution_count": null,
   "metadata": {
    "deletable": false,
    "editable": false,
    "nbgrader": {
     "cell_type": "code",
     "checksum": "d373a2c2de072b1f1c1c3a8e8ec8cd1e",
     "grade": false,
     "grade_id": "cell-57f663c99dfbc8b4",
     "locked": true,
     "schema_version": 3,
     "solution": false,
     "task": false
    }
   },
   "outputs": [],
   "source": [
    "# Split the data into training and testing\n",
    "set.seed(1234)\n",
    "avo_split <- initial_split(avocado, prop = 0.5, strata = large_hass_volume)\n",
    "avo_train <- training(avo_split)\n",
    "avo_test <- testing(avo_split)"
   ]
  },
  {
   "cell_type": "code",
   "execution_count": null,
   "metadata": {
    "deletable": false,
    "editable": false,
    "nbgrader": {
     "cell_type": "code",
     "checksum": "0cb7e1d6e9550bfc9abc224c5e2c0e3c",
     "grade": false,
     "grade_id": "cell-584d2c2801318724",
     "locked": true,
     "schema_version": 3,
     "solution": false,
     "task": false
    }
   },
   "outputs": [],
   "source": [
    "# Set the seed. Don't remove this!\n",
    "set.seed(3456) \n",
    "# Create a recipe, model specification, and workflow\n",
    "avo_recipe <- recipe(large_hass_volume ~ small_hass_volume, data = avo_train) |>\n",
    "                  step_scale(all_predictors()) |>\n",
    "                  step_center(all_predictors())\n",
    "\n",
    "avo_spec <- nearest_neighbor(weight_func = \"rectangular\", neighbors = tune()) |>\n",
    "                  set_engine(\"kknn\") |>\n",
    "                  set_mode(\"regression\")\n",
    "\n",
    "avo_workflow <- workflow() |>\n",
    "                 add_recipe(avo_recipe) |>\n",
    "                 add_model(avo_spec)\n",
    "avo_workflow"
   ]
  },
  {
   "cell_type": "markdown",
   "metadata": {
    "deletable": false,
    "editable": false,
    "nbgrader": {
     "cell_type": "markdown",
     "checksum": "c7f32662a9604763b7ff0ceaf98552db",
     "grade": false,
     "grade_id": "cell-84d3d988d16ddc22",
     "locked": true,
     "schema_version": 3,
     "solution": false,
     "task": false
    }
   },
   "source": [
    "Here we've provided most of the initial setup: splitting the data into training and testing sets, making the recipe, the model, and adding them to the workflow is done! Now let's perform cross validation with **3 folds** and take a look at the RMSE values. (This might take a bit to run!!)"
   ]
  },
  {
   "cell_type": "code",
   "execution_count": null,
   "metadata": {
    "deletable": false,
    "editable": false,
    "nbgrader": {
     "cell_type": "code",
     "checksum": "c89903b632f585140e59ce0e1a301db7",
     "grade": false,
     "grade_id": "cell-fa9747d6d98ffa31",
     "locked": true,
     "schema_version": 3,
     "solution": false,
     "task": false
    }
   },
   "outputs": [],
   "source": [
    "set.seed(1234)\n",
    "\n",
    "avo_vfold <- vfold_cv(avo_train, v = 3, strata = large_hass_volume)\n",
    "\n",
    "gridvals <- tibble(neighbors = seq(1,200))\n",
    "\n",
    "training_results <- avo_workflow |>\n",
    "                       tune_grid(resamples = avo_vfold, grid = gridvals) |>\n",
    "                       collect_metrics() \n",
    "\n",
    "head(training_results)"
   ]
  },
  {
   "cell_type": "markdown",
   "metadata": {
    "deletable": false,
    "editable": false,
    "nbgrader": {
     "cell_type": "markdown",
     "checksum": "615e890a8e1dc61786e51842a1189b6c",
     "grade": false,
     "grade_id": "cell-b8f6adefd4a4890e",
     "locked": true,
     "schema_version": 3,
     "solution": false,
     "task": false
    }
   },
   "source": [
    "You will see that each number of neighbors has an `rmse` metric and an `rsq` metric.\n",
    "\n",
    "**Question:** Is `rmse` there RMSE or RMSPE?"
   ]
  },
  {
   "cell_type": "markdown",
   "metadata": {
    "deletable": false,
    "nbgrader": {
     "cell_type": "markdown",
     "checksum": "e8bb25bedb4faaae4d8db5992c00e133",
     "grade": true,
     "grade_id": "cell-3a89684e65ef88a8",
     "locked": false,
     "points": 0,
     "schema_version": 3,
     "solution": true,
     "task": false
    }
   },
   "source": [
    "DOUBLE CLICK TO EDIT **THIS CELL** AND REPLACE THIS TEXT WITH YOUR ANSWER."
   ]
  },
  {
   "cell_type": "markdown",
   "metadata": {
    "deletable": false,
    "editable": false,
    "nbgrader": {
     "cell_type": "markdown",
     "checksum": "b5b61d83d4b300dc4a96101b68ac3ef3",
     "grade": false,
     "grade_id": "cell-a9ca794875b858b0",
     "locked": true,
     "schema_version": 3,
     "solution": false,
     "task": false
    }
   },
   "source": [
    "Now find the k value that gives the minimum RMSE."
   ]
  },
  {
   "cell_type": "code",
   "execution_count": null,
   "metadata": {
    "deletable": false,
    "editable": false,
    "nbgrader": {
     "cell_type": "code",
     "checksum": "b41acf29e1ba94b92134dedb45884b7b",
     "grade": false,
     "grade_id": "cell-c3c6f8b2c96bb025",
     "locked": true,
     "schema_version": 3,
     "solution": false,
     "task": false
    }
   },
   "outputs": [],
   "source": [
    "avo_min <- training_results |>\n",
    "               filter(.metric == 'rmse') |>\n",
    "               filter(mean == min(mean))\n",
    "avo_min"
   ]
  },
  {
   "cell_type": "markdown",
   "metadata": {
    "deletable": false,
    "editable": false,
    "nbgrader": {
     "cell_type": "markdown",
     "checksum": "56372f32bb9aca5ed949d90a22e641e2",
     "grade": false,
     "grade_id": "cell-e8af4a12e1aa2ee1",
     "locked": true,
     "schema_version": 3,
     "solution": false,
     "task": false
    }
   },
   "source": [
    "Our optimal k value is 18!"
   ]
  },
  {
   "cell_type": "markdown",
   "metadata": {
    "deletable": false,
    "editable": false,
    "nbgrader": {
     "cell_type": "markdown",
     "checksum": "4e4800148ba77d0c8ae45c05b2ad9a61",
     "grade": false,
     "grade_id": "cell-fc2069402955e9c1",
     "locked": true,
     "schema_version": 3,
     "solution": false,
     "task": false
    }
   },
   "source": [
    "Using k = 18, fit the model on to our testing set and return the summary statistics."
   ]
  },
  {
   "cell_type": "code",
   "execution_count": null,
   "metadata": {
    "deletable": false,
    "editable": false,
    "nbgrader": {
     "cell_type": "code",
     "checksum": "eb99a144e628ee341ea4a7462229c5d7",
     "grade": false,
     "grade_id": "cell-bf0a463b3e847182",
     "locked": true,
     "schema_version": 3,
     "solution": false,
     "task": false
    }
   },
   "outputs": [],
   "source": [
    "# run this\n",
    "set.seed(1234)\n",
    "\n",
    "avo_spec <- nearest_neighbor(weight_func = \"rectangular\", neighbors = 18) |>\n",
    "                  set_engine(\"kknn\") |>\n",
    "                  set_mode(\"regression\")\n",
    "\n",
    "avo_fit <- workflow() |>\n",
    "           add_recipe(avo_recipe) |>\n",
    "           add_model(avo_spec) |>\n",
    "           fit(data = avo_train)"
   ]
  },
  {
   "cell_type": "code",
   "execution_count": null,
   "metadata": {
    "deletable": false,
    "editable": false,
    "nbgrader": {
     "cell_type": "code",
     "checksum": "500aa9a029a014c868d5e27da652337d",
     "grade": false,
     "grade_id": "cell-2fe212df8c13f483",
     "locked": true,
     "schema_version": 3,
     "solution": false,
     "task": false
    }
   },
   "outputs": [],
   "source": [
    "avo_summary <- avo_fit |> \n",
    "           predict(avo_test) |>\n",
    "           bind_cols(avo_test) |>\n",
    "           metrics(truth = large_hass_volume, estimate = .pred) \n",
    "avo_summary"
   ]
  },
  {
   "cell_type": "markdown",
   "metadata": {
    "deletable": false,
    "editable": false,
    "nbgrader": {
     "cell_type": "markdown",
     "checksum": "d1af18618485940bc3cf87a486e1e1c4",
     "grade": false,
     "grade_id": "cell-a1808bc5ae76e293",
     "locked": true,
     "schema_version": 3,
     "solution": false,
     "task": false
    }
   },
   "source": [
    "Once again, we see the metric `rmse` in one of the rows.\n",
    "\n",
    "**Question:** Is `rmse` there RMSE or RMSPE?"
   ]
  },
  {
   "cell_type": "markdown",
   "metadata": {
    "deletable": false,
    "nbgrader": {
     "cell_type": "markdown",
     "checksum": "fccbeef97b6c1068989c3b780e6bebae",
     "grade": true,
     "grade_id": "cell-35a5e9e3214f39c4",
     "locked": false,
     "points": 0,
     "schema_version": 3,
     "solution": true,
     "task": false
    }
   },
   "source": [
    "DOUBLE CLICK TO EDIT **THIS CELL** AND REPLACE THIS TEXT WITH YOUR ANSWER.\n"
   ]
  }
 ],
 "metadata": {
  "kernelspec": {
   "display_name": "R",
   "language": "R",
   "name": "ir"
  },
  "language_info": {
   "codemirror_mode": "r",
   "file_extension": ".r",
   "mimetype": "text/x-r-source",
   "name": "R",
   "pygments_lexer": "r",
   "version": "4.1.3"
  }
 },
 "nbformat": 4,
 "nbformat_minor": 4
}
