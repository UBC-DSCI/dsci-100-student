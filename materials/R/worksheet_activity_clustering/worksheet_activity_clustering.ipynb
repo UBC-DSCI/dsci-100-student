{
 "cells": [
  {
   "cell_type": "markdown",
   "metadata": {
    "deletable": false,
    "editable": false,
    "nbgrader": {
     "cell_type": "markdown",
     "checksum": "cfdded1b57f070f17303b86ec53d3dd2",
     "grade": false,
     "grade_id": "cell-de858861cd1e81cd",
     "locked": true,
     "schema_version": 3,
     "solution": false,
     "task": false
    }
   },
   "source": [
    "## What happened here?\n",
    "\n",
    "When we increase K, the WSSD should always decrease. Why is there a \"bump\" in this elbow plot?\n",
    "\n",
    "<center>\n",
    "    <img src=\"kmeans-elbow-bump.png\"/>\n",
    "    </center>"
   ]
  },
  {
   "cell_type": "markdown",
   "metadata": {
    "deletable": false,
    "nbgrader": {
     "cell_type": "markdown",
     "checksum": "fbb3b39703b4b8d3552fee3a6c640317",
     "grade": true,
     "grade_id": "cell-ba84fdfda90f4fbc",
     "locked": false,
     "points": 0,
     "schema_version": 3,
     "solution": true,
     "task": false
    }
   },
   "source": [
    "DOUBLE CLICK TO EDIT **THIS CELL** AND REPLACE THIS TEXT WITH YOUR ANSWER."
   ]
  }
 ],
 "metadata": {
  "kernelspec": {
   "display_name": "R",
   "language": "R",
   "name": "ir"
  },
  "language_info": {
   "codemirror_mode": "r",
   "file_extension": ".r",
   "mimetype": "text/x-r-source",
   "name": "R",
   "pygments_lexer": "r",
   "version": "4.1.3"
  }
 },
 "nbformat": 4,
 "nbformat_minor": 4
}
