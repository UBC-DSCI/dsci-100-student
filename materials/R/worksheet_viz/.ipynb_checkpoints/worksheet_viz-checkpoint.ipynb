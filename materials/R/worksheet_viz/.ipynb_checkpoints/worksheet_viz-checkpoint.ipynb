{
 "cells": [
  {
   "cell_type": "markdown",
   "metadata": {
    "deletable": false,
    "editable": false,
    "nbgrader": {
     "cell_type": "markdown",
     "checksum": "f2bdb9ee381f8a78c7d466a919455add",
     "grade": false,
     "grade_id": "cell-d7dff6881e80c256",
     "locked": true,
     "schema_version": 3,
     "solution": false,
     "task": false
    }
   },
   "source": [
    "# Worksheet: Effective data visualization \n",
    "\n",
    "This worksheet covers the [Effective data visualization](https://datasciencebook.ca/viz.html) chapter of the online textbook, which also lists the learning objectives for this worksheet. You should read the textbook chapter before attempting this worksheet. "
   ]
  },
  {
   "cell_type": "code",
   "execution_count": null,
   "metadata": {
    "deletable": false,
    "editable": false,
    "nbgrader": {
     "cell_type": "code",
     "checksum": "d69b912ec787c636dece459e57143135",
     "grade": false,
     "grade_id": "cell-1fdb1939e17b5421",
     "locked": true,
     "schema_version": 3,
     "solution": false,
     "task": false
    }
   },
   "outputs": [],
   "source": [
    "### Run this cell before continuing. \n",
    "library(tidyverse)\n",
    "library(repr)\n",
    "options(repr.matrix.max.rows = 6)\n",
    "source(\"cleanup.R\")"
   ]
  },
  {
   "cell_type": "markdown",
   "metadata": {
    "deletable": false,
    "editable": false,
    "nbgrader": {
     "cell_type": "markdown",
     "checksum": "c89a5273f3aee1db6c4e31643fcb7d29",
     "grade": false,
     "grade_id": "cell-3c378af00356c0f3",
     "locked": true,
     "schema_version": 3,
     "solution": false
    }
   },
   "source": [
    "**Question 0.1** True or False: \n",
    "<br> {points: 1}\n",
    "\n",
    "For each of the items below, which are aesthetics in `ggplot2`? \n",
    "\n",
    "A. `colour` <br>\n",
    "B. `scale` <br>\n",
    "C. `x` <br>\n",
    "D. `fill` <br>\n",
    "E. `type`\n",
    "\n",
    "*Assign either \"true\" or \"false\" for each to an object called `answer0.1_L` where `L` should be replaced by the letter corresponding to the question. For example, if above we had F. `shape`, we would set `answer0.1_F <- \"true\"`.*"
   ]
  },
  {
   "cell_type": "code",
   "execution_count": null,
   "metadata": {
    "deletable": false,
    "nbgrader": {
     "cell_type": "code",
     "checksum": "47b588aa8da4dc077b9f20c8af72e9d2",
     "grade": false,
     "grade_id": "cell-d42b5b5cadd02544",
     "locked": false,
     "schema_version": 3,
     "solution": true
    }
   },
   "outputs": [],
   "source": [
    "# Replace the fail() with your answer. \n",
    "\n",
    "# your code here\n",
    "fail() # No Answer - remove if you provide an answer"
   ]
  },
  {
   "cell_type": "code",
   "execution_count": null,
   "metadata": {
    "deletable": false,
    "editable": false,
    "nbgrader": {
     "cell_type": "code",
     "checksum": "e776b6ff54ebfa2684bfcdb9bf7d3d03",
     "grade": true,
     "grade_id": "cell-65573b490f8813ec",
     "locked": true,
     "points": 1,
     "schema_version": 3,
     "solution": false
    }
   },
   "outputs": [],
   "source": [
    "library(digest)\n",
    "stopifnot(\"type of answer0.1_A is not character\"= setequal(digest(paste(toString(class(answer0.1_A)), \"3afcc\")), \"0da0b811d9a61ab63056fa3aadfd3efa\"))\n",
    "stopifnot(\"length of answer0.1_A is not correct\"= setequal(digest(paste(toString(length(answer0.1_A)), \"3afcc\")), \"d4e036753fd0d20b660f05347b668ee7\"))\n",
    "stopifnot(\"value of answer0.1_A is not correct\"= setequal(digest(paste(toString(tolower(answer0.1_A)), \"3afcc\")), \"3d234fb92eb85a985e85886fdaf9d7ac\"))\n",
    "stopifnot(\"letters in string value of answer0.1_A are correct but case is not correct\"= setequal(digest(paste(toString(answer0.1_A), \"3afcc\")), \"3d234fb92eb85a985e85886fdaf9d7ac\"))\n",
    "\n",
    "stopifnot(\"type of answer0.1_B is not character\"= setequal(digest(paste(toString(class(answer0.1_B)), \"3afcd\")), \"393bb026faf14180dd06e43b0b22c4e1\"))\n",
    "stopifnot(\"length of answer0.1_B is not correct\"= setequal(digest(paste(toString(length(answer0.1_B)), \"3afcd\")), \"7897b26a97e2c6331d7a1c95556ba205\"))\n",
    "stopifnot(\"value of answer0.1_B is not correct\"= setequal(digest(paste(toString(tolower(answer0.1_B)), \"3afcd\")), \"31d5d315844266717c33163ade5ad052\"))\n",
    "stopifnot(\"letters in string value of answer0.1_B are correct but case is not correct\"= setequal(digest(paste(toString(answer0.1_B), \"3afcd\")), \"31d5d315844266717c33163ade5ad052\"))\n",
    "\n",
    "stopifnot(\"type of answer0.1_C is not character\"= setequal(digest(paste(toString(class(answer0.1_C)), \"3afce\")), \"2c8344bcbfc4c712ebf601ad9bf25d3a\"))\n",
    "stopifnot(\"length of answer0.1_C is not correct\"= setequal(digest(paste(toString(length(answer0.1_C)), \"3afce\")), \"6a9c3a3bb5c15264a97b6ed6780fb169\"))\n",
    "stopifnot(\"value of answer0.1_C is not correct\"= setequal(digest(paste(toString(tolower(answer0.1_C)), \"3afce\")), \"a44e6d0a7c6462234904fec7748e5927\"))\n",
    "stopifnot(\"letters in string value of answer0.1_C are correct but case is not correct\"= setequal(digest(paste(toString(answer0.1_C), \"3afce\")), \"a44e6d0a7c6462234904fec7748e5927\"))\n",
    "\n",
    "stopifnot(\"type of answer0.1_D is not character\"= setequal(digest(paste(toString(class(answer0.1_D)), \"3afcf\")), \"b22fb84fbaee12e2e37c6b7a753efc96\"))\n",
    "stopifnot(\"length of answer0.1_D is not correct\"= setequal(digest(paste(toString(length(answer0.1_D)), \"3afcf\")), \"fb2372c452a532acb13bf16081158aaa\"))\n",
    "stopifnot(\"value of answer0.1_D is not correct\"= setequal(digest(paste(toString(tolower(answer0.1_D)), \"3afcf\")), \"96ffe3ce19a98b3c4367591d9c197eb8\"))\n",
    "stopifnot(\"letters in string value of answer0.1_D are correct but case is not correct\"= setequal(digest(paste(toString(answer0.1_D), \"3afcf\")), \"96ffe3ce19a98b3c4367591d9c197eb8\"))\n",
    "\n",
    "stopifnot(\"type of answer0.1_E is not character\"= setequal(digest(paste(toString(class(answer0.1_E)), \"3afd0\")), \"ec953f40292ca6acc85135956e74a94d\"))\n",
    "stopifnot(\"length of answer0.1_E is not correct\"= setequal(digest(paste(toString(length(answer0.1_E)), \"3afd0\")), \"01ea960e941fd365b03d88dbfb021c9c\"))\n",
    "stopifnot(\"value of answer0.1_E is not correct\"= setequal(digest(paste(toString(tolower(answer0.1_E)), \"3afd0\")), \"d8cb691867672dc01e503a80ee7cad66\"))\n",
    "stopifnot(\"letters in string value of answer0.1_E are correct but case is not correct\"= setequal(digest(paste(toString(answer0.1_E), \"3afd0\")), \"d8cb691867672dc01e503a80ee7cad66\"))\n",
    "\n",
    "print('Success!')"
   ]
  },
  {
   "cell_type": "markdown",
   "metadata": {
    "deletable": false,
    "editable": false,
    "nbgrader": {
     "cell_type": "markdown",
     "checksum": "f97fa5d01dc4e60bb2920829edfda9b6",
     "grade": false,
     "grade_id": "cell-a7dfc6e8e27d0615",
     "locked": true,
     "schema_version": 3,
     "solution": false
    }
   },
   "source": [
    "**Question 0.2** Multiple Choice:\n",
    "<br> {points: 1}\n",
    "\n",
    "When deciding on the size of your visualization we recommend that you: \n",
    "\n",
    "A. Only make the plot area (where the dots, lines, bars are) as big as needed\n",
    "\n",
    "B. Make it as big as your screen allows\n",
    "\n",
    "C. Use the default given by `ggplot`\n",
    "\n",
    "*Assign your answer to an object called `answer0.2`. Make sure your answer is an uppercase letter and is surrounded by quotation marks (e.g. `\"F\"`).*"
   ]
  },
  {
   "cell_type": "code",
   "execution_count": null,
   "metadata": {
    "deletable": false,
    "nbgrader": {
     "cell_type": "code",
     "checksum": "c102fe1412b1b6c18e9d7beda83d20a2",
     "grade": false,
     "grade_id": "cell-46cbbfc18df2f1a2",
     "locked": false,
     "schema_version": 3,
     "solution": true
    }
   },
   "outputs": [],
   "source": [
    "# Replace the fail() with your answer. \n",
    "\n",
    "# your code here\n",
    "fail() # No Answer - remove if you provide an answer"
   ]
  },
  {
   "cell_type": "code",
   "execution_count": null,
   "metadata": {
    "deletable": false,
    "editable": false,
    "nbgrader": {
     "cell_type": "code",
     "checksum": "d86c7295593181e928babee0f6c77cf1",
     "grade": true,
     "grade_id": "cell-165bb2f307f14e34",
     "locked": true,
     "points": 1,
     "schema_version": 3,
     "solution": false
    }
   },
   "outputs": [],
   "source": [
    "library(digest)\n",
    "stopifnot(\"type of answer0.2 is not character\"= setequal(digest(paste(toString(class(answer0.2)), \"1f34d\")), \"638069ba8e223b370e5b7ffbc657e4df\"))\n",
    "stopifnot(\"length of answer0.2 is not correct\"= setequal(digest(paste(toString(length(answer0.2)), \"1f34d\")), \"ef68b1075103f89ad725c62972606ae8\"))\n",
    "stopifnot(\"value of answer0.2 is not correct\"= setequal(digest(paste(toString(tolower(answer0.2)), \"1f34d\")), \"87aeb2b34f978e5a23c62a0d0eaa0b9d\"))\n",
    "stopifnot(\"letters in string value of answer0.2 are correct but case is not correct\"= setequal(digest(paste(toString(answer0.2), \"1f34d\")), \"7fb1c8ebf3c2e9b3c933e0c59083dc3f\"))\n",
    "\n",
    "print('Success!')"
   ]
  },
  {
   "cell_type": "markdown",
   "metadata": {
    "deletable": false,
    "editable": false,
    "nbgrader": {
     "cell_type": "markdown",
     "checksum": "f908be3d8f9e0a327b0b4a02d43cc447",
     "grade": false,
     "grade_id": "cell-a64e6788a027a69c",
     "locked": true,
     "schema_version": 3,
     "solution": false
    }
   },
   "source": [
    "**Question 0.3** Multiple Choice:\n",
    "<br> {points: 1}\n",
    "\n",
    "Under what circumstance would you use a static (non-interactive) 3D plot??\n",
    "\n",
    "A. Anytime you have more than two variables that you want to show the relationship between\n",
    "\n",
    "B. When you want to emphasize the large difference between groups\n",
    "\n",
    "C. When you need to grab attention of your audience\n",
    "\n",
    "D. Rarely, we generally avoid 3D plots because they are often harder to interpret than 2D plots\n",
    "\n",
    "*Assign your answer to an object called `answer0.3`. Make sure your answer is an uppercase letter and is surrounded by quotation marks (e.g. `\"F\"`).*"
   ]
  },
  {
   "cell_type": "code",
   "execution_count": null,
   "metadata": {
    "deletable": false,
    "nbgrader": {
     "cell_type": "code",
     "checksum": "d3088ea2521fd5c2677ebbac7253e231",
     "grade": false,
     "grade_id": "cell-e3a98de134b6b2f0",
     "locked": false,
     "schema_version": 3,
     "solution": true
    }
   },
   "outputs": [],
   "source": [
    "# Replace the fail() with your answer. \n",
    "\n",
    "# your code here\n",
    "fail() # No Answer - remove if you provide an answer"
   ]
  },
  {
   "cell_type": "code",
   "execution_count": null,
   "metadata": {
    "deletable": false,
    "editable": false,
    "nbgrader": {
     "cell_type": "code",
     "checksum": "ea409743cf7e0d181bc917cce825526d",
     "grade": true,
     "grade_id": "cell-521dc123937db46d",
     "locked": true,
     "points": 1,
     "schema_version": 3,
     "solution": false
    }
   },
   "outputs": [],
   "source": [
    "library(digest)\n",
    "stopifnot(\"type of answer0.3 is not character\"= setequal(digest(paste(toString(class(answer0.3)), \"41946\")), \"c8b24a798cc1a59611837ee1c555ebb9\"))\n",
    "stopifnot(\"length of answer0.3 is not correct\"= setequal(digest(paste(toString(length(answer0.3)), \"41946\")), \"63374a30ca7f20b8f777e0337f2ee14d\"))\n",
    "stopifnot(\"value of answer0.3 is not correct\"= setequal(digest(paste(toString(tolower(answer0.3)), \"41946\")), \"68dafd4b511e81f1de0590df5428052f\"))\n",
    "stopifnot(\"letters in string value of answer0.3 are correct but case is not correct\"= setequal(digest(paste(toString(answer0.3), \"41946\")), \"d2e4639440bfd8fa95202ae43a805f4e\"))\n",
    "\n",
    "print('Success!')"
   ]
  },
  {
   "cell_type": "markdown",
   "metadata": {
    "deletable": false,
    "editable": false,
    "nbgrader": {
     "cell_type": "markdown",
     "checksum": "ddc4e2c6fb1327d5ead0fdaef08d69c9",
     "grade": false,
     "grade_id": "cell-7148c0706bcb2d4b",
     "locked": true,
     "schema_version": 3,
     "solution": false
    }
   },
   "source": [
    "**Question 0.4** Multiple Choice:\n",
    "<br> {points: 1}\n",
    "\n",
    "What is the symbol used to add a new layer to a `ggplot` object?\n",
    "\n",
    "A. `<-`\n",
    "\n",
    "B. `|>`\n",
    "\n",
    "C. `%&%`\n",
    "\n",
    "D. `+`\n",
    "\n",
    "*Assign your answer to an object called `answer0.4`. Make sure your answer is an uppercase letter and is surrounded by quotation marks (e.g. `\"F\"`).*"
   ]
  },
  {
   "cell_type": "code",
   "execution_count": null,
   "metadata": {
    "deletable": false,
    "nbgrader": {
     "cell_type": "code",
     "checksum": "4fc162b57d921bcc81af77f53001c23c",
     "grade": false,
     "grade_id": "cell-ea7ba4f1243e667d",
     "locked": false,
     "schema_version": 3,
     "solution": true
    }
   },
   "outputs": [],
   "source": [
    "# Replace the fail() with your answer. \n",
    "\n",
    "# your code here\n",
    "fail() # No Answer - remove if you provide an answer"
   ]
  },
  {
   "cell_type": "code",
   "execution_count": null,
   "metadata": {
    "deletable": false,
    "editable": false,
    "nbgrader": {
     "cell_type": "code",
     "checksum": "2f331b67ea7257c0beb3943d8958322d",
     "grade": true,
     "grade_id": "cell-5c15ea7ab4b4655e",
     "locked": true,
     "points": 1,
     "schema_version": 3,
     "solution": false
    }
   },
   "outputs": [],
   "source": [
    "library(digest)\n",
    "stopifnot(\"type of answer0.4 is not character\"= setequal(digest(paste(toString(class(answer0.4)), \"b2cd0\")), \"3325a9ffc643a309295b5111c8990a48\"))\n",
    "stopifnot(\"length of answer0.4 is not correct\"= setequal(digest(paste(toString(length(answer0.4)), \"b2cd0\")), \"7389bebefe4dbcdc7955ac844b4f1f62\"))\n",
    "stopifnot(\"value of answer0.4 is not correct\"= setequal(digest(paste(toString(tolower(answer0.4)), \"b2cd0\")), \"6ae41f777bd52bb3a95faa88c27dc955\"))\n",
    "stopifnot(\"letters in string value of answer0.4 are correct but case is not correct\"= setequal(digest(paste(toString(answer0.4), \"b2cd0\")), \"14e043fa9e5f65ae3943f8e0e6b39e10\"))\n",
    "\n",
    "print('Success!')"
   ]
  },
  {
   "cell_type": "markdown",
   "metadata": {
    "deletable": false,
    "editable": false,
    "nbgrader": {
     "cell_type": "markdown",
     "checksum": "5bf8bd2edd9dc01e95953e4531fe278a",
     "grade": false,
     "grade_id": "cell-d33780730eef352c",
     "locked": true,
     "schema_version": 3,
     "solution": false,
     "task": false
    }
   },
   "source": [
    "**Question 0.5** Item Arrangement\n",
    "<br> {points: 1}\n",
    "\n",
    "Match the following geometric objects to their corresponding visualization purposes.\n",
    "\n",
    "1. `geom_histogram`\n",
    "2. `geom_hline`\n",
    "3. `geom_point`\n",
    "4. `geom_line`\n",
    "5. `geom_vline`\n",
    "6. `geom_bar`\n",
    "\n",
    "A. Visualizing the distribution of data in one dimension <br>\n",
    "B. Visualizing the relationship between two variables in two dimensions  <br>\n",
    "C. Comparing amounts  <br>\n",
    "D. Drawing a straight, vertical line at a specified position on the x-axis.  <br>\n",
    "E. Drawing a straight, horizontal line at a specified position on the y-axis. <br>\n",
    "F. Showing a trend with respect to an independent quantity  <br>\n",
    "\n",
    "*Assign each single character answer (e.g. \"D\") to an object called `answer0.5_#` where `#` should be \n",
    "replaced by the number corresponding to the item. For example, if we wanted to match 1 to F above, we would\n",
    "set `answer0.5_1 <- \"F\"`.*"
   ]
  },
  {
   "cell_type": "code",
   "execution_count": null,
   "metadata": {
    "deletable": false,
    "nbgrader": {
     "cell_type": "code",
     "checksum": "520864a08e62ae114da6e8af52e39cb0",
     "grade": false,
     "grade_id": "cell-3f32a93753a230e1",
     "locked": false,
     "schema_version": 3,
     "solution": true,
     "task": false
    }
   },
   "outputs": [],
   "source": [
    "# Replace the fail() with your answer. \n",
    "\n",
    "# your code here\n",
    "fail() # No Answer - remove if you provide an answer"
   ]
  },
  {
   "cell_type": "code",
   "execution_count": null,
   "metadata": {
    "deletable": false,
    "editable": false,
    "nbgrader": {
     "cell_type": "code",
     "checksum": "53b751184470c644efc441862ab2e312",
     "grade": true,
     "grade_id": "cell-7b95a04e22cfd223",
     "locked": true,
     "points": 1,
     "schema_version": 3,
     "solution": false,
     "task": false
    }
   },
   "outputs": [],
   "source": [
    "library(digest)\n",
    "stopifnot(\"type of answer0.5_1 is not character\"= setequal(digest(paste(toString(class(answer0.5_1)), \"50739\")), \"7df2f527cbe332bf3d14e1b129296787\"))\n",
    "stopifnot(\"length of answer0.5_1 is not correct\"= setequal(digest(paste(toString(length(answer0.5_1)), \"50739\")), \"bc6917e524cda201e25ea3af0506c794\"))\n",
    "stopifnot(\"value of answer0.5_1 is not correct\"= setequal(digest(paste(toString(tolower(answer0.5_1)), \"50739\")), \"edf5f06a27f910c739c1879bc9ebb09f\"))\n",
    "stopifnot(\"letters in string value of answer0.5_1 are correct but case is not correct\"= setequal(digest(paste(toString(answer0.5_1), \"50739\")), \"e6d9b78faec0859893df06d8cde0c4f3\"))\n",
    "\n",
    "stopifnot(\"type of answer0.5_2 is not character\"= setequal(digest(paste(toString(class(answer0.5_2)), \"5073a\")), \"2e971b64932c11291ba5de7b451cd992\"))\n",
    "stopifnot(\"length of answer0.5_2 is not correct\"= setequal(digest(paste(toString(length(answer0.5_2)), \"5073a\")), \"0b9c1bd8399be484ff0233871013c2fe\"))\n",
    "stopifnot(\"value of answer0.5_2 is not correct\"= setequal(digest(paste(toString(tolower(answer0.5_2)), \"5073a\")), \"c2c32a494367e55464a26240dfa92108\"))\n",
    "stopifnot(\"letters in string value of answer0.5_2 are correct but case is not correct\"= setequal(digest(paste(toString(answer0.5_2), \"5073a\")), \"e3f48b5845490887dbd8310ead8f5650\"))\n",
    "\n",
    "stopifnot(\"type of answer0.5_3 is not character\"= setequal(digest(paste(toString(class(answer0.5_3)), \"5073b\")), \"6103cdb8d8e224408714d8eef39f2e45\"))\n",
    "stopifnot(\"length of answer0.5_3 is not correct\"= setequal(digest(paste(toString(length(answer0.5_3)), \"5073b\")), \"ce905d1e5d2d7b74a75b8d963c5ba335\"))\n",
    "stopifnot(\"value of answer0.5_3 is not correct\"= setequal(digest(paste(toString(tolower(answer0.5_3)), \"5073b\")), \"c8072903246ce4a3f47c4cb666f54fc3\"))\n",
    "stopifnot(\"letters in string value of answer0.5_3 are correct but case is not correct\"= setequal(digest(paste(toString(answer0.5_3), \"5073b\")), \"129905cbacb0db5d5f66536b180cbfe8\"))\n",
    "\n",
    "stopifnot(\"type of answer0.5_4 is not character\"= setequal(digest(paste(toString(class(answer0.5_4)), \"5073c\")), \"de50d9540982d30efd814137b8ce9b49\"))\n",
    "stopifnot(\"length of answer0.5_4 is not correct\"= setequal(digest(paste(toString(length(answer0.5_4)), \"5073c\")), \"b9e9ad8c267a6b6741ad83d591bdc285\"))\n",
    "stopifnot(\"value of answer0.5_4 is not correct\"= setequal(digest(paste(toString(tolower(answer0.5_4)), \"5073c\")), \"14e89cf8d2906bb782a8042d6b169fc2\"))\n",
    "stopifnot(\"letters in string value of answer0.5_4 are correct but case is not correct\"= setequal(digest(paste(toString(answer0.5_4), \"5073c\")), \"a575f7095810eac4a49e50c37b8d9b2c\"))\n",
    "\n",
    "stopifnot(\"type of answer0.5_5 is not character\"= setequal(digest(paste(toString(class(answer0.5_5)), \"5073d\")), \"ed6c852c278186049636538c2bef572a\"))\n",
    "stopifnot(\"length of answer0.5_5 is not correct\"= setequal(digest(paste(toString(length(answer0.5_5)), \"5073d\")), \"1b85c49baa0c6daa0ed0c627a654d1a5\"))\n",
    "stopifnot(\"value of answer0.5_5 is not correct\"= setequal(digest(paste(toString(tolower(answer0.5_5)), \"5073d\")), \"347e89ae322ec6be06ebd208f563ff61\"))\n",
    "stopifnot(\"letters in string value of answer0.5_5 are correct but case is not correct\"= setequal(digest(paste(toString(answer0.5_5), \"5073d\")), \"d7c22822b35d1407414526e4549df748\"))\n",
    "\n",
    "stopifnot(\"type of answer0.5_6 is not character\"= setequal(digest(paste(toString(class(answer0.5_6)), \"5073e\")), \"4a53e6b64d1cff8d155369c0bb146186\"))\n",
    "stopifnot(\"length of answer0.5_6 is not correct\"= setequal(digest(paste(toString(length(answer0.5_6)), \"5073e\")), \"959230507633c95ff968778a37459b84\"))\n",
    "stopifnot(\"value of answer0.5_6 is not correct\"= setequal(digest(paste(toString(tolower(answer0.5_6)), \"5073e\")), \"3b2b8551328e700d706441cab464364c\"))\n",
    "stopifnot(\"letters in string value of answer0.5_6 are correct but case is not correct\"= setequal(digest(paste(toString(answer0.5_6), \"5073e\")), \"bdaccdce1a39ffa62568773df872161c\"))\n",
    "\n",
    "print('Success!')"
   ]
  },
  {
   "cell_type": "markdown",
   "metadata": {
    "deletable": false,
    "editable": false,
    "nbgrader": {
     "cell_type": "markdown",
     "checksum": "5f66540df0550f6bce458b3273d5d302",
     "grade": false,
     "grade_id": "cell-603e82af426c3ceb",
     "locked": true,
     "schema_version": 3,
     "solution": false,
     "task": false
    }
   },
   "source": [
    "## 1. World Vaccination Trends\n",
    "\n",
    "Data scientists find work in all sectors of the economy and all types of organizations. Some work in collaboration with public sector organizations to solve problems that affect society, both at local and global scales. Today we will be looking at a global problem with real data from the [World Health Organization](https://www.who.int/) (WHO). According to WHO, Polio is a disease that affects mostly children younger than 5 years old, and to date there is no cure. However, when given a vaccine, children can develop sufficient antibodies in their system to be immune to the disease. Another disease, Hepatitis B, is also known to affect infants but in a chronic manner. There is also a vaccine for Hepatitis B available. \n",
    "\n",
    "The columns in the dataset are:\n",
    "\n",
    "- `who_region` - The WHO region of the world\n",
    "- `yr` - The year\n",
    "- `pct_vaccinated` - Estimated percentage of people vaccinated in the region\n",
    "- `vaccine` - Whether it's the `polio` or the `hepatitis_b` vaccine\n",
    "\n",
    "We want to know two things. First, has there been a change in Polio or Hepatitis B vaccination patterns throughout the years? And if so, what is that pattern? Second, have the vaccination patterns for one of these diseases changed more than the other? **The goal for today is to produce a plot of the estimated percentage of people vaccinated per year**. To do this, you will follow the steps outlined below.\n",
    "\n",
    "The original datasets are available here:\n",
    "   - Polio: http://apps.who.int/gho/data/view.main.81605?lang=en\n",
    "   - Hepatitis B: http://apps.who.int/gho/data/view.main.81300?lang=en\n",
    "   \n",
    "The data set we will work with for this worksheet however is named `world_vaccination.csv` and it lives in the `worksheet_04/data` directory."
   ]
  },
  {
   "cell_type": "markdown",
   "metadata": {
    "deletable": false,
    "editable": false,
    "nbgrader": {
     "cell_type": "markdown",
     "checksum": "b2866ded6705058c9b4a546fc2f3fb6b",
     "grade": false,
     "grade_id": "cell-6767e740b3c9df90",
     "locked": true,
     "schema_version": 3,
     "solution": false
    }
   },
   "source": [
    "**Question 1.0** Multiple Choice:\n",
    "<br> {points: 1}\n",
    "\n",
    "Consider the variables `yr` and `pct_vaccinated`. These variables are:\n",
    "\n",
    "A. both quantitative (e.g., numerical).\n",
    "\n",
    "B. both categorical\n",
    "\n",
    "C. one is categorical and one is quantitative\n",
    "\n",
    "D. None of the above. \n",
    "\n",
    "*Assign your answer to an object called `answer1.0`. Make sure your answer is an uppercase letter and is surrounded by quotation marks (e.g. `\"F\"`).*"
   ]
  },
  {
   "cell_type": "code",
   "execution_count": null,
   "metadata": {
    "deletable": false,
    "nbgrader": {
     "cell_type": "code",
     "checksum": "1519085ad9f2add3a2e67c34250f7cb4",
     "grade": false,
     "grade_id": "cell-eeda947331564185",
     "locked": false,
     "schema_version": 3,
     "solution": true
    }
   },
   "outputs": [],
   "source": [
    "# Replace the fail() with your answer. \n",
    "\n",
    "# your code here\n",
    "fail() # No Answer - remove if you provide an answer"
   ]
  },
  {
   "cell_type": "code",
   "execution_count": null,
   "metadata": {
    "deletable": false,
    "editable": false,
    "nbgrader": {
     "cell_type": "code",
     "checksum": "7e2db18776c00fb34533ffb54f07b9fd",
     "grade": true,
     "grade_id": "cell-abc8ab4c34c2959d",
     "locked": true,
     "points": 1,
     "schema_version": 3,
     "solution": false
    }
   },
   "outputs": [],
   "source": [
    "library(digest)\n",
    "stopifnot(\"type of answer1.0 is not character\"= setequal(digest(paste(toString(class(answer1.0)), \"b45c\")), \"b191a815e993829850a0a5ab5ecb4bca\"))\n",
    "stopifnot(\"length of answer1.0 is not correct\"= setequal(digest(paste(toString(length(answer1.0)), \"b45c\")), \"20e47938d36d5f526cc9f13adb4379e1\"))\n",
    "stopifnot(\"value of answer1.0 is not correct\"= setequal(digest(paste(toString(tolower(answer1.0)), \"b45c\")), \"e693115b8b42d132add3893ec7a4f0f9\"))\n",
    "stopifnot(\"letters in string value of answer1.0 are correct but case is not correct\"= setequal(digest(paste(toString(answer1.0), \"b45c\")), \"aad69dd10cb44ee01d596703021113e4\"))\n",
    "\n",
    "print('Success!')"
   ]
  },
  {
   "cell_type": "markdown",
   "metadata": {
    "deletable": false,
    "editable": false,
    "nbgrader": {
     "cell_type": "markdown",
     "checksum": "f58bda672bc930d398957e9107798713",
     "grade": false,
     "grade_id": "cell-cfc4be1132bff6c2",
     "locked": true,
     "schema_version": 3,
     "solution": false,
     "task": false
    }
   },
   "source": [
    "**Question 1.1** \n",
    "<br> {points: 1}\n",
    "\n",
    "Read the `world_vaccination.csv` file. Filter the data so that we don't have any NA's in the `pct_vaccinated` column. We also want to filter out (i.e., remove) the `(WHO) Global` region as it is just the average of the other regions. Assign the remaining data (without the `(WHO) Global` region) to an object called `world_vaccination`.\n",
    "\n",
    "Hint: When you want to filter for rows that aren't equal to something, in R you can use the `!=` operator. For example, to remove all the cars with 6 cylinders from the `mtcars` built-in R data set we would do the following:"
   ]
  },
  {
   "cell_type": "code",
   "execution_count": null,
   "metadata": {
    "deletable": false,
    "editable": false,
    "nbgrader": {
     "cell_type": "code",
     "checksum": "47df0ce610d372b35f6298f7481fb705",
     "grade": false,
     "grade_id": "cell-7b703d29bb313b9a",
     "locked": true,
     "schema_version": 3,
     "solution": false,
     "task": false
    }
   },
   "outputs": [],
   "source": [
    "filter(mtcars, cyl != 6) "
   ]
  },
  {
   "cell_type": "markdown",
   "metadata": {
    "deletable": false,
    "editable": false,
    "nbgrader": {
     "cell_type": "markdown",
     "checksum": "f8d45f89d2842f02c4e477172b0ad1ff",
     "grade": false,
     "grade_id": "cell-1c00eadb82617fcb",
     "locked": true,
     "schema_version": 3,
     "solution": false,
     "task": false
    }
   },
   "source": [
    "The function `is.na()` is a function that indicates which elements are missing. Since the `!=` operator filters rows that are *not equal* to something, we can use `!is.na()` to find the values that are *not equal to NA*. For instance, to filter out NAs from the `cyl` column in the `mtcars` data set we would do the following: "
   ]
  },
  {
   "cell_type": "code",
   "execution_count": null,
   "metadata": {
    "deletable": false,
    "editable": false,
    "nbgrader": {
     "cell_type": "code",
     "checksum": "e5fd435b56b3976e1dfed50c27a8dca9",
     "grade": false,
     "grade_id": "cell-c41429b8aa8218cc",
     "locked": true,
     "schema_version": 3,
     "solution": false,
     "task": false
    }
   },
   "outputs": [],
   "source": [
    "filter(mtcars, !is.na(cyl)) "
   ]
  },
  {
   "cell_type": "code",
   "execution_count": null,
   "metadata": {
    "deletable": false,
    "nbgrader": {
     "cell_type": "code",
     "checksum": "43374600932c502f3b8f0614309b340f",
     "grade": false,
     "grade_id": "cell-4f35092c147ceab5",
     "locked": false,
     "schema_version": 3,
     "solution": true
    }
   },
   "outputs": [],
   "source": [
    "#... <- read_...(...) |>\n",
    "# filter(!is.na(...), ... != ...)\n",
    "\n",
    "# your code here\n",
    "fail() # No Answer - remove if you provide an answer\n",
    "world_vaccination"
   ]
  },
  {
   "cell_type": "code",
   "execution_count": null,
   "metadata": {
    "deletable": false,
    "editable": false,
    "nbgrader": {
     "cell_type": "code",
     "checksum": "b20fb3e5cc2dd7478976368500ebdb85",
     "grade": true,
     "grade_id": "cell-4f295963a61ad122",
     "locked": true,
     "points": 1,
     "schema_version": 3,
     "solution": false
    }
   },
   "outputs": [],
   "source": [
    "library(digest)\n",
    "stopifnot(\"world_vaccination should be a data frame\"= setequal(digest(paste(toString('data.frame' %in% class(world_vaccination)), \"33956\")), \"41394e708489c1f604e18f5c072385b1\"))\n",
    "stopifnot(\"dimensions of world_vaccination are not correct\"= setequal(digest(paste(toString(dim(world_vaccination)), \"33956\")), \"b65bc5aa736fe4fdb7dee3e0cd472d78\"))\n",
    "stopifnot(\"column names of world_vaccination are not correct\"= setequal(digest(paste(toString(sort(colnames(world_vaccination))), \"33956\")), \"356509d1dbdb8a1121be24fe823ed36d\"))\n",
    "stopifnot(\"types of columns in world_vaccination are not correct\"= setequal(digest(paste(toString(sort(unlist(sapply(world_vaccination, class)))), \"33956\")), \"0d7e10b9c8c846880486ad4b3e8b86ad\"))\n",
    "stopifnot(\"values in one or more numerical columns in world_vaccination are not correct\"= setequal(digest(paste(toString(if (any(sapply(world_vaccination, is.numeric))) sort(round(sapply(world_vaccination[, sapply(world_vaccination, is.numeric)], sum, na.rm = TRUE), 2)) else 0), \"33956\")), \"d51336b0d6c27c4333030d509e4bedb8\"))\n",
    "stopifnot(\"values in one or more character columns in world_vaccination are not correct\"= setequal(digest(paste(toString(if (any(sapply(world_vaccination, is.character))) sum(sapply(world_vaccination[sapply(world_vaccination, is.character)], function(x) length(unique(x)))) else 0), \"33956\")), \"f0edf38bc706e3094b5fdfc2275c9a5c\"))\n",
    "stopifnot(\"values in one or more factor columns in world_vaccination are not correct\"= setequal(digest(paste(toString(if (any(sapply(world_vaccination, is.factor))) sum(sapply(world_vaccination[, sapply(world_vaccination, is.factor)], function(col) length(unique(col)))) else 0), \"33956\")), \"dd353b08e76cefc1b2fbe9db2e06efbf\"))\n",
    "\n",
    "print('Success!')"
   ]
  },
  {
   "cell_type": "markdown",
   "metadata": {
    "deletable": false,
    "editable": false,
    "nbgrader": {
     "cell_type": "markdown",
     "checksum": "41e0e0805a9c79617e69be1e1938d745",
     "grade": false,
     "grade_id": "cell-b246d38affa1166f",
     "locked": true,
     "schema_version": 3,
     "solution": false
    }
   },
   "source": [
    "**Question 1.2** \n",
    "<br> {points: 1}\n",
    "\n",
    "Create a scatter plot of the percentage of people vaccinated (y-axis) against year (x-axis) for all the regions in `world_vaccination`. Make sure to label your axes with human readable labels with an appropriate text size. \n",
    "\n",
    "*Assign your plot to an object called `world_vacc_plot`*."
   ]
  },
  {
   "cell_type": "code",
   "execution_count": null,
   "metadata": {
    "deletable": false,
    "nbgrader": {
     "cell_type": "code",
     "checksum": "6486cb30225a78bdbf997fb6945fbfca",
     "grade": false,
     "grade_id": "cell-31e847db6b64c666",
     "locked": false,
     "schema_version": 3,
     "solution": true
    }
   },
   "outputs": [],
   "source": [
    "# your code here\n",
    "fail() # No Answer - remove if you provide an answer\n",
    "world_vacc_plot"
   ]
  },
  {
   "cell_type": "code",
   "execution_count": null,
   "metadata": {
    "deletable": false,
    "editable": false,
    "nbgrader": {
     "cell_type": "code",
     "checksum": "ceb35e99de5a62225d868aede3c328c3",
     "grade": true,
     "grade_id": "cell-56bc18a4d58208c4",
     "locked": true,
     "points": 1,
     "schema_version": 3,
     "solution": false
    }
   },
   "outputs": [],
   "source": [
    "library(digest)\n",
    "stopifnot(\"type of plot is not correct (if you are using two types of geoms, try flipping the order of the geom objects!)\"= setequal(digest(paste(toString(sapply(seq_len(length(world_vacc_plot$layers)), function(i) {c(class(world_vacc_plot$layers[[i]]$geom))[1]})), \"b52a5\")), \"2c9df44966375bad6c6877b3732b6a5c\"))\n",
    "stopifnot(\"variable x is not correct\"= setequal(digest(paste(toString(unlist(lapply(sapply(seq_len(length(world_vacc_plot$layers)), function(i) {rlang::get_expr(c(world_vacc_plot$layers[[i]]$mapping, world_vacc_plot$mapping)$x)}), as.character))), \"b52a5\")), \"12fed624699af676a7e6cd6a4991656b\"))\n",
    "stopifnot(\"variable y is not correct\"= setequal(digest(paste(toString(unlist(lapply(sapply(seq_len(length(world_vacc_plot$layers)), function(i) {rlang::get_expr(c(world_vacc_plot$layers[[i]]$mapping, world_vacc_plot$mapping)$y)}), as.character))), \"b52a5\")), \"91694b2885b00e63855b68873c3c0e3a\"))\n",
    "stopifnot(\"x-axis label is not descriptive, nicely formatted, or human readable\"= setequal(digest(paste(toString(rlang::get_expr(c(world_vacc_plot$layers[[1]]$mapping, world_vacc_plot$mapping)$x)!= world_vacc_plot$labels$x), \"b52a5\")), \"316b41f2e36a7bba96f54880de1c3a58\"))\n",
    "stopifnot(\"y-axis label is not descriptive, nicely formatted, or human readable\"= setequal(digest(paste(toString(rlang::get_expr(c(world_vacc_plot$layers[[1]]$mapping, world_vacc_plot$mapping)$y)!= world_vacc_plot$labels$y), \"b52a5\")), \"316b41f2e36a7bba96f54880de1c3a58\"))\n",
    "stopifnot(\"incorrect colour variable in world_vacc_plot, specify a correct one if required\"= setequal(digest(paste(toString(rlang::get_expr(c(world_vacc_plot$layers[[1]]$mapping, world_vacc_plot$mapping)$colour)), \"b52a5\")), \"ac600d696660a75f4988c77673a52373\"))\n",
    "stopifnot(\"incorrect shape variable in world_vacc_plot, specify a correct one if required\"= setequal(digest(paste(toString(rlang::get_expr(c(world_vacc_plot$layers[[1]]$mapping, world_vacc_plot$mapping)$shape)), \"b52a5\")), \"ac600d696660a75f4988c77673a52373\"))\n",
    "stopifnot(\"the colour label in world_vacc_plot is not descriptive, nicely formatted, or human readable\"= setequal(digest(paste(toString(rlang::get_expr(c(world_vacc_plot$layers[[1]]$mapping, world_vacc_plot$mapping)$colour) != world_vacc_plot$labels$colour), \"b52a5\")), \"ac600d696660a75f4988c77673a52373\"))\n",
    "stopifnot(\"the shape label in world_vacc_plot is not descriptive, nicely formatted, or human readable\"= setequal(digest(paste(toString(rlang::get_expr(c(world_vacc_plot$layers[[1]]$mapping, world_vacc_plot$mapping)$colour) != world_vacc_plot$labels$shape), \"b52a5\")), \"ac600d696660a75f4988c77673a52373\"))\n",
    "stopifnot(\"fill variable in world_vacc_plot is not correct\"= setequal(digest(paste(toString(quo_name(world_vacc_plot$mapping$fill)), \"b52a5\")), \"92f0c895485acb5a9cae60c0a5df6758\"))\n",
    "stopifnot(\"fill label in world_vacc_plot is not informative\"= setequal(digest(paste(toString((quo_name(world_vacc_plot$mapping$fill) != world_vacc_plot$labels$fill)), \"b52a5\")), \"ac600d696660a75f4988c77673a52373\"))\n",
    "stopifnot(\"position argument in world_vacc_plot is not correct\"= setequal(digest(paste(toString(class(world_vacc_plot$layers[[1]]$position)[1]), \"b52a5\")), \"0cfc0eedbaa6bb2e0310d4c81ee4c25b\"))\n",
    "\n",
    "stopifnot(\"world_vacc_plot$data should be a data frame\"= setequal(digest(paste(toString('data.frame' %in% class(world_vacc_plot$data)), \"b52a6\")), \"79022e7e761c1a5bf2fd4e68e24069b3\"))\n",
    "stopifnot(\"dimensions of world_vacc_plot$data are not correct\"= setequal(digest(paste(toString(dim(world_vacc_plot$data)), \"b52a6\")), \"e2c26840f80d7a0acccda69c6945d636\"))\n",
    "stopifnot(\"column names of world_vacc_plot$data are not correct\"= setequal(digest(paste(toString(sort(colnames(world_vacc_plot$data))), \"b52a6\")), \"df2f33253df12ed471a4f4dac2c54a52\"))\n",
    "stopifnot(\"types of columns in world_vacc_plot$data are not correct\"= setequal(digest(paste(toString(sort(unlist(sapply(world_vacc_plot$data, class)))), \"b52a6\")), \"934b8d709888451980888ef3c867400c\"))\n",
    "stopifnot(\"values in one or more numerical columns in world_vacc_plot$data are not correct\"= setequal(digest(paste(toString(if (any(sapply(world_vacc_plot$data, is.numeric))) sort(round(sapply(world_vacc_plot$data[, sapply(world_vacc_plot$data, is.numeric)], sum, na.rm = TRUE), 2)) else 0), \"b52a6\")), \"45fb5588bc4ce2d36137580f8b3c82c3\"))\n",
    "stopifnot(\"values in one or more character columns in world_vacc_plot$data are not correct\"= setequal(digest(paste(toString(if (any(sapply(world_vacc_plot$data, is.character))) sum(sapply(world_vacc_plot$data[sapply(world_vacc_plot$data, is.character)], function(x) length(unique(x)))) else 0), \"b52a6\")), \"8c351ceeef0200b184bb256706421ea1\"))\n",
    "stopifnot(\"values in one or more factor columns in world_vacc_plot$data are not correct\"= setequal(digest(paste(toString(if (any(sapply(world_vacc_plot$data, is.factor))) sum(sapply(world_vacc_plot$data[, sapply(world_vacc_plot$data, is.factor)], function(col) length(unique(col)))) else 0), \"b52a6\")), \"f7b50d12774aa239bcb7cd432a396243\"))\n",
    "\n",
    "print('Success!')"
   ]
  },
  {
   "cell_type": "markdown",
   "metadata": {
    "deletable": false,
    "editable": false,
    "nbgrader": {
     "cell_type": "markdown",
     "checksum": "f18db28b30548953a970a2a0648eb300",
     "grade": false,
     "grade_id": "cell-318acc9c423ac732",
     "locked": true,
     "schema_version": 3,
     "solution": false,
     "task": false
    }
   },
   "source": [
    "You will probably find that this plot isn't the right size for your screen. Let's change the plot size so that the plot area is as big as it needs to be to clearly see the \"ink\" (dots). We do this using the `options` function from the `repr` R package. In past worksheets and tutorials we did this for you, from now on you need to do this yourself and choose an approprate plot size.\n",
    "\n",
    "The `options` function takes 2 arguments for plot size, `repr.plot.width` and `repr.plot.height`. Uncomment the first line of code in the code cell below and fill in the `...`  to choose a more approprate size and and replot the figure afterwards below.\n",
    "\n",
    "*Note: if you get a weird error saying `unable to start device 'png'`, it's because you set your plot's width and height too large - try a smaller number for each. If you get an error saying `invalid 'width' / 'height' argument`, it may be because you set the width/height too small - try a larger number.*\n",
    "\n",
    "You'll also often need to change the font size in plots. For this, add `theme(text = element_text(size=....))` to your `ggplot` object, with a reasonable choice of font size (a decent starting point is `size = 20`).\n"
   ]
  },
  {
   "cell_type": "code",
   "execution_count": null,
   "metadata": {},
   "outputs": [],
   "source": [
    "#options(repr.plot.width = ..., repr.plot.height = ...) \n",
    "#world_vacc_plot <- world_vacc_plot +\n",
    "#                        theme(text = element_text(size = 20))\n",
    "world_vacc_plot"
   ]
  },
  {
   "cell_type": "markdown",
   "metadata": {
    "deletable": false,
    "editable": false,
    "nbgrader": {
     "cell_type": "markdown",
     "checksum": "60c1ca7b084d078e4a2f0c80f514f34c",
     "grade": false,
     "grade_id": "cell-9df6590ba88a1529",
     "locked": true,
     "schema_version": 3,
     "solution": false
    }
   },
   "source": [
    "**Question 1.3** Multiple Choice:\n",
    "<br> {points: 1}\n",
    "\n",
    "Now that we see how the percentage of people vaccinated with each of these vaccines varies over time, we should now start to look if there is a difference between the percentage vaccinated between the two different diseases. What should we do next to compare the differences (if they exist) most effectively?\n",
    "\n",
    "A. Filter the data by the type of vaccine and make two separate plots\n",
    "\n",
    "B. Colour the data by the type of vaccine\n",
    "\n",
    "C. Have a different shaped \"dot\"/point for each type of vaccine\n",
    "\n",
    "D. Colour the data by the type of vaccine, and have a different shaped \"dot\"/point for each type of vaccine\n",
    "\n",
    "*Assign your answer to an object called `answer1.3`. Make sure your answer is an uppercase letter and is surrounded by quotation marks (e.g. `\"F\"`).*"
   ]
  },
  {
   "cell_type": "code",
   "execution_count": null,
   "metadata": {
    "deletable": false,
    "nbgrader": {
     "cell_type": "code",
     "checksum": "93919b610e0efb904f74da48c0e7f450",
     "grade": false,
     "grade_id": "cell-eff4b83a3aa5ecd4",
     "locked": false,
     "schema_version": 3,
     "solution": true
    }
   },
   "outputs": [],
   "source": [
    "# Replace the fail() with your answer. \n",
    "\n",
    "# your code here\n",
    "fail() # No Answer - remove if you provide an answer"
   ]
  },
  {
   "cell_type": "code",
   "execution_count": null,
   "metadata": {
    "deletable": false,
    "editable": false,
    "nbgrader": {
     "cell_type": "code",
     "checksum": "b158b4945d0c1f15df476064e2ccd9cb",
     "grade": true,
     "grade_id": "cell-de1ed1a45f987cbd",
     "locked": true,
     "points": 1,
     "schema_version": 3,
     "solution": false
    }
   },
   "outputs": [],
   "source": [
    "library(digest)\n",
    "stopifnot(\"type of answer1.3 is not character\"= setequal(digest(paste(toString(class(answer1.3)), \"db43\")), \"adbfd7d557550a3227a8f49adb01a0b4\"))\n",
    "stopifnot(\"length of answer1.3 is not correct\"= setequal(digest(paste(toString(length(answer1.3)), \"db43\")), \"199778ac0b9c88f1827976ee1e82b874\"))\n",
    "stopifnot(\"value of answer1.3 is not correct\"= setequal(digest(paste(toString(tolower(answer1.3)), \"db43\")), \"3005eec1c775c1453915ac44e8022285\"))\n",
    "stopifnot(\"letters in string value of answer1.3 are correct but case is not correct\"= setequal(digest(paste(toString(answer1.3), \"db43\")), \"c26738b180f6ba3440473044508f49fa\"))\n",
    "\n",
    "print('Success!')"
   ]
  },
  {
   "cell_type": "markdown",
   "metadata": {
    "deletable": false,
    "editable": false,
    "nbgrader": {
     "cell_type": "markdown",
     "checksum": "7434e88b7c7fa9cedd2802d2c9c5812f",
     "grade": false,
     "grade_id": "cell-a0d78ab0948d478b",
     "locked": true,
     "schema_version": 3,
     "solution": false
    }
   },
   "source": [
    "**Question 1.4**\n",
    "<br> {points: 1}\n",
    "\n",
    "Now that we know how we will separate the data for our visualization, let's do it. Start by copying your code from **Question 1.2**.\n",
    "\n",
    "Next, add an `aes` function inside of the `geom_point` function to map `vaccine` to colour and shape. So your `geom_point` function and layer should look something like this: \n",
    "\n",
    "```\n",
    "geom_point(aes(colour = ..., shape = ...))  +\n",
    "```\n",
    "\n",
    "Finally, make sure you change *all* the axes and legends so they have nicely formatted, human-readable labels. To do this, we will remove the `xlab` and `ylab` label functions and just use the more general `labs` function, specifying all the aesthetics we want to label:\n",
    "\n",
    "```\n",
    "labs(x = \"...\", y = \"...\", colour = \"...\", shape = \"...\")\n",
    "```\n",
    "\n",
    "*Assign your answer to an object called `compare_vacc_plot`.*"
   ]
  },
  {
   "cell_type": "code",
   "execution_count": null,
   "metadata": {
    "deletable": false,
    "nbgrader": {
     "cell_type": "code",
     "checksum": "cba3541a685d901d0e0acef9cdac389f",
     "grade": false,
     "grade_id": "cell-374fd332fce06441",
     "locked": false,
     "schema_version": 3,
     "solution": true
    }
   },
   "outputs": [],
   "source": [
    "# your code here\n",
    "fail() # No Answer - remove if you provide an answer\n",
    "compare_vacc_plot"
   ]
  },
  {
   "cell_type": "code",
   "execution_count": null,
   "metadata": {
    "deletable": false,
    "editable": false,
    "nbgrader": {
     "cell_type": "code",
     "checksum": "65be259363d07745a8636f4fe22dc2bd",
     "grade": true,
     "grade_id": "cell-d644f60d1f60a559",
     "locked": true,
     "points": 1,
     "schema_version": 3,
     "solution": false
    }
   },
   "outputs": [],
   "source": [
    "library(digest)\n",
    "stopifnot(\"type of plot is not correct (if you are using two types of geoms, try flipping the order of the geom objects!)\"= setequal(digest(paste(toString(sapply(seq_len(length(compare_vacc_plot$layers)), function(i) {c(class(compare_vacc_plot$layers[[i]]$geom))[1]})), \"b2ae0\")), \"379aae18a9215ce9be4ec505c376d680\"))\n",
    "stopifnot(\"variable x is not correct\"= setequal(digest(paste(toString(unlist(lapply(sapply(seq_len(length(compare_vacc_plot$layers)), function(i) {rlang::get_expr(c(compare_vacc_plot$layers[[i]]$mapping, compare_vacc_plot$mapping)$x)}), as.character))), \"b2ae0\")), \"ddb615742328fd35583153bbd9ded7fe\"))\n",
    "stopifnot(\"variable y is not correct\"= setequal(digest(paste(toString(unlist(lapply(sapply(seq_len(length(compare_vacc_plot$layers)), function(i) {rlang::get_expr(c(compare_vacc_plot$layers[[i]]$mapping, compare_vacc_plot$mapping)$y)}), as.character))), \"b2ae0\")), \"d6ecd058f02ac49fd33aefe03b23a17c\"))\n",
    "stopifnot(\"x-axis label is not descriptive, nicely formatted, or human readable\"= setequal(digest(paste(toString(rlang::get_expr(c(compare_vacc_plot$layers[[1]]$mapping, compare_vacc_plot$mapping)$x)!= compare_vacc_plot$labels$x), \"b2ae0\")), \"94e8b7d19372550532ecc7fff51e3e12\"))\n",
    "stopifnot(\"y-axis label is not descriptive, nicely formatted, or human readable\"= setequal(digest(paste(toString(rlang::get_expr(c(compare_vacc_plot$layers[[1]]$mapping, compare_vacc_plot$mapping)$y)!= compare_vacc_plot$labels$y), \"b2ae0\")), \"94e8b7d19372550532ecc7fff51e3e12\"))\n",
    "stopifnot(\"incorrect colour variable in compare_vacc_plot, specify a correct one if required\"= setequal(digest(paste(toString(rlang::get_expr(c(compare_vacc_plot$layers[[1]]$mapping, compare_vacc_plot$mapping)$colour)), \"b2ae0\")), \"15b08353f51f238a7feab698a9cb6973\"))\n",
    "stopifnot(\"incorrect shape variable in compare_vacc_plot, specify a correct one if required\"= setequal(digest(paste(toString(rlang::get_expr(c(compare_vacc_plot$layers[[1]]$mapping, compare_vacc_plot$mapping)$shape)), \"b2ae0\")), \"15b08353f51f238a7feab698a9cb6973\"))\n",
    "stopifnot(\"the colour label in compare_vacc_plot is not descriptive, nicely formatted, or human readable\"= setequal(digest(paste(toString(rlang::get_expr(c(compare_vacc_plot$layers[[1]]$mapping, compare_vacc_plot$mapping)$colour) != compare_vacc_plot$labels$colour), \"b2ae0\")), \"94e8b7d19372550532ecc7fff51e3e12\"))\n",
    "stopifnot(\"the shape label in compare_vacc_plot is not descriptive, nicely formatted, or human readable\"= setequal(digest(paste(toString(rlang::get_expr(c(compare_vacc_plot$layers[[1]]$mapping, compare_vacc_plot$mapping)$colour) != compare_vacc_plot$labels$shape), \"b2ae0\")), \"94e8b7d19372550532ecc7fff51e3e12\"))\n",
    "stopifnot(\"fill variable in compare_vacc_plot is not correct\"= setequal(digest(paste(toString(quo_name(compare_vacc_plot$mapping$fill)), \"b2ae0\")), \"edd5ff1a3589136ef6e8ccc2c746309d\"))\n",
    "stopifnot(\"fill label in compare_vacc_plot is not informative\"= setequal(digest(paste(toString((quo_name(compare_vacc_plot$mapping$fill) != compare_vacc_plot$labels$fill)), \"b2ae0\")), \"12875739f6cce05742bcbeede4a96103\"))\n",
    "stopifnot(\"position argument in compare_vacc_plot is not correct\"= setequal(digest(paste(toString(class(compare_vacc_plot$layers[[1]]$position)[1]), \"b2ae0\")), \"e3ba032f2ebb82a08ad6952bf4c31699\"))\n",
    "\n",
    "stopifnot(\"compare_vacc_plot$data should be a data frame\"= setequal(digest(paste(toString('data.frame' %in% class(compare_vacc_plot$data)), \"b2ae1\")), \"ec4cca528c732f029af84e785473b162\"))\n",
    "stopifnot(\"dimensions of compare_vacc_plot$data are not correct\"= setequal(digest(paste(toString(dim(compare_vacc_plot$data)), \"b2ae1\")), \"48aa581b248a15ed6d1304b09497589b\"))\n",
    "stopifnot(\"column names of compare_vacc_plot$data are not correct\"= setequal(digest(paste(toString(sort(colnames(compare_vacc_plot$data))), \"b2ae1\")), \"9d0e2aadc462c4dafa18fd89b4ff5734\"))\n",
    "stopifnot(\"types of columns in compare_vacc_plot$data are not correct\"= setequal(digest(paste(toString(sort(unlist(sapply(compare_vacc_plot$data, class)))), \"b2ae1\")), \"93a7829f49f48050f5793110281ddf62\"))\n",
    "stopifnot(\"values in one or more numerical columns in compare_vacc_plot$data are not correct\"= setequal(digest(paste(toString(if (any(sapply(compare_vacc_plot$data, is.numeric))) sort(round(sapply(compare_vacc_plot$data[, sapply(compare_vacc_plot$data, is.numeric)], sum, na.rm = TRUE), 2)) else 0), \"b2ae1\")), \"c9af03bb29e311330f9e4f61ff1404f3\"))\n",
    "stopifnot(\"values in one or more character columns in compare_vacc_plot$data are not correct\"= setequal(digest(paste(toString(if (any(sapply(compare_vacc_plot$data, is.character))) sum(sapply(compare_vacc_plot$data[sapply(compare_vacc_plot$data, is.character)], function(x) length(unique(x)))) else 0), \"b2ae1\")), \"3c3a78df9c412f950ac2ddc0131e1391\"))\n",
    "stopifnot(\"values in one or more factor columns in compare_vacc_plot$data are not correct\"= setequal(digest(paste(toString(if (any(sapply(compare_vacc_plot$data, is.factor))) sum(sapply(compare_vacc_plot$data[, sapply(compare_vacc_plot$data, is.factor)], function(col) length(unique(col)))) else 0), \"b2ae1\")), \"b7bddb29286b91948fda506412292b57\"))\n",
    "\n",
    "print('Success!')"
   ]
  },
  {
   "cell_type": "markdown",
   "metadata": {
    "deletable": false,
    "editable": false,
    "nbgrader": {
     "cell_type": "markdown",
     "checksum": "37c0703ff4c928308b5a0a8e7bdaf53b",
     "grade": false,
     "grade_id": "cell-f4cb0b4284167707",
     "locked": true,
     "schema_version": 3,
     "solution": false,
     "task": false
    }
   },
   "source": [
    "Now we see that although the dates where the percentage vaccinated became > 0 for each vaccine type started out in different years, they both increased at similar rates and are currently resting at about the same amount of percentage vaccinated. There is some variation that still exists in the data however, and perhaps that could be attributed to region? Let's create some more visualizations to see if that is indeed the case!\n",
    "\n",
    "To get started, let's focus on the Polio vaccine data, and then we'll look at both together."
   ]
  },
  {
   "cell_type": "markdown",
   "metadata": {
    "deletable": false,
    "editable": false,
    "nbgrader": {
     "cell_type": "markdown",
     "checksum": "cc86ac034faa2f43086a9ff0f207d3c0",
     "grade": false,
     "grade_id": "cell-88236b86419d60b7",
     "locked": true,
     "schema_version": 3,
     "solution": false
    }
   },
   "source": [
    "**Question 1.5**\n",
    "<br> {points: 1}\n",
    "\n",
    "Create a data frame object named `polio` that contains only the rows where the `vaccine` is `\"polio\"`:"
   ]
  },
  {
   "cell_type": "code",
   "execution_count": null,
   "metadata": {
    "deletable": false,
    "nbgrader": {
     "cell_type": "code",
     "checksum": "565811314f4fc5a94f5079351876328c",
     "grade": false,
     "grade_id": "cell-e3ea1eaccfcdb529",
     "locked": false,
     "schema_version": 3,
     "solution": true
    }
   },
   "outputs": [],
   "source": [
    "# your code here\n",
    "fail() # No Answer - remove if you provide an answer\n",
    "polio"
   ]
  },
  {
   "cell_type": "code",
   "execution_count": null,
   "metadata": {
    "deletable": false,
    "editable": false,
    "nbgrader": {
     "cell_type": "code",
     "checksum": "d410608b3127e606a59e15d21b5ab078",
     "grade": true,
     "grade_id": "cell-96b08ba246959d81",
     "locked": true,
     "points": 1,
     "schema_version": 3,
     "solution": false
    }
   },
   "outputs": [],
   "source": [
    "library(digest)\n",
    "stopifnot(\"polio should be a data frame\"= setequal(digest(paste(toString('data.frame' %in% class(polio)), \"b01d2\")), \"152b86105915725895ade776cac48be4\"))\n",
    "stopifnot(\"dimensions of polio are not correct\"= setequal(digest(paste(toString(dim(polio)), \"b01d2\")), \"e0744aaf85dc19206d377ccbb17b70fd\"))\n",
    "stopifnot(\"column names of polio are not correct\"= setequal(digest(paste(toString(sort(colnames(polio))), \"b01d2\")), \"158d9bdc07cbf616880b7fb560538b9b\"))\n",
    "stopifnot(\"types of columns in polio are not correct\"= setequal(digest(paste(toString(sort(unlist(sapply(polio, class)))), \"b01d2\")), \"902e46a95352b2538f31ff52a25288a8\"))\n",
    "stopifnot(\"values in one or more numerical columns in polio are not correct\"= setequal(digest(paste(toString(if (any(sapply(polio, is.numeric))) sort(round(sapply(polio[, sapply(polio, is.numeric)], sum, na.rm = TRUE), 2)) else 0), \"b01d2\")), \"d6e7ea7e19f0a9802cdf0b15dae6b5e6\"))\n",
    "stopifnot(\"values in one or more character columns in polio are not correct\"= setequal(digest(paste(toString(if (any(sapply(polio, is.character))) sum(sapply(polio[sapply(polio, is.character)], function(x) length(unique(x)))) else 0), \"b01d2\")), \"d7158d1e7878f190ce27012411f5d409\"))\n",
    "stopifnot(\"values in one or more factor columns in polio are not correct\"= setequal(digest(paste(toString(if (any(sapply(polio, is.factor))) sum(sapply(polio[, sapply(polio, is.factor)], function(col) length(unique(col)))) else 0), \"b01d2\")), \"1753d879d12d1b9282f4ff6da4897e9d\"))\n",
    "\n",
    "print('Success!')"
   ]
  },
  {
   "cell_type": "markdown",
   "metadata": {
    "deletable": false,
    "editable": false,
    "nbgrader": {
     "cell_type": "markdown",
     "checksum": "2b4da54f66f5467f7b55f44266024ac2",
     "grade": false,
     "grade_id": "cell-a76fd8a76737dd65",
     "locked": true,
     "schema_version": 3,
     "solution": false
    }
   },
   "source": [
    "**Question 1.6**\n",
    "<br> {points: 1}\n",
    "\n",
    "Now create a scatter plot using the `polio` data where percentage vaccinated is on the y-axis, year is on the x-axis and each group has a different coloured point, and a different shape. Name it `polio_regions`. You might want to use `options` to change the plot size if the size of the last few plots isn't ideal for this plot.\n",
    "\n",
    "*Note: For this question, **do not** add the `colour` and `shape` arguments in the `labs` function. A later question in the assignment will explore the use of such arguments!*"
   ]
  },
  {
   "cell_type": "code",
   "execution_count": null,
   "metadata": {
    "deletable": false,
    "nbgrader": {
     "cell_type": "code",
     "checksum": "969a32ed614878eef8674513e37600c0",
     "grade": false,
     "grade_id": "cell-b8e28cbd972366a7",
     "locked": false,
     "schema_version": 3,
     "solution": true
    }
   },
   "outputs": [],
   "source": [
    "#... <- ...\n",
    "\n",
    "# your code here\n",
    "fail() # No Answer - remove if you provide an answer\n",
    "polio_regions"
   ]
  },
  {
   "cell_type": "code",
   "execution_count": null,
   "metadata": {
    "deletable": false,
    "editable": false,
    "nbgrader": {
     "cell_type": "code",
     "checksum": "54897615a204240f24f5da4adb81aab6",
     "grade": true,
     "grade_id": "cell-80a368c34a543e78",
     "locked": true,
     "points": 1,
     "schema_version": 3,
     "solution": false
    }
   },
   "outputs": [],
   "source": [
    "library(digest)\n",
    "stopifnot(\"type of plot is not correct (if you are using two types of geoms, try flipping the order of the geom objects!)\"= setequal(digest(paste(toString(sapply(seq_len(length(polio_regions$layers)), function(i) {c(class(polio_regions$layers[[i]]$geom))[1]})), \"62219\")), \"0be31aa362cb443ce13a1f04e132ed03\"))\n",
    "stopifnot(\"variable x is not correct\"= setequal(digest(paste(toString(unlist(lapply(sapply(seq_len(length(polio_regions$layers)), function(i) {rlang::get_expr(c(polio_regions$layers[[i]]$mapping, polio_regions$mapping)$x)}), as.character))), \"62219\")), \"113e507ace7198d7d8c59a7c06efc361\"))\n",
    "stopifnot(\"variable y is not correct\"= setequal(digest(paste(toString(unlist(lapply(sapply(seq_len(length(polio_regions$layers)), function(i) {rlang::get_expr(c(polio_regions$layers[[i]]$mapping, polio_regions$mapping)$y)}), as.character))), \"62219\")), \"db90fd77e16f5bd48d8274d9ff13c31d\"))\n",
    "stopifnot(\"x-axis label is not descriptive, nicely formatted, or human readable\"= setequal(digest(paste(toString(rlang::get_expr(c(polio_regions$layers[[1]]$mapping, polio_regions$mapping)$x)!= polio_regions$labels$x), \"62219\")), \"ff8bdd30f5701727ce1d765e673d80f1\"))\n",
    "stopifnot(\"y-axis label is not descriptive, nicely formatted, or human readable\"= setequal(digest(paste(toString(rlang::get_expr(c(polio_regions$layers[[1]]$mapping, polio_regions$mapping)$y)!= polio_regions$labels$y), \"62219\")), \"ff8bdd30f5701727ce1d765e673d80f1\"))\n",
    "stopifnot(\"incorrect colour variable in polio_regions, specify a correct one if required\"= setequal(digest(paste(toString(rlang::get_expr(c(polio_regions$layers[[1]]$mapping, polio_regions$mapping)$colour)), \"62219\")), \"91c7fbf7384d024a5f7b9cee3728dacf\"))\n",
    "stopifnot(\"incorrect shape variable in polio_regions, specify a correct one if required\"= setequal(digest(paste(toString(rlang::get_expr(c(polio_regions$layers[[1]]$mapping, polio_regions$mapping)$shape)), \"62219\")), \"91c7fbf7384d024a5f7b9cee3728dacf\"))\n",
    "stopifnot(\"the colour label in polio_regions is not descriptive, nicely formatted, or human readable\"= setequal(digest(paste(toString(rlang::get_expr(c(polio_regions$layers[[1]]$mapping, polio_regions$mapping)$colour) != polio_regions$labels$colour), \"62219\")), \"a77a0c6ff75ec61995710a83ee07d6db\"))\n",
    "stopifnot(\"the shape label in polio_regions is not descriptive, nicely formatted, or human readable\"= setequal(digest(paste(toString(rlang::get_expr(c(polio_regions$layers[[1]]$mapping, polio_regions$mapping)$colour) != polio_regions$labels$shape), \"62219\")), \"a77a0c6ff75ec61995710a83ee07d6db\"))\n",
    "stopifnot(\"fill variable in polio_regions is not correct\"= setequal(digest(paste(toString(quo_name(polio_regions$mapping$fill)), \"62219\")), \"19403c7d5bf144c5f09267adfa1d82d5\"))\n",
    "stopifnot(\"fill label in polio_regions is not informative\"= setequal(digest(paste(toString((quo_name(polio_regions$mapping$fill) != polio_regions$labels$fill)), \"62219\")), \"65bf2ee3cb916d373c5bd2054ead7b62\"))\n",
    "stopifnot(\"position argument in polio_regions is not correct\"= setequal(digest(paste(toString(class(polio_regions$layers[[1]]$position)[1]), \"62219\")), \"50d8d02178f9dd481b25809a5899c41a\"))\n",
    "\n",
    "stopifnot(\"polio_regions$data should be a data frame\"= setequal(digest(paste(toString('data.frame' %in% class(polio_regions$data)), \"6221a\")), \"09b4f9e9052b3fa885fb25dac512e5a0\"))\n",
    "stopifnot(\"dimensions of polio_regions$data are not correct\"= setequal(digest(paste(toString(dim(polio_regions$data)), \"6221a\")), \"3c091f1b33ca7f17df27b1f52efcdf11\"))\n",
    "stopifnot(\"column names of polio_regions$data are not correct\"= setequal(digest(paste(toString(sort(colnames(polio_regions$data))), \"6221a\")), \"b36e06c98caa62e3405cc2417c04e200\"))\n",
    "stopifnot(\"types of columns in polio_regions$data are not correct\"= setequal(digest(paste(toString(sort(unlist(sapply(polio_regions$data, class)))), \"6221a\")), \"7143ee7047069724d91d409abbb65074\"))\n",
    "stopifnot(\"values in one or more numerical columns in polio_regions$data are not correct\"= setequal(digest(paste(toString(if (any(sapply(polio_regions$data, is.numeric))) sort(round(sapply(polio_regions$data[, sapply(polio_regions$data, is.numeric)], sum, na.rm = TRUE), 2)) else 0), \"6221a\")), \"58ea720bfd46d9e6430118db8bbe3556\"))\n",
    "stopifnot(\"values in one or more character columns in polio_regions$data are not correct\"= setequal(digest(paste(toString(if (any(sapply(polio_regions$data, is.character))) sum(sapply(polio_regions$data[sapply(polio_regions$data, is.character)], function(x) length(unique(x)))) else 0), \"6221a\")), \"23d21ee5d79a8996564089c5ce7eb919\"))\n",
    "stopifnot(\"values in one or more factor columns in polio_regions$data are not correct\"= setequal(digest(paste(toString(if (any(sapply(polio_regions$data, is.factor))) sum(sapply(polio_regions$data[, sapply(polio_regions$data, is.factor)], function(col) length(unique(col)))) else 0), \"6221a\")), \"a230e345e1b87ecc0f8e82cbf105a235\"))\n",
    "\n",
    "print('Success!')"
   ]
  },
  {
   "cell_type": "markdown",
   "metadata": {
    "deletable": false,
    "editable": false,
    "nbgrader": {
     "cell_type": "markdown",
     "checksum": "8c5d9115755e55f358ecede1b398b20c",
     "grade": false,
     "grade_id": "cell-78cdf142395d1696",
     "locked": true,
     "schema_version": 3,
     "solution": false
    }
   },
   "source": [
    "**Question 1.7.1**\n",
    "<br> {points: 1}\n",
    "\n",
    "Although changing point colour and shape makes it easier for us to see the differences between multiple groups, at some point there are just too many groups to keep things straight. We are approaching this limit in the plot above, so we need to do something different... One thing we could try is to change the point to a line to reduce the noise/chaos of the plot above. We would also not have a shape. Do that in the cell below and name the plot object `polio_regions_line`.\n",
    "\n",
    "*Note: For this question, **do not** add the `colour` argument in the `labs` function. A later question in the assignment will explore the use of this argument!*"
   ]
  },
  {
   "cell_type": "code",
   "execution_count": null,
   "metadata": {
    "deletable": false,
    "nbgrader": {
     "cell_type": "code",
     "checksum": "ba3f55a2131f1265de0c5a7f1fbc54af",
     "grade": false,
     "grade_id": "cell-c803221869b8ae00",
     "locked": false,
     "schema_version": 3,
     "solution": true
    }
   },
   "outputs": [],
   "source": [
    "#... <- ...\n",
    "\n",
    "# your code here\n",
    "fail() # No Answer - remove if you provide an answer\n",
    "polio_regions_line"
   ]
  },
  {
   "cell_type": "code",
   "execution_count": null,
   "metadata": {
    "deletable": false,
    "editable": false,
    "nbgrader": {
     "cell_type": "code",
     "checksum": "de49fe6ec832ed28983700b4bd199a65",
     "grade": true,
     "grade_id": "cell-9bc60c906bcd60b3",
     "locked": true,
     "points": 1,
     "schema_version": 3,
     "solution": false
    }
   },
   "outputs": [],
   "source": [
    "library(digest)\n",
    "stopifnot(\"type of plot is not correct (if you are using two types of geoms, try flipping the order of the geom objects!)\"= setequal(digest(paste(toString(sapply(seq_len(length(polio_regions_line$layers)), function(i) {c(class(polio_regions_line$layers[[i]]$geom))[1]})), \"6e60a\")), \"5b68093b27be2357b48fa37f7e864ba8\"))\n",
    "stopifnot(\"variable x is not correct\"= setequal(digest(paste(toString(unlist(lapply(sapply(seq_len(length(polio_regions_line$layers)), function(i) {rlang::get_expr(c(polio_regions_line$layers[[i]]$mapping, polio_regions_line$mapping)$x)}), as.character))), \"6e60a\")), \"54c9806e66f4ed24d99e6fae27377c91\"))\n",
    "stopifnot(\"variable y is not correct\"= setequal(digest(paste(toString(unlist(lapply(sapply(seq_len(length(polio_regions_line$layers)), function(i) {rlang::get_expr(c(polio_regions_line$layers[[i]]$mapping, polio_regions_line$mapping)$y)}), as.character))), \"6e60a\")), \"2b74c57967e6be5d896a5ecf34604a94\"))\n",
    "stopifnot(\"x-axis label is not descriptive, nicely formatted, or human readable\"= setequal(digest(paste(toString(rlang::get_expr(c(polio_regions_line$layers[[1]]$mapping, polio_regions_line$mapping)$x)!= polio_regions_line$labels$x), \"6e60a\")), \"e75c43cd3a9acf48f674aa8276895462\"))\n",
    "stopifnot(\"y-axis label is not descriptive, nicely formatted, or human readable\"= setequal(digest(paste(toString(rlang::get_expr(c(polio_regions_line$layers[[1]]$mapping, polio_regions_line$mapping)$y)!= polio_regions_line$labels$y), \"6e60a\")), \"e75c43cd3a9acf48f674aa8276895462\"))\n",
    "stopifnot(\"incorrect colour variable in polio_regions_line, specify a correct one if required\"= setequal(digest(paste(toString(rlang::get_expr(c(polio_regions_line$layers[[1]]$mapping, polio_regions_line$mapping)$colour)), \"6e60a\")), \"32bed9cefabcfe92968491331dc11905\"))\n",
    "stopifnot(\"incorrect shape variable in polio_regions_line, specify a correct one if required\"= setequal(digest(paste(toString(rlang::get_expr(c(polio_regions_line$layers[[1]]$mapping, polio_regions_line$mapping)$shape)), \"6e60a\")), \"273867cb3d1c3ac77be4ce555ff3f5f2\"))\n",
    "stopifnot(\"the colour label in polio_regions_line is not descriptive, nicely formatted, or human readable\"= setequal(digest(paste(toString(rlang::get_expr(c(polio_regions_line$layers[[1]]$mapping, polio_regions_line$mapping)$colour) != polio_regions_line$labels$colour), \"6e60a\")), \"60504b2be3a6d2b7293ecafe30e46493\"))\n",
    "stopifnot(\"the shape label in polio_regions_line is not descriptive, nicely formatted, or human readable\"= setequal(digest(paste(toString(rlang::get_expr(c(polio_regions_line$layers[[1]]$mapping, polio_regions_line$mapping)$colour) != polio_regions_line$labels$shape), \"6e60a\")), \"273867cb3d1c3ac77be4ce555ff3f5f2\"))\n",
    "stopifnot(\"fill variable in polio_regions_line is not correct\"= setequal(digest(paste(toString(quo_name(polio_regions_line$mapping$fill)), \"6e60a\")), \"fe180f53cf0b2bab26c7d511f03c5df9\"))\n",
    "stopifnot(\"fill label in polio_regions_line is not informative\"= setequal(digest(paste(toString((quo_name(polio_regions_line$mapping$fill) != polio_regions_line$labels$fill)), \"6e60a\")), \"273867cb3d1c3ac77be4ce555ff3f5f2\"))\n",
    "stopifnot(\"position argument in polio_regions_line is not correct\"= setequal(digest(paste(toString(class(polio_regions_line$layers[[1]]$position)[1]), \"6e60a\")), \"05f43df76b2db8793f7a6b5dbec6ecc0\"))\n",
    "\n",
    "stopifnot(\"polio_regions_line$data should be a data frame\"= setequal(digest(paste(toString('data.frame' %in% class(polio_regions_line$data)), \"6e60b\")), \"e1598b68741389a66e16b1072442680d\"))\n",
    "stopifnot(\"dimensions of polio_regions_line$data are not correct\"= setequal(digest(paste(toString(dim(polio_regions_line$data)), \"6e60b\")), \"8d4eaeaf1b8c48d02dc5fd4bbf6a4bd5\"))\n",
    "stopifnot(\"column names of polio_regions_line$data are not correct\"= setequal(digest(paste(toString(sort(colnames(polio_regions_line$data))), \"6e60b\")), \"0e07202a2d96df0ddaebac4251c66fad\"))\n",
    "stopifnot(\"types of columns in polio_regions_line$data are not correct\"= setequal(digest(paste(toString(sort(unlist(sapply(polio_regions_line$data, class)))), \"6e60b\")), \"b03d57d53af42b8d70eb51e6c83e8d8b\"))\n",
    "stopifnot(\"values in one or more numerical columns in polio_regions_line$data are not correct\"= setequal(digest(paste(toString(if (any(sapply(polio_regions_line$data, is.numeric))) sort(round(sapply(polio_regions_line$data[, sapply(polio_regions_line$data, is.numeric)], sum, na.rm = TRUE), 2)) else 0), \"6e60b\")), \"cd56c2b059c10c4432efc63bf60eb4f4\"))\n",
    "stopifnot(\"values in one or more character columns in polio_regions_line$data are not correct\"= setequal(digest(paste(toString(if (any(sapply(polio_regions_line$data, is.character))) sum(sapply(polio_regions_line$data[sapply(polio_regions_line$data, is.character)], function(x) length(unique(x)))) else 0), \"6e60b\")), \"19f5806db1626de9697e9ba6becc1592\"))\n",
    "stopifnot(\"values in one or more factor columns in polio_regions_line$data are not correct\"= setequal(digest(paste(toString(if (any(sapply(polio_regions_line$data, is.factor))) sum(sapply(polio_regions_line$data[, sapply(polio_regions_line$data, is.factor)], function(col) length(unique(col)))) else 0), \"6e60b\")), \"2a5d444805b9cb1c268b024ce47ecfcd\"))\n",
    "\n",
    "print('Success!')"
   ]
  },
  {
   "cell_type": "markdown",
   "metadata": {
    "deletable": false,
    "editable": false,
    "nbgrader": {
     "cell_type": "markdown",
     "checksum": "a6809ab22ffc9dd6abcd54d85ed78c83",
     "grade": false,
     "grade_id": "cell-7f961cecd0a71723",
     "locked": true,
     "schema_version": 3,
     "solution": false,
     "task": false
    }
   },
   "source": [
    "**Question 1.7.2**\n",
    "<br> {points: 1}\n",
    "\n",
    "One thing that is still not ideal with the visualization above is the legend title is not very readable. Let's add another layer to `polio_regions_line` to do that. To do this we use the `labs` function and choose the aesthetic mapping (here `color`) that we want to apply the legend title to. Also, given that we created an object from our previous plot, we do not need to retype all our code, but instead can just say:\n",
    "\n",
    "```\n",
    "[your plot object] <- [your plot object] +\n",
    "                        [new layer code]\n",
    "```\n",
    "\n",
    "*Assign your answer to an object called `polio_regions_line`*."
   ]
  },
  {
   "cell_type": "code",
   "execution_count": null,
   "metadata": {
    "deletable": false,
    "nbgrader": {
     "cell_type": "code",
     "checksum": "a8530a48c4d02da0f0853679357a2f61",
     "grade": false,
     "grade_id": "cell-b6300558236b3514",
     "locked": false,
     "schema_version": 3,
     "solution": true
    }
   },
   "outputs": [],
   "source": [
    "#... <- polio_regions_line +\n",
    "#       labs(... = \"Region of the world\")\n",
    "\n",
    "# your code here\n",
    "fail() # No Answer - remove if you provide an answer\n",
    "polio_regions_line"
   ]
  },
  {
   "cell_type": "code",
   "execution_count": null,
   "metadata": {
    "deletable": false,
    "editable": false,
    "nbgrader": {
     "cell_type": "code",
     "checksum": "bee46998bd7e2af46b13d98c47bb454d",
     "grade": true,
     "grade_id": "cell-0cb2d6d52e5baf63",
     "locked": true,
     "points": 1,
     "schema_version": 3,
     "solution": false
    }
   },
   "outputs": [],
   "source": [
    "library(digest)\n",
    "stopifnot(\"type of plot is not correct (if you are using two types of geoms, try flipping the order of the geom objects!)\"= setequal(digest(paste(toString(sapply(seq_len(length(polio_regions_line$layers)), function(i) {c(class(polio_regions_line$layers[[i]]$geom))[1]})), \"6152\")), \"cbd7680a68dfed5e6f555d75374a7dd4\"))\n",
    "stopifnot(\"variable x is not correct\"= setequal(digest(paste(toString(unlist(lapply(sapply(seq_len(length(polio_regions_line$layers)), function(i) {rlang::get_expr(c(polio_regions_line$layers[[i]]$mapping, polio_regions_line$mapping)$x)}), as.character))), \"6152\")), \"24839dfc021c420f8f6635a79976a4b9\"))\n",
    "stopifnot(\"variable y is not correct\"= setequal(digest(paste(toString(unlist(lapply(sapply(seq_len(length(polio_regions_line$layers)), function(i) {rlang::get_expr(c(polio_regions_line$layers[[i]]$mapping, polio_regions_line$mapping)$y)}), as.character))), \"6152\")), \"de0b98e2e5da6acbc4dffc0df2e6d868\"))\n",
    "stopifnot(\"x-axis label is not descriptive, nicely formatted, or human readable\"= setequal(digest(paste(toString(rlang::get_expr(c(polio_regions_line$layers[[1]]$mapping, polio_regions_line$mapping)$x)!= polio_regions_line$labels$x), \"6152\")), \"0c9ea46f71ce1e79ad0a93622b4606c0\"))\n",
    "stopifnot(\"y-axis label is not descriptive, nicely formatted, or human readable\"= setequal(digest(paste(toString(rlang::get_expr(c(polio_regions_line$layers[[1]]$mapping, polio_regions_line$mapping)$y)!= polio_regions_line$labels$y), \"6152\")), \"0c9ea46f71ce1e79ad0a93622b4606c0\"))\n",
    "stopifnot(\"incorrect colour variable in polio_regions_line, specify a correct one if required\"= setequal(digest(paste(toString(rlang::get_expr(c(polio_regions_line$layers[[1]]$mapping, polio_regions_line$mapping)$colour)), \"6152\")), \"69c591f7a4dea815eca12811f11add0e\"))\n",
    "stopifnot(\"incorrect shape variable in polio_regions_line, specify a correct one if required\"= setequal(digest(paste(toString(rlang::get_expr(c(polio_regions_line$layers[[1]]$mapping, polio_regions_line$mapping)$shape)), \"6152\")), \"fe20c816295c05e2d6527ced4a3991bb\"))\n",
    "stopifnot(\"the colour label in polio_regions_line is not descriptive, nicely formatted, or human readable\"= setequal(digest(paste(toString(rlang::get_expr(c(polio_regions_line$layers[[1]]$mapping, polio_regions_line$mapping)$colour) != polio_regions_line$labels$colour), \"6152\")), \"0c9ea46f71ce1e79ad0a93622b4606c0\"))\n",
    "stopifnot(\"the shape label in polio_regions_line is not descriptive, nicely formatted, or human readable\"= setequal(digest(paste(toString(rlang::get_expr(c(polio_regions_line$layers[[1]]$mapping, polio_regions_line$mapping)$colour) != polio_regions_line$labels$shape), \"6152\")), \"fe20c816295c05e2d6527ced4a3991bb\"))\n",
    "stopifnot(\"fill variable in polio_regions_line is not correct\"= setequal(digest(paste(toString(quo_name(polio_regions_line$mapping$fill)), \"6152\")), \"c8212453e57f75e2c5da0cbcaabe6869\"))\n",
    "stopifnot(\"fill label in polio_regions_line is not informative\"= setequal(digest(paste(toString((quo_name(polio_regions_line$mapping$fill) != polio_regions_line$labels$fill)), \"6152\")), \"fe20c816295c05e2d6527ced4a3991bb\"))\n",
    "stopifnot(\"position argument in polio_regions_line is not correct\"= setequal(digest(paste(toString(class(polio_regions_line$layers[[1]]$position)[1]), \"6152\")), \"c92b72f27550617814b2594910e279ba\"))\n",
    "\n",
    "stopifnot(\"polio_regions_line$data should be a data frame\"= setequal(digest(paste(toString('data.frame' %in% class(polio_regions_line$data)), \"6153\")), \"6b8bd3a4ddc71d524241889dbac2da95\"))\n",
    "stopifnot(\"dimensions of polio_regions_line$data are not correct\"= setequal(digest(paste(toString(dim(polio_regions_line$data)), \"6153\")), \"6cc72613383a73ac9789458994e91e76\"))\n",
    "stopifnot(\"column names of polio_regions_line$data are not correct\"= setequal(digest(paste(toString(sort(colnames(polio_regions_line$data))), \"6153\")), \"33a3dc9c504ee5865ae0a319cfc4feef\"))\n",
    "stopifnot(\"types of columns in polio_regions_line$data are not correct\"= setequal(digest(paste(toString(sort(unlist(sapply(polio_regions_line$data, class)))), \"6153\")), \"53cf81a0c72f8749aef0710ee016ac84\"))\n",
    "stopifnot(\"values in one or more numerical columns in polio_regions_line$data are not correct\"= setequal(digest(paste(toString(if (any(sapply(polio_regions_line$data, is.numeric))) sort(round(sapply(polio_regions_line$data[, sapply(polio_regions_line$data, is.numeric)], sum, na.rm = TRUE), 2)) else 0), \"6153\")), \"01082d2bcf1d85b4c00d676e0024aa80\"))\n",
    "stopifnot(\"values in one or more character columns in polio_regions_line$data are not correct\"= setequal(digest(paste(toString(if (any(sapply(polio_regions_line$data, is.character))) sum(sapply(polio_regions_line$data[sapply(polio_regions_line$data, is.character)], function(x) length(unique(x)))) else 0), \"6153\")), \"a4dedc181b14951e856a8587b38e2ca2\"))\n",
    "stopifnot(\"values in one or more factor columns in polio_regions_line$data are not correct\"= setequal(digest(paste(toString(if (any(sapply(polio_regions_line$data, is.factor))) sum(sapply(polio_regions_line$data[, sapply(polio_regions_line$data, is.factor)], function(col) length(unique(col)))) else 0), \"6153\")), \"53a0867b8e41cf4731cfab1f45edf809\"))\n",
    "\n",
    "print('Success!')"
   ]
  },
  {
   "cell_type": "markdown",
   "metadata": {
    "deletable": false,
    "editable": false,
    "nbgrader": {
     "cell_type": "markdown",
     "checksum": "d77be3c8f86fe28fffc2a39b7a4d31f6",
     "grade": false,
     "grade_id": "cell-99db863d291c52b2",
     "locked": true,
     "schema_version": 3,
     "solution": false
    }
   },
   "source": [
    "**Question 1.8**\n",
    "<br> {points: 1}\n",
    "\n",
    "Now that we know how to effectively plot the percentage vaccinated against Polio over time for each region, how might we compare this to what we see for each region for the percentage vaccinated against Hepatitis B? In this case we would like two side-by-side or two vertically arranged plots. If that data are in the same data frame (as ours were in the `world_vaccination` data frame) then we can use a technique called facetting to do this. We saw facetting last week, and now we will take some time to learn it.\n",
    "\n",
    "There are two facetting functions in R, the one we will see here is `facet_grid`. The basic syntax for this `ggplot` layer is the following:\n",
    "\n",
    "```\n",
    "# Stacks plots horizontally with one column per member of the category in COLUMN_X\n",
    "facet_grid(cols = vars(COLUMN_X))\n",
    "```\n",
    "\n",
    "or \n",
    "\n",
    "```\n",
    "# Stacks plots vertically with one row per member of the category in COLUMN_X\n",
    "facet_grid(rows = vars(COLUMN_X))\n",
    "```\n",
    "\n",
    "Create a plot like the one named `polio_regions_line` but instead of using the `polio` data frame, use the `world_vaccination` data frame, and facet on the column `vaccine` so that the two plots are side-by-side. Name this plot object `side_by_side_world`. Make sure you set `options` to make the plot size fit well within the worksheet."
   ]
  },
  {
   "cell_type": "code",
   "execution_count": null,
   "metadata": {
    "deletable": false,
    "nbgrader": {
     "cell_type": "code",
     "checksum": "63908ce206d5da14576a7e448e583a0b",
     "grade": false,
     "grade_id": "cell-1703a03640493439",
     "locked": false,
     "schema_version": 3,
     "solution": true
    }
   },
   "outputs": [],
   "source": [
    "#... <- ... +\n",
    "#    geom_...(...) +\n",
    "#    labs(...) +\n",
    "#    xlab(...) + \n",
    "#    ylab(...) +\n",
    "#    facet_grid(...)\n",
    "\n",
    "# your code here\n",
    "fail() # No Answer - remove if you provide an answer\n",
    "side_by_side_world"
   ]
  },
  {
   "cell_type": "code",
   "execution_count": null,
   "metadata": {
    "deletable": false,
    "editable": false,
    "nbgrader": {
     "cell_type": "code",
     "checksum": "599cecf50c297af87c1febfd8bea3961",
     "grade": true,
     "grade_id": "cell-da960eda0165bd94",
     "locked": true,
     "points": 1,
     "schema_version": 3,
     "solution": false
    }
   },
   "outputs": [],
   "source": [
    "library(digest)\n",
    "stopifnot(\"type of plot is not correct (if you are using two types of geoms, try flipping the order of the geom objects!)\"= setequal(digest(paste(toString(sapply(seq_len(length(side_by_side_world$layers)), function(i) {c(class(side_by_side_world$layers[[i]]$geom))[1]})), \"bc116\")), \"33415cf054b1042c625909bfca244981\"))\n",
    "stopifnot(\"variable x is not correct\"= setequal(digest(paste(toString(unlist(lapply(sapply(seq_len(length(side_by_side_world$layers)), function(i) {rlang::get_expr(c(side_by_side_world$layers[[i]]$mapping, side_by_side_world$mapping)$x)}), as.character))), \"bc116\")), \"7252c06b6b471524c65048919201747f\"))\n",
    "stopifnot(\"variable y is not correct\"= setequal(digest(paste(toString(unlist(lapply(sapply(seq_len(length(side_by_side_world$layers)), function(i) {rlang::get_expr(c(side_by_side_world$layers[[i]]$mapping, side_by_side_world$mapping)$y)}), as.character))), \"bc116\")), \"5c70816e849d1e5b786d7c3b5d6ff9fc\"))\n",
    "stopifnot(\"x-axis label is not descriptive, nicely formatted, or human readable\"= setequal(digest(paste(toString(rlang::get_expr(c(side_by_side_world$layers[[1]]$mapping, side_by_side_world$mapping)$x)!= side_by_side_world$labels$x), \"bc116\")), \"6af5f6e1915b355c8476650d96ab2534\"))\n",
    "stopifnot(\"y-axis label is not descriptive, nicely formatted, or human readable\"= setequal(digest(paste(toString(rlang::get_expr(c(side_by_side_world$layers[[1]]$mapping, side_by_side_world$mapping)$y)!= side_by_side_world$labels$y), \"bc116\")), \"6af5f6e1915b355c8476650d96ab2534\"))\n",
    "stopifnot(\"incorrect colour variable in side_by_side_world, specify a correct one if required\"= setequal(digest(paste(toString(rlang::get_expr(c(side_by_side_world$layers[[1]]$mapping, side_by_side_world$mapping)$colour)), \"bc116\")), \"3e02013d6b814a826b7f8e7e05ff7553\"))\n",
    "stopifnot(\"incorrect shape variable in side_by_side_world, specify a correct one if required\"= setequal(digest(paste(toString(rlang::get_expr(c(side_by_side_world$layers[[1]]$mapping, side_by_side_world$mapping)$shape)), \"bc116\")), \"c4a525285ca31c4a14819fc26f896e1c\"))\n",
    "stopifnot(\"the colour label in side_by_side_world is not descriptive, nicely formatted, or human readable\"= setequal(digest(paste(toString(rlang::get_expr(c(side_by_side_world$layers[[1]]$mapping, side_by_side_world$mapping)$colour) != side_by_side_world$labels$colour), \"bc116\")), \"6af5f6e1915b355c8476650d96ab2534\"))\n",
    "stopifnot(\"the shape label in side_by_side_world is not descriptive, nicely formatted, or human readable\"= setequal(digest(paste(toString(rlang::get_expr(c(side_by_side_world$layers[[1]]$mapping, side_by_side_world$mapping)$colour) != side_by_side_world$labels$shape), \"bc116\")), \"c4a525285ca31c4a14819fc26f896e1c\"))\n",
    "stopifnot(\"fill variable in side_by_side_world is not correct\"= setequal(digest(paste(toString(quo_name(side_by_side_world$mapping$fill)), \"bc116\")), \"c47db6b35db057a125959341e2d4ee4c\"))\n",
    "stopifnot(\"fill label in side_by_side_world is not informative\"= setequal(digest(paste(toString((quo_name(side_by_side_world$mapping$fill) != side_by_side_world$labels$fill)), \"bc116\")), \"c4a525285ca31c4a14819fc26f896e1c\"))\n",
    "stopifnot(\"position argument in side_by_side_world is not correct\"= setequal(digest(paste(toString(class(side_by_side_world$layers[[1]]$position)[1]), \"bc116\")), \"897b2501adf82a295dd74343a6154f0f\"))\n",
    "\n",
    "stopifnot(\"side_by_side_world$data should be a data frame\"= setequal(digest(paste(toString('data.frame' %in% class(side_by_side_world$data)), \"bc117\")), \"cf3f47d327d43f050420551aa93acd19\"))\n",
    "stopifnot(\"dimensions of side_by_side_world$data are not correct\"= setequal(digest(paste(toString(dim(side_by_side_world$data)), \"bc117\")), \"629234aff853a33916bd9ecebe231c7e\"))\n",
    "stopifnot(\"column names of side_by_side_world$data are not correct\"= setequal(digest(paste(toString(sort(colnames(side_by_side_world$data))), \"bc117\")), \"727a8ba2de91d15cdd6ef3efec5d7b6c\"))\n",
    "stopifnot(\"types of columns in side_by_side_world$data are not correct\"= setequal(digest(paste(toString(sort(unlist(sapply(side_by_side_world$data, class)))), \"bc117\")), \"50f3d03f9afc87e87334a5c4c0aaea46\"))\n",
    "stopifnot(\"values in one or more numerical columns in side_by_side_world$data are not correct\"= setequal(digest(paste(toString(if (any(sapply(side_by_side_world$data, is.numeric))) sort(round(sapply(side_by_side_world$data[, sapply(side_by_side_world$data, is.numeric)], sum, na.rm = TRUE), 2)) else 0), \"bc117\")), \"61406c68f733a2a4af5ba9ae0238acda\"))\n",
    "stopifnot(\"values in one or more character columns in side_by_side_world$data are not correct\"= setequal(digest(paste(toString(if (any(sapply(side_by_side_world$data, is.character))) sum(sapply(side_by_side_world$data[sapply(side_by_side_world$data, is.character)], function(x) length(unique(x)))) else 0), \"bc117\")), \"8ff4eff192ca28c9dd7ad99f06e990d8\"))\n",
    "stopifnot(\"values in one or more factor columns in side_by_side_world$data are not correct\"= setequal(digest(paste(toString(if (any(sapply(side_by_side_world$data, is.factor))) sum(sapply(side_by_side_world$data[, sapply(side_by_side_world$data, is.factor)], function(col) length(unique(col)))) else 0), \"bc117\")), \"4db0e20c91873fcba197f3f98302d11a\"))\n",
    "\n",
    "stopifnot(\"type of class(side_by_side_world$facet)[1] is not character\"= setequal(digest(paste(toString(class(class(side_by_side_world$facet)[1])), \"bc118\")), \"9a1f49c7f6b4d266d4ba9c58cb3624a7\"))\n",
    "stopifnot(\"length of class(side_by_side_world$facet)[1] is not correct\"= setequal(digest(paste(toString(length(class(side_by_side_world$facet)[1])), \"bc118\")), \"8387f03b818934a6fada69bccd7ba993\"))\n",
    "stopifnot(\"value of class(side_by_side_world$facet)[1] is not correct\"= setequal(digest(paste(toString(tolower(class(side_by_side_world$facet)[1])), \"bc118\")), \"2428d81527f5fa198e17ba4aa9db0eed\"))\n",
    "stopifnot(\"letters in string value of class(side_by_side_world$facet)[1] are correct but case is not correct\"= setequal(digest(paste(toString(class(side_by_side_world$facet)[1]), \"bc118\")), \"9844e6b7bac8038d1d680e31fc27c3a3\"))\n",
    "\n",
    "stopifnot(\"type of as.character(rlang::get_expr(side_by_side_world$facet$params$cols)) is not character\"= setequal(digest(paste(toString(class(as.character(rlang::get_expr(side_by_side_world$facet$params$cols)))), \"bc119\")), \"1e16077dc7c9edc36e5bc4193e2840b1\"))\n",
    "stopifnot(\"length of as.character(rlang::get_expr(side_by_side_world$facet$params$cols)) is not correct\"= setequal(digest(paste(toString(length(as.character(rlang::get_expr(side_by_side_world$facet$params$cols)))), \"bc119\")), \"cfac8cb8ddb4ec384dcb8b6e2f9f5eb2\"))\n",
    "stopifnot(\"value of as.character(rlang::get_expr(side_by_side_world$facet$params$cols)) is not correct\"= setequal(digest(paste(toString(tolower(as.character(rlang::get_expr(side_by_side_world$facet$params$cols)))), \"bc119\")), \"df5e8409a23476f1ebc1d783ac093faf\"))\n",
    "stopifnot(\"letters in string value of as.character(rlang::get_expr(side_by_side_world$facet$params$cols)) are correct but case is not correct\"= setequal(digest(paste(toString(as.character(rlang::get_expr(side_by_side_world$facet$params$cols))), \"bc119\")), \"df5e8409a23476f1ebc1d783ac093faf\"))\n",
    "\n",
    "print('Success!')"
   ]
  },
  {
   "cell_type": "markdown",
   "metadata": {},
   "source": [
    "**Question 1.9.1**\n",
    "<br> {points: 1}\n",
    "\n",
    "Now use `facet_grid` to arrange the same two plots vertically. Name this plot `vertical_world`. Again, make sure you set `options` to create a suitable plot size."
   ]
  },
  {
   "cell_type": "code",
   "execution_count": null,
   "metadata": {
    "deletable": false,
    "nbgrader": {
     "cell_type": "code",
     "checksum": "9c4a915fd1000ed55abfc20c54bb225e",
     "grade": false,
     "grade_id": "cell-55bbd1d0a2ea4a40",
     "locked": false,
     "schema_version": 3,
     "solution": true
    }
   },
   "outputs": [],
   "source": [
    "# your code here\n",
    "fail() # No Answer - remove if you provide an answer\n",
    "vertical_world"
   ]
  },
  {
   "cell_type": "code",
   "execution_count": null,
   "metadata": {
    "deletable": false,
    "editable": false,
    "nbgrader": {
     "cell_type": "code",
     "checksum": "cad8c047d0a46f024952287565a24f60",
     "grade": true,
     "grade_id": "cell-2a2384fca721cc8a",
     "locked": true,
     "points": 1,
     "schema_version": 3,
     "solution": false
    }
   },
   "outputs": [],
   "source": [
    "library(digest)\n",
    "stopifnot(\"type of plot is not correct (if you are using two types of geoms, try flipping the order of the geom objects!)\"= setequal(digest(paste(toString(sapply(seq_len(length(vertical_world$layers)), function(i) {c(class(vertical_world$layers[[i]]$geom))[1]})), \"a5096\")), \"a5f8d936164e288fb7ec36ece156a2e3\"))\n",
    "stopifnot(\"variable x is not correct\"= setequal(digest(paste(toString(unlist(lapply(sapply(seq_len(length(vertical_world$layers)), function(i) {rlang::get_expr(c(vertical_world$layers[[i]]$mapping, vertical_world$mapping)$x)}), as.character))), \"a5096\")), \"66093b3b6b42c5de99e3e8fce566fa30\"))\n",
    "stopifnot(\"variable y is not correct\"= setequal(digest(paste(toString(unlist(lapply(sapply(seq_len(length(vertical_world$layers)), function(i) {rlang::get_expr(c(vertical_world$layers[[i]]$mapping, vertical_world$mapping)$y)}), as.character))), \"a5096\")), \"cc3268b9300098beb19824fff716ab93\"))\n",
    "stopifnot(\"x-axis label is not descriptive, nicely formatted, or human readable\"= setequal(digest(paste(toString(rlang::get_expr(c(vertical_world$layers[[1]]$mapping, vertical_world$mapping)$x)!= vertical_world$labels$x), \"a5096\")), \"76cf767c4860e8292acfc9ebc47cfc2d\"))\n",
    "stopifnot(\"y-axis label is not descriptive, nicely formatted, or human readable\"= setequal(digest(paste(toString(rlang::get_expr(c(vertical_world$layers[[1]]$mapping, vertical_world$mapping)$y)!= vertical_world$labels$y), \"a5096\")), \"76cf767c4860e8292acfc9ebc47cfc2d\"))\n",
    "stopifnot(\"incorrect colour variable in vertical_world, specify a correct one if required\"= setequal(digest(paste(toString(rlang::get_expr(c(vertical_world$layers[[1]]$mapping, vertical_world$mapping)$colour)), \"a5096\")), \"6adfd355cce20f055f95148cae3d709b\"))\n",
    "stopifnot(\"incorrect shape variable in vertical_world, specify a correct one if required\"= setequal(digest(paste(toString(rlang::get_expr(c(vertical_world$layers[[1]]$mapping, vertical_world$mapping)$shape)), \"a5096\")), \"8032282084f7c673a7aa441df13b7462\"))\n",
    "stopifnot(\"the colour label in vertical_world is not descriptive, nicely formatted, or human readable\"= setequal(digest(paste(toString(rlang::get_expr(c(vertical_world$layers[[1]]$mapping, vertical_world$mapping)$colour) != vertical_world$labels$colour), \"a5096\")), \"76cf767c4860e8292acfc9ebc47cfc2d\"))\n",
    "stopifnot(\"the shape label in vertical_world is not descriptive, nicely formatted, or human readable\"= setequal(digest(paste(toString(rlang::get_expr(c(vertical_world$layers[[1]]$mapping, vertical_world$mapping)$colour) != vertical_world$labels$shape), \"a5096\")), \"8032282084f7c673a7aa441df13b7462\"))\n",
    "stopifnot(\"fill variable in vertical_world is not correct\"= setequal(digest(paste(toString(quo_name(vertical_world$mapping$fill)), \"a5096\")), \"98f45c2bfcb3f317541e832fe1d4e5c8\"))\n",
    "stopifnot(\"fill label in vertical_world is not informative\"= setequal(digest(paste(toString((quo_name(vertical_world$mapping$fill) != vertical_world$labels$fill)), \"a5096\")), \"8032282084f7c673a7aa441df13b7462\"))\n",
    "stopifnot(\"position argument in vertical_world is not correct\"= setequal(digest(paste(toString(class(vertical_world$layers[[1]]$position)[1]), \"a5096\")), \"6297b873c13a1cbfb11754db510e71b4\"))\n",
    "\n",
    "stopifnot(\"vertical_world$data should be a data frame\"= setequal(digest(paste(toString('data.frame' %in% class(vertical_world$data)), \"a5097\")), \"5014ce1acd7aaf435a19ab36b33339ee\"))\n",
    "stopifnot(\"dimensions of vertical_world$data are not correct\"= setequal(digest(paste(toString(dim(vertical_world$data)), \"a5097\")), \"18aaba2efcae5d2dc93aaec9efd5e5bb\"))\n",
    "stopifnot(\"column names of vertical_world$data are not correct\"= setequal(digest(paste(toString(sort(colnames(vertical_world$data))), \"a5097\")), \"408e370ddddf4d890c451d83dd6e371f\"))\n",
    "stopifnot(\"types of columns in vertical_world$data are not correct\"= setequal(digest(paste(toString(sort(unlist(sapply(vertical_world$data, class)))), \"a5097\")), \"de67fd7d17682632c3dfc2a410f28866\"))\n",
    "stopifnot(\"values in one or more numerical columns in vertical_world$data are not correct\"= setequal(digest(paste(toString(if (any(sapply(vertical_world$data, is.numeric))) sort(round(sapply(vertical_world$data[, sapply(vertical_world$data, is.numeric)], sum, na.rm = TRUE), 2)) else 0), \"a5097\")), \"3983c71545e62c196d56aaeae030060f\"))\n",
    "stopifnot(\"values in one or more character columns in vertical_world$data are not correct\"= setequal(digest(paste(toString(if (any(sapply(vertical_world$data, is.character))) sum(sapply(vertical_world$data[sapply(vertical_world$data, is.character)], function(x) length(unique(x)))) else 0), \"a5097\")), \"cfd7341efc1306e6835018269c3b915a\"))\n",
    "stopifnot(\"values in one or more factor columns in vertical_world$data are not correct\"= setequal(digest(paste(toString(if (any(sapply(vertical_world$data, is.factor))) sum(sapply(vertical_world$data[, sapply(vertical_world$data, is.factor)], function(col) length(unique(col)))) else 0), \"a5097\")), \"6b679e9bb06d333e89b68126a186418d\"))\n",
    "\n",
    "stopifnot(\"type of class(vertical_world$facet)[1] is not character\"= setequal(digest(paste(toString(class(class(vertical_world$facet)[1])), \"a5098\")), \"95c537e666256058a170f68803b30c4b\"))\n",
    "stopifnot(\"length of class(vertical_world$facet)[1] is not correct\"= setequal(digest(paste(toString(length(class(vertical_world$facet)[1])), \"a5098\")), \"2307167ad8dcef78a3d0e0df69acd4a6\"))\n",
    "stopifnot(\"value of class(vertical_world$facet)[1] is not correct\"= setequal(digest(paste(toString(tolower(class(vertical_world$facet)[1])), \"a5098\")), \"e28bebf490a91ba30f9dde0bafba54b1\"))\n",
    "stopifnot(\"letters in string value of class(vertical_world$facet)[1] are correct but case is not correct\"= setequal(digest(paste(toString(class(vertical_world$facet)[1]), \"a5098\")), \"64b3a442e7a6164e1f391208a7608a39\"))\n",
    "\n",
    "stopifnot(\"type of as.character(rlang::get_expr(vertical_world$facet$params$rows)) is not character\"= setequal(digest(paste(toString(class(as.character(rlang::get_expr(vertical_world$facet$params$rows)))), \"a5099\")), \"fc59dd0be29b63368785a1a27fcaf8f8\"))\n",
    "stopifnot(\"length of as.character(rlang::get_expr(vertical_world$facet$params$rows)) is not correct\"= setequal(digest(paste(toString(length(as.character(rlang::get_expr(vertical_world$facet$params$rows)))), \"a5099\")), \"132cf4ea5a371aca35552f27dc5c35af\"))\n",
    "stopifnot(\"value of as.character(rlang::get_expr(vertical_world$facet$params$rows)) is not correct\"= setequal(digest(paste(toString(tolower(as.character(rlang::get_expr(vertical_world$facet$params$rows)))), \"a5099\")), \"0a4c0039dde2aca1a72e51f7e489cc2b\"))\n",
    "stopifnot(\"letters in string value of as.character(rlang::get_expr(vertical_world$facet$params$rows)) are correct but case is not correct\"= setequal(digest(paste(toString(as.character(rlang::get_expr(vertical_world$facet$params$rows))), \"a5099\")), \"0a4c0039dde2aca1a72e51f7e489cc2b\"))\n",
    "\n",
    "print('Success!')"
   ]
  },
  {
   "cell_type": "markdown",
   "metadata": {
    "deletable": false,
    "editable": false,
    "nbgrader": {
     "cell_type": "markdown",
     "checksum": "48d5afed21a69f9b88d3ffd83167a444",
     "grade": false,
     "grade_id": "cell-8cba902e440bfbf8",
     "locked": true,
     "schema_version": 3,
     "solution": false,
     "task": false
    }
   },
   "source": [
    "Which arrangement is better? Depends on what you are asking! If you are interested in comparing the rate at which things changed over time, then the vertical arrangement is more effective. However, if you are interested in comparing the exact percentage values between the lines at certain points then the side-by-side arrangement is more effective."
   ]
  },
  {
   "cell_type": "markdown",
   "metadata": {
    "deletable": false,
    "editable": false,
    "nbgrader": {
     "cell_type": "markdown",
     "checksum": "ea2278d5ac001730f7e181682a7add43",
     "grade": false,
     "grade_id": "cell-6e7d28492998c804",
     "locked": true,
     "schema_version": 3,
     "solution": false
    }
   },
   "source": [
    "**Question 1.9.2** Multiple Choice:\n",
    "<br> {points: 1}\n",
    "\n",
    "Which WHO region had the greatest progress in the shortest period of time in either Hepatitis B and in Polio (using the data we plotted above)?\n",
    "\n",
    "\n",
    "A. Americas\n",
    "\n",
    "B. Eastern Mediterranean\n",
    "\n",
    "C. Europe\n",
    "\n",
    "D. Western Pacific\n",
    "\n",
    "*Assign your answer to an object called `answer1.9.2`. Make sure your answer is an uppercase letter and is surrounded by quotation marks (e.g. `\"F\"`).*"
   ]
  },
  {
   "cell_type": "code",
   "execution_count": null,
   "metadata": {
    "deletable": false,
    "nbgrader": {
     "cell_type": "code",
     "checksum": "dfc9df86bf9d907b1ab41c87fb39f5b8",
     "grade": false,
     "grade_id": "cell-2f8d6a1dce2d67ae",
     "locked": false,
     "schema_version": 3,
     "solution": true
    }
   },
   "outputs": [],
   "source": [
    "# Replace the fail() with your answer. \n",
    "\n",
    "# your code here\n",
    "fail() # No Answer - remove if you provide an answer"
   ]
  },
  {
   "cell_type": "code",
   "execution_count": null,
   "metadata": {
    "deletable": false,
    "editable": false,
    "nbgrader": {
     "cell_type": "code",
     "checksum": "29f7c7a65348e955d35bc57377ff5754",
     "grade": true,
     "grade_id": "cell-a69f9766adab9544",
     "locked": true,
     "points": 1,
     "schema_version": 3,
     "solution": false
    }
   },
   "outputs": [],
   "source": [
    "library(digest)\n",
    "stopifnot(\"type of answer1.9.2 is not character\"= setequal(digest(paste(toString(class(answer1.9.2)), \"6ec60\")), \"2114183ecf109e9859c3fad08c0d232b\"))\n",
    "stopifnot(\"length of answer1.9.2 is not correct\"= setequal(digest(paste(toString(length(answer1.9.2)), \"6ec60\")), \"9f13f4ad3e3c2cf9795f61bfe9301175\"))\n",
    "stopifnot(\"value of answer1.9.2 is not correct\"= setequal(digest(paste(toString(tolower(answer1.9.2)), \"6ec60\")), \"a2dc22f1a394600b667ef3b05fdc8f70\"))\n",
    "stopifnot(\"letters in string value of answer1.9.2 are correct but case is not correct\"= setequal(digest(paste(toString(answer1.9.2), \"6ec60\")), \"2bfe481fb4929fccb069f425c9c1853c\"))\n",
    "\n",
    "print('Success!')"
   ]
  },
  {
   "cell_type": "markdown",
   "metadata": {
    "deletable": false,
    "editable": false,
    "nbgrader": {
     "cell_type": "markdown",
     "checksum": "3643d9f2a06528de0f80081d7e3df0cd",
     "grade": false,
     "grade_id": "cell-5ded190fc1855d5b",
     "locked": true,
     "schema_version": 3,
     "solution": false,
     "task": false
    }
   },
   "source": [
    "## 2. Fast-Food Chains in the United States\n",
    "\n",
    "With their cheap meals and convenient drive-thrus, fast food restaurants are a growing demand in many countries. Despite their questionable ingredients and nutritional value, most Americans count on fast food in their daily lives (they are often delicious and so hard to resist...). \n",
    "\n",
    "<img src=\"https://media.giphy.com/media/NS6SKs3Lt8cPHhe0es/giphy.gif\" width = \"400\"/>\n",
    "\n",
    "Source: https://media.giphy.com/media/NS6SKs3Lt8cPHhe0es/giphy.gif\n",
    "\n",
    "According to Wikipedia,\n",
    ">  Fast food was originally created as a commercial strategy to accommodate the larger numbers of busy commuters, travelers and wage workers who often didn't have the time to sit down at a public house or diner and wait the normal way for their food to be cooked. By making speed of service the priority, this ensured that customers with strictly limited time (a commuter stopping to procure dinner to bring home to their family, for example, or an hourly laborer on a short lunch break) were not inconvenienced by waiting for their food to be cooked on-the-spot (as is expected from a traditional \"sit down\" restaurant). For those with no time to spare, fast food became a multi-billion dollar industry.\n",
    "\n",
    "Currently, fast food is the norm and lots of businesses are investing in advertisement as well as new ideas to make their chain stand out in the sea of restaurants. In fact, one business is hiring you. They want to know the layout of the landscape:\n",
    "\n",
    "1) Which is the most prevalent franchise on the west coast of the US? \n",
    "\n",
    "2) Which state has the highest number of fast-food restuarants? \n",
    "\n",
    "3) Is the most dominant franchise consistent across the west coast?\n",
    "\n",
    "In this assignment, you will pretend to assist in the opening of a new restaurant somewhere on the west coast of the United States (California, Oregon, or Washington). Your goal is to figure out which chain to recommend and figure out which state would be the least competitive.\n",
    "\n",
    "The columns in the dataset are:\n",
    "\n",
    "- `name` - The name of the restaurant\n",
    "- `st` - State"
   ]
  },
  {
   "cell_type": "markdown",
   "metadata": {
    "deletable": false,
    "editable": false,
    "nbgrader": {
     "cell_type": "markdown",
     "checksum": "ab4aabfe5cf2d7609d6cff74d8f4b21d",
     "grade": false,
     "grade_id": "cell-1d4483955210a104",
     "locked": true,
     "schema_version": 3,
     "solution": false
    }
   },
   "source": [
    "**Question 2.1** Multiple Choice:\n",
    "<br> {points: 1}\n",
    "\n",
    "From the list below, what are you *not* trying to determine:\n",
    "\n",
    "A. The west coast frachise with the greatest prevalence\n",
    "\n",
    "B. The least dominant franchise consistent across the west coast\n",
    "\n",
    "C. The state on the west coast with the greatest number of fast-food restuarants\n",
    "\n",
    "*Assign your answer to an object called `answer 2.1`. Make sure your answer is an uppercase letter and is surrounded by quotation marks (e.g. `\"F\"`).*"
   ]
  },
  {
   "cell_type": "code",
   "execution_count": null,
   "metadata": {
    "deletable": false,
    "nbgrader": {
     "cell_type": "code",
     "checksum": "22249bc8a73994f14c53adf51996c2f8",
     "grade": false,
     "grade_id": "cell-ee7c5c9ca8b83d19",
     "locked": false,
     "schema_version": 3,
     "solution": true
    }
   },
   "outputs": [],
   "source": [
    "# Replace the fail() with your answer. \n",
    "\n",
    "# your code here\n",
    "fail() # No Answer - remove if you provide an answer"
   ]
  },
  {
   "cell_type": "code",
   "execution_count": null,
   "metadata": {
    "deletable": false,
    "editable": false,
    "nbgrader": {
     "cell_type": "code",
     "checksum": "ca96e5d4b2246f04e9a152706d248173",
     "grade": true,
     "grade_id": "cell-22af5054ff59eadd",
     "locked": true,
     "points": 1,
     "schema_version": 3,
     "solution": false
    }
   },
   "outputs": [],
   "source": [
    "library(digest)\n",
    "stopifnot(\"type of answer2.1 is not character\"= setequal(digest(paste(toString(class(answer2.1)), \"5a75a\")), \"348f41e30be3d658bca964ffabd104b3\"))\n",
    "stopifnot(\"length of answer2.1 is not correct\"= setequal(digest(paste(toString(length(answer2.1)), \"5a75a\")), \"908eb1a03475bf49c27aa835e37b58c0\"))\n",
    "stopifnot(\"value of answer2.1 is not correct\"= setequal(digest(paste(toString(tolower(answer2.1)), \"5a75a\")), \"95dfb0f981b8d62ecceea5f2a87bf782\"))\n",
    "stopifnot(\"letters in string value of answer2.1 are correct but case is not correct\"= setequal(digest(paste(toString(answer2.1), \"5a75a\")), \"535f237ba0c9731c4382fee5d7341e76\"))\n",
    "\n",
    "print('Success!')"
   ]
  },
  {
   "cell_type": "markdown",
   "metadata": {
    "deletable": false,
    "editable": false,
    "nbgrader": {
     "cell_type": "markdown",
     "checksum": "9c298347dc8bb90191aed7a0835deff4",
     "grade": false,
     "grade_id": "cell-2a0d906c102c421a",
     "locked": true,
     "schema_version": 3,
     "solution": false
    }
   },
   "source": [
    "**Question 2.2**\n",
    "<br> {points: 1}\n",
    "\n",
    "Read the `fast_food.csv` file (found in the `worksheet_04/data` directory) and assign it to an object called `fast_food`."
   ]
  },
  {
   "cell_type": "code",
   "execution_count": null,
   "metadata": {
    "deletable": false,
    "nbgrader": {
     "cell_type": "code",
     "checksum": "c97bc8992283bc3cf6938db3145718f7",
     "grade": false,
     "grade_id": "cell-84ec1117f0f1e0d4",
     "locked": false,
     "schema_version": 3,
     "solution": true
    }
   },
   "outputs": [],
   "source": [
    "# your code here\n",
    "fail() # No Answer - remove if you provide an answer\n",
    "fast_food"
   ]
  },
  {
   "cell_type": "code",
   "execution_count": null,
   "metadata": {
    "deletable": false,
    "editable": false,
    "nbgrader": {
     "cell_type": "code",
     "checksum": "96420ef765df89fcfc9ffd584f05fdf9",
     "grade": true,
     "grade_id": "cell-f61886d392c4a00a",
     "locked": true,
     "points": 1,
     "schema_version": 3,
     "solution": false
    }
   },
   "outputs": [],
   "source": [
    "library(digest)\n",
    "stopifnot(\"fast_food should be a data frame\"= setequal(digest(paste(toString('data.frame' %in% class(fast_food)), \"af9b7\")), \"113093d5fc9e63431127ca203d95d62d\"))\n",
    "stopifnot(\"dimensions of fast_food are not correct\"= setequal(digest(paste(toString(dim(fast_food)), \"af9b7\")), \"afc2d9a2b63cb320979e199c5ddcd311\"))\n",
    "stopifnot(\"column names of fast_food are not correct\"= setequal(digest(paste(toString(sort(colnames(fast_food))), \"af9b7\")), \"ad5edae9097a455438686b5909f8e84d\"))\n",
    "stopifnot(\"types of columns in fast_food are not correct\"= setequal(digest(paste(toString(sort(unlist(sapply(fast_food, class)))), \"af9b7\")), \"e8c0ba5402b2e6d757c0e8d068ee1274\"))\n",
    "stopifnot(\"values in one or more numerical columns in fast_food are not correct\"= setequal(digest(paste(toString(if (any(sapply(fast_food, is.numeric))) sort(round(sapply(fast_food[, sapply(fast_food, is.numeric)], sum, na.rm = TRUE), 2)) else 0), \"af9b7\")), \"676345291044e7cf5100b300bfcf5cd6\"))\n",
    "stopifnot(\"values in one or more character columns in fast_food are not correct\"= setequal(digest(paste(toString(if (any(sapply(fast_food, is.character))) sum(sapply(fast_food[sapply(fast_food, is.character)], function(x) length(unique(x)))) else 0), \"af9b7\")), \"ef0aa5a9b3e78399bd25b18163063b3f\"))\n",
    "stopifnot(\"values in one or more factor columns in fast_food are not correct\"= setequal(digest(paste(toString(if (any(sapply(fast_food, is.factor))) sum(sapply(fast_food[, sapply(fast_food, is.factor)], function(col) length(unique(col)))) else 0), \"af9b7\")), \"676345291044e7cf5100b300bfcf5cd6\"))\n",
    "\n",
    "print('Success!')"
   ]
  },
  {
   "cell_type": "markdown",
   "metadata": {
    "deletable": false,
    "editable": false,
    "nbgrader": {
     "cell_type": "markdown",
     "checksum": "5c68bb8a2358ad1e0f5a81b0a9790faf",
     "grade": false,
     "grade_id": "cell-b752f228aa364c90",
     "locked": true,
     "schema_version": 3,
     "solution": false,
     "task": false
    }
   },
   "source": [
    "**Question 2.2.1** Multiple Choice:\n",
    "<br> {points: 1}\n",
    "\n",
    "What does each row in the dataset represent?\n",
    "\n",
    "A. The number of branches from a given franchise and state\n",
    "\n",
    "B. A unique branch of a given franchise in a given state\n",
    "\n",
    "C. An indicator of whether a given franchise is present in a given state\n",
    "\n",
    "*Assign your answer to an object called `answer 2.2.1`. Make sure your answer is an uppercase letter and is surrounded by quotation marks (e.g. `\"F\"`).*"
   ]
  },
  {
   "cell_type": "code",
   "execution_count": null,
   "metadata": {
    "deletable": false,
    "nbgrader": {
     "cell_type": "code",
     "checksum": "d4d9acfc8c7d410bcb2deee3c498ac67",
     "grade": false,
     "grade_id": "cell-3b610030c80671d3",
     "locked": false,
     "schema_version": 3,
     "solution": true,
     "task": false
    }
   },
   "outputs": [],
   "source": [
    "# Replace the fail() with your answer. \n",
    "\n",
    "# your code here\n",
    "fail() # No Answer - remove if you provide an answer"
   ]
  },
  {
   "cell_type": "code",
   "execution_count": null,
   "metadata": {
    "deletable": false,
    "editable": false,
    "nbgrader": {
     "cell_type": "code",
     "checksum": "34ce89f00259d4c0c7610a503f27a4a7",
     "grade": true,
     "grade_id": "cell-d5c80de7a7a08e65",
     "locked": true,
     "points": 1,
     "schema_version": 3,
     "solution": false,
     "task": false
    }
   },
   "outputs": [],
   "source": [
    "library(digest)\n",
    "stopifnot(\"type of answer2.2.1 is not character\"= setequal(digest(paste(toString(class(answer2.2.1)), \"a30a9\")), \"f5fe37058eebba5503dd207beb8f600d\"))\n",
    "stopifnot(\"length of answer2.2.1 is not correct\"= setequal(digest(paste(toString(length(answer2.2.1)), \"a30a9\")), \"51173379c96cda82701d89935e819e53\"))\n",
    "stopifnot(\"value of answer2.2.1 is not correct\"= setequal(digest(paste(toString(tolower(answer2.2.1)), \"a30a9\")), \"0074ccdfde69362179e9f1685b2ff6ee\"))\n",
    "stopifnot(\"letters in string value of answer2.2.1 are correct but case is not correct\"= setequal(digest(paste(toString(answer2.2.1), \"a30a9\")), \"edf357ece36c9cd06ecf49e000892433\"))\n",
    "\n",
    "print('Success!')"
   ]
  },
  {
   "cell_type": "markdown",
   "metadata": {
    "deletable": false,
    "editable": false,
    "nbgrader": {
     "cell_type": "markdown",
     "checksum": "6692b2c263cd485f22fc79183fc192ab",
     "grade": false,
     "grade_id": "cell-0df97ab2333937cb",
     "locked": true,
     "schema_version": 3,
     "solution": false
    }
   },
   "source": [
    "**Question 2.3** \n",
    "<br> {points: 1}\n",
    "\n",
    "Next, find the top 9 restaurants (in terms of number of locations) on the west coast (in the states \"CA\", \"WA\" or \"OR\") and name them `top_restaurants`. Fill in the `...` in the cell below, removing the `fail()`. Recall that the `n()` function counts rows.\n",
    "\n",
    "*Assign your answer to an object called `top_restaurants`.*"
   ]
  },
  {
   "cell_type": "code",
   "execution_count": null,
   "metadata": {
    "deletable": false,
    "nbgrader": {
     "cell_type": "code",
     "checksum": "c2f92b81ad5d8ba0494b7c18d0546848",
     "grade": false,
     "grade_id": "cell-5c06ffd85d7fa572",
     "locked": false,
     "schema_version": 3,
     "solution": true
    }
   },
   "outputs": [],
   "source": [
    "#... <- fast_food |>\n",
    "#    filter(st %in% c(\"CA\", \"WA\", \"OR\")) |> \n",
    "#    group_by(...) |>\n",
    "#    ...(count = n()) |>\n",
    "#    ...(..., n = ...)\n",
    "\n",
    "# your code here\n",
    "fail() # No Answer - remove if you provide an answer\n",
    "top_restaurants"
   ]
  },
  {
   "cell_type": "code",
   "execution_count": null,
   "metadata": {
    "deletable": false,
    "editable": false,
    "nbgrader": {
     "cell_type": "code",
     "checksum": "ded3dfedfc1f4bd8998a0267a7be0ae5",
     "grade": true,
     "grade_id": "cell-f2aa06843158a15e",
     "locked": true,
     "points": 1,
     "schema_version": 3,
     "solution": false
    }
   },
   "outputs": [],
   "source": [
    "library(digest)\n",
    "stopifnot(\"top_restaurants should be a data frame\"= setequal(digest(paste(toString('data.frame' %in% class(top_restaurants)), \"167c4\")), \"c252efbb89c723fc675936653840a1ba\"))\n",
    "stopifnot(\"dimensions of top_restaurants are not correct\"= setequal(digest(paste(toString(dim(top_restaurants)), \"167c4\")), \"e246022bc9b3288e4989b5624b0ede7a\"))\n",
    "stopifnot(\"column names of top_restaurants are not correct\"= setequal(digest(paste(toString(sort(colnames(top_restaurants))), \"167c4\")), \"4119d1941c95dab86e9480cf2623d607\"))\n",
    "stopifnot(\"types of columns in top_restaurants are not correct\"= setequal(digest(paste(toString(sort(unlist(sapply(top_restaurants, class)))), \"167c4\")), \"cf12511ca65b64fb48332d01ed845162\"))\n",
    "stopifnot(\"values in one or more numerical columns in top_restaurants are not correct\"= setequal(digest(paste(toString(if (any(sapply(top_restaurants, is.numeric))) sort(round(sapply(top_restaurants[, sapply(top_restaurants, is.numeric)], sum, na.rm = TRUE), 2)) else 0), \"167c4\")), \"f9ddaab11d03631dc890ec647f7106ff\"))\n",
    "stopifnot(\"values in one or more character columns in top_restaurants are not correct\"= setequal(digest(paste(toString(if (any(sapply(top_restaurants, is.character))) sum(sapply(top_restaurants[sapply(top_restaurants, is.character)], function(x) length(unique(x)))) else 0), \"167c4\")), \"7848e2c9313a5c75e098e0b421a37009\"))\n",
    "stopifnot(\"values in one or more factor columns in top_restaurants are not correct\"= setequal(digest(paste(toString(if (any(sapply(top_restaurants, is.factor))) sum(sapply(top_restaurants[, sapply(top_restaurants, is.factor)], function(col) length(unique(col)))) else 0), \"167c4\")), \"d7ca2887baf37f64508d57d320d70b47\"))\n",
    "\n",
    "print('Success!')"
   ]
  },
  {
   "cell_type": "markdown",
   "metadata": {
    "deletable": false,
    "editable": false,
    "nbgrader": {
     "cell_type": "markdown",
     "checksum": "dbb03c09caf9c0c98016834765239fe9",
     "grade": false,
     "grade_id": "cell-49f4f43165cf12c8",
     "locked": true,
     "schema_version": 3,
     "solution": false
    }
   },
   "source": [
    "**Question 2.4** \n",
    "<br> {points: 1}\n",
    "\n",
    "Even though we can use the table above to answer the question: \"1) Which is the most prevalent franchise on the west coast of the US?\" A table is not always the clearest way of showing information (although sometimes it might be). In our case a bar plot could be more helpful, so let's create one!\n",
    "\n",
    "Plot the counts for the top 9 fast food restaurants on the west coast as a bar chart using `geom_bar`. The number of restaurants should be on the y-axis and the restaurant names should be on the x-axis. Because we are not counting up the number of rows in our data frame, but instead are plotting the actual values in the `count` column, we need to use the `stat = \"identity\"` argument inside `geom_bar`.\n",
    "\n",
    "To do this fill in the `...` in the cell below. Copy and paste your finished answer into the `fail()`. Make sure to label your axes and choose an appropriate figure size using `options`.\n",
    "\n",
    "*Assign your answer to an object called `count_bar_chart`.*"
   ]
  },
  {
   "cell_type": "code",
   "execution_count": null,
   "metadata": {
    "deletable": false,
    "nbgrader": {
     "cell_type": "code",
     "checksum": "9f82be543b81de0ee0fe92c97523b674",
     "grade": false,
     "grade_id": "cell-7fa524ccd31a0eb3",
     "locked": false,
     "schema_version": 3,
     "solution": true
    }
   },
   "outputs": [],
   "source": [
    "#... <- ...(..., aes(x = ..., y = ...)) + \n",
    "#    geom_bar(...) +\n",
    "#    xlab(...) +\n",
    "#    ylab(...)\n",
    "\n",
    "\n",
    "# your code here\n",
    "fail() # No Answer - remove if you provide an answer\n",
    "count_bar_chart"
   ]
  },
  {
   "cell_type": "code",
   "execution_count": null,
   "metadata": {
    "deletable": false,
    "editable": false,
    "nbgrader": {
     "cell_type": "code",
     "checksum": "baa06fdc9e892b43d8d23bc40adcb654",
     "grade": true,
     "grade_id": "cell-75b9ba0facc9e21e",
     "locked": true,
     "points": 1,
     "schema_version": 3,
     "solution": false
    }
   },
   "outputs": [],
   "source": [
    "library(digest)\n",
    "stopifnot(\"type of plot is not correct (if you are using two types of geoms, try flipping the order of the geom objects!)\"= setequal(digest(paste(toString(sapply(seq_len(length(count_bar_chart$layers)), function(i) {c(class(count_bar_chart$layers[[i]]$geom))[1]})), \"4467f\")), \"3a1d017d94ea2df6e0ab6f00148c02dc\"))\n",
    "stopifnot(\"variable x is not correct\"= setequal(digest(paste(toString(unlist(lapply(sapply(seq_len(length(count_bar_chart$layers)), function(i) {rlang::get_expr(c(count_bar_chart$layers[[i]]$mapping, count_bar_chart$mapping)$x)}), as.character))), \"4467f\")), \"3cb512e5749a89d3a72a89a92db194b1\"))\n",
    "stopifnot(\"variable y is not correct\"= setequal(digest(paste(toString(unlist(lapply(sapply(seq_len(length(count_bar_chart$layers)), function(i) {rlang::get_expr(c(count_bar_chart$layers[[i]]$mapping, count_bar_chart$mapping)$y)}), as.character))), \"4467f\")), \"5e35898917b16ad210d8f2ff27536ae0\"))\n",
    "stopifnot(\"x-axis label is not descriptive, nicely formatted, or human readable\"= setequal(digest(paste(toString(rlang::get_expr(c(count_bar_chart$layers[[1]]$mapping, count_bar_chart$mapping)$x)!= count_bar_chart$labels$x), \"4467f\")), \"02e0c771527005dd41838fbc9b6f6855\"))\n",
    "stopifnot(\"y-axis label is not descriptive, nicely formatted, or human readable\"= setequal(digest(paste(toString(rlang::get_expr(c(count_bar_chart$layers[[1]]$mapping, count_bar_chart$mapping)$y)!= count_bar_chart$labels$y), \"4467f\")), \"02e0c771527005dd41838fbc9b6f6855\"))\n",
    "stopifnot(\"incorrect colour variable in count_bar_chart, specify a correct one if required\"= setequal(digest(paste(toString(rlang::get_expr(c(count_bar_chart$layers[[1]]$mapping, count_bar_chart$mapping)$colour)), \"4467f\")), \"e4f0b09fc1ceddf7a3a960629daa5983\"))\n",
    "stopifnot(\"incorrect shape variable in count_bar_chart, specify a correct one if required\"= setequal(digest(paste(toString(rlang::get_expr(c(count_bar_chart$layers[[1]]$mapping, count_bar_chart$mapping)$shape)), \"4467f\")), \"e4f0b09fc1ceddf7a3a960629daa5983\"))\n",
    "stopifnot(\"the colour label in count_bar_chart is not descriptive, nicely formatted, or human readable\"= setequal(digest(paste(toString(rlang::get_expr(c(count_bar_chart$layers[[1]]$mapping, count_bar_chart$mapping)$colour) != count_bar_chart$labels$colour), \"4467f\")), \"e4f0b09fc1ceddf7a3a960629daa5983\"))\n",
    "stopifnot(\"the shape label in count_bar_chart is not descriptive, nicely formatted, or human readable\"= setequal(digest(paste(toString(rlang::get_expr(c(count_bar_chart$layers[[1]]$mapping, count_bar_chart$mapping)$colour) != count_bar_chart$labels$shape), \"4467f\")), \"e4f0b09fc1ceddf7a3a960629daa5983\"))\n",
    "stopifnot(\"fill variable in count_bar_chart is not correct\"= setequal(digest(paste(toString(quo_name(count_bar_chart$mapping$fill)), \"4467f\")), \"73dc6666116fb2667dbaa9fc77f40edb\"))\n",
    "stopifnot(\"fill label in count_bar_chart is not informative\"= setequal(digest(paste(toString((quo_name(count_bar_chart$mapping$fill) != count_bar_chart$labels$fill)), \"4467f\")), \"e4f0b09fc1ceddf7a3a960629daa5983\"))\n",
    "stopifnot(\"position argument in count_bar_chart is not correct\"= setequal(digest(paste(toString(class(count_bar_chart$layers[[1]]$position)[1]), \"4467f\")), \"3299c5562e5a2715232b5a473a65ac56\"))\n",
    "\n",
    "stopifnot(\"count_bar_chart$data should be a data frame\"= setequal(digest(paste(toString('data.frame' %in% class(count_bar_chart$data)), \"44680\")), \"baeff3fc303e7563f89e588ee01884a1\"))\n",
    "stopifnot(\"dimensions of count_bar_chart$data are not correct\"= setequal(digest(paste(toString(dim(count_bar_chart$data)), \"44680\")), \"c80f234c3c3c64a5b72a05b4c30e17eb\"))\n",
    "stopifnot(\"column names of count_bar_chart$data are not correct\"= setequal(digest(paste(toString(sort(colnames(count_bar_chart$data))), \"44680\")), \"7d16d0b2d5b46f35fd2f2c51b41391fb\"))\n",
    "stopifnot(\"types of columns in count_bar_chart$data are not correct\"= setequal(digest(paste(toString(sort(unlist(sapply(count_bar_chart$data, class)))), \"44680\")), \"22c98b3ff1eb1295d15d346c57e80915\"))\n",
    "stopifnot(\"values in one or more numerical columns in count_bar_chart$data are not correct\"= setequal(digest(paste(toString(if (any(sapply(count_bar_chart$data, is.numeric))) sort(round(sapply(count_bar_chart$data[, sapply(count_bar_chart$data, is.numeric)], sum, na.rm = TRUE), 2)) else 0), \"44680\")), \"bf6a6b465290afefe2c31e57fce19322\"))\n",
    "stopifnot(\"values in one or more character columns in count_bar_chart$data are not correct\"= setequal(digest(paste(toString(if (any(sapply(count_bar_chart$data, is.character))) sum(sapply(count_bar_chart$data[sapply(count_bar_chart$data, is.character)], function(x) length(unique(x)))) else 0), \"44680\")), \"b2d1bb7eaed82f681b101c01be786c92\"))\n",
    "stopifnot(\"values in one or more factor columns in count_bar_chart$data are not correct\"= setequal(digest(paste(toString(if (any(sapply(count_bar_chart$data, is.factor))) sum(sapply(count_bar_chart$data[, sapply(count_bar_chart$data, is.factor)], function(col) length(unique(col)))) else 0), \"44680\")), \"68fa045eac92172ee535fc4b4a816fe4\"))\n",
    "\n",
    "print('Success!')"
   ]
  },
  {
   "cell_type": "markdown",
   "metadata": {
    "deletable": false,
    "editable": false,
    "nbgrader": {
     "cell_type": "markdown",
     "checksum": "19bbbfa1146d22e4053d3b45132a1261",
     "grade": false,
     "grade_id": "cell-7a9798d1a03634b9",
     "locked": true,
     "schema_version": 3,
     "solution": false,
     "task": false
    }
   },
   "source": [
    "**Question 2.5**\n",
    "<br> {points: 1}\n",
    "\n",
    "The x-axes labels don't look great unless you make the bars on the bar plot above quite wide, wider than are actually useful or effective. What can we do? There are two good solutions to this problem.\n",
    "\n",
    "**Part A:** We can add a `theme` layer and rotate the labels. Choose an angle that you think is appropriate. Choose something between 20 and 90 for the `angle` argument. Use the `hjust = 1` argument to ensure your labels don't sit on top of the bars as you rotate them (try removing that argument and see what happens...).\n",
    "\n",
    "*Name the resulting plot count_bar_chart_A.*\n",
    "\n",
    "**Part B:** We can also simply remake the plot with horizontal bars by swapping the aesthetic mapping. Specify that the `name` variable should be on the `y` axis, and the `count` variable should be on the `x` axis. Make sure to swap your axis labels too!\n",
    "\n",
    "*Name the resulting plot count_bar_chart_B.*\n"
   ]
  },
  {
   "cell_type": "code",
   "execution_count": null,
   "metadata": {
    "deletable": false,
    "nbgrader": {
     "cell_type": "code",
     "checksum": "53496e5d30f2f570e1d3fa3434122f46",
     "grade": false,
     "grade_id": "cell-74b1fc82a7200158",
     "locked": false,
     "schema_version": 3,
     "solution": true
    }
   },
   "outputs": [],
   "source": [
    "#PART A\n",
    "#... <- ... + \n",
    "#    theme(axis.text.x = element_text(angle = ..., hjust = 1))\n",
    "\n",
    "# your code here\n",
    "fail() # No Answer - remove if you provide an answer\n",
    "count_bar_chart_A\n",
    "\n",
    "#PART B\n",
    "#count_bar_chart_B <- ...(..., aes(x = ..., y = ...)) + \n",
    "#    geom_bar(...) +\n",
    "#    xlab(...) +\n",
    "#    ylab(...)\n",
    "\n",
    "# your code here\n",
    "fail() # No Answer - remove if you provide an answer\n",
    "count_bar_chart_B"
   ]
  },
  {
   "cell_type": "code",
   "execution_count": null,
   "metadata": {
    "deletable": false,
    "editable": false,
    "nbgrader": {
     "cell_type": "code",
     "checksum": "73a06071feb3549ed07eade411ed4432",
     "grade": true,
     "grade_id": "cell-6fc37492ce4c8caf",
     "locked": true,
     "points": 1,
     "schema_version": 3,
     "solution": false
    }
   },
   "outputs": [],
   "source": [
    "library(digest)\n",
    "stopifnot(\"type of plot is not correct (if you are using two types of geoms, try flipping the order of the geom objects!)\"= setequal(digest(paste(toString(sapply(seq_len(length(count_bar_chart_A$layers)), function(i) {c(class(count_bar_chart_A$layers[[i]]$geom))[1]})), \"2d61d\")), \"ff19d20081b36c910b24d7c51f12bec8\"))\n",
    "stopifnot(\"variable x is not correct\"= setequal(digest(paste(toString(unlist(lapply(sapply(seq_len(length(count_bar_chart_A$layers)), function(i) {rlang::get_expr(c(count_bar_chart_A$layers[[i]]$mapping, count_bar_chart_A$mapping)$x)}), as.character))), \"2d61d\")), \"7d3a359021d38bf8abab3f64c6240c28\"))\n",
    "stopifnot(\"variable y is not correct\"= setequal(digest(paste(toString(unlist(lapply(sapply(seq_len(length(count_bar_chart_A$layers)), function(i) {rlang::get_expr(c(count_bar_chart_A$layers[[i]]$mapping, count_bar_chart_A$mapping)$y)}), as.character))), \"2d61d\")), \"0a6343c53e21b46b176bda50d3a23695\"))\n",
    "stopifnot(\"x-axis label is not descriptive, nicely formatted, or human readable\"= setequal(digest(paste(toString(rlang::get_expr(c(count_bar_chart_A$layers[[1]]$mapping, count_bar_chart_A$mapping)$x)!= count_bar_chart_A$labels$x), \"2d61d\")), \"daa7b917ecba6af61b42a7416041dd85\"))\n",
    "stopifnot(\"y-axis label is not descriptive, nicely formatted, or human readable\"= setequal(digest(paste(toString(rlang::get_expr(c(count_bar_chart_A$layers[[1]]$mapping, count_bar_chart_A$mapping)$y)!= count_bar_chart_A$labels$y), \"2d61d\")), \"daa7b917ecba6af61b42a7416041dd85\"))\n",
    "stopifnot(\"incorrect colour variable in count_bar_chart_A, specify a correct one if required\"= setequal(digest(paste(toString(rlang::get_expr(c(count_bar_chart_A$layers[[1]]$mapping, count_bar_chart_A$mapping)$colour)), \"2d61d\")), \"d32a3db9b7e51a2a8dec4945108290d0\"))\n",
    "stopifnot(\"incorrect shape variable in count_bar_chart_A, specify a correct one if required\"= setequal(digest(paste(toString(rlang::get_expr(c(count_bar_chart_A$layers[[1]]$mapping, count_bar_chart_A$mapping)$shape)), \"2d61d\")), \"d32a3db9b7e51a2a8dec4945108290d0\"))\n",
    "stopifnot(\"the colour label in count_bar_chart_A is not descriptive, nicely formatted, or human readable\"= setequal(digest(paste(toString(rlang::get_expr(c(count_bar_chart_A$layers[[1]]$mapping, count_bar_chart_A$mapping)$colour) != count_bar_chart_A$labels$colour), \"2d61d\")), \"d32a3db9b7e51a2a8dec4945108290d0\"))\n",
    "stopifnot(\"the shape label in count_bar_chart_A is not descriptive, nicely formatted, or human readable\"= setequal(digest(paste(toString(rlang::get_expr(c(count_bar_chart_A$layers[[1]]$mapping, count_bar_chart_A$mapping)$colour) != count_bar_chart_A$labels$shape), \"2d61d\")), \"d32a3db9b7e51a2a8dec4945108290d0\"))\n",
    "stopifnot(\"fill variable in count_bar_chart_A is not correct\"= setequal(digest(paste(toString(quo_name(count_bar_chart_A$mapping$fill)), \"2d61d\")), \"3101e57a53e74b1c70bad5563c63551e\"))\n",
    "stopifnot(\"fill label in count_bar_chart_A is not informative\"= setequal(digest(paste(toString((quo_name(count_bar_chart_A$mapping$fill) != count_bar_chart_A$labels$fill)), \"2d61d\")), \"d32a3db9b7e51a2a8dec4945108290d0\"))\n",
    "stopifnot(\"position argument in count_bar_chart_A is not correct\"= setequal(digest(paste(toString(class(count_bar_chart_A$layers[[1]]$position)[1]), \"2d61d\")), \"9a0dc565fe2f47f1578f3b7f514cdc63\"))\n",
    "\n",
    "stopifnot(\"count_bar_chart_A$data should be a data frame\"= setequal(digest(paste(toString('data.frame' %in% class(count_bar_chart_A$data)), \"2d61e\")), \"cefbc7e24272591220904672fca39170\"))\n",
    "stopifnot(\"dimensions of count_bar_chart_A$data are not correct\"= setequal(digest(paste(toString(dim(count_bar_chart_A$data)), \"2d61e\")), \"e537acb8c54875b70590cb8c4badd5c3\"))\n",
    "stopifnot(\"column names of count_bar_chart_A$data are not correct\"= setequal(digest(paste(toString(sort(colnames(count_bar_chart_A$data))), \"2d61e\")), \"7691c0ef2c7b2f80642a6e1221288419\"))\n",
    "stopifnot(\"types of columns in count_bar_chart_A$data are not correct\"= setequal(digest(paste(toString(sort(unlist(sapply(count_bar_chart_A$data, class)))), \"2d61e\")), \"dbfe594de84cf23d99b7dadc56243cce\"))\n",
    "stopifnot(\"values in one or more numerical columns in count_bar_chart_A$data are not correct\"= setequal(digest(paste(toString(if (any(sapply(count_bar_chart_A$data, is.numeric))) sort(round(sapply(count_bar_chart_A$data[, sapply(count_bar_chart_A$data, is.numeric)], sum, na.rm = TRUE), 2)) else 0), \"2d61e\")), \"5069bcb8e49fec1acd371d923e003076\"))\n",
    "stopifnot(\"values in one or more character columns in count_bar_chart_A$data are not correct\"= setequal(digest(paste(toString(if (any(sapply(count_bar_chart_A$data, is.character))) sum(sapply(count_bar_chart_A$data[sapply(count_bar_chart_A$data, is.character)], function(x) length(unique(x)))) else 0), \"2d61e\")), \"856c9eae09e45146b49e517f5896bb5a\"))\n",
    "stopifnot(\"values in one or more factor columns in count_bar_chart_A$data are not correct\"= setequal(digest(paste(toString(if (any(sapply(count_bar_chart_A$data, is.factor))) sum(sapply(count_bar_chart_A$data[, sapply(count_bar_chart_A$data, is.factor)], function(col) length(unique(col)))) else 0), \"2d61e\")), \"688d123b645eff8d366244ea0e15d4a4\"))\n",
    "\n",
    "stopifnot(\"type of plot is not correct (if you are using two types of geoms, try flipping the order of the geom objects!)\"= setequal(digest(paste(toString(sapply(seq_len(length(count_bar_chart_B$layers)), function(i) {c(class(count_bar_chart_B$layers[[i]]$geom))[1]})), \"2d61f\")), \"c2574062f4a5b8f0951f1a1235995a4f\"))\n",
    "stopifnot(\"variable x is not correct\"= setequal(digest(paste(toString(unlist(lapply(sapply(seq_len(length(count_bar_chart_B$layers)), function(i) {rlang::get_expr(c(count_bar_chart_B$layers[[i]]$mapping, count_bar_chart_B$mapping)$x)}), as.character))), \"2d61f\")), \"f6e8023fed8fd4cfded0f445f742353e\"))\n",
    "stopifnot(\"variable y is not correct\"= setequal(digest(paste(toString(unlist(lapply(sapply(seq_len(length(count_bar_chart_B$layers)), function(i) {rlang::get_expr(c(count_bar_chart_B$layers[[i]]$mapping, count_bar_chart_B$mapping)$y)}), as.character))), \"2d61f\")), \"e4a3b5faa78c585cba8f2b240a6da933\"))\n",
    "stopifnot(\"x-axis label is not descriptive, nicely formatted, or human readable\"= setequal(digest(paste(toString(rlang::get_expr(c(count_bar_chart_B$layers[[1]]$mapping, count_bar_chart_B$mapping)$x)!= count_bar_chart_B$labels$x), \"2d61f\")), \"f85bde85902515c55d7f243dfb24aa07\"))\n",
    "stopifnot(\"y-axis label is not descriptive, nicely formatted, or human readable\"= setequal(digest(paste(toString(rlang::get_expr(c(count_bar_chart_B$layers[[1]]$mapping, count_bar_chart_B$mapping)$y)!= count_bar_chart_B$labels$y), \"2d61f\")), \"f85bde85902515c55d7f243dfb24aa07\"))\n",
    "stopifnot(\"incorrect colour variable in count_bar_chart_B, specify a correct one if required\"= setequal(digest(paste(toString(rlang::get_expr(c(count_bar_chart_B$layers[[1]]$mapping, count_bar_chart_B$mapping)$colour)), \"2d61f\")), \"b81025ee959061b3dd6b1ff3ae5d378e\"))\n",
    "stopifnot(\"incorrect shape variable in count_bar_chart_B, specify a correct one if required\"= setequal(digest(paste(toString(rlang::get_expr(c(count_bar_chart_B$layers[[1]]$mapping, count_bar_chart_B$mapping)$shape)), \"2d61f\")), \"b81025ee959061b3dd6b1ff3ae5d378e\"))\n",
    "stopifnot(\"the colour label in count_bar_chart_B is not descriptive, nicely formatted, or human readable\"= setequal(digest(paste(toString(rlang::get_expr(c(count_bar_chart_B$layers[[1]]$mapping, count_bar_chart_B$mapping)$colour) != count_bar_chart_B$labels$colour), \"2d61f\")), \"b81025ee959061b3dd6b1ff3ae5d378e\"))\n",
    "stopifnot(\"the shape label in count_bar_chart_B is not descriptive, nicely formatted, or human readable\"= setequal(digest(paste(toString(rlang::get_expr(c(count_bar_chart_B$layers[[1]]$mapping, count_bar_chart_B$mapping)$colour) != count_bar_chart_B$labels$shape), \"2d61f\")), \"b81025ee959061b3dd6b1ff3ae5d378e\"))\n",
    "stopifnot(\"fill variable in count_bar_chart_B is not correct\"= setequal(digest(paste(toString(quo_name(count_bar_chart_B$mapping$fill)), \"2d61f\")), \"9525132554bcd84095b4bf38d3df55da\"))\n",
    "stopifnot(\"fill label in count_bar_chart_B is not informative\"= setequal(digest(paste(toString((quo_name(count_bar_chart_B$mapping$fill) != count_bar_chart_B$labels$fill)), \"2d61f\")), \"b81025ee959061b3dd6b1ff3ae5d378e\"))\n",
    "stopifnot(\"position argument in count_bar_chart_B is not correct\"= setequal(digest(paste(toString(class(count_bar_chart_B$layers[[1]]$position)[1]), \"2d61f\")), \"7360e6393b1f6e01225af6d18b76653c\"))\n",
    "\n",
    "stopifnot(\"count_bar_chart_B$data should be a data frame\"= setequal(digest(paste(toString('data.frame' %in% class(count_bar_chart_B$data)), \"2d620\")), \"54c47a38aa4a4b1d3517d17120b76c5c\"))\n",
    "stopifnot(\"dimensions of count_bar_chart_B$data are not correct\"= setequal(digest(paste(toString(dim(count_bar_chart_B$data)), \"2d620\")), \"12e0c867e2facace055d3a1f1731023a\"))\n",
    "stopifnot(\"column names of count_bar_chart_B$data are not correct\"= setequal(digest(paste(toString(sort(colnames(count_bar_chart_B$data))), \"2d620\")), \"e94b535fcef6ad4dd2a94ef1343f5c3d\"))\n",
    "stopifnot(\"types of columns in count_bar_chart_B$data are not correct\"= setequal(digest(paste(toString(sort(unlist(sapply(count_bar_chart_B$data, class)))), \"2d620\")), \"38a04fa5261576790acee58286ffde7d\"))\n",
    "stopifnot(\"values in one or more numerical columns in count_bar_chart_B$data are not correct\"= setequal(digest(paste(toString(if (any(sapply(count_bar_chart_B$data, is.numeric))) sort(round(sapply(count_bar_chart_B$data[, sapply(count_bar_chart_B$data, is.numeric)], sum, na.rm = TRUE), 2)) else 0), \"2d620\")), \"79b35b55134dec83aa4ad5a06e668aaf\"))\n",
    "stopifnot(\"values in one or more character columns in count_bar_chart_B$data are not correct\"= setequal(digest(paste(toString(if (any(sapply(count_bar_chart_B$data, is.character))) sum(sapply(count_bar_chart_B$data[sapply(count_bar_chart_B$data, is.character)], function(x) length(unique(x)))) else 0), \"2d620\")), \"553c0dd93152258b316ad64079b9f92d\"))\n",
    "stopifnot(\"values in one or more factor columns in count_bar_chart_B$data are not correct\"= setequal(digest(paste(toString(if (any(sapply(count_bar_chart_B$data, is.factor))) sum(sapply(count_bar_chart_B$data[, sapply(count_bar_chart_B$data, is.factor)], function(col) length(unique(col)))) else 0), \"2d620\")), \"f07cdba4e69f20d95f7ebaeb38eaee02\"))\n",
    "\n",
    "print('Success!')"
   ]
  },
  {
   "cell_type": "markdown",
   "metadata": {
    "deletable": false,
    "editable": false,
    "nbgrader": {
     "cell_type": "markdown",
     "checksum": "65cef3649742aba2d31702f6bd72372d",
     "grade": false,
     "grade_id": "cell-09a3f2ba6c0c15e4",
     "locked": true,
     "schema_version": 3,
     "solution": false
    }
   },
   "source": [
    "**Question 2.6**\n",
    "<br> {points: 1}\n",
    "\n",
    "Which is the most prevalent franchise on the west coast? Save your answer as `answer2.6` and be sure to surround the restuarant name with quotations. Pay attention to case and punctuation when answering."
   ]
  },
  {
   "cell_type": "code",
   "execution_count": null,
   "metadata": {
    "deletable": false,
    "nbgrader": {
     "cell_type": "code",
     "checksum": "fb245e96e5f775d916d433bd5db01d3a",
     "grade": false,
     "grade_id": "cell-4b5e9ae3b501ff80",
     "locked": false,
     "schema_version": 3,
     "solution": true
    }
   },
   "outputs": [],
   "source": [
    "# your code here\n",
    "fail() # No Answer - remove if you provide an answer"
   ]
  },
  {
   "cell_type": "code",
   "execution_count": null,
   "metadata": {
    "deletable": false,
    "editable": false,
    "nbgrader": {
     "cell_type": "code",
     "checksum": "185424b557ed6783b8556536e3982967",
     "grade": true,
     "grade_id": "cell-7e1f5a0036666e46",
     "locked": true,
     "points": 1,
     "schema_version": 3,
     "solution": false
    }
   },
   "outputs": [],
   "source": [
    "library(digest)\n",
    "stopifnot(\"type of answer2.6 is not character\"= setequal(digest(paste(toString(class(answer2.6)), \"216e1\")), \"7f70fcdd0cb3de50d99ecdd79274d01a\"))\n",
    "stopifnot(\"length of answer2.6 is not correct\"= setequal(digest(paste(toString(length(answer2.6)), \"216e1\")), \"1f8da3d1374040a87453b72e532e8c37\"))\n",
    "stopifnot(\"value of answer2.6 is not correct\"= setequal(digest(paste(toString(tolower(answer2.6)), \"216e1\")), \"48ba78382a77bfa401ae6f5622608d2e\"))\n",
    "stopifnot(\"letters in string value of answer2.6 are correct but case is not correct\"= setequal(digest(paste(toString(answer2.6), \"216e1\")), \"17ba4195faa44d45111a7bced3ea6020\"))\n",
    "\n",
    "print('Success!')"
   ]
  },
  {
   "cell_type": "markdown",
   "metadata": {
    "deletable": false,
    "editable": false,
    "nbgrader": {
     "cell_type": "markdown",
     "checksum": "223409f7252db26235ee5efd14e33123",
     "grade": false,
     "grade_id": "cell-21bc1492a7923acd",
     "locked": true,
     "schema_version": 3,
     "solution": false
    }
   },
   "source": [
    "**Question 2.7** \n",
    "<br> {points: 1}\n",
    "\n",
    "Next, let's find which state on the west coast has the highest number of those top 9 fast-food restuarants we found earlier. To do this we need to use the names in `top_restaurants` to get the counts of each restaurant in each of the 3 states from the `fast_food` data frame. You will need to use `semi_join` to do this (to get the intersection of two data frames).  Name this data frame `state_counts`. Fill in the `...` in the cell below. Copy and paste your finished answer into the `fail()`.\n",
    "\n",
    "*If you are interested in learning more about joining data frames in R, see [this cheatsheet](https://stat545.com/bit001_dplyr-cheatsheet.html).*"
   ]
  },
  {
   "cell_type": "code",
   "execution_count": null,
   "metadata": {
    "deletable": false,
    "nbgrader": {
     "cell_type": "code",
     "checksum": "89b3aea20402778e0eea9c2aab3bced2",
     "grade": false,
     "grade_id": "cell-fdd4333a78788519",
     "locked": false,
     "schema_version": 3,
     "solution": true
    }
   },
   "outputs": [],
   "source": [
    "#... <- fast_food |>\n",
    "#    semi_join(top_restaurants) |> # semi_join gives the intersection of two data frames\n",
    "#    filter(st %in% c(\"CA\", \"WA\", \"OR\")) |> \n",
    "#    ...(...) |>\n",
    "#    ...(count = n()) \n",
    "\n",
    "# your code here\n",
    "fail() # No Answer - remove if you provide an answer\n",
    "state_counts"
   ]
  },
  {
   "cell_type": "code",
   "execution_count": null,
   "metadata": {
    "deletable": false,
    "editable": false,
    "nbgrader": {
     "cell_type": "code",
     "checksum": "54b57afc870499126e772cd28be35500",
     "grade": true,
     "grade_id": "cell-53713f7578969f5c",
     "locked": true,
     "points": 1,
     "schema_version": 3,
     "solution": false
    }
   },
   "outputs": [],
   "source": [
    "library(digest)\n",
    "stopifnot(\"state_counts should be a data frame\"= setequal(digest(paste(toString('data.frame' %in% class(state_counts)), \"69303\")), \"45b498b5f13c775f6eea31ccc1f5cec1\"))\n",
    "stopifnot(\"dimensions of state_counts are not correct\"= setequal(digest(paste(toString(dim(state_counts)), \"69303\")), \"5e149abcd93a561ee93de5e0c0317d53\"))\n",
    "stopifnot(\"column names of state_counts are not correct\"= setequal(digest(paste(toString(sort(colnames(state_counts))), \"69303\")), \"8616fd92c4b59d39ee0d33ed8c7bbcd1\"))\n",
    "stopifnot(\"types of columns in state_counts are not correct\"= setequal(digest(paste(toString(sort(unlist(sapply(state_counts, class)))), \"69303\")), \"8103e13d943450dc83abe849dc7d58c0\"))\n",
    "stopifnot(\"values in one or more numerical columns in state_counts are not correct\"= setequal(digest(paste(toString(if (any(sapply(state_counts, is.numeric))) sort(round(sapply(state_counts[, sapply(state_counts, is.numeric)], sum, na.rm = TRUE), 2)) else 0), \"69303\")), \"e8e92f0f217ea8269ff6772eb0d0d1a9\"))\n",
    "stopifnot(\"values in one or more character columns in state_counts are not correct\"= setequal(digest(paste(toString(if (any(sapply(state_counts, is.character))) sum(sapply(state_counts[sapply(state_counts, is.character)], function(x) length(unique(x)))) else 0), \"69303\")), \"6f57d9862eaae5414b51ec20e9692a8e\"))\n",
    "stopifnot(\"values in one or more factor columns in state_counts are not correct\"= setequal(digest(paste(toString(if (any(sapply(state_counts, is.factor))) sum(sapply(state_counts[, sapply(state_counts, is.factor)], function(col) length(unique(col)))) else 0), \"69303\")), \"a4f5b24422a4a8eea772b5bc6b164026\"))\n",
    "\n",
    "print('Success!')"
   ]
  },
  {
   "cell_type": "markdown",
   "metadata": {
    "deletable": false,
    "editable": false,
    "nbgrader": {
     "cell_type": "markdown",
     "checksum": "10f63eb2d8c699be5bbcd1fec7cd4ff9",
     "grade": false,
     "grade_id": "cell-d7ee2bd6b5df79ae",
     "locked": true,
     "schema_version": 3,
     "solution": false
    }
   },
   "source": [
    "**Question 2.8**\n",
    "<br> {points: 1}\n",
    "\n",
    "Now, create a bar plot that has restaurant count on the y-axis and US state on the x-axis. Name the plot `state_counts_plot`. Remember to choose an appropriate plot size using `options`. "
   ]
  },
  {
   "cell_type": "code",
   "execution_count": null,
   "metadata": {
    "deletable": false,
    "nbgrader": {
     "cell_type": "code",
     "checksum": "0aeeb0042a7ae9170c7ed36d1ab388f9",
     "grade": false,
     "grade_id": "cell-b7d101d1906d201c",
     "locked": false,
     "schema_version": 3,
     "solution": true
    }
   },
   "outputs": [],
   "source": [
    "#... <- ...\n",
    "\n",
    "# your code here\n",
    "fail() # No Answer - remove if you provide an answer\n",
    "state_counts_plot"
   ]
  },
  {
   "cell_type": "code",
   "execution_count": null,
   "metadata": {
    "deletable": false,
    "editable": false,
    "nbgrader": {
     "cell_type": "code",
     "checksum": "0dfc138347310710fee60c4633556348",
     "grade": true,
     "grade_id": "cell-3ee58280015e1838",
     "locked": true,
     "points": 1,
     "schema_version": 3,
     "solution": false
    }
   },
   "outputs": [],
   "source": [
    "library(digest)\n",
    "stopifnot(\"type of plot is not correct (if you are using two types of geoms, try flipping the order of the geom objects!)\"= setequal(digest(paste(toString(sapply(seq_len(length(state_counts_plot$layers)), function(i) {c(class(state_counts_plot$layers[[i]]$geom))[1]})), \"be9b9\")), \"f1d65672b7eac8ecfbb8a6e8bc164238\"))\n",
    "stopifnot(\"variable x is not correct\"= setequal(digest(paste(toString(unlist(lapply(sapply(seq_len(length(state_counts_plot$layers)), function(i) {rlang::get_expr(c(state_counts_plot$layers[[i]]$mapping, state_counts_plot$mapping)$x)}), as.character))), \"be9b9\")), \"1605871bffcba3d857ba2c9e3e562dec\"))\n",
    "stopifnot(\"variable y is not correct\"= setequal(digest(paste(toString(unlist(lapply(sapply(seq_len(length(state_counts_plot$layers)), function(i) {rlang::get_expr(c(state_counts_plot$layers[[i]]$mapping, state_counts_plot$mapping)$y)}), as.character))), \"be9b9\")), \"2d7c371c076dca181a6aa6741e541dd1\"))\n",
    "stopifnot(\"x-axis label is not descriptive, nicely formatted, or human readable\"= setequal(digest(paste(toString(rlang::get_expr(c(state_counts_plot$layers[[1]]$mapping, state_counts_plot$mapping)$x)!= state_counts_plot$labels$x), \"be9b9\")), \"8f440849eea34e6904b206d5962debcb\"))\n",
    "stopifnot(\"y-axis label is not descriptive, nicely formatted, or human readable\"= setequal(digest(paste(toString(rlang::get_expr(c(state_counts_plot$layers[[1]]$mapping, state_counts_plot$mapping)$y)!= state_counts_plot$labels$y), \"be9b9\")), \"8f440849eea34e6904b206d5962debcb\"))\n",
    "stopifnot(\"incorrect colour variable in state_counts_plot, specify a correct one if required\"= setequal(digest(paste(toString(rlang::get_expr(c(state_counts_plot$layers[[1]]$mapping, state_counts_plot$mapping)$colour)), \"be9b9\")), \"252dae4b92fb352b32cc5be9c9a8b447\"))\n",
    "stopifnot(\"incorrect shape variable in state_counts_plot, specify a correct one if required\"= setequal(digest(paste(toString(rlang::get_expr(c(state_counts_plot$layers[[1]]$mapping, state_counts_plot$mapping)$shape)), \"be9b9\")), \"252dae4b92fb352b32cc5be9c9a8b447\"))\n",
    "stopifnot(\"the colour label in state_counts_plot is not descriptive, nicely formatted, or human readable\"= setequal(digest(paste(toString(rlang::get_expr(c(state_counts_plot$layers[[1]]$mapping, state_counts_plot$mapping)$colour) != state_counts_plot$labels$colour), \"be9b9\")), \"252dae4b92fb352b32cc5be9c9a8b447\"))\n",
    "stopifnot(\"the shape label in state_counts_plot is not descriptive, nicely formatted, or human readable\"= setequal(digest(paste(toString(rlang::get_expr(c(state_counts_plot$layers[[1]]$mapping, state_counts_plot$mapping)$colour) != state_counts_plot$labels$shape), \"be9b9\")), \"252dae4b92fb352b32cc5be9c9a8b447\"))\n",
    "stopifnot(\"fill variable in state_counts_plot is not correct\"= setequal(digest(paste(toString(quo_name(state_counts_plot$mapping$fill)), \"be9b9\")), \"bb939370008bbfcec07967a4d1d26c41\"))\n",
    "stopifnot(\"fill label in state_counts_plot is not informative\"= setequal(digest(paste(toString((quo_name(state_counts_plot$mapping$fill) != state_counts_plot$labels$fill)), \"be9b9\")), \"252dae4b92fb352b32cc5be9c9a8b447\"))\n",
    "stopifnot(\"position argument in state_counts_plot is not correct\"= setequal(digest(paste(toString(class(state_counts_plot$layers[[1]]$position)[1]), \"be9b9\")), \"c94af9abd5e42a055208a0104bd79a40\"))\n",
    "\n",
    "stopifnot(\"state_counts_plot$data should be a data frame\"= setequal(digest(paste(toString('data.frame' %in% class(state_counts_plot$data)), \"be9ba\")), \"e1825ff0678ea2991d1208d6522ba869\"))\n",
    "stopifnot(\"dimensions of state_counts_plot$data are not correct\"= setequal(digest(paste(toString(dim(state_counts_plot$data)), \"be9ba\")), \"5af006b1f76459d2932c01c7111e067b\"))\n",
    "stopifnot(\"column names of state_counts_plot$data are not correct\"= setequal(digest(paste(toString(sort(colnames(state_counts_plot$data))), \"be9ba\")), \"a80de1dd280f77b2bda96b9b195d3abd\"))\n",
    "stopifnot(\"types of columns in state_counts_plot$data are not correct\"= setequal(digest(paste(toString(sort(unlist(sapply(state_counts_plot$data, class)))), \"be9ba\")), \"0d0cf89371a470207390b77f821607ee\"))\n",
    "stopifnot(\"values in one or more numerical columns in state_counts_plot$data are not correct\"= setequal(digest(paste(toString(if (any(sapply(state_counts_plot$data, is.numeric))) sort(round(sapply(state_counts_plot$data[, sapply(state_counts_plot$data, is.numeric)], sum, na.rm = TRUE), 2)) else 0), \"be9ba\")), \"2a02b486446542220352b21467064782\"))\n",
    "stopifnot(\"values in one or more character columns in state_counts_plot$data are not correct\"= setequal(digest(paste(toString(if (any(sapply(state_counts_plot$data, is.character))) sum(sapply(state_counts_plot$data[sapply(state_counts_plot$data, is.character)], function(x) length(unique(x)))) else 0), \"be9ba\")), \"1abbd3fb160b14c933c992e474246a8f\"))\n",
    "stopifnot(\"values in one or more factor columns in state_counts_plot$data are not correct\"= setequal(digest(paste(toString(if (any(sapply(state_counts_plot$data, is.factor))) sum(sapply(state_counts_plot$data[, sapply(state_counts_plot$data, is.factor)], function(col) length(unique(col)))) else 0), \"be9ba\")), \"0bad67de0efb6a17e7f968cdf4517e9d\"))\n",
    "\n",
    "print('Success!')"
   ]
  },
  {
   "cell_type": "markdown",
   "metadata": {
    "deletable": false,
    "editable": false,
    "nbgrader": {
     "cell_type": "markdown",
     "checksum": "065f7c60ae156b0779f2d20eed2a6be1",
     "grade": false,
     "grade_id": "cell-b50e50c135e6d682",
     "locked": true,
     "schema_version": 3,
     "solution": false
    }
   },
   "source": [
    "**Question 2.9.0**\n",
    "<br> {points: 1}\n",
    "\n",
    "Which state (CA, OR, WA) has the highest number of fast-food restuarants? Save your answer as `answer2.9.0` and be sure to surround the state initialism with quotations (e.g. `\"NY\"`). Pay attention to case and punctuation when answering."
   ]
  },
  {
   "cell_type": "code",
   "execution_count": null,
   "metadata": {
    "deletable": false,
    "nbgrader": {
     "cell_type": "code",
     "checksum": "16289d6088e0eb00dade0d06b3e7c75a",
     "grade": false,
     "grade_id": "cell-3808cf146c117d12",
     "locked": false,
     "schema_version": 3,
     "solution": true
    }
   },
   "outputs": [],
   "source": [
    "# Replace the fail() with your answer. \n",
    "\n",
    "# your code here\n",
    "fail() # No Answer - remove if you provide an answer"
   ]
  },
  {
   "cell_type": "code",
   "execution_count": null,
   "metadata": {
    "deletable": false,
    "editable": false,
    "nbgrader": {
     "cell_type": "code",
     "checksum": "9f1a646607cffd8b3769e634b0c7733c",
     "grade": true,
     "grade_id": "cell-a17cc0ffac7cd795",
     "locked": true,
     "points": 1,
     "schema_version": 3,
     "solution": false
    }
   },
   "outputs": [],
   "source": [
    "library(digest)\n",
    "stopifnot(\"type of answer2.9.0 is not character\"= setequal(digest(paste(toString(class(answer2.9.0)), \"7848c\")), \"7ea20af6dc5ac49e5e89a611c25d2f16\"))\n",
    "stopifnot(\"length of answer2.9.0 is not correct\"= setequal(digest(paste(toString(length(answer2.9.0)), \"7848c\")), \"e4b444d994aee0a727a89ff9fa8ba5eb\"))\n",
    "stopifnot(\"value of answer2.9.0 is not correct\"= setequal(digest(paste(toString(tolower(answer2.9.0)), \"7848c\")), \"5b4c2ff7c2e45bb050613350e1dfa38f\"))\n",
    "stopifnot(\"letters in string value of answer2.9.0 are correct but case is not correct\"= setequal(digest(paste(toString(answer2.9.0), \"7848c\")), \"8ff12f457671bc57be1ce5261c06c847\"))\n",
    "\n",
    "print('Success!')"
   ]
  },
  {
   "cell_type": "markdown",
   "metadata": {
    "deletable": false,
    "editable": false,
    "nbgrader": {
     "cell_type": "markdown",
     "checksum": "18fbe3367ad55765d5a741e82d5bdfc1",
     "grade": false,
     "grade_id": "cell-d202e7ffd51f7ed6",
     "locked": true,
     "schema_version": 3,
     "solution": false,
     "task": false
    }
   },
   "source": [
    "Consider the populations of California (39.512 million), Oregon (4.217 million) and Washington (7.615 million) (source: [United States Census Bureau](https://www.census.gov/data/tables/time-series/demo/popest/2010s-state-total.html), visited on April 2020). Discuss with your neighbour about whether using the raw restaurant count for each state is the best measure of competition? Would restaurant per capita be a better alternative?"
   ]
  },
  {
   "cell_type": "markdown",
   "metadata": {
    "deletable": false,
    "editable": false,
    "nbgrader": {
     "cell_type": "markdown",
     "checksum": "225ec69369c504f67d9cf2b95ba665d4",
     "grade": false,
     "grade_id": "cell-f1cdfd674e10939c",
     "locked": true,
     "schema_version": 3,
     "solution": false,
     "task": false
    }
   },
   "source": [
    "Calculate the restaurant per capita for the states on the west coast by uncommenting and filling in the `...` in the code below."
   ]
  },
  {
   "cell_type": "code",
   "execution_count": null,
   "metadata": {},
   "outputs": [],
   "source": [
    "# population <- c(39.512, 4.217, 7.615)\n",
    "\n",
    "# state_counts |>\n",
    "#  mutate(n_per_capita = ... / population)"
   ]
  },
  {
   "cell_type": "markdown",
   "metadata": {
    "deletable": false,
    "editable": false,
    "nbgrader": {
     "cell_type": "markdown",
     "checksum": "f6ac4031e35dff642a0f95fed87f1c1e",
     "grade": false,
     "grade_id": "cell-81dda6467a7fbc87",
     "locked": true,
     "schema_version": 3,
     "solution": false,
     "task": false
    }
   },
   "source": [
    "**Question 2.9.1** Multiple Choice:\n",
    "<br> {points: 1}\n",
    "\n",
    "Which state has the highest number of fast food restaurants per capita?\n",
    "\n",
    "A. Washington\n",
    "\n",
    "B. California\n",
    "\n",
    "C. Oregon\n",
    "\n",
    "*Assign your answer to an object called `answer2.9.1`. Make sure your answer is an uppercase letter and is surrounded by quotation marks (e.g. `\"F\"`).*"
   ]
  },
  {
   "cell_type": "code",
   "execution_count": null,
   "metadata": {
    "deletable": false,
    "nbgrader": {
     "cell_type": "code",
     "checksum": "54c9601439a93924ddf69212d4e74ce8",
     "grade": false,
     "grade_id": "cell-7df84a13da5e51bc",
     "locked": false,
     "schema_version": 3,
     "solution": true,
     "task": false
    }
   },
   "outputs": [],
   "source": [
    "# Replace the fail() with your answer. \n",
    "\n",
    "# your code here\n",
    "fail() # No Answer - remove if you provide an answer"
   ]
  },
  {
   "cell_type": "code",
   "execution_count": null,
   "metadata": {
    "deletable": false,
    "editable": false,
    "nbgrader": {
     "cell_type": "code",
     "checksum": "1107f24860d638858abbb30d6e4f7d57",
     "grade": true,
     "grade_id": "cell-caee5ba3ec18fa8c",
     "locked": true,
     "points": 1,
     "schema_version": 3,
     "solution": false,
     "task": false
    }
   },
   "outputs": [],
   "source": [
    "library(digest)\n",
    "stopifnot(\"type of answer2.9.1 is not character\"= setequal(digest(paste(toString(class(answer2.9.1)), \"89237\")), \"23459098b3e6e44dcbe3493ed47e6648\"))\n",
    "stopifnot(\"length of answer2.9.1 is not correct\"= setequal(digest(paste(toString(length(answer2.9.1)), \"89237\")), \"3490fd4290331f6ba0408e12c44da1c2\"))\n",
    "stopifnot(\"value of answer2.9.1 is not correct\"= setequal(digest(paste(toString(tolower(answer2.9.1)), \"89237\")), \"a426e4896881fec20e4330818bd99582\"))\n",
    "stopifnot(\"letters in string value of answer2.9.1 are correct but case is not correct\"= setequal(digest(paste(toString(answer2.9.1), \"89237\")), \"c3847c84e8fc984758a5f88e6f0480e3\"))\n",
    "\n",
    "print('Success!')"
   ]
  },
  {
   "cell_type": "markdown",
   "metadata": {
    "deletable": false,
    "editable": false,
    "nbgrader": {
     "cell_type": "markdown",
     "checksum": "c974d73ede01f9cda3fbb2284a925ea3",
     "grade": false,
     "grade_id": "cell-6ae4fef0681d6b96",
     "locked": true,
     "schema_version": 3,
     "solution": false,
     "task": false
    }
   },
   "source": [
    "**Question 2.9.2** \n",
    "<br> {points: 1}\n",
    "\n",
    "Is the most dominant/top franchise consistent across the west coast? To answer this question we need a data frame that has three columns: `name` (restaurant), `st` and `count` (restaurant count). We will need to use the `semi-join` strategy as we did above to use the names in `top_restaurants` to get the counts of each restaurant in each of the 3 states from the `fast_food` data frame. This time, however, we'll need to `group_by` both `name` and `st`. Name this new data frame `top_n_state`. We only want to look at those top 9 fast-food restuarants we found earlier."
   ]
  },
  {
   "cell_type": "code",
   "execution_count": null,
   "metadata": {
    "deletable": false,
    "nbgrader": {
     "cell_type": "code",
     "checksum": "1458e1a436485271a37ced1a1928b571",
     "grade": false,
     "grade_id": "cell-fa13c7c54d724542",
     "locked": false,
     "schema_version": 3,
     "solution": true
    }
   },
   "outputs": [],
   "source": [
    "#... <- fast_food |>\n",
    "#    semi_join(top_restaurants) |> # semi_join gives the intersection of two data frames\n",
    "#    filter(st %in% c(\"CA\", \"WA\", \"OR\")) |> \n",
    "#    ...(..., ...) |>\n",
    "#    ...(...) \n",
    "\n",
    "# your code here\n",
    "fail() # No Answer - remove if you provide an answer\n",
    "top_n_state"
   ]
  },
  {
   "cell_type": "code",
   "execution_count": null,
   "metadata": {
    "deletable": false,
    "editable": false,
    "nbgrader": {
     "cell_type": "code",
     "checksum": "fa0fdd430e8e5316effed1ac10be9f70",
     "grade": true,
     "grade_id": "cell-58b0fb2c06951419",
     "locked": true,
     "points": 1,
     "schema_version": 3,
     "solution": false
    }
   },
   "outputs": [],
   "source": [
    "library(digest)\n",
    "stopifnot(\"top_n_state should be a data frame\"= setequal(digest(paste(toString('data.frame' %in% class(top_n_state)), \"87165\")), \"87eaa9393970e7783960a30109272fc0\"))\n",
    "stopifnot(\"dimensions of top_n_state are not correct\"= setequal(digest(paste(toString(dim(top_n_state)), \"87165\")), \"21e65b4b8e5c04eb1f10ea287a51583a\"))\n",
    "stopifnot(\"column names of top_n_state are not correct\"= setequal(digest(paste(toString(sort(colnames(top_n_state))), \"87165\")), \"05d5887430f2ba283c30ffc83c895252\"))\n",
    "stopifnot(\"types of columns in top_n_state are not correct\"= setequal(digest(paste(toString(sort(unlist(sapply(top_n_state, class)))), \"87165\")), \"66dfebd6d49d013694077da3e9a4057e\"))\n",
    "stopifnot(\"values in one or more numerical columns in top_n_state are not correct\"= setequal(digest(paste(toString(if (any(sapply(top_n_state, is.numeric))) sort(round(sapply(top_n_state[, sapply(top_n_state, is.numeric)], sum, na.rm = TRUE), 2)) else 0), \"87165\")), \"f546a12a70c5a4fa838e600a4b02cc15\"))\n",
    "stopifnot(\"values in one or more character columns in top_n_state are not correct\"= setequal(digest(paste(toString(if (any(sapply(top_n_state, is.character))) sum(sapply(top_n_state[sapply(top_n_state, is.character)], function(x) length(unique(x)))) else 0), \"87165\")), \"19564854acded917659f1ab00772ccb0\"))\n",
    "stopifnot(\"values in one or more factor columns in top_n_state are not correct\"= setequal(digest(paste(toString(if (any(sapply(top_n_state, is.factor))) sum(sapply(top_n_state[, sapply(top_n_state, is.factor)], function(col) length(unique(col)))) else 0), \"87165\")), \"d83205f4a2776402df0b63ac8536fae3\"))\n",
    "\n",
    "print('Success!')"
   ]
  },
  {
   "cell_type": "markdown",
   "metadata": {
    "deletable": false,
    "editable": false,
    "nbgrader": {
     "cell_type": "markdown",
     "checksum": "f54b8945e931c6dcdf007d448ef8b5d4",
     "grade": false,
     "grade_id": "cell-bc917b8d65a605c2",
     "locked": true,
     "schema_version": 3,
     "solution": false
    }
   },
   "source": [
    "**Question 2.9.3** \n",
    "<br> {points: 1}\n",
    "\n",
    "Plot the counts (y-axis) for the top 9 fast food restaurants on the west coast **per US State** (x-axis), as a bar chart using `geom_bar`. Use `fill = name` inside `aes` to color the restaurant's by name. Use `position = \"dodge\"` inside `geom_bar` to group the bars by state. To rename the legend, use a `labs` layer. This time within `labs` use the `fill` argument instead of color (this is because you need to modify the asthetic that the legend was made from, here it was fill, not color as earlier in the worksheet).\n",
    "\n",
    "To do this fill in the `...` in the cell below. Copy and paste your finished answer into the `fail()`. Make sure to label your axes and choose an appropriate plot size. \n",
    "\n",
    "*Assign your answer to an object called `top_n_state_plot`.*"
   ]
  },
  {
   "cell_type": "code",
   "execution_count": null,
   "metadata": {
    "deletable": false,
    "nbgrader": {
     "cell_type": "code",
     "checksum": "2c2669cb8df54e7178baca0e36512955",
     "grade": false,
     "grade_id": "cell-e76e0bf48a0e8854",
     "locked": false,
     "schema_version": 3,
     "solution": true
    }
   },
   "outputs": [],
   "source": [
    "#... <- ggplot(..., aes(x = ..., y = ..., fill = ...)) + \n",
    "#    ...(stat = ..., position = \"...\") + \n",
    "#   xlab(...) +\n",
    "#   ylab(...) +\n",
    "#   labs(fill = \"Restaurant\") \n",
    "\n",
    "# your code here\n",
    "fail() # No Answer - remove if you provide an answer\n",
    "top_n_state_plot"
   ]
  },
  {
   "cell_type": "code",
   "execution_count": null,
   "metadata": {
    "deletable": false,
    "editable": false,
    "nbgrader": {
     "cell_type": "code",
     "checksum": "79d4f363d1734c578d6ed6c4e2cc9e0c",
     "grade": true,
     "grade_id": "cell-ed385a60b4c8a6d0",
     "locked": true,
     "points": 1,
     "schema_version": 3,
     "solution": false
    }
   },
   "outputs": [],
   "source": [
    "library(digest)\n",
    "stopifnot(\"type of plot is not correct (if you are using two types of geoms, try flipping the order of the geom objects!)\"= setequal(digest(paste(toString(sapply(seq_len(length(top_n_state_plot$layers)), function(i) {c(class(top_n_state_plot$layers[[i]]$geom))[1]})), \"8b62d\")), \"c37448279430661e85828bd71452132e\"))\n",
    "stopifnot(\"variable x is not correct\"= setequal(digest(paste(toString(unlist(lapply(sapply(seq_len(length(top_n_state_plot$layers)), function(i) {rlang::get_expr(c(top_n_state_plot$layers[[i]]$mapping, top_n_state_plot$mapping)$x)}), as.character))), \"8b62d\")), \"7516f161c4b2803974073c663d922ebc\"))\n",
    "stopifnot(\"variable y is not correct\"= setequal(digest(paste(toString(unlist(lapply(sapply(seq_len(length(top_n_state_plot$layers)), function(i) {rlang::get_expr(c(top_n_state_plot$layers[[i]]$mapping, top_n_state_plot$mapping)$y)}), as.character))), \"8b62d\")), \"c130a2343692e8005f63aa6dc3ca251c\"))\n",
    "stopifnot(\"x-axis label is not descriptive, nicely formatted, or human readable\"= setequal(digest(paste(toString(rlang::get_expr(c(top_n_state_plot$layers[[1]]$mapping, top_n_state_plot$mapping)$x)!= top_n_state_plot$labels$x), \"8b62d\")), \"e2d529865e1499d31116f6e90a511df2\"))\n",
    "stopifnot(\"y-axis label is not descriptive, nicely formatted, or human readable\"= setequal(digest(paste(toString(rlang::get_expr(c(top_n_state_plot$layers[[1]]$mapping, top_n_state_plot$mapping)$y)!= top_n_state_plot$labels$y), \"8b62d\")), \"e2d529865e1499d31116f6e90a511df2\"))\n",
    "stopifnot(\"incorrect colour variable in top_n_state_plot, specify a correct one if required\"= setequal(digest(paste(toString(rlang::get_expr(c(top_n_state_plot$layers[[1]]$mapping, top_n_state_plot$mapping)$colour)), \"8b62d\")), \"67132c23005b4115fbf2db2f134a06d9\"))\n",
    "stopifnot(\"incorrect shape variable in top_n_state_plot, specify a correct one if required\"= setequal(digest(paste(toString(rlang::get_expr(c(top_n_state_plot$layers[[1]]$mapping, top_n_state_plot$mapping)$shape)), \"8b62d\")), \"67132c23005b4115fbf2db2f134a06d9\"))\n",
    "stopifnot(\"the colour label in top_n_state_plot is not descriptive, nicely formatted, or human readable\"= setequal(digest(paste(toString(rlang::get_expr(c(top_n_state_plot$layers[[1]]$mapping, top_n_state_plot$mapping)$colour) != top_n_state_plot$labels$colour), \"8b62d\")), \"67132c23005b4115fbf2db2f134a06d9\"))\n",
    "stopifnot(\"the shape label in top_n_state_plot is not descriptive, nicely formatted, or human readable\"= setequal(digest(paste(toString(rlang::get_expr(c(top_n_state_plot$layers[[1]]$mapping, top_n_state_plot$mapping)$colour) != top_n_state_plot$labels$shape), \"8b62d\")), \"67132c23005b4115fbf2db2f134a06d9\"))\n",
    "stopifnot(\"fill variable in top_n_state_plot is not correct\"= setequal(digest(paste(toString(quo_name(top_n_state_plot$mapping$fill)), \"8b62d\")), \"71900cd27056c5430a1b966f96f453f0\"))\n",
    "stopifnot(\"fill label in top_n_state_plot is not informative\"= setequal(digest(paste(toString((quo_name(top_n_state_plot$mapping$fill) != top_n_state_plot$labels$fill)), \"8b62d\")), \"e2d529865e1499d31116f6e90a511df2\"))\n",
    "stopifnot(\"position argument in top_n_state_plot is not correct\"= setequal(digest(paste(toString(class(top_n_state_plot$layers[[1]]$position)[1]), \"8b62d\")), \"c4a25508b8b3f69e8af42ceb8f217d4f\"))\n",
    "\n",
    "stopifnot(\"top_n_state_plot$data should be a data frame\"= setequal(digest(paste(toString('data.frame' %in% class(top_n_state_plot$data)), \"8b62e\")), \"f1cd7cc3a278d0e2a78dfa20a29c9307\"))\n",
    "stopifnot(\"dimensions of top_n_state_plot$data are not correct\"= setequal(digest(paste(toString(dim(top_n_state_plot$data)), \"8b62e\")), \"0cb8ba630e8987ec1aa13053e2469105\"))\n",
    "stopifnot(\"column names of top_n_state_plot$data are not correct\"= setequal(digest(paste(toString(sort(colnames(top_n_state_plot$data))), \"8b62e\")), \"9e1aa96ce06aad9f0741dc1264dc1f79\"))\n",
    "stopifnot(\"types of columns in top_n_state_plot$data are not correct\"= setequal(digest(paste(toString(sort(unlist(sapply(top_n_state_plot$data, class)))), \"8b62e\")), \"04910a13c80630b9672d00ec829a8d8f\"))\n",
    "stopifnot(\"values in one or more numerical columns in top_n_state_plot$data are not correct\"= setequal(digest(paste(toString(if (any(sapply(top_n_state_plot$data, is.numeric))) sort(round(sapply(top_n_state_plot$data[, sapply(top_n_state_plot$data, is.numeric)], sum, na.rm = TRUE), 2)) else 0), \"8b62e\")), \"9ca50d0cc328b2fb0ce23b66a0db9a4a\"))\n",
    "stopifnot(\"values in one or more character columns in top_n_state_plot$data are not correct\"= setequal(digest(paste(toString(if (any(sapply(top_n_state_plot$data, is.character))) sum(sapply(top_n_state_plot$data[sapply(top_n_state_plot$data, is.character)], function(x) length(unique(x)))) else 0), \"8b62e\")), \"f9810bb855ce69448da7877699172556\"))\n",
    "stopifnot(\"values in one or more factor columns in top_n_state_plot$data are not correct\"= setequal(digest(paste(toString(if (any(sapply(top_n_state_plot$data, is.factor))) sum(sapply(top_n_state_plot$data[, sapply(top_n_state_plot$data, is.factor)], function(col) length(unique(col)))) else 0), \"8b62e\")), \"57173e23d6d2a4255f49f2c85b1b1480\"))\n",
    "\n",
    "print('Success!')"
   ]
  },
  {
   "cell_type": "markdown",
   "metadata": {
    "deletable": false,
    "editable": false,
    "nbgrader": {
     "cell_type": "markdown",
     "checksum": "c0cb3e5c76c5f210203c80ef31d45a95",
     "grade": false,
     "grade_id": "cell-ff61d705f3a66bac",
     "locked": true,
     "schema_version": 3,
     "solution": false,
     "task": false
    }
   },
   "source": [
    "How easy is that to compare the restaurants and states to answer our question: Is the most dominant/top franchise consistent across the West-Coast? If we carefully look at this plot we can pick answer this question, but it takes us a while to process this. If we instead visualize this as a stacked bar chart using proportions instead of counts we might be able to do this easier (making it a more effective visualization)."
   ]
  },
  {
   "cell_type": "markdown",
   "metadata": {
    "deletable": false,
    "editable": false,
    "nbgrader": {
     "cell_type": "markdown",
     "checksum": "cce2e73ccc5492e4ad9ca73f6a788ce3",
     "grade": false,
     "grade_id": "cell-fbbbd065920901d2",
     "locked": true,
     "schema_version": 3,
     "solution": false
    }
   },
   "source": [
    "**Question 2.9.4** \n",
    "<br> {points: 1}\n",
    "\n",
    "Copy your code from Question 2.9.3 and modify `position = \"dodge\"` to `position = \"fill\"` to change from doing a grouped bar chart to a stacked bar chart with the data represented as proportions instead of counts. \n",
    "\n",
    "*Assign your answer to an object called `top_n_state_plot`*."
   ]
  },
  {
   "cell_type": "code",
   "execution_count": null,
   "metadata": {
    "deletable": false,
    "nbgrader": {
     "cell_type": "code",
     "checksum": "6e59c2eb0c3ff80d463dd12c808c2369",
     "grade": false,
     "grade_id": "cell-8d848ab3e4d34d85",
     "locked": false,
     "schema_version": 3,
     "solution": true
    }
   },
   "outputs": [],
   "source": [
    "#... <- ...\n",
    "\n",
    "# your code here\n",
    "fail() # No Answer - remove if you provide an answer\n",
    "top_n_state_plot"
   ]
  },
  {
   "cell_type": "code",
   "execution_count": null,
   "metadata": {
    "deletable": false,
    "editable": false,
    "nbgrader": {
     "cell_type": "code",
     "checksum": "16503697f745e2d9c2ed7d3e6f600eba",
     "grade": true,
     "grade_id": "cell-e5c5fc32398f29e0",
     "locked": true,
     "points": 1,
     "schema_version": 3,
     "solution": false,
     "task": false
    }
   },
   "outputs": [],
   "source": [
    "library(digest)\n",
    "stopifnot(\"type of plot is not correct (if you are using two types of geoms, try flipping the order of the geom objects!)\"= setequal(digest(paste(toString(sapply(seq_len(length(top_n_state_plot$layers)), function(i) {c(class(top_n_state_plot$layers[[i]]$geom))[1]})), \"41cdf\")), \"3d85f417f7673437510506830b760b23\"))\n",
    "stopifnot(\"variable x is not correct\"= setequal(digest(paste(toString(unlist(lapply(sapply(seq_len(length(top_n_state_plot$layers)), function(i) {rlang::get_expr(c(top_n_state_plot$layers[[i]]$mapping, top_n_state_plot$mapping)$x)}), as.character))), \"41cdf\")), \"21c4652fc6662a6b0ba9108b7425bfe9\"))\n",
    "stopifnot(\"variable y is not correct\"= setequal(digest(paste(toString(unlist(lapply(sapply(seq_len(length(top_n_state_plot$layers)), function(i) {rlang::get_expr(c(top_n_state_plot$layers[[i]]$mapping, top_n_state_plot$mapping)$y)}), as.character))), \"41cdf\")), \"8441b15cde816d7d4a198107845cd9ca\"))\n",
    "stopifnot(\"x-axis label is not descriptive, nicely formatted, or human readable\"= setequal(digest(paste(toString(rlang::get_expr(c(top_n_state_plot$layers[[1]]$mapping, top_n_state_plot$mapping)$x)!= top_n_state_plot$labels$x), \"41cdf\")), \"760380c20c3dd61c4da4ba4f28766b49\"))\n",
    "stopifnot(\"y-axis label is not descriptive, nicely formatted, or human readable\"= setequal(digest(paste(toString(rlang::get_expr(c(top_n_state_plot$layers[[1]]$mapping, top_n_state_plot$mapping)$y)!= top_n_state_plot$labels$y), \"41cdf\")), \"760380c20c3dd61c4da4ba4f28766b49\"))\n",
    "stopifnot(\"incorrect colour variable in top_n_state_plot, specify a correct one if required\"= setequal(digest(paste(toString(rlang::get_expr(c(top_n_state_plot$layers[[1]]$mapping, top_n_state_plot$mapping)$colour)), \"41cdf\")), \"6ffe1a7761a7a405b105b6adbe0dbbd6\"))\n",
    "stopifnot(\"incorrect shape variable in top_n_state_plot, specify a correct one if required\"= setequal(digest(paste(toString(rlang::get_expr(c(top_n_state_plot$layers[[1]]$mapping, top_n_state_plot$mapping)$shape)), \"41cdf\")), \"6ffe1a7761a7a405b105b6adbe0dbbd6\"))\n",
    "stopifnot(\"the colour label in top_n_state_plot is not descriptive, nicely formatted, or human readable\"= setequal(digest(paste(toString(rlang::get_expr(c(top_n_state_plot$layers[[1]]$mapping, top_n_state_plot$mapping)$colour) != top_n_state_plot$labels$colour), \"41cdf\")), \"6ffe1a7761a7a405b105b6adbe0dbbd6\"))\n",
    "stopifnot(\"the shape label in top_n_state_plot is not descriptive, nicely formatted, or human readable\"= setequal(digest(paste(toString(rlang::get_expr(c(top_n_state_plot$layers[[1]]$mapping, top_n_state_plot$mapping)$colour) != top_n_state_plot$labels$shape), \"41cdf\")), \"6ffe1a7761a7a405b105b6adbe0dbbd6\"))\n",
    "stopifnot(\"fill variable in top_n_state_plot is not correct\"= setequal(digest(paste(toString(quo_name(top_n_state_plot$mapping$fill)), \"41cdf\")), \"e9f2886d45ad55b99f378469479a70d5\"))\n",
    "stopifnot(\"fill label in top_n_state_plot is not informative\"= setequal(digest(paste(toString((quo_name(top_n_state_plot$mapping$fill) != top_n_state_plot$labels$fill)), \"41cdf\")), \"760380c20c3dd61c4da4ba4f28766b49\"))\n",
    "stopifnot(\"position argument in top_n_state_plot is not correct\"= setequal(digest(paste(toString(class(top_n_state_plot$layers[[1]]$position)[1]), \"41cdf\")), \"66b3ae6fdee38f79607edf3172fbe175\"))\n",
    "\n",
    "stopifnot(\"top_n_state_plot$data should be a data frame\"= setequal(digest(paste(toString('data.frame' %in% class(top_n_state_plot$data)), \"41ce0\")), \"958ff0c9624820f4d55d37ffd5c6be8f\"))\n",
    "stopifnot(\"dimensions of top_n_state_plot$data are not correct\"= setequal(digest(paste(toString(dim(top_n_state_plot$data)), \"41ce0\")), \"b5aa8ed25132b8c7842d0d5ba3157de7\"))\n",
    "stopifnot(\"column names of top_n_state_plot$data are not correct\"= setequal(digest(paste(toString(sort(colnames(top_n_state_plot$data))), \"41ce0\")), \"29513359779f5fa18b8756f26f9f6a64\"))\n",
    "stopifnot(\"types of columns in top_n_state_plot$data are not correct\"= setequal(digest(paste(toString(sort(unlist(sapply(top_n_state_plot$data, class)))), \"41ce0\")), \"64c55ac40a4c15fb494633dec70a1648\"))\n",
    "stopifnot(\"values in one or more numerical columns in top_n_state_plot$data are not correct\"= setequal(digest(paste(toString(if (any(sapply(top_n_state_plot$data, is.numeric))) sort(round(sapply(top_n_state_plot$data[, sapply(top_n_state_plot$data, is.numeric)], sum, na.rm = TRUE), 2)) else 0), \"41ce0\")), \"613c5be45cd04f85a19b8c8fe7dc693b\"))\n",
    "stopifnot(\"values in one or more character columns in top_n_state_plot$data are not correct\"= setequal(digest(paste(toString(if (any(sapply(top_n_state_plot$data, is.character))) sum(sapply(top_n_state_plot$data[sapply(top_n_state_plot$data, is.character)], function(x) length(unique(x)))) else 0), \"41ce0\")), \"5db698afd31f3073419711dbc080a7ae\"))\n",
    "stopifnot(\"values in one or more factor columns in top_n_state_plot$data are not correct\"= setequal(digest(paste(toString(if (any(sapply(top_n_state_plot$data, is.factor))) sum(sapply(top_n_state_plot$data[, sapply(top_n_state_plot$data, is.factor)], function(col) length(unique(col)))) else 0), \"41ce0\")), \"5f2debbd034bfd143d76ce34b6e36aa4\"))\n",
    "\n",
    "print('Success!')"
   ]
  },
  {
   "cell_type": "markdown",
   "metadata": {
    "deletable": false,
    "editable": false,
    "nbgrader": {
     "cell_type": "markdown",
     "checksum": "786c82c3334c00bb450c53e10275d9fd",
     "grade": false,
     "grade_id": "cell-18024b55d0ecc8f0",
     "locked": true,
     "schema_version": 3,
     "solution": false
    }
   },
   "source": [
    "**Question 2.9.5** \n",
    "<br> {points: 1}\n",
    "\n",
    "Is the most dominant franchise consistent across the west coast? Answer `\"yes\"` or `\"no\"`. Save your answer as `answer2.9.5` and be sure to surround the answer with quotations. Pay attention to case and punctuation when answering."
   ]
  },
  {
   "cell_type": "code",
   "execution_count": null,
   "metadata": {
    "deletable": false,
    "nbgrader": {
     "cell_type": "code",
     "checksum": "e14c8ad1be30e5460c71ebe59e8df9d5",
     "grade": false,
     "grade_id": "cell-84b61b1043757d6f",
     "locked": false,
     "schema_version": 3,
     "solution": true
    }
   },
   "outputs": [],
   "source": [
    "# Replace the fail() with your answer. \n",
    "\n",
    "# your code here\n",
    "fail() # No Answer - remove if you provide an answer"
   ]
  },
  {
   "cell_type": "code",
   "execution_count": null,
   "metadata": {
    "deletable": false,
    "editable": false,
    "nbgrader": {
     "cell_type": "code",
     "checksum": "9abc01a9da3e24b280146169b99de100",
     "grade": true,
     "grade_id": "cell-0eb8e20187b2bfa2",
     "locked": true,
     "points": 1,
     "schema_version": 3,
     "solution": false
    }
   },
   "outputs": [],
   "source": [
    "library(digest)\n",
    "stopifnot(\"type of answer2.9.5 is not character\"= setequal(digest(paste(toString(class(answer2.9.5)), \"a0525\")), \"53113c6dc738c2c33554bf7db6aaa55d\"))\n",
    "stopifnot(\"length of answer2.9.5 is not correct\"= setequal(digest(paste(toString(length(answer2.9.5)), \"a0525\")), \"0aef641be7513c5c82e1cbc53a2bf8d7\"))\n",
    "stopifnot(\"value of answer2.9.5 is not correct\"= setequal(digest(paste(toString(tolower(answer2.9.5)), \"a0525\")), \"6a5f6162ed75f6c6b753a64bd082ed59\"))\n",
    "stopifnot(\"letters in string value of answer2.9.5 are correct but case is not correct\"= setequal(digest(paste(toString(answer2.9.5), \"a0525\")), \"6a5f6162ed75f6c6b753a64bd082ed59\"))\n",
    "\n",
    "print('Success!')"
   ]
  },
  {
   "cell_type": "markdown",
   "metadata": {
    "deletable": false,
    "editable": false,
    "nbgrader": {
     "cell_type": "markdown",
     "checksum": "4b8d6a261273277f11cec7b88797df56",
     "grade": false,
     "grade_id": "cell-ed421b97dac101b5",
     "locked": true,
     "schema_version": 3,
     "solution": false,
     "task": false
    }
   },
   "source": [
    "We are just scratching the surface of how to create effective visualizations in R. For example, we haven't covered how to change from the default colors palette `ggplot2` provides. We'll learn more in the tutorial, but it's a big world out there; to learn more, visit the links in the reading and practice, practice, practice! Go forth and make beautiful and effective plots!"
   ]
  },
  {
   "cell_type": "code",
   "execution_count": null,
   "metadata": {
    "deletable": false,
    "editable": false,
    "nbgrader": {
     "cell_type": "code",
     "checksum": "b4b2df9ec00260ae57da39baac3653ce",
     "grade": false,
     "grade_id": "cell-e253b5cd13763b73",
     "locked": true,
     "schema_version": 3,
     "solution": false,
     "task": false
    }
   },
   "outputs": [],
   "source": [
    "source(\"cleanup.R\")"
   ]
  }
 ],
 "metadata": {
  "kernelspec": {
   "display_name": "R",
   "language": "R",
   "name": "ir"
  },
  "language_info": {
   "codemirror_mode": "r",
   "file_extension": ".r",
   "mimetype": "text/x-r-source",
   "name": "R",
   "pygments_lexer": "r",
   "version": "4.3.3"
  }
 },
 "nbformat": 4,
 "nbformat_minor": 4
}
