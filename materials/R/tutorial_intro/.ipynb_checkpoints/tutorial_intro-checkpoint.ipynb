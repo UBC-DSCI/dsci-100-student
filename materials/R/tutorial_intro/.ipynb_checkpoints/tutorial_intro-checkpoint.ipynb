{
 "cells": [
  {
   "cell_type": "markdown",
   "metadata": {
    "deletable": false,
    "editable": false,
    "nbgrader": {
     "cell_type": "markdown",
     "checksum": "2a2dd58652fc3008c6171f9efa62376a",
     "grade": false,
     "grade_id": "cell-097c971e4c534365",
     "locked": true,
     "schema_version": 3,
     "solution": false,
     "task": false
    }
   },
   "source": [
    "# Tutorial: R and the Tidyverse\n",
    "\n",
    "Welcome to the first tutorial worksheet for Data Science: A First Introduction!  There is a tutorial worksheet like this one corresponding to each chapter of the textbook. This tutorial covers the [R and the Tidyverse](https://datasciencebook.ca/intro.html) chapter of the online textbook, which also lists learning objectives. You should read the textbook chapter before attempting this tutorial worksheet. Tutorial worksheets generally have slightly harder questions than lecture worksheets. Some questions will be manually graded by the TAs, and there are also occasionally \"hidden test\" questions, where you can't check your answer in advance.\n",
    "\n",
    "But as always: collaborating on these exercises is more than okay -- it's encouraged!\n",
    "\n",
    "Any place you see `...`, you must fill in the function, variable, or data to complete the code. Substitute the `fail() # No Answer - remove if you provide an answer` with your completed code and answers then proceed to run the cell.\n"
   ]
  },
  {
   "cell_type": "code",
   "execution_count": null,
   "metadata": {
    "deletable": false,
    "editable": false,
    "nbgrader": {
     "cell_type": "code",
     "checksum": "57449d874a8bd4209e4bae22d25f706e",
     "grade": false,
     "grade_id": "cell-f8bed7e28ebf84d3",
     "locked": true,
     "schema_version": 3,
     "solution": false,
     "task": false
    }
   },
   "outputs": [],
   "source": [
    "### Run this cell before continuing. \n",
    "library(repr)\n",
    "options(repr.matrix.max.rows = 6)\n",
    "source(\"cleanup.R\")"
   ]
  },
  {
   "cell_type": "markdown",
   "metadata": {
    "deletable": false,
    "editable": false,
    "nbgrader": {
     "cell_type": "markdown",
     "checksum": "d815033fa355c18f15b5aff97bc1c358",
     "grade": false,
     "grade_id": "cell-83392b7a5bae6d15",
     "locked": true,
     "schema_version": 3,
     "solution": false,
     "task": false
    }
   },
   "source": [
    "**Revision Question** Match the following definitions with the corresponding functions used in R:\n",
    "<br> {points: 1}\n",
    "\n",
    "*Definitions*\n",
    "\n",
    "A. Reads the most common types of flat file data, comma separated values. \n",
    "\n",
    "B. Keeps only the variables you mention.\n",
    "\n",
    "C. Keeps only rows with entries satisfying some logical condition that you specify.\n",
    "\n",
    "D. Adds a new variable to a data frame as a function of the old columns.\n",
    "\n",
    "E. Declares the input data frame for a graphic and specifies the set of plot aesthetics intended to be common throughout all subsequent layers unless specifically overridden.\n",
    "\n",
    "*Functions*\n",
    "\n",
    "1. `ggplot`\n",
    "2. `select`\n",
    "3. `filter`\n",
    "4. `read_csv`\n",
    "5. `mutate`\n",
    "\n",
    "For each definition, assign the integer corresponding to the correct function to the letter object associated with the defintion. For example:\n",
    "\n",
    "    B <- 1\n",
    "\n",
    "*Assign your answers to the objects `A`, `B`, `C`, `D`, and `E`. Your answers should each be a single integer.*"
   ]
  },
  {
   "cell_type": "code",
   "execution_count": null,
   "metadata": {
    "deletable": false,
    "nbgrader": {
     "cell_type": "code",
     "checksum": "9da8ad65302f348f41494dff53089ef0",
     "grade": false,
     "grade_id": "cell-364071ddddabc1ef",
     "locked": false,
     "schema_version": 3,
     "solution": true
    }
   },
   "outputs": [],
   "source": [
    "# Replace the fail() with your answer. \n",
    "\n",
    "# your code here\n",
    "fail() # No Answer - remove if you provide an answer"
   ]
  },
  {
   "cell_type": "code",
   "execution_count": null,
   "metadata": {
    "deletable": false,
    "editable": false,
    "nbgrader": {
     "cell_type": "code",
     "checksum": "aee1fbc6d1e99f0b752b85467dae2abd",
     "grade": true,
     "grade_id": "cell-8bfa7659789da213",
     "locked": true,
     "points": 1,
     "schema_version": 3,
     "solution": false
    }
   },
   "outputs": [],
   "source": [
    "library(digest)\n",
    "stopifnot(\"type of A is not numeric\"= setequal(digest(paste(toString(class(A)), \"2fff8\")), \"de244a826ac501a88fb8c4bb0d03b26f\"))\n",
    "stopifnot(\"value of A is not correct (rounded to 2 decimal places)\"= setequal(digest(paste(toString(round(A, 2)), \"2fff8\")), \"f2b09bcda6c70af7e2fb337df6b2c68c\"))\n",
    "stopifnot(\"length of A is not correct\"= setequal(digest(paste(toString(length(A)), \"2fff8\")), \"fc44a50eb90fcb0dc704ee2c73284b82\"))\n",
    "stopifnot(\"values of A are not correct\"= setequal(digest(paste(toString(sort(round(A, 2))), \"2fff8\")), \"f2b09bcda6c70af7e2fb337df6b2c68c\"))\n",
    "\n",
    "stopifnot(\"type of B is not numeric\"= setequal(digest(paste(toString(class(B)), \"2fff9\")), \"747d87cc18e9777f299ec310abb7d4b5\"))\n",
    "stopifnot(\"value of B is not correct (rounded to 2 decimal places)\"= setequal(digest(paste(toString(round(B, 2)), \"2fff9\")), \"7c015f8f067238550126f6b07b7a6861\"))\n",
    "stopifnot(\"length of B is not correct\"= setequal(digest(paste(toString(length(B)), \"2fff9\")), \"3a9291dd54100a74dbaf892dc5e8287a\"))\n",
    "stopifnot(\"values of B are not correct\"= setequal(digest(paste(toString(sort(round(B, 2))), \"2fff9\")), \"7c015f8f067238550126f6b07b7a6861\"))\n",
    "\n",
    "stopifnot(\"type of C is not numeric\"= setequal(digest(paste(toString(class(C)), \"2fffa\")), \"2d1837730813c4d0fbf2842da955403f\"))\n",
    "stopifnot(\"value of C is not correct (rounded to 2 decimal places)\"= setequal(digest(paste(toString(round(C, 2)), \"2fffa\")), \"3ca6d40ed15ccb190c958536d98e299f\"))\n",
    "stopifnot(\"length of C is not correct\"= setequal(digest(paste(toString(length(C)), \"2fffa\")), \"b469a854c8f51c396401184c308717bf\"))\n",
    "stopifnot(\"values of C are not correct\"= setequal(digest(paste(toString(sort(round(C, 2))), \"2fffa\")), \"3ca6d40ed15ccb190c958536d98e299f\"))\n",
    "\n",
    "stopifnot(\"type of D is not numeric\"= setequal(digest(paste(toString(class(D)), \"2fffb\")), \"d9ace2ee36158dacb02ce38343f45176\"))\n",
    "stopifnot(\"value of D is not correct (rounded to 2 decimal places)\"= setequal(digest(paste(toString(round(D, 2)), \"2fffb\")), \"042eba895fab97e9473eb1ac0b9aeff9\"))\n",
    "stopifnot(\"length of D is not correct\"= setequal(digest(paste(toString(length(D)), \"2fffb\")), \"e3918bf3dea3e130227ad88821c982cc\"))\n",
    "stopifnot(\"values of D are not correct\"= setequal(digest(paste(toString(sort(round(D, 2))), \"2fffb\")), \"042eba895fab97e9473eb1ac0b9aeff9\"))\n",
    "\n",
    "stopifnot(\"type of E is not numeric\"= setequal(digest(paste(toString(class(E)), \"2fffc\")), \"73067b1eede859aace934d53a60e7ed7\"))\n",
    "stopifnot(\"value of E is not correct (rounded to 2 decimal places)\"= setequal(digest(paste(toString(round(E, 2)), \"2fffc\")), \"928813b3633f08b88e2e5df941b8fde0\"))\n",
    "stopifnot(\"length of E is not correct\"= setequal(digest(paste(toString(length(E)), \"2fffc\")), \"928813b3633f08b88e2e5df941b8fde0\"))\n",
    "stopifnot(\"values of E are not correct\"= setequal(digest(paste(toString(sort(round(E, 2))), \"2fffc\")), \"928813b3633f08b88e2e5df941b8fde0\"))\n",
    "\n",
    "print('Success!')"
   ]
  },
  {
   "cell_type": "markdown",
   "metadata": {
    "deletable": false,
    "editable": false,
    "nbgrader": {
     "cell_type": "markdown",
     "checksum": "9c44ce9b2cb190759d6ab55d9f53ba9b",
     "grade": false,
     "grade_id": "cell-23fa8d80b908d764",
     "locked": true,
     "schema_version": 3,
     "solution": false,
     "task": false
    }
   },
   "source": [
    "## 1. Vickers and Vertosick Exercise\n",
    "We hope you haven't forgotten about them just yet! As you might recall from lecture, Vickers and Vertosick were the researchers that wanted to study different factors affecting race performance of recreational runners. They assembled a data set that includes the age, sex, and Body Mass Index (BMI) of runners, comparing it with their timed performance (how long it took them to complete either 5 or 10 km runs).\n",
    "\n",
    "We will be continuing our analysis of their data to practice what you learnt during the previous lecture. The goal for today, however, is to produce a plot of BMI against the time **(in minutes)** it took for participants **under the age of 35** to run 5 kilometres. To do this, we will need to complete the following steps:\n",
    "\n",
    "1. use `filter` to extract the rows where age is less than 35\n",
    "2. use `select` to extract the `bmi` and `km5_time_seconds` columns \n",
    "3. use `mutate` to convert 5 km race time from seconds (`km5_time_seconds`) to minutes\n",
    "4. use `ggplot` to create our plot of BMI (x-axis) and race time in minutes (y-axis)\n",
    "\n",
    "**Tips for success:** Try going through all of the steps on your own, but don't forget to discuss with others (classmates, TAs, or an instructor) if you get stuck. If something is wrong and you can't spot the issue, be sure to **read the error message carefully**. Since there are a lot of steps involved in working with data and modifying it, feel free to look back at the worksheet from this week for assistance. "
   ]
  },
  {
   "cell_type": "markdown",
   "metadata": {
    "deletable": false,
    "editable": false,
    "nbgrader": {
     "cell_type": "markdown",
     "checksum": "a42cd15150ab243cbdb3bdaafa2eb94f",
     "grade": false,
     "grade_id": "cell-ba22162ace034660",
     "locked": true,
     "schema_version": 3,
     "solution": false,
     "task": false
    }
   },
   "source": [
    "**Question 1.1** Multiple Choice\n",
    "<br> {points: 1}\n",
    "\n",
    "After reading the text above (and remembering that `filter` lets us choose rows that have values at, above, or below a threshold), what column do you think we will be using for our threshold when we filter? \n",
    "\n",
    "A. `age`\n",
    "\n",
    "B. `km5_time_seconds`\n",
    "\n",
    "C. `bmi`\n",
    "\n",
    "D. `sex`\n",
    "\n",
    "*Assign your answer to an object called `answer1.1`. Make sure to write the uppercase letter for the answer you have chosen and surround the letter with quotes.*"
   ]
  },
  {
   "cell_type": "code",
   "execution_count": null,
   "metadata": {
    "deletable": false,
    "nbgrader": {
     "cell_type": "code",
     "checksum": "49524c46371fe544d2db27c7c7d708d8",
     "grade": false,
     "grade_id": "cell-5a274965f36e740d",
     "locked": false,
     "schema_version": 3,
     "solution": true
    }
   },
   "outputs": [],
   "source": [
    "# Make sure the correct answer is an uppercase letter. \n",
    "# Surround your answer with quotation marks.\n",
    "# Replace the fail() with your answer. \n",
    "\n",
    "# your code here\n",
    "fail() # No Answer - remove if you provide an answer"
   ]
  },
  {
   "cell_type": "code",
   "execution_count": null,
   "metadata": {
    "deletable": false,
    "editable": false,
    "nbgrader": {
     "cell_type": "code",
     "checksum": "638dd3dd4546fb07e4435d6044646d98",
     "grade": true,
     "grade_id": "cell-22b73e3ca6d3e321",
     "locked": true,
     "points": 1,
     "schema_version": 3,
     "solution": false
    }
   },
   "outputs": [],
   "source": [
    "library(digest)\n",
    "stopifnot(\"type of answer1.1 is not character\"= setequal(digest(paste(toString(class(answer1.1)), \"bacc\")), \"d9c65aa0c2ae376af5c72f049e62e39d\"))\n",
    "stopifnot(\"length of answer1.1 is not correct\"= setequal(digest(paste(toString(length(answer1.1)), \"bacc\")), \"46db0350582115642d744df832d04308\"))\n",
    "stopifnot(\"value of answer1.1 is not correct\"= setequal(digest(paste(toString(tolower(answer1.1)), \"bacc\")), \"1eede81eef8e79eb7fc449a5214193c2\"))\n",
    "stopifnot(\"letters in string value of answer1.1 are correct but case is not correct\"= setequal(digest(paste(toString(answer1.1), \"bacc\")), \"943c3851d393387183b7158907170a17\"))\n",
    "\n",
    "print('Success!')"
   ]
  },
  {
   "cell_type": "markdown",
   "metadata": {
    "deletable": false,
    "editable": false,
    "nbgrader": {
     "cell_type": "markdown",
     "checksum": "92091714b16c0a9781ef1ed391bb54e4",
     "grade": false,
     "grade_id": "cell-3f21b62829f67fdb",
     "locked": true,
     "schema_version": 3,
     "solution": false,
     "task": false
    }
   },
   "source": [
    "**Question 1.2** True or False\n",
    "<br> {points: 1}\n",
    "\n",
    "We will be selecting the columns `age` and `km5_time_seconds` to plot. True or false?\n",
    "\n",
    "*Assign your answer (of either `\"true\"` or `\"false\"`) to an object called `answer1.2`. Make sure to write in all lower-case and surround your answer with quotes.*"
   ]
  },
  {
   "cell_type": "code",
   "execution_count": null,
   "metadata": {
    "deletable": false,
    "nbgrader": {
     "cell_type": "code",
     "checksum": "6bc38674860eb384df97f5e13d1eaa2b",
     "grade": false,
     "grade_id": "cell-cfdba6cc55279aa9",
     "locked": false,
     "schema_version": 3,
     "solution": true
    }
   },
   "outputs": [],
   "source": [
    "# Make sure the correct answer is written in lower-case (\"true\" / \"false\")\n",
    "# Surround your answer with quotation marks.\n",
    "# Replace the fail() with your answer. \n",
    "\n",
    "# your code here\n",
    "fail() # No Answer - remove if you provide an answer"
   ]
  },
  {
   "cell_type": "code",
   "execution_count": null,
   "metadata": {
    "deletable": false,
    "editable": false,
    "nbgrader": {
     "cell_type": "code",
     "checksum": "4de909b856469f71958d7152493da759",
     "grade": true,
     "grade_id": "cell-561d497f339ca0fb",
     "locked": true,
     "points": 1,
     "schema_version": 3,
     "solution": false
    }
   },
   "outputs": [],
   "source": [
    "library(digest)\n",
    "stopifnot(\"type of answer1.2 is not character\"= setequal(digest(paste(toString(class(answer1.2)), \"38a1e\")), \"cd54c8bd375b6aadbb7490fcfa187766\"))\n",
    "stopifnot(\"length of answer1.2 is not correct\"= setequal(digest(paste(toString(length(answer1.2)), \"38a1e\")), \"af1c47a9dd2b44f9ec5cb3b467e7f7a7\"))\n",
    "stopifnot(\"value of answer1.2 is not correct\"= setequal(digest(paste(toString(tolower(answer1.2)), \"38a1e\")), \"5a901d6f14db124c1287aa0b7c74e839\"))\n",
    "stopifnot(\"letters in string value of answer1.2 are correct but case is not correct\"= setequal(digest(paste(toString(answer1.2), \"38a1e\")), \"5a901d6f14db124c1287aa0b7c74e839\"))\n",
    "\n",
    "print('Success!')"
   ]
  },
  {
   "cell_type": "markdown",
   "metadata": {
    "deletable": false,
    "editable": false,
    "nbgrader": {
     "cell_type": "markdown",
     "checksum": "c3adb9d31d18a6f208db17268ec98008",
     "grade": false,
     "grade_id": "cell-83631a06f3627d5e",
     "locked": true,
     "schema_version": 3,
     "solution": false,
     "task": false
    }
   },
   "source": [
    "**Question 1.3** Multiple Choice\n",
    "<br> {points: 1}\n",
    "\n",
    "Select the answer with the correct order of functions that we will use to wrangle our data into a useable form for the plot we want to create. \n",
    "\n",
    "A. `mutate`, `select`, `filter`\n",
    "\n",
    "B. `select`, `filter`, `aes`\n",
    "\n",
    "C. `filter`, `select`, `mutate`\n",
    "\n",
    "D. `filter`, `select`, `aes`\n",
    "\n",
    "E. `select`, `filter`, `mutate`\n",
    "\n",
    "*Assign your answer to an object called `answer1.3`. Make sure your answer is an uppercase letter and is surrounded by quotation marks (e.g. `\"F\"`).*"
   ]
  },
  {
   "cell_type": "code",
   "execution_count": null,
   "metadata": {
    "deletable": false,
    "nbgrader": {
     "cell_type": "code",
     "checksum": "a7d89c24051bdccbb64e1909b314523b",
     "grade": false,
     "grade_id": "cell-406f7cb23352e3ed",
     "locked": false,
     "schema_version": 3,
     "solution": true
    }
   },
   "outputs": [],
   "source": [
    "# Replace the fail() with your answer.\n",
    "\n",
    "# your code here\n",
    "fail() # No Answer - remove if you provide an answer"
   ]
  },
  {
   "cell_type": "code",
   "execution_count": null,
   "metadata": {
    "deletable": false,
    "editable": false,
    "nbgrader": {
     "cell_type": "code",
     "checksum": "25140442ada438e707bf05755b79696b",
     "grade": true,
     "grade_id": "cell-b661cd0b7158dcb0",
     "locked": true,
     "points": 1,
     "schema_version": 3,
     "solution": false
    }
   },
   "outputs": [],
   "source": [
    "library(digest)\n",
    "stopifnot(\"type of answer1.3 is not character\"= setequal(digest(paste(toString(class(answer1.3)), \"a00c7\")), \"0378adf825f3f24b11115a908675cc9e\"))\n",
    "stopifnot(\"length of answer1.3 is not correct\"= setequal(digest(paste(toString(length(answer1.3)), \"a00c7\")), \"9a75e97873c35a71799041b8cbaef7ab\"))\n",
    "stopifnot(\"value of answer1.3 is not correct\"= setequal(digest(paste(toString(tolower(answer1.3)), \"a00c7\")), \"ab57c95bfbc930ba14292f21fb435bdb\"))\n",
    "stopifnot(\"letters in string value of answer1.3 are correct but case is not correct\"= setequal(digest(paste(toString(answer1.3), \"a00c7\")), \"cdb6fb73609dbbd6d6ede721ce970b27\"))\n",
    "\n",
    "print('Success!')"
   ]
  },
  {
   "cell_type": "markdown",
   "metadata": {
    "deletable": false,
    "editable": false,
    "nbgrader": {
     "cell_type": "markdown",
     "checksum": "7b544d2da6c647c68288a2827c51ebc7",
     "grade": false,
     "grade_id": "cell-46092fdb323894bb",
     "locked": true,
     "schema_version": 3,
     "solution": false,
     "task": false
    }
   },
   "source": [
    "**Question 1.4** \n",
    "<br> {points: 1}\n",
    "\n",
    "To work on the cells below, load the `tidyverse` package. If you have difficulty with loading this package, revisit `worksheet_intro` and read over Section 5 (Packages)."
   ]
  },
  {
   "cell_type": "code",
   "execution_count": null,
   "metadata": {
    "deletable": false,
    "nbgrader": {
     "cell_type": "code",
     "checksum": "d224bb09c8d93b99932589706e2430af",
     "grade": false,
     "grade_id": "cell-3acec18e66b7d95e",
     "locked": false,
     "schema_version": 3,
     "solution": true
    }
   },
   "outputs": [],
   "source": [
    "# Replace the fail() with your line of code. \n",
    "\n",
    "# your code here\n",
    "fail() # No Answer - remove if you provide an answer"
   ]
  },
  {
   "cell_type": "code",
   "execution_count": null,
   "metadata": {
    "deletable": false,
    "editable": false,
    "nbgrader": {
     "cell_type": "code",
     "checksum": "30b4b66d5274e632707b4dc5c4b2ff26",
     "grade": true,
     "grade_id": "cell-d2363dbfecca5186",
     "locked": true,
     "points": 1,
     "schema_version": 3,
     "solution": false
    }
   },
   "outputs": [],
   "source": [
    "library(digest)\n",
    "stopifnot(\"type of ('tidyverse' %in% installed.packages()) is not logical\"= setequal(digest(paste(toString(class(('tidyverse' %in% installed.packages()))), \"4e719\")), \"26ab8e2e5a3abc6f3ea74839cb7b7125\"))\n",
    "stopifnot(\"logical value of ('tidyverse' %in% installed.packages()) is not correct\"= setequal(digest(paste(toString(('tidyverse' %in% installed.packages())), \"4e719\")), \"6b03c0e2c0d5d171fd2e19bf18754ca8\"))\n",
    "\n",
    "print('Success!')"
   ]
  },
  {
   "cell_type": "markdown",
   "metadata": {
    "deletable": false,
    "editable": false,
    "nbgrader": {
     "cell_type": "markdown",
     "checksum": "061584d5f6444f22180451dce3ec532f",
     "grade": false,
     "grade_id": "cell-5f6f0d868a5c9053",
     "locked": true,
     "schema_version": 3,
     "solution": false,
     "task": false
    }
   },
   "source": [
    "**Question 1.5** \n",
    "<br> {points: 1}\n",
    "\n",
    "With the proper package loaded, you can now read in the data.\n",
    "To help you along the way, we have provded some scaffolding for you to build on.\n",
    "Uncomment (remove the `#`) the scaffolded code and replace each occurence of `...` with the relevant code to solve this exercise.\n",
    "\n",
    "Replace `fail()` with the correct function. Assign your data to an object called `marathon_small`."
   ]
  },
  {
   "cell_type": "code",
   "execution_count": null,
   "metadata": {
    "deletable": false,
    "nbgrader": {
     "cell_type": "code",
     "checksum": "629e2f73d9f6612b39c31085d9871a8f",
     "grade": false,
     "grade_id": "cell-67b296f10ee85743",
     "locked": false,
     "schema_version": 3,
     "solution": true
    }
   },
   "outputs": [],
   "source": [
    "# ... <- ...(\"marathon_small.csv\")\n",
    "\n",
    "# your code here\n",
    "fail() # No Answer - remove if you provide an answer\n",
    "marathon_small"
   ]
  },
  {
   "cell_type": "code",
   "execution_count": null,
   "metadata": {
    "deletable": false,
    "editable": false,
    "nbgrader": {
     "cell_type": "code",
     "checksum": "21b65b142552789085c3989fdd29cd68",
     "grade": true,
     "grade_id": "cell-e905afcc39967bfd",
     "locked": true,
     "points": 1,
     "schema_version": 3,
     "solution": false
    }
   },
   "outputs": [],
   "source": [
    "library(digest)\n",
    "stopifnot(\"marathon_small should be a data frame\"= setequal(digest(paste(toString('data.frame' %in% class(marathon_small)), \"b9837\")), \"0a8270783af338a1a86eb3c8065639b5\"))\n",
    "stopifnot(\"dimensions of marathon_small are not correct\"= setequal(digest(paste(toString(dim(marathon_small)), \"b9837\")), \"73178124646ecd77c30dff5a5cd73441\"))\n",
    "stopifnot(\"column names of marathon_small are not correct\"= setequal(digest(paste(toString(sort(colnames(marathon_small))), \"b9837\")), \"ae0b7e39a034ea09aa3b6ab6324bd98a\"))\n",
    "stopifnot(\"types of columns in marathon_small are not correct\"= setequal(digest(paste(toString(sort(unlist(sapply(marathon_small, class)))), \"b9837\")), \"664f953c219d4f0af1eb5a8aa3669d95\"))\n",
    "stopifnot(\"values in one or more numerical columns in marathon_small are not correct\"= setequal(digest(paste(toString(if (any(sapply(marathon_small, is.numeric))) sort(round(sapply(marathon_small[, sapply(marathon_small, is.numeric)], sum, na.rm = TRUE), 2)) else 0), \"b9837\")), \"6337a88d06958e5ea6eb62f00375daa4\"))\n",
    "stopifnot(\"values in one or more character columns in marathon_small are not correct\"= setequal(digest(paste(toString(if (any(sapply(marathon_small, is.character))) sum(sapply(marathon_small[sapply(marathon_small, is.character)], function(x) length(unique(x)))) else 0), \"b9837\")), \"26ebc5de96857094a3c699c56abb8f5c\"))\n",
    "stopifnot(\"values in one or more factor columns in marathon_small are not correct\"= setequal(digest(paste(toString(if (any(sapply(marathon_small, is.factor))) sum(sapply(marathon_small[, sapply(marathon_small, is.factor)], function(col) length(unique(col)))) else 0), \"b9837\")), \"9757a7db4d53c4f411e78e2f56bd70fe\"))\n",
    "\n",
    "print('Success!')"
   ]
  },
  {
   "cell_type": "markdown",
   "metadata": {
    "deletable": false,
    "editable": false,
    "nbgrader": {
     "cell_type": "markdown",
     "checksum": "f9028c946aee54c3a7acf2403c85f6f0",
     "grade": false,
     "grade_id": "cell-15bf4a69411a57d3",
     "locked": true,
     "schema_version": 3,
     "solution": false,
     "task": false
    }
   },
   "source": [
    "**Question 1.6** \n",
    "<br> {points: 1}\n",
    "\n",
    "`filter` and `select` the data (`marathon_small`) such that information is only included from participants under the age of 35 and only contains the columns needed for the plot.\n",
    "\n",
    "In this exercise we have again provided you with some starter code to help you along the way.\n",
    "When there are multiple lines of code,\n",
    "you can highlight them with your pointer\n",
    "and then press <kbd>Ctrl</kbd> + <kbd>/</kbd> (on Windows and Linux) or <kbd>Cmd</kbd> + <kbd>/</kbd> (on Mac)\n",
    "to uncomment all the lines at the same time.\n",
    "You can both comment and uncomment lines with this shortcut;\n",
    "this is more convenient than adding/deleting the `#` manually!\n",
    "\n",
    "*Hint: `bmi` is already given to you. What else do we want to plot?*\n",
    "\n",
    "*Name the result of filtering `marathon_age`, and name the result of selecting `marathon_select`*."
   ]
  },
  {
   "cell_type": "code",
   "execution_count": null,
   "metadata": {
    "deletable": false,
    "nbgrader": {
     "cell_type": "code",
     "checksum": "d0bc1ca439a95ad331fda28b4f7ab84a",
     "grade": false,
     "grade_id": "cell-806aa79f3e6fa7fe",
     "locked": false,
     "schema_version": 3,
     "solution": true
    }
   },
   "outputs": [],
   "source": [
    "# ... <- filter(marathon_small, ... < 35)\n",
    "# ... <- ...(marathon_age, bmi, ...)\n",
    "\n",
    "# your code here\n",
    "fail() # No Answer - remove if you provide an answer\n",
    "marathon_age\n",
    "marathon_select"
   ]
  },
  {
   "cell_type": "code",
   "execution_count": null,
   "metadata": {
    "deletable": false,
    "editable": false,
    "nbgrader": {
     "cell_type": "code",
     "checksum": "45b120ee3acdb7cd48a2aab4d3367129",
     "grade": true,
     "grade_id": "cell-1a313685beceed6a",
     "locked": true,
     "points": 1,
     "schema_version": 3,
     "solution": false
    }
   },
   "outputs": [],
   "source": [
    "library(digest)\n",
    "stopifnot(\"marathon_age should be a data frame\"= setequal(digest(paste(toString('data.frame' %in% class(marathon_age)), \"f07bd\")), \"b745253159388334e51cb110c3241023\"))\n",
    "stopifnot(\"dimensions of marathon_age are not correct\"= setequal(digest(paste(toString(dim(marathon_age)), \"f07bd\")), \"fb828e43f19f23e9f835c4dafe80ea12\"))\n",
    "stopifnot(\"column names of marathon_age are not correct\"= setequal(digest(paste(toString(sort(colnames(marathon_age))), \"f07bd\")), \"8fe10a42c95055422f0bc44797cdc040\"))\n",
    "stopifnot(\"types of columns in marathon_age are not correct\"= setequal(digest(paste(toString(sort(unlist(sapply(marathon_age, class)))), \"f07bd\")), \"af2a8958eab923920342957c58fba80d\"))\n",
    "stopifnot(\"values in one or more numerical columns in marathon_age are not correct\"= setequal(digest(paste(toString(if (any(sapply(marathon_age, is.numeric))) sort(round(sapply(marathon_age[, sapply(marathon_age, is.numeric)], sum, na.rm = TRUE), 2)) else 0), \"f07bd\")), \"a1e0588b2458c02e1a5ffd7b2111580a\"))\n",
    "stopifnot(\"values in one or more character columns in marathon_age are not correct\"= setequal(digest(paste(toString(if (any(sapply(marathon_age, is.character))) sum(sapply(marathon_age[sapply(marathon_age, is.character)], function(x) length(unique(x)))) else 0), \"f07bd\")), \"b68e78c0b7d5d08e86bd106a53bbeb9c\"))\n",
    "stopifnot(\"values in one or more factor columns in marathon_age are not correct\"= setequal(digest(paste(toString(if (any(sapply(marathon_age, is.factor))) sum(sapply(marathon_age[, sapply(marathon_age, is.factor)], function(col) length(unique(col)))) else 0), \"f07bd\")), \"a1264e6117e134f5b209d9dfe0f27cc1\"))\n",
    "\n",
    "stopifnot(\"marathon_select should be a data frame\"= setequal(digest(paste(toString('data.frame' %in% class(marathon_select)), \"f07be\")), \"8f7b1af27551d54e889cd82e6468c907\"))\n",
    "stopifnot(\"dimensions of marathon_select are not correct\"= setequal(digest(paste(toString(dim(marathon_select)), \"f07be\")), \"747ef20299746c83470473ec4c8eb6c2\"))\n",
    "stopifnot(\"column names of marathon_select are not correct\"= setequal(digest(paste(toString(sort(colnames(marathon_select))), \"f07be\")), \"ee7b08919f2747c495ea4aad167cbbef\"))\n",
    "stopifnot(\"types of columns in marathon_select are not correct\"= setequal(digest(paste(toString(sort(unlist(sapply(marathon_select, class)))), \"f07be\")), \"1d2356f1bb0c001ad36e096d8ccb3880\"))\n",
    "stopifnot(\"values in one or more numerical columns in marathon_select are not correct\"= setequal(digest(paste(toString(if (any(sapply(marathon_select, is.numeric))) sort(round(sapply(marathon_select[, sapply(marathon_select, is.numeric)], sum, na.rm = TRUE), 2)) else 0), \"f07be\")), \"affb0413805bfd22529244fdd686822c\"))\n",
    "stopifnot(\"values in one or more character columns in marathon_select are not correct\"= setequal(digest(paste(toString(if (any(sapply(marathon_select, is.character))) sum(sapply(marathon_select[sapply(marathon_select, is.character)], function(x) length(unique(x)))) else 0), \"f07be\")), \"d5e2f3cec205fbeee358c4daa2eb2568\"))\n",
    "stopifnot(\"values in one or more factor columns in marathon_select are not correct\"= setequal(digest(paste(toString(if (any(sapply(marathon_select, is.factor))) sum(sapply(marathon_select[, sapply(marathon_select, is.factor)], function(col) length(unique(col)))) else 0), \"f07be\")), \"d5e2f3cec205fbeee358c4daa2eb2568\"))\n",
    "\n",
    "print('Success!')"
   ]
  },
  {
   "cell_type": "markdown",
   "metadata": {
    "deletable": false,
    "editable": false,
    "nbgrader": {
     "cell_type": "markdown",
     "checksum": "3514e3fe6f7ccd156619629360bb14dc",
     "grade": false,
     "grade_id": "cell-2f50469b147fe4dc",
     "locked": true,
     "schema_version": 3,
     "solution": false,
     "task": false
    }
   },
   "source": [
    "**Question 1.7** \n",
    "<br> {points: 1}\n",
    "\n",
    "Mutate the data frame (`marathon_select`) to create a new column called: `km5_time_minutes`. \n",
    "\n",
    "*Note: we will be selecting once again the specific columns we want to include in our data frame.*\n",
    "\n",
    "*Name the result after creating the new column `marathon_mutate`, and name the result after selecting the columns used for plotting `marathon_exact`.*"
   ]
  },
  {
   "cell_type": "code",
   "execution_count": null,
   "metadata": {
    "deletable": false,
    "nbgrader": {
     "cell_type": "code",
     "checksum": "00e6a34299af69f707d93d97181bb5e1",
     "grade": false,
     "grade_id": "cell-b08900047b925166",
     "locked": false,
     "schema_version": 3,
     "solution": true
    }
   },
   "outputs": [],
   "source": [
    "# ... <- mutate(marathon_select, km5_time_minutes = ... / ...) \n",
    "# ... <- select(..., ..., km5_time_minutes)\n",
    "\n",
    "\n",
    "# your code here\n",
    "fail() # No Answer - remove if you provide an answer\n",
    "marathon_mutate\n",
    "marathon_exact"
   ]
  },
  {
   "cell_type": "code",
   "execution_count": null,
   "metadata": {
    "deletable": false,
    "editable": false,
    "nbgrader": {
     "cell_type": "code",
     "checksum": "236e800ad686ec3f5e5799246f4e6f6f",
     "grade": true,
     "grade_id": "cell-fb3b4f7db2ccce40",
     "locked": true,
     "points": 1,
     "schema_version": 3,
     "solution": false
    }
   },
   "outputs": [],
   "source": [
    "library(digest)\n",
    "stopifnot(\"marathon_mutate should be a data frame\"= setequal(digest(paste(toString('data.frame' %in% class(marathon_mutate)), \"17fc9\")), \"69172aaf15c3cf0e5ef339762d26ad51\"))\n",
    "stopifnot(\"dimensions of marathon_mutate are not correct\"= setequal(digest(paste(toString(dim(marathon_mutate)), \"17fc9\")), \"278130290441930f60133ae04b27e37e\"))\n",
    "stopifnot(\"column names of marathon_mutate are not correct\"= setequal(digest(paste(toString(sort(colnames(marathon_mutate))), \"17fc9\")), \"a11934fcea72b75345b6219cd8e804ff\"))\n",
    "stopifnot(\"types of columns in marathon_mutate are not correct\"= setequal(digest(paste(toString(sort(unlist(sapply(marathon_mutate, class)))), \"17fc9\")), \"4de9bfc7a9180be07af37d37e318e18b\"))\n",
    "stopifnot(\"values in one or more numerical columns in marathon_mutate are not correct\"= setequal(digest(paste(toString(if (any(sapply(marathon_mutate, is.numeric))) sort(round(sapply(marathon_mutate[, sapply(marathon_mutate, is.numeric)], sum, na.rm = TRUE), 2)) else 0), \"17fc9\")), \"0ab6cb9daa4816cd2249b0bc9c954207\"))\n",
    "stopifnot(\"values in one or more character columns in marathon_mutate are not correct\"= setequal(digest(paste(toString(if (any(sapply(marathon_mutate, is.character))) sum(sapply(marathon_mutate[sapply(marathon_mutate, is.character)], function(x) length(unique(x)))) else 0), \"17fc9\")), \"c1dddc690a94e139528b5636ae95df5e\"))\n",
    "stopifnot(\"values in one or more factor columns in marathon_mutate are not correct\"= setequal(digest(paste(toString(if (any(sapply(marathon_mutate, is.factor))) sum(sapply(marathon_mutate[, sapply(marathon_mutate, is.factor)], function(col) length(unique(col)))) else 0), \"17fc9\")), \"c1dddc690a94e139528b5636ae95df5e\"))\n",
    "\n",
    "stopifnot(\"marathon_exact should be a data frame\"= setequal(digest(paste(toString('data.frame' %in% class(marathon_exact)), \"17fca\")), \"d0eaf86454ab3ad2613f2d72dcc01909\"))\n",
    "stopifnot(\"dimensions of marathon_exact are not correct\"= setequal(digest(paste(toString(dim(marathon_exact)), \"17fca\")), \"ae8b453837ff3b50a30ce2f6de4a485c\"))\n",
    "stopifnot(\"column names of marathon_exact are not correct\"= setequal(digest(paste(toString(sort(colnames(marathon_exact))), \"17fca\")), \"f776ae31cc77d43dbe02e68eb9b59c2d\"))\n",
    "stopifnot(\"types of columns in marathon_exact are not correct\"= setequal(digest(paste(toString(sort(unlist(sapply(marathon_exact, class)))), \"17fca\")), \"0de249e925c2035da79a8e81ddf50cd2\"))\n",
    "stopifnot(\"values in one or more numerical columns in marathon_exact are not correct\"= setequal(digest(paste(toString(if (any(sapply(marathon_exact, is.numeric))) sort(round(sapply(marathon_exact[, sapply(marathon_exact, is.numeric)], sum, na.rm = TRUE), 2)) else 0), \"17fca\")), \"da6666ff2f2b396ebeb15ae9e1a78f95\"))\n",
    "stopifnot(\"values in one or more character columns in marathon_exact are not correct\"= setequal(digest(paste(toString(if (any(sapply(marathon_exact, is.character))) sum(sapply(marathon_exact[sapply(marathon_exact, is.character)], function(x) length(unique(x)))) else 0), \"17fca\")), \"4bef15c23b855d98e11a8f6e38c8da3a\"))\n",
    "stopifnot(\"values in one or more factor columns in marathon_exact are not correct\"= setequal(digest(paste(toString(if (any(sapply(marathon_exact, is.factor))) sum(sapply(marathon_exact[, sapply(marathon_exact, is.factor)], function(col) length(unique(col)))) else 0), \"17fca\")), \"4bef15c23b855d98e11a8f6e38c8da3a\"))\n",
    "\n",
    "print('Success!')"
   ]
  },
  {
   "cell_type": "markdown",
   "metadata": {
    "deletable": false,
    "editable": false,
    "nbgrader": {
     "cell_type": "markdown",
     "checksum": "25496d80bdc2ac03407d6a6dff1b495d",
     "grade": false,
     "grade_id": "cell-9980e4781dfca899",
     "locked": true,
     "schema_version": 3,
     "solution": false,
     "task": false
    }
   },
   "source": [
    "**Question 1.8** \n",
    "<br> {points: 1}\n",
    "\n",
    "Lastly, generate a scatter plot. Assign your plot to an object called `marathon_plot`. \n",
    "\n",
    "Ensure that your axis labels are human-readable (do not leave them as default column names)."
   ]
  },
  {
   "cell_type": "code",
   "execution_count": null,
   "metadata": {
    "deletable": false,
    "editable": false,
    "nbgrader": {
     "cell_type": "code",
     "checksum": "6875ca9442eb5dd3eff4e425d0ac2f19",
     "grade": false,
     "grade_id": "cell-726db133ec981b52",
     "locked": true,
     "schema_version": 3,
     "solution": false,
     "task": false
    }
   },
   "outputs": [],
   "source": [
    "# run this cell \n",
    "# code to set-up plot size\n",
    "library(repr)\n",
    "options(repr.plot.width = 8, repr.plot.height = 8)"
   ]
  },
  {
   "cell_type": "code",
   "execution_count": null,
   "metadata": {
    "deletable": false,
    "nbgrader": {
     "cell_type": "code",
     "checksum": "f9b599896a7f0d2a2d289ce7044ca4bb",
     "grade": false,
     "grade_id": "cell-98f2cd52592effe7",
     "locked": false,
     "schema_version": 3,
     "solution": true
    }
   },
   "outputs": [],
   "source": [
    "#... <- ...(marathon_exact, aes(x = ..., y = ...)) + \n",
    "#   ..._point() + \n",
    "#   xlab(...) + \n",
    "#   ...(...)\n",
    "\n",
    "# your code here\n",
    "fail() # No Answer - remove if you provide an answer"
   ]
  },
  {
   "cell_type": "code",
   "execution_count": null,
   "metadata": {
    "deletable": false,
    "editable": false,
    "nbgrader": {
     "cell_type": "code",
     "checksum": "8860ced7da28c7855ac192d20abc2f02",
     "grade": false,
     "grade_id": "cell-12ea5d8d73fb8908",
     "locked": true,
     "schema_version": 3,
     "solution": false,
     "task": false
    }
   },
   "outputs": [],
   "source": [
    "# Run this cell to see what your scatterplot looks like!\n",
    "marathon_plot"
   ]
  },
  {
   "cell_type": "code",
   "execution_count": null,
   "metadata": {
    "deletable": false,
    "editable": false,
    "nbgrader": {
     "cell_type": "code",
     "checksum": "de60a3c85753c776e8d65b939c2e6b6f",
     "grade": true,
     "grade_id": "cell-d9530f4ffebdcdc4",
     "locked": true,
     "points": 1,
     "schema_version": 3,
     "solution": false
    }
   },
   "outputs": [],
   "source": [
    "library(digest)\n",
    "stopifnot(\"type of plot is not correct (if you are using two types of geoms, try flipping the order of the geom objects!)\"= setequal(digest(paste(toString(sapply(seq_len(length(marathon_plot$layers)), function(i) {c(class(marathon_plot$layers[[i]]$geom))[1]})), \"70b88\")), \"0df4a26e70eecb169e76eafdf7d8b4d6\"))\n",
    "stopifnot(\"variable x is not correct\"= setequal(digest(paste(toString(unlist(lapply(sapply(seq_len(length(marathon_plot$layers)), function(i) {rlang::get_expr(c(marathon_plot$layers[[i]]$mapping, marathon_plot$mapping)$x)}), as.character))), \"70b88\")), \"13f20fcd425c2cffd76e26f781baa4c4\"))\n",
    "stopifnot(\"variable y is not correct\"= setequal(digest(paste(toString(unlist(lapply(sapply(seq_len(length(marathon_plot$layers)), function(i) {rlang::get_expr(c(marathon_plot$layers[[i]]$mapping, marathon_plot$mapping)$y)}), as.character))), \"70b88\")), \"03b227c165cbe5ecd1f00abaa368fef3\"))\n",
    "stopifnot(\"x-axis label is not descriptive, nicely formatted, or human readable\"= setequal(digest(paste(toString(rlang::get_expr(c(marathon_plot$layers[[1]]$mapping, marathon_plot$mapping)$x)!= marathon_plot$labels$x), \"70b88\")), \"d1162d8548273d17cfb68cdf10ccdc5b\"))\n",
    "stopifnot(\"y-axis label is not descriptive, nicely formatted, or human readable\"= setequal(digest(paste(toString(rlang::get_expr(c(marathon_plot$layers[[1]]$mapping, marathon_plot$mapping)$y)!= marathon_plot$labels$y), \"70b88\")), \"d1162d8548273d17cfb68cdf10ccdc5b\"))\n",
    "stopifnot(\"incorrect colour variable in marathon_plot, specify a correct one if required\"= setequal(digest(paste(toString(rlang::get_expr(c(marathon_plot$layers[[1]]$mapping, marathon_plot$mapping)$colour)), \"70b88\")), \"67146b846419764f60f89fcb1a55f4a8\"))\n",
    "stopifnot(\"incorrect shape variable in marathon_plot, specify a correct one if required\"= setequal(digest(paste(toString(rlang::get_expr(c(marathon_plot$layers[[1]]$mapping, marathon_plot$mapping)$shape)), \"70b88\")), \"67146b846419764f60f89fcb1a55f4a8\"))\n",
    "stopifnot(\"the colour label in marathon_plot is not descriptive, nicely formatted, or human readable\"= setequal(digest(paste(toString(rlang::get_expr(c(marathon_plot$layers[[1]]$mapping, marathon_plot$mapping)$colour) != marathon_plot$labels$colour), \"70b88\")), \"67146b846419764f60f89fcb1a55f4a8\"))\n",
    "stopifnot(\"the shape label in marathon_plot is not descriptive, nicely formatted, or human readable\"= setequal(digest(paste(toString(rlang::get_expr(c(marathon_plot$layers[[1]]$mapping, marathon_plot$mapping)$colour) != marathon_plot$labels$shape), \"70b88\")), \"67146b846419764f60f89fcb1a55f4a8\"))\n",
    "stopifnot(\"fill variable in marathon_plot is not correct\"= setequal(digest(paste(toString(quo_name(marathon_plot$mapping$fill)), \"70b88\")), \"3e0893ac1be3589f1b396084665deee2\"))\n",
    "stopifnot(\"fill label in marathon_plot is not informative\"= setequal(digest(paste(toString((quo_name(marathon_plot$mapping$fill) != marathon_plot$labels$fill)), \"70b88\")), \"67146b846419764f60f89fcb1a55f4a8\"))\n",
    "stopifnot(\"position argument in marathon_plot is not correct\"= setequal(digest(paste(toString(class(marathon_plot$layers[[1]]$position)[1]), \"70b88\")), \"b62a1ae9166cfc3e3dce6fc191796d70\"))\n",
    "\n",
    "stopifnot(\"marathon_plot$data should be a data frame\"= setequal(digest(paste(toString('data.frame' %in% class(marathon_plot$data)), \"70b89\")), \"13c3de2cd9ccb322a1bcdc1275c4f82d\"))\n",
    "stopifnot(\"dimensions of marathon_plot$data are not correct\"= setequal(digest(paste(toString(dim(marathon_plot$data)), \"70b89\")), \"c2f860ac2c0660a1074b1613b882d52b\"))\n",
    "stopifnot(\"column names of marathon_plot$data are not correct\"= setequal(digest(paste(toString(sort(colnames(marathon_plot$data))), \"70b89\")), \"fc594f4dff85f486971d8d09082e00b2\"))\n",
    "stopifnot(\"types of columns in marathon_plot$data are not correct\"= setequal(digest(paste(toString(sort(unlist(sapply(marathon_plot$data, class)))), \"70b89\")), \"cea05224e554b4e433a802a058094e64\"))\n",
    "stopifnot(\"values in one or more numerical columns in marathon_plot$data are not correct\"= setequal(digest(paste(toString(if (any(sapply(marathon_plot$data, is.numeric))) sort(round(sapply(marathon_plot$data[, sapply(marathon_plot$data, is.numeric)], sum, na.rm = TRUE), 2)) else 0), \"70b89\")), \"e3d9904af03c622e9839de139764a2b9\"))\n",
    "stopifnot(\"values in one or more character columns in marathon_plot$data are not correct\"= setequal(digest(paste(toString(if (any(sapply(marathon_plot$data, is.character))) sum(sapply(marathon_plot$data[sapply(marathon_plot$data, is.character)], function(x) length(unique(x)))) else 0), \"70b89\")), \"134d6d09edf539400684d43bcb48c6b0\"))\n",
    "stopifnot(\"values in one or more factor columns in marathon_plot$data are not correct\"= setequal(digest(paste(toString(if (any(sapply(marathon_plot$data, is.factor))) sum(sapply(marathon_plot$data[, sapply(marathon_plot$data, is.factor)], function(col) length(unique(col)))) else 0), \"70b89\")), \"134d6d09edf539400684d43bcb48c6b0\"))\n",
    "\n",
    "print('Success!')"
   ]
  },
  {
   "cell_type": "markdown",
   "metadata": {
    "deletable": false,
    "editable": false,
    "nbgrader": {
     "cell_type": "markdown",
     "checksum": "4c5d8e7c6333dcc48dbfd442270caaa7",
     "grade": false,
     "grade_id": "cell-038b816fda3debe7",
     "locked": true,
     "schema_version": 3,
     "solution": false,
     "task": false
    }
   },
   "source": [
    "*Note: the warning message above tells us the number of rows that had missing data in the data set, and that these rows were not plotted. When you see something like this, you should stop and think, do I expect missing rows in my data? Sometimes the answer is yes, sometimes it is no. It depends on the data set, and you as the Data Scientist must know the answer to this. How would you determine the answer? By talking to those who collected the data and/or researching where the data came from, for example.*"
   ]
  },
  {
   "cell_type": "markdown",
   "metadata": {
    "deletable": false,
    "editable": false,
    "nbgrader": {
     "cell_type": "markdown",
     "checksum": "aed6c835ffcf76c4e060adfe0d99ab50",
     "grade": false,
     "grade_id": "cell-dccdf4d2112fe1a2",
     "locked": true,
     "schema_version": 3,
     "solution": false
    }
   },
   "source": [
    "**Question 1.9** \n",
    "<br> {points: 3}\n",
    "\n",
    "Which option below **best** describes the plot above? \n",
    "\n",
    "A. For runners under the age of 35, there is no relationship at all between BMI and the time it takes to complete a 5 km race . \n",
    "\n",
    "B. For runners under 35, we see that as BMI increases the time it takes to complete a 5 km race increases. This suggests that there is a positive relationship between these two variables for runners under 35 in this data set. \n",
    "\n",
    "C. For runners under 35, we see that as BMI increases the time it takes to complete a 5 km decreases. This suggests that there is a negative relationship between these two variables for runners under 35 in this data set.\n",
    "\n",
    "*Assign your answer to an object called `answer1.9`. Make sure your answer is an uppercase letter and is surrounded by quotation marks (e.g. `\"F\"`).*"
   ]
  },
  {
   "cell_type": "code",
   "execution_count": null,
   "metadata": {
    "deletable": false,
    "nbgrader": {
     "cell_type": "code",
     "checksum": "327dea1f1a04c8ca8fb3bec3a2c28e45",
     "grade": false,
     "grade_id": "cell-60a176d22d144d14",
     "locked": false,
     "schema_version": 3,
     "solution": true,
     "task": false
    }
   },
   "outputs": [],
   "source": [
    "# Replace the fail() with your answer. \n",
    "\n",
    "# your code here\n",
    "fail() # No Answer - remove if you provide an answer"
   ]
  },
  {
   "cell_type": "code",
   "execution_count": null,
   "metadata": {
    "deletable": false,
    "editable": false,
    "nbgrader": {
     "cell_type": "code",
     "checksum": "1cf6d23b13985740ddf98822f82de819",
     "grade": true,
     "grade_id": "cell-ea3ffe9c476dc109",
     "locked": true,
     "points": 3,
     "schema_version": 3,
     "solution": false,
     "task": false
    }
   },
   "outputs": [],
   "source": [
    "# Most of the tests for this question are hidden. You have to decide whether you've created the right object. \n",
    "# Heres one test to at least ensure you named the object correctly:\n",
    "library(digest)\n",
    "stopifnot(\"type of exists('answer1.9') is not logical\"= setequal(digest(paste(toString(class(exists('answer1.9'))), \"f15f8\")), \"03be50897b0ba57790b12bf879b522bc\"))\n",
    "stopifnot(\"logical value of exists('answer1.9') is not correct\"= setequal(digest(paste(toString(exists('answer1.9')), \"f15f8\")), \"ec951c11199df0e75eb21392c322a494\"))\n",
    "\n",
    "print('Success!')"
   ]
  },
  {
   "cell_type": "markdown",
   "metadata": {
    "deletable": false,
    "editable": false,
    "nbgrader": {
     "cell_type": "markdown",
     "checksum": "9a425223beb805ebc4f376822acbc262",
     "grade": false,
     "grade_id": "cell-b324b8cf4a4cfdb7",
     "locked": true,
     "schema_version": 3,
     "solution": false
    }
   },
   "source": [
    "**Question 1.10**\n",
    "<br> {points: 1}\n",
    "\n",
    "Now explore the relationship between the **age** of all runners and the time taken to complete the 5 km run (in minutes again). Using the original `marathon_small` data frame, mutate the `km5_time_seconds` column such that it is in minutes and name the new column `km5_time_minutes`. Save the resulting data frame to an object called `marathon_small_mins`.\n",
    "\n",
    "Next, create a scatter plot (similar to the one in Question 1.9) but this time have `age` on the x-axis. Assign your plot to an object called `racetime_vs_age`.\n",
    "\n",
    "There is a lot missing from the cell below (no hints were given). Try working on it on your own before looking at earlier questions in this tutorial or worksheet_01. \n",
    "\n",
    "*Don't forget to label your axes! Where appropriate, axes labels should also include units (for example, the axis that maps to the column `age` should have the unit \"years\").*"
   ]
  },
  {
   "cell_type": "code",
   "execution_count": null,
   "metadata": {
    "deletable": false,
    "nbgrader": {
     "cell_type": "code",
     "checksum": "803faa0ae7f5ba5bfbd3942e0f8fcf58",
     "grade": false,
     "grade_id": "cell-c22a955cd4404c5b",
     "locked": false,
     "schema_version": 3,
     "solution": true,
     "task": false
    }
   },
   "outputs": [],
   "source": [
    "# your code here\n",
    "fail() # No Answer - remove if you provide an answer\n",
    "racetime_vs_age"
   ]
  },
  {
   "cell_type": "code",
   "execution_count": null,
   "metadata": {
    "deletable": false,
    "editable": false,
    "nbgrader": {
     "cell_type": "code",
     "checksum": "bf36703221710eb03a7cb852130ad409",
     "grade": true,
     "grade_id": "cell-4d1c3570e13e2bf5",
     "locked": true,
     "points": 1,
     "schema_version": 3,
     "solution": false,
     "task": false
    }
   },
   "outputs": [],
   "source": [
    "library(digest)\n",
    "stopifnot(\"type of plot is not correct (if you are using two types of geoms, try flipping the order of the geom objects!)\"= setequal(digest(paste(toString(sapply(seq_len(length(racetime_vs_age$layers)), function(i) {c(class(racetime_vs_age$layers[[i]]$geom))[1]})), \"e827f\")), \"01c148b348704c602d94b42892cca95e\"))\n",
    "stopifnot(\"variable x is not correct\"= setequal(digest(paste(toString(unlist(lapply(sapply(seq_len(length(racetime_vs_age$layers)), function(i) {rlang::get_expr(c(racetime_vs_age$layers[[i]]$mapping, racetime_vs_age$mapping)$x)}), as.character))), \"e827f\")), \"8d73fe948db9edbec92d189e2ce27e0a\"))\n",
    "stopifnot(\"variable y is not correct\"= setequal(digest(paste(toString(unlist(lapply(sapply(seq_len(length(racetime_vs_age$layers)), function(i) {rlang::get_expr(c(racetime_vs_age$layers[[i]]$mapping, racetime_vs_age$mapping)$y)}), as.character))), \"e827f\")), \"82bb6cc50d3ed7951abfc89e925e3723\"))\n",
    "stopifnot(\"x-axis label is not descriptive, nicely formatted, or human readable\"= setequal(digest(paste(toString(rlang::get_expr(c(racetime_vs_age$layers[[1]]$mapping, racetime_vs_age$mapping)$x)!= racetime_vs_age$labels$x), \"e827f\")), \"c88d7f3da9acae343f5072fbbb349223\"))\n",
    "stopifnot(\"y-axis label is not descriptive, nicely formatted, or human readable\"= setequal(digest(paste(toString(rlang::get_expr(c(racetime_vs_age$layers[[1]]$mapping, racetime_vs_age$mapping)$y)!= racetime_vs_age$labels$y), \"e827f\")), \"c88d7f3da9acae343f5072fbbb349223\"))\n",
    "stopifnot(\"incorrect colour variable in racetime_vs_age, specify a correct one if required\"= setequal(digest(paste(toString(rlang::get_expr(c(racetime_vs_age$layers[[1]]$mapping, racetime_vs_age$mapping)$colour)), \"e827f\")), \"5309452075774750774904853ef86f78\"))\n",
    "stopifnot(\"incorrect shape variable in racetime_vs_age, specify a correct one if required\"= setequal(digest(paste(toString(rlang::get_expr(c(racetime_vs_age$layers[[1]]$mapping, racetime_vs_age$mapping)$shape)), \"e827f\")), \"5309452075774750774904853ef86f78\"))\n",
    "stopifnot(\"the colour label in racetime_vs_age is not descriptive, nicely formatted, or human readable\"= setequal(digest(paste(toString(rlang::get_expr(c(racetime_vs_age$layers[[1]]$mapping, racetime_vs_age$mapping)$colour) != racetime_vs_age$labels$colour), \"e827f\")), \"5309452075774750774904853ef86f78\"))\n",
    "stopifnot(\"the shape label in racetime_vs_age is not descriptive, nicely formatted, or human readable\"= setequal(digest(paste(toString(rlang::get_expr(c(racetime_vs_age$layers[[1]]$mapping, racetime_vs_age$mapping)$colour) != racetime_vs_age$labels$shape), \"e827f\")), \"5309452075774750774904853ef86f78\"))\n",
    "stopifnot(\"fill variable in racetime_vs_age is not correct\"= setequal(digest(paste(toString(quo_name(racetime_vs_age$mapping$fill)), \"e827f\")), \"595d9162b840a6f6634aa50cbe2b2174\"))\n",
    "stopifnot(\"fill label in racetime_vs_age is not informative\"= setequal(digest(paste(toString((quo_name(racetime_vs_age$mapping$fill) != racetime_vs_age$labels$fill)), \"e827f\")), \"5309452075774750774904853ef86f78\"))\n",
    "stopifnot(\"position argument in racetime_vs_age is not correct\"= setequal(digest(paste(toString(class(racetime_vs_age$layers[[1]]$position)[1]), \"e827f\")), \"73325ee61c13063e51a23d698cade8bb\"))\n",
    "\n",
    "stopifnot(\"racetime_vs_age$data should be a data frame\"= setequal(digest(paste(toString('data.frame' %in% class(racetime_vs_age$data)), \"e8280\")), \"65c7db2e11a5d1463b812f7aaad82c55\"))\n",
    "stopifnot(\"dimensions of racetime_vs_age$data are not correct\"= setequal(digest(paste(toString(dim(racetime_vs_age$data)), \"e8280\")), \"27efe318d7a4d0534f13d45a816065b5\"))\n",
    "stopifnot(\"column names of racetime_vs_age$data are not correct\"= setequal(digest(paste(toString(sort(colnames(racetime_vs_age$data))), \"e8280\")), \"2e88843535912557bfc17bf4a46fb6f9\"))\n",
    "stopifnot(\"types of columns in racetime_vs_age$data are not correct\"= setequal(digest(paste(toString(sort(unlist(sapply(racetime_vs_age$data, class)))), \"e8280\")), \"f1f2e1fcbec6c9fd927b7bb93addb5af\"))\n",
    "stopifnot(\"values in one or more numerical columns in racetime_vs_age$data are not correct\"= setequal(digest(paste(toString(if (any(sapply(racetime_vs_age$data, is.numeric))) sort(round(sapply(racetime_vs_age$data[, sapply(racetime_vs_age$data, is.numeric)], sum, na.rm = TRUE), 2)) else 0), \"e8280\")), \"3e904388c097f84853074b73da20c964\"))\n",
    "stopifnot(\"values in one or more character columns in racetime_vs_age$data are not correct\"= setequal(digest(paste(toString(if (any(sapply(racetime_vs_age$data, is.character))) sum(sapply(racetime_vs_age$data[sapply(racetime_vs_age$data, is.character)], function(x) length(unique(x)))) else 0), \"e8280\")), \"73e0f40b5adef82f43260f1ebccfd84c\"))\n",
    "stopifnot(\"values in one or more factor columns in racetime_vs_age$data are not correct\"= setequal(digest(paste(toString(if (any(sapply(racetime_vs_age$data, is.factor))) sum(sapply(racetime_vs_age$data[, sapply(racetime_vs_age$data, is.factor)], function(col) length(unique(col)))) else 0), \"e8280\")), \"e7f5ff1583481d5f4e31394023f743a6\"))\n",
    "\n",
    "print('Success!')"
   ]
  },
  {
   "cell_type": "markdown",
   "metadata": {
    "deletable": false,
    "editable": false,
    "nbgrader": {
     "cell_type": "markdown",
     "checksum": "43b372862eae450b956b622d80dfdd4f",
     "grade": false,
     "grade_id": "cell-9d31aa288903a9ea",
     "locked": true,
     "schema_version": 3,
     "solution": false
    }
   },
   "source": [
    "**Question 1.11**\n",
    "<br> {points: 3}\n",
    "\n",
    "In the plot above, we can see a positive relationship between age and time taken to complete a 5 km run. Is this relationship strong (points are close together) or weak (points are more widely scattered)? \n",
    "\n",
    "Assign your answer (either `\"weak\"` or `\"strong\"`) to an object called `answer1.11`. Make sure to write in all lower-case and surround your answer with quotes."
   ]
  },
  {
   "cell_type": "code",
   "execution_count": null,
   "metadata": {
    "deletable": false,
    "nbgrader": {
     "cell_type": "code",
     "checksum": "b83ee93c69666366c86394fb305efe61",
     "grade": false,
     "grade_id": "cell-233ead150bde1b4c",
     "locked": false,
     "schema_version": 3,
     "solution": true,
     "task": false
    }
   },
   "outputs": [],
   "source": [
    "# your code here\n",
    "fail() # No Answer - remove if you provide an answer"
   ]
  },
  {
   "cell_type": "code",
   "execution_count": null,
   "metadata": {
    "deletable": false,
    "editable": false,
    "nbgrader": {
     "cell_type": "code",
     "checksum": "c65bf57295a8920cd40a7229a01ae267",
     "grade": true,
     "grade_id": "cell-9e2ae295dbdda179",
     "locked": true,
     "points": 3,
     "schema_version": 3,
     "solution": false,
     "task": false
    }
   },
   "outputs": [],
   "source": [
    "# Most of the tests for this question are hidden. You have to decide whether you've created the right object. \n",
    "# Heres one test to at least ensure you named the object correctly:\n",
    "library(digest)\n",
    "stopifnot(\"type of exists('answer1.11') is not logical\"= setequal(digest(paste(toString(class(exists('answer1.11'))), \"cce6\")), \"88974eafff3b60855bf88e7d4af0f5f8\"))\n",
    "stopifnot(\"logical value of exists('answer1.11') is not correct\"= setequal(digest(paste(toString(exists('answer1.11')), \"cce6\")), \"13ce791107a4a1dc8ddc7d73fd076e76\"))\n",
    "\n",
    "print('Success!')"
   ]
  },
  {
   "cell_type": "markdown",
   "metadata": {
    "deletable": false,
    "editable": false,
    "nbgrader": {
     "cell_type": "markdown",
     "checksum": "6074d95e14dc2d1c2b44edb5daae2c41",
     "grade": false,
     "grade_id": "cell-06f94c611090c6cd",
     "locked": true,
     "schema_version": 3,
     "solution": false,
     "task": false
    }
   },
   "source": [
    "## 2. Bike-Sharing\n",
    "\n",
    "Climate change, and solutions to mitigate it, is currently on the tongues and minds of many people. One healthy and environmentally friendly transportation alternative that has been recently gaining popularity is bike-sharing. Apart from their extensive real-world applications in improving health and creating more climate-friendly transit, the data generated by these bike-sharing systems makes them great for research. In contrast to bus and subway transit systems, bike-share transit systems precisely document where a trip starts, where it ends, and how long it lasts, for each individual using the system. This level of individual traceability may allow for better detection of mobility patterns in cities and possible detection of important events.\n",
    "\n",
    "Today, we will be analyzing [data obtained from Capital Bikeshare](http://archive.ics.uci.edu/ml/datasets/Bike+Sharing+Dataset#), a bike-sharing system from Washington, DC. The temperature data (in units of degrees Celsius) has been normalized from the original range so that all values fall between 0 and 1 (a common data processing technique helpful for some machine/statistical learning tools). Our goal is to determine if there is a relationship between temperature and the number of people renting bikes during the Spring (March 20th - June 21st). "
   ]
  },
  {
   "cell_type": "markdown",
   "metadata": {
    "deletable": false,
    "editable": false,
    "nbgrader": {
     "cell_type": "markdown",
     "checksum": "df5960110d07e6c78943229b2e1c78eb",
     "grade": false,
     "grade_id": "cell-de815a806cde9546",
     "locked": true,
     "schema_version": 3,
     "solution": false
    }
   },
   "source": [
    "**Question 2.1** Multiple Choice\n",
    "<br> {points: 1}\n",
    "\n",
    "In comparison to bike-sharing systems, why aren't other modes of transportation as useful when it comes to acquiring data?\n",
    "\n",
    "A. Not as fast. \n",
    "\n",
    "B. Documentation isn't as precise. \n",
    "\n",
    "C. Not as environmentally friendly. \n",
    "\n",
    "D. Bus drivers don't cooperate. \n",
    "\n",
    "*Assign your answer to an object called: `answer2.1`. Make sure your answer is an uppercase letter and is surrounded by quotation marks (e.g. `\"F\"`).*"
   ]
  },
  {
   "cell_type": "code",
   "execution_count": null,
   "metadata": {
    "deletable": false,
    "nbgrader": {
     "cell_type": "code",
     "checksum": "bb27e92ac8836432d48ee332429063fc",
     "grade": false,
     "grade_id": "cell-2cf1c56a2c4f28cb",
     "locked": false,
     "schema_version": 3,
     "solution": true
    }
   },
   "outputs": [],
   "source": [
    "# Replace the fail() with your answer.\n",
    "\n",
    "# your code here\n",
    "fail() # No Answer - remove if you provide an answer"
   ]
  },
  {
   "cell_type": "code",
   "execution_count": null,
   "metadata": {
    "deletable": false,
    "editable": false,
    "nbgrader": {
     "cell_type": "code",
     "checksum": "0d7722fa38e8c575f1489a1fc7d234d6",
     "grade": true,
     "grade_id": "cell-d06d98ba907d1977",
     "locked": true,
     "points": 1,
     "schema_version": 3,
     "solution": false
    }
   },
   "outputs": [],
   "source": [
    "library(digest)\n",
    "stopifnot(\"type of answer2.1 is not character\"= setequal(digest(paste(toString(class(answer2.1)), \"22849\")), \"d90ba3585361d70bbf3a76d04f14e74b\"))\n",
    "stopifnot(\"length of answer2.1 is not correct\"= setequal(digest(paste(toString(length(answer2.1)), \"22849\")), \"dc9527230cdfe4f61665ab101204f508\"))\n",
    "stopifnot(\"value of answer2.1 is not correct\"= setequal(digest(paste(toString(tolower(answer2.1)), \"22849\")), \"f9bbd34df3a8da618cc90facbd217ec4\"))\n",
    "stopifnot(\"letters in string value of answer2.1 are correct but case is not correct\"= setequal(digest(paste(toString(answer2.1), \"22849\")), \"4d009f9a550aa19ee589211514488dcd\"))\n",
    "\n",
    "print('Success!')"
   ]
  },
  {
   "cell_type": "markdown",
   "metadata": {
    "deletable": false,
    "editable": false,
    "nbgrader": {
     "cell_type": "markdown",
     "checksum": "ae470027f9b0d02b9489b78da78fb990",
     "grade": false,
     "grade_id": "cell-33dc10c33586506f",
     "locked": true,
     "schema_version": 3,
     "solution": false
    }
   },
   "source": [
    "**Question 2.2** Multiple Choice\n",
    "<br> {points: 1}\n",
    "\n",
    "What are the units for the normalized temperature?\n",
    "\n",
    "A. Kelvin\n",
    "\n",
    "B. Fahrenheit \n",
    "\n",
    "C. Celsius \n",
    "\n",
    "*Assign your answer to an object called: `answer2.2`. Make sure your answer is an uppercase letter and is surrounded by quotation marks (e.g. `\"F\"`).*"
   ]
  },
  {
   "cell_type": "code",
   "execution_count": null,
   "metadata": {
    "deletable": false,
    "nbgrader": {
     "cell_type": "code",
     "checksum": "b78d51dd81a534417833aac2ec8b2af4",
     "grade": false,
     "grade_id": "cell-82289416080754b6",
     "locked": false,
     "schema_version": 3,
     "solution": true
    }
   },
   "outputs": [],
   "source": [
    "# Replace the fail() with your answer.\n",
    "\n",
    "# your code here\n",
    "fail() # No Answer - remove if you provide an answer"
   ]
  },
  {
   "cell_type": "code",
   "execution_count": null,
   "metadata": {
    "deletable": false,
    "editable": false,
    "nbgrader": {
     "cell_type": "code",
     "checksum": "b04d0ec772e83b81c13b3e9537db8e2b",
     "grade": true,
     "grade_id": "cell-ed10ec095b72acec",
     "locked": true,
     "points": 1,
     "schema_version": 3,
     "solution": false
    }
   },
   "outputs": [],
   "source": [
    "library(digest)\n",
    "stopifnot(\"type of answer2.2 is not character\"= setequal(digest(paste(toString(class(answer2.2)), \"497c0\")), \"86ba90e1de36883da78c1175413a09dd\"))\n",
    "stopifnot(\"length of answer2.2 is not correct\"= setequal(digest(paste(toString(length(answer2.2)), \"497c0\")), \"eae92ccee2d63965fb9b72147b5d334e\"))\n",
    "stopifnot(\"value of answer2.2 is not correct\"= setequal(digest(paste(toString(tolower(answer2.2)), \"497c0\")), \"a1bb33ce334e68e0c23024a2e684606c\"))\n",
    "stopifnot(\"letters in string value of answer2.2 are correct but case is not correct\"= setequal(digest(paste(toString(answer2.2), \"497c0\")), \"c3be65cbe60c569d51e890854ba958b9\"))\n",
    "\n",
    "print('Success!')"
   ]
  },
  {
   "cell_type": "markdown",
   "metadata": {
    "deletable": false,
    "editable": false,
    "nbgrader": {
     "cell_type": "markdown",
     "checksum": "ab875c782c348616ae7476440552d22a",
     "grade": false,
     "grade_id": "cell-040c21f8f09b9a99",
     "locked": true,
     "schema_version": 3,
     "solution": false
    }
   },
   "source": [
    "**Question 2.3** \n",
    "<br> {points: 1}\n",
    "\n",
    "Since we already have `tidyverse` loaded and ready to use, the first step is to read our new data. Add in the missing function and symbol to complete the cell below. Make sure to assign your answer to `bike_data`. "
   ]
  },
  {
   "cell_type": "code",
   "execution_count": null,
   "metadata": {
    "deletable": false,
    "nbgrader": {
     "cell_type": "code",
     "checksum": "eb23ef55699cd001fda1d6a734c8d698",
     "grade": false,
     "grade_id": "cell-725376dd29896d14",
     "locked": false,
     "schema_version": 3,
     "solution": true
    }
   },
   "outputs": [],
   "source": [
    "#... <- ...(\"bike_share.csv\")\n",
    "\n",
    "# your code here\n",
    "fail() # No Answer - remove if you provide an answer\n",
    "bike_data"
   ]
  },
  {
   "cell_type": "code",
   "execution_count": null,
   "metadata": {
    "deletable": false,
    "editable": false,
    "nbgrader": {
     "cell_type": "code",
     "checksum": "83f67dc7b0cc7607d8383d77a3fa76cd",
     "grade": true,
     "grade_id": "cell-48666a8a98614042",
     "locked": true,
     "points": 1,
     "schema_version": 3,
     "solution": false
    }
   },
   "outputs": [],
   "source": [
    "library(digest)\n",
    "stopifnot(\"bike_data should be a data frame\"= setequal(digest(paste(toString('data.frame' %in% class(bike_data)), \"7efcf\")), \"07d13b3441cda5f08a438b25636dd798\"))\n",
    "stopifnot(\"dimensions of bike_data are not correct\"= setequal(digest(paste(toString(dim(bike_data)), \"7efcf\")), \"cae041362fd073ba08aa33b531ddde74\"))\n",
    "stopifnot(\"column names of bike_data are not correct\"= setequal(digest(paste(toString(sort(colnames(bike_data))), \"7efcf\")), \"15a5069cf2113feb35c79338f513df2d\"))\n",
    "stopifnot(\"types of columns in bike_data are not correct\"= setequal(digest(paste(toString(sort(unlist(sapply(bike_data, class)))), \"7efcf\")), \"08034ae2d53bba37ba80fe70bbed06e3\"))\n",
    "stopifnot(\"values in one or more numerical columns in bike_data are not correct\"= setequal(digest(paste(toString(if (any(sapply(bike_data, is.numeric))) sort(round(sapply(bike_data[, sapply(bike_data, is.numeric)], sum, na.rm = TRUE), 2)) else 0), \"7efcf\")), \"d6874df3bbf1d1b7bb0bd78b79d7f424\"))\n",
    "stopifnot(\"values in one or more character columns in bike_data are not correct\"= setequal(digest(paste(toString(if (any(sapply(bike_data, is.character))) sum(sapply(bike_data[sapply(bike_data, is.character)], function(x) length(unique(x)))) else 0), \"7efcf\")), \"71f5aae5e578b0b8e9fa04442ccc233c\"))\n",
    "stopifnot(\"values in one or more factor columns in bike_data are not correct\"= setequal(digest(paste(toString(if (any(sapply(bike_data, is.factor))) sum(sapply(bike_data[, sapply(bike_data, is.factor)], function(col) length(unique(col)))) else 0), \"7efcf\")), \"adbf3ec3b2b1a195246e7b64265d7e1e\"))\n",
    "\n",
    "print('Success!')"
   ]
  },
  {
   "cell_type": "markdown",
   "metadata": {
    "deletable": false,
    "editable": false,
    "nbgrader": {
     "cell_type": "markdown",
     "checksum": "8c0b5e1016e8da51e746583e9fe0c675",
     "grade": false,
     "grade_id": "cell-8c4775182d73800e",
     "locked": true,
     "schema_version": 3,
     "solution": false
    }
   },
   "source": [
    "**Question 2.4** \n",
    "<br> {points: 1}\n",
    "\n",
    "Mutate the data such that you have a new column called `total_users`. \n",
    "This column would be the sum of the `casual_users` and the `registered_users`. Assign your answer to an object called `bike_mutate`."
   ]
  },
  {
   "cell_type": "code",
   "execution_count": null,
   "metadata": {
    "deletable": false,
    "nbgrader": {
     "cell_type": "code",
     "checksum": "2531be51dbaad4016bbd34b4e61bc352",
     "grade": false,
     "grade_id": "cell-9685158f545889b2",
     "locked": false,
     "schema_version": 3,
     "solution": true
    }
   },
   "outputs": [],
   "source": [
    "#... <- ...(bike_data, ...)\n",
    "\n",
    "# your code here\n",
    "fail() # No Answer - remove if you provide an answer\n",
    "bike_mutate"
   ]
  },
  {
   "cell_type": "code",
   "execution_count": null,
   "metadata": {
    "deletable": false,
    "editable": false,
    "nbgrader": {
     "cell_type": "code",
     "checksum": "36698c909baa760f5ce0e7232e87907f",
     "grade": true,
     "grade_id": "cell-72591b6954d26444",
     "locked": true,
     "points": 1,
     "schema_version": 3,
     "solution": false
    }
   },
   "outputs": [],
   "source": [
    "library(digest)\n",
    "stopifnot(\"bike_mutate should be a data frame\"= setequal(digest(paste(toString('data.frame' %in% class(bike_mutate)), \"bfd4f\")), \"b3f006529ae2ce24fe776af3649fe091\"))\n",
    "stopifnot(\"dimensions of bike_mutate are not correct\"= setequal(digest(paste(toString(dim(bike_mutate)), \"bfd4f\")), \"9e1b32d45244b84774fd73ff23d3f567\"))\n",
    "stopifnot(\"column names of bike_mutate are not correct\"= setequal(digest(paste(toString(sort(colnames(bike_mutate))), \"bfd4f\")), \"5bffbc32031df83d8b606dd8bec55eaf\"))\n",
    "stopifnot(\"types of columns in bike_mutate are not correct\"= setequal(digest(paste(toString(sort(unlist(sapply(bike_mutate, class)))), \"bfd4f\")), \"15e22483442ccd58b5cb270b0a630400\"))\n",
    "stopifnot(\"values in one or more numerical columns in bike_mutate are not correct\"= setequal(digest(paste(toString(if (any(sapply(bike_mutate, is.numeric))) sort(round(sapply(bike_mutate[, sapply(bike_mutate, is.numeric)], sum, na.rm = TRUE), 2)) else 0), \"bfd4f\")), \"ec87b779159d8156a0c9b5e467b38cac\"))\n",
    "stopifnot(\"values in one or more character columns in bike_mutate are not correct\"= setequal(digest(paste(toString(if (any(sapply(bike_mutate, is.character))) sum(sapply(bike_mutate[sapply(bike_mutate, is.character)], function(x) length(unique(x)))) else 0), \"bfd4f\")), \"41b0df99e38f5dec76c818c50a0ed75a\"))\n",
    "stopifnot(\"values in one or more factor columns in bike_mutate are not correct\"= setequal(digest(paste(toString(if (any(sapply(bike_mutate, is.factor))) sum(sapply(bike_mutate[, sapply(bike_mutate, is.factor)], function(col) length(unique(col)))) else 0), \"bfd4f\")), \"45d6cfe985a2ead203e480db7365e5a7\"))\n",
    "\n",
    "print('Success!')"
   ]
  },
  {
   "cell_type": "markdown",
   "metadata": {
    "deletable": false,
    "editable": false,
    "nbgrader": {
     "cell_type": "markdown",
     "checksum": "41f91855b301bbea1168c866af0b995d",
     "grade": false,
     "grade_id": "cell-b31394a784dbe759",
     "locked": true,
     "schema_version": 3,
     "solution": false
    }
   },
   "source": [
    "**Question 2.5** \n",
    "<br> {points: 1}\n",
    "\n",
    "Filter out the data to include information about rentals that were only made during `Spring`. Name your answer `bike_filter`. "
   ]
  },
  {
   "cell_type": "code",
   "execution_count": null,
   "metadata": {
    "deletable": false,
    "nbgrader": {
     "cell_type": "code",
     "checksum": "84271694d1df2b28f178373097d2f8f1",
     "grade": false,
     "grade_id": "cell-cb6259eedeecf3e8",
     "locked": false,
     "schema_version": 3,
     "solution": true
    }
   },
   "outputs": [],
   "source": [
    "#... <- ...(bike_mutate, ... == \"Spring\")\n",
    "\n",
    "# your code here\n",
    "fail() # No Answer - remove if you provide an answer\n",
    "bike_filter"
   ]
  },
  {
   "cell_type": "code",
   "execution_count": null,
   "metadata": {
    "deletable": false,
    "editable": false,
    "nbgrader": {
     "cell_type": "code",
     "checksum": "e651445f1ecbb8a430780a260dd6a58e",
     "grade": true,
     "grade_id": "cell-ae4372c768287348",
     "locked": true,
     "points": 1,
     "schema_version": 3,
     "solution": false
    }
   },
   "outputs": [],
   "source": [
    "library(digest)\n",
    "stopifnot(\"bike_filter should be a data frame\"= setequal(digest(paste(toString('data.frame' %in% class(bike_filter)), \"cf471\")), \"acaa072dc5f2f142ab7e855e9816af59\"))\n",
    "stopifnot(\"dimensions of bike_filter are not correct\"= setequal(digest(paste(toString(dim(bike_filter)), \"cf471\")), \"eaa448cddb7264931e102c4042218cd5\"))\n",
    "stopifnot(\"column names of bike_filter are not correct\"= setequal(digest(paste(toString(sort(colnames(bike_filter))), \"cf471\")), \"8b910a84b5435606c3804ec3f65eaff8\"))\n",
    "stopifnot(\"types of columns in bike_filter are not correct\"= setequal(digest(paste(toString(sort(unlist(sapply(bike_filter, class)))), \"cf471\")), \"e95b0351fee69d0e0ac2e809dc114387\"))\n",
    "stopifnot(\"values in one or more numerical columns in bike_filter are not correct\"= setequal(digest(paste(toString(if (any(sapply(bike_filter, is.numeric))) sort(round(sapply(bike_filter[, sapply(bike_filter, is.numeric)], sum, na.rm = TRUE), 2)) else 0), \"cf471\")), \"0d5c334e614588a48fd8201f0dedb061\"))\n",
    "stopifnot(\"values in one or more character columns in bike_filter are not correct\"= setequal(digest(paste(toString(if (any(sapply(bike_filter, is.character))) sum(sapply(bike_filter[sapply(bike_filter, is.character)], function(x) length(unique(x)))) else 0), \"cf471\")), \"97a9df0f053c52e29432b96ca92f4705\"))\n",
    "stopifnot(\"values in one or more factor columns in bike_filter are not correct\"= setequal(digest(paste(toString(if (any(sapply(bike_filter, is.factor))) sum(sapply(bike_filter[, sapply(bike_filter, is.factor)], function(col) length(unique(col)))) else 0), \"cf471\")), \"d9a29a02e9a5298e2a9381dfe86aafd6\"))\n",
    "\n",
    "print('Success!')"
   ]
  },
  {
   "cell_type": "markdown",
   "metadata": {
    "deletable": false,
    "editable": false,
    "nbgrader": {
     "cell_type": "markdown",
     "checksum": "b8766e17fd912ac6143d0874e806ef1c",
     "grade": false,
     "grade_id": "cell-f6bdff9fe357f6d6",
     "locked": true,
     "schema_version": 3,
     "solution": false
    }
   },
   "source": [
    "**Question 2.6** \n",
    "<br> {points: 3}\n",
    "\n",
    "Select the columns from the data that we wish to plot. Name your answer `bike_select`.\n",
    "\n",
    "*Hint: if you have forgetten, scroll up and re-read the introduction to this exercise.* "
   ]
  },
  {
   "cell_type": "code",
   "execution_count": null,
   "metadata": {
    "deletable": false,
    "nbgrader": {
     "cell_type": "code",
     "checksum": "28259bf605ef3903580c4fd73f34173d",
     "grade": false,
     "grade_id": "cell-d6bf8ba0fdbf99e1",
     "locked": false,
     "schema_version": 3,
     "solution": true
    }
   },
   "outputs": [],
   "source": [
    "#... <- select(...)\n",
    "\n",
    "# your code here\n",
    "fail() # No Answer - remove if you provide an answer\n",
    "bike_select"
   ]
  },
  {
   "cell_type": "code",
   "execution_count": null,
   "metadata": {
    "deletable": false,
    "editable": false,
    "nbgrader": {
     "cell_type": "code",
     "checksum": "e70d467ea30708342247b21f4792916b",
     "grade": true,
     "grade_id": "cell-ea4089cd0490790f",
     "locked": true,
     "points": 3,
     "schema_version": 3,
     "solution": false
    }
   },
   "outputs": [],
   "source": [
    "# Most of the tests for this question are hidden. You have to decide whether you've created the right object. \n",
    "# Heres one test to at least ensure you named the object correctly:\n",
    "library(digest)\n",
    "stopifnot(\"type of exists('bike_select') is not logical\"= setequal(digest(paste(toString(class(exists('bike_select'))), \"bdec5\")), \"ba586364f7ef249e2d92f7f83e4596b0\"))\n",
    "stopifnot(\"logical value of exists('bike_select') is not correct\"= setequal(digest(paste(toString(exists('bike_select')), \"bdec5\")), \"4f3b3be49445ef7a903fee4d2efe5337\"))\n",
    "\n",
    "print('Success!')"
   ]
  },
  {
   "cell_type": "markdown",
   "metadata": {
    "deletable": false,
    "editable": false,
    "nbgrader": {
     "cell_type": "markdown",
     "checksum": "26a3b6651a0277b19d3cadb212d9231b",
     "grade": false,
     "grade_id": "cell-d998752e81ad7842",
     "locked": true,
     "schema_version": 3,
     "solution": false
    }
   },
   "source": [
    "**Question 2.7** \n",
    "<br> {points: 3}\n",
    "\n",
    "Plot the data as a scatter plot. \n",
    "\n",
    "There is a lot missing from the cell below (no hints were given). Try completing this on your own before looking back at any previous exercises. Assign your plot to an object called `bike_plot_spring`.\n",
    "\n",
    "*Hint: what do you think should be the x-axis / y-axis? Don't forget to label your axes! Where appropriate, axes labels should also include units (for example, the axis mapped to the `temperature` column should have the units \"normalized degrees Celsius\").*"
   ]
  },
  {
   "cell_type": "code",
   "execution_count": null,
   "metadata": {
    "deletable": false,
    "nbgrader": {
     "cell_type": "code",
     "checksum": "ecf2a6d4a04b6d1a1f24427214d0c2c3",
     "grade": false,
     "grade_id": "cell-d96ff44fe30428be",
     "locked": false,
     "schema_version": 3,
     "solution": true,
     "task": false
    }
   },
   "outputs": [],
   "source": [
    "# your code here\n",
    "fail() # No Answer - remove if you provide an answer\n",
    "bike_plot_spring"
   ]
  },
  {
   "cell_type": "code",
   "execution_count": null,
   "metadata": {
    "deletable": false,
    "editable": false,
    "nbgrader": {
     "cell_type": "code",
     "checksum": "87bb9a63ec116ad4af49b4672d5a8ebb",
     "grade": true,
     "grade_id": "cell-15aff75b717f53ee",
     "locked": true,
     "points": 3,
     "schema_version": 3,
     "solution": false
    }
   },
   "outputs": [],
   "source": [
    "# Most of the tests for this question are hidden. You have to decide whether you've created the right object. \n",
    "# Heres one test to at least ensure you named the object correctly:\n",
    "library(digest)\n",
    "stopifnot(\"type of exists('bike_plot_spring') is not logical\"= setequal(digest(paste(toString(class(exists('bike_plot_spring'))), \"a292f\")), \"21031319a77545498b6dafd6b6af0e04\"))\n",
    "stopifnot(\"logical value of exists('bike_plot_spring') is not correct\"= setequal(digest(paste(toString(exists('bike_plot_spring')), \"a292f\")), \"e16844a070023370ea4a566dc9aa4435\"))\n",
    "\n",
    "print('Success!')"
   ]
  },
  {
   "cell_type": "markdown",
   "metadata": {
    "deletable": false,
    "editable": false,
    "nbgrader": {
     "cell_type": "markdown",
     "checksum": "257eec6cd355979db3090f0729bed461",
     "grade": false,
     "grade_id": "cell-d9337eb068332ba1",
     "locked": true,
     "schema_version": 3,
     "solution": false
    }
   },
   "source": [
    "**Question 2.8** \n",
    "<br> {points: 3}\n",
    "\n",
    "In 1-2 sentences, describe whether there is a relationship between the variables observed in the scatterplot of the data for the spring season. Comment on the direction and the strength of the relationship (if there is one), and how the variables change with respect to each other (if they do)."
   ]
  },
  {
   "cell_type": "markdown",
   "metadata": {
    "deletable": false,
    "nbgrader": {
     "cell_type": "markdown",
     "checksum": "463cd8c689356fd414f2ff297441236d",
     "grade": true,
     "grade_id": "cell-b82402894d84e002",
     "locked": false,
     "points": 3,
     "schema_version": 3,
     "solution": true
    }
   },
   "source": [
    "DOUBLE CLICK TO EDIT **THIS CELL** AND REPLACE THIS TEXT WITH YOUR ANSWER."
   ]
  },
  {
   "cell_type": "markdown",
   "metadata": {
    "deletable": false,
    "editable": false,
    "nbgrader": {
     "cell_type": "markdown",
     "checksum": "52d3ca5bcd0e348edddfe6d9b553207c",
     "grade": false,
     "grade_id": "cell-496c01803b66e800",
     "locked": true,
     "schema_version": 3,
     "solution": false,
     "task": false
    }
   },
   "source": [
    "## 3. Bike-Sharing Continued\n",
    "\n",
    "For this exercise, we are going to continue working with Capital Bikeshare dataset. This part of the tutorial will focus on your understanding of how the functions work and test your ability to write code without hints. Note that we have also intentionally decreased the number of auto-graded questions for the remainder of the tutorial.\n",
    "\n",
    "Unlike the previous exercise, we now want to determine if there is a relationship between temperature and the amount of people renting bikes during Fall (September 22nd - December 21st).  \n",
    "\n",
    "*Try completing this Exercise from start to finish without any outside help. If you are struggling with a particular question, look at Exercise 2 for assistance.*"
   ]
  },
  {
   "cell_type": "markdown",
   "metadata": {
    "deletable": false,
    "editable": false,
    "nbgrader": {
     "cell_type": "markdown",
     "checksum": "1197d09b5d85f022e6c8edbe90119122",
     "grade": false,
     "grade_id": "cell-7eda544cbea0bea4",
     "locked": true,
     "schema_version": 3,
     "solution": false
    }
   },
   "source": [
    "**Question 3.1** Multiple Choice\n",
    "<br> {points: 1}\n",
    "\n",
    "Which column is going to be filtered during this exercise?\n",
    "\n",
    "A. `casual_users`\n",
    "\n",
    "B. `season`\n",
    "\n",
    "C. `temperature`\n",
    "\n",
    "D. `total_users`\n",
    "\n",
    "*Assign your answer to an object called `answer3.1`. Make sure your answer is an uppercase letter and is surrounded by quotation marks (e.g. `\"F\"`).*"
   ]
  },
  {
   "cell_type": "code",
   "execution_count": null,
   "metadata": {
    "deletable": false,
    "nbgrader": {
     "cell_type": "code",
     "checksum": "2e052e8826133350c35dc3a0af484f80",
     "grade": false,
     "grade_id": "cell-27f3db6e4f543f8b",
     "locked": false,
     "schema_version": 3,
     "solution": true
    }
   },
   "outputs": [],
   "source": [
    "# Replace fail() with your answer. \n",
    "\n",
    "# your code here\n",
    "fail() # No Answer - remove if you provide an answer"
   ]
  },
  {
   "cell_type": "code",
   "execution_count": null,
   "metadata": {
    "deletable": false,
    "editable": false,
    "nbgrader": {
     "cell_type": "code",
     "checksum": "5c68cbe735451fec669b4c28f4b1ed29",
     "grade": true,
     "grade_id": "cell-df34058ddcf40d34",
     "locked": true,
     "points": 1,
     "schema_version": 3,
     "solution": false
    }
   },
   "outputs": [],
   "source": [
    "library(digest)\n",
    "stopifnot(\"type of answer3.1 is not character\"= setequal(digest(paste(toString(class(answer3.1)), \"cc60d\")), \"67ebd05f1595e697a8eef2c035bf85c6\"))\n",
    "stopifnot(\"length of answer3.1 is not correct\"= setequal(digest(paste(toString(length(answer3.1)), \"cc60d\")), \"7f1913ade3005311ac0bafadbabdd165\"))\n",
    "stopifnot(\"value of answer3.1 is not correct\"= setequal(digest(paste(toString(tolower(answer3.1)), \"cc60d\")), \"f1c4675ca2f00ee03484a459f2dc73ae\"))\n",
    "stopifnot(\"letters in string value of answer3.1 are correct but case is not correct\"= setequal(digest(paste(toString(answer3.1), \"cc60d\")), \"38710b0887cc1f7a77d89a80a1d77b4d\"))\n",
    "\n",
    "print('Success!')"
   ]
  },
  {
   "cell_type": "markdown",
   "metadata": {
    "deletable": false,
    "editable": false,
    "nbgrader": {
     "cell_type": "markdown",
     "checksum": "2dc00a2dea415c19415e459f8655fe49",
     "grade": false,
     "grade_id": "cell-ead9fd93f7cc5803",
     "locked": true,
     "schema_version": 3,
     "solution": false
    }
   },
   "source": [
    "**Question 3.2** \n",
    "<br> {points: 3}\n",
    "\n",
    "Recall that the `tidyverse` package has loaded and the data has already been read. The next step is to mutate the data such that we have information on all the users. Make sure to save your answer to an object called `bike_mutated`, and make sure to create a column called `total_users`."
   ]
  },
  {
   "cell_type": "code",
   "execution_count": null,
   "metadata": {
    "deletable": false,
    "nbgrader": {
     "cell_type": "code",
     "checksum": "75feefa52ac9ef2b75f132b64e4b26f7",
     "grade": false,
     "grade_id": "cell-39303850daf03030",
     "locked": false,
     "schema_version": 3,
     "solution": true,
     "task": false
    }
   },
   "outputs": [],
   "source": [
    "# Replace fail() with your line of code. \n",
    "\n",
    "# your code here\n",
    "fail() # No Answer - remove if you provide an answer\n",
    "bike_mutated"
   ]
  },
  {
   "cell_type": "code",
   "execution_count": null,
   "metadata": {
    "deletable": false,
    "editable": false,
    "nbgrader": {
     "cell_type": "code",
     "checksum": "a66b4456ae37f3b27f6aa996852ac02f",
     "grade": true,
     "grade_id": "cell-d078f12a02af4811",
     "locked": true,
     "points": 3,
     "schema_version": 3,
     "solution": false,
     "task": false
    }
   },
   "outputs": [],
   "source": [
    "# Most of the tests for this question are hidden. You have to decide whether you've created the right object. \n",
    "# Heres one test to at least ensure you named the object correctly:\n",
    "library(digest)\n",
    "stopifnot(\"type of exists('bike_mutated') is not logical\"= setequal(digest(paste(toString(class(exists('bike_mutated'))), \"14eee\")), \"eeaa8da80f0405de2fe15de15815ec7c\"))\n",
    "stopifnot(\"logical value of exists('bike_mutated') is not correct\"= setequal(digest(paste(toString(exists('bike_mutated')), \"14eee\")), \"1f1b8dbb7dee59b043af519ec6ec5850\"))\n",
    "\n",
    "print('Success!')"
   ]
  },
  {
   "cell_type": "markdown",
   "metadata": {
    "deletable": false,
    "editable": false,
    "nbgrader": {
     "cell_type": "markdown",
     "checksum": "e81a0941d98e77f17103ad7600db9d5b",
     "grade": false,
     "grade_id": "cell-67669610134de359",
     "locked": true,
     "schema_version": 3,
     "solution": false
    }
   },
   "source": [
    "**Question 3.3** \n",
    "<br> {points: 3}\n",
    "\n",
    "Filter out the data to include information about rentals that were only made during `Fall` - assign this data frame to an object called `bike_filtered`. Next, select for the columns we wish to plot. Name your answer `bike_selected`. "
   ]
  },
  {
   "cell_type": "code",
   "execution_count": null,
   "metadata": {
    "deletable": false,
    "nbgrader": {
     "cell_type": "code",
     "checksum": "bac53cb5fcb76f4f17d90aba1b448bfb",
     "grade": false,
     "grade_id": "cell-d81822a09ef9e8d1",
     "locked": false,
     "schema_version": 3,
     "solution": true,
     "task": false
    }
   },
   "outputs": [],
   "source": [
    "# Replace fail() with your line of code. \n",
    "\n",
    "# your code here\n",
    "fail() # No Answer - remove if you provide an answer\n",
    "bike_selected"
   ]
  },
  {
   "cell_type": "code",
   "execution_count": null,
   "metadata": {
    "deletable": false,
    "editable": false,
    "nbgrader": {
     "cell_type": "code",
     "checksum": "44a93c4b96abed834d0467219f23650d",
     "grade": true,
     "grade_id": "cell-f83d8178b0983eaf",
     "locked": true,
     "points": 3,
     "schema_version": 3,
     "solution": false,
     "task": false
    }
   },
   "outputs": [],
   "source": [
    "# Most of the tests for this question are hidden. You have to decide whether you've created the right object. \n",
    "# Heres one test to at least ensure you named the object correctly:\n",
    "library(digest)\n",
    "stopifnot(\"type of exists('bike_filtered') is not logical\"= setequal(digest(paste(toString(class(exists('bike_filtered'))), \"50184\")), \"804d90a84498b9dda75ba5829c359a09\"))\n",
    "stopifnot(\"logical value of exists('bike_filtered') is not correct\"= setequal(digest(paste(toString(exists('bike_filtered')), \"50184\")), \"a41cff2cc53212565e1729478980e3f1\"))\n",
    "\n",
    "stopifnot(\"type of exists('bike_selected') is not logical\"= setequal(digest(paste(toString(class(exists('bike_selected'))), \"50185\")), \"1a0cfc595199ec5a74489513b62ae2d4\"))\n",
    "stopifnot(\"logical value of exists('bike_selected') is not correct\"= setequal(digest(paste(toString(exists('bike_selected')), \"50185\")), \"65723e82b75522ebd36937996fd93af5\"))\n",
    "\n",
    "print('Success!')"
   ]
  },
  {
   "cell_type": "markdown",
   "metadata": {
    "deletable": false,
    "editable": false,
    "nbgrader": {
     "cell_type": "markdown",
     "checksum": "e046a6f4dee903a9a4866b004087ad3f",
     "grade": false,
     "grade_id": "cell-9ec71f0f8c57613d",
     "locked": true,
     "schema_version": 3,
     "solution": false
    }
   },
   "source": [
    "**Question 3.4** \n",
    "<br> {points: 3}\n",
    "\n",
    "Plot the data as a scatter plot. Label your x-axis: `Temperature (normalized degrees Celsius)` and your y-axis: `Total Users (Casual and Registered)`. Assign your plot to an object called `bike_plot_fall`."
   ]
  },
  {
   "cell_type": "code",
   "execution_count": null,
   "metadata": {
    "deletable": false,
    "nbgrader": {
     "cell_type": "code",
     "checksum": "d607ec3526c42c3f164a9ba505bc0d7e",
     "grade": false,
     "grade_id": "cell-68a6cb066e2250a9",
     "locked": false,
     "schema_version": 3,
     "solution": true,
     "task": false
    }
   },
   "outputs": [],
   "source": [
    "# Replace the fail() with your line of code (answer). \n",
    "\n",
    "# your code here\n",
    "fail() # No Answer - remove if you provide an answer\n",
    "bike_plot_fall"
   ]
  },
  {
   "cell_type": "code",
   "execution_count": null,
   "metadata": {
    "deletable": false,
    "editable": false,
    "nbgrader": {
     "cell_type": "code",
     "checksum": "996126a18863fa37edaadb9b9e6b89f9",
     "grade": true,
     "grade_id": "cell-bed51905509ec5ba",
     "locked": true,
     "points": 3,
     "schema_version": 3,
     "solution": false,
     "task": false
    }
   },
   "outputs": [],
   "source": [
    "# Most of the tests for this question are hidden. You have to decide whether you've created the right object. \n",
    "# Heres one test to at least ensure you named the object correctly:\n",
    "library(digest)\n",
    "stopifnot(\"type of exists('bike_plot_fall') is not logical\"= setequal(digest(paste(toString(class(exists('bike_plot_fall'))), \"dbde5\")), \"e4cbdd73fc1c843d48e2f78c0ed4cc33\"))\n",
    "stopifnot(\"logical value of exists('bike_plot_fall') is not correct\"= setequal(digest(paste(toString(exists('bike_plot_fall')), \"dbde5\")), \"f30f76dc258dc762616932d14144cfa7\"))\n",
    "\n",
    "print('Success!')"
   ]
  },
  {
   "cell_type": "markdown",
   "metadata": {
    "deletable": false,
    "editable": false,
    "nbgrader": {
     "cell_type": "markdown",
     "checksum": "cdc09a57aef5d23fe30922f47b381e9b",
     "grade": false,
     "grade_id": "cell-0fd8f05654f1a761",
     "locked": true,
     "schema_version": 3,
     "solution": false
    }
   },
   "source": [
    "**Question 3.5** \n",
    "<br> {points: 3}\n",
    "\n",
    "In one sentence, describe whether there is a relationship observed in the scatter plot for the fall season, and if so, the direction of that relationship."
   ]
  },
  {
   "cell_type": "markdown",
   "metadata": {
    "deletable": false,
    "nbgrader": {
     "cell_type": "markdown",
     "checksum": "937f375f64e55e7d1e3a5cff8d97209e",
     "grade": true,
     "grade_id": "cell-5cffa9bce11917de",
     "locked": false,
     "points": 3,
     "schema_version": 3,
     "solution": true
    }
   },
   "source": [
    "DOUBLE CLICK TO EDIT **THIS CELL** AND REPLACE THIS TEXT WITH YOUR ANSWER."
   ]
  },
  {
   "cell_type": "markdown",
   "metadata": {
    "deletable": false,
    "editable": false,
    "nbgrader": {
     "cell_type": "markdown",
     "checksum": "633a1920c9542cd361515dd3d095a3ff",
     "grade": false,
     "grade_id": "cell-5a83e5402e223b72",
     "locked": true,
     "schema_version": 3,
     "solution": false
    }
   },
   "source": [
    "**Question 3.6** \n",
    "<br> {points: 3}\n",
    "\n",
    "Looking at the scatter plots for the spring and the fall seasons, what difference(s) do you see? Based on these two plots, what might you recommend to this company to increase their users?"
   ]
  },
  {
   "cell_type": "markdown",
   "metadata": {
    "deletable": false,
    "nbgrader": {
     "cell_type": "markdown",
     "checksum": "6dbc83959f49c9927e365a1fd2f50868",
     "grade": true,
     "grade_id": "cell-a7bf24f74901d418",
     "locked": false,
     "points": 3,
     "schema_version": 3,
     "solution": true
    }
   },
   "source": [
    "DOUBLE CLICK TO EDIT **THIS CELL** AND REPLACE THIS TEXT WITH YOUR ANSWER."
   ]
  },
  {
   "cell_type": "code",
   "execution_count": null,
   "metadata": {
    "deletable": false,
    "editable": false,
    "nbgrader": {
     "cell_type": "code",
     "checksum": "f59f4a97d3b1b064052c82580b2863cf",
     "grade": false,
     "grade_id": "cell-9803e3109f9a4e8b",
     "locked": true,
     "schema_version": 3,
     "solution": false,
     "task": false
    }
   },
   "outputs": [],
   "source": [
    "source(\"cleanup.R\")"
   ]
  }
 ],
 "metadata": {
  "kernelspec": {
   "display_name": "R",
   "language": "R",
   "name": "ir"
  },
  "language_info": {
   "codemirror_mode": "r",
   "file_extension": ".r",
   "mimetype": "text/x-r-source",
   "name": "R",
   "pygments_lexer": "r",
   "version": "4.3.3"
  }
 },
 "nbformat": 4,
 "nbformat_minor": 4
}
