{
 "cells": [
  {
   "cell_type": "markdown",
   "metadata": {
    "deletable": false,
    "editable": false,
    "nbgrader": {
     "cell_type": "markdown",
     "checksum": "705276521bb2f182695e55c391276545",
     "grade": false,
     "grade_id": "cell-9fc931a1b92d396c",
     "locked": true,
     "schema_version": 3,
     "solution": false,
     "task": false
    }
   },
   "source": [
    "# Worksheet: Reading in data locally and from the web\n",
    "\n",
    "This worksheet covers the [Reading in data locally and from the web](https://datasciencebook.ca/reading.html) chapter of the online textbook, which also lists the learning objectives for this worksheet. You should read the textbook chapter before attempting this worksheet. \n"
   ]
  },
  {
   "cell_type": "code",
   "execution_count": null,
   "metadata": {
    "deletable": false,
    "editable": false,
    "nbgrader": {
     "cell_type": "code",
     "checksum": "0431e2a6546b1904beb1c9cb27db7f45",
     "grade": false,
     "grade_id": "cell-4c6ba62a17e1fc56",
     "locked": true,
     "schema_version": 3,
     "solution": false,
     "task": false
    }
   },
   "outputs": [],
   "source": [
    "### Run this cell before continuing. \n",
    "library(tidyverse)\n",
    "library(repr)\n",
    "library(readxl)\n",
    "source(\"cleanup.R\")\n",
    "options(repr.matrix.max.rows = 6)"
   ]
  },
  {
   "cell_type": "markdown",
   "metadata": {
    "deletable": false,
    "editable": false,
    "nbgrader": {
     "cell_type": "markdown",
     "checksum": "3cf267c6038f34f3613aced045f3f418",
     "grade": false,
     "grade_id": "cell-3b8465487dd766f5",
     "locked": true,
     "schema_version": 3,
     "solution": false,
     "task": false
    }
   },
   "source": [
    "## 1. Comparing Absolute Paths, Relative Paths, and URLs"
   ]
  },
  {
   "cell_type": "markdown",
   "metadata": {
    "deletable": false,
    "editable": false,
    "nbgrader": {
     "cell_type": "markdown",
     "checksum": "669fcdc7925e7fd301869b4e2aa6cb77",
     "grade": false,
     "grade_id": "cell-33341d6ba389a6a5",
     "locked": true,
     "schema_version": 3,
     "solution": false
    }
   },
   "source": [
    "**Question 1.1** Multiple Choice:\n",
    "<br> {points: 1}\n",
    "\n",
    "If you needed to read a file using an absolute path, what would be the first symbol in your argument (...) when using the `read_csv` function?\n",
    "\n",
    "A. `read_csv(\">...\")`\n",
    "\n",
    "B. `read_csv(\";...\")`\n",
    "\n",
    "C. `read_csv(\"...\")`\n",
    "\n",
    "D. `read_csv(\"/...\")`\n",
    "\n",
    "*Assign your answer to an object called `answer1.1`. Make sure your answer is an uppercase letter and is surrounded by quotation marks (e.g. `\"F\"`).*"
   ]
  },
  {
   "cell_type": "code",
   "execution_count": null,
   "metadata": {
    "deletable": false,
    "nbgrader": {
     "cell_type": "code",
     "checksum": "fcf288b0c2a750bfc3d5d16cea2f0456",
     "grade": false,
     "grade_id": "cell-6bdc2f57a189abcf",
     "locked": false,
     "schema_version": 3,
     "solution": true
    }
   },
   "outputs": [],
   "source": [
    "# Replace the fail() with your answer. \n",
    "\n",
    "# your code here\n",
    "fail() # No Answer - remove if you provide an answer"
   ]
  },
  {
   "cell_type": "code",
   "execution_count": null,
   "metadata": {
    "deletable": false,
    "editable": false,
    "nbgrader": {
     "cell_type": "code",
     "checksum": "a010ee71b2c42a6798ba97f5ffc8d77a",
     "grade": true,
     "grade_id": "cell-62f0d28a4d321e00",
     "locked": true,
     "points": 1,
     "schema_version": 3,
     "solution": false
    }
   },
   "outputs": [],
   "source": [
    "library(digest)\n",
    "stopifnot(\"type of answer1.1 is not character\"= setequal(digest(paste(toString(class(answer1.1)), \"bc78e\")), \"891668d9c7d4d926493054d7b3445a62\"))\n",
    "stopifnot(\"length of answer1.1 is not correct\"= setequal(digest(paste(toString(length(answer1.1)), \"bc78e\")), \"bbac0636d3444d471d14e9bf24b14051\"))\n",
    "stopifnot(\"value of answer1.1 is not correct\"= setequal(digest(paste(toString(tolower(answer1.1)), \"bc78e\")), \"54cf25d35765e815bcca632b62fb8380\"))\n",
    "stopifnot(\"letters in string value of answer1.1 are correct but case is not correct\"= setequal(digest(paste(toString(answer1.1), \"bc78e\")), \"c62e93f788e60c0037a7db28d6c1315d\"))\n",
    "\n",
    "print('Success!')"
   ]
  },
  {
   "cell_type": "markdown",
   "metadata": {
    "deletable": false,
    "editable": false,
    "nbgrader": {
     "cell_type": "markdown",
     "checksum": "1f1b85e5f81c6f0bf7adc7c4d40198bc",
     "grade": false,
     "grade_id": "cell-b91542cf20075a6d",
     "locked": true,
     "schema_version": 3,
     "solution": false
    }
   },
   "source": [
    "**Question 1.2** True or False: \n",
    "<br> {points: 1}\n",
    "\n",
    "An absolute path can *never* look the same as a relative path.\n",
    "\n",
    "*Assign your answer to an object called `answer1.2`. Make sure your answer is written in lowercase and is surrounded by quotation marks (e.g. `\"true\"` or `\"false\"`).* "
   ]
  },
  {
   "cell_type": "code",
   "execution_count": null,
   "metadata": {
    "deletable": false,
    "nbgrader": {
     "cell_type": "code",
     "checksum": "67df28e702c357988b3ffe66dbb754aa",
     "grade": false,
     "grade_id": "cell-419826637ad2ec8b",
     "locked": false,
     "schema_version": 3,
     "solution": true
    }
   },
   "outputs": [],
   "source": [
    "# Replace the fail() with your answer. \n",
    "\n",
    "# your code here\n",
    "fail() # No Answer - remove if you provide an answer"
   ]
  },
  {
   "cell_type": "code",
   "execution_count": null,
   "metadata": {
    "deletable": false,
    "editable": false,
    "nbgrader": {
     "cell_type": "code",
     "checksum": "830b2ded2c94d3f99eb88139067beb12",
     "grade": true,
     "grade_id": "cell-decda128ce0061b5",
     "locked": true,
     "points": 1,
     "schema_version": 3,
     "solution": false
    }
   },
   "outputs": [],
   "source": [
    "library(digest)\n",
    "stopifnot(\"type of answer1.2 is not character\"= setequal(digest(paste(toString(class(answer1.2)), \"b78f7\")), \"dec8b3242fa51e80474413b89d0ca755\"))\n",
    "stopifnot(\"length of answer1.2 is not correct\"= setequal(digest(paste(toString(length(answer1.2)), \"b78f7\")), \"efd31e4e68112ddcd36a3cdca73cf4e9\"))\n",
    "stopifnot(\"value of answer1.2 is not correct\"= setequal(digest(paste(toString(tolower(answer1.2)), \"b78f7\")), \"5c9780499638800de321bf17394682ca\"))\n",
    "stopifnot(\"letters in string value of answer1.2 are correct but case is not correct\"= setequal(digest(paste(toString(answer1.2), \"b78f7\")), \"5c9780499638800de321bf17394682ca\"))\n",
    "\n",
    "print('Success!')"
   ]
  },
  {
   "cell_type": "markdown",
   "metadata": {
    "deletable": false,
    "editable": false,
    "nbgrader": {
     "cell_type": "markdown",
     "checksum": "8ef00bce0f1e8ecc980c4a7493216dfb",
     "grade": false,
     "grade_id": "cell-b3a3c0bfe11c30aa",
     "locked": true,
     "schema_version": 3,
     "solution": false
    }
   },
   "source": [
    "**Question 1.3** \n",
    "Match the following paths with the correct path type that they represent:\n",
    "<br> {points: 1}\n",
    "\n",
    "*Example Path*\n",
    "\n",
    "A. `/Users/my_user/Desktop/UBC/BIOL363/SciaticNerveLab/sn_trial_1.xlsx`\n",
    "\n",
    "B. `https://www.ubc.ca`\n",
    "\n",
    "C. `file_1.csv`\n",
    "\n",
    "D. `/Users/name/Documents/Course_A/homework/my_first_homework.docx`\n",
    "\n",
    "E. `homework/my_second_homework.docx`\n",
    "\n",
    "F. `https://www.random_website.com`\n",
    "\n",
    "\n",
    "*Path Type*\n",
    "\n",
    "1. absolute\n",
    "2. relative\n",
    "3. URL\n",
    "\n",
    "For every argument, create an object using the letter associated with the example path and assign it the corresponding number from the list of path types. For example: `B <- 1`. "
   ]
  },
  {
   "cell_type": "code",
   "execution_count": null,
   "metadata": {
    "deletable": false,
    "nbgrader": {
     "cell_type": "code",
     "checksum": "6ddb42725f1a5c450b915b83c41b409b",
     "grade": false,
     "grade_id": "cell-09da6197edcf6859",
     "locked": false,
     "schema_version": 3,
     "solution": true
    }
   },
   "outputs": [],
   "source": [
    "# Replace the fail() with your answer. \n",
    "\n",
    "# your code here\n",
    "fail() # No Answer - remove if you provide an answer"
   ]
  },
  {
   "cell_type": "code",
   "execution_count": null,
   "metadata": {
    "deletable": false,
    "editable": false,
    "nbgrader": {
     "cell_type": "code",
     "checksum": "00ceb8a7486c2df0fcbe5f7d016cad05",
     "grade": true,
     "grade_id": "cell-bcb67971fe82e848",
     "locked": true,
     "points": 1,
     "schema_version": 3,
     "solution": false
    }
   },
   "outputs": [],
   "source": [
    "library(digest)\n",
    "stopifnot(\"type of A is not numeric\"= setequal(digest(paste(toString(class(A)), \"60f15\")), \"54ae584132aee1551e569f2a281cd9f4\"))\n",
    "stopifnot(\"value of A is not correct (rounded to 2 decimal places)\"= setequal(digest(paste(toString(round(A, 2)), \"60f15\")), \"f0311ae27f723e0f17a335b62669a34a\"))\n",
    "stopifnot(\"length of A is not correct\"= setequal(digest(paste(toString(length(A)), \"60f15\")), \"f0311ae27f723e0f17a335b62669a34a\"))\n",
    "stopifnot(\"values of A are not correct\"= setequal(digest(paste(toString(sort(round(A, 2))), \"60f15\")), \"f0311ae27f723e0f17a335b62669a34a\"))\n",
    "\n",
    "stopifnot(\"type of B is not numeric\"= setequal(digest(paste(toString(class(B)), \"60f16\")), \"e59f1146ba3dadd3cac2177b90ea32c7\"))\n",
    "stopifnot(\"value of B is not correct (rounded to 2 decimal places)\"= setequal(digest(paste(toString(round(B, 2)), \"60f16\")), \"a39cc35c606979dc7f9fcb08a3ad3787\"))\n",
    "stopifnot(\"length of B is not correct\"= setequal(digest(paste(toString(length(B)), \"60f16\")), \"37c8ce92b839bca5682190d1ac443b63\"))\n",
    "stopifnot(\"values of B are not correct\"= setequal(digest(paste(toString(sort(round(B, 2))), \"60f16\")), \"a39cc35c606979dc7f9fcb08a3ad3787\"))\n",
    "\n",
    "stopifnot(\"type of C is not numeric\"= setequal(digest(paste(toString(class(C)), \"60f17\")), \"29dc3a28a87709ca36d1397d89ecb0ae\"))\n",
    "stopifnot(\"value of C is not correct (rounded to 2 decimal places)\"= setequal(digest(paste(toString(round(C, 2)), \"60f17\")), \"f9e1afd561ff55acd220398d44dd8683\"))\n",
    "stopifnot(\"length of C is not correct\"= setequal(digest(paste(toString(length(C)), \"60f17\")), \"b0ab6947b2e4035d1a887fc6bb715dc1\"))\n",
    "stopifnot(\"values of C are not correct\"= setequal(digest(paste(toString(sort(round(C, 2))), \"60f17\")), \"f9e1afd561ff55acd220398d44dd8683\"))\n",
    "\n",
    "stopifnot(\"type of D is not numeric\"= setequal(digest(paste(toString(class(D)), \"60f18\")), \"729157eaf6ef68588e2f2b2bdf1e3364\"))\n",
    "stopifnot(\"value of D is not correct (rounded to 2 decimal places)\"= setequal(digest(paste(toString(round(D, 2)), \"60f18\")), \"5225e104470e945d225da94385c3a773\"))\n",
    "stopifnot(\"length of D is not correct\"= setequal(digest(paste(toString(length(D)), \"60f18\")), \"5225e104470e945d225da94385c3a773\"))\n",
    "stopifnot(\"values of D are not correct\"= setequal(digest(paste(toString(sort(round(D, 2))), \"60f18\")), \"5225e104470e945d225da94385c3a773\"))\n",
    "\n",
    "stopifnot(\"type of E is not numeric\"= setequal(digest(paste(toString(class(E)), \"60f19\")), \"9e0c941e9cd63b2cadab68b1f7c5ba84\"))\n",
    "stopifnot(\"value of E is not correct (rounded to 2 decimal places)\"= setequal(digest(paste(toString(round(E, 2)), \"60f19\")), \"07472502ab83724d776b944156b8d3d2\"))\n",
    "stopifnot(\"length of E is not correct\"= setequal(digest(paste(toString(length(E)), \"60f19\")), \"6177d550c90f2a4b646be50b0742961d\"))\n",
    "stopifnot(\"values of E are not correct\"= setequal(digest(paste(toString(sort(round(E, 2))), \"60f19\")), \"07472502ab83724d776b944156b8d3d2\"))\n",
    "\n",
    "stopifnot(\"type of F is not numeric\"= setequal(digest(paste(toString(class(F)), \"60f1a\")), \"e4c04ffc84650593cf226df53ea6222f\"))\n",
    "stopifnot(\"value of F is not correct (rounded to 2 decimal places)\"= setequal(digest(paste(toString(round(F, 2)), \"60f1a\")), \"bd55ea643118a14f27782386968f916a\"))\n",
    "stopifnot(\"length of F is not correct\"= setequal(digest(paste(toString(length(F)), \"60f1a\")), \"d88f7155de58ed5a03d1c25d67c0ef9d\"))\n",
    "stopifnot(\"values of F are not correct\"= setequal(digest(paste(toString(sort(round(F, 2))), \"60f1a\")), \"bd55ea643118a14f27782386968f916a\"))\n",
    "\n",
    "print('Success!')"
   ]
  },
  {
   "cell_type": "markdown",
   "metadata": {
    "deletable": false,
    "editable": false,
    "nbgrader": {
     "cell_type": "markdown",
     "checksum": "1ae149390f96a7fdcbbab7af62963cfe",
     "grade": false,
     "grade_id": "cell-4589f01853a62fe7",
     "locked": true,
     "schema_version": 3,
     "solution": false
    }
   },
   "source": [
    "**Question 1.4** Multiple Choice:\n",
    "<br> {points: 1}\n",
    "\n",
    "If the absolute path to a data file looks like this: `/Users/my_user/Desktop/UBC/BIOL363/SciaticNerveLab/sn_trial_1.xlsx`\n",
    "\n",
    "What would the relative path look like if the working directory (i.e., where the Jupyter notebook is where you are running your R code from) is now located in the `UBC` folder?\n",
    "\n",
    "A. `sn_trial_1.xlsx`\n",
    "\n",
    "B. `/SciaticNerveLab/sn_trial_1.xlsx`\n",
    "\n",
    "C. `BIOL363/SciaticNerveLab/sn_trial_1.xlsx`\n",
    "\n",
    "D. `UBC/BIOL363/SciaticNerveLab/sn_trial_1.xlsx`\n",
    "\n",
    "E. `/BIOL363/SciaticNerveLab/sn_trial_1.xlsx`\n",
    "\n",
    "*Assign your answer to an object called `answer1.4`. Make sure your answer is an uppercase letter and is surrounded by quotation marks (e.g. `\"F\"`).* "
   ]
  },
  {
   "cell_type": "code",
   "execution_count": null,
   "metadata": {
    "deletable": false,
    "nbgrader": {
     "cell_type": "code",
     "checksum": "e60f9373a8db17a71523857d9d3cf423",
     "grade": false,
     "grade_id": "cell-c7993ed9e8e63184",
     "locked": false,
     "schema_version": 3,
     "solution": true
    }
   },
   "outputs": [],
   "source": [
    "# Replace the fail() with your answer. \n",
    "\n",
    "# your code here\n",
    "fail() # No Answer - remove if you provide an answer"
   ]
  },
  {
   "cell_type": "code",
   "execution_count": null,
   "metadata": {
    "deletable": false,
    "editable": false,
    "nbgrader": {
     "cell_type": "code",
     "checksum": "360bce15d7b95983cf4bc256f143fd4c",
     "grade": true,
     "grade_id": "cell-0a781125473dc3d8",
     "locked": true,
     "points": 1,
     "schema_version": 3,
     "solution": false
    }
   },
   "outputs": [],
   "source": [
    "library(digest)\n",
    "stopifnot(\"type of answer1.4 is not character\"= setequal(digest(paste(toString(class(answer1.4)), \"76c9a\")), \"8f9128546ac49a88a2b9c25a37f61910\"))\n",
    "stopifnot(\"length of answer1.4 is not correct\"= setequal(digest(paste(toString(length(answer1.4)), \"76c9a\")), \"fcaf6d9889b4e0a8e6665d801f4c5338\"))\n",
    "stopifnot(\"value of answer1.4 is not correct\"= setequal(digest(paste(toString(tolower(answer1.4)), \"76c9a\")), \"3cf272959ad9bedb3e3f5c631336ea81\"))\n",
    "stopifnot(\"letters in string value of answer1.4 are correct but case is not correct\"= setequal(digest(paste(toString(answer1.4), \"76c9a\")), \"08bd2da705b9eed875a7581104af8fdf\"))\n",
    "\n",
    "print('Success!')"
   ]
  },
  {
   "cell_type": "markdown",
   "metadata": {
    "deletable": false,
    "editable": false,
    "nbgrader": {
     "cell_type": "markdown",
     "checksum": "0b71d3cd6e2fcc9f36d42ab36c6a3e04",
     "grade": false,
     "grade_id": "cell-798a7cbf057308b4",
     "locked": true,
     "schema_version": 3,
     "solution": false,
     "task": false
    }
   },
   "source": [
    "**Question 1.5**\n",
    "<br> {points: 1}\n",
    "\n",
    "Match the following paths with the most likely kind of data format they contain. \n",
    "\n",
    "*Paths:*\n",
    "\n",
    "1. `https://www.ubc.ca/datasets/data.db`\n",
    "2. `/home/user/downloads/data.xlsx`\n",
    "3. `data.tsv`\n",
    "4. `examples/data/data.csv`\n",
    "5. `https://en.wikipedia.org/wiki/Normal_distribution`\n",
    "\n",
    "*Dataset Types:*\n",
    "\n",
    "A. Excel Spreadsheet\n",
    "\n",
    "B. Database\n",
    "\n",
    "C. HTML file\n",
    "\n",
    "D. Comma-separated values file\n",
    "\n",
    "E. Tab-separated values file\n",
    "\n",
    "For every dataset type, create an object using the letter associated with the example and assign it the corresponding number from the list of paths. For example: `F <- 5`\n"
   ]
  },
  {
   "cell_type": "code",
   "execution_count": null,
   "metadata": {
    "deletable": false,
    "nbgrader": {
     "cell_type": "code",
     "checksum": "12d6b68b3169ecf3f7f41ea302ce1d7e",
     "grade": false,
     "grade_id": "cell-050dd93f81d2fc95",
     "locked": false,
     "schema_version": 3,
     "solution": true,
     "task": false
    }
   },
   "outputs": [],
   "source": [
    "# Replace the fail() with your answer. \n",
    "\n",
    "# your code here\n",
    "fail() # No Answer - remove if you provide an answer"
   ]
  },
  {
   "cell_type": "code",
   "execution_count": null,
   "metadata": {
    "deletable": false,
    "editable": false,
    "nbgrader": {
     "cell_type": "code",
     "checksum": "76324987786e2a7efafcd87acaf6888d",
     "grade": true,
     "grade_id": "cell-f4e891dadfecbbf6",
     "locked": true,
     "points": 1,
     "schema_version": 3,
     "solution": false,
     "task": false
    }
   },
   "outputs": [],
   "source": [
    "library(digest)\n",
    "stopifnot(\"type of A is not numeric\"= setequal(digest(paste(toString(class(A)), \"abd65\")), \"fba3e044907242bd88d72aa490ed68c6\"))\n",
    "stopifnot(\"value of A is not correct (rounded to 2 decimal places)\"= setequal(digest(paste(toString(round(A, 2)), \"abd65\")), \"b7f3d444e4b2623fadcc31dbb4599f8c\"))\n",
    "stopifnot(\"length of A is not correct\"= setequal(digest(paste(toString(length(A)), \"abd65\")), \"a57bc8ae237e636f3b6db77692c383a4\"))\n",
    "stopifnot(\"values of A are not correct\"= setequal(digest(paste(toString(sort(round(A, 2))), \"abd65\")), \"b7f3d444e4b2623fadcc31dbb4599f8c\"))\n",
    "\n",
    "stopifnot(\"type of B is not numeric\"= setequal(digest(paste(toString(class(B)), \"abd66\")), \"9610439ad0ccbaa92847569224827296\"))\n",
    "stopifnot(\"value of B is not correct (rounded to 2 decimal places)\"= setequal(digest(paste(toString(round(B, 2)), \"abd66\")), \"87697ec09d7904f0882ce570a622131f\"))\n",
    "stopifnot(\"length of B is not correct\"= setequal(digest(paste(toString(length(B)), \"abd66\")), \"87697ec09d7904f0882ce570a622131f\"))\n",
    "stopifnot(\"values of B are not correct\"= setequal(digest(paste(toString(sort(round(B, 2))), \"abd66\")), \"87697ec09d7904f0882ce570a622131f\"))\n",
    "\n",
    "stopifnot(\"type of C is not numeric\"= setequal(digest(paste(toString(class(C)), \"abd67\")), \"575ef4d32ec31a8b0346e170d5a7c08b\"))\n",
    "stopifnot(\"value of C is not correct (rounded to 2 decimal places)\"= setequal(digest(paste(toString(round(C, 2)), \"abd67\")), \"3d92d28176b04a7802d300f4f2c30ca5\"))\n",
    "stopifnot(\"length of C is not correct\"= setequal(digest(paste(toString(length(C)), \"abd67\")), \"8fb4933ef2873c8ace7b361fc2e4df6f\"))\n",
    "stopifnot(\"values of C are not correct\"= setequal(digest(paste(toString(sort(round(C, 2))), \"abd67\")), \"3d92d28176b04a7802d300f4f2c30ca5\"))\n",
    "\n",
    "stopifnot(\"type of D is not numeric\"= setequal(digest(paste(toString(class(D)), \"abd68\")), \"646b7caff913023552be44e4c4eee12d\"))\n",
    "stopifnot(\"value of D is not correct (rounded to 2 decimal places)\"= setequal(digest(paste(toString(round(D, 2)), \"abd68\")), \"5cbd55641fa39895e3ad4554473a4842\"))\n",
    "stopifnot(\"length of D is not correct\"= setequal(digest(paste(toString(length(D)), \"abd68\")), \"08ce8e77200215b5a261c2dcf90624c3\"))\n",
    "stopifnot(\"values of D are not correct\"= setequal(digest(paste(toString(sort(round(D, 2))), \"abd68\")), \"5cbd55641fa39895e3ad4554473a4842\"))\n",
    "\n",
    "stopifnot(\"type of E is not numeric\"= setequal(digest(paste(toString(class(E)), \"abd69\")), \"ead57bed3a10dfc088d1eac026f36c00\"))\n",
    "stopifnot(\"value of E is not correct (rounded to 2 decimal places)\"= setequal(digest(paste(toString(round(E, 2)), \"abd69\")), \"fbad96619fee0e06407e5d8e716c5ec5\"))\n",
    "stopifnot(\"length of E is not correct\"= setequal(digest(paste(toString(length(E)), \"abd69\")), \"006f7716e773009dca546896dc55ec60\"))\n",
    "stopifnot(\"values of E are not correct\"= setequal(digest(paste(toString(sort(round(E, 2))), \"abd69\")), \"fbad96619fee0e06407e5d8e716c5ec5\"))\n",
    "\n",
    "print('Success!')"
   ]
  },
  {
   "cell_type": "markdown",
   "metadata": {
    "deletable": false,
    "editable": false,
    "nbgrader": {
     "cell_type": "markdown",
     "checksum": "49022afa8ea44b4ad8918cdf1e442d1d",
     "grade": false,
     "grade_id": "cell-5596109d0e6be6f8",
     "locked": true,
     "schema_version": 3,
     "solution": false,
     "task": false
    }
   },
   "source": [
    "## 2. Argument Modifications to Read Data\n",
    "Reading files is one of the first steps to wrangling data and consequently `read_csv` is a crucial function. However, despite how effortlessly it has worked so far, it has its limitations. `read_csv` works with particular files and does not accept differing formats. \n",
    "\n",
    "Not all data sets come as perfectly organized like the ones you worked with last week. Time and effort were put into ensuring that the files were arranged with headers, columns were separated by commas, and the beginning excluded metadata. \n",
    "\n",
    "Now that you understand how to read files located outside (or inside) of your working directory, you can begin to learn the tips and tricks necessary to overcoming the setbacks of `read_csv`. "
   ]
  },
  {
   "cell_type": "code",
   "execution_count": null,
   "metadata": {},
   "outputs": [],
   "source": [
    "### Run this cell to learn more about the arguments used in read_csv\n",
    "### Reading over the help file will assist with the next question. \n",
    "\n",
    "?read_csv"
   ]
  },
  {
   "cell_type": "markdown",
   "metadata": {
    "deletable": false,
    "editable": false,
    "nbgrader": {
     "cell_type": "markdown",
     "checksum": "7bf6b68d831dea31eabb9098afa4f627",
     "grade": false,
     "grade_id": "cell-d827ca1d36fb14e0",
     "locked": true,
     "schema_version": 3,
     "solution": false
    }
   },
   "source": [
    "**Question 2.1** \n",
    "<br> {points: 1}\n",
    "\n",
    "Match the following descriptions with the corresponding arguments used in `read_csv`:\n",
    "\n",
    "*Descriptions*\n",
    "\n",
    "G. Character that separates columns in your file. \n",
    "\n",
    "H. Specifies whether or not the first row of data in your file are column labels. Also allows you to create a vector that can be used to label columns. \n",
    "\n",
    "I. This is the file name, path to a file, or URL. \n",
    "\n",
    "J. Specifies the number of lines which must be ignored because they contain metadata. \n",
    "\n",
    "\n",
    "*Arguments*\n",
    "\n",
    "1. `file`\n",
    "2. `delim`\n",
    "3. `col_names`\n",
    "4. `skip`\n",
    "\n",
    "For every description, create an object using the letter associated with the description and assign it the corresponding number from the list of functions. For example: `G <- 1`"
   ]
  },
  {
   "cell_type": "code",
   "execution_count": null,
   "metadata": {
    "deletable": false,
    "nbgrader": {
     "cell_type": "code",
     "checksum": "0005bca8091135afd37cf473f65cc4c3",
     "grade": false,
     "grade_id": "cell-bbc885297c410cb2",
     "locked": false,
     "schema_version": 3,
     "solution": true
    }
   },
   "outputs": [],
   "source": [
    "# Replace the fail() with your answer. \n",
    "\n",
    "# your code here\n",
    "fail() # No Answer - remove if you provide an answer"
   ]
  },
  {
   "cell_type": "code",
   "execution_count": null,
   "metadata": {
    "deletable": false,
    "editable": false,
    "nbgrader": {
     "cell_type": "code",
     "checksum": "23544ba561ad83f49d87716a60cd637f",
     "grade": true,
     "grade_id": "cell-50ce2f054a8c009a",
     "locked": true,
     "points": 1,
     "schema_version": 3,
     "solution": false
    }
   },
   "outputs": [],
   "source": [
    "library(digest)\n",
    "stopifnot(\"type of G is not numeric\"= setequal(digest(paste(toString(class(G)), \"b5d7d\")), \"a0281630a3b16943e87d5c6c5d2b63ee\"))\n",
    "stopifnot(\"value of G is not correct (rounded to 2 decimal places)\"= setequal(digest(paste(toString(round(G, 2)), \"b5d7d\")), \"e658fb20a19c9ea83142e0b24e042d8a\"))\n",
    "stopifnot(\"length of G is not correct\"= setequal(digest(paste(toString(length(G)), \"b5d7d\")), \"da674548c108a1543fb9567a98f2d6cb\"))\n",
    "stopifnot(\"values of G are not correct\"= setequal(digest(paste(toString(sort(round(G, 2))), \"b5d7d\")), \"e658fb20a19c9ea83142e0b24e042d8a\"))\n",
    "\n",
    "stopifnot(\"type of H is not numeric\"= setequal(digest(paste(toString(class(H)), \"b5d7e\")), \"d9df3c837972cdc65cbc4c9c1951c557\"))\n",
    "stopifnot(\"value of H is not correct (rounded to 2 decimal places)\"= setequal(digest(paste(toString(round(H, 2)), \"b5d7e\")), \"6887cc11e017988337554be9bf31df68\"))\n",
    "stopifnot(\"length of H is not correct\"= setequal(digest(paste(toString(length(H)), \"b5d7e\")), \"1ae4c664f99e84a581569665db6c9cf5\"))\n",
    "stopifnot(\"values of H are not correct\"= setequal(digest(paste(toString(sort(round(H, 2))), \"b5d7e\")), \"6887cc11e017988337554be9bf31df68\"))\n",
    "\n",
    "stopifnot(\"type of I is not numeric\"= setequal(digest(paste(toString(class(I)), \"b5d7f\")), \"d073adf43177f74ad0c00a5b2bac5f9f\"))\n",
    "stopifnot(\"value of I is not correct (rounded to 2 decimal places)\"= setequal(digest(paste(toString(round(I, 2)), \"b5d7f\")), \"a6b4472dfca7df02f14244ad922ea86e\"))\n",
    "stopifnot(\"length of I is not correct\"= setequal(digest(paste(toString(length(I)), \"b5d7f\")), \"a6b4472dfca7df02f14244ad922ea86e\"))\n",
    "stopifnot(\"values of I are not correct\"= setequal(digest(paste(toString(sort(round(I, 2))), \"b5d7f\")), \"a6b4472dfca7df02f14244ad922ea86e\"))\n",
    "\n",
    "stopifnot(\"type of J is not numeric\"= setequal(digest(paste(toString(class(J)), \"b5d80\")), \"3528a0d45544ac4c06a218695caf6b4a\"))\n",
    "stopifnot(\"value of J is not correct (rounded to 2 decimal places)\"= setequal(digest(paste(toString(round(J, 2)), \"b5d80\")), \"34a349c09fabbcf1dc981f812ac4e3bc\"))\n",
    "stopifnot(\"length of J is not correct\"= setequal(digest(paste(toString(length(J)), \"b5d80\")), \"2a53081765da1fa69635a09c6fe65c8d\"))\n",
    "stopifnot(\"values of J are not correct\"= setequal(digest(paste(toString(sort(round(J, 2))), \"b5d80\")), \"34a349c09fabbcf1dc981f812ac4e3bc\"))\n",
    "\n",
    "print('Success!')"
   ]
  },
  {
   "cell_type": "markdown",
   "metadata": {
    "deletable": false,
    "editable": false,
    "nbgrader": {
     "cell_type": "markdown",
     "checksum": "f642bc2821bea60c1dfbebc29088b8c8",
     "grade": false,
     "grade_id": "cell-5b3f94746c785534",
     "locked": true,
     "schema_version": 3,
     "solution": false
    }
   },
   "source": [
    "**Question 2.2** True or False:\n",
    "<br> {points: 1}\n",
    "\n",
    "`read_csv2` and `read_delim` can both be used for reading files that have columns separated by `;`. \n",
    "\n",
    "*Assign your answer to an object called `answer2.2`. Make sure your answer is in lowercase and is surrounded by quotation marks (e.g. `\"true\"` or `\"false\"`).*"
   ]
  },
  {
   "cell_type": "code",
   "execution_count": null,
   "metadata": {
    "deletable": false,
    "nbgrader": {
     "cell_type": "code",
     "checksum": "af005ea250f7b2271456f40533eb4c3d",
     "grade": false,
     "grade_id": "cell-a35b96936f6bb761",
     "locked": false,
     "schema_version": 3,
     "solution": true
    }
   },
   "outputs": [],
   "source": [
    "# Replace the fail() with your answer. \n",
    "\n",
    "# your code here\n",
    "fail() # No Answer - remove if you provide an answer"
   ]
  },
  {
   "cell_type": "code",
   "execution_count": null,
   "metadata": {
    "deletable": false,
    "editable": false,
    "nbgrader": {
     "cell_type": "code",
     "checksum": "0db5f1559d75e04d87657b58ebdee7e1",
     "grade": true,
     "grade_id": "cell-7e29230345864f5d",
     "locked": true,
     "points": 1,
     "schema_version": 3,
     "solution": false
    }
   },
   "outputs": [],
   "source": [
    "library(digest)\n",
    "stopifnot(\"type of answer2.2 is not character\"= setequal(digest(paste(toString(class(answer2.2)), \"6f24c\")), \"0d2245845029bf5a226d6f50756a368d\"))\n",
    "stopifnot(\"length of answer2.2 is not correct\"= setequal(digest(paste(toString(length(answer2.2)), \"6f24c\")), \"b9ca111973f00e4e5746ee05916fd160\"))\n",
    "stopifnot(\"value of answer2.2 is not correct\"= setequal(digest(paste(toString(tolower(answer2.2)), \"6f24c\")), \"5604ee8807f216487ac950dd7dbeefc5\"))\n",
    "stopifnot(\"letters in string value of answer2.2 are correct but case is not correct\"= setequal(digest(paste(toString(answer2.2), \"6f24c\")), \"5604ee8807f216487ac950dd7dbeefc5\"))\n",
    "\n",
    "print('Success!')"
   ]
  },
  {
   "cell_type": "markdown",
   "metadata": {
    "deletable": false,
    "editable": false,
    "nbgrader": {
     "cell_type": "markdown",
     "checksum": "a1c854d2531ec903a94f68dcc70b79e4",
     "grade": false,
     "grade_id": "cell-4750064840f67738",
     "locked": true,
     "schema_version": 3,
     "solution": false
    }
   },
   "source": [
    "**Question 2.3** Multiple Choice: \n",
    "<br> {points: 1}\n",
    "\n",
    "`read_tsv` can be used for files that have columns separated by which of the following:\n",
    "\n",
    "A. letters\n",
    "\n",
    "B. tabs\n",
    "\n",
    "C. numbers\n",
    "\n",
    "D. commas \n",
    "\n",
    "*Assign your answer to an object called `answer2.3`. Make sure your answer is an uppercase letter and is surrounded by quotation marks (e.g. `\"F\"`).* "
   ]
  },
  {
   "cell_type": "code",
   "execution_count": null,
   "metadata": {
    "deletable": false,
    "nbgrader": {
     "cell_type": "code",
     "checksum": "f514c5c65c7b2187fc76a6b73796d2c5",
     "grade": false,
     "grade_id": "cell-518590cd5df1f1b7",
     "locked": false,
     "schema_version": 3,
     "solution": true
    }
   },
   "outputs": [],
   "source": [
    "# Replace the fail() with your answer. \n",
    "\n",
    "# your code here\n",
    "fail() # No Answer - remove if you provide an answer"
   ]
  },
  {
   "cell_type": "code",
   "execution_count": null,
   "metadata": {
    "deletable": false,
    "editable": false,
    "nbgrader": {
     "cell_type": "code",
     "checksum": "0b999a552f356c08c7a70a63cd03681e",
     "grade": true,
     "grade_id": "cell-8dfe160165696251",
     "locked": true,
     "points": 1,
     "schema_version": 3,
     "solution": false
    }
   },
   "outputs": [],
   "source": [
    "library(digest)\n",
    "stopifnot(\"type of answer2.3 is not character\"= setequal(digest(paste(toString(class(answer2.3)), \"a13b3\")), \"1c97cbd290b7b23cfa31848e2b068018\"))\n",
    "stopifnot(\"length of answer2.3 is not correct\"= setequal(digest(paste(toString(length(answer2.3)), \"a13b3\")), \"0188653f6748c59a04bfe9e7241f847c\"))\n",
    "stopifnot(\"value of answer2.3 is not correct\"= setequal(digest(paste(toString(tolower(answer2.3)), \"a13b3\")), \"f8b9a2d8bd4e6d34050cc8f83407bb36\"))\n",
    "stopifnot(\"letters in string value of answer2.3 are correct but case is not correct\"= setequal(digest(paste(toString(answer2.3), \"a13b3\")), \"690a48880c96f8f620a9ebdfc170d0ec\"))\n",
    "\n",
    "print('Success!')"
   ]
  },
  {
   "cell_type": "markdown",
   "metadata": {
    "deletable": false,
    "editable": false,
    "nbgrader": {
     "cell_type": "markdown",
     "checksum": "d60049ec90167aa2aa5de878c1963d84",
     "grade": false,
     "grade_id": "cell-ba92ca46de3933fe",
     "locked": true,
     "schema_version": 3,
     "solution": false
    }
   },
   "source": [
    "## 3. Happiness Report (2017)\n",
    "This data was taken from [Kaggle](https://www.kaggle.com/unsdsn/world-happiness) and ranks countries on happiness based on rationalized factors like economic growth, social support, etc. The data was released by the United Nations at an event celebrating International Day of Happiness.  According to the website, the file contains the following information:\n",
    "\n",
    "* Country = Name of the country.\n",
    "* Region = Region the country belongs to.\n",
    "* Happiness Rank = Rank of the country based on the Happiness Score.\n",
    "* Happiness Score = A metric measured by asking the sampled people the question: \"How would you rate your happiness on a scale of 0 to 10 where 10 is the happiest?\"\n",
    "* Standard Error = The standard error of the happiness score.\n",
    "* Economy (GDP per Capita) = The extent to which GDP contributes to the calculation of the Happiness Score.\n",
    "* Family = The extent to which Family contributes to the calculation of the Happiness Score.\n",
    "* Health (Life Expectancy) = The extent to which Life expectancy contributed to the calculation of the Happiness Score.\n",
    "* Freedom = The extent to which Freedom contributed to the calculation of the Happiness Score.\n",
    "* Trust (Government Corruption) = The extent to which Perception of Corruption contributes to Happiness Score.\n",
    "* Generosity = The extent to which Generosity contributed to the calculation of the Happiness Score.\n",
    "* Dystopia Residual = The extent to which Dystopia Residual contributed to the calculation of the Happiness Score.\n",
    "\n",
    "To clean up the file and make it easier to read, we only kept the country name, happiness score, economy (GDP per capita), life expectancy, and freedom. The happiness scores and rankings use data from the Gallup World Poll, which surveys citizens in countries from around the world.\n",
    "\n",
    "Kaggle stores this information but it is compiled by the *Sustainable Development Solutions Network*. They survey these factors nearly every year (since 2012) and allow global comparisons to optimize political decision making. These landmark surveys are highly recognized and allow countries to learn and grow from one another. One day, they will provide a historical insight on the nature of our time.  "
   ]
  },
  {
   "cell_type": "markdown",
   "metadata": {
    "deletable": false,
    "editable": false,
    "nbgrader": {
     "cell_type": "markdown",
     "checksum": "9c34a06becfee66483f1d433859a15f0",
     "grade": false,
     "grade_id": "cell-4f9336c659cb50f6",
     "locked": true,
     "schema_version": 3,
     "solution": false
    }
   },
   "source": [
    "**Question 3.1** Fill in the Blank: \n",
    "<br> {points: 1}\n",
    "\n",
    "Trust is the extent to which \\_\\_\\_\\_\\_\\_\\_\\_\\_\\_\\_\\_\\_\\_\\_ contributes to Happiness Score. \n",
    "\n",
    "A. Corruption \n",
    "\n",
    "B. Government Intervention \n",
    "\n",
    "C. Perception of Corruption  \n",
    "\n",
    "D. Tax Money Designation \n",
    "\n",
    "*Assign your answer to an object called `answer3.1`. Make sure your answer is an uppercase letter and is surrounded by quotation marks (e.g. `\"F\"`).* "
   ]
  },
  {
   "cell_type": "code",
   "execution_count": null,
   "metadata": {
    "deletable": false,
    "nbgrader": {
     "cell_type": "code",
     "checksum": "c7d5008f613469e887506c804a4ff0ed",
     "grade": false,
     "grade_id": "cell-b4e3e33488ef32b7",
     "locked": false,
     "schema_version": 3,
     "solution": true
    }
   },
   "outputs": [],
   "source": [
    "# Replace the fail() with your answer. \n",
    "\n",
    "# your code here\n",
    "fail() # No Answer - remove if you provide an answer"
   ]
  },
  {
   "cell_type": "code",
   "execution_count": null,
   "metadata": {
    "deletable": false,
    "editable": false,
    "nbgrader": {
     "cell_type": "code",
     "checksum": "e9e742bb4cf9412f04e960740d22d723",
     "grade": true,
     "grade_id": "cell-56c422da7266129b",
     "locked": true,
     "points": 1,
     "schema_version": 3,
     "solution": false
    }
   },
   "outputs": [],
   "source": [
    "library(digest)\n",
    "stopifnot(\"type of answer3.1 is not character\"= setequal(digest(paste(toString(class(answer3.1)), \"dbffb\")), \"888631f3215ae45cd596aa5aeb8e4b6d\"))\n",
    "stopifnot(\"length of answer3.1 is not correct\"= setequal(digest(paste(toString(length(answer3.1)), \"dbffb\")), \"f2e6a118b286b04a60b28f19ec374d29\"))\n",
    "stopifnot(\"value of answer3.1 is not correct\"= setequal(digest(paste(toString(tolower(answer3.1)), \"dbffb\")), \"6ba5595b52944dfd15e99b478a759bf4\"))\n",
    "stopifnot(\"letters in string value of answer3.1 are correct but case is not correct\"= setequal(digest(paste(toString(answer3.1), \"dbffb\")), \"76ed1fd7143f3fccdb6075edddd91ca6\"))\n",
    "\n",
    "print('Success!')"
   ]
  },
  {
   "cell_type": "markdown",
   "metadata": {
    "deletable": false,
    "editable": false,
    "nbgrader": {
     "cell_type": "markdown",
     "checksum": "de4d00af95cf70767d71b53b8ab10c7c",
     "grade": false,
     "grade_id": "cell-783457361cf6c5df",
     "locked": true,
     "schema_version": 3,
     "solution": false
    }
   },
   "source": [
    "**Question 3.2** Multiple Choice: \n",
    "<br> {points: 1}\n",
    "\n",
    "What is the happiness report?\n",
    "\n",
    "A. Study conducted by the governments of multiple countries. \n",
    "\n",
    "B. Independent survey of citizens from multiple countries.\n",
    "\n",
    "C. Study conducted by the UN. \n",
    "\n",
    "D. Survey given to international students by UBC's psychology department. \n",
    "\n",
    "*Assign your answer to an object called `answer3.2`. Make sure your answer is an uppercase letter and is surrounded by quotation marks (e.g. `\"F\"`).* "
   ]
  },
  {
   "cell_type": "code",
   "execution_count": null,
   "metadata": {
    "deletable": false,
    "nbgrader": {
     "cell_type": "code",
     "checksum": "2b77ae034a4bb74dc48b8da85540f977",
     "grade": false,
     "grade_id": "cell-f11d6a9fb2cb9712",
     "locked": false,
     "schema_version": 3,
     "solution": true
    }
   },
   "outputs": [],
   "source": [
    "# Replace the fail() with your answer. \n",
    "\n",
    "# your code here\n",
    "fail() # No Answer - remove if you provide an answer"
   ]
  },
  {
   "cell_type": "code",
   "execution_count": null,
   "metadata": {
    "deletable": false,
    "editable": false,
    "nbgrader": {
     "cell_type": "code",
     "checksum": "03b68f39109b48021febedf38b5fc721",
     "grade": true,
     "grade_id": "cell-7566d4f3f306ca1c",
     "locked": true,
     "points": 1,
     "schema_version": 3,
     "solution": false
    }
   },
   "outputs": [],
   "source": [
    "library(digest)\n",
    "stopifnot(\"type of answer3.2 is not character\"= setequal(digest(paste(toString(class(answer3.2)), \"62a43\")), \"edb9f43fe4d1dadb1aa6013686cade01\"))\n",
    "stopifnot(\"length of answer3.2 is not correct\"= setequal(digest(paste(toString(length(answer3.2)), \"62a43\")), \"9e1075ab9c938480c4b674a9e7744f09\"))\n",
    "stopifnot(\"value of answer3.2 is not correct\"= setequal(digest(paste(toString(tolower(answer3.2)), \"62a43\")), \"149ed6a86dbc9cc6b9b58a6fccaa63f0\"))\n",
    "stopifnot(\"letters in string value of answer3.2 are correct but case is not correct\"= setequal(digest(paste(toString(answer3.2), \"62a43\")), \"c48cd2aca2b4ade4e3f68ff9e1d44f16\"))\n",
    "\n",
    "print('Success!')"
   ]
  },
  {
   "cell_type": "markdown",
   "metadata": {
    "deletable": false,
    "editable": false,
    "nbgrader": {
     "cell_type": "markdown",
     "checksum": "41924492692fd7b8d246e9161c0e40f5",
     "grade": false,
     "grade_id": "cell-9f8a4bdfe511f79b",
     "locked": true,
     "schema_version": 3,
     "solution": false
    }
   },
   "source": [
    "**Question 3.3** Fill in the Blanks (of the Table):\n",
    "<br> {points: 1}\n",
    "\n",
    "It is often a good idea to try to \"inspect\" your data to see what it looks like before trying to load it into R. This will help you figure out the right function to call and what arguments to use. When your data are stored as plain text, you can do this easily with Jupyter (or any text editor). \n",
    "\n",
    "Open all the files named `happiness_report...` in the `data` folder with the plain text editor in your working directory (the `worksheet_02` directory) using Jupyter (**Right click the file -> Open With -> Editor**). This will allow you to visualize the files and the organization of your data. Based on your findings, fill in the missing items in the table below. This table will be very useful to refer back to in the coming weeks. \n",
    "\n",
    "*You'll notice that trying to open one of the files gives you an error (`File Load Error ... is not UTF-8 encoded`). This means that this data is not stored as human-readable plain text. For this special file, just fill in the* `read_*` *function entry, the other columns will be left blank.*"
   ]
  },
  {
   "cell_type": "markdown",
   "metadata": {
    "deletable": false,
    "editable": false,
    "nbgrader": {
     "cell_type": "markdown",
     "checksum": "19badd3b0b5359a6a78472e00127f0c8",
     "grade": false,
     "grade_id": "cell-1935595960d193a5",
     "locked": true,
     "schema_version": 3,
     "solution": false,
     "task": false
    }
   },
   "source": [
    "|File Name                       | delim      | Header | Metadata | skip               | read_*   |\n",
    "|--------------------------------|------------|--------|----------|--------------------|----------|\n",
    "|`_.csv`                         |`\";\"`, `\",\"`, `\"\\\"`, or `\"tab\"`|`\"yes\"`or `\"no\"`|`\"yes\"`or `\"no\"`|`NA` or # of lines|`read_*`|\n",
    "|`happiness_report.csv`          |,           |**A**     |no        |`NA`                  |`read_csv`  |\n",
    "|`happiness_report_semicolon.csv`|;           |yes     |no        |`NA`                  |**B** |\n",
    "|`happiness_report.tsv`          |**C**         |yes     |no        |`NA`                  |`read_tsv`  |\n",
    "|`happiness_report_metadata.csv` |,           |yes     |**D**       |2                   |`read_csv`  |\n",
    "|`happiness_report_no_header.csv`|,           |**E**      |no      |`NA`                  |`read_csv`  |\n",
    "|`happiness_report.xlsx`         |            |        |          |                    |**F**|\n",
    "\n",
    "For the missing items (labelled A to F) in the table above, create an object using the letter and assign it the corresponding missing value.\n",
    "\n",
    "For example: `A <- \"yes\"`. The possible options for each column are given in the first row of the table. "
   ]
  },
  {
   "cell_type": "code",
   "execution_count": null,
   "metadata": {
    "deletable": false,
    "nbgrader": {
     "cell_type": "code",
     "checksum": "3a3b6ef10d4a96a74b7d9626b1c94e88",
     "grade": false,
     "grade_id": "cell-3b30ff40fa20980c",
     "locked": false,
     "schema_version": 3,
     "solution": true,
     "task": false
    }
   },
   "outputs": [],
   "source": [
    "# Replace the fail() with your answer. \n",
    "\n",
    "# your code here\n",
    "fail() # No Answer - remove if you provide an answer"
   ]
  },
  {
   "cell_type": "code",
   "execution_count": null,
   "metadata": {
    "deletable": false,
    "editable": false,
    "nbgrader": {
     "cell_type": "code",
     "checksum": "a4e086d1bbdafb43ca21387d2bd1fe57",
     "grade": true,
     "grade_id": "cell-7078427e58de2889",
     "locked": true,
     "points": 1,
     "schema_version": 3,
     "solution": false,
     "task": false
    }
   },
   "outputs": [],
   "source": [
    "library(digest)\n",
    "stopifnot(\"type of A is not character\"= setequal(digest(paste(toString(class(A)), \"def77\")), \"378c9f2cdde703315dd2d3e22ae4a9b4\"))\n",
    "stopifnot(\"length of A is not correct\"= setequal(digest(paste(toString(length(A)), \"def77\")), \"650f911bc08409ed5dd68ad2edecf0ef\"))\n",
    "stopifnot(\"value of A is not correct\"= setequal(digest(paste(toString(tolower(A)), \"def77\")), \"508cc2c6c3051e37bc4f5eab2e2d58d0\"))\n",
    "stopifnot(\"letters in string value of A are correct but case is not correct\"= setequal(digest(paste(toString(A), \"def77\")), \"508cc2c6c3051e37bc4f5eab2e2d58d0\"))\n",
    "\n",
    "stopifnot(\"type of B is not character\"= setequal(digest(paste(toString(class(B)), \"def78\")), \"9f82b92d004d715dd38c5194e712f88b\"))\n",
    "stopifnot(\"length of B is not correct\"= setequal(digest(paste(toString(length(B)), \"def78\")), \"320e9525e55a9c8c766ccb0a4c7a4f63\"))\n",
    "stopifnot(\"value of B is not correct\"= setequal(digest(paste(toString(tolower(B)), \"def78\")), \"0b83ef2f0abf5cb6e9cb0fde052c94e6\"))\n",
    "stopifnot(\"letters in string value of B are correct but case is not correct\"= setequal(digest(paste(toString(B), \"def78\")), \"0b83ef2f0abf5cb6e9cb0fde052c94e6\"))\n",
    "\n",
    "stopifnot(\"type of C is not character\"= setequal(digest(paste(toString(class(C)), \"def79\")), \"a20a51f7bb7c2de9e52a6d8e2c2bf888\"))\n",
    "stopifnot(\"length of C is not correct\"= setequal(digest(paste(toString(length(C)), \"def79\")), \"db4183fea077cc5d40f8c41eb3612696\"))\n",
    "stopifnot(\"value of C is not correct\"= setequal(digest(paste(toString(tolower(C)), \"def79\")), \"57479baa4c96c855c6e8e6154aad98fc\"))\n",
    "stopifnot(\"letters in string value of C are correct but case is not correct\"= setequal(digest(paste(toString(C), \"def79\")), \"57479baa4c96c855c6e8e6154aad98fc\"))\n",
    "\n",
    "stopifnot(\"type of D is not character\"= setequal(digest(paste(toString(class(D)), \"def7a\")), \"4f6a40d588fa2c3e15e954b22dd84fa5\"))\n",
    "stopifnot(\"length of D is not correct\"= setequal(digest(paste(toString(length(D)), \"def7a\")), \"d5a77fb1675dd24d7d55c51a42239acc\"))\n",
    "stopifnot(\"value of D is not correct\"= setequal(digest(paste(toString(tolower(D)), \"def7a\")), \"769f8bf648108482b80ec36b577a2e66\"))\n",
    "stopifnot(\"letters in string value of D are correct but case is not correct\"= setequal(digest(paste(toString(D), \"def7a\")), \"769f8bf648108482b80ec36b577a2e66\"))\n",
    "\n",
    "stopifnot(\"type of E is not character\"= setequal(digest(paste(toString(class(E)), \"def7b\")), \"7929cf68901516e6d747671897e82266\"))\n",
    "stopifnot(\"length of E is not correct\"= setequal(digest(paste(toString(length(E)), \"def7b\")), \"bb0275fe02b9b3152592dda166c23793\"))\n",
    "stopifnot(\"value of E is not correct\"= setequal(digest(paste(toString(tolower(E)), \"def7b\")), \"72c27ea3625f2fbf5f053192e11e8572\"))\n",
    "stopifnot(\"letters in string value of E are correct but case is not correct\"= setequal(digest(paste(toString(E), \"def7b\")), \"72c27ea3625f2fbf5f053192e11e8572\"))\n",
    "\n",
    "stopifnot(\"type of F is not character\"= setequal(digest(paste(toString(class(F)), \"def7c\")), \"0cf40aee45db876bb82810df89cd2bd2\"))\n",
    "stopifnot(\"length of F is not correct\"= setequal(digest(paste(toString(length(F)), \"def7c\")), \"c62402a71eaa0e0bfe3d8188873c99c3\"))\n",
    "stopifnot(\"value of F is not correct\"= setequal(digest(paste(toString(tolower(F)), \"def7c\")), \"37ea117d45d50ab6353433b3ba3e28ee\"))\n",
    "stopifnot(\"letters in string value of F are correct but case is not correct\"= setequal(digest(paste(toString(F), \"def7c\")), \"37ea117d45d50ab6353433b3ba3e28ee\"))\n",
    "\n",
    "print('Success!')"
   ]
  },
  {
   "cell_type": "markdown",
   "metadata": {
    "deletable": false,
    "editable": false,
    "nbgrader": {
     "cell_type": "markdown",
     "checksum": "28d9642b617c8063133d9ef5c7b3d442",
     "grade": false,
     "grade_id": "cell-d034da5aced69138",
     "locked": true,
     "schema_version": 3,
     "solution": false
    }
   },
   "source": [
    "**Question 3.4** \n",
    "<br> {points: 1}\n",
    "\n",
    "Read the file `happiness_report.csv` in the `data` folder using the shortest relative path. **Hint:** preview the data using Jupyter (as discussed above) so you know which `read_*` function and arguments to use.\n",
    "\n",
    "*Assign the relative path (the string) to an object named* `happiness_report_path`, *and assign the output of the correct* `read_*` *function you call to an object named* `happiness_report`. "
   ]
  },
  {
   "cell_type": "code",
   "execution_count": null,
   "metadata": {
    "deletable": false,
    "nbgrader": {
     "cell_type": "code",
     "checksum": "5535290e89b2ebd21b157f8e17706ec0",
     "grade": false,
     "grade_id": "cell-9637860c62acbf70",
     "locked": false,
     "schema_version": 3,
     "solution": true
    }
   },
   "outputs": [],
   "source": [
    "# happiness_report_path <- \"...\"\n",
    "# ... <- ...(file = happiness_report_path)\n",
    "\n",
    "# your code here\n",
    "fail() # No Answer - remove if you provide an answer\n",
    "print(happiness_report, n = 10) # the n = 10 argument tells R to print 10 lines "
   ]
  },
  {
   "cell_type": "code",
   "execution_count": null,
   "metadata": {
    "deletable": false,
    "editable": false,
    "nbgrader": {
     "cell_type": "code",
     "checksum": "2ddd3928cbba4a0cc2517170af127481",
     "grade": true,
     "grade_id": "cell-3488c6479abcf3d4",
     "locked": true,
     "points": 1,
     "schema_version": 3,
     "solution": false
    }
   },
   "outputs": [],
   "source": [
    "library(digest)\n",
    "stopifnot(\"happiness_report should be a data frame\"= setequal(digest(paste(toString('data.frame' %in% class(happiness_report)), \"47851\")), \"886e490f9b7190cfabc6262c00f697dc\"))\n",
    "stopifnot(\"dimensions of happiness_report are not correct\"= setequal(digest(paste(toString(dim(happiness_report)), \"47851\")), \"8a28e68beda401991bef3c864f870ce9\"))\n",
    "stopifnot(\"column names of happiness_report are not correct\"= setequal(digest(paste(toString(sort(colnames(happiness_report))), \"47851\")), \"1a32826baa1d8ff2df2630c528663727\"))\n",
    "stopifnot(\"types of columns in happiness_report are not correct\"= setequal(digest(paste(toString(sort(unlist(sapply(happiness_report, class)))), \"47851\")), \"8e1ed09a25558d7d2dd37b48cc2b6ccf\"))\n",
    "stopifnot(\"values in one or more numerical columns in happiness_report are not correct\"= setequal(digest(paste(toString(if (any(sapply(happiness_report, is.numeric))) sort(round(sapply(happiness_report[, sapply(happiness_report, is.numeric)], sum, na.rm = TRUE), 2)) else 0), \"47851\")), \"747e82ad9f4a728733bb26df76d580f3\"))\n",
    "stopifnot(\"values in one or more character columns in happiness_report are not correct\"= setequal(digest(paste(toString(if (any(sapply(happiness_report, is.character))) sum(sapply(happiness_report[sapply(happiness_report, is.character)], function(x) length(unique(x)))) else 0), \"47851\")), \"f88c0f99fe3411f1d9b5786577dda77e\"))\n",
    "stopifnot(\"values in one or more factor columns in happiness_report are not correct\"= setequal(digest(paste(toString(if (any(sapply(happiness_report, is.factor))) sum(sapply(happiness_report[, sapply(happiness_report, is.factor)], function(col) length(unique(col)))) else 0), \"47851\")), \"4139d9016b589e4ed3de7ff431de30f5\"))\n",
    "\n",
    "print('Success!')"
   ]
  },
  {
   "cell_type": "markdown",
   "metadata": {
    "deletable": false,
    "editable": false,
    "nbgrader": {
     "cell_type": "markdown",
     "checksum": "57467cbc4b566f8c8a121915df112427",
     "grade": false,
     "grade_id": "cell-0e8db9c50093cc95",
     "locked": true,
     "schema_version": 3,
     "solution": false
    }
   },
   "source": [
    "**Question 3.5** Multiple Choice:\n",
    "<br> {points: 1}\n",
    "\n",
    "If Norway is in \"first place\" based on the happiness score, at what position is Canada?\n",
    "\n",
    "A. 3rd\n",
    "\n",
    "B. 15th\n",
    "\n",
    "C. 7th\n",
    "\n",
    "D. 28th\n",
    "\n",
    "*Hint: create a new cell and run `happiness_report`.* \n",
    "\n",
    "*Assign your answer to an object called `answer3.5`. Make sure your answer is an uppercase letter and is surrounded by quotation marks (e.g. `\"F\"`).* "
   ]
  },
  {
   "cell_type": "code",
   "execution_count": null,
   "metadata": {
    "deletable": false,
    "nbgrader": {
     "cell_type": "code",
     "checksum": "e3c793eda1325d9ea1cd290a11997fef",
     "grade": false,
     "grade_id": "cell-9528400a7684ff70",
     "locked": false,
     "schema_version": 3,
     "solution": true
    }
   },
   "outputs": [],
   "source": [
    "# Replace the fail() with your answer. \n",
    "\n",
    "# your code here\n",
    "fail() # No Answer - remove if you provide an answer"
   ]
  },
  {
   "cell_type": "code",
   "execution_count": null,
   "metadata": {
    "deletable": false,
    "editable": false,
    "nbgrader": {
     "cell_type": "code",
     "checksum": "27917891de59339230369432542d52f3",
     "grade": true,
     "grade_id": "cell-3876f08146bbc9ff",
     "locked": true,
     "points": 1,
     "schema_version": 3,
     "solution": false
    }
   },
   "outputs": [],
   "source": [
    "library(digest)\n",
    "stopifnot(\"type of answer3.5 is not character\"= setequal(digest(paste(toString(class(answer3.5)), \"10b85\")), \"da9f36c8b8804a3535c992a297ceecd2\"))\n",
    "stopifnot(\"length of answer3.5 is not correct\"= setequal(digest(paste(toString(length(answer3.5)), \"10b85\")), \"db88816ce918e20df28aae1cad20d5b8\"))\n",
    "stopifnot(\"value of answer3.5 is not correct\"= setequal(digest(paste(toString(tolower(answer3.5)), \"10b85\")), \"9a20643ecc83d963911b91ed565189aa\"))\n",
    "stopifnot(\"letters in string value of answer3.5 are correct but case is not correct\"= setequal(digest(paste(toString(answer3.5), \"10b85\")), \"e645111a9e40c923df913a10fa6a5779\"))\n",
    "\n",
    "print('Success!')"
   ]
  },
  {
   "cell_type": "markdown",
   "metadata": {
    "deletable": false,
    "editable": false,
    "nbgrader": {
     "cell_type": "markdown",
     "checksum": "5071fe81b3947759d4613b4cd7b1a788",
     "grade": false,
     "grade_id": "cell-ef3eb28b4bd11d8e",
     "locked": true,
     "schema_version": 3,
     "solution": false
    }
   },
   "source": [
    "**Question 3.6.1**\n",
    "<br> {points: 1}\n",
    "\n",
    "For each question in the ranges 3.6.1 to 3.6.5 and 3.7.1 to 3.7.2, fill in the `...` in the code given. Replace `fail()` with your finished answer. Refer to your table above and don't be afraid to ask for help. Remember you can use `?` help operator to access documentation for a function (e.g. `?read_csv`).\n",
    "\n",
    "Read in the file `happiness_report_semicolon.csv` using `read_delim` and name it `happy_semi_df`"
   ]
  },
  {
   "cell_type": "code",
   "execution_count": null,
   "metadata": {
    "deletable": false,
    "nbgrader": {
     "cell_type": "code",
     "checksum": "8f2fe8e70b0164014fe71581998e9add",
     "grade": false,
     "grade_id": "cell-1a59d2fec3747ff0",
     "locked": false,
     "schema_version": 3,
     "solution": true
    }
   },
   "outputs": [],
   "source": [
    "#... <- read_delim(file = \"data/...\", delim = \"...\")\n",
    "\n",
    "# your code here\n",
    "fail() # No Answer - remove if you provide an answer\n",
    "happy_semi_df"
   ]
  },
  {
   "cell_type": "code",
   "execution_count": null,
   "metadata": {
    "deletable": false,
    "editable": false,
    "nbgrader": {
     "cell_type": "code",
     "checksum": "40c2d317e39f26d598e05c4683c9f11f",
     "grade": true,
     "grade_id": "cell-ae36542297ad995b",
     "locked": true,
     "points": 1,
     "schema_version": 3,
     "solution": false
    }
   },
   "outputs": [],
   "source": [
    "library(digest)\n",
    "stopifnot(\"happy_semi_df should be a data frame\"= setequal(digest(paste(toString('data.frame' %in% class(happy_semi_df)), \"2ac13\")), \"f17c392e88e29d52f48941db40308c08\"))\n",
    "stopifnot(\"dimensions of happy_semi_df are not correct\"= setequal(digest(paste(toString(dim(happy_semi_df)), \"2ac13\")), \"648e5a80ab4e7972c16f01bd97f92e6e\"))\n",
    "stopifnot(\"column names of happy_semi_df are not correct\"= setequal(digest(paste(toString(sort(colnames(happy_semi_df))), \"2ac13\")), \"54370c7d4b47600eaba7f32ba185aa56\"))\n",
    "stopifnot(\"types of columns in happy_semi_df are not correct\"= setequal(digest(paste(toString(sort(unlist(sapply(happy_semi_df, class)))), \"2ac13\")), \"4514625879a161d45da267d0661eaaf2\"))\n",
    "stopifnot(\"values in one or more numerical columns in happy_semi_df are not correct\"= setequal(digest(paste(toString(if (any(sapply(happy_semi_df, is.numeric))) sort(round(sapply(happy_semi_df[, sapply(happy_semi_df, is.numeric)], sum, na.rm = TRUE), 2)) else 0), \"2ac13\")), \"7c06ed2764a73c6c7152899545367f2e\"))\n",
    "stopifnot(\"values in one or more character columns in happy_semi_df are not correct\"= setequal(digest(paste(toString(if (any(sapply(happy_semi_df, is.character))) sum(sapply(happy_semi_df[sapply(happy_semi_df, is.character)], function(x) length(unique(x)))) else 0), \"2ac13\")), \"89bbc4a6a507734f38ab1b80a7d54a23\"))\n",
    "stopifnot(\"values in one or more factor columns in happy_semi_df are not correct\"= setequal(digest(paste(toString(if (any(sapply(happy_semi_df, is.factor))) sum(sapply(happy_semi_df[, sapply(happy_semi_df, is.factor)], function(col) length(unique(col)))) else 0), \"2ac13\")), \"e99b5b3448211e78e2bd1957ff7ff7fe\"))\n",
    "\n",
    "print('Success!')"
   ]
  },
  {
   "cell_type": "markdown",
   "metadata": {
    "deletable": false,
    "editable": false,
    "nbgrader": {
     "cell_type": "markdown",
     "checksum": "3c4202ba52e44a5a0a40a686325fe4a3",
     "grade": false,
     "grade_id": "cell-f396ee421ad33cb4",
     "locked": true,
     "schema_version": 3,
     "solution": false,
     "task": false
    }
   },
   "source": [
    "Take a look at the **data type** in the `GDP_per_capita`, `life_expectancy`, and `freedom` columns. It says `<chr>`; that stands for \"character\" or text data -- not numeric as we would hope! The `happiness_score` column has `<dbl>` (stands for \"double-precision floating point number\", a numeric type), which is correct. We'd like the other columns to have this type as well... what happened?\n",
    "\n",
    "If we look closer, we'll see that the decimal point in this data was a *comma* `,` rather than a period (common in some European countries). To make sure this data was read in correctly, we would have needed to add `locale = locale(decimal_mark = \",\")` inside `read_delim`."
   ]
  },
  {
   "cell_type": "markdown",
   "metadata": {
    "deletable": false,
    "editable": false,
    "nbgrader": {
     "cell_type": "markdown",
     "checksum": "9d6a3eba122585ae49b339dbb5fa43f4",
     "grade": false,
     "grade_id": "cell-2d6d41a3d7f0e440",
     "locked": true,
     "schema_version": 3,
     "solution": false
    }
   },
   "source": [
    "**Question 3.6.2**\n",
    "<br> {points: 1}\n",
    "\n",
    "Read in the file `happiness_report_semicolon.csv` again, but this time use a different `read_*` function than `read_delim` to ensure that the column types are correct. Remember you can use `?` help operator to access documentation for a function (e.g. `?read_csv`). **Hint:** take a look at the list of `read_*` functions at the top of this worksheet under the learning goals section. Name the data frame `happy_semi_df2`."
   ]
  },
  {
   "cell_type": "code",
   "execution_count": null,
   "metadata": {
    "deletable": false,
    "nbgrader": {
     "cell_type": "code",
     "checksum": "09932b3a20178f1dbdbbf37f6bc562d7",
     "grade": false,
     "grade_id": "cell-dfa890bab0fa0ec8",
     "locked": false,
     "schema_version": 3,
     "solution": true
    }
   },
   "outputs": [],
   "source": [
    "#... <- ...(file = \"...\")\n",
    "\n",
    "# your code here\n",
    "fail() # No Answer - remove if you provide an answer\n",
    "happy_semi_df2"
   ]
  },
  {
   "cell_type": "code",
   "execution_count": null,
   "metadata": {
    "deletable": false,
    "editable": false,
    "nbgrader": {
     "cell_type": "code",
     "checksum": "9f951306aea2ba1cbbf14f7ed8496665",
     "grade": true,
     "grade_id": "cell-e99b9418831c851b",
     "locked": true,
     "points": 1,
     "schema_version": 3,
     "solution": false
    }
   },
   "outputs": [],
   "source": [
    "library(digest)\n",
    "stopifnot(\"happy_semi_df2 should be a data frame\"= setequal(digest(paste(toString('data.frame' %in% class(happy_semi_df2)), \"cb1ae\")), \"a66b25a9d1d81d818c639b629a6bb500\"))\n",
    "stopifnot(\"dimensions of happy_semi_df2 are not correct\"= setequal(digest(paste(toString(dim(happy_semi_df2)), \"cb1ae\")), \"3b3eb66d7d684c34b4ec75b20072e691\"))\n",
    "stopifnot(\"column names of happy_semi_df2 are not correct\"= setequal(digest(paste(toString(sort(colnames(happy_semi_df2))), \"cb1ae\")), \"d66212c8882ab0ec4354d531472ceabe\"))\n",
    "stopifnot(\"types of columns in happy_semi_df2 are not correct\"= setequal(digest(paste(toString(sort(unlist(sapply(happy_semi_df2, class)))), \"cb1ae\")), \"b0f68193a4dd1656ad7bf7e1f1fa7721\"))\n",
    "stopifnot(\"values in one or more numerical columns in happy_semi_df2 are not correct\"= setequal(digest(paste(toString(if (any(sapply(happy_semi_df2, is.numeric))) sort(round(sapply(happy_semi_df2[, sapply(happy_semi_df2, is.numeric)], sum, na.rm = TRUE), 2)) else 0), \"cb1ae\")), \"9d64e542edb80bfa99534b648ee8894c\"))\n",
    "stopifnot(\"values in one or more character columns in happy_semi_df2 are not correct\"= setequal(digest(paste(toString(if (any(sapply(happy_semi_df2, is.character))) sum(sapply(happy_semi_df2[sapply(happy_semi_df2, is.character)], function(x) length(unique(x)))) else 0), \"cb1ae\")), \"f91859f84522dfa6cd257d6fb0721b14\"))\n",
    "stopifnot(\"values in one or more factor columns in happy_semi_df2 are not correct\"= setequal(digest(paste(toString(if (any(sapply(happy_semi_df2, is.factor))) sum(sapply(happy_semi_df2[, sapply(happy_semi_df2, is.factor)], function(col) length(unique(col)))) else 0), \"cb1ae\")), \"545939079168233fc90830dbe77e820c\"))\n",
    "\n",
    "print('Success!')"
   ]
  },
  {
   "cell_type": "markdown",
   "metadata": {
    "deletable": false,
    "editable": false,
    "nbgrader": {
     "cell_type": "markdown",
     "checksum": "5d4c7243657fe1d15afd2278a8b075be",
     "grade": false,
     "grade_id": "cell-f6fd13c112fece7a",
     "locked": true,
     "schema_version": 3,
     "solution": false
    }
   },
   "source": [
    "**Question 3.6.3**\n",
    "<br> {points: 1}\n",
    "\n",
    "Read in the file `happiness_report.tsv` using the appropriate `read_*` function and name it `happy_tsv`."
   ]
  },
  {
   "cell_type": "code",
   "execution_count": null,
   "metadata": {
    "deletable": false,
    "nbgrader": {
     "cell_type": "code",
     "checksum": "4fce2cfc44379b77ca945ac0ea67d37b",
     "grade": false,
     "grade_id": "cell-e25b1333a4928479",
     "locked": false,
     "schema_version": 3,
     "solution": true
    }
   },
   "outputs": [],
   "source": [
    "#... <- ...(file = \"...\")\n",
    "\n",
    "# your code here\n",
    "fail() # No Answer - remove if you provide an answer\n",
    "happy_tsv"
   ]
  },
  {
   "cell_type": "code",
   "execution_count": null,
   "metadata": {
    "deletable": false,
    "editable": false,
    "nbgrader": {
     "cell_type": "code",
     "checksum": "638afaa07e2147b9d9c6d6a3c0cf2542",
     "grade": true,
     "grade_id": "cell-4943aa347e83b909",
     "locked": true,
     "points": 1,
     "schema_version": 3,
     "solution": false
    }
   },
   "outputs": [],
   "source": [
    "library(digest)\n",
    "stopifnot(\"happy_tsv should be a data frame\"= setequal(digest(paste(toString('data.frame' %in% class(happy_tsv)), \"47218\")), \"2dcd253a061ce8facd5e74c58e403b5c\"))\n",
    "stopifnot(\"dimensions of happy_tsv are not correct\"= setequal(digest(paste(toString(dim(happy_tsv)), \"47218\")), \"a1b90399da33f7f3967268ac3c6f544d\"))\n",
    "stopifnot(\"column names of happy_tsv are not correct\"= setequal(digest(paste(toString(sort(colnames(happy_tsv))), \"47218\")), \"d0e29c989d910bc72bb6f80eb386234c\"))\n",
    "stopifnot(\"types of columns in happy_tsv are not correct\"= setequal(digest(paste(toString(sort(unlist(sapply(happy_tsv, class)))), \"47218\")), \"d99442a756bfd4317d2067387f813ef9\"))\n",
    "stopifnot(\"values in one or more numerical columns in happy_tsv are not correct\"= setequal(digest(paste(toString(if (any(sapply(happy_tsv, is.numeric))) sort(round(sapply(happy_tsv[, sapply(happy_tsv, is.numeric)], sum, na.rm = TRUE), 2)) else 0), \"47218\")), \"a37f28230b9297bdd9c3dda330f15ad7\"))\n",
    "stopifnot(\"values in one or more character columns in happy_tsv are not correct\"= setequal(digest(paste(toString(if (any(sapply(happy_tsv, is.character))) sum(sapply(happy_tsv[sapply(happy_tsv, is.character)], function(x) length(unique(x)))) else 0), \"47218\")), \"6691a6c589292668b3730562dcffb1ea\"))\n",
    "stopifnot(\"values in one or more factor columns in happy_tsv are not correct\"= setequal(digest(paste(toString(if (any(sapply(happy_tsv, is.factor))) sum(sapply(happy_tsv[, sapply(happy_tsv, is.factor)], function(col) length(unique(col)))) else 0), \"47218\")), \"4e5aab9b3efa0cd3ffa9bc14ed7f6f6c\"))\n",
    "\n",
    "print('Success!')"
   ]
  },
  {
   "cell_type": "markdown",
   "metadata": {
    "deletable": false,
    "editable": false,
    "nbgrader": {
     "cell_type": "markdown",
     "checksum": "fb264f7b4650e7275fe9e368219d019f",
     "grade": false,
     "grade_id": "cell-4bdb6b7ea045900b",
     "locked": true,
     "schema_version": 3,
     "solution": false
    }
   },
   "source": [
    "**Question 3.6.4**\n",
    "<br> {points: 1}\n",
    "\n",
    "Read in the file `happiness_report_metadata.csv` using the appropriate `read_*` function and name it `happy_metadata`."
   ]
  },
  {
   "cell_type": "code",
   "execution_count": null,
   "metadata": {
    "deletable": false,
    "nbgrader": {
     "cell_type": "code",
     "checksum": "e94c8e220e0927cee900c86082753e77",
     "grade": false,
     "grade_id": "cell-87cd2b408dab554c",
     "locked": false,
     "schema_version": 3,
     "solution": true
    }
   },
   "outputs": [],
   "source": [
    "#... <- ...(file = \"data/happiness_report_metadata.csv\", skip = ...)\n",
    "\n",
    "# your code here\n",
    "fail() # No Answer - remove if you provide an answer\n",
    "happy_metadata"
   ]
  },
  {
   "cell_type": "code",
   "execution_count": null,
   "metadata": {
    "deletable": false,
    "editable": false,
    "nbgrader": {
     "cell_type": "code",
     "checksum": "ea93721e735ac8790f538b94f0042f84",
     "grade": true,
     "grade_id": "cell-e1e499a580fd7227",
     "locked": true,
     "points": 1,
     "schema_version": 3,
     "solution": false
    }
   },
   "outputs": [],
   "source": [
    "library(digest)\n",
    "stopifnot(\"happy_metadata should be a data frame\"= setequal(digest(paste(toString('data.frame' %in% class(happy_metadata)), \"62e3a\")), \"21a7b232e1c4e0d30138424769d1b475\"))\n",
    "stopifnot(\"dimensions of happy_metadata are not correct\"= setequal(digest(paste(toString(dim(happy_metadata)), \"62e3a\")), \"2012d3ebb71c1628bad8a4c84309eb18\"))\n",
    "stopifnot(\"column names of happy_metadata are not correct\"= setequal(digest(paste(toString(sort(colnames(happy_metadata))), \"62e3a\")), \"de4fcbb6f13267e0f93b53b7ec970766\"))\n",
    "stopifnot(\"types of columns in happy_metadata are not correct\"= setequal(digest(paste(toString(sort(unlist(sapply(happy_metadata, class)))), \"62e3a\")), \"dfa91b60f6e617b5d13b3e4a5f1b8888\"))\n",
    "stopifnot(\"values in one or more numerical columns in happy_metadata are not correct\"= setequal(digest(paste(toString(if (any(sapply(happy_metadata, is.numeric))) sort(round(sapply(happy_metadata[, sapply(happy_metadata, is.numeric)], sum, na.rm = TRUE), 2)) else 0), \"62e3a\")), \"f4e8655ed6aefd2da478b86dbbda408a\"))\n",
    "stopifnot(\"values in one or more character columns in happy_metadata are not correct\"= setequal(digest(paste(toString(if (any(sapply(happy_metadata, is.character))) sum(sapply(happy_metadata[sapply(happy_metadata, is.character)], function(x) length(unique(x)))) else 0), \"62e3a\")), \"b5aa9037b29d1cc02f0648dceea390e9\"))\n",
    "stopifnot(\"values in one or more factor columns in happy_metadata are not correct\"= setequal(digest(paste(toString(if (any(sapply(happy_metadata, is.factor))) sum(sapply(happy_metadata[, sapply(happy_metadata, is.factor)], function(col) length(unique(col)))) else 0), \"62e3a\")), \"ed12d33309989a6f5a3f9e497096cbd2\"))\n",
    "\n",
    "print('Success!')"
   ]
  },
  {
   "cell_type": "markdown",
   "metadata": {
    "deletable": false,
    "editable": false,
    "nbgrader": {
     "cell_type": "markdown",
     "checksum": "b1955b3aa1e61a609afe4b4454762a71",
     "grade": false,
     "grade_id": "cell-444f7f3a1d7a98d7",
     "locked": true,
     "schema_version": 3,
     "solution": false,
     "task": false
    }
   },
   "source": [
    "**Question 3.6.5**\n",
    "<br> {points: 1}\n",
    "\n",
    "Read in the file `happiness_report_no_header.csv` using the appropriate `read_*` function and name it `happy_header`. \n",
    "Note: If the argument `col_names` is a character vector, the values will be used as the names of the columns."
   ]
  },
  {
   "cell_type": "code",
   "execution_count": null,
   "metadata": {
    "deletable": false,
    "nbgrader": {
     "cell_type": "code",
     "checksum": "b122db1f544051073220709f916ca5ba",
     "grade": false,
     "grade_id": "cell-68d0893af7818c87",
     "locked": false,
     "schema_version": 3,
     "solution": true
    }
   },
   "outputs": [],
   "source": [
    "#... <- ...(file = \"...\", col_names = c(\"country\", \"happiness_score\", \"GDP_per_capita\", \"life_expectancy\", \"freedom\"))\n",
    "\n",
    "# your code here\n",
    "fail() # No Answer - remove if you provide an answer\n",
    "happy_header"
   ]
  },
  {
   "cell_type": "code",
   "execution_count": null,
   "metadata": {
    "deletable": false,
    "editable": false,
    "nbgrader": {
     "cell_type": "code",
     "checksum": "c1e0f5ff3d8c52c7a4d61b36c213a1aa",
     "grade": true,
     "grade_id": "cell-abb25e9b6b619bf1",
     "locked": true,
     "points": 1,
     "schema_version": 3,
     "solution": false
    }
   },
   "outputs": [],
   "source": [
    "library(digest)\n",
    "stopifnot(\"happy_header should be a data frame\"= setequal(digest(paste(toString('data.frame' %in% class(happy_header)), \"feb\")), \"082bc254e45acac5384d9ee71be1df87\"))\n",
    "stopifnot(\"dimensions of happy_header are not correct\"= setequal(digest(paste(toString(dim(happy_header)), \"feb\")), \"f4d70b1f15ed7d9dd42afde133dbae40\"))\n",
    "stopifnot(\"column names of happy_header are not correct\"= setequal(digest(paste(toString(sort(colnames(happy_header))), \"feb\")), \"bf3c316e1f9e736b0d2f21b44c2c6b72\"))\n",
    "stopifnot(\"types of columns in happy_header are not correct\"= setequal(digest(paste(toString(sort(unlist(sapply(happy_header, class)))), \"feb\")), \"6cbac80c11e468425caef59c33b384c6\"))\n",
    "stopifnot(\"values in one or more numerical columns in happy_header are not correct\"= setequal(digest(paste(toString(if (any(sapply(happy_header, is.numeric))) sort(round(sapply(happy_header[, sapply(happy_header, is.numeric)], sum, na.rm = TRUE), 2)) else 0), \"feb\")), \"85b391b671d14d42c34e9d77e9e7b885\"))\n",
    "stopifnot(\"values in one or more character columns in happy_header are not correct\"= setequal(digest(paste(toString(if (any(sapply(happy_header, is.character))) sum(sapply(happy_header[sapply(happy_header, is.character)], function(x) length(unique(x)))) else 0), \"feb\")), \"17e819c1760a1fbc92eb83163b1d1291\"))\n",
    "stopifnot(\"values in one or more factor columns in happy_header are not correct\"= setequal(digest(paste(toString(if (any(sapply(happy_header, is.factor))) sum(sapply(happy_header[, sapply(happy_header, is.factor)], function(col) length(unique(col)))) else 0), \"feb\")), \"acb1073ada033cc1327120bb643ab014\"))\n",
    "\n",
    "print('Success!')"
   ]
  },
  {
   "cell_type": "markdown",
   "metadata": {
    "deletable": false,
    "editable": false,
    "nbgrader": {
     "cell_type": "markdown",
     "checksum": "eb301db029a7e29c041a102ce2d752c3",
     "grade": false,
     "grade_id": "cell-47ac997d068d7480",
     "locked": true,
     "schema_version": 3,
     "solution": false,
     "task": false
    }
   },
   "source": [
    "**Question 3.7**\n",
    "<br> {points: 1}\n",
    "\n",
    "Earlier when you tried to open `happiness_report.xlsx` in Jupyter, you received an error message (`File Load Error ... is not UTF-8 encoded`). This happens because Excel spreadsheet files are not stored in plain text, and so Jupyter can't open them with its default text viewing program. This makes them a bit harder to inspect before trying to open in `R`.\n",
    "\n",
    "To inspect the data, we will just try to load `happiness_report.xlsx` using the most basic form of the appropriate `read_*` function, passing only the filename as an argument. Assign the output to a variable called `happy_xlsx`.\n",
    "\n",
    "*Note: you can also try to examine `.xlsx` files with Microsoft Excel or Google Sheets before loading into R.*"
   ]
  },
  {
   "cell_type": "code",
   "execution_count": null,
   "metadata": {
    "deletable": false,
    "nbgrader": {
     "cell_type": "code",
     "checksum": "d32b10e0785d4e8991d24e64c4f45aeb",
     "grade": false,
     "grade_id": "cell-6c241a49bbfc7b35",
     "locked": false,
     "schema_version": 3,
     "solution": true,
     "task": false
    }
   },
   "outputs": [],
   "source": [
    "#... <- ...(path = \"...\")\n",
    "\n",
    "# your code here\n",
    "fail() # No Answer - remove if you provide an answer\n",
    "happy_xlsx"
   ]
  },
  {
   "cell_type": "code",
   "execution_count": null,
   "metadata": {
    "deletable": false,
    "editable": false,
    "nbgrader": {
     "cell_type": "code",
     "checksum": "e22978d0f0fbd46017070d5f8155f624",
     "grade": true,
     "grade_id": "cell-3b0b5ff5faaddf50",
     "locked": true,
     "points": 1,
     "schema_version": 3,
     "solution": false,
     "task": false
    }
   },
   "outputs": [],
   "source": [
    "library(digest)\n",
    "stopifnot(\"happy_xlsx should be a data frame\"= setequal(digest(paste(toString('data.frame' %in% class(happy_xlsx)), \"585b3\")), \"1b4d8e6f6eb42d285cac73226e0df981\"))\n",
    "stopifnot(\"dimensions of happy_xlsx are not correct\"= setequal(digest(paste(toString(dim(happy_xlsx)), \"585b3\")), \"26a4000162085348c5be2683d32f9fb2\"))\n",
    "stopifnot(\"column names of happy_xlsx are not correct\"= setequal(digest(paste(toString(sort(colnames(happy_xlsx))), \"585b3\")), \"f7cf38416735e0612be6120697a57d81\"))\n",
    "stopifnot(\"types of columns in happy_xlsx are not correct\"= setequal(digest(paste(toString(sort(unlist(sapply(happy_xlsx, class)))), \"585b3\")), \"dc8309504caed3757b6e0a218ee7e58a\"))\n",
    "stopifnot(\"values in one or more numerical columns in happy_xlsx are not correct\"= setequal(digest(paste(toString(if (any(sapply(happy_xlsx, is.numeric))) sort(round(sapply(happy_xlsx[, sapply(happy_xlsx, is.numeric)], sum, na.rm = TRUE), 2)) else 0), \"585b3\")), \"c966f11105dde837832a0b967cdcfa23\"))\n",
    "stopifnot(\"values in one or more character columns in happy_xlsx are not correct\"= setequal(digest(paste(toString(if (any(sapply(happy_xlsx, is.character))) sum(sapply(happy_xlsx[sapply(happy_xlsx, is.character)], function(x) length(unique(x)))) else 0), \"585b3\")), \"25045e1f557cf0b07e51e25c69ee3596\"))\n",
    "stopifnot(\"values in one or more factor columns in happy_xlsx are not correct\"= setequal(digest(paste(toString(if (any(sapply(happy_xlsx, is.factor))) sum(sapply(happy_xlsx[, sapply(happy_xlsx, is.factor)], function(col) length(unique(col)))) else 0), \"585b3\")), \"84fec05c8289731a4796bf6452ee3686\"))\n",
    "\n",
    "print('Success!')"
   ]
  },
  {
   "cell_type": "markdown",
   "metadata": {
    "deletable": false,
    "editable": false,
    "nbgrader": {
     "cell_type": "markdown",
     "checksum": "0aa4f1c57858baa75836d1ae1ead15cc",
     "grade": false,
     "grade_id": "cell-9ef61e2af378b40d",
     "locked": true,
     "schema_version": 3,
     "solution": false
    }
   },
   "source": [
    "**Question 3.8** \n",
    "<br> {points: 1}\n",
    "\n",
    "Opening the data on a text editor showed some clear differences. Do all the data sets look the same once reading them on your R notebook (`\"yes\"` or `\"no\"`)? \n",
    " \n",
    "*Assign your answer to an object called `answer3.8`. Make sure your answer is in lowercase and is surrounded by quotation marks (e.g. `\"yes\"` or `\"no\"`).* "
   ]
  },
  {
   "cell_type": "code",
   "execution_count": null,
   "metadata": {
    "deletable": false,
    "nbgrader": {
     "cell_type": "code",
     "checksum": "c5ce4071ed1e759636d37e8309d7a9b8",
     "grade": false,
     "grade_id": "cell-ca10e96ab5e42077",
     "locked": false,
     "schema_version": 3,
     "solution": true
    }
   },
   "outputs": [],
   "source": [
    "# Replace the fail() with your answer. \n",
    "\n",
    "# your code here\n",
    "fail() # No Answer - remove if you provide an answer"
   ]
  },
  {
   "cell_type": "code",
   "execution_count": null,
   "metadata": {
    "deletable": false,
    "editable": false,
    "nbgrader": {
     "cell_type": "code",
     "checksum": "aed30f7099b7950b58efd1922a06e26c",
     "grade": true,
     "grade_id": "cell-b10f0e14c91d5ebf",
     "locked": true,
     "points": 1,
     "schema_version": 3,
     "solution": false
    }
   },
   "outputs": [],
   "source": [
    "library(digest)\n",
    "stopifnot(\"type of answer3.8 is not character\"= setequal(digest(paste(toString(class(answer3.8)), \"60366\")), \"14f79715a99ba98913ba7cf4cb65c7a6\"))\n",
    "stopifnot(\"length of answer3.8 is not correct\"= setequal(digest(paste(toString(length(answer3.8)), \"60366\")), \"57b267226ebe9e0d2bc759c2bbc5fb29\"))\n",
    "stopifnot(\"value of answer3.8 is not correct\"= setequal(digest(paste(toString(tolower(answer3.8)), \"60366\")), \"37b2cd05f485e899d1671cc56c04ecc5\"))\n",
    "stopifnot(\"letters in string value of answer3.8 are correct but case is not correct\"= setequal(digest(paste(toString(answer3.8), \"60366\")), \"37b2cd05f485e899d1671cc56c04ecc5\"))\n",
    "\n",
    "print('Success!')"
   ]
  },
  {
   "cell_type": "markdown",
   "metadata": {
    "deletable": false,
    "editable": false,
    "nbgrader": {
     "cell_type": "markdown",
     "checksum": "591e1b8c2a8e1272dbd278a4df887824",
     "grade": false,
     "grade_id": "cell-e8cd9683896b730d",
     "locked": true,
     "schema_version": 3,
     "solution": false
    }
   },
   "source": [
    "**Question 3.9** \n",
    "<br> {points: 1}\n",
    "\n",
    "Using the `happy_header` data set that you read earlier, plot `life_expectancy` vs. `GDP_per_capita`. Note that the statement \"plot A vs. B\" usually means to plot A on the y-axis, and B on the x-axis. Be sure to use `xlab` and `ylab` to give your axes human-readable  labels.\n",
    "\n",
    "*Assign your answer to an object called `header_plot`.* "
   ]
  },
  {
   "cell_type": "code",
   "execution_count": null,
   "metadata": {
    "deletable": false,
    "nbgrader": {
     "cell_type": "code",
     "checksum": "d64ab1ea1d72b54f8c24231db0480b6d",
     "grade": false,
     "grade_id": "cell-1341c1e60d1df98d",
     "locked": false,
     "schema_version": 3,
     "solution": true
    }
   },
   "outputs": [],
   "source": [
    "options(repr.plot.width = 8, repr.plot.height = 7)\n",
    "\n",
    "# your code here\n",
    "fail() # No Answer - remove if you provide an answer\n",
    "header_plot"
   ]
  },
  {
   "cell_type": "code",
   "execution_count": null,
   "metadata": {
    "deletable": false,
    "editable": false,
    "nbgrader": {
     "cell_type": "code",
     "checksum": "9106fb1e8ce7e9eeb09a991fdefd44c0",
     "grade": true,
     "grade_id": "cell-06afbc4c37639e7d",
     "locked": true,
     "points": 1,
     "schema_version": 3,
     "solution": false
    }
   },
   "outputs": [],
   "source": [
    "library(digest)\n",
    "stopifnot(\"type of plot is not correct (if you are using two types of geoms, try flipping the order of the geom objects!)\"= setequal(digest(paste(toString(sapply(seq_len(length(header_plot$layers)), function(i) {c(class(header_plot$layers[[i]]$geom))[1]})), \"f40c1\")), \"95b48085f1de81069e99b8f6cff86495\"))\n",
    "stopifnot(\"variable x is not correct\"= setequal(digest(paste(toString(unlist(lapply(sapply(seq_len(length(header_plot$layers)), function(i) {rlang::get_expr(c(header_plot$layers[[i]]$mapping, header_plot$mapping)$x)}), as.character))), \"f40c1\")), \"e4cc6251d0925e74f8186ef6a380f3d8\"))\n",
    "stopifnot(\"variable y is not correct\"= setequal(digest(paste(toString(unlist(lapply(sapply(seq_len(length(header_plot$layers)), function(i) {rlang::get_expr(c(header_plot$layers[[i]]$mapping, header_plot$mapping)$y)}), as.character))), \"f40c1\")), \"a1506459fffead33e44ca571bba1beab\"))\n",
    "stopifnot(\"x-axis label is not descriptive, nicely formatted, or human readable\"= setequal(digest(paste(toString(rlang::get_expr(c(header_plot$layers[[1]]$mapping, header_plot$mapping)$x)!= header_plot$labels$x), \"f40c1\")), \"4e95c8e645c49654cde816374ddf0970\"))\n",
    "stopifnot(\"y-axis label is not descriptive, nicely formatted, or human readable\"= setequal(digest(paste(toString(rlang::get_expr(c(header_plot$layers[[1]]$mapping, header_plot$mapping)$y)!= header_plot$labels$y), \"f40c1\")), \"4e95c8e645c49654cde816374ddf0970\"))\n",
    "stopifnot(\"incorrect colour variable in header_plot, specify a correct one if required\"= setequal(digest(paste(toString(rlang::get_expr(c(header_plot$layers[[1]]$mapping, header_plot$mapping)$colour)), \"f40c1\")), \"46040d45cc1132f071f6938280f65d18\"))\n",
    "stopifnot(\"incorrect shape variable in header_plot, specify a correct one if required\"= setequal(digest(paste(toString(rlang::get_expr(c(header_plot$layers[[1]]$mapping, header_plot$mapping)$shape)), \"f40c1\")), \"46040d45cc1132f071f6938280f65d18\"))\n",
    "stopifnot(\"the colour label in header_plot is not descriptive, nicely formatted, or human readable\"= setequal(digest(paste(toString(rlang::get_expr(c(header_plot$layers[[1]]$mapping, header_plot$mapping)$colour) != header_plot$labels$colour), \"f40c1\")), \"46040d45cc1132f071f6938280f65d18\"))\n",
    "stopifnot(\"the shape label in header_plot is not descriptive, nicely formatted, or human readable\"= setequal(digest(paste(toString(rlang::get_expr(c(header_plot$layers[[1]]$mapping, header_plot$mapping)$colour) != header_plot$labels$shape), \"f40c1\")), \"46040d45cc1132f071f6938280f65d18\"))\n",
    "stopifnot(\"fill variable in header_plot is not correct\"= setequal(digest(paste(toString(quo_name(header_plot$mapping$fill)), \"f40c1\")), \"38dd39b2b90173d645219bc65e220097\"))\n",
    "stopifnot(\"fill label in header_plot is not informative\"= setequal(digest(paste(toString((quo_name(header_plot$mapping$fill) != header_plot$labels$fill)), \"f40c1\")), \"46040d45cc1132f071f6938280f65d18\"))\n",
    "stopifnot(\"position argument in header_plot is not correct\"= setequal(digest(paste(toString(class(header_plot$layers[[1]]$position)[1]), \"f40c1\")), \"fdcb812f270ddf1eb60afa7954a62319\"))\n",
    "\n",
    "stopifnot(\"header_plot$data should be a data frame\"= setequal(digest(paste(toString('data.frame' %in% class(header_plot$data)), \"f40c2\")), \"eb5f5f92a53dd3be5d9e4783d5b29089\"))\n",
    "stopifnot(\"dimensions of header_plot$data are not correct\"= setequal(digest(paste(toString(dim(header_plot$data)), \"f40c2\")), \"a3f93743fa68606b5b08d9c615630299\"))\n",
    "stopifnot(\"column names of header_plot$data are not correct\"= setequal(digest(paste(toString(sort(colnames(header_plot$data))), \"f40c2\")), \"92783dbcd290a5e222c5384ce97cfb3e\"))\n",
    "stopifnot(\"types of columns in header_plot$data are not correct\"= setequal(digest(paste(toString(sort(unlist(sapply(header_plot$data, class)))), \"f40c2\")), \"df5a31ad889c190a28ee70f8df24d9e0\"))\n",
    "stopifnot(\"values in one or more numerical columns in header_plot$data are not correct\"= setequal(digest(paste(toString(if (any(sapply(header_plot$data, is.numeric))) sort(round(sapply(header_plot$data[, sapply(header_plot$data, is.numeric)], sum, na.rm = TRUE), 2)) else 0), \"f40c2\")), \"7a2b95667b1f59d704e5692d4f226642\"))\n",
    "stopifnot(\"values in one or more character columns in header_plot$data are not correct\"= setequal(digest(paste(toString(if (any(sapply(header_plot$data, is.character))) sum(sapply(header_plot$data[sapply(header_plot$data, is.character)], function(x) length(unique(x)))) else 0), \"f40c2\")), \"76b349ab32a49e0c57017624f8382bbb\"))\n",
    "stopifnot(\"values in one or more factor columns in header_plot$data are not correct\"= setequal(digest(paste(toString(if (any(sapply(header_plot$data, is.factor))) sum(sapply(header_plot$data[, sapply(header_plot$data, is.factor)], function(col) length(unique(col)))) else 0), \"f40c2\")), \"0547662dd54e8697f12e1a8df3b186fb\"))\n",
    "\n",
    "print('Success!')"
   ]
  },
  {
   "cell_type": "markdown",
   "metadata": {
    "deletable": false,
    "editable": false,
    "nbgrader": {
     "cell_type": "markdown",
     "checksum": "240c293982ba4f3a13ded74a5d18d92e",
     "grade": false,
     "grade_id": "cell-c000b7bf1fb43b1c",
     "locked": true,
     "schema_version": 3,
     "solution": false,
     "task": false
    }
   },
   "source": [
    "## 4. Reading Data from a Database\n",
    "\n",
    "### Investigating the reliability of flights into and out of Boston Logan International Airport\n",
    "\n",
    "Delays and cancellations seem to be an unavoidable risk of air travel. A missed connection, or hours spent waiting at the departure gate, might make you wonder though: how reliable is air travel, *really*?\n",
    "\n",
    "The US Bureau of Transportation Statistics keeps a continually-updated [Airline On-Time Performance Dataset](https://transtats.bts.gov/DatabaseInfo.asp?DB_ID=120&DB_Name=Airline%20On-Time%20Performance%20Data) that has tracked the scheduled and actual departure / arrival time of flights in the United States from 1987 to the present day. In this section we'll do some exploration of this data to try to answer some of the above questions. The actual data we'll be using was from only the year 2015, and was compiled into the [2015 Kaggle Flight Delays Dataset](https://www.kaggle.com/usdot/flight-delays) from the raw Bureau data. But even that  dataset is too large to handle in this course (5.8 million flights in just one year!), so the data have been filtered down to flights that either depart or arrive at Logan International Airport (`BOS`), resulting in around 209,000 flight records. \n",
    "\n",
    "Our data has the following variables (columns):\n",
    "\n",
    "- year\n",
    "- month\n",
    "- day\n",
    "- day of the week (from 1 - 7.999..., with fractional days based on departure time)\n",
    "- origin airport code\n",
    "- destination airport code\n",
    "- flight distance (miles)\n",
    "- scheduled departure time (local)\n",
    "- departure delay (minutes)\n",
    "- scheduled arrival time (local)\n",
    "- arrival delay (minutes)\n",
    "- diverted? (True/False)\n",
    "- cancelled? (True/False)\n",
    "\n",
    "\n"
   ]
  },
  {
   "cell_type": "markdown",
   "metadata": {
    "deletable": false,
    "editable": false,
    "nbgrader": {
     "cell_type": "markdown",
     "checksum": "b1bfc9349ce1579642b409d7daf8c2a5",
     "grade": false,
     "grade_id": "cell-68b27df331c7af9f",
     "locked": true,
     "schema_version": 3,
     "solution": false,
     "task": false
    }
   },
   "source": [
    "**Question 4.1** True or False:\n",
    "<br> {points: 1}\n",
    "\n",
    "We can use our dataset to figure out which airline company was the least likely to experience a flight delay in 2015.\n",
    "\n",
    "*Assign your answer to an object called `answer4.1`. Make sure your answer is in lowercase and is surrounded by quotation marks (e.g. `\"true\"` or `\"false\"`).*"
   ]
  },
  {
   "cell_type": "code",
   "execution_count": null,
   "metadata": {
    "deletable": false,
    "nbgrader": {
     "cell_type": "code",
     "checksum": "adbe89f8a103aade1718e8c787fa9fd0",
     "grade": false,
     "grade_id": "cell-1eb5f7e0f07ed793",
     "locked": false,
     "schema_version": 3,
     "solution": true,
     "task": false
    }
   },
   "outputs": [],
   "source": [
    "# Replace the fail() with your answer. \n",
    "\n",
    "# your code here\n",
    "fail() # No Answer - remove if you provide an answer"
   ]
  },
  {
   "cell_type": "code",
   "execution_count": null,
   "metadata": {
    "deletable": false,
    "editable": false,
    "nbgrader": {
     "cell_type": "code",
     "checksum": "fac3dbda6db54e9c9eb2e9d40e1d6b28",
     "grade": true,
     "grade_id": "cell-847ba82ee38201de",
     "locked": true,
     "points": 1,
     "schema_version": 3,
     "solution": false,
     "task": false
    }
   },
   "outputs": [],
   "source": [
    "library(digest)\n",
    "stopifnot(\"type of answer4.1 is not character\"= setequal(digest(paste(toString(class(answer4.1)), \"dcd0b\")), \"23ce78153e92f76e163626d8e2543ffb\"))\n",
    "stopifnot(\"length of answer4.1 is not correct\"= setequal(digest(paste(toString(length(answer4.1)), \"dcd0b\")), \"f83136e96d900d27ef29af60433c0ded\"))\n",
    "stopifnot(\"value of answer4.1 is not correct\"= setequal(digest(paste(toString(tolower(answer4.1)), \"dcd0b\")), \"f1857500855effcf983a5083eb377929\"))\n",
    "stopifnot(\"letters in string value of answer4.1 are correct but case is not correct\"= setequal(digest(paste(toString(answer4.1), \"dcd0b\")), \"f1857500855effcf983a5083eb377929\"))\n",
    "\n",
    "print('Success!')"
   ]
  },
  {
   "cell_type": "markdown",
   "metadata": {
    "deletable": false,
    "editable": false,
    "nbgrader": {
     "cell_type": "markdown",
     "checksum": "2e51ba603b7a05923cebd2012e4fedbd",
     "grade": false,
     "grade_id": "cell-7b7a78cb0fab16e5",
     "locked": true,
     "schema_version": 3,
     "solution": false,
     "task": false
    }
   },
   "source": [
    "**Question 4.2** Multiple Choice\n",
    "<br> {points: 1}\n",
    "\n",
    "If we're mostly concerned with getting to our destination on time, which variable in our dataset should we use as the y-axis of a plot?\n",
    "\n",
    "A. flight distance\n",
    "\n",
    "B. departure delay\n",
    "\n",
    "C. origin airport code\n",
    "\n",
    "D. arrival delay\n",
    "\n",
    "*Assign your answer as a single character to an object called `answer4.2`. Make sure your answer is an uppercase letter and is surrounded by quotation marks (e.g. `\"F\"`).*"
   ]
  },
  {
   "cell_type": "code",
   "execution_count": null,
   "metadata": {
    "deletable": false,
    "nbgrader": {
     "cell_type": "code",
     "checksum": "0cd6c9281afdfef39258b89545b6213b",
     "grade": false,
     "grade_id": "cell-72b0739f5d3a6017",
     "locked": false,
     "schema_version": 3,
     "solution": true,
     "task": false
    }
   },
   "outputs": [],
   "source": [
    "# Replace the fail() with your answer. \n",
    "\n",
    "# your code here\n",
    "fail() # No Answer - remove if you provide an answer"
   ]
  },
  {
   "cell_type": "code",
   "execution_count": null,
   "metadata": {
    "deletable": false,
    "editable": false,
    "nbgrader": {
     "cell_type": "code",
     "checksum": "f318a3a0208d7390914145b64435a8fe",
     "grade": true,
     "grade_id": "cell-990bcb46001bf6bc",
     "locked": true,
     "points": 1,
     "schema_version": 3,
     "solution": false,
     "task": false
    }
   },
   "outputs": [],
   "source": [
    "library(digest)\n",
    "stopifnot(\"type of answer4.2 is not character\"= setequal(digest(paste(toString(class(answer4.2)), \"e3ca7\")), \"8f1dee032dc78a14763d85af5a2db1cf\"))\n",
    "stopifnot(\"length of answer4.2 is not correct\"= setequal(digest(paste(toString(length(answer4.2)), \"e3ca7\")), \"15a920a34f350af64868cd4f82c5d3b1\"))\n",
    "stopifnot(\"value of answer4.2 is not correct\"= setequal(digest(paste(toString(tolower(answer4.2)), \"e3ca7\")), \"a34ab89549500a6a3ef7df0d6d915aa8\"))\n",
    "stopifnot(\"letters in string value of answer4.2 are correct but case is not correct\"= setequal(digest(paste(toString(answer4.2), \"e3ca7\")), \"10ba0ebbdab0b66ce5be7ced7c12294b\"))\n",
    "\n",
    "print('Success!')"
   ]
  },
  {
   "cell_type": "markdown",
   "metadata": {
    "deletable": false,
    "editable": false,
    "nbgrader": {
     "cell_type": "markdown",
     "checksum": "db83d0f611b01d86593a7c6e21c45fe1",
     "grade": false,
     "grade_id": "cell-7b877620e95a911b",
     "locked": true,
     "schema_version": 3,
     "solution": false,
     "task": false
    }
   },
   "source": [
    "Let's start exploring our data. The file is stored in `data/flights_filtered.db` in your working directory (still the `worksheet_02` folder). If you try to open the file in Jupyter to inspect its contents, you'll again run into the `File Load Error ... is not UTF-8 encoded` message you got earlier when trying to open an Excel spreadsheet in Jupyter. This is because the file is a *database* (often denoted by the `.db` extension), which are usually not stored in plain text. \n",
    "\n",
    "We'll need more R packages to help us handle this kind of data: \n",
    "\n",
    "- the [database interface (`DBI`) package](https://www.rdocumentation.org/packages/DBI/versions/0.5-1) for opening, connecting to, and interfacing with databases\n",
    "- the [R SQLite (`RSQLite`) package](https://cran.r-project.org/web/packages/RSQLite/vignettes/RSQLite.html) so that DBI can talk to SQLite databases \n",
    "  - there are many kinds of databases; the `flights_filtered.db` database is an SQLite database\n",
    "- the [dbplyr package](https://cran.r-project.org/web/packages/dbplyr/vignettes/dbplyr.html) for manipulating tables in the database using functions in R\n",
    "  - without this, in order to retrieve data from the database, we would have to know a whole separate language, Structured Query Language (SQL)\n",
    "\n",
    "Let's load those now.\n",
    "\n"
   ]
  },
  {
   "cell_type": "code",
   "execution_count": null,
   "metadata": {
    "deletable": false,
    "editable": false,
    "nbgrader": {
     "cell_type": "code",
     "checksum": "ba9446effcd2a77475332790f148e6da",
     "grade": false,
     "grade_id": "cell-b03325c723b1c817",
     "locked": true,
     "schema_version": 3,
     "solution": false,
     "task": false
    }
   },
   "outputs": [],
   "source": [
    "# Run this cell before continuing.\n",
    "library(DBI)\n",
    "library(RSQLite)\n",
    "library(dbplyr)"
   ]
  },
  {
   "cell_type": "markdown",
   "metadata": {
    "deletable": false,
    "editable": false,
    "nbgrader": {
     "cell_type": "markdown",
     "checksum": "dbf740d92c2f022cddb5e26781db3b19",
     "grade": false,
     "grade_id": "cell-aafba0a844ff4070",
     "locked": true,
     "schema_version": 3,
     "solution": false,
     "task": false
    }
   },
   "source": [
    "In order to open a database in R, you need to take the following steps:\n",
    "\n",
    "1. Connect to the database using the `dbConnect` function.\n",
    "2. Check what tables (similar to R dataframes, Excel spreadsheets) are in the database using the `dbListTables` function\n",
    "3. Once you've picked a table, create an R object for it using the `tbl` function\n",
    "\n",
    "*Note: the `tbl` function returns a **reference** to a database table, not the actual data itself. This allows R to talk to the database / get subsets of data without loading the entire thing into R!*\n",
    "\n",
    "The next few questions will walk you through this process.\n"
   ]
  },
  {
   "cell_type": "markdown",
   "metadata": {
    "deletable": false,
    "editable": false,
    "nbgrader": {
     "cell_type": "markdown",
     "checksum": "c6aa3478ac3ef615da4becb4812631d6",
     "grade": false,
     "grade_id": "cell-9b0fb86c56d041a0",
     "locked": true,
     "schema_version": 3,
     "solution": false,
     "task": false
    }
   },
   "source": [
    "**Question 4.3.1** \n",
    "<br> {points: 1}\n",
    "\n",
    "Use the `dbConnect` function to open and connect to the `flights_filtered.db` database in the `data` folder.\n",
    "\n",
    "*Note: we have provided the first argument, `RSQLite::SQLite()`, to `dbConnect` for you below. This just tells the dbConnect function that we will be using an SQLite database.*\n",
    "\n",
    "*Assign the output to a variable named `conn`*."
   ]
  },
  {
   "cell_type": "code",
   "execution_count": null,
   "metadata": {
    "deletable": false,
    "nbgrader": {
     "cell_type": "code",
     "checksum": "b9cebeb84e0782d316a3c52723333974",
     "grade": false,
     "grade_id": "cell-1448c7dbce0b45ab",
     "locked": false,
     "schema_version": 3,
     "solution": true,
     "task": false
    }
   },
   "outputs": [],
   "source": [
    "#... <- dbConnect(RSQLite::SQLite(), '...')  #replace ... with the database relative path\n",
    "\n",
    "# your code here\n",
    "fail() # No Answer - remove if you provide an answer"
   ]
  },
  {
   "cell_type": "code",
   "execution_count": null,
   "metadata": {
    "deletable": false,
    "editable": false,
    "nbgrader": {
     "cell_type": "code",
     "checksum": "9d7a1ba14d8d2fd5b1fc0bbac32dcb97",
     "grade": true,
     "grade_id": "cell-450ac4401cbdd5df",
     "locked": true,
     "points": 1,
     "schema_version": 3,
     "solution": false,
     "task": false
    }
   },
   "outputs": [],
   "source": [
    "library(digest)\n",
    "stopifnot(\"conn should be an RSQLite database connection object\"= setequal(digest(paste(toString('SQLiteConnection' %in% class(conn)), \"3e74b\")), \"78fe51bcbbef707ae2f91e69a1c990f5\"))\n",
    "stopifnot(\"conn is the wrong database\"= setequal(digest(paste(toString(dbListTables(conn)), \"3e74b\")), \"a8a452faac8c46586296475509dddac3\"))\n",
    "\n",
    "print('Success!')"
   ]
  },
  {
   "cell_type": "markdown",
   "metadata": {
    "deletable": false,
    "editable": false,
    "nbgrader": {
     "cell_type": "markdown",
     "checksum": "ac05568de3ade4553cce7fd4d02793b4",
     "grade": false,
     "grade_id": "cell-45d198de7245ad8f",
     "locked": true,
     "schema_version": 3,
     "solution": false,
     "task": false
    }
   },
   "source": [
    "**Question 4.3.2**\n",
    "<br> {points: 1}\n",
    "\n",
    "Use the `dbListTables` function to inspect the database to see what tables it contains.\n",
    "\n",
    "*Make a new variable named `flights_table_name` that stores the name of the table with our data in it*"
   ]
  },
  {
   "cell_type": "code",
   "execution_count": null,
   "metadata": {},
   "outputs": [],
   "source": [
    "# Use this cell to figure out how to answer the question\n",
    "# Call the dbListTables function in this cell and take a look at the output\n",
    "# If you don't know what argument to give dbListTables, use ?dbListTables to find out!\n",
    "\n",
    "#dbListTables(...) #replace ... with the right argument\n",
    "\n",
    "#once you've called this and seen the output, insert the output string in the cell below as denoted"
   ]
  },
  {
   "cell_type": "code",
   "execution_count": null,
   "metadata": {
    "deletable": false,
    "nbgrader": {
     "cell_type": "code",
     "checksum": "ffcd8d612d689d41f40b288dcaadd461",
     "grade": false,
     "grade_id": "cell-dd28dbea4ff01626",
     "locked": false,
     "schema_version": 3,
     "solution": true,
     "task": false
    }
   },
   "outputs": [],
   "source": [
    "#... <- '...'\n",
    "\n",
    "# your code here\n",
    "fail() # No Answer - remove if you provide an answer"
   ]
  },
  {
   "cell_type": "code",
   "execution_count": null,
   "metadata": {
    "deletable": false,
    "editable": false,
    "nbgrader": {
     "cell_type": "code",
     "checksum": "bf70b7a13cb4e552d2498d499ba53db7",
     "grade": true,
     "grade_id": "cell-37f36762e19a02f2",
     "locked": true,
     "points": 1,
     "schema_version": 3,
     "solution": false,
     "task": false
    }
   },
   "outputs": [],
   "source": [
    "library(digest)\n",
    "stopifnot(\"type of flights_table_name is not character\"= setequal(digest(paste(toString(class(flights_table_name)), \"d43e1\")), \"68c8d08fdec3198a6328a4a29f22e20c\"))\n",
    "stopifnot(\"length of flights_table_name is not correct\"= setequal(digest(paste(toString(length(flights_table_name)), \"d43e1\")), \"7713b3d183decfab1bd02017cf95306e\"))\n",
    "stopifnot(\"value of flights_table_name is not correct\"= setequal(digest(paste(toString(tolower(flights_table_name)), \"d43e1\")), \"461f90cb06c8925a58ad871bc5f6e42e\"))\n",
    "stopifnot(\"letters in string value of flights_table_name are correct but case is not correct\"= setequal(digest(paste(toString(flights_table_name), \"d43e1\")), \"461f90cb06c8925a58ad871bc5f6e42e\"))\n",
    "\n",
    "print('Success!')"
   ]
  },
  {
   "cell_type": "markdown",
   "metadata": {
    "deletable": false,
    "editable": false,
    "nbgrader": {
     "cell_type": "markdown",
     "checksum": "39da0ec2f52b8ba069815e3724fabe20",
     "grade": false,
     "grade_id": "cell-6097516dbac498b6",
     "locked": true,
     "schema_version": 3,
     "solution": false,
     "task": false
    }
   },
   "source": [
    "**Question 4.3.3**\n",
    "<br> {points: 1}\n",
    "\n",
    "Use the `tbl` function to create an R reference to the table so that you can manipulate it with `dbplyr` functions.\n",
    "\n",
    "*Make a new variable named `flight_data` based on the output of `tbl`*"
   ]
  },
  {
   "cell_type": "code",
   "execution_count": null,
   "metadata": {
    "deletable": false,
    "nbgrader": {
     "cell_type": "code",
     "checksum": "7d193bd89995c3fe435c2994ef3ae193",
     "grade": false,
     "grade_id": "cell-ae916513622496e1",
     "locked": false,
     "schema_version": 3,
     "solution": true,
     "task": false
    }
   },
   "outputs": [],
   "source": [
    "#flight_data <- ...\n",
    "\n",
    "# your code here\n",
    "fail() # No Answer - remove if you provide an answer"
   ]
  },
  {
   "cell_type": "code",
   "execution_count": null,
   "metadata": {
    "deletable": false,
    "editable": false,
    "nbgrader": {
     "cell_type": "code",
     "checksum": "7b7a065e4f0c80561e9aaee1695bb619",
     "grade": true,
     "grade_id": "cell-25d8325b46b0321d",
     "locked": true,
     "points": 1,
     "schema_version": 3,
     "solution": false,
     "task": false
    }
   },
   "outputs": [],
   "source": [
    "library(digest)\n",
    "stopifnot(\"flight_data should be a data frame\"= setequal(digest(paste(toString('tbl_dbi' %in% class(flight_data)), \"b7a72\")), \"8370cadcaa15b123e55b1731597d9eb8\"))\n",
    "stopifnot(\"flight_data does not contain the correct number of rows\"= setequal(digest(paste(toString(collect(count(flight_data))$n), \"b7a72\")), \"1b0be80ef65c8c193d7fdf170a457e2b\"))\n",
    "stopifnot(\"flight_data does not contain the correct columns\"= setequal(digest(paste(toString(sort(colnames(flight_data))), \"b7a72\")), \"5508d5030cfb093a93ea7534c345b3e7\"))\n",
    "\n",
    "print('Success!')"
   ]
  },
  {
   "cell_type": "markdown",
   "metadata": {
    "deletable": false,
    "editable": false,
    "nbgrader": {
     "cell_type": "markdown",
     "checksum": "5df3b0988528da606cb548d0e51deefb",
     "grade": false,
     "grade_id": "cell-f5b6931ac3257fe2",
     "locked": true,
     "schema_version": 3,
     "solution": false,
     "task": false
    }
   },
   "source": [
    "Now that we've connected to the database and created an R table object, we'll take a look at the first few rows and columns of the flight on-time performance data. Even though `flight_data` isn't a regular R dataframe---it's a database table connection, or specifically a `tbl_SQLiteConnection`---the functions from the `dbplyr` package let us treat it like an R dataframe!\n",
    " \n",
    "So let's try using the `head` function (which allows us to see the first few rows of a dataset) and see what happens:"
   ]
  },
  {
   "cell_type": "code",
   "execution_count": null,
   "metadata": {
    "deletable": false,
    "editable": false,
    "nbgrader": {
     "cell_type": "code",
     "checksum": "9a8e6136ae30c48d1963d896bf9a0bed",
     "grade": false,
     "grade_id": "cell-4f7812a97fb3b366",
     "locked": true,
     "schema_version": 3,
     "solution": false,
     "task": false
    }
   },
   "outputs": [],
   "source": [
    "# Run this cell before continuing.\n",
    "head(flight_data)"
   ]
  },
  {
   "cell_type": "markdown",
   "metadata": {
    "deletable": false,
    "editable": false,
    "nbgrader": {
     "cell_type": "markdown",
     "checksum": "6a74273e9983700c82bc4e1a1ce9edfb",
     "grade": false,
     "grade_id": "cell-925839d2057b8935",
     "locked": true,
     "schema_version": 3,
     "solution": false,
     "task": false
    }
   },
   "source": [
    "It works! And---as luck would have it---it also works to use the `select` and `filter` functions you've learned about previously.\n",
    "\n",
    "*Note: not all functions that you're familiar with work on database table `tbl` reference objects. For example, if you try to run `nrow` (to count the rows) or `tail` (to get the last rows of the table), you won't get the result you expect*.\n"
   ]
  },
  {
   "cell_type": "markdown",
   "metadata": {
    "deletable": false,
    "editable": false,
    "nbgrader": {
     "cell_type": "markdown",
     "checksum": "8b241794075b5e7dc2d72c0f8d5ec29b",
     "grade": false,
     "grade_id": "cell-85a8745db2165d6b",
     "locked": true,
     "schema_version": 3,
     "solution": false,
     "task": false
    }
   },
   "source": [
    "**Question 4.4**\n",
    "<br> {points: 1}\n",
    "\n",
    "Use the `select` and `filter` functions to extract the **arrival and departure delay** columns for rows where **the origin airport is BOS.**\n",
    "\n",
    "*Store your answer in a variable called* `delay_data`."
   ]
  },
  {
   "cell_type": "code",
   "execution_count": null,
   "metadata": {
    "deletable": false,
    "nbgrader": {
     "cell_type": "code",
     "checksum": "2c18675ed495f1cdbc1fe711c53b17d6",
     "grade": false,
     "grade_id": "cell-c510f5a9427d66c4",
     "locked": false,
     "schema_version": 3,
     "solution": true,
     "task": false
    }
   },
   "outputs": [],
   "source": [
    "# your code here\n",
    "fail() # No Answer - remove if you provide an answer"
   ]
  },
  {
   "cell_type": "code",
   "execution_count": null,
   "metadata": {
    "deletable": false,
    "editable": false,
    "nbgrader": {
     "cell_type": "code",
     "checksum": "e6c4c4893cd155fe2cac2b66818be7e2",
     "grade": true,
     "grade_id": "cell-1ebff82c6cecfdd2",
     "locked": true,
     "points": 1,
     "schema_version": 3,
     "solution": false,
     "task": false
    }
   },
   "outputs": [],
   "source": [
    "library(digest)\n",
    "stopifnot(\"delay_data should be a data frame\"= setequal(digest(paste(toString('tbl_dbi' %in% class(delay_data)), \"ddb2d\")), \"4c1a8e59c671d06fe0d83fc1e592b3dd\"))\n",
    "stopifnot(\"delay_data does not contain the correct number of rows\"= setequal(digest(paste(toString(collect(count(delay_data))$n), \"ddb2d\")), \"69532bd24447f154d3af058eee0b1065\"))\n",
    "stopifnot(\"delay_data does not contain the correct columns\"= setequal(digest(paste(toString(sort(colnames(delay_data))), \"ddb2d\")), \"063a1ec6406f927512403789512ab067\"))\n",
    "\n",
    "print('Success!')"
   ]
  },
  {
   "cell_type": "code",
   "execution_count": null,
   "metadata": {
    "deletable": false,
    "editable": false,
    "nbgrader": {
     "cell_type": "code",
     "checksum": "1026a61ada058863ab4b6ae72d38e16e",
     "grade": false,
     "grade_id": "cell-eeda91a1819b7875",
     "locked": true,
     "schema_version": 3,
     "solution": false,
     "task": false
    }
   },
   "outputs": [],
   "source": [
    "# Take a look at `delay_data` to make sure it has the two columns we expect.\n",
    "# Run this cell before continuing.\n",
    "head(delay_data)"
   ]
  },
  {
   "cell_type": "markdown",
   "metadata": {
    "deletable": false,
    "editable": false,
    "nbgrader": {
     "cell_type": "markdown",
     "checksum": "1ba6bc6e332107a24dd16f2ec22f12d5",
     "grade": false,
     "grade_id": "cell-fe64925771cd864e",
     "locked": true,
     "schema_version": 3,
     "solution": false,
     "task": false
    }
   },
   "source": [
    "You'll notice in the `Source:` line that the dimension of the table is listed as `[?? x 2]`. This is because databases do things in the *laziest* way possible. Since we only asked the database for its `head` (the first few rows), it didn't bother going through all the rows to figure out how many there are. This sort of laziness can help make things run a lot faster when dealing with large datasets.\n",
    "\n",
    "Our next task is to visualize our data to see whether there is a difference in delays for arrivals at and departures from `BOS`. But before we do that, let's figure out just how much data we're working with using the `count` function."
   ]
  },
  {
   "cell_type": "code",
   "execution_count": null,
   "metadata": {
    "deletable": false,
    "editable": false,
    "nbgrader": {
     "cell_type": "code",
     "checksum": "d4dedbb622ded8b231b151aaac05f6d6",
     "grade": false,
     "grade_id": "cell-07a5e924ff63c820",
     "locked": true,
     "schema_version": 3,
     "solution": false,
     "task": false
    }
   },
   "outputs": [],
   "source": [
    "# Run this cell before continuing.\n",
    "count(delay_data)"
   ]
  },
  {
   "cell_type": "markdown",
   "metadata": {
    "deletable": false,
    "editable": false,
    "nbgrader": {
     "cell_type": "markdown",
     "checksum": "b95050ef99880d8a6447011e9cd602b1",
     "grade": false,
     "grade_id": "cell-ae414c879686e90f",
     "locked": true,
     "schema_version": 3,
     "solution": false,
     "task": false
    }
   },
   "source": [
    "Yikes---that's a lot of data! If we tried to do a scatter plot of these, we probably wouldn't be able to see anything useful; all the points would be mushed together. Let's try using a *histogram* instead. A histogram helps us visualize how a particular variable is distributed in a dataset. It does this by separating the data into *bins*, and then plotting vertical bars showing how many data points fell in each bin.\n",
    "\n",
    "For example, we could use a histogram to visualize the distribution of waiting times between eruptions of the Old Faithful geyser in Yellowstone National Park, Wyoming with the `geom_histogram` layer. The `bins` argument specifies the number of bins to use in the histogram.\n"
   ]
  },
  {
   "cell_type": "code",
   "execution_count": null,
   "metadata": {
    "deletable": false,
    "editable": false,
    "nbgrader": {
     "cell_type": "code",
     "checksum": "7d45e53b4a4ad449c936f2efc7565293",
     "grade": false,
     "grade_id": "cell-b99d6333eff0b0fb",
     "locked": true,
     "schema_version": 3,
     "solution": false,
     "task": false
    }
   },
   "outputs": [],
   "source": [
    "# Run this cell before continuing.\n",
    "ggplot(faithful, aes(x = waiting)) + \n",
    "    geom_histogram(bins = 40) + \n",
    "    xlab(\"Waiting Time (mins)\") + \n",
    "    ylab(\"Count\") + \n",
    "    theme(text = element_text(size=20))"
   ]
  },
  {
   "cell_type": "markdown",
   "metadata": {
    "deletable": false,
    "editable": false,
    "nbgrader": {
     "cell_type": "markdown",
     "checksum": "5ded1bd40c64e538a9e387c8bdb2bddc",
     "grade": false,
     "grade_id": "cell-a64059c2fa597366",
     "locked": true,
     "schema_version": 3,
     "solution": false,
     "task": false
    }
   },
   "source": [
    "We'll use histograms to visualize the departure delay times and arrival delay times separately."
   ]
  },
  {
   "cell_type": "markdown",
   "metadata": {
    "deletable": false,
    "editable": false,
    "nbgrader": {
     "cell_type": "markdown",
     "checksum": "8e4c0193461784638df7dd71bc5f6ef5",
     "grade": false,
     "grade_id": "cell-b0e0f2ed0c5dddfd",
     "locked": true,
     "schema_version": 3,
     "solution": false,
     "task": false
    }
   },
   "source": [
    "**Question 4.5**\n",
    "<br> {points: 1}\n",
    "\n",
    "Plot the **arrival** delay time data as a histogram. You will plot the delay (in hours) separated into 15-minute-wide bins on the x axis. The y axis will show the percentage of flights departing BOS that had that amount of delay during 2015.\n",
    "\n",
    "You'll do this by finishing the code segment provided below. There are 4 places where `...` appears in the provided code below. Replace each instance of `...` with the correct item from the following list:\n",
    "\n",
    "- `ARRIVAL_DELAY/60`\n",
    "- `'steelblue'`\n",
    "- `\"Delay (hours)\"`\n",
    "- `geom_histogram`\n",
    "\n",
    "*Assign the output of ggplot to an object called* `arrival_delay_plot`."
   ]
  },
  {
   "cell_type": "code",
   "execution_count": null,
   "metadata": {
    "deletable": false,
    "nbgrader": {
     "cell_type": "code",
     "checksum": "341efa5afc92ceb72c5328c1c4c14752",
     "grade": false,
     "grade_id": "cell-79abf1e26b1b8f0c",
     "locked": false,
     "schema_version": 3,
     "solution": true,
     "task": false
    }
   },
   "outputs": [],
   "source": [
    "# Replace each ... with the correct item in the list above. \n",
    "\n",
    "# ... <- ggplot(delay_data, aes(x = ...)) +\n",
    "#    ...(aes(y = 100 * stat(count) / sum(stat(count))),\n",
    "#        binwidth = .25,\n",
    "#        fill = \"lightblue\",\n",
    "#        color = ...) +\n",
    "#    scale_x_continuous(limits = c(-2, 5)) +\n",
    "#    ylab(\"% of Flights\") +\n",
    "#    xlab(...) +\n",
    "#    theme(text = element_text(size=20))\n",
    "# ...\n",
    "\n",
    "# your code here\n",
    "fail() # No Answer - remove if you provide an answer"
   ]
  },
  {
   "cell_type": "code",
   "execution_count": null,
   "metadata": {
    "deletable": false,
    "editable": false,
    "nbgrader": {
     "cell_type": "code",
     "checksum": "7aa0df477d0a163a9eed339ad2bf71e0",
     "grade": true,
     "grade_id": "cell-f6883fdfdfd2696a",
     "locked": true,
     "points": 1,
     "schema_version": 3,
     "solution": false,
     "task": false
    }
   },
   "outputs": [],
   "source": [
    "library(digest)\n",
    "stopifnot(\"type of plot is not correct (if you are using two types of geoms, try flipping the order of the geom objects!)\"= setequal(digest(paste(toString(sapply(seq_len(length(arrival_delay_plot$layers)), function(i) {c(class(arrival_delay_plot$layers[[i]]$geom))[1]})), \"57bbd\")), \"4971306182daeb418eb3df191a371a46\"))\n",
    "stopifnot(\"variable x is not correct\"= setequal(digest(paste(toString(unlist(lapply(sapply(seq_len(length(arrival_delay_plot$layers)), function(i) {rlang::get_expr(c(arrival_delay_plot$layers[[i]]$mapping, arrival_delay_plot$mapping)$x)}), as.character))), \"57bbd\")), \"dea5bd773dccb71f8457f434a564cd38\"))\n",
    "stopifnot(\"variable y is not correct\"= setequal(digest(paste(toString(unlist(lapply(sapply(seq_len(length(arrival_delay_plot$layers)), function(i) {rlang::get_expr(c(arrival_delay_plot$layers[[i]]$mapping, arrival_delay_plot$mapping)$y)}), as.character))), \"57bbd\")), \"10a09e85e12ef6f3ab8d29684a33f71d\"))\n",
    "stopifnot(\"x-axis label is not descriptive, nicely formatted, or human readable\"= setequal(digest(paste(toString(rlang::get_expr(c(arrival_delay_plot$layers[[1]]$mapping, arrival_delay_plot$mapping)$x)!= arrival_delay_plot$labels$x), \"57bbd\")), \"4e8dd2a0e2e96b5e4f9b437b1824a6d6\"))\n",
    "stopifnot(\"y-axis label is not descriptive, nicely formatted, or human readable\"= setequal(digest(paste(toString(rlang::get_expr(c(arrival_delay_plot$layers[[1]]$mapping, arrival_delay_plot$mapping)$y)!= arrival_delay_plot$labels$y), \"57bbd\")), \"4e8dd2a0e2e96b5e4f9b437b1824a6d6\"))\n",
    "stopifnot(\"incorrect colour variable in arrival_delay_plot, specify a correct one if required\"= setequal(digest(paste(toString(rlang::get_expr(c(arrival_delay_plot$layers[[1]]$mapping, arrival_delay_plot$mapping)$colour)), \"57bbd\")), \"96b44f518454bee0d6adf476e40509ad\"))\n",
    "stopifnot(\"incorrect shape variable in arrival_delay_plot, specify a correct one if required\"= setequal(digest(paste(toString(rlang::get_expr(c(arrival_delay_plot$layers[[1]]$mapping, arrival_delay_plot$mapping)$shape)), \"57bbd\")), \"96b44f518454bee0d6adf476e40509ad\"))\n",
    "stopifnot(\"the colour label in arrival_delay_plot is not descriptive, nicely formatted, or human readable\"= setequal(digest(paste(toString(rlang::get_expr(c(arrival_delay_plot$layers[[1]]$mapping, arrival_delay_plot$mapping)$colour) != arrival_delay_plot$labels$colour), \"57bbd\")), \"96b44f518454bee0d6adf476e40509ad\"))\n",
    "stopifnot(\"the shape label in arrival_delay_plot is not descriptive, nicely formatted, or human readable\"= setequal(digest(paste(toString(rlang::get_expr(c(arrival_delay_plot$layers[[1]]$mapping, arrival_delay_plot$mapping)$colour) != arrival_delay_plot$labels$shape), \"57bbd\")), \"96b44f518454bee0d6adf476e40509ad\"))\n",
    "stopifnot(\"fill variable in arrival_delay_plot is not correct\"= setequal(digest(paste(toString(quo_name(arrival_delay_plot$mapping$fill)), \"57bbd\")), \"74007f5b3e5086835e53409c84f0951a\"))\n",
    "stopifnot(\"fill label in arrival_delay_plot is not informative\"= setequal(digest(paste(toString((quo_name(arrival_delay_plot$mapping$fill) != arrival_delay_plot$labels$fill)), \"57bbd\")), \"96b44f518454bee0d6adf476e40509ad\"))\n",
    "stopifnot(\"position argument in arrival_delay_plot is not correct\"= setequal(digest(paste(toString(class(arrival_delay_plot$layers[[1]]$position)[1]), \"57bbd\")), \"1ef54eb789058dc8b7d4a02c3009e7d4\"))\n",
    "\n",
    "stopifnot(\"arrival_delay_plot$data should be a data frame\"= setequal(digest(paste(toString('data.frame' %in% class(arrival_delay_plot$data)), \"57bbe\")), \"08ee787c487542a55b5960d507f8f291\"))\n",
    "stopifnot(\"dimensions of arrival_delay_plot$data are not correct\"= setequal(digest(paste(toString(dim(arrival_delay_plot$data)), \"57bbe\")), \"87ce96e3ea420342d54ec261b8a9b11d\"))\n",
    "stopifnot(\"column names of arrival_delay_plot$data are not correct\"= setequal(digest(paste(toString(sort(colnames(arrival_delay_plot$data))), \"57bbe\")), \"96a649edcf888d3240eca2dbdb129218\"))\n",
    "stopifnot(\"types of columns in arrival_delay_plot$data are not correct\"= setequal(digest(paste(toString(sort(unlist(sapply(arrival_delay_plot$data, class)))), \"57bbe\")), \"d723eba4ed5b7d10b58a22a8ed8a2200\"))\n",
    "stopifnot(\"values in one or more numerical columns in arrival_delay_plot$data are not correct\"= setequal(digest(paste(toString(if (any(sapply(arrival_delay_plot$data, is.numeric))) sort(round(sapply(arrival_delay_plot$data[, sapply(arrival_delay_plot$data, is.numeric)], sum, na.rm = TRUE), 2)) else 0), \"57bbe\")), \"bc601fa7f0460a5ddffa5ddf5ab03cca\"))\n",
    "stopifnot(\"values in one or more character columns in arrival_delay_plot$data are not correct\"= setequal(digest(paste(toString(if (any(sapply(arrival_delay_plot$data, is.character))) sum(sapply(arrival_delay_plot$data[sapply(arrival_delay_plot$data, is.character)], function(x) length(unique(x)))) else 0), \"57bbe\")), \"cf1f9d0c62ff2ef428d2eeac633a5eb7\"))\n",
    "stopifnot(\"values in one or more factor columns in arrival_delay_plot$data are not correct\"= setequal(digest(paste(toString(if (any(sapply(arrival_delay_plot$data, is.factor))) sum(sapply(arrival_delay_plot$data[, sapply(arrival_delay_plot$data, is.factor)], function(col) length(unique(col)))) else 0), \"57bbe\")), \"cf1f9d0c62ff2ef428d2eeac633a5eb7\"))\n",
    "\n",
    "print('Success!')"
   ]
  },
  {
   "cell_type": "markdown",
   "metadata": {
    "deletable": false,
    "editable": false,
    "nbgrader": {
     "cell_type": "markdown",
     "checksum": "b61d8fe10b4547180ab97cd120e28e16",
     "grade": false,
     "grade_id": "cell-a6abb9eda899782f",
     "locked": true,
     "schema_version": 3,
     "solution": false,
     "task": false
    }
   },
   "source": [
    "**Question 4.6**\n",
    "<br> {points: 1}\n",
    "\n",
    "Plot the **departure** delay time data as a histogram with the same format as the previous plot. **Hint:** copy and paste your code from the previous block! The only thing that will change is column from `delay_data` that you use for the x-axis.\n",
    "\n",
    "*Assign the output of ggplot to an object called* `departure_delay_plot`."
   ]
  },
  {
   "cell_type": "code",
   "execution_count": null,
   "metadata": {
    "deletable": false,
    "nbgrader": {
     "cell_type": "code",
     "checksum": "90e39ee9851bb151df74df2ff47736f8",
     "grade": false,
     "grade_id": "cell-ccb6e468d200a27c",
     "locked": false,
     "schema_version": 3,
     "solution": true,
     "task": false
    }
   },
   "outputs": [],
   "source": [
    "# your code here\n",
    "fail() # No Answer - remove if you provide an answer"
   ]
  },
  {
   "cell_type": "code",
   "execution_count": null,
   "metadata": {
    "deletable": false,
    "editable": false,
    "nbgrader": {
     "cell_type": "code",
     "checksum": "a280d26d9c3aa4217e8c3bdbfc60b12a",
     "grade": true,
     "grade_id": "cell-72a3083183536c26",
     "locked": true,
     "points": 1,
     "schema_version": 3,
     "solution": false,
     "task": false
    }
   },
   "outputs": [],
   "source": [
    "library(digest)\n",
    "stopifnot(\"type of plot is not correct (if you are using two types of geoms, try flipping the order of the geom objects!)\"= setequal(digest(paste(toString(sapply(seq_len(length(departure_delay_plot$layers)), function(i) {c(class(departure_delay_plot$layers[[i]]$geom))[1]})), \"2e1a2\")), \"ac41bf5dcd9eb9a1dd61f453e2cb196f\"))\n",
    "stopifnot(\"variable x is not correct\"= setequal(digest(paste(toString(unlist(lapply(sapply(seq_len(length(departure_delay_plot$layers)), function(i) {rlang::get_expr(c(departure_delay_plot$layers[[i]]$mapping, departure_delay_plot$mapping)$x)}), as.character))), \"2e1a2\")), \"d71a9d9d191f34ccf55e44a06f68a1d3\"))\n",
    "stopifnot(\"variable y is not correct\"= setequal(digest(paste(toString(unlist(lapply(sapply(seq_len(length(departure_delay_plot$layers)), function(i) {rlang::get_expr(c(departure_delay_plot$layers[[i]]$mapping, departure_delay_plot$mapping)$y)}), as.character))), \"2e1a2\")), \"f497909929aabe742bc3dda93b813c06\"))\n",
    "stopifnot(\"x-axis label is not descriptive, nicely formatted, or human readable\"= setequal(digest(paste(toString(rlang::get_expr(c(departure_delay_plot$layers[[1]]$mapping, departure_delay_plot$mapping)$x)!= departure_delay_plot$labels$x), \"2e1a2\")), \"2befbb2cd54ade5d7f2a16b2e6b52ff6\"))\n",
    "stopifnot(\"y-axis label is not descriptive, nicely formatted, or human readable\"= setequal(digest(paste(toString(rlang::get_expr(c(departure_delay_plot$layers[[1]]$mapping, departure_delay_plot$mapping)$y)!= departure_delay_plot$labels$y), \"2e1a2\")), \"2befbb2cd54ade5d7f2a16b2e6b52ff6\"))\n",
    "stopifnot(\"incorrect colour variable in departure_delay_plot, specify a correct one if required\"= setequal(digest(paste(toString(rlang::get_expr(c(departure_delay_plot$layers[[1]]$mapping, departure_delay_plot$mapping)$colour)), \"2e1a2\")), \"31fef37cfceea1c9edeab12dda9c4327\"))\n",
    "stopifnot(\"incorrect shape variable in departure_delay_plot, specify a correct one if required\"= setequal(digest(paste(toString(rlang::get_expr(c(departure_delay_plot$layers[[1]]$mapping, departure_delay_plot$mapping)$shape)), \"2e1a2\")), \"31fef37cfceea1c9edeab12dda9c4327\"))\n",
    "stopifnot(\"the colour label in departure_delay_plot is not descriptive, nicely formatted, or human readable\"= setequal(digest(paste(toString(rlang::get_expr(c(departure_delay_plot$layers[[1]]$mapping, departure_delay_plot$mapping)$colour) != departure_delay_plot$labels$colour), \"2e1a2\")), \"31fef37cfceea1c9edeab12dda9c4327\"))\n",
    "stopifnot(\"the shape label in departure_delay_plot is not descriptive, nicely formatted, or human readable\"= setequal(digest(paste(toString(rlang::get_expr(c(departure_delay_plot$layers[[1]]$mapping, departure_delay_plot$mapping)$colour) != departure_delay_plot$labels$shape), \"2e1a2\")), \"31fef37cfceea1c9edeab12dda9c4327\"))\n",
    "stopifnot(\"fill variable in departure_delay_plot is not correct\"= setequal(digest(paste(toString(quo_name(departure_delay_plot$mapping$fill)), \"2e1a2\")), \"42682130e49c9718e8274df3d8990110\"))\n",
    "stopifnot(\"fill label in departure_delay_plot is not informative\"= setequal(digest(paste(toString((quo_name(departure_delay_plot$mapping$fill) != departure_delay_plot$labels$fill)), \"2e1a2\")), \"31fef37cfceea1c9edeab12dda9c4327\"))\n",
    "stopifnot(\"position argument in departure_delay_plot is not correct\"= setequal(digest(paste(toString(class(departure_delay_plot$layers[[1]]$position)[1]), \"2e1a2\")), \"791ca5a35c742b46dcf49a0cd8f579ef\"))\n",
    "\n",
    "stopifnot(\"departure_delay_plot$data should be a data frame\"= setequal(digest(paste(toString('data.frame' %in% class(departure_delay_plot$data)), \"2e1a3\")), \"3f51eb0f313ed31bc8f6550b41a45731\"))\n",
    "stopifnot(\"dimensions of departure_delay_plot$data are not correct\"= setequal(digest(paste(toString(dim(departure_delay_plot$data)), \"2e1a3\")), \"2905af52010f4d6c9093c0abc4ab4793\"))\n",
    "stopifnot(\"column names of departure_delay_plot$data are not correct\"= setequal(digest(paste(toString(sort(colnames(departure_delay_plot$data))), \"2e1a3\")), \"2883e6ae7e247f83952029868f68b843\"))\n",
    "stopifnot(\"types of columns in departure_delay_plot$data are not correct\"= setequal(digest(paste(toString(sort(unlist(sapply(departure_delay_plot$data, class)))), \"2e1a3\")), \"9e280adb19272794b0551dd15f6f6f9c\"))\n",
    "stopifnot(\"values in one or more numerical columns in departure_delay_plot$data are not correct\"= setequal(digest(paste(toString(if (any(sapply(departure_delay_plot$data, is.numeric))) sort(round(sapply(departure_delay_plot$data[, sapply(departure_delay_plot$data, is.numeric)], sum, na.rm = TRUE), 2)) else 0), \"2e1a3\")), \"9c4c0e25e9e03724c25cd91bc0f2d43b\"))\n",
    "stopifnot(\"values in one or more character columns in departure_delay_plot$data are not correct\"= setequal(digest(paste(toString(if (any(sapply(departure_delay_plot$data, is.character))) sum(sapply(departure_delay_plot$data[sapply(departure_delay_plot$data, is.character)], function(x) length(unique(x)))) else 0), \"2e1a3\")), \"cafc01917eab55b9169cb972f2ffdafd\"))\n",
    "stopifnot(\"values in one or more factor columns in departure_delay_plot$data are not correct\"= setequal(digest(paste(toString(if (any(sapply(departure_delay_plot$data, is.factor))) sum(sapply(departure_delay_plot$data[, sapply(departure_delay_plot$data, is.factor)], function(col) length(unique(col)))) else 0), \"2e1a3\")), \"cafc01917eab55b9169cb972f2ffdafd\"))\n",
    "\n",
    "print('Success!')"
   ]
  },
  {
   "cell_type": "markdown",
   "metadata": {
    "deletable": false,
    "editable": false,
    "nbgrader": {
     "cell_type": "markdown",
     "checksum": "82f709a9c61549512c19cf956d26c67e",
     "grade": false,
     "grade_id": "cell-1c7eef04ed3ca25e",
     "locked": true,
     "schema_version": 3,
     "solution": false,
     "task": false
    }
   },
   "source": [
    "**Question 4.7**\n",
    "<br> {points: 1}\n",
    "\n",
    "Look at the two plots you generated. Are departures from or arrivals to `BOS` more likely to be on time (at most 15 minutes ahead/behind schedule)?\n",
    "\n",
    "_Assign your answer (either `\"departures\"` or `\"arrivals\"`) to an object called `answer4.7`._"
   ]
  },
  {
   "cell_type": "code",
   "execution_count": null,
   "metadata": {
    "deletable": false,
    "nbgrader": {
     "cell_type": "code",
     "checksum": "a58ecfec87d4ddd23b7ebd8fa06278cf",
     "grade": false,
     "grade_id": "cell-2dbbff8a5c76c43d",
     "locked": false,
     "schema_version": 3,
     "solution": true,
     "task": false
    }
   },
   "outputs": [],
   "source": [
    "# your code here\n",
    "fail() # No Answer - remove if you provide an answer"
   ]
  },
  {
   "cell_type": "code",
   "execution_count": null,
   "metadata": {
    "deletable": false,
    "editable": false,
    "nbgrader": {
     "cell_type": "code",
     "checksum": "ca8086fef3b515cfe87ee17062e4e77d",
     "grade": true,
     "grade_id": "cell-92730484cc1f18bc",
     "locked": true,
     "points": 1,
     "schema_version": 3,
     "solution": false,
     "task": false
    }
   },
   "outputs": [],
   "source": [
    "library(digest)\n",
    "stopifnot(\"type of answer4.7 is not character\"= setequal(digest(paste(toString(class(answer4.7)), \"4ee56\")), \"b296743926b866ed8cb340e78564774f\"))\n",
    "stopifnot(\"length of answer4.7 is not correct\"= setequal(digest(paste(toString(length(answer4.7)), \"4ee56\")), \"08acd515e050f1cbd4fe4f2c66c6c627\"))\n",
    "stopifnot(\"value of answer4.7 is not correct\"= setequal(digest(paste(toString(tolower(answer4.7)), \"4ee56\")), \"cdc26de946cf5b387d074103c68c60f6\"))\n",
    "stopifnot(\"letters in string value of answer4.7 are correct but case is not correct\"= setequal(digest(paste(toString(answer4.7), \"4ee56\")), \"cdc26de946cf5b387d074103c68c60f6\"))\n",
    "\n",
    "print('Success!')"
   ]
  },
  {
   "cell_type": "markdown",
   "metadata": {
    "deletable": false,
    "editable": false,
    "nbgrader": {
     "cell_type": "markdown",
     "checksum": "fcfe800de597f3d2a4de5d18b22b8e8a",
     "grade": false,
     "grade_id": "cell-f19dab8a7027fedf",
     "locked": true,
     "schema_version": 3,
     "solution": false,
     "task": false
    }
   },
   "source": [
    "So far, we've done everything using the `delay_data` database reference object constructed using functions from the `dbplyr` library. Remember: this isn't the data itself! If we want to save the small data subset that we've constructed to our local machines (perhaps to share it on the web or with collaborators), we'll need to take one last step. \n",
    "\n",
    "**Question 4.8.1**\n",
    "<br>{points: 1}\n",
    "\n",
    "We want to download the arrival / departure times data where the origin airport is BOS from the database. We will use the `collect` function to do this, which of the following should you use? \n",
    "\n",
    "A. `collect(delay_data)`\n",
    "\n",
    "B. `collect(flights_table_name)`\n",
    "\n",
    "C. `collect(conn)`\n",
    "\n",
    "D. `collect(flight_data)`\n",
    "\n",
    "*Assign your answer to an object called `answer4.8.1`. Make sure your answer is an uppercase letter and is surrounded by quotation marks (e.g. `\"F\"`).*"
   ]
  },
  {
   "cell_type": "code",
   "execution_count": null,
   "metadata": {
    "deletable": false,
    "nbgrader": {
     "cell_type": "code",
     "checksum": "045fd90d242d4d0dade7dc835613b3e7",
     "grade": false,
     "grade_id": "cell-ef26b547a5c2721d",
     "locked": false,
     "schema_version": 3,
     "solution": true,
     "task": false
    }
   },
   "outputs": [],
   "source": [
    "# Replace the fail() with your answer. \n",
    "\n",
    "# your code here\n",
    "fail() # No Answer - remove if you provide an answer"
   ]
  },
  {
   "cell_type": "code",
   "execution_count": null,
   "metadata": {
    "deletable": false,
    "editable": false,
    "nbgrader": {
     "cell_type": "code",
     "checksum": "1b1afd578d32e5ef7b009e2a8be01694",
     "grade": true,
     "grade_id": "cell-266f864a8ceefdd6",
     "locked": true,
     "points": 1,
     "schema_version": 3,
     "solution": false,
     "task": false
    }
   },
   "outputs": [],
   "source": [
    "library(digest)\n",
    "stopifnot(\"type of answer4.8.1 is not character\"= setequal(digest(paste(toString(class(answer4.8.1)), \"8df36\")), \"d515a78497e84d523c5b98462e95e515\"))\n",
    "stopifnot(\"length of answer4.8.1 is not correct\"= setequal(digest(paste(toString(length(answer4.8.1)), \"8df36\")), \"73f00b74101235c6d4e5825adfdc746d\"))\n",
    "stopifnot(\"value of answer4.8.1 is not correct\"= setequal(digest(paste(toString(tolower(answer4.8.1)), \"8df36\")), \"b0fc88016fa2226afcbd62841ddac807\"))\n",
    "stopifnot(\"letters in string value of answer4.8.1 are correct but case is not correct\"= setequal(digest(paste(toString(answer4.8.1), \"8df36\")), \"9b889fda2747d307114a9d31bb82fd05\"))\n",
    "\n",
    "print('Success!')"
   ]
  },
  {
   "cell_type": "markdown",
   "metadata": {
    "deletable": false,
    "editable": false,
    "nbgrader": {
     "cell_type": "markdown",
     "checksum": "ce81626b89475aa63b074c038f5d3431",
     "grade": false,
     "grade_id": "cell-ca24c491ffce682a",
     "locked": true,
     "schema_version": 3,
     "solution": false,
     "task": false
    }
   },
   "source": [
    "**Question 4.8.2**\n",
    "<br>{points: 1}\n",
    "\n",
    "**If you input the wrong argument in the `collect()` function below your worksheet will time out. Please double check you have the correct answer to question 4.8.1 above and input the correct argument in the `collect()` function below!** \n",
    "\n",
    "Use the `collect` function to download the arrival / departure times data where the origin airport is BOS from the database and store it in a dataframe object called `delay_dataframe`. Then, use the `write_csv` function to write the dataframe to a file called `delay_data.csv`. Save the file in the `data/` folder.\n",
    "\n",
    "*Note: there are many possible ways to use `write_csv` to customize the output. Just use the defaults here!*"
   ]
  },
  {
   "cell_type": "code",
   "execution_count": null,
   "metadata": {},
   "outputs": [],
   "source": [
    "#If you don't know how to call collect or write_csv, use this cell to \n",
    "#check the documentation by calling ?collect or ?write_csv\n"
   ]
  },
  {
   "cell_type": "code",
   "execution_count": null,
   "metadata": {
    "deletable": false,
    "nbgrader": {
     "cell_type": "code",
     "checksum": "1c90281b21afdaffd9276d3bf386d4f2",
     "grade": false,
     "grade_id": "cell-d6099a57242aca0b",
     "locked": false,
     "schema_version": 3,
     "solution": true,
     "task": false
    }
   },
   "outputs": [],
   "source": [
    "# If you input the wrong tbl in the collect() function below your worksheet will time out\n",
    "# Please make sure you check your answer to question 4.8.1 and input the correct tbl in the collect() function below \n",
    "#delay_dataframe <- collect(...)\n",
    "#write_csv(..., ...)\n",
    "\n",
    "# your code here\n",
    "fail() # No Answer - remove if you provide an answer"
   ]
  },
  {
   "cell_type": "code",
   "execution_count": null,
   "metadata": {
    "deletable": false,
    "editable": false,
    "nbgrader": {
     "cell_type": "code",
     "checksum": "c9cae5cffea240e06d1e5aa44db42d72",
     "grade": true,
     "grade_id": "cell-9cd92c82958ba9fe",
     "locked": true,
     "points": 1,
     "schema_version": 3,
     "solution": false,
     "task": false
    }
   },
   "outputs": [],
   "source": [
    "library(digest)\n",
    "stopifnot(\"delay_dataframe should be a data frame\"= setequal(digest(paste(toString('data.frame' %in% class(delay_dataframe)), \"40aa7\")), \"2b7f34d7be0488486e25b89f3268cb19\"))\n",
    "stopifnot(\"dimensions of delay_dataframe are not correct\"= setequal(digest(paste(toString(dim(delay_dataframe)), \"40aa7\")), \"84344bf189bb4585c54806480f262886\"))\n",
    "stopifnot(\"column names of delay_dataframe are not correct\"= setequal(digest(paste(toString(sort(colnames(delay_dataframe))), \"40aa7\")), \"af281a526a4004f03f7f917c95a82515\"))\n",
    "stopifnot(\"types of columns in delay_dataframe are not correct\"= setequal(digest(paste(toString(sort(unlist(sapply(delay_dataframe, class)))), \"40aa7\")), \"5d4a73bde83e263a3894dce1326a354a\"))\n",
    "stopifnot(\"values in one or more numerical columns in delay_dataframe are not correct\"= setequal(digest(paste(toString(if (any(sapply(delay_dataframe, is.numeric))) sort(round(sapply(delay_dataframe[, sapply(delay_dataframe, is.numeric)], sum, na.rm = TRUE), 2)) else 0), \"40aa7\")), \"26390ae844b75f24d76927f3a768e398\"))\n",
    "stopifnot(\"values in one or more character columns in delay_dataframe are not correct\"= setequal(digest(paste(toString(if (any(sapply(delay_dataframe, is.character))) sum(sapply(delay_dataframe[sapply(delay_dataframe, is.character)], function(x) length(unique(x)))) else 0), \"40aa7\")), \"6e42f1e961d449567f489ddec041d5f1\"))\n",
    "stopifnot(\"values in one or more factor columns in delay_dataframe are not correct\"= setequal(digest(paste(toString(if (any(sapply(delay_dataframe, is.factor))) sum(sapply(delay_dataframe[, sapply(delay_dataframe, is.factor)], function(col) length(unique(col)))) else 0), \"40aa7\")), \"6e42f1e961d449567f489ddec041d5f1\"))\n",
    "\n",
    "stopifnot(\"type of file.exists('data/delay_data.csv') is not logical\"= setequal(digest(paste(toString(class(file.exists('data/delay_data.csv'))), \"40aa8\")), \"64fcc0d508a6edfd683050962e404347\"))\n",
    "stopifnot(\"logical value of file.exists('data/delay_data.csv') is not correct\"= setequal(digest(paste(toString(file.exists('data/delay_data.csv')), \"40aa8\")), \"c18a1ff63214ee37df7c32b0344f2144\"))\n",
    "\n",
    "stopifnot(\"type of sort(colSums(read_csv('data/delay_data.csv', show_col_types = FALSE))) is not numeric\"= setequal(digest(paste(toString(class(sort(colSums(read_csv('data/delay_data.csv', show_col_types = FALSE))))), \"40aa9\")), \"8d9dff627a2ae45ac26ada570b73405f\"))\n",
    "stopifnot(\"value of sort(colSums(read_csv('data/delay_data.csv', show_col_types = FALSE))) is not correct (rounded to 2 decimal places)\"= setequal(digest(paste(toString(round(sort(colSums(read_csv('data/delay_data.csv', show_col_types = FALSE))), 2)), \"40aa9\")), \"85be67080597ed3b9cd1fff3cc6f6da8\"))\n",
    "stopifnot(\"length of sort(colSums(read_csv('data/delay_data.csv', show_col_types = FALSE))) is not correct\"= setequal(digest(paste(toString(length(sort(colSums(read_csv('data/delay_data.csv', show_col_types = FALSE))))), \"40aa9\")), \"1c4e2fff17ee6180493ff1f4535f13e8\"))\n",
    "stopifnot(\"values of sort(colSums(read_csv('data/delay_data.csv', show_col_types = FALSE))) are not correct\"= setequal(digest(paste(toString(sort(round(sort(colSums(read_csv('data/delay_data.csv', show_col_types = FALSE))), 2))), \"40aa9\")), \"85be67080597ed3b9cd1fff3cc6f6da8\"))\n",
    "\n",
    "print('Success!')"
   ]
  },
  {
   "cell_type": "code",
   "execution_count": null,
   "metadata": {
    "deletable": false,
    "editable": false,
    "nbgrader": {
     "cell_type": "code",
     "checksum": "caa58e5c5e67196c2aa4b8e50319c2a0",
     "grade": false,
     "grade_id": "cell-00117e573b347f82",
     "locked": true,
     "schema_version": 3,
     "solution": false,
     "task": false
    }
   },
   "outputs": [],
   "source": [
    "source(\"cleanup.R\")"
   ]
  },
  {
   "cell_type": "markdown",
   "metadata": {
    "deletable": false,
    "editable": false,
    "nbgrader": {
     "cell_type": "markdown",
     "checksum": "28a050226cb8791cdf4e1a8aa210a557",
     "grade": false,
     "grade_id": "cell-286b4e70afde82f3",
     "locked": true,
     "schema_version": 3,
     "solution": false,
     "task": false
    }
   },
   "source": [
    "## 5 (Optional). Reading Data from the Internet\n",
    "\n",
    "### How has the World Gross Domestic product changed throughout history?\n",
    "\n",
    "\n",
    "As defined on Wikipedia, the \"Gross world product (GWP) is the combined gross national product of all the countries in the world.\" Living in our modern age with our roaring (sometimes up and sometimes down) economies, one might wonder how the world economy has changed over history. To answer this question we will scrape data from the [Wikipedia Gross world product page](https://en.wikipedia.org/wiki/Gross_world_product).\n",
    "\n",
    "Your data set will include the following columns: \n",
    "* `year`\n",
    "* `gwp_value`\n",
    "\n",
    "Specifically we will scrape the 2 columns named \"Year\" and \"Real GWP\" in the table under the header \"Historical and prehistorical estimates\". **The end goal of this exercise is to create a line plot with year on the x-axis and GWP value on the y-axis.**"
   ]
  },
  {
   "cell_type": "markdown",
   "metadata": {
    "deletable": false,
    "editable": false,
    "nbgrader": {
     "cell_type": "markdown",
     "checksum": "85cdf20f17d413b086ef1cab67ea5bd1",
     "grade": false,
     "grade_id": "cell-2cfe0d273d96fdf7",
     "locked": true,
     "schema_version": 3,
     "solution": false
    }
   },
   "source": [
    "**Question 5.1.0** Multiple Choice: \n",
    "<br> {points: 0}\n",
    "\n",
    "Under which of the following headers in the table will we scrape from on the [Wikipedia Gross world product page](https://en.wikipedia.org/wiki/Gross_world_product)?\n",
    "\n",
    "A. Gross world product\n",
    "\n",
    "B. Recent growth\n",
    "\n",
    "C. Historical and prehistorical estimates\n",
    "\n",
    "D. See also\n",
    "\n",
    "*Assign your answer to an object called `answer5.1.0`. Make sure your answer is an uppercase letter and is surrounded by quotation marks (e.g. `\"F\"`).* "
   ]
  },
  {
   "cell_type": "code",
   "execution_count": null,
   "metadata": {
    "deletable": false,
    "nbgrader": {
     "cell_type": "code",
     "checksum": "d6a63003c79ef9b5b816298a855f6907",
     "grade": false,
     "grade_id": "cell-a9b7dd149eeb7782",
     "locked": false,
     "schema_version": 3,
     "solution": true
    }
   },
   "outputs": [],
   "source": [
    "# Replace the fail() with your answer. \n",
    "\n",
    "# your code here\n",
    "fail() # No Answer - remove if you provide an answer"
   ]
  },
  {
   "cell_type": "code",
   "execution_count": null,
   "metadata": {
    "deletable": false,
    "editable": false,
    "nbgrader": {
     "cell_type": "code",
     "checksum": "b335cae055f9f4a5efabef6852e756a4",
     "grade": true,
     "grade_id": "cell-631492053b2d5ec4",
     "locked": true,
     "points": 0,
     "schema_version": 3,
     "solution": false
    }
   },
   "outputs": [],
   "source": [
    "library(digest)\n",
    "stopifnot(\"type of answer5.1.0 is not character\"= setequal(digest(paste(toString(class(answer5.1.0)), \"724de\")), \"5e6de323f6c32e3a9ae47e09547de24c\"))\n",
    "stopifnot(\"length of answer5.1.0 is not correct\"= setequal(digest(paste(toString(length(answer5.1.0)), \"724de\")), \"6cfa3ade5bc28564a815735163c23789\"))\n",
    "stopifnot(\"value of answer5.1.0 is not correct\"= setequal(digest(paste(toString(tolower(answer5.1.0)), \"724de\")), \"2313b54adb2b7c870dc72ef858c02138\"))\n",
    "stopifnot(\"letters in string value of answer5.1.0 are correct but case is not correct\"= setequal(digest(paste(toString(answer5.1.0), \"724de\")), \"d82567186bea71b0153b440d3c95ec76\"))\n",
    "\n",
    "print('Success!')"
   ]
  },
  {
   "cell_type": "markdown",
   "metadata": {
    "deletable": false,
    "editable": false,
    "nbgrader": {
     "cell_type": "markdown",
     "checksum": "fca585857777a2519f3ac3cb705a8efb",
     "grade": false,
     "grade_id": "cell-cc8eaf2a5c4886c3",
     "locked": true,
     "schema_version": 3,
     "solution": false
    }
   },
   "source": [
    "**Question 5.1.1** Multiple Choice: \n",
    "<br> {points: 0}\n",
    "\n",
    "What is going to be the x-axis of the scatter plot we create?\n",
    "\n",
    "A. compound annual growth rate\n",
    "\n",
    "B. the value of the gross world product\n",
    "\n",
    "C. year\n",
    "\n",
    "*Assign your answer to an object called `answer5.1.1`. Make sure your answer is an uppercase letter and is surrounded by quotation marks (e.g. `\"F\"`).* "
   ]
  },
  {
   "cell_type": "code",
   "execution_count": null,
   "metadata": {
    "deletable": false,
    "nbgrader": {
     "cell_type": "code",
     "checksum": "3812069a45cc597fec98a5cb34a53d94",
     "grade": false,
     "grade_id": "cell-6a1ec0727ab3608a",
     "locked": false,
     "schema_version": 3,
     "solution": true
    }
   },
   "outputs": [],
   "source": [
    "# Replace the fail() with your answer. \n",
    "\n",
    "# your code here\n",
    "fail() # No Answer - remove if you provide an answer"
   ]
  },
  {
   "cell_type": "code",
   "execution_count": null,
   "metadata": {
    "deletable": false,
    "editable": false,
    "nbgrader": {
     "cell_type": "code",
     "checksum": "5017300c9fefa9713a7181464bb70ccd",
     "grade": true,
     "grade_id": "cell-29f38784d22f2c8b",
     "locked": true,
     "points": 0,
     "schema_version": 3,
     "solution": false
    }
   },
   "outputs": [],
   "source": [
    "library(digest)\n",
    "stopifnot(\"type of answer5.1.1 is not character\"= setequal(digest(paste(toString(class(answer5.1.1)), \"e33ca\")), \"696219dc2ca3daaf4114cf5c4da4198c\"))\n",
    "stopifnot(\"length of answer5.1.1 is not correct\"= setequal(digest(paste(toString(length(answer5.1.1)), \"e33ca\")), \"2a803588dfd8a26bc0790b4c4f703c21\"))\n",
    "stopifnot(\"value of answer5.1.1 is not correct\"= setequal(digest(paste(toString(tolower(answer5.1.1)), \"e33ca\")), \"e6046286aaf4d639ca81653f336c51f0\"))\n",
    "stopifnot(\"letters in string value of answer5.1.1 are correct but case is not correct\"= setequal(digest(paste(toString(answer5.1.1), \"e33ca\")), \"bf3020b29e3a6f65a41ca9032d63701f\"))\n",
    "\n",
    "print('Success!')"
   ]
  },
  {
   "cell_type": "markdown",
   "metadata": {
    "deletable": false,
    "editable": false,
    "nbgrader": {
     "cell_type": "markdown",
     "checksum": "544d4470d7c988611a3092229e7134ba",
     "grade": false,
     "grade_id": "cell-63c50471d354863a",
     "locked": true,
     "schema_version": 3,
     "solution": false,
     "task": false
    }
   },
   "source": [
    "We need to now load the `rvest` package to begin our web scraping!"
   ]
  },
  {
   "cell_type": "code",
   "execution_count": null,
   "metadata": {
    "deletable": false,
    "editable": false,
    "nbgrader": {
     "cell_type": "code",
     "checksum": "dcb3639930d0a746a7895981c5d82469",
     "grade": false,
     "grade_id": "cell-66f474de0fdcb58d",
     "locked": true,
     "schema_version": 3,
     "solution": false,
     "task": false
    }
   },
   "outputs": [],
   "source": [
    "# Run this cell \n",
    "library(rvest)"
   ]
  },
  {
   "cell_type": "markdown",
   "metadata": {
    "deletable": false,
    "editable": false,
    "nbgrader": {
     "cell_type": "markdown",
     "checksum": "a1b165e2c68bc5dfbdde13cee9d7d281",
     "grade": false,
     "grade_id": "cell-5815e9c54d669efe",
     "locked": true,
     "schema_version": 3,
     "solution": false
    }
   },
   "source": [
    "**Question 5.2**\n",
    "<br> {points: 0}\n",
    "\n",
    "Use `read_html` to download information from the URL given in the cell below. Instead of copying the entire URL, you can simply use the object (`url`) after `read_html()`.\n",
    "\n",
    "*Assign your answer to an object called `gwp`.*"
   ]
  },
  {
   "cell_type": "code",
   "execution_count": null,
   "metadata": {
    "deletable": false,
    "nbgrader": {
     "cell_type": "code",
     "checksum": "0be3249741897d9b19ed4ba9ee9d496a",
     "grade": false,
     "grade_id": "cell-eb85da73cb3eedb1",
     "locked": false,
     "schema_version": 3,
     "solution": true
    }
   },
   "outputs": [],
   "source": [
    "url <- 'https://en.wikipedia.org/wiki/Gross_world_product'\n",
    "\n",
    "# your code here\n",
    "fail() # No Answer - remove if you provide an answer\n",
    "print(gwp)"
   ]
  },
  {
   "cell_type": "code",
   "execution_count": null,
   "metadata": {
    "deletable": false,
    "editable": false,
    "nbgrader": {
     "cell_type": "code",
     "checksum": "910315291524d0226c2088c809d31d96",
     "grade": true,
     "grade_id": "cell-0c1e5c213d4da058",
     "locked": true,
     "points": 0,
     "schema_version": 3,
     "solution": false
    }
   },
   "outputs": [],
   "source": [
    "library(digest)\n",
    "stopifnot(\"type of exists('gwp') is not logical\"= setequal(digest(paste(toString(class(exists('gwp'))), \"47f12\")), \"33b38901d045f3172ed04ad9284c42ed\"))\n",
    "stopifnot(\"logical value of exists('gwp') is not correct\"= setequal(digest(paste(toString(exists('gwp')), \"47f12\")), \"6ce3828d69947f7a2e359e30cbe10934\"))\n",
    "\n",
    "print('Success!')"
   ]
  },
  {
   "cell_type": "markdown",
   "metadata": {
    "deletable": false,
    "editable": false,
    "nbgrader": {
     "cell_type": "markdown",
     "checksum": "beb46df7915d62d37e509535cbf96e36",
     "grade": false,
     "grade_id": "cell-f3a7fe22bb441577",
     "locked": true,
     "schema_version": 3,
     "solution": false
    }
   },
   "source": [
    "**Question 5.3**\n",
    "\n",
    "Run the cell below to create the first column of your data set (the year from the table under the \"Historical and prehistorical estimates\" header). The node was obtained using `SelectorGadget`. "
   ]
  },
  {
   "cell_type": "code",
   "execution_count": null,
   "metadata": {
    "deletable": false,
    "editable": false,
    "nbgrader": {
     "cell_type": "code",
     "checksum": "8c5b4b22c8b021a70b8cdf90b5c68ff6",
     "grade": false,
     "grade_id": "cell-4856375846dd1d86",
     "locked": true,
     "schema_version": 3,
     "solution": false,
     "task": false
    }
   },
   "outputs": [],
   "source": [
    "# Run this cell to create the first column for your data set. \n",
    "year <- html_text(html_nodes(gwp, \".wikitable tbody:nth-child(1) td:nth-child(1)\"))\n",
    "head(year)"
   ]
  },
  {
   "cell_type": "markdown",
   "metadata": {
    "deletable": false,
    "editable": false,
    "nbgrader": {
     "cell_type": "markdown",
     "checksum": "4a5735be51b5809ce081f2d22037a84d",
     "grade": false,
     "grade_id": "cell-497d59ada8bb5194",
     "locked": true,
     "schema_version": 3,
     "solution": false,
     "task": false
    }
   },
   "source": [
    "We can see that although we want numbers for the year, the data we scraped includes the characters `CE` and `\\n` (a newline character). We will have to do some string manipulation and then convert the years from characters to numbers. \n",
    "\n",
    "First we use the `str_replace_all` function to match the string `\" CE\\n\"` and replace it with nothing `\"\"`:"
   ]
  },
  {
   "cell_type": "code",
   "execution_count": null,
   "metadata": {},
   "outputs": [],
   "source": [
    "# Run this cell.\n",
    "# Use stringr library.\n",
    "library(stringr)\n",
    "# Replace \" CE\\n\" with nothing.\n",
    "year <- str_replace_all(string = year, pattern = \" CE\\n\", replacement = \"\")\n",
    "print(year)"
   ]
  },
  {
   "cell_type": "markdown",
   "metadata": {
    "deletable": false,
    "editable": false,
    "nbgrader": {
     "cell_type": "markdown",
     "checksum": "7be0e99f1c55621563509665bd0764fa",
     "grade": false,
     "grade_id": "cell-f90a8f5c3c41d414",
     "locked": true,
     "schema_version": 3,
     "solution": false,
     "task": false
    }
   },
   "source": [
    "When we print year, we can see we were able to remove `\" CE\\n\"`, but we missed that there is also `\" BCE\\n\"` on the earliest years! There are also commas (`\",\"`) in the large BCE years that we will have to remove. We also need to put a `-` sign in front of the BCE numbers so we don't confuse them with the CE numbers after we convert everything to numbers. To do this we will need to use a similar strategy to clean this all up! \n",
    "\n",
    "This week we will provide you the code to do this cleaning, next week you will learn to do these kinds of things yourself. After we do all the string/text manipulation then we use the `as.numeric` function to convert the text to numbers."
   ]
  },
  {
   "cell_type": "code",
   "execution_count": null,
   "metadata": {},
   "outputs": [],
   "source": [
    "# Run this cell to clean up the year data and convert it to a number.\n",
    "# Use grep to select the lines containing \" BC\\n\" and put a - at the beginning of them.\n",
    "year[grepl(pattern = \" BCE\\n\", x = year)] <- str_replace_all(string = year[grepl(pattern = \" BCE\\n\", x = year)], pattern = \"^\", replacement = \"-\")\n",
    "\n",
    "# Replace all commas with nothing.\n",
    "year <- str_replace_all(string = year, pattern = \",\", replacement = \"\")\n",
    "# Extract the minus symbol and the numbers.\n",
    "year <- as.numeric(str_extract(string = year, pattern = \"-?[0-9]+\"))\n",
    "print(year)"
   ]
  },
  {
   "cell_type": "markdown",
   "metadata": {
    "deletable": false,
    "editable": false,
    "nbgrader": {
     "cell_type": "markdown",
     "checksum": "ed83d42aaaad35e641da953fd5e8dabd",
     "grade": false,
     "grade_id": "cell-ee11d70af0ae1f21",
     "locked": true,
     "schema_version": 3,
     "solution": false
    }
   },
   "source": [
    "**Question 5.4**\n",
    "<br> {points: 0}\n",
    "\n",
    "Create a new column for the gross world product (GWP) from the table we are scraping. Don't forget to use `SelectorGadget` to obtain the CSS selector needed to scrape the GWP values from the table we are scraping. Assign your answer to an object called `gwp_value`. \n",
    "\n",
    "Fill in the `...` in the cell below. Copy and paste your finished answer into the `fail()`. \n",
    "\n",
    "Refer to **Question 5.3** and don't be afraid to ask for help. "
   ]
  },
  {
   "cell_type": "code",
   "execution_count": null,
   "metadata": {
    "deletable": false,
    "nbgrader": {
     "cell_type": "code",
     "checksum": "0dda70904680d98163b5608e65e2d8fd",
     "grade": false,
     "grade_id": "cell-fc7e31721b1040ff",
     "locked": false,
     "schema_version": 3,
     "solution": true,
     "task": false
    }
   },
   "outputs": [],
   "source": [
    "#... <- ...(html_nodes(gwp, ...))\n",
    "\n",
    "# your code here\n",
    "fail() # No Answer - remove if you provide an answer\n",
    "head(gwp_value)"
   ]
  },
  {
   "cell_type": "code",
   "execution_count": null,
   "metadata": {
    "deletable": false,
    "editable": false,
    "nbgrader": {
     "cell_type": "code",
     "checksum": "070427e42f008d77a400cb52f6ed6943",
     "grade": true,
     "grade_id": "cell-15126d99f838d9b6",
     "locked": true,
     "points": 0,
     "schema_version": 3,
     "solution": false
    }
   },
   "outputs": [],
   "source": [
    "library(digest)\n",
    "stopifnot(\"type of gwp_value is not character\"= setequal(digest(paste(toString(class(gwp_value)), \"78844\")), \"4b87f5b097f634387f6a23301fa583a4\"))\n",
    "stopifnot(\"length of gwp_value is not correct\"= setequal(digest(paste(toString(length(gwp_value)), \"78844\")), \"ed3573de9724b5c7034ae04dee5d47fe\"))\n",
    "stopifnot(\"value of gwp_value is not correct\"= setequal(digest(paste(toString(tolower(gwp_value)), \"78844\")), \"b482280bf73c2b641053be209d04ec1c\"))\n",
    "stopifnot(\"letters in string value of gwp_value are correct but case is not correct\"= setequal(digest(paste(toString(gwp_value), \"78844\")), \"b482280bf73c2b641053be209d04ec1c\"))\n",
    "\n",
    "print('Success!')"
   ]
  },
  {
   "cell_type": "markdown",
   "metadata": {
    "deletable": false,
    "editable": false,
    "nbgrader": {
     "cell_type": "markdown",
     "checksum": "7924a07e289d03e2323c7e38c0082600",
     "grade": false,
     "grade_id": "cell-b146bdcc907149d7",
     "locked": true,
     "schema_version": 3,
     "solution": false,
     "task": false
    }
   },
   "source": [
    "Again, looking at the output of `head(gwp_value)` we see we have some cleaning and type conversions to do. We need to remove the commas, the extraneous trailing information in the first 3 columns, and the `\"\\n\"` character again. We provide the code to do this below:"
   ]
  },
  {
   "cell_type": "code",
   "execution_count": null,
   "metadata": {},
   "outputs": [],
   "source": [
    "# Run this cell to clean up the year data and convert it to a number.\n",
    "\n",
    "# Replace all commas with nothing.\n",
    "gwp_value <- str_replace_all(string = gwp_value, pattern = \",\", replacement = \"\")\n",
    "\n",
    "# Extract the numbers and decimals.\n",
    "gwp_value <- as.numeric(str_extract(string = gwp_value, pattern = \"[0-9.]+\")) \n",
    "head(gwp_value)"
   ]
  },
  {
   "cell_type": "markdown",
   "metadata": {
    "deletable": false,
    "editable": false,
    "nbgrader": {
     "cell_type": "markdown",
     "checksum": "7b875f4e42e8f36bbf2ff82e266ac1b1",
     "grade": false,
     "grade_id": "cell-e7cd941c74d291b3",
     "locked": true,
     "schema_version": 3,
     "solution": false
    }
   },
   "source": [
    "**Question 5.5**\n",
    "<br> {points: 0}\n",
    "\n",
    "Use the `tidyverse` `tibble` function to create a data frame named `gwp` with `year` and `gwp_value` as columns. The general form for the creating data frames from vectors/lists using the `tibble` function is as follows:\n",
    "\n",
    "```tibble(COLUMN1_NAME, COLUMN2_NAME, COLUMN3_NAME, ...)```"
   ]
  },
  {
   "cell_type": "code",
   "execution_count": null,
   "metadata": {
    "deletable": false,
    "nbgrader": {
     "cell_type": "code",
     "checksum": "de44a69b1db7bdf66bc4679a3cbd1bfe",
     "grade": false,
     "grade_id": "cell-d1371cd4b958c5bc",
     "locked": false,
     "schema_version": 3,
     "solution": true
    }
   },
   "outputs": [],
   "source": [
    "#... <- tibble(..., ...)\n",
    "\n",
    "# your code here\n",
    "fail() # No Answer - remove if you provide an answer\n",
    "gwp"
   ]
  },
  {
   "cell_type": "code",
   "execution_count": null,
   "metadata": {
    "deletable": false,
    "editable": false,
    "nbgrader": {
     "cell_type": "code",
     "checksum": "cb45f24f12f4ebecd5f484951fd7a0cd",
     "grade": true,
     "grade_id": "cell-2e58f17d6d715a58",
     "locked": true,
     "points": 0,
     "schema_version": 3,
     "solution": false
    }
   },
   "outputs": [],
   "source": [
    "library(digest)\n",
    "stopifnot(\"gwp should be a data frame\"= setequal(digest(paste(toString('data.frame' %in% class(gwp)), \"dedaf\")), \"acde57e1612a5a5e3f00b7ea0562caf4\"))\n",
    "stopifnot(\"dimensions of gwp are not correct\"= setequal(digest(paste(toString(dim(gwp)), \"dedaf\")), \"b65002a5ebe1cc1d9f7be32078fab0b1\"))\n",
    "stopifnot(\"column names of gwp are not correct\"= setequal(digest(paste(toString(sort(colnames(gwp))), \"dedaf\")), \"82510f463befb5fb0fb73532fa80e7cb\"))\n",
    "stopifnot(\"types of columns in gwp are not correct\"= setequal(digest(paste(toString(sort(unlist(sapply(gwp, class)))), \"dedaf\")), \"7360e40754c195fd570fb5d54018578b\"))\n",
    "stopifnot(\"values in one or more numerical columns in gwp are not correct\"= setequal(digest(paste(toString(if (any(sapply(gwp, is.numeric))) sort(round(sapply(gwp[, sapply(gwp, is.numeric)], sum, na.rm = TRUE), 2)) else 0), \"dedaf\")), \"d4f37ac12a2006085088d6391c4574f9\"))\n",
    "stopifnot(\"values in one or more character columns in gwp are not correct\"= setequal(digest(paste(toString(if (any(sapply(gwp, is.character))) sum(sapply(gwp[sapply(gwp, is.character)], function(x) length(unique(x)))) else 0), \"dedaf\")), \"2f158fa02743d1a67eddfe6a61f7964a\"))\n",
    "stopifnot(\"values in one or more factor columns in gwp are not correct\"= setequal(digest(paste(toString(if (any(sapply(gwp, is.factor))) sum(sapply(gwp[, sapply(gwp, is.factor)], function(col) length(unique(col)))) else 0), \"dedaf\")), \"2f158fa02743d1a67eddfe6a61f7964a\"))\n",
    "\n",
    "print('Success!')"
   ]
  },
  {
   "cell_type": "markdown",
   "metadata": {
    "deletable": false,
    "editable": false,
    "nbgrader": {
     "cell_type": "markdown",
     "checksum": "d1de75d1889dc1c1c4d758863d5076ce",
     "grade": false,
     "grade_id": "cell-4ec224570b0a6b37",
     "locked": true,
     "schema_version": 3,
     "solution": false,
     "task": false
    }
   },
   "source": [
    "One last piece of data transformation/wrangling we will do before we get to data visualization is to create another column called `sqrt_year` which scales the year values so that they will be more informative when we plot them (if you look at our year data we have a lot of years in the recent past, and fewer and fewer as we go back in time). Often times you can just transform the scale within `ggplot` (for example see what we do with the `gwp_value` later on), but the year value is tricky for scaling because it contains negative values. So we need to first make everything positive, then take the square root, and then re-transform the values that should be negative to negative again! We provide the code to do this below."
   ]
  },
  {
   "cell_type": "code",
   "execution_count": null,
   "metadata": {},
   "outputs": [],
   "source": [
    "gwp <- mutate(gwp, sqrt_year = sqrt(abs(year)))\n",
    "gwp <- mutate(gwp, sqrt_year = if_else(year < 0, sqrt_year * -1, sqrt_year))\n",
    "gwp"
   ]
  },
  {
   "cell_type": "markdown",
   "metadata": {
    "deletable": false,
    "editable": false,
    "nbgrader": {
     "cell_type": "markdown",
     "checksum": "71e19ecfe3b381e589986cc456351052",
     "grade": false,
     "grade_id": "cell-ee318d84dfeeaa45",
     "locked": true,
     "schema_version": 3,
     "solution": false
    }
   },
   "source": [
    "**Question 5.6**\n",
    "<br> {points: 0}\n",
    "\n",
    "Create a line plot using the `gwp` data frame where `sqrt_year` is on the x-axis and `gwp_value` is on the y-axis. *We provide the plot code to relabel the x-axis with the human understandable years instead of the tranformed ones we plot.* Name your plot object `gwp_historical`. To make a line plot instead of a scatter plot you should use the `geom_line()` function instead of the `geom_point()` function."
   ]
  },
  {
   "cell_type": "code",
   "execution_count": null,
   "metadata": {
    "deletable": false,
    "nbgrader": {
     "cell_type": "code",
     "checksum": "c5d9e0b6476530aa0df8d1336d2ea47c",
     "grade": false,
     "grade_id": "cell-bbe05ddba3e2c8e7",
     "locked": false,
     "schema_version": 3,
     "solution": true
    }
   },
   "outputs": [],
   "source": [
    "#... <- ggplot(gwp, aes(x = ..., y = ...)) +\n",
    "    #geom_line() +\n",
    "    #scale_y_continuous(trans='log10') +\n",
    "    #scale_x_continuous(breaks = c(-1000, -750, -500, -250, -77.7, 0, 38.7), \n",
    "    #                   labels = c(\"-1000000\", \"-562500\", \"-250000\", \"-62500\", \"-5000\", \"0\", \"1500\")) +\n",
    "    #ylab(\"...\") +\n",
    "    #xlab(\"Year\") +\n",
    "    #theme(text = element_text(size=20))\n",
    "\n",
    "\n",
    "options(repr.plot.width=15, repr.plot.height=7)\n",
    "# your code here\n",
    "fail() # No Answer - remove if you provide an answer\n",
    "gwp_historical"
   ]
  },
  {
   "cell_type": "code",
   "execution_count": null,
   "metadata": {
    "deletable": false,
    "editable": false,
    "nbgrader": {
     "cell_type": "code",
     "checksum": "849a51161e7294871ca243f997a3eb0a",
     "grade": true,
     "grade_id": "cell-bb0696a343e1255c",
     "locked": true,
     "points": 0,
     "schema_version": 3,
     "solution": false
    }
   },
   "outputs": [],
   "source": [
    "library(digest)\n",
    "stopifnot(\"type of plot is not correct (if you are using two types of geoms, try flipping the order of the geom objects!)\"= setequal(digest(paste(toString(sapply(seq_len(length(gwp_historical$layers)), function(i) {c(class(gwp_historical$layers[[i]]$geom))[1]})), \"a6ee7\")), \"0329a316fb126e5552cf7be9d101fc89\"))\n",
    "stopifnot(\"variable x is not correct\"= setequal(digest(paste(toString(unlist(lapply(sapply(seq_len(length(gwp_historical$layers)), function(i) {rlang::get_expr(c(gwp_historical$layers[[i]]$mapping, gwp_historical$mapping)$x)}), as.character))), \"a6ee7\")), \"beb7da51bc2d9ceba8fa5d8127c043b2\"))\n",
    "stopifnot(\"variable y is not correct\"= setequal(digest(paste(toString(unlist(lapply(sapply(seq_len(length(gwp_historical$layers)), function(i) {rlang::get_expr(c(gwp_historical$layers[[i]]$mapping, gwp_historical$mapping)$y)}), as.character))), \"a6ee7\")), \"4e73d8fa128da48a8acf1455947634aa\"))\n",
    "stopifnot(\"x-axis label is not descriptive, nicely formatted, or human readable\"= setequal(digest(paste(toString(rlang::get_expr(c(gwp_historical$layers[[1]]$mapping, gwp_historical$mapping)$x)!= gwp_historical$labels$x), \"a6ee7\")), \"0aa9d09909990d5f8b6647f9c23e10aa\"))\n",
    "stopifnot(\"y-axis label is not descriptive, nicely formatted, or human readable\"= setequal(digest(paste(toString(rlang::get_expr(c(gwp_historical$layers[[1]]$mapping, gwp_historical$mapping)$y)!= gwp_historical$labels$y), \"a6ee7\")), \"0aa9d09909990d5f8b6647f9c23e10aa\"))\n",
    "stopifnot(\"incorrect colour variable in gwp_historical, specify a correct one if required\"= setequal(digest(paste(toString(rlang::get_expr(c(gwp_historical$layers[[1]]$mapping, gwp_historical$mapping)$colour)), \"a6ee7\")), \"6c71a82fbc6a03bbabdb1dfc171be240\"))\n",
    "stopifnot(\"incorrect shape variable in gwp_historical, specify a correct one if required\"= setequal(digest(paste(toString(rlang::get_expr(c(gwp_historical$layers[[1]]$mapping, gwp_historical$mapping)$shape)), \"a6ee7\")), \"6c71a82fbc6a03bbabdb1dfc171be240\"))\n",
    "stopifnot(\"the colour label in gwp_historical is not descriptive, nicely formatted, or human readable\"= setequal(digest(paste(toString(rlang::get_expr(c(gwp_historical$layers[[1]]$mapping, gwp_historical$mapping)$colour) != gwp_historical$labels$colour), \"a6ee7\")), \"6c71a82fbc6a03bbabdb1dfc171be240\"))\n",
    "stopifnot(\"the shape label in gwp_historical is not descriptive, nicely formatted, or human readable\"= setequal(digest(paste(toString(rlang::get_expr(c(gwp_historical$layers[[1]]$mapping, gwp_historical$mapping)$colour) != gwp_historical$labels$shape), \"a6ee7\")), \"6c71a82fbc6a03bbabdb1dfc171be240\"))\n",
    "stopifnot(\"fill variable in gwp_historical is not correct\"= setequal(digest(paste(toString(quo_name(gwp_historical$mapping$fill)), \"a6ee7\")), \"c931eb195556f5af3b8ec4586ca49c0d\"))\n",
    "stopifnot(\"fill label in gwp_historical is not informative\"= setequal(digest(paste(toString((quo_name(gwp_historical$mapping$fill) != gwp_historical$labels$fill)), \"a6ee7\")), \"6c71a82fbc6a03bbabdb1dfc171be240\"))\n",
    "stopifnot(\"position argument in gwp_historical is not correct\"= setequal(digest(paste(toString(class(gwp_historical$layers[[1]]$position)[1]), \"a6ee7\")), \"57a9c5ce3fa525718c484edf2db068a9\"))\n",
    "\n",
    "stopifnot(\"gwp_historical$data should be a data frame\"= setequal(digest(paste(toString('data.frame' %in% class(gwp_historical$data)), \"a6ee8\")), \"96a1f09ca5e4b0f0d2473894be7c0e51\"))\n",
    "stopifnot(\"dimensions of gwp_historical$data are not correct\"= setequal(digest(paste(toString(dim(gwp_historical$data)), \"a6ee8\")), \"7cd3fa39c80bf7a43022a935552cc8fe\"))\n",
    "stopifnot(\"column names of gwp_historical$data are not correct\"= setequal(digest(paste(toString(sort(colnames(gwp_historical$data))), \"a6ee8\")), \"9a9435233901d55bc58b4f7274511b8e\"))\n",
    "stopifnot(\"types of columns in gwp_historical$data are not correct\"= setequal(digest(paste(toString(sort(unlist(sapply(gwp_historical$data, class)))), \"a6ee8\")), \"85b7c656fe2b092675a7aeb441bae509\"))\n",
    "stopifnot(\"values in one or more numerical columns in gwp_historical$data are not correct\"= setequal(digest(paste(toString(if (any(sapply(gwp_historical$data, is.numeric))) sort(round(sapply(gwp_historical$data[, sapply(gwp_historical$data, is.numeric)], sum, na.rm = TRUE), 2)) else 0), \"a6ee8\")), \"928635b924ff5faaff498fcccbf1a52d\"))\n",
    "stopifnot(\"values in one or more character columns in gwp_historical$data are not correct\"= setequal(digest(paste(toString(if (any(sapply(gwp_historical$data, is.character))) sum(sapply(gwp_historical$data[sapply(gwp_historical$data, is.character)], function(x) length(unique(x)))) else 0), \"a6ee8\")), \"ee0b03bc112ef440feeafbd4ba48dab5\"))\n",
    "stopifnot(\"values in one or more factor columns in gwp_historical$data are not correct\"= setequal(digest(paste(toString(if (any(sapply(gwp_historical$data, is.factor))) sum(sapply(gwp_historical$data[, sapply(gwp_historical$data, is.factor)], function(col) length(unique(col)))) else 0), \"a6ee8\")), \"ee0b03bc112ef440feeafbd4ba48dab5\"))\n",
    "\n",
    "print('Success!')"
   ]
  },
  {
   "cell_type": "markdown",
   "metadata": {
    "deletable": false,
    "editable": false,
    "nbgrader": {
     "cell_type": "markdown",
     "checksum": "bdc6572dc2f768aab9f037782e070f89",
     "grade": false,
     "grade_id": "cell-fac12005e571ba5b",
     "locked": true,
     "schema_version": 3,
     "solution": false
    }
   },
   "source": [
    "**Question 5.7** \n",
    "<br> {points: 0}\n",
    "\n",
    "Looking at the line plot, when does the Gross World Domestic Product first start to more rapidly increase (i.e., when does the slope of the line first change)? \n",
    "\n",
    "A. roughly around year -1,000,000\n",
    "\n",
    "B. roughly around year -250,000\n",
    "\n",
    "C. roughly around year -5000\n",
    "\n",
    "D. roughly around year 1500\n",
    "\n",
    "\n",
    "*Assign your answer to an object called `answer5.7`. Make sure your answer is an uppercase letter and is surrounded by quotation marks (e.g. `\"F\"`).*"
   ]
  },
  {
   "cell_type": "code",
   "execution_count": null,
   "metadata": {
    "deletable": false,
    "nbgrader": {
     "cell_type": "code",
     "checksum": "9f6cab021183ac8c50e5fb303a33b0b0",
     "grade": false,
     "grade_id": "cell-dd7f4c508c47aec3",
     "locked": false,
     "schema_version": 3,
     "solution": true
    }
   },
   "outputs": [],
   "source": [
    "# Replace the fail() with your answer. \n",
    "\n",
    "# your code here\n",
    "fail() # No Answer - remove if you provide an answer"
   ]
  },
  {
   "cell_type": "code",
   "execution_count": null,
   "metadata": {
    "deletable": false,
    "editable": false,
    "nbgrader": {
     "cell_type": "code",
     "checksum": "147742fd44255dbceb9447ad3ee89ef1",
     "grade": true,
     "grade_id": "cell-8375f0716c6f8541",
     "locked": true,
     "points": 0,
     "schema_version": 3,
     "solution": false,
     "task": false
    }
   },
   "outputs": [],
   "source": [
    "library(digest)\n",
    "stopifnot(\"type of answer5.7 is not character\"= setequal(digest(paste(toString(class(answer5.7)), \"d0f37\")), \"38212f027299fc81e16d695f1650bc6e\"))\n",
    "stopifnot(\"length of answer5.7 is not correct\"= setequal(digest(paste(toString(length(answer5.7)), \"d0f37\")), \"98605c93031e345a6d6c881b842475bf\"))\n",
    "stopifnot(\"value of answer5.7 is not correct\"= setequal(digest(paste(toString(tolower(answer5.7)), \"d0f37\")), \"ccca988d445c2b363491ae1cafa61f86\"))\n",
    "stopifnot(\"letters in string value of answer5.7 are correct but case is not correct\"= setequal(digest(paste(toString(answer5.7), \"d0f37\")), \"dd40ccac98cad56c527167cd620ab9c4\"))\n",
    "\n",
    "print('Success!')"
   ]
  },
  {
   "cell_type": "code",
   "execution_count": null,
   "metadata": {
    "deletable": false,
    "editable": false,
    "nbgrader": {
     "cell_type": "code",
     "checksum": "4071a662a12539ed237aa1e137192965",
     "grade": false,
     "grade_id": "cell-953eb170c47470b8",
     "locked": true,
     "schema_version": 3,
     "solution": false,
     "task": false
    }
   },
   "outputs": [],
   "source": [
    "source(\"cleanup.R\")"
   ]
  }
 ],
 "metadata": {
  "kernelspec": {
   "display_name": "R",
   "language": "R",
   "name": "ir"
  },
  "language_info": {
   "codemirror_mode": "r",
   "file_extension": ".r",
   "mimetype": "text/x-r-source",
   "name": "R",
   "pygments_lexer": "r",
   "version": "4.3.3"
  }
 },
 "nbformat": 4,
 "nbformat_minor": 4
}
