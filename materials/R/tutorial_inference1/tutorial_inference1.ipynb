{
 "cells": [
  {
   "cell_type": "markdown",
   "metadata": {
    "deletable": false,
    "editable": false,
    "nbgrader": {
     "cell_type": "markdown",
     "checksum": "48b053c9beb6a19cc571354dc66b59a2",
     "grade": false,
     "grade_id": "cell-f9cd89ad16c3393f",
     "locked": true,
     "schema_version": 3,
     "solution": false,
     "task": false
    }
   },
   "source": [
    "# Tutorial: Statistical Inference\n",
    "\n",
    "This worksheet covers the [Statistical inference](https://datasciencebook.ca/inference.html) chapter of the online textbook, which also lists the learning objectives for this worksheet. You should read the textbook chapter before attempting this worksheet. "
   ]
  },
  {
   "cell_type": "code",
   "execution_count": null,
   "metadata": {
    "deletable": false,
    "editable": false,
    "nbgrader": {
     "cell_type": "code",
     "checksum": "c7629720d9ea61bde596cfa192d707c8",
     "grade": false,
     "grade_id": "cell-5e46ba6301dcd126",
     "locked": true,
     "schema_version": 3,
     "solution": false,
     "task": false
    }
   },
   "outputs": [],
   "source": [
    "### Run this cell before continuing.\n",
    "library(tidyverse)\n",
    "library(repr)\n",
    "library(infer)\n",
    "options(repr.matrix.max.rows = 6)\n",
    "source('cleanup.R')"
   ]
  },
  {
   "cell_type": "markdown",
   "metadata": {
    "deletable": false,
    "editable": false,
    "nbgrader": {
     "cell_type": "markdown",
     "checksum": "d5afb375cb1ec9893e942d8172f7180b",
     "grade": false,
     "grade_id": "cell-45228c253c917b4f",
     "locked": true,
     "schema_version": 3,
     "solution": false,
     "task": false
    }
   },
   "source": [
    "###  Virtual sampling simulation\n",
    "\n",
    "In this tutorial you will study samples and sample means generated from different distributions. In real life, we rarely, if ever, have measurements for our entire population. Here, however, we will make simulated datasets so we can understand the behaviour of sample means.\n",
    "\n",
    "Suppose we had the data science final grades for a large population of students. "
   ]
  },
  {
   "cell_type": "code",
   "execution_count": null,
   "metadata": {
    "deletable": false,
    "editable": false,
    "nbgrader": {
     "cell_type": "code",
     "checksum": "a548593285b2dc062060660d9561f2e9",
     "grade": false,
     "grade_id": "cell-0864bc512d509d18",
     "locked": true,
     "schema_version": 3,
     "solution": false,
     "task": false
    }
   },
   "outputs": [],
   "source": [
    "# run this cell to simulate a finite population\n",
    "set.seed(20201) # DO NOT CHANGE\n",
    "students_pop <- tibble(grade = (rnorm(mean = 70, sd = 8, n = 10000)))\n",
    "students_pop"
   ]
  },
  {
   "cell_type": "markdown",
   "metadata": {
    "deletable": false,
    "editable": false,
    "nbgrader": {
     "cell_type": "markdown",
     "checksum": "f4fd861729dc54550b8e403f50446398",
     "grade": false,
     "grade_id": "cell-9b660b53ec2a2962",
     "locked": true,
     "schema_version": 3,
     "solution": false,
     "task": false
    }
   },
   "source": [
    "**Question 1.0** \n",
    "<br> {points: 1}\n",
    "\n",
    "Visualize the distribution of the population (`students_pop`) that was just created by plotting a histogram using `binwidth = 1` in the `geom_histogram` argument. Name the plot `pop_dist` and give x-axis a descriptive label."
   ]
  },
  {
   "cell_type": "code",
   "execution_count": null,
   "metadata": {
    "deletable": false,
    "nbgrader": {
     "cell_type": "code",
     "checksum": "2d75c199b416e8720322c0bf54d42751",
     "grade": false,
     "grade_id": "cell-986bdfedad27901f",
     "locked": false,
     "schema_version": 3,
     "solution": true,
     "task": false
    }
   },
   "outputs": [],
   "source": [
    "options(repr.plot.width = 8, repr.plot.height = 6)\n",
    "# ... <- ggplot(..., ...) + \n",
    "#    geom_...(...) +\n",
    "#    ... +\n",
    "#    ggtitle(\"Population distribution\")\n",
    "\n",
    "# your code here\n",
    "fail() # No Answer - remove if you provide an answer\n",
    "pop_dist"
   ]
  },
  {
   "cell_type": "code",
   "execution_count": null,
   "metadata": {
    "deletable": false,
    "editable": false,
    "nbgrader": {
     "cell_type": "code",
     "checksum": "1d6179be93160765511b78541da0c2e1",
     "grade": true,
     "grade_id": "cell-9e86388006978a3c",
     "locked": true,
     "points": 1,
     "schema_version": 3,
     "solution": false,
     "task": false
    }
   },
   "outputs": [],
   "source": [
    "library(digest)\n",
    "stopifnot(\"type of plot is not correct (if you are using two types of geoms, try flipping the order of the geom objects!)\"= setequal(digest(paste(toString(sapply(seq_len(length(pop_dist$layers)), function(i) {c(class(pop_dist$layers[[i]]$geom))[1]})), \"2af5c\")), \"5eeca1fbe1586f9858cac03a42a2c6d8\"))\n",
    "stopifnot(\"variable x is not correct\"= setequal(digest(paste(toString(unlist(lapply(sapply(seq_len(length(pop_dist$layers)), function(i) {rlang::get_expr(c(pop_dist$layers[[i]]$mapping, pop_dist$mapping)$x)}), as.character))), \"2af5c\")), \"2d35d584ff41f55cc43d60fe2a5a3733\"))\n",
    "stopifnot(\"variable y is not correct\"= setequal(digest(paste(toString(unlist(lapply(sapply(seq_len(length(pop_dist$layers)), function(i) {rlang::get_expr(c(pop_dist$layers[[i]]$mapping, pop_dist$mapping)$y)}), as.character))), \"2af5c\")), \"53fe06ea3501d8f4f17dedd0d728580f\"))\n",
    "stopifnot(\"x-axis label is not descriptive, nicely formatted, or human readable\"= setequal(digest(paste(toString(rlang::get_expr(c(pop_dist$layers[[1]]$mapping, pop_dist$mapping)$x)!= pop_dist$labels$x), \"2af5c\")), \"318ba09d770af05e32813fdd8d859ac9\"))\n",
    "stopifnot(\"y-axis label is not descriptive, nicely formatted, or human readable\"= setequal(digest(paste(toString(rlang::get_expr(c(pop_dist$layers[[1]]$mapping, pop_dist$mapping)$y)!= pop_dist$labels$y), \"2af5c\")), \"53fe06ea3501d8f4f17dedd0d728580f\"))\n",
    "stopifnot(\"incorrect colour variable in pop_dist, specify a correct one if required\"= setequal(digest(paste(toString(rlang::get_expr(c(pop_dist$layers[[1]]$mapping, pop_dist$mapping)$colour)), \"2af5c\")), \"53fe06ea3501d8f4f17dedd0d728580f\"))\n",
    "stopifnot(\"incorrect shape variable in pop_dist, specify a correct one if required\"= setequal(digest(paste(toString(rlang::get_expr(c(pop_dist$layers[[1]]$mapping, pop_dist$mapping)$shape)), \"2af5c\")), \"53fe06ea3501d8f4f17dedd0d728580f\"))\n",
    "stopifnot(\"the colour label in pop_dist is not descriptive, nicely formatted, or human readable\"= setequal(digest(paste(toString(rlang::get_expr(c(pop_dist$layers[[1]]$mapping, pop_dist$mapping)$colour) != pop_dist$labels$colour), \"2af5c\")), \"53fe06ea3501d8f4f17dedd0d728580f\"))\n",
    "stopifnot(\"the shape label in pop_dist is not descriptive, nicely formatted, or human readable\"= setequal(digest(paste(toString(rlang::get_expr(c(pop_dist$layers[[1]]$mapping, pop_dist$mapping)$colour) != pop_dist$labels$shape), \"2af5c\")), \"53fe06ea3501d8f4f17dedd0d728580f\"))\n",
    "stopifnot(\"fill variable in pop_dist is not correct\"= setequal(digest(paste(toString(quo_name(pop_dist$mapping$fill)), \"2af5c\")), \"506c90e5392fd49779dcd9b6bc6f2cf4\"))\n",
    "stopifnot(\"fill label in pop_dist is not informative\"= setequal(digest(paste(toString((quo_name(pop_dist$mapping$fill) != pop_dist$labels$fill)), \"2af5c\")), \"53fe06ea3501d8f4f17dedd0d728580f\"))\n",
    "stopifnot(\"position argument in pop_dist is not correct\"= setequal(digest(paste(toString(class(pop_dist$layers[[1]]$position)[1]), \"2af5c\")), \"02b9ff8a71ac55d7874c75ef213f9515\"))\n",
    "\n",
    "stopifnot(\"pop_dist$data should be a data frame\"= setequal(digest(paste(toString('data.frame' %in% class(pop_dist$data)), \"2af5d\")), \"f4968873ba787aece546714d4e1a6b85\"))\n",
    "stopifnot(\"dimensions of pop_dist$data are not correct\"= setequal(digest(paste(toString(dim(pop_dist$data)), \"2af5d\")), \"77fbf2851b2c2966c3a5ae64b99a2e5d\"))\n",
    "stopifnot(\"column names of pop_dist$data are not correct\"= setequal(digest(paste(toString(sort(colnames(pop_dist$data))), \"2af5d\")), \"f18a311faf67ee2d4f3209b2a8eea1b1\"))\n",
    "stopifnot(\"types of columns in pop_dist$data are not correct\"= setequal(digest(paste(toString(sort(unlist(sapply(pop_dist$data, class)))), \"2af5d\")), \"58dfdd80038ee65d08f6ed9080730cb3\"))\n",
    "stopifnot(\"values in one or more numerical columns in pop_dist$data are not correct\"= setequal(digest(paste(toString(if (any(sapply(pop_dist$data, is.numeric))) sort(round(sapply(pop_dist$data[, sapply(pop_dist$data, is.numeric)], sum, na.rm = TRUE), 2)) else 0), \"2af5d\")), \"8d36033f4f54f161719d24043ca6517b\"))\n",
    "stopifnot(\"values in one or more character columns in pop_dist$data are not correct\"= setequal(digest(paste(toString(if (any(sapply(pop_dist$data, is.character))) sum(sapply(pop_dist$data[sapply(pop_dist$data, is.character)], function(x) length(unique(x)))) else 0), \"2af5d\")), \"bbf6499f01b827484ab6cb7ffd2788ba\"))\n",
    "stopifnot(\"values in one or more factor columns in pop_dist$data are not correct\"= setequal(digest(paste(toString(if (any(sapply(pop_dist$data, is.factor))) sum(sapply(pop_dist$data[, sapply(pop_dist$data, is.factor)], function(col) length(unique(col)))) else 0), \"2af5d\")), \"bbf6499f01b827484ab6cb7ffd2788ba\"))\n",
    "\n",
    "print('Success!')"
   ]
  },
  {
   "cell_type": "markdown",
   "metadata": {
    "deletable": false,
    "editable": false,
    "nbgrader": {
     "cell_type": "markdown",
     "checksum": "5c60f7bd1600eca7a12ff1011679b5dc",
     "grade": false,
     "grade_id": "cell-b3a85dcae842e033",
     "locked": true,
     "schema_version": 3,
     "solution": false,
     "task": false
    }
   },
   "source": [
    "**Question 1.1** \n",
    "<br> {points: 3}\n",
    "\n",
    "Describe in words the distribution above, comment on the shape, center and how spread out the distribution is. "
   ]
  },
  {
   "cell_type": "markdown",
   "metadata": {
    "deletable": false,
    "nbgrader": {
     "cell_type": "markdown",
     "checksum": "fb82967f0dfaac8eebca91a17e0f6f88",
     "grade": true,
     "grade_id": "cell-7c51509618ad5c41",
     "locked": false,
     "points": 3,
     "schema_version": 3,
     "solution": true,
     "task": false
    }
   },
   "source": [
    "DOUBLE CLICK TO EDIT **THIS CELL** AND REPLACE THIS TEXT WITH YOUR ANSWER."
   ]
  },
  {
   "cell_type": "markdown",
   "metadata": {
    "deletable": false,
    "editable": false,
    "nbgrader": {
     "cell_type": "markdown",
     "checksum": "eed082e1722df9aa2c302eb30f79b762",
     "grade": false,
     "grade_id": "cell-a6d7523259c0ec45",
     "locked": true,
     "schema_version": 3,
     "solution": false,
     "task": false
    }
   },
   "source": [
    "**Question 1.2** \n",
    "<br> {points: 1}\n",
    "\n",
    "Use `summarise` to calculate the following population parameters from the `students_pop` population:\n",
    "- mean (use the `mean` function)\n",
    "- median (use the `median` function)\n",
    "- standard deviation (use the `sd` function)\n",
    "\n",
    "Name this data frame `pop_parameters` which has the column names `pop_mean`, `pop_med` and `pop_sd`."
   ]
  },
  {
   "cell_type": "code",
   "execution_count": null,
   "metadata": {
    "deletable": false,
    "nbgrader": {
     "cell_type": "code",
     "checksum": "036c9553c3c1a5f32341e4d3ae7e620d",
     "grade": false,
     "grade_id": "cell-e351a7d3e55d1948",
     "locked": false,
     "schema_version": 3,
     "solution": true,
     "task": false
    }
   },
   "outputs": [],
   "source": [
    "# your code here\n",
    "fail() # No Answer - remove if you provide an answer\n",
    "pop_parameters"
   ]
  },
  {
   "cell_type": "code",
   "execution_count": null,
   "metadata": {
    "deletable": false,
    "editable": false,
    "nbgrader": {
     "cell_type": "code",
     "checksum": "3eb9845e35ff1584c472da6bb2f86746",
     "grade": true,
     "grade_id": "cell-ebeb7e12fd1b5f86",
     "locked": true,
     "points": 1,
     "schema_version": 3,
     "solution": false,
     "task": false
    }
   },
   "outputs": [],
   "source": [
    "library(digest)\n",
    "stopifnot(\"pop_parameters should be a data frame\"= setequal(digest(paste(toString('data.frame' %in% class(pop_parameters)), \"35fe6\")), \"951532348101e2e828d7743e14999f5a\"))\n",
    "stopifnot(\"dimensions of pop_parameters are not correct\"= setequal(digest(paste(toString(dim(pop_parameters)), \"35fe6\")), \"d8020d88ddaa7e0ec00bd3ad05eff98a\"))\n",
    "stopifnot(\"column names of pop_parameters are not correct\"= setequal(digest(paste(toString(sort(colnames(pop_parameters))), \"35fe6\")), \"ad6bfe90b7b5f13641cee07fcb0f09e5\"))\n",
    "stopifnot(\"types of columns in pop_parameters are not correct\"= setequal(digest(paste(toString(sort(unlist(sapply(pop_parameters, class)))), \"35fe6\")), \"0d6331618e49bc60df5e22bc19a52d69\"))\n",
    "stopifnot(\"values in one or more numerical columns in pop_parameters are not correct\"= setequal(digest(paste(toString(if (any(sapply(pop_parameters, is.numeric))) sort(round(sapply(pop_parameters[, sapply(pop_parameters, is.numeric)], sum, na.rm = TRUE), 2)) else 0), \"35fe6\")), \"496ee2b78a41bdbd468302d7d75a607c\"))\n",
    "stopifnot(\"values in one or more character columns in pop_parameters are not correct\"= setequal(digest(paste(toString(if (any(sapply(pop_parameters, is.character))) sum(sapply(pop_parameters[sapply(pop_parameters, is.character)], function(x) length(unique(x)))) else 0), \"35fe6\")), \"1bf4c6514e5485309876b0029cf330dd\"))\n",
    "stopifnot(\"values in one or more factor columns in pop_parameters are not correct\"= setequal(digest(paste(toString(if (any(sapply(pop_parameters, is.factor))) sum(sapply(pop_parameters[, sapply(pop_parameters, is.factor)], function(col) length(unique(col)))) else 0), \"35fe6\")), \"1bf4c6514e5485309876b0029cf330dd\"))\n",
    "\n",
    "print('Success!')"
   ]
  },
  {
   "cell_type": "markdown",
   "metadata": {
    "deletable": false,
    "editable": false,
    "nbgrader": {
     "cell_type": "markdown",
     "checksum": "d0afc4afbaccc7d320188963e8a59ae5",
     "grade": false,
     "grade_id": "cell-38823954d60fbb09",
     "locked": true,
     "schema_version": 3,
     "solution": false,
     "task": false
    }
   },
   "source": [
    "**Question 1.2.1** \n",
    "<br> {points: 1}\n",
    "\n",
    "Draw one random sample of 5 students from our population of students (`students_pop`). \n",
    "Use `summarize` to calculate the mean, median, and standard deviation for these 5 students.\n",
    "\n",
    "Name this data frame `ests_5` which should have column names `mean_5`, `med_5` and `sd_5`. Use the seed `4321`. "
   ]
  },
  {
   "cell_type": "code",
   "execution_count": null,
   "metadata": {
    "deletable": false,
    "nbgrader": {
     "cell_type": "code",
     "checksum": "a7f3fd7f5872b251166582bd8d420c11",
     "grade": false,
     "grade_id": "cell-7f4e5ad1421b18e7",
     "locked": false,
     "schema_version": 3,
     "solution": true,
     "task": false
    }
   },
   "outputs": [],
   "source": [
    "set.seed(4321) # DO NOT CHANGE!\n",
    "# your code here\n",
    "fail() # No Answer - remove if you provide an answer\n",
    "ests_5"
   ]
  },
  {
   "cell_type": "code",
   "execution_count": null,
   "metadata": {
    "deletable": false,
    "editable": false,
    "nbgrader": {
     "cell_type": "code",
     "checksum": "b6abc87d8cbd23f4c3fbf84cc7ca5597",
     "grade": true,
     "grade_id": "cell-871bd1fb3f719754",
     "locked": true,
     "points": 1,
     "schema_version": 3,
     "solution": false,
     "task": false
    }
   },
   "outputs": [],
   "source": [
    "library(digest)\n",
    "stopifnot(\"ests_5 should be a data frame\"= setequal(digest(paste(toString('data.frame' %in% class(ests_5)), \"8a38c\")), \"ef25d7eff409df26397ce03aa2cc27de\"))\n",
    "stopifnot(\"dimensions of ests_5 are not correct\"= setequal(digest(paste(toString(dim(ests_5)), \"8a38c\")), \"f83bcd8246d29f3b8e4aaa28786fbfcd\"))\n",
    "stopifnot(\"column names of ests_5 are not correct\"= setequal(digest(paste(toString(sort(colnames(ests_5))), \"8a38c\")), \"ec2fd72f4b6901c180c4156150a0a3e0\"))\n",
    "stopifnot(\"types of columns in ests_5 are not correct\"= setequal(digest(paste(toString(sort(unlist(sapply(ests_5, class)))), \"8a38c\")), \"18e4eff0d41c1cb86bc74a6e02025413\"))\n",
    "stopifnot(\"values in one or more numerical columns in ests_5 are not correct\"= setequal(digest(paste(toString(if (any(sapply(ests_5, is.numeric))) sort(round(sapply(ests_5[, sapply(ests_5, is.numeric)], sum, na.rm = TRUE), 2)) else 0), \"8a38c\")), \"da9ed8946d952147a458d63fdedebad7\"))\n",
    "stopifnot(\"values in one or more character columns in ests_5 are not correct\"= setequal(digest(paste(toString(if (any(sapply(ests_5, is.character))) sum(sapply(ests_5[sapply(ests_5, is.character)], function(x) length(unique(x)))) else 0), \"8a38c\")), \"31b9d832adbea8a600e730d6f1567a38\"))\n",
    "stopifnot(\"values in one or more factor columns in ests_5 are not correct\"= setequal(digest(paste(toString(if (any(sapply(ests_5, is.factor))) sum(sapply(ests_5[, sapply(ests_5, is.factor)], function(col) length(unique(col)))) else 0), \"8a38c\")), \"31b9d832adbea8a600e730d6f1567a38\"))\n",
    "\n",
    "print('Success!')"
   ]
  },
  {
   "cell_type": "markdown",
   "metadata": {
    "deletable": false,
    "editable": false,
    "nbgrader": {
     "cell_type": "markdown",
     "checksum": "54757ff0661b65ed239cf383fe32f40f",
     "grade": false,
     "grade_id": "cell-ee5bab98b87f8434",
     "locked": true,
     "schema_version": 3,
     "solution": false,
     "task": false
    }
   },
   "source": [
    "**Question 1.2.2** Multiple Choice:\n",
    "<br> {points: 1}\n",
    "\n",
    "Which of the following is the point estimate for the average final grade for the population of data science students (rounded to two decimal places)? \n",
    "\n",
    "A. 70.03 \n",
    "\n",
    "B. 69.76\n",
    "\n",
    "C. 73.52\n",
    "\n",
    "D. 8.05 \n",
    "\n",
    "*Assign your answer to an object called `answer1.2.2`. Your answer should be a single character surrounded by quotes.*"
   ]
  },
  {
   "cell_type": "code",
   "execution_count": null,
   "metadata": {
    "deletable": false,
    "nbgrader": {
     "cell_type": "code",
     "checksum": "9328798a4fa7f805ffd74f3c9adf56f4",
     "grade": false,
     "grade_id": "cell-a57f213f6b072dd1",
     "locked": false,
     "schema_version": 3,
     "solution": true,
     "task": false
    }
   },
   "outputs": [],
   "source": [
    "# your code here\n",
    "fail() # No Answer - remove if you provide an answer"
   ]
  },
  {
   "cell_type": "code",
   "execution_count": null,
   "metadata": {
    "deletable": false,
    "editable": false,
    "nbgrader": {
     "cell_type": "code",
     "checksum": "34ce391df42856b5f3da42771a615a58",
     "grade": true,
     "grade_id": "cell-94de426019ef00ca",
     "locked": true,
     "points": 1,
     "schema_version": 3,
     "solution": false,
     "task": false
    }
   },
   "outputs": [],
   "source": [
    "library(digest)\n",
    "stopifnot(\"type of answer1.2.2 is not character\"= setequal(digest(paste(toString(class(answer1.2.2)), \"a4059\")), \"b6de5a825d157e1a403a418a290a9d7f\"))\n",
    "stopifnot(\"length of answer1.2.2 is not correct\"= setequal(digest(paste(toString(length(answer1.2.2)), \"a4059\")), \"eaa914bd68cef23d2918a3d460df7631\"))\n",
    "stopifnot(\"value of answer1.2.2 is not correct\"= setequal(digest(paste(toString(tolower(answer1.2.2)), \"a4059\")), \"38717fb4eb9fbfd4c9f09ecae862d994\"))\n",
    "stopifnot(\"letters in string value of answer1.2.2 are correct but case is not correct\"= setequal(digest(paste(toString(answer1.2.2), \"a4059\")), \"eb5f719cd828787849b4233166c46eaa\"))\n",
    "\n",
    "print('Success!')"
   ]
  },
  {
   "cell_type": "markdown",
   "metadata": {
    "deletable": false,
    "editable": false,
    "nbgrader": {
     "cell_type": "markdown",
     "checksum": "c6fad133b7df5ce26e0717d239b62614",
     "grade": false,
     "grade_id": "cell-7066481427f5ff30",
     "locked": true,
     "schema_version": 3,
     "solution": false,
     "task": false
    }
   },
   "source": [
    "**Question 1.2.3** \n",
    "<br> {points: 1}\n",
    "\n",
    "Draw one random sample of 100 students from our population of students (`students_pop`). Use `summarize` to calculate the mean, median and standard deviation for these 100 students.\n",
    "\n",
    "Name this data frame `ests_100` which has the column names `mean_100`, `med_100` and `sd_100`. Use the seed `4321`. "
   ]
  },
  {
   "cell_type": "code",
   "execution_count": null,
   "metadata": {
    "deletable": false,
    "nbgrader": {
     "cell_type": "code",
     "checksum": "abb67f8223d95da5593f12908a2099e2",
     "grade": false,
     "grade_id": "cell-4ed6133da299d1f2",
     "locked": false,
     "schema_version": 3,
     "solution": true,
     "task": false
    }
   },
   "outputs": [],
   "source": [
    "set.seed(4321) # DO NOT CHANGE!\n",
    "# your code here\n",
    "fail() # No Answer - remove if you provide an answer\n",
    "ests_100"
   ]
  },
  {
   "cell_type": "code",
   "execution_count": null,
   "metadata": {
    "deletable": false,
    "editable": false,
    "nbgrader": {
     "cell_type": "code",
     "checksum": "a1bcfd164bc18cc29953f2939ff20a64",
     "grade": true,
     "grade_id": "cell-4d5dffec10876bab",
     "locked": true,
     "points": 1,
     "schema_version": 3,
     "solution": false,
     "task": false
    }
   },
   "outputs": [],
   "source": [
    "library(digest)\n",
    "stopifnot(\"ests_100 should be a data frame\"= setequal(digest(paste(toString('data.frame' %in% class(ests_100)), \"db718\")), \"876ad9e7264b268c09ce45305055ba1a\"))\n",
    "stopifnot(\"dimensions of ests_100 are not correct\"= setequal(digest(paste(toString(dim(ests_100)), \"db718\")), \"d227f467d7a7a69559e20da5e397b83d\"))\n",
    "stopifnot(\"column names of ests_100 are not correct\"= setequal(digest(paste(toString(sort(colnames(ests_100))), \"db718\")), \"1d4e48352ea9395156c8dd0ac714c9c1\"))\n",
    "stopifnot(\"types of columns in ests_100 are not correct\"= setequal(digest(paste(toString(sort(unlist(sapply(ests_100, class)))), \"db718\")), \"9655b2d35ca9e5f4d96f58016d4b9e12\"))\n",
    "stopifnot(\"values in one or more numerical columns in ests_100 are not correct\"= setequal(digest(paste(toString(if (any(sapply(ests_100, is.numeric))) sort(round(sapply(ests_100[, sapply(ests_100, is.numeric)], sum, na.rm = TRUE), 2)) else 0), \"db718\")), \"43ed7b2a16e9b79042f8e356115bac7b\"))\n",
    "stopifnot(\"values in one or more character columns in ests_100 are not correct\"= setequal(digest(paste(toString(if (any(sapply(ests_100, is.character))) sum(sapply(ests_100[sapply(ests_100, is.character)], function(x) length(unique(x)))) else 0), \"db718\")), \"a3f47c3b2b6712b5c19d123d6f57e9b6\"))\n",
    "stopifnot(\"values in one or more factor columns in ests_100 are not correct\"= setequal(digest(paste(toString(if (any(sapply(ests_100, is.factor))) sum(sapply(ests_100[, sapply(ests_100, is.factor)], function(col) length(unique(col)))) else 0), \"db718\")), \"a3f47c3b2b6712b5c19d123d6f57e9b6\"))\n",
    "\n",
    "print('Success!')"
   ]
  },
  {
   "cell_type": "markdown",
   "metadata": {
    "deletable": false,
    "editable": false,
    "nbgrader": {
     "cell_type": "markdown",
     "checksum": "461b282ea0f106214e0c331a7ebdfadf",
     "grade": false,
     "grade_id": "cell-23f4de8073700591",
     "locked": true,
     "schema_version": 3,
     "solution": false,
     "task": false
    }
   },
   "source": [
    "### Exploring the sampling distribution of the sample mean for different populations\n",
    "We will create the sampling distribution of the sample mean by taking 1500 random samples of size 5 from this population and visualize the distribution of the sample means. \n"
   ]
  },
  {
   "cell_type": "markdown",
   "metadata": {
    "deletable": false,
    "editable": false,
    "nbgrader": {
     "cell_type": "markdown",
     "checksum": "8208bdaada5c4c681a1d48840940dda8",
     "grade": false,
     "grade_id": "cell-d1e256c58e03abb7",
     "locked": true,
     "schema_version": 3,
     "solution": false,
     "task": false
    }
   },
   "source": [
    "**Question 1.3** \n",
    "<br> {points: 1}\n",
    "\n",
    "Draw 1500 random samples from our population of students (`students_pop`). Each sample should have 5 observations. Name the data frame `samples` and use the seed `4321`."
   ]
  },
  {
   "cell_type": "code",
   "execution_count": null,
   "metadata": {
    "deletable": false,
    "nbgrader": {
     "cell_type": "code",
     "checksum": "f5dbe86c3c290a653d1d000d2a198bb0",
     "grade": false,
     "grade_id": "cell-695ac307a193414a",
     "locked": false,
     "schema_version": 3,
     "solution": true,
     "task": false
    }
   },
   "outputs": [],
   "source": [
    "# ... <- rep_sample_n(..., size = ..., reps = ...)\n",
    "set.seed(4321) # DO NOT CHANGE!\n",
    "# your code here\n",
    "fail() # No Answer - remove if you provide an answer\n",
    "head(samples)\n",
    "tail(samples)\n",
    "dim(samples)"
   ]
  },
  {
   "cell_type": "code",
   "execution_count": null,
   "metadata": {
    "deletable": false,
    "editable": false,
    "nbgrader": {
     "cell_type": "code",
     "checksum": "b234cdd9a84bde66691ddfa9fbb72292",
     "grade": true,
     "grade_id": "cell-c58c6bf8b51e07c5",
     "locked": true,
     "points": 1,
     "schema_version": 3,
     "solution": false,
     "task": false
    }
   },
   "outputs": [],
   "source": [
    "library(digest)\n",
    "stopifnot(\"samples should be a data frame\"= setequal(digest(paste(toString('data.frame' %in% class(samples)), \"53644\")), \"82aad5b174c504f698c7eb5b6477268b\"))\n",
    "stopifnot(\"dimensions of samples are not correct\"= setequal(digest(paste(toString(dim(samples)), \"53644\")), \"f5853c8eee0d47a4ff798671be1b775e\"))\n",
    "stopifnot(\"column names of samples are not correct\"= setequal(digest(paste(toString(sort(colnames(samples))), \"53644\")), \"d0013e6354b4c715911be3fd75f540bb\"))\n",
    "stopifnot(\"types of columns in samples are not correct\"= setequal(digest(paste(toString(sort(unlist(sapply(samples, class)))), \"53644\")), \"84f7c8cf91c30a7a3afd5df213ef62c0\"))\n",
    "stopifnot(\"values in one or more numerical columns in samples are not correct\"= setequal(digest(paste(toString(if (any(sapply(samples, is.numeric))) sort(round(sapply(samples[, sapply(samples, is.numeric)], sum, na.rm = TRUE), 2)) else 0), \"53644\")), \"c40a96e040d422fa1a2f96f07495dc47\"))\n",
    "stopifnot(\"values in one or more character columns in samples are not correct\"= setequal(digest(paste(toString(if (any(sapply(samples, is.character))) sum(sapply(samples[sapply(samples, is.character)], function(x) length(unique(x)))) else 0), \"53644\")), \"674add4269674d459483903ebff34346\"))\n",
    "stopifnot(\"values in one or more factor columns in samples are not correct\"= setequal(digest(paste(toString(if (any(sapply(samples, is.factor))) sum(sapply(samples[, sapply(samples, is.factor)], function(col) length(unique(col)))) else 0), \"53644\")), \"674add4269674d459483903ebff34346\"))\n",
    "\n",
    "print('Success!')"
   ]
  },
  {
   "cell_type": "markdown",
   "metadata": {
    "deletable": false,
    "editable": false,
    "nbgrader": {
     "cell_type": "markdown",
     "checksum": "b915dbe8479c574d482efca15ac5329a",
     "grade": false,
     "grade_id": "cell-54d3669aec34e1c1",
     "locked": true,
     "schema_version": 3,
     "solution": false,
     "task": false
    }
   },
   "source": [
    "**Question 1.4** \n",
    "<br> {points: 1}\n",
    "\n",
    "Group by the sample replicate number, and then for each sample, calculate the mean. Name the data frame `sample_estimates`. The data frame should have the column names `replicate` and `mean_grade`."
   ]
  },
  {
   "cell_type": "code",
   "execution_count": null,
   "metadata": {
    "deletable": false,
    "nbgrader": {
     "cell_type": "code",
     "checksum": "b23a4184d470fc3e91944e140d7decff",
     "grade": false,
     "grade_id": "cell-db790cf4f047972a",
     "locked": false,
     "schema_version": 3,
     "solution": true,
     "task": false
    }
   },
   "outputs": [],
   "source": [
    "# your code here\n",
    "fail() # No Answer - remove if you provide an answer\n",
    "head(sample_estimates)\n",
    "tail(sample_estimates)"
   ]
  },
  {
   "cell_type": "code",
   "execution_count": null,
   "metadata": {
    "deletable": false,
    "editable": false,
    "nbgrader": {
     "cell_type": "code",
     "checksum": "e5644ed6e943ac9529c920ea56b1f08d",
     "grade": true,
     "grade_id": "cell-009a8fb2b91b528c",
     "locked": true,
     "points": 1,
     "schema_version": 3,
     "solution": false,
     "task": false
    }
   },
   "outputs": [],
   "source": [
    "library(digest)\n",
    "stopifnot(\"sample_estimates should be a data frame\"= setequal(digest(paste(toString('data.frame' %in% class(sample_estimates)), \"b8b25\")), \"2d408ca6be1f498f982fd9853d5b8d81\"))\n",
    "stopifnot(\"dimensions of sample_estimates are not correct\"= setequal(digest(paste(toString(dim(sample_estimates)), \"b8b25\")), \"0db6b5a4f5c0913349534cbf095b43a2\"))\n",
    "stopifnot(\"column names of sample_estimates are not correct\"= setequal(digest(paste(toString(sort(colnames(sample_estimates))), \"b8b25\")), \"c626bedeef2ad142f74b2f7e64239988\"))\n",
    "stopifnot(\"types of columns in sample_estimates are not correct\"= setequal(digest(paste(toString(sort(unlist(sapply(sample_estimates, class)))), \"b8b25\")), \"861e757d3fcdcddb7cb5ae9786d95da6\"))\n",
    "stopifnot(\"values in one or more numerical columns in sample_estimates are not correct\"= setequal(digest(paste(toString(if (any(sapply(sample_estimates, is.numeric))) sort(round(sapply(sample_estimates[, sapply(sample_estimates, is.numeric)], sum, na.rm = TRUE), 2)) else 0), \"b8b25\")), \"aff07305228faf965309058dff7f1b86\"))\n",
    "stopifnot(\"values in one or more character columns in sample_estimates are not correct\"= setequal(digest(paste(toString(if (any(sapply(sample_estimates, is.character))) sum(sapply(sample_estimates[sapply(sample_estimates, is.character)], function(x) length(unique(x)))) else 0), \"b8b25\")), \"543908673ae6bcce404a28d84002169a\"))\n",
    "stopifnot(\"values in one or more factor columns in sample_estimates are not correct\"= setequal(digest(paste(toString(if (any(sapply(sample_estimates, is.factor))) sum(sapply(sample_estimates[, sapply(sample_estimates, is.factor)], function(col) length(unique(col)))) else 0), \"b8b25\")), \"543908673ae6bcce404a28d84002169a\"))\n",
    "\n",
    "print('Success!')"
   ]
  },
  {
   "cell_type": "markdown",
   "metadata": {
    "deletable": false,
    "editable": false,
    "nbgrader": {
     "cell_type": "markdown",
     "checksum": "367ec97b494151e8cc91b3fbb9fa149b",
     "grade": false,
     "grade_id": "cell-b37ce66b7bf8e8bf",
     "locked": true,
     "schema_version": 3,
     "solution": false,
     "task": false
    }
   },
   "source": [
    "**Question 1.5** \n",
    "<br> {points: 1}\n",
    "\n",
    "Visualize the distribution of the sample estimates (`sample_estimates`) you just calculated by plotting a histogram using `binwidth = 1` in the `geom_histogram` argument. Name the plot `sampling_distribution_5` and give the plot (using `ggtitle`) and the x axis a descriptive label."
   ]
  },
  {
   "cell_type": "code",
   "execution_count": null,
   "metadata": {
    "deletable": false,
    "nbgrader": {
     "cell_type": "code",
     "checksum": "908e3bc1bbea1a3aeb68a24acf1e86b5",
     "grade": false,
     "grade_id": "cell-cc60d0afb72d45c2",
     "locked": false,
     "schema_version": 3,
     "solution": true,
     "task": false
    }
   },
   "outputs": [],
   "source": [
    "options(repr.plot.width = 8, repr.plot.height = 6)\n",
    "# your code here\n",
    "fail() # No Answer - remove if you provide an answer\n",
    "sampling_distribution_5"
   ]
  },
  {
   "cell_type": "code",
   "execution_count": null,
   "metadata": {
    "deletable": false,
    "editable": false,
    "nbgrader": {
     "cell_type": "code",
     "checksum": "f9fdf27f7d01a706272735fe506b71c9",
     "grade": true,
     "grade_id": "cell-63a57e1040dc4a79",
     "locked": true,
     "points": 1,
     "schema_version": 3,
     "solution": false,
     "task": false
    }
   },
   "outputs": [],
   "source": [
    "library(digest)\n",
    "stopifnot(\"type of plot is not correct (if you are using two types of geoms, try flipping the order of the geom objects!)\"= setequal(digest(paste(toString(sapply(seq_len(length(sampling_distribution_5$layers)), function(i) {c(class(sampling_distribution_5$layers[[i]]$geom))[1]})), \"194a\")), \"f6cdcc9f1ad20ef4268b8da3bf704f64\"))\n",
    "stopifnot(\"variable x is not correct\"= setequal(digest(paste(toString(unlist(lapply(sapply(seq_len(length(sampling_distribution_5$layers)), function(i) {rlang::get_expr(c(sampling_distribution_5$layers[[i]]$mapping, sampling_distribution_5$mapping)$x)}), as.character))), \"194a\")), \"bd1c2d095cb7789cf55039ad70e75e62\"))\n",
    "stopifnot(\"variable y is not correct\"= setequal(digest(paste(toString(unlist(lapply(sapply(seq_len(length(sampling_distribution_5$layers)), function(i) {rlang::get_expr(c(sampling_distribution_5$layers[[i]]$mapping, sampling_distribution_5$mapping)$y)}), as.character))), \"194a\")), \"48a1bdaabffa1ef80c59b40894904b8b\"))\n",
    "stopifnot(\"x-axis label is not descriptive, nicely formatted, or human readable\"= setequal(digest(paste(toString(rlang::get_expr(c(sampling_distribution_5$layers[[1]]$mapping, sampling_distribution_5$mapping)$x)!= sampling_distribution_5$labels$x), \"194a\")), \"9108628c07afcff10b527ccd6fcbf78c\"))\n",
    "stopifnot(\"y-axis label is not descriptive, nicely formatted, or human readable\"= setequal(digest(paste(toString(rlang::get_expr(c(sampling_distribution_5$layers[[1]]$mapping, sampling_distribution_5$mapping)$y)!= sampling_distribution_5$labels$y), \"194a\")), \"48a1bdaabffa1ef80c59b40894904b8b\"))\n",
    "stopifnot(\"incorrect colour variable in sampling_distribution_5, specify a correct one if required\"= setequal(digest(paste(toString(rlang::get_expr(c(sampling_distribution_5$layers[[1]]$mapping, sampling_distribution_5$mapping)$colour)), \"194a\")), \"48a1bdaabffa1ef80c59b40894904b8b\"))\n",
    "stopifnot(\"incorrect shape variable in sampling_distribution_5, specify a correct one if required\"= setequal(digest(paste(toString(rlang::get_expr(c(sampling_distribution_5$layers[[1]]$mapping, sampling_distribution_5$mapping)$shape)), \"194a\")), \"48a1bdaabffa1ef80c59b40894904b8b\"))\n",
    "stopifnot(\"the colour label in sampling_distribution_5 is not descriptive, nicely formatted, or human readable\"= setequal(digest(paste(toString(rlang::get_expr(c(sampling_distribution_5$layers[[1]]$mapping, sampling_distribution_5$mapping)$colour) != sampling_distribution_5$labels$colour), \"194a\")), \"48a1bdaabffa1ef80c59b40894904b8b\"))\n",
    "stopifnot(\"the shape label in sampling_distribution_5 is not descriptive, nicely formatted, or human readable\"= setequal(digest(paste(toString(rlang::get_expr(c(sampling_distribution_5$layers[[1]]$mapping, sampling_distribution_5$mapping)$colour) != sampling_distribution_5$labels$shape), \"194a\")), \"48a1bdaabffa1ef80c59b40894904b8b\"))\n",
    "stopifnot(\"fill variable in sampling_distribution_5 is not correct\"= setequal(digest(paste(toString(quo_name(sampling_distribution_5$mapping$fill)), \"194a\")), \"ae6c1b9637f38b610cebd8e4201263e6\"))\n",
    "stopifnot(\"fill label in sampling_distribution_5 is not informative\"= setequal(digest(paste(toString((quo_name(sampling_distribution_5$mapping$fill) != sampling_distribution_5$labels$fill)), \"194a\")), \"48a1bdaabffa1ef80c59b40894904b8b\"))\n",
    "stopifnot(\"position argument in sampling_distribution_5 is not correct\"= setequal(digest(paste(toString(class(sampling_distribution_5$layers[[1]]$position)[1]), \"194a\")), \"b987e29b0b4940fe7c8a6612e352905d\"))\n",
    "\n",
    "stopifnot(\"sampling_distribution_5$data should be a data frame\"= setequal(digest(paste(toString('data.frame' %in% class(sampling_distribution_5$data)), \"194b\")), \"ad9b82f68492d221b8b0f63b49572f27\"))\n",
    "stopifnot(\"dimensions of sampling_distribution_5$data are not correct\"= setequal(digest(paste(toString(dim(sampling_distribution_5$data)), \"194b\")), \"e3665850f5c1e50ad04cd937dccb5dfb\"))\n",
    "stopifnot(\"column names of sampling_distribution_5$data are not correct\"= setequal(digest(paste(toString(sort(colnames(sampling_distribution_5$data))), \"194b\")), \"c88c821b0073942b0e36abcd7abea5b4\"))\n",
    "stopifnot(\"types of columns in sampling_distribution_5$data are not correct\"= setequal(digest(paste(toString(sort(unlist(sapply(sampling_distribution_5$data, class)))), \"194b\")), \"5634a3b5fb62a7d9eb9d4d947b411a71\"))\n",
    "stopifnot(\"values in one or more numerical columns in sampling_distribution_5$data are not correct\"= setequal(digest(paste(toString(if (any(sapply(sampling_distribution_5$data, is.numeric))) sort(round(sapply(sampling_distribution_5$data[, sapply(sampling_distribution_5$data, is.numeric)], sum, na.rm = TRUE), 2)) else 0), \"194b\")), \"cda1e069f30482abfd6bb32c143cd7ce\"))\n",
    "stopifnot(\"values in one or more character columns in sampling_distribution_5$data are not correct\"= setequal(digest(paste(toString(if (any(sapply(sampling_distribution_5$data, is.character))) sum(sapply(sampling_distribution_5$data[sapply(sampling_distribution_5$data, is.character)], function(x) length(unique(x)))) else 0), \"194b\")), \"db6732fd99a68bd10764ecd58ab79979\"))\n",
    "stopifnot(\"values in one or more factor columns in sampling_distribution_5$data are not correct\"= setequal(digest(paste(toString(if (any(sapply(sampling_distribution_5$data, is.factor))) sum(sapply(sampling_distribution_5$data[, sapply(sampling_distribution_5$data, is.factor)], function(col) length(unique(col)))) else 0), \"194b\")), \"db6732fd99a68bd10764ecd58ab79979\"))\n",
    "\n",
    "stopifnot(\"type of is.character(sampling_distribution_5$labels$title) is not logical\"= setequal(digest(paste(toString(class(is.character(sampling_distribution_5$labels$title))), \"194c\")), \"19c2ca441ec9415386ab32d68d8436f1\"))\n",
    "stopifnot(\"logical value of is.character(sampling_distribution_5$labels$title) is not correct\"= setequal(digest(paste(toString(is.character(sampling_distribution_5$labels$title)), \"194c\")), \"44be72a226d98d2946087a51278fc86b\"))\n",
    "\n",
    "print('Success!')"
   ]
  },
  {
   "cell_type": "markdown",
   "metadata": {
    "deletable": false,
    "editable": false,
    "nbgrader": {
     "cell_type": "markdown",
     "checksum": "9af2ce7ca4306f5ed33b391494b5525d",
     "grade": false,
     "grade_id": "cell-cd211c77f0a630b0",
     "locked": true,
     "schema_version": 3,
     "solution": false,
     "task": false
    }
   },
   "source": [
    "**Question 1.6** \n",
    "<br> {points: 3}\n",
    "\n",
    "Describe in words the distribution above, comment on the shape, center and how spread out the distribution is. Compare this sampling distribution to the population distribution of students' grades above. "
   ]
  },
  {
   "cell_type": "markdown",
   "metadata": {
    "deletable": false,
    "nbgrader": {
     "cell_type": "markdown",
     "checksum": "f196d197651ac0de8c30d43641bf5848",
     "grade": true,
     "grade_id": "cell-aee3630dbf16cba9",
     "locked": false,
     "points": 3,
     "schema_version": 3,
     "solution": true,
     "task": false
    }
   },
   "source": [
    "DOUBLE CLICK TO EDIT **THIS CELL** AND REPLACE THIS TEXT WITH YOUR ANSWER."
   ]
  },
  {
   "cell_type": "markdown",
   "metadata": {
    "deletable": false,
    "editable": false,
    "nbgrader": {
     "cell_type": "markdown",
     "checksum": "e888052cb5a59216270d4c2f87b711d0",
     "grade": false,
     "grade_id": "cell-dc6298e11b0a6268",
     "locked": true,
     "schema_version": 3,
     "solution": false,
     "task": false
    }
   },
   "source": [
    "**Question 1.6.1** \n",
    "<br> {points: 3}\n",
    "\n",
    "Repeat **Q1.3 - 1.5**, but now for 100 observations:  \n",
    "1. Draw 1500 random samples from our population of students (`students_pop`). Each sample should have 100 observations. Use the seed `4321`.\n",
    "2. Group by the sample replicate number, and then for each sample, calculate the mean (call this column `mean_grade_100`).\n",
    "3. Visualize the distribution of the sample estimates you calculated by plotting a histogram using `binwidth = 0.5` in the `geom_histogram` argument. Name the plot `sampling_distribution_100` and give the plot title (using `ggtitle`) and the x axis a descriptive label.\n",
    "\n",
    "***Note: This question has hidden tests. The \"success\" message here only means that you've created the right objects that will be autograded.***"
   ]
  },
  {
   "cell_type": "code",
   "execution_count": null,
   "metadata": {
    "deletable": false,
    "nbgrader": {
     "cell_type": "code",
     "checksum": "4fc7c334093a04e9aa7a5d00086c884a",
     "grade": false,
     "grade_id": "cell-51f9ab3174f7c63f",
     "locked": false,
     "schema_version": 3,
     "solution": true,
     "task": false
    }
   },
   "outputs": [],
   "source": [
    "set.seed(4321) # DO NOT CHANGE!\n",
    "# your code here\n",
    "fail() # No Answer - remove if you provide an answer\n",
    "sampling_distribution_100"
   ]
  },
  {
   "cell_type": "code",
   "execution_count": null,
   "metadata": {
    "deletable": false,
    "editable": false,
    "nbgrader": {
     "cell_type": "code",
     "checksum": "85bd4e20a94d6b435f12eee722fa92ac",
     "grade": true,
     "grade_id": "cell-63af063e7e2dd7f4",
     "locked": true,
     "points": 3,
     "schema_version": 3,
     "solution": false,
     "task": false
    }
   },
   "outputs": [],
   "source": [
    "library(digest)\n",
    "stopifnot(\"type of exists('sampling_distribution_100') is not logical\"= setequal(digest(paste(toString(class(exists('sampling_distribution_100'))), \"ce6da\")), \"1413a586ec4ecd27de0adeebcd136d5b\"))\n",
    "stopifnot(\"logical value of exists('sampling_distribution_100') is not correct\"= setequal(digest(paste(toString(exists('sampling_distribution_100')), \"ce6da\")), \"07f48e2616e3ecb3dfdf08ead2655e19\"))\n",
    "\n",
    "print('Success!')"
   ]
  },
  {
   "cell_type": "markdown",
   "metadata": {
    "deletable": false,
    "editable": false,
    "nbgrader": {
     "cell_type": "markdown",
     "checksum": "c8657dc9ce08518e531ae81c5a2b7d36",
     "grade": false,
     "grade_id": "cell-085f47a30dbfd414",
     "locked": true,
     "schema_version": 3,
     "solution": false,
     "task": false
    }
   },
   "source": [
    "**Question 1.6.2** \n",
    "<br> {points: 3}\n",
    "\n",
    "*Suppose we do not know the parameter value for the population of data science students (as is usually the case in real life).* Compare your point estimates for the population mean from **Q1.2.1 and 1.2.3** above. Which of the two point estimates is more likely to be closer to the actual value of the average final grade of the population of data science students? Briefly explain. (Hint: look at the sampling distributions for your samples of size 5 and size 100 to help you answer this question)."
   ]
  },
  {
   "cell_type": "markdown",
   "metadata": {
    "deletable": false,
    "nbgrader": {
     "cell_type": "markdown",
     "checksum": "d335a876c948417013e30f81e2746574",
     "grade": true,
     "grade_id": "cell-9871ae5a772065dd",
     "locked": false,
     "points": 3,
     "schema_version": 3,
     "solution": true,
     "task": false
    }
   },
   "source": [
    "DOUBLE CLICK TO EDIT **THIS CELL** AND REPLACE THIS TEXT WITH YOUR ANSWER."
   ]
  },
  {
   "cell_type": "markdown",
   "metadata": {
    "deletable": false,
    "editable": false,
    "nbgrader": {
     "cell_type": "markdown",
     "checksum": "f56e0e63c0a1c6aee2e5990d32dd2bc2",
     "grade": false,
     "grade_id": "cell-c92333c25bef6721",
     "locked": true,
     "schema_version": 3,
     "solution": false,
     "task": false
    }
   },
   "source": [
    "**Question 1.7**\n",
    "<br> {points: 3}\n",
    "\n",
    "Let's create a simulated dataset of the number of cups of coffee drunk per week for our population of students. \n",
    "Describe in words the distribution, comment on the shape, center and how spread out the distribution is. "
   ]
  },
  {
   "cell_type": "code",
   "execution_count": null,
   "metadata": {
    "deletable": false,
    "editable": false,
    "nbgrader": {
     "cell_type": "code",
     "checksum": "9da3d16dfa4fa4191dcadd384fddffcf",
     "grade": false,
     "grade_id": "cell-f2a1b2216a4cb5a8",
     "locked": true,
     "schema_version": 3,
     "solution": false,
     "task": false
    }
   },
   "outputs": [],
   "source": [
    "# run this cell to simulate a finite population\n",
    "set.seed(2020) # DO NOT REMOVE\n",
    "coffee_data = tibble(cups = rexp(n = 2000, rate = 0.34))\n",
    "\n",
    "coffee_dist <- ggplot(coffee_data, aes(cups)) + \n",
    "    geom_histogram(binwidth = 0.5) +\n",
    "    xlab(\"Cups of coffee per week\") +\n",
    "    ggtitle(\"Population distribution\") +\n",
    "    theme(text = element_text(size = 20))\n",
    "coffee_dist"
   ]
  },
  {
   "cell_type": "markdown",
   "metadata": {
    "deletable": false,
    "nbgrader": {
     "cell_type": "markdown",
     "checksum": "8ccdb12338b0874dfe4ae80ed6ed6d27",
     "grade": true,
     "grade_id": "cell-e8e632e233dbdc51",
     "locked": false,
     "points": 3,
     "schema_version": 3,
     "solution": true,
     "task": false
    }
   },
   "source": [
    "DOUBLE CLICK TO EDIT **THIS CELL** AND REPLACE THIS TEXT WITH YOUR ANSWER."
   ]
  },
  {
   "cell_type": "markdown",
   "metadata": {
    "deletable": false,
    "editable": false,
    "nbgrader": {
     "cell_type": "markdown",
     "checksum": "7e1d78657384197312702b8906d7ba71",
     "grade": false,
     "grade_id": "cell-ce6a9b879bddca2b",
     "locked": true,
     "schema_version": 3,
     "solution": false,
     "task": false
    }
   },
   "source": [
    "**Question 1.8**\n",
    "<br> {points: 1}\n",
    "\n",
    "Draw 1500 random samples from `coffee_data`. Each sample should have 5 observations. Assign this data frame to an object called `coffee_samples_5`.\n",
    "\n",
    "Group by the sample replicate number, and then for each sample, calculate the mean. Name the data frame `coffee_sample_estimates_5`. The data frame should have the column names `replicate` and `coffee_mean_cups_5`.\n",
    "\n",
    "Finally, create a plot of the sampling distribution called `coffee_sampling_distribution_5`.\n",
    "\n",
    "> Hint: a binwidth of 1 is a little too big for this data, try a binwidth of 0.5 instead."
   ]
  },
  {
   "cell_type": "code",
   "execution_count": null,
   "metadata": {
    "deletable": false,
    "nbgrader": {
     "cell_type": "code",
     "checksum": "325173252e608a9bbf168ed8917cd179",
     "grade": false,
     "grade_id": "cell-8812dd635aaf7132",
     "locked": false,
     "schema_version": 3,
     "solution": true,
     "task": false
    }
   },
   "outputs": [],
   "source": [
    "set.seed(4321) # DO NOT CHANGE!\n",
    "\n",
    "# your code here\n",
    "fail() # No Answer - remove if you provide an answer\n",
    "coffee_sampling_distribution_5"
   ]
  },
  {
   "cell_type": "code",
   "execution_count": null,
   "metadata": {
    "deletable": false,
    "editable": false,
    "nbgrader": {
     "cell_type": "code",
     "checksum": "fcdbd823a0d22d1d3ab4cff1ebcc70b0",
     "grade": true,
     "grade_id": "cell-903e63e152454325",
     "locked": true,
     "points": 1,
     "schema_version": 3,
     "solution": false,
     "task": false
    }
   },
   "outputs": [],
   "source": [
    "library(digest)\n",
    "stopifnot(\"coffee_samples_5 should be a data frame\"= setequal(digest(paste(toString('data.frame' %in% class(coffee_samples_5)), \"eccbf\")), \"80c1e906bd1b660e98e11552d1591fde\"))\n",
    "stopifnot(\"dimensions of coffee_samples_5 are not correct\"= setequal(digest(paste(toString(dim(coffee_samples_5)), \"eccbf\")), \"7870666fd2b61b601129f0774fb5dbb6\"))\n",
    "stopifnot(\"column names of coffee_samples_5 are not correct\"= setequal(digest(paste(toString(sort(colnames(coffee_samples_5))), \"eccbf\")), \"d16147ee2609cd875e46479737c9dd8b\"))\n",
    "stopifnot(\"types of columns in coffee_samples_5 are not correct\"= setequal(digest(paste(toString(sort(unlist(sapply(coffee_samples_5, class)))), \"eccbf\")), \"032012da900f7176cccae62be5ee5f59\"))\n",
    "stopifnot(\"values in one or more numerical columns in coffee_samples_5 are not correct\"= setequal(digest(paste(toString(if (any(sapply(coffee_samples_5, is.numeric))) sort(round(sapply(coffee_samples_5[, sapply(coffee_samples_5, is.numeric)], sum, na.rm = TRUE), 2)) else 0), \"eccbf\")), \"2970d5f057e2f74f2b39d6d6a9a9aeab\"))\n",
    "stopifnot(\"values in one or more character columns in coffee_samples_5 are not correct\"= setequal(digest(paste(toString(if (any(sapply(coffee_samples_5, is.character))) sum(sapply(coffee_samples_5[sapply(coffee_samples_5, is.character)], function(x) length(unique(x)))) else 0), \"eccbf\")), \"ef99664bac3628d26c7f85c735b2cd18\"))\n",
    "stopifnot(\"values in one or more factor columns in coffee_samples_5 are not correct\"= setequal(digest(paste(toString(if (any(sapply(coffee_samples_5, is.factor))) sum(sapply(coffee_samples_5[, sapply(coffee_samples_5, is.factor)], function(col) length(unique(col)))) else 0), \"eccbf\")), \"ef99664bac3628d26c7f85c735b2cd18\"))\n",
    "\n",
    "stopifnot(\"coffee_sample_estimates_5 should be a data frame\"= setequal(digest(paste(toString('data.frame' %in% class(coffee_sample_estimates_5)), \"eccc0\")), \"fca6b2a0ec735e748bdb971113ffb0d1\"))\n",
    "stopifnot(\"dimensions of coffee_sample_estimates_5 are not correct\"= setequal(digest(paste(toString(dim(coffee_sample_estimates_5)), \"eccc0\")), \"0fe7ce94655686c6166c66b01c8a5dc9\"))\n",
    "stopifnot(\"column names of coffee_sample_estimates_5 are not correct\"= setequal(digest(paste(toString(sort(colnames(coffee_sample_estimates_5))), \"eccc0\")), \"8566bc90c1f5df8f08e70484068bfacc\"))\n",
    "stopifnot(\"types of columns in coffee_sample_estimates_5 are not correct\"= setequal(digest(paste(toString(sort(unlist(sapply(coffee_sample_estimates_5, class)))), \"eccc0\")), \"84d2965293c165b4b78175475199c6a8\"))\n",
    "stopifnot(\"values in one or more numerical columns in coffee_sample_estimates_5 are not correct\"= setequal(digest(paste(toString(if (any(sapply(coffee_sample_estimates_5, is.numeric))) sort(round(sapply(coffee_sample_estimates_5[, sapply(coffee_sample_estimates_5, is.numeric)], sum, na.rm = TRUE), 2)) else 0), \"eccc0\")), \"1800109deab3d5f2503465e91b2702df\"))\n",
    "stopifnot(\"values in one or more character columns in coffee_sample_estimates_5 are not correct\"= setequal(digest(paste(toString(if (any(sapply(coffee_sample_estimates_5, is.character))) sum(sapply(coffee_sample_estimates_5[sapply(coffee_sample_estimates_5, is.character)], function(x) length(unique(x)))) else 0), \"eccc0\")), \"66d402522b60d0c5e2341134eef6a612\"))\n",
    "stopifnot(\"values in one or more factor columns in coffee_sample_estimates_5 are not correct\"= setequal(digest(paste(toString(if (any(sapply(coffee_sample_estimates_5, is.factor))) sum(sapply(coffee_sample_estimates_5[, sapply(coffee_sample_estimates_5, is.factor)], function(col) length(unique(col)))) else 0), \"eccc0\")), \"66d402522b60d0c5e2341134eef6a612\"))\n",
    "\n",
    "stopifnot(\"type of plot is not correct (if you are using two types of geoms, try flipping the order of the geom objects!)\"= setequal(digest(paste(toString(sapply(seq_len(length(coffee_sampling_distribution_5$layers)), function(i) {c(class(coffee_sampling_distribution_5$layers[[i]]$geom))[1]})), \"eccc1\")), \"5f35759b44ee47a40d66f3bef50abf88\"))\n",
    "stopifnot(\"variable x is not correct\"= setequal(digest(paste(toString(unlist(lapply(sapply(seq_len(length(coffee_sampling_distribution_5$layers)), function(i) {rlang::get_expr(c(coffee_sampling_distribution_5$layers[[i]]$mapping, coffee_sampling_distribution_5$mapping)$x)}), as.character))), \"eccc1\")), \"c791f6951bea0b6813f756fdaac2d285\"))\n",
    "stopifnot(\"variable y is not correct\"= setequal(digest(paste(toString(unlist(lapply(sapply(seq_len(length(coffee_sampling_distribution_5$layers)), function(i) {rlang::get_expr(c(coffee_sampling_distribution_5$layers[[i]]$mapping, coffee_sampling_distribution_5$mapping)$y)}), as.character))), \"eccc1\")), \"3a95eb8a356f60ec3fc91472ba5cda31\"))\n",
    "stopifnot(\"x-axis label is not descriptive, nicely formatted, or human readable\"= setequal(digest(paste(toString(rlang::get_expr(c(coffee_sampling_distribution_5$layers[[1]]$mapping, coffee_sampling_distribution_5$mapping)$x)!= coffee_sampling_distribution_5$labels$x), \"eccc1\")), \"de4e3dbe04761d62e8b127406496f942\"))\n",
    "stopifnot(\"y-axis label is not descriptive, nicely formatted, or human readable\"= setequal(digest(paste(toString(rlang::get_expr(c(coffee_sampling_distribution_5$layers[[1]]$mapping, coffee_sampling_distribution_5$mapping)$y)!= coffee_sampling_distribution_5$labels$y), \"eccc1\")), \"3a95eb8a356f60ec3fc91472ba5cda31\"))\n",
    "stopifnot(\"incorrect colour variable in coffee_sampling_distribution_5, specify a correct one if required\"= setequal(digest(paste(toString(rlang::get_expr(c(coffee_sampling_distribution_5$layers[[1]]$mapping, coffee_sampling_distribution_5$mapping)$colour)), \"eccc1\")), \"3a95eb8a356f60ec3fc91472ba5cda31\"))\n",
    "stopifnot(\"incorrect shape variable in coffee_sampling_distribution_5, specify a correct one if required\"= setequal(digest(paste(toString(rlang::get_expr(c(coffee_sampling_distribution_5$layers[[1]]$mapping, coffee_sampling_distribution_5$mapping)$shape)), \"eccc1\")), \"3a95eb8a356f60ec3fc91472ba5cda31\"))\n",
    "stopifnot(\"the colour label in coffee_sampling_distribution_5 is not descriptive, nicely formatted, or human readable\"= setequal(digest(paste(toString(rlang::get_expr(c(coffee_sampling_distribution_5$layers[[1]]$mapping, coffee_sampling_distribution_5$mapping)$colour) != coffee_sampling_distribution_5$labels$colour), \"eccc1\")), \"3a95eb8a356f60ec3fc91472ba5cda31\"))\n",
    "stopifnot(\"the shape label in coffee_sampling_distribution_5 is not descriptive, nicely formatted, or human readable\"= setequal(digest(paste(toString(rlang::get_expr(c(coffee_sampling_distribution_5$layers[[1]]$mapping, coffee_sampling_distribution_5$mapping)$colour) != coffee_sampling_distribution_5$labels$shape), \"eccc1\")), \"3a95eb8a356f60ec3fc91472ba5cda31\"))\n",
    "stopifnot(\"fill variable in coffee_sampling_distribution_5 is not correct\"= setequal(digest(paste(toString(quo_name(coffee_sampling_distribution_5$mapping$fill)), \"eccc1\")), \"e9182bcaae9b7c059ad01180b2ce005b\"))\n",
    "stopifnot(\"fill label in coffee_sampling_distribution_5 is not informative\"= setequal(digest(paste(toString((quo_name(coffee_sampling_distribution_5$mapping$fill) != coffee_sampling_distribution_5$labels$fill)), \"eccc1\")), \"3a95eb8a356f60ec3fc91472ba5cda31\"))\n",
    "stopifnot(\"position argument in coffee_sampling_distribution_5 is not correct\"= setequal(digest(paste(toString(class(coffee_sampling_distribution_5$layers[[1]]$position)[1]), \"eccc1\")), \"c9f701f7577122e6ad26d413d5d58c36\"))\n",
    "\n",
    "stopifnot(\"coffee_sampling_distribution_5$data should be a data frame\"= setequal(digest(paste(toString('data.frame' %in% class(coffee_sampling_distribution_5$data)), \"eccc2\")), \"32f691a3b331aa0ee677f730b86380f6\"))\n",
    "stopifnot(\"dimensions of coffee_sampling_distribution_5$data are not correct\"= setequal(digest(paste(toString(dim(coffee_sampling_distribution_5$data)), \"eccc2\")), \"33d2f9443f2f62cb094d707d680e08f9\"))\n",
    "stopifnot(\"column names of coffee_sampling_distribution_5$data are not correct\"= setequal(digest(paste(toString(sort(colnames(coffee_sampling_distribution_5$data))), \"eccc2\")), \"b2f14d16449b0eabcdd9ead37bdedd81\"))\n",
    "stopifnot(\"types of columns in coffee_sampling_distribution_5$data are not correct\"= setequal(digest(paste(toString(sort(unlist(sapply(coffee_sampling_distribution_5$data, class)))), \"eccc2\")), \"fb77731395d98f2dfba211730ac9819e\"))\n",
    "stopifnot(\"values in one or more numerical columns in coffee_sampling_distribution_5$data are not correct\"= setequal(digest(paste(toString(if (any(sapply(coffee_sampling_distribution_5$data, is.numeric))) sort(round(sapply(coffee_sampling_distribution_5$data[, sapply(coffee_sampling_distribution_5$data, is.numeric)], sum, na.rm = TRUE), 2)) else 0), \"eccc2\")), \"3d2a31b7a80fa127177ce8ce9395eeb8\"))\n",
    "stopifnot(\"values in one or more character columns in coffee_sampling_distribution_5$data are not correct\"= setequal(digest(paste(toString(if (any(sapply(coffee_sampling_distribution_5$data, is.character))) sum(sapply(coffee_sampling_distribution_5$data[sapply(coffee_sampling_distribution_5$data, is.character)], function(x) length(unique(x)))) else 0), \"eccc2\")), \"91db80112f34a6e7e1ce5fe8403a7f97\"))\n",
    "stopifnot(\"values in one or more factor columns in coffee_sampling_distribution_5$data are not correct\"= setequal(digest(paste(toString(if (any(sapply(coffee_sampling_distribution_5$data, is.factor))) sum(sapply(coffee_sampling_distribution_5$data[, sapply(coffee_sampling_distribution_5$data, is.factor)], function(col) length(unique(col)))) else 0), \"eccc2\")), \"91db80112f34a6e7e1ce5fe8403a7f97\"))\n",
    "\n",
    "stopifnot(\"type of is.character(coffee_sampling_distribution_5$labels$title) is not logical\"= setequal(digest(paste(toString(class(is.character(coffee_sampling_distribution_5$labels$title))), \"eccc3\")), \"3643482ed82fdfcd93fb9065de87115d\"))\n",
    "stopifnot(\"logical value of is.character(coffee_sampling_distribution_5$labels$title) is not correct\"= setequal(digest(paste(toString(is.character(coffee_sampling_distribution_5$labels$title)), \"eccc3\")), \"5f75655c3d5bc5dfb32c71764eadd9cd\"))\n",
    "\n",
    "print('Success!')"
   ]
  },
  {
   "cell_type": "markdown",
   "metadata": {
    "deletable": false,
    "editable": false,
    "nbgrader": {
     "cell_type": "markdown",
     "checksum": "4ed3cd0a924683fcb19b703a88dde638",
     "grade": false,
     "grade_id": "cell-2465e27157c638d7",
     "locked": true,
     "schema_version": 3,
     "solution": false,
     "task": false
    }
   },
   "source": [
    "**Question 1.9** \n",
    "<br> {points: 3}\n",
    "\n",
    "Describe in words the distribution above, comment on the shape, center and how spread out the distribution is. Compare this sampling distribution to the population distribution above. "
   ]
  },
  {
   "cell_type": "markdown",
   "metadata": {
    "deletable": false,
    "nbgrader": {
     "cell_type": "markdown",
     "checksum": "3d73c65fc7b44f092fcd1d6b9d2ba68e",
     "grade": true,
     "grade_id": "cell-cf34db0143c52463",
     "locked": false,
     "points": 3,
     "schema_version": 3,
     "solution": true,
     "task": false
    }
   },
   "source": [
    "DOUBLE CLICK TO EDIT **THIS CELL** AND REPLACE THIS TEXT WITH YOUR ANSWER."
   ]
  },
  {
   "cell_type": "markdown",
   "metadata": {
    "deletable": false,
    "editable": false,
    "nbgrader": {
     "cell_type": "markdown",
     "checksum": "9d8a7057e9eab6f66aadfd587117b405",
     "grade": false,
     "grade_id": "cell-6f8f48470b96f334",
     "locked": true,
     "schema_version": 3,
     "solution": false,
     "task": false
    }
   },
   "source": [
    "**Question 2.0** \n",
    "<br> {points: 1}\n",
    "\n",
    "Draw 1500 random samples from `coffee_data`. Each sample should have 30 observations. Assign this data frame to an object called `coffee_samples_30`.\n",
    "\n",
    "Group by the sample replicate number, and then for each sample, calculate the mean. Name the data frame `coffee_sample_estimates_30`. The data frame should have the column names `replicate` and `coffee_mean_cups_30`.\n",
    "\n",
    "Finally, create a plot of the sampling distribution called `coffee_sampling_distribution_30`.\n",
    "\n",
    "> Hint: use `xlim` to control the x-axis limits so that they are similar to those in the histogram above. This will make it easier to compare this histogram with that one."
   ]
  },
  {
   "cell_type": "code",
   "execution_count": null,
   "metadata": {
    "deletable": false,
    "nbgrader": {
     "cell_type": "code",
     "checksum": "7c25109d768b13fc34232dc5a0b3a4d5",
     "grade": false,
     "grade_id": "cell-8749c4c793527994",
     "locked": false,
     "schema_version": 3,
     "solution": true,
     "task": false
    }
   },
   "outputs": [],
   "source": [
    "set.seed(4321) # DO NOT CHANGE!\n",
    "\n",
    "# your code here\n",
    "fail() # No Answer - remove if you provide an answer\n",
    "coffee_sampling_distribution_30"
   ]
  },
  {
   "cell_type": "code",
   "execution_count": null,
   "metadata": {
    "deletable": false,
    "editable": false,
    "nbgrader": {
     "cell_type": "code",
     "checksum": "53df1bd9a424e111b74371b3bcb38955",
     "grade": true,
     "grade_id": "cell-343520899a993a48",
     "locked": true,
     "points": 1,
     "schema_version": 3,
     "solution": false,
     "task": false
    }
   },
   "outputs": [],
   "source": [
    "library(digest)\n",
    "stopifnot(\"coffee_samples_30 should be a data frame\"= setequal(digest(paste(toString('data.frame' %in% class(coffee_samples_30)), \"4cfac\")), \"c83e699a536f8e1bcb819767c3dffaf9\"))\n",
    "stopifnot(\"dimensions of coffee_samples_30 are not correct\"= setequal(digest(paste(toString(dim(coffee_samples_30)), \"4cfac\")), \"964c47b99b6f1ebd64b273b9f3dbb711\"))\n",
    "stopifnot(\"column names of coffee_samples_30 are not correct\"= setequal(digest(paste(toString(sort(colnames(coffee_samples_30))), \"4cfac\")), \"6d4e8395355ab9a8779e2644786b2bbc\"))\n",
    "stopifnot(\"types of columns in coffee_samples_30 are not correct\"= setequal(digest(paste(toString(sort(unlist(sapply(coffee_samples_30, class)))), \"4cfac\")), \"01180166042829a71827f9551c8584c7\"))\n",
    "stopifnot(\"values in one or more numerical columns in coffee_samples_30 are not correct\"= setequal(digest(paste(toString(if (any(sapply(coffee_samples_30, is.numeric))) sort(round(sapply(coffee_samples_30[, sapply(coffee_samples_30, is.numeric)], sum, na.rm = TRUE), 2)) else 0), \"4cfac\")), \"7092ef75e92465325950d0d6f5f2015f\"))\n",
    "stopifnot(\"values in one or more character columns in coffee_samples_30 are not correct\"= setequal(digest(paste(toString(if (any(sapply(coffee_samples_30, is.character))) sum(sapply(coffee_samples_30[sapply(coffee_samples_30, is.character)], function(x) length(unique(x)))) else 0), \"4cfac\")), \"20c41b829968e8a674a03493584eeb38\"))\n",
    "stopifnot(\"values in one or more factor columns in coffee_samples_30 are not correct\"= setequal(digest(paste(toString(if (any(sapply(coffee_samples_30, is.factor))) sum(sapply(coffee_samples_30[, sapply(coffee_samples_30, is.factor)], function(col) length(unique(col)))) else 0), \"4cfac\")), \"20c41b829968e8a674a03493584eeb38\"))\n",
    "\n",
    "stopifnot(\"coffee_sample_estimates_30 should be a data frame\"= setequal(digest(paste(toString('data.frame' %in% class(coffee_sample_estimates_30)), \"4cfad\")), \"7b76d9cf5ce86469c24eb35ef0c81cb0\"))\n",
    "stopifnot(\"dimensions of coffee_sample_estimates_30 are not correct\"= setequal(digest(paste(toString(dim(coffee_sample_estimates_30)), \"4cfad\")), \"0a819cf77ac5f14f7293f384573f8de4\"))\n",
    "stopifnot(\"column names of coffee_sample_estimates_30 are not correct\"= setequal(digest(paste(toString(sort(colnames(coffee_sample_estimates_30))), \"4cfad\")), \"7be19bdc916d1847a0022d49d866df64\"))\n",
    "stopifnot(\"types of columns in coffee_sample_estimates_30 are not correct\"= setequal(digest(paste(toString(sort(unlist(sapply(coffee_sample_estimates_30, class)))), \"4cfad\")), \"d97886b6c2acecf91cb5ec648033a233\"))\n",
    "stopifnot(\"values in one or more numerical columns in coffee_sample_estimates_30 are not correct\"= setequal(digest(paste(toString(if (any(sapply(coffee_sample_estimates_30, is.numeric))) sort(round(sapply(coffee_sample_estimates_30[, sapply(coffee_sample_estimates_30, is.numeric)], sum, na.rm = TRUE), 2)) else 0), \"4cfad\")), \"cd3cd563b6b7024a4864ba13f99c5102\"))\n",
    "stopifnot(\"values in one or more character columns in coffee_sample_estimates_30 are not correct\"= setequal(digest(paste(toString(if (any(sapply(coffee_sample_estimates_30, is.character))) sum(sapply(coffee_sample_estimates_30[sapply(coffee_sample_estimates_30, is.character)], function(x) length(unique(x)))) else 0), \"4cfad\")), \"c95de78a71dc6caa5ef3c06eea91045c\"))\n",
    "stopifnot(\"values in one or more factor columns in coffee_sample_estimates_30 are not correct\"= setequal(digest(paste(toString(if (any(sapply(coffee_sample_estimates_30, is.factor))) sum(sapply(coffee_sample_estimates_30[, sapply(coffee_sample_estimates_30, is.factor)], function(col) length(unique(col)))) else 0), \"4cfad\")), \"c95de78a71dc6caa5ef3c06eea91045c\"))\n",
    "\n",
    "stopifnot(\"type of plot is not correct (if you are using two types of geoms, try flipping the order of the geom objects!)\"= setequal(digest(paste(toString(sapply(seq_len(length(coffee_sampling_distribution_30$layers)), function(i) {c(class(coffee_sampling_distribution_30$layers[[i]]$geom))[1]})), \"4cfae\")), \"53613c596abe4c660c90c16c85a401d1\"))\n",
    "stopifnot(\"variable x is not correct\"= setequal(digest(paste(toString(unlist(lapply(sapply(seq_len(length(coffee_sampling_distribution_30$layers)), function(i) {rlang::get_expr(c(coffee_sampling_distribution_30$layers[[i]]$mapping, coffee_sampling_distribution_30$mapping)$x)}), as.character))), \"4cfae\")), \"41baf5978b5ab0cde5c622bd26f3baa4\"))\n",
    "stopifnot(\"variable y is not correct\"= setequal(digest(paste(toString(unlist(lapply(sapply(seq_len(length(coffee_sampling_distribution_30$layers)), function(i) {rlang::get_expr(c(coffee_sampling_distribution_30$layers[[i]]$mapping, coffee_sampling_distribution_30$mapping)$y)}), as.character))), \"4cfae\")), \"0ff3d0a60a22cd3162eafdb46dd46a12\"))\n",
    "stopifnot(\"x-axis label is not descriptive, nicely formatted, or human readable\"= setequal(digest(paste(toString(rlang::get_expr(c(coffee_sampling_distribution_30$layers[[1]]$mapping, coffee_sampling_distribution_30$mapping)$x)!= coffee_sampling_distribution_30$labels$x), \"4cfae\")), \"5716d46a14bf91774c862b591c1c03d5\"))\n",
    "stopifnot(\"y-axis label is not descriptive, nicely formatted, or human readable\"= setequal(digest(paste(toString(rlang::get_expr(c(coffee_sampling_distribution_30$layers[[1]]$mapping, coffee_sampling_distribution_30$mapping)$y)!= coffee_sampling_distribution_30$labels$y), \"4cfae\")), \"0ff3d0a60a22cd3162eafdb46dd46a12\"))\n",
    "stopifnot(\"incorrect colour variable in coffee_sampling_distribution_30, specify a correct one if required\"= setequal(digest(paste(toString(rlang::get_expr(c(coffee_sampling_distribution_30$layers[[1]]$mapping, coffee_sampling_distribution_30$mapping)$colour)), \"4cfae\")), \"0ff3d0a60a22cd3162eafdb46dd46a12\"))\n",
    "stopifnot(\"incorrect shape variable in coffee_sampling_distribution_30, specify a correct one if required\"= setequal(digest(paste(toString(rlang::get_expr(c(coffee_sampling_distribution_30$layers[[1]]$mapping, coffee_sampling_distribution_30$mapping)$shape)), \"4cfae\")), \"0ff3d0a60a22cd3162eafdb46dd46a12\"))\n",
    "stopifnot(\"the colour label in coffee_sampling_distribution_30 is not descriptive, nicely formatted, or human readable\"= setequal(digest(paste(toString(rlang::get_expr(c(coffee_sampling_distribution_30$layers[[1]]$mapping, coffee_sampling_distribution_30$mapping)$colour) != coffee_sampling_distribution_30$labels$colour), \"4cfae\")), \"0ff3d0a60a22cd3162eafdb46dd46a12\"))\n",
    "stopifnot(\"the shape label in coffee_sampling_distribution_30 is not descriptive, nicely formatted, or human readable\"= setequal(digest(paste(toString(rlang::get_expr(c(coffee_sampling_distribution_30$layers[[1]]$mapping, coffee_sampling_distribution_30$mapping)$colour) != coffee_sampling_distribution_30$labels$shape), \"4cfae\")), \"0ff3d0a60a22cd3162eafdb46dd46a12\"))\n",
    "stopifnot(\"fill variable in coffee_sampling_distribution_30 is not correct\"= setequal(digest(paste(toString(quo_name(coffee_sampling_distribution_30$mapping$fill)), \"4cfae\")), \"2a27d7a283d35712b0b9b6808ae8b027\"))\n",
    "stopifnot(\"fill label in coffee_sampling_distribution_30 is not informative\"= setequal(digest(paste(toString((quo_name(coffee_sampling_distribution_30$mapping$fill) != coffee_sampling_distribution_30$labels$fill)), \"4cfae\")), \"0ff3d0a60a22cd3162eafdb46dd46a12\"))\n",
    "stopifnot(\"position argument in coffee_sampling_distribution_30 is not correct\"= setequal(digest(paste(toString(class(coffee_sampling_distribution_30$layers[[1]]$position)[1]), \"4cfae\")), \"886506c1678babffd783afc38b95a28e\"))\n",
    "\n",
    "stopifnot(\"coffee_sampling_distribution_30$data should be a data frame\"= setequal(digest(paste(toString('data.frame' %in% class(coffee_sampling_distribution_30$data)), \"4cfaf\")), \"e480c43ce5c4c0e12b36acbef75ec8a4\"))\n",
    "stopifnot(\"dimensions of coffee_sampling_distribution_30$data are not correct\"= setequal(digest(paste(toString(dim(coffee_sampling_distribution_30$data)), \"4cfaf\")), \"f642045877f22fa7f466b2f256411c43\"))\n",
    "stopifnot(\"column names of coffee_sampling_distribution_30$data are not correct\"= setequal(digest(paste(toString(sort(colnames(coffee_sampling_distribution_30$data))), \"4cfaf\")), \"bfa96c87389de9898a622f79318d04cd\"))\n",
    "stopifnot(\"types of columns in coffee_sampling_distribution_30$data are not correct\"= setequal(digest(paste(toString(sort(unlist(sapply(coffee_sampling_distribution_30$data, class)))), \"4cfaf\")), \"803762b9fa066b56cbc888d1e9b62f47\"))\n",
    "stopifnot(\"values in one or more numerical columns in coffee_sampling_distribution_30$data are not correct\"= setequal(digest(paste(toString(if (any(sapply(coffee_sampling_distribution_30$data, is.numeric))) sort(round(sapply(coffee_sampling_distribution_30$data[, sapply(coffee_sampling_distribution_30$data, is.numeric)], sum, na.rm = TRUE), 2)) else 0), \"4cfaf\")), \"a970ca2837ef19ae729b3c56d941dc18\"))\n",
    "stopifnot(\"values in one or more character columns in coffee_sampling_distribution_30$data are not correct\"= setequal(digest(paste(toString(if (any(sapply(coffee_sampling_distribution_30$data, is.character))) sum(sapply(coffee_sampling_distribution_30$data[sapply(coffee_sampling_distribution_30$data, is.character)], function(x) length(unique(x)))) else 0), \"4cfaf\")), \"ea923c37773f1f11729231b40f33a481\"))\n",
    "stopifnot(\"values in one or more factor columns in coffee_sampling_distribution_30$data are not correct\"= setequal(digest(paste(toString(if (any(sapply(coffee_sampling_distribution_30$data, is.factor))) sum(sapply(coffee_sampling_distribution_30$data[, sapply(coffee_sampling_distribution_30$data, is.factor)], function(col) length(unique(col)))) else 0), \"4cfaf\")), \"ea923c37773f1f11729231b40f33a481\"))\n",
    "\n",
    "stopifnot(\"type of is.character(coffee_sampling_distribution_30$labels$title) is not logical\"= setequal(digest(paste(toString(class(is.character(coffee_sampling_distribution_30$labels$title))), \"4cfb0\")), \"ec1e932af1638659a19c4851c7117643\"))\n",
    "stopifnot(\"logical value of is.character(coffee_sampling_distribution_30$labels$title) is not correct\"= setequal(digest(paste(toString(is.character(coffee_sampling_distribution_30$labels$title)), \"4cfb0\")), \"34fe66557b4aeabc5de2b4e8d81b65a9\"))\n",
    "\n",
    "stopifnot(\"type of !is.null(ggplot_build(coffee_sampling_distribution_30)$layout$panel_scales_x[[1]]$limits) is not logical\"= setequal(digest(paste(toString(class(!is.null(ggplot_build(coffee_sampling_distribution_30)$layout$panel_scales_x[[1]]$limits))), \"4cfb1\")), \"ccfe98d987d26353500fa0ef9de4b5d1\"))\n",
    "stopifnot(\"logical value of !is.null(ggplot_build(coffee_sampling_distribution_30)$layout$panel_scales_x[[1]]$limits) is not correct\"= setequal(digest(paste(toString(!is.null(ggplot_build(coffee_sampling_distribution_30)$layout$panel_scales_x[[1]]$limits)), \"4cfb1\")), \"db1963bb844af324693805000fd6dd8c\"))\n",
    "\n",
    "print('Success!')"
   ]
  },
  {
   "cell_type": "markdown",
   "metadata": {
    "deletable": false,
    "editable": false,
    "nbgrader": {
     "cell_type": "markdown",
     "checksum": "e2bf17e8740dbc9fd946e4d4e20f02c8",
     "grade": false,
     "grade_id": "cell-96acd1b43e68363c",
     "locked": true,
     "schema_version": 3,
     "solution": false,
     "task": false
    }
   },
   "source": [
    "**Question 2.1** \n",
    "<br> {points: 3}\n",
    "\n",
    "Describe in words the distribution above, comment on the shape, center and how spread out the distribution is. Compare this sampling distribution with samples of size 30 to the sampling distribution with samples of size 5. "
   ]
  },
  {
   "cell_type": "markdown",
   "metadata": {
    "deletable": false,
    "nbgrader": {
     "cell_type": "markdown",
     "checksum": "0bbd98baacefcbd55363330f5fd736f0",
     "grade": true,
     "grade_id": "cell-357c5ff2260d8e3e",
     "locked": false,
     "points": 3,
     "schema_version": 3,
     "solution": true,
     "task": false
    }
   },
   "source": [
    "DOUBLE CLICK TO EDIT **THIS CELL** AND REPLACE THIS TEXT WITH YOUR ANSWER."
   ]
  },
  {
   "cell_type": "code",
   "execution_count": null,
   "metadata": {
    "deletable": false,
    "editable": false,
    "nbgrader": {
     "cell_type": "code",
     "checksum": "176f0a3e9158ce2bd345a22f29a73707",
     "grade": false,
     "grade_id": "cell-5dc312e76f3e0a86",
     "locked": true,
     "schema_version": 3,
     "solution": false,
     "task": false
    }
   },
   "outputs": [],
   "source": [
    "source('cleanup.R')"
   ]
  }
 ],
 "metadata": {
  "kernelspec": {
   "display_name": "R",
   "language": "R",
   "name": "ir"
  },
  "language_info": {
   "codemirror_mode": "r",
   "file_extension": ".r",
   "mimetype": "text/x-r-source",
   "name": "R",
   "pygments_lexer": "r",
   "version": "4.3.3"
  }
 },
 "nbformat": 4,
 "nbformat_minor": 4
}
