{
 "cells": [
  {
   "cell_type": "markdown",
   "id": "22fbd44e-7905-4be2-b600-3335cc4577ef",
   "metadata": {
    "deletable": false,
    "editable": false,
    "nbgrader": {
     "cell_type": "markdown",
     "checksum": "0da630f68d7c2fdd6beffe3433ad7bf8",
     "grade": false,
     "grade_id": "cell-ab73bb44c9419adb",
     "locked": true,
     "schema_version": 3,
     "solution": false,
     "task": false
    }
   },
   "source": [
    "# Worksheet 1: Introduction to Data Science\n",
    "\n",
    "Welcome to DSCI 100: Introduction to Data Science!  \n",
    "\n",
    "Each week you will complete a lecture assignment like this one. Before we get started, there are some administrative details.\n",
    "\n",
    "You can't learn technical subjects without hands-on practice. The weekly lecture worksheets and tutorials are an important part of the course. The lecture worksheets and tutorials will automatically be collected on the due date. Attendance in lectures and tutorials are required. There will be participatory activities in both the lecture and tutorial to help support your learning.\n",
    "\n",
    "- The lecture worksheets are worth 5% of your final grade. \n",
    "    - Each question is worth 1 point. \n",
    "- The tutorial assignments are worth 15% of your final grade. \n",
    "    - Each autograded question is worth 1 point. \n",
    "    - Each manually graded question is worth 3 points. \n",
    "\n",
    "Collaborating on lecture worksheets and tutorial assignments is more than okay -- it's encouraged! You should rarely be stuck for more than a few minutes on questions in lecture or tutorial, so ask a neighbor, TA or an instructor for help (explaining things is beneficial, too -- the best way to solidify your knowledge of a subject is to explain it). Please don't just share answers, though. Everyone must submit a copy of their own work.\n",
    "\n",
    "### Lecture and Tutorial Learning Goals:\n",
    "\n",
    "After completing this week's lecture and tutorial work, you will be able to:\n",
    "\n",
    "* use a Jupyter notebook to execute provided Python code\n",
    "* edit code and markdown cells in a Jupyter notebook\n",
    "* create new code and markdown cells in a Jupyter notebook\n",
    "* load the `pandas` package into Python \n",
    "* create new variables and objects in Python\n",
    "* use the help and documentation tools in Python\n",
    "* perform the following operations from the `pandas` package:\n",
    "    - Read a standard .csv file using `read_csv`.\n",
    "    - subset rows and columns of a data frame using `loc[]`.\n",
    "    - select columns of a dataframe using `[]`.\n",
    "    - create a new column of a dataframe using `assign`.\n",
    "* use `Altair` package to create plots \n",
    "\n",
    "In this first worksheet you will also learn how to test the answers you write in this worksheet to assess if you answered questions correctly before your assignment is collected.\n",
    "\n",
    "This worksheet covers parts of Chapter 1 of the online textbook. In most worksheets we expect you to read the textbook chapters before completing the worksheet, however we know that might not have been possible for this worksheet, so we have added a bit more help to get you through. You still should however read the chapter to get a deeper understanding of this week's material (it will help you more easily answer the problems in this week's tutorial homework). "
   ]
  },
  {
   "cell_type": "markdown",
   "id": "918f6020-9762-46e2-a984-45f17d4bbcf0",
   "metadata": {},
   "source": [
    "## 1. Jupyter Notebooks\n",
    "This webpage is called a Jupyter notebook. A notebook is a place to write computer code for analysis, view the results of the analysis, as well as to narrate the analysis with rich formatted text.\n",
    "\n",
    "### 1.1. Text Cells\n",
    "In a notebook, each rectangle containing text or code is called a *cell*.\n",
    "\n",
    "Text cells (like this one) can be edited by double-clicking on them. They're written in a simple format called [Markdown](http://daringfireball.net/projects/markdown/syntax) to add formatting and section headings.  You don't need to learn Markdown, but you might want to.\n",
    "\n",
    "After you edit a text cell, click the \"run cell\" button at the top that looks like ▶ to confirm any changes. (Try not to delete the instructions of the lab.)"
   ]
  },
  {
   "cell_type": "markdown",
   "id": "123e5c30-f998-4902-904b-89b8614e51ac",
   "metadata": {},
   "source": [
    "**Question 1.1.1**\n",
    "<br> {points: 0}\n",
    "\n",
    "This paragraph is in its own text cell.  Try editing it so that all of the sentences following this one are deleted, then click the \"run cell\" ▶ button .  This sentence, for example, should be deleted.  So should this one."
   ]
  },
  {
   "cell_type": "markdown",
   "id": "fa461635-3e32-4f47-b224-1da3e30f8c32",
   "metadata": {
    "deletable": false,
    "editable": false,
    "nbgrader": {
     "cell_type": "markdown",
     "checksum": "a3f9fb9fd681b9512391d2fe287c7224",
     "grade": false,
     "grade_id": "cell-1bcb95d0b1db3765",
     "locked": true,
     "schema_version": 3,
     "solution": false,
     "task": false
    }
   },
   "source": [
    "### 1.2. Code Cells\n",
    "Other cells contain code in the Python language. Running a code cell will execute all of the code it contains.\n",
    "\n",
    "To run the code in a cell, first click on that cell to activate it.  It will be highlighted with a blue rectangle to the left of it when activated.  Next, either press Run ▶ or hold down the `shift` key and press `return` or `enter`.\n",
    "\n",
    "Try running the next cell:"
   ]
  },
  {
   "cell_type": "code",
   "execution_count": null,
   "id": "921efaf9-1898-4714-abbe-d3e2c3f2a649",
   "metadata": {},
   "outputs": [],
   "source": [
    "print(\"Hello, World!\")"
   ]
  },
  {
   "cell_type": "markdown",
   "id": "a328045c-feb3-4b45-8f03-2159e6ed0a2a",
   "metadata": {
    "deletable": false,
    "editable": false,
    "nbgrader": {
     "cell_type": "markdown",
     "checksum": "cfa55ff88b8edef774b86185d1f401c7",
     "grade": false,
     "grade_id": "cell-488f473e002dc27f",
     "locked": true,
     "schema_version": 3,
     "solution": false,
     "task": false
    }
   },
   "source": [
    "The above code cell contains a single line of code, but cells can also contain multiple lines of code. When you run a cell, the lines of code are executed in the order in which they appear. Every `print` expression prints a line. Run the next cell and notice the order of the output."
   ]
  },
  {
   "cell_type": "code",
   "execution_count": null,
   "id": "e07a90fe-6165-49ee-8ef9-4a6908803eec",
   "metadata": {},
   "outputs": [],
   "source": [
    "print(\"First this line is printed,\")\n",
    "print(\"and then this one.\")"
   ]
  },
  {
   "cell_type": "markdown",
   "id": "c6c36a89-fd46-45ee-999f-b06e02face86",
   "metadata": {
    "deletable": false,
    "editable": false,
    "nbgrader": {
     "cell_type": "markdown",
     "checksum": "a513fcdd41d7ad6f84648eae8e72b441",
     "grade": false,
     "grade_id": "cell-3e71ba8e076aadc4",
     "locked": true,
     "schema_version": 3,
     "solution": false,
     "task": false
    }
   },
   "source": [
    "**Question 1.2.1**\n",
    "<br> {points: 0}\n",
    "\n",
    "Change the cell above so that it prints out:\n",
    "\n",
    "    First this line is printed,\n",
    "    and then the next line, \n",
    "    and then this one.\n",
    "\n",
    "*Hint:* If you're stuck for more than a few minutes, try talking to a neighbor or a TA.  That's a good idea for any worksheet or tutorial problem."
   ]
  },
  {
   "cell_type": "markdown",
   "id": "b82fc076-e177-4222-a076-34bc99c00f7c",
   "metadata": {
    "deletable": false,
    "editable": false,
    "nbgrader": {
     "cell_type": "markdown",
     "checksum": "8b90ab900a0b98adbac88edf8b9ee2e0",
     "grade": false,
     "grade_id": "cell-9e9042f97b98984a",
     "locked": true,
     "schema_version": 3,
     "solution": false,
     "task": false
    }
   },
   "source": [
    "### 1.3. Writing Jupyter Notebooks\n",
    "You can use Jupyter notebooks for your own projects or documents.  When you make your own notebook, you'll need to create your own cells for text and code.\n",
    "\n",
    "To add a cell, click the + button in the menu bar of this tab.  The newly created cell will start out as a code cell.  You can change it to a text cell by clicking inside it so it's highlighted, clicking the drop-down box next to the restart and runall button (⏩) in the menu bar of this tab, and changing it from \"Code\" to \"Markdown\"."
   ]
  },
  {
   "cell_type": "markdown",
   "id": "ae421ba1-618e-4461-b02d-7af6df87a4d1",
   "metadata": {
    "deletable": false,
    "editable": false,
    "nbgrader": {
     "cell_type": "markdown",
     "checksum": "5541afe8b35cc69f02f5060873126689",
     "grade": false,
     "grade_id": "cell-83c7e7fa61f10648",
     "locked": true,
     "schema_version": 3,
     "solution": false,
     "task": false
    }
   },
   "source": [
    "**Question 1.3.1**\n",
    "<br> {points: 0}\n",
    "\n",
    "Add a code cell below this one.  Write code in it that prints out:\n",
    "   \n",
    "    A whole new code cell!\n",
    "\n",
    "Run your cell to verify that it works."
   ]
  },
  {
   "cell_type": "markdown",
   "id": "d69dec82-8a35-43ba-ac23-5275095fc5cd",
   "metadata": {
    "deletable": false,
    "editable": false,
    "nbgrader": {
     "cell_type": "markdown",
     "checksum": "2193d667364f4656d9ce4cb9a0365d1c",
     "grade": false,
     "grade_id": "cell-9bbc9bcea523bb72",
     "locked": true,
     "schema_version": 3,
     "solution": false,
     "task": false
    }
   },
   "source": [
    "**Question 1.3.2**\n",
    "<br> {points: 0}\n",
    "\n",
    "Add a text/Markdown cell below this one. Write the text \"A whole new Markdown cell\" in it."
   ]
  },
  {
   "cell_type": "markdown",
   "id": "6329eb66-a8f0-4fcb-9705-9b5705c9e629",
   "metadata": {
    "deletable": false,
    "editable": false,
    "nbgrader": {
     "cell_type": "markdown",
     "checksum": "1d00e79a45988af22528aff9bf1f3a40",
     "grade": false,
     "grade_id": "cell-bfb007543b14d1cb",
     "locked": true,
     "schema_version": 3,
     "solution": false,
     "task": false
    }
   },
   "source": [
    "### 1.4. Comments\n",
    "Below you see lines like this in code cells:\n",
    "\n",
    "    # Test cell; please do not change!\n",
    "\n",
    "That is called a *comment*.  It doesn't make anything happen in Python; Python ignores anything on a line after a #.  Instead, it's there to communicate something about the code to you, the human reader.  Comments are extremely useful and can help increase how readable our code is.\n",
    "\n",
    "<img src=\"http://imgs.xkcd.com/comics/future_self.png\">\n",
    "\n",
    "*Source: https://xkcd.com/1421/*"
   ]
  },
  {
   "cell_type": "markdown",
   "id": "abf0f646",
   "metadata": {
    "deletable": false,
    "editable": false,
    "nbgrader": {
     "cell_type": "markdown",
     "checksum": "25d7e12237e87a3fdfc9b4e3eb09d8c6",
     "grade": false,
     "grade_id": "cell-75bfe4b544638250",
     "locked": true,
     "schema_version": 3,
     "solution": false,
     "task": false
    }
   },
   "source": [
    "The below code cell contains comments (one at the start of a line, and one after some other code). Run the cell. You will see that everything after a comment symbol `#` is ignored by Python."
   ]
  },
  {
   "cell_type": "code",
   "execution_count": null,
   "id": "6d6c61d3",
   "metadata": {
    "deletable": false,
    "editable": false,
    "nbgrader": {
     "cell_type": "code",
     "checksum": "526ff505505e36ff7b6136c354277c37",
     "grade": false,
     "grade_id": "cell-d093fd3fe06e79c6",
     "locked": true,
     "schema_version": 3,
     "solution": false,
     "task": false
    }
   },
   "outputs": [],
   "source": [
    "# you can use comments to document your code, or make Python ignore some code without deleting it entirely\n",
    "# print(\"this is a commented line that Python will ignore. You won't see this text in the output!\")\n",
    "\n",
    "print(\"hello!\") # you can also put comments at the end of a line of code"
   ]
  },
  {
   "cell_type": "markdown",
   "id": "de1c67bb-15ce-49d4-b1b7-b263d1173a8d",
   "metadata": {
    "deletable": false,
    "editable": false,
    "nbgrader": {
     "cell_type": "markdown",
     "checksum": "ab04c21dd33c138f9ce1546c2e291862",
     "grade": false,
     "grade_id": "cell-849c6b93d0cacce4",
     "locked": true,
     "schema_version": 3,
     "solution": false,
     "task": false
    }
   },
   "source": [
    "### 1.5. Errors\n",
    "Python is a language, and like natural human languages, it has rules.  It differs from natural language in two important ways:\n",
    "1. The rules are *simple*.  You can learn most of them in a few weeks and gain reasonable proficiency with the language in a semester.\n",
    "2. The rules are *rigid*.  If you're proficient in a natural language, you can understand a non-proficient speaker, glossing over small mistakes.  A computer running Python code is not smart enough to do that.\n",
    "\n",
    "Whenever you write code, you'll make mistakes (everyone who writes code does, even your course instructor!).  When you run a code cell that has errors, Python will sometimes produce error messages to tell you what you did wrong.\n",
    "\n",
    "Errors are okay; even experienced programmers make many errors.  When you make an error, you just have to find the source of the problem, fix it, and move on.\n",
    "\n",
    "We have made an error in the next cell.  Run it and see what happens."
   ]
  },
  {
   "cell_type": "code",
   "execution_count": null,
   "id": "4c077e3a-1bdc-4092-80c7-ff82493b8e6c",
   "metadata": {},
   "outputs": [],
   "source": [
    "print(\"This line is missing something.\""
   ]
  },
  {
   "cell_type": "markdown",
   "id": "2a7ae90e-cf3d-44f0-8659-5ae4ce7fbbea",
   "metadata": {
    "deletable": false,
    "editable": false,
    "nbgrader": {
     "cell_type": "markdown",
     "checksum": "f348589b7d23075245f5cf5df3cfe183",
     "grade": false,
     "grade_id": "cell-cbbe357c4fcbfb45",
     "locked": true,
     "schema_version": 3,
     "solution": false,
     "task": false
    }
   },
   "source": [
    "![ws1_error_image_python.png](images/ws1_error_image_python.png)"
   ]
  },
  {
   "cell_type": "markdown",
   "id": "cd675d23-7a4f-469b-90ce-f35b1eb7c10a",
   "metadata": {
    "deletable": false,
    "editable": false,
    "nbgrader": {
     "cell_type": "markdown",
     "checksum": "e4fb59f09fe931053806a828a6bce1fc",
     "grade": false,
     "grade_id": "cell-7f7efb59fbede5af",
     "locked": true,
     "schema_version": 3,
     "solution": false,
     "task": false
    }
   },
   "source": [
    "There's a lot of terminology in programming languages, but you don't need to know it all in order to program effectively. If you see a cryptic message like this, you can often get by without deciphering it.  (Of course, if you're frustrated, ask a neighbor or a TA for help.)\n",
    "\n",
    "Try to fix the code above so that you can run the cell and see the intended message instead of an error."
   ]
  },
  {
   "cell_type": "markdown",
   "id": "cfed80f3-0d06-4d00-94bf-cd3bdeaba6fe",
   "metadata": {
    "deletable": false,
    "editable": false,
    "nbgrader": {
     "cell_type": "markdown",
     "checksum": "0e45f3452f1839084cedbdd307e1a584",
     "grade": false,
     "grade_id": "cell-8e9a58a1f5336eec",
     "locked": true,
     "schema_version": 3,
     "solution": false,
     "task": false
    }
   },
   "source": [
    "### 1.6 The Kernel\n",
    "The kernel is a program that executes the code inside your notebook and outputs the results. In the top right of your window, you can see a circle that indicates the status of your kernel. If the circle is empty (⚪), the kernel is idle and ready to execute code. If the circle is filled in (⚫), the kernel is busy running some code. \n",
    "\n",
    "You may run into problems where your kernel is stuck for an excessive amount of time, your notebook is very slow and unresponsive, or your kernel loses its connection. If this happens, try the following steps:\n",
    "1. At the top of your screen, click **Kernel**, then **Interrupt Kernel**.\n",
    "2. If that doesn't help, click **Kernel**, then **Restart Kernel...**. If you do this, you will have to run your code cells from the start of your notebook up until where you paused your work.!\n",
    "3. If that doesn't help, restart your server. First, save your work by clicking **File** at the top left of your screen, then **Save Notebook**. Next, from the **File** menu click **Hub Control Panel**. Choose **Stop My Server** to shut it down, then **My Server** to start it back up. Then, navigate back to the notebook you were working on."
   ]
  },
  {
   "cell_type": "markdown",
   "id": "4c614525-6303-43e1-b71e-c0253c742ba4",
   "metadata": {
    "deletable": false,
    "editable": false,
    "nbgrader": {
     "cell_type": "markdown",
     "checksum": "ffc73d4b1974c2b9ac3424ac36e3b7eb",
     "grade": false,
     "grade_id": "cell-a7ef9e28949bda19",
     "locked": true,
     "schema_version": 3,
     "solution": false,
     "task": false
    }
   },
   "source": [
    "### 1.7 Saving your work\n",
    "\n",
    "Its important to save your work often so you don't lose your progress! At the top of the screen, go to the **File** menu then **Save Notebook**. There is also a disk icon in the menu of this tab that can be used to save your work as well. Finally, there are keyboard shorcuts for saving your work too: control + s on Windows, or command + s on Mac. Once you've saved your work, you will see a message at the bottom of the screen that says **Saving completed**."
   ]
  },
  {
   "cell_type": "markdown",
   "id": "9b7f97e2-1c10-4896-b47f-91f1d7c792a5",
   "metadata": {
    "deletable": false,
    "editable": false,
    "nbgrader": {
     "cell_type": "markdown",
     "checksum": "82138b3ed9e1706fe6a187bf53162be4",
     "grade": false,
     "grade_id": "cell-475f9fb968597a57",
     "locked": true,
     "schema_version": 3,
     "solution": false,
     "task": false
    }
   },
   "source": [
    "### 1.8. Submitting your work\n",
    "All lecture worksheets and tutorials assignments in the course will be distributed as notebooks like this one. You will complete your work in this notebook and at the due date we will copy this notebook and grade that copy. For lecture worksheets we will use a system called nbgrader that checks your work. For tutorial assignments we will use a combination of nbgrader and manual grading of your work. \n",
    "\n",
    "**Play the Youtube video below to see how to properly answer questions and save in DSCI100 worksheets or tutorials.**"
   ]
  },
  {
   "cell_type": "markdown",
   "id": "fee70082-2651-48b9-84bf-4130ee50b58a",
   "metadata": {
    "deletable": false,
    "editable": false,
    "nbgrader": {
     "cell_type": "markdown",
     "checksum": "e6d6f736605ff1ac7f491aeeb9c060bf",
     "grade": false,
     "grade_id": "cell-cfb266d6f77e9a48",
     "locked": true,
     "schema_version": 3,
     "solution": false,
     "task": false
    }
   },
   "source": [
    "Below are 2 videos that explain:\n",
    "\n",
    "1. [How to save your Jupyter notebook](https://www.youtube.com/watch?v=0aoLgBoAUSA) and,\n",
    "2. [How to answer a question in a Jupyter notebook assignment](https://www.youtube.com/watch?v=7j0WKhI3W4s).\n",
    "\n",
    "If they are not showing up below, click on the cell and click the ▶ button in the toolbar above. You can also click the links above to watch them directly on YouTube.\n",
    "\n",
    "Note that these videos were created for the R-version of this course. It doesn't change anything with saving! But the code might look a bit different. "
   ]
  },
  {
   "cell_type": "code",
   "execution_count": null,
   "id": "eaffcb2f-c00c-47c5-878c-b50a27b992c7",
   "metadata": {},
   "outputs": [],
   "source": [
    "#from IPython.display import YouTubeVideo\n",
    "\n",
    "#YouTubeVideo(\"0aoLgBoAUSA\", width=854, height=480)"
   ]
  },
  {
   "cell_type": "code",
   "execution_count": null,
   "id": "5a2baecc-7c0c-457f-ad3c-0392a4251543",
   "metadata": {},
   "outputs": [],
   "source": [
    "#from IPython.display import YouTubeVideo\n",
    "\n",
    "# YouTubeVideo(\"7j0WKhI3W4s\", width=854, height=480)"
   ]
  },
  {
   "cell_type": "markdown",
   "id": "034de303-a57b-4b89-a15c-3297ca068f9e",
   "metadata": {
    "deletable": false,
    "editable": false,
    "nbgrader": {
     "cell_type": "markdown",
     "checksum": "04959ad7f2f398117e45ffd555a16c2d",
     "grade": false,
     "grade_id": "cell-1c65ecccc4d7e214",
     "locked": true,
     "schema_version": 3,
     "solution": false,
     "task": false
    }
   },
   "source": [
    "## 2. Numbers\n",
    "Quantitative information arises everywhere in data science. In addition to representing commands to print out lines, our Python code can represent numbers and methods of combining numbers. The expression `3.2500` evaluates to the number 3.25. (Run the cell and see.)"
   ]
  },
  {
   "cell_type": "code",
   "execution_count": null,
   "id": "831ed388-9ffa-4665-96fb-8861ab027bd7",
   "metadata": {},
   "outputs": [],
   "source": [
    "3.2500"
   ]
  },
  {
   "cell_type": "markdown",
   "id": "7a469f28",
   "metadata": {
    "deletable": false,
    "editable": false,
    "nbgrader": {
     "cell_type": "markdown",
     "checksum": "7fcf051f0daa54bdee28d5eb6747f79a",
     "grade": false,
     "grade_id": "cell-face499c0dec1453",
     "locked": true,
     "schema_version": 3,
     "solution": false,
     "task": false
    }
   },
   "source": [
    "Notice that we didn't have to write `print()`. When you run a notebook cell, Jupyter will helpfully print the last output for you. So in the below cell, the last statement just evaluates to `4`, so it prints `4` (remember -- each line in a cell is a separate line of code!)"
   ]
  },
  {
   "cell_type": "code",
   "execution_count": null,
   "id": "ad9cd7da-67cd-405b-9ce9-cb678864072b",
   "metadata": {},
   "outputs": [],
   "source": [
    "2\n",
    "3\n",
    "4"
   ]
  },
  {
   "cell_type": "markdown",
   "id": "acb74ff6-fdcd-4541-ab76-ead35970a09d",
   "metadata": {
    "deletable": false,
    "editable": false,
    "nbgrader": {
     "cell_type": "markdown",
     "checksum": "8fb9235067412c6e64be74d6c6fa029e",
     "grade": false,
     "grade_id": "cell-4d62c33be470a93d",
     "locked": true,
     "schema_version": 3,
     "solution": false,
     "task": false
    }
   },
   "source": [
    "If you want to print out results from earlier lines in the cell, you need to use the `print` function."
   ]
  },
  {
   "cell_type": "code",
   "execution_count": null,
   "id": "5f153b4e",
   "metadata": {},
   "outputs": [],
   "source": [
    "print(2)\n",
    "print(3)\n",
    "print(4)"
   ]
  },
  {
   "cell_type": "markdown",
   "id": "a9d71451-ec95-47aa-81a9-332ebb27c460",
   "metadata": {
    "deletable": false,
    "editable": false,
    "nbgrader": {
     "cell_type": "markdown",
     "checksum": "563f281886e99f12faf0e2c3667584c0",
     "grade": false,
     "grade_id": "cell-5fea0d5af754c58d",
     "locked": true,
     "schema_version": 3,
     "solution": false,
     "task": false
    }
   },
   "source": [
    "### 2.1. Arithmetic\n",
    "The line in the next cell subtracts.  Its value is what you'd expect.  Run it."
   ]
  },
  {
   "cell_type": "code",
   "execution_count": null,
   "id": "cbce8d82-dcee-4a5c-8267-5316fabcde0c",
   "metadata": {},
   "outputs": [],
   "source": [
    "2.0 - 1.5"
   ]
  },
  {
   "cell_type": "markdown",
   "id": "d811ac4d-3181-45b7-b3fe-50ea6faefc59",
   "metadata": {
    "deletable": false,
    "editable": false,
    "nbgrader": {
     "cell_type": "markdown",
     "checksum": "66827e53abefdc3df845e02fac624a70",
     "grade": false,
     "grade_id": "cell-5654443ee25ba5cf",
     "locked": true,
     "schema_version": 3,
     "solution": false,
     "task": false
    }
   },
   "source": [
    "Same with the cell below. Run it."
   ]
  },
  {
   "cell_type": "code",
   "execution_count": null,
   "id": "56b2fe4f-40c1-430d-b126-36605a67bd8e",
   "metadata": {},
   "outputs": [],
   "source": [
    "2 * 2"
   ]
  },
  {
   "cell_type": "markdown",
   "id": "cca53c44-0d69-4ca2-852d-0ba434ede965",
   "metadata": {
    "deletable": false,
    "editable": false,
    "nbgrader": {
     "cell_type": "markdown",
     "checksum": "3fb7a52db42a3aff67d2b3b22326f325",
     "grade": false,
     "grade_id": "cell-19aea892bc204b26",
     "locked": true,
     "schema_version": 3,
     "solution": false,
     "task": false
    }
   },
   "source": [
    "Many basic arithmetic operations are built in to Python.  [This webpage](https://docs.python.org/3.9/library/operator.html) describes all the arithmetic operators used in the course.  You can refer back to this webpage as you need throughout the term."
   ]
  },
  {
   "cell_type": "markdown",
   "id": "10e156f7-ea0d-4afc-a14e-bf5811811fbd",
   "metadata": {
    "deletable": false,
    "editable": false,
    "nbgrader": {
     "cell_type": "markdown",
     "checksum": "69b4f214e84cc2aadfc8184238ddf6b9",
     "grade": false,
     "grade_id": "cell-0d71d6720cd9a9f8",
     "locked": true,
     "schema_version": 3,
     "solution": false,
     "task": false
    }
   },
   "source": [
    "## 3. Names\n",
    "In natural language, we have terminology that lets us quickly reference very complicated concepts.  We don't say, \"That's a large mammal with brown fur and sharp teeth!\"  Instead, we just say, \"Bear!\"\n",
    "\n",
    "Similarly, an effective strategy for writing code is to define names for data as we compute it, like a lawyer would define terms for complex ideas at the start of a legal document to simplify the rest of the writing.\n",
    "\n",
    "In Python, we do this with *objects*. An object has a name on the left side of an `=` sign and an expression to be evaluated on the right."
   ]
  },
  {
   "cell_type": "code",
   "execution_count": null,
   "id": "853d8f95-2a68-4acb-8b79-35e117774604",
   "metadata": {},
   "outputs": [],
   "source": [
    "answer = 3 * 2 + 4"
   ]
  },
  {
   "cell_type": "markdown",
   "id": "e963475e-3211-4b00-930d-7730808e9bb9",
   "metadata": {
    "deletable": false,
    "editable": false,
    "nbgrader": {
     "cell_type": "markdown",
     "checksum": "7d9643aad84e0f43cf79623f1245ff72",
     "grade": false,
     "grade_id": "cell-8611f073ac17f64d",
     "locked": true,
     "schema_version": 3,
     "solution": false,
     "task": false
    }
   },
   "source": [
    "When you run that cell, Python first evaluates the first line.  It computes the value of the expression `3 * 2 + 4`, which is the number 10.  Then it gives that value the name `answer`.  At that point, the code in the cell is done running.\n",
    "\n",
    "After you run that cell, the value 10 is bound to the name `answer`:"
   ]
  },
  {
   "cell_type": "code",
   "execution_count": null,
   "id": "647858da-7756-474d-a9bf-d8cfa3a9d36e",
   "metadata": {},
   "outputs": [],
   "source": [
    "answer"
   ]
  },
  {
   "cell_type": "markdown",
   "id": "c9f8afcb-c04c-4d18-aea8-1d7c73113ae1",
   "metadata": {
    "deletable": false,
    "editable": false,
    "nbgrader": {
     "cell_type": "markdown",
     "checksum": "fc4979ab991f4561557c0095eb1308e8",
     "grade": false,
     "grade_id": "cell-aed2d4b98da49612",
     "locked": true,
     "schema_version": 3,
     "solution": false,
     "task": false
    }
   },
   "source": [
    "We can name our objects anything we'd like. Above we called it `answer`, but we could have named it `value`, `data` or anything else we desired. A good rule of thumb is to name it something that has meaning to a human as it relates to what we are trying to accomplish with our Python code.\n",
    "\n",
    "**Question 3.1**\n",
    "<br> {points: 0}\n",
    "\n",
    "Enter a new code cell. Try creating another object using `= 3 * 2 + 4` with a name different from `answer`."
   ]
  },
  {
   "cell_type": "markdown",
   "id": "9fed7362-ef5e-43b8-90f3-64d487115266",
   "metadata": {
    "deletable": false,
    "editable": false,
    "nbgrader": {
     "cell_type": "markdown",
     "checksum": "78845b58d401157d3d70f99118bdfdf5",
     "grade": false,
     "grade_id": "cell-3c6ca4081bbf327a",
     "locked": true,
     "schema_version": 3,
     "solution": false,
     "task": false
    }
   },
   "source": [
    "A common pattern in Jupyter notebooks is to assign a value to a name and then immediately evaluate the name in the last line in the cell so that the value is displayed as output."
   ]
  },
  {
   "cell_type": "code",
   "execution_count": null,
   "id": "baec3a6e-583f-4d15-b510-2eb251bcd8b6",
   "metadata": {},
   "outputs": [],
   "source": [
    "close_to_pi = 355 / 113\n",
    "close_to_pi"
   ]
  },
  {
   "cell_type": "markdown",
   "id": "7ff03dd1-f013-4e5a-af88-12c5d8afd964",
   "metadata": {
    "deletable": false,
    "editable": false,
    "nbgrader": {
     "cell_type": "markdown",
     "checksum": "3beed41b7586acf3bf09f965b89691ec",
     "grade": false,
     "grade_id": "cell-f932083064e1df68",
     "locked": true,
     "schema_version": 3,
     "solution": false,
     "task": false
    }
   },
   "source": [
    "Another common pattern is that a series of lines in a single cell will build up a complex computation in stages, naming the intermediate results."
   ]
  },
  {
   "cell_type": "code",
   "execution_count": null,
   "id": "939bd12c-160e-4606-8d28-1c412a6cec99",
   "metadata": {},
   "outputs": [],
   "source": [
    "bimonthly_salary = 840\n",
    "monthly_salary = 2 * bimonthly_salary\n",
    "number_of_months_in_a_year = 12\n",
    "yearly_salary = number_of_months_in_a_year * monthly_salary\n",
    "yearly_salary"
   ]
  },
  {
   "cell_type": "markdown",
   "id": "2f437665-d480-439b-8a72-a8203207b7c4",
   "metadata": {
    "deletable": false,
    "editable": false,
    "nbgrader": {
     "cell_type": "markdown",
     "checksum": "16a8d16c550c62815cd1eebe8b0da3b9",
     "grade": false,
     "grade_id": "cell-587d029e8d438b16",
     "locked": true,
     "schema_version": 3,
     "solution": false,
     "task": false
    }
   },
   "source": [
    "When naming objects in Python there are some rules:\n",
    "1. Names in Python can have letters (upper- and lower-case letters are both okay and count as different letters e.g. \"Answer\" and \"answer\" will be treated as different objects), underscores, and numbers. \n",
    "2. The first character can't be a number (otherwise a name might look like a number).  \n",
    "3. Names can't contain spaces, since spaces are used to separate pieces of code from each other. Instead, it is common to use an underscore character _ to replace each space.\n",
    "4. Names can't contain other special characters such as +, #, $, %, ^ since some characters have special roles in Python. Take # for example, this character specifies a comment within written code.\n",
    "\n",
    "Other than those rules, what you name something doesn't matter *to Python*.  For example, the next cell does the same thing as the above cell, except everything has a different name:"
   ]
  },
  {
   "cell_type": "code",
   "execution_count": null,
   "id": "c9625159-a0a7-4acc-887d-46840d5967b6",
   "metadata": {},
   "outputs": [],
   "source": [
    "a = 840\n",
    "b = 2 * a\n",
    "c = 12\n",
    "d = c * b\n",
    "d"
   ]
  },
  {
   "cell_type": "markdown",
   "id": "27bb520b-9b82-4baf-965c-55328313fe9c",
   "metadata": {
    "deletable": false,
    "editable": false,
    "nbgrader": {
     "cell_type": "markdown",
     "checksum": "98439f1723c462c79f17e285170c2690",
     "grade": false,
     "grade_id": "cell-e691d889f5ce968f",
     "locked": true,
     "schema_version": 3,
     "solution": false,
     "task": false
    }
   },
   "source": [
    "**However**, names are very important for making your code *readable* to yourself and others.  The cell above is shorter, but it's totally useless without an explanation of what it does. \n",
    "\n",
    "There is also cultural style associated with different programming languages. In the modern Python style, object names should use only lowercase letters, numbers, and `_`. Underscores (`_`) are typically used to separate words within a name (*e.g.*, `answer_one`)."
   ]
  },
  {
   "cell_type": "markdown",
   "id": "dfbf2566-65f5-47ec-b03a-19ba4801dd1e",
   "metadata": {
    "deletable": false,
    "editable": false,
    "nbgrader": {
     "cell_type": "markdown",
     "checksum": "f4606b76e0ba5c581fed24af2998ae1b",
     "grade": false,
     "grade_id": "cell-e3b7b5c83bc8c306",
     "locked": true,
     "schema_version": 3,
     "solution": false,
     "task": false
    }
   },
   "source": [
    "**Question 3.2** <br> {points: 1}\n",
    "\n",
    "Assign the name `seconds_in_an_hour` to the number of seconds in an hour. You should do this in two steps. In the first, you calculate the number of seconds in a minute and assign that number the name `seconds_in_a_minute`. Next you should calculate the number of seconds in an hour and assign that number the name `seconds_in_an_hour.`  \n",
    "\n",
    "*Hint - there are 60 seconds in a minute and 60 minutes in a hour*"
   ]
  },
  {
   "cell_type": "code",
   "execution_count": null,
   "id": "7e5655e9-537f-4130-93d2-b9e47f31c3d8",
   "metadata": {
    "deletable": false,
    "nbgrader": {
     "cell_type": "code",
     "checksum": "cd263c0331b624871910185d399dc699",
     "grade": false,
     "grade_id": "cell-fa740c28d48570e9",
     "locked": false,
     "schema_version": 3,
     "solution": true,
     "task": false
    }
   },
   "outputs": [],
   "source": [
    "# your code here\n",
    "raise NotImplementedError\n",
    "\n",
    "# We've put this line in this cell so that it will print\n",
    "# the value you've given to seconds_in_an_hour when you\n",
    "# run it.  You don't need to change this.\n",
    "seconds_in_an_hour"
   ]
  },
  {
   "cell_type": "markdown",
   "id": "781556fb-5186-4a86-ade2-aef11d96cec0",
   "metadata": {
    "deletable": false,
    "editable": false,
    "nbgrader": {
     "cell_type": "markdown",
     "checksum": "3e8933ab1228e6ffbe5340c96f1c2271",
     "grade": false,
     "grade_id": "cell-cc88a7ddee8e6310",
     "locked": true,
     "schema_version": 3,
     "solution": false,
     "task": false
    }
   },
   "source": [
    "### 3.2. Checking your code\n",
    "\n",
    "\n",
    "Now that you know how to name things, you can start using the built-in *tests* to check whether your work is correct."
   ]
  },
  {
   "cell_type": "markdown",
   "id": "5ff35925-fe84-4dcb-a436-d33ac900340c",
   "metadata": {
    "deletable": false,
    "editable": false,
    "nbgrader": {
     "cell_type": "markdown",
     "checksum": "c666955d1c6e34c6a9f14aad8ea1d953",
     "grade": false,
     "grade_id": "cell-ccb93669d1f0ac98",
     "locked": true,
     "schema_version": 3,
     "solution": false,
     "task": false
    }
   },
   "source": [
    "Below is an example of a test cell for Question 3.2 above (assesses whether you have assigned `seconds_in_an_hour` correctly). If you haven't, this test will tell you that your solution is incorrect. Try not to change the contents of the test cells. Resist the urge to just copy it, and instead try to adjust your expression. (Sometimes the tests will give hints about what went wrong...)"
   ]
  },
  {
   "cell_type": "code",
   "execution_count": null,
   "id": "54bb0ff3-cce1-4825-8fa7-2cf1ae0c9d2c",
   "metadata": {
    "deletable": false,
    "editable": false,
    "max_height": 100,
    "nbgrader": {
     "cell_type": "code",
     "checksum": "566fef0eaf857eb98d871c66e23ca55b",
     "grade": true,
     "grade_id": "cell-7529fc41097cffcd",
     "locked": true,
     "points": 1,
     "schema_version": 3,
     "solution": false,
     "task": false
    }
   },
   "outputs": [],
   "source": [
    "from hashlib import sha1\n",
    "assert sha1(str(type(seconds_in_a_minute)).encode(\"utf-8\")+b\"4e3453bda39860f1\").hexdigest() == \"6efe5b0b8f84b41b2afa99b262f3a4ae253dd904\", \"type of seconds_in_a_minute is not int. Please make sure it is int and not np.int64, etc. You can cast your value into an int using int()\"\n",
    "assert sha1(str(seconds_in_a_minute).encode(\"utf-8\")+b\"4e3453bda39860f1\").hexdigest() == \"765eb94d4e44762710697810d97077adb75dc7b9\", \"value of seconds_in_a_minute is not correct\"\n",
    "\n",
    "assert sha1(str(type(seconds_in_an_hour)).encode(\"utf-8\")+b\"1d3c2292c0c2f759\").hexdigest() == \"9cd625a0c5145b55924a0fb0d7c6ffb6010d3ec7\", \"type of seconds_in_an_hour is not int. Please make sure it is int and not np.int64, etc. You can cast your value into an int using int()\"\n",
    "assert sha1(str(seconds_in_an_hour).encode(\"utf-8\")+b\"1d3c2292c0c2f759\").hexdigest() == \"d4b4b1c08aff5edff8dd15fc202315076e0f8e7a\", \"value of seconds_in_an_hour is not correct\"\n",
    "\n",
    "print('Success!')"
   ]
  },
  {
   "cell_type": "markdown",
   "id": "8f00c5d6-a6c2-4a15-9281-234a688aebc4",
   "metadata": {
    "deletable": false,
    "editable": false,
    "nbgrader": {
     "cell_type": "markdown",
     "checksum": "0a0e67ad1ea88e6bf24d4e739c52e39c",
     "grade": false,
     "grade_id": "cell-8943f31756d8b856",
     "locked": true,
     "schema_version": 3,
     "solution": false,
     "task": false
    }
   },
   "source": [
    "For this first question we'll provide you the solution:"
   ]
  },
  {
   "cell_type": "code",
   "execution_count": null,
   "id": "df82f185-55c1-4065-85fb-af9e764ca3f1",
   "metadata": {},
   "outputs": [],
   "source": [
    "# Calculate the number of seconds in an hour.\n",
    "\n",
    "# SOLUTION:\n",
    "seconds_in_a_minute = 60\n",
    "seconds_in_an_hour = seconds_in_a_minute * 60\n",
    "\n",
    "# We've put this line in this cell so that it will print\n",
    "# the value you've given to seconds_in_an_hour when you\n",
    "# run it.  You don't need to change this.\n",
    "seconds_in_an_hour"
   ]
  },
  {
   "cell_type": "markdown",
   "id": "b68a7fb9-dafa-4294-a57c-85625d759a8b",
   "metadata": {
    "deletable": false,
    "editable": false,
    "nbgrader": {
     "cell_type": "markdown",
     "checksum": "b341bc2d476c76e6cf884ef036add648",
     "grade": false,
     "grade_id": "cell-0a43890382f989d4",
     "locked": true,
     "schema_version": 3,
     "solution": false,
     "task": false
    }
   },
   "source": [
    "*Note: All autograded questions with visible tests in this course are worth 1 point.*"
   ]
  },
  {
   "cell_type": "markdown",
   "id": "6f426631-b348-4b95-a2cc-c45ee0389c7d",
   "metadata": {
    "deletable": false,
    "editable": false,
    "nbgrader": {
     "cell_type": "markdown",
     "checksum": "b15f9d960aef2353a8bdbfa8887247f4",
     "grade": false,
     "grade_id": "cell-7f896db3cee2f9be",
     "locked": true,
     "schema_version": 3,
     "solution": false,
     "task": false
    }
   },
   "source": [
    "## 4. Calling Functions/Methods and Attributes\n",
    "\n",
    "The most common way to combine or manipulate values in Python is by calling functions or methods. Python comes with many built-in functions and methods that perform common operations. You can think of functions and methods as verbs that do things. And objects in Python like nouns, which are entities that exist.\n",
    "\n",
    "In the module, we explored examples of functions and methods such as `print`. Here, we'll demonstrate using another method `upper` that converts text to uppercase:"
   ]
  },
  {
   "cell_type": "code",
   "execution_count": null,
   "id": "a1ac2477-8e91-40d0-b35b-b8f2db18aea9",
   "metadata": {},
   "outputs": [],
   "source": [
    "greeting = (\"Why, hello there!\").upper()\n",
    "greeting"
   ]
  },
  {
   "cell_type": "markdown",
   "id": "e312aabe-7fb7-4668-b833-6b24ed40e071",
   "metadata": {
    "deletable": false,
    "editable": false,
    "nbgrader": {
     "cell_type": "markdown",
     "checksum": "c6837645e1a877c9a64b01ce0c1bfa9b",
     "grade": false,
     "grade_id": "cell-8c55b6ac0edfa9f3",
     "locked": true,
     "schema_version": 3,
     "solution": false,
     "task": false
    }
   },
   "source": [
    "> The `upper` method we used here is different from the functions we used previously (e.g. `print`). This method is called using the dot notation (`string.upper()`), because this method only works for a particular kind of object that they were designed to work for. Here the `upper` method was written to only work with string objects. `print` function, however, was written to work with many kinds of objects, therefore, we don't use the dot notation."
   ]
  },
  {
   "cell_type": "markdown",
   "id": "32ee0fdd-a294-46da-8434-b27c99d76e37",
   "metadata": {
    "deletable": false,
    "editable": false,
    "nbgrader": {
     "cell_type": "markdown",
     "checksum": "57fa74ce84833d7d794d2b273edbbb07",
     "grade": false,
     "grade_id": "cell-6ccdcb3c0a754840",
     "locked": true,
     "schema_version": 3,
     "solution": false,
     "task": false
    }
   },
   "source": [
    "**Question 4.0** <br> {points: 1} \n",
    "\n",
    "Use the method `lower` to change all the words in the following movie title to lower case text: \"The House with a Clock in Its Walls\" and assign the lower case text the name `title`."
   ]
  },
  {
   "cell_type": "code",
   "execution_count": null,
   "id": "c74d88a1-edab-4d76-ad43-6fa16280d62d",
   "metadata": {
    "deletable": false,
    "nbgrader": {
     "cell_type": "code",
     "checksum": "0c0cefe9587a3e36b1e6fcd56336547d",
     "grade": false,
     "grade_id": "cell-cd6693e3c0a44fac",
     "locked": false,
     "schema_version": 3,
     "solution": true,
     "task": false
    }
   },
   "outputs": [],
   "source": [
    "# your code here\n",
    "raise NotImplementedError\n",
    "title"
   ]
  },
  {
   "cell_type": "code",
   "execution_count": null,
   "id": "bd1bb31b-7559-4adb-ae43-9624adf4bf98",
   "metadata": {
    "deletable": false,
    "editable": false,
    "max_height": 100,
    "nbgrader": {
     "cell_type": "code",
     "checksum": "26a31cf33ff807dee36c2624be5c42a2",
     "grade": true,
     "grade_id": "cell-2503df230be07a99",
     "locked": true,
     "points": 1,
     "schema_version": 3,
     "solution": false,
     "task": false
    }
   },
   "outputs": [],
   "source": [
    "from hashlib import sha1\n",
    "assert sha1(str(type(title)).encode(\"utf-8\")+b\"05c65299adc190a5\").hexdigest() == \"d7e13b3a6dc1d66c48b1c1728a6b7757a8277051\", \"type of title is not str. title should be an str\"\n",
    "assert sha1(str(len(title)).encode(\"utf-8\")+b\"05c65299adc190a5\").hexdigest() == \"f6938978f9de0235859b35ce627e0bdfb4084ccb\", \"length of title is not correct\"\n",
    "assert sha1(str(title.lower()).encode(\"utf-8\")+b\"05c65299adc190a5\").hexdigest() == \"edd6ff312b21eca6dd945bfd1e0611d05ca76e52\", \"value of title is not correct\"\n",
    "assert sha1(str(title).encode(\"utf-8\")+b\"05c65299adc190a5\").hexdigest() == \"edd6ff312b21eca6dd945bfd1e0611d05ca76e52\", \"correct string value of title but incorrect case of letters\"\n",
    "\n",
    "print('Success!')"
   ]
  },
  {
   "cell_type": "markdown",
   "id": "9740a3eb-5c4b-4310-9374-11735230d60f",
   "metadata": {
    "deletable": false,
    "editable": false,
    "nbgrader": {
     "cell_type": "markdown",
     "checksum": "b158d894c38620024ea25814f13fa2e4",
     "grade": false,
     "grade_id": "cell-9a0d59a6ece59244",
     "locked": true,
     "schema_version": 3,
     "solution": false,
     "task": false
    }
   },
   "source": [
    "### 4.1. Multiple Arguments\n",
    "Some functions take multiple arguments, separated by commas. For example, the built-in `max` function returns the maximum argument passed to it."
   ]
  },
  {
   "cell_type": "code",
   "execution_count": null,
   "id": "4a4df2dc-4d41-4393-8389-6a0f6a161962",
   "metadata": {},
   "outputs": [],
   "source": [
    "biggest = max(2, 15, 4, 7)\n",
    "biggest"
   ]
  },
  {
   "cell_type": "markdown",
   "id": "d4d21910-6c52-4fca-84d9-421adf6e48d8",
   "metadata": {
    "deletable": false,
    "editable": false,
    "nbgrader": {
     "cell_type": "markdown",
     "checksum": "d7f908cb7994b5930befc7355f5a3b94",
     "grade": false,
     "grade_id": "cell-3ef9de33479b6db4",
     "locked": true,
     "schema_version": 3,
     "solution": false,
     "task": false
    }
   },
   "source": [
    "**Question 4.1** <br> {points: 1}\n",
    "\n",
    "Use the `min` function to find the minumum value of the numbers in the cell above.\n",
    "\n",
    "Assign the value to an object called `smallest`."
   ]
  },
  {
   "cell_type": "code",
   "execution_count": null,
   "id": "77db1c66-dae2-477f-bff4-9369d984cdbf",
   "metadata": {
    "deletable": false,
    "nbgrader": {
     "cell_type": "code",
     "checksum": "b17f944959af64675cb7b8231f6fab2a",
     "grade": false,
     "grade_id": "cell-7a31156e2f666d85",
     "locked": false,
     "schema_version": 3,
     "solution": true,
     "task": false
    }
   },
   "outputs": [],
   "source": [
    "# your code here\n",
    "raise NotImplementedError\n",
    "smallest"
   ]
  },
  {
   "cell_type": "code",
   "execution_count": null,
   "id": "62e55951-e137-4c3e-b9d8-ec7e01120274",
   "metadata": {
    "deletable": false,
    "editable": false,
    "max_height": 100,
    "nbgrader": {
     "cell_type": "code",
     "checksum": "488b608a92169259fbccc61e0d49f35f",
     "grade": true,
     "grade_id": "cell-b6d12a49c1b99ec4",
     "locked": true,
     "points": 1,
     "schema_version": 3,
     "solution": false,
     "task": false
    }
   },
   "outputs": [],
   "source": [
    "from hashlib import sha1\n",
    "assert sha1(str(type(smallest)).encode(\"utf-8\")+b\"b86828e1c4be873d\").hexdigest() == \"dfb2ddb3535827af066548ac638b84dfc4e96b29\", \"type of smallest is not int. Please make sure it is int and not np.int64, etc. You can cast your value into an int using int()\"\n",
    "assert sha1(str(smallest).encode(\"utf-8\")+b\"b86828e1c4be873d\").hexdigest() == \"aeca802e8603e3407e16bb8d6d91bdca05d103a5\", \"value of smallest is not correct\"\n",
    "\n",
    "print('Success!')"
   ]
  },
  {
   "cell_type": "markdown",
   "id": "d7b821b4-42ac-4b2e-a093-76475353ea80",
   "metadata": {
    "deletable": false,
    "editable": false,
    "nbgrader": {
     "cell_type": "markdown",
     "checksum": "b66eb16b58eeff76fee9247e7bfd60a1",
     "grade": false,
     "grade_id": "cell-c95f3d7b18991e17",
     "locked": true,
     "schema_version": 3,
     "solution": false,
     "task": false
    }
   },
   "source": [
    "## 5. Packages\n",
    "Python has many built-in functions, but we can also use functions that are stored within packages created by other Python users. We are going to use a package, called `pandas`, to load, modify and plot data.\n",
    "This package has already been installed for you. Later in the course you will learn how to install packages so you are free to bring in other tools as you need them for your data analysis."
   ]
  },
  {
   "cell_type": "markdown",
   "id": "a16d8cfc-9925-4aac-a753-6fe32b75ecbf",
   "metadata": {
    "deletable": false,
    "editable": false,
    "nbgrader": {
     "cell_type": "markdown",
     "checksum": "fd7bcfeb5bd402de432b1a3066ca17e8",
     "grade": false,
     "grade_id": "cell-f5abb7dc64d74fb9",
     "locked": true,
     "schema_version": 3,
     "solution": false,
     "task": false
    }
   },
   "source": [
    "To use the functions from a package you first need to load it using the `import` function. This needs to be done once per notebook (and a good rule of thumb is to do this at the very top of your notebook so it is easy to see what packages your Python code depends on). \n",
    "\n",
    "Here we also give `pandas` a nickname of `pd`, formally called an alias. This lets us refer to the pandas package more efficiently by just typing `pd` instead of `pandas`. Referring to packages with aliases is very common in Python and you will see us do this with many of the packages we use in this course."
   ]
  },
  {
   "cell_type": "code",
   "execution_count": null,
   "id": "5ae83b86-204b-43f9-96a4-59c9c159b85c",
   "metadata": {},
   "outputs": [],
   "source": [
    "import pandas as pd"
   ]
  },
  {
   "cell_type": "markdown",
   "id": "fc7f57cc-3613-4b60-b6e9-1d9a969844ec",
   "metadata": {
    "deletable": false,
    "editable": false,
    "nbgrader": {
     "cell_type": "markdown",
     "checksum": "ed83164c2802f3bab15d92629b176c06",
     "grade": false,
     "grade_id": "cell-93089aa3d8f4872d",
     "locked": true,
     "schema_version": 3,
     "solution": false,
     "task": false
    }
   },
   "source": [
    "**Question 5.1** <br> {points: 1} \n",
    "\n",
    "Use the `import` function to load the `numpy` Python package as `np`."
   ]
  },
  {
   "cell_type": "code",
   "execution_count": null,
   "id": "c496ffcf-c70f-4647-85d3-cb73da8d74af",
   "metadata": {
    "deletable": false,
    "nbgrader": {
     "cell_type": "code",
     "checksum": "3dda3aedb06a4528ea2b14f0a0e0f4ee",
     "grade": false,
     "grade_id": "cell-a6558cfd60b4a110",
     "locked": false,
     "schema_version": 3,
     "solution": true,
     "task": false
    }
   },
   "outputs": [],
   "source": [
    "import sys\n",
    "\n",
    "# your code here\n",
    "raise NotImplementedError"
   ]
  },
  {
   "cell_type": "code",
   "execution_count": null,
   "id": "f3440582-52c5-4c92-8380-a5213d2b5970",
   "metadata": {
    "deletable": false,
    "editable": false,
    "max_height": 100,
    "nbgrader": {
     "cell_type": "code",
     "checksum": "977a14acaee04d0c5807eab9eff23166",
     "grade": true,
     "grade_id": "cell-d3b2c1f9214bc7eb",
     "locked": true,
     "points": 1,
     "schema_version": 3,
     "solution": false,
     "task": false
    }
   },
   "outputs": [],
   "source": [
    "from hashlib import sha1\n",
    "assert sha1(str(type(('numpy' in sys.modules))).encode(\"utf-8\")+b\"bbbb9ce84e985549\").hexdigest() == \"4961f0de1290a42f28c5f929452822369d92beda\", \"type of ('numpy' in sys.modules) is not bool. ('numpy' in sys.modules) should be a bool\"\n",
    "assert sha1(str(('numpy' in sys.modules)).encode(\"utf-8\")+b\"bbbb9ce84e985549\").hexdigest() == \"8cc6dba9a796291aa37adc808e2a5eb247c47894\", \"boolean value of ('numpy' in sys.modules) is not correct\"\n",
    "\n",
    "assert sha1(str(type((np.__name__ == 'numpy'))).encode(\"utf-8\")+b\"7f537b2e09b749ff\").hexdigest() == \"a123fda63816346a7fac34f954df46468e695815\", \"type of (np.__name__ == 'numpy') is not bool. (np.__name__ == 'numpy') should be a bool\"\n",
    "assert sha1(str((np.__name__ == 'numpy')).encode(\"utf-8\")+b\"7f537b2e09b749ff\").hexdigest() == \"92f0eb4ec91756053c334a33e1fb8bf10fc05066\", \"boolean value of (np.__name__ == 'numpy') is not correct\"\n",
    "\n",
    "print('Success!')"
   ]
  },
  {
   "cell_type": "markdown",
   "id": "a8db99e3-9c5f-4739-be2d-cf6fdb8c5f45",
   "metadata": {
    "deletable": false,
    "editable": false,
    "nbgrader": {
     "cell_type": "markdown",
     "checksum": "b7cff22299a2892aa5be299ed4a033db",
     "grade": false,
     "grade_id": "cell-3c2442d7dec6c873",
     "locked": true,
     "schema_version": 3,
     "solution": false,
     "task": false
    }
   },
   "source": [
    "## 6. Looking for Help\n",
    "\n",
    "No one, even experienced, professional programmers remember what every function does, nor do they remember every possible function argument/option. So both experienced and new programmers (like you!) need to look things up, A LOT! \n",
    "### 6.1. Help Files\n",
    "One of the most efficient places to look for help on how a function works is the Python help files. Let’s say we wanted to pull up the help file for the `max` function. We can do this by using the `help` function, and passing it the name of the function we want more information about. Run the cell below to find out more about `.read_csv` function from the `pandas` package."
   ]
  },
  {
   "cell_type": "code",
   "execution_count": null,
   "id": "896557bc-4322-4ee7-965a-ea0ffc447a2b",
   "metadata": {},
   "outputs": [],
   "source": [
    "help(pd.read_csv)"
   ]
  },
  {
   "cell_type": "markdown",
   "id": "49365d3a-8605-4d9d-af66-41360a5bafd6",
   "metadata": {
    "deletable": false,
    "editable": false,
    "nbgrader": {
     "cell_type": "markdown",
     "checksum": "6dcba30094149bf83d7870a1a16ffd13",
     "grade": false,
     "grade_id": "cell-0c413972e76e865d",
     "locked": true,
     "schema_version": 3,
     "solution": false,
     "task": false
    }
   },
   "source": [
    "At the very top of the output, you will see the function itself and its arguments. Next is a description of what the function does. The bottom of the file specifies the package it is in (in this case, it is pandas). You’ll find that the most helpful sections on this page are “Parameters” and \"Examples\". \n",
    "\n",
    "- **Docstring** at the top gives you an idea of how you would use the function when coding--what the syntax would be and how the function itself is structured.\n",
    "- **Parameters** tells you the different parts that can be added to the function to make it more simple or more complicated. Often the “Parameters” sections doesn’t provide you with step by step instructions, because there are so many different ways that a person can incorporate a function into their code. Instead, they provide users with a general understanding as to what the function could do and parts that could be added. At the end of the day, the user must interpret the help file and figure out how best to use the functions and which parts are most important to include for their particular task. \n",
    "- The **Returns** explains what to expect as an output.\n",
    "- The **Examples** section is often the most useful part of the help file as it shows how a function could be used with real data. It provides a skeleton code that the users can work off of.\n",
    "- Sometimes there is a **See Also** section which may suggest similar functions that could be of use to the user."
   ]
  },
  {
   "cell_type": "markdown",
   "id": "26934c49-a3dd-4a08-b0bd-42f352a18712",
   "metadata": {},
   "source": [
    "Equivalently, in Jupyter, you can use the `?` to ask for the documentation"
   ]
  },
  {
   "cell_type": "code",
   "execution_count": null,
   "id": "b21221aa-b2cd-4031-9410-0b6549861ffa",
   "metadata": {
    "tags": []
   },
   "outputs": [],
   "source": [
    "pd.read_csv?"
   ]
  },
  {
   "cell_type": "markdown",
   "id": "8fd05e61-c1ef-4932-8331-002607e1694c",
   "metadata": {
    "deletable": false,
    "editable": false,
    "nbgrader": {
     "cell_type": "markdown",
     "checksum": "94f1acde735c65bc634cee22658bd907",
     "grade": false,
     "grade_id": "cell-f08d83c97769ca4a",
     "locked": true,
     "schema_version": 3,
     "solution": false,
     "task": false
    }
   },
   "source": [
    "Beyond the Python help files there are many resources that you can use to find help. [Stack overflow](https://stackoverflow.com/), an online forum, is a great place to go and ask questions such as how to perform a complicated task in Python or why a specific error message is popping up. Oftentimes, a previous user will have already asked your question of interest and received helpful advice from fellow Python users."
   ]
  },
  {
   "cell_type": "markdown",
   "id": "eddd0790-bdb5-46ac-bf45-422ed0c97c82",
   "metadata": {
    "deletable": false,
    "editable": false,
    "nbgrader": {
     "cell_type": "markdown",
     "checksum": "ff9582fc086e3deb27b827bde3cecde5",
     "grade": false,
     "grade_id": "cell-5aa77532e5f4e3b3",
     "locked": true,
     "schema_version": 3,
     "solution": false,
     "task": false
    }
   },
   "source": [
    "**Question 6.1** Multiple Choice:\n",
    "<br> {points: 1}\n",
    "\n",
    "Use `help(pd.read_csv)` to answer the multiple choice question below. To answer the question, assign the letter associated with the correct answer to a variable in the the code cell below:\n",
    "\n",
    "Which statement below is accurate?\n",
    "\n",
    "A. `pd.read_csv` is useful for reading comma-separated values (csv) file into DataFrame.\n",
    "\n",
    "B. It can accept a possible parameter of `warnings=True`.\n",
    "\n",
    "C. The parameter delimiter is an alias for the parameter squeeze.\n",
    "\n",
    "D. `pd.read_csv` is perfect for reading a table of fixed-width formatted lines into DataFrame.\n",
    "\n",
    "*Assign your answer to an object called `answer6_1`. Make sure your answer is an uppercase letter and is surrounded by quotation marks (e.g. `\"F\"`).*"
   ]
  },
  {
   "cell_type": "code",
   "execution_count": null,
   "id": "2ff21c32-8092-4dfc-9b41-71b52c21dcda",
   "metadata": {
    "deletable": false,
    "nbgrader": {
     "cell_type": "code",
     "checksum": "99eeae8cddde7957a545467e382ec908",
     "grade": false,
     "grade_id": "cell-c8862f329868d4e1",
     "locked": false,
     "schema_version": 3,
     "solution": true,
     "task": false
    }
   },
   "outputs": [],
   "source": [
    "# your code here\n",
    "raise NotImplementedError"
   ]
  },
  {
   "cell_type": "code",
   "execution_count": null,
   "id": "3fb04377-034f-4832-9530-d39f08a7fee4",
   "metadata": {
    "deletable": false,
    "editable": false,
    "max_height": 100,
    "nbgrader": {
     "cell_type": "code",
     "checksum": "37d6d8a1445d5f520f6fd7168b40e1f3",
     "grade": true,
     "grade_id": "cell-56242dcedf383fac",
     "locked": true,
     "points": 1,
     "schema_version": 3,
     "solution": false,
     "task": false
    }
   },
   "outputs": [],
   "source": [
    "from hashlib import sha1\n",
    "assert sha1(str(type(answer6_1)).encode(\"utf-8\")+b\"3f4de2568a35ad09\").hexdigest() == \"86fa2ae8cfc9fc61b77777f2cf0287f357b44341\", \"type of answer6_1 is not str. answer6_1 should be an str\"\n",
    "assert sha1(str(len(answer6_1)).encode(\"utf-8\")+b\"3f4de2568a35ad09\").hexdigest() == \"8059e112d8f92d9e7cbf21827a3cae6eb4472ca6\", \"length of answer6_1 is not correct\"\n",
    "assert sha1(str(answer6_1.lower()).encode(\"utf-8\")+b\"3f4de2568a35ad09\").hexdigest() == \"cb34f2ae68f2bb4fdde106142af0de0683342529\", \"value of answer6_1 is not correct\"\n",
    "assert sha1(str(answer6_1).encode(\"utf-8\")+b\"3f4de2568a35ad09\").hexdigest() == \"eaea9bf640f87e9247f9a1b03bbd95791556ed59\", \"correct string value of answer6_1 but incorrect case of letters\"\n",
    "\n",
    "print('Success!')"
   ]
  },
  {
   "cell_type": "markdown",
   "id": "8e696dc9-380d-49c9-aa94-4091e98649a9",
   "metadata": {
    "deletable": false,
    "editable": false,
    "nbgrader": {
     "cell_type": "markdown",
     "checksum": "8a1766b7d3be44f6c5b292427029c99b",
     "grade": false,
     "grade_id": "cell-8a98e30b01245414",
     "locked": true,
     "schema_version": 3,
     "solution": false,
     "task": false
    }
   },
   "source": [
    "## 7. Pandas Functions \n",
    "\n",
    "Now that we have learned a little about Jupyter notebooks and Python, let's load a real dataset into Python and explore it. As we do this we will learn more about key data loading, wrangling and visualization functions in Python. \n",
    "\n",
    "### Exercise: Data about Runners!\n",
    "Researchers, Vickers and Vertosick performed [a study in 2016](https://bmcsportsscimedrehabil.biomedcentral.com/articles/10.1186/s13102-016-0052-y) that aimed to identify what factors had a relationship with race performance of recreational runners so that they could better predict future 5 km, 10 km and marathon race times for individual runners. Such predictions (and knowing what drives these predictions) can help runners by suggesting changes they could make to modifiable factors, such as training, to help them improve race time. Unmodifiable factors that contribute to the prediction, such as age or sex, allow for fair comparisons to be made between different runners.\n",
    "\n",
    "Vickers and Vertosick reasoned that their study is important because all previous research done to predict races times has focused on data from elite athletes. This biased data set means that the predictions generated from them do not necessarily do a good job predicting race times for recreational runners (whose data was not in the dataset that was used to create the model that generates the predictions). Additionally, previous research focused on reporting/measuring factors that require special expertise or equipment that are not freely available to recreational runners. This means that recreational runners may not be able to put their characteristics/measurements for these factors in the race time prediction models and so they will not be able to obtain an accurate prediction, or a prediction at all (in the case of some models).\n",
    "\n",
    "To make a better model, Vickers and Vertosick performed a large survey. They put their survey on the news website [Slate.com](https://slate.com/) attached to a news story about race time prediction. They were able to obtain 2,497 responses. The survey included questions that allowed them to collect a data set that included: \n",
    "- age,\n",
    "- sex,\n",
    "- body mass index (BMI),\n",
    "- whether they are an edurance runner or speed demon,\n",
    "- what type of shoes they wear,\n",
    "- what type of training they do,\n",
    "- race time for 2-3 races they completed in the last 6 months,\n",
    "- self-rated fitness for each race,\n",
    "- and race difficulty for each race.\n",
    "\n",
    "\n",
    "Let's now use this data to explore a question we might be interested in - is there a relationship between 10 km race time and body mass index (BMI) for men runners in this data set. This is an exploratory data analysis question because we stated we looking for a relationship between measurements within the single data set we have and are not interested in yet interpreting beyond it. We can answer this question by visualizing the data as a scatter plot using Python.\n",
    "\n",
    "If, however we are not aiming to extend our findings to a broader population, make predictions, analyze cause or mechanics, we would need to state a different data analyis question and follow-up with different analytical methods to answer that question.\n",
    "\n",
    "To answer our exploratory question (is there a relationship between 10 km race time and body mass index (BMI) for men runners in this data set), we will need to do the following things in Python:\n",
    "\n",
    "1. load the data set into Python\n",
    "2. subset the data we are interested in visualizing from the loaded dataset\n",
    "3. create a new column to get the unit of time in minutes instead of seconds\n",
    "4. create a scatter plot using this modified data\n",
    "\n",
    "> *Note 1 - subsetting the data and converting from seconds to minutes is not absolutely required to answer our question, but it will give us practice manipulating data in Python, and make our data tables and figures more readable.*\n",
    ">\n",
    "> *Note 2 - many historical datasets treated sex as a variable where the possible values are only binary: male or female. This representation in this question reflects how the data were historically collected and is not meant to imply that we believe that sex is binary.*"
   ]
  },
  {
   "cell_type": "markdown",
   "id": "b64301e7-dfc1-4ba5-b97c-1fa24ace5014",
   "metadata": {
    "deletable": false,
    "editable": false,
    "nbgrader": {
     "cell_type": "markdown",
     "checksum": "929dfd2b7b013b76f916c40f5e63196b",
     "grade": false,
     "grade_id": "cell-c241117b798b2e54",
     "locked": true,
     "schema_version": 3,
     "solution": false,
     "task": false
    }
   },
   "source": [
    "**Question 7.0.1** Multiple Choice:\n",
    "<br> {points: 1}\n",
    "\n",
    "Which of the following will you *not* find included in Vickers and Vertosick's data set?\n",
    "\n",
    "A. age\n",
    "\n",
    "B. what each runner ate before the race \n",
    "\n",
    "C. body mass index\n",
    "\n",
    "D. self-rated fitness for each race\n",
    "\n",
    "\n",
    "\n",
    "*Assign your answer to an object called `answer7_0_1`. Make sure your answer is an uppercase letter and is surrounded by quotation marks (e.g. `\"F\"`).*"
   ]
  },
  {
   "cell_type": "code",
   "execution_count": null,
   "id": "1966feaa-9631-43ea-bf6c-9e696f70e595",
   "metadata": {
    "deletable": false,
    "nbgrader": {
     "cell_type": "code",
     "checksum": "401a44022a7bc5f6de3b8a6c31c63ef6",
     "grade": false,
     "grade_id": "cell-b0dae9dbd2dfb1d9",
     "locked": false,
     "schema_version": 3,
     "solution": true,
     "task": false
    }
   },
   "outputs": [],
   "source": [
    "# your code here\n",
    "raise NotImplementedError"
   ]
  },
  {
   "cell_type": "code",
   "execution_count": null,
   "id": "6880fb2d-6d23-4633-b7b6-6fbc1df30070",
   "metadata": {
    "deletable": false,
    "editable": false,
    "max_height": 100,
    "nbgrader": {
     "cell_type": "code",
     "checksum": "a3890cc8f6bc503aa67772a0cb2b5edd",
     "grade": true,
     "grade_id": "cell-6985376adde63175",
     "locked": true,
     "points": 1,
     "schema_version": 3,
     "solution": false,
     "task": false
    }
   },
   "outputs": [],
   "source": [
    "from hashlib import sha1\n",
    "assert sha1(str(type(answer7_0_1)).encode(\"utf-8\")+b\"d3b8a08e99482707\").hexdigest() == \"6f743593123cc970ade173d42c9c5fb5240a153e\", \"type of answer7_0_1 is not str. answer7_0_1 should be an str\"\n",
    "assert sha1(str(len(answer7_0_1)).encode(\"utf-8\")+b\"d3b8a08e99482707\").hexdigest() == \"c8e9d9430ceafa22236020d1e5f8681438a2f855\", \"length of answer7_0_1 is not correct\"\n",
    "assert sha1(str(answer7_0_1.lower()).encode(\"utf-8\")+b\"d3b8a08e99482707\").hexdigest() == \"27355af0447dbe280e2e819196ae7212cbb53ee9\", \"value of answer7_0_1 is not correct\"\n",
    "assert sha1(str(answer7_0_1).encode(\"utf-8\")+b\"d3b8a08e99482707\").hexdigest() == \"72ddfc8b27b948c40d242bb51f58e079c3c2f594\", \"correct string value of answer7_0_1 but incorrect case of letters\"\n",
    "\n",
    "print('Success!')"
   ]
  },
  {
   "cell_type": "markdown",
   "id": "7c9db97a-77b8-4dfb-8556-bb2243b1875b",
   "metadata": {
    "deletable": false,
    "editable": false,
    "nbgrader": {
     "cell_type": "markdown",
     "checksum": "53b897cd359f6da8e66f29fb9c81528c",
     "grade": false,
     "grade_id": "cell-951560d04fe9eab3",
     "locked": true,
     "schema_version": 3,
     "solution": false,
     "task": false
    }
   },
   "source": [
    "**Question 7.0.2** True or False: \n",
    "<br> {points: 1} \n",
    "\n",
    "The researchers compiled this data so that they could build better models to predict marathon race times. \n",
    "\n",
    "*Assign your answer to an object called `answer7_0_2`. Make sure your answer is either `True` or `False`.*"
   ]
  },
  {
   "cell_type": "code",
   "execution_count": null,
   "id": "45583221-7e6d-4113-a946-d14feb4d985e",
   "metadata": {
    "deletable": false,
    "nbgrader": {
     "cell_type": "code",
     "checksum": "1ccde8a123f6b9d8f0e7f193b4bf2258",
     "grade": false,
     "grade_id": "cell-802959c354163ed6",
     "locked": false,
     "schema_version": 3,
     "solution": true,
     "task": false
    }
   },
   "outputs": [],
   "source": [
    "# your code here\n",
    "raise NotImplementedError"
   ]
  },
  {
   "cell_type": "code",
   "execution_count": null,
   "id": "21f2c06a-d168-47ff-91db-a029627f3b66",
   "metadata": {
    "deletable": false,
    "editable": false,
    "max_height": 100,
    "nbgrader": {
     "cell_type": "code",
     "checksum": "503af5a9fef4e82e2742b8c6948db9e4",
     "grade": true,
     "grade_id": "cell-403f625bd1bc2a0d",
     "locked": true,
     "points": 1,
     "schema_version": 3,
     "solution": false,
     "task": false
    }
   },
   "outputs": [],
   "source": [
    "from hashlib import sha1\n",
    "assert sha1(str(type(answer7_0_2)).encode(\"utf-8\")+b\"d1cb02a26015bd03\").hexdigest() == \"5a6fffd0cfdcf6912237b5209d27270f20807c79\", \"type of answer7_0_2 is not bool. answer7_0_2 should be a bool\"\n",
    "assert sha1(str(answer7_0_2).encode(\"utf-8\")+b\"d1cb02a26015bd03\").hexdigest() == \"442bb63cb2ad982445fb601d4c2641783430de8f\", \"boolean value of answer7_0_2 is not correct\"\n",
    "\n",
    "print('Success!')"
   ]
  },
  {
   "cell_type": "markdown",
   "id": "0bcba324-d458-4a37-a0c8-04fe63d17e25",
   "metadata": {
    "deletable": false,
    "editable": false,
    "nbgrader": {
     "cell_type": "markdown",
     "checksum": "54a15dc290148327c4a3e6812a608298",
     "grade": false,
     "grade_id": "cell-1d89b4a972bd6d13",
     "locked": true,
     "schema_version": 3,
     "solution": false,
     "task": false
    }
   },
   "source": [
    "**Question 7.0.3** Multiple Choice: \n",
    "<br> {points: 1}\n",
    "\n",
    "What kind of graph will we be creating? Choose the correct answer from the options below. \n",
    "\n",
    "A. Bar Graph \n",
    "\n",
    "B. Pie Chart\n",
    "\n",
    "C. Scatter Plot\n",
    "\n",
    "D. Box Plot \n",
    "\n",
    "*Assign your answer to an object called `answer7_0_3`. Make sure your answer is an uppercase letter and is surrounded by quotation marks (e.g. `\"F\"`).*"
   ]
  },
  {
   "cell_type": "code",
   "execution_count": null,
   "id": "72ce83db-fe80-4fe2-9e74-374eab47f171",
   "metadata": {
    "deletable": false,
    "nbgrader": {
     "cell_type": "code",
     "checksum": "b24ca564378da7395298f937435187a6",
     "grade": false,
     "grade_id": "cell-22fc576a49c08552",
     "locked": false,
     "schema_version": 3,
     "solution": true,
     "task": false
    }
   },
   "outputs": [],
   "source": [
    "# your code here\n",
    "raise NotImplementedError"
   ]
  },
  {
   "cell_type": "code",
   "execution_count": null,
   "id": "541d6b36-dc75-4dbd-9080-78de3e1f6981",
   "metadata": {
    "deletable": false,
    "editable": false,
    "max_height": 100,
    "nbgrader": {
     "cell_type": "code",
     "checksum": "83e6e2f72d453e2f32bcb572338f348a",
     "grade": true,
     "grade_id": "cell-fd2aff2cf89d487b",
     "locked": true,
     "points": 1,
     "schema_version": 3,
     "solution": false,
     "task": false
    }
   },
   "outputs": [],
   "source": [
    "from hashlib import sha1\n",
    "assert sha1(str(type(answer7_0_3)).encode(\"utf-8\")+b\"41aaa8b3931ae4df\").hexdigest() == \"15662f08d8199134d598da978f4e525d7ec34466\", \"type of answer7_0_3 is not str. answer7_0_3 should be an str\"\n",
    "assert sha1(str(len(answer7_0_3)).encode(\"utf-8\")+b\"41aaa8b3931ae4df\").hexdigest() == \"71698b43411863e0cbfdb607f9926988da26cee1\", \"length of answer7_0_3 is not correct\"\n",
    "assert sha1(str(answer7_0_3.lower()).encode(\"utf-8\")+b\"41aaa8b3931ae4df\").hexdigest() == \"46d3aa0e5a8b9cb4d7df4b656a93131d906a25df\", \"value of answer7_0_3 is not correct\"\n",
    "assert sha1(str(answer7_0_3).encode(\"utf-8\")+b\"41aaa8b3931ae4df\").hexdigest() == \"599e5a82e0b62277d4caa45c7afd6250079f67bc\", \"correct string value of answer7_0_3 but incorrect case of letters\"\n",
    "\n",
    "print('Success!')"
   ]
  },
  {
   "cell_type": "markdown",
   "id": "366f8e0b-224e-4a7a-9421-97fca497c7da",
   "metadata": {
    "deletable": false,
    "editable": false,
    "nbgrader": {
     "cell_type": "markdown",
     "checksum": "abaa848aab3689108ab3e082c81af2a2",
     "grade": false,
     "grade_id": "cell-36ecb26cfc323d40",
     "locked": true,
     "schema_version": 3,
     "solution": false,
     "task": false
    }
   },
   "source": [
    "### 7.1. Reading Data\n",
    "\n",
    "Let's get started with our first step - loading the data set. The data set we are loading is called `marathon_small.csv` and it contains a subset of the data from the study described above. The file is in the same directory/folder as the file for this notebook. It is a comma separated file (meaning the columns are separated by the `,` character). We often refer to these files as `.csv`'s.\n",
    "\n",
    "\n",
    "```\n",
    "age,bmi,km5_time_seconds,km10_time_seconds,sex\n",
    "25.0,21.6221160888672,NA,2798,female\n",
    "41.0,23.905969619751,1210.0,NA,male\n",
    "25.0,21.6407279968262,994.0,NA,male\n",
    "35.0,23.5923233032227,1075.0,2135,male\n",
    "34.0,22.7064037322998,1186.0,NA,male\n",
    "45.0,42.0875434875488,3240.0,NA,female\n",
    "33.0,22.5182952880859,1292.0,NA,male\n",
    "58.0,25.2340793609619,NA,3420,male\n",
    "29.0,24.505407333374,1440.0,3240,male\n",
    "```\n",
    "\n",
    "We can use the `pd.read_csv` function from the `pandas` package to do this. Below is an example of reading a `.csv` file that is in the same directory/folder as the file for the notebook that would be reading it in:\n",
    "\n",
    "<img src=\"images/ws1_read_csv_gen_py.png\" width=\"500\">\n",
    "\n",
    "*Note - the quotes around the filename are important and you will get an error if you forget them.*"
   ]
  },
  {
   "cell_type": "markdown",
   "id": "4b906dac-69b6-4e9e-89ea-5eeac0de418e",
   "metadata": {
    "deletable": false,
    "editable": false,
    "nbgrader": {
     "cell_type": "markdown",
     "checksum": "4f5c347f808dd44b53738ca8d355a12c",
     "grade": false,
     "grade_id": "cell-ea616e0e2e92f75b",
     "locked": true,
     "schema_version": 3,
     "solution": false,
     "task": false
    }
   },
   "source": [
    "**Question 7.1.1** <br> {points: 1}\n",
    "\n",
    "Use the `pd.read_csv` function from `pandas` package to load the data from the `marathon_small.csv` file into Python. Save the data to an object called `marathon_small`. If you need additional help try `help(pd.read_csv)` and/or ask your neighbours or the Instructional team for help."
   ]
  },
  {
   "cell_type": "code",
   "execution_count": null,
   "id": "2782eea5-8ae4-41c8-a6a3-13a309aa8a83",
   "metadata": {
    "deletable": false,
    "nbgrader": {
     "cell_type": "code",
     "checksum": "e1a5b102804dbfb9ac9f11d62ad44548",
     "grade": false,
     "grade_id": "cell-24c1180c6165d355",
     "locked": false,
     "schema_version": 3,
     "solution": true,
     "task": false
    }
   },
   "outputs": [],
   "source": [
    "import pandas as pd\n",
    "\n",
    "# your code here\n",
    "raise NotImplementedError\n",
    "marathon_small"
   ]
  },
  {
   "cell_type": "code",
   "execution_count": null,
   "id": "2a670e70-2ef9-4452-bf17-2cc523aab34e",
   "metadata": {
    "deletable": false,
    "editable": false,
    "max_height": 100,
    "nbgrader": {
     "cell_type": "code",
     "checksum": "c23b046f591516de8e1220f2dce56b20",
     "grade": true,
     "grade_id": "cell-240e3959187bfdd4",
     "locked": true,
     "points": 1,
     "schema_version": 3,
     "solution": false,
     "task": false
    }
   },
   "outputs": [],
   "source": [
    "from hashlib import sha1\n",
    "assert sha1(str(type(marathon_small)).encode(\"utf-8\")+b\"4da1955318a81e8b\").hexdigest() == \"aba634908d3fe941cc9d3a8428b7286f66416d4f\", \"type of type(marathon_small) is not correct\"\n",
    "\n",
    "assert sha1(str(type(marathon_small.shape)).encode(\"utf-8\")+b\"b1d29ba6c0c2e0f8\").hexdigest() == \"ce2c289bd355052e82dc1b233fab891f09175382\", \"type of marathon_small.shape is not tuple. marathon_small.shape should be a tuple\"\n",
    "assert sha1(str(len(marathon_small.shape)).encode(\"utf-8\")+b\"b1d29ba6c0c2e0f8\").hexdigest() == \"b347f7f8d9c75cc92cf98ccf1b31d701a6d6aa9f\", \"length of marathon_small.shape is not correct\"\n",
    "assert sha1(str(sorted(map(str, marathon_small.shape))).encode(\"utf-8\")+b\"b1d29ba6c0c2e0f8\").hexdigest() == \"dd4aa6ef0595ea51a8acf4ef358872cfe9b03a3c\", \"values of marathon_small.shape are not correct\"\n",
    "assert sha1(str(marathon_small.shape).encode(\"utf-8\")+b\"b1d29ba6c0c2e0f8\").hexdigest() == \"b1b0bdedfa3229d47431c37a7b26ad0b60b3db40\", \"order of elements of marathon_small.shape is not correct\"\n",
    "\n",
    "assert sha1(str(type(sum(marathon_small.age))).encode(\"utf-8\")+b\"35684c129780a847\").hexdigest() == \"a566cddd55e18afea6617e73b5c7dd2071b108d0\", \"type of sum(marathon_small.age) is not float. Please make sure it is float and not np.float64, etc. You can cast your value into a float using float()\"\n",
    "assert sha1(str(round(sum(marathon_small.age), 2)).encode(\"utf-8\")+b\"35684c129780a847\").hexdigest() == \"b9f5980b06331a8254db86e02807f9e454530cc6\", \"value of sum(marathon_small.age) is not correct (rounded to 2 decimal places)\"\n",
    "\n",
    "assert sha1(str(type(marathon_small.columns.values)).encode(\"utf-8\")+b\"f21372330bb1ef57\").hexdigest() == \"dba4f6dbde8f178cb15d2016e1d2356a57844118\", \"type of marathon_small.columns.values is not correct\"\n",
    "assert sha1(str(marathon_small.columns.values).encode(\"utf-8\")+b\"f21372330bb1ef57\").hexdigest() == \"aa1546a59bd4344674042193f71f145c011494a8\", \"value of marathon_small.columns.values is not correct\"\n",
    "\n",
    "print('Success!')"
   ]
  },
  {
   "cell_type": "markdown",
   "id": "b0e73cc6-3316-41cd-ae22-b8febd6f83d1",
   "metadata": {
    "deletable": false,
    "editable": false,
    "nbgrader": {
     "cell_type": "markdown",
     "checksum": "3fdae3053cab0c7dcba8a15a4eac55c5",
     "grade": false,
     "grade_id": "cell-60fd4cfe0e82b04e",
     "locked": true,
     "schema_version": 3,
     "solution": false,
     "task": false
    }
   },
   "source": [
    "**Question 7.1.2** Multiple Choice <br> {points: 1}\n",
    "\n",
    "From the list below, which is a valid way to store a data frame object read in from `pd.read_csv` to an object in Python?\n",
    "\n",
    "A. `data == pd.read_csv(\"example_file.csv\")`\n",
    "\n",
    "B. `data = pd.read_csv(\"example_file.csv\")`\n",
    "\n",
    "C. `data = pd.read_csv\"example_file.csv\"`\n",
    "\n",
    "D. `data = pd.read_csv(example_file.csv)`\n",
    "\n",
    "*Assign your answer to an object called `answer7_1_2`. Make sure your answer is an uppercase letter and is surrounded by quotation marks (e.g. `\"F\"`).*"
   ]
  },
  {
   "cell_type": "code",
   "execution_count": null,
   "id": "4e7a5d21-b778-483b-a3ff-21d013acec07",
   "metadata": {
    "deletable": false,
    "nbgrader": {
     "cell_type": "code",
     "checksum": "ec15ca5cef43b1ad9152b6705414d9f0",
     "grade": false,
     "grade_id": "cell-999b212edf7f7a12",
     "locked": false,
     "schema_version": 3,
     "solution": true,
     "task": false
    }
   },
   "outputs": [],
   "source": [
    "# your code here\n",
    "raise NotImplementedError"
   ]
  },
  {
   "cell_type": "code",
   "execution_count": null,
   "id": "08499e29-e7e8-401c-886a-69875be124b7",
   "metadata": {
    "deletable": false,
    "editable": false,
    "max_height": 100,
    "nbgrader": {
     "cell_type": "code",
     "checksum": "56183194d16a6c8bd7b0a907c96193a4",
     "grade": true,
     "grade_id": "cell-d67be1745e12b089",
     "locked": true,
     "points": 1,
     "schema_version": 3,
     "solution": false,
     "task": false
    }
   },
   "outputs": [],
   "source": [
    "from hashlib import sha1\n",
    "assert sha1(str(type(answer7_1_2)).encode(\"utf-8\")+b\"f5a7d8b5bf66016c\").hexdigest() == \"50dc593dd56fa84ec60e469cbbf56f0cdb557ef3\", \"type of answer7_1_2 is not str. answer7_1_2 should be an str\"\n",
    "assert sha1(str(len(answer7_1_2)).encode(\"utf-8\")+b\"f5a7d8b5bf66016c\").hexdigest() == \"b3c8f1d68cd1b5bc6649d6223d4ddcb65569a5bb\", \"length of answer7_1_2 is not correct\"\n",
    "assert sha1(str(answer7_1_2.lower()).encode(\"utf-8\")+b\"f5a7d8b5bf66016c\").hexdigest() == \"38cb20f47f7f8f24a4ab42c9ddf6f3182762efe5\", \"value of answer7_1_2 is not correct\"\n",
    "assert sha1(str(answer7_1_2).encode(\"utf-8\")+b\"f5a7d8b5bf66016c\").hexdigest() == \"3082f6829664906d00d07dab7fb76edb87edb3ad\", \"correct string value of answer7_1_2 but incorrect case of letters\"\n",
    "\n",
    "print('Success!')"
   ]
  },
  {
   "cell_type": "markdown",
   "id": "d4312ae9-40ff-4f98-9cc9-bc20605e67b2",
   "metadata": {
    "deletable": false,
    "editable": false,
    "nbgrader": {
     "cell_type": "markdown",
     "checksum": "9775fe4272ae0992ec03d7ce6dda7d84",
     "grade": false,
     "grade_id": "cell-f95eaaffb33ed0bf",
     "locked": true,
     "schema_version": 3,
     "solution": false,
     "task": false
    }
   },
   "source": [
    "### 7.2. Data frames\n",
    "\n",
    "The functions from the `pandas` package give us a data frame and we can look at the structure of a data frame by simply writing its name to view the output."
   ]
  },
  {
   "cell_type": "code",
   "execution_count": null,
   "id": "086cf277-802b-48d2-9b77-1966cc6d282f",
   "metadata": {},
   "outputs": [],
   "source": [
    "marathon_small"
   ]
  },
  {
   "cell_type": "markdown",
   "id": "64716746-28c6-4a25-91b9-3fb51bc86cb2",
   "metadata": {
    "deletable": false,
    "editable": false,
    "nbgrader": {
     "cell_type": "markdown",
     "checksum": "0ecf919f261b20ff4a0fcb8602377174",
     "grade": false,
     "grade_id": "cell-248613cbb9279a69",
     "locked": true,
     "schema_version": 3,
     "solution": false,
     "task": false
    }
   },
   "source": [
    "This returns the first 5 and last 5 rows of the data frame. \n",
    "\n",
    "By default, the first row of a data set is always the **header** that `pd.read_csv` uses to label the column. Therefore, the first row contains descriptive names while the rows below contain the actual data. The bolded column on the left without a header is called the index. For now you can think of this is the row numbers of the data frame.\n",
    "\n",
    "This only shows us a small portion of the data set. You can look at more of the data set by using the `head` method to specify the number of rows you want to print."
   ]
  },
  {
   "cell_type": "code",
   "execution_count": null,
   "id": "ec26cc2f-f3c9-4f13-9e47-82915eb270bb",
   "metadata": {},
   "outputs": [],
   "source": [
    "marathon_small.head(50)"
   ]
  },
  {
   "cell_type": "markdown",
   "id": "ab2027c6-0894-41bc-a30c-0db8225322f0",
   "metadata": {
    "deletable": false,
    "editable": false,
    "nbgrader": {
     "cell_type": "markdown",
     "checksum": "fba544e31ca9d8adeada12ab2cea0764",
     "grade": false,
     "grade_id": "cell-983b7872ae1629ea",
     "locked": true,
     "schema_version": 3,
     "solution": false,
     "task": false
    }
   },
   "source": [
    "This shows us the first 50 rows of the data set. We could look at the entire data by changing the `n` argument but looking at many rows of data can be very long and unnecessary to look at."
   ]
  },
  {
   "cell_type": "markdown",
   "id": "91346b5b-3932-45d6-8c16-d1f2d686826f",
   "metadata": {
    "deletable": false,
    "editable": false,
    "nbgrader": {
     "cell_type": "markdown",
     "checksum": "ec82a2ef348d34636565a4167992620c",
     "grade": false,
     "grade_id": "cell-fff838ee8a3484b4",
     "locked": true,
     "schema_version": 3,
     "solution": false,
     "task": false
    }
   },
   "source": [
    "**Question 7.2.1** <br> {points: 1}\n",
    "\n",
    "To know how many rows there really are, use the function `len`. Assign the number of rows to the object `number_rows`."
   ]
  },
  {
   "cell_type": "code",
   "execution_count": null,
   "id": "72412099-17b3-4234-8e3f-1717715dabc5",
   "metadata": {
    "deletable": false,
    "nbgrader": {
     "cell_type": "code",
     "checksum": "d8140fd9d92267468515535c9f419ea8",
     "grade": false,
     "grade_id": "cell-1e9d7d4f354cfa7c",
     "locked": false,
     "schema_version": 3,
     "solution": true,
     "task": false
    }
   },
   "outputs": [],
   "source": [
    "# your code here\n",
    "raise NotImplementedError\n",
    "print(number_rows)"
   ]
  },
  {
   "cell_type": "code",
   "execution_count": null,
   "id": "23136baf-1ce6-431e-b285-dc721527a5f5",
   "metadata": {
    "deletable": false,
    "editable": false,
    "max_height": 100,
    "nbgrader": {
     "cell_type": "code",
     "checksum": "b9aa6fcb9a348389f408c09d9bf39f70",
     "grade": true,
     "grade_id": "cell-f29f4e7f8262ef98",
     "locked": true,
     "points": 1,
     "schema_version": 3,
     "solution": false,
     "task": false
    }
   },
   "outputs": [],
   "source": [
    "from hashlib import sha1\n",
    "assert sha1(str(type(number_rows)).encode(\"utf-8\")+b\"64210fef36a3d381\").hexdigest() == \"31ea2a3bd40a2854e44718ffca1d4e72821c0cd2\", \"type of number_rows is not int. Please make sure it is int and not np.int64, etc. You can cast your value into an int using int()\"\n",
    "assert sha1(str(number_rows).encode(\"utf-8\")+b\"64210fef36a3d381\").hexdigest() == \"6fba8041cdb78b356d938d93d7895fa8612fa136\", \"value of number_rows is not correct\"\n",
    "\n",
    "print('Success!')"
   ]
  },
  {
   "cell_type": "markdown",
   "id": "16cb4d24-35b3-4c13-8998-db585af14c25",
   "metadata": {
    "deletable": false,
    "editable": false,
    "nbgrader": {
     "cell_type": "markdown",
     "checksum": "31820e8991babff9e85685f74970c1aa",
     "grade": false,
     "grade_id": "cell-b71bc8f8e1c101d4",
     "locked": true,
     "schema_version": 3,
     "solution": false,
     "task": false
    }
   },
   "source": [
    "### 7.3. Obtaining a subset of rows with `[]`\n",
    "\n",
    "One of the most common operations on a data frame is to *filter* its rows (observations) to keep only specific rows based on their entries in one or more columns. To do this we can use the `[]` operation on a `pandas` data frame.\n",
    "\n",
    "For example, if we had a data frame (named `data`) that looked like this:\n",
    "\n",
    "```\n",
    "  colour size speed\n",
    "1    red   15  12.3\n",
    "2   blue   19  34.1\n",
    "3   blue   20  23.2\n",
    "4    red   22  21.9\n",
    "5   blue   12  33.6\n",
    "6   blue   23  28.8\n",
    "```\n",
    "\n",
    "we could use the first line of the code in the image below to filter for rows where the colour has the value of \"blue\". The second line of code below would let us filter for rows where the size has a value greater than 20."
   ]
  },
  {
   "cell_type": "markdown",
   "id": "43d352fc-373b-4c73-9712-5f7662782c93",
   "metadata": {
    "deletable": false,
    "editable": false,
    "nbgrader": {
     "cell_type": "markdown",
     "checksum": "dd7726596ba4714f41ff9877477a0f8e",
     "grade": false,
     "grade_id": "cell-9e632d9130c06aa0",
     "locked": true,
     "schema_version": 3,
     "solution": false,
     "task": false
    }
   },
   "source": [
    "<img src=\"images/ws1_filter_gen_py.png\" width=\"500\">"
   ]
  },
  {
   "cell_type": "markdown",
   "id": "74be1685-7ff0-419d-9e32-d4c295e250fe",
   "metadata": {
    "deletable": false,
    "editable": false,
    "nbgrader": {
     "cell_type": "markdown",
     "checksum": "806f86f6444e31be8266c76f0aac730f",
     "grade": false,
     "grade_id": "cell-5cc491398e4a2af8",
     "locked": true,
     "schema_version": 3,
     "solution": false,
     "task": false
    }
   },
   "source": [
    "**Question 7.3.1** <br> {points: 1}\n",
    "\n",
    "Use the `[]` operation to subset your data frame `marathon_small` so it only contains survey data from males. Assign your new filtered data frame to an object called `marathon_filtered`."
   ]
  },
  {
   "cell_type": "code",
   "execution_count": null,
   "id": "9750f5fb-0cf1-4b75-9649-48c1bd8a88a5",
   "metadata": {
    "deletable": false,
    "nbgrader": {
     "cell_type": "code",
     "checksum": "c2fe4d8235548d634113b5635ddda0b1",
     "grade": false,
     "grade_id": "cell-f9d75cbfa165d08e",
     "locked": false,
     "schema_version": 3,
     "solution": true,
     "task": false
    }
   },
   "outputs": [],
   "source": [
    "# your code here\n",
    "raise NotImplementedError\n",
    "marathon_filtered"
   ]
  },
  {
   "cell_type": "code",
   "execution_count": null,
   "id": "959c0a1a-227c-4a4c-b20c-ec25d962d8c7",
   "metadata": {
    "deletable": false,
    "editable": false,
    "max_height": 100,
    "nbgrader": {
     "cell_type": "code",
     "checksum": "127e339cf1c7092083f1fef300759789",
     "grade": true,
     "grade_id": "cell-6f763cc77fbd7391",
     "locked": true,
     "points": 1,
     "schema_version": 3,
     "solution": false,
     "task": false
    }
   },
   "outputs": [],
   "source": [
    "from hashlib import sha1\n",
    "assert sha1(str(type(marathon_filtered.shape)).encode(\"utf-8\")+b\"f4d1aa4c5746be90\").hexdigest() == \"dc5acf18e9339eb64ce225481541b596fae2a7ac\", \"type of marathon_filtered.shape is not tuple. marathon_filtered.shape should be a tuple\"\n",
    "assert sha1(str(len(marathon_filtered.shape)).encode(\"utf-8\")+b\"f4d1aa4c5746be90\").hexdigest() == \"f0e0ad95b691c7f978fae4946d9ff334b50f3522\", \"length of marathon_filtered.shape is not correct\"\n",
    "assert sha1(str(sorted(map(str, marathon_filtered.shape))).encode(\"utf-8\")+b\"f4d1aa4c5746be90\").hexdigest() == \"690f55a67d866b581eee94b984c3a9135f889b8c\", \"values of marathon_filtered.shape are not correct\"\n",
    "assert sha1(str(marathon_filtered.shape).encode(\"utf-8\")+b\"f4d1aa4c5746be90\").hexdigest() == \"0b5618dabb2833c2db1dba9d7320c8ea98eec916\", \"order of elements of marathon_filtered.shape is not correct\"\n",
    "\n",
    "assert sha1(str(type(marathon_filtered.columns.values)).encode(\"utf-8\")+b\"6ad1812d76e70526\").hexdigest() == \"8b2e45ba98d310f410850b2d83e61fb68604a4b3\", \"type of marathon_filtered.columns.values is not correct\"\n",
    "assert sha1(str(marathon_filtered.columns.values).encode(\"utf-8\")+b\"6ad1812d76e70526\").hexdigest() == \"b3aa9d24154d6c7e214a62091930f2cf6c24414c\", \"value of marathon_filtered.columns.values is not correct\"\n",
    "\n",
    "assert sha1(str(type(sum(marathon_filtered.bmi))).encode(\"utf-8\")+b\"6b1bf89ee6f3cfd3\").hexdigest() == \"3bf46b1d5d6f09f54777ea1779451b09d70332e6\", \"type of sum(marathon_filtered.bmi) is not float. Please make sure it is float and not np.float64, etc. You can cast your value into a float using float()\"\n",
    "assert sha1(str(round(sum(marathon_filtered.bmi), 2)).encode(\"utf-8\")+b\"6b1bf89ee6f3cfd3\").hexdigest() == \"60b27434700d2a6f37d1abb3b7accab20f132275\", \"value of sum(marathon_filtered.bmi) is not correct (rounded to 2 decimal places)\"\n",
    "\n",
    "print('Success!')"
   ]
  },
  {
   "cell_type": "markdown",
   "id": "082e1774-3acd-4158-855a-16f1d5982cfe",
   "metadata": {
    "deletable": false,
    "editable": false,
    "nbgrader": {
     "cell_type": "markdown",
     "checksum": "0ae9fa6a0e06cf96a62dfbb970adba92",
     "grade": false,
     "grade_id": "cell-bf95a8e094221faa",
     "locked": true,
     "schema_version": 3,
     "solution": false,
     "task": false
    },
    "tags": []
   },
   "source": [
    "### 7.4. Obtaining a subset of rows and/or columns with `loc[]`\n",
    "\n",
    "`pandas` created the method `loc[]` as more flexible alternatives to allow you to zoom in and focus on specific parts of the data. It is particularly helpful when working with extremely large datasets. More specifically, it allows you to separate one or more columns from your dataset and transfer them into their own data frame.\n",
    "\n",
    "When we use `loc[]` to slice columns and rows by labels in a dataframe we always specify the range of rows first, and then the range of colums. We use the `:` operator to separate the starting row or column from the ending row or column:\n",
    "\n",
    "```\n",
    "df.loc[row_ind_start:row_ind_end, \"column name start:\"column name end\"]  \n",
    "```\n",
    "\n",
    "Typically, `row_ind_start` and `row_ind_end` are integers (the row-number you want to start and end with). \n",
    "\n",
    "If we are only subsetting rows but not columns, we can shorten this to:\n",
    "\n",
    "```\n",
    "df.loc[row_ind_start:row_ind_end]\n",
    "```\n",
    "\n",
    "\n",
    "If we want all the rows with only specific columns, we specify we want all the rows first with just a colon `:` followed by the interval of the columns:\n",
    "\n",
    "```\n",
    "df.loc[:, \"column name start:\"column name end\"]\n",
    "```\n",
    "\n",
    "Remembering our example `data`:\n",
    "\n",
    "```\n",
    "  colour size speed\n",
    "1    red   15  12.3\n",
    "2   blue   19  34.1\n",
    "3   blue   20  23.2\n",
    "4    red   22  21.9\n",
    "5   blue   12  33.6\n",
    "6   blue   23  28.8\n",
    "```\n",
    "\n",
    "For example, we can use indexing to choose columns of interest (here colour and size). \n",
    "\n",
    "\n",
    "<img src=\"images/ws1_select_gen_py.png\" width=\"500\">\n",
    "\n",
    "\n",
    "and we would get this smaller data set back:\n",
    "\n",
    "```\n",
    "  colour size\n",
    "1    red   15\n",
    "2   blue   19\n",
    "3   blue   20\n",
    "4    red   22\n",
    "5   blue   12\n",
    "6   blue   23\n",
    "```"
   ]
  },
  {
   "cell_type": "markdown",
   "id": "cfe54e4f-4680-434b-8e24-aa089b9385dc",
   "metadata": {
    "deletable": false,
    "editable": false,
    "nbgrader": {
     "cell_type": "markdown",
     "checksum": "0d4d1239c2e0c965e89411bde9612c1d",
     "grade": false,
     "grade_id": "cell-a92cdf20d8099781",
     "locked": true,
     "schema_version": 3,
     "solution": false,
     "task": false
    }
   },
   "source": [
    "**Question 7.4.1** <br> {points: 1}\n",
    "\n",
    "Use `loc[]` to subset the columns `bmi` and `km10_time_seconds` from `marathon_filtered`. Assign your new filtered data frame to an object called `marathon_male`. \n",
    "\n",
    "*Make sure you select first `bmi` and then `km10_time_seconds`*!"
   ]
  },
  {
   "cell_type": "code",
   "execution_count": null,
   "id": "c5cb8c0b-31e4-493c-a639-f899dac4e278",
   "metadata": {
    "deletable": false,
    "nbgrader": {
     "cell_type": "code",
     "checksum": "927a67897c9645081db1d3d680a9b875",
     "grade": false,
     "grade_id": "cell-15ab614529f2f742",
     "locked": false,
     "schema_version": 3,
     "solution": true,
     "task": false
    }
   },
   "outputs": [],
   "source": [
    "# your code here\n",
    "raise NotImplementedError\n",
    "marathon_male"
   ]
  },
  {
   "cell_type": "code",
   "execution_count": null,
   "id": "e00a0e28-93e8-4592-8309-f2ab513ee562",
   "metadata": {
    "deletable": false,
    "editable": false,
    "max_height": 100,
    "nbgrader": {
     "cell_type": "code",
     "checksum": "a38ee5bec71cdce9b0dc3cbdbd71210f",
     "grade": true,
     "grade_id": "cell-f4c54ec7b8fb29b2",
     "locked": true,
     "points": 1,
     "schema_version": 3,
     "solution": false,
     "task": false
    }
   },
   "outputs": [],
   "source": [
    "from hashlib import sha1\n",
    "assert sha1(str(type(marathon_male.shape)).encode(\"utf-8\")+b\"c569183c47a61f87\").hexdigest() == \"638ecb8d1e16221a4f3f7dad3a8f33b88721450d\", \"type of marathon_male.shape is not tuple. marathon_male.shape should be a tuple\"\n",
    "assert sha1(str(len(marathon_male.shape)).encode(\"utf-8\")+b\"c569183c47a61f87\").hexdigest() == \"8017ceff927e49cd13d19d7503218c7f5b74039b\", \"length of marathon_male.shape is not correct\"\n",
    "assert sha1(str(sorted(map(str, marathon_male.shape))).encode(\"utf-8\")+b\"c569183c47a61f87\").hexdigest() == \"4fbb28c582cefaf825a4b6f0773fec38fd9a4d5d\", \"values of marathon_male.shape are not correct\"\n",
    "assert sha1(str(marathon_male.shape).encode(\"utf-8\")+b\"c569183c47a61f87\").hexdigest() == \"5de82203c52b030e25076e2033b2deb64cbd2038\", \"order of elements of marathon_male.shape is not correct\"\n",
    "\n",
    "assert sha1(str(type(sum(marathon_male.bmi))).encode(\"utf-8\")+b\"6b48d9929eb69fcd\").hexdigest() == \"8c445f30c34e00ecbdf3c0545b7167cae8930996\", \"type of sum(marathon_male.bmi) is not float. Please make sure it is float and not np.float64, etc. You can cast your value into a float using float()\"\n",
    "assert sha1(str(round(sum(marathon_male.bmi), 2)).encode(\"utf-8\")+b\"6b48d9929eb69fcd\").hexdigest() == \"d10e09abbb95520436386a037818ce888d928b9c\", \"value of sum(marathon_male.bmi) is not correct (rounded to 2 decimal places)\"\n",
    "\n",
    "assert sha1(str(type(sum(marathon_male.km10_time_seconds.dropna()))).encode(\"utf-8\")+b\"5eaba7b1adb535ff\").hexdigest() == \"389e5cfe5ed451737ff00a5ec26451348d8a49a3\", \"type of sum(marathon_male.km10_time_seconds.dropna()) is not float. Please make sure it is float and not np.float64, etc. You can cast your value into a float using float()\"\n",
    "assert sha1(str(round(sum(marathon_male.km10_time_seconds.dropna()), 2)).encode(\"utf-8\")+b\"5eaba7b1adb535ff\").hexdigest() == \"aa49b0581447ad34bb57019462c4adf036937926\", \"value of sum(marathon_male.km10_time_seconds.dropna()) is not correct (rounded to 2 decimal places)\"\n",
    "\n",
    "print('Success!')"
   ]
  },
  {
   "cell_type": "markdown",
   "id": "9498a4c6-0afa-43d8-bdba-a846d085f180",
   "metadata": {
    "deletable": false,
    "editable": false,
    "nbgrader": {
     "cell_type": "markdown",
     "checksum": "8fbaebadf844eb9d91fe7438b7cab3b8",
     "grade": false,
     "grade_id": "cell-999e4ac260a20227",
     "locked": true,
     "schema_version": 3,
     "solution": false,
     "task": false
    }
   },
   "source": [
    "**Question 7.4.2** <br> {points: 1}\n",
    "\n",
    "What are the units of the time taken to complete a run of 10 km? Assign your answer to an object called `answer7_4_2`. Write your answer in lower case. Place your answer between quotation marks.\n",
    "\n",
    "\n",
    "*Hint: scroll up and look at the introduction to this exercise.*"
   ]
  },
  {
   "cell_type": "code",
   "execution_count": null,
   "id": "e0c0f92b-684c-4799-aba1-d082a3bfdf66",
   "metadata": {
    "deletable": false,
    "nbgrader": {
     "cell_type": "code",
     "checksum": "f775f1386e6c0ae78b40d8aac88ee7b0",
     "grade": false,
     "grade_id": "cell-fef84cfc236ffa82",
     "locked": false,
     "schema_version": 3,
     "solution": true,
     "task": false
    }
   },
   "outputs": [],
   "source": [
    "# your code here\n",
    "raise NotImplementedError"
   ]
  },
  {
   "cell_type": "code",
   "execution_count": null,
   "id": "457de5fa-c3f7-4795-99eb-e62b7a83b1d4",
   "metadata": {
    "deletable": false,
    "editable": false,
    "max_height": 100,
    "nbgrader": {
     "cell_type": "code",
     "checksum": "21270dc5583e408906b9f88312496c23",
     "grade": true,
     "grade_id": "cell-d22160a6a53e9237",
     "locked": true,
     "points": 1,
     "schema_version": 3,
     "solution": false,
     "task": false
    }
   },
   "outputs": [],
   "source": [
    "from hashlib import sha1\n",
    "assert sha1(str(type(answer7_4_2)).encode(\"utf-8\")+b\"d805f1b1bef3c127\").hexdigest() == \"5c75621f50aa22412cf1679857962c28c96085ed\", \"type of answer7_4_2 is not str. answer7_4_2 should be an str\"\n",
    "assert sha1(str(len(answer7_4_2)).encode(\"utf-8\")+b\"d805f1b1bef3c127\").hexdigest() == \"cc354a250a30b0bdcf11243d37cc9db29edb491a\", \"length of answer7_4_2 is not correct\"\n",
    "assert sha1(str(answer7_4_2.lower()).encode(\"utf-8\")+b\"d805f1b1bef3c127\").hexdigest() == \"25695303bf64de7ae9b1803047d23e5859da1ff0\", \"value of answer7_4_2 is not correct\"\n",
    "assert sha1(str(answer7_4_2).encode(\"utf-8\")+b\"d805f1b1bef3c127\").hexdigest() == \"25695303bf64de7ae9b1803047d23e5859da1ff0\", \"correct string value of answer7_4_2 but incorrect case of letters\"\n",
    "\n",
    "print('Success!')"
   ]
  },
  {
   "cell_type": "markdown",
   "id": "a4283348-c67f-4fcd-8c2b-d1af48c25eb8",
   "metadata": {
    "deletable": false,
    "editable": false,
    "nbgrader": {
     "cell_type": "markdown",
     "checksum": "7beaf798cf09a2119b213a22cb2af41e",
     "grade": false,
     "grade_id": "cell-da75a783fe460961",
     "locked": true,
     "schema_version": 3,
     "solution": false,
     "task": false
    }
   },
   "source": [
    "**Question 7.4.3**\n",
    "<br> {points: 1}\n",
    "\n",
    "What are the units for time (e.g., seconds, minutes, hours) that we would like to use when plotting BMI against time taken to run 10 km? Assign your answer to an object called `answer7_4_3`. Write your answer in lower case. Place your answer between quotation marks.\n",
    "\n",
    "*Hint: scroll up and look at the introduction to this exercise.*"
   ]
  },
  {
   "cell_type": "code",
   "execution_count": null,
   "id": "d2a2c8a0-e158-4d07-bc7b-e0ee76c93e02",
   "metadata": {
    "deletable": false,
    "nbgrader": {
     "cell_type": "code",
     "checksum": "76c53b64a9fe5fb5a96b59bc82294c19",
     "grade": false,
     "grade_id": "cell-36f7cd2455f091e4",
     "locked": false,
     "schema_version": 3,
     "solution": true,
     "task": false
    }
   },
   "outputs": [],
   "source": [
    "# your code here\n",
    "raise NotImplementedError"
   ]
  },
  {
   "cell_type": "code",
   "execution_count": null,
   "id": "079d7ba1-5f13-421a-9840-5695ebee6c9a",
   "metadata": {
    "deletable": false,
    "editable": false,
    "max_height": 100,
    "nbgrader": {
     "cell_type": "code",
     "checksum": "c4fc831cf766e470d653b88c5a977235",
     "grade": true,
     "grade_id": "cell-377287ed889be893",
     "locked": true,
     "points": 1,
     "schema_version": 3,
     "solution": false,
     "task": false
    }
   },
   "outputs": [],
   "source": [
    "from hashlib import sha1\n",
    "assert sha1(str(type(answer7_4_3)).encode(\"utf-8\")+b\"13b38018803bdab9\").hexdigest() == \"a858cae7ecad06889017ef1d138fea9fb55020ec\", \"type of answer7_4_3 is not str. answer7_4_3 should be an str\"\n",
    "assert sha1(str(len(answer7_4_3)).encode(\"utf-8\")+b\"13b38018803bdab9\").hexdigest() == \"1c59c1300a2235b24b5f2d5daa90787976718538\", \"length of answer7_4_3 is not correct\"\n",
    "assert sha1(str(answer7_4_3.lower()).encode(\"utf-8\")+b\"13b38018803bdab9\").hexdigest() == \"7c11b0861ff0c20315708a85ee3ead2a045b0422\", \"value of answer7_4_3 is not correct\"\n",
    "assert sha1(str(answer7_4_3).encode(\"utf-8\")+b\"13b38018803bdab9\").hexdigest() == \"7c11b0861ff0c20315708a85ee3ead2a045b0422\", \"correct string value of answer7_4_3 but incorrect case of letters\"\n",
    "\n",
    "print('Success!')"
   ]
  },
  {
   "cell_type": "markdown",
   "id": "85b8862c-79a7-4eb7-a745-25cabfdec8cb",
   "metadata": {
    "deletable": false,
    "editable": false,
    "nbgrader": {
     "cell_type": "markdown",
     "checksum": "e86896353e1046da64a3db788f80774c",
     "grade": false,
     "grade_id": "cell-ef748fc407ce6033",
     "locked": true,
     "schema_version": 3,
     "solution": false,
     "task": false
    }
   },
   "source": [
    "### 7.5. Assign\n",
    "\n",
    "The method `assign` is used to add columns to a dataset, typically by making use of existing columns to compute a new column. \n",
    "\n",
    "<img src=\"images/ws1_mutate_gen_py.png\">\n",
    "\n",
    "In the example above, we are creating a new column named `new_column` that is equal to `old_column * 10` and saving the results to an object called `data_mutated`."
   ]
  },
  {
   "cell_type": "markdown",
   "id": "85e2b0f5-b732-4050-bbe1-4094e9c42c2d",
   "metadata": {
    "deletable": false,
    "editable": false,
    "nbgrader": {
     "cell_type": "markdown",
     "checksum": "81a843bbb22c4015675881ab62658284",
     "grade": false,
     "grade_id": "cell-0f02d49ecca99520",
     "locked": true,
     "schema_version": 3,
     "solution": false,
     "task": false
    }
   },
   "source": [
    "**Question 7.5.1**<br> {points: 1}\n",
    "\n",
    "Add a new column to our `marathon_male` dataset called `km10_time_minutes` that is equal to `km10_time_seconds/60.` Assign your answer to an object called `marathon_minutes`."
   ]
  },
  {
   "cell_type": "code",
   "execution_count": null,
   "id": "80a1ee37-e318-4e7a-9f94-3dad134e16f1",
   "metadata": {
    "deletable": false,
    "nbgrader": {
     "cell_type": "code",
     "checksum": "2e969c361f98c71d750cff80bfd05f07",
     "grade": false,
     "grade_id": "cell-c2294c924457e667",
     "locked": false,
     "schema_version": 3,
     "solution": true,
     "task": false
    }
   },
   "outputs": [],
   "source": [
    "# your code here\n",
    "raise NotImplementedError\n",
    "marathon_minutes"
   ]
  },
  {
   "cell_type": "code",
   "execution_count": null,
   "id": "66cd150f-64e9-47b3-aace-70844c197d86",
   "metadata": {
    "deletable": false,
    "editable": false,
    "max_height": 100,
    "nbgrader": {
     "cell_type": "code",
     "checksum": "082860f4859d597f2f9c270f82f781f2",
     "grade": true,
     "grade_id": "cell-0742b003e816693c",
     "locked": true,
     "points": 1,
     "schema_version": 3,
     "solution": false,
     "task": false
    }
   },
   "outputs": [],
   "source": [
    "from hashlib import sha1\n",
    "assert sha1(str(type(marathon_minutes.shape)).encode(\"utf-8\")+b\"233f5f66f40996c1\").hexdigest() == \"adc9b7aea27bee4d121563da3d9ba738f77a845d\", \"type of marathon_minutes.shape is not tuple. marathon_minutes.shape should be a tuple\"\n",
    "assert sha1(str(len(marathon_minutes.shape)).encode(\"utf-8\")+b\"233f5f66f40996c1\").hexdigest() == \"8920d9406e0c8ff2c7017b325f8ef36288180221\", \"length of marathon_minutes.shape is not correct\"\n",
    "assert sha1(str(sorted(map(str, marathon_minutes.shape))).encode(\"utf-8\")+b\"233f5f66f40996c1\").hexdigest() == \"136067ec5288ffff00c7a9b9c080a733af2a7e69\", \"values of marathon_minutes.shape are not correct\"\n",
    "assert sha1(str(marathon_minutes.shape).encode(\"utf-8\")+b\"233f5f66f40996c1\").hexdigest() == \"90f66f2262df27ca4c4ed56ec2088aba3e51d982\", \"order of elements of marathon_minutes.shape is not correct\"\n",
    "\n",
    "assert sha1(str(type(sum(marathon_minutes.km10_time_seconds.dropna()))).encode(\"utf-8\")+b\"1eed41e52c134ca3\").hexdigest() == \"6ed44d5d723347477eced31d677f85d0056cd5f5\", \"type of sum(marathon_minutes.km10_time_seconds.dropna()) is not float. Please make sure it is float and not np.float64, etc. You can cast your value into a float using float()\"\n",
    "assert sha1(str(round(sum(marathon_minutes.km10_time_seconds.dropna()), 2)).encode(\"utf-8\")+b\"1eed41e52c134ca3\").hexdigest() == \"08aec2d28433e91c247751ace34f76b8aedfcb7e\", \"value of sum(marathon_minutes.km10_time_seconds.dropna()) is not correct (rounded to 2 decimal places)\"\n",
    "\n",
    "print('Success!')"
   ]
  },
  {
   "cell_type": "markdown",
   "id": "ffedd25a-8e82-42e4-9e20-dd40631abb2d",
   "metadata": {
    "deletable": false,
    "editable": false,
    "nbgrader": {
     "cell_type": "markdown",
     "checksum": "3d06931d9c0504a455cce7f0495a0375",
     "grade": false,
     "grade_id": "cell-b81ae2307202b486",
     "locked": true,
     "schema_version": 3,
     "solution": false,
     "task": false
    }
   },
   "source": [
    "### 7.6. Graphing\n",
    "`Altair` is a package for visualization in Python. The fundamental object in `Altair` is the `Chart`, which takes a data frame as a single argument `alt.Chart(dataframe)`. With a chart object in hand, we can now specify how we would like the data to be visualized. We first indicate what kind of geometric mark we want to use to represent the data. We can set the mark attribute of the chart object using the the `Chart.mark_* methods`. The `encode` method builds a key-value mapping between encoding channels (such as x, y, color, shape, size, etc.) to fields in the dataset, accessed by field name.\n",
    "\n",
    "\n",
    "\n",
    "\n",
    "\n",
    "![ws1_ggplot_male_py.png](images/ws1_ggplot_male_py.png)\n",
    "\n",
    "Let's plot a scatterplot with the `bmi` on the x axis and `km10_time_minutes` on the y axis."
   ]
  },
  {
   "cell_type": "markdown",
   "id": "a58f0e39-f46c-47b8-bc63-0deace3b5b27",
   "metadata": {
    "deletable": false,
    "editable": false,
    "nbgrader": {
     "cell_type": "markdown",
     "checksum": "972ff59531d7ac89eef5c4a57283bc23",
     "grade": false,
     "grade_id": "cell-8a5d123874f35303",
     "locked": true,
     "schema_version": 3,
     "solution": false,
     "task": false
    }
   },
   "source": [
    "Before we start plotting use `Altair`, we need to import the package. You'll see we give it the alias `alt`."
   ]
  },
  {
   "cell_type": "code",
   "execution_count": null,
   "id": "da1b0253-a102-4dc1-a613-f956100867ac",
   "metadata": {},
   "outputs": [],
   "source": [
    "import altair as alt"
   ]
  },
  {
   "cell_type": "code",
   "execution_count": null,
   "id": "1ee5dcff-d80c-45de-8c26-acc84a4b864b",
   "metadata": {},
   "outputs": [],
   "source": [
    "plot = alt.Chart(marathon_minutes).mark_point().encode(x=\"bmi\", y=\"km10_time_minutes\")"
   ]
  },
  {
   "cell_type": "code",
   "execution_count": null,
   "id": "9c1dc3ae-3c88-470d-ad60-570afb6e3b41",
   "metadata": {},
   "outputs": [],
   "source": [
    "# Run this cell to create a scatterplot of BMI against the time it took to run 10 km.\n",
    "\n",
    "plot = (alt.Chart(marathon_minutes)\n",
    "    .mark_point()\n",
    "    .encode(x=\"bmi\", y=\"km10_time_minutes\")\n",
    "    .properties(\n",
    "        width=400, height=400\n",
    "    )  # to set the width and the height of the plot to a reasonable size\n",
    "    .configure_axis(\n",
    "        labelFontSize=20, titleFontSize=20\n",
    "    )  # to set the font size for the axis labels and the axis titles\n",
    ")\n",
    "plot"
   ]
  },
  {
   "cell_type": "markdown",
   "id": "33649ed4-1915-48e0-ae3e-57bffa0e48e4",
   "metadata": {
    "deletable": false,
    "editable": false,
    "nbgrader": {
     "cell_type": "markdown",
     "checksum": "c329a956cf8570e6786693298fab4732",
     "grade": false,
     "grade_id": "cell-96adbcf87f4c3870",
     "locked": true,
     "schema_version": 3,
     "solution": false,
     "task": false
    }
   },
   "source": [
    "**Question 7.6.1** Multiple Choice\n",
    "<br> {points: 1}\n",
    "\n",
    "Looking at the graph above, choose a statement above that most reflects what we see.\n",
    "\n",
    "A. There appears to be no relationship between 10 km run time and body mass index. As the value for body mass index increases we see neither an increase nor decrease in the time it takes to run 10 km.\n",
    "\n",
    "B. There may be a positive relationship between 10 km run time and body mass index. As the value for body mass index increases, so does the time it takes to run 10 km.\n",
    "\n",
    "C. There may be a negative relationship between 10 km run time and body mass index. As the value for body mass index increases, the time it takes to run 10 km decreases.\n",
    "\n",
    "\n",
    "\n",
    "\n",
    "*Assign your answer to an object called `answer7_6_1`. Make sure your answer is an uppercase letter and is surrounded by quotation marks (e.g. `\"F\"`).*"
   ]
  },
  {
   "cell_type": "code",
   "execution_count": null,
   "id": "35ebf43b-881a-4c45-b949-92eb40fcd4ec",
   "metadata": {
    "deletable": false,
    "nbgrader": {
     "cell_type": "code",
     "checksum": "06938f52754bd1a353708c37bebd6a1c",
     "grade": false,
     "grade_id": "cell-864372beefdd3c33",
     "locked": false,
     "schema_version": 3,
     "solution": true,
     "task": false
    }
   },
   "outputs": [],
   "source": [
    "# your code here\n",
    "raise NotImplementedError"
   ]
  },
  {
   "cell_type": "code",
   "execution_count": null,
   "id": "4f3bd87a-3837-4008-8b69-5560b06404ba",
   "metadata": {
    "deletable": false,
    "editable": false,
    "max_height": 100,
    "nbgrader": {
     "cell_type": "code",
     "checksum": "5c7ea0aa24dafbbd999d536da8544ebf",
     "grade": true,
     "grade_id": "cell-94ad6c2e2be7bd04",
     "locked": true,
     "points": 1,
     "schema_version": 3,
     "solution": false,
     "task": false
    }
   },
   "outputs": [],
   "source": [
    "from hashlib import sha1\n",
    "assert sha1(str(type(answer7_6_1)).encode(\"utf-8\")+b\"8ba22cb45edec87d\").hexdigest() == \"e4c9f575b6da206b3a41cab2be9e02d31480f641\", \"type of answer7_6_1 is not str. answer7_6_1 should be an str\"\n",
    "assert sha1(str(len(answer7_6_1)).encode(\"utf-8\")+b\"8ba22cb45edec87d\").hexdigest() == \"e3c86ffd3178706c775b1732deb9d01550ef774e\", \"length of answer7_6_1 is not correct\"\n",
    "assert sha1(str(answer7_6_1.lower()).encode(\"utf-8\")+b\"8ba22cb45edec87d\").hexdigest() == \"e259db57008eb0492c7f72adb7979a1367d06cdc\", \"value of answer7_6_1 is not correct\"\n",
    "assert sha1(str(answer7_6_1).encode(\"utf-8\")+b\"8ba22cb45edec87d\").hexdigest() == \"b6f3a3036acbd9b476766ab45cff92cd3670b5dc\", \"correct string value of answer7_6_1 but incorrect case of letters\"\n",
    "\n",
    "print('Success!')"
   ]
  },
  {
   "cell_type": "markdown",
   "id": "f109d747-3674-4dc6-aa7e-37b844e411b0",
   "metadata": {
    "deletable": false,
    "editable": false,
    "nbgrader": {
     "cell_type": "markdown",
     "checksum": "8eec4d0945c66f8987299538acf46cfb",
     "grade": false,
     "grade_id": "cell-1858f04c6c64e648",
     "locked": true,
     "schema_version": 3,
     "solution": false,
     "task": false
    }
   },
   "source": [
    "The code we listed above for graphics barely scratches the surface of what `Altair`, and Python as a whole, are capable of. Not only are there far more choices about the kinds of plots available, but there are many, many options for customizing the look and feel of each graph. You can choose the font, the font size, the colors, the style of the axes, etc. \n",
    "\n",
    "Let’s dig a little deeper into just a couple of options that you can add to any of your graphs to make them look a little better. For example, you can change the text of the x-axis label or the y-axis label by specifying the title inside `alt.X()` or `alt.Y()` inside the encoder. Let’s do that for the scatterplot to make the labels easier to read.\n",
    "\n",
    "*Notice the formatting of the cell.*"
   ]
  },
  {
   "cell_type": "code",
   "execution_count": null,
   "id": "36d315d9-f775-47cd-bc8b-3eb27962dcd6",
   "metadata": {},
   "outputs": [],
   "source": [
    "# Run this cell.\n",
    "# You can replace the axes with whatever you wish to label.\n",
    "# After running the cell once, try changing the axes to something else.\n",
    "\n",
    "\n",
    "marathon_plot = (alt.Chart(marathon_minutes)\n",
    "    .mark_point()\n",
    "    .encode(\n",
    "        x=alt.X(\"bmi\", title=\"Body Mass Index\"),\n",
    "        y=alt.Y(\"km10_time_minutes\", title=\"10 km run time (minutes)\"),\n",
    "    )\n",
    "    .properties(\n",
    "        width=400, height=400\n",
    "    )  # play with width/height to make the plot below a reasonable size\n",
    "    .configure_axis(\n",
    "        labelFontSize=20, titleFontSize=20\n",
    "    )  # play with the size value to change the text size in the plot\n",
    ")\n",
    "marathon_plot"
   ]
  },
  {
   "cell_type": "markdown",
   "id": "a5fe9198-87e4-4d07-8f69-72359ae2cb6d",
   "metadata": {
    "deletable": false,
    "editable": false,
    "nbgrader": {
     "cell_type": "markdown",
     "checksum": "b7063a8549ffac09acf96ebd8e830d67",
     "grade": false,
     "grade_id": "cell-bfbcb171b4f01e80",
     "locked": true,
     "schema_version": 3,
     "solution": false,
     "task": false
    }
   },
   "source": [
    "## Attributions\n",
    "- UC Berkley [Data 8 Public Materials](https://github.com/data-8/data8assets)\n",
    "- UBC [Key Capabilities in Data Science Programming in Python course](https://github.com/UBC-MDS/prog-python-data-science-students)"
   ]
  }
 ],
 "metadata": {
  "jupytext": {
   "encoding": "# -*- coding: utf-8 -*-"
  },
  "kernelspec": {
   "display_name": "Python 3 (ipykernel)",
   "language": "python",
   "name": "python3"
  },
  "language_info": {
   "codemirror_mode": {
    "name": "ipython",
    "version": 3
   },
   "file_extension": ".py",
   "mimetype": "text/x-python",
   "name": "python",
   "nbconvert_exporter": "python",
   "pygments_lexer": "ipython3",
   "version": "3.10.8"
  }
 },
 "nbformat": 4,
 "nbformat_minor": 5
}
