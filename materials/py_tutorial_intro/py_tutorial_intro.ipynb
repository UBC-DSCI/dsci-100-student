{
 "cells": [
  {
   "cell_type": "markdown",
   "metadata": {
    "deletable": false,
    "editable": false,
    "nbgrader": {
     "cell_type": "markdown",
     "checksum": "a5c9191c3c19597bdd20026b1901892c",
     "grade": false,
     "grade_id": "cell-85a0c5fd586dcfd9",
     "locked": true,
     "schema_version": 3,
     "solution": false,
     "task": false
    }
   },
   "source": [
    "# Tutorial 1: Introduction to Data Science\n",
    "\n",
    "### Lecture and Tutorial Learning Goals:\n",
    "\n",
    "After completing this week's lecture and tutorial work, you will be able to:\n",
    "\n",
    "* use a Jupyter notebook to execute provided Python code\n",
    "* edit code and markdown cells in a Jupyter notebook\n",
    "* create new code and markdown cells in a Jupyter notebook\n",
    "* load the `pandas` package into Python\n",
    "* create new variables and objects in Python\n",
    "* use the help and documentation tools in Python\n",
    "* perform the following operations from the pandas package: \n",
    "    - Read a standard .csv file using `read_csv`.\n",
    "    - Demonstrate indexing and slicing with `loc[]` and `[]`.\n",
    "    - Create a new column using `assign`.\n",
    "* use `Altair` package to create plots\n",
    "\n",
    "Any place you see `___`, you must fill in the function, variable, or data to complete the code. Substitute the `None` and the `raise NotImplementedError # No Answer - remove if you provide an answer` with your completed code and answers then proceed to run the cell!\n",
    "\n",
    "Reminder: All autograded questions (i.e., questions with tests) are worth 1 point and all hidden test and manually graded questions are worth 3 points. "
   ]
  },
  {
   "cell_type": "markdown",
   "metadata": {
    "deletable": false,
    "editable": false,
    "nbgrader": {
     "cell_type": "markdown",
     "checksum": "b89c95fde4d909fbd4e5043b40000bcf",
     "grade": false,
     "grade_id": "cell-25b73ba30ea0b4bf",
     "locked": true,
     "schema_version": 3,
     "solution": false,
     "task": false
    }
   },
   "source": [
    "**Revision Question** Match the following definitions with the corresponding functions used in Python:\n",
    "<br> {points: 1}\n",
    "\n",
    "*Definitions*\n",
    "\n",
    "A. Reads the most common types of flat file data, comma separated values. \n",
    "\n",
    "B. Keeps only the variables you mention.\n",
    "\n",
    "C. Keeps only rows with entries satisfying some logical condition that you specify.\n",
    "\n",
    "D. Adds a new variable to a data frame as a function of the old columns.\n",
    "\n",
    "E. Declares the input data frame for a graphic and specifies the set of plot encodings.\n",
    "\n",
    "*Functions*\n",
    "\n",
    "1. `alt.Chart`\n",
    "2. `loc[]`\n",
    "3. `[]`\n",
    "4. `pd.read_csv`\n",
    "5. `assign`\n",
    "\n",
    "For each definition, assign the integer corresponding to the correct function to the letter object associated with the defintion. For example:\n",
    "\n",
    "    B = 1\n",
    "\n",
    "*Assign your answers to the objects `A`, `B`, `C`, `D`, and `E`. Your answers should each be a single integer.*"
   ]
  },
  {
   "cell_type": "code",
   "execution_count": null,
   "metadata": {
    "deletable": false,
    "nbgrader": {
     "cell_type": "code",
     "checksum": "95096c7e97382e792a131f944f30b221",
     "grade": false,
     "grade_id": "cell-11240e52ed2eb0dc",
     "locked": false,
     "schema_version": 3,
     "solution": true,
     "task": false
    }
   },
   "outputs": [],
   "source": [
    "# your code here\n",
    "raise NotImplementedError"
   ]
  },
  {
   "cell_type": "code",
   "execution_count": null,
   "metadata": {
    "deletable": false,
    "editable": false,
    "max_height": 100,
    "nbgrader": {
     "cell_type": "code",
     "checksum": "fd8c642bbc5cd144c725b62e6b236979",
     "grade": true,
     "grade_id": "cell-4d0542fe10fc9971",
     "locked": true,
     "points": 3,
     "schema_version": 3,
     "solution": false,
     "task": false
    }
   },
   "outputs": [],
   "source": [
    "from hashlib import sha1\n",
    "assert sha1(str(type(A)).encode(\"utf-8\")+b\"c268c66a1bc387e4\").hexdigest() == \"15b3e0fdacbd2744029808cfefc8effb3fb645bb\", \"type of A is not int. Please make sure it is int and not np.int64, etc. You can cast your value into an int using int()\"\n",
    "assert sha1(str(A).encode(\"utf-8\")+b\"c268c66a1bc387e4\").hexdigest() == \"d61326bd5ffb0340242eef4f105061e13b579946\", \"value of A is not correct\"\n",
    "\n",
    "assert sha1(str(type(B)).encode(\"utf-8\")+b\"bb61a6d5dc5f62b1\").hexdigest() == \"cea56dc96c3f76449baf018ecd027e92ab492210\", \"type of B is not int. Please make sure it is int and not np.int64, etc. You can cast your value into an int using int()\"\n",
    "assert sha1(str(B).encode(\"utf-8\")+b\"bb61a6d5dc5f62b1\").hexdigest() == \"b495c072153fd69ec4664e36f72b1a5ac517cdac\", \"value of B is not correct\"\n",
    "\n",
    "assert sha1(str(type(C)).encode(\"utf-8\")+b\"ae56f97cc3f60020\").hexdigest() == \"7cf87c0726abd11c7f8f7aa76b4664dbe51b13cd\", \"type of C is not int. Please make sure it is int and not np.int64, etc. You can cast your value into an int using int()\"\n",
    "assert sha1(str(C).encode(\"utf-8\")+b\"ae56f97cc3f60020\").hexdigest() == \"2a200285166efb395981fe8f61cb4ba53faf69b2\", \"value of C is not correct\"\n",
    "\n",
    "assert sha1(str(type(D)).encode(\"utf-8\")+b\"a9abd9dd0660fb2f\").hexdigest() == \"9003bf201a0113464b3a8004d1a29258dce91ff4\", \"type of D is not int. Please make sure it is int and not np.int64, etc. You can cast your value into an int using int()\"\n",
    "assert sha1(str(D).encode(\"utf-8\")+b\"a9abd9dd0660fb2f\").hexdigest() == \"4f0a6e9e8354f8e9c41fd55aa2aaaa078f94af85\", \"value of D is not correct\"\n",
    "\n",
    "assert sha1(str(type(E)).encode(\"utf-8\")+b\"05da12626216bd8b\").hexdigest() == \"cc3dbcfc0601a816a5491738d74ea1ef4562c686\", \"type of E is not int. Please make sure it is int and not np.int64, etc. You can cast your value into an int using int()\"\n",
    "assert sha1(str(E).encode(\"utf-8\")+b\"05da12626216bd8b\").hexdigest() == \"ed7990e0508f54bc2a643478d691daeafa229141\", \"value of E is not correct\"\n",
    "\n",
    "print('Success!')"
   ]
  },
  {
   "cell_type": "markdown",
   "metadata": {
    "deletable": false,
    "editable": false,
    "nbgrader": {
     "cell_type": "markdown",
     "checksum": "0d88b3073563dde107699f0c15e9e667",
     "grade": false,
     "grade_id": "cell-44e79e9606bfba44",
     "locked": true,
     "schema_version": 3,
     "solution": false,
     "task": false
    }
   },
   "source": [
    "## 1. Vickers and Vertosick Exercise\n",
    "We hope you haven't forgotten about them just yet! As you might recall from lecture, Vickers and Vertosick were the researchers that wanted to study different factors affecting race performance of recreational runners. They assembled a data set that includes the age, sex, and Body Mass Index (BMI) of runners, comparing it with their timed performance (how long it took them to complete either 5 or 10 km runs).\n",
    "\n",
    "We will be continuing our analysis of their data to practice what you learnt during the previous lecture. The goal for today, however, is to produce a plot of BMI against the time **(in minutes)** it took for participants **under the age of 35** to run 5 kilometres. To do this, we will need to complete the following steps:\n",
    "\n",
    "1. use `[]` to extract the rows where age is less than 35\n",
    "2. use `loc[]` to extract the `bmi` and `km5_time_seconds` columns \n",
    "3. use `assign` to convert 5 km race time from seconds (`km5_time_seconds`) to minutes\n",
    "4. use `Altair` to create our plot of BMI (x-axis) and race time in minutes (y-axis)\n",
    "\n",
    "**Tips for success:** Try going through all of the steps on your own, but don't forget to discuss with others (classmates, TAs, or an instructor) if you get stuck. If something is wrong and you can't spot the issue, be sure to **read the error message carefully**. Since there are a lot of steps involved in working with data and modifying it, feel free to look back at the worksheet from this week for assistance. "
   ]
  },
  {
   "cell_type": "markdown",
   "metadata": {
    "deletable": false,
    "editable": false,
    "nbgrader": {
     "cell_type": "markdown",
     "checksum": "41039a151a0a78424fadb87ee0699f5e",
     "grade": false,
     "grade_id": "cell-6c38f33b45cf822d",
     "locked": true,
     "schema_version": 3,
     "solution": false,
     "task": false
    }
   },
   "source": [
    "**Question 1.1** Multiple Choice\n",
    "<br> {points: 1}\n",
    "\n",
    "After reading the text above (and remembering that `[]` lets us choose rows that have values at, above, or below a threshold), what column do you think we will be using for our threshold when we filter? \n",
    "\n",
    "A. `age`\n",
    "\n",
    "B. `km5_time_seconds`\n",
    "\n",
    "C. `bmi`\n",
    "\n",
    "D. `sex`\n",
    "\n",
    "*Assign your answer to an object called `answer1_1`. Make sure to write the uppercase letter for the answer you have chosen and surround the letter with quotes.*"
   ]
  },
  {
   "cell_type": "code",
   "execution_count": null,
   "metadata": {
    "deletable": false,
    "nbgrader": {
     "cell_type": "code",
     "checksum": "ea7e37a28d9e6cc91aa90f337486b356",
     "grade": false,
     "grade_id": "cell-75bc90e3730511ec",
     "locked": false,
     "schema_version": 3,
     "solution": true,
     "task": false
    }
   },
   "outputs": [],
   "source": [
    "# Make sure the correct answer is an uppercase letter.\n",
    "# Surround your answer with quotation marks.\n",
    "\n",
    "# your code here\n",
    "raise NotImplementedError"
   ]
  },
  {
   "cell_type": "code",
   "execution_count": null,
   "metadata": {
    "deletable": false,
    "editable": false,
    "max_height": 100,
    "nbgrader": {
     "cell_type": "code",
     "checksum": "26e950223101cd2949ff0ff5f12848aa",
     "grade": true,
     "grade_id": "cell-c42553a8bbde5b1c",
     "locked": true,
     "points": 3,
     "schema_version": 3,
     "solution": false,
     "task": false
    }
   },
   "outputs": [],
   "source": [
    "from hashlib import sha1\n",
    "assert sha1(str(type(answer1_1)).encode(\"utf-8\")+b\"1779846086ebee44\").hexdigest() == \"7a0841264b4872fafc8d311b72a8ce1d55026f61\", \"type of answer1_1 is not str. answer1_1 should be an str\"\n",
    "assert sha1(str(len(answer1_1)).encode(\"utf-8\")+b\"1779846086ebee44\").hexdigest() == \"d01b87f5514593f428dfa81f28bd9810cbd8225d\", \"length of answer1_1 is not correct\"\n",
    "assert sha1(str(answer1_1.lower()).encode(\"utf-8\")+b\"1779846086ebee44\").hexdigest() == \"7ed281329eeaea54ac57526b2a26e4da60b21114\", \"value of answer1_1 is not correct\"\n",
    "assert sha1(str(answer1_1).encode(\"utf-8\")+b\"1779846086ebee44\").hexdigest() == \"39fa1a451b59794dc83461fdb91d8dfd2886f5de\", \"correct string value of answer1_1 but incorrect case of letters\"\n",
    "\n",
    "print('Success!')"
   ]
  },
  {
   "cell_type": "markdown",
   "metadata": {
    "deletable": false,
    "editable": false,
    "nbgrader": {
     "cell_type": "markdown",
     "checksum": "b24f11f21db2f9268435076f4922d753",
     "grade": false,
     "grade_id": "cell-b15c79b2d290b9b3",
     "locked": true,
     "schema_version": 3,
     "solution": false,
     "task": false
    }
   },
   "source": [
    "**Question 1.2** True or False\n",
    "<br> {points: 1}\n",
    "\n",
    "We will be selecting the columns `age` and `km5_time_seconds` to plot. True or false?\n",
    "\n",
    "*Make sure your answer is either `True` or `False` to an object called `answer1_2`*"
   ]
  },
  {
   "cell_type": "code",
   "execution_count": null,
   "metadata": {
    "deletable": false,
    "nbgrader": {
     "cell_type": "code",
     "checksum": "530d7a7ef240afdf8aadfd6a376ccbf2",
     "grade": false,
     "grade_id": "cell-a217171e362cb73c",
     "locked": false,
     "schema_version": 3,
     "solution": true,
     "task": false
    }
   },
   "outputs": [],
   "source": [
    "# Make sure the correct answer is either True or False\n",
    "# Surround your answer with quotation marks.\n",
    "\n",
    "# your code here\n",
    "raise NotImplementedError"
   ]
  },
  {
   "cell_type": "code",
   "execution_count": null,
   "metadata": {
    "deletable": false,
    "editable": false,
    "max_height": 100,
    "nbgrader": {
     "cell_type": "code",
     "checksum": "1caa30b640462458c07826dc766bc01e",
     "grade": true,
     "grade_id": "cell-0ce5fe5d981aee34",
     "locked": true,
     "points": 3,
     "schema_version": 3,
     "solution": false,
     "task": false
    }
   },
   "outputs": [],
   "source": [
    "from hashlib import sha1\n",
    "assert sha1(str(type(answer1_2)).encode(\"utf-8\")+b\"b53ad7fe9519a1f4\").hexdigest() == \"52155f38b43ac47442ba8fd181603e2fdcbcd8cc\", \"type of answer1_2 is not bool. answer1_2 should be a bool\"\n",
    "assert sha1(str(answer1_2).encode(\"utf-8\")+b\"b53ad7fe9519a1f4\").hexdigest() == \"79a93b6f5fb0f1f008f05d1b73f163b67f2954f5\", \"boolean value of answer1_2 is not correct\"\n",
    "\n",
    "print('Success!')"
   ]
  },
  {
   "cell_type": "markdown",
   "metadata": {
    "deletable": false,
    "editable": false,
    "nbgrader": {
     "cell_type": "markdown",
     "checksum": "807a8d62c60d10a7b6d7acbfec5a8a09",
     "grade": false,
     "grade_id": "cell-0c6f36fa88c98732",
     "locked": true,
     "schema_version": 3,
     "solution": false,
     "task": false
    }
   },
   "source": [
    "**Question 1.3** Multiple Choice\n",
    "<br> {points: 1}\n",
    "\n",
    "Select the answer with the correct order of functions that we will use to wrangle our data into a useable form for the plot we want to create. \n",
    "\n",
    "A. `assign`, `loc[]`, `[]`\n",
    "\n",
    "B. `loc[]`, `[]`, `alt.Chart`\n",
    "\n",
    "C. `[]`, `loc[]`, `assign`\n",
    "\n",
    "D. `[]`, `loc[]`, `alt.Chart`\n",
    "\n",
    "*Assign your answer to an object called `answer1_3`. Make sure your answer is an uppercase letter and is surrounded by quotation marks (e.g. `\"F\"`).*"
   ]
  },
  {
   "cell_type": "code",
   "execution_count": null,
   "metadata": {
    "deletable": false,
    "nbgrader": {
     "cell_type": "code",
     "checksum": "c99563bcd860371a547847418bba1c4e",
     "grade": false,
     "grade_id": "cell-31c140df152027b0",
     "locked": false,
     "schema_version": 3,
     "solution": true,
     "task": false
    }
   },
   "outputs": [],
   "source": [
    "# your code here\n",
    "raise NotImplementedError"
   ]
  },
  {
   "cell_type": "code",
   "execution_count": null,
   "metadata": {
    "deletable": false,
    "editable": false,
    "max_height": 100,
    "nbgrader": {
     "cell_type": "code",
     "checksum": "3bc506df57cbc58b0e05dfa173b43715",
     "grade": true,
     "grade_id": "cell-77b635dbc13d60a1",
     "locked": true,
     "points": 3,
     "schema_version": 3,
     "solution": false,
     "task": false
    }
   },
   "outputs": [],
   "source": [
    "from hashlib import sha1\n",
    "assert sha1(str(type(answer1_3)).encode(\"utf-8\")+b\"b9bc16dadfb11655\").hexdigest() == \"db41d6445d11c44417fdb4332d39e0398ee45375\", \"type of answer1_3 is not str. answer1_3 should be an str\"\n",
    "assert sha1(str(len(answer1_3)).encode(\"utf-8\")+b\"b9bc16dadfb11655\").hexdigest() == \"42375320cb689d450ff5175d68440af1c7af8cf6\", \"length of answer1_3 is not correct\"\n",
    "assert sha1(str(answer1_3.lower()).encode(\"utf-8\")+b\"b9bc16dadfb11655\").hexdigest() == \"99b9789d2602ba45ea7e07998de2e8fd0b637ab7\", \"value of answer1_3 is not correct\"\n",
    "assert sha1(str(answer1_3).encode(\"utf-8\")+b\"b9bc16dadfb11655\").hexdigest() == \"d75fcb88737ffee7448171e9d3bce3d6abe2002b\", \"correct string value of answer1_3 but incorrect case of letters\"\n",
    "\n",
    "print('Success!')"
   ]
  },
  {
   "cell_type": "markdown",
   "metadata": {
    "deletable": false,
    "editable": false,
    "nbgrader": {
     "cell_type": "markdown",
     "checksum": "5c837ce807b4bd94290e55c115d2fe2d",
     "grade": false,
     "grade_id": "cell-ed5667dbd3f678ac",
     "locked": true,
     "schema_version": 3,
     "solution": false,
     "task": false
    }
   },
   "source": [
    "**Question 1.4** \n",
    "<br> {points: 1}\n",
    "\n",
    "To work on the cells below, import the `pandas` package as `pd`. If you have difficulty with importing this package, revisit `worksheet_intro` and read over Section 5 (Packages)."
   ]
  },
  {
   "cell_type": "code",
   "execution_count": null,
   "metadata": {
    "deletable": false,
    "nbgrader": {
     "cell_type": "code",
     "checksum": "7180f3715735027bae60a29a0d30301b",
     "grade": false,
     "grade_id": "cell-838d6276493d3905",
     "locked": false,
     "schema_version": 3,
     "solution": true,
     "task": false
    }
   },
   "outputs": [],
   "source": [
    "import sys\n",
    "\n",
    "# your code here\n",
    "raise NotImplementedError"
   ]
  },
  {
   "cell_type": "code",
   "execution_count": null,
   "metadata": {
    "deletable": false,
    "editable": false,
    "max_height": 100,
    "nbgrader": {
     "cell_type": "code",
     "checksum": "bba090b9277fe8965604e9fb650d4540",
     "grade": true,
     "grade_id": "cell-c3ad4c2c65a4e3d8",
     "locked": true,
     "points": 1,
     "schema_version": 3,
     "solution": false,
     "task": false
    }
   },
   "outputs": [],
   "source": [
    "from hashlib import sha1\n",
    "assert sha1(str(type(('pandas' in sys.modules))).encode(\"utf-8\")+b\"e8619b4ecec79288\").hexdigest() == \"cb83328ec5609cac452cad666231c6283c568f4d\", \"type of ('pandas' in sys.modules) is not bool. ('pandas' in sys.modules) should be a bool\"\n",
    "assert sha1(str(('pandas' in sys.modules)).encode(\"utf-8\")+b\"e8619b4ecec79288\").hexdigest() == \"2b48d874d0ee8861446ee02056205e045edb9a48\", \"boolean value of ('pandas' in sys.modules) is not correct\"\n",
    "\n",
    "assert sha1(str(type((pd.__name__ == 'pandas'))).encode(\"utf-8\")+b\"6e045c1c1a885ee5\").hexdigest() == \"99faad8d3ee963022f849f6989371e09cf2eaa89\", \"type of (pd.__name__ == 'pandas') is not bool. (pd.__name__ == 'pandas') should be a bool\"\n",
    "assert sha1(str((pd.__name__ == 'pandas')).encode(\"utf-8\")+b\"6e045c1c1a885ee5\").hexdigest() == \"4d046b6631f6e666e2c51a7174b11e4198db685e\", \"boolean value of (pd.__name__ == 'pandas') is not correct\"\n",
    "\n",
    "print('Success!')"
   ]
  },
  {
   "cell_type": "markdown",
   "metadata": {
    "deletable": false,
    "editable": false,
    "nbgrader": {
     "cell_type": "markdown",
     "checksum": "660e7554c9e2b493ae9740048d6cf5fa",
     "grade": false,
     "grade_id": "cell-f07021816baaf4e9",
     "locked": true,
     "schema_version": 3,
     "solution": false,
     "task": false
    }
   },
   "source": [
    "**Question 1.5** \n",
    "<br> {points: 1}\n",
    "\n",
    "With the proper package loaded, you can now read in the data.\n",
    "\n",
    "Assign your data to an object called `marathon_small`."
   ]
  },
  {
   "cell_type": "code",
   "execution_count": null,
   "metadata": {
    "deletable": false,
    "nbgrader": {
     "cell_type": "code",
     "checksum": "db66958cafc3c5806a1e6be606351850",
     "grade": false,
     "grade_id": "cell-17c78af48b04ffee",
     "locked": false,
     "schema_version": 3,
     "solution": true,
     "task": false
    }
   },
   "outputs": [],
   "source": [
    "# ___ = ___(\"marathon_small.csv\")\n",
    "\n",
    "# your code here\n",
    "raise NotImplementedError\n",
    "marathon_small"
   ]
  },
  {
   "cell_type": "code",
   "execution_count": null,
   "metadata": {
    "deletable": false,
    "editable": false,
    "max_height": 100,
    "nbgrader": {
     "cell_type": "code",
     "checksum": "ca363894032709fd9ca417b35cda17f0",
     "grade": true,
     "grade_id": "cell-26f74fc328e4b03c",
     "locked": true,
     "points": 1,
     "schema_version": 3,
     "solution": false,
     "task": false
    }
   },
   "outputs": [],
   "source": [
    "from hashlib import sha1\n",
    "assert sha1(str(type(marathon_small['sex'].dtype)).encode(\"utf-8\")+b\"28449d3422e04560\").hexdigest() == \"bcee4ed22c3bf621af07c2c81702fdcc6b28bd0d\", \"type of marathon_small['sex'].dtype is not correct\"\n",
    "assert sha1(str(marathon_small['sex'].dtype).encode(\"utf-8\")+b\"28449d3422e04560\").hexdigest() == \"ec38f09c072c899c61b95e4d2ff962587c12c765\", \"value of marathon_small['sex'].dtype is not correct\"\n",
    "\n",
    "assert sha1(str(type(marathon_small)).encode(\"utf-8\")+b\"a83158041076ec8b\").hexdigest() == \"fbe344438c58c5c3473bf9b7da96cdec5a23a177\", \"type of type(marathon_small) is not correct\"\n",
    "\n",
    "assert sha1(str(type(marathon_small.shape)).encode(\"utf-8\")+b\"196211d070b1239e\").hexdigest() == \"6d621257004b3398d9109e016585c3bca789d1f9\", \"type of marathon_small.shape is not tuple. marathon_small.shape should be a tuple\"\n",
    "assert sha1(str(len(marathon_small.shape)).encode(\"utf-8\")+b\"196211d070b1239e\").hexdigest() == \"686568f61454c7b54d868d9e5d1d8445ba33bb85\", \"length of marathon_small.shape is not correct\"\n",
    "assert sha1(str(sorted(map(str, marathon_small.shape))).encode(\"utf-8\")+b\"196211d070b1239e\").hexdigest() == \"b8487874329d3faa050ecbba7fcc2be9d83ed4be\", \"values of marathon_small.shape are not correct\"\n",
    "assert sha1(str(marathon_small.shape).encode(\"utf-8\")+b\"196211d070b1239e\").hexdigest() == \"197e708664d79be6c3d6671afdcb99ebaabf763a\", \"order of elements of marathon_small.shape is not correct\"\n",
    "\n",
    "assert sha1(str(type(sum(marathon_small.age))).encode(\"utf-8\")+b\"465b549211f1da85\").hexdigest() == \"beea916a83b8eaccf65a1f94754e3498de7eca5c\", \"type of sum(marathon_small.age) is not float. Please make sure it is float and not np.float64, etc. You can cast your value into a float using float()\"\n",
    "assert sha1(str(round(sum(marathon_small.age), 2)).encode(\"utf-8\")+b\"465b549211f1da85\").hexdigest() == \"3016bcdb059936e06b0d321bcfebd6488e7d92ab\", \"value of sum(marathon_small.age) is not correct (rounded to 2 decimal places)\"\n",
    "\n",
    "assert sha1(str(type(marathon_small.columns.values)).encode(\"utf-8\")+b\"4d6a99fa8c5c5af5\").hexdigest() == \"15ffa0228673ab33df6d7fdd4f0df9f1fb637f1f\", \"type of marathon_small.columns.values is not correct\"\n",
    "assert sha1(str(marathon_small.columns.values).encode(\"utf-8\")+b\"4d6a99fa8c5c5af5\").hexdigest() == \"514026d253c16f9a7f88d7b3040e30c3d111f37f\", \"value of marathon_small.columns.values is not correct\"\n",
    "\n",
    "print('Success!')"
   ]
  },
  {
   "cell_type": "markdown",
   "metadata": {
    "deletable": false,
    "editable": false,
    "nbgrader": {
     "cell_type": "markdown",
     "checksum": "185210383deb945b9c76325a1ce309dc",
     "grade": false,
     "grade_id": "cell-309bf5679eaa6182",
     "locked": true,
     "schema_version": 3,
     "solution": false,
     "task": false
    }
   },
   "source": [
    "**Question 1.6** \n",
    "<br> {points: 1}\n",
    "\n",
    "Use `[]` and index (`loc[]`) the data (`marathon_small`) such that information is only included from participants under the age of 35 and only contains the columns needed for the plot.\n",
    "\n",
    "*Hint: `bmi` is already given to you. What else do we want to plot?*\n",
    "\n",
    "*Name the result of filtering `marathon_age`, and name the result of selecting `marathon_select`*."
   ]
  },
  {
   "cell_type": "code",
   "execution_count": null,
   "metadata": {
    "deletable": false,
    "nbgrader": {
     "cell_type": "code",
     "checksum": "5db8891e5d861883ff602a3e1f2b4098",
     "grade": false,
     "grade_id": "cell-474c19a0560520ea",
     "locked": false,
     "schema_version": 3,
     "solution": true,
     "task": false
    }
   },
   "outputs": [],
   "source": [
    "# ___ = ___[marathon_small[\"___\"] < 35]\n",
    "# ___ = ___[:, ['bmi', ___]]\n",
    "\n",
    "# your code here\n",
    "raise NotImplementedError\n",
    "marathon_age\n",
    "marathon_select"
   ]
  },
  {
   "cell_type": "code",
   "execution_count": null,
   "metadata": {
    "deletable": false,
    "editable": false,
    "max_height": 100,
    "nbgrader": {
     "cell_type": "code",
     "checksum": "ce000c00b1ae246eaf7c7573d17bb3e9",
     "grade": true,
     "grade_id": "cell-7444e6f653cf5f8f",
     "locked": true,
     "points": 3,
     "schema_version": 3,
     "solution": false,
     "task": false
    }
   },
   "outputs": [],
   "source": [
    "from hashlib import sha1\n",
    "assert sha1(str(type(marathon_age.shape)).encode(\"utf-8\")+b\"2f0e62e70c77ff5b\").hexdigest() == \"2154bfb70ab0a4b38d9d508503e3090b6885b501\", \"type of marathon_age.shape is not tuple. marathon_age.shape should be a tuple\"\n",
    "assert sha1(str(len(marathon_age.shape)).encode(\"utf-8\")+b\"2f0e62e70c77ff5b\").hexdigest() == \"c6067e243993957e3cce5e79b8df74ea9143a736\", \"length of marathon_age.shape is not correct\"\n",
    "assert sha1(str(sorted(map(str, marathon_age.shape))).encode(\"utf-8\")+b\"2f0e62e70c77ff5b\").hexdigest() == \"78d2669f221d34679b9c053d9358036f0076ebb1\", \"values of marathon_age.shape are not correct\"\n",
    "assert sha1(str(marathon_age.shape).encode(\"utf-8\")+b\"2f0e62e70c77ff5b\").hexdigest() == \"85e4c68979cde4c2f73e16c2af7e1fd58bf6aa3b\", \"order of elements of marathon_age.shape is not correct\"\n",
    "\n",
    "assert sha1(str(type(marathon_select.shape)).encode(\"utf-8\")+b\"613b203ec07f0fe0\").hexdigest() == \"99a505f82ca93f050c64de968db2375800772f82\", \"type of marathon_select.shape is not tuple. marathon_select.shape should be a tuple\"\n",
    "assert sha1(str(len(marathon_select.shape)).encode(\"utf-8\")+b\"613b203ec07f0fe0\").hexdigest() == \"158edd7cb7998334a4bb9d3f0397035d3fe2d721\", \"length of marathon_select.shape is not correct\"\n",
    "assert sha1(str(sorted(map(str, marathon_select.shape))).encode(\"utf-8\")+b\"613b203ec07f0fe0\").hexdigest() == \"96c2d163580a81003dcb77c429e96518e4920cd5\", \"values of marathon_select.shape are not correct\"\n",
    "assert sha1(str(marathon_select.shape).encode(\"utf-8\")+b\"613b203ec07f0fe0\").hexdigest() == \"cb0708b3bda7d3ade1c4209da8c5619660940642\", \"order of elements of marathon_select.shape is not correct\"\n",
    "\n",
    "assert sha1(str(type(sum(marathon_select.bmi))).encode(\"utf-8\")+b\"f8e43ac7345e2ab5\").hexdigest() == \"9924244e34dc237a8dd24d9b116170aa5772da6f\", \"type of sum(marathon_select.bmi) is not float. Please make sure it is float and not np.float64, etc. You can cast your value into a float using float()\"\n",
    "assert sha1(str(round(sum(marathon_select.bmi), 2)).encode(\"utf-8\")+b\"f8e43ac7345e2ab5\").hexdigest() == \"123270c6f54df17e05eca2c64f8cfa3da1d1b612\", \"value of sum(marathon_select.bmi) is not correct (rounded to 2 decimal places)\"\n",
    "\n",
    "assert sha1(str(type(sum(marathon_select.km5_time_seconds.dropna()))).encode(\"utf-8\")+b\"1aa59f12c9c60744\").hexdigest() == \"c7403ca947870257ec016a98c9070c16a39e5dfe\", \"type of sum(marathon_select.km5_time_seconds.dropna()) is not float. Please make sure it is float and not np.float64, etc. You can cast your value into a float using float()\"\n",
    "assert sha1(str(round(sum(marathon_select.km5_time_seconds.dropna()), 2)).encode(\"utf-8\")+b\"1aa59f12c9c60744\").hexdigest() == \"05aa545d76c1c3d0156c1a129344e7effd61d06a\", \"value of sum(marathon_select.km5_time_seconds.dropna()) is not correct (rounded to 2 decimal places)\"\n",
    "\n",
    "print('Success!')"
   ]
  },
  {
   "cell_type": "markdown",
   "metadata": {
    "deletable": false,
    "editable": false,
    "nbgrader": {
     "cell_type": "markdown",
     "checksum": "2255573da373a738d3bbb8d80d6626cb",
     "grade": false,
     "grade_id": "cell-9c19923c2f7c7845",
     "locked": true,
     "schema_version": 3,
     "solution": false,
     "task": false
    }
   },
   "source": [
    "**Question 1.7** \n",
    "<br> {points: 1}\n",
    "\n",
    "Mutate the data frame (`marathon_select`) to create a new column called: `km5_time_minutes`. \n",
    "\n",
    "*Note: we will be selecting once again the specific columns we want to include in our data frame.*\n",
    "\n",
    "*Name the result after creating the new column `marathon_mutate`, and name the result after selecting the columns used for plotting `marathon_exact`.*"
   ]
  },
  {
   "cell_type": "code",
   "execution_count": null,
   "metadata": {
    "deletable": false,
    "nbgrader": {
     "cell_type": "code",
     "checksum": "1df37a54fdd9a5a83f879640f8c07c3a",
     "grade": false,
     "grade_id": "cell-0c50d6982c7c045e",
     "locked": false,
     "schema_version": 3,
     "solution": true,
     "task": false
    }
   },
   "outputs": [],
   "source": [
    "# ___ = marathon_select.assign(km5_time_minutes = ___ / ___)\n",
    "# ___ = ___[:, [___, 'km5_time_minutes']]\n",
    "\n",
    "\n",
    "# your code here\n",
    "raise NotImplementedError\n",
    "marathon_mutate\n",
    "marathon_exact"
   ]
  },
  {
   "cell_type": "code",
   "execution_count": null,
   "metadata": {
    "deletable": false,
    "editable": false,
    "max_height": 100,
    "nbgrader": {
     "cell_type": "code",
     "checksum": "332528fab1a27b0f360a5453bccec9f3",
     "grade": true,
     "grade_id": "cell-e83df5e97ab5015e",
     "locked": true,
     "points": 3,
     "schema_version": 3,
     "solution": false,
     "task": false
    }
   },
   "outputs": [],
   "source": [
    "from hashlib import sha1\n",
    "assert sha1(str(type(marathon_mutate.shape)).encode(\"utf-8\")+b\"96c72a94ed71ee1f\").hexdigest() == \"171163fe6810c618ec58148a457fa17fd8903f8a\", \"type of marathon_mutate.shape is not tuple. marathon_mutate.shape should be a tuple\"\n",
    "assert sha1(str(len(marathon_mutate.shape)).encode(\"utf-8\")+b\"96c72a94ed71ee1f\").hexdigest() == \"fcf07b323900b96dfd7c01fbc70f34c6bd9899c6\", \"length of marathon_mutate.shape is not correct\"\n",
    "assert sha1(str(sorted(map(str, marathon_mutate.shape))).encode(\"utf-8\")+b\"96c72a94ed71ee1f\").hexdigest() == \"fe06e265da8b61a14a4c6a6d78d854d6dbe5b019\", \"values of marathon_mutate.shape are not correct\"\n",
    "assert sha1(str(marathon_mutate.shape).encode(\"utf-8\")+b\"96c72a94ed71ee1f\").hexdigest() == \"cc1c2f02a666bef3154ba43bc19d39b21421b6ac\", \"order of elements of marathon_mutate.shape is not correct\"\n",
    "\n",
    "assert sha1(str(type(marathon_exact.shape)).encode(\"utf-8\")+b\"900d2af8cde65b2e\").hexdigest() == \"76694df9a0b59339a1c140b5d68a359747bb77c8\", \"type of marathon_exact.shape is not tuple. marathon_exact.shape should be a tuple\"\n",
    "assert sha1(str(len(marathon_exact.shape)).encode(\"utf-8\")+b\"900d2af8cde65b2e\").hexdigest() == \"45e13830f88b6341499e1420609fe5b26f0dc11b\", \"length of marathon_exact.shape is not correct\"\n",
    "assert sha1(str(sorted(map(str, marathon_exact.shape))).encode(\"utf-8\")+b\"900d2af8cde65b2e\").hexdigest() == \"3176fd86cb44cfb3fa2d591cba86f0731f59b42c\", \"values of marathon_exact.shape are not correct\"\n",
    "assert sha1(str(marathon_exact.shape).encode(\"utf-8\")+b\"900d2af8cde65b2e\").hexdigest() == \"c93a63b8ba441c93a9c278dc770ceebe013d31bd\", \"order of elements of marathon_exact.shape is not correct\"\n",
    "\n",
    "assert sha1(str(type(sum(marathon_exact.bmi))).encode(\"utf-8\")+b\"b8f88225c06b1fda\").hexdigest() == \"c8a5decf83c8ba24aadefd78477f75b232706e6f\", \"type of sum(marathon_exact.bmi) is not float. Please make sure it is float and not np.float64, etc. You can cast your value into a float using float()\"\n",
    "assert sha1(str(round(sum(marathon_exact.bmi), 2)).encode(\"utf-8\")+b\"b8f88225c06b1fda\").hexdigest() == \"73031ce684722c5d923fdfdd0667abbc85be325e\", \"value of sum(marathon_exact.bmi) is not correct (rounded to 2 decimal places)\"\n",
    "\n",
    "assert sha1(str(type(sum(marathon_exact.km5_time_minutes.dropna()))).encode(\"utf-8\")+b\"70a42c5c3cfb6139\").hexdigest() == \"12d368aee4107e090df98e1230c38d651f70777c\", \"type of sum(marathon_exact.km5_time_minutes.dropna()) is not float. Please make sure it is float and not np.float64, etc. You can cast your value into a float using float()\"\n",
    "assert sha1(str(round(sum(marathon_exact.km5_time_minutes.dropna()), 2)).encode(\"utf-8\")+b\"70a42c5c3cfb6139\").hexdigest() == \"d662440be3441b4db9177a81fd81ad075ee57af9\", \"value of sum(marathon_exact.km5_time_minutes.dropna()) is not correct (rounded to 2 decimal places)\"\n",
    "\n",
    "print('Success!')"
   ]
  },
  {
   "cell_type": "markdown",
   "metadata": {
    "deletable": false,
    "editable": false,
    "nbgrader": {
     "cell_type": "markdown",
     "checksum": "45b4086d75b9ec53d046e1290c206af9",
     "grade": false,
     "grade_id": "cell-7ef604f6aee436aa",
     "locked": true,
     "schema_version": 3,
     "solution": false,
     "task": false
    }
   },
   "source": [
    "**Question 1.8** \n",
    "<br> {points: 1}\n",
    "\n",
    "Lastly, generate a scatter plot. Assign your plot to an object called `marathon_plot`. \n",
    "\n",
    "Ensure that your axis labels are human-readable (do not leave them as default column names)."
   ]
  },
  {
   "cell_type": "code",
   "execution_count": null,
   "metadata": {
    "deletable": false,
    "editable": false,
    "nbgrader": {
     "cell_type": "code",
     "checksum": "91420fba064926f362bb8e1313985295",
     "grade": false,
     "grade_id": "cell-98c2d21b86fabddd",
     "locked": true,
     "schema_version": 3,
     "solution": false,
     "task": false
    }
   },
   "outputs": [],
   "source": [
    "# run this cell\n",
    "import altair as alt"
   ]
  },
  {
   "cell_type": "code",
   "execution_count": null,
   "metadata": {
    "deletable": false,
    "nbgrader": {
     "cell_type": "code",
     "checksum": "2ac66c986d7d8ab8e39bc4642ad15cb7",
     "grade": false,
     "grade_id": "cell-1bc204f786428323",
     "locked": false,
     "schema_version": 3,
     "solution": true,
     "task": false
    }
   },
   "outputs": [],
   "source": [
    "# ___ = (___(marathon_exact)\n",
    "#     .mark_point()\n",
    "#     .encode(\n",
    "#         x=alt.X(___, title=___),\n",
    "#         y=___(___),\n",
    "#     )\n",
    "# )\n",
    "\n",
    "\n",
    "# your code here\n",
    "raise NotImplementedError"
   ]
  },
  {
   "cell_type": "code",
   "execution_count": null,
   "metadata": {
    "deletable": false,
    "editable": false,
    "nbgrader": {
     "cell_type": "code",
     "checksum": "6ed072f52755777e83b2ae4f3457c6f8",
     "grade": false,
     "grade_id": "cell-1edddde57e580c7a",
     "locked": true,
     "schema_version": 3,
     "solution": false,
     "task": false
    }
   },
   "outputs": [],
   "source": [
    "# Run this cell to see what your scatterplot looks like!\n",
    "marathon_plot"
   ]
  },
  {
   "cell_type": "code",
   "execution_count": null,
   "metadata": {
    "deletable": false,
    "editable": false,
    "max_height": 100,
    "nbgrader": {
     "cell_type": "code",
     "checksum": "4ff07f0b7f8fdceb7d88b89c46219e9e",
     "grade": true,
     "grade_id": "cell-e21f341526c8d353",
     "locked": true,
     "points": 1,
     "schema_version": 3,
     "solution": false,
     "task": false
    }
   },
   "outputs": [],
   "source": [
    "from hashlib import sha1\n",
    "assert sha1(str(type(marathon_plot.encoding.x.shorthand)).encode(\"utf-8\")+b\"c84e43e4ca7826bc\").hexdigest() == \"566514a3bff941a4479e7164758e5420716371f0\", \"type of marathon_plot.encoding.x.shorthand is not correct\"\n",
    "assert sha1(str(marathon_plot.encoding.x.shorthand).encode(\"utf-8\")+b\"c84e43e4ca7826bc\").hexdigest() == \"6f93c08b8b7dd3049e5be2f63c3e66815122805b\", \"value of marathon_plot.encoding.x.shorthand is not correct\"\n",
    "\n",
    "assert sha1(str(type(marathon_plot.encoding.y.shorthand)).encode(\"utf-8\")+b\"2ff334ed8c6b8f50\").hexdigest() == \"f3583f347a51d99fee520054c59a9656b3ae6e9e\", \"type of marathon_plot.encoding.y.shorthand is not correct\"\n",
    "assert sha1(str(marathon_plot.encoding.y.shorthand).encode(\"utf-8\")+b\"2ff334ed8c6b8f50\").hexdigest() == \"9c45069d38f80c42e073a726b25beca3da85633d\", \"value of marathon_plot.encoding.y.shorthand is not correct\"\n",
    "\n",
    "assert sha1(str(type(marathon_plot.mark)).encode(\"utf-8\")+b\"a24d30ebc8c24532\").hexdigest() == \"ce01158345a0200e2c74b8dee039f67f1c7a8722\", \"type of marathon_plot.mark is not str. marathon_plot.mark should be an str\"\n",
    "assert sha1(str(len(marathon_plot.mark)).encode(\"utf-8\")+b\"a24d30ebc8c24532\").hexdigest() == \"e9738ace5cb9c2ffe9fdc16ee128b0ffd9040609\", \"length of marathon_plot.mark is not correct\"\n",
    "assert sha1(str(marathon_plot.mark.lower()).encode(\"utf-8\")+b\"a24d30ebc8c24532\").hexdigest() == \"a1d0ad417d359d90a32b6b579d6900fa53c12b4b\", \"value of marathon_plot.mark is not correct\"\n",
    "assert sha1(str(marathon_plot.mark).encode(\"utf-8\")+b\"a24d30ebc8c24532\").hexdigest() == \"a1d0ad417d359d90a32b6b579d6900fa53c12b4b\", \"correct string value of marathon_plot.mark but incorrect case of letters\"\n",
    "\n",
    "assert sha1(str(type(marathon_plot.encoding.x.title == 'bmi')).encode(\"utf-8\")+b\"cbfc496999f1d1de\").hexdigest() == \"9452e040cd941dc35c48de420647d86639426199\", \"type of marathon_plot.encoding.x.title == 'bmi' is not bool. marathon_plot.encoding.x.title == 'bmi' should be a bool\"\n",
    "assert sha1(str(marathon_plot.encoding.x.title == 'bmi').encode(\"utf-8\")+b\"cbfc496999f1d1de\").hexdigest() == \"7199e34cc5945efc8c6ba6b8da4c9617b303c0ea\", \"boolean value of marathon_plot.encoding.x.title == 'bmi' is not correct\"\n",
    "\n",
    "assert sha1(str(type(marathon_plot.encoding.y.title == 'km5_time_minutes')).encode(\"utf-8\")+b\"c28a40d332f9422e\").hexdigest() == \"ca7ebb235965ee7f81b24b4bfb34370f69dab616\", \"type of marathon_plot.encoding.y.title == 'km5_time_minutes' is not bool. marathon_plot.encoding.y.title == 'km5_time_minutes' should be a bool\"\n",
    "assert sha1(str(marathon_plot.encoding.y.title == 'km5_time_minutes').encode(\"utf-8\")+b\"c28a40d332f9422e\").hexdigest() == \"c1c2a34be73bde77d821d0d7cb6d2b921a3655c1\", \"boolean value of marathon_plot.encoding.y.title == 'km5_time_minutes' is not correct\"\n",
    "\n",
    "print('Success!')"
   ]
  },
  {
   "cell_type": "markdown",
   "metadata": {
    "deletable": false,
    "editable": false,
    "nbgrader": {
     "cell_type": "markdown",
     "checksum": "3ea0ecc68561e3fe5833aefa9123e956",
     "grade": false,
     "grade_id": "cell-20818b5fbae9c619",
     "locked": true,
     "schema_version": 3,
     "solution": false,
     "task": false
    }
   },
   "source": [
    "**Question 1.9** \n",
    "<br> {points: 3}\n",
    "\n",
    "Which option below **best** describes the plot above? \n",
    "\n",
    "A. For runners under the age of 35, there is no relationship at all between BMI and the time it takes to complete a 5 km race . \n",
    "\n",
    "B. For runners under 35, we see that as BMI increases the time it takes to complete a 5 km race increases. This suggests that there is a positive relationship between these two variables for runners under 35 in this data set. \n",
    "\n",
    "C. For runners under 35, we see that as BMI increases the time it takes to complete a 5 km decreases. This suggests that there is a negative relationship between these two variables for runners under 35 in this data set.\n",
    "\n",
    "*Assign your answer to an object called `answer1_9`. Make sure your answer is an uppercase letter and is surrounded by quotation marks (e.g. `\"F\"`).*"
   ]
  },
  {
   "cell_type": "code",
   "execution_count": null,
   "metadata": {
    "deletable": false,
    "nbgrader": {
     "cell_type": "code",
     "checksum": "3a087dbbbe9b5e05749f2c6f76af322a",
     "grade": false,
     "grade_id": "cell-ab822dfb6234345c",
     "locked": false,
     "schema_version": 3,
     "solution": true,
     "task": false
    }
   },
   "outputs": [],
   "source": [
    "# your code here\n",
    "raise NotImplementedError"
   ]
  },
  {
   "cell_type": "code",
   "execution_count": null,
   "metadata": {
    "deletable": false,
    "editable": false,
    "max_height": 100,
    "nbgrader": {
     "cell_type": "code",
     "checksum": "f1ab83beb86938bf1bdeea55f6cdde89",
     "grade": true,
     "grade_id": "cell-715eb5a0e4776d9b",
     "locked": true,
     "points": 3,
     "schema_version": 3,
     "solution": false,
     "task": false
    }
   },
   "outputs": [],
   "source": [
    "from hashlib import sha1\n",
    "assert sha1(str(type(answer1_9)).encode(\"utf-8\")+b\"1145b33910d5cfef\").hexdigest() == \"73b4f9283d378647fb7374b249c9d60ee21e7b4d\", \"type of answer1_9 is not str. answer1_9 should be an str\"\n",
    "assert sha1(str(len(answer1_9)).encode(\"utf-8\")+b\"1145b33910d5cfef\").hexdigest() == \"807a51e6c8aa417a0022494e069d9e630ec8f67e\", \"length of answer1_9 is not correct\"\n",
    "assert sha1(str(answer1_9.lower()).encode(\"utf-8\")+b\"1145b33910d5cfef\").hexdigest() == \"34a9341d70127fee19eab63b6d4456188e0e445f\", \"value of answer1_9 is not correct\"\n",
    "assert sha1(str(answer1_9).encode(\"utf-8\")+b\"1145b33910d5cfef\").hexdigest() == \"39793cf214b5d8dc11d7f66dd28b2dd2f603ed64\", \"correct string value of answer1_9 but incorrect case of letters\"\n",
    "\n",
    "print('Success!')"
   ]
  },
  {
   "cell_type": "markdown",
   "metadata": {
    "deletable": false,
    "editable": false,
    "nbgrader": {
     "cell_type": "markdown",
     "checksum": "2c69ecc59cfced2f9be01e353d788231",
     "grade": false,
     "grade_id": "cell-ce878ea67a15e6c7",
     "locked": true,
     "schema_version": 3,
     "solution": false,
     "task": false
    }
   },
   "source": [
    "**Question 1.10**\n",
    "<br> {points: 1}\n",
    "\n",
    "Now explore the relationship between the **age** of all runners and the time taken to complete the 5 km run (in minutes again). Using the original `marathon_small` data frame, mutate the `km5_time_seconds` column such that it is in minutes. Save the resulting data frame to an object called `marathon_small_mins`.\n",
    "\n",
    "Next, create a scatter plot (similar to the one in Question 1.9) but this time have `age` on the x-axis. Assign your plot to an object called `age_vs_time`.\n",
    "\n",
    "There is a lot missing from the cell below (no hints were given). Try working on it on your own before looking at earlier questions in this tutorial or worksheet_intro. \n",
    "\n",
    "*Don't forget to label your axes! Where appropriate, axes labels should also include units (for example, the axis that maps to the column `age` should have the unit \"years\").*"
   ]
  },
  {
   "cell_type": "code",
   "execution_count": null,
   "metadata": {
    "deletable": false,
    "nbgrader": {
     "cell_type": "code",
     "checksum": "3549f4f07edb87f7f59707a9dbfccd1f",
     "grade": false,
     "grade_id": "cell-bcd05254c65e0920",
     "locked": false,
     "schema_version": 3,
     "solution": true,
     "task": false
    }
   },
   "outputs": [],
   "source": [
    "# your code here\n",
    "raise NotImplementedError\n",
    "age_vs_time"
   ]
  },
  {
   "cell_type": "code",
   "execution_count": null,
   "metadata": {
    "deletable": false,
    "editable": false,
    "max_height": 100,
    "nbgrader": {
     "cell_type": "code",
     "checksum": "f2445dc9b04b8e5c2e54dff1b4741640",
     "grade": true,
     "grade_id": "cell-77293cad92ee1042",
     "locked": true,
     "points": 1,
     "schema_version": 3,
     "solution": false,
     "task": false
    }
   },
   "outputs": [],
   "source": [
    "from hashlib import sha1\n",
    "assert sha1(str(type(marathon_small_mins.columns.values)).encode(\"utf-8\")+b\"137a194bdb4036dd\").hexdigest() == \"53afbf426ebcf708a8d444a7ae2c80b1254c0fd4\", \"type of marathon_small_mins.columns.values is not correct\"\n",
    "assert sha1(str(marathon_small_mins.columns.values).encode(\"utf-8\")+b\"137a194bdb4036dd\").hexdigest() == \"562dc725926cb74cb223195f2be015059f849607\", \"value of marathon_small_mins.columns.values is not correct\"\n",
    "\n",
    "assert sha1(str(type(age_vs_time.encoding.x.field)).encode(\"utf-8\")+b\"b57b70006b286360\").hexdigest() == \"4b75a3e5f68b317f643a96ecd482de571ab034a4\", \"type of age_vs_time.encoding.x.field is not str. age_vs_time.encoding.x.field should be an str\"\n",
    "assert sha1(str(len(age_vs_time.encoding.x.field)).encode(\"utf-8\")+b\"b57b70006b286360\").hexdigest() == \"d01cf4a8101f076567ad2f989ab7dc06211abcc9\", \"length of age_vs_time.encoding.x.field is not correct\"\n",
    "assert sha1(str(age_vs_time.encoding.x.field.lower()).encode(\"utf-8\")+b\"b57b70006b286360\").hexdigest() == \"82ece29093645b917c6d2d0e8d2ab43c6ca9173b\", \"value of age_vs_time.encoding.x.field is not correct\"\n",
    "assert sha1(str(age_vs_time.encoding.x.field).encode(\"utf-8\")+b\"b57b70006b286360\").hexdigest() == \"82ece29093645b917c6d2d0e8d2ab43c6ca9173b\", \"correct string value of age_vs_time.encoding.x.field but incorrect case of letters\"\n",
    "\n",
    "assert sha1(str(type(age_vs_time.encoding.y.field)).encode(\"utf-8\")+b\"c5c03c1e6f6f2a12\").hexdigest() == \"794ac5f4dc01ba27eb465e3db1ebc4a65fa0c598\", \"type of age_vs_time.encoding.y.field is not str. age_vs_time.encoding.y.field should be an str\"\n",
    "assert sha1(str(len(age_vs_time.encoding.y.field)).encode(\"utf-8\")+b\"c5c03c1e6f6f2a12\").hexdigest() == \"59fcf370809b68e81bd8256346d4aaf63295abe4\", \"length of age_vs_time.encoding.y.field is not correct\"\n",
    "assert sha1(str(age_vs_time.encoding.y.field.lower()).encode(\"utf-8\")+b\"c5c03c1e6f6f2a12\").hexdigest() == \"90a12ea47145cc3e14fc6c2f08c4e032b60c5ef6\", \"value of age_vs_time.encoding.y.field is not correct\"\n",
    "assert sha1(str(age_vs_time.encoding.y.field).encode(\"utf-8\")+b\"c5c03c1e6f6f2a12\").hexdigest() == \"90a12ea47145cc3e14fc6c2f08c4e032b60c5ef6\", \"correct string value of age_vs_time.encoding.y.field but incorrect case of letters\"\n",
    "\n",
    "assert sha1(str(type(age_vs_time.mark)).encode(\"utf-8\")+b\"fa0a6009019b83d4\").hexdigest() == \"7c97f4ce5c0ab1413c825e63a8542766bb393481\", \"type of age_vs_time.mark is not str. age_vs_time.mark should be an str\"\n",
    "assert sha1(str(len(age_vs_time.mark)).encode(\"utf-8\")+b\"fa0a6009019b83d4\").hexdigest() == \"fd3fd03220f05f00b640b3daf0108828564ba44a\", \"length of age_vs_time.mark is not correct\"\n",
    "assert sha1(str(age_vs_time.mark.lower()).encode(\"utf-8\")+b\"fa0a6009019b83d4\").hexdigest() == \"88d92102b323b7b47ed0eb1d15c53be125ab48c5\", \"value of age_vs_time.mark is not correct\"\n",
    "assert sha1(str(age_vs_time.mark).encode(\"utf-8\")+b\"fa0a6009019b83d4\").hexdigest() == \"88d92102b323b7b47ed0eb1d15c53be125ab48c5\", \"correct string value of age_vs_time.mark but incorrect case of letters\"\n",
    "\n",
    "assert sha1(str(type(age_vs_time.encoding.x.title == 'age')).encode(\"utf-8\")+b\"4528e11dd9465b1e\").hexdigest() == \"93ede6a0db9327c20712b8f755bebed2af961490\", \"type of age_vs_time.encoding.x.title == 'age' is not bool. age_vs_time.encoding.x.title == 'age' should be a bool\"\n",
    "assert sha1(str(age_vs_time.encoding.x.title == 'age').encode(\"utf-8\")+b\"4528e11dd9465b1e\").hexdigest() == \"3e0bb25cb424aecfa95469491b54c20425b47685\", \"boolean value of age_vs_time.encoding.x.title == 'age' is not correct\"\n",
    "\n",
    "assert sha1(str(type(age_vs_time.encoding.y.title == 'km5_time_minutes')).encode(\"utf-8\")+b\"a86d1c1911f27c09\").hexdigest() == \"6c17de38bb9e9a5b8b451e5a2f40efe6ed623e75\", \"type of age_vs_time.encoding.y.title == 'km5_time_minutes' is not bool. age_vs_time.encoding.y.title == 'km5_time_minutes' should be a bool\"\n",
    "assert sha1(str(age_vs_time.encoding.y.title == 'km5_time_minutes').encode(\"utf-8\")+b\"a86d1c1911f27c09\").hexdigest() == \"2c5975a88272c64b9e113959a0cc6d069f705044\", \"boolean value of age_vs_time.encoding.y.title == 'km5_time_minutes' is not correct\"\n",
    "\n",
    "print('Success!')"
   ]
  },
  {
   "cell_type": "markdown",
   "metadata": {
    "deletable": false,
    "editable": false,
    "nbgrader": {
     "cell_type": "markdown",
     "checksum": "988cf65a79ce588571bbbce02d8606f3",
     "grade": false,
     "grade_id": "cell-d2ac41dfdda0cb45",
     "locked": true,
     "schema_version": 3,
     "solution": false,
     "task": false
    }
   },
   "source": [
    "**Question 1.11**\n",
    "<br> {points: 3}\n",
    "\n",
    "In the plot above, we can see a positive relationship between age and time taken to complete a 5 km run. Is this relationship strong (points are close together) or weak (points are more widely scattered)? \n",
    "\n",
    "Assign your answer (either `\"weak\"` or `\"strong\"`) to an object called `answer1_11`. Make sure to write in all lower-case and surround your answer with quotes."
   ]
  },
  {
   "cell_type": "code",
   "execution_count": null,
   "metadata": {
    "deletable": false,
    "nbgrader": {
     "cell_type": "code",
     "checksum": "a8a5d3c3c0848eba8c2b67561091b36a",
     "grade": false,
     "grade_id": "cell-52ccce61d3b206b3",
     "locked": false,
     "schema_version": 3,
     "solution": true,
     "task": false
    }
   },
   "outputs": [],
   "source": [
    "# your code here\n",
    "raise NotImplementedError"
   ]
  },
  {
   "cell_type": "code",
   "execution_count": null,
   "metadata": {
    "deletable": false,
    "editable": false,
    "max_height": 100,
    "nbgrader": {
     "cell_type": "code",
     "checksum": "f1563c0d32ff5af82aa34cb6a456e4ba",
     "grade": true,
     "grade_id": "cell-7e97cebf37601e6e",
     "locked": true,
     "points": 3,
     "schema_version": 3,
     "solution": false,
     "task": false
    }
   },
   "outputs": [],
   "source": [
    "from hashlib import sha1\n",
    "assert sha1(str(type(answer1_11)).encode(\"utf-8\")+b\"e8122b9bf4a0f926\").hexdigest() == \"a1d4969c1d48b277ab656afe8c9e6056d81cc521\", \"type of answer1_11 is not str. answer1_11 should be an str\"\n",
    "assert sha1(str(len(answer1_11)).encode(\"utf-8\")+b\"e8122b9bf4a0f926\").hexdigest() == \"2951fc88d0fa37bfd200a3be89d9cbff7945e01f\", \"length of answer1_11 is not correct\"\n",
    "assert sha1(str(answer1_11.lower()).encode(\"utf-8\")+b\"e8122b9bf4a0f926\").hexdigest() == \"2108f1e89f6c0292ef8c0ac7c62af675b932dd63\", \"value of answer1_11 is not correct\"\n",
    "assert sha1(str(answer1_11).encode(\"utf-8\")+b\"e8122b9bf4a0f926\").hexdigest() == \"2108f1e89f6c0292ef8c0ac7c62af675b932dd63\", \"correct string value of answer1_11 but incorrect case of letters\"\n",
    "\n",
    "print('Success!')"
   ]
  },
  {
   "cell_type": "markdown",
   "metadata": {
    "deletable": false,
    "editable": false,
    "nbgrader": {
     "cell_type": "markdown",
     "checksum": "6074d95e14dc2d1c2b44edb5daae2c41",
     "grade": false,
     "grade_id": "cell-06f94c611090c6cd",
     "locked": true,
     "schema_version": 3,
     "solution": false,
     "task": false
    }
   },
   "source": [
    "## 2. Bike-Sharing\n",
    "\n",
    "Climate change, and solutions to mitigate it, is currently on the tongues and minds of many people. One healthy and environmentally friendly transportation alternative that has been recently gaining popularity is bike-sharing. Apart from their extensive real-world applications in improving health and creating more climate-friendly transit, the data generated by these bike-sharing systems makes them great for research. In contrast to bus and subway transit systems, bike-share transit systems precisely document where a trip starts, where it ends, and how long it lasts, for each individual using the system. This level of individual traceability may allow for better detection of mobility patterns in cities and possible detection of important events.\n",
    "\n",
    "Today, we will be analyzing [data obtained from Capital Bikeshare](http://archive.ics.uci.edu/ml/datasets/Bike+Sharing+Dataset#), a bike-sharing system from Washington, DC. The temperature data (in units of degrees Celsius) has been normalized from the original range so that all values fall between 0 and 1 (a common data processing technique helpful for some machine/statistical learning tools). Our goal is to determine if there is a relationship between temperature and the number of people renting bikes during the Spring (March 20th - June 21st). "
   ]
  },
  {
   "cell_type": "markdown",
   "metadata": {
    "deletable": false,
    "editable": false,
    "nbgrader": {
     "cell_type": "markdown",
     "checksum": "e50bc82a2fbd0e51fb7df0bf39c2dc65",
     "grade": false,
     "grade_id": "cell-de815a806cde9546",
     "locked": true,
     "schema_version": 3,
     "solution": false
    }
   },
   "source": [
    "**Question 2.1** Multiple Choice\n",
    "<br> {points: 1}\n",
    "\n",
    "In comparison to bike-sharing systems, why aren't other modes of transportation as useful when it comes to acquiring data?\n",
    "\n",
    "A. Not as fast. \n",
    "\n",
    "B. Documentation isn't as precise. \n",
    "\n",
    "C. Not as environmentally friendly. \n",
    "\n",
    "D. Bus drivers don't cooperate. \n",
    "\n",
    "*Assign your answer to an object called: `answer2_1`. Make sure your answer is an uppercase letter and is surrounded by quotation marks (e.g. `\"F\"`).*"
   ]
  },
  {
   "cell_type": "code",
   "execution_count": null,
   "metadata": {
    "deletable": false,
    "nbgrader": {
     "cell_type": "code",
     "checksum": "a590b9fb7444359c0fc84e35b898dd5e",
     "grade": false,
     "grade_id": "cell-2cf1c56a2c4f28cb",
     "locked": false,
     "schema_version": 3,
     "solution": true
    }
   },
   "outputs": [],
   "source": [
    "# your code here\n",
    "raise NotImplementedError"
   ]
  },
  {
   "cell_type": "code",
   "execution_count": null,
   "metadata": {
    "deletable": false,
    "editable": false,
    "max_height": 100,
    "nbgrader": {
     "cell_type": "code",
     "checksum": "d802d5dd2c353b47d7276541595b7ba1",
     "grade": true,
     "grade_id": "cell-d06d98ba907d1977",
     "locked": true,
     "points": 3,
     "schema_version": 3,
     "solution": false
    }
   },
   "outputs": [],
   "source": [
    "from hashlib import sha1\n",
    "assert sha1(str(type(answer2_1)).encode(\"utf-8\")+b\"6f048a96adb15da1\").hexdigest() == \"b7c32e81d8538caa86866f557140447da5648db5\", \"type of answer2_1 is not str. answer2_1 should be an str\"\n",
    "assert sha1(str(len(answer2_1)).encode(\"utf-8\")+b\"6f048a96adb15da1\").hexdigest() == \"97efd86d5dfd3ad58d5e99876cad19d158eb672e\", \"length of answer2_1 is not correct\"\n",
    "assert sha1(str(answer2_1.lower()).encode(\"utf-8\")+b\"6f048a96adb15da1\").hexdigest() == \"073ae48c03cbe0b0ffe1c0f0933ced8b385af3ff\", \"value of answer2_1 is not correct\"\n",
    "assert sha1(str(answer2_1).encode(\"utf-8\")+b\"6f048a96adb15da1\").hexdigest() == \"f921e46c9f2a73f4608df1872a9e79f4100293c7\", \"correct string value of answer2_1 but incorrect case of letters\"\n",
    "\n",
    "print('Success!')"
   ]
  },
  {
   "cell_type": "markdown",
   "metadata": {
    "deletable": false,
    "editable": false,
    "nbgrader": {
     "cell_type": "markdown",
     "checksum": "ed53c84a4ba09bed9d034c7e6e638e2f",
     "grade": false,
     "grade_id": "cell-33dc10c33586506f",
     "locked": true,
     "schema_version": 3,
     "solution": false
    }
   },
   "source": [
    "**Question 2.2** Multiple Choice\n",
    "<br> {points: 1}\n",
    "\n",
    "What are the units for the normalized temperature?\n",
    "\n",
    "A. Kelvin\n",
    "\n",
    "B. Fahrenheit \n",
    "\n",
    "C. Celsius \n",
    "\n",
    "*Assign your answer to an object called: `answer2_2`. Make sure your answer is an uppercase letter and is surrounded by quotation marks (e.g. `\"F\"`).*"
   ]
  },
  {
   "cell_type": "code",
   "execution_count": null,
   "metadata": {
    "deletable": false,
    "nbgrader": {
     "cell_type": "code",
     "checksum": "ead72b5e2ec91cd2f2e7ddce9398528e",
     "grade": false,
     "grade_id": "cell-82289416080754b6",
     "locked": false,
     "schema_version": 3,
     "solution": true
    }
   },
   "outputs": [],
   "source": [
    "# your code here\n",
    "raise NotImplementedError"
   ]
  },
  {
   "cell_type": "code",
   "execution_count": null,
   "metadata": {
    "deletable": false,
    "editable": false,
    "max_height": 100,
    "nbgrader": {
     "cell_type": "code",
     "checksum": "f9416e590a0efef48b1eaf73a2f2cc08",
     "grade": true,
     "grade_id": "cell-ed10ec095b72acec",
     "locked": true,
     "points": 3,
     "schema_version": 3,
     "solution": false
    }
   },
   "outputs": [],
   "source": [
    "from hashlib import sha1\n",
    "assert sha1(str(type(answer2_2)).encode(\"utf-8\")+b\"227e2e1a88eb1f35\").hexdigest() == \"94eace23aa1c8425aea3d3abbb7ce549ea44a05e\", \"type of answer2_2 is not str. answer2_2 should be an str\"\n",
    "assert sha1(str(len(answer2_2)).encode(\"utf-8\")+b\"227e2e1a88eb1f35\").hexdigest() == \"59e6cab1ea16d6257fdbcf219dde69b7abf5c3dd\", \"length of answer2_2 is not correct\"\n",
    "assert sha1(str(answer2_2.lower()).encode(\"utf-8\")+b\"227e2e1a88eb1f35\").hexdigest() == \"0e6167a8a15284c21a848e979ae6ff956aaf74c6\", \"value of answer2_2 is not correct\"\n",
    "assert sha1(str(answer2_2).encode(\"utf-8\")+b\"227e2e1a88eb1f35\").hexdigest() == \"3389bcf8250ae26d974c5088b49b8d8fef19e167\", \"correct string value of answer2_2 but incorrect case of letters\"\n",
    "\n",
    "print('Success!')"
   ]
  },
  {
   "cell_type": "markdown",
   "metadata": {
    "deletable": false,
    "editable": false,
    "nbgrader": {
     "cell_type": "markdown",
     "checksum": "3eb4621591bcd6123f12db87afcf84bb",
     "grade": false,
     "grade_id": "cell-040c21f8f09b9a99",
     "locked": true,
     "schema_version": 3,
     "solution": false
    }
   },
   "source": [
    "**Question 2.3** \n",
    "<br> {points: 1}\n",
    "\n",
    "Since we already have `pandas` imported and ready to use, the first step is to read our new data. Add in the missing function and symbol to complete the cell below. Make sure to assign your answer to `bike_data`. "
   ]
  },
  {
   "cell_type": "code",
   "execution_count": null,
   "metadata": {
    "deletable": false,
    "nbgrader": {
     "cell_type": "code",
     "checksum": "8a728a6e46751647aa59176a6be5a356",
     "grade": false,
     "grade_id": "cell-725376dd29896d14",
     "locked": false,
     "schema_version": 3,
     "solution": true
    }
   },
   "outputs": [],
   "source": [
    "# ___ = ___(\"bike_share.csv\")\n",
    "\n",
    "# your code here\n",
    "raise NotImplementedError\n",
    "bike_data"
   ]
  },
  {
   "cell_type": "code",
   "execution_count": null,
   "metadata": {
    "deletable": false,
    "editable": false,
    "max_height": 100,
    "nbgrader": {
     "cell_type": "code",
     "checksum": "1d5f2c875da977120fff97803f6041d9",
     "grade": true,
     "grade_id": "cell-48666a8a98614042",
     "locked": true,
     "points": 1,
     "schema_version": 3,
     "solution": false
    }
   },
   "outputs": [],
   "source": [
    "from hashlib import sha1\n",
    "assert sha1(str(type(bike_data)).encode(\"utf-8\")+b\"70d9b3fb0e7c8377\").hexdigest() == \"88532a5f5b78153710e995aa5db38c9032ed7714\", \"type of type(bike_data) is not correct\"\n",
    "\n",
    "assert sha1(str(type(bike_data.shape)).encode(\"utf-8\")+b\"67f18695a35c520f\").hexdigest() == \"1bd91bd0876d694d84a1f6316c9f40206f94d11a\", \"type of bike_data.shape is not tuple. bike_data.shape should be a tuple\"\n",
    "assert sha1(str(len(bike_data.shape)).encode(\"utf-8\")+b\"67f18695a35c520f\").hexdigest() == \"132a5810587e6220bb6798a99dfaca2728bc28e2\", \"length of bike_data.shape is not correct\"\n",
    "assert sha1(str(sorted(map(str, bike_data.shape))).encode(\"utf-8\")+b\"67f18695a35c520f\").hexdigest() == \"d2eef83820c3f60ddad73900f90670848b012042\", \"values of bike_data.shape are not correct\"\n",
    "assert sha1(str(bike_data.shape).encode(\"utf-8\")+b\"67f18695a35c520f\").hexdigest() == \"7837ac24e36e1b75ecfffa24582fb205d5362316\", \"order of elements of bike_data.shape is not correct\"\n",
    "\n",
    "assert sha1(str(type(sum(bike_data.casual_users))).encode(\"utf-8\")+b\"ce74b3c53c78c5ca\").hexdigest() == \"e4027dbdf4aee422c43313344d42b3ba5527e10b\", \"type of sum(bike_data.casual_users) is not int. Please make sure it is int and not np.int64, etc. You can cast your value into an int using int()\"\n",
    "assert sha1(str(sum(bike_data.casual_users)).encode(\"utf-8\")+b\"ce74b3c53c78c5ca\").hexdigest() == \"b549525eb9c8d285aa9ed098502361973338a675\", \"value of sum(bike_data.casual_users) is not correct\"\n",
    "\n",
    "assert sha1(str(type(bike_data.columns.values)).encode(\"utf-8\")+b\"6062aa69b1c9a285\").hexdigest() == \"ce6ff42339139fc0d2fac56a70eb009e2a194bcd\", \"type of bike_data.columns.values is not correct\"\n",
    "assert sha1(str(bike_data.columns.values).encode(\"utf-8\")+b\"6062aa69b1c9a285\").hexdigest() == \"ef184cedcfc5a4a582066082d8af57a5ba5a7f6b\", \"value of bike_data.columns.values is not correct\"\n",
    "\n",
    "assert sha1(str(type(bike_data.season.dtype)).encode(\"utf-8\")+b\"f437fdb0c6cec86d\").hexdigest() == \"e148363546ee4533bdb2ee3a5090d8e1cf383765\", \"type of bike_data.season.dtype is not correct\"\n",
    "assert sha1(str(bike_data.season.dtype).encode(\"utf-8\")+b\"f437fdb0c6cec86d\").hexdigest() == \"54242e572c8f90ea72d33581bc6450f60203c35b\", \"value of bike_data.season.dtype is not correct\"\n",
    "\n",
    "print('Success!')"
   ]
  },
  {
   "cell_type": "markdown",
   "metadata": {
    "deletable": false,
    "editable": false,
    "nbgrader": {
     "cell_type": "markdown",
     "checksum": "8c0b5e1016e8da51e746583e9fe0c675",
     "grade": false,
     "grade_id": "cell-8c4775182d73800e",
     "locked": true,
     "schema_version": 3,
     "solution": false
    }
   },
   "source": [
    "**Question 2.4** \n",
    "<br> {points: 1}\n",
    "\n",
    "Mutate the data such that you have a new column called `total_users`. \n",
    "This column would be the sum of the `casual_users` and the `registered_users`. Assign your answer to an object called `bike_mutate`."
   ]
  },
  {
   "cell_type": "code",
   "execution_count": null,
   "metadata": {
    "deletable": false,
    "nbgrader": {
     "cell_type": "code",
     "checksum": "5471b0c9daf804d3e16ea760cb227665",
     "grade": false,
     "grade_id": "cell-9685158f545889b2",
     "locked": false,
     "schema_version": 3,
     "solution": true
    }
   },
   "outputs": [],
   "source": [
    "# ___ = bike_data.___(___)\n",
    "\n",
    "# your code here\n",
    "raise NotImplementedError\n",
    "bike_mutate"
   ]
  },
  {
   "cell_type": "code",
   "execution_count": null,
   "metadata": {
    "deletable": false,
    "editable": false,
    "max_height": 100,
    "nbgrader": {
     "cell_type": "code",
     "checksum": "50c84ab2530a5feee08058590799dab8",
     "grade": true,
     "grade_id": "cell-72591b6954d26444",
     "locked": true,
     "points": 3,
     "schema_version": 3,
     "solution": false
    }
   },
   "outputs": [],
   "source": [
    "from hashlib import sha1\n",
    "assert sha1(str(type(bike_mutate.shape)).encode(\"utf-8\")+b\"c6f5442a6dcf3fb0\").hexdigest() == \"2db244ac55a1c893ff8e4bd75c943d1e436145c4\", \"type of bike_mutate.shape is not tuple. bike_mutate.shape should be a tuple\"\n",
    "assert sha1(str(len(bike_mutate.shape)).encode(\"utf-8\")+b\"c6f5442a6dcf3fb0\").hexdigest() == \"55b4bc06a2fe655fbeede81b07a5f8ac5c43037b\", \"length of bike_mutate.shape is not correct\"\n",
    "assert sha1(str(sorted(map(str, bike_mutate.shape))).encode(\"utf-8\")+b\"c6f5442a6dcf3fb0\").hexdigest() == \"35970c51d66747b7c2cd38cc624c3dca150478cf\", \"values of bike_mutate.shape are not correct\"\n",
    "assert sha1(str(bike_mutate.shape).encode(\"utf-8\")+b\"c6f5442a6dcf3fb0\").hexdigest() == \"a60370c2727b83ce11d8fde185dfb9116bd50925\", \"order of elements of bike_mutate.shape is not correct\"\n",
    "\n",
    "assert sha1(str(type(sum(bike_mutate.total_users))).encode(\"utf-8\")+b\"e0b6422a5948f598\").hexdigest() == \"df2c1519d16841762c7ad504e9dcbf540eabcd96\", \"type of sum(bike_mutate.total_users) is not int. Please make sure it is int and not np.int64, etc. You can cast your value into an int using int()\"\n",
    "assert sha1(str(sum(bike_mutate.total_users)).encode(\"utf-8\")+b\"e0b6422a5948f598\").hexdigest() == \"7abf4f9e9128ca775434ca29ab37b248c267d895\", \"value of sum(bike_mutate.total_users) is not correct\"\n",
    "\n",
    "assert sha1(str(type(sum(bike_mutate.temperature.dropna()))).encode(\"utf-8\")+b\"2830ced9f89f2a69\").hexdigest() == \"eb0f400bbff28f7422ae50e86bc7a7093e0043bd\", \"type of sum(bike_mutate.temperature.dropna()) is not float. Please make sure it is float and not np.float64, etc. You can cast your value into a float using float()\"\n",
    "assert sha1(str(round(sum(bike_mutate.temperature.dropna()), 2)).encode(\"utf-8\")+b\"2830ced9f89f2a69\").hexdigest() == \"c00db2ce658f24d284bb7ccb7b676262deea4d44\", \"value of sum(bike_mutate.temperature.dropna()) is not correct (rounded to 2 decimal places)\"\n",
    "\n",
    "print('Success!')"
   ]
  },
  {
   "cell_type": "markdown",
   "metadata": {
    "deletable": false,
    "editable": false,
    "nbgrader": {
     "cell_type": "markdown",
     "checksum": "41f91855b301bbea1168c866af0b995d",
     "grade": false,
     "grade_id": "cell-b31394a784dbe759",
     "locked": true,
     "schema_version": 3,
     "solution": false
    }
   },
   "source": [
    "**Question 2.5** \n",
    "<br> {points: 1}\n",
    "\n",
    "Filter out the data to include information about rentals that were only made during `Spring`. Name your answer `bike_filter`. "
   ]
  },
  {
   "cell_type": "code",
   "execution_count": null,
   "metadata": {
    "deletable": false,
    "nbgrader": {
     "cell_type": "code",
     "checksum": "745c203423012178c069a943c5be1e69",
     "grade": false,
     "grade_id": "cell-cb6259eedeecf3e8",
     "locked": false,
     "schema_version": 3,
     "solution": true
    }
   },
   "outputs": [],
   "source": [
    "# ___ = bike_mutate[___[___] == \"Spring\"]\n",
    "\n",
    "# your code here\n",
    "raise NotImplementedError\n",
    "bike_filter"
   ]
  },
  {
   "cell_type": "code",
   "execution_count": null,
   "metadata": {
    "deletable": false,
    "editable": false,
    "lines_to_next_cell": 2,
    "max_height": 100,
    "nbgrader": {
     "cell_type": "code",
     "checksum": "5abc041b9d60a31f33b5668bf8e6d1ef",
     "grade": true,
     "grade_id": "cell-ae4372c768287348",
     "locked": true,
     "points": 3,
     "schema_version": 3,
     "solution": false
    }
   },
   "outputs": [],
   "source": [
    "from hashlib import sha1\n",
    "assert sha1(str(type(bike_filter.season.unique())).encode(\"utf-8\")+b\"fce9070536007db0\").hexdigest() == \"da054cca47a558b4759c60682088a53b7ebab6c7\", \"type of bike_filter.season.unique() is not correct\"\n",
    "assert sha1(str(bike_filter.season.unique()).encode(\"utf-8\")+b\"fce9070536007db0\").hexdigest() == \"ff16dff822604de67577844c94739f38cac3014d\", \"value of bike_filter.season.unique() is not correct\"\n",
    "\n",
    "assert sha1(str(type(bike_filter.shape)).encode(\"utf-8\")+b\"7d820a58a32009ef\").hexdigest() == \"acf82a6a20fe607753a58e7ede5ad9bcc1209a2e\", \"type of bike_filter.shape is not tuple. bike_filter.shape should be a tuple\"\n",
    "assert sha1(str(len(bike_filter.shape)).encode(\"utf-8\")+b\"7d820a58a32009ef\").hexdigest() == \"323278b74e680f99d7b00a2d2aee6164f7ff8880\", \"length of bike_filter.shape is not correct\"\n",
    "assert sha1(str(sorted(map(str, bike_filter.shape))).encode(\"utf-8\")+b\"7d820a58a32009ef\").hexdigest() == \"501eb6231119b4865af98457136793b74156efc2\", \"values of bike_filter.shape are not correct\"\n",
    "assert sha1(str(bike_filter.shape).encode(\"utf-8\")+b\"7d820a58a32009ef\").hexdigest() == \"a66f425c044a929cf04c29de3b9f24198f6ebfc5\", \"order of elements of bike_filter.shape is not correct\"\n",
    "\n",
    "assert sha1(str(type(sum(bike_filter.total_users))).encode(\"utf-8\")+b\"0bc08fc9c943d8c0\").hexdigest() == \"9a886517f6a8cd01b669bcd6165e8eb91a21ca08\", \"type of sum(bike_filter.total_users) is not int. Please make sure it is int and not np.int64, etc. You can cast your value into an int using int()\"\n",
    "assert sha1(str(sum(bike_filter.total_users)).encode(\"utf-8\")+b\"0bc08fc9c943d8c0\").hexdigest() == \"dcaa5f900b5995978d1dd9934a7b711d3520a096\", \"value of sum(bike_filter.total_users) is not correct\"\n",
    "\n",
    "assert sha1(str(type(sum(bike_filter.temperature.dropna()))).encode(\"utf-8\")+b\"1ec7903440aa402e\").hexdigest() == \"23081cbcd5c70089dc161742357240929c39cd6c\", \"type of sum(bike_filter.temperature.dropna()) is not float. Please make sure it is float and not np.float64, etc. You can cast your value into a float using float()\"\n",
    "assert sha1(str(round(sum(bike_filter.temperature.dropna()), 2)).encode(\"utf-8\")+b\"1ec7903440aa402e\").hexdigest() == \"087ecdcae51d0d8b489c6586f6649989f6cacf07\", \"value of sum(bike_filter.temperature.dropna()) is not correct (rounded to 2 decimal places)\"\n",
    "\n",
    "print('Success!')"
   ]
  },
  {
   "cell_type": "markdown",
   "metadata": {
    "deletable": false,
    "editable": false,
    "nbgrader": {
     "cell_type": "markdown",
     "checksum": "b8766e17fd912ac6143d0874e806ef1c",
     "grade": false,
     "grade_id": "cell-f6bdff9fe357f6d6",
     "locked": true,
     "schema_version": 3,
     "solution": false
    }
   },
   "source": [
    "**Question 2.6** \n",
    "<br> {points: 3}\n",
    "\n",
    "Select the columns from the data that we wish to plot. Name your answer `bike_select`.\n",
    "\n",
    "*Hint: if you have forgetten, scroll up and re-read the introduction to this exercise.* "
   ]
  },
  {
   "cell_type": "code",
   "execution_count": null,
   "metadata": {
    "deletable": false,
    "nbgrader": {
     "cell_type": "code",
     "checksum": "fcb8a81098602435b25b2043f429a33e",
     "grade": false,
     "grade_id": "cell-d6bf8ba0fdbf99e1",
     "locked": false,
     "schema_version": 3,
     "solution": true
    }
   },
   "outputs": [],
   "source": [
    "# ___ = ___.loc[:,[___,___]]\n",
    "\n",
    "# your code here\n",
    "raise NotImplementedError\n",
    "bike_select"
   ]
  },
  {
   "cell_type": "code",
   "execution_count": null,
   "metadata": {
    "deletable": false,
    "editable": false,
    "max_height": 100,
    "nbgrader": {
     "cell_type": "code",
     "checksum": "18bba68ff6080e197db3eb7098a32203",
     "grade": true,
     "grade_id": "cell-ea4089cd0490790f",
     "locked": true,
     "points": 3,
     "schema_version": 3,
     "solution": false
    }
   },
   "outputs": [],
   "source": [
    "from hashlib import sha1\n",
    "assert sha1(str(type(bike_select.shape)).encode(\"utf-8\")+b\"37508fe7b66c405e\").hexdigest() == \"02c1a5520ee777176196e0a0fae4924c71d370b3\", \"type of bike_select.shape is not tuple. bike_select.shape should be a tuple\"\n",
    "assert sha1(str(len(bike_select.shape)).encode(\"utf-8\")+b\"37508fe7b66c405e\").hexdigest() == \"ece79d0395441fc4f47dfcfa16113fd5b2233573\", \"length of bike_select.shape is not correct\"\n",
    "assert sha1(str(sorted(map(str, bike_select.shape))).encode(\"utf-8\")+b\"37508fe7b66c405e\").hexdigest() == \"24b72e53a3b5ecd12ca7a48186aebc45a296557a\", \"values of bike_select.shape are not correct\"\n",
    "assert sha1(str(bike_select.shape).encode(\"utf-8\")+b\"37508fe7b66c405e\").hexdigest() == \"6f28f794d0a1d7c6daeae8b82d7f2e4230844ae3\", \"order of elements of bike_select.shape is not correct\"\n",
    "\n",
    "assert sha1(str(type(sum(bike_select.total_users))).encode(\"utf-8\")+b\"fee34f7453aca04c\").hexdigest() == \"84ad6066e8de3793829c0771c6338928befb5f14\", \"type of sum(bike_select.total_users) is not int. Please make sure it is int and not np.int64, etc. You can cast your value into an int using int()\"\n",
    "assert sha1(str(sum(bike_select.total_users)).encode(\"utf-8\")+b\"fee34f7453aca04c\").hexdigest() == \"581ecf57866d057bc9d3b4227f4e7511bb45411a\", \"value of sum(bike_select.total_users) is not correct\"\n",
    "\n",
    "assert sha1(str(type(sum(bike_select.temperature.dropna()))).encode(\"utf-8\")+b\"96a166e16e1bac55\").hexdigest() == \"f34b62b7802f578984314f460113c41b1ae2820e\", \"type of sum(bike_select.temperature.dropna()) is not float. Please make sure it is float and not np.float64, etc. You can cast your value into a float using float()\"\n",
    "assert sha1(str(round(sum(bike_select.temperature.dropna()), 2)).encode(\"utf-8\")+b\"96a166e16e1bac55\").hexdigest() == \"ad3a6e9ff68cbaa8d30feff1e30981c619b2bc98\", \"value of sum(bike_select.temperature.dropna()) is not correct (rounded to 2 decimal places)\"\n",
    "\n",
    "print('Success!')"
   ]
  },
  {
   "cell_type": "markdown",
   "metadata": {
    "deletable": false,
    "editable": false,
    "nbgrader": {
     "cell_type": "markdown",
     "checksum": "26a3b6651a0277b19d3cadb212d9231b",
     "grade": false,
     "grade_id": "cell-d998752e81ad7842",
     "locked": true,
     "schema_version": 3,
     "solution": false
    }
   },
   "source": [
    "**Question 2.7** \n",
    "<br> {points: 3}\n",
    "\n",
    "Plot the data as a scatter plot. \n",
    "\n",
    "There is a lot missing from the cell below (no hints were given). Try completing this on your own before looking back at any previous exercises. Assign your plot to an object called `bike_plot_spring`.\n",
    "\n",
    "*Hint: what do you think should be the x-axis / y-axis? Don't forget to label your axes! Where appropriate, axes labels should also include units (for example, the axis mapped to the `temperature` column should have the units \"normalized degrees Celsius\").*"
   ]
  },
  {
   "cell_type": "code",
   "execution_count": null,
   "metadata": {
    "deletable": false,
    "nbgrader": {
     "cell_type": "code",
     "checksum": "89be1a3bb77dfdcd71364425d5c8e75a",
     "grade": false,
     "grade_id": "cell-d96ff44fe30428be",
     "locked": false,
     "schema_version": 3,
     "solution": true,
     "task": false
    }
   },
   "outputs": [],
   "source": [
    "# your code here\n",
    "raise NotImplementedError\n",
    "bike_plot_spring"
   ]
  },
  {
   "cell_type": "code",
   "execution_count": null,
   "metadata": {
    "deletable": false,
    "editable": false,
    "max_height": 100,
    "nbgrader": {
     "cell_type": "code",
     "checksum": "22e48b9851706804d8f235df58e900ca",
     "grade": true,
     "grade_id": "cell-15aff75b717f53ee",
     "locked": true,
     "points": 3,
     "schema_version": 3,
     "solution": false
    }
   },
   "outputs": [],
   "source": [
    "from hashlib import sha1\n",
    "assert sha1(str(type(bike_plot_spring.encoding.x.field)).encode(\"utf-8\")+b\"415ebcaa487cc309\").hexdigest() == \"585915a24a0796608fcb559bd20f29c8eb7e11b0\", \"type of bike_plot_spring.encoding.x.field is not str. bike_plot_spring.encoding.x.field should be an str\"\n",
    "assert sha1(str(len(bike_plot_spring.encoding.x.field)).encode(\"utf-8\")+b\"415ebcaa487cc309\").hexdigest() == \"48e5a11c9c1cf7e7b7a374ab0a16db1056e342b0\", \"length of bike_plot_spring.encoding.x.field is not correct\"\n",
    "assert sha1(str(bike_plot_spring.encoding.x.field.lower()).encode(\"utf-8\")+b\"415ebcaa487cc309\").hexdigest() == \"395b8f5ba77e995ba6291077f71dfb403010a8dc\", \"value of bike_plot_spring.encoding.x.field is not correct\"\n",
    "assert sha1(str(bike_plot_spring.encoding.x.field).encode(\"utf-8\")+b\"415ebcaa487cc309\").hexdigest() == \"395b8f5ba77e995ba6291077f71dfb403010a8dc\", \"correct string value of bike_plot_spring.encoding.x.field but incorrect case of letters\"\n",
    "\n",
    "assert sha1(str(type(bike_plot_spring.encoding.y.field)).encode(\"utf-8\")+b\"1108668d7196011c\").hexdigest() == \"8595a606e7423901063353230aa38f2e157f852c\", \"type of bike_plot_spring.encoding.y.field is not str. bike_plot_spring.encoding.y.field should be an str\"\n",
    "assert sha1(str(len(bike_plot_spring.encoding.y.field)).encode(\"utf-8\")+b\"1108668d7196011c\").hexdigest() == \"f388e3567bca1ef80a4d2b03e1a295ab3f759ed9\", \"length of bike_plot_spring.encoding.y.field is not correct\"\n",
    "assert sha1(str(bike_plot_spring.encoding.y.field.lower()).encode(\"utf-8\")+b\"1108668d7196011c\").hexdigest() == \"bc1d5414da0c78f44862597b83e6d36f852e2815\", \"value of bike_plot_spring.encoding.y.field is not correct\"\n",
    "assert sha1(str(bike_plot_spring.encoding.y.field).encode(\"utf-8\")+b\"1108668d7196011c\").hexdigest() == \"bc1d5414da0c78f44862597b83e6d36f852e2815\", \"correct string value of bike_plot_spring.encoding.y.field but incorrect case of letters\"\n",
    "\n",
    "assert sha1(str(type(bike_plot_spring.mark)).encode(\"utf-8\")+b\"765a8b0ea2e8b62f\").hexdigest() == \"5aebfb6b4150e2be740a184e8c439ba4be087ccf\", \"type of bike_plot_spring.mark is not str. bike_plot_spring.mark should be an str\"\n",
    "assert sha1(str(len(bike_plot_spring.mark)).encode(\"utf-8\")+b\"765a8b0ea2e8b62f\").hexdigest() == \"7749d89e86f4fdeb0f1589c57df033afe38c9188\", \"length of bike_plot_spring.mark is not correct\"\n",
    "assert sha1(str(bike_plot_spring.mark.lower()).encode(\"utf-8\")+b\"765a8b0ea2e8b62f\").hexdigest() == \"6cd66a6778cae23d19641a2c1df69f75cb029b41\", \"value of bike_plot_spring.mark is not correct\"\n",
    "assert sha1(str(bike_plot_spring.mark).encode(\"utf-8\")+b\"765a8b0ea2e8b62f\").hexdigest() == \"6cd66a6778cae23d19641a2c1df69f75cb029b41\", \"correct string value of bike_plot_spring.mark but incorrect case of letters\"\n",
    "\n",
    "assert sha1(str(type(bike_plot_spring.encoding.x.title != 'temperature')).encode(\"utf-8\")+b\"ce0de5c80bc69202\").hexdigest() == \"714c302945734726834c55f347172bcd57853591\", \"type of bike_plot_spring.encoding.x.title != 'temperature' is not bool. bike_plot_spring.encoding.x.title != 'temperature' should be a bool\"\n",
    "assert sha1(str(bike_plot_spring.encoding.x.title != 'temperature').encode(\"utf-8\")+b\"ce0de5c80bc69202\").hexdigest() == \"f10bea81544ded2a29386b574be27fbcb9565319\", \"boolean value of bike_plot_spring.encoding.x.title != 'temperature' is not correct\"\n",
    "\n",
    "assert sha1(str(type(bike_plot_spring.encoding.y.title != 'total_users')).encode(\"utf-8\")+b\"74f27b0ef7737015\").hexdigest() == \"fb26e0ff89fe7db383892f814fe74b80cbae3569\", \"type of bike_plot_spring.encoding.y.title != 'total_users' is not bool. bike_plot_spring.encoding.y.title != 'total_users' should be a bool\"\n",
    "assert sha1(str(bike_plot_spring.encoding.y.title != 'total_users').encode(\"utf-8\")+b\"74f27b0ef7737015\").hexdigest() == \"6e8fd1eb62b73ce2b0355b98e530e56b0584dce0\", \"boolean value of bike_plot_spring.encoding.y.title != 'total_users' is not correct\"\n",
    "\n",
    "print('Success!')"
   ]
  },
  {
   "cell_type": "markdown",
   "metadata": {
    "deletable": false,
    "editable": false,
    "nbgrader": {
     "cell_type": "markdown",
     "checksum": "257eec6cd355979db3090f0729bed461",
     "grade": false,
     "grade_id": "cell-d9337eb068332ba1",
     "locked": true,
     "schema_version": 3,
     "solution": false
    }
   },
   "source": [
    "**Question 2.8** \n",
    "<br> {points: 3}\n",
    "\n",
    "In 1-2 sentences, describe whether there is a relationship between the variables observed in the scatterplot of the data for the spring season. Comment on the direction and the strength of the relationship (if there is one), and how the variables change with respect to each other (if they do)."
   ]
  },
  {
   "cell_type": "markdown",
   "metadata": {
    "deletable": false,
    "max_height": 100,
    "nbgrader": {
     "cell_type": "markdown",
     "checksum": "463cd8c689356fd414f2ff297441236d",
     "grade": true,
     "grade_id": "cell-b82402894d84e002",
     "locked": false,
     "points": 3,
     "schema_version": 3,
     "solution": true
    }
   },
   "source": [
    "DOUBLE CLICK TO EDIT **THIS CELL** AND REPLACE THIS TEXT WITH YOUR ANSWER."
   ]
  },
  {
   "cell_type": "markdown",
   "metadata": {
    "deletable": false,
    "editable": false,
    "nbgrader": {
     "cell_type": "markdown",
     "checksum": "52d3ca5bcd0e348edddfe6d9b553207c",
     "grade": false,
     "grade_id": "cell-496c01803b66e800",
     "locked": true,
     "schema_version": 3,
     "solution": false,
     "task": false
    }
   },
   "source": [
    "## 3. Bike-Sharing Continued\n",
    "\n",
    "For this exercise, we are going to continue working with Capital Bikeshare dataset. This part of the tutorial will focus on your understanding of how the functions work and test your ability to write code without hints. Note that we have also intentionally decreased the number of auto-graded questions for the remainder of the tutorial.\n",
    "\n",
    "Unlike the previous exercise, we now want to determine if there is a relationship between temperature and the amount of people renting bikes during Fall (September 22nd - December 21st).  \n",
    "\n",
    "*Try completing this Exercise from start to finish without any outside help. If you are struggling with a particular question, look at Exercise 2 for assistance.*"
   ]
  },
  {
   "cell_type": "markdown",
   "metadata": {
    "deletable": false,
    "editable": false,
    "nbgrader": {
     "cell_type": "markdown",
     "checksum": "e2d107e0d366dd3894e1060132c2cab0",
     "grade": false,
     "grade_id": "cell-7eda544cbea0bea4",
     "locked": true,
     "schema_version": 3,
     "solution": false
    }
   },
   "source": [
    "**Question 3.1** Multiple Choice\n",
    "<br> {points: 1}\n",
    "\n",
    "Which column is going to be filtered during this exercise?\n",
    "\n",
    "A. `casual_users`\n",
    "\n",
    "B. `season`\n",
    "\n",
    "C. `temperature`\n",
    "\n",
    "D. `total_users`\n",
    "\n",
    "*Assign your answer to an object called `answer3_1`. Make sure your answer is an uppercase letter and is surrounded by quotation marks (e.g. `\"F\"`).*"
   ]
  },
  {
   "cell_type": "code",
   "execution_count": null,
   "metadata": {
    "deletable": false,
    "nbgrader": {
     "cell_type": "code",
     "checksum": "021bb6ee8985542699e965c93176a11b",
     "grade": false,
     "grade_id": "cell-27f3db6e4f543f8b",
     "locked": false,
     "schema_version": 3,
     "solution": true
    }
   },
   "outputs": [],
   "source": [
    "# your code here\n",
    "raise NotImplementedError"
   ]
  },
  {
   "cell_type": "code",
   "execution_count": null,
   "metadata": {
    "deletable": false,
    "editable": false,
    "lines_to_next_cell": 2,
    "max_height": 100,
    "nbgrader": {
     "cell_type": "code",
     "checksum": "3ec5863c8bcbfba8b73dd55adbb8646e",
     "grade": true,
     "grade_id": "cell-df34058ddcf40d34",
     "locked": true,
     "points": 3,
     "schema_version": 3,
     "solution": false
    }
   },
   "outputs": [],
   "source": [
    "from hashlib import sha1\n",
    "assert sha1(str(type(answer3_1)).encode(\"utf-8\")+b\"5290de99d2ca1c8f\").hexdigest() == \"347ef3ba97a2b2b6fb2ab1a8d6d247d050c2b6a8\", \"type of answer3_1 is not str. answer3_1 should be an str\"\n",
    "assert sha1(str(len(answer3_1)).encode(\"utf-8\")+b\"5290de99d2ca1c8f\").hexdigest() == \"99634b8f09f6807b18ac25bfda0811de49cdec90\", \"length of answer3_1 is not correct\"\n",
    "assert sha1(str(answer3_1.lower()).encode(\"utf-8\")+b\"5290de99d2ca1c8f\").hexdigest() == \"9d7215332033d039ede4ee13853d505fe4784179\", \"value of answer3_1 is not correct\"\n",
    "assert sha1(str(answer3_1).encode(\"utf-8\")+b\"5290de99d2ca1c8f\").hexdigest() == \"2529e5e03de1124dabfe3f870279fdd1da830aae\", \"correct string value of answer3_1 but incorrect case of letters\"\n",
    "\n",
    "print('Success!')"
   ]
  },
  {
   "cell_type": "markdown",
   "metadata": {
    "deletable": false,
    "editable": false,
    "nbgrader": {
     "cell_type": "markdown",
     "checksum": "1f0a053044a8db496840859c3a21ff67",
     "grade": false,
     "grade_id": "cell-ead9fd93f7cc5803",
     "locked": true,
     "schema_version": 3,
     "solution": false
    }
   },
   "source": [
    "**Question 3.2** \n",
    "<br> {points: 3}\n",
    "\n",
    "Recall that the `pandas` package has loaded and the data has already been read. The next step is to mutate the data such that we have information on all the users. Make sure to save your answer to an object called `bike_mutated`, and make sure to create a column called `total_users`."
   ]
  },
  {
   "cell_type": "code",
   "execution_count": null,
   "metadata": {
    "deletable": false,
    "nbgrader": {
     "cell_type": "code",
     "checksum": "6e4bdb560faad2f111c5ca27c42bc692",
     "grade": false,
     "grade_id": "cell-39303850daf03030",
     "locked": false,
     "schema_version": 3,
     "solution": true,
     "task": false
    }
   },
   "outputs": [],
   "source": [
    "# your code here\n",
    "raise NotImplementedError\n",
    "bike_mutated"
   ]
  },
  {
   "cell_type": "code",
   "execution_count": null,
   "metadata": {
    "deletable": false,
    "editable": false,
    "max_height": 100,
    "nbgrader": {
     "cell_type": "code",
     "checksum": "7555e5e0bbd53b28f938bc60b20e8c46",
     "grade": true,
     "grade_id": "cell-d078f12a02af4811",
     "locked": true,
     "points": 3,
     "schema_version": 3,
     "solution": false,
     "task": false
    }
   },
   "outputs": [],
   "source": [
    "from hashlib import sha1\n",
    "assert sha1(str(type((\"total_users\" in bike_mutated.columns))).encode(\"utf-8\")+b\"73c47945a5e4454b\").hexdigest() == \"c202497b0e111a4c068e98702278b85bbd83b18e\", \"type of (\\\"total_users\\\" in bike_mutated.columns) is not bool. (\\\"total_users\\\" in bike_mutated.columns) should be a bool\"\n",
    "assert sha1(str((\"total_users\" in bike_mutated.columns)).encode(\"utf-8\")+b\"73c47945a5e4454b\").hexdigest() == \"1e36b03a79a9deb6dad6dba930dac743edab113c\", \"boolean value of (\\\"total_users\\\" in bike_mutated.columns) is not correct\"\n",
    "\n",
    "assert sha1(str(type(bike_mutated.shape)).encode(\"utf-8\")+b\"5b47897ef3601abe\").hexdigest() == \"4bb83883a0d23e61feb393c494bf4df94c105dc7\", \"type of bike_mutated.shape is not tuple. bike_mutated.shape should be a tuple\"\n",
    "assert sha1(str(len(bike_mutated.shape)).encode(\"utf-8\")+b\"5b47897ef3601abe\").hexdigest() == \"e2db917dc05916723716731048bdc5f3a3b73215\", \"length of bike_mutated.shape is not correct\"\n",
    "assert sha1(str(sorted(map(str, bike_mutated.shape))).encode(\"utf-8\")+b\"5b47897ef3601abe\").hexdigest() == \"326dc91202bae00a24a07785e43b3cb9d051f364\", \"values of bike_mutated.shape are not correct\"\n",
    "assert sha1(str(bike_mutated.shape).encode(\"utf-8\")+b\"5b47897ef3601abe\").hexdigest() == \"b02b0f52048d2d3a125e44f39eaae115c3876406\", \"order of elements of bike_mutated.shape is not correct\"\n",
    "\n",
    "assert sha1(str(type(bike_mutated.columns)).encode(\"utf-8\")+b\"c278d67d23448013\").hexdigest() == \"199344814c8ec4d47d5863a856de150dfb9f98da\", \"type of bike_mutated.columns is not correct\"\n",
    "assert sha1(str(bike_mutated.columns).encode(\"utf-8\")+b\"c278d67d23448013\").hexdigest() == \"865878aadf4f6e50a825a578bd98bbe91761a3bb\", \"value of bike_mutated.columns is not correct\"\n",
    "\n",
    "assert sha1(str(type(sum(bike_mutated.total_users))).encode(\"utf-8\")+b\"54936e02b7bbabce\").hexdigest() == \"d6c568de99a3e585702c7f9a5274b34db2d83a99\", \"type of sum(bike_mutated.total_users) is not int. Please make sure it is int and not np.int64, etc. You can cast your value into an int using int()\"\n",
    "assert sha1(str(sum(bike_mutated.total_users)).encode(\"utf-8\")+b\"54936e02b7bbabce\").hexdigest() == \"b76e73f2cc20e27c91c2ed55477ed0f606231f22\", \"value of sum(bike_mutated.total_users) is not correct\"\n",
    "\n",
    "print('Success!')"
   ]
  },
  {
   "cell_type": "markdown",
   "metadata": {
    "deletable": false,
    "editable": false,
    "nbgrader": {
     "cell_type": "markdown",
     "checksum": "e81a0941d98e77f17103ad7600db9d5b",
     "grade": false,
     "grade_id": "cell-67669610134de359",
     "locked": true,
     "schema_version": 3,
     "solution": false
    }
   },
   "source": [
    "**Question 3.3** \n",
    "<br> {points: 3}\n",
    "\n",
    "Filter out the data to include information about rentals that were only made during `Fall` - assign this data frame to an object called `bike_filtered`. Next, select for the columns we wish to plot. Name your answer `bike_selected`. "
   ]
  },
  {
   "cell_type": "code",
   "execution_count": null,
   "metadata": {
    "deletable": false,
    "nbgrader": {
     "cell_type": "code",
     "checksum": "aa1538604afa2c782f684aa86054ee4a",
     "grade": false,
     "grade_id": "cell-d81822a09ef9e8d1",
     "locked": false,
     "schema_version": 3,
     "solution": true,
     "task": false
    }
   },
   "outputs": [],
   "source": [
    "# your code here\n",
    "raise NotImplementedError\n",
    "bike_selected"
   ]
  },
  {
   "cell_type": "code",
   "execution_count": null,
   "metadata": {
    "deletable": false,
    "editable": false,
    "max_height": 100,
    "nbgrader": {
     "cell_type": "code",
     "checksum": "f9c2ecd4b18e68fe43684f68d62fd11c",
     "grade": true,
     "grade_id": "cell-f83d8178b0983eaf",
     "locked": true,
     "points": 3,
     "schema_version": 3,
     "solution": false,
     "task": false
    }
   },
   "outputs": [],
   "source": [
    "from hashlib import sha1\n",
    "assert sha1(str(type(bike_filtered.columns)).encode(\"utf-8\")+b\"224517441ab82d64\").hexdigest() == \"f4c7b5a2ab9eda53ba48f79ae48cf8c42e51d86c\", \"type of bike_filtered.columns is not correct\"\n",
    "assert sha1(str(bike_filtered.columns).encode(\"utf-8\")+b\"224517441ab82d64\").hexdigest() == \"5845531072cb961b3b5cb0a3337cb30294c22120\", \"value of bike_filtered.columns is not correct\"\n",
    "\n",
    "assert sha1(str(type(bike_selected.shape)).encode(\"utf-8\")+b\"1265fddc8346d651\").hexdigest() == \"f4cdd5d3ad3fa8ab5e7f4c9aaa0ae4c4b8a61535\", \"type of bike_selected.shape is not tuple. bike_selected.shape should be a tuple\"\n",
    "assert sha1(str(len(bike_selected.shape)).encode(\"utf-8\")+b\"1265fddc8346d651\").hexdigest() == \"3a20eb35eca3d43e7b9ad916910f5baf397d3d37\", \"length of bike_selected.shape is not correct\"\n",
    "assert sha1(str(sorted(map(str, bike_selected.shape))).encode(\"utf-8\")+b\"1265fddc8346d651\").hexdigest() == \"56544e6fe99c66333558b70ffb538c8d30c4e277\", \"values of bike_selected.shape are not correct\"\n",
    "assert sha1(str(bike_selected.shape).encode(\"utf-8\")+b\"1265fddc8346d651\").hexdigest() == \"b1494ffbc06f168208587da50c239e3f83cc8924\", \"order of elements of bike_selected.shape is not correct\"\n",
    "\n",
    "assert sha1(str(type(sum(bike_selected.total_users))).encode(\"utf-8\")+b\"3058b45fcff9d9b1\").hexdigest() == \"92ae81ec9cc066c39a262a100a70f67a4e9da6c1\", \"type of sum(bike_selected.total_users) is not int. Please make sure it is int and not np.int64, etc. You can cast your value into an int using int()\"\n",
    "assert sha1(str(sum(bike_selected.total_users)).encode(\"utf-8\")+b\"3058b45fcff9d9b1\").hexdigest() == \"9c88387a8aa502c4706990b992c02380752eef7b\", \"value of sum(bike_selected.total_users) is not correct\"\n",
    "\n",
    "print('Success!')"
   ]
  },
  {
   "cell_type": "markdown",
   "metadata": {
    "deletable": false,
    "editable": false,
    "nbgrader": {
     "cell_type": "markdown",
     "checksum": "a95f6f8491c0b7c89a8b3c3170f87d44",
     "grade": false,
     "grade_id": "cell-9ec71f0f8c57613d",
     "locked": true,
     "schema_version": 3,
     "solution": false
    }
   },
   "source": [
    "**Question 3.4** \n",
    "<br> {points: 3}\n",
    "\n",
    "Plot the data as a scatter plot. Label your x-axis: `Temperature (Celsius)` and your y-axis: `Total Users (Casual and Registered)`. Assign your plot to an object called `bike_plot_fall`."
   ]
  },
  {
   "cell_type": "code",
   "execution_count": null,
   "metadata": {
    "deletable": false,
    "nbgrader": {
     "cell_type": "code",
     "checksum": "bed89f5e342af88f655192551856f673",
     "grade": false,
     "grade_id": "cell-68a6cb066e2250a9",
     "locked": false,
     "schema_version": 3,
     "solution": true,
     "task": false
    }
   },
   "outputs": [],
   "source": [
    "# your code here\n",
    "raise NotImplementedError\n",
    "bike_plot_fall"
   ]
  },
  {
   "cell_type": "code",
   "execution_count": null,
   "metadata": {
    "deletable": false,
    "editable": false,
    "max_height": 100,
    "nbgrader": {
     "cell_type": "code",
     "checksum": "55e35cc78c7d5f3b27a7e6b50fdda255",
     "grade": true,
     "grade_id": "cell-bed51905509ec5ba",
     "locked": true,
     "points": 3,
     "schema_version": 3,
     "solution": false,
     "task": false
    }
   },
   "outputs": [],
   "source": [
    "from hashlib import sha1\n",
    "assert sha1(str(type(bike_plot_fall.encoding.x.field)).encode(\"utf-8\")+b\"c0bebee0c18e05f4\").hexdigest() == \"728514602af844c6198a9fc5c0db5704fb1970be\", \"type of bike_plot_fall.encoding.x.field is not str. bike_plot_fall.encoding.x.field should be an str\"\n",
    "assert sha1(str(len(bike_plot_fall.encoding.x.field)).encode(\"utf-8\")+b\"c0bebee0c18e05f4\").hexdigest() == \"04cfceae8614c3be2e8bb8c467038664ef9f3d63\", \"length of bike_plot_fall.encoding.x.field is not correct\"\n",
    "assert sha1(str(bike_plot_fall.encoding.x.field.lower()).encode(\"utf-8\")+b\"c0bebee0c18e05f4\").hexdigest() == \"d868bc8f7c5a67aba7a92f856755c9d246552330\", \"value of bike_plot_fall.encoding.x.field is not correct\"\n",
    "assert sha1(str(bike_plot_fall.encoding.x.field).encode(\"utf-8\")+b\"c0bebee0c18e05f4\").hexdigest() == \"d868bc8f7c5a67aba7a92f856755c9d246552330\", \"correct string value of bike_plot_fall.encoding.x.field but incorrect case of letters\"\n",
    "\n",
    "assert sha1(str(type(bike_plot_fall.encoding.y.field)).encode(\"utf-8\")+b\"39af1dfed35b7ab0\").hexdigest() == \"2d573df4445217d2c404c97d627235e558cb3a60\", \"type of bike_plot_fall.encoding.y.field is not str. bike_plot_fall.encoding.y.field should be an str\"\n",
    "assert sha1(str(len(bike_plot_fall.encoding.y.field)).encode(\"utf-8\")+b\"39af1dfed35b7ab0\").hexdigest() == \"409eb2b1faea49d23657bc8ed6f1f779f70a7890\", \"length of bike_plot_fall.encoding.y.field is not correct\"\n",
    "assert sha1(str(bike_plot_fall.encoding.y.field.lower()).encode(\"utf-8\")+b\"39af1dfed35b7ab0\").hexdigest() == \"2fff0d5823a1fccea2dd76ebf39f49d7117e561e\", \"value of bike_plot_fall.encoding.y.field is not correct\"\n",
    "assert sha1(str(bike_plot_fall.encoding.y.field).encode(\"utf-8\")+b\"39af1dfed35b7ab0\").hexdigest() == \"2fff0d5823a1fccea2dd76ebf39f49d7117e561e\", \"correct string value of bike_plot_fall.encoding.y.field but incorrect case of letters\"\n",
    "\n",
    "assert sha1(str(type(bike_plot_fall.mark)).encode(\"utf-8\")+b\"e0f67dd6ee1122cc\").hexdigest() == \"5f0f53da77deb489eed1e1e8870b71a0c34e8f53\", \"type of bike_plot_fall.mark is not str. bike_plot_fall.mark should be an str\"\n",
    "assert sha1(str(len(bike_plot_fall.mark)).encode(\"utf-8\")+b\"e0f67dd6ee1122cc\").hexdigest() == \"006430e668e9c8b736558e8f6c59328dfeff5927\", \"length of bike_plot_fall.mark is not correct\"\n",
    "assert sha1(str(bike_plot_fall.mark.lower()).encode(\"utf-8\")+b\"e0f67dd6ee1122cc\").hexdigest() == \"da8bb39a1d53866c97dd9dcbdae543c426a9c3f2\", \"value of bike_plot_fall.mark is not correct\"\n",
    "assert sha1(str(bike_plot_fall.mark).encode(\"utf-8\")+b\"e0f67dd6ee1122cc\").hexdigest() == \"da8bb39a1d53866c97dd9dcbdae543c426a9c3f2\", \"correct string value of bike_plot_fall.mark but incorrect case of letters\"\n",
    "\n",
    "assert sha1(str(type(bike_plot_fall.encoding.y.title != 'total_users')).encode(\"utf-8\")+b\"db862a4f7ecb5548\").hexdigest() == \"4abc07e45bc0701841e8c604cd79d84bbd8928e7\", \"type of bike_plot_fall.encoding.y.title != 'total_users' is not bool. bike_plot_fall.encoding.y.title != 'total_users' should be a bool\"\n",
    "assert sha1(str(bike_plot_fall.encoding.y.title != 'total_users').encode(\"utf-8\")+b\"db862a4f7ecb5548\").hexdigest() == \"ae0222ee9e6488e7dbac73352769f17b62c0faed\", \"boolean value of bike_plot_fall.encoding.y.title != 'total_users' is not correct\"\n",
    "\n",
    "print('Success!')"
   ]
  },
  {
   "cell_type": "markdown",
   "metadata": {
    "deletable": false,
    "editable": false,
    "nbgrader": {
     "cell_type": "markdown",
     "checksum": "cdc09a57aef5d23fe30922f47b381e9b",
     "grade": false,
     "grade_id": "cell-0fd8f05654f1a761",
     "locked": true,
     "schema_version": 3,
     "solution": false
    }
   },
   "source": [
    "**Question 3.5** \n",
    "<br> {points: 3}\n",
    "\n",
    "In one sentence, describe whether there is a relationship observed in the scatter plot for the fall season, and if so, the direction of that relationship."
   ]
  },
  {
   "cell_type": "markdown",
   "metadata": {
    "deletable": false,
    "max_height": 100,
    "nbgrader": {
     "cell_type": "markdown",
     "checksum": "937f375f64e55e7d1e3a5cff8d97209e",
     "grade": true,
     "grade_id": "cell-5cffa9bce11917de",
     "locked": false,
     "points": 3,
     "schema_version": 3,
     "solution": true
    }
   },
   "source": [
    "DOUBLE CLICK TO EDIT **THIS CELL** AND REPLACE THIS TEXT WITH YOUR ANSWER."
   ]
  },
  {
   "cell_type": "markdown",
   "metadata": {
    "deletable": false,
    "editable": false,
    "nbgrader": {
     "cell_type": "markdown",
     "checksum": "633a1920c9542cd361515dd3d095a3ff",
     "grade": false,
     "grade_id": "cell-5a83e5402e223b72",
     "locked": true,
     "schema_version": 3,
     "solution": false
    }
   },
   "source": [
    "**Question 3.6** \n",
    "<br> {points: 3}\n",
    "\n",
    "Looking at the scatter plots for the spring and the fall seasons, what difference(s) do you see? Based on these two plots, what might you recommend to this company to increase their users?"
   ]
  },
  {
   "cell_type": "markdown",
   "metadata": {
    "deletable": false,
    "max_height": 100,
    "nbgrader": {
     "cell_type": "markdown",
     "checksum": "6dbc83959f49c9927e365a1fd2f50868",
     "grade": true,
     "grade_id": "cell-a7bf24f74901d418",
     "locked": false,
     "points": 3,
     "schema_version": 3,
     "solution": true
    }
   },
   "source": [
    "DOUBLE CLICK TO EDIT **THIS CELL** AND REPLACE THIS TEXT WITH YOUR ANSWER."
   ]
  },
  {
   "cell_type": "code",
   "execution_count": null,
   "metadata": {},
   "outputs": [],
   "source": []
  }
 ],
 "metadata": {
  "kernelspec": {
   "display_name": "Python 3 (ipykernel)",
   "language": "python",
   "name": "python3"
  },
  "language_info": {
   "codemirror_mode": {
    "name": "ipython",
    "version": 3
   },
   "file_extension": ".py",
   "mimetype": "text/x-python",
   "name": "python",
   "nbconvert_exporter": "python",
   "pygments_lexer": "ipython3",
   "version": "3.10.8"
  }
 },
 "nbformat": 4,
 "nbformat_minor": 4
}
