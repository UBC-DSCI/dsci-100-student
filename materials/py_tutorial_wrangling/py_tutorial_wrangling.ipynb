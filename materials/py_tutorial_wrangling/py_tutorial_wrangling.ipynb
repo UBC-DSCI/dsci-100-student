{
 "cells": [
  {
   "cell_type": "markdown",
   "metadata": {
    "deletable": false,
    "editable": false,
    "nbgrader": {
     "cell_type": "markdown",
     "checksum": "16bb8beed170794ac8ad7ef448527d1d",
     "grade": false,
     "grade_id": "cell-744c2b88b126eef7",
     "locked": true,
     "schema_version": 3,
     "solution": false,
     "task": false
    }
   },
   "source": [
    "# Tutorial 3: Cleaning and Wrangling Data\n",
    "\n",
    "### Lecture and Tutorial Learning Goals:\n",
    "\n",
    "After completing this week's lecture and tutorial work, you will be able to:\n",
    "\n",
    "* define the term \"tidy data\"\n",
    "* explain when chaining is appropriate and demonstrate chaining over multiple lines and verbs.\n",
    "* discuss the advantages and disadvantages of storing data in a tidy data format\n",
    "* recall and use the following functions and methods for their intended data wrangling tasks:\n",
    "    - Use `loc[]` to select rows or columns.\n",
    "    - Use `[]` to filter rows of a data frame.\n",
    "    - Create new or columns in a data frame using `.assign` notation.\n",
    "    - Use `.groupby` to calculate summary statistics on grouped objects\n",
    "    - Use `.melt` and `.pivot` to reshape data frames, specifically to make tidy data.\n",
    "\n",
    "\n",
    "Any place you see `___`, you must fill in the function, variable, or data to complete the code. Substitute the `None` and the `raise NotImplementedError # No Answer - remove if you provide an answer` with your completed code and answers then proceed to run the cell!"
   ]
  },
  {
   "cell_type": "code",
   "execution_count": null,
   "metadata": {
    "deletable": false,
    "editable": false,
    "nbgrader": {
     "cell_type": "code",
     "checksum": "a13cd56c4a310544875266489c983c1a",
     "grade": false,
     "grade_id": "cell-80ccad445a8e0a42",
     "locked": true,
     "schema_version": 3,
     "solution": false,
     "task": false
    }
   },
   "outputs": [],
   "source": [
    "### Run this cell before continuing.\n",
    "import altair as alt\n",
    "import pandas as pd\n",
    "\n",
    "alt.data_transformers.disable_max_rows()"
   ]
  },
  {
   "cell_type": "markdown",
   "metadata": {
    "deletable": false,
    "editable": false,
    "nbgrader": {
     "cell_type": "markdown",
     "checksum": "8a0ec775a3dbbca6da8a4900d5c64f01",
     "grade": false,
     "grade_id": "cell-468f572209bb397f",
     "locked": true,
     "schema_version": 3,
     "solution": false
    }
   },
   "source": [
    "**Question 0.1** \n",
    "<br> {points: 1}\n",
    "\n",
    "Match the following definitions with the corresponding functions used in Python:\n",
    "\n",
    "A. Reads files that have columns separated by commas. \n",
    "\n",
    "B. Most data operations are done on groups defined by variables. This function takes an existing data set and converts it into a grouped data set where operations are performed \"by group\". \n",
    "\n",
    "C. \"Lengthens\" data, increasing the number of rows and decreasing the number of columns.\n",
    "\n",
    "D. Creates a new column in a dataframe. \n",
    "\n",
    "\n",
    "*Functions*\n",
    "\n",
    "1. `groupby`\n",
    "2. `pd.read_csv`\n",
    "3. `assign`\n",
    "4. `melt`\n",
    "\n",
    "*For every description, create an object using the letter associated with the definition and assign it to the corresponding number from the list of functions. For example:*\n",
    "```\n",
    "A = 1\n",
    "B = 2\n",
    "...\n",
    "D = 4\n",
    "```\n"
   ]
  },
  {
   "cell_type": "code",
   "execution_count": null,
   "metadata": {
    "deletable": false,
    "nbgrader": {
     "cell_type": "code",
     "checksum": "7080e10442bf796744592cfb31176636",
     "grade": false,
     "grade_id": "cell-23618c5deb777bd4",
     "locked": false,
     "schema_version": 3,
     "solution": true
    }
   },
   "outputs": [],
   "source": [
    "# your code here\n",
    "raise NotImplementedError"
   ]
  },
  {
   "cell_type": "code",
   "execution_count": null,
   "metadata": {
    "deletable": false,
    "editable": false,
    "max_height": 100,
    "nbgrader": {
     "cell_type": "code",
     "checksum": "db38775b5bdff545de273435fe02173a",
     "grade": true,
     "grade_id": "cell-b2ed899f3e35cfcb",
     "locked": true,
     "points": 3,
     "schema_version": 3,
     "solution": false
    }
   },
   "outputs": [],
   "source": [
    "from hashlib import sha1\n",
    "assert sha1(str(type(A)).encode(\"utf-8\")+b\"74a98ff4255625e7\").hexdigest() == \"7f3b1d2d390d19926827f563dff5b0d793a52346\", \"type of A is not int. Please make sure it is int and not np.int64, etc. You can cast your value into an int using int()\"\n",
    "assert sha1(str(A).encode(\"utf-8\")+b\"74a98ff4255625e7\").hexdigest() == \"1bb19e5258598f9b91bbb446b019805cb0fa9529\", \"value of A is not correct\"\n",
    "\n",
    "assert sha1(str(type(B)).encode(\"utf-8\")+b\"845ed445a715bcf4\").hexdigest() == \"bc32081cc70f35c91c1063c237586f5fa593dead\", \"type of B is not int. Please make sure it is int and not np.int64, etc. You can cast your value into an int using int()\"\n",
    "assert sha1(str(B).encode(\"utf-8\")+b\"845ed445a715bcf4\").hexdigest() == \"8e5235d0dfada8fe1cdacad4e673e2b0aa7bb9c4\", \"value of B is not correct\"\n",
    "\n",
    "assert sha1(str(type(C)).encode(\"utf-8\")+b\"40c7103b3f87b151\").hexdigest() == \"f50ba35e76da753b1c4ba1948e13aa2c4c24df78\", \"type of C is not int. Please make sure it is int and not np.int64, etc. You can cast your value into an int using int()\"\n",
    "assert sha1(str(C).encode(\"utf-8\")+b\"40c7103b3f87b151\").hexdigest() == \"b2a3228ae288327e7a603d99c981e6ace31cc5e7\", \"value of C is not correct\"\n",
    "\n",
    "assert sha1(str(type(D)).encode(\"utf-8\")+b\"3dd77b4ab9a06598\").hexdigest() == \"86445ba1325237347dff4caef4ddea5b966a0ec3\", \"type of D is not int. Please make sure it is int and not np.int64, etc. You can cast your value into an int using int()\"\n",
    "assert sha1(str(D).encode(\"utf-8\")+b\"3dd77b4ab9a06598\").hexdigest() == \"1867e6c0dd5bb3bbacdfafd58d3da478a623863e\", \"value of D is not correct\"\n",
    "\n",
    "print('Success!')"
   ]
  },
  {
   "cell_type": "markdown",
   "metadata": {
    "deletable": false,
    "editable": false,
    "nbgrader": {
     "cell_type": "markdown",
     "checksum": "e76e87e56ba9708153d8f0cc7dabe3a5",
     "grade": false,
     "grade_id": "cell-1c500c1d871fa330",
     "locked": true,
     "schema_version": 3,
     "solution": false,
     "task": false
    }
   },
   "source": [
    "## 1. Historical Data on Avocado Prices \n",
    "In the tutorial, we will be finishing off our analysis of the avocado data set. \n",
    "\n",
    "You might recall from the lecture that millennials LOVE avocado toast. However, avocados are expensive and this is costing millennials a lot more than you think (joking again 😉, well mostly...). To ensure that they can save enough to buy a house, it would be beneficial for an avocado fanatic to move to a city with low avocado prices. From `worksheet_wrangling` we saw that the price of the avocados is less in the months between December and May, but we still don't know which region contains the cheapest avocados. \n",
    "\n",
    "<img align=\"left\" src=\"https://media.giphy.com/media/8p3ylHVA2ZOIo/giphy.gif\" width=\"200\"/>"
   ]
  },
  {
   "cell_type": "markdown",
   "metadata": {
    "deletable": false,
    "editable": false,
    "nbgrader": {
     "cell_type": "markdown",
     "checksum": "e0551b70dbbe6864f09c0c18a7d946e4",
     "grade": false,
     "grade_id": "cell-06b3d7a6417ec05c",
     "locked": true,
     "schema_version": 3,
     "solution": false,
     "task": false
    }
   },
   "source": [
    "*image source: https://media.giphy.com/media/8p3ylHVA2ZOIo/giphy.gif*\n",
    "\n",
    "\n",
    "As a reminder, here are some relevant columns in the dataset:\n",
    "\n",
    "- `average_price` - The average price of a single avocado.\n",
    "- `type` - conventional or organic\n",
    "- `year` - The year\n",
    "- `region` - The city or region of the observation\n",
    "- `small_hass_volume`\t\n",
    "- `large_hass_volume`\t\n",
    "- `extra_l_hass_volume`\t\n",
    "\n",
    "Additionally, the last three columns can be used to calculate `total_volume` in pounds (lbs). The goal for today is to find the region with the cheapest avocados and then produce a plot of the total number of avocados sold against the average price per avocado **(in US dollars)** for that region. To do this, you will follow the steps below. \n",
    "\n",
    "1. use a pandas `read_*` function to load the csv file into your notebook\n",
    "2. use `groupby` to find the region with the cheapest avocados. \n",
    "3. use `loc[]` to specifically look at data from the region of interest. \n",
    "4. use `assign` to add up the volume for all types of avocados (small, large, and extra)\n",
    "5. use `altair` to create our plot of volume vs average price\n"
   ]
  },
  {
   "cell_type": "markdown",
   "metadata": {
    "deletable": false,
    "editable": false,
    "nbgrader": {
     "cell_type": "markdown",
     "checksum": "57f0c871953ad8da7d246aeefe9af8bb",
     "grade": false,
     "grade_id": "cell-8e23df9a6fc91bbd",
     "locked": true,
     "schema_version": 3,
     "solution": false
    }
   },
   "source": [
    "**Question 1.1** \n",
    "<br> {points: 1}\n",
    "\n",
    "Read the file `avocado_prices.csv` found in the `data` directory using a relative path. \n",
    "\n",
    "*Assign your answer to an object called `avocado`.* "
   ]
  },
  {
   "cell_type": "code",
   "execution_count": null,
   "metadata": {
    "deletable": false,
    "nbgrader": {
     "cell_type": "code",
     "checksum": "f712c138a234aea539a3ec3f4c67a7e4",
     "grade": false,
     "grade_id": "cell-1cdf53978903de5d",
     "locked": false,
     "schema_version": 3,
     "solution": true
    }
   },
   "outputs": [],
   "source": [
    "# your code here\n",
    "raise NotImplementedError\n",
    "avocado"
   ]
  },
  {
   "cell_type": "code",
   "execution_count": null,
   "metadata": {
    "deletable": false,
    "editable": false,
    "max_height": 100,
    "nbgrader": {
     "cell_type": "code",
     "checksum": "97354b667ebe2339dd384e1c9b318d9d",
     "grade": true,
     "grade_id": "cell-c03a49fcfd5662a6",
     "locked": true,
     "points": 1,
     "schema_version": 3,
     "solution": false
    }
   },
   "outputs": [],
   "source": [
    "from hashlib import sha1\n",
    "assert sha1(str(type(avocado is None)).encode(\"utf-8\")+b\"8d61341df318d911\").hexdigest() == \"b4557191da65dbfd45fec0a236813dd386773edd\", \"type of avocado is None is not bool. avocado is None should be a bool\"\n",
    "assert sha1(str(avocado is None).encode(\"utf-8\")+b\"8d61341df318d911\").hexdigest() == \"04ad2a1bea7365603d10e3f7675055194e9c13ec\", \"boolean value of avocado is None is not correct\"\n",
    "\n",
    "assert sha1(str(type(avocado)).encode(\"utf-8\")+b\"f4c05296044e573d\").hexdigest() == \"d43dca2c152a62cd721f0476d5abd41fb782c141\", \"type of type(avocado) is not correct\"\n",
    "\n",
    "assert sha1(str(type(avocado.shape)).encode(\"utf-8\")+b\"3b013b8c2c5273f9\").hexdigest() == \"f58120102d994320eca8136ce69a1587b64be66a\", \"type of avocado.shape is not tuple. avocado.shape should be a tuple\"\n",
    "assert sha1(str(len(avocado.shape)).encode(\"utf-8\")+b\"3b013b8c2c5273f9\").hexdigest() == \"b795905a1c97aec55836a40de4aa0234e83430ec\", \"length of avocado.shape is not correct\"\n",
    "assert sha1(str(sorted(map(str, avocado.shape))).encode(\"utf-8\")+b\"3b013b8c2c5273f9\").hexdigest() == \"4638cf60dcdfb190f93438faaec54f53f47eda7f\", \"values of avocado.shape are not correct\"\n",
    "assert sha1(str(avocado.shape).encode(\"utf-8\")+b\"3b013b8c2c5273f9\").hexdigest() == \"91ee5a7157cdab2e9c4f705d404a85974e14c4a6\", \"order of elements of avocado.shape is not correct\"\n",
    "\n",
    "assert sha1(str(type(avocado.columns.values)).encode(\"utf-8\")+b\"c080fe835470ba8a\").hexdigest() == \"56a5f382c4236416197f09f60841609742fbb6d5\", \"type of avocado.columns.values is not correct\"\n",
    "assert sha1(str(avocado.columns.values).encode(\"utf-8\")+b\"c080fe835470ba8a\").hexdigest() == \"4e177a12ecde74ae0118505cda6e8c38b241f9c8\", \"value of avocado.columns.values is not correct\"\n",
    "\n",
    "print('Success!')"
   ]
  },
  {
   "cell_type": "markdown",
   "metadata": {
    "deletable": false,
    "editable": false,
    "nbgrader": {
     "cell_type": "markdown",
     "checksum": "f072ce3aaffc9ee1e8d6a95ae4b74607",
     "grade": false,
     "grade_id": "cell-646181887e5db2ca",
     "locked": true,
     "schema_version": 3,
     "solution": false
    }
   },
   "source": [
    "**Question 1.2** \n",
    "<br> {points: 1}\n",
    "\n",
    "Now find the region with the cheapest avocados in 2018. To do this, calculate the average price for each region. Your answer should be the row from a data frame with the lowest average price. The data frame you create should have two columns, one named `region` that has the region, and the other that contains the average price for that region.\n",
    "\n",
    "*Assign your answer to an object called `cheapest`.*\n",
    "\n"
   ]
  },
  {
   "cell_type": "code",
   "execution_count": null,
   "metadata": {
    "deletable": false,
    "nbgrader": {
     "cell_type": "code",
     "checksum": "77287905913de2d67dcd1dd372e4a319",
     "grade": false,
     "grade_id": "cell-f70def27fbc1324e",
     "locked": false,
     "schema_version": 3,
     "solution": true
    }
   },
   "outputs": [],
   "source": [
    "# ___ = pd.DataFrame(\n",
    "#     ___[___[___] == ___]\n",
    "#     .groupby(___)\n",
    "#     .___\n",
    "#     .reset_index()\n",
    "#     .sort_values(by=___)\n",
    "#     .loc[___, [___, ___]]\n",
    "# ).transpose() # Reflect the DataFrame over by writing rows as columns and vice-versa\n",
    "\n",
    "# your code here\n",
    "raise NotImplementedError\n",
    "cheapest"
   ]
  },
  {
   "cell_type": "code",
   "execution_count": null,
   "metadata": {
    "deletable": false,
    "editable": false,
    "max_height": 100,
    "nbgrader": {
     "cell_type": "code",
     "checksum": "d2870cc80f96903a3dd5f0f267400fbc",
     "grade": true,
     "grade_id": "cell-5d99f697df77f2cd",
     "locked": true,
     "points": 3,
     "schema_version": 3,
     "solution": false
    }
   },
   "outputs": [],
   "source": [
    "from hashlib import sha1\n",
    "assert sha1(str(type(cheapest is None)).encode(\"utf-8\")+b\"72178f5e68f0bd01\").hexdigest() == \"8b215fb2714b882c9423718b14307b241ce37108\", \"type of cheapest is None is not bool. cheapest is None should be a bool\"\n",
    "assert sha1(str(cheapest is None).encode(\"utf-8\")+b\"72178f5e68f0bd01\").hexdigest() == \"5d1a176db2115ce9c84850aad476a780cf7c3f90\", \"boolean value of cheapest is None is not correct\"\n",
    "\n",
    "assert sha1(str(type(cheapest)).encode(\"utf-8\")+b\"4fa4f3525842ae59\").hexdigest() == \"e932e8d0eb18c8078b742b675daa3a95a5816470\", \"type of type(cheapest) is not correct\"\n",
    "\n",
    "assert sha1(str(type(cheapest.shape)).encode(\"utf-8\")+b\"bab0413e0c0ddbbb\").hexdigest() == \"9e65cee14f53184c86b9c3fc058fd6d7bee73c2a\", \"type of cheapest.shape is not tuple. cheapest.shape should be a tuple\"\n",
    "assert sha1(str(len(cheapest.shape)).encode(\"utf-8\")+b\"bab0413e0c0ddbbb\").hexdigest() == \"35ee9026f117a059405bc9e0d2f12a54d4fb3a6a\", \"length of cheapest.shape is not correct\"\n",
    "assert sha1(str(sorted(map(str, cheapest.shape))).encode(\"utf-8\")+b\"bab0413e0c0ddbbb\").hexdigest() == \"a9d8826a886d347dd1da2f8c59227e85a5f34fb5\", \"values of cheapest.shape are not correct\"\n",
    "assert sha1(str(cheapest.shape).encode(\"utf-8\")+b\"bab0413e0c0ddbbb\").hexdigest() == \"213864621ef248860af5e691e193dda4dd8aa6f2\", \"order of elements of cheapest.shape is not correct\"\n",
    "\n",
    "assert sha1(str(type(cheapest.region[0])).encode(\"utf-8\")+b\"c7be20cd6680caec\").hexdigest() == \"0cb6680017aca76d03a5203b38893c3fc8fa9e29\", \"type of cheapest.region[0] is not str. cheapest.region[0] should be an str\"\n",
    "assert sha1(str(len(cheapest.region[0])).encode(\"utf-8\")+b\"c7be20cd6680caec\").hexdigest() == \"68856aa0795d78be2583c12b95f761f4e67e9809\", \"length of cheapest.region[0] is not correct\"\n",
    "assert sha1(str(cheapest.region[0].lower()).encode(\"utf-8\")+b\"c7be20cd6680caec\").hexdigest() == \"c6e5c54087e33bd818f4a97187399b4da62a3314\", \"value of cheapest.region[0] is not correct\"\n",
    "assert sha1(str(cheapest.region[0]).encode(\"utf-8\")+b\"c7be20cd6680caec\").hexdigest() == \"6492c6d879c3c57a18d8ab92828bf093a13e503b\", \"correct string value of cheapest.region[0] but incorrect case of letters\"\n",
    "\n",
    "assert sha1(str(type(cheapest.drop(columns=\"region\").values.astype(int)[0][0])).encode(\"utf-8\")+b\"7ef9e5720bd4017a\").hexdigest() == \"d66632391c6142d50162cceb99c3a870cf988acc\", \"type of cheapest.drop(columns=\\\"region\\\").values.astype(int)[0][0] is not correct\"\n",
    "assert sha1(str(cheapest.drop(columns=\"region\").values.astype(int)[0][0]).encode(\"utf-8\")+b\"7ef9e5720bd4017a\").hexdigest() == \"c0f6e9f89530c1d5c44d76fa7972810e9bd0953a\", \"value of cheapest.drop(columns=\\\"region\\\").values.astype(int)[0][0] is not correct\"\n",
    "\n",
    "print('Success!')"
   ]
  },
  {
   "cell_type": "markdown",
   "metadata": {
    "deletable": false,
    "editable": false,
    "nbgrader": {
     "cell_type": "markdown",
     "checksum": "62afc59f2b12c5154d5d2e8d7a35cdf5",
     "grade": false,
     "grade_id": "cell-e593ec25d6175d0e",
     "locked": true,
     "schema_version": 3,
     "solution": false
    }
   },
   "source": [
    "**Question 1.3**\n",
    "<br> {points: 1}\n",
    "\n",
    "Now we will plot the total volume against average price for the cheapest region and all years. First, you need to mutate the data frame such that `total_volume` is equal to the addition of all three volume columns. Next, filter the dataset using the cheapest region found in **Question 1.2**. Finally, you will have the data necessary to create a scatter plot with: \n",
    "\n",
    "- x : `total_volume` \n",
    "- y : `average_price`\n",
    "\n",
    "Fill in the `___` in the cell below. Substitute the `None` and the `raise NotImplementedError # No Answer - remove if you provide an answer` with your completed code and answers then proceed to run the cell! We will be scaling the axes - the function is added in the scaffolding for you. \n",
    "\n",
    "*Assign your answer to an object called `avocado_plot`.* \n",
    "\n",
    "> Hint: Do not forget units on your data visualization! Here the price is in US dollars (USD) and the volume in pounds (lbs)."
   ]
  },
  {
   "cell_type": "code",
   "execution_count": null,
   "metadata": {
    "deletable": false,
    "nbgrader": {
     "cell_type": "code",
     "checksum": "a7561ba27abdc1ff9b7a2b5ccd9afd9c",
     "grade": false,
     "grade_id": "cell-f8ea89f3f9702e23",
     "locked": false,
     "schema_version": 3,
     "solution": true
    }
   },
   "outputs": [],
   "source": [
    "# avocado[\"total_volume\"] = ___\n",
    "\n",
    "# ___ = (\n",
    "#     alt.Chart(___[___[___] == ___])\n",
    "#     .___\n",
    "#     .encode(\n",
    "#         x=alt.X(\n",
    "#             ___,\n",
    "#             title=___,\n",
    "#             scale=alt.Scale(type=\"log\", base=10),\n",
    "#         ),\n",
    "#         y=alt.Y(___, title=___),\n",
    "#     )\n",
    "#     .configure_axis(labelFontSize=20, titleFontSize=20)\n",
    "# )\n",
    "\n",
    "# your code here\n",
    "raise NotImplementedError\n",
    "avocado_plot"
   ]
  },
  {
   "cell_type": "code",
   "execution_count": null,
   "metadata": {
    "deletable": false,
    "editable": false,
    "max_height": 100,
    "nbgrader": {
     "cell_type": "code",
     "checksum": "99c6f947be1a3d860845b965d4b70644",
     "grade": true,
     "grade_id": "cell-6f191043af76b69b",
     "locked": true,
     "points": 1,
     "schema_version": 3,
     "solution": false
    }
   },
   "outputs": [],
   "source": [
    "from hashlib import sha1\n",
    "assert sha1(str(type(avocado_plot is None)).encode(\"utf-8\")+b\"ea9f926a111d0d39\").hexdigest() == \"9206a7074646590439bb2974224716b757e3a71a\", \"type of avocado_plot is None is not bool. avocado_plot is None should be a bool\"\n",
    "assert sha1(str(avocado_plot is None).encode(\"utf-8\")+b\"ea9f926a111d0d39\").hexdigest() == \"42097fb0f3a4bdd63219ceac3bf0028a86a793ff\", \"boolean value of avocado_plot is None is not correct\"\n",
    "\n",
    "assert sha1(str(type(avocado_plot.encoding.x.field)).encode(\"utf-8\")+b\"248f2ccb91683952\").hexdigest() == \"625f6bc0e3bed9eeb9fd911246a21f3dfc648e2b\", \"type of avocado_plot.encoding.x.field is not str. avocado_plot.encoding.x.field should be an str\"\n",
    "assert sha1(str(len(avocado_plot.encoding.x.field)).encode(\"utf-8\")+b\"248f2ccb91683952\").hexdigest() == \"06ab652fe1df5827d545fd49f155edeeedd3e564\", \"length of avocado_plot.encoding.x.field is not correct\"\n",
    "assert sha1(str(avocado_plot.encoding.x.field.lower()).encode(\"utf-8\")+b\"248f2ccb91683952\").hexdigest() == \"a8b8584d125ca51b9d55deb57269624c7de14441\", \"value of avocado_plot.encoding.x.field is not correct\"\n",
    "assert sha1(str(avocado_plot.encoding.x.field).encode(\"utf-8\")+b\"248f2ccb91683952\").hexdigest() == \"a8b8584d125ca51b9d55deb57269624c7de14441\", \"correct string value of avocado_plot.encoding.x.field but incorrect case of letters\"\n",
    "\n",
    "assert sha1(str(type(avocado_plot.encoding.y.field)).encode(\"utf-8\")+b\"d5b2488643ab073a\").hexdigest() == \"55f658f04e7dedb8718f145d3bd87946bb347ad9\", \"type of avocado_plot.encoding.y.field is not str. avocado_plot.encoding.y.field should be an str\"\n",
    "assert sha1(str(len(avocado_plot.encoding.y.field)).encode(\"utf-8\")+b\"d5b2488643ab073a\").hexdigest() == \"f8648de5394cfa787601bd56e5f1115b8b8b7693\", \"length of avocado_plot.encoding.y.field is not correct\"\n",
    "assert sha1(str(avocado_plot.encoding.y.field.lower()).encode(\"utf-8\")+b\"d5b2488643ab073a\").hexdigest() == \"5e948b75e5512ff74cf64aa8b16d331ee0e1f82a\", \"value of avocado_plot.encoding.y.field is not correct\"\n",
    "assert sha1(str(avocado_plot.encoding.y.field).encode(\"utf-8\")+b\"d5b2488643ab073a\").hexdigest() == \"5e948b75e5512ff74cf64aa8b16d331ee0e1f82a\", \"correct string value of avocado_plot.encoding.y.field but incorrect case of letters\"\n",
    "\n",
    "assert sha1(str(type(avocado_plot.data.region.unique()[0])).encode(\"utf-8\")+b\"bfa35cdcc7befbd0\").hexdigest() == \"7e681a3843dd9799f0e41f00e71a8e12c4992b83\", \"type of avocado_plot.data.region.unique()[0] is not str. avocado_plot.data.region.unique()[0] should be an str\"\n",
    "assert sha1(str(len(avocado_plot.data.region.unique()[0])).encode(\"utf-8\")+b\"bfa35cdcc7befbd0\").hexdigest() == \"d7a6a5e2360cde8ebdb47e5830c2f49172114dd2\", \"length of avocado_plot.data.region.unique()[0] is not correct\"\n",
    "assert sha1(str(avocado_plot.data.region.unique()[0].lower()).encode(\"utf-8\")+b\"bfa35cdcc7befbd0\").hexdigest() == \"77e771398a5fe27e1dd61b4661eaac08a3acf07d\", \"value of avocado_plot.data.region.unique()[0] is not correct\"\n",
    "assert sha1(str(avocado_plot.data.region.unique()[0]).encode(\"utf-8\")+b\"bfa35cdcc7befbd0\").hexdigest() == \"4cf5a18976483b4b572af2a3cc874087f911ae7f\", \"correct string value of avocado_plot.data.region.unique()[0] but incorrect case of letters\"\n",
    "\n",
    "assert sha1(str(type(avocado_plot.mark)).encode(\"utf-8\")+b\"1cd373ce840b9f1c\").hexdigest() == \"6f08ab599e9a8a69318407115e57cc9d518309f5\", \"type of avocado_plot.mark is not str. avocado_plot.mark should be an str\"\n",
    "assert sha1(str(len(avocado_plot.mark)).encode(\"utf-8\")+b\"1cd373ce840b9f1c\").hexdigest() == \"19a28b54b8a393927334ea1daefdfb8b104508b1\", \"length of avocado_plot.mark is not correct\"\n",
    "assert sha1(str(avocado_plot.mark.lower()).encode(\"utf-8\")+b\"1cd373ce840b9f1c\").hexdigest() == \"b1f70a91ba4372ac0204525cdc9ede5fd9058625\", \"value of avocado_plot.mark is not correct\"\n",
    "assert sha1(str(avocado_plot.mark).encode(\"utf-8\")+b\"1cd373ce840b9f1c\").hexdigest() == \"b1f70a91ba4372ac0204525cdc9ede5fd9058625\", \"correct string value of avocado_plot.mark but incorrect case of letters\"\n",
    "\n",
    "assert sha1(str(type(avocado_plot.encoding.x.title != avocado_plot.encoding.x.field)).encode(\"utf-8\")+b\"dbaaf1edd64c3d76\").hexdigest() == \"528c1c0984b5af53528b4ce734402053faa4ab9b\", \"type of avocado_plot.encoding.x.title != avocado_plot.encoding.x.field is not bool. avocado_plot.encoding.x.title != avocado_plot.encoding.x.field should be a bool\"\n",
    "assert sha1(str(avocado_plot.encoding.x.title != avocado_plot.encoding.x.field).encode(\"utf-8\")+b\"dbaaf1edd64c3d76\").hexdigest() == \"a3307570020cbd74c3a5064ecd3edae3e67c194a\", \"boolean value of avocado_plot.encoding.x.title != avocado_plot.encoding.x.field is not correct\"\n",
    "\n",
    "assert sha1(str(type(avocado_plot.encoding.y.title != avocado_plot.encoding.y.field)).encode(\"utf-8\")+b\"49fa71e967d57045\").hexdigest() == \"99140445b44df323b4b5a08e6a1f846e8b30638c\", \"type of avocado_plot.encoding.y.title != avocado_plot.encoding.y.field is not bool. avocado_plot.encoding.y.title != avocado_plot.encoding.y.field should be a bool\"\n",
    "assert sha1(str(avocado_plot.encoding.y.title != avocado_plot.encoding.y.field).encode(\"utf-8\")+b\"49fa71e967d57045\").hexdigest() == \"9e9ca3abac9af2c917249520a8923eb0e16922ac\", \"boolean value of avocado_plot.encoding.y.title != avocado_plot.encoding.y.field is not correct\"\n",
    "\n",
    "print('Success!')"
   ]
  },
  {
   "cell_type": "markdown",
   "metadata": {
    "deletable": false,
    "editable": false,
    "nbgrader": {
     "cell_type": "markdown",
     "checksum": "fab63a2e60b50879eafe19e490432084",
     "grade": false,
     "grade_id": "cell-31e7dda7a5b7814f",
     "locked": true,
     "schema_version": 3,
     "solution": false
    }
   },
   "source": [
    "**Question 1.4** \n",
    "\n",
    "What do you notice? Discuss your plot with the person next to you.\n",
    "\n",
    "To further investigate this trend, let's colour the data points to see if the type of avocado (either organic or not, which is called conventional in this data set) affects the volume and price of avocados sold in our region of interest. \n",
    "\n",
    "Run the cell below to colour the data points by avocado type. "
   ]
  },
  {
   "cell_type": "code",
   "execution_count": null,
   "metadata": {
    "deletable": false,
    "editable": false,
    "nbgrader": {
     "cell_type": "code",
     "checksum": "75e071added9588fc887265d7615bae7",
     "grade": false,
     "grade_id": "cell-ba37bb6d3cebf7fa",
     "locked": true,
     "schema_version": 3,
     "solution": false,
     "task": false
    }
   },
   "outputs": [],
   "source": [
    "# Run this cell to see if avocado type (the type variable) plays a role in production and price.\n",
    "\n",
    "avocado_plot = avocado_plot.encode(color=\"type\")\n",
    "\n",
    "avocado_plot"
   ]
  },
  {
   "cell_type": "markdown",
   "metadata": {
    "deletable": false,
    "editable": false,
    "nbgrader": {
     "cell_type": "markdown",
     "checksum": "28cf3a82d994179b1f27b6f646fc7e00",
     "grade": false,
     "grade_id": "cell-928eea37774dbd64",
     "locked": true,
     "schema_version": 3,
     "solution": false
    }
   },
   "source": [
    "**Question 1.4 (Continued)**\n",
    "<br> {points: 3}\n",
    "\n",
    "In 2-3 sentences, describe what you see in the graph above. Comment specifically on whether there is any evidence/indication that avocado type might influence price? \n",
    "\n",
    "*Hint: Make sure to include information about volume, average price, and avocado type in your answer.*"
   ]
  },
  {
   "cell_type": "markdown",
   "metadata": {
    "deletable": false,
    "max_height": 100,
    "nbgrader": {
     "cell_type": "markdown",
     "checksum": "b31b210ab0d20a3e11de7be6ebb25c64",
     "grade": true,
     "grade_id": "cell-e78d62d7108e95f4",
     "locked": false,
     "points": 3,
     "schema_version": 3,
     "solution": true
    }
   },
   "source": [
    "DOUBLE CLICK TO EDIT **THIS CELL** AND REPLACE THIS TEXT WITH YOUR ANSWER."
   ]
  },
  {
   "cell_type": "markdown",
   "metadata": {
    "deletable": false,
    "editable": false,
    "nbgrader": {
     "cell_type": "markdown",
     "checksum": "e5181dc2a40ac0df05aebf2f8b863730",
     "grade": false,
     "grade_id": "cell-fa6a8d66c7fcbba7",
     "locked": true,
     "schema_version": 3,
     "solution": false
    }
   },
   "source": [
    "## 2. Historical Data on Avocado Prices (Continued)\n",
    "**Question 2.1**\n",
    "<br> {points: 3}\n",
    "\n",
    "Now that we know the region that sold the cheapest avocados (on average) in 2018, which region sold the most expensive avocados (on average) in 2018? And for that region, what role might avocado type play in sales? Repeat the analysis you did above, but now apply it to investigate the region which sold the most expensive avocados (on average) in 2018. \n",
    "\n",
    "Remember: we are finding the region that sold the most expensive avocados *in 2018*, but then producing a scatter plot of average price versus total volume sold *for all years*.\n",
    "\n",
    "*Name your plot object `priciest_plot`.*\n",
    "\n",
    "> Hint: We recommend you create the data frame `priciest` first and look at that before building the plot. You can always add a new cell with the plus-button. "
   ]
  },
  {
   "cell_type": "code",
   "execution_count": null,
   "metadata": {
    "deletable": false,
    "nbgrader": {
     "cell_type": "code",
     "checksum": "b6c8e47a3fe048b666f835d7cb5b9257",
     "grade": false,
     "grade_id": "cell-104263366c12cff2",
     "locked": false,
     "schema_version": 3,
     "solution": true,
     "task": false
    }
   },
   "outputs": [],
   "source": [
    "# your code here\n",
    "raise NotImplementedError\n",
    "priciest_plot"
   ]
  },
  {
   "cell_type": "code",
   "execution_count": null,
   "metadata": {
    "deletable": false,
    "editable": false,
    "max_height": 100,
    "nbgrader": {
     "cell_type": "code",
     "checksum": "2e6be6bd568a12fdbf018256bdfcdcb7",
     "grade": true,
     "grade_id": "cell-1a67015f42293bea",
     "locked": true,
     "points": 3,
     "schema_version": 3,
     "solution": false,
     "task": false
    }
   },
   "outputs": [],
   "source": [
    "from hashlib import sha1\n",
    "assert sha1(str(type(priciest_plot is None)).encode(\"utf-8\")+b\"c8b7296e1dd5441d\").hexdigest() == \"256f300f786badd1672f9a0293be95078bb6e1a3\", \"type of priciest_plot is None is not bool. priciest_plot is None should be a bool\"\n",
    "assert sha1(str(priciest_plot is None).encode(\"utf-8\")+b\"c8b7296e1dd5441d\").hexdigest() == \"090cafab878cfbd438a675e8a6a83e5045ed099a\", \"boolean value of priciest_plot is None is not correct\"\n",
    "\n",
    "assert sha1(str(type(priciest_plot.mark)).encode(\"utf-8\")+b\"dd8d24fddebd61f6\").hexdigest() == \"303dbbde37e5233596aa247afad914b889842a94\", \"type of priciest_plot.mark is not str. priciest_plot.mark should be an str\"\n",
    "assert sha1(str(len(priciest_plot.mark)).encode(\"utf-8\")+b\"dd8d24fddebd61f6\").hexdigest() == \"5eecd3dd0ffe3d1f560bec7a2913f6adf021a6da\", \"length of priciest_plot.mark is not correct\"\n",
    "assert sha1(str(priciest_plot.mark.lower()).encode(\"utf-8\")+b\"dd8d24fddebd61f6\").hexdigest() == \"de99010a9c3fffa8f31d85574d59949a1f520703\", \"value of priciest_plot.mark is not correct\"\n",
    "assert sha1(str(priciest_plot.mark).encode(\"utf-8\")+b\"dd8d24fddebd61f6\").hexdigest() == \"de99010a9c3fffa8f31d85574d59949a1f520703\", \"correct string value of priciest_plot.mark but incorrect case of letters\"\n",
    "\n",
    "assert sha1(str(type(priciest_plot.data.region.unique()[0])).encode(\"utf-8\")+b\"fc5b7c1d3716345e\").hexdigest() == \"80c1722677908602045c4bb1ce62d3e4817b6930\", \"type of priciest_plot.data.region.unique()[0] is not str. priciest_plot.data.region.unique()[0] should be an str\"\n",
    "assert sha1(str(len(priciest_plot.data.region.unique()[0])).encode(\"utf-8\")+b\"fc5b7c1d3716345e\").hexdigest() == \"4f31a64c2386c953390558ea7c5ba16192860795\", \"length of priciest_plot.data.region.unique()[0] is not correct\"\n",
    "assert sha1(str(priciest_plot.data.region.unique()[0].lower()).encode(\"utf-8\")+b\"fc5b7c1d3716345e\").hexdigest() == \"f79c3fe99f81e67d8f0d248ac65c84a82fbe82ce\", \"value of priciest_plot.data.region.unique()[0] is not correct\"\n",
    "assert sha1(str(priciest_plot.data.region.unique()[0]).encode(\"utf-8\")+b\"fc5b7c1d3716345e\").hexdigest() == \"a4118b4e429144bf97e6a017262ae5d26e8a5e3c\", \"correct string value of priciest_plot.data.region.unique()[0] but incorrect case of letters\"\n",
    "\n",
    "assert sha1(str(type(priciest_plot.data.shape[0])).encode(\"utf-8\")+b\"7b1e5a8319bbb077\").hexdigest() == \"37ae7ddeddeec0c207eb8e6b777a50d8b118aea7\", \"type of priciest_plot.data.shape[0] is not int. Please make sure it is int and not np.int64, etc. You can cast your value into an int using int()\"\n",
    "assert sha1(str(priciest_plot.data.shape[0]).encode(\"utf-8\")+b\"7b1e5a8319bbb077\").hexdigest() == \"9e610ec36eef6f1c451a531261a8ed25f609afe3\", \"value of priciest_plot.data.shape[0] is not correct\"\n",
    "\n",
    "assert sha1(str(type(priciest_plot.encoding.x.field)).encode(\"utf-8\")+b\"fffd93ff52d5b826\").hexdigest() == \"cf84242c1bca1a5464e5dc6ae00e905bad5b9886\", \"type of priciest_plot.encoding.x.field is not str. priciest_plot.encoding.x.field should be an str\"\n",
    "assert sha1(str(len(priciest_plot.encoding.x.field)).encode(\"utf-8\")+b\"fffd93ff52d5b826\").hexdigest() == \"a4b68b1dbb12f52d4aea9047a38f3e58b9849764\", \"length of priciest_plot.encoding.x.field is not correct\"\n",
    "assert sha1(str(priciest_plot.encoding.x.field.lower()).encode(\"utf-8\")+b\"fffd93ff52d5b826\").hexdigest() == \"aa08d68e105fa9a8c3aa15bed0b17422b32f08c1\", \"value of priciest_plot.encoding.x.field is not correct\"\n",
    "assert sha1(str(priciest_plot.encoding.x.field).encode(\"utf-8\")+b\"fffd93ff52d5b826\").hexdigest() == \"aa08d68e105fa9a8c3aa15bed0b17422b32f08c1\", \"correct string value of priciest_plot.encoding.x.field but incorrect case of letters\"\n",
    "\n",
    "assert sha1(str(type(priciest_plot.encoding.y.field)).encode(\"utf-8\")+b\"89d4c46aebd9b3a1\").hexdigest() == \"4f622f063d251ca994c2295b658a37c4eb97dbcc\", \"type of priciest_plot.encoding.y.field is not str. priciest_plot.encoding.y.field should be an str\"\n",
    "assert sha1(str(len(priciest_plot.encoding.y.field)).encode(\"utf-8\")+b\"89d4c46aebd9b3a1\").hexdigest() == \"d8c02fd3bd30a0362dee5fead370835f3907360c\", \"length of priciest_plot.encoding.y.field is not correct\"\n",
    "assert sha1(str(priciest_plot.encoding.y.field.lower()).encode(\"utf-8\")+b\"89d4c46aebd9b3a1\").hexdigest() == \"4de91af96954a64c96944c297a84211bfd215086\", \"value of priciest_plot.encoding.y.field is not correct\"\n",
    "assert sha1(str(priciest_plot.encoding.y.field).encode(\"utf-8\")+b\"89d4c46aebd9b3a1\").hexdigest() == \"4de91af96954a64c96944c297a84211bfd215086\", \"correct string value of priciest_plot.encoding.y.field but incorrect case of letters\"\n",
    "\n",
    "assert sha1(str(type(priciest_plot.encoding.color.field)).encode(\"utf-8\")+b\"6d9016c8d0b620b2\").hexdigest() == \"d201170e173d47e266bc850953d39efde5c1d5e1\", \"type of priciest_plot.encoding.color.field is not str. priciest_plot.encoding.color.field should be an str\"\n",
    "assert sha1(str(len(priciest_plot.encoding.color.field)).encode(\"utf-8\")+b\"6d9016c8d0b620b2\").hexdigest() == \"33f759052697e67fc523cd8895580fb57b46de04\", \"length of priciest_plot.encoding.color.field is not correct\"\n",
    "assert sha1(str(priciest_plot.encoding.color.field.lower()).encode(\"utf-8\")+b\"6d9016c8d0b620b2\").hexdigest() == \"bcd6e813a7bc5247cc6163238e38646f84a70a48\", \"value of priciest_plot.encoding.color.field is not correct\"\n",
    "assert sha1(str(priciest_plot.encoding.color.field).encode(\"utf-8\")+b\"6d9016c8d0b620b2\").hexdigest() == \"bcd6e813a7bc5247cc6163238e38646f84a70a48\", \"correct string value of priciest_plot.encoding.color.field but incorrect case of letters\"\n",
    "\n",
    "assert sha1(str(type(priciest_plot.encoding.x.title != priciest_plot.encoding.x.field)).encode(\"utf-8\")+b\"7f7a625e0b8f39c1\").hexdigest() == \"daed0d0b6a0f6b8c9f8d6eeb608242e939b2281a\", \"type of priciest_plot.encoding.x.title != priciest_plot.encoding.x.field is not bool. priciest_plot.encoding.x.title != priciest_plot.encoding.x.field should be a bool\"\n",
    "assert sha1(str(priciest_plot.encoding.x.title != priciest_plot.encoding.x.field).encode(\"utf-8\")+b\"7f7a625e0b8f39c1\").hexdigest() == \"0ed39fa775add2bf93fa0d364f0931c4eaebaf94\", \"boolean value of priciest_plot.encoding.x.title != priciest_plot.encoding.x.field is not correct\"\n",
    "\n",
    "assert sha1(str(type(priciest_plot.encoding.y.title != priciest_plot.encoding.y.field)).encode(\"utf-8\")+b\"aae9616d7c8560ae\").hexdigest() == \"7c3c814fe1ea35cf88f1eec156b5bfa8f0311506\", \"type of priciest_plot.encoding.y.title != priciest_plot.encoding.y.field is not bool. priciest_plot.encoding.y.title != priciest_plot.encoding.y.field should be a bool\"\n",
    "assert sha1(str(priciest_plot.encoding.y.title != priciest_plot.encoding.y.field).encode(\"utf-8\")+b\"aae9616d7c8560ae\").hexdigest() == \"951d2759096c18016685c590f544564b081d3620\", \"boolean value of priciest_plot.encoding.y.title != priciest_plot.encoding.y.field is not correct\"\n",
    "\n",
    "print('Success!')"
   ]
  },
  {
   "cell_type": "markdown",
   "metadata": {
    "deletable": false,
    "editable": false,
    "nbgrader": {
     "cell_type": "markdown",
     "checksum": "0e2fd78682fed12fbb2475ea9c7452b9",
     "grade": false,
     "grade_id": "cell-d49f0efba3f2c7e6",
     "locked": true,
     "schema_version": 3,
     "solution": false
    }
   },
   "source": [
    "**Question 2.2**\n",
    "<br> {points: 3}\n",
    "\n",
    "In 2-3 sentences, describe what you see in the graph above for the region with the most expensive avocados (on average). Comment specifically on whether there is any evidence/indication that avocado type might influence price.\n",
    "\n",
    "*Hint: Make sure to include information about volume, average price, and avocado type in your answer.*"
   ]
  },
  {
   "cell_type": "markdown",
   "metadata": {
    "deletable": false,
    "max_height": 100,
    "nbgrader": {
     "cell_type": "markdown",
     "checksum": "7494099e626df2a8dfca397b2857aa3f",
     "grade": true,
     "grade_id": "cell-7f545602a3272b39",
     "locked": false,
     "points": 3,
     "schema_version": 3,
     "solution": true
    }
   },
   "source": [
    "DOUBLE CLICK TO EDIT **THIS CELL** AND REPLACE THIS TEXT WITH YOUR ANSWER."
   ]
  },
  {
   "cell_type": "markdown",
   "metadata": {
    "deletable": false,
    "editable": false,
    "nbgrader": {
     "cell_type": "markdown",
     "checksum": "2aa833b5f98f1ee830605043e1c14903",
     "grade": false,
     "grade_id": "cell-66cbf11384dd2aba",
     "locked": true,
     "schema_version": 3,
     "solution": false
    }
   },
   "source": [
    "**Question 2.3**\n",
    "<br> {points: 3}\n",
    "\n",
    "Plot the scatterplots for the two regions so that they are in adjacent cells (so it is easier for you to compare them). Compare the price and volume data across the two regions. Then argue for or against the following hypothesis:\n",
    "\n",
    "\"*the region that has the cheapest avocados has them because it sells less of the organic (expensive) type of avocados compared to conventional cheaper ones.*\""
   ]
  },
  {
   "cell_type": "markdown",
   "metadata": {
    "deletable": false,
    "max_height": 100,
    "nbgrader": {
     "cell_type": "markdown",
     "checksum": "c82b62fe7f9dcc3833457371bbc1c71b",
     "grade": true,
     "grade_id": "cell-8a0335f1a4e55925",
     "locked": false,
     "points": 3,
     "schema_version": 3,
     "solution": true
    }
   },
   "source": [
    "DOUBLE CLICK TO EDIT **THIS CELL** AND REPLACE THIS TEXT WITH YOUR ANSWER."
   ]
  },
  {
   "cell_type": "markdown",
   "metadata": {
    "deletable": false,
    "editable": false,
    "nbgrader": {
     "cell_type": "markdown",
     "checksum": "9c3c93df6a0ef040207f4bb09a83a9e1",
     "grade": false,
     "grade_id": "cell-32381f4be9bd9835",
     "locked": true,
     "schema_version": 3,
     "solution": false,
     "task": false
    }
   },
   "source": [
    "## 3. Sea Surface Salinity in Departure Bay\n",
    "As mentioned in this week's Worksheet, Canada's Department of Fisheries and Oceans (DFO) compiled environmentally essential data from 1914 to 2018. The data was collected at the Pacific Biological Station (Departure Bay). Daily sea surface temperature (degrees Celsius) and salinity (practical salinity units, PSU)observations have been carried out at several locations on the coast of British Columbia. The number of stations reporting at any given time has varied as sampling has been discontinued at some stations, and started or resumed at others.\n",
    "\n",
    "In **`worksheet_wrangling`** we already worked with the temperature observations. Now, we will be focusing on salinity! Specifically, we want to see if the monthly maximum salinity has been changing over the years. We will only be focusing our attention on the winter months December, January and February. "
   ]
  },
  {
   "cell_type": "markdown",
   "metadata": {
    "deletable": false,
    "editable": false,
    "nbgrader": {
     "cell_type": "markdown",
     "checksum": "634d67018a75f3f166d5f75365ba1421",
     "grade": false,
     "grade_id": "cell-8d83a7bd71b23da7",
     "locked": true,
     "schema_version": 3,
     "solution": false
    }
   },
   "source": [
    "**Question 3.1**\n",
    "<br> {points: 1}\n",
    "\n",
    "To begin working with this data, read the file `max_salinity.csv` into Python. Note, this file (just like the avocado data set) is found within the `data` folder. \n",
    "\n",
    "*Assign your answer to an object called `sea_surface`.* "
   ]
  },
  {
   "cell_type": "code",
   "execution_count": null,
   "metadata": {
    "deletable": false,
    "nbgrader": {
     "cell_type": "code",
     "checksum": "d72667eb74a400c2a8c81f3f637c2095",
     "grade": false,
     "grade_id": "cell-55574ff83fc09393",
     "locked": false,
     "schema_version": 3,
     "solution": true
    }
   },
   "outputs": [],
   "source": [
    "# your code here\n",
    "raise NotImplementedError\n",
    "sea_surface"
   ]
  },
  {
   "cell_type": "code",
   "execution_count": null,
   "metadata": {
    "deletable": false,
    "editable": false,
    "max_height": 100,
    "nbgrader": {
     "cell_type": "code",
     "checksum": "487adf2084bede082e8a8d4a131ad3e4",
     "grade": true,
     "grade_id": "cell-de84354b3e86ef71",
     "locked": true,
     "points": 1,
     "schema_version": 3,
     "solution": false
    }
   },
   "outputs": [],
   "source": [
    "from hashlib import sha1\n",
    "assert sha1(str(type(sea_surface is None)).encode(\"utf-8\")+b\"99b06cb871a71189\").hexdigest() == \"6a3a0f570d32cf138293998beec36f6b067c955e\", \"type of sea_surface is None is not bool. sea_surface is None should be a bool\"\n",
    "assert sha1(str(sea_surface is None).encode(\"utf-8\")+b\"99b06cb871a71189\").hexdigest() == \"1849eaedcc827cdb717d2e694626f97fa63be5a6\", \"boolean value of sea_surface is None is not correct\"\n",
    "\n",
    "assert sha1(str(type(sea_surface)).encode(\"utf-8\")+b\"9842bf6843c32f5c\").hexdigest() == \"1446b10d97f8d90dd948f4a8db892e5c7312caa0\", \"type of type(sea_surface) is not correct\"\n",
    "\n",
    "assert sha1(str(type(sea_surface.shape)).encode(\"utf-8\")+b\"1f809c4ccbd9d087\").hexdigest() == \"2a9fc6d40430a89f51967e134d296800979afb6f\", \"type of sea_surface.shape is not tuple. sea_surface.shape should be a tuple\"\n",
    "assert sha1(str(len(sea_surface.shape)).encode(\"utf-8\")+b\"1f809c4ccbd9d087\").hexdigest() == \"fbadfa7d9d737a3be01221702dbd6bba71f46eba\", \"length of sea_surface.shape is not correct\"\n",
    "assert sha1(str(sorted(map(str, sea_surface.shape))).encode(\"utf-8\")+b\"1f809c4ccbd9d087\").hexdigest() == \"d76cd125ff010360d910efa750d3b1c15200370c\", \"values of sea_surface.shape are not correct\"\n",
    "assert sha1(str(sea_surface.shape).encode(\"utf-8\")+b\"1f809c4ccbd9d087\").hexdigest() == \"5e54e6ae93aacd4954639b27d8590f563ed35330\", \"order of elements of sea_surface.shape is not correct\"\n",
    "\n",
    "assert sha1(str(type(sea_surface.columns.values)).encode(\"utf-8\")+b\"c8037609bedbd742\").hexdigest() == \"899f1d56a2f1c1cca5fdea49f6867fd4881aa5c3\", \"type of sea_surface.columns.values is not correct\"\n",
    "assert sha1(str(sea_surface.columns.values).encode(\"utf-8\")+b\"c8037609bedbd742\").hexdigest() == \"3b934e3f4dbee0295adb16090d5dc5d01a598ad7\", \"value of sea_surface.columns.values is not correct\"\n",
    "\n",
    "print('Success!')"
   ]
  },
  {
   "cell_type": "markdown",
   "metadata": {
    "deletable": false,
    "editable": false,
    "nbgrader": {
     "cell_type": "markdown",
     "checksum": "bcab562b11ffb133c5e963a36c705149",
     "grade": false,
     "grade_id": "cell-5d80da4089bdefd1",
     "locked": true,
     "schema_version": 3,
     "solution": false
    }
   },
   "source": [
    "**Question 3.2**\n",
    "<br> {points: 3}\n",
    "\n",
    "Given that `altair` prefers tidy data, we must tidy the data! Use the `melt` function to create a tidy data frame with three columns: `Year`, `Month` and `Salinity`. Remember we only want to look at the winter months (December, January and February) so don't forget to reduce the data to just those three!\n",
    "\n",
    "*Assign your answer to an object called `max_salinity`.*"
   ]
  },
  {
   "cell_type": "code",
   "execution_count": null,
   "metadata": {
    "deletable": false,
    "nbgrader": {
     "cell_type": "code",
     "checksum": "f49eca1d40bb8e0e91f7aded8a6b6960",
     "grade": false,
     "grade_id": "cell-00ea52ffbda4dc3e",
     "locked": false,
     "schema_version": 3,
     "solution": true,
     "task": false
    }
   },
   "outputs": [],
   "source": [
    "# ___ = pd.DataFrame(\n",
    "#     sea_surface[[___, ___, ___]].melt(\n",
    "#         id_vars=\"Year\", var_name=___, value_name=___\n",
    "#     )\n",
    "# )\n",
    "\n",
    "# your code here\n",
    "raise NotImplementedError\n",
    "max_salinity"
   ]
  },
  {
   "cell_type": "code",
   "execution_count": null,
   "metadata": {
    "deletable": false,
    "editable": false,
    "max_height": 100,
    "nbgrader": {
     "cell_type": "code",
     "checksum": "64a95b24f0ac51a237063ec0100a717b",
     "grade": true,
     "grade_id": "cell-cf0b66ee1ae0fddf",
     "locked": true,
     "points": 3,
     "schema_version": 3,
     "solution": false,
     "task": false
    }
   },
   "outputs": [],
   "source": [
    "from hashlib import sha1\n",
    "assert sha1(str(type(max_salinity is None)).encode(\"utf-8\")+b\"50ce933c72f029f9\").hexdigest() == \"dbfc48a646c7372c70c3ef4f62617afc88d0f7d2\", \"type of max_salinity is None is not bool. max_salinity is None should be a bool\"\n",
    "assert sha1(str(max_salinity is None).encode(\"utf-8\")+b\"50ce933c72f029f9\").hexdigest() == \"8d2a0ffb3c392bbb6526cf7674a7d8f9813af3b1\", \"boolean value of max_salinity is None is not correct\"\n",
    "\n",
    "assert sha1(str(type(max_salinity.shape)).encode(\"utf-8\")+b\"9cec4dc839c2fe0e\").hexdigest() == \"08d03ea80167d176dd39bc78cd35d7abddb3cad4\", \"type of max_salinity.shape is not tuple. max_salinity.shape should be a tuple\"\n",
    "assert sha1(str(len(max_salinity.shape)).encode(\"utf-8\")+b\"9cec4dc839c2fe0e\").hexdigest() == \"80f89f874d5c49961d76b34be3840d57c56380b4\", \"length of max_salinity.shape is not correct\"\n",
    "assert sha1(str(sorted(map(str, max_salinity.shape))).encode(\"utf-8\")+b\"9cec4dc839c2fe0e\").hexdigest() == \"c428bdcbdf1fcf1ad837b0a6f5240c44260f1c66\", \"values of max_salinity.shape are not correct\"\n",
    "assert sha1(str(max_salinity.shape).encode(\"utf-8\")+b\"9cec4dc839c2fe0e\").hexdigest() == \"987434caa4d97fc006b847f21cb9a8ffd2f2674d\", \"order of elements of max_salinity.shape is not correct\"\n",
    "\n",
    "assert sha1(str(type(\"\".join(sorted(max_salinity.columns.values.tolist())))).encode(\"utf-8\")+b\"dd751d10ff4741a0\").hexdigest() == \"c1d58a56648677800b85743b5861fb334e8567de\", \"type of \\\"\\\".join(sorted(max_salinity.columns.values.tolist())) is not str. \\\"\\\".join(sorted(max_salinity.columns.values.tolist())) should be an str\"\n",
    "assert sha1(str(len(\"\".join(sorted(max_salinity.columns.values.tolist())))).encode(\"utf-8\")+b\"dd751d10ff4741a0\").hexdigest() == \"a9952af5b4028314c31affd62fcf522267d748b7\", \"length of \\\"\\\".join(sorted(max_salinity.columns.values.tolist())) is not correct\"\n",
    "assert sha1(str(\"\".join(sorted(max_salinity.columns.values.tolist())).lower()).encode(\"utf-8\")+b\"dd751d10ff4741a0\").hexdigest() == \"ffbe65afe0352169c5ed75b52d17b2fc70d7156a\", \"value of \\\"\\\".join(sorted(max_salinity.columns.values.tolist())) is not correct\"\n",
    "assert sha1(str(\"\".join(sorted(max_salinity.columns.values.tolist()))).encode(\"utf-8\")+b\"dd751d10ff4741a0\").hexdigest() == \"229c949ade19b23e3b1d3f0d94a1597dc36fbfca\", \"correct string value of \\\"\\\".join(sorted(max_salinity.columns.values.tolist())) but incorrect case of letters\"\n",
    "\n",
    "assert sha1(str(type(sum(max_salinity.Year))).encode(\"utf-8\")+b\"584db5a6ab55a03a\").hexdigest() == \"8a42bee37c7e10c5cb20ec82138bbfba957701bb\", \"type of sum(max_salinity.Year) is not int. Please make sure it is int and not np.int64, etc. You can cast your value into an int using int()\"\n",
    "assert sha1(str(sum(max_salinity.Year)).encode(\"utf-8\")+b\"584db5a6ab55a03a\").hexdigest() == \"60e65c9570b0f829cc17c8e40eedcfa065c7ce8f\", \"value of sum(max_salinity.Year) is not correct\"\n",
    "\n",
    "print('Success!')"
   ]
  },
  {
   "cell_type": "markdown",
   "metadata": {
    "deletable": false,
    "editable": false,
    "nbgrader": {
     "cell_type": "markdown",
     "checksum": "cb0873ccdecda0ca7cc22f4e2ceaa209",
     "grade": false,
     "grade_id": "cell-bb6a22f75e39e0ef",
     "locked": true,
     "schema_version": 3,
     "solution": false
    }
   },
   "source": [
    "**Question 3.3** \n",
    "<br> {points: 3}\n",
    "\n",
    "Now that we've created new columns, we can finally create our plot that compares the maximum salinity observations to the year they were recorded. As usual, label your axes!\n",
    "\n",
    "*Assign your answer to an object called `max_salinity_plot`.*\n",
    "\n",
    "> Hint: do not forget to add units to your axes! Remember from the data description that salinity is measured in practical salinity units (PSU)."
   ]
  },
  {
   "cell_type": "code",
   "execution_count": null,
   "metadata": {
    "deletable": false,
    "jupyter": {
     "source_hidden": true
    },
    "nbgrader": {
     "cell_type": "code",
     "checksum": "270bc6589f14adf600c439cf2b16b6c2",
     "grade": false,
     "grade_id": "cell-69f6981833ae0efa",
     "locked": false,
     "schema_version": 3,
     "solution": true,
     "task": false
    },
    "tags": []
   },
   "outputs": [],
   "source": [
    "# your code here\n",
    "raise NotImplementedError\n",
    "max_salinity_plot"
   ]
  },
  {
   "cell_type": "code",
   "execution_count": null,
   "metadata": {
    "deletable": false,
    "editable": false,
    "max_height": 100,
    "nbgrader": {
     "cell_type": "code",
     "checksum": "6a094527b85887d9f32aac309a1dff26",
     "grade": true,
     "grade_id": "cell-8b45de13142060d5",
     "locked": true,
     "points": 3,
     "schema_version": 3,
     "solution": false,
     "task": false
    }
   },
   "outputs": [],
   "source": [
    "from hashlib import sha1\n",
    "assert sha1(str(type(max_salinity_plot is None)).encode(\"utf-8\")+b\"958439e67229de92\").hexdigest() == \"34103732c6cb340dfbad379e4930b7b4eb5f2e25\", \"type of max_salinity_plot is None is not bool. max_salinity_plot is None should be a bool\"\n",
    "assert sha1(str(max_salinity_plot is None).encode(\"utf-8\")+b\"958439e67229de92\").hexdigest() == \"eb4f5f1cadd7980b353260c1b4ccc13e3dc08393\", \"boolean value of max_salinity_plot is None is not correct\"\n",
    "\n",
    "assert sha1(str(type(max_salinity_plot.mark)).encode(\"utf-8\")+b\"57a4ad77e4c092cf\").hexdigest() == \"5116e8192f47f75f172abdef2c00e3fa06895688\", \"type of max_salinity_plot.mark is not str. max_salinity_plot.mark should be an str\"\n",
    "assert sha1(str(len(max_salinity_plot.mark)).encode(\"utf-8\")+b\"57a4ad77e4c092cf\").hexdigest() == \"e29a54dfb979424b9f83dc95f44e9c97c6d357ad\", \"length of max_salinity_plot.mark is not correct\"\n",
    "assert sha1(str(max_salinity_plot.mark.lower()).encode(\"utf-8\")+b\"57a4ad77e4c092cf\").hexdigest() == \"0fdce6d4c0c7025d5d51d2ae54747577a1ca4615\", \"value of max_salinity_plot.mark is not correct\"\n",
    "assert sha1(str(max_salinity_plot.mark).encode(\"utf-8\")+b\"57a4ad77e4c092cf\").hexdigest() == \"0fdce6d4c0c7025d5d51d2ae54747577a1ca4615\", \"correct string value of max_salinity_plot.mark but incorrect case of letters\"\n",
    "\n",
    "assert sha1(str(type(max_salinity_plot.data.shape)).encode(\"utf-8\")+b\"45c498a7581b2c79\").hexdigest() == \"b4480a571c82cf29c5894672d50e6e2259500793\", \"type of max_salinity_plot.data.shape is not tuple. max_salinity_plot.data.shape should be a tuple\"\n",
    "assert sha1(str(len(max_salinity_plot.data.shape)).encode(\"utf-8\")+b\"45c498a7581b2c79\").hexdigest() == \"1d6d017ca158955b3f06466f29c7ddef5c2a39c4\", \"length of max_salinity_plot.data.shape is not correct\"\n",
    "assert sha1(str(sorted(map(str, max_salinity_plot.data.shape))).encode(\"utf-8\")+b\"45c498a7581b2c79\").hexdigest() == \"feb5dfc935b5f87dfbb472e35991d24e62fbaaba\", \"values of max_salinity_plot.data.shape are not correct\"\n",
    "assert sha1(str(max_salinity_plot.data.shape).encode(\"utf-8\")+b\"45c498a7581b2c79\").hexdigest() == \"2d275bc207cb1e04d16f3ad2db3d13d9ff2f1902\", \"order of elements of max_salinity_plot.data.shape is not correct\"\n",
    "\n",
    "assert sha1(str(type(max_salinity_plot.encoding.x.field)).encode(\"utf-8\")+b\"b636914f898ac10c\").hexdigest() == \"c0597fc6329fbdf6bd54a5bae09c49621daa45fd\", \"type of max_salinity_plot.encoding.x.field is not str. max_salinity_plot.encoding.x.field should be an str\"\n",
    "assert sha1(str(len(max_salinity_plot.encoding.x.field)).encode(\"utf-8\")+b\"b636914f898ac10c\").hexdigest() == \"d2527758fcb37a80a3d35b7713f9a412daed1789\", \"length of max_salinity_plot.encoding.x.field is not correct\"\n",
    "assert sha1(str(max_salinity_plot.encoding.x.field.lower()).encode(\"utf-8\")+b\"b636914f898ac10c\").hexdigest() == \"c250e8d098169bf26650963f74243e6b1c90e6c2\", \"value of max_salinity_plot.encoding.x.field is not correct\"\n",
    "assert sha1(str(max_salinity_plot.encoding.x.field).encode(\"utf-8\")+b\"b636914f898ac10c\").hexdigest() == \"ae57c7bb18d85920e6846429836ac72596a69109\", \"correct string value of max_salinity_plot.encoding.x.field but incorrect case of letters\"\n",
    "\n",
    "assert sha1(str(type(max_salinity_plot.encoding.y.field)).encode(\"utf-8\")+b\"da9778cd6bb23bdb\").hexdigest() == \"e18f731829197ed36e959c9bf1b6d59f42a46988\", \"type of max_salinity_plot.encoding.y.field is not str. max_salinity_plot.encoding.y.field should be an str\"\n",
    "assert sha1(str(len(max_salinity_plot.encoding.y.field)).encode(\"utf-8\")+b\"da9778cd6bb23bdb\").hexdigest() == \"6b89d017f48a3f62c0b3405bf03ec0564c62e4a9\", \"length of max_salinity_plot.encoding.y.field is not correct\"\n",
    "assert sha1(str(max_salinity_plot.encoding.y.field.lower()).encode(\"utf-8\")+b\"da9778cd6bb23bdb\").hexdigest() == \"79e918385de1a410ceaa6e9840f791d51d304762\", \"value of max_salinity_plot.encoding.y.field is not correct\"\n",
    "assert sha1(str(max_salinity_plot.encoding.y.field).encode(\"utf-8\")+b\"da9778cd6bb23bdb\").hexdigest() == \"35d880d564a709a4107ee3ae44010fbb956a33d0\", \"correct string value of max_salinity_plot.encoding.y.field but incorrect case of letters\"\n",
    "\n",
    "print('Success!')"
   ]
  },
  {
   "cell_type": "markdown",
   "metadata": {
    "deletable": false,
    "editable": false,
    "nbgrader": {
     "cell_type": "markdown",
     "checksum": "5196d48e79e3cda4d577197f506e21cf",
     "grade": false,
     "grade_id": "cell-1aaae9a5be0e2599",
     "locked": true,
     "schema_version": 3,
     "solution": false
    }
   },
   "source": [
    "**Question 3.4**\n",
    "<br> {points: 3}\n",
    "\n",
    "In 1-2 sentences, describe what you see in the graph above. Comment specifically on whether there is a change in salinity across time for the winter months and if there is, whether this indicates a postive or a negative relationship for these variables within this data set. If there is a relationship, also comment on its strength and linearity."
   ]
  },
  {
   "cell_type": "markdown",
   "metadata": {
    "deletable": false,
    "max_height": 100,
    "nbgrader": {
     "cell_type": "markdown",
     "checksum": "ebead303c86983984af503065a6587b6",
     "grade": true,
     "grade_id": "cell-6de231c3371760b1",
     "locked": false,
     "points": 3,
     "schema_version": 3,
     "solution": true
    }
   },
   "source": [
    "DOUBLE CLICK TO EDIT **THIS CELL** AND REPLACE THIS TEXT WITH YOUR ANSWER."
   ]
  },
  {
   "cell_type": "markdown",
   "metadata": {
    "deletable": false,
    "editable": false,
    "nbgrader": {
     "cell_type": "markdown",
     "checksum": "fd72cfc96166324e4246db738378fb98",
     "grade": false,
     "grade_id": "cell-7aa79e3fb0edec35",
     "locked": true,
     "schema_version": 3,
     "solution": false
    }
   },
   "source": [
    "## 4. Pollution in Madrid\n",
    "The goal of this analysis (which we started in `worksheet_wrangling`) is to see if pollutants are decreasing (is air quality improving) and also determine which pollutant has decreased the most over the span of 5 years (2001 - 2006). In `worksheet_wrangling` we investigated what happened with the maximum values of each pollutant over time, now we will investigate the average values of each pollutant over time. To do this we will:\n",
    "\n",
    "1. Calculate the average monthly value for each pollutant for each year. \n",
    "2. Create a scatter plot for the average monthly value for each month. Plot these values for each pollutant and each year so that a trend over time for each pollutant can be observed.\n",
    "3. Now we will look at which pollutant decreased the most between 2001 - 2006 when we look at the average instead of the maximum values."
   ]
  },
  {
   "cell_type": "markdown",
   "metadata": {
    "deletable": false,
    "editable": false,
    "nbgrader": {
     "cell_type": "markdown",
     "checksum": "cc0a9b16ccdebc7db5d83add7b6485fe",
     "grade": false,
     "grade_id": "cell-ba2cdf938c61b3a0",
     "locked": true,
     "schema_version": 3,
     "solution": false
    }
   },
   "source": [
    "**Question 4.1** \n",
    "<br> {points: 3}\n",
    "\n",
    "To begin working with this data, read the file `madrid_pollution.csv`. Note, this file (just like the other data sets in this tutorial) is found in the `tutorial_03` directory. \n",
    "\n",
    "*Assign your answer to an object called `madrid`.* "
   ]
  },
  {
   "cell_type": "code",
   "execution_count": null,
   "metadata": {
    "deletable": false,
    "nbgrader": {
     "cell_type": "code",
     "checksum": "4780b74add54dfc09c222bd936b2fd38",
     "grade": false,
     "grade_id": "cell-0adfa4b6087459e1",
     "locked": false,
     "schema_version": 3,
     "solution": true,
     "task": false
    }
   },
   "outputs": [],
   "source": [
    "# your code here\n",
    "raise NotImplementedError\n",
    "madrid"
   ]
  },
  {
   "cell_type": "code",
   "execution_count": null,
   "metadata": {
    "deletable": false,
    "editable": false,
    "max_height": 100,
    "nbgrader": {
     "cell_type": "code",
     "checksum": "3636ecaf7c84833c295b405d234ce52e",
     "grade": true,
     "grade_id": "cell-39e8956d2abab294",
     "locked": true,
     "points": 3,
     "schema_version": 3,
     "solution": false,
     "task": false
    }
   },
   "outputs": [],
   "source": [
    "from hashlib import sha1\n",
    "assert sha1(str(type(madrid is None)).encode(\"utf-8\")+b\"474e3320196e0b35\").hexdigest() == \"8001186a20842f39df01cc0e69306a5eb1ef4f67\", \"type of madrid is None is not bool. madrid is None should be a bool\"\n",
    "assert sha1(str(madrid is None).encode(\"utf-8\")+b\"474e3320196e0b35\").hexdigest() == \"6eea5d516828e60e7983c824821955a505ed67e1\", \"boolean value of madrid is None is not correct\"\n",
    "\n",
    "assert sha1(str(type(madrid.shape)).encode(\"utf-8\")+b\"5b5130387eb8dc1d\").hexdigest() == \"97b1640d81b51f2c411bdaafd3c4276b17ec33f2\", \"type of madrid.shape is not tuple. madrid.shape should be a tuple\"\n",
    "assert sha1(str(len(madrid.shape)).encode(\"utf-8\")+b\"5b5130387eb8dc1d\").hexdigest() == \"e970de08301cb37393bf5144d986eb8ae5c92520\", \"length of madrid.shape is not correct\"\n",
    "assert sha1(str(sorted(map(str, madrid.shape))).encode(\"utf-8\")+b\"5b5130387eb8dc1d\").hexdigest() == \"af9cf7a1c8ae8d02b6253a364a8b10c42b808e22\", \"values of madrid.shape are not correct\"\n",
    "assert sha1(str(madrid.shape).encode(\"utf-8\")+b\"5b5130387eb8dc1d\").hexdigest() == \"c8cbd88a9f39dcb79469132c814437d895cd0fcf\", \"order of elements of madrid.shape is not correct\"\n",
    "\n",
    "assert sha1(str(type(madrid.columns.values)).encode(\"utf-8\")+b\"32100a8423cef30d\").hexdigest() == \"375ad08937a136a2c89a87d676e463b6a4ebef6b\", \"type of madrid.columns.values is not correct\"\n",
    "assert sha1(str(madrid.columns.values).encode(\"utf-8\")+b\"32100a8423cef30d\").hexdigest() == \"c5ca20127ef8bf0a9087b4ce173b28f88503514b\", \"value of madrid.columns.values is not correct\"\n",
    "\n",
    "print('Success!')"
   ]
  },
  {
   "cell_type": "markdown",
   "metadata": {
    "deletable": false,
    "editable": false,
    "nbgrader": {
     "cell_type": "markdown",
     "checksum": "621c7ebc2332669cc9ef16c929e5a0cc",
     "grade": false,
     "grade_id": "cell-f21c71aa69db9328",
     "locked": true,
     "schema_version": 3,
     "solution": false,
     "task": false
    }
   },
   "source": [
    "Given that we are going to plotting months, which are dates, let's tell Python how they should be ordered. We can do this by changing the month column from a character column to a categorical column and then sorting the column based on the order. \n",
    "\n",
    "We will also drop the `date` column as we are interested only in monthly averages. "
   ]
  },
  {
   "cell_type": "code",
   "execution_count": null,
   "metadata": {
    "deletable": false,
    "editable": false,
    "nbgrader": {
     "cell_type": "code",
     "checksum": "b9866257894c276e9f9ad64298319826",
     "grade": false,
     "grade_id": "cell-90440d0a96ac4104",
     "locked": true,
     "schema_version": 3,
     "solution": false,
     "task": false
    }
   },
   "outputs": [],
   "source": [
    "# run this cell to order the column month by month (date) and not alphabetically\n",
    "\n",
    "madrid[\"month\"] = pd.Categorical(\n",
    "    madrid[\"month\"],\n",
    "    categories=[\n",
    "        \"January\",\n",
    "        \"February\",\n",
    "        \"March\",\n",
    "        \"April\",\n",
    "        \"May\",\n",
    "        \"June\",\n",
    "        \"July\",\n",
    "        \"August\",\n",
    "        \"September\",\n",
    "        \"October\",\n",
    "        \"November\",\n",
    "        \"December\",\n",
    "    ],\n",
    "    ordered=True,\n",
    ")\n",
    "madrid = madrid.sort_values(\"month\")\n",
    "madrid = madrid.drop(columns=[\"date\"])"
   ]
  },
  {
   "cell_type": "markdown",
   "metadata": {
    "deletable": false,
    "editable": false,
    "nbgrader": {
     "cell_type": "markdown",
     "checksum": "7d9ffe6f127e02b24508292705c71606",
     "grade": false,
     "grade_id": "cell-b1edb27761679ed8",
     "locked": true,
     "schema_version": 3,
     "solution": false
    }
   },
   "source": [
    "**Question 4.2**\n",
    "<br> {points: 3}\n",
    "\n",
    "Calculate the average monthly value for each pollutant for each year and store that as a data frame. Your data frame should have the following 4 columns:\n",
    "\n",
    "1. `year`\n",
    "2. `month`\n",
    "3. `pollutant`\n",
    "4. `value`\n",
    "\n",
    "Name your data frame `madrid_avg`."
   ]
  },
  {
   "cell_type": "code",
   "execution_count": null,
   "metadata": {
    "deletable": false,
    "nbgrader": {
     "cell_type": "code",
     "checksum": "71d2ac6afe0b1465de7754b516f4f436",
     "grade": false,
     "grade_id": "cell-b6955ba6688573e8",
     "locked": false,
     "schema_version": 3,
     "solution": true,
     "task": false
    }
   },
   "outputs": [],
   "source": [
    "# your code here\n",
    "raise NotImplementedError\n",
    "madrid_avg"
   ]
  },
  {
   "cell_type": "code",
   "execution_count": null,
   "metadata": {
    "deletable": false,
    "editable": false,
    "max_height": 100,
    "nbgrader": {
     "cell_type": "code",
     "checksum": "03607561ffda1c36cc0d6572e877ff8f",
     "grade": true,
     "grade_id": "cell-fb157aae1fd38638",
     "locked": true,
     "points": 3,
     "schema_version": 3,
     "solution": false,
     "task": false
    }
   },
   "outputs": [],
   "source": [
    "from hashlib import sha1\n",
    "assert sha1(str(type(madrid_avg is None)).encode(\"utf-8\")+b\"4e7618f14ad41d5b\").hexdigest() == \"3a00a6f76f981f2ff9d0342938052245a3300f80\", \"type of madrid_avg is None is not bool. madrid_avg is None should be a bool\"\n",
    "assert sha1(str(madrid_avg is None).encode(\"utf-8\")+b\"4e7618f14ad41d5b\").hexdigest() == \"99c45340ffc99e3814864a1428a8ca08303b5afa\", \"boolean value of madrid_avg is None is not correct\"\n",
    "\n",
    "assert sha1(str(type(madrid_avg.shape)).encode(\"utf-8\")+b\"ac4177aafca9f8e1\").hexdigest() == \"0b15d3dc895824ed5c2eb8988e79b0ee7fb306ff\", \"type of madrid_avg.shape is not tuple. madrid_avg.shape should be a tuple\"\n",
    "assert sha1(str(len(madrid_avg.shape)).encode(\"utf-8\")+b\"ac4177aafca9f8e1\").hexdigest() == \"fb04373210bf545f08142e2df6a660db749f1449\", \"length of madrid_avg.shape is not correct\"\n",
    "assert sha1(str(sorted(map(str, madrid_avg.shape))).encode(\"utf-8\")+b\"ac4177aafca9f8e1\").hexdigest() == \"3b5fadf9773e75606662b6e8539039d32f222bc7\", \"values of madrid_avg.shape are not correct\"\n",
    "assert sha1(str(madrid_avg.shape).encode(\"utf-8\")+b\"ac4177aafca9f8e1\").hexdigest() == \"5b1dc890b087e821978d6e73986f93b88fdb565b\", \"order of elements of madrid_avg.shape is not correct\"\n",
    "\n",
    "assert sha1(str(type(round(sum(madrid_avg.value.dropna()), 0))).encode(\"utf-8\")+b\"f162ecc17287465f\").hexdigest() == \"d34f64af9f8834dbfd96cbf8683d7f70349b082f\", \"type of round(sum(madrid_avg.value.dropna()), 0) is not float. Please make sure it is float and not np.float64, etc. You can cast your value into a float using float()\"\n",
    "assert sha1(str(round(round(sum(madrid_avg.value.dropna()), 0), 2)).encode(\"utf-8\")+b\"f162ecc17287465f\").hexdigest() == \"3fbe6448d025ede05e43fec1c54f2a770dbaf781\", \"value of round(sum(madrid_avg.value.dropna()), 0) is not correct (rounded to 2 decimal places)\"\n",
    "\n",
    "assert sha1(str(type(str(madrid_avg[\"year\"].dtype))).encode(\"utf-8\")+b\"104f79595b68c996\").hexdigest() == \"eef2c10be658ed2e818e03f258da58c12d4c8567\", \"type of str(madrid_avg[\\\"year\\\"].dtype) is not str. str(madrid_avg[\\\"year\\\"].dtype) should be an str\"\n",
    "assert sha1(str(len(str(madrid_avg[\"year\"].dtype))).encode(\"utf-8\")+b\"104f79595b68c996\").hexdigest() == \"1498a02742a791b2b009beaaf415297c4b31a18a\", \"length of str(madrid_avg[\\\"year\\\"].dtype) is not correct\"\n",
    "assert sha1(str(str(madrid_avg[\"year\"].dtype).lower()).encode(\"utf-8\")+b\"104f79595b68c996\").hexdigest() == \"c0ad568d849e76d1458b36647486e106f1ebc012\", \"value of str(madrid_avg[\\\"year\\\"].dtype) is not correct\"\n",
    "assert sha1(str(str(madrid_avg[\"year\"].dtype)).encode(\"utf-8\")+b\"104f79595b68c996\").hexdigest() == \"c0ad568d849e76d1458b36647486e106f1ebc012\", \"correct string value of str(madrid_avg[\\\"year\\\"].dtype) but incorrect case of letters\"\n",
    "\n",
    "assert sha1(str(type(str(madrid_avg[\"month\"].dtype))).encode(\"utf-8\")+b\"df0871aabfd1b440\").hexdigest() == \"97b828ac9ce4dbdede2d19871910022dd48aa47a\", \"type of str(madrid_avg[\\\"month\\\"].dtype) is not str. str(madrid_avg[\\\"month\\\"].dtype) should be an str\"\n",
    "assert sha1(str(len(str(madrid_avg[\"month\"].dtype))).encode(\"utf-8\")+b\"df0871aabfd1b440\").hexdigest() == \"832635ff921e28c3ec68cb6c5b9f78f9b1a4f9a1\", \"length of str(madrid_avg[\\\"month\\\"].dtype) is not correct\"\n",
    "assert sha1(str(str(madrid_avg[\"month\"].dtype).lower()).encode(\"utf-8\")+b\"df0871aabfd1b440\").hexdigest() == \"43168a3578f655b5ab7a1c49bd4acd9c871b093f\", \"value of str(madrid_avg[\\\"month\\\"].dtype) is not correct\"\n",
    "assert sha1(str(str(madrid_avg[\"month\"].dtype)).encode(\"utf-8\")+b\"df0871aabfd1b440\").hexdigest() == \"43168a3578f655b5ab7a1c49bd4acd9c871b093f\", \"correct string value of str(madrid_avg[\\\"month\\\"].dtype) but incorrect case of letters\"\n",
    "\n",
    "assert sha1(str(type(str(madrid_avg[\"pollutant\"].dtype))).encode(\"utf-8\")+b\"80eb00423792d4c7\").hexdigest() == \"55a3611db602899dda8b93e3285cb669c13b65bf\", \"type of str(madrid_avg[\\\"pollutant\\\"].dtype) is not str. str(madrid_avg[\\\"pollutant\\\"].dtype) should be an str\"\n",
    "assert sha1(str(len(str(madrid_avg[\"pollutant\"].dtype))).encode(\"utf-8\")+b\"80eb00423792d4c7\").hexdigest() == \"65a1b57c298cb786c84d560fb8e819406a3a974f\", \"length of str(madrid_avg[\\\"pollutant\\\"].dtype) is not correct\"\n",
    "assert sha1(str(str(madrid_avg[\"pollutant\"].dtype).lower()).encode(\"utf-8\")+b\"80eb00423792d4c7\").hexdigest() == \"09a3ec68148ed95cbf19b04045fc1811a7c3ff4e\", \"value of str(madrid_avg[\\\"pollutant\\\"].dtype) is not correct\"\n",
    "assert sha1(str(str(madrid_avg[\"pollutant\"].dtype)).encode(\"utf-8\")+b\"80eb00423792d4c7\").hexdigest() == \"09a3ec68148ed95cbf19b04045fc1811a7c3ff4e\", \"correct string value of str(madrid_avg[\\\"pollutant\\\"].dtype) but incorrect case of letters\"\n",
    "\n",
    "assert sha1(str(type(str(madrid_avg[\"value\"].dtype))).encode(\"utf-8\")+b\"c448b4fdcc1376e9\").hexdigest() == \"9c11dfd3e2a4a37e76df00b5b72dc803b6363f40\", \"type of str(madrid_avg[\\\"value\\\"].dtype) is not str. str(madrid_avg[\\\"value\\\"].dtype) should be an str\"\n",
    "assert sha1(str(len(str(madrid_avg[\"value\"].dtype))).encode(\"utf-8\")+b\"c448b4fdcc1376e9\").hexdigest() == \"95bd4bcf5f17a2c4cf52190661dca57fceeebb07\", \"length of str(madrid_avg[\\\"value\\\"].dtype) is not correct\"\n",
    "assert sha1(str(str(madrid_avg[\"value\"].dtype).lower()).encode(\"utf-8\")+b\"c448b4fdcc1376e9\").hexdigest() == \"537a671aa4a9c005382c9e99daf99ea8327d2a79\", \"value of str(madrid_avg[\\\"value\\\"].dtype) is not correct\"\n",
    "assert sha1(str(str(madrid_avg[\"value\"].dtype)).encode(\"utf-8\")+b\"c448b4fdcc1376e9\").hexdigest() == \"537a671aa4a9c005382c9e99daf99ea8327d2a79\", \"correct string value of str(madrid_avg[\\\"value\\\"].dtype) but incorrect case of letters\"\n",
    "\n",
    "print('Success!')"
   ]
  },
  {
   "cell_type": "markdown",
   "metadata": {
    "deletable": false,
    "editable": false,
    "nbgrader": {
     "cell_type": "markdown",
     "checksum": "8ee2665db1f87a60a0433f438e00d863",
     "grade": false,
     "grade_id": "cell-0b5316ca1c1004ce",
     "locked": true,
     "schema_version": 3,
     "solution": false
    }
   },
   "source": [
    "**Question 4.3**\n",
    "<br> {points: 3}\n",
    "\n",
    "Create a scatter plot for the average monthly value for each month. Plot these values for each pollutant and each year so that a trend over time for each pollutant can be observed. To do this all in one plot, you are going to want to use a `facet` (makes subplots within one plot when data are \"related\")."
   ]
  },
  {
   "cell_type": "code",
   "execution_count": null,
   "metadata": {
    "deletable": false,
    "max_height": 100,
    "nbgrader": {
     "cell_type": "code",
     "checksum": "4eb9ad13a341ea63bc0cb4e2cda9db39",
     "grade": true,
     "grade_id": "cell-14ad5786143dc25c",
     "locked": false,
     "points": 3,
     "schema_version": 3,
     "solution": true
    }
   },
   "outputs": [],
   "source": [
    "# pollutant_labels = {\n",
    "#     \"BEN\": \"Benzene \\n(μg/m³)\",\n",
    "#     \"CO\": \"Carbon \\nmonoxide \\n(mg/m³)\",\n",
    "#     \"EBE\": \"Ethylbenzene \\n(μg/m³)\",\n",
    "#     \"MXY\": \"M-xylene \\n(μg/m³)\",\n",
    "#     \"NMHC\": \"Non-methane \\nhydrocarbons \\n(mg/m³)\",\n",
    "#     \"NO_2\": \"Nitrogen \\ndioxide \\n(μg/m³)\",\n",
    "#     \"NOx\": \"Nitrous \\noxides \\n(μg/m³)\",\n",
    "#     \"O_3\": \"Ozone \\n(μg/m³)\",\n",
    "#     \"OXY\": \"O-xylene \\n(μg/m³)\",\n",
    "#     \"PM10\": \"Particles \\nsmaller than 10 μm\",\n",
    "#     \"PXY\": \"P-xylene \\n(μg/m³)\",\n",
    "#     \"SO_2\": \"Sulphur \\ndioxide \\n(μg/m³)\",\n",
    "#     \"TCH\": \"Total \\nhydrocarbons \\n(mg/m³)\",\n",
    "#     \"TOL\": \"Toluene \\n(μg/m³)\",\n",
    "# }\n",
    "# madrid_avg[\"label\"] = [\n",
    "#     pollutant_labels[madrid_avg.iloc[n, 2]] for n in range(len(madrid_avg)) # create another column for the label\n",
    "# ]\n",
    "\n",
    "# ___ = (\n",
    "#     alt.Chart(___)\n",
    "#     .mark_point()\n",
    "#     .encode(\n",
    "#         x=alt.X(___, title=___),\n",
    "#         y=alt.Y(___, title=___),\n",
    "#     )\n",
    "#     .properties(width=200, height=100)\n",
    "#     .facet(column=\"year\", row=\"label\")\n",
    "#     .resolve_scale(y=\"independent\")\n",
    "# )\n",
    "\n",
    "# your code here\n",
    "raise NotImplementedError\n",
    "madrid_avg_plot"
   ]
  },
  {
   "cell_type": "markdown",
   "metadata": {
    "deletable": false,
    "editable": false,
    "nbgrader": {
     "cell_type": "markdown",
     "checksum": "9eaa8a6177dbdf2251b8401736a71be1",
     "grade": false,
     "grade_id": "cell-f66209e00bf1f868",
     "locked": true,
     "schema_version": 3,
     "solution": false
    }
   },
   "source": [
    "**Question 4.4**\n",
    "<br> {points: 3}\n",
    "\n",
    "By looking at the plots above, which monthly average pollutant levels appear to have decreased over time? Which appear to have increased?"
   ]
  },
  {
   "cell_type": "markdown",
   "metadata": {
    "deletable": false,
    "max_height": 100,
    "nbgrader": {
     "cell_type": "markdown",
     "checksum": "a03ea076c228198f95236e120cf39fae",
     "grade": true,
     "grade_id": "cell-35d9d8e83078c1bd",
     "locked": false,
     "points": 3,
     "schema_version": 3,
     "solution": true
    }
   },
   "source": [
    "DOUBLE CLICK TO EDIT **THIS CELL** AND REPLACE THIS TEXT WITH YOUR ANSWER."
   ]
  },
  {
   "cell_type": "markdown",
   "metadata": {
    "deletable": false,
    "editable": false,
    "nbgrader": {
     "cell_type": "markdown",
     "checksum": "247342e9cef29bbf1e1ec4744ba7e349",
     "grade": false,
     "grade_id": "cell-d2101e0e525ccbe8",
     "locked": true,
     "schema_version": 3,
     "solution": false
    }
   },
   "source": [
    "**Question 4.5**\n",
    "<br> {points: 3}\n",
    "\n",
    "Now we will look at which pollutant decreased the most between 2001 - 2006 when we look at the average yearly values for each pollutant. Your final result should be a data frame that has at least these two columns: `pollutant` and `yearly_avg_diff` and one row (the most decreased pollutant when looking at yearly average between 2001 - 2006). **Make sure to use the ```madrid_avg``` data frame in your solution.**\n",
    "\n",
    "*There are several different ways to solve this problem. My solution included using a function called `.pivot` which is the inverse of `.melt`. If you would like to use that function, see [here](https://prog-learn.mds.ubc.ca/en/module3) for more info.*"
   ]
  },
  {
   "cell_type": "code",
   "execution_count": null,
   "metadata": {
    "deletable": false,
    "max_height": 100,
    "nbgrader": {
     "cell_type": "code",
     "checksum": "b3924d9f237a319e029bfa92a59a5d01",
     "grade": true,
     "grade_id": "cell-66eb57edba443a5f",
     "locked": false,
     "points": 3,
     "schema_version": 3,
     "solution": true
    }
   },
   "outputs": [],
   "source": [
    "# your code here\n",
    "raise NotImplementedError\n",
    "madrid_max_diff_avg"
   ]
  },
  {
   "cell_type": "markdown",
   "metadata": {
    "deletable": false,
    "editable": false,
    "nbgrader": {
     "cell_type": "markdown",
     "checksum": "cf5d8df4e023efaa89f4df2e8b90adc1",
     "grade": false,
     "grade_id": "cell-1fa8d253f8b2029b",
     "locked": true,
     "schema_version": 3,
     "solution": false
    }
   },
   "source": [
    "**Question 4.6** \n",
    "<br> {points: 3}\n",
    "\n",
    "Did using the average to find the most decreased pollutant between 2001 and 2006 give you the same answer as using the maximum in the worksheet? Is your answer to the previous question surprising? Explain."
   ]
  },
  {
   "cell_type": "markdown",
   "metadata": {
    "deletable": false,
    "max_height": 100,
    "nbgrader": {
     "cell_type": "markdown",
     "checksum": "8b8cfcabb10f44ac73fe999b9c3fb6a9",
     "grade": true,
     "grade_id": "cell-a09605820664ae4d",
     "locked": false,
     "points": 3,
     "schema_version": 3,
     "solution": true
    }
   },
   "source": [
    "DOUBLE CLICK TO EDIT **THIS CELL** AND REPLACE THIS TEXT WITH YOUR ANSWER."
   ]
  },
  {
   "cell_type": "markdown",
   "metadata": {
    "deletable": false,
    "editable": false,
    "nbgrader": {
     "cell_type": "markdown",
     "checksum": "6c1f2648886310bdda5c08c2108f497d",
     "grade": false,
     "grade_id": "cell-06054c4b8f848cfc",
     "locked": true,
     "schema_version": 3,
     "solution": false
    }
   },
   "source": [
    "**Optional Question** \n",
    "<br>(for fun and does not count for grades):\n",
    "\n",
    "Consider doing the same analysis as you did for Question 4.5, except this time calculate the difference as a percent or fold difference (as opposed to absolute difference as we did in Question 4.5). The scales for the pollutants are very different, and so we might want to take this into consideration when trying to answer the question \"Which pollutant decreased the most\"?"
   ]
  },
  {
   "cell_type": "code",
   "execution_count": null,
   "metadata": {
    "deletable": false,
    "max_height": 100,
    "nbgrader": {
     "cell_type": "code",
     "checksum": "f6f297f6b8330e2ddfca037ec6a84fff",
     "grade": true,
     "grade_id": "cell-4dd49952f4dd63f2",
     "locked": false,
     "points": 3,
     "schema_version": 3,
     "solution": true,
     "task": false
    }
   },
   "outputs": [],
   "source": [
    "# your code here\n",
    "raise NotImplementedError"
   ]
  }
 ],
 "metadata": {
  "jupytext": {
   "encoding": "# -*- coding: utf-8 -*-"
  },
  "kernelspec": {
   "display_name": "Python 3 (ipykernel)",
   "language": "python",
   "name": "python3"
  },
  "language_info": {
   "codemirror_mode": {
    "name": "ipython",
    "version": 3
   },
   "file_extension": ".py",
   "mimetype": "text/x-python",
   "name": "python",
   "nbconvert_exporter": "python",
   "pygments_lexer": "ipython3",
   "version": "3.10.8"
  }
 },
 "nbformat": 4,
 "nbformat_minor": 4
}
